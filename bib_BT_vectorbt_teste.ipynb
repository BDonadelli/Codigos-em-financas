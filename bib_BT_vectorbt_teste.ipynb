{
 "cells": [
  {
   "cell_type": "code",
   "execution_count": 24,
   "metadata": {},
   "outputs": [],
   "source": [
    "import pandas as pd\n",
    "import numpy as np\n",
    "import vectorbt as vbt"
   ]
  },
  {
   "cell_type": "code",
   "execution_count": 25,
   "metadata": {},
   "outputs": [],
   "source": [
    "tlt = vbt.YFData.download(\n",
    "    \"ITUB3.SA\", \n",
    "    start=\"2022-01-01\"\n",
    ").get(\"Close\").to_frame()\n",
    "close = tlt.Close"
   ]
  },
  {
   "cell_type": "code",
   "execution_count": 26,
   "metadata": {},
   "outputs": [],
   "source": [
    "# código cria séries do pandas com o mesmo formato da série com preços de fechamento. \n",
    "short_entries = pd.DataFrame.vbt.signals.empty_like(close)\n",
    "short_exits = pd.DataFrame.vbt.signals.empty_like(close)\n",
    "long_entries = pd.DataFrame.vbt.signals.empty_like(close)\n",
    "long_exits = pd.DataFrame.vbt.signals.empty_like(close)"
   ]
  },
  {
   "cell_type": "code",
   "execution_count": 27,
   "metadata": {},
   "outputs": [
    {
     "data": {
      "text/plain": [
       "Date\n",
       "2022-01-03 03:00:00+00:00    False\n",
       "2022-01-04 03:00:00+00:00    False\n",
       "2022-01-05 03:00:00+00:00    False\n",
       "2022-01-06 03:00:00+00:00    False\n",
       "2022-01-07 03:00:00+00:00    False\n",
       "                             ...  \n",
       "2024-09-02 03:00:00+00:00    False\n",
       "2024-09-03 03:00:00+00:00    False\n",
       "2024-09-04 03:00:00+00:00    False\n",
       "2024-09-05 03:00:00+00:00    False\n",
       "2024-09-06 03:00:00+00:00    False\n",
       "Name: Close, Length: 672, dtype: bool"
      ]
     },
     "execution_count": 27,
     "metadata": {},
     "output_type": "execute_result"
    }
   ],
   "source": [
    "short_entries"
   ]
  },
  {
   "cell_type": "code",
   "execution_count": 28,
   "metadata": {},
   "outputs": [
    {
     "data": {
      "text/plain": [
       "Date\n",
       "2022-01-03 03:00:00+00:00     True\n",
       "2022-01-04 03:00:00+00:00    False\n",
       "2022-01-05 03:00:00+00:00    False\n",
       "2022-01-06 03:00:00+00:00    False\n",
       "2022-01-07 03:00:00+00:00    False\n",
       "                             ...  \n",
       "2024-09-02 03:00:00+00:00     True\n",
       "2024-09-03 03:00:00+00:00    False\n",
       "2024-09-04 03:00:00+00:00    False\n",
       "2024-09-05 03:00:00+00:00    False\n",
       "2024-09-06 03:00:00+00:00    False\n",
       "Name: Close, Length: 672, dtype: bool"
      ]
     },
     "execution_count": 28,
     "metadata": {},
     "output_type": "execute_result"
    }
   ],
   "source": [
    "'''\n",
    "geramos os sinais de negociação com base no dia do mês.\n",
    "'''\n",
    "\n",
    "# entra vendido no priemiro dia do mes\n",
    "short_entry_mask = ~tlt.index.tz_convert(None).to_period(\"M\").duplicated()\n",
    "short_entries.iloc[short_entry_mask] = True\n",
    "\n",
    "short_entries"
   ]
  },
  {
   "cell_type": "code",
   "execution_count": 30,
   "metadata": {},
   "outputs": [
    {
     "data": {
      "text/plain": [
       "Date\n",
       "2022-01-03 03:00:00+00:00    False\n",
       "2022-01-04 03:00:00+00:00    False\n",
       "2022-01-05 03:00:00+00:00    False\n",
       "2022-01-06 03:00:00+00:00    False\n",
       "2022-01-07 03:00:00+00:00    False\n",
       "                             ...  \n",
       "2024-09-02 03:00:00+00:00    False\n",
       "2024-09-03 03:00:00+00:00    False\n",
       "2024-09-04 03:00:00+00:00    False\n",
       "2024-09-05 03:00:00+00:00    False\n",
       "2024-09-06 03:00:00+00:00    False\n",
       "Name: Close, Length: 672, dtype: bool"
      ]
     },
     "execution_count": 30,
     "metadata": {},
     "output_type": "execute_result"
    }
   ],
   "source": [
    "# Sai 5 dias depois\n",
    "short_exit_mask = short_entries.shift(5).fillna(False)\n",
    "short_exits.iloc[short_exit_mask] = True\n",
    "\n",
    "# entra comprado 7 dias antes do fim do mes\n",
    "long_entry_mask = short_entries.shift(-7).fillna(False)\n",
    "long_entries.iloc[long_entry_mask] = True\n",
    "\n",
    "# sai no ultimo dia do mes\n",
    "long_exit_mask = short_entries.shift(-1).fillna(False)\n",
    "long_exits.iloc[long_exit_mask] = True\n",
    "\n",
    "long_exits"
   ]
  },
  {
   "cell_type": "code",
   "execution_count": 15,
   "metadata": {},
   "outputs": [
    {
     "data": {
      "text/plain": [
       "Start                         2022-01-03 03:00:00+00:00\n",
       "End                           2024-09-06 03:00:00+00:00\n",
       "Period                                672 days 00:00:00\n",
       "Start Value                                       100.0\n",
       "End Value                                     59.384188\n",
       "Total Return [%]                             -40.615812\n",
       "Benchmark Return [%]                          95.899424\n",
       "Max Gross Exposure [%]                            100.0\n",
       "Total Fees Paid                                     0.0\n",
       "Max Drawdown [%]                              43.906719\n",
       "Max Drawdown Duration                 605 days 00:00:00\n",
       "Total Trades                                         65\n",
       "Total Closed Trades                                  64\n",
       "Total Open Trades                                     1\n",
       "Open Trade PnL                                 -1.34223\n",
       "Win Rate [%]                                    39.0625\n",
       "Best Trade [%]                                   7.8087\n",
       "Worst Trade [%]                              -10.357124\n",
       "Avg Winning Trade [%]                          2.236636\n",
       "Avg Losing Trade [%]                          -2.687955\n",
       "Avg Winning Trade Duration    5 days 12:28:47.999999999\n",
       "Avg Losing Trade Duration     5 days 11:22:06.315789473\n",
       "Profit Factor                                  0.539834\n",
       "Expectancy                                    -0.648743\n",
       "Sharpe Ratio                                  -1.435336\n",
       "Calmar Ratio                                  -0.561477\n",
       "Omega Ratio                                    0.758737\n",
       "Sortino Ratio                                 -1.856956\n",
       "Name: Close, dtype: object"
      ]
     },
     "execution_count": 15,
     "metadata": {},
     "output_type": "execute_result"
    }
   ],
   "source": [
    "pf =  vbt.Portfolio.from_signals(\n",
    "    close=close,\n",
    "    entries=long_entries, \n",
    "    exits=long_exits,\n",
    "    short_entries=short_entries,\n",
    "    short_exits=short_exits,  \n",
    "    freq=\"1d\"\n",
    ")\n",
    "\n",
    "pf.stats()"
   ]
  },
  {
   "cell_type": "code",
   "execution_count": 16,
   "metadata": {},
   "outputs": [
    {
     "data": {
      "text/plain": [
       "Start                         2022-01-03 03:00:00+00:00\n",
       "End                           2024-09-06 03:00:00+00:00\n",
       "Period                                672 days 00:00:00\n",
       "Start Value                                       100.0\n",
       "End Value                                     156.62476\n",
       "Total Return [%]                               56.62476\n",
       "Benchmark Return [%]                          95.899424\n",
       "Max Gross Exposure [%]                            100.0\n",
       "Total Fees Paid                                     0.0\n",
       "Max Drawdown [%]                              16.274071\n",
       "Max Drawdown Duration                 141 days 00:00:00\n",
       "Total Trades                                         65\n",
       "Total Closed Trades                                  64\n",
       "Total Open Trades                                     1\n",
       "Open Trade PnL                                 3.386999\n",
       "Win Rate [%]                                     59.375\n",
       "Best Trade [%]                                10.357124\n",
       "Worst Trade [%]                                 -7.8087\n",
       "Avg Winning Trade [%]                          2.687955\n",
       "Avg Losing Trade [%]                          -2.236636\n",
       "Avg Winning Trade Duration    5 days 11:22:06.315789473\n",
       "Avg Losing Trade Duration     5 days 12:28:47.999999999\n",
       "Profit Factor                                  1.796894\n",
       "Expectancy                                     0.790086\n",
       "Sharpe Ratio                                   1.415425\n",
       "Calmar Ratio                                   1.695745\n",
       "Omega Ratio                                    1.313372\n",
       "Sortino Ratio                                  2.215332\n",
       "Name: Close, dtype: object"
      ]
     },
     "execution_count": 16,
     "metadata": {},
     "output_type": "execute_result"
    }
   ],
   "source": [
    "pf =  vbt.Portfolio.from_signals(\n",
    "    close=close,\n",
    "    entries=short_entries,\n",
    "    exits=short_exits,\n",
    "    short_entries=long_entries,\n",
    "    short_exits=long_exits,\n",
    "    freq=\"1d\"\n",
    ")\n",
    "\n",
    "pf.stats()"
   ]
  }
 ],
 "metadata": {
  "kernelspec": {
   "display_name": "base",
   "language": "python",
   "name": "python3"
  },
  "language_info": {
   "codemirror_mode": {
    "name": "ipython",
    "version": 3
   },
   "file_extension": ".py",
   "mimetype": "text/x-python",
   "name": "python",
   "nbconvert_exporter": "python",
   "pygments_lexer": "ipython3",
   "version": "3.11.9"
  }
 },
 "nbformat": 4,
 "nbformat_minor": 2
}
