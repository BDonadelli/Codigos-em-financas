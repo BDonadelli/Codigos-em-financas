{
  "cells": [
    {
      "cell_type": "code",
      "execution_count": null,
      "metadata": {
        "id": "JVwqfonjahO8"
      },
      "outputs": [],
      "source": [
        "'''\n",
        "    Esse código baixa dados do TD\n",
        "    e grava em um planilha (privada) do google docs\n",
        "'''\n",
        "\n",
        "import gspread\n",
        "from oauth2client.service_account import ServiceAccountCredentials\n",
        "\n",
        "scope = ['https://www.googleapis.com/auth/drive','https://www.googleapis.com/auth/spreadsheets']\n",
        "jfile = 'carteira-328314-d38dcc8ee3e4.json'\n",
        "\n",
        "credentials = ServiceAccountCredentials.from_json_keyfile_name(jfile, scope)\n",
        "gc = gspread.authorize(credentials)\n",
        "\n",
        "from datetime import datetime\n",
        "import pandas as pd\n",
        "titulo_planilha = 'Investimentos'\n",
        "planilha = gc.open(titulo_planilha)\n",
        "atualiza_saldos = True\n",
        "pagina = planilha.worksheet('Renda Fixa')"
      ]
    },
    {
      "cell_type": "code",
      "execution_count": null,
      "metadata": {
        "id": "_FGPaKEMgvCG"
      },
      "outputs": [],
      "source": [
        "\n",
        "from urllib.request import urlopen\n",
        "\n",
        "import ssl\n",
        "ssl._create_default_https_context = ssl._create_unverified_context\n",
        "\n",
        "import json\n",
        "url = 'https://www.tesourodireto.com.br/json/br/com/b3/tesourodireto/service/api/treasurybondsinfo.json'\n",
        "response = urlopen(url)\n",
        "data_json = json.loads(response.read())"
      ]
    },
    {
      "cell_type": "code",
      "execution_count": null,
      "metadata": {
        "colab": {
          "base_uri": "https://localhost:8080/",
          "height": 1000
        },
        "id": "axBZeKkFp5pr",
        "outputId": "504cb30e-9a67-4bd3-9536-6939dc176c00"
      },
      "outputs": [],
      "source": [
        "nome , pr , pc , tr , tc = [],[],[],[],[]\n",
        "td=pd.DataFrame()\n",
        "for i in range(len(data_json[\"response\"][\"TrsrBdTradgList\"])):\n",
        "  nome.append(data_json[\"response\"][\"TrsrBdTradgList\"][i]['TrsrBd']['nm'])\n",
        "  pr.append(data_json[\"response\"][\"TrsrBdTradgList\"][i]['TrsrBd']['untrRedVal'])\n",
        "  pc.append(data_json[\"response\"][\"TrsrBdTradgList\"][i]['TrsrBd']['untrInvstmtVal'])\n",
        "  tr.append(data_json[\"response\"][\"TrsrBdTradgList\"][i]['TrsrBd']['anulRedRate'])\n",
        "  tc.append(data_json[\"response\"][\"TrsrBdTradgList\"][i]['TrsrBd']['anulInvstmtRate'])\n",
        "\n",
        "td['título'] = nome\n",
        "td['preço resgate'] = pr\n",
        "td['preço compra'] = pc\n",
        "td['taxa resgate'] = tr\n",
        "td['taxa compra'] = tc\n",
        "\n",
        "td['Ano'] = td['título'].str.extract(r'\\b(\\d{4})\\b')\n",
        "td = td.sort_values(by=['título','Ano'], ascending=True)\n",
        "# td.drop(['Ano'],axis=1,inplace=True)\n",
        "\n",
        "td"
      ]
    },
    {
      "cell_type": "code",
      "execution_count": null,
      "metadata": {},
      "outputs": [],
      "source": [
        "td.drop(['Ano'],axis=1,inplace=True)"
      ]
    },
    {
      "cell_type": "code",
      "execution_count": null,
      "metadata": {
        "id": "LRV5L1KohSJy"
      },
      "outputs": [],
      "source": [
        "from datetime import date\n",
        "today = date.today().strftime('%d/%m/%Y')"
      ]
    },
    {
      "cell_type": "code",
      "execution_count": null,
      "metadata": {
        "colab": {
          "base_uri": "https://localhost:8080/"
        },
        "id": "rtu7sjmQhBcr",
        "outputId": "7b3c61b6-8878-4579-b00b-975fd24366fd"
      },
      "outputs": [],
      "source": [
        "linha = int(input('linha da celula inicial (79)'))\n",
        "pagina.update_cell(linha, 1,  today )"
      ]
    },
    {
      "cell_type": "code",
      "execution_count": null,
      "metadata": {},
      "outputs": [],
      "source": [
        "pagina.update('a'+str(linha+1),[td.columns.values.tolist()] + td.values.tolist())"
      ]
    },
    {
      "cell_type": "code",
      "execution_count": null,
      "metadata": {
        "colab": {
          "base_uri": "https://localhost:8080/"
        },
        "id": "apqHL3zkWvI0",
        "outputId": "f092adeb-829f-427a-a012-dee9e9ed774c"
      },
      "outputs": [],
      "source": [
        "meus_tits = []\n",
        "for linha in range(3,11):\n",
        "    meus_tits.append(pagina.cell(linha, 1).value)\n",
        "meus_tits"
      ]
    },
    {
      "cell_type": "code",
      "execution_count": null,
      "metadata": {
        "colab": {
          "base_uri": "https://localhost:8080/",
          "height": 238
        },
        "id": "BH_r5jTRIzcY",
        "outputId": "1fc3d421-b23d-4633-d925-41bd9aa507fc"
      },
      "outputs": [],
      "source": [
        "meus = td[td['título'].isin(meus_tits)].copy()\n",
        "meus['título']= meus['título'].str.replace('Tesouro ', '')\n",
        "meus['título']= meus['título'].str.replace('com Juros Semestrais', 'Juros')\n",
        "meus['título']= meus['título'].str.replace('20', '')\n",
        "\n",
        "meus = meus.rename(columns={'título':str(today)})\n",
        "\n",
        "meus"
      ]
    },
    {
      "cell_type": "code",
      "execution_count": null,
      "metadata": {},
      "outputs": [],
      "source": [
        "pagina.update_cell(2, 13,  today )"
      ]
    },
    {
      "cell_type": "code",
      "execution_count": null,
      "metadata": {
        "colab": {
          "base_uri": "https://localhost:8080/"
        },
        "id": "4Anb04hRNpvC",
        "outputId": "f403296c-1810-4685-ae97-f7cd016befc3"
      },
      "outputs": [],
      "source": [
        "pagina.update('m2',[meus.columns.values.tolist()] + meus.values.tolist())"
      ]
    }
  ],
  "metadata": {
    "colab": {
      "provenance": []
    },
    "kernelspec": {
      "display_name": "Python 3",
      "name": "python3"
    },
    "language_info": {
      "codemirror_mode": {
        "name": "ipython",
        "version": 3
      },
      "file_extension": ".py",
      "mimetype": "text/x-python",
      "name": "python",
      "nbconvert_exporter": "python",
      "pygments_lexer": "ipython3",
      "version": "3.11.9"
    }
  },
  "nbformat": 4,
  "nbformat_minor": 0
}
