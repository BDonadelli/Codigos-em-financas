{
 "cells": [
  {
   "cell_type": "markdown",
   "metadata": {},
   "source": [
    "pip install git+https://github.com/asimov-academy/Asimov_TV_connector.git\n",
    "\n",
    "https://python.plainenglish.io/extracting-data-from-trading-view-253919ba7194"
   ]
  },
  {
   "cell_type": "code",
   "execution_count": 2,
   "metadata": {},
   "outputs": [
    {
     "name": "stderr",
     "output_type": "stream",
     "text": [
      "error while signin\n",
      "you are using nologin method, data you access may be limited\n"
     ]
    }
   ],
   "source": [
    "from tvDatafeed import TvDatafeed, Interval\n",
    "from datetime import datetime, timedelta\n",
    "import pandas as pd\n",
    "\n",
    "username = 'jdonadelli'\n",
    "password = open('passwd.txt', 'r').read()\n",
    "\n",
    "tv = TvDatafeed(username, password)"
   ]
  },
  {
   "cell_type": "code",
   "execution_count": 3,
   "metadata": {},
   "outputs": [
    {
     "name": "stderr",
     "output_type": "stream",
     "text": [
      "Expecting value: line 1 column 1 (char 0)\n"
     ]
    },
    {
     "data": {
      "text/html": [
       "<div>\n",
       "<style scoped>\n",
       "    .dataframe tbody tr th:only-of-type {\n",
       "        vertical-align: middle;\n",
       "    }\n",
       "\n",
       "    .dataframe tbody tr th {\n",
       "        vertical-align: top;\n",
       "    }\n",
       "\n",
       "    .dataframe thead th {\n",
       "        text-align: right;\n",
       "    }\n",
       "</style>\n",
       "<table border=\"1\" class=\"dataframe\">\n",
       "  <thead>\n",
       "    <tr style=\"text-align: right;\">\n",
       "      <th></th>\n",
       "      <th>symbol</th>\n",
       "      <th>open</th>\n",
       "      <th>high</th>\n",
       "      <th>low</th>\n",
       "      <th>close</th>\n",
       "      <th>volume</th>\n",
       "    </tr>\n",
       "    <tr>\n",
       "      <th>datetime</th>\n",
       "      <th></th>\n",
       "      <th></th>\n",
       "      <th></th>\n",
       "      <th></th>\n",
       "      <th></th>\n",
       "      <th></th>\n",
       "    </tr>\n",
       "  </thead>\n",
       "  <tbody>\n",
       "    <tr>\n",
       "      <th>2024-05-22 13:10:00</th>\n",
       "      <td>BMFBOVESPA:PETR4</td>\n",
       "      <td>35.866271</td>\n",
       "      <td>35.905171</td>\n",
       "      <td>35.837096</td>\n",
       "      <td>35.885721</td>\n",
       "      <td>203287.819038</td>\n",
       "    </tr>\n",
       "    <tr>\n",
       "      <th>2024-05-22 13:15:00</th>\n",
       "      <td>BMFBOVESPA:PETR4</td>\n",
       "      <td>35.875996</td>\n",
       "      <td>35.895446</td>\n",
       "      <td>35.866271</td>\n",
       "      <td>35.866271</td>\n",
       "      <td>93777.688904</td>\n",
       "    </tr>\n",
       "    <tr>\n",
       "      <th>2024-05-22 13:20:00</th>\n",
       "      <td>BMFBOVESPA:PETR4</td>\n",
       "      <td>35.866271</td>\n",
       "      <td>35.875996</td>\n",
       "      <td>35.846821</td>\n",
       "      <td>35.866271</td>\n",
       "      <td>24575.512772</td>\n",
       "    </tr>\n",
       "  </tbody>\n",
       "</table>\n",
       "</div>"
      ],
      "text/plain": [
       "                               symbol       open       high        low  \\\n",
       "datetime                                                                 \n",
       "2024-05-22 13:10:00  BMFBOVESPA:PETR4  35.866271  35.905171  35.837096   \n",
       "2024-05-22 13:15:00  BMFBOVESPA:PETR4  35.875996  35.895446  35.866271   \n",
       "2024-05-22 13:20:00  BMFBOVESPA:PETR4  35.866271  35.875996  35.846821   \n",
       "\n",
       "                         close         volume  \n",
       "datetime                                       \n",
       "2024-05-22 13:10:00  35.885721  203287.819038  \n",
       "2024-05-22 13:15:00  35.866271   93777.688904  \n",
       "2024-05-22 13:20:00  35.866271   24575.512772  "
      ]
     },
     "execution_count": 3,
     "metadata": {},
     "output_type": "execute_result"
    }
   ],
   "source": [
    "tv.search_symbol('PETR4','BMFBOVESPA')\n",
    "df = tv.get_hist(symbol='PETR4',exchange='BMFBOVESPA',interval=Interval.in_5_minute, n_bars= 5000)\n",
    "df.head(3)"
   ]
  },
  {
   "cell_type": "code",
   "execution_count": null,
   "metadata": {},
   "outputs": [],
   "source": [
    "df = tv.get_hist(symbol='PETR4',exchange='BMFBOVESPA',interval=Interval.in_5_minute, n_bars= 10)\n",
    "df"
   ]
  },
  {
   "cell_type": "code",
   "execution_count": null,
   "metadata": {},
   "outputs": [],
   "source": [
    "url  = {'ibra50' :'https://raw.githubusercontent.com/BDonadelli/Codigos-em-financas/main/data/Cart_IBr50.csv',\n",
    "        'ibra100':'https://raw.githubusercontent.com/BDonadelli/Codigos-em-financas/main/data/Cart_IBr100.csv',\n",
    "        'idiv'   :'https://raw.githubusercontent.com/BDonadelli/Codigos-em-financas/main/data/Cart_Idiv.csv',\n",
    "        'ibov'   :'https://raw.githubusercontent.com/BDonadelli/Codigos-em-financas/main/data/Cart_Ibov.csv',\n",
    "        'small'  :'https://raw.githubusercontent.com/BDonadelli/Codigos-em-financas/main/data/Cart_Small.csv'\n",
    "}\n",
    "\n",
    "indice = pd.read_csv(url['small'] ,\n",
    "                     sep=';' , decimal=',' , thousands='.' , header=1 , skiprows=1 , skipfooter=3 , encoding='latin-1',\n",
    "                     index_col=False , engine='python')\n",
    "\n",
    "indice.head()"
   ]
  },
  {
   "cell_type": "code",
   "execution_count": null,
   "metadata": {},
   "outputs": [],
   "source": [
    "indice.tail()"
   ]
  },
  {
   "cell_type": "code",
   "execution_count": null,
   "metadata": {},
   "outputs": [],
   "source": [
    "for idx,row in indice.iterrows():\n",
    "    i=row['Código']\n",
    "    if idx == 0:       \n",
    "        df =  tv.get_hist(symbol= i,exchange='BMFBOVESPA', n_bars= 800)\n",
    "        df.rename(columns={ 'open':i+'_open' , 'high' : i+'_high' , \n",
    "                       'low' : i+'_low' , 'close' : i+'_close',\n",
    "                       'volume' : i+'_volume'},inplace=True)\n",
    "        del df['symbol']\n",
    "    else:\n",
    "        df1 =  tv.get_hist(symbol= i,exchange='BMFBOVESPA', n_bars= 800)\n",
    "        df1.rename(columns={ 'open':i+'_open' , 'high' : i+'_high' , \n",
    "                       'low' : i+'_low' , 'close' : i+'_close',\n",
    "                       'volume' : i+'_volume'},inplace=True)\n",
    "        del df1['symbol']\n",
    "\n",
    "        df = pd.merge(df,df1,how='inner',left_index=True,right_index=True)\n",
    "\n",
    "df.to_csv(\"data/tvohlc.csv\" , sep=';' , decimal='.')"
   ]
  },
  {
   "cell_type": "code",
   "execution_count": null,
   "metadata": {},
   "outputs": [],
   "source": [
    "def import_data(csv): \n",
    "    \"\"\" Renomeando as colunas para aritmetica com dataframe \"\"\"\n",
    "    def extrair_caracteres(s):\n",
    "        import re\n",
    "        pattern = re.compile(r\"([^_]+)_\")\n",
    "    \n",
    "        match = pattern.match(s)\n",
    "        if match:\n",
    "                return match.group(1)\n",
    "        else:\n",
    "             return None\n",
    "    \n",
    "    df = pd.read_csv(csv, sep=';' , decimal='.')\n",
    "    df.index = pd.to_datetime(df['datetime'])#, format = \"%y-%m-%d\")\n",
    "    df = df.drop('datetime', axis=1)\n",
    "    \n",
    "    close_columns    = []\n",
    "    high_columns     = []\n",
    "    low_columns      = []\n",
    "    open_columns     = []\n",
    "    volume_columns   = []\n",
    "\n",
    "    for i in df.columns:\n",
    "        if \"close\" in i:\n",
    "            close_columns.append(i)\n",
    "        elif \"high\" in i:\n",
    "            high_columns.append(i)\n",
    "        elif \"low\" in i:\n",
    "            low_columns.append(i)\n",
    "        elif \"open_int\" in i:\n",
    "            open_int_columns.append(i)\n",
    "        elif \"open\" in i:\n",
    "            open_columns.append(i)\n",
    "        elif \"volume\" in i:\n",
    "            volume_columns.append(i)\n",
    "\n",
    "    dicH = {s:extrair_caracteres(s) for s in high_columns}\n",
    "    dicL = {s:extrair_caracteres(s) for s in low_columns}\n",
    "    dicO = {s:extrair_caracteres(s) for s in open_columns}\n",
    "    dicC = {s:extrair_caracteres(s) for s in close_columns}\n",
    "    dicV = {s:extrair_caracteres(s) for s in volume_columns}\n",
    "    \n",
    "    close_df    = df[close_columns].rename(columns=dicC)\n",
    "    high_df     = df[high_columns].rename(columns=dicH)\n",
    "    low_df      = df[low_columns].rename(columns=dicL)\n",
    "    open_df     = df[open_columns].rename(columns=dicO)\n",
    "    volume_df   = df[volume_columns].rename(columns=dicV)\n",
    " \n",
    "    return [close_df, high_df, low_df, open_df, volume_df]"
   ]
  }
 ],
 "metadata": {
  "kernelspec": {
   "display_name": "base",
   "language": "python",
   "name": "python3"
  },
  "language_info": {
   "codemirror_mode": {
    "name": "ipython",
    "version": 3
   },
   "file_extension": ".py",
   "mimetype": "text/x-python",
   "name": "python",
   "nbconvert_exporter": "python",
   "pygments_lexer": "ipython3",
   "version": "3.11.9"
  }
 },
 "nbformat": 4,
 "nbformat_minor": 2
}
