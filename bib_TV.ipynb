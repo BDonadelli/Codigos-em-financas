{
 "cells": [
  {
   "cell_type": "markdown",
   "metadata": {},
   "source": [
    "pip install git+https://github.com/asimov-academy/Asimov_TV_connector.git\n",
    "\n",
    "https://python.plainenglish.io/extracting-data-from-trading-view-253919ba7194"
   ]
  },
  {
   "cell_type": "code",
   "execution_count": null,
   "metadata": {},
   "outputs": [],
   "source": [
    "from tvDatafeed import TvDatafeed, Interval\n",
    "from datetime import datetime, timedelta\n",
    "import pandas as pd\n",
    "\n",
    "username = 'jdonadelli'\n",
    "password = open('passwd.txt', 'r').read()\n",
    "\n",
    "tv = TvDatafeed(username, password)"
   ]
  },
  {
   "cell_type": "code",
   "execution_count": null,
   "metadata": {},
   "outputs": [],
   "source": [
    "# tv.search_symbol('PETR4','BMFBOVESPA')\n",
    "# df = tv.get_hist(symbol='PETR4',exchange='BMFBOVESPA',interval=Interval.in_5_minute, n_bars= 5000)\n",
    "# df.head(3)"
   ]
  },
  {
   "cell_type": "code",
   "execution_count": null,
   "metadata": {},
   "outputs": [],
   "source": [
    "df = tv.get_hist(symbol='PETR4',exchange='BMFBOVESPA',interval=Interval.in_5_minute, n_bars= 10)\n",
    "df"
   ]
  },
  {
   "cell_type": "code",
   "execution_count": null,
   "metadata": {},
   "outputs": [],
   "source": [
    "url  = {'ibra50' :'https://raw.githubusercontent.com/BDonadelli/Codigos-em-financas/main/data/Cart_IBr50.csv',\n",
    "        'ibra100':'https://raw.githubusercontent.com/BDonadelli/Codigos-em-financas/main/data/Cart_IBr100.csv',\n",
    "        'idiv'   :'https://raw.githubusercontent.com/BDonadelli/Codigos-em-financas/main/data/Cart_Idiv.csv',\n",
    "        'ibov'   :'https://raw.githubusercontent.com/BDonadelli/Codigos-em-financas/main/data/Cart_Ibov.csv',\n",
    "        'small'  :'https://raw.githubusercontent.com/BDonadelli/Codigos-em-financas/main/data/Cart_Small.csv'\n",
    "}\n",
    "\n",
    "indice = pd.read_csv(url['small'] ,\n",
    "                     sep=';' , decimal=',' , thousands='.' , header=1 , skiprows=1 , skipfooter=3 , encoding='latin-1',\n",
    "                     index_col=False , engine='python')\n",
    "\n",
    "indice.head()"
   ]
  },
  {
   "cell_type": "code",
   "execution_count": null,
   "metadata": {},
   "outputs": [],
   "source": [
    "indice.tail()"
   ]
  },
  {
   "cell_type": "code",
   "execution_count": null,
   "metadata": {},
   "outputs": [],
   "source": [
    "for idx,row in indice.iterrows():\n",
    "    i=row['Código']\n",
    "    if idx == 0:       \n",
    "        df =  tv.get_hist(symbol= i,exchange='BMFBOVESPA', n_bars= 800)\n",
    "        df.rename(columns={ 'open':i+'_open' , 'high' : i+'_high' , \n",
    "                       'low' : i+'_low' , 'close' : i+'_close',\n",
    "                       'volume' : i+'_volume'},inplace=True)\n",
    "        del df['symbol']\n",
    "    else:\n",
    "        df1 =  tv.get_hist(symbol= i,exchange='BMFBOVESPA', n_bars= 800)\n",
    "        df1.rename(columns={ 'open':i+'_open' , 'high' : i+'_high' , \n",
    "                       'low' : i+'_low' , 'close' : i+'_close',\n",
    "                       'volume' : i+'_volume'},inplace=True)\n",
    "        del df1['symbol']\n",
    "\n",
    "        df = pd.merge(df,df1,how='inner',left_index=True,right_index=True)\n",
    "\n",
    "df.to_csv(\"data/tvohlc.csv\" , sep=';' , decimal='.')"
   ]
  },
  {
   "cell_type": "code",
   "execution_count": null,
   "metadata": {},
   "outputs": [],
   "source": [
    "def import_data(csv): \n",
    "    \"\"\" Renomeando as colunas para aritmetica com dataframe \"\"\"\n",
    "    def extrair_caracteres(s):\n",
    "        import re\n",
    "        pattern = re.compile(r\"([^_]+)_\")\n",
    "    \n",
    "        match = pattern.match(s)\n",
    "        if match:\n",
    "                return match.group(1)\n",
    "        else:\n",
    "             return None\n",
    "    \n",
    "    df = pd.read_csv(csv, sep=';' , decimal='.')\n",
    "    df.index = pd.to_datetime(df['datetime'])#, format = \"%y-%m-%d\")\n",
    "    df = df.drop('datetime', axis=1)\n",
    "    \n",
    "    close_columns    = []\n",
    "    high_columns     = []\n",
    "    low_columns      = []\n",
    "    open_columns     = []\n",
    "    volume_columns   = []\n",
    "\n",
    "    for i in df.columns:\n",
    "        if \"close\" in i:\n",
    "            close_columns.append(i)\n",
    "        elif \"high\" in i:\n",
    "            high_columns.append(i)\n",
    "        elif \"low\" in i:\n",
    "            low_columns.append(i)\n",
    "        elif \"open_int\" in i:\n",
    "            open_int_columns.append(i)\n",
    "        elif \"open\" in i:\n",
    "            open_columns.append(i)\n",
    "        elif \"volume\" in i:\n",
    "            volume_columns.append(i)\n",
    "\n",
    "    dicH = {s:extrair_caracteres(s) for s in high_columns}\n",
    "    dicL = {s:extrair_caracteres(s) for s in low_columns}\n",
    "    dicO = {s:extrair_caracteres(s) for s in open_columns}\n",
    "    dicC = {s:extrair_caracteres(s) for s in close_columns}\n",
    "    dicV = {s:extrair_caracteres(s) for s in volume_columns}\n",
    "    \n",
    "    close_df    = df[close_columns].rename(columns=dicC)\n",
    "    high_df     = df[high_columns].rename(columns=dicH)\n",
    "    low_df      = df[low_columns].rename(columns=dicL)\n",
    "    open_df     = df[open_columns].rename(columns=dicO)\n",
    "    volume_df   = df[volume_columns].rename(columns=dicV)\n",
    " \n",
    "    return [close_df, high_df, low_df, open_df, volume_df]"
   ]
  }
 ],
 "metadata": {
  "kernelspec": {
   "display_name": "base",
   "language": "python",
   "name": "python3"
  },
  "language_info": {
   "codemirror_mode": {
    "name": "ipython",
    "version": 3
   },
   "file_extension": ".py",
   "mimetype": "text/x-python",
   "name": "python",
   "nbconvert_exporter": "python",
   "pygments_lexer": "ipython3",
   "version": "3.11.9"
  }
 },
 "nbformat": 4,
 "nbformat_minor": 2
}
