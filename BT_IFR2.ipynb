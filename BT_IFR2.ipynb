{
  "cells": [
    {
      "cell_type": "markdown",
      "metadata": {
        "colab_type": "text",
        "id": "view-in-github"
      },
      "source": [
        "<a href=\"https://colab.research.google.com/github/BDonadelli/Codigos-em-financas/blob/main/IFR2.ipynb\" target=\"_parent\"><img src=\"https://colab.research.google.com/assets/colab-badge.svg\" alt=\"Open In Colab\"/></a>"
      ]
    },
    {
      "cell_type": "markdown",
      "metadata": {
        "id": "wBQjWPl1DDi_"
      },
      "source": [
        "ESTRATÉGIA\n",
        "1.   IFR para 2 períodos < 5 compra na abertura seguinte\n",
        "2.   Preço fechamento > ma5 vende na abertura seguinte\n",
        "\n"
      ]
    },
    {
      "cell_type": "code",
      "execution_count": 1,
      "metadata": {
        "id": "Pb8Y0UL7YD8N"
      },
      "outputs": [],
      "source": [
        "# @ Data é ano/mes/dia.\n",
        "\n",
        "inicio  = '2020-01-02'  #@param {type:\"date\"}\n",
        "termino = '2023-01-30'  #@param {type:\"date\"}\n",
        "from datetime import datetime\n",
        "\n",
        "usar_periodo = True #@param {type:\"boolean\"}\n",
        "periodo = '1y' #@param ['1d','5d','1mo','3mo','6mo','1y','2y','3y','5y','10y','ytd','max']"
      ]
    },
    {
      "cell_type": "code",
      "execution_count": 2,
      "metadata": {
        "colab": {
          "base_uri": "https://localhost:8080/"
        },
        "id": "QpinoXv_p27A",
        "outputId": "465568a7-598a-422a-b49d-c016e35fc165"
      },
      "outputs": [
        {
          "data": {
            "text/html": [
              "        <script type=\"text/javascript\">\n",
              "        window.PlotlyConfig = {MathJaxConfig: 'local'};\n",
              "        if (window.MathJax && window.MathJax.Hub && window.MathJax.Hub.Config) {window.MathJax.Hub.Config({SVG: {font: \"STIX-Web\"}});}\n",
              "        if (typeof require !== 'undefined') {\n",
              "        require.undef(\"plotly\");\n",
              "        requirejs.config({\n",
              "            paths: {\n",
              "                'plotly': ['https://cdn.plot.ly/plotly-2.27.0.min']\n",
              "            }\n",
              "        });\n",
              "        require(['plotly'], function(Plotly) {\n",
              "            window._Plotly = Plotly;\n",
              "        });\n",
              "        }\n",
              "        </script>\n",
              "        "
            ]
          },
          "metadata": {},
          "output_type": "display_data"
        }
      ],
      "source": [
        "# @ markdown Instala bibliotecas\n",
        "\n",
        "import pandas as pd\n",
        "import numpy as np\n",
        "\n",
        "# import pyfolio as pf\n",
        "import quantstats as qstats\n",
        "import pandas_ta as pta\n",
        "\n",
        "# !pip install -q  yfinance\n",
        "import yfinance as yf\n",
        "\n",
        "import cufflinks as cf\n",
        "cf.go_offline()\n"
      ]
    },
    {
      "cell_type": "code",
      "execution_count": 3,
      "metadata": {},
      "outputs": [],
      "source": [
        "arq = 'data/Cart_Ibov.csv'\n",
        "# arq = 'data/Cart_IBr100.csv'\n",
        "\n",
        "try:\n",
        "    IBOV = pd.read_csv(arq, encoding='latin-1', sep=';' , skiprows=[0], skipfooter=2 , index_col=False ,engine='python')\n",
        "except:\n",
        "    url = f'https://raw.githubusercontent.com/BDonadelli/Codigos-em-financas/main/data/{arq}.csv'\n",
        "    IBOV = pd.read_csv(url, encoding='latin-1', sep=';' , skiprows=[0], skipfooter=2 , index_col=False ,engine='python')\n",
        "\n"
      ]
    },
    {
      "cell_type": "code",
      "execution_count": 4,
      "metadata": {},
      "outputs": [
        {
          "data": {
            "text/plain": [
              "'LWSA3.SA'"
            ]
          },
          "execution_count": 4,
          "metadata": {},
          "output_type": "execute_result"
        }
      ],
      "source": [
        "codigos = np.array(sorted(IBOV.Código.to_list()),dtype=str)\n",
        "tickers = [tk+'.SA' for tk in codigos]\n",
        "tickers[50]"
      ]
    },
    {
      "cell_type": "code",
      "execution_count": 5,
      "metadata": {
        "colab": {
          "base_uri": "https://localhost:8080/",
          "height": 275
        },
        "id": "ishLNStc5Cmo",
        "outputId": "8aeef680-0a37-4e27-bf72-36f8b8bb912b"
      },
      "outputs": [
        {
          "data": {
            "text/html": [
              "<div>\n",
              "<style scoped>\n",
              "    .dataframe tbody tr th:only-of-type {\n",
              "        vertical-align: middle;\n",
              "    }\n",
              "\n",
              "    .dataframe tbody tr th {\n",
              "        vertical-align: top;\n",
              "    }\n",
              "\n",
              "    .dataframe thead th {\n",
              "        text-align: right;\n",
              "    }\n",
              "</style>\n",
              "<table border=\"1\" class=\"dataframe\">\n",
              "  <thead>\n",
              "    <tr style=\"text-align: right;\">\n",
              "      <th></th>\n",
              "      <th>Open ABEV3</th>\n",
              "      <th>Open ALOS3</th>\n",
              "      <th>Open ALPA4</th>\n",
              "      <th>Open ARZZ3</th>\n",
              "      <th>Open ASAI3</th>\n",
              "      <th>Open AZUL4</th>\n",
              "      <th>Open B3SA3</th>\n",
              "      <th>Open BBAS3</th>\n",
              "      <th>Open BBDC3</th>\n",
              "      <th>Open BBDC4</th>\n",
              "      <th>...</th>\n",
              "      <th>Close TOTS3</th>\n",
              "      <th>Close TRPL4</th>\n",
              "      <th>Close UGPA3</th>\n",
              "      <th>Close USIM5</th>\n",
              "      <th>Close VALE3</th>\n",
              "      <th>Close VAMO3</th>\n",
              "      <th>Close VBBR3</th>\n",
              "      <th>Close VIVT3</th>\n",
              "      <th>Close WEGE3</th>\n",
              "      <th>Close YDUQ3</th>\n",
              "    </tr>\n",
              "    <tr>\n",
              "      <th>Date</th>\n",
              "      <th></th>\n",
              "      <th></th>\n",
              "      <th></th>\n",
              "      <th></th>\n",
              "      <th></th>\n",
              "      <th></th>\n",
              "      <th></th>\n",
              "      <th></th>\n",
              "      <th></th>\n",
              "      <th></th>\n",
              "      <th></th>\n",
              "      <th></th>\n",
              "      <th></th>\n",
              "      <th></th>\n",
              "      <th></th>\n",
              "      <th></th>\n",
              "      <th></th>\n",
              "      <th></th>\n",
              "      <th></th>\n",
              "      <th></th>\n",
              "      <th></th>\n",
              "    </tr>\n",
              "  </thead>\n",
              "  <tbody>\n",
              "    <tr>\n",
              "      <th>2023-02-27</th>\n",
              "      <td>12.71537</td>\n",
              "      <td>NaN</td>\n",
              "      <td>9.5</td>\n",
              "      <td>72.551523</td>\n",
              "      <td>18.673751</td>\n",
              "      <td>7.62</td>\n",
              "      <td>10.100125</td>\n",
              "      <td>37.973163</td>\n",
              "      <td>11.217888</td>\n",
              "      <td>12.639139</td>\n",
              "      <td>...</td>\n",
              "      <td>27.579245</td>\n",
              "      <td>19.987883</td>\n",
              "      <td>13.229564</td>\n",
              "      <td>6.5337</td>\n",
              "      <td>79.981636</td>\n",
              "      <td>12.726957</td>\n",
              "      <td>14.080976</td>\n",
              "      <td>37.60778</td>\n",
              "      <td>38.080582</td>\n",
              "      <td>7.388398</td>\n",
              "    </tr>\n",
              "  </tbody>\n",
              "</table>\n",
              "<p>1 rows × 172 columns</p>\n",
              "</div>"
            ],
            "text/plain": [
              "            Open ABEV3  Open ALOS3  Open ALPA4  Open ARZZ3  Open ASAI3  \\\n",
              "Date                                                                     \n",
              "2023-02-27    12.71537         NaN         9.5   72.551523   18.673751   \n",
              "\n",
              "            Open AZUL4  Open B3SA3  Open BBAS3  Open BBDC3  Open BBDC4  ...  \\\n",
              "Date                                                                    ...   \n",
              "2023-02-27        7.62   10.100125   37.973163   11.217888   12.639139  ...   \n",
              "\n",
              "            Close TOTS3  Close TRPL4  Close UGPA3  Close USIM5  Close VALE3  \\\n",
              "Date                                                                          \n",
              "2023-02-27    27.579245    19.987883    13.229564       6.5337    79.981636   \n",
              "\n",
              "            Close VAMO3  Close VBBR3  Close VIVT3  Close WEGE3  Close YDUQ3  \n",
              "Date                                                                         \n",
              "2023-02-27    12.726957    14.080976     37.60778    38.080582     7.388398  \n",
              "\n",
              "[1 rows x 172 columns]"
            ]
          },
          "execution_count": 5,
          "metadata": {},
          "output_type": "execute_result"
        }
      ],
      "source": [
        "# @ markdown ## download dados do yahoo finance\n",
        "## a ultima lina da tabela tem a data mais recente\n",
        "df=pd.DataFrame()\n",
        "if usar_periodo : \n",
        "  df = yf.download(tickers, period = periodo   , auto_adjust=True, progress = False )[['Open','Close']]\n",
        "else: \n",
        "  df = yf.download(tickers, start = inicio , end = termino , auto_adjust=True, progress = False )[['Open','Close']]\n",
        "\n",
        "d = dict(zip(df.columns.levels[1],df.columns.levels[1].str.rstrip('.SA') ))\n",
        "df = df.rename(columns=d, level=1)\n",
        "\n",
        "df.columns = [\" \".join(col).strip() for col in df.columns.values]\n",
        "df.head(1) #mostra a primeiro linha da tabela dos preços"
      ]
    },
    {
      "cell_type": "code",
      "execution_count": 6,
      "metadata": {
        "id": "9ykcKmET51TA"
      },
      "outputs": [],
      "source": [
        "# @ markdown  função qu, output: str = Nonee calcula o ifr a partir de uma serie de preços\n",
        "\n",
        "def rsi(price, window=2, output: str = None):   \n",
        "  '''\n",
        "    calcula o ifr \n",
        "    \"price\" é uma série de preços\n",
        "    \"window\" é o periodo da janela móvel de obeservação, por default vale 2      \n",
        "    \"output\" é string com nome de arquivo para exportar contas em csv\n",
        "    Referencia: https://seekingalpha.com/article/4518407-rsi-indicator-meaning-and-calculation \n",
        "  '''\n",
        "    \n",
        "  data = pd.DataFrame(price).copy()\n",
        "    \n",
        "  data[\"Variation\"] = data.diff()\n",
        "\n",
        "  data[\"Gain\"] = np.where(data[\"Variation\"] > 0, data[\"Variation\"], 0)\n",
        "  data[\"Loss\"] = np.where(data[\"Variation\"] < 0, data[\"Variation\"], 0)\n",
        "\n",
        "  data['avg_gain'] = data[\"Gain\"].rolling(window,min_periods=window).mean()\n",
        "  data['avg_loss'] = data[\"Loss\"].abs().rolling(window,min_periods=window).mean()\n",
        "\n",
        "  # avg_gain = gain.ewm(com=period - 1, min_periods=period).mean()\n",
        "  # avg_loss = loss.ewm(com=period - 1, min_periods=period).mean()\n",
        "  # rs = avg_gain / avg_loss\n",
        "\n",
        "  for i in range(window, len(data['avg_gain'])):\n",
        "     data['avg_gain'].iloc[i] = (data['avg_gain'].iloc[i - 1] * (window - 1) + data[\"Gain\"].iloc[i]) / window\n",
        "     data['avg_loss'].iloc[i] = (data['avg_loss'].iloc[i - 1] * (window - 1) + data[\"Loss\"].abs().iloc[i]) / window\n",
        "  data['rsi'] = 100 - (100 / (1 + ( data['avg_gain'] / data['avg_loss'] ))).round(2)\n",
        "\n",
        "  if output is not None:\n",
        "        data.to_csv(output)\n",
        "\n",
        "  return data['rsi']"
      ]
    },
    {
      "cell_type": "markdown",
      "metadata": {
        "id": "mKIKiHMYFoyB"
      },
      "source": [
        "**lista os ativos do índice com ifr2 < 5**\n"
      ]
    },
    {
      "cell_type": "code",
      "execution_count": 7,
      "metadata": {
        "colab": {
          "base_uri": "https://localhost:8080/"
        },
        "id": "UyvBTQMGQ8iM",
        "outputId": "425498bf-48f3-4227-dfdc-493f5d2497f5"
      },
      "outputs": [
        {
          "name": "stdout",
          "output_type": "stream",
          "text": [
            "o ultimo preço é do dia 26 / 2 / 2024\n",
            "Os ativos com IFR<5 são:\n",
            "RAIL3\n",
            "RAIZ4\n"
          ]
        }
      ],
      "source": [
        "IFR = pd.DataFrame({f\"{i}\": rsi( df['Close '+i] , 2)  for i in codigos})\n",
        "\n",
        "print('o ultimo preço é do dia',IFR.index[-1].day,'/',IFR.index[-1].month,'/',IFR.index[-1].year)\n",
        "print('Os ativos com IFR<5 são:')\n",
        "## seleciona os ativos dentre 'codigos' com ifr2 < 5 \n",
        "lista_ifr=[]\n",
        "for x in codigos :\n",
        "  if IFR[x].iloc[-1]< 5 :  \n",
        "    print(x)\n",
        "    lista_ifr.append(x)\n",
        "\n",
        "if len(lista_ifr)==0: print('*************** Não tem papel com IFR<5 ***************')"
      ]
    },
    {
      "cell_type": "markdown",
      "metadata": {
        "id": "PjkZQH0SGI9F"
      },
      "source": [
        "**histórico da estratégia**"
      ]
    },
    {
      "cell_type": "code",
      "execution_count": 8,
      "metadata": {
        "id": "f0KW9re0DWrw"
      },
      "outputs": [],
      "source": [
        "# @ markdown Simula as operações\n",
        "def trades (x):\n",
        "  '''\n",
        "  'trades' cria duas listas 'entrada' e 'saida' \n",
        "  essas listas têm 3 componentes: \n",
        "    a linha na tabela de dados do sinal de entrada/saida;\n",
        "    a data seguinte do sinal (entrada/saida), que é o dia de negociação, e \n",
        "    o preço (open) de entrada/saida naquele dia, preço da negociação\n",
        "  '''\n",
        "  open  = 'Open '+x\n",
        "  close = 'Close '+x\n",
        "\n",
        "  bt = df[[open , close]].copy() \n",
        "  #media movel simples de 5 periodos \n",
        "  bt['mm5'] = df[close].rolling(5).mean()  \n",
        "  bt['ifr'] = IFR[x]\n",
        "  bt=bt.dropna()\n",
        "  \n",
        "  ## marca todos os pontos com ifr2 < 5\n",
        "  bt['sinal_entra'] = np.where(bt['ifr'] < 5 , 1 , 0)\n",
        "  #marca todos pontos com close > mm5\n",
        "  bt['sinal_sai'] = np.where(bt[close] > bt['mm5'] , -1 , 0)\n",
        "\n",
        "  '''\n",
        "  cria listas com os pontos de entrada e saída das operações\n",
        "  1) percorre a tabela bt em ordem cronológica até achar sinal entrada\n",
        "     quando acha, armazenas as informações: \n",
        "       linha da tabela, data do sinal e preço de abertura do dia seguinte\n",
        "  2) em seguida, continua, a partir do proximo dia, até achar sinal saida\n",
        "     quando acha, armazenas as informações: \n",
        "       linha da tabela, data do sinal e preço de fechamento do dia seguinte\n",
        "  3) repete os passos 1 e 2 \n",
        "  '''  \n",
        "  entrada = []\n",
        "  saida = []\n",
        "  i=0\n",
        "  while i < len(bt):\n",
        "    while bt['sinal_entra'].iloc[i] == 0 : i+=1 # pega um sinal de entrada\n",
        "    if i+1 < len(bt) :                          # se teve pregão dia seguinte,entra\n",
        "        i+=1                                    # vai p/ dia seguinte\n",
        "        entrada.append( ( i-1,                                      # sinal no dia anterior\n",
        "                         bt.index[i].date().strftime(\"%d/%m/%Y\") ,  # dia entrada\n",
        "                         np.round(bt[open].iloc[i],2)))             # preço entrada\n",
        "       #avança até o primeiro sinal de saída, que pode ser no proprio dia\n",
        "        while (i < len(bt) and bt['sinal_sai'].iloc[i]==0) : i=i+1    \n",
        "       #se teve pregão dia seguinte,sai  (senão vai dormir comprado, vamos desconsiderar)\n",
        "        if i+1 < len(bt) :  \n",
        "            i+=1                                                        # vai p/ dia seguinte\n",
        "            saida.append( (i-1,                                         # sinal no dia anterior\n",
        "                           bt.index[i].date().strftime(\"%d/%m/%Y\")  ,   # dia saida\n",
        "                           np.round(bt[open].iloc[i],2)) )              # preço saida\n",
        "            # senão, a ultima operação ainda não deu saida , remove ultima entrada\n",
        "        else : entrada.pop()                    \n",
        "    i=i+1\n",
        "  return entrada,saida"
      ]
    },
    {
      "cell_type": "code",
      "execution_count": 9,
      "metadata": {
        "colab": {
          "base_uri": "https://localhost:8080/",
          "height": 426
        },
        "id": "EnX3J5gjfzNb",
        "outputId": "5bd31b03-628d-441b-9dba-0ae636f77a68"
      },
      "outputs": [
        {
          "data": {
            "text/html": [
              "<div>\n",
              "<style scoped>\n",
              "    .dataframe tbody tr th:only-of-type {\n",
              "        vertical-align: middle;\n",
              "    }\n",
              "\n",
              "    .dataframe tbody tr th {\n",
              "        vertical-align: top;\n",
              "    }\n",
              "\n",
              "    .dataframe thead th {\n",
              "        text-align: right;\n",
              "    }\n",
              "</style>\n",
              "<table border=\"1\" class=\"dataframe\">\n",
              "  <thead>\n",
              "    <tr style=\"text-align: right;\">\n",
              "      <th></th>\n",
              "      <th>IFR2</th>\n",
              "      <th>Operações</th>\n",
              "      <th>Positivas</th>\n",
              "      <th>Tx acerto</th>\n",
              "      <th>Acumulado</th>\n",
              "      <th>Ret. médio pos</th>\n",
              "      <th>Ret. médio neg</th>\n",
              "      <th>Exp matematica</th>\n",
              "      <th>Duração média(dias)</th>\n",
              "    </tr>\n",
              "  </thead>\n",
              "  <tbody>\n",
              "    <tr>\n",
              "      <th>RAIL3</th>\n",
              "      <td>4.2</td>\n",
              "      <td>5</td>\n",
              "      <td>4</td>\n",
              "      <td>0.8</td>\n",
              "      <td>0.06</td>\n",
              "      <td>0.02</td>\n",
              "      <td>0.02</td>\n",
              "      <td>1.2</td>\n",
              "      <td>3.2</td>\n",
              "    </tr>\n",
              "    <tr>\n",
              "      <th>RAIZ4</th>\n",
              "      <td>3.37</td>\n",
              "      <td>8</td>\n",
              "      <td>6</td>\n",
              "      <td>0.75</td>\n",
              "      <td>-0.01</td>\n",
              "      <td>0.02</td>\n",
              "      <td>0.08</td>\n",
              "      <td>-0.5</td>\n",
              "      <td>4.8</td>\n",
              "    </tr>\n",
              "  </tbody>\n",
              "</table>\n",
              "</div>"
            ],
            "text/plain": [
              "       IFR2 Operações Positivas Tx acerto Acumulado Ret. médio pos  \\\n",
              "RAIL3   4.2         5         4       0.8      0.06           0.02   \n",
              "RAIZ4  3.37         8         6      0.75     -0.01           0.02   \n",
              "\n",
              "      Ret. médio neg Exp matematica Duração média(dias)  \n",
              "RAIL3           0.02            1.2                 3.2  \n",
              "RAIZ4           0.08           -0.5                 4.8  "
            ]
          },
          "metadata": {},
          "output_type": "display_data"
        }
      ],
      "source": [
        "# @ markdown Mostra os resultados\n",
        "\n",
        "resumo = pd.DataFrame(index=lista_ifr,columns=[ \\\n",
        "    'IFR2',                    # ifr do papel\n",
        "    'Operações' ,              # no. de operações no periodo\n",
        "    'Positivas' ,     # no. de operações com retorno >0\n",
        "    'Tx acerto' ,              # Retornos positivos / Retornos \n",
        "    'Acumulado',               # Retorno acumulado pela estratégia \n",
        "    'Ret. médio pos' ,          # média aritmetica dos retornos > 0\n",
        "    'Ret. médio neg' ,          # média aritmetica dos retornos < 0\n",
        "    'Exp matematica',\n",
        "    'Duração média(dias)' ])   # no. medio de dias que fica posicionado\n",
        "\n",
        "# usando as informações da função 'trades', simula as operações\n",
        "# calcula o tempo de cada operação e a variação do preço do ativo\n",
        "\n",
        "out =  [ [[],[]] for j in range(len(lista_ifr))] \n",
        "retornos = [ [[],[]] for j in range(len(lista_ifr))] \n",
        "z=0\n",
        "for x in lista_ifr:\n",
        "  dura = []  ## duração da operação, em dias uteis\n",
        "  e    = []  ## pontos de entrada \n",
        "  s    = []  ## pontos de saida\n",
        "  posret = 0 ## conta retornos positivos\n",
        "\n",
        "  e,s = trades(x)\n",
        "  # mensagens para ajudar na validação\n",
        "  out1 =  ['' for j in range(len(e))] # entrada/saida\n",
        "  out2 =  ['' for j in range(len(e))] # duração\n",
        "  out3 =  ['' for j in range(len(e))] # retorno\n",
        "  \n",
        "  for j in range(len(e)) :\n",
        "      out1[j] =  \"entrada em \" + str(e[j][1]) + \" e saida em \" + str(s[j][1]) \n",
        "      \n",
        "      dias = s[j][0] - e[j][0]\n",
        "      out2[j] = \" durou \"+str(dias)+\" dias e \"\n",
        "      dura.append(dias)\n",
        "\n",
        "      retorno = s[j][2]/e[j][2] - 1\n",
        "      out3[j] = \"variou \"+str(round(retorno*100,3))+\"%\" \n",
        "      retornos[z][1].append(retorno)\n",
        "      if retorno > 0 : posret +=1\n",
        "  \n",
        "  if len(retornos[z][1])!=0 : wins = np.round(posret/(len(retornos[z][1])),3) \n",
        "  else : wins = 0\n",
        "  retpos = np.round(np.mean([x for x in retornos[z][1] if x>0]),2)\n",
        "  retneg = abs(np.round(np.mean([x for x in retornos[z][1] if x<=0]),2))\n",
        "  expectativa = (wins * retpos) - ((1 - wins) * retneg)\n",
        "\n",
        "  resumo.loc[x] = [ IFR[x].iloc[-1].round(2), \n",
        "                   len(e) , \n",
        "                   posret , \n",
        "                   wins,\n",
        "                   np.round((np.array(retornos[z][1])+1).cumprod()[-1] - 1,2) , \n",
        "                   retpos, \n",
        "                   retneg,\n",
        "                   expectativa*100, \n",
        "                   np.round(np.mean(dura),1) \n",
        "                   ]\n",
        "  \n",
        "  retornos[z][0] = x\n",
        "  out[z][0] = x\n",
        "  for j in range(len(e)) : \n",
        "        out[z][1].append(out1[j] + out2[j]+out3[j])        \n",
        "  z=z+1\n",
        "\n",
        "resumo = resumo.sort_values(by=['Exp matematica'], ascending=False)\n",
        "display(resumo.sort_values(by=['Exp matematica'], ascending=False))"
      ]
    },
    {
      "cell_type": "markdown",
      "metadata": {},
      "source": [
        "analise 1º ativo da lista"
      ]
    },
    {
      "cell_type": "code",
      "execution_count": 10,
      "metadata": {},
      "outputs": [
        {
          "name": "stdout",
          "output_type": "stream",
          "text": [
            "bt de  RAIL3\n"
          ]
        }
      ],
      "source": [
        "ativo = resumo.index[0]\n",
        "print('bt de ',ativo)"
      ]
    },
    {
      "cell_type": "code",
      "execution_count": 11,
      "metadata": {},
      "outputs": [],
      "source": [
        "entrada,saida = trades(ativo)\n",
        "entra = [datetime.strptime(x[1] , \"%d/%m/%Y\") for x in entrada]\n",
        "sai   = [datetime.strptime(x[1] , \"%d/%m/%Y\") for x in saida]"
      ]
    },
    {
      "cell_type": "code",
      "execution_count": 12,
      "metadata": {},
      "outputs": [],
      "source": [
        "posicao = pd.DataFrame(columns=['pos'], index=df.index)\n",
        "posicao.loc[entra] = 1\n",
        "posicao.loc[sai] = 0\n",
        "posicao.ffill(inplace=True)\n",
        "posicao.fillna(0,inplace=True)\n",
        "# posicao.iplot()"
      ]
    },
    {
      "cell_type": "code",
      "execution_count": 13,
      "metadata": {},
      "outputs": [
        {
          "data": {
            "application/vnd.plotly.v1+json": {
              "config": {
                "plotlyServerURL": "https://plot.ly"
              },
              "data": [
                {
                  "name": "preço",
                  "type": "scatter",
                  "x": [
                    "2023-02-27T00:00:00",
                    "2023-02-28T00:00:00",
                    "2023-03-01T00:00:00",
                    "2023-03-02T00:00:00",
                    "2023-03-03T00:00:00",
                    "2023-03-06T00:00:00",
                    "2023-03-07T00:00:00",
                    "2023-03-08T00:00:00",
                    "2023-03-09T00:00:00",
                    "2023-03-10T00:00:00",
                    "2023-03-13T00:00:00",
                    "2023-03-14T00:00:00",
                    "2023-03-15T00:00:00",
                    "2023-03-16T00:00:00",
                    "2023-03-17T00:00:00",
                    "2023-03-20T00:00:00",
                    "2023-03-21T00:00:00",
                    "2023-03-22T00:00:00",
                    "2023-03-23T00:00:00",
                    "2023-03-24T00:00:00",
                    "2023-03-27T00:00:00",
                    "2023-03-28T00:00:00",
                    "2023-03-29T00:00:00",
                    "2023-03-30T00:00:00",
                    "2023-03-31T00:00:00",
                    "2023-04-03T00:00:00",
                    "2023-04-04T00:00:00",
                    "2023-04-05T00:00:00",
                    "2023-04-06T00:00:00",
                    "2023-04-10T00:00:00",
                    "2023-04-11T00:00:00",
                    "2023-04-12T00:00:00",
                    "2023-04-13T00:00:00",
                    "2023-04-14T00:00:00",
                    "2023-04-17T00:00:00",
                    "2023-04-18T00:00:00",
                    "2023-04-19T00:00:00",
                    "2023-04-20T00:00:00",
                    "2023-04-24T00:00:00",
                    "2023-04-25T00:00:00",
                    "2023-04-26T00:00:00",
                    "2023-04-27T00:00:00",
                    "2023-04-28T00:00:00",
                    "2023-05-02T00:00:00",
                    "2023-05-03T00:00:00",
                    "2023-05-04T00:00:00",
                    "2023-05-05T00:00:00",
                    "2023-05-08T00:00:00",
                    "2023-05-09T00:00:00",
                    "2023-05-10T00:00:00",
                    "2023-05-11T00:00:00",
                    "2023-05-12T00:00:00",
                    "2023-05-15T00:00:00",
                    "2023-05-16T00:00:00",
                    "2023-05-17T00:00:00",
                    "2023-05-18T00:00:00",
                    "2023-05-19T00:00:00",
                    "2023-05-22T00:00:00",
                    "2023-05-23T00:00:00",
                    "2023-05-24T00:00:00",
                    "2023-05-25T00:00:00",
                    "2023-05-26T00:00:00",
                    "2023-05-29T00:00:00",
                    "2023-05-30T00:00:00",
                    "2023-05-31T00:00:00",
                    "2023-06-01T00:00:00",
                    "2023-06-02T00:00:00",
                    "2023-06-05T00:00:00",
                    "2023-06-06T00:00:00",
                    "2023-06-07T00:00:00",
                    "2023-06-09T00:00:00",
                    "2023-06-12T00:00:00",
                    "2023-06-13T00:00:00",
                    "2023-06-14T00:00:00",
                    "2023-06-15T00:00:00",
                    "2023-06-16T00:00:00",
                    "2023-06-19T00:00:00",
                    "2023-06-20T00:00:00",
                    "2023-06-21T00:00:00",
                    "2023-06-22T00:00:00",
                    "2023-06-23T00:00:00",
                    "2023-06-26T00:00:00",
                    "2023-06-27T00:00:00",
                    "2023-06-28T00:00:00",
                    "2023-06-29T00:00:00",
                    "2023-06-30T00:00:00",
                    "2023-07-03T00:00:00",
                    "2023-07-04T00:00:00",
                    "2023-07-05T00:00:00",
                    "2023-07-06T00:00:00",
                    "2023-07-07T00:00:00",
                    "2023-07-10T00:00:00",
                    "2023-07-11T00:00:00",
                    "2023-07-12T00:00:00",
                    "2023-07-13T00:00:00",
                    "2023-07-14T00:00:00",
                    "2023-07-17T00:00:00",
                    "2023-07-18T00:00:00",
                    "2023-07-19T00:00:00",
                    "2023-07-20T00:00:00",
                    "2023-07-21T00:00:00",
                    "2023-07-24T00:00:00",
                    "2023-07-25T00:00:00",
                    "2023-07-26T00:00:00",
                    "2023-07-27T00:00:00",
                    "2023-07-28T00:00:00",
                    "2023-07-31T00:00:00",
                    "2023-08-01T00:00:00",
                    "2023-08-02T00:00:00",
                    "2023-08-03T00:00:00",
                    "2023-08-04T00:00:00",
                    "2023-08-07T00:00:00",
                    "2023-08-08T00:00:00",
                    "2023-08-09T00:00:00",
                    "2023-08-10T00:00:00",
                    "2023-08-11T00:00:00",
                    "2023-08-14T00:00:00",
                    "2023-08-15T00:00:00",
                    "2023-08-16T00:00:00",
                    "2023-08-17T00:00:00",
                    "2023-08-18T00:00:00",
                    "2023-08-21T00:00:00",
                    "2023-08-22T00:00:00",
                    "2023-08-23T00:00:00",
                    "2023-08-24T00:00:00",
                    "2023-08-25T00:00:00",
                    "2023-08-28T00:00:00",
                    "2023-08-29T00:00:00",
                    "2023-08-30T00:00:00",
                    "2023-08-31T00:00:00",
                    "2023-09-01T00:00:00",
                    "2023-09-04T00:00:00",
                    "2023-09-05T00:00:00",
                    "2023-09-06T00:00:00",
                    "2023-09-08T00:00:00",
                    "2023-09-11T00:00:00",
                    "2023-09-12T00:00:00",
                    "2023-09-13T00:00:00",
                    "2023-09-14T00:00:00",
                    "2023-09-15T00:00:00",
                    "2023-09-18T00:00:00",
                    "2023-09-19T00:00:00",
                    "2023-09-20T00:00:00",
                    "2023-09-21T00:00:00",
                    "2023-09-22T00:00:00",
                    "2023-09-25T00:00:00",
                    "2023-09-26T00:00:00",
                    "2023-09-27T00:00:00",
                    "2023-09-28T00:00:00",
                    "2023-09-29T00:00:00",
                    "2023-10-02T00:00:00",
                    "2023-10-03T00:00:00",
                    "2023-10-04T00:00:00",
                    "2023-10-05T00:00:00",
                    "2023-10-06T00:00:00",
                    "2023-10-09T00:00:00",
                    "2023-10-10T00:00:00",
                    "2023-10-11T00:00:00",
                    "2023-10-13T00:00:00",
                    "2023-10-16T00:00:00",
                    "2023-10-17T00:00:00",
                    "2023-10-18T00:00:00",
                    "2023-10-19T00:00:00",
                    "2023-10-20T00:00:00",
                    "2023-10-23T00:00:00",
                    "2023-10-24T00:00:00",
                    "2023-10-25T00:00:00",
                    "2023-10-26T00:00:00",
                    "2023-10-27T00:00:00",
                    "2023-10-30T00:00:00",
                    "2023-10-31T00:00:00",
                    "2023-11-01T00:00:00",
                    "2023-11-03T00:00:00",
                    "2023-11-06T00:00:00",
                    "2023-11-07T00:00:00",
                    "2023-11-08T00:00:00",
                    "2023-11-09T00:00:00",
                    "2023-11-10T00:00:00",
                    "2023-11-13T00:00:00",
                    "2023-11-14T00:00:00",
                    "2023-11-16T00:00:00",
                    "2023-11-17T00:00:00",
                    "2023-11-20T00:00:00",
                    "2023-11-21T00:00:00",
                    "2023-11-22T00:00:00",
                    "2023-11-23T00:00:00",
                    "2023-11-24T00:00:00",
                    "2023-11-27T00:00:00",
                    "2023-11-28T00:00:00",
                    "2023-11-29T00:00:00",
                    "2023-11-30T00:00:00",
                    "2023-12-01T00:00:00",
                    "2023-12-04T00:00:00",
                    "2023-12-05T00:00:00",
                    "2023-12-06T00:00:00",
                    "2023-12-07T00:00:00",
                    "2023-12-08T00:00:00",
                    "2023-12-11T00:00:00",
                    "2023-12-12T00:00:00",
                    "2023-12-13T00:00:00",
                    "2023-12-14T00:00:00",
                    "2023-12-15T00:00:00",
                    "2023-12-18T00:00:00",
                    "2023-12-19T00:00:00",
                    "2023-12-20T00:00:00",
                    "2023-12-21T00:00:00",
                    "2023-12-22T00:00:00",
                    "2023-12-26T00:00:00",
                    "2023-12-27T00:00:00",
                    "2023-12-28T00:00:00",
                    "2024-01-02T00:00:00",
                    "2024-01-03T00:00:00",
                    "2024-01-04T00:00:00",
                    "2024-01-05T00:00:00",
                    "2024-01-08T00:00:00",
                    "2024-01-09T00:00:00",
                    "2024-01-10T00:00:00",
                    "2024-01-11T00:00:00",
                    "2024-01-12T00:00:00",
                    "2024-01-15T00:00:00",
                    "2024-01-16T00:00:00",
                    "2024-01-17T00:00:00",
                    "2024-01-18T00:00:00",
                    "2024-01-19T00:00:00",
                    "2024-01-22T00:00:00",
                    "2024-01-23T00:00:00",
                    "2024-01-24T00:00:00",
                    "2024-01-25T00:00:00",
                    "2024-01-26T00:00:00",
                    "2024-01-29T00:00:00",
                    "2024-01-30T00:00:00",
                    "2024-01-31T00:00:00",
                    "2024-02-01T00:00:00",
                    "2024-02-02T00:00:00",
                    "2024-02-05T00:00:00",
                    "2024-02-06T00:00:00",
                    "2024-02-07T00:00:00",
                    "2024-02-08T00:00:00",
                    "2024-02-09T00:00:00",
                    "2024-02-14T00:00:00",
                    "2024-02-15T00:00:00",
                    "2024-02-16T00:00:00",
                    "2024-02-19T00:00:00",
                    "2024-02-20T00:00:00",
                    "2024-02-21T00:00:00",
                    "2024-02-22T00:00:00",
                    "2024-02-23T00:00:00",
                    "2024-02-26T00:00:00"
                  ],
                  "xaxis": "x",
                  "y": [
                    18.0181884765625,
                    17.898597717285156,
                    17.370410919189453,
                    17.709247589111328,
                    17.6295223236084,
                    17.99825668334961,
                    18.30719757080078,
                    18.935043334960938,
                    19.014768600463867,
                    18.954975128173828,
                    18.895177841186523,
                    18.506511688232422,
                    18.426786422729492,
                    18.586238861083984,
                    18.715795516967773,
                    18.446718215942383,
                    18.506511688232422,
                    18.357025146484375,
                    17.76904296875,
                    18.087947845458984,
                    18.267333984375,
                    18.466650009155273,
                    18.63606834411621,
                    18.98487091064453,
                    18.78555679321289,
                    18.90514373779297,
                    19.144323348999023,
                    18.586238861083984,
                    18.59620475769043,
                    18.526445388793945,
                    18.97490692138672,
                    19.253948211669922,
                    19.174222946166992,
                    19.22405242919922,
                    19.63265037536621,
                    19.55292320251465,
                    19.243982315063477,
                    19.639999389648438,
                    19.75,
                    19.700000762939453,
                    19.5,
                    19.469999313354492,
                    19.700000762939453,
                    19.68000030517578,
                    19.940000534057617,
                    19.899999618530273,
                    20.950000762939453,
                    20.559999465942383,
                    20.489999771118164,
                    20.489999771118164,
                    20.84000015258789,
                    20.850000381469727,
                    20.989999771118164,
                    20.719999313354492,
                    20.81999969482422,
                    21.06999969482422,
                    21.18000030517578,
                    21.1299991607666,
                    21.010000228881836,
                    20.75,
                    20.989999771118164,
                    21,
                    20.75,
                    20.809999465942383,
                    20.81999969482422,
                    21.969999313354492,
                    22.6299991607666,
                    22.56999969482422,
                    22.93000030517578,
                    22.56999969482422,
                    22.399999618530273,
                    22.5,
                    22.579999923706055,
                    22.950000762939453,
                    22.959999084472656,
                    21.8700008392334,
                    22.1299991607666,
                    22.420000076293945,
                    22.270000457763672,
                    22.15999984741211,
                    21.81999969482422,
                    21.68000030517578,
                    21.639999389648438,
                    21.559999465942383,
                    21.8700008392334,
                    22.200000762939453,
                    22.639999389648438,
                    22.75,
                    22.8799991607666,
                    22.420000076293945,
                    22.719999313354492,
                    22.200000762939453,
                    22.219999313354492,
                    22.639999389648438,
                    22.790000915527344,
                    22.440000534057617,
                    22.670000076293945,
                    22.6299991607666,
                    22.799999237060547,
                    22.940000534057617,
                    23.350000381469727,
                    24.020000457763672,
                    24.09000015258789,
                    24,
                    23.3700008392334,
                    23.3700008392334,
                    23.239999771118164,
                    23,
                    23.040000915527344,
                    23.290000915527344,
                    23.209999084472656,
                    23.239999771118164,
                    23.31999969482422,
                    23.860000610351562,
                    23.979999542236328,
                    22.799999237060547,
                    22.84000015258789,
                    23.020000457763672,
                    22.719999313354492,
                    22.219999313354492,
                    22.270000457763672,
                    22.110000610351562,
                    22.829999923706055,
                    23.299999237060547,
                    23.1299991607666,
                    22.649999618530273,
                    22.75,
                    22.8700008392334,
                    22.6299991607666,
                    22.350000381469727,
                    22.670000076293945,
                    22.600000381469727,
                    22.079999923706055,
                    21.8700008392334,
                    22.079999923706055,
                    22.139999389648438,
                    22.760000228881836,
                    23.31999969482422,
                    23.940000534057617,
                    23.84000015258789,
                    23.739999771118164,
                    23.75,
                    23.8799991607666,
                    23.479999542236328,
                    23.43000030517578,
                    23.389999389648438,
                    22.850000381469727,
                    22.299999237060547,
                    22.780000686645508,
                    22.81999969482422,
                    22.440000534057617,
                    21.670000076293945,
                    21.719999313354492,
                    21.579999923706055,
                    21.790000915527344,
                    22.06999969482422,
                    22.93000030517578,
                    23.06999969482422,
                    22.5,
                    22.559999465942383,
                    21.90999984741211,
                    21.299999237060547,
                    21.670000076293945,
                    21.56999969482422,
                    22.43000030517578,
                    22.229999542236328,
                    22.049999237060547,
                    22.770000457763672,
                    22.100000381469727,
                    22.020000457763672,
                    22.309999465942383,
                    23,
                    23.1299991607666,
                    23.1299991607666,
                    22.899999618530273,
                    22.649999618530273,
                    22.850000381469727,
                    23.09000015258789,
                    22.799999237060547,
                    23.40999984741211,
                    23.610000610351562,
                    23.25,
                    23.559999465942383,
                    22.899999618530273,
                    22.670000076293945,
                    22.90999984741211,
                    22.559999465942383,
                    22.56999969482422,
                    22.68000030517578,
                    22.899999618530273,
                    22.899999618530273,
                    22.770000457763672,
                    22.579999923706055,
                    22.459999084472656,
                    22.549999237060547,
                    22.389999389648438,
                    22.170000076293945,
                    22.149999618530273,
                    22.329999923706055,
                    22.34000015258789,
                    22.950000762939453,
                    22.81999969482422,
                    22.209999084472656,
                    22.399999618530273,
                    22.600000381469727,
                    22.81999969482422,
                    22.899999618530273,
                    22.90999984741211,
                    23,
                    22.950000762939453,
                    22.25,
                    22.3799991607666,
                    22.399999618530273,
                    22.649999618530273,
                    23.639999389648438,
                    23.5,
                    23.809999465942383,
                    23.110000610351562,
                    23.469999313354492,
                    23.290000915527344,
                    22.770000457763672,
                    22.020000457763672,
                    21.770000457763672,
                    22.399999618530273,
                    22.280000686645508,
                    22.940000534057617,
                    22.510000228881836,
                    22.450000762939453,
                    22.639999389648438,
                    22.860000610351562,
                    22.6299991607666,
                    23.059999465942383,
                    23.020000457763672,
                    22.84000015258789,
                    22.670000076293945,
                    22.520000457763672,
                    23.459999084472656,
                    23.549999237060547,
                    24.09000015258789,
                    23.829999923706055,
                    23.889999389648438,
                    23.43000030517578,
                    23.239999771118164,
                    23.350000381469727,
                    22.989999771118164,
                    22.889999389648438,
                    22.809999465942383,
                    22.729999542236328
                  ],
                  "yaxis": "y"
                },
                {
                  "line": {
                    "color": "firebrick",
                    "dash": "dot",
                    "width": 2
                  },
                  "mode": "lines",
                  "name": "mma5",
                  "type": "scatter",
                  "x": [
                    "2023-02-27T00:00:00",
                    "2023-02-28T00:00:00",
                    "2023-03-01T00:00:00",
                    "2023-03-02T00:00:00",
                    "2023-03-03T00:00:00",
                    "2023-03-06T00:00:00",
                    "2023-03-07T00:00:00",
                    "2023-03-08T00:00:00",
                    "2023-03-09T00:00:00",
                    "2023-03-10T00:00:00",
                    "2023-03-13T00:00:00",
                    "2023-03-14T00:00:00",
                    "2023-03-15T00:00:00",
                    "2023-03-16T00:00:00",
                    "2023-03-17T00:00:00",
                    "2023-03-20T00:00:00",
                    "2023-03-21T00:00:00",
                    "2023-03-22T00:00:00",
                    "2023-03-23T00:00:00",
                    "2023-03-24T00:00:00",
                    "2023-03-27T00:00:00",
                    "2023-03-28T00:00:00",
                    "2023-03-29T00:00:00",
                    "2023-03-30T00:00:00",
                    "2023-03-31T00:00:00",
                    "2023-04-03T00:00:00",
                    "2023-04-04T00:00:00",
                    "2023-04-05T00:00:00",
                    "2023-04-06T00:00:00",
                    "2023-04-10T00:00:00",
                    "2023-04-11T00:00:00",
                    "2023-04-12T00:00:00",
                    "2023-04-13T00:00:00",
                    "2023-04-14T00:00:00",
                    "2023-04-17T00:00:00",
                    "2023-04-18T00:00:00",
                    "2023-04-19T00:00:00",
                    "2023-04-20T00:00:00",
                    "2023-04-24T00:00:00",
                    "2023-04-25T00:00:00",
                    "2023-04-26T00:00:00",
                    "2023-04-27T00:00:00",
                    "2023-04-28T00:00:00",
                    "2023-05-02T00:00:00",
                    "2023-05-03T00:00:00",
                    "2023-05-04T00:00:00",
                    "2023-05-05T00:00:00",
                    "2023-05-08T00:00:00",
                    "2023-05-09T00:00:00",
                    "2023-05-10T00:00:00",
                    "2023-05-11T00:00:00",
                    "2023-05-12T00:00:00",
                    "2023-05-15T00:00:00",
                    "2023-05-16T00:00:00",
                    "2023-05-17T00:00:00",
                    "2023-05-18T00:00:00",
                    "2023-05-19T00:00:00",
                    "2023-05-22T00:00:00",
                    "2023-05-23T00:00:00",
                    "2023-05-24T00:00:00",
                    "2023-05-25T00:00:00",
                    "2023-05-26T00:00:00",
                    "2023-05-29T00:00:00",
                    "2023-05-30T00:00:00",
                    "2023-05-31T00:00:00",
                    "2023-06-01T00:00:00",
                    "2023-06-02T00:00:00",
                    "2023-06-05T00:00:00",
                    "2023-06-06T00:00:00",
                    "2023-06-07T00:00:00",
                    "2023-06-09T00:00:00",
                    "2023-06-12T00:00:00",
                    "2023-06-13T00:00:00",
                    "2023-06-14T00:00:00",
                    "2023-06-15T00:00:00",
                    "2023-06-16T00:00:00",
                    "2023-06-19T00:00:00",
                    "2023-06-20T00:00:00",
                    "2023-06-21T00:00:00",
                    "2023-06-22T00:00:00",
                    "2023-06-23T00:00:00",
                    "2023-06-26T00:00:00",
                    "2023-06-27T00:00:00",
                    "2023-06-28T00:00:00",
                    "2023-06-29T00:00:00",
                    "2023-06-30T00:00:00",
                    "2023-07-03T00:00:00",
                    "2023-07-04T00:00:00",
                    "2023-07-05T00:00:00",
                    "2023-07-06T00:00:00",
                    "2023-07-07T00:00:00",
                    "2023-07-10T00:00:00",
                    "2023-07-11T00:00:00",
                    "2023-07-12T00:00:00",
                    "2023-07-13T00:00:00",
                    "2023-07-14T00:00:00",
                    "2023-07-17T00:00:00",
                    "2023-07-18T00:00:00",
                    "2023-07-19T00:00:00",
                    "2023-07-20T00:00:00",
                    "2023-07-21T00:00:00",
                    "2023-07-24T00:00:00",
                    "2023-07-25T00:00:00",
                    "2023-07-26T00:00:00",
                    "2023-07-27T00:00:00",
                    "2023-07-28T00:00:00",
                    "2023-07-31T00:00:00",
                    "2023-08-01T00:00:00",
                    "2023-08-02T00:00:00",
                    "2023-08-03T00:00:00",
                    "2023-08-04T00:00:00",
                    "2023-08-07T00:00:00",
                    "2023-08-08T00:00:00",
                    "2023-08-09T00:00:00",
                    "2023-08-10T00:00:00",
                    "2023-08-11T00:00:00",
                    "2023-08-14T00:00:00",
                    "2023-08-15T00:00:00",
                    "2023-08-16T00:00:00",
                    "2023-08-17T00:00:00",
                    "2023-08-18T00:00:00",
                    "2023-08-21T00:00:00",
                    "2023-08-22T00:00:00",
                    "2023-08-23T00:00:00",
                    "2023-08-24T00:00:00",
                    "2023-08-25T00:00:00",
                    "2023-08-28T00:00:00",
                    "2023-08-29T00:00:00",
                    "2023-08-30T00:00:00",
                    "2023-08-31T00:00:00",
                    "2023-09-01T00:00:00",
                    "2023-09-04T00:00:00",
                    "2023-09-05T00:00:00",
                    "2023-09-06T00:00:00",
                    "2023-09-08T00:00:00",
                    "2023-09-11T00:00:00",
                    "2023-09-12T00:00:00",
                    "2023-09-13T00:00:00",
                    "2023-09-14T00:00:00",
                    "2023-09-15T00:00:00",
                    "2023-09-18T00:00:00",
                    "2023-09-19T00:00:00",
                    "2023-09-20T00:00:00",
                    "2023-09-21T00:00:00",
                    "2023-09-22T00:00:00",
                    "2023-09-25T00:00:00",
                    "2023-09-26T00:00:00",
                    "2023-09-27T00:00:00",
                    "2023-09-28T00:00:00",
                    "2023-09-29T00:00:00",
                    "2023-10-02T00:00:00",
                    "2023-10-03T00:00:00",
                    "2023-10-04T00:00:00",
                    "2023-10-05T00:00:00",
                    "2023-10-06T00:00:00",
                    "2023-10-09T00:00:00",
                    "2023-10-10T00:00:00",
                    "2023-10-11T00:00:00",
                    "2023-10-13T00:00:00",
                    "2023-10-16T00:00:00",
                    "2023-10-17T00:00:00",
                    "2023-10-18T00:00:00",
                    "2023-10-19T00:00:00",
                    "2023-10-20T00:00:00",
                    "2023-10-23T00:00:00",
                    "2023-10-24T00:00:00",
                    "2023-10-25T00:00:00",
                    "2023-10-26T00:00:00",
                    "2023-10-27T00:00:00",
                    "2023-10-30T00:00:00",
                    "2023-10-31T00:00:00",
                    "2023-11-01T00:00:00",
                    "2023-11-03T00:00:00",
                    "2023-11-06T00:00:00",
                    "2023-11-07T00:00:00",
                    "2023-11-08T00:00:00",
                    "2023-11-09T00:00:00",
                    "2023-11-10T00:00:00",
                    "2023-11-13T00:00:00",
                    "2023-11-14T00:00:00",
                    "2023-11-16T00:00:00",
                    "2023-11-17T00:00:00",
                    "2023-11-20T00:00:00",
                    "2023-11-21T00:00:00",
                    "2023-11-22T00:00:00",
                    "2023-11-23T00:00:00",
                    "2023-11-24T00:00:00",
                    "2023-11-27T00:00:00",
                    "2023-11-28T00:00:00",
                    "2023-11-29T00:00:00",
                    "2023-11-30T00:00:00",
                    "2023-12-01T00:00:00",
                    "2023-12-04T00:00:00",
                    "2023-12-05T00:00:00",
                    "2023-12-06T00:00:00",
                    "2023-12-07T00:00:00",
                    "2023-12-08T00:00:00",
                    "2023-12-11T00:00:00",
                    "2023-12-12T00:00:00",
                    "2023-12-13T00:00:00",
                    "2023-12-14T00:00:00",
                    "2023-12-15T00:00:00",
                    "2023-12-18T00:00:00",
                    "2023-12-19T00:00:00",
                    "2023-12-20T00:00:00",
                    "2023-12-21T00:00:00",
                    "2023-12-22T00:00:00",
                    "2023-12-26T00:00:00",
                    "2023-12-27T00:00:00",
                    "2023-12-28T00:00:00",
                    "2024-01-02T00:00:00",
                    "2024-01-03T00:00:00",
                    "2024-01-04T00:00:00",
                    "2024-01-05T00:00:00",
                    "2024-01-08T00:00:00",
                    "2024-01-09T00:00:00",
                    "2024-01-10T00:00:00",
                    "2024-01-11T00:00:00",
                    "2024-01-12T00:00:00",
                    "2024-01-15T00:00:00",
                    "2024-01-16T00:00:00",
                    "2024-01-17T00:00:00",
                    "2024-01-18T00:00:00",
                    "2024-01-19T00:00:00",
                    "2024-01-22T00:00:00",
                    "2024-01-23T00:00:00",
                    "2024-01-24T00:00:00",
                    "2024-01-25T00:00:00",
                    "2024-01-26T00:00:00",
                    "2024-01-29T00:00:00",
                    "2024-01-30T00:00:00",
                    "2024-01-31T00:00:00",
                    "2024-02-01T00:00:00",
                    "2024-02-02T00:00:00",
                    "2024-02-05T00:00:00",
                    "2024-02-06T00:00:00",
                    "2024-02-07T00:00:00",
                    "2024-02-08T00:00:00",
                    "2024-02-09T00:00:00",
                    "2024-02-14T00:00:00",
                    "2024-02-15T00:00:00",
                    "2024-02-16T00:00:00",
                    "2024-02-19T00:00:00",
                    "2024-02-20T00:00:00",
                    "2024-02-21T00:00:00",
                    "2024-02-22T00:00:00",
                    "2024-02-23T00:00:00",
                    "2024-02-26T00:00:00"
                  ],
                  "xaxis": "x",
                  "y": [
                    null,
                    null,
                    null,
                    null,
                    17.725193405151366,
                    17.721207046508788,
                    17.802927017211914,
                    18.11585350036621,
                    18.37695770263672,
                    18.642048263549803,
                    18.821432495117186,
                    18.861295318603517,
                    18.759643936157225,
                    18.67393798828125,
                    18.62610206604004,
                    18.53641014099121,
                    18.53641014099121,
                    18.522457885742188,
                    18.35901870727539,
                    18.233449172973632,
                    18.197572326660158,
                    18.189599990844727,
                    18.245408630371095,
                    18.48857421875,
                    18.62809600830078,
                    18.755657958984376,
                    18.891192626953124,
                    18.88122673034668,
                    18.80349349975586,
                    18.75167121887207,
                    18.76562385559082,
                    18.787548828125,
                    18.9051456451416,
                    19.03071517944336,
                    19.251956176757812,
                    19.3675594329834,
                    19.36556625366211,
                    19.458721542358397,
                    19.563911056518556,
                    19.577381134033203,
                    19.566796493530273,
                    19.611999893188475,
                    19.62400016784668,
                    19.610000228881837,
                    19.658000183105468,
                    19.738000106811523,
                    20.034000396728516,
                    20.206000137329102,
                    20.368000030517578,
                    20.477999877929687,
                    20.665999984741212,
                    20.645999908447266,
                    20.731999969482423,
                    20.777999877929688,
                    20.8439998626709,
                    20.889999771118163,
                    20.955999755859374,
                    20.98399963378906,
                    21.04199981689453,
                    21.027999877929688,
                    21.011999893188477,
                    20.97599983215332,
                    20.9,
                    20.85999984741211,
                    20.873999786376952,
                    21.06999969482422,
                    21.39599952697754,
                    21.759999465942382,
                    22.183999633789064,
                    22.533999633789062,
                    22.61999969482422,
                    22.5939998626709,
                    22.595999908447265,
                    22.6,
                    22.677999877929686,
                    22.572000122070314,
                    22.497999954223634,
                    22.46599998474121,
                    22.329999923706055,
                    22.170000076293945,
                    22.15999984741211,
                    22.070000076293944,
                    21.913999938964842,
                    21.771999740600585,
                    21.713999938964843,
                    21.79000015258789,
                    21.981999969482423,
                    22.204000091552736,
                    22.46800003051758,
                    22.577999877929688,
                    22.681999588012694,
                    22.5939998626709,
                    22.487999725341798,
                    22.439999771118163,
                    22.513999938964844,
                    22.45800018310547,
                    22.552000045776367,
                    22.63400001525879,
                    22.665999984741212,
                    22.695999908447266,
                    22.87799987792969,
                    23.147999954223632,
                    23.440000152587892,
                    23.68000030517578,
                    23.76600036621094,
                    23.770000457763672,
                    23.61400032043457,
                    23.39600028991699,
                    23.20400047302246,
                    23.18800048828125,
                    23.1560001373291,
                    23.1560001373291,
                    23.220000076293946,
                    23.38400001525879,
                    23.521999740600585,
                    23.439999771118163,
                    23.35999984741211,
                    23.3,
                    23.071999740600585,
                    22.719999694824217,
                    22.613999938964845,
                    22.46800003051758,
                    22.429999923706056,
                    22.545999908447264,
                    22.727999877929687,
                    22.80399971008301,
                    22.931999588012694,
                    22.939999771118163,
                    22.805999755859375,
                    22.65,
                    22.654000091552735,
                    22.62400016784668,
                    22.46599998474121,
                    22.31400032043457,
                    22.260000228881836,
                    22.154000091552735,
                    22.186000061035156,
                    22.43400001525879,
                    22.84799995422363,
                    23.2,
                    23.520000076293947,
                    23.71800003051758,
                    23.829999923706055,
                    23.737999725341798,
                    23.655999755859376,
                    23.58599967956543,
                    23.405999755859376,
                    23.089999771118165,
                    22.95,
                    22.827999877929688,
                    22.638000106811525,
                    22.40200004577637,
                    22.286000061035157,
                    22.045999908447264,
                    21.84000015258789,
                    21.76599998474121,
                    22.018000030517577,
                    22.288000106811523,
                    22.472000122070312,
                    22.62599983215332,
                    22.5939998626709,
                    22.26799964904785,
                    21.987999725341798,
                    21.801999664306642,
                    21.77599983215332,
                    21.839999771118165,
                    21.989999771118164,
                    22.20999984741211,
                    22.31599998474121,
                    22.23400001525879,
                    22.25,
                    22.440000152587892,
                    22.511999893188477,
                    22.71799964904785,
                    22.89399948120117,
                    22.96199951171875,
                    22.931999588012694,
                    22.923999786376953,
                    22.857999801635742,
                    22.95999984741211,
                    23.15200004577637,
                    23.231999969482423,
                    23.32599983215332,
                    23.345999908447265,
                    23.197999954223633,
                    23.05799980163574,
                    22.91999969482422,
                    22.721999740600587,
                    22.677999877929686,
                    22.723999786376954,
                    22.721999740600587,
                    22.763999938964844,
                    22.76599998474121,
                    22.721999740600587,
                    22.65199966430664,
                    22.549999618530272,
                    22.429999542236327,
                    22.343999481201173,
                    22.317999649047852,
                    22.27599983215332,
                    22.388000106811525,
                    22.518000030517577,
                    22.529999923706054,
                    22.543999862670898,
                    22.595999908447265,
                    22.56999969482422,
                    22.58599967956543,
                    22.72599983215332,
                    22.845999908447265,
                    22.915999984741212,
                    22.802000045776367,
                    22.697999954223633,
                    22.595999908447265,
                    22.52599983215332,
                    22.663999557495117,
                    22.913999557495117,
                    23.199999618530274,
                    23.341999816894532,
                    23.505999755859374,
                    23.436000061035156,
                    23.29000015258789,
                    22.932000350952148,
                    22.66400032043457,
                    22.450000381469728,
                    22.24800033569336,
                    22.28200035095215,
                    22.38000030517578,
                    22.51600036621094,
                    22.56400032043457,
                    22.68000030517578,
                    22.618000030517578,
                    22.727999877929687,
                    22.841999816894532,
                    22.881999969482422,
                    22.8439998626709,
                    22.822000122070314,
                    22.90200004577637,
                    23.00799980163574,
                    23.25799980163574,
                    23.489999771118164,
                    23.76399955749512,
                    23.75799980163574,
                    23.695999908447266,
                    23.547999954223634,
                    23.379999923706055,
                    23.179999923706056,
                    23.055999755859375,
                    22.953999710083007
                  ],
                  "yaxis": "y"
                },
                {
                  "marker": {
                    "angle": 45,
                    "line": {
                      "color": "DarkSlateGrey",
                      "width": 2
                    },
                    "size": 12,
                    "symbol": "arrow"
                  },
                  "mode": "markers",
                  "name": "Entrada",
                  "type": "scatter",
                  "x": [
                    "2023-03-24T00:00:00",
                    "2023-06-29T00:00:00",
                    "2023-08-02T00:00:00",
                    "2023-09-27T00:00:00",
                    "2024-01-19T00:00:00"
                  ],
                  "xaxis": "x",
                  "y": [
                    18.087947845458984,
                    21.8700008392334,
                    23.040000915527344,
                    22.299999237060547,
                    22.399999618530273
                  ],
                  "yaxis": "y"
                },
                {
                  "marker": {
                    "angle": -135,
                    "line": {
                      "color": "red",
                      "width": 2
                    },
                    "size": 12,
                    "symbol": "arrow"
                  },
                  "mode": "markers",
                  "name": "Saida",
                  "type": "scatter",
                  "x": [
                    "2023-03-28T00:00:00",
                    "2023-06-30T00:00:00",
                    "2023-08-04T00:00:00",
                    "2023-10-10T00:00:00",
                    "2024-01-23T00:00:00"
                  ],
                  "xaxis": "x",
                  "y": [
                    18.466650009155273,
                    22.200000762939453,
                    23.209999084472656,
                    22.93000030517578,
                    22.940000534057617
                  ],
                  "yaxis": "y"
                },
                {
                  "name": "ifr2",
                  "type": "scatter",
                  "x": [
                    "2023-02-27T00:00:00",
                    "2023-02-28T00:00:00",
                    "2023-03-01T00:00:00",
                    "2023-03-02T00:00:00",
                    "2023-03-03T00:00:00",
                    "2023-03-06T00:00:00",
                    "2023-03-07T00:00:00",
                    "2023-03-08T00:00:00",
                    "2023-03-09T00:00:00",
                    "2023-03-10T00:00:00",
                    "2023-03-13T00:00:00",
                    "2023-03-14T00:00:00",
                    "2023-03-15T00:00:00",
                    "2023-03-16T00:00:00",
                    "2023-03-17T00:00:00",
                    "2023-03-20T00:00:00",
                    "2023-03-21T00:00:00",
                    "2023-03-22T00:00:00",
                    "2023-03-23T00:00:00",
                    "2023-03-24T00:00:00",
                    "2023-03-27T00:00:00",
                    "2023-03-28T00:00:00",
                    "2023-03-29T00:00:00",
                    "2023-03-30T00:00:00",
                    "2023-03-31T00:00:00",
                    "2023-04-03T00:00:00",
                    "2023-04-04T00:00:00",
                    "2023-04-05T00:00:00",
                    "2023-04-06T00:00:00",
                    "2023-04-10T00:00:00",
                    "2023-04-11T00:00:00",
                    "2023-04-12T00:00:00",
                    "2023-04-13T00:00:00",
                    "2023-04-14T00:00:00",
                    "2023-04-17T00:00:00",
                    "2023-04-18T00:00:00",
                    "2023-04-19T00:00:00",
                    "2023-04-20T00:00:00",
                    "2023-04-24T00:00:00",
                    "2023-04-25T00:00:00",
                    "2023-04-26T00:00:00",
                    "2023-04-27T00:00:00",
                    "2023-04-28T00:00:00",
                    "2023-05-02T00:00:00",
                    "2023-05-03T00:00:00",
                    "2023-05-04T00:00:00",
                    "2023-05-05T00:00:00",
                    "2023-05-08T00:00:00",
                    "2023-05-09T00:00:00",
                    "2023-05-10T00:00:00",
                    "2023-05-11T00:00:00",
                    "2023-05-12T00:00:00",
                    "2023-05-15T00:00:00",
                    "2023-05-16T00:00:00",
                    "2023-05-17T00:00:00",
                    "2023-05-18T00:00:00",
                    "2023-05-19T00:00:00",
                    "2023-05-22T00:00:00",
                    "2023-05-23T00:00:00",
                    "2023-05-24T00:00:00",
                    "2023-05-25T00:00:00",
                    "2023-05-26T00:00:00",
                    "2023-05-29T00:00:00",
                    "2023-05-30T00:00:00",
                    "2023-05-31T00:00:00",
                    "2023-06-01T00:00:00",
                    "2023-06-02T00:00:00",
                    "2023-06-05T00:00:00",
                    "2023-06-06T00:00:00",
                    "2023-06-07T00:00:00",
                    "2023-06-09T00:00:00",
                    "2023-06-12T00:00:00",
                    "2023-06-13T00:00:00",
                    "2023-06-14T00:00:00",
                    "2023-06-15T00:00:00",
                    "2023-06-16T00:00:00",
                    "2023-06-19T00:00:00",
                    "2023-06-20T00:00:00",
                    "2023-06-21T00:00:00",
                    "2023-06-22T00:00:00",
                    "2023-06-23T00:00:00",
                    "2023-06-26T00:00:00",
                    "2023-06-27T00:00:00",
                    "2023-06-28T00:00:00",
                    "2023-06-29T00:00:00",
                    "2023-06-30T00:00:00",
                    "2023-07-03T00:00:00",
                    "2023-07-04T00:00:00",
                    "2023-07-05T00:00:00",
                    "2023-07-06T00:00:00",
                    "2023-07-07T00:00:00",
                    "2023-07-10T00:00:00",
                    "2023-07-11T00:00:00",
                    "2023-07-12T00:00:00",
                    "2023-07-13T00:00:00",
                    "2023-07-14T00:00:00",
                    "2023-07-17T00:00:00",
                    "2023-07-18T00:00:00",
                    "2023-07-19T00:00:00",
                    "2023-07-20T00:00:00",
                    "2023-07-21T00:00:00",
                    "2023-07-24T00:00:00",
                    "2023-07-25T00:00:00",
                    "2023-07-26T00:00:00",
                    "2023-07-27T00:00:00",
                    "2023-07-28T00:00:00",
                    "2023-07-31T00:00:00",
                    "2023-08-01T00:00:00",
                    "2023-08-02T00:00:00",
                    "2023-08-03T00:00:00",
                    "2023-08-04T00:00:00",
                    "2023-08-07T00:00:00",
                    "2023-08-08T00:00:00",
                    "2023-08-09T00:00:00",
                    "2023-08-10T00:00:00",
                    "2023-08-11T00:00:00",
                    "2023-08-14T00:00:00",
                    "2023-08-15T00:00:00",
                    "2023-08-16T00:00:00",
                    "2023-08-17T00:00:00",
                    "2023-08-18T00:00:00",
                    "2023-08-21T00:00:00",
                    "2023-08-22T00:00:00",
                    "2023-08-23T00:00:00",
                    "2023-08-24T00:00:00",
                    "2023-08-25T00:00:00",
                    "2023-08-28T00:00:00",
                    "2023-08-29T00:00:00",
                    "2023-08-30T00:00:00",
                    "2023-08-31T00:00:00",
                    "2023-09-01T00:00:00",
                    "2023-09-04T00:00:00",
                    "2023-09-05T00:00:00",
                    "2023-09-06T00:00:00",
                    "2023-09-08T00:00:00",
                    "2023-09-11T00:00:00",
                    "2023-09-12T00:00:00",
                    "2023-09-13T00:00:00",
                    "2023-09-14T00:00:00",
                    "2023-09-15T00:00:00",
                    "2023-09-18T00:00:00",
                    "2023-09-19T00:00:00",
                    "2023-09-20T00:00:00",
                    "2023-09-21T00:00:00",
                    "2023-09-22T00:00:00",
                    "2023-09-25T00:00:00",
                    "2023-09-26T00:00:00",
                    "2023-09-27T00:00:00",
                    "2023-09-28T00:00:00",
                    "2023-09-29T00:00:00",
                    "2023-10-02T00:00:00",
                    "2023-10-03T00:00:00",
                    "2023-10-04T00:00:00",
                    "2023-10-05T00:00:00",
                    "2023-10-06T00:00:00",
                    "2023-10-09T00:00:00",
                    "2023-10-10T00:00:00",
                    "2023-10-11T00:00:00",
                    "2023-10-13T00:00:00",
                    "2023-10-16T00:00:00",
                    "2023-10-17T00:00:00",
                    "2023-10-18T00:00:00",
                    "2023-10-19T00:00:00",
                    "2023-10-20T00:00:00",
                    "2023-10-23T00:00:00",
                    "2023-10-24T00:00:00",
                    "2023-10-25T00:00:00",
                    "2023-10-26T00:00:00",
                    "2023-10-27T00:00:00",
                    "2023-10-30T00:00:00",
                    "2023-10-31T00:00:00",
                    "2023-11-01T00:00:00",
                    "2023-11-03T00:00:00",
                    "2023-11-06T00:00:00",
                    "2023-11-07T00:00:00",
                    "2023-11-08T00:00:00",
                    "2023-11-09T00:00:00",
                    "2023-11-10T00:00:00",
                    "2023-11-13T00:00:00",
                    "2023-11-14T00:00:00",
                    "2023-11-16T00:00:00",
                    "2023-11-17T00:00:00",
                    "2023-11-20T00:00:00",
                    "2023-11-21T00:00:00",
                    "2023-11-22T00:00:00",
                    "2023-11-23T00:00:00",
                    "2023-11-24T00:00:00",
                    "2023-11-27T00:00:00",
                    "2023-11-28T00:00:00",
                    "2023-11-29T00:00:00",
                    "2023-11-30T00:00:00",
                    "2023-12-01T00:00:00",
                    "2023-12-04T00:00:00",
                    "2023-12-05T00:00:00",
                    "2023-12-06T00:00:00",
                    "2023-12-07T00:00:00",
                    "2023-12-08T00:00:00",
                    "2023-12-11T00:00:00",
                    "2023-12-12T00:00:00",
                    "2023-12-13T00:00:00",
                    "2023-12-14T00:00:00",
                    "2023-12-15T00:00:00",
                    "2023-12-18T00:00:00",
                    "2023-12-19T00:00:00",
                    "2023-12-20T00:00:00",
                    "2023-12-21T00:00:00",
                    "2023-12-22T00:00:00",
                    "2023-12-26T00:00:00",
                    "2023-12-27T00:00:00",
                    "2023-12-28T00:00:00",
                    "2024-01-02T00:00:00",
                    "2024-01-03T00:00:00",
                    "2024-01-04T00:00:00",
                    "2024-01-05T00:00:00",
                    "2024-01-08T00:00:00",
                    "2024-01-09T00:00:00",
                    "2024-01-10T00:00:00",
                    "2024-01-11T00:00:00",
                    "2024-01-12T00:00:00",
                    "2024-01-15T00:00:00",
                    "2024-01-16T00:00:00",
                    "2024-01-17T00:00:00",
                    "2024-01-18T00:00:00",
                    "2024-01-19T00:00:00",
                    "2024-01-22T00:00:00",
                    "2024-01-23T00:00:00",
                    "2024-01-24T00:00:00",
                    "2024-01-25T00:00:00",
                    "2024-01-26T00:00:00",
                    "2024-01-29T00:00:00",
                    "2024-01-30T00:00:00",
                    "2024-01-31T00:00:00",
                    "2024-02-01T00:00:00",
                    "2024-02-02T00:00:00",
                    "2024-02-05T00:00:00",
                    "2024-02-06T00:00:00",
                    "2024-02-07T00:00:00",
                    "2024-02-08T00:00:00",
                    "2024-02-09T00:00:00",
                    "2024-02-14T00:00:00",
                    "2024-02-15T00:00:00",
                    "2024-02-16T00:00:00",
                    "2024-02-19T00:00:00",
                    "2024-02-20T00:00:00",
                    "2024-02-21T00:00:00",
                    "2024-02-22T00:00:00",
                    "2024-02-23T00:00:00",
                    "2024-02-26T00:00:00"
                  ],
                  "xaxis": "x2",
                  "y": [
                    null,
                    0,
                    0,
                    53.54,
                    42.77,
                    80,
                    90.43,
                    96.93,
                    97.38,
                    79.77,
                    58.59,
                    13.159999999999997,
                    9.980000000000004,
                    54.2,
                    74.53,
                    26.209999999999994,
                    42.71,
                    20.159999999999997,
                    3.9099999999999966,
                    48.73,
                    66.38,
                    80.95,
                    89.03,
                    96.01,
                    55.6,
                    70.5,
                    87.41,
                    23.790000000000006,
                    25.72,
                    18.989999999999995,
                    81.45,
                    90.53,
                    70.74,
                    77.02,
                    94.92,
                    72.78999999999999,
                    25.939999999999998,
                    72.05,
                    79.24,
                    64.22999999999999,
                    25.540000000000006,
                    21.629999999999995,
                    76.58,
                    68.26,
                    91.7,
                    74.72,
                    97.64,
                    58.34,
                    50.98,
                    50.98,
                    86.09,
                    86.64,
                    93.64,
                    30.989999999999995,
                    53.86,
                    82.63,
                    88.78999999999999,
                    67.15,
                    30.950000000000003,
                    9.280000000000001,
                    60.43,
                    62.21,
                    19.180000000000007,
                    39.32,
                    43.98,
                    97,
                    98.56,
                    90.03999999999999,
                    95.11,
                    47.12,
                    31.909999999999997,
                    50.65,
                    65.74000000000001,
                    91.05,
                    91.39,
                    9.75,
                    36.72,
                    62.03,
                    43.88,
                    30.700000000000003,
                    10.75,
                    7,
                    5.840000000000003,
                    3.510000000000005,
                    76.43,
                    90.97,
                    96.58,
                    97.39,
                    98.33,
                    27.760000000000005,
                    62.69,
                    23.42,
                    26.939999999999998,
                    75.07,
                    83.05,
                    33.31,
                    62.68,
                    54.36,
                    78.56,
                    88.56,
                    96.93,
                    99.1,
                    99.21,
                    74.58,
                    16.659999999999997,
                    16.659999999999997,
                    10.150000000000006,
                    4.159999999999997,
                    19.92,
                    73.8,
                    51.58,
                    60.5,
                    80.07,
                    97.41,
                    98.13,
                    15.129999999999995,
                    19.739999999999995,
                    46.06,
                    22,
                    8.030000000000001,
                    18.39,
                    10.689999999999998,
                    81.28,
                    90.78999999999999,
                    66.4,
                    26.379999999999995,
                    41.15,
                    60.29,
                    26.209999999999994,
                    11.299999999999997,
                    61.44,
                    49.26,
                    12.480000000000004,
                    7.790000000000006,
                    47.38,
                    57.74,
                    91.67,
                    96.6,
                    98.53,
                    83.28999999999999,
                    63.61,
                    65.25,
                    84.01,
                    19.439999999999998,
                    16.299999999999997,
                    12.959999999999994,
                    1.980000000000004,
                    0.730000000000004,
                    52.84,
                    56.63,
                    22.400000000000006,
                    6.489999999999995,
                    14.39,
                    9.769999999999996,
                    54.04,
                    80.09,
                    95.56,
                    96.45,
                    36.48,
                    43.83,
                    12.5,
                    5.340000000000003,
                    44.15,
                    36.14,
                    84.5,
                    62.49,
                    42.54,
                    83.83,
                    35.870000000000005,
                    31.549999999999997,
                    63.43,
                    88.63,
                    90.97,
                    90.97,
                    37,
                    16.159999999999997,
                    55.9,
                    79.37,
                    34.72,
                    80.61,
                    86.73,
                    40.61,
                    69,
                    22.730000000000004,
                    15.489999999999995,
                    49.23,
                    22.75,
                    25.049999999999997,
                    54.75,
                    82.49,
                    82.49,
                    33.68000000000001,
                    12.340000000000003,
                    6.849999999999994,
                    44.12,
                    18.209999999999994,
                    6.969999999999999,
                    6.260000000000005,
                    66.72999999999999,
                    68.95,
                    96.61,
                    70.02,
                    19.540000000000006,
                    44.48,
                    66.4,
                    82.02,
                    86.56,
                    87.36,
                    93.89,
                    59.65,
                    5.319999999999993,
                    29.25,
                    34.36,
                    76.59,
                    96.16,
                    77.77,
                    87.96000000000001,
                    28.650000000000006,
                    57.87,
                    41.05,
                    15.329999999999998,
                    5.459999999999994,
                    3.819999999999993,
                    61.74,
                    50.22,
                    83.69,
                    44.61,
                    39.46,
                    65.00999999999999,
                    82.31,
                    40.48,
                    79.48,
                    70.84,
                    35.81999999999999,
                    18.519999999999996,
                    10,
                    86.7,
                    88.57,
                    95.74,
                    59.68,
                    65.65,
                    20.069999999999993,
                    12.760000000000005,
                    38.65,
                    13.129999999999995,
                    9.61,
                    6.719999999999999,
                    4.200000000000003
                  ],
                  "yaxis": "y2"
                },
                {
                  "line": {
                    "color": "red",
                    "dash": "dot",
                    "width": 4
                  },
                  "mode": "lines",
                  "name": "ifr2=5",
                  "type": "scatter",
                  "x": [
                    "2023-02-27T00:00:00",
                    "2023-02-28T00:00:00",
                    "2023-03-01T00:00:00",
                    "2023-03-02T00:00:00",
                    "2023-03-03T00:00:00",
                    "2023-03-06T00:00:00",
                    "2023-03-07T00:00:00",
                    "2023-03-08T00:00:00",
                    "2023-03-09T00:00:00",
                    "2023-03-10T00:00:00",
                    "2023-03-13T00:00:00",
                    "2023-03-14T00:00:00",
                    "2023-03-15T00:00:00",
                    "2023-03-16T00:00:00",
                    "2023-03-17T00:00:00",
                    "2023-03-20T00:00:00",
                    "2023-03-21T00:00:00",
                    "2023-03-22T00:00:00",
                    "2023-03-23T00:00:00",
                    "2023-03-24T00:00:00",
                    "2023-03-27T00:00:00",
                    "2023-03-28T00:00:00",
                    "2023-03-29T00:00:00",
                    "2023-03-30T00:00:00",
                    "2023-03-31T00:00:00",
                    "2023-04-03T00:00:00",
                    "2023-04-04T00:00:00",
                    "2023-04-05T00:00:00",
                    "2023-04-06T00:00:00",
                    "2023-04-10T00:00:00",
                    "2023-04-11T00:00:00",
                    "2023-04-12T00:00:00",
                    "2023-04-13T00:00:00",
                    "2023-04-14T00:00:00",
                    "2023-04-17T00:00:00",
                    "2023-04-18T00:00:00",
                    "2023-04-19T00:00:00",
                    "2023-04-20T00:00:00",
                    "2023-04-24T00:00:00",
                    "2023-04-25T00:00:00",
                    "2023-04-26T00:00:00",
                    "2023-04-27T00:00:00",
                    "2023-04-28T00:00:00",
                    "2023-05-02T00:00:00",
                    "2023-05-03T00:00:00",
                    "2023-05-04T00:00:00",
                    "2023-05-05T00:00:00",
                    "2023-05-08T00:00:00",
                    "2023-05-09T00:00:00",
                    "2023-05-10T00:00:00",
                    "2023-05-11T00:00:00",
                    "2023-05-12T00:00:00",
                    "2023-05-15T00:00:00",
                    "2023-05-16T00:00:00",
                    "2023-05-17T00:00:00",
                    "2023-05-18T00:00:00",
                    "2023-05-19T00:00:00",
                    "2023-05-22T00:00:00",
                    "2023-05-23T00:00:00",
                    "2023-05-24T00:00:00",
                    "2023-05-25T00:00:00",
                    "2023-05-26T00:00:00",
                    "2023-05-29T00:00:00",
                    "2023-05-30T00:00:00",
                    "2023-05-31T00:00:00",
                    "2023-06-01T00:00:00",
                    "2023-06-02T00:00:00",
                    "2023-06-05T00:00:00",
                    "2023-06-06T00:00:00",
                    "2023-06-07T00:00:00",
                    "2023-06-09T00:00:00",
                    "2023-06-12T00:00:00",
                    "2023-06-13T00:00:00",
                    "2023-06-14T00:00:00",
                    "2023-06-15T00:00:00",
                    "2023-06-16T00:00:00",
                    "2023-06-19T00:00:00",
                    "2023-06-20T00:00:00",
                    "2023-06-21T00:00:00",
                    "2023-06-22T00:00:00",
                    "2023-06-23T00:00:00",
                    "2023-06-26T00:00:00",
                    "2023-06-27T00:00:00",
                    "2023-06-28T00:00:00",
                    "2023-06-29T00:00:00",
                    "2023-06-30T00:00:00",
                    "2023-07-03T00:00:00",
                    "2023-07-04T00:00:00",
                    "2023-07-05T00:00:00",
                    "2023-07-06T00:00:00",
                    "2023-07-07T00:00:00",
                    "2023-07-10T00:00:00",
                    "2023-07-11T00:00:00",
                    "2023-07-12T00:00:00",
                    "2023-07-13T00:00:00",
                    "2023-07-14T00:00:00",
                    "2023-07-17T00:00:00",
                    "2023-07-18T00:00:00",
                    "2023-07-19T00:00:00",
                    "2023-07-20T00:00:00",
                    "2023-07-21T00:00:00",
                    "2023-07-24T00:00:00",
                    "2023-07-25T00:00:00",
                    "2023-07-26T00:00:00",
                    "2023-07-27T00:00:00",
                    "2023-07-28T00:00:00",
                    "2023-07-31T00:00:00",
                    "2023-08-01T00:00:00",
                    "2023-08-02T00:00:00",
                    "2023-08-03T00:00:00",
                    "2023-08-04T00:00:00",
                    "2023-08-07T00:00:00",
                    "2023-08-08T00:00:00",
                    "2023-08-09T00:00:00",
                    "2023-08-10T00:00:00",
                    "2023-08-11T00:00:00",
                    "2023-08-14T00:00:00",
                    "2023-08-15T00:00:00",
                    "2023-08-16T00:00:00",
                    "2023-08-17T00:00:00",
                    "2023-08-18T00:00:00",
                    "2023-08-21T00:00:00",
                    "2023-08-22T00:00:00",
                    "2023-08-23T00:00:00",
                    "2023-08-24T00:00:00",
                    "2023-08-25T00:00:00",
                    "2023-08-28T00:00:00",
                    "2023-08-29T00:00:00",
                    "2023-08-30T00:00:00",
                    "2023-08-31T00:00:00",
                    "2023-09-01T00:00:00",
                    "2023-09-04T00:00:00",
                    "2023-09-05T00:00:00",
                    "2023-09-06T00:00:00",
                    "2023-09-08T00:00:00",
                    "2023-09-11T00:00:00",
                    "2023-09-12T00:00:00",
                    "2023-09-13T00:00:00",
                    "2023-09-14T00:00:00",
                    "2023-09-15T00:00:00",
                    "2023-09-18T00:00:00",
                    "2023-09-19T00:00:00",
                    "2023-09-20T00:00:00",
                    "2023-09-21T00:00:00",
                    "2023-09-22T00:00:00",
                    "2023-09-25T00:00:00",
                    "2023-09-26T00:00:00",
                    "2023-09-27T00:00:00",
                    "2023-09-28T00:00:00",
                    "2023-09-29T00:00:00",
                    "2023-10-02T00:00:00",
                    "2023-10-03T00:00:00",
                    "2023-10-04T00:00:00",
                    "2023-10-05T00:00:00",
                    "2023-10-06T00:00:00",
                    "2023-10-09T00:00:00",
                    "2023-10-10T00:00:00",
                    "2023-10-11T00:00:00",
                    "2023-10-13T00:00:00",
                    "2023-10-16T00:00:00",
                    "2023-10-17T00:00:00",
                    "2023-10-18T00:00:00",
                    "2023-10-19T00:00:00",
                    "2023-10-20T00:00:00",
                    "2023-10-23T00:00:00",
                    "2023-10-24T00:00:00",
                    "2023-10-25T00:00:00",
                    "2023-10-26T00:00:00",
                    "2023-10-27T00:00:00",
                    "2023-10-30T00:00:00",
                    "2023-10-31T00:00:00",
                    "2023-11-01T00:00:00",
                    "2023-11-03T00:00:00",
                    "2023-11-06T00:00:00",
                    "2023-11-07T00:00:00",
                    "2023-11-08T00:00:00",
                    "2023-11-09T00:00:00",
                    "2023-11-10T00:00:00",
                    "2023-11-13T00:00:00",
                    "2023-11-14T00:00:00",
                    "2023-11-16T00:00:00",
                    "2023-11-17T00:00:00",
                    "2023-11-20T00:00:00",
                    "2023-11-21T00:00:00",
                    "2023-11-22T00:00:00",
                    "2023-11-23T00:00:00",
                    "2023-11-24T00:00:00",
                    "2023-11-27T00:00:00",
                    "2023-11-28T00:00:00",
                    "2023-11-29T00:00:00",
                    "2023-11-30T00:00:00",
                    "2023-12-01T00:00:00",
                    "2023-12-04T00:00:00",
                    "2023-12-05T00:00:00",
                    "2023-12-06T00:00:00",
                    "2023-12-07T00:00:00",
                    "2023-12-08T00:00:00",
                    "2023-12-11T00:00:00",
                    "2023-12-12T00:00:00",
                    "2023-12-13T00:00:00",
                    "2023-12-14T00:00:00",
                    "2023-12-15T00:00:00",
                    "2023-12-18T00:00:00",
                    "2023-12-19T00:00:00",
                    "2023-12-20T00:00:00",
                    "2023-12-21T00:00:00",
                    "2023-12-22T00:00:00",
                    "2023-12-26T00:00:00",
                    "2023-12-27T00:00:00",
                    "2023-12-28T00:00:00",
                    "2024-01-02T00:00:00",
                    "2024-01-03T00:00:00",
                    "2024-01-04T00:00:00",
                    "2024-01-05T00:00:00",
                    "2024-01-08T00:00:00",
                    "2024-01-09T00:00:00",
                    "2024-01-10T00:00:00",
                    "2024-01-11T00:00:00",
                    "2024-01-12T00:00:00",
                    "2024-01-15T00:00:00",
                    "2024-01-16T00:00:00",
                    "2024-01-17T00:00:00",
                    "2024-01-18T00:00:00",
                    "2024-01-19T00:00:00",
                    "2024-01-22T00:00:00",
                    "2024-01-23T00:00:00",
                    "2024-01-24T00:00:00",
                    "2024-01-25T00:00:00",
                    "2024-01-26T00:00:00",
                    "2024-01-29T00:00:00",
                    "2024-01-30T00:00:00",
                    "2024-01-31T00:00:00",
                    "2024-02-01T00:00:00",
                    "2024-02-02T00:00:00",
                    "2024-02-05T00:00:00",
                    "2024-02-06T00:00:00",
                    "2024-02-07T00:00:00",
                    "2024-02-08T00:00:00",
                    "2024-02-09T00:00:00",
                    "2024-02-14T00:00:00",
                    "2024-02-15T00:00:00",
                    "2024-02-16T00:00:00",
                    "2024-02-19T00:00:00",
                    "2024-02-20T00:00:00",
                    "2024-02-21T00:00:00",
                    "2024-02-22T00:00:00",
                    "2024-02-23T00:00:00",
                    "2024-02-26T00:00:00"
                  ],
                  "xaxis": "x2",
                  "y": [
                    5,
                    5,
                    5,
                    5,
                    5,
                    5,
                    5,
                    5,
                    5,
                    5,
                    5,
                    5,
                    5,
                    5,
                    5,
                    5,
                    5,
                    5,
                    5,
                    5,
                    5,
                    5,
                    5,
                    5,
                    5,
                    5,
                    5,
                    5,
                    5,
                    5,
                    5,
                    5,
                    5,
                    5,
                    5,
                    5,
                    5,
                    5,
                    5,
                    5,
                    5,
                    5,
                    5,
                    5,
                    5,
                    5,
                    5,
                    5,
                    5,
                    5,
                    5,
                    5,
                    5,
                    5,
                    5,
                    5,
                    5,
                    5,
                    5,
                    5,
                    5,
                    5,
                    5,
                    5,
                    5,
                    5,
                    5,
                    5,
                    5,
                    5,
                    5,
                    5,
                    5,
                    5,
                    5,
                    5,
                    5,
                    5,
                    5,
                    5,
                    5,
                    5,
                    5,
                    5,
                    5,
                    5,
                    5,
                    5,
                    5,
                    5,
                    5,
                    5,
                    5,
                    5,
                    5,
                    5,
                    5,
                    5,
                    5,
                    5,
                    5,
                    5,
                    5,
                    5,
                    5,
                    5,
                    5,
                    5,
                    5,
                    5,
                    5,
                    5,
                    5,
                    5,
                    5,
                    5,
                    5,
                    5,
                    5,
                    5,
                    5,
                    5,
                    5,
                    5,
                    5,
                    5,
                    5,
                    5,
                    5,
                    5,
                    5,
                    5,
                    5,
                    5,
                    5,
                    5,
                    5,
                    5,
                    5,
                    5,
                    5,
                    5,
                    5,
                    5,
                    5,
                    5,
                    5,
                    5,
                    5,
                    5,
                    5,
                    5,
                    5,
                    5,
                    5,
                    5,
                    5,
                    5,
                    5,
                    5,
                    5,
                    5,
                    5,
                    5,
                    5,
                    5,
                    5,
                    5,
                    5,
                    5,
                    5,
                    5,
                    5,
                    5,
                    5,
                    5,
                    5,
                    5,
                    5,
                    5,
                    5,
                    5,
                    5,
                    5,
                    5,
                    5,
                    5,
                    5,
                    5,
                    5,
                    5,
                    5,
                    5,
                    5,
                    5,
                    5,
                    5,
                    5,
                    5,
                    5,
                    5,
                    5,
                    5,
                    5,
                    5,
                    5,
                    5,
                    5,
                    5,
                    5,
                    5,
                    5,
                    5,
                    5,
                    5,
                    5,
                    5,
                    5,
                    5,
                    5,
                    5,
                    5,
                    5,
                    5,
                    5,
                    5,
                    5,
                    5,
                    5,
                    5,
                    5,
                    5,
                    5,
                    5,
                    5,
                    5,
                    5,
                    5,
                    5,
                    5,
                    5,
                    5,
                    5,
                    5,
                    5,
                    5,
                    5,
                    5
                  ],
                  "yaxis": "y2"
                },
                {
                  "mode": "lines",
                  "name": "posição",
                  "type": "scatter",
                  "x": [
                    "2023-02-27T00:00:00",
                    "2023-02-28T00:00:00",
                    "2023-03-01T00:00:00",
                    "2023-03-02T00:00:00",
                    "2023-03-03T00:00:00",
                    "2023-03-06T00:00:00",
                    "2023-03-07T00:00:00",
                    "2023-03-08T00:00:00",
                    "2023-03-09T00:00:00",
                    "2023-03-10T00:00:00",
                    "2023-03-13T00:00:00",
                    "2023-03-14T00:00:00",
                    "2023-03-15T00:00:00",
                    "2023-03-16T00:00:00",
                    "2023-03-17T00:00:00",
                    "2023-03-20T00:00:00",
                    "2023-03-21T00:00:00",
                    "2023-03-22T00:00:00",
                    "2023-03-23T00:00:00",
                    "2023-03-24T00:00:00",
                    "2023-03-27T00:00:00",
                    "2023-03-28T00:00:00",
                    "2023-03-29T00:00:00",
                    "2023-03-30T00:00:00",
                    "2023-03-31T00:00:00",
                    "2023-04-03T00:00:00",
                    "2023-04-04T00:00:00",
                    "2023-04-05T00:00:00",
                    "2023-04-06T00:00:00",
                    "2023-04-10T00:00:00",
                    "2023-04-11T00:00:00",
                    "2023-04-12T00:00:00",
                    "2023-04-13T00:00:00",
                    "2023-04-14T00:00:00",
                    "2023-04-17T00:00:00",
                    "2023-04-18T00:00:00",
                    "2023-04-19T00:00:00",
                    "2023-04-20T00:00:00",
                    "2023-04-24T00:00:00",
                    "2023-04-25T00:00:00",
                    "2023-04-26T00:00:00",
                    "2023-04-27T00:00:00",
                    "2023-04-28T00:00:00",
                    "2023-05-02T00:00:00",
                    "2023-05-03T00:00:00",
                    "2023-05-04T00:00:00",
                    "2023-05-05T00:00:00",
                    "2023-05-08T00:00:00",
                    "2023-05-09T00:00:00",
                    "2023-05-10T00:00:00",
                    "2023-05-11T00:00:00",
                    "2023-05-12T00:00:00",
                    "2023-05-15T00:00:00",
                    "2023-05-16T00:00:00",
                    "2023-05-17T00:00:00",
                    "2023-05-18T00:00:00",
                    "2023-05-19T00:00:00",
                    "2023-05-22T00:00:00",
                    "2023-05-23T00:00:00",
                    "2023-05-24T00:00:00",
                    "2023-05-25T00:00:00",
                    "2023-05-26T00:00:00",
                    "2023-05-29T00:00:00",
                    "2023-05-30T00:00:00",
                    "2023-05-31T00:00:00",
                    "2023-06-01T00:00:00",
                    "2023-06-02T00:00:00",
                    "2023-06-05T00:00:00",
                    "2023-06-06T00:00:00",
                    "2023-06-07T00:00:00",
                    "2023-06-09T00:00:00",
                    "2023-06-12T00:00:00",
                    "2023-06-13T00:00:00",
                    "2023-06-14T00:00:00",
                    "2023-06-15T00:00:00",
                    "2023-06-16T00:00:00",
                    "2023-06-19T00:00:00",
                    "2023-06-20T00:00:00",
                    "2023-06-21T00:00:00",
                    "2023-06-22T00:00:00",
                    "2023-06-23T00:00:00",
                    "2023-06-26T00:00:00",
                    "2023-06-27T00:00:00",
                    "2023-06-28T00:00:00",
                    "2023-06-29T00:00:00",
                    "2023-06-30T00:00:00",
                    "2023-07-03T00:00:00",
                    "2023-07-04T00:00:00",
                    "2023-07-05T00:00:00",
                    "2023-07-06T00:00:00",
                    "2023-07-07T00:00:00",
                    "2023-07-10T00:00:00",
                    "2023-07-11T00:00:00",
                    "2023-07-12T00:00:00",
                    "2023-07-13T00:00:00",
                    "2023-07-14T00:00:00",
                    "2023-07-17T00:00:00",
                    "2023-07-18T00:00:00",
                    "2023-07-19T00:00:00",
                    "2023-07-20T00:00:00",
                    "2023-07-21T00:00:00",
                    "2023-07-24T00:00:00",
                    "2023-07-25T00:00:00",
                    "2023-07-26T00:00:00",
                    "2023-07-27T00:00:00",
                    "2023-07-28T00:00:00",
                    "2023-07-31T00:00:00",
                    "2023-08-01T00:00:00",
                    "2023-08-02T00:00:00",
                    "2023-08-03T00:00:00",
                    "2023-08-04T00:00:00",
                    "2023-08-07T00:00:00",
                    "2023-08-08T00:00:00",
                    "2023-08-09T00:00:00",
                    "2023-08-10T00:00:00",
                    "2023-08-11T00:00:00",
                    "2023-08-14T00:00:00",
                    "2023-08-15T00:00:00",
                    "2023-08-16T00:00:00",
                    "2023-08-17T00:00:00",
                    "2023-08-18T00:00:00",
                    "2023-08-21T00:00:00",
                    "2023-08-22T00:00:00",
                    "2023-08-23T00:00:00",
                    "2023-08-24T00:00:00",
                    "2023-08-25T00:00:00",
                    "2023-08-28T00:00:00",
                    "2023-08-29T00:00:00",
                    "2023-08-30T00:00:00",
                    "2023-08-31T00:00:00",
                    "2023-09-01T00:00:00",
                    "2023-09-04T00:00:00",
                    "2023-09-05T00:00:00",
                    "2023-09-06T00:00:00",
                    "2023-09-08T00:00:00",
                    "2023-09-11T00:00:00",
                    "2023-09-12T00:00:00",
                    "2023-09-13T00:00:00",
                    "2023-09-14T00:00:00",
                    "2023-09-15T00:00:00",
                    "2023-09-18T00:00:00",
                    "2023-09-19T00:00:00",
                    "2023-09-20T00:00:00",
                    "2023-09-21T00:00:00",
                    "2023-09-22T00:00:00",
                    "2023-09-25T00:00:00",
                    "2023-09-26T00:00:00",
                    "2023-09-27T00:00:00",
                    "2023-09-28T00:00:00",
                    "2023-09-29T00:00:00",
                    "2023-10-02T00:00:00",
                    "2023-10-03T00:00:00",
                    "2023-10-04T00:00:00",
                    "2023-10-05T00:00:00",
                    "2023-10-06T00:00:00",
                    "2023-10-09T00:00:00",
                    "2023-10-10T00:00:00",
                    "2023-10-11T00:00:00",
                    "2023-10-13T00:00:00",
                    "2023-10-16T00:00:00",
                    "2023-10-17T00:00:00",
                    "2023-10-18T00:00:00",
                    "2023-10-19T00:00:00",
                    "2023-10-20T00:00:00",
                    "2023-10-23T00:00:00",
                    "2023-10-24T00:00:00",
                    "2023-10-25T00:00:00",
                    "2023-10-26T00:00:00",
                    "2023-10-27T00:00:00",
                    "2023-10-30T00:00:00",
                    "2023-10-31T00:00:00",
                    "2023-11-01T00:00:00",
                    "2023-11-03T00:00:00",
                    "2023-11-06T00:00:00",
                    "2023-11-07T00:00:00",
                    "2023-11-08T00:00:00",
                    "2023-11-09T00:00:00",
                    "2023-11-10T00:00:00",
                    "2023-11-13T00:00:00",
                    "2023-11-14T00:00:00",
                    "2023-11-16T00:00:00",
                    "2023-11-17T00:00:00",
                    "2023-11-20T00:00:00",
                    "2023-11-21T00:00:00",
                    "2023-11-22T00:00:00",
                    "2023-11-23T00:00:00",
                    "2023-11-24T00:00:00",
                    "2023-11-27T00:00:00",
                    "2023-11-28T00:00:00",
                    "2023-11-29T00:00:00",
                    "2023-11-30T00:00:00",
                    "2023-12-01T00:00:00",
                    "2023-12-04T00:00:00",
                    "2023-12-05T00:00:00",
                    "2023-12-06T00:00:00",
                    "2023-12-07T00:00:00",
                    "2023-12-08T00:00:00",
                    "2023-12-11T00:00:00",
                    "2023-12-12T00:00:00",
                    "2023-12-13T00:00:00",
                    "2023-12-14T00:00:00",
                    "2023-12-15T00:00:00",
                    "2023-12-18T00:00:00",
                    "2023-12-19T00:00:00",
                    "2023-12-20T00:00:00",
                    "2023-12-21T00:00:00",
                    "2023-12-22T00:00:00",
                    "2023-12-26T00:00:00",
                    "2023-12-27T00:00:00",
                    "2023-12-28T00:00:00",
                    "2024-01-02T00:00:00",
                    "2024-01-03T00:00:00",
                    "2024-01-04T00:00:00",
                    "2024-01-05T00:00:00",
                    "2024-01-08T00:00:00",
                    "2024-01-09T00:00:00",
                    "2024-01-10T00:00:00",
                    "2024-01-11T00:00:00",
                    "2024-01-12T00:00:00",
                    "2024-01-15T00:00:00",
                    "2024-01-16T00:00:00",
                    "2024-01-17T00:00:00",
                    "2024-01-18T00:00:00",
                    "2024-01-19T00:00:00",
                    "2024-01-22T00:00:00",
                    "2024-01-23T00:00:00",
                    "2024-01-24T00:00:00",
                    "2024-01-25T00:00:00",
                    "2024-01-26T00:00:00",
                    "2024-01-29T00:00:00",
                    "2024-01-30T00:00:00",
                    "2024-01-31T00:00:00",
                    "2024-02-01T00:00:00",
                    "2024-02-02T00:00:00",
                    "2024-02-05T00:00:00",
                    "2024-02-06T00:00:00",
                    "2024-02-07T00:00:00",
                    "2024-02-08T00:00:00",
                    "2024-02-09T00:00:00",
                    "2024-02-14T00:00:00",
                    "2024-02-15T00:00:00",
                    "2024-02-16T00:00:00",
                    "2024-02-19T00:00:00",
                    "2024-02-20T00:00:00",
                    "2024-02-21T00:00:00",
                    "2024-02-22T00:00:00",
                    "2024-02-23T00:00:00",
                    "2024-02-26T00:00:00"
                  ],
                  "xaxis": "x3",
                  "y": [
                    0,
                    0,
                    0,
                    0,
                    0,
                    0,
                    0,
                    0,
                    0,
                    0,
                    0,
                    0,
                    0,
                    0,
                    0,
                    0,
                    0,
                    0,
                    0,
                    1,
                    1,
                    0,
                    0,
                    0,
                    0,
                    0,
                    0,
                    0,
                    0,
                    0,
                    0,
                    0,
                    0,
                    0,
                    0,
                    0,
                    0,
                    0,
                    0,
                    0,
                    0,
                    0,
                    0,
                    0,
                    0,
                    0,
                    0,
                    0,
                    0,
                    0,
                    0,
                    0,
                    0,
                    0,
                    0,
                    0,
                    0,
                    0,
                    0,
                    0,
                    0,
                    0,
                    0,
                    0,
                    0,
                    0,
                    0,
                    0,
                    0,
                    0,
                    0,
                    0,
                    0,
                    0,
                    0,
                    0,
                    0,
                    0,
                    0,
                    0,
                    0,
                    0,
                    0,
                    0,
                    1,
                    0,
                    0,
                    0,
                    0,
                    0,
                    0,
                    0,
                    0,
                    0,
                    0,
                    0,
                    0,
                    0,
                    0,
                    0,
                    0,
                    0,
                    0,
                    0,
                    0,
                    0,
                    0,
                    0,
                    1,
                    1,
                    0,
                    0,
                    0,
                    0,
                    0,
                    0,
                    0,
                    0,
                    0,
                    0,
                    0,
                    0,
                    0,
                    0,
                    0,
                    0,
                    0,
                    0,
                    0,
                    0,
                    0,
                    0,
                    0,
                    0,
                    0,
                    0,
                    0,
                    0,
                    0,
                    0,
                    0,
                    0,
                    0,
                    0,
                    0,
                    0,
                    0,
                    1,
                    1,
                    1,
                    1,
                    1,
                    1,
                    1,
                    1,
                    1,
                    0,
                    0,
                    0,
                    0,
                    0,
                    0,
                    0,
                    0,
                    0,
                    0,
                    0,
                    0,
                    0,
                    0,
                    0,
                    0,
                    0,
                    0,
                    0,
                    0,
                    0,
                    0,
                    0,
                    0,
                    0,
                    0,
                    0,
                    0,
                    0,
                    0,
                    0,
                    0,
                    0,
                    0,
                    0,
                    0,
                    0,
                    0,
                    0,
                    0,
                    0,
                    0,
                    0,
                    0,
                    0,
                    0,
                    0,
                    0,
                    0,
                    0,
                    0,
                    0,
                    0,
                    0,
                    0,
                    0,
                    0,
                    0,
                    0,
                    0,
                    0,
                    0,
                    0,
                    0,
                    0,
                    0,
                    0,
                    1,
                    1,
                    0,
                    0,
                    0,
                    0,
                    0,
                    0,
                    0,
                    0,
                    0,
                    0,
                    0,
                    0,
                    0,
                    0,
                    0,
                    0,
                    0,
                    0,
                    0,
                    0,
                    0,
                    0,
                    0
                  ],
                  "yaxis": "y3"
                }
              ],
              "layout": {
                "template": {
                  "data": {
                    "bar": [
                      {
                        "error_x": {
                          "color": "#2a3f5f"
                        },
                        "error_y": {
                          "color": "#2a3f5f"
                        },
                        "marker": {
                          "line": {
                            "color": "#E5ECF6",
                            "width": 0.5
                          },
                          "pattern": {
                            "fillmode": "overlay",
                            "size": 10,
                            "solidity": 0.2
                          }
                        },
                        "type": "bar"
                      }
                    ],
                    "barpolar": [
                      {
                        "marker": {
                          "line": {
                            "color": "#E5ECF6",
                            "width": 0.5
                          },
                          "pattern": {
                            "fillmode": "overlay",
                            "size": 10,
                            "solidity": 0.2
                          }
                        },
                        "type": "barpolar"
                      }
                    ],
                    "carpet": [
                      {
                        "aaxis": {
                          "endlinecolor": "#2a3f5f",
                          "gridcolor": "white",
                          "linecolor": "white",
                          "minorgridcolor": "white",
                          "startlinecolor": "#2a3f5f"
                        },
                        "baxis": {
                          "endlinecolor": "#2a3f5f",
                          "gridcolor": "white",
                          "linecolor": "white",
                          "minorgridcolor": "white",
                          "startlinecolor": "#2a3f5f"
                        },
                        "type": "carpet"
                      }
                    ],
                    "choropleth": [
                      {
                        "colorbar": {
                          "outlinewidth": 0,
                          "ticks": ""
                        },
                        "type": "choropleth"
                      }
                    ],
                    "contour": [
                      {
                        "colorbar": {
                          "outlinewidth": 0,
                          "ticks": ""
                        },
                        "colorscale": [
                          [
                            0,
                            "#0d0887"
                          ],
                          [
                            0.1111111111111111,
                            "#46039f"
                          ],
                          [
                            0.2222222222222222,
                            "#7201a8"
                          ],
                          [
                            0.3333333333333333,
                            "#9c179e"
                          ],
                          [
                            0.4444444444444444,
                            "#bd3786"
                          ],
                          [
                            0.5555555555555556,
                            "#d8576b"
                          ],
                          [
                            0.6666666666666666,
                            "#ed7953"
                          ],
                          [
                            0.7777777777777778,
                            "#fb9f3a"
                          ],
                          [
                            0.8888888888888888,
                            "#fdca26"
                          ],
                          [
                            1,
                            "#f0f921"
                          ]
                        ],
                        "type": "contour"
                      }
                    ],
                    "contourcarpet": [
                      {
                        "colorbar": {
                          "outlinewidth": 0,
                          "ticks": ""
                        },
                        "type": "contourcarpet"
                      }
                    ],
                    "heatmap": [
                      {
                        "colorbar": {
                          "outlinewidth": 0,
                          "ticks": ""
                        },
                        "colorscale": [
                          [
                            0,
                            "#0d0887"
                          ],
                          [
                            0.1111111111111111,
                            "#46039f"
                          ],
                          [
                            0.2222222222222222,
                            "#7201a8"
                          ],
                          [
                            0.3333333333333333,
                            "#9c179e"
                          ],
                          [
                            0.4444444444444444,
                            "#bd3786"
                          ],
                          [
                            0.5555555555555556,
                            "#d8576b"
                          ],
                          [
                            0.6666666666666666,
                            "#ed7953"
                          ],
                          [
                            0.7777777777777778,
                            "#fb9f3a"
                          ],
                          [
                            0.8888888888888888,
                            "#fdca26"
                          ],
                          [
                            1,
                            "#f0f921"
                          ]
                        ],
                        "type": "heatmap"
                      }
                    ],
                    "heatmapgl": [
                      {
                        "colorbar": {
                          "outlinewidth": 0,
                          "ticks": ""
                        },
                        "colorscale": [
                          [
                            0,
                            "#0d0887"
                          ],
                          [
                            0.1111111111111111,
                            "#46039f"
                          ],
                          [
                            0.2222222222222222,
                            "#7201a8"
                          ],
                          [
                            0.3333333333333333,
                            "#9c179e"
                          ],
                          [
                            0.4444444444444444,
                            "#bd3786"
                          ],
                          [
                            0.5555555555555556,
                            "#d8576b"
                          ],
                          [
                            0.6666666666666666,
                            "#ed7953"
                          ],
                          [
                            0.7777777777777778,
                            "#fb9f3a"
                          ],
                          [
                            0.8888888888888888,
                            "#fdca26"
                          ],
                          [
                            1,
                            "#f0f921"
                          ]
                        ],
                        "type": "heatmapgl"
                      }
                    ],
                    "histogram": [
                      {
                        "marker": {
                          "pattern": {
                            "fillmode": "overlay",
                            "size": 10,
                            "solidity": 0.2
                          }
                        },
                        "type": "histogram"
                      }
                    ],
                    "histogram2d": [
                      {
                        "colorbar": {
                          "outlinewidth": 0,
                          "ticks": ""
                        },
                        "colorscale": [
                          [
                            0,
                            "#0d0887"
                          ],
                          [
                            0.1111111111111111,
                            "#46039f"
                          ],
                          [
                            0.2222222222222222,
                            "#7201a8"
                          ],
                          [
                            0.3333333333333333,
                            "#9c179e"
                          ],
                          [
                            0.4444444444444444,
                            "#bd3786"
                          ],
                          [
                            0.5555555555555556,
                            "#d8576b"
                          ],
                          [
                            0.6666666666666666,
                            "#ed7953"
                          ],
                          [
                            0.7777777777777778,
                            "#fb9f3a"
                          ],
                          [
                            0.8888888888888888,
                            "#fdca26"
                          ],
                          [
                            1,
                            "#f0f921"
                          ]
                        ],
                        "type": "histogram2d"
                      }
                    ],
                    "histogram2dcontour": [
                      {
                        "colorbar": {
                          "outlinewidth": 0,
                          "ticks": ""
                        },
                        "colorscale": [
                          [
                            0,
                            "#0d0887"
                          ],
                          [
                            0.1111111111111111,
                            "#46039f"
                          ],
                          [
                            0.2222222222222222,
                            "#7201a8"
                          ],
                          [
                            0.3333333333333333,
                            "#9c179e"
                          ],
                          [
                            0.4444444444444444,
                            "#bd3786"
                          ],
                          [
                            0.5555555555555556,
                            "#d8576b"
                          ],
                          [
                            0.6666666666666666,
                            "#ed7953"
                          ],
                          [
                            0.7777777777777778,
                            "#fb9f3a"
                          ],
                          [
                            0.8888888888888888,
                            "#fdca26"
                          ],
                          [
                            1,
                            "#f0f921"
                          ]
                        ],
                        "type": "histogram2dcontour"
                      }
                    ],
                    "mesh3d": [
                      {
                        "colorbar": {
                          "outlinewidth": 0,
                          "ticks": ""
                        },
                        "type": "mesh3d"
                      }
                    ],
                    "parcoords": [
                      {
                        "line": {
                          "colorbar": {
                            "outlinewidth": 0,
                            "ticks": ""
                          }
                        },
                        "type": "parcoords"
                      }
                    ],
                    "pie": [
                      {
                        "automargin": true,
                        "type": "pie"
                      }
                    ],
                    "scatter": [
                      {
                        "fillpattern": {
                          "fillmode": "overlay",
                          "size": 10,
                          "solidity": 0.2
                        },
                        "type": "scatter"
                      }
                    ],
                    "scatter3d": [
                      {
                        "line": {
                          "colorbar": {
                            "outlinewidth": 0,
                            "ticks": ""
                          }
                        },
                        "marker": {
                          "colorbar": {
                            "outlinewidth": 0,
                            "ticks": ""
                          }
                        },
                        "type": "scatter3d"
                      }
                    ],
                    "scattercarpet": [
                      {
                        "marker": {
                          "colorbar": {
                            "outlinewidth": 0,
                            "ticks": ""
                          }
                        },
                        "type": "scattercarpet"
                      }
                    ],
                    "scattergeo": [
                      {
                        "marker": {
                          "colorbar": {
                            "outlinewidth": 0,
                            "ticks": ""
                          }
                        },
                        "type": "scattergeo"
                      }
                    ],
                    "scattergl": [
                      {
                        "marker": {
                          "colorbar": {
                            "outlinewidth": 0,
                            "ticks": ""
                          }
                        },
                        "type": "scattergl"
                      }
                    ],
                    "scattermapbox": [
                      {
                        "marker": {
                          "colorbar": {
                            "outlinewidth": 0,
                            "ticks": ""
                          }
                        },
                        "type": "scattermapbox"
                      }
                    ],
                    "scatterpolar": [
                      {
                        "marker": {
                          "colorbar": {
                            "outlinewidth": 0,
                            "ticks": ""
                          }
                        },
                        "type": "scatterpolar"
                      }
                    ],
                    "scatterpolargl": [
                      {
                        "marker": {
                          "colorbar": {
                            "outlinewidth": 0,
                            "ticks": ""
                          }
                        },
                        "type": "scatterpolargl"
                      }
                    ],
                    "scatterternary": [
                      {
                        "marker": {
                          "colorbar": {
                            "outlinewidth": 0,
                            "ticks": ""
                          }
                        },
                        "type": "scatterternary"
                      }
                    ],
                    "surface": [
                      {
                        "colorbar": {
                          "outlinewidth": 0,
                          "ticks": ""
                        },
                        "colorscale": [
                          [
                            0,
                            "#0d0887"
                          ],
                          [
                            0.1111111111111111,
                            "#46039f"
                          ],
                          [
                            0.2222222222222222,
                            "#7201a8"
                          ],
                          [
                            0.3333333333333333,
                            "#9c179e"
                          ],
                          [
                            0.4444444444444444,
                            "#bd3786"
                          ],
                          [
                            0.5555555555555556,
                            "#d8576b"
                          ],
                          [
                            0.6666666666666666,
                            "#ed7953"
                          ],
                          [
                            0.7777777777777778,
                            "#fb9f3a"
                          ],
                          [
                            0.8888888888888888,
                            "#fdca26"
                          ],
                          [
                            1,
                            "#f0f921"
                          ]
                        ],
                        "type": "surface"
                      }
                    ],
                    "table": [
                      {
                        "cells": {
                          "fill": {
                            "color": "#EBF0F8"
                          },
                          "line": {
                            "color": "white"
                          }
                        },
                        "header": {
                          "fill": {
                            "color": "#C8D4E3"
                          },
                          "line": {
                            "color": "white"
                          }
                        },
                        "type": "table"
                      }
                    ]
                  },
                  "layout": {
                    "annotationdefaults": {
                      "arrowcolor": "#2a3f5f",
                      "arrowhead": 0,
                      "arrowwidth": 1
                    },
                    "autotypenumbers": "strict",
                    "coloraxis": {
                      "colorbar": {
                        "outlinewidth": 0,
                        "ticks": ""
                      }
                    },
                    "colorscale": {
                      "diverging": [
                        [
                          0,
                          "#8e0152"
                        ],
                        [
                          0.1,
                          "#c51b7d"
                        ],
                        [
                          0.2,
                          "#de77ae"
                        ],
                        [
                          0.3,
                          "#f1b6da"
                        ],
                        [
                          0.4,
                          "#fde0ef"
                        ],
                        [
                          0.5,
                          "#f7f7f7"
                        ],
                        [
                          0.6,
                          "#e6f5d0"
                        ],
                        [
                          0.7,
                          "#b8e186"
                        ],
                        [
                          0.8,
                          "#7fbc41"
                        ],
                        [
                          0.9,
                          "#4d9221"
                        ],
                        [
                          1,
                          "#276419"
                        ]
                      ],
                      "sequential": [
                        [
                          0,
                          "#0d0887"
                        ],
                        [
                          0.1111111111111111,
                          "#46039f"
                        ],
                        [
                          0.2222222222222222,
                          "#7201a8"
                        ],
                        [
                          0.3333333333333333,
                          "#9c179e"
                        ],
                        [
                          0.4444444444444444,
                          "#bd3786"
                        ],
                        [
                          0.5555555555555556,
                          "#d8576b"
                        ],
                        [
                          0.6666666666666666,
                          "#ed7953"
                        ],
                        [
                          0.7777777777777778,
                          "#fb9f3a"
                        ],
                        [
                          0.8888888888888888,
                          "#fdca26"
                        ],
                        [
                          1,
                          "#f0f921"
                        ]
                      ],
                      "sequentialminus": [
                        [
                          0,
                          "#0d0887"
                        ],
                        [
                          0.1111111111111111,
                          "#46039f"
                        ],
                        [
                          0.2222222222222222,
                          "#7201a8"
                        ],
                        [
                          0.3333333333333333,
                          "#9c179e"
                        ],
                        [
                          0.4444444444444444,
                          "#bd3786"
                        ],
                        [
                          0.5555555555555556,
                          "#d8576b"
                        ],
                        [
                          0.6666666666666666,
                          "#ed7953"
                        ],
                        [
                          0.7777777777777778,
                          "#fb9f3a"
                        ],
                        [
                          0.8888888888888888,
                          "#fdca26"
                        ],
                        [
                          1,
                          "#f0f921"
                        ]
                      ]
                    },
                    "colorway": [
                      "#636efa",
                      "#EF553B",
                      "#00cc96",
                      "#ab63fa",
                      "#FFA15A",
                      "#19d3f3",
                      "#FF6692",
                      "#B6E880",
                      "#FF97FF",
                      "#FECB52"
                    ],
                    "font": {
                      "color": "#2a3f5f"
                    },
                    "geo": {
                      "bgcolor": "white",
                      "lakecolor": "white",
                      "landcolor": "#E5ECF6",
                      "showlakes": true,
                      "showland": true,
                      "subunitcolor": "white"
                    },
                    "hoverlabel": {
                      "align": "left"
                    },
                    "hovermode": "closest",
                    "mapbox": {
                      "style": "light"
                    },
                    "paper_bgcolor": "white",
                    "plot_bgcolor": "#E5ECF6",
                    "polar": {
                      "angularaxis": {
                        "gridcolor": "white",
                        "linecolor": "white",
                        "ticks": ""
                      },
                      "bgcolor": "#E5ECF6",
                      "radialaxis": {
                        "gridcolor": "white",
                        "linecolor": "white",
                        "ticks": ""
                      }
                    },
                    "scene": {
                      "xaxis": {
                        "backgroundcolor": "#E5ECF6",
                        "gridcolor": "white",
                        "gridwidth": 2,
                        "linecolor": "white",
                        "showbackground": true,
                        "ticks": "",
                        "zerolinecolor": "white"
                      },
                      "yaxis": {
                        "backgroundcolor": "#E5ECF6",
                        "gridcolor": "white",
                        "gridwidth": 2,
                        "linecolor": "white",
                        "showbackground": true,
                        "ticks": "",
                        "zerolinecolor": "white"
                      },
                      "zaxis": {
                        "backgroundcolor": "#E5ECF6",
                        "gridcolor": "white",
                        "gridwidth": 2,
                        "linecolor": "white",
                        "showbackground": true,
                        "ticks": "",
                        "zerolinecolor": "white"
                      }
                    },
                    "shapedefaults": {
                      "line": {
                        "color": "#2a3f5f"
                      }
                    },
                    "ternary": {
                      "aaxis": {
                        "gridcolor": "white",
                        "linecolor": "white",
                        "ticks": ""
                      },
                      "baxis": {
                        "gridcolor": "white",
                        "linecolor": "white",
                        "ticks": ""
                      },
                      "bgcolor": "#E5ECF6",
                      "caxis": {
                        "gridcolor": "white",
                        "linecolor": "white",
                        "ticks": ""
                      }
                    },
                    "title": {
                      "x": 0.05
                    },
                    "xaxis": {
                      "automargin": true,
                      "gridcolor": "white",
                      "linecolor": "white",
                      "ticks": "",
                      "title": {
                        "standoff": 15
                      },
                      "zerolinecolor": "white",
                      "zerolinewidth": 2
                    },
                    "yaxis": {
                      "automargin": true,
                      "gridcolor": "white",
                      "linecolor": "white",
                      "ticks": "",
                      "title": {
                        "standoff": 15
                      },
                      "zerolinecolor": "white",
                      "zerolinewidth": 2
                    }
                  }
                },
                "xaxis": {
                  "anchor": "y",
                  "domain": [
                    0,
                    1
                  ]
                },
                "xaxis2": {
                  "anchor": "y2",
                  "domain": [
                    0,
                    1
                  ]
                },
                "xaxis3": {
                  "anchor": "y3",
                  "domain": [
                    0,
                    1
                  ]
                },
                "yaxis": {
                  "anchor": "x",
                  "domain": [
                    0.7333333333333333,
                    1
                  ]
                },
                "yaxis2": {
                  "anchor": "x2",
                  "domain": [
                    0.36666666666666664,
                    0.6333333333333333
                  ]
                },
                "yaxis3": {
                  "anchor": "x3",
                  "domain": [
                    0,
                    0.26666666666666666
                  ]
                }
              }
            },
            "text/html": [
              "<div>                            <div id=\"424a3ae1-0a4a-41e6-ab95-8ba54bb04690\" class=\"plotly-graph-div\" style=\"height:525px; width:100%;\"></div>            <script type=\"text/javascript\">                require([\"plotly\"], function(Plotly) {                    window.PLOTLYENV=window.PLOTLYENV || {};                                    if (document.getElementById(\"424a3ae1-0a4a-41e6-ab95-8ba54bb04690\")) {                    Plotly.newPlot(                        \"424a3ae1-0a4a-41e6-ab95-8ba54bb04690\",                        [{\"name\":\"pre\\u00e7o\",\"x\":[\"2023-02-27T00:00:00\",\"2023-02-28T00:00:00\",\"2023-03-01T00:00:00\",\"2023-03-02T00:00:00\",\"2023-03-03T00:00:00\",\"2023-03-06T00:00:00\",\"2023-03-07T00:00:00\",\"2023-03-08T00:00:00\",\"2023-03-09T00:00:00\",\"2023-03-10T00:00:00\",\"2023-03-13T00:00:00\",\"2023-03-14T00:00:00\",\"2023-03-15T00:00:00\",\"2023-03-16T00:00:00\",\"2023-03-17T00:00:00\",\"2023-03-20T00:00:00\",\"2023-03-21T00:00:00\",\"2023-03-22T00:00:00\",\"2023-03-23T00:00:00\",\"2023-03-24T00:00:00\",\"2023-03-27T00:00:00\",\"2023-03-28T00:00:00\",\"2023-03-29T00:00:00\",\"2023-03-30T00:00:00\",\"2023-03-31T00:00:00\",\"2023-04-03T00:00:00\",\"2023-04-04T00:00:00\",\"2023-04-05T00:00:00\",\"2023-04-06T00:00:00\",\"2023-04-10T00:00:00\",\"2023-04-11T00:00:00\",\"2023-04-12T00:00:00\",\"2023-04-13T00:00:00\",\"2023-04-14T00:00:00\",\"2023-04-17T00:00:00\",\"2023-04-18T00:00:00\",\"2023-04-19T00:00:00\",\"2023-04-20T00:00:00\",\"2023-04-24T00:00:00\",\"2023-04-25T00:00:00\",\"2023-04-26T00:00:00\",\"2023-04-27T00:00:00\",\"2023-04-28T00:00:00\",\"2023-05-02T00:00:00\",\"2023-05-03T00:00:00\",\"2023-05-04T00:00:00\",\"2023-05-05T00:00:00\",\"2023-05-08T00:00:00\",\"2023-05-09T00:00:00\",\"2023-05-10T00:00:00\",\"2023-05-11T00:00:00\",\"2023-05-12T00:00:00\",\"2023-05-15T00:00:00\",\"2023-05-16T00:00:00\",\"2023-05-17T00:00:00\",\"2023-05-18T00:00:00\",\"2023-05-19T00:00:00\",\"2023-05-22T00:00:00\",\"2023-05-23T00:00:00\",\"2023-05-24T00:00:00\",\"2023-05-25T00:00:00\",\"2023-05-26T00:00:00\",\"2023-05-29T00:00:00\",\"2023-05-30T00:00:00\",\"2023-05-31T00:00:00\",\"2023-06-01T00:00:00\",\"2023-06-02T00:00:00\",\"2023-06-05T00:00:00\",\"2023-06-06T00:00:00\",\"2023-06-07T00:00:00\",\"2023-06-09T00:00:00\",\"2023-06-12T00:00:00\",\"2023-06-13T00:00:00\",\"2023-06-14T00:00:00\",\"2023-06-15T00:00:00\",\"2023-06-16T00:00:00\",\"2023-06-19T00:00:00\",\"2023-06-20T00:00:00\",\"2023-06-21T00:00:00\",\"2023-06-22T00:00:00\",\"2023-06-23T00:00:00\",\"2023-06-26T00:00:00\",\"2023-06-27T00:00:00\",\"2023-06-28T00:00:00\",\"2023-06-29T00:00:00\",\"2023-06-30T00:00:00\",\"2023-07-03T00:00:00\",\"2023-07-04T00:00:00\",\"2023-07-05T00:00:00\",\"2023-07-06T00:00:00\",\"2023-07-07T00:00:00\",\"2023-07-10T00:00:00\",\"2023-07-11T00:00:00\",\"2023-07-12T00:00:00\",\"2023-07-13T00:00:00\",\"2023-07-14T00:00:00\",\"2023-07-17T00:00:00\",\"2023-07-18T00:00:00\",\"2023-07-19T00:00:00\",\"2023-07-20T00:00:00\",\"2023-07-21T00:00:00\",\"2023-07-24T00:00:00\",\"2023-07-25T00:00:00\",\"2023-07-26T00:00:00\",\"2023-07-27T00:00:00\",\"2023-07-28T00:00:00\",\"2023-07-31T00:00:00\",\"2023-08-01T00:00:00\",\"2023-08-02T00:00:00\",\"2023-08-03T00:00:00\",\"2023-08-04T00:00:00\",\"2023-08-07T00:00:00\",\"2023-08-08T00:00:00\",\"2023-08-09T00:00:00\",\"2023-08-10T00:00:00\",\"2023-08-11T00:00:00\",\"2023-08-14T00:00:00\",\"2023-08-15T00:00:00\",\"2023-08-16T00:00:00\",\"2023-08-17T00:00:00\",\"2023-08-18T00:00:00\",\"2023-08-21T00:00:00\",\"2023-08-22T00:00:00\",\"2023-08-23T00:00:00\",\"2023-08-24T00:00:00\",\"2023-08-25T00:00:00\",\"2023-08-28T00:00:00\",\"2023-08-29T00:00:00\",\"2023-08-30T00:00:00\",\"2023-08-31T00:00:00\",\"2023-09-01T00:00:00\",\"2023-09-04T00:00:00\",\"2023-09-05T00:00:00\",\"2023-09-06T00:00:00\",\"2023-09-08T00:00:00\",\"2023-09-11T00:00:00\",\"2023-09-12T00:00:00\",\"2023-09-13T00:00:00\",\"2023-09-14T00:00:00\",\"2023-09-15T00:00:00\",\"2023-09-18T00:00:00\",\"2023-09-19T00:00:00\",\"2023-09-20T00:00:00\",\"2023-09-21T00:00:00\",\"2023-09-22T00:00:00\",\"2023-09-25T00:00:00\",\"2023-09-26T00:00:00\",\"2023-09-27T00:00:00\",\"2023-09-28T00:00:00\",\"2023-09-29T00:00:00\",\"2023-10-02T00:00:00\",\"2023-10-03T00:00:00\",\"2023-10-04T00:00:00\",\"2023-10-05T00:00:00\",\"2023-10-06T00:00:00\",\"2023-10-09T00:00:00\",\"2023-10-10T00:00:00\",\"2023-10-11T00:00:00\",\"2023-10-13T00:00:00\",\"2023-10-16T00:00:00\",\"2023-10-17T00:00:00\",\"2023-10-18T00:00:00\",\"2023-10-19T00:00:00\",\"2023-10-20T00:00:00\",\"2023-10-23T00:00:00\",\"2023-10-24T00:00:00\",\"2023-10-25T00:00:00\",\"2023-10-26T00:00:00\",\"2023-10-27T00:00:00\",\"2023-10-30T00:00:00\",\"2023-10-31T00:00:00\",\"2023-11-01T00:00:00\",\"2023-11-03T00:00:00\",\"2023-11-06T00:00:00\",\"2023-11-07T00:00:00\",\"2023-11-08T00:00:00\",\"2023-11-09T00:00:00\",\"2023-11-10T00:00:00\",\"2023-11-13T00:00:00\",\"2023-11-14T00:00:00\",\"2023-11-16T00:00:00\",\"2023-11-17T00:00:00\",\"2023-11-20T00:00:00\",\"2023-11-21T00:00:00\",\"2023-11-22T00:00:00\",\"2023-11-23T00:00:00\",\"2023-11-24T00:00:00\",\"2023-11-27T00:00:00\",\"2023-11-28T00:00:00\",\"2023-11-29T00:00:00\",\"2023-11-30T00:00:00\",\"2023-12-01T00:00:00\",\"2023-12-04T00:00:00\",\"2023-12-05T00:00:00\",\"2023-12-06T00:00:00\",\"2023-12-07T00:00:00\",\"2023-12-08T00:00:00\",\"2023-12-11T00:00:00\",\"2023-12-12T00:00:00\",\"2023-12-13T00:00:00\",\"2023-12-14T00:00:00\",\"2023-12-15T00:00:00\",\"2023-12-18T00:00:00\",\"2023-12-19T00:00:00\",\"2023-12-20T00:00:00\",\"2023-12-21T00:00:00\",\"2023-12-22T00:00:00\",\"2023-12-26T00:00:00\",\"2023-12-27T00:00:00\",\"2023-12-28T00:00:00\",\"2024-01-02T00:00:00\",\"2024-01-03T00:00:00\",\"2024-01-04T00:00:00\",\"2024-01-05T00:00:00\",\"2024-01-08T00:00:00\",\"2024-01-09T00:00:00\",\"2024-01-10T00:00:00\",\"2024-01-11T00:00:00\",\"2024-01-12T00:00:00\",\"2024-01-15T00:00:00\",\"2024-01-16T00:00:00\",\"2024-01-17T00:00:00\",\"2024-01-18T00:00:00\",\"2024-01-19T00:00:00\",\"2024-01-22T00:00:00\",\"2024-01-23T00:00:00\",\"2024-01-24T00:00:00\",\"2024-01-25T00:00:00\",\"2024-01-26T00:00:00\",\"2024-01-29T00:00:00\",\"2024-01-30T00:00:00\",\"2024-01-31T00:00:00\",\"2024-02-01T00:00:00\",\"2024-02-02T00:00:00\",\"2024-02-05T00:00:00\",\"2024-02-06T00:00:00\",\"2024-02-07T00:00:00\",\"2024-02-08T00:00:00\",\"2024-02-09T00:00:00\",\"2024-02-14T00:00:00\",\"2024-02-15T00:00:00\",\"2024-02-16T00:00:00\",\"2024-02-19T00:00:00\",\"2024-02-20T00:00:00\",\"2024-02-21T00:00:00\",\"2024-02-22T00:00:00\",\"2024-02-23T00:00:00\",\"2024-02-26T00:00:00\"],\"y\":[18.0181884765625,17.898597717285156,17.370410919189453,17.709247589111328,17.6295223236084,17.99825668334961,18.30719757080078,18.935043334960938,19.014768600463867,18.954975128173828,18.895177841186523,18.506511688232422,18.426786422729492,18.586238861083984,18.715795516967773,18.446718215942383,18.506511688232422,18.357025146484375,17.76904296875,18.087947845458984,18.267333984375,18.466650009155273,18.63606834411621,18.98487091064453,18.78555679321289,18.90514373779297,19.144323348999023,18.586238861083984,18.59620475769043,18.526445388793945,18.97490692138672,19.253948211669922,19.174222946166992,19.22405242919922,19.63265037536621,19.55292320251465,19.243982315063477,19.639999389648438,19.75,19.700000762939453,19.5,19.469999313354492,19.700000762939453,19.68000030517578,19.940000534057617,19.899999618530273,20.950000762939453,20.559999465942383,20.489999771118164,20.489999771118164,20.84000015258789,20.850000381469727,20.989999771118164,20.719999313354492,20.81999969482422,21.06999969482422,21.18000030517578,21.1299991607666,21.010000228881836,20.75,20.989999771118164,21.0,20.75,20.809999465942383,20.81999969482422,21.969999313354492,22.6299991607666,22.56999969482422,22.93000030517578,22.56999969482422,22.399999618530273,22.5,22.579999923706055,22.950000762939453,22.959999084472656,21.8700008392334,22.1299991607666,22.420000076293945,22.270000457763672,22.15999984741211,21.81999969482422,21.68000030517578,21.639999389648438,21.559999465942383,21.8700008392334,22.200000762939453,22.639999389648438,22.75,22.8799991607666,22.420000076293945,22.719999313354492,22.200000762939453,22.219999313354492,22.639999389648438,22.790000915527344,22.440000534057617,22.670000076293945,22.6299991607666,22.799999237060547,22.940000534057617,23.350000381469727,24.020000457763672,24.09000015258789,24.0,23.3700008392334,23.3700008392334,23.239999771118164,23.0,23.040000915527344,23.290000915527344,23.209999084472656,23.239999771118164,23.31999969482422,23.860000610351562,23.979999542236328,22.799999237060547,22.84000015258789,23.020000457763672,22.719999313354492,22.219999313354492,22.270000457763672,22.110000610351562,22.829999923706055,23.299999237060547,23.1299991607666,22.649999618530273,22.75,22.8700008392334,22.6299991607666,22.350000381469727,22.670000076293945,22.600000381469727,22.079999923706055,21.8700008392334,22.079999923706055,22.139999389648438,22.760000228881836,23.31999969482422,23.940000534057617,23.84000015258789,23.739999771118164,23.75,23.8799991607666,23.479999542236328,23.43000030517578,23.389999389648438,22.850000381469727,22.299999237060547,22.780000686645508,22.81999969482422,22.440000534057617,21.670000076293945,21.719999313354492,21.579999923706055,21.790000915527344,22.06999969482422,22.93000030517578,23.06999969482422,22.5,22.559999465942383,21.90999984741211,21.299999237060547,21.670000076293945,21.56999969482422,22.43000030517578,22.229999542236328,22.049999237060547,22.770000457763672,22.100000381469727,22.020000457763672,22.309999465942383,23.0,23.1299991607666,23.1299991607666,22.899999618530273,22.649999618530273,22.850000381469727,23.09000015258789,22.799999237060547,23.40999984741211,23.610000610351562,23.25,23.559999465942383,22.899999618530273,22.670000076293945,22.90999984741211,22.559999465942383,22.56999969482422,22.68000030517578,22.899999618530273,22.899999618530273,22.770000457763672,22.579999923706055,22.459999084472656,22.549999237060547,22.389999389648438,22.170000076293945,22.149999618530273,22.329999923706055,22.34000015258789,22.950000762939453,22.81999969482422,22.209999084472656,22.399999618530273,22.600000381469727,22.81999969482422,22.899999618530273,22.90999984741211,23.0,22.950000762939453,22.25,22.3799991607666,22.399999618530273,22.649999618530273,23.639999389648438,23.5,23.809999465942383,23.110000610351562,23.469999313354492,23.290000915527344,22.770000457763672,22.020000457763672,21.770000457763672,22.399999618530273,22.280000686645508,22.940000534057617,22.510000228881836,22.450000762939453,22.639999389648438,22.860000610351562,22.6299991607666,23.059999465942383,23.020000457763672,22.84000015258789,22.670000076293945,22.520000457763672,23.459999084472656,23.549999237060547,24.09000015258789,23.829999923706055,23.889999389648438,23.43000030517578,23.239999771118164,23.350000381469727,22.989999771118164,22.889999389648438,22.809999465942383,22.729999542236328],\"type\":\"scatter\",\"xaxis\":\"x\",\"yaxis\":\"y\"},{\"line\":{\"color\":\"firebrick\",\"dash\":\"dot\",\"width\":2},\"mode\":\"lines\",\"name\":\"mma5\",\"x\":[\"2023-02-27T00:00:00\",\"2023-02-28T00:00:00\",\"2023-03-01T00:00:00\",\"2023-03-02T00:00:00\",\"2023-03-03T00:00:00\",\"2023-03-06T00:00:00\",\"2023-03-07T00:00:00\",\"2023-03-08T00:00:00\",\"2023-03-09T00:00:00\",\"2023-03-10T00:00:00\",\"2023-03-13T00:00:00\",\"2023-03-14T00:00:00\",\"2023-03-15T00:00:00\",\"2023-03-16T00:00:00\",\"2023-03-17T00:00:00\",\"2023-03-20T00:00:00\",\"2023-03-21T00:00:00\",\"2023-03-22T00:00:00\",\"2023-03-23T00:00:00\",\"2023-03-24T00:00:00\",\"2023-03-27T00:00:00\",\"2023-03-28T00:00:00\",\"2023-03-29T00:00:00\",\"2023-03-30T00:00:00\",\"2023-03-31T00:00:00\",\"2023-04-03T00:00:00\",\"2023-04-04T00:00:00\",\"2023-04-05T00:00:00\",\"2023-04-06T00:00:00\",\"2023-04-10T00:00:00\",\"2023-04-11T00:00:00\",\"2023-04-12T00:00:00\",\"2023-04-13T00:00:00\",\"2023-04-14T00:00:00\",\"2023-04-17T00:00:00\",\"2023-04-18T00:00:00\",\"2023-04-19T00:00:00\",\"2023-04-20T00:00:00\",\"2023-04-24T00:00:00\",\"2023-04-25T00:00:00\",\"2023-04-26T00:00:00\",\"2023-04-27T00:00:00\",\"2023-04-28T00:00:00\",\"2023-05-02T00:00:00\",\"2023-05-03T00:00:00\",\"2023-05-04T00:00:00\",\"2023-05-05T00:00:00\",\"2023-05-08T00:00:00\",\"2023-05-09T00:00:00\",\"2023-05-10T00:00:00\",\"2023-05-11T00:00:00\",\"2023-05-12T00:00:00\",\"2023-05-15T00:00:00\",\"2023-05-16T00:00:00\",\"2023-05-17T00:00:00\",\"2023-05-18T00:00:00\",\"2023-05-19T00:00:00\",\"2023-05-22T00:00:00\",\"2023-05-23T00:00:00\",\"2023-05-24T00:00:00\",\"2023-05-25T00:00:00\",\"2023-05-26T00:00:00\",\"2023-05-29T00:00:00\",\"2023-05-30T00:00:00\",\"2023-05-31T00:00:00\",\"2023-06-01T00:00:00\",\"2023-06-02T00:00:00\",\"2023-06-05T00:00:00\",\"2023-06-06T00:00:00\",\"2023-06-07T00:00:00\",\"2023-06-09T00:00:00\",\"2023-06-12T00:00:00\",\"2023-06-13T00:00:00\",\"2023-06-14T00:00:00\",\"2023-06-15T00:00:00\",\"2023-06-16T00:00:00\",\"2023-06-19T00:00:00\",\"2023-06-20T00:00:00\",\"2023-06-21T00:00:00\",\"2023-06-22T00:00:00\",\"2023-06-23T00:00:00\",\"2023-06-26T00:00:00\",\"2023-06-27T00:00:00\",\"2023-06-28T00:00:00\",\"2023-06-29T00:00:00\",\"2023-06-30T00:00:00\",\"2023-07-03T00:00:00\",\"2023-07-04T00:00:00\",\"2023-07-05T00:00:00\",\"2023-07-06T00:00:00\",\"2023-07-07T00:00:00\",\"2023-07-10T00:00:00\",\"2023-07-11T00:00:00\",\"2023-07-12T00:00:00\",\"2023-07-13T00:00:00\",\"2023-07-14T00:00:00\",\"2023-07-17T00:00:00\",\"2023-07-18T00:00:00\",\"2023-07-19T00:00:00\",\"2023-07-20T00:00:00\",\"2023-07-21T00:00:00\",\"2023-07-24T00:00:00\",\"2023-07-25T00:00:00\",\"2023-07-26T00:00:00\",\"2023-07-27T00:00:00\",\"2023-07-28T00:00:00\",\"2023-07-31T00:00:00\",\"2023-08-01T00:00:00\",\"2023-08-02T00:00:00\",\"2023-08-03T00:00:00\",\"2023-08-04T00:00:00\",\"2023-08-07T00:00:00\",\"2023-08-08T00:00:00\",\"2023-08-09T00:00:00\",\"2023-08-10T00:00:00\",\"2023-08-11T00:00:00\",\"2023-08-14T00:00:00\",\"2023-08-15T00:00:00\",\"2023-08-16T00:00:00\",\"2023-08-17T00:00:00\",\"2023-08-18T00:00:00\",\"2023-08-21T00:00:00\",\"2023-08-22T00:00:00\",\"2023-08-23T00:00:00\",\"2023-08-24T00:00:00\",\"2023-08-25T00:00:00\",\"2023-08-28T00:00:00\",\"2023-08-29T00:00:00\",\"2023-08-30T00:00:00\",\"2023-08-31T00:00:00\",\"2023-09-01T00:00:00\",\"2023-09-04T00:00:00\",\"2023-09-05T00:00:00\",\"2023-09-06T00:00:00\",\"2023-09-08T00:00:00\",\"2023-09-11T00:00:00\",\"2023-09-12T00:00:00\",\"2023-09-13T00:00:00\",\"2023-09-14T00:00:00\",\"2023-09-15T00:00:00\",\"2023-09-18T00:00:00\",\"2023-09-19T00:00:00\",\"2023-09-20T00:00:00\",\"2023-09-21T00:00:00\",\"2023-09-22T00:00:00\",\"2023-09-25T00:00:00\",\"2023-09-26T00:00:00\",\"2023-09-27T00:00:00\",\"2023-09-28T00:00:00\",\"2023-09-29T00:00:00\",\"2023-10-02T00:00:00\",\"2023-10-03T00:00:00\",\"2023-10-04T00:00:00\",\"2023-10-05T00:00:00\",\"2023-10-06T00:00:00\",\"2023-10-09T00:00:00\",\"2023-10-10T00:00:00\",\"2023-10-11T00:00:00\",\"2023-10-13T00:00:00\",\"2023-10-16T00:00:00\",\"2023-10-17T00:00:00\",\"2023-10-18T00:00:00\",\"2023-10-19T00:00:00\",\"2023-10-20T00:00:00\",\"2023-10-23T00:00:00\",\"2023-10-24T00:00:00\",\"2023-10-25T00:00:00\",\"2023-10-26T00:00:00\",\"2023-10-27T00:00:00\",\"2023-10-30T00:00:00\",\"2023-10-31T00:00:00\",\"2023-11-01T00:00:00\",\"2023-11-03T00:00:00\",\"2023-11-06T00:00:00\",\"2023-11-07T00:00:00\",\"2023-11-08T00:00:00\",\"2023-11-09T00:00:00\",\"2023-11-10T00:00:00\",\"2023-11-13T00:00:00\",\"2023-11-14T00:00:00\",\"2023-11-16T00:00:00\",\"2023-11-17T00:00:00\",\"2023-11-20T00:00:00\",\"2023-11-21T00:00:00\",\"2023-11-22T00:00:00\",\"2023-11-23T00:00:00\",\"2023-11-24T00:00:00\",\"2023-11-27T00:00:00\",\"2023-11-28T00:00:00\",\"2023-11-29T00:00:00\",\"2023-11-30T00:00:00\",\"2023-12-01T00:00:00\",\"2023-12-04T00:00:00\",\"2023-12-05T00:00:00\",\"2023-12-06T00:00:00\",\"2023-12-07T00:00:00\",\"2023-12-08T00:00:00\",\"2023-12-11T00:00:00\",\"2023-12-12T00:00:00\",\"2023-12-13T00:00:00\",\"2023-12-14T00:00:00\",\"2023-12-15T00:00:00\",\"2023-12-18T00:00:00\",\"2023-12-19T00:00:00\",\"2023-12-20T00:00:00\",\"2023-12-21T00:00:00\",\"2023-12-22T00:00:00\",\"2023-12-26T00:00:00\",\"2023-12-27T00:00:00\",\"2023-12-28T00:00:00\",\"2024-01-02T00:00:00\",\"2024-01-03T00:00:00\",\"2024-01-04T00:00:00\",\"2024-01-05T00:00:00\",\"2024-01-08T00:00:00\",\"2024-01-09T00:00:00\",\"2024-01-10T00:00:00\",\"2024-01-11T00:00:00\",\"2024-01-12T00:00:00\",\"2024-01-15T00:00:00\",\"2024-01-16T00:00:00\",\"2024-01-17T00:00:00\",\"2024-01-18T00:00:00\",\"2024-01-19T00:00:00\",\"2024-01-22T00:00:00\",\"2024-01-23T00:00:00\",\"2024-01-24T00:00:00\",\"2024-01-25T00:00:00\",\"2024-01-26T00:00:00\",\"2024-01-29T00:00:00\",\"2024-01-30T00:00:00\",\"2024-01-31T00:00:00\",\"2024-02-01T00:00:00\",\"2024-02-02T00:00:00\",\"2024-02-05T00:00:00\",\"2024-02-06T00:00:00\",\"2024-02-07T00:00:00\",\"2024-02-08T00:00:00\",\"2024-02-09T00:00:00\",\"2024-02-14T00:00:00\",\"2024-02-15T00:00:00\",\"2024-02-16T00:00:00\",\"2024-02-19T00:00:00\",\"2024-02-20T00:00:00\",\"2024-02-21T00:00:00\",\"2024-02-22T00:00:00\",\"2024-02-23T00:00:00\",\"2024-02-26T00:00:00\"],\"y\":[null,null,null,null,17.725193405151366,17.721207046508788,17.802927017211914,18.11585350036621,18.37695770263672,18.642048263549803,18.821432495117186,18.861295318603517,18.759643936157225,18.67393798828125,18.62610206604004,18.53641014099121,18.53641014099121,18.522457885742188,18.35901870727539,18.233449172973632,18.197572326660158,18.189599990844727,18.245408630371095,18.48857421875,18.62809600830078,18.755657958984376,18.891192626953124,18.88122673034668,18.80349349975586,18.75167121887207,18.76562385559082,18.787548828125,18.9051456451416,19.03071517944336,19.251956176757812,19.3675594329834,19.36556625366211,19.458721542358397,19.563911056518556,19.577381134033203,19.566796493530273,19.611999893188475,19.62400016784668,19.610000228881837,19.658000183105468,19.738000106811523,20.034000396728516,20.206000137329102,20.368000030517578,20.477999877929687,20.665999984741212,20.645999908447266,20.731999969482423,20.777999877929688,20.8439998626709,20.889999771118163,20.955999755859374,20.98399963378906,21.04199981689453,21.027999877929688,21.011999893188477,20.97599983215332,20.9,20.85999984741211,20.873999786376952,21.06999969482422,21.39599952697754,21.759999465942382,22.183999633789064,22.533999633789062,22.61999969482422,22.5939998626709,22.595999908447265,22.6,22.677999877929686,22.572000122070314,22.497999954223634,22.46599998474121,22.329999923706055,22.170000076293945,22.15999984741211,22.070000076293944,21.913999938964842,21.771999740600585,21.713999938964843,21.79000015258789,21.981999969482423,22.204000091552736,22.46800003051758,22.577999877929688,22.681999588012694,22.5939998626709,22.487999725341798,22.439999771118163,22.513999938964844,22.45800018310547,22.552000045776367,22.63400001525879,22.665999984741212,22.695999908447266,22.87799987792969,23.147999954223632,23.440000152587892,23.68000030517578,23.76600036621094,23.770000457763672,23.61400032043457,23.39600028991699,23.20400047302246,23.18800048828125,23.1560001373291,23.1560001373291,23.220000076293946,23.38400001525879,23.521999740600585,23.439999771118163,23.35999984741211,23.3,23.071999740600585,22.719999694824217,22.613999938964845,22.46800003051758,22.429999923706056,22.545999908447264,22.727999877929687,22.80399971008301,22.931999588012694,22.939999771118163,22.805999755859375,22.65,22.654000091552735,22.62400016784668,22.46599998474121,22.31400032043457,22.260000228881836,22.154000091552735,22.186000061035156,22.43400001525879,22.84799995422363,23.2,23.520000076293947,23.71800003051758,23.829999923706055,23.737999725341798,23.655999755859376,23.58599967956543,23.405999755859376,23.089999771118165,22.95,22.827999877929688,22.638000106811525,22.40200004577637,22.286000061035157,22.045999908447264,21.84000015258789,21.76599998474121,22.018000030517577,22.288000106811523,22.472000122070312,22.62599983215332,22.5939998626709,22.26799964904785,21.987999725341798,21.801999664306642,21.77599983215332,21.839999771118165,21.989999771118164,22.20999984741211,22.31599998474121,22.23400001525879,22.25,22.440000152587892,22.511999893188477,22.71799964904785,22.89399948120117,22.96199951171875,22.931999588012694,22.923999786376953,22.857999801635742,22.95999984741211,23.15200004577637,23.231999969482423,23.32599983215332,23.345999908447265,23.197999954223633,23.05799980163574,22.91999969482422,22.721999740600587,22.677999877929686,22.723999786376954,22.721999740600587,22.763999938964844,22.76599998474121,22.721999740600587,22.65199966430664,22.549999618530272,22.429999542236327,22.343999481201173,22.317999649047852,22.27599983215332,22.388000106811525,22.518000030517577,22.529999923706054,22.543999862670898,22.595999908447265,22.56999969482422,22.58599967956543,22.72599983215332,22.845999908447265,22.915999984741212,22.802000045776367,22.697999954223633,22.595999908447265,22.52599983215332,22.663999557495117,22.913999557495117,23.199999618530274,23.341999816894532,23.505999755859374,23.436000061035156,23.29000015258789,22.932000350952148,22.66400032043457,22.450000381469728,22.24800033569336,22.28200035095215,22.38000030517578,22.51600036621094,22.56400032043457,22.68000030517578,22.618000030517578,22.727999877929687,22.841999816894532,22.881999969482422,22.8439998626709,22.822000122070314,22.90200004577637,23.00799980163574,23.25799980163574,23.489999771118164,23.76399955749512,23.75799980163574,23.695999908447266,23.547999954223634,23.379999923706055,23.179999923706056,23.055999755859375,22.953999710083007],\"type\":\"scatter\",\"xaxis\":\"x\",\"yaxis\":\"y\"},{\"marker\":{\"angle\":45,\"line\":{\"color\":\"DarkSlateGrey\",\"width\":2},\"size\":12,\"symbol\":\"arrow\"},\"mode\":\"markers\",\"name\":\"Entrada\",\"x\":[\"2023-03-24T00:00:00\",\"2023-06-29T00:00:00\",\"2023-08-02T00:00:00\",\"2023-09-27T00:00:00\",\"2024-01-19T00:00:00\"],\"y\":[18.087947845458984,21.8700008392334,23.040000915527344,22.299999237060547,22.399999618530273],\"type\":\"scatter\",\"xaxis\":\"x\",\"yaxis\":\"y\"},{\"marker\":{\"angle\":-135,\"line\":{\"color\":\"red\",\"width\":2},\"size\":12,\"symbol\":\"arrow\"},\"mode\":\"markers\",\"name\":\"Saida\",\"x\":[\"2023-03-28T00:00:00\",\"2023-06-30T00:00:00\",\"2023-08-04T00:00:00\",\"2023-10-10T00:00:00\",\"2024-01-23T00:00:00\"],\"y\":[18.466650009155273,22.200000762939453,23.209999084472656,22.93000030517578,22.940000534057617],\"type\":\"scatter\",\"xaxis\":\"x\",\"yaxis\":\"y\"},{\"name\":\"ifr2\",\"x\":[\"2023-02-27T00:00:00\",\"2023-02-28T00:00:00\",\"2023-03-01T00:00:00\",\"2023-03-02T00:00:00\",\"2023-03-03T00:00:00\",\"2023-03-06T00:00:00\",\"2023-03-07T00:00:00\",\"2023-03-08T00:00:00\",\"2023-03-09T00:00:00\",\"2023-03-10T00:00:00\",\"2023-03-13T00:00:00\",\"2023-03-14T00:00:00\",\"2023-03-15T00:00:00\",\"2023-03-16T00:00:00\",\"2023-03-17T00:00:00\",\"2023-03-20T00:00:00\",\"2023-03-21T00:00:00\",\"2023-03-22T00:00:00\",\"2023-03-23T00:00:00\",\"2023-03-24T00:00:00\",\"2023-03-27T00:00:00\",\"2023-03-28T00:00:00\",\"2023-03-29T00:00:00\",\"2023-03-30T00:00:00\",\"2023-03-31T00:00:00\",\"2023-04-03T00:00:00\",\"2023-04-04T00:00:00\",\"2023-04-05T00:00:00\",\"2023-04-06T00:00:00\",\"2023-04-10T00:00:00\",\"2023-04-11T00:00:00\",\"2023-04-12T00:00:00\",\"2023-04-13T00:00:00\",\"2023-04-14T00:00:00\",\"2023-04-17T00:00:00\",\"2023-04-18T00:00:00\",\"2023-04-19T00:00:00\",\"2023-04-20T00:00:00\",\"2023-04-24T00:00:00\",\"2023-04-25T00:00:00\",\"2023-04-26T00:00:00\",\"2023-04-27T00:00:00\",\"2023-04-28T00:00:00\",\"2023-05-02T00:00:00\",\"2023-05-03T00:00:00\",\"2023-05-04T00:00:00\",\"2023-05-05T00:00:00\",\"2023-05-08T00:00:00\",\"2023-05-09T00:00:00\",\"2023-05-10T00:00:00\",\"2023-05-11T00:00:00\",\"2023-05-12T00:00:00\",\"2023-05-15T00:00:00\",\"2023-05-16T00:00:00\",\"2023-05-17T00:00:00\",\"2023-05-18T00:00:00\",\"2023-05-19T00:00:00\",\"2023-05-22T00:00:00\",\"2023-05-23T00:00:00\",\"2023-05-24T00:00:00\",\"2023-05-25T00:00:00\",\"2023-05-26T00:00:00\",\"2023-05-29T00:00:00\",\"2023-05-30T00:00:00\",\"2023-05-31T00:00:00\",\"2023-06-01T00:00:00\",\"2023-06-02T00:00:00\",\"2023-06-05T00:00:00\",\"2023-06-06T00:00:00\",\"2023-06-07T00:00:00\",\"2023-06-09T00:00:00\",\"2023-06-12T00:00:00\",\"2023-06-13T00:00:00\",\"2023-06-14T00:00:00\",\"2023-06-15T00:00:00\",\"2023-06-16T00:00:00\",\"2023-06-19T00:00:00\",\"2023-06-20T00:00:00\",\"2023-06-21T00:00:00\",\"2023-06-22T00:00:00\",\"2023-06-23T00:00:00\",\"2023-06-26T00:00:00\",\"2023-06-27T00:00:00\",\"2023-06-28T00:00:00\",\"2023-06-29T00:00:00\",\"2023-06-30T00:00:00\",\"2023-07-03T00:00:00\",\"2023-07-04T00:00:00\",\"2023-07-05T00:00:00\",\"2023-07-06T00:00:00\",\"2023-07-07T00:00:00\",\"2023-07-10T00:00:00\",\"2023-07-11T00:00:00\",\"2023-07-12T00:00:00\",\"2023-07-13T00:00:00\",\"2023-07-14T00:00:00\",\"2023-07-17T00:00:00\",\"2023-07-18T00:00:00\",\"2023-07-19T00:00:00\",\"2023-07-20T00:00:00\",\"2023-07-21T00:00:00\",\"2023-07-24T00:00:00\",\"2023-07-25T00:00:00\",\"2023-07-26T00:00:00\",\"2023-07-27T00:00:00\",\"2023-07-28T00:00:00\",\"2023-07-31T00:00:00\",\"2023-08-01T00:00:00\",\"2023-08-02T00:00:00\",\"2023-08-03T00:00:00\",\"2023-08-04T00:00:00\",\"2023-08-07T00:00:00\",\"2023-08-08T00:00:00\",\"2023-08-09T00:00:00\",\"2023-08-10T00:00:00\",\"2023-08-11T00:00:00\",\"2023-08-14T00:00:00\",\"2023-08-15T00:00:00\",\"2023-08-16T00:00:00\",\"2023-08-17T00:00:00\",\"2023-08-18T00:00:00\",\"2023-08-21T00:00:00\",\"2023-08-22T00:00:00\",\"2023-08-23T00:00:00\",\"2023-08-24T00:00:00\",\"2023-08-25T00:00:00\",\"2023-08-28T00:00:00\",\"2023-08-29T00:00:00\",\"2023-08-30T00:00:00\",\"2023-08-31T00:00:00\",\"2023-09-01T00:00:00\",\"2023-09-04T00:00:00\",\"2023-09-05T00:00:00\",\"2023-09-06T00:00:00\",\"2023-09-08T00:00:00\",\"2023-09-11T00:00:00\",\"2023-09-12T00:00:00\",\"2023-09-13T00:00:00\",\"2023-09-14T00:00:00\",\"2023-09-15T00:00:00\",\"2023-09-18T00:00:00\",\"2023-09-19T00:00:00\",\"2023-09-20T00:00:00\",\"2023-09-21T00:00:00\",\"2023-09-22T00:00:00\",\"2023-09-25T00:00:00\",\"2023-09-26T00:00:00\",\"2023-09-27T00:00:00\",\"2023-09-28T00:00:00\",\"2023-09-29T00:00:00\",\"2023-10-02T00:00:00\",\"2023-10-03T00:00:00\",\"2023-10-04T00:00:00\",\"2023-10-05T00:00:00\",\"2023-10-06T00:00:00\",\"2023-10-09T00:00:00\",\"2023-10-10T00:00:00\",\"2023-10-11T00:00:00\",\"2023-10-13T00:00:00\",\"2023-10-16T00:00:00\",\"2023-10-17T00:00:00\",\"2023-10-18T00:00:00\",\"2023-10-19T00:00:00\",\"2023-10-20T00:00:00\",\"2023-10-23T00:00:00\",\"2023-10-24T00:00:00\",\"2023-10-25T00:00:00\",\"2023-10-26T00:00:00\",\"2023-10-27T00:00:00\",\"2023-10-30T00:00:00\",\"2023-10-31T00:00:00\",\"2023-11-01T00:00:00\",\"2023-11-03T00:00:00\",\"2023-11-06T00:00:00\",\"2023-11-07T00:00:00\",\"2023-11-08T00:00:00\",\"2023-11-09T00:00:00\",\"2023-11-10T00:00:00\",\"2023-11-13T00:00:00\",\"2023-11-14T00:00:00\",\"2023-11-16T00:00:00\",\"2023-11-17T00:00:00\",\"2023-11-20T00:00:00\",\"2023-11-21T00:00:00\",\"2023-11-22T00:00:00\",\"2023-11-23T00:00:00\",\"2023-11-24T00:00:00\",\"2023-11-27T00:00:00\",\"2023-11-28T00:00:00\",\"2023-11-29T00:00:00\",\"2023-11-30T00:00:00\",\"2023-12-01T00:00:00\",\"2023-12-04T00:00:00\",\"2023-12-05T00:00:00\",\"2023-12-06T00:00:00\",\"2023-12-07T00:00:00\",\"2023-12-08T00:00:00\",\"2023-12-11T00:00:00\",\"2023-12-12T00:00:00\",\"2023-12-13T00:00:00\",\"2023-12-14T00:00:00\",\"2023-12-15T00:00:00\",\"2023-12-18T00:00:00\",\"2023-12-19T00:00:00\",\"2023-12-20T00:00:00\",\"2023-12-21T00:00:00\",\"2023-12-22T00:00:00\",\"2023-12-26T00:00:00\",\"2023-12-27T00:00:00\",\"2023-12-28T00:00:00\",\"2024-01-02T00:00:00\",\"2024-01-03T00:00:00\",\"2024-01-04T00:00:00\",\"2024-01-05T00:00:00\",\"2024-01-08T00:00:00\",\"2024-01-09T00:00:00\",\"2024-01-10T00:00:00\",\"2024-01-11T00:00:00\",\"2024-01-12T00:00:00\",\"2024-01-15T00:00:00\",\"2024-01-16T00:00:00\",\"2024-01-17T00:00:00\",\"2024-01-18T00:00:00\",\"2024-01-19T00:00:00\",\"2024-01-22T00:00:00\",\"2024-01-23T00:00:00\",\"2024-01-24T00:00:00\",\"2024-01-25T00:00:00\",\"2024-01-26T00:00:00\",\"2024-01-29T00:00:00\",\"2024-01-30T00:00:00\",\"2024-01-31T00:00:00\",\"2024-02-01T00:00:00\",\"2024-02-02T00:00:00\",\"2024-02-05T00:00:00\",\"2024-02-06T00:00:00\",\"2024-02-07T00:00:00\",\"2024-02-08T00:00:00\",\"2024-02-09T00:00:00\",\"2024-02-14T00:00:00\",\"2024-02-15T00:00:00\",\"2024-02-16T00:00:00\",\"2024-02-19T00:00:00\",\"2024-02-20T00:00:00\",\"2024-02-21T00:00:00\",\"2024-02-22T00:00:00\",\"2024-02-23T00:00:00\",\"2024-02-26T00:00:00\"],\"y\":[null,0.0,0.0,53.54,42.77,80.0,90.43,96.93,97.38,79.77,58.59,13.159999999999997,9.980000000000004,54.2,74.53,26.209999999999994,42.71,20.159999999999997,3.9099999999999966,48.73,66.38,80.95,89.03,96.01,55.6,70.5,87.41,23.790000000000006,25.72,18.989999999999995,81.45,90.53,70.74,77.02,94.92,72.78999999999999,25.939999999999998,72.05,79.24,64.22999999999999,25.540000000000006,21.629999999999995,76.58,68.26,91.7,74.72,97.64,58.34,50.98,50.98,86.09,86.64,93.64,30.989999999999995,53.86,82.63,88.78999999999999,67.15,30.950000000000003,9.280000000000001,60.43,62.21,19.180000000000007,39.32,43.98,97.0,98.56,90.03999999999999,95.11,47.12,31.909999999999997,50.65,65.74000000000001,91.05,91.39,9.75,36.72,62.03,43.88,30.700000000000003,10.75,7.0,5.840000000000003,3.510000000000005,76.43,90.97,96.58,97.39,98.33,27.760000000000005,62.69,23.42,26.939999999999998,75.07,83.05,33.31,62.68,54.36,78.56,88.56,96.93,99.1,99.21,74.58,16.659999999999997,16.659999999999997,10.150000000000006,4.159999999999997,19.92,73.8,51.58,60.5,80.07,97.41,98.13,15.129999999999995,19.739999999999995,46.06,22.0,8.030000000000001,18.39,10.689999999999998,81.28,90.78999999999999,66.4,26.379999999999995,41.15,60.29,26.209999999999994,11.299999999999997,61.44,49.26,12.480000000000004,7.790000000000006,47.38,57.74,91.67,96.6,98.53,83.28999999999999,63.61,65.25,84.01,19.439999999999998,16.299999999999997,12.959999999999994,1.980000000000004,0.730000000000004,52.84,56.63,22.400000000000006,6.489999999999995,14.39,9.769999999999996,54.04,80.09,95.56,96.45,36.48,43.83,12.5,5.340000000000003,44.15,36.14,84.5,62.49,42.54,83.83,35.870000000000005,31.549999999999997,63.43,88.63,90.97,90.97,37.0,16.159999999999997,55.9,79.37,34.72,80.61,86.73,40.61,69.0,22.730000000000004,15.489999999999995,49.23,22.75,25.049999999999997,54.75,82.49,82.49,33.68000000000001,12.340000000000003,6.849999999999994,44.12,18.209999999999994,6.969999999999999,6.260000000000005,66.72999999999999,68.95,96.61,70.02,19.540000000000006,44.48,66.4,82.02,86.56,87.36,93.89,59.65,5.319999999999993,29.25,34.36,76.59,96.16,77.77,87.96000000000001,28.650000000000006,57.87,41.05,15.329999999999998,5.459999999999994,3.819999999999993,61.74,50.22,83.69,44.61,39.46,65.00999999999999,82.31,40.48,79.48,70.84,35.81999999999999,18.519999999999996,10.0,86.7,88.57,95.74,59.68,65.65,20.069999999999993,12.760000000000005,38.65,13.129999999999995,9.61,6.719999999999999,4.200000000000003],\"type\":\"scatter\",\"xaxis\":\"x2\",\"yaxis\":\"y2\"},{\"line\":{\"color\":\"red\",\"dash\":\"dot\",\"width\":4},\"mode\":\"lines\",\"name\":\"ifr2=5\",\"x\":[\"2023-02-27T00:00:00\",\"2023-02-28T00:00:00\",\"2023-03-01T00:00:00\",\"2023-03-02T00:00:00\",\"2023-03-03T00:00:00\",\"2023-03-06T00:00:00\",\"2023-03-07T00:00:00\",\"2023-03-08T00:00:00\",\"2023-03-09T00:00:00\",\"2023-03-10T00:00:00\",\"2023-03-13T00:00:00\",\"2023-03-14T00:00:00\",\"2023-03-15T00:00:00\",\"2023-03-16T00:00:00\",\"2023-03-17T00:00:00\",\"2023-03-20T00:00:00\",\"2023-03-21T00:00:00\",\"2023-03-22T00:00:00\",\"2023-03-23T00:00:00\",\"2023-03-24T00:00:00\",\"2023-03-27T00:00:00\",\"2023-03-28T00:00:00\",\"2023-03-29T00:00:00\",\"2023-03-30T00:00:00\",\"2023-03-31T00:00:00\",\"2023-04-03T00:00:00\",\"2023-04-04T00:00:00\",\"2023-04-05T00:00:00\",\"2023-04-06T00:00:00\",\"2023-04-10T00:00:00\",\"2023-04-11T00:00:00\",\"2023-04-12T00:00:00\",\"2023-04-13T00:00:00\",\"2023-04-14T00:00:00\",\"2023-04-17T00:00:00\",\"2023-04-18T00:00:00\",\"2023-04-19T00:00:00\",\"2023-04-20T00:00:00\",\"2023-04-24T00:00:00\",\"2023-04-25T00:00:00\",\"2023-04-26T00:00:00\",\"2023-04-27T00:00:00\",\"2023-04-28T00:00:00\",\"2023-05-02T00:00:00\",\"2023-05-03T00:00:00\",\"2023-05-04T00:00:00\",\"2023-05-05T00:00:00\",\"2023-05-08T00:00:00\",\"2023-05-09T00:00:00\",\"2023-05-10T00:00:00\",\"2023-05-11T00:00:00\",\"2023-05-12T00:00:00\",\"2023-05-15T00:00:00\",\"2023-05-16T00:00:00\",\"2023-05-17T00:00:00\",\"2023-05-18T00:00:00\",\"2023-05-19T00:00:00\",\"2023-05-22T00:00:00\",\"2023-05-23T00:00:00\",\"2023-05-24T00:00:00\",\"2023-05-25T00:00:00\",\"2023-05-26T00:00:00\",\"2023-05-29T00:00:00\",\"2023-05-30T00:00:00\",\"2023-05-31T00:00:00\",\"2023-06-01T00:00:00\",\"2023-06-02T00:00:00\",\"2023-06-05T00:00:00\",\"2023-06-06T00:00:00\",\"2023-06-07T00:00:00\",\"2023-06-09T00:00:00\",\"2023-06-12T00:00:00\",\"2023-06-13T00:00:00\",\"2023-06-14T00:00:00\",\"2023-06-15T00:00:00\",\"2023-06-16T00:00:00\",\"2023-06-19T00:00:00\",\"2023-06-20T00:00:00\",\"2023-06-21T00:00:00\",\"2023-06-22T00:00:00\",\"2023-06-23T00:00:00\",\"2023-06-26T00:00:00\",\"2023-06-27T00:00:00\",\"2023-06-28T00:00:00\",\"2023-06-29T00:00:00\",\"2023-06-30T00:00:00\",\"2023-07-03T00:00:00\",\"2023-07-04T00:00:00\",\"2023-07-05T00:00:00\",\"2023-07-06T00:00:00\",\"2023-07-07T00:00:00\",\"2023-07-10T00:00:00\",\"2023-07-11T00:00:00\",\"2023-07-12T00:00:00\",\"2023-07-13T00:00:00\",\"2023-07-14T00:00:00\",\"2023-07-17T00:00:00\",\"2023-07-18T00:00:00\",\"2023-07-19T00:00:00\",\"2023-07-20T00:00:00\",\"2023-07-21T00:00:00\",\"2023-07-24T00:00:00\",\"2023-07-25T00:00:00\",\"2023-07-26T00:00:00\",\"2023-07-27T00:00:00\",\"2023-07-28T00:00:00\",\"2023-07-31T00:00:00\",\"2023-08-01T00:00:00\",\"2023-08-02T00:00:00\",\"2023-08-03T00:00:00\",\"2023-08-04T00:00:00\",\"2023-08-07T00:00:00\",\"2023-08-08T00:00:00\",\"2023-08-09T00:00:00\",\"2023-08-10T00:00:00\",\"2023-08-11T00:00:00\",\"2023-08-14T00:00:00\",\"2023-08-15T00:00:00\",\"2023-08-16T00:00:00\",\"2023-08-17T00:00:00\",\"2023-08-18T00:00:00\",\"2023-08-21T00:00:00\",\"2023-08-22T00:00:00\",\"2023-08-23T00:00:00\",\"2023-08-24T00:00:00\",\"2023-08-25T00:00:00\",\"2023-08-28T00:00:00\",\"2023-08-29T00:00:00\",\"2023-08-30T00:00:00\",\"2023-08-31T00:00:00\",\"2023-09-01T00:00:00\",\"2023-09-04T00:00:00\",\"2023-09-05T00:00:00\",\"2023-09-06T00:00:00\",\"2023-09-08T00:00:00\",\"2023-09-11T00:00:00\",\"2023-09-12T00:00:00\",\"2023-09-13T00:00:00\",\"2023-09-14T00:00:00\",\"2023-09-15T00:00:00\",\"2023-09-18T00:00:00\",\"2023-09-19T00:00:00\",\"2023-09-20T00:00:00\",\"2023-09-21T00:00:00\",\"2023-09-22T00:00:00\",\"2023-09-25T00:00:00\",\"2023-09-26T00:00:00\",\"2023-09-27T00:00:00\",\"2023-09-28T00:00:00\",\"2023-09-29T00:00:00\",\"2023-10-02T00:00:00\",\"2023-10-03T00:00:00\",\"2023-10-04T00:00:00\",\"2023-10-05T00:00:00\",\"2023-10-06T00:00:00\",\"2023-10-09T00:00:00\",\"2023-10-10T00:00:00\",\"2023-10-11T00:00:00\",\"2023-10-13T00:00:00\",\"2023-10-16T00:00:00\",\"2023-10-17T00:00:00\",\"2023-10-18T00:00:00\",\"2023-10-19T00:00:00\",\"2023-10-20T00:00:00\",\"2023-10-23T00:00:00\",\"2023-10-24T00:00:00\",\"2023-10-25T00:00:00\",\"2023-10-26T00:00:00\",\"2023-10-27T00:00:00\",\"2023-10-30T00:00:00\",\"2023-10-31T00:00:00\",\"2023-11-01T00:00:00\",\"2023-11-03T00:00:00\",\"2023-11-06T00:00:00\",\"2023-11-07T00:00:00\",\"2023-11-08T00:00:00\",\"2023-11-09T00:00:00\",\"2023-11-10T00:00:00\",\"2023-11-13T00:00:00\",\"2023-11-14T00:00:00\",\"2023-11-16T00:00:00\",\"2023-11-17T00:00:00\",\"2023-11-20T00:00:00\",\"2023-11-21T00:00:00\",\"2023-11-22T00:00:00\",\"2023-11-23T00:00:00\",\"2023-11-24T00:00:00\",\"2023-11-27T00:00:00\",\"2023-11-28T00:00:00\",\"2023-11-29T00:00:00\",\"2023-11-30T00:00:00\",\"2023-12-01T00:00:00\",\"2023-12-04T00:00:00\",\"2023-12-05T00:00:00\",\"2023-12-06T00:00:00\",\"2023-12-07T00:00:00\",\"2023-12-08T00:00:00\",\"2023-12-11T00:00:00\",\"2023-12-12T00:00:00\",\"2023-12-13T00:00:00\",\"2023-12-14T00:00:00\",\"2023-12-15T00:00:00\",\"2023-12-18T00:00:00\",\"2023-12-19T00:00:00\",\"2023-12-20T00:00:00\",\"2023-12-21T00:00:00\",\"2023-12-22T00:00:00\",\"2023-12-26T00:00:00\",\"2023-12-27T00:00:00\",\"2023-12-28T00:00:00\",\"2024-01-02T00:00:00\",\"2024-01-03T00:00:00\",\"2024-01-04T00:00:00\",\"2024-01-05T00:00:00\",\"2024-01-08T00:00:00\",\"2024-01-09T00:00:00\",\"2024-01-10T00:00:00\",\"2024-01-11T00:00:00\",\"2024-01-12T00:00:00\",\"2024-01-15T00:00:00\",\"2024-01-16T00:00:00\",\"2024-01-17T00:00:00\",\"2024-01-18T00:00:00\",\"2024-01-19T00:00:00\",\"2024-01-22T00:00:00\",\"2024-01-23T00:00:00\",\"2024-01-24T00:00:00\",\"2024-01-25T00:00:00\",\"2024-01-26T00:00:00\",\"2024-01-29T00:00:00\",\"2024-01-30T00:00:00\",\"2024-01-31T00:00:00\",\"2024-02-01T00:00:00\",\"2024-02-02T00:00:00\",\"2024-02-05T00:00:00\",\"2024-02-06T00:00:00\",\"2024-02-07T00:00:00\",\"2024-02-08T00:00:00\",\"2024-02-09T00:00:00\",\"2024-02-14T00:00:00\",\"2024-02-15T00:00:00\",\"2024-02-16T00:00:00\",\"2024-02-19T00:00:00\",\"2024-02-20T00:00:00\",\"2024-02-21T00:00:00\",\"2024-02-22T00:00:00\",\"2024-02-23T00:00:00\",\"2024-02-26T00:00:00\"],\"y\":[5,5,5,5,5,5,5,5,5,5,5,5,5,5,5,5,5,5,5,5,5,5,5,5,5,5,5,5,5,5,5,5,5,5,5,5,5,5,5,5,5,5,5,5,5,5,5,5,5,5,5,5,5,5,5,5,5,5,5,5,5,5,5,5,5,5,5,5,5,5,5,5,5,5,5,5,5,5,5,5,5,5,5,5,5,5,5,5,5,5,5,5,5,5,5,5,5,5,5,5,5,5,5,5,5,5,5,5,5,5,5,5,5,5,5,5,5,5,5,5,5,5,5,5,5,5,5,5,5,5,5,5,5,5,5,5,5,5,5,5,5,5,5,5,5,5,5,5,5,5,5,5,5,5,5,5,5,5,5,5,5,5,5,5,5,5,5,5,5,5,5,5,5,5,5,5,5,5,5,5,5,5,5,5,5,5,5,5,5,5,5,5,5,5,5,5,5,5,5,5,5,5,5,5,5,5,5,5,5,5,5,5,5,5,5,5,5,5,5,5,5,5,5,5,5,5,5,5,5,5,5,5,5,5,5,5,5,5,5,5,5,5,5,5,5,5,5,5],\"type\":\"scatter\",\"xaxis\":\"x2\",\"yaxis\":\"y2\"},{\"mode\":\"lines\",\"name\":\"posi\\u00e7\\u00e3o\",\"x\":[\"2023-02-27T00:00:00\",\"2023-02-28T00:00:00\",\"2023-03-01T00:00:00\",\"2023-03-02T00:00:00\",\"2023-03-03T00:00:00\",\"2023-03-06T00:00:00\",\"2023-03-07T00:00:00\",\"2023-03-08T00:00:00\",\"2023-03-09T00:00:00\",\"2023-03-10T00:00:00\",\"2023-03-13T00:00:00\",\"2023-03-14T00:00:00\",\"2023-03-15T00:00:00\",\"2023-03-16T00:00:00\",\"2023-03-17T00:00:00\",\"2023-03-20T00:00:00\",\"2023-03-21T00:00:00\",\"2023-03-22T00:00:00\",\"2023-03-23T00:00:00\",\"2023-03-24T00:00:00\",\"2023-03-27T00:00:00\",\"2023-03-28T00:00:00\",\"2023-03-29T00:00:00\",\"2023-03-30T00:00:00\",\"2023-03-31T00:00:00\",\"2023-04-03T00:00:00\",\"2023-04-04T00:00:00\",\"2023-04-05T00:00:00\",\"2023-04-06T00:00:00\",\"2023-04-10T00:00:00\",\"2023-04-11T00:00:00\",\"2023-04-12T00:00:00\",\"2023-04-13T00:00:00\",\"2023-04-14T00:00:00\",\"2023-04-17T00:00:00\",\"2023-04-18T00:00:00\",\"2023-04-19T00:00:00\",\"2023-04-20T00:00:00\",\"2023-04-24T00:00:00\",\"2023-04-25T00:00:00\",\"2023-04-26T00:00:00\",\"2023-04-27T00:00:00\",\"2023-04-28T00:00:00\",\"2023-05-02T00:00:00\",\"2023-05-03T00:00:00\",\"2023-05-04T00:00:00\",\"2023-05-05T00:00:00\",\"2023-05-08T00:00:00\",\"2023-05-09T00:00:00\",\"2023-05-10T00:00:00\",\"2023-05-11T00:00:00\",\"2023-05-12T00:00:00\",\"2023-05-15T00:00:00\",\"2023-05-16T00:00:00\",\"2023-05-17T00:00:00\",\"2023-05-18T00:00:00\",\"2023-05-19T00:00:00\",\"2023-05-22T00:00:00\",\"2023-05-23T00:00:00\",\"2023-05-24T00:00:00\",\"2023-05-25T00:00:00\",\"2023-05-26T00:00:00\",\"2023-05-29T00:00:00\",\"2023-05-30T00:00:00\",\"2023-05-31T00:00:00\",\"2023-06-01T00:00:00\",\"2023-06-02T00:00:00\",\"2023-06-05T00:00:00\",\"2023-06-06T00:00:00\",\"2023-06-07T00:00:00\",\"2023-06-09T00:00:00\",\"2023-06-12T00:00:00\",\"2023-06-13T00:00:00\",\"2023-06-14T00:00:00\",\"2023-06-15T00:00:00\",\"2023-06-16T00:00:00\",\"2023-06-19T00:00:00\",\"2023-06-20T00:00:00\",\"2023-06-21T00:00:00\",\"2023-06-22T00:00:00\",\"2023-06-23T00:00:00\",\"2023-06-26T00:00:00\",\"2023-06-27T00:00:00\",\"2023-06-28T00:00:00\",\"2023-06-29T00:00:00\",\"2023-06-30T00:00:00\",\"2023-07-03T00:00:00\",\"2023-07-04T00:00:00\",\"2023-07-05T00:00:00\",\"2023-07-06T00:00:00\",\"2023-07-07T00:00:00\",\"2023-07-10T00:00:00\",\"2023-07-11T00:00:00\",\"2023-07-12T00:00:00\",\"2023-07-13T00:00:00\",\"2023-07-14T00:00:00\",\"2023-07-17T00:00:00\",\"2023-07-18T00:00:00\",\"2023-07-19T00:00:00\",\"2023-07-20T00:00:00\",\"2023-07-21T00:00:00\",\"2023-07-24T00:00:00\",\"2023-07-25T00:00:00\",\"2023-07-26T00:00:00\",\"2023-07-27T00:00:00\",\"2023-07-28T00:00:00\",\"2023-07-31T00:00:00\",\"2023-08-01T00:00:00\",\"2023-08-02T00:00:00\",\"2023-08-03T00:00:00\",\"2023-08-04T00:00:00\",\"2023-08-07T00:00:00\",\"2023-08-08T00:00:00\",\"2023-08-09T00:00:00\",\"2023-08-10T00:00:00\",\"2023-08-11T00:00:00\",\"2023-08-14T00:00:00\",\"2023-08-15T00:00:00\",\"2023-08-16T00:00:00\",\"2023-08-17T00:00:00\",\"2023-08-18T00:00:00\",\"2023-08-21T00:00:00\",\"2023-08-22T00:00:00\",\"2023-08-23T00:00:00\",\"2023-08-24T00:00:00\",\"2023-08-25T00:00:00\",\"2023-08-28T00:00:00\",\"2023-08-29T00:00:00\",\"2023-08-30T00:00:00\",\"2023-08-31T00:00:00\",\"2023-09-01T00:00:00\",\"2023-09-04T00:00:00\",\"2023-09-05T00:00:00\",\"2023-09-06T00:00:00\",\"2023-09-08T00:00:00\",\"2023-09-11T00:00:00\",\"2023-09-12T00:00:00\",\"2023-09-13T00:00:00\",\"2023-09-14T00:00:00\",\"2023-09-15T00:00:00\",\"2023-09-18T00:00:00\",\"2023-09-19T00:00:00\",\"2023-09-20T00:00:00\",\"2023-09-21T00:00:00\",\"2023-09-22T00:00:00\",\"2023-09-25T00:00:00\",\"2023-09-26T00:00:00\",\"2023-09-27T00:00:00\",\"2023-09-28T00:00:00\",\"2023-09-29T00:00:00\",\"2023-10-02T00:00:00\",\"2023-10-03T00:00:00\",\"2023-10-04T00:00:00\",\"2023-10-05T00:00:00\",\"2023-10-06T00:00:00\",\"2023-10-09T00:00:00\",\"2023-10-10T00:00:00\",\"2023-10-11T00:00:00\",\"2023-10-13T00:00:00\",\"2023-10-16T00:00:00\",\"2023-10-17T00:00:00\",\"2023-10-18T00:00:00\",\"2023-10-19T00:00:00\",\"2023-10-20T00:00:00\",\"2023-10-23T00:00:00\",\"2023-10-24T00:00:00\",\"2023-10-25T00:00:00\",\"2023-10-26T00:00:00\",\"2023-10-27T00:00:00\",\"2023-10-30T00:00:00\",\"2023-10-31T00:00:00\",\"2023-11-01T00:00:00\",\"2023-11-03T00:00:00\",\"2023-11-06T00:00:00\",\"2023-11-07T00:00:00\",\"2023-11-08T00:00:00\",\"2023-11-09T00:00:00\",\"2023-11-10T00:00:00\",\"2023-11-13T00:00:00\",\"2023-11-14T00:00:00\",\"2023-11-16T00:00:00\",\"2023-11-17T00:00:00\",\"2023-11-20T00:00:00\",\"2023-11-21T00:00:00\",\"2023-11-22T00:00:00\",\"2023-11-23T00:00:00\",\"2023-11-24T00:00:00\",\"2023-11-27T00:00:00\",\"2023-11-28T00:00:00\",\"2023-11-29T00:00:00\",\"2023-11-30T00:00:00\",\"2023-12-01T00:00:00\",\"2023-12-04T00:00:00\",\"2023-12-05T00:00:00\",\"2023-12-06T00:00:00\",\"2023-12-07T00:00:00\",\"2023-12-08T00:00:00\",\"2023-12-11T00:00:00\",\"2023-12-12T00:00:00\",\"2023-12-13T00:00:00\",\"2023-12-14T00:00:00\",\"2023-12-15T00:00:00\",\"2023-12-18T00:00:00\",\"2023-12-19T00:00:00\",\"2023-12-20T00:00:00\",\"2023-12-21T00:00:00\",\"2023-12-22T00:00:00\",\"2023-12-26T00:00:00\",\"2023-12-27T00:00:00\",\"2023-12-28T00:00:00\",\"2024-01-02T00:00:00\",\"2024-01-03T00:00:00\",\"2024-01-04T00:00:00\",\"2024-01-05T00:00:00\",\"2024-01-08T00:00:00\",\"2024-01-09T00:00:00\",\"2024-01-10T00:00:00\",\"2024-01-11T00:00:00\",\"2024-01-12T00:00:00\",\"2024-01-15T00:00:00\",\"2024-01-16T00:00:00\",\"2024-01-17T00:00:00\",\"2024-01-18T00:00:00\",\"2024-01-19T00:00:00\",\"2024-01-22T00:00:00\",\"2024-01-23T00:00:00\",\"2024-01-24T00:00:00\",\"2024-01-25T00:00:00\",\"2024-01-26T00:00:00\",\"2024-01-29T00:00:00\",\"2024-01-30T00:00:00\",\"2024-01-31T00:00:00\",\"2024-02-01T00:00:00\",\"2024-02-02T00:00:00\",\"2024-02-05T00:00:00\",\"2024-02-06T00:00:00\",\"2024-02-07T00:00:00\",\"2024-02-08T00:00:00\",\"2024-02-09T00:00:00\",\"2024-02-14T00:00:00\",\"2024-02-15T00:00:00\",\"2024-02-16T00:00:00\",\"2024-02-19T00:00:00\",\"2024-02-20T00:00:00\",\"2024-02-21T00:00:00\",\"2024-02-22T00:00:00\",\"2024-02-23T00:00:00\",\"2024-02-26T00:00:00\"],\"y\":[0.0,0.0,0.0,0.0,0.0,0.0,0.0,0.0,0.0,0.0,0.0,0.0,0.0,0.0,0.0,0.0,0.0,0.0,0.0,1.0,1.0,0.0,0.0,0.0,0.0,0.0,0.0,0.0,0.0,0.0,0.0,0.0,0.0,0.0,0.0,0.0,0.0,0.0,0.0,0.0,0.0,0.0,0.0,0.0,0.0,0.0,0.0,0.0,0.0,0.0,0.0,0.0,0.0,0.0,0.0,0.0,0.0,0.0,0.0,0.0,0.0,0.0,0.0,0.0,0.0,0.0,0.0,0.0,0.0,0.0,0.0,0.0,0.0,0.0,0.0,0.0,0.0,0.0,0.0,0.0,0.0,0.0,0.0,0.0,1.0,0.0,0.0,0.0,0.0,0.0,0.0,0.0,0.0,0.0,0.0,0.0,0.0,0.0,0.0,0.0,0.0,0.0,0.0,0.0,0.0,0.0,0.0,0.0,1.0,1.0,0.0,0.0,0.0,0.0,0.0,0.0,0.0,0.0,0.0,0.0,0.0,0.0,0.0,0.0,0.0,0.0,0.0,0.0,0.0,0.0,0.0,0.0,0.0,0.0,0.0,0.0,0.0,0.0,0.0,0.0,0.0,0.0,0.0,0.0,0.0,0.0,0.0,1.0,1.0,1.0,1.0,1.0,1.0,1.0,1.0,1.0,0.0,0.0,0.0,0.0,0.0,0.0,0.0,0.0,0.0,0.0,0.0,0.0,0.0,0.0,0.0,0.0,0.0,0.0,0.0,0.0,0.0,0.0,0.0,0.0,0.0,0.0,0.0,0.0,0.0,0.0,0.0,0.0,0.0,0.0,0.0,0.0,0.0,0.0,0.0,0.0,0.0,0.0,0.0,0.0,0.0,0.0,0.0,0.0,0.0,0.0,0.0,0.0,0.0,0.0,0.0,0.0,0.0,0.0,0.0,0.0,0.0,0.0,0.0,0.0,0.0,0.0,0.0,1.0,1.0,0.0,0.0,0.0,0.0,0.0,0.0,0.0,0.0,0.0,0.0,0.0,0.0,0.0,0.0,0.0,0.0,0.0,0.0,0.0,0.0,0.0,0.0,0.0],\"type\":\"scatter\",\"xaxis\":\"x3\",\"yaxis\":\"y3\"}],                        {\"template\":{\"data\":{\"histogram2dcontour\":[{\"type\":\"histogram2dcontour\",\"colorbar\":{\"outlinewidth\":0,\"ticks\":\"\"},\"colorscale\":[[0.0,\"#0d0887\"],[0.1111111111111111,\"#46039f\"],[0.2222222222222222,\"#7201a8\"],[0.3333333333333333,\"#9c179e\"],[0.4444444444444444,\"#bd3786\"],[0.5555555555555556,\"#d8576b\"],[0.6666666666666666,\"#ed7953\"],[0.7777777777777778,\"#fb9f3a\"],[0.8888888888888888,\"#fdca26\"],[1.0,\"#f0f921\"]]}],\"choropleth\":[{\"type\":\"choropleth\",\"colorbar\":{\"outlinewidth\":0,\"ticks\":\"\"}}],\"histogram2d\":[{\"type\":\"histogram2d\",\"colorbar\":{\"outlinewidth\":0,\"ticks\":\"\"},\"colorscale\":[[0.0,\"#0d0887\"],[0.1111111111111111,\"#46039f\"],[0.2222222222222222,\"#7201a8\"],[0.3333333333333333,\"#9c179e\"],[0.4444444444444444,\"#bd3786\"],[0.5555555555555556,\"#d8576b\"],[0.6666666666666666,\"#ed7953\"],[0.7777777777777778,\"#fb9f3a\"],[0.8888888888888888,\"#fdca26\"],[1.0,\"#f0f921\"]]}],\"heatmap\":[{\"type\":\"heatmap\",\"colorbar\":{\"outlinewidth\":0,\"ticks\":\"\"},\"colorscale\":[[0.0,\"#0d0887\"],[0.1111111111111111,\"#46039f\"],[0.2222222222222222,\"#7201a8\"],[0.3333333333333333,\"#9c179e\"],[0.4444444444444444,\"#bd3786\"],[0.5555555555555556,\"#d8576b\"],[0.6666666666666666,\"#ed7953\"],[0.7777777777777778,\"#fb9f3a\"],[0.8888888888888888,\"#fdca26\"],[1.0,\"#f0f921\"]]}],\"heatmapgl\":[{\"type\":\"heatmapgl\",\"colorbar\":{\"outlinewidth\":0,\"ticks\":\"\"},\"colorscale\":[[0.0,\"#0d0887\"],[0.1111111111111111,\"#46039f\"],[0.2222222222222222,\"#7201a8\"],[0.3333333333333333,\"#9c179e\"],[0.4444444444444444,\"#bd3786\"],[0.5555555555555556,\"#d8576b\"],[0.6666666666666666,\"#ed7953\"],[0.7777777777777778,\"#fb9f3a\"],[0.8888888888888888,\"#fdca26\"],[1.0,\"#f0f921\"]]}],\"contourcarpet\":[{\"type\":\"contourcarpet\",\"colorbar\":{\"outlinewidth\":0,\"ticks\":\"\"}}],\"contour\":[{\"type\":\"contour\",\"colorbar\":{\"outlinewidth\":0,\"ticks\":\"\"},\"colorscale\":[[0.0,\"#0d0887\"],[0.1111111111111111,\"#46039f\"],[0.2222222222222222,\"#7201a8\"],[0.3333333333333333,\"#9c179e\"],[0.4444444444444444,\"#bd3786\"],[0.5555555555555556,\"#d8576b\"],[0.6666666666666666,\"#ed7953\"],[0.7777777777777778,\"#fb9f3a\"],[0.8888888888888888,\"#fdca26\"],[1.0,\"#f0f921\"]]}],\"surface\":[{\"type\":\"surface\",\"colorbar\":{\"outlinewidth\":0,\"ticks\":\"\"},\"colorscale\":[[0.0,\"#0d0887\"],[0.1111111111111111,\"#46039f\"],[0.2222222222222222,\"#7201a8\"],[0.3333333333333333,\"#9c179e\"],[0.4444444444444444,\"#bd3786\"],[0.5555555555555556,\"#d8576b\"],[0.6666666666666666,\"#ed7953\"],[0.7777777777777778,\"#fb9f3a\"],[0.8888888888888888,\"#fdca26\"],[1.0,\"#f0f921\"]]}],\"mesh3d\":[{\"type\":\"mesh3d\",\"colorbar\":{\"outlinewidth\":0,\"ticks\":\"\"}}],\"scatter\":[{\"fillpattern\":{\"fillmode\":\"overlay\",\"size\":10,\"solidity\":0.2},\"type\":\"scatter\"}],\"parcoords\":[{\"type\":\"parcoords\",\"line\":{\"colorbar\":{\"outlinewidth\":0,\"ticks\":\"\"}}}],\"scatterpolargl\":[{\"type\":\"scatterpolargl\",\"marker\":{\"colorbar\":{\"outlinewidth\":0,\"ticks\":\"\"}}}],\"bar\":[{\"error_x\":{\"color\":\"#2a3f5f\"},\"error_y\":{\"color\":\"#2a3f5f\"},\"marker\":{\"line\":{\"color\":\"#E5ECF6\",\"width\":0.5},\"pattern\":{\"fillmode\":\"overlay\",\"size\":10,\"solidity\":0.2}},\"type\":\"bar\"}],\"scattergeo\":[{\"type\":\"scattergeo\",\"marker\":{\"colorbar\":{\"outlinewidth\":0,\"ticks\":\"\"}}}],\"scatterpolar\":[{\"type\":\"scatterpolar\",\"marker\":{\"colorbar\":{\"outlinewidth\":0,\"ticks\":\"\"}}}],\"histogram\":[{\"marker\":{\"pattern\":{\"fillmode\":\"overlay\",\"size\":10,\"solidity\":0.2}},\"type\":\"histogram\"}],\"scattergl\":[{\"type\":\"scattergl\",\"marker\":{\"colorbar\":{\"outlinewidth\":0,\"ticks\":\"\"}}}],\"scatter3d\":[{\"type\":\"scatter3d\",\"line\":{\"colorbar\":{\"outlinewidth\":0,\"ticks\":\"\"}},\"marker\":{\"colorbar\":{\"outlinewidth\":0,\"ticks\":\"\"}}}],\"scattermapbox\":[{\"type\":\"scattermapbox\",\"marker\":{\"colorbar\":{\"outlinewidth\":0,\"ticks\":\"\"}}}],\"scatterternary\":[{\"type\":\"scatterternary\",\"marker\":{\"colorbar\":{\"outlinewidth\":0,\"ticks\":\"\"}}}],\"scattercarpet\":[{\"type\":\"scattercarpet\",\"marker\":{\"colorbar\":{\"outlinewidth\":0,\"ticks\":\"\"}}}],\"carpet\":[{\"aaxis\":{\"endlinecolor\":\"#2a3f5f\",\"gridcolor\":\"white\",\"linecolor\":\"white\",\"minorgridcolor\":\"white\",\"startlinecolor\":\"#2a3f5f\"},\"baxis\":{\"endlinecolor\":\"#2a3f5f\",\"gridcolor\":\"white\",\"linecolor\":\"white\",\"minorgridcolor\":\"white\",\"startlinecolor\":\"#2a3f5f\"},\"type\":\"carpet\"}],\"table\":[{\"cells\":{\"fill\":{\"color\":\"#EBF0F8\"},\"line\":{\"color\":\"white\"}},\"header\":{\"fill\":{\"color\":\"#C8D4E3\"},\"line\":{\"color\":\"white\"}},\"type\":\"table\"}],\"barpolar\":[{\"marker\":{\"line\":{\"color\":\"#E5ECF6\",\"width\":0.5},\"pattern\":{\"fillmode\":\"overlay\",\"size\":10,\"solidity\":0.2}},\"type\":\"barpolar\"}],\"pie\":[{\"automargin\":true,\"type\":\"pie\"}]},\"layout\":{\"autotypenumbers\":\"strict\",\"colorway\":[\"#636efa\",\"#EF553B\",\"#00cc96\",\"#ab63fa\",\"#FFA15A\",\"#19d3f3\",\"#FF6692\",\"#B6E880\",\"#FF97FF\",\"#FECB52\"],\"font\":{\"color\":\"#2a3f5f\"},\"hovermode\":\"closest\",\"hoverlabel\":{\"align\":\"left\"},\"paper_bgcolor\":\"white\",\"plot_bgcolor\":\"#E5ECF6\",\"polar\":{\"bgcolor\":\"#E5ECF6\",\"angularaxis\":{\"gridcolor\":\"white\",\"linecolor\":\"white\",\"ticks\":\"\"},\"radialaxis\":{\"gridcolor\":\"white\",\"linecolor\":\"white\",\"ticks\":\"\"}},\"ternary\":{\"bgcolor\":\"#E5ECF6\",\"aaxis\":{\"gridcolor\":\"white\",\"linecolor\":\"white\",\"ticks\":\"\"},\"baxis\":{\"gridcolor\":\"white\",\"linecolor\":\"white\",\"ticks\":\"\"},\"caxis\":{\"gridcolor\":\"white\",\"linecolor\":\"white\",\"ticks\":\"\"}},\"coloraxis\":{\"colorbar\":{\"outlinewidth\":0,\"ticks\":\"\"}},\"colorscale\":{\"sequential\":[[0.0,\"#0d0887\"],[0.1111111111111111,\"#46039f\"],[0.2222222222222222,\"#7201a8\"],[0.3333333333333333,\"#9c179e\"],[0.4444444444444444,\"#bd3786\"],[0.5555555555555556,\"#d8576b\"],[0.6666666666666666,\"#ed7953\"],[0.7777777777777778,\"#fb9f3a\"],[0.8888888888888888,\"#fdca26\"],[1.0,\"#f0f921\"]],\"sequentialminus\":[[0.0,\"#0d0887\"],[0.1111111111111111,\"#46039f\"],[0.2222222222222222,\"#7201a8\"],[0.3333333333333333,\"#9c179e\"],[0.4444444444444444,\"#bd3786\"],[0.5555555555555556,\"#d8576b\"],[0.6666666666666666,\"#ed7953\"],[0.7777777777777778,\"#fb9f3a\"],[0.8888888888888888,\"#fdca26\"],[1.0,\"#f0f921\"]],\"diverging\":[[0,\"#8e0152\"],[0.1,\"#c51b7d\"],[0.2,\"#de77ae\"],[0.3,\"#f1b6da\"],[0.4,\"#fde0ef\"],[0.5,\"#f7f7f7\"],[0.6,\"#e6f5d0\"],[0.7,\"#b8e186\"],[0.8,\"#7fbc41\"],[0.9,\"#4d9221\"],[1,\"#276419\"]]},\"xaxis\":{\"gridcolor\":\"white\",\"linecolor\":\"white\",\"ticks\":\"\",\"title\":{\"standoff\":15},\"zerolinecolor\":\"white\",\"automargin\":true,\"zerolinewidth\":2},\"yaxis\":{\"gridcolor\":\"white\",\"linecolor\":\"white\",\"ticks\":\"\",\"title\":{\"standoff\":15},\"zerolinecolor\":\"white\",\"automargin\":true,\"zerolinewidth\":2},\"scene\":{\"xaxis\":{\"backgroundcolor\":\"#E5ECF6\",\"gridcolor\":\"white\",\"linecolor\":\"white\",\"showbackground\":true,\"ticks\":\"\",\"zerolinecolor\":\"white\",\"gridwidth\":2},\"yaxis\":{\"backgroundcolor\":\"#E5ECF6\",\"gridcolor\":\"white\",\"linecolor\":\"white\",\"showbackground\":true,\"ticks\":\"\",\"zerolinecolor\":\"white\",\"gridwidth\":2},\"zaxis\":{\"backgroundcolor\":\"#E5ECF6\",\"gridcolor\":\"white\",\"linecolor\":\"white\",\"showbackground\":true,\"ticks\":\"\",\"zerolinecolor\":\"white\",\"gridwidth\":2}},\"shapedefaults\":{\"line\":{\"color\":\"#2a3f5f\"}},\"annotationdefaults\":{\"arrowcolor\":\"#2a3f5f\",\"arrowhead\":0,\"arrowwidth\":1},\"geo\":{\"bgcolor\":\"white\",\"landcolor\":\"#E5ECF6\",\"subunitcolor\":\"white\",\"showland\":true,\"showlakes\":true,\"lakecolor\":\"white\"},\"title\":{\"x\":0.05},\"mapbox\":{\"style\":\"light\"}}},\"xaxis\":{\"anchor\":\"y\",\"domain\":[0.0,1.0]},\"yaxis\":{\"anchor\":\"x\",\"domain\":[0.7333333333333333,1.0]},\"xaxis2\":{\"anchor\":\"y2\",\"domain\":[0.0,1.0]},\"yaxis2\":{\"anchor\":\"x2\",\"domain\":[0.36666666666666664,0.6333333333333333]},\"xaxis3\":{\"anchor\":\"y3\",\"domain\":[0.0,1.0]},\"yaxis3\":{\"anchor\":\"x3\",\"domain\":[0.0,0.26666666666666666]}},                        {\"responsive\": true}                    ).then(function(){\n",
              "                            \n",
              "var gd = document.getElementById('424a3ae1-0a4a-41e6-ab95-8ba54bb04690');\n",
              "var x = new MutationObserver(function (mutations, observer) {{\n",
              "        var display = window.getComputedStyle(gd).display;\n",
              "        if (!display || display === 'none') {{\n",
              "            console.log([gd, 'removed!']);\n",
              "            Plotly.purge(gd);\n",
              "            observer.disconnect();\n",
              "        }}\n",
              "}});\n",
              "\n",
              "// Listen for the removal of the full notebook cells\n",
              "var notebookContainer = gd.closest('#notebook-container');\n",
              "if (notebookContainer) {{\n",
              "    x.observe(notebookContainer, {childList: true});\n",
              "}}\n",
              "\n",
              "// Listen for the clearing of the current output cell\n",
              "var outputEl = gd.closest('.output');\n",
              "if (outputEl) {{\n",
              "    x.observe(outputEl, {childList: true});\n",
              "}}\n",
              "\n",
              "                        })                };                });            </script>        </div>"
            ]
          },
          "metadata": {},
          "output_type": "display_data"
        }
      ],
      "source": [
        "import plotly.graph_objects as go\n",
        "from plotly.subplots import make_subplots\n",
        "\n",
        "df['Close '+ativo].rolling(5).mean() \n",
        "\n",
        "\n",
        "fig = make_subplots(rows=3, cols=1) #go.Figure()\n",
        "fig.add_trace(go.Scatter(x = df.index , y = df['Close '+ativo].values , name=\"preço\"),1,1)\n",
        "fig.add_trace(go.Scatter(x = df.index , y =  df['Close '+ativo].rolling(5).mean(), mode='lines', \n",
        "                         line=dict(color='firebrick', width=2, dash='dot'), name=\"mma5\"),1,1)\n",
        "\n",
        "fig.add_trace(go.Scatter(x = df.loc[entra].index, y = df.loc[entra]['Close '+ativo] , mode='markers' ,name='Entrada',\n",
        "                             marker=dict(size=12, symbol=\"arrow\", angle=45, line=dict(width=2, color=\"DarkSlateGrey\"))\n",
        "                         ),1,1)\n",
        "fig.update_traces(\n",
        "    marker=dict(size=12, symbol=\"arrow\", angle=45, line=dict(width=2, color=\"DarkSlateGrey\")),\n",
        "    selector=dict(mode=\"markers\"),\n",
        ")\n",
        "fig.add_trace(go.Scatter(x = df.loc[sai].index, y = df.loc[sai]['Close '+ativo] , mode='markers' ,name='Saida',\n",
        "                         marker=dict(size=12, symbol=\"arrow\", angle=-135, line=dict(width=2, color=\"red\"))\n",
        "                         ),1,1)\n",
        "fig.add_trace(go.Scatter(x = df.index , y = IFR[ativo].values , name=\"ifr2\"),2,1)\n",
        "fig.add_trace(go.Scatter(x = df.index , y = [5]*len(df.index) , name=\"ifr2=5\", mode='lines', \n",
        "              line=dict(color='red', width=4, dash='dot')),2,1)\n",
        "\n",
        "fig.add_trace(go.Scatter(x =posicao.index , y = posicao['pos'] , mode='lines', name=\"posição\"),3,1)\n",
        "\n",
        "\n",
        "fig.show()"
      ]
    },
    {
      "cell_type": "code",
      "execution_count": 14,
      "metadata": {},
      "outputs": [
        {
          "data": {
            "application/vnd.plotly.v1+json": {
              "config": {
                "linkText": "Export to plot.ly",
                "plotlyServerURL": "https://plot.ly",
                "showLink": true
              },
              "data": [
                {
                  "line": {
                    "color": "rgba(255, 153, 51, 1.0)",
                    "dash": "solid",
                    "shape": "linear",
                    "width": 1.3
                  },
                  "mode": "lines",
                  "name": "retorno",
                  "text": "",
                  "type": "scatter",
                  "x": [
                    "2023-02-27",
                    "2023-02-28",
                    "2023-03-01",
                    "2023-03-02",
                    "2023-03-03",
                    "2023-03-06",
                    "2023-03-07",
                    "2023-03-08",
                    "2023-03-09",
                    "2023-03-10",
                    "2023-03-13",
                    "2023-03-14",
                    "2023-03-15",
                    "2023-03-16",
                    "2023-03-17",
                    "2023-03-20",
                    "2023-03-21",
                    "2023-03-22",
                    "2023-03-23",
                    "2023-03-24",
                    "2023-03-27",
                    "2023-03-28",
                    "2023-03-29",
                    "2023-03-30",
                    "2023-03-31",
                    "2023-04-03",
                    "2023-04-04",
                    "2023-04-05",
                    "2023-04-06",
                    "2023-04-10",
                    "2023-04-11",
                    "2023-04-12",
                    "2023-04-13",
                    "2023-04-14",
                    "2023-04-17",
                    "2023-04-18",
                    "2023-04-19",
                    "2023-04-20",
                    "2023-04-24",
                    "2023-04-25",
                    "2023-04-26",
                    "2023-04-27",
                    "2023-04-28",
                    "2023-05-02",
                    "2023-05-03",
                    "2023-05-04",
                    "2023-05-05",
                    "2023-05-08",
                    "2023-05-09",
                    "2023-05-10",
                    "2023-05-11",
                    "2023-05-12",
                    "2023-05-15",
                    "2023-05-16",
                    "2023-05-17",
                    "2023-05-18",
                    "2023-05-19",
                    "2023-05-22",
                    "2023-05-23",
                    "2023-05-24",
                    "2023-05-25",
                    "2023-05-26",
                    "2023-05-29",
                    "2023-05-30",
                    "2023-05-31",
                    "2023-06-01",
                    "2023-06-02",
                    "2023-06-05",
                    "2023-06-06",
                    "2023-06-07",
                    "2023-06-09",
                    "2023-06-12",
                    "2023-06-13",
                    "2023-06-14",
                    "2023-06-15",
                    "2023-06-16",
                    "2023-06-19",
                    "2023-06-20",
                    "2023-06-21",
                    "2023-06-22",
                    "2023-06-23",
                    "2023-06-26",
                    "2023-06-27",
                    "2023-06-28",
                    "2023-06-29",
                    "2023-06-30",
                    "2023-07-03",
                    "2023-07-04",
                    "2023-07-05",
                    "2023-07-06",
                    "2023-07-07",
                    "2023-07-10",
                    "2023-07-11",
                    "2023-07-12",
                    "2023-07-13",
                    "2023-07-14",
                    "2023-07-17",
                    "2023-07-18",
                    "2023-07-19",
                    "2023-07-20",
                    "2023-07-21",
                    "2023-07-24",
                    "2023-07-25",
                    "2023-07-26",
                    "2023-07-27",
                    "2023-07-28",
                    "2023-07-31",
                    "2023-08-01",
                    "2023-08-02",
                    "2023-08-03",
                    "2023-08-04",
                    "2023-08-07",
                    "2023-08-08",
                    "2023-08-09",
                    "2023-08-10",
                    "2023-08-11",
                    "2023-08-14",
                    "2023-08-15",
                    "2023-08-16",
                    "2023-08-17",
                    "2023-08-18",
                    "2023-08-21",
                    "2023-08-22",
                    "2023-08-23",
                    "2023-08-24",
                    "2023-08-25",
                    "2023-08-28",
                    "2023-08-29",
                    "2023-08-30",
                    "2023-08-31",
                    "2023-09-01",
                    "2023-09-04",
                    "2023-09-05",
                    "2023-09-06",
                    "2023-09-08",
                    "2023-09-11",
                    "2023-09-12",
                    "2023-09-13",
                    "2023-09-14",
                    "2023-09-15",
                    "2023-09-18",
                    "2023-09-19",
                    "2023-09-20",
                    "2023-09-21",
                    "2023-09-22",
                    "2023-09-25",
                    "2023-09-26",
                    "2023-09-27",
                    "2023-09-28",
                    "2023-09-29",
                    "2023-10-02",
                    "2023-10-03",
                    "2023-10-04",
                    "2023-10-05",
                    "2023-10-06",
                    "2023-10-09",
                    "2023-10-10",
                    "2023-10-11",
                    "2023-10-13",
                    "2023-10-16",
                    "2023-10-17",
                    "2023-10-18",
                    "2023-10-19",
                    "2023-10-20",
                    "2023-10-23",
                    "2023-10-24",
                    "2023-10-25",
                    "2023-10-26",
                    "2023-10-27",
                    "2023-10-30",
                    "2023-10-31",
                    "2023-11-01",
                    "2023-11-03",
                    "2023-11-06",
                    "2023-11-07",
                    "2023-11-08",
                    "2023-11-09",
                    "2023-11-10",
                    "2023-11-13",
                    "2023-11-14",
                    "2023-11-16",
                    "2023-11-17",
                    "2023-11-20",
                    "2023-11-21",
                    "2023-11-22",
                    "2023-11-23",
                    "2023-11-24",
                    "2023-11-27",
                    "2023-11-28",
                    "2023-11-29",
                    "2023-11-30",
                    "2023-12-01",
                    "2023-12-04",
                    "2023-12-05",
                    "2023-12-06",
                    "2023-12-07",
                    "2023-12-08",
                    "2023-12-11",
                    "2023-12-12",
                    "2023-12-13",
                    "2023-12-14",
                    "2023-12-15",
                    "2023-12-18",
                    "2023-12-19",
                    "2023-12-20",
                    "2023-12-21",
                    "2023-12-22",
                    "2023-12-26",
                    "2023-12-27",
                    "2023-12-28",
                    "2024-01-02",
                    "2024-01-03",
                    "2024-01-04",
                    "2024-01-05",
                    "2024-01-08",
                    "2024-01-09",
                    "2024-01-10",
                    "2024-01-11",
                    "2024-01-12",
                    "2024-01-15",
                    "2024-01-16",
                    "2024-01-17",
                    "2024-01-18",
                    "2024-01-19",
                    "2024-01-22",
                    "2024-01-23",
                    "2024-01-24",
                    "2024-01-25",
                    "2024-01-26",
                    "2024-01-29",
                    "2024-01-30",
                    "2024-01-31",
                    "2024-02-01",
                    "2024-02-02",
                    "2024-02-05",
                    "2024-02-06",
                    "2024-02-07",
                    "2024-02-08",
                    "2024-02-09",
                    "2024-02-14",
                    "2024-02-15",
                    "2024-02-16",
                    "2024-02-19",
                    "2024-02-20",
                    "2024-02-21",
                    "2024-02-22",
                    "2024-02-23",
                    "2024-02-26"
                  ],
                  "y": [
                    "",
                    -0.006637224348768678,
                    -0.03595131431862064,
                    -0.017146057044138074,
                    -0.021570767419802794,
                    -0.001106204058128002,
                    0.016039852986010183,
                    0.05088496324650271,
                    0.05530967362216743,
                    0.051991167304630714,
                    0.048672449273398755,
                    0.02710168185359585,
                    0.02267697147793113,
                    0.0315264980861083,
                    0.03871682446394109,
                    0.02378317553605913,
                    0.02710168185359585,
                    0.018805257274482567,
                    -0.013827444869753736,
                    0.003871608346600608,
                    0.013827444869753736,
                    0.024889379594187133,
                    0.03429200823142842,
                    0.053650367534975096,
                    0.04258853866738943,
                    0.04922555130246287,
                    0.06249989414315249,
                    0.0315264980861083,
                    0.03207960011517241,
                    0.028207991768571583,
                    0.053097371362758716,
                    0.06858401646285706,
                    0.06415930608719234,
                    0.06692481623251267,
                    0.08960178771044358,
                    0.08517697147793113,
                    0.06803091443379294,
                    0.09000965414450723,
                    0.09611463026320233,
                    0.09333969885843962,
                    0.08223976152569334,
                    0.08057473916872704,
                    0.0933396988584394,
                    0.09222968395379527,
                    0.10665956014362621,
                    0.10443953033433795,
                    0.16271404254598387,
                    0.1410691753328135,
                    0.13718422902340666,
                    0.13718422902340666,
                    0.15660906642728856,
                    0.1571640738796105,
                    0.16493396649842418,
                    0.14994908285627107,
                    0.1554990515226442,
                    0.1693739202601532,
                    0.17547889637884828,
                    0.17270385911723785,
                    0.1660439814030683,
                    0.15161410521323737,
                    0.16493396649842418,
                    0.16548897395074635,
                    0.1516141052132376,
                    0.15494404407032247,
                    0.15549905152264443,
                    0.21932342654381576,
                    0.2559530715422915,
                    0.25262313268520664,
                    0.2726029775414107,
                    0.25262313268520664,
                    0.24318821770942667,
                    0.2487381863757998,
                    0.2531781401375286,
                    0.27371299244605485,
                    0.2742678940415293,
                    0.21377356373429035,
                    0.22820333406727356,
                    0.24429823261407058,
                    0.23597333254293473,
                    0.22986835642423964,
                    0.21099852647267991,
                    0.20322863385386625,
                    0.201008604044578,
                    0.1965686502828492,
                    0.21377356373429057,
                    0.23208838623352834,
                    0.2565080789946137,
                    0.2626130551133088,
                    0.2698279402798005,
                    0.24429823261407102,
                    0.2609480327563427,
                    0.23208838623352857,
                    0.23319829528132519,
                    0.25650807899461414,
                    0.2648330849225975,
                    0.2454082475187156,
                    0.2581731013515802,
                    0.25595307154229197,
                    0.26538798651807194,
                    0.27315798499373334,
                    0.2959127612547001,
                    0.3330974137054976,
                    0.33698236001490467,
                    0.3319873988008537,
                    0.29702277615934425,
                    0.29702277615934425,
                    0.289807785136005,
                    0.2764879238508182,
                    0.2787079536601065,
                    0.29258282239761546,
                    0.28814276277903894,
                    0.28980778513600525,
                    0.29424773889773403,
                    0.32421750618204004,
                    0.3308773838962096,
                    0.26538798651807194,
                    0.2676080163273602,
                    0.2775979387554621,
                    0.26094803275634293,
                    0.23319829528132519,
                    0.23597333254293562,
                    0.2270934250194776,
                    0.267053008875038,
                    0.29313772399308946,
                    0.2837028090173095,
                    0.2570630864469359,
                    0.262613055113309,
                    0.2692730386843263,
                    0.25595307154229174,
                    0.2404132863046642,
                    0.2581731013515798,
                    0.25428815504217295,
                    0.22542840266251085,
                    0.21377356373429035,
                    0.22542840266251085,
                    0.22875834151959573,
                    0.26316806256563074,
                    0.29424773889773337,
                    0.3286574599437684,
                    0.32310749127739524,
                    0.3175575226110221,
                    0.31811253006334406,
                    0.32532741522983555,
                    0.30312764642119094,
                    0.30035271501642824,
                    0.29813268520713976,
                    0.26816302377968126,
                    0.23763824904305308,
                    0.26427807747027443,
                    0.2664980014227152,
                    0.2454082475187147,
                    0.20267362640154385,
                    0.20544855780630678,
                    0.1976786651874931,
                    0.20933360997256134,
                    0.22487339521018868,
                    0.2726029775414105,
                    0.2803728701602244,
                    0.2487381863757998,
                    0.2520681252328847,
                    0.2159934876867311,
                    0.18213877409301804,
                    0.2026736264015443,
                    0.19712365773517115,
                    0.24485324006639297,
                    0.2337533027336467,
                    0.22376338030554477,
                    0.2637230700179529,
                    0.2265384175671552,
                    0.2220984638054262,
                    0.23819325649537593,
                    0.276487923850818,
                    0.2837028090173095,
                    0.2837028090173095,
                    0.27093795518444463,
                    0.2570630864469359,
                    0.26816302377968215,
                    0.28148288506486896,
                    0.2653879865180717,
                    0.29924270011178455,
                    0.31034263744453083,
                    0.29036279258832676,
                    0.3075676001829204,
                    0.27093795518444463,
                    0.25817310135158,
                    0.2714929626367668,
                    0.2520681252328849,
                    0.2526231326852071,
                    0.2587281088039022,
                    0.27093795518444486,
                    0.27093795518444486,
                    0.26372307001795314,
                    0.25317814013752904,
                    0.24651815656651177,
                    0.25151311778056273,
                    0.24263321025710494,
                    0.23042336387656226,
                    0.22931334897191813,
                    0.23930327140002028,
                    0.23985827885234245,
                    0.2737129924460555,
                    0.2664980014227163,
                    0.23264328782900345,
                    0.24318821770942756,
                    0.2542881550421736,
                    0.2664980014227163,
                    0.2709379551844451,
                    0.27149296263676725,
                    0.2764879238508182,
                    0.2737129924460555,
                    0.2348633176382915,
                    0.24207820280478298,
                    0.2431882177094271,
                    0.2570630864469361,
                    0.3120075539446494,
                    0.30423766132583574,
                    0.3214424689204296,
                    0.2825928999695133,
                    0.30257263896886966,
                    0.29258282239761524,
                    0.26372307001795314,
                    0.22209846380542642,
                    0.20822359506791766,
                    0.2431882177094271,
                    0.23652833999525757,
                    0.2731579849937331,
                    0.2492931938281222,
                    0.24596325497103733,
                    0.2565080789946137,
                    0.2687180312320041,
                    0.25595307154229174,
                    0.2798178627079029,
                    0.27759793875546235,
                    0.2676080163273602,
                    0.2581731013515802,
                    0.24984820128044438,
                    0.3020176315165475,
                    0.30701259273059844,
                    0.33698236001490445,
                    0.3225524838250735,
                    0.3258824226821584,
                    0.3003527150164289,
                    0.2898077851360048,
                    0.2959127612547001,
                    0.27593291639849604,
                    0.2703829477321229,
                    0.2659429939703939,
                    0.2615030402086649
                  ]
                },
                {
                  "line": {
                    "color": "rgba(55, 128, 191, 1.0)",
                    "dash": "solid",
                    "shape": "linear",
                    "width": 1.3
                  },
                  "mode": "lines",
                  "name": "retorno_estrategia",
                  "text": "",
                  "type": "scatter",
                  "x": [
                    "2023-02-27",
                    "2023-02-28",
                    "2023-03-01",
                    "2023-03-02",
                    "2023-03-03",
                    "2023-03-06",
                    "2023-03-07",
                    "2023-03-08",
                    "2023-03-09",
                    "2023-03-10",
                    "2023-03-13",
                    "2023-03-14",
                    "2023-03-15",
                    "2023-03-16",
                    "2023-03-17",
                    "2023-03-20",
                    "2023-03-21",
                    "2023-03-22",
                    "2023-03-23",
                    "2023-03-24",
                    "2023-03-27",
                    "2023-03-28",
                    "2023-03-29",
                    "2023-03-30",
                    "2023-03-31",
                    "2023-04-03",
                    "2023-04-04",
                    "2023-04-05",
                    "2023-04-06",
                    "2023-04-10",
                    "2023-04-11",
                    "2023-04-12",
                    "2023-04-13",
                    "2023-04-14",
                    "2023-04-17",
                    "2023-04-18",
                    "2023-04-19",
                    "2023-04-20",
                    "2023-04-24",
                    "2023-04-25",
                    "2023-04-26",
                    "2023-04-27",
                    "2023-04-28",
                    "2023-05-02",
                    "2023-05-03",
                    "2023-05-04",
                    "2023-05-05",
                    "2023-05-08",
                    "2023-05-09",
                    "2023-05-10",
                    "2023-05-11",
                    "2023-05-12",
                    "2023-05-15",
                    "2023-05-16",
                    "2023-05-17",
                    "2023-05-18",
                    "2023-05-19",
                    "2023-05-22",
                    "2023-05-23",
                    "2023-05-24",
                    "2023-05-25",
                    "2023-05-26",
                    "2023-05-29",
                    "2023-05-30",
                    "2023-05-31",
                    "2023-06-01",
                    "2023-06-02",
                    "2023-06-05",
                    "2023-06-06",
                    "2023-06-07",
                    "2023-06-09",
                    "2023-06-12",
                    "2023-06-13",
                    "2023-06-14",
                    "2023-06-15",
                    "2023-06-16",
                    "2023-06-19",
                    "2023-06-20",
                    "2023-06-21",
                    "2023-06-22",
                    "2023-06-23",
                    "2023-06-26",
                    "2023-06-27",
                    "2023-06-28",
                    "2023-06-29",
                    "2023-06-30",
                    "2023-07-03",
                    "2023-07-04",
                    "2023-07-05",
                    "2023-07-06",
                    "2023-07-07",
                    "2023-07-10",
                    "2023-07-11",
                    "2023-07-12",
                    "2023-07-13",
                    "2023-07-14",
                    "2023-07-17",
                    "2023-07-18",
                    "2023-07-19",
                    "2023-07-20",
                    "2023-07-21",
                    "2023-07-24",
                    "2023-07-25",
                    "2023-07-26",
                    "2023-07-27",
                    "2023-07-28",
                    "2023-07-31",
                    "2023-08-01",
                    "2023-08-02",
                    "2023-08-03",
                    "2023-08-04",
                    "2023-08-07",
                    "2023-08-08",
                    "2023-08-09",
                    "2023-08-10",
                    "2023-08-11",
                    "2023-08-14",
                    "2023-08-15",
                    "2023-08-16",
                    "2023-08-17",
                    "2023-08-18",
                    "2023-08-21",
                    "2023-08-22",
                    "2023-08-23",
                    "2023-08-24",
                    "2023-08-25",
                    "2023-08-28",
                    "2023-08-29",
                    "2023-08-30",
                    "2023-08-31",
                    "2023-09-01",
                    "2023-09-04",
                    "2023-09-05",
                    "2023-09-06",
                    "2023-09-08",
                    "2023-09-11",
                    "2023-09-12",
                    "2023-09-13",
                    "2023-09-14",
                    "2023-09-15",
                    "2023-09-18",
                    "2023-09-19",
                    "2023-09-20",
                    "2023-09-21",
                    "2023-09-22",
                    "2023-09-25",
                    "2023-09-26",
                    "2023-09-27",
                    "2023-09-28",
                    "2023-09-29",
                    "2023-10-02",
                    "2023-10-03",
                    "2023-10-04",
                    "2023-10-05",
                    "2023-10-06",
                    "2023-10-09",
                    "2023-10-10",
                    "2023-10-11",
                    "2023-10-13",
                    "2023-10-16",
                    "2023-10-17",
                    "2023-10-18",
                    "2023-10-19",
                    "2023-10-20",
                    "2023-10-23",
                    "2023-10-24",
                    "2023-10-25",
                    "2023-10-26",
                    "2023-10-27",
                    "2023-10-30",
                    "2023-10-31",
                    "2023-11-01",
                    "2023-11-03",
                    "2023-11-06",
                    "2023-11-07",
                    "2023-11-08",
                    "2023-11-09",
                    "2023-11-10",
                    "2023-11-13",
                    "2023-11-14",
                    "2023-11-16",
                    "2023-11-17",
                    "2023-11-20",
                    "2023-11-21",
                    "2023-11-22",
                    "2023-11-23",
                    "2023-11-24",
                    "2023-11-27",
                    "2023-11-28",
                    "2023-11-29",
                    "2023-11-30",
                    "2023-12-01",
                    "2023-12-04",
                    "2023-12-05",
                    "2023-12-06",
                    "2023-12-07",
                    "2023-12-08",
                    "2023-12-11",
                    "2023-12-12",
                    "2023-12-13",
                    "2023-12-14",
                    "2023-12-15",
                    "2023-12-18",
                    "2023-12-19",
                    "2023-12-20",
                    "2023-12-21",
                    "2023-12-22",
                    "2023-12-26",
                    "2023-12-27",
                    "2023-12-28",
                    "2024-01-02",
                    "2024-01-03",
                    "2024-01-04",
                    "2024-01-05",
                    "2024-01-08",
                    "2024-01-09",
                    "2024-01-10",
                    "2024-01-11",
                    "2024-01-12",
                    "2024-01-15",
                    "2024-01-16",
                    "2024-01-17",
                    "2024-01-18",
                    "2024-01-19",
                    "2024-01-22",
                    "2024-01-23",
                    "2024-01-24",
                    "2024-01-25",
                    "2024-01-26",
                    "2024-01-29",
                    "2024-01-30",
                    "2024-01-31",
                    "2024-02-01",
                    "2024-02-02",
                    "2024-02-05",
                    "2024-02-06",
                    "2024-02-07",
                    "2024-02-08",
                    "2024-02-09",
                    "2024-02-14",
                    "2024-02-15",
                    "2024-02-16",
                    "2024-02-19",
                    "2024-02-20",
                    "2024-02-21",
                    "2024-02-22",
                    "2024-02-23",
                    "2024-02-26"
                  ],
                  "y": [
                    0,
                    0,
                    0,
                    0,
                    0,
                    0,
                    0,
                    0,
                    0,
                    0,
                    0,
                    0,
                    0,
                    0,
                    0,
                    0,
                    0,
                    0,
                    0,
                    0,
                    0.009917440079364903,
                    0.020936712496733678,
                    0.020936712496733678,
                    0.020936712496733678,
                    0.020936712496733678,
                    0.020936712496733678,
                    0.020936712496733678,
                    0.020936712496733678,
                    0.020936712496733678,
                    0.020936712496733678,
                    0.020936712496733678,
                    0.020936712496733678,
                    0.020936712496733678,
                    0.020936712496733678,
                    0.020936712496733678,
                    0.020936712496733678,
                    0.020936712496733678,
                    0.020936712496733678,
                    0.020936712496733678,
                    0.020936712496733678,
                    0.020936712496733678,
                    0.020936712496733678,
                    0.020936712496733678,
                    0.020936712496733678,
                    0.020936712496733678,
                    0.020936712496733678,
                    0.020936712496733678,
                    0.020936712496733678,
                    0.020936712496733678,
                    0.020936712496733678,
                    0.020936712496733678,
                    0.020936712496733678,
                    0.020936712496733678,
                    0.020936712496733678,
                    0.020936712496733678,
                    0.020936712496733678,
                    0.020936712496733678,
                    0.020936712496733678,
                    0.020936712496733678,
                    0.020936712496733678,
                    0.020936712496733678,
                    0.020936712496733678,
                    0.020936712496733678,
                    0.020936712496733678,
                    0.020936712496733678,
                    0.020936712496733678,
                    0.020936712496733678,
                    0.020936712496733678,
                    0.020936712496733678,
                    0.020936712496733678,
                    0.020936712496733678,
                    0.020936712496733678,
                    0.020936712496733678,
                    0.020936712496733678,
                    0.020936712496733678,
                    0.020936712496733678,
                    0.020936712496733678,
                    0.020936712496733678,
                    0.020936712496733678,
                    0.020936712496733678,
                    0.020936712496733678,
                    0.020936712496733678,
                    0.020936712496733678,
                    0.020936712496733678,
                    0.020936712496733678,
                    0.03634178905385199,
                    0.03634178905385199,
                    0.03634178905385199,
                    0.03634178905385199,
                    0.03634178905385199,
                    0.03634178905385199,
                    0.03634178905385199,
                    0.03634178905385199,
                    0.03634178905385199,
                    0.03634178905385199,
                    0.03634178905385199,
                    0.03634178905385199,
                    0.03634178905385199,
                    0.03634178905385199,
                    0.03634178905385199,
                    0.03634178905385199,
                    0.03634178905385199,
                    0.03634178905385199,
                    0.03634178905385199,
                    0.03634178905385199,
                    0.03634178905385199,
                    0.03634178905385199,
                    0.03634178905385199,
                    0.03634178905385199,
                    0.04758681670004705,
                    0.043988325492222424,
                    0.043988325492222424,
                    0.043988325492222424,
                    0.043988325492222424,
                    0.043988325492222424,
                    0.043988325492222424,
                    0.043988325492222424,
                    0.043988325492222424,
                    0.043988325492222424,
                    0.043988325492222424,
                    0.043988325492222424,
                    0.043988325492222424,
                    0.043988325492222424,
                    0.043988325492222424,
                    0.043988325492222424,
                    0.043988325492222424,
                    0.043988325492222424,
                    0.043988325492222424,
                    0.043988325492222424,
                    0.043988325492222424,
                    0.043988325492222424,
                    0.043988325492222424,
                    0.043988325492222424,
                    0.043988325492222424,
                    0.043988325492222424,
                    0.043988325492222424,
                    0.043988325492222424,
                    0.043988325492222424,
                    0.043988325492222424,
                    0.043988325492222424,
                    0.043988325492222424,
                    0.043988325492222424,
                    0.043988325492222424,
                    0.043988325492222424,
                    0.043988325492222424,
                    0.043988325492222424,
                    0.043988325492222424,
                    0.043988325492222424,
                    0.06645989171332056,
                    0.06833247014374688,
                    0.05054257323299405,
                    0.014494523186741937,
                    0.016835268548202942,
                    0.010281110101143298,
                    0.020112437065444633,
                    0.03322075395956414,
                    0.07348221709141511,
                    0.07348221709141511,
                    0.07348221709141511,
                    0.07348221709141511,
                    0.07348221709141511,
                    0.07348221709141511,
                    0.07348221709141511,
                    0.07348221709141511,
                    0.07348221709141511,
                    0.07348221709141511,
                    0.07348221709141511,
                    0.07348221709141511,
                    0.07348221709141511,
                    0.07348221709141511,
                    0.07348221709141511,
                    0.07348221709141511,
                    0.07348221709141511,
                    0.07348221709141511,
                    0.07348221709141511,
                    0.07348221709141511,
                    0.07348221709141511,
                    0.07348221709141511,
                    0.07348221709141511,
                    0.07348221709141511,
                    0.07348221709141511,
                    0.07348221709141511,
                    0.07348221709141511,
                    0.07348221709141511,
                    0.07348221709141511,
                    0.07348221709141511,
                    0.07348221709141511,
                    0.07348221709141511,
                    0.07348221709141511,
                    0.07348221709141511,
                    0.07348221709141511,
                    0.07348221709141511,
                    0.07348221709141511,
                    0.07348221709141511,
                    0.07348221709141511,
                    0.07348221709141511,
                    0.07348221709141511,
                    0.07348221709141511,
                    0.07348221709141511,
                    0.07348221709141511,
                    0.07348221709141511,
                    0.07348221709141511,
                    0.07348221709141511,
                    0.07348221709141511,
                    0.07348221709141511,
                    0.07348221709141511,
                    0.07348221709141511,
                    0.07348221709141511,
                    0.07348221709141511,
                    0.07348221709141511,
                    0.07348221709141511,
                    0.07348221709141511,
                    0.07348221709141511,
                    0.07348221709141511,
                    0.07348221709141511,
                    0.07348221709141511,
                    0.07348221709141511,
                    0.07348221709141511,
                    0.07348221709141511,
                    0.07348221709141511,
                    0.07348221709141511,
                    0.07348221709141511,
                    0.07348221709141511,
                    0.07348221709141511,
                    0.06773147058954043,
                    0.09936085056925448,
                    0.09936085056925448,
                    0.09936085056925448,
                    0.09936085056925448,
                    0.09936085056925448,
                    0.09936085056925448,
                    0.09936085056925448,
                    0.09936085056925448,
                    0.09936085056925448,
                    0.09936085056925448,
                    0.09936085056925448,
                    0.09936085056925448,
                    0.09936085056925448,
                    0.09936085056925448,
                    0.09936085056925448,
                    0.09936085056925448,
                    0.09936085056925448,
                    0.09936085056925448,
                    0.09936085056925448,
                    0.09936085056925448,
                    0.09936085056925448,
                    0.09936085056925448,
                    0.09936085056925448
                  ]
                }
              ],
              "layout": {
                "legend": {
                  "bgcolor": "#F5F6F9",
                  "font": {
                    "color": "#4D5663"
                  }
                },
                "paper_bgcolor": "#F5F6F9",
                "plot_bgcolor": "#F5F6F9",
                "template": {
                  "data": {
                    "bar": [
                      {
                        "error_x": {
                          "color": "#2a3f5f"
                        },
                        "error_y": {
                          "color": "#2a3f5f"
                        },
                        "marker": {
                          "line": {
                            "color": "#E5ECF6",
                            "width": 0.5
                          },
                          "pattern": {
                            "fillmode": "overlay",
                            "size": 10,
                            "solidity": 0.2
                          }
                        },
                        "type": "bar"
                      }
                    ],
                    "barpolar": [
                      {
                        "marker": {
                          "line": {
                            "color": "#E5ECF6",
                            "width": 0.5
                          },
                          "pattern": {
                            "fillmode": "overlay",
                            "size": 10,
                            "solidity": 0.2
                          }
                        },
                        "type": "barpolar"
                      }
                    ],
                    "carpet": [
                      {
                        "aaxis": {
                          "endlinecolor": "#2a3f5f",
                          "gridcolor": "white",
                          "linecolor": "white",
                          "minorgridcolor": "white",
                          "startlinecolor": "#2a3f5f"
                        },
                        "baxis": {
                          "endlinecolor": "#2a3f5f",
                          "gridcolor": "white",
                          "linecolor": "white",
                          "minorgridcolor": "white",
                          "startlinecolor": "#2a3f5f"
                        },
                        "type": "carpet"
                      }
                    ],
                    "choropleth": [
                      {
                        "colorbar": {
                          "outlinewidth": 0,
                          "ticks": ""
                        },
                        "type": "choropleth"
                      }
                    ],
                    "contour": [
                      {
                        "colorbar": {
                          "outlinewidth": 0,
                          "ticks": ""
                        },
                        "colorscale": [
                          [
                            0,
                            "#0d0887"
                          ],
                          [
                            0.1111111111111111,
                            "#46039f"
                          ],
                          [
                            0.2222222222222222,
                            "#7201a8"
                          ],
                          [
                            0.3333333333333333,
                            "#9c179e"
                          ],
                          [
                            0.4444444444444444,
                            "#bd3786"
                          ],
                          [
                            0.5555555555555556,
                            "#d8576b"
                          ],
                          [
                            0.6666666666666666,
                            "#ed7953"
                          ],
                          [
                            0.7777777777777778,
                            "#fb9f3a"
                          ],
                          [
                            0.8888888888888888,
                            "#fdca26"
                          ],
                          [
                            1,
                            "#f0f921"
                          ]
                        ],
                        "type": "contour"
                      }
                    ],
                    "contourcarpet": [
                      {
                        "colorbar": {
                          "outlinewidth": 0,
                          "ticks": ""
                        },
                        "type": "contourcarpet"
                      }
                    ],
                    "heatmap": [
                      {
                        "colorbar": {
                          "outlinewidth": 0,
                          "ticks": ""
                        },
                        "colorscale": [
                          [
                            0,
                            "#0d0887"
                          ],
                          [
                            0.1111111111111111,
                            "#46039f"
                          ],
                          [
                            0.2222222222222222,
                            "#7201a8"
                          ],
                          [
                            0.3333333333333333,
                            "#9c179e"
                          ],
                          [
                            0.4444444444444444,
                            "#bd3786"
                          ],
                          [
                            0.5555555555555556,
                            "#d8576b"
                          ],
                          [
                            0.6666666666666666,
                            "#ed7953"
                          ],
                          [
                            0.7777777777777778,
                            "#fb9f3a"
                          ],
                          [
                            0.8888888888888888,
                            "#fdca26"
                          ],
                          [
                            1,
                            "#f0f921"
                          ]
                        ],
                        "type": "heatmap"
                      }
                    ],
                    "heatmapgl": [
                      {
                        "colorbar": {
                          "outlinewidth": 0,
                          "ticks": ""
                        },
                        "colorscale": [
                          [
                            0,
                            "#0d0887"
                          ],
                          [
                            0.1111111111111111,
                            "#46039f"
                          ],
                          [
                            0.2222222222222222,
                            "#7201a8"
                          ],
                          [
                            0.3333333333333333,
                            "#9c179e"
                          ],
                          [
                            0.4444444444444444,
                            "#bd3786"
                          ],
                          [
                            0.5555555555555556,
                            "#d8576b"
                          ],
                          [
                            0.6666666666666666,
                            "#ed7953"
                          ],
                          [
                            0.7777777777777778,
                            "#fb9f3a"
                          ],
                          [
                            0.8888888888888888,
                            "#fdca26"
                          ],
                          [
                            1,
                            "#f0f921"
                          ]
                        ],
                        "type": "heatmapgl"
                      }
                    ],
                    "histogram": [
                      {
                        "marker": {
                          "pattern": {
                            "fillmode": "overlay",
                            "size": 10,
                            "solidity": 0.2
                          }
                        },
                        "type": "histogram"
                      }
                    ],
                    "histogram2d": [
                      {
                        "colorbar": {
                          "outlinewidth": 0,
                          "ticks": ""
                        },
                        "colorscale": [
                          [
                            0,
                            "#0d0887"
                          ],
                          [
                            0.1111111111111111,
                            "#46039f"
                          ],
                          [
                            0.2222222222222222,
                            "#7201a8"
                          ],
                          [
                            0.3333333333333333,
                            "#9c179e"
                          ],
                          [
                            0.4444444444444444,
                            "#bd3786"
                          ],
                          [
                            0.5555555555555556,
                            "#d8576b"
                          ],
                          [
                            0.6666666666666666,
                            "#ed7953"
                          ],
                          [
                            0.7777777777777778,
                            "#fb9f3a"
                          ],
                          [
                            0.8888888888888888,
                            "#fdca26"
                          ],
                          [
                            1,
                            "#f0f921"
                          ]
                        ],
                        "type": "histogram2d"
                      }
                    ],
                    "histogram2dcontour": [
                      {
                        "colorbar": {
                          "outlinewidth": 0,
                          "ticks": ""
                        },
                        "colorscale": [
                          [
                            0,
                            "#0d0887"
                          ],
                          [
                            0.1111111111111111,
                            "#46039f"
                          ],
                          [
                            0.2222222222222222,
                            "#7201a8"
                          ],
                          [
                            0.3333333333333333,
                            "#9c179e"
                          ],
                          [
                            0.4444444444444444,
                            "#bd3786"
                          ],
                          [
                            0.5555555555555556,
                            "#d8576b"
                          ],
                          [
                            0.6666666666666666,
                            "#ed7953"
                          ],
                          [
                            0.7777777777777778,
                            "#fb9f3a"
                          ],
                          [
                            0.8888888888888888,
                            "#fdca26"
                          ],
                          [
                            1,
                            "#f0f921"
                          ]
                        ],
                        "type": "histogram2dcontour"
                      }
                    ],
                    "mesh3d": [
                      {
                        "colorbar": {
                          "outlinewidth": 0,
                          "ticks": ""
                        },
                        "type": "mesh3d"
                      }
                    ],
                    "parcoords": [
                      {
                        "line": {
                          "colorbar": {
                            "outlinewidth": 0,
                            "ticks": ""
                          }
                        },
                        "type": "parcoords"
                      }
                    ],
                    "pie": [
                      {
                        "automargin": true,
                        "type": "pie"
                      }
                    ],
                    "scatter": [
                      {
                        "fillpattern": {
                          "fillmode": "overlay",
                          "size": 10,
                          "solidity": 0.2
                        },
                        "type": "scatter"
                      }
                    ],
                    "scatter3d": [
                      {
                        "line": {
                          "colorbar": {
                            "outlinewidth": 0,
                            "ticks": ""
                          }
                        },
                        "marker": {
                          "colorbar": {
                            "outlinewidth": 0,
                            "ticks": ""
                          }
                        },
                        "type": "scatter3d"
                      }
                    ],
                    "scattercarpet": [
                      {
                        "marker": {
                          "colorbar": {
                            "outlinewidth": 0,
                            "ticks": ""
                          }
                        },
                        "type": "scattercarpet"
                      }
                    ],
                    "scattergeo": [
                      {
                        "marker": {
                          "colorbar": {
                            "outlinewidth": 0,
                            "ticks": ""
                          }
                        },
                        "type": "scattergeo"
                      }
                    ],
                    "scattergl": [
                      {
                        "marker": {
                          "colorbar": {
                            "outlinewidth": 0,
                            "ticks": ""
                          }
                        },
                        "type": "scattergl"
                      }
                    ],
                    "scattermapbox": [
                      {
                        "marker": {
                          "colorbar": {
                            "outlinewidth": 0,
                            "ticks": ""
                          }
                        },
                        "type": "scattermapbox"
                      }
                    ],
                    "scatterpolar": [
                      {
                        "marker": {
                          "colorbar": {
                            "outlinewidth": 0,
                            "ticks": ""
                          }
                        },
                        "type": "scatterpolar"
                      }
                    ],
                    "scatterpolargl": [
                      {
                        "marker": {
                          "colorbar": {
                            "outlinewidth": 0,
                            "ticks": ""
                          }
                        },
                        "type": "scatterpolargl"
                      }
                    ],
                    "scatterternary": [
                      {
                        "marker": {
                          "colorbar": {
                            "outlinewidth": 0,
                            "ticks": ""
                          }
                        },
                        "type": "scatterternary"
                      }
                    ],
                    "surface": [
                      {
                        "colorbar": {
                          "outlinewidth": 0,
                          "ticks": ""
                        },
                        "colorscale": [
                          [
                            0,
                            "#0d0887"
                          ],
                          [
                            0.1111111111111111,
                            "#46039f"
                          ],
                          [
                            0.2222222222222222,
                            "#7201a8"
                          ],
                          [
                            0.3333333333333333,
                            "#9c179e"
                          ],
                          [
                            0.4444444444444444,
                            "#bd3786"
                          ],
                          [
                            0.5555555555555556,
                            "#d8576b"
                          ],
                          [
                            0.6666666666666666,
                            "#ed7953"
                          ],
                          [
                            0.7777777777777778,
                            "#fb9f3a"
                          ],
                          [
                            0.8888888888888888,
                            "#fdca26"
                          ],
                          [
                            1,
                            "#f0f921"
                          ]
                        ],
                        "type": "surface"
                      }
                    ],
                    "table": [
                      {
                        "cells": {
                          "fill": {
                            "color": "#EBF0F8"
                          },
                          "line": {
                            "color": "white"
                          }
                        },
                        "header": {
                          "fill": {
                            "color": "#C8D4E3"
                          },
                          "line": {
                            "color": "white"
                          }
                        },
                        "type": "table"
                      }
                    ]
                  },
                  "layout": {
                    "annotationdefaults": {
                      "arrowcolor": "#2a3f5f",
                      "arrowhead": 0,
                      "arrowwidth": 1
                    },
                    "autotypenumbers": "strict",
                    "coloraxis": {
                      "colorbar": {
                        "outlinewidth": 0,
                        "ticks": ""
                      }
                    },
                    "colorscale": {
                      "diverging": [
                        [
                          0,
                          "#8e0152"
                        ],
                        [
                          0.1,
                          "#c51b7d"
                        ],
                        [
                          0.2,
                          "#de77ae"
                        ],
                        [
                          0.3,
                          "#f1b6da"
                        ],
                        [
                          0.4,
                          "#fde0ef"
                        ],
                        [
                          0.5,
                          "#f7f7f7"
                        ],
                        [
                          0.6,
                          "#e6f5d0"
                        ],
                        [
                          0.7,
                          "#b8e186"
                        ],
                        [
                          0.8,
                          "#7fbc41"
                        ],
                        [
                          0.9,
                          "#4d9221"
                        ],
                        [
                          1,
                          "#276419"
                        ]
                      ],
                      "sequential": [
                        [
                          0,
                          "#0d0887"
                        ],
                        [
                          0.1111111111111111,
                          "#46039f"
                        ],
                        [
                          0.2222222222222222,
                          "#7201a8"
                        ],
                        [
                          0.3333333333333333,
                          "#9c179e"
                        ],
                        [
                          0.4444444444444444,
                          "#bd3786"
                        ],
                        [
                          0.5555555555555556,
                          "#d8576b"
                        ],
                        [
                          0.6666666666666666,
                          "#ed7953"
                        ],
                        [
                          0.7777777777777778,
                          "#fb9f3a"
                        ],
                        [
                          0.8888888888888888,
                          "#fdca26"
                        ],
                        [
                          1,
                          "#f0f921"
                        ]
                      ],
                      "sequentialminus": [
                        [
                          0,
                          "#0d0887"
                        ],
                        [
                          0.1111111111111111,
                          "#46039f"
                        ],
                        [
                          0.2222222222222222,
                          "#7201a8"
                        ],
                        [
                          0.3333333333333333,
                          "#9c179e"
                        ],
                        [
                          0.4444444444444444,
                          "#bd3786"
                        ],
                        [
                          0.5555555555555556,
                          "#d8576b"
                        ],
                        [
                          0.6666666666666666,
                          "#ed7953"
                        ],
                        [
                          0.7777777777777778,
                          "#fb9f3a"
                        ],
                        [
                          0.8888888888888888,
                          "#fdca26"
                        ],
                        [
                          1,
                          "#f0f921"
                        ]
                      ]
                    },
                    "colorway": [
                      "#636efa",
                      "#EF553B",
                      "#00cc96",
                      "#ab63fa",
                      "#FFA15A",
                      "#19d3f3",
                      "#FF6692",
                      "#B6E880",
                      "#FF97FF",
                      "#FECB52"
                    ],
                    "font": {
                      "color": "#2a3f5f"
                    },
                    "geo": {
                      "bgcolor": "white",
                      "lakecolor": "white",
                      "landcolor": "#E5ECF6",
                      "showlakes": true,
                      "showland": true,
                      "subunitcolor": "white"
                    },
                    "hoverlabel": {
                      "align": "left"
                    },
                    "hovermode": "closest",
                    "mapbox": {
                      "style": "light"
                    },
                    "paper_bgcolor": "white",
                    "plot_bgcolor": "#E5ECF6",
                    "polar": {
                      "angularaxis": {
                        "gridcolor": "white",
                        "linecolor": "white",
                        "ticks": ""
                      },
                      "bgcolor": "#E5ECF6",
                      "radialaxis": {
                        "gridcolor": "white",
                        "linecolor": "white",
                        "ticks": ""
                      }
                    },
                    "scene": {
                      "xaxis": {
                        "backgroundcolor": "#E5ECF6",
                        "gridcolor": "white",
                        "gridwidth": 2,
                        "linecolor": "white",
                        "showbackground": true,
                        "ticks": "",
                        "zerolinecolor": "white"
                      },
                      "yaxis": {
                        "backgroundcolor": "#E5ECF6",
                        "gridcolor": "white",
                        "gridwidth": 2,
                        "linecolor": "white",
                        "showbackground": true,
                        "ticks": "",
                        "zerolinecolor": "white"
                      },
                      "zaxis": {
                        "backgroundcolor": "#E5ECF6",
                        "gridcolor": "white",
                        "gridwidth": 2,
                        "linecolor": "white",
                        "showbackground": true,
                        "ticks": "",
                        "zerolinecolor": "white"
                      }
                    },
                    "shapedefaults": {
                      "line": {
                        "color": "#2a3f5f"
                      }
                    },
                    "ternary": {
                      "aaxis": {
                        "gridcolor": "white",
                        "linecolor": "white",
                        "ticks": ""
                      },
                      "baxis": {
                        "gridcolor": "white",
                        "linecolor": "white",
                        "ticks": ""
                      },
                      "bgcolor": "#E5ECF6",
                      "caxis": {
                        "gridcolor": "white",
                        "linecolor": "white",
                        "ticks": ""
                      }
                    },
                    "title": {
                      "x": 0.05
                    },
                    "xaxis": {
                      "automargin": true,
                      "gridcolor": "white",
                      "linecolor": "white",
                      "ticks": "",
                      "title": {
                        "standoff": 15
                      },
                      "zerolinecolor": "white",
                      "zerolinewidth": 2
                    },
                    "yaxis": {
                      "automargin": true,
                      "gridcolor": "white",
                      "linecolor": "white",
                      "ticks": "",
                      "title": {
                        "standoff": 15
                      },
                      "zerolinecolor": "white",
                      "zerolinewidth": 2
                    }
                  }
                },
                "title": {
                  "font": {
                    "color": "#4D5663"
                  }
                },
                "xaxis": {
                  "gridcolor": "#E1E5ED",
                  "showgrid": true,
                  "tickfont": {
                    "color": "#4D5663"
                  },
                  "title": {
                    "font": {
                      "color": "#4D5663"
                    },
                    "text": ""
                  },
                  "zerolinecolor": "#E1E5ED"
                },
                "yaxis": {
                  "gridcolor": "#E1E5ED",
                  "showgrid": true,
                  "tickfont": {
                    "color": "#4D5663"
                  },
                  "title": {
                    "font": {
                      "color": "#4D5663"
                    },
                    "text": ""
                  },
                  "zerolinecolor": "#E1E5ED"
                }
              }
            },
            "text/html": [
              "<div>                            <div id=\"01c90458-6d39-4423-bc38-30974963382b\" class=\"plotly-graph-div\" style=\"height:525px; width:100%;\"></div>            <script type=\"text/javascript\">                require([\"plotly\"], function(Plotly) {                    window.PLOTLYENV=window.PLOTLYENV || {};\n",
              "                    window.PLOTLYENV.BASE_URL='https://plot.ly';                                    if (document.getElementById(\"01c90458-6d39-4423-bc38-30974963382b\")) {                    Plotly.newPlot(                        \"01c90458-6d39-4423-bc38-30974963382b\",                        [{\"line\":{\"color\":\"rgba(255, 153, 51, 1.0)\",\"dash\":\"solid\",\"shape\":\"linear\",\"width\":1.3},\"mode\":\"lines\",\"name\":\"retorno\",\"text\":\"\",\"x\":[\"2023-02-27\",\"2023-02-28\",\"2023-03-01\",\"2023-03-02\",\"2023-03-03\",\"2023-03-06\",\"2023-03-07\",\"2023-03-08\",\"2023-03-09\",\"2023-03-10\",\"2023-03-13\",\"2023-03-14\",\"2023-03-15\",\"2023-03-16\",\"2023-03-17\",\"2023-03-20\",\"2023-03-21\",\"2023-03-22\",\"2023-03-23\",\"2023-03-24\",\"2023-03-27\",\"2023-03-28\",\"2023-03-29\",\"2023-03-30\",\"2023-03-31\",\"2023-04-03\",\"2023-04-04\",\"2023-04-05\",\"2023-04-06\",\"2023-04-10\",\"2023-04-11\",\"2023-04-12\",\"2023-04-13\",\"2023-04-14\",\"2023-04-17\",\"2023-04-18\",\"2023-04-19\",\"2023-04-20\",\"2023-04-24\",\"2023-04-25\",\"2023-04-26\",\"2023-04-27\",\"2023-04-28\",\"2023-05-02\",\"2023-05-03\",\"2023-05-04\",\"2023-05-05\",\"2023-05-08\",\"2023-05-09\",\"2023-05-10\",\"2023-05-11\",\"2023-05-12\",\"2023-05-15\",\"2023-05-16\",\"2023-05-17\",\"2023-05-18\",\"2023-05-19\",\"2023-05-22\",\"2023-05-23\",\"2023-05-24\",\"2023-05-25\",\"2023-05-26\",\"2023-05-29\",\"2023-05-30\",\"2023-05-31\",\"2023-06-01\",\"2023-06-02\",\"2023-06-05\",\"2023-06-06\",\"2023-06-07\",\"2023-06-09\",\"2023-06-12\",\"2023-06-13\",\"2023-06-14\",\"2023-06-15\",\"2023-06-16\",\"2023-06-19\",\"2023-06-20\",\"2023-06-21\",\"2023-06-22\",\"2023-06-23\",\"2023-06-26\",\"2023-06-27\",\"2023-06-28\",\"2023-06-29\",\"2023-06-30\",\"2023-07-03\",\"2023-07-04\",\"2023-07-05\",\"2023-07-06\",\"2023-07-07\",\"2023-07-10\",\"2023-07-11\",\"2023-07-12\",\"2023-07-13\",\"2023-07-14\",\"2023-07-17\",\"2023-07-18\",\"2023-07-19\",\"2023-07-20\",\"2023-07-21\",\"2023-07-24\",\"2023-07-25\",\"2023-07-26\",\"2023-07-27\",\"2023-07-28\",\"2023-07-31\",\"2023-08-01\",\"2023-08-02\",\"2023-08-03\",\"2023-08-04\",\"2023-08-07\",\"2023-08-08\",\"2023-08-09\",\"2023-08-10\",\"2023-08-11\",\"2023-08-14\",\"2023-08-15\",\"2023-08-16\",\"2023-08-17\",\"2023-08-18\",\"2023-08-21\",\"2023-08-22\",\"2023-08-23\",\"2023-08-24\",\"2023-08-25\",\"2023-08-28\",\"2023-08-29\",\"2023-08-30\",\"2023-08-31\",\"2023-09-01\",\"2023-09-04\",\"2023-09-05\",\"2023-09-06\",\"2023-09-08\",\"2023-09-11\",\"2023-09-12\",\"2023-09-13\",\"2023-09-14\",\"2023-09-15\",\"2023-09-18\",\"2023-09-19\",\"2023-09-20\",\"2023-09-21\",\"2023-09-22\",\"2023-09-25\",\"2023-09-26\",\"2023-09-27\",\"2023-09-28\",\"2023-09-29\",\"2023-10-02\",\"2023-10-03\",\"2023-10-04\",\"2023-10-05\",\"2023-10-06\",\"2023-10-09\",\"2023-10-10\",\"2023-10-11\",\"2023-10-13\",\"2023-10-16\",\"2023-10-17\",\"2023-10-18\",\"2023-10-19\",\"2023-10-20\",\"2023-10-23\",\"2023-10-24\",\"2023-10-25\",\"2023-10-26\",\"2023-10-27\",\"2023-10-30\",\"2023-10-31\",\"2023-11-01\",\"2023-11-03\",\"2023-11-06\",\"2023-11-07\",\"2023-11-08\",\"2023-11-09\",\"2023-11-10\",\"2023-11-13\",\"2023-11-14\",\"2023-11-16\",\"2023-11-17\",\"2023-11-20\",\"2023-11-21\",\"2023-11-22\",\"2023-11-23\",\"2023-11-24\",\"2023-11-27\",\"2023-11-28\",\"2023-11-29\",\"2023-11-30\",\"2023-12-01\",\"2023-12-04\",\"2023-12-05\",\"2023-12-06\",\"2023-12-07\",\"2023-12-08\",\"2023-12-11\",\"2023-12-12\",\"2023-12-13\",\"2023-12-14\",\"2023-12-15\",\"2023-12-18\",\"2023-12-19\",\"2023-12-20\",\"2023-12-21\",\"2023-12-22\",\"2023-12-26\",\"2023-12-27\",\"2023-12-28\",\"2024-01-02\",\"2024-01-03\",\"2024-01-04\",\"2024-01-05\",\"2024-01-08\",\"2024-01-09\",\"2024-01-10\",\"2024-01-11\",\"2024-01-12\",\"2024-01-15\",\"2024-01-16\",\"2024-01-17\",\"2024-01-18\",\"2024-01-19\",\"2024-01-22\",\"2024-01-23\",\"2024-01-24\",\"2024-01-25\",\"2024-01-26\",\"2024-01-29\",\"2024-01-30\",\"2024-01-31\",\"2024-02-01\",\"2024-02-02\",\"2024-02-05\",\"2024-02-06\",\"2024-02-07\",\"2024-02-08\",\"2024-02-09\",\"2024-02-14\",\"2024-02-15\",\"2024-02-16\",\"2024-02-19\",\"2024-02-20\",\"2024-02-21\",\"2024-02-22\",\"2024-02-23\",\"2024-02-26\"],\"y\":[\"\",-0.006637224348768678,-0.03595131431862064,-0.017146057044138074,-0.021570767419802794,-0.001106204058128002,0.016039852986010183,0.05088496324650271,0.05530967362216743,0.051991167304630714,0.048672449273398755,0.02710168185359585,0.02267697147793113,0.0315264980861083,0.03871682446394109,0.02378317553605913,0.02710168185359585,0.018805257274482567,-0.013827444869753736,0.003871608346600608,0.013827444869753736,0.024889379594187133,0.03429200823142842,0.053650367534975096,0.04258853866738943,0.04922555130246287,0.06249989414315249,0.0315264980861083,0.03207960011517241,0.028207991768571583,0.053097371362758716,0.06858401646285706,0.06415930608719234,0.06692481623251267,0.08960178771044358,0.08517697147793113,0.06803091443379294,0.09000965414450723,0.09611463026320233,0.09333969885843962,0.08223976152569334,0.08057473916872704,0.0933396988584394,0.09222968395379527,0.10665956014362621,0.10443953033433795,0.16271404254598387,0.1410691753328135,0.13718422902340666,0.13718422902340666,0.15660906642728856,0.1571640738796105,0.16493396649842418,0.14994908285627107,0.1554990515226442,0.1693739202601532,0.17547889637884828,0.17270385911723785,0.1660439814030683,0.15161410521323737,0.16493396649842418,0.16548897395074635,0.1516141052132376,0.15494404407032247,0.15549905152264443,0.21932342654381576,0.2559530715422915,0.25262313268520664,0.2726029775414107,0.25262313268520664,0.24318821770942667,0.2487381863757998,0.2531781401375286,0.27371299244605485,0.2742678940415293,0.21377356373429035,0.22820333406727356,0.24429823261407058,0.23597333254293473,0.22986835642423964,0.21099852647267991,0.20322863385386625,0.201008604044578,0.1965686502828492,0.21377356373429057,0.23208838623352834,0.2565080789946137,0.2626130551133088,0.2698279402798005,0.24429823261407102,0.2609480327563427,0.23208838623352857,0.23319829528132519,0.25650807899461414,0.2648330849225975,0.2454082475187156,0.2581731013515802,0.25595307154229197,0.26538798651807194,0.27315798499373334,0.2959127612547001,0.3330974137054976,0.33698236001490467,0.3319873988008537,0.29702277615934425,0.29702277615934425,0.289807785136005,0.2764879238508182,0.2787079536601065,0.29258282239761546,0.28814276277903894,0.28980778513600525,0.29424773889773403,0.32421750618204004,0.3308773838962096,0.26538798651807194,0.2676080163273602,0.2775979387554621,0.26094803275634293,0.23319829528132519,0.23597333254293562,0.2270934250194776,0.267053008875038,0.29313772399308946,0.2837028090173095,0.2570630864469359,0.262613055113309,0.2692730386843263,0.25595307154229174,0.2404132863046642,0.2581731013515798,0.25428815504217295,0.22542840266251085,0.21377356373429035,0.22542840266251085,0.22875834151959573,0.26316806256563074,0.29424773889773337,0.3286574599437684,0.32310749127739524,0.3175575226110221,0.31811253006334406,0.32532741522983555,0.30312764642119094,0.30035271501642824,0.29813268520713976,0.26816302377968126,0.23763824904305308,0.26427807747027443,0.2664980014227152,0.2454082475187147,0.20267362640154385,0.20544855780630678,0.1976786651874931,0.20933360997256134,0.22487339521018868,0.2726029775414105,0.2803728701602244,0.2487381863757998,0.2520681252328847,0.2159934876867311,0.18213877409301804,0.2026736264015443,0.19712365773517115,0.24485324006639297,0.2337533027336467,0.22376338030554477,0.2637230700179529,0.2265384175671552,0.2220984638054262,0.23819325649537593,0.276487923850818,0.2837028090173095,0.2837028090173095,0.27093795518444463,0.2570630864469359,0.26816302377968215,0.28148288506486896,0.2653879865180717,0.29924270011178455,0.31034263744453083,0.29036279258832676,0.3075676001829204,0.27093795518444463,0.25817310135158,0.2714929626367668,0.2520681252328849,0.2526231326852071,0.2587281088039022,0.27093795518444486,0.27093795518444486,0.26372307001795314,0.25317814013752904,0.24651815656651177,0.25151311778056273,0.24263321025710494,0.23042336387656226,0.22931334897191813,0.23930327140002028,0.23985827885234245,0.2737129924460555,0.2664980014227163,0.23264328782900345,0.24318821770942756,0.2542881550421736,0.2664980014227163,0.2709379551844451,0.27149296263676725,0.2764879238508182,0.2737129924460555,0.2348633176382915,0.24207820280478298,0.2431882177094271,0.2570630864469361,0.3120075539446494,0.30423766132583574,0.3214424689204296,0.2825928999695133,0.30257263896886966,0.29258282239761524,0.26372307001795314,0.22209846380542642,0.20822359506791766,0.2431882177094271,0.23652833999525757,0.2731579849937331,0.2492931938281222,0.24596325497103733,0.2565080789946137,0.2687180312320041,0.25595307154229174,0.2798178627079029,0.27759793875546235,0.2676080163273602,0.2581731013515802,0.24984820128044438,0.3020176315165475,0.30701259273059844,0.33698236001490445,0.3225524838250735,0.3258824226821584,0.3003527150164289,0.2898077851360048,0.2959127612547001,0.27593291639849604,0.2703829477321229,0.2659429939703939,0.2615030402086649],\"type\":\"scatter\"},{\"line\":{\"color\":\"rgba(55, 128, 191, 1.0)\",\"dash\":\"solid\",\"shape\":\"linear\",\"width\":1.3},\"mode\":\"lines\",\"name\":\"retorno_estrategia\",\"text\":\"\",\"x\":[\"2023-02-27\",\"2023-02-28\",\"2023-03-01\",\"2023-03-02\",\"2023-03-03\",\"2023-03-06\",\"2023-03-07\",\"2023-03-08\",\"2023-03-09\",\"2023-03-10\",\"2023-03-13\",\"2023-03-14\",\"2023-03-15\",\"2023-03-16\",\"2023-03-17\",\"2023-03-20\",\"2023-03-21\",\"2023-03-22\",\"2023-03-23\",\"2023-03-24\",\"2023-03-27\",\"2023-03-28\",\"2023-03-29\",\"2023-03-30\",\"2023-03-31\",\"2023-04-03\",\"2023-04-04\",\"2023-04-05\",\"2023-04-06\",\"2023-04-10\",\"2023-04-11\",\"2023-04-12\",\"2023-04-13\",\"2023-04-14\",\"2023-04-17\",\"2023-04-18\",\"2023-04-19\",\"2023-04-20\",\"2023-04-24\",\"2023-04-25\",\"2023-04-26\",\"2023-04-27\",\"2023-04-28\",\"2023-05-02\",\"2023-05-03\",\"2023-05-04\",\"2023-05-05\",\"2023-05-08\",\"2023-05-09\",\"2023-05-10\",\"2023-05-11\",\"2023-05-12\",\"2023-05-15\",\"2023-05-16\",\"2023-05-17\",\"2023-05-18\",\"2023-05-19\",\"2023-05-22\",\"2023-05-23\",\"2023-05-24\",\"2023-05-25\",\"2023-05-26\",\"2023-05-29\",\"2023-05-30\",\"2023-05-31\",\"2023-06-01\",\"2023-06-02\",\"2023-06-05\",\"2023-06-06\",\"2023-06-07\",\"2023-06-09\",\"2023-06-12\",\"2023-06-13\",\"2023-06-14\",\"2023-06-15\",\"2023-06-16\",\"2023-06-19\",\"2023-06-20\",\"2023-06-21\",\"2023-06-22\",\"2023-06-23\",\"2023-06-26\",\"2023-06-27\",\"2023-06-28\",\"2023-06-29\",\"2023-06-30\",\"2023-07-03\",\"2023-07-04\",\"2023-07-05\",\"2023-07-06\",\"2023-07-07\",\"2023-07-10\",\"2023-07-11\",\"2023-07-12\",\"2023-07-13\",\"2023-07-14\",\"2023-07-17\",\"2023-07-18\",\"2023-07-19\",\"2023-07-20\",\"2023-07-21\",\"2023-07-24\",\"2023-07-25\",\"2023-07-26\",\"2023-07-27\",\"2023-07-28\",\"2023-07-31\",\"2023-08-01\",\"2023-08-02\",\"2023-08-03\",\"2023-08-04\",\"2023-08-07\",\"2023-08-08\",\"2023-08-09\",\"2023-08-10\",\"2023-08-11\",\"2023-08-14\",\"2023-08-15\",\"2023-08-16\",\"2023-08-17\",\"2023-08-18\",\"2023-08-21\",\"2023-08-22\",\"2023-08-23\",\"2023-08-24\",\"2023-08-25\",\"2023-08-28\",\"2023-08-29\",\"2023-08-30\",\"2023-08-31\",\"2023-09-01\",\"2023-09-04\",\"2023-09-05\",\"2023-09-06\",\"2023-09-08\",\"2023-09-11\",\"2023-09-12\",\"2023-09-13\",\"2023-09-14\",\"2023-09-15\",\"2023-09-18\",\"2023-09-19\",\"2023-09-20\",\"2023-09-21\",\"2023-09-22\",\"2023-09-25\",\"2023-09-26\",\"2023-09-27\",\"2023-09-28\",\"2023-09-29\",\"2023-10-02\",\"2023-10-03\",\"2023-10-04\",\"2023-10-05\",\"2023-10-06\",\"2023-10-09\",\"2023-10-10\",\"2023-10-11\",\"2023-10-13\",\"2023-10-16\",\"2023-10-17\",\"2023-10-18\",\"2023-10-19\",\"2023-10-20\",\"2023-10-23\",\"2023-10-24\",\"2023-10-25\",\"2023-10-26\",\"2023-10-27\",\"2023-10-30\",\"2023-10-31\",\"2023-11-01\",\"2023-11-03\",\"2023-11-06\",\"2023-11-07\",\"2023-11-08\",\"2023-11-09\",\"2023-11-10\",\"2023-11-13\",\"2023-11-14\",\"2023-11-16\",\"2023-11-17\",\"2023-11-20\",\"2023-11-21\",\"2023-11-22\",\"2023-11-23\",\"2023-11-24\",\"2023-11-27\",\"2023-11-28\",\"2023-11-29\",\"2023-11-30\",\"2023-12-01\",\"2023-12-04\",\"2023-12-05\",\"2023-12-06\",\"2023-12-07\",\"2023-12-08\",\"2023-12-11\",\"2023-12-12\",\"2023-12-13\",\"2023-12-14\",\"2023-12-15\",\"2023-12-18\",\"2023-12-19\",\"2023-12-20\",\"2023-12-21\",\"2023-12-22\",\"2023-12-26\",\"2023-12-27\",\"2023-12-28\",\"2024-01-02\",\"2024-01-03\",\"2024-01-04\",\"2024-01-05\",\"2024-01-08\",\"2024-01-09\",\"2024-01-10\",\"2024-01-11\",\"2024-01-12\",\"2024-01-15\",\"2024-01-16\",\"2024-01-17\",\"2024-01-18\",\"2024-01-19\",\"2024-01-22\",\"2024-01-23\",\"2024-01-24\",\"2024-01-25\",\"2024-01-26\",\"2024-01-29\",\"2024-01-30\",\"2024-01-31\",\"2024-02-01\",\"2024-02-02\",\"2024-02-05\",\"2024-02-06\",\"2024-02-07\",\"2024-02-08\",\"2024-02-09\",\"2024-02-14\",\"2024-02-15\",\"2024-02-16\",\"2024-02-19\",\"2024-02-20\",\"2024-02-21\",\"2024-02-22\",\"2024-02-23\",\"2024-02-26\"],\"y\":[0.0,0.0,0.0,0.0,0.0,0.0,0.0,0.0,0.0,0.0,0.0,0.0,0.0,0.0,0.0,0.0,0.0,0.0,0.0,0.0,0.009917440079364903,0.020936712496733678,0.020936712496733678,0.020936712496733678,0.020936712496733678,0.020936712496733678,0.020936712496733678,0.020936712496733678,0.020936712496733678,0.020936712496733678,0.020936712496733678,0.020936712496733678,0.020936712496733678,0.020936712496733678,0.020936712496733678,0.020936712496733678,0.020936712496733678,0.020936712496733678,0.020936712496733678,0.020936712496733678,0.020936712496733678,0.020936712496733678,0.020936712496733678,0.020936712496733678,0.020936712496733678,0.020936712496733678,0.020936712496733678,0.020936712496733678,0.020936712496733678,0.020936712496733678,0.020936712496733678,0.020936712496733678,0.020936712496733678,0.020936712496733678,0.020936712496733678,0.020936712496733678,0.020936712496733678,0.020936712496733678,0.020936712496733678,0.020936712496733678,0.020936712496733678,0.020936712496733678,0.020936712496733678,0.020936712496733678,0.020936712496733678,0.020936712496733678,0.020936712496733678,0.020936712496733678,0.020936712496733678,0.020936712496733678,0.020936712496733678,0.020936712496733678,0.020936712496733678,0.020936712496733678,0.020936712496733678,0.020936712496733678,0.020936712496733678,0.020936712496733678,0.020936712496733678,0.020936712496733678,0.020936712496733678,0.020936712496733678,0.020936712496733678,0.020936712496733678,0.020936712496733678,0.03634178905385199,0.03634178905385199,0.03634178905385199,0.03634178905385199,0.03634178905385199,0.03634178905385199,0.03634178905385199,0.03634178905385199,0.03634178905385199,0.03634178905385199,0.03634178905385199,0.03634178905385199,0.03634178905385199,0.03634178905385199,0.03634178905385199,0.03634178905385199,0.03634178905385199,0.03634178905385199,0.03634178905385199,0.03634178905385199,0.03634178905385199,0.03634178905385199,0.03634178905385199,0.03634178905385199,0.04758681670004705,0.043988325492222424,0.043988325492222424,0.043988325492222424,0.043988325492222424,0.043988325492222424,0.043988325492222424,0.043988325492222424,0.043988325492222424,0.043988325492222424,0.043988325492222424,0.043988325492222424,0.043988325492222424,0.043988325492222424,0.043988325492222424,0.043988325492222424,0.043988325492222424,0.043988325492222424,0.043988325492222424,0.043988325492222424,0.043988325492222424,0.043988325492222424,0.043988325492222424,0.043988325492222424,0.043988325492222424,0.043988325492222424,0.043988325492222424,0.043988325492222424,0.043988325492222424,0.043988325492222424,0.043988325492222424,0.043988325492222424,0.043988325492222424,0.043988325492222424,0.043988325492222424,0.043988325492222424,0.043988325492222424,0.043988325492222424,0.043988325492222424,0.06645989171332056,0.06833247014374688,0.05054257323299405,0.014494523186741937,0.016835268548202942,0.010281110101143298,0.020112437065444633,0.03322075395956414,0.07348221709141511,0.07348221709141511,0.07348221709141511,0.07348221709141511,0.07348221709141511,0.07348221709141511,0.07348221709141511,0.07348221709141511,0.07348221709141511,0.07348221709141511,0.07348221709141511,0.07348221709141511,0.07348221709141511,0.07348221709141511,0.07348221709141511,0.07348221709141511,0.07348221709141511,0.07348221709141511,0.07348221709141511,0.07348221709141511,0.07348221709141511,0.07348221709141511,0.07348221709141511,0.07348221709141511,0.07348221709141511,0.07348221709141511,0.07348221709141511,0.07348221709141511,0.07348221709141511,0.07348221709141511,0.07348221709141511,0.07348221709141511,0.07348221709141511,0.07348221709141511,0.07348221709141511,0.07348221709141511,0.07348221709141511,0.07348221709141511,0.07348221709141511,0.07348221709141511,0.07348221709141511,0.07348221709141511,0.07348221709141511,0.07348221709141511,0.07348221709141511,0.07348221709141511,0.07348221709141511,0.07348221709141511,0.07348221709141511,0.07348221709141511,0.07348221709141511,0.07348221709141511,0.07348221709141511,0.07348221709141511,0.07348221709141511,0.07348221709141511,0.07348221709141511,0.07348221709141511,0.07348221709141511,0.07348221709141511,0.07348221709141511,0.07348221709141511,0.07348221709141511,0.07348221709141511,0.07348221709141511,0.07348221709141511,0.07348221709141511,0.07348221709141511,0.06773147058954043,0.09936085056925448,0.09936085056925448,0.09936085056925448,0.09936085056925448,0.09936085056925448,0.09936085056925448,0.09936085056925448,0.09936085056925448,0.09936085056925448,0.09936085056925448,0.09936085056925448,0.09936085056925448,0.09936085056925448,0.09936085056925448,0.09936085056925448,0.09936085056925448,0.09936085056925448,0.09936085056925448,0.09936085056925448,0.09936085056925448,0.09936085056925448,0.09936085056925448,0.09936085056925448],\"type\":\"scatter\"}],                        {\"legend\":{\"bgcolor\":\"#F5F6F9\",\"font\":{\"color\":\"#4D5663\"}},\"paper_bgcolor\":\"#F5F6F9\",\"plot_bgcolor\":\"#F5F6F9\",\"template\":{\"data\":{\"barpolar\":[{\"marker\":{\"line\":{\"color\":\"#E5ECF6\",\"width\":0.5},\"pattern\":{\"fillmode\":\"overlay\",\"size\":10,\"solidity\":0.2}},\"type\":\"barpolar\"}],\"bar\":[{\"error_x\":{\"color\":\"#2a3f5f\"},\"error_y\":{\"color\":\"#2a3f5f\"},\"marker\":{\"line\":{\"color\":\"#E5ECF6\",\"width\":0.5},\"pattern\":{\"fillmode\":\"overlay\",\"size\":10,\"solidity\":0.2}},\"type\":\"bar\"}],\"carpet\":[{\"aaxis\":{\"endlinecolor\":\"#2a3f5f\",\"gridcolor\":\"white\",\"linecolor\":\"white\",\"minorgridcolor\":\"white\",\"startlinecolor\":\"#2a3f5f\"},\"baxis\":{\"endlinecolor\":\"#2a3f5f\",\"gridcolor\":\"white\",\"linecolor\":\"white\",\"minorgridcolor\":\"white\",\"startlinecolor\":\"#2a3f5f\"},\"type\":\"carpet\"}],\"choropleth\":[{\"colorbar\":{\"outlinewidth\":0,\"ticks\":\"\"},\"type\":\"choropleth\"}],\"contourcarpet\":[{\"colorbar\":{\"outlinewidth\":0,\"ticks\":\"\"},\"type\":\"contourcarpet\"}],\"contour\":[{\"colorbar\":{\"outlinewidth\":0,\"ticks\":\"\"},\"colorscale\":[[0.0,\"#0d0887\"],[0.1111111111111111,\"#46039f\"],[0.2222222222222222,\"#7201a8\"],[0.3333333333333333,\"#9c179e\"],[0.4444444444444444,\"#bd3786\"],[0.5555555555555556,\"#d8576b\"],[0.6666666666666666,\"#ed7953\"],[0.7777777777777778,\"#fb9f3a\"],[0.8888888888888888,\"#fdca26\"],[1.0,\"#f0f921\"]],\"type\":\"contour\"}],\"heatmapgl\":[{\"colorbar\":{\"outlinewidth\":0,\"ticks\":\"\"},\"colorscale\":[[0.0,\"#0d0887\"],[0.1111111111111111,\"#46039f\"],[0.2222222222222222,\"#7201a8\"],[0.3333333333333333,\"#9c179e\"],[0.4444444444444444,\"#bd3786\"],[0.5555555555555556,\"#d8576b\"],[0.6666666666666666,\"#ed7953\"],[0.7777777777777778,\"#fb9f3a\"],[0.8888888888888888,\"#fdca26\"],[1.0,\"#f0f921\"]],\"type\":\"heatmapgl\"}],\"heatmap\":[{\"colorbar\":{\"outlinewidth\":0,\"ticks\":\"\"},\"colorscale\":[[0.0,\"#0d0887\"],[0.1111111111111111,\"#46039f\"],[0.2222222222222222,\"#7201a8\"],[0.3333333333333333,\"#9c179e\"],[0.4444444444444444,\"#bd3786\"],[0.5555555555555556,\"#d8576b\"],[0.6666666666666666,\"#ed7953\"],[0.7777777777777778,\"#fb9f3a\"],[0.8888888888888888,\"#fdca26\"],[1.0,\"#f0f921\"]],\"type\":\"heatmap\"}],\"histogram2dcontour\":[{\"colorbar\":{\"outlinewidth\":0,\"ticks\":\"\"},\"colorscale\":[[0.0,\"#0d0887\"],[0.1111111111111111,\"#46039f\"],[0.2222222222222222,\"#7201a8\"],[0.3333333333333333,\"#9c179e\"],[0.4444444444444444,\"#bd3786\"],[0.5555555555555556,\"#d8576b\"],[0.6666666666666666,\"#ed7953\"],[0.7777777777777778,\"#fb9f3a\"],[0.8888888888888888,\"#fdca26\"],[1.0,\"#f0f921\"]],\"type\":\"histogram2dcontour\"}],\"histogram2d\":[{\"colorbar\":{\"outlinewidth\":0,\"ticks\":\"\"},\"colorscale\":[[0.0,\"#0d0887\"],[0.1111111111111111,\"#46039f\"],[0.2222222222222222,\"#7201a8\"],[0.3333333333333333,\"#9c179e\"],[0.4444444444444444,\"#bd3786\"],[0.5555555555555556,\"#d8576b\"],[0.6666666666666666,\"#ed7953\"],[0.7777777777777778,\"#fb9f3a\"],[0.8888888888888888,\"#fdca26\"],[1.0,\"#f0f921\"]],\"type\":\"histogram2d\"}],\"histogram\":[{\"marker\":{\"pattern\":{\"fillmode\":\"overlay\",\"size\":10,\"solidity\":0.2}},\"type\":\"histogram\"}],\"mesh3d\":[{\"colorbar\":{\"outlinewidth\":0,\"ticks\":\"\"},\"type\":\"mesh3d\"}],\"parcoords\":[{\"line\":{\"colorbar\":{\"outlinewidth\":0,\"ticks\":\"\"}},\"type\":\"parcoords\"}],\"pie\":[{\"automargin\":true,\"type\":\"pie\"}],\"scatter3d\":[{\"line\":{\"colorbar\":{\"outlinewidth\":0,\"ticks\":\"\"}},\"marker\":{\"colorbar\":{\"outlinewidth\":0,\"ticks\":\"\"}},\"type\":\"scatter3d\"}],\"scattercarpet\":[{\"marker\":{\"colorbar\":{\"outlinewidth\":0,\"ticks\":\"\"}},\"type\":\"scattercarpet\"}],\"scattergeo\":[{\"marker\":{\"colorbar\":{\"outlinewidth\":0,\"ticks\":\"\"}},\"type\":\"scattergeo\"}],\"scattergl\":[{\"marker\":{\"colorbar\":{\"outlinewidth\":0,\"ticks\":\"\"}},\"type\":\"scattergl\"}],\"scattermapbox\":[{\"marker\":{\"colorbar\":{\"outlinewidth\":0,\"ticks\":\"\"}},\"type\":\"scattermapbox\"}],\"scatterpolargl\":[{\"marker\":{\"colorbar\":{\"outlinewidth\":0,\"ticks\":\"\"}},\"type\":\"scatterpolargl\"}],\"scatterpolar\":[{\"marker\":{\"colorbar\":{\"outlinewidth\":0,\"ticks\":\"\"}},\"type\":\"scatterpolar\"}],\"scatter\":[{\"fillpattern\":{\"fillmode\":\"overlay\",\"size\":10,\"solidity\":0.2},\"type\":\"scatter\"}],\"scatterternary\":[{\"marker\":{\"colorbar\":{\"outlinewidth\":0,\"ticks\":\"\"}},\"type\":\"scatterternary\"}],\"surface\":[{\"colorbar\":{\"outlinewidth\":0,\"ticks\":\"\"},\"colorscale\":[[0.0,\"#0d0887\"],[0.1111111111111111,\"#46039f\"],[0.2222222222222222,\"#7201a8\"],[0.3333333333333333,\"#9c179e\"],[0.4444444444444444,\"#bd3786\"],[0.5555555555555556,\"#d8576b\"],[0.6666666666666666,\"#ed7953\"],[0.7777777777777778,\"#fb9f3a\"],[0.8888888888888888,\"#fdca26\"],[1.0,\"#f0f921\"]],\"type\":\"surface\"}],\"table\":[{\"cells\":{\"fill\":{\"color\":\"#EBF0F8\"},\"line\":{\"color\":\"white\"}},\"header\":{\"fill\":{\"color\":\"#C8D4E3\"},\"line\":{\"color\":\"white\"}},\"type\":\"table\"}]},\"layout\":{\"annotationdefaults\":{\"arrowcolor\":\"#2a3f5f\",\"arrowhead\":0,\"arrowwidth\":1},\"autotypenumbers\":\"strict\",\"coloraxis\":{\"colorbar\":{\"outlinewidth\":0,\"ticks\":\"\"}},\"colorscale\":{\"diverging\":[[0,\"#8e0152\"],[0.1,\"#c51b7d\"],[0.2,\"#de77ae\"],[0.3,\"#f1b6da\"],[0.4,\"#fde0ef\"],[0.5,\"#f7f7f7\"],[0.6,\"#e6f5d0\"],[0.7,\"#b8e186\"],[0.8,\"#7fbc41\"],[0.9,\"#4d9221\"],[1,\"#276419\"]],\"sequential\":[[0.0,\"#0d0887\"],[0.1111111111111111,\"#46039f\"],[0.2222222222222222,\"#7201a8\"],[0.3333333333333333,\"#9c179e\"],[0.4444444444444444,\"#bd3786\"],[0.5555555555555556,\"#d8576b\"],[0.6666666666666666,\"#ed7953\"],[0.7777777777777778,\"#fb9f3a\"],[0.8888888888888888,\"#fdca26\"],[1.0,\"#f0f921\"]],\"sequentialminus\":[[0.0,\"#0d0887\"],[0.1111111111111111,\"#46039f\"],[0.2222222222222222,\"#7201a8\"],[0.3333333333333333,\"#9c179e\"],[0.4444444444444444,\"#bd3786\"],[0.5555555555555556,\"#d8576b\"],[0.6666666666666666,\"#ed7953\"],[0.7777777777777778,\"#fb9f3a\"],[0.8888888888888888,\"#fdca26\"],[1.0,\"#f0f921\"]]},\"colorway\":[\"#636efa\",\"#EF553B\",\"#00cc96\",\"#ab63fa\",\"#FFA15A\",\"#19d3f3\",\"#FF6692\",\"#B6E880\",\"#FF97FF\",\"#FECB52\"],\"font\":{\"color\":\"#2a3f5f\"},\"geo\":{\"bgcolor\":\"white\",\"lakecolor\":\"white\",\"landcolor\":\"#E5ECF6\",\"showlakes\":true,\"showland\":true,\"subunitcolor\":\"white\"},\"hoverlabel\":{\"align\":\"left\"},\"hovermode\":\"closest\",\"mapbox\":{\"style\":\"light\"},\"paper_bgcolor\":\"white\",\"plot_bgcolor\":\"#E5ECF6\",\"polar\":{\"angularaxis\":{\"gridcolor\":\"white\",\"linecolor\":\"white\",\"ticks\":\"\"},\"bgcolor\":\"#E5ECF6\",\"radialaxis\":{\"gridcolor\":\"white\",\"linecolor\":\"white\",\"ticks\":\"\"}},\"scene\":{\"xaxis\":{\"backgroundcolor\":\"#E5ECF6\",\"gridcolor\":\"white\",\"gridwidth\":2,\"linecolor\":\"white\",\"showbackground\":true,\"ticks\":\"\",\"zerolinecolor\":\"white\"},\"yaxis\":{\"backgroundcolor\":\"#E5ECF6\",\"gridcolor\":\"white\",\"gridwidth\":2,\"linecolor\":\"white\",\"showbackground\":true,\"ticks\":\"\",\"zerolinecolor\":\"white\"},\"zaxis\":{\"backgroundcolor\":\"#E5ECF6\",\"gridcolor\":\"white\",\"gridwidth\":2,\"linecolor\":\"white\",\"showbackground\":true,\"ticks\":\"\",\"zerolinecolor\":\"white\"}},\"shapedefaults\":{\"line\":{\"color\":\"#2a3f5f\"}},\"ternary\":{\"aaxis\":{\"gridcolor\":\"white\",\"linecolor\":\"white\",\"ticks\":\"\"},\"baxis\":{\"gridcolor\":\"white\",\"linecolor\":\"white\",\"ticks\":\"\"},\"bgcolor\":\"#E5ECF6\",\"caxis\":{\"gridcolor\":\"white\",\"linecolor\":\"white\",\"ticks\":\"\"}},\"title\":{\"x\":0.05},\"xaxis\":{\"automargin\":true,\"gridcolor\":\"white\",\"linecolor\":\"white\",\"ticks\":\"\",\"title\":{\"standoff\":15},\"zerolinecolor\":\"white\",\"zerolinewidth\":2},\"yaxis\":{\"automargin\":true,\"gridcolor\":\"white\",\"linecolor\":\"white\",\"ticks\":\"\",\"title\":{\"standoff\":15},\"zerolinecolor\":\"white\",\"zerolinewidth\":2}}},\"title\":{\"font\":{\"color\":\"#4D5663\"}},\"xaxis\":{\"gridcolor\":\"#E1E5ED\",\"showgrid\":true,\"tickfont\":{\"color\":\"#4D5663\"},\"title\":{\"font\":{\"color\":\"#4D5663\"},\"text\":\"\"},\"zerolinecolor\":\"#E1E5ED\"},\"yaxis\":{\"gridcolor\":\"#E1E5ED\",\"showgrid\":true,\"tickfont\":{\"color\":\"#4D5663\"},\"title\":{\"font\":{\"color\":\"#4D5663\"},\"text\":\"\"},\"zerolinecolor\":\"#E1E5ED\"}},                        {\"showLink\": true, \"linkText\": \"Export to plot.ly\", \"plotlyServerURL\": \"https://plot.ly\", \"responsive\": true}                    ).then(function(){\n",
              "                            \n",
              "var gd = document.getElementById('01c90458-6d39-4423-bc38-30974963382b');\n",
              "var x = new MutationObserver(function (mutations, observer) {{\n",
              "        var display = window.getComputedStyle(gd).display;\n",
              "        if (!display || display === 'none') {{\n",
              "            console.log([gd, 'removed!']);\n",
              "            Plotly.purge(gd);\n",
              "            observer.disconnect();\n",
              "        }}\n",
              "}});\n",
              "\n",
              "// Listen for the removal of the full notebook cells\n",
              "var notebookContainer = gd.closest('#notebook-container');\n",
              "if (notebookContainer) {{\n",
              "    x.observe(notebookContainer, {childList: true});\n",
              "}}\n",
              "\n",
              "// Listen for the clearing of the current output cell\n",
              "var outputEl = gd.closest('.output');\n",
              "if (outputEl) {{\n",
              "    x.observe(outputEl, {childList: true});\n",
              "}}\n",
              "\n",
              "                        })                };                });            </script>        </div>"
            ]
          },
          "metadata": {},
          "output_type": "display_data"
        }
      ],
      "source": [
        "ohlc = yf.download(tickers= ativo+'.SA', period = periodo , auto_adjust=True, progress = False )\n",
        "ohlc['retorno'] = ohlc['Close'].pct_change()\n",
        "## calculating stretegy returns\n",
        "ohlc['retorno_estrategia'] = ohlc['retorno'] * (posicao['pos'].shift(1))\n",
        "# ohlc.fillna(0,inplace=True)\n",
        "ohlc['retorno_estrategia'].fillna(0,inplace=True)\n",
        "ohlc[ohlc['retorno_estrategia']!= 0.0]\n",
        "((ohlc[['retorno', 'retorno_estrategia']]+1).cumprod()-1).iplot();"
      ]
    },
    {
      "cell_type": "code",
      "execution_count": 15,
      "metadata": {},
      "outputs": [
        {
          "data": {
            "application/vnd.plotly.v1+json": {
              "config": {
                "plotlyServerURL": "https://plot.ly"
              },
              "data": [
                {
                  "line": {
                    "color": "rgba(55, 128, 191, 1.0)",
                    "dash": "solid",
                    "shape": "linear",
                    "width": 1.3
                  },
                  "mode": "lines",
                  "name": " EMA(5)",
                  "text": "",
                  "type": "scatter",
                  "x": [
                    "2023-10-13",
                    "2023-10-16",
                    "2023-10-17",
                    "2023-10-18",
                    "2023-10-19",
                    "2023-10-20",
                    "2023-10-23",
                    "2023-10-24",
                    "2023-10-25",
                    "2023-10-26",
                    "2023-10-27",
                    "2023-10-30",
                    "2023-10-31",
                    "2023-11-01",
                    "2023-11-03",
                    "2023-11-06",
                    "2023-11-07",
                    "2023-11-08",
                    "2023-11-09",
                    "2023-11-10",
                    "2023-11-13",
                    "2023-11-14",
                    "2023-11-16",
                    "2023-11-17",
                    "2023-11-20",
                    "2023-11-21",
                    "2023-11-22",
                    "2023-11-23",
                    "2023-11-24",
                    "2023-11-27",
                    "2023-11-28",
                    "2023-11-29",
                    "2023-11-30",
                    "2023-12-01",
                    "2023-12-04",
                    "2023-12-05",
                    "2023-12-06",
                    "2023-12-07",
                    "2023-12-08",
                    "2023-12-11",
                    "2023-12-12",
                    "2023-12-13",
                    "2023-12-14",
                    "2023-12-15",
                    "2023-12-18",
                    "2023-12-19",
                    "2023-12-20",
                    "2023-12-21",
                    "2023-12-22",
                    "2023-12-26",
                    "2023-12-27",
                    "2023-12-28",
                    "2024-01-02",
                    "2024-01-03",
                    "2024-01-04",
                    "2024-01-05",
                    "2024-01-08",
                    "2024-01-09",
                    "2024-01-10",
                    "2024-01-11",
                    "2024-01-12",
                    "2024-01-15",
                    "2024-01-16",
                    "2024-01-17",
                    "2024-01-18",
                    "2024-01-19",
                    "2024-01-22",
                    "2024-01-23",
                    "2024-01-24",
                    "2024-01-25",
                    "2024-01-26",
                    "2024-01-29",
                    "2024-01-30",
                    "2024-01-31",
                    "2024-02-01",
                    "2024-02-02",
                    "2024-02-05",
                    "2024-02-06",
                    "2024-02-07",
                    "2024-02-08",
                    "2024-02-09",
                    "2024-02-14",
                    "2024-02-15",
                    "2024-02-16",
                    "2024-02-19",
                    "2024-02-20",
                    "2024-02-21",
                    "2024-02-22",
                    "2024-02-23",
                    "2024-02-26"
                  ],
                  "y": [
                    "",
                    "",
                    "",
                    "",
                    21.875184965722358,
                    21.773456542089647,
                    21.99230446311836,
                    22.071536156157684,
                    22.064357183125306,
                    22.29957160800476,
                    22.233047865826418,
                    22.162032063138838,
                    22.21135453074002,
                    22.474236353826683,
                    22.69282395613999,
                    22.83854902434886,
                    22.859032555742665,
                    22.7893549100052,
                    22.809570067160045,
                    22.90304676230266,
                    22.86869758722196,
                    23.04913167395201,
                    23.236087986085195,
                    23.240725324056797,
                    23.34715003801866,
                    23.1980998981892,
                    23.022066624224117,
                    22.98471103195345,
                    22.843140509949762,
                    22.752093571574584,
                    22.728062482774984,
                    22.785374861360083,
                    22.823583113750146,
                    22.805722228421324,
                    22.7304814601829,
                    22.640320668279486,
                    22.61021352453984,
                    22.536808812909374,
                    22.414539234037566,
                    22.326359362201803,
                    22.327572882703222,
                    22.331715305998113,
                    22.537810458311895,
                    22.63187353714934,
                    22.491248719590445,
                    22.46083235257039,
                    22.507221695536835,
                    22.61148102863263,
                    22.707653891931848,
                    22.775102543758603,
                    22.850068362505738,
                    22.88337916265031,
                    22.67225277510021,
                    22.574834903655674,
                    22.51655647528054,
                    22.561037523030453,
                    22.920691478569783,
                    23.113794319046523,
                    23.345862701345144,
                    23.267242004347285,
                    23.334827774016354,
                    23.31988548785335,
                    23.13659047782346,
                    22.7643938044702,
                    22.432929355568024,
                    22.421952776555443,
                    22.374635413252133,
                    22.56309045352063,
                    22.545393711974366,
                    22.513596062296063,
                    22.555730504746855,
                    22.657153873281757,
                    22.648102302443373,
                    22.785401356943044,
                    22.863601057216588,
                    22.855734089007022,
                    22.793822751435997,
                    22.70254865354522,
                    22.955032130521033,
                    23.153354499367538,
                    23.465569717107655,
                    23.587046452640458,
                    23.688030764976453,
                    23.602020611709563,
                    23.4813469981791,
                    23.437564792609308,
                    23.28837645211226,
                    23.155584097957654,
                    23.040389220619232,
                    22.9369259944916
                  ],
                  "yaxis": "y2"
                },
                {
                  "line": {
                    "color": "rgba(55, 128, 191, 1.0)",
                    "dash": "solid",
                    "shape": "linear",
                    "width": 1.3
                  },
                  "mode": "lines",
                  "name": " EMA(21)",
                  "text": "",
                  "type": "scatter",
                  "x": [
                    "2023-10-13",
                    "2023-10-16",
                    "2023-10-17",
                    "2023-10-18",
                    "2023-10-19",
                    "2023-10-20",
                    "2023-10-23",
                    "2023-10-24",
                    "2023-10-25",
                    "2023-10-26",
                    "2023-10-27",
                    "2023-10-30",
                    "2023-10-31",
                    "2023-11-01",
                    "2023-11-03",
                    "2023-11-06",
                    "2023-11-07",
                    "2023-11-08",
                    "2023-11-09",
                    "2023-11-10",
                    "2023-11-13",
                    "2023-11-14",
                    "2023-11-16",
                    "2023-11-17",
                    "2023-11-20",
                    "2023-11-21",
                    "2023-11-22",
                    "2023-11-23",
                    "2023-11-24",
                    "2023-11-27",
                    "2023-11-28",
                    "2023-11-29",
                    "2023-11-30",
                    "2023-12-01",
                    "2023-12-04",
                    "2023-12-05",
                    "2023-12-06",
                    "2023-12-07",
                    "2023-12-08",
                    "2023-12-11",
                    "2023-12-12",
                    "2023-12-13",
                    "2023-12-14",
                    "2023-12-15",
                    "2023-12-18",
                    "2023-12-19",
                    "2023-12-20",
                    "2023-12-21",
                    "2023-12-22",
                    "2023-12-26",
                    "2023-12-27",
                    "2023-12-28",
                    "2024-01-02",
                    "2024-01-03",
                    "2024-01-04",
                    "2024-01-05",
                    "2024-01-08",
                    "2024-01-09",
                    "2024-01-10",
                    "2024-01-11",
                    "2024-01-12",
                    "2024-01-15",
                    "2024-01-16",
                    "2024-01-17",
                    "2024-01-18",
                    "2024-01-19",
                    "2024-01-22",
                    "2024-01-23",
                    "2024-01-24",
                    "2024-01-25",
                    "2024-01-26",
                    "2024-01-29",
                    "2024-01-30",
                    "2024-01-31",
                    "2024-02-01",
                    "2024-02-02",
                    "2024-02-05",
                    "2024-02-06",
                    "2024-02-07",
                    "2024-02-08",
                    "2024-02-09",
                    "2024-02-14",
                    "2024-02-15",
                    "2024-02-16",
                    "2024-02-19",
                    "2024-02-20",
                    "2024-02-21",
                    "2024-02-22",
                    "2024-02-23",
                    "2024-02-26"
                  ],
                  "y": [
                    "",
                    "",
                    "",
                    "",
                    "",
                    "",
                    "",
                    "",
                    "",
                    "",
                    "",
                    "",
                    "",
                    "",
                    "",
                    "",
                    "",
                    "",
                    "",
                    "",
                    22.60782709377119,
                    22.680751889556724,
                    22.765229045992616,
                    22.809299132720557,
                    22.877544617558904,
                    22.879585981283576,
                    22.860532717193607,
                    22.865029729031654,
                    22.837299705114447,
                    22.81299970417897,
                    22.800908849724134,
                    22.809917101433783,
                    22.818106421169826,
                    22.813733151769267,
                    22.792484676490794,
                    22.762258713580053,
                    22.742962397532825,
                    22.710874851361517,
                    22.661704417264463,
                    22.615185799197718,
                    22.58925981051666,
                    22.566599841614043,
                    22.601454470825445,
                    22.621322218461696,
                    22.58392920628087,
                    22.56720833466718,
                    22.570189429831046,
                    22.592899453921337,
                    22.62081765070397,
                    22.6471069413138,
                    22.67918812846709,
                    22.70380745887367,
                    22.6625522353397,
                    22.63686559219669,
                    22.615332321863377,
                    22.61848389428764,
                    22.711348939320438,
                    22.783044490291307,
                    22.876404033532314,
                    22.897640085970426,
                    22.949672743005344,
                    22.98061166778007,
                    22.961465194142214,
                    22.875877490835073,
                    22.77534321510131,
                    22.74122106995849,
                    22.699291944202763,
                    22.721174543280476,
                    22.701976878335145,
                    22.67906995875372,
                    22.675518088835055,
                    22.69228922715474,
                    22.686626493846724,
                    22.720569491309966,
                    22.747790488260303,
                    22.756173185017357,
                    22.7483392660425,
                    22.727581192562603,
                    22.7941646372817,
                    22.862876873625233,
                    22.97443353534911,
                    23.052212297927014,
                    23.12837476081078,
                    23.15579526484396,
                    23.163450219959795,
                    23.180409325551608,
                    23.163099366057658,
                    23.138272095475003,
                    23.108429129153855,
                    23.07402643943408
                  ],
                  "yaxis": "y2"
                },
                {
                  "line": {
                    "color": "rgba(55, 128, 191, 1.0)",
                    "dash": "solid",
                    "shape": "linear",
                    "width": 1.3
                  },
                  "mode": "lines",
                  "name": " EMA(72)",
                  "text": "",
                  "type": "scatter",
                  "x": [
                    "2023-10-13",
                    "2023-10-16",
                    "2023-10-17",
                    "2023-10-18",
                    "2023-10-19",
                    "2023-10-20",
                    "2023-10-23",
                    "2023-10-24",
                    "2023-10-25",
                    "2023-10-26",
                    "2023-10-27",
                    "2023-10-30",
                    "2023-10-31",
                    "2023-11-01",
                    "2023-11-03",
                    "2023-11-06",
                    "2023-11-07",
                    "2023-11-08",
                    "2023-11-09",
                    "2023-11-10",
                    "2023-11-13",
                    "2023-11-14",
                    "2023-11-16",
                    "2023-11-17",
                    "2023-11-20",
                    "2023-11-21",
                    "2023-11-22",
                    "2023-11-23",
                    "2023-11-24",
                    "2023-11-27",
                    "2023-11-28",
                    "2023-11-29",
                    "2023-11-30",
                    "2023-12-01",
                    "2023-12-04",
                    "2023-12-05",
                    "2023-12-06",
                    "2023-12-07",
                    "2023-12-08",
                    "2023-12-11",
                    "2023-12-12",
                    "2023-12-13",
                    "2023-12-14",
                    "2023-12-15",
                    "2023-12-18",
                    "2023-12-19",
                    "2023-12-20",
                    "2023-12-21",
                    "2023-12-22",
                    "2023-12-26",
                    "2023-12-27",
                    "2023-12-28",
                    "2024-01-02",
                    "2024-01-03",
                    "2024-01-04",
                    "2024-01-05",
                    "2024-01-08",
                    "2024-01-09",
                    "2024-01-10",
                    "2024-01-11",
                    "2024-01-12",
                    "2024-01-15",
                    "2024-01-16",
                    "2024-01-17",
                    "2024-01-18",
                    "2024-01-19",
                    "2024-01-22",
                    "2024-01-23",
                    "2024-01-24",
                    "2024-01-25",
                    "2024-01-26",
                    "2024-01-29",
                    "2024-01-30",
                    "2024-01-31",
                    "2024-02-01",
                    "2024-02-02",
                    "2024-02-05",
                    "2024-02-06",
                    "2024-02-07",
                    "2024-02-08",
                    "2024-02-09",
                    "2024-02-14",
                    "2024-02-15",
                    "2024-02-16",
                    "2024-02-19",
                    "2024-02-20",
                    "2024-02-21",
                    "2024-02-22",
                    "2024-02-23",
                    "2024-02-26"
                  ],
                  "y": [
                    "",
                    "",
                    "",
                    "",
                    "",
                    "",
                    "",
                    "",
                    "",
                    "",
                    "",
                    "",
                    "",
                    "",
                    "",
                    "",
                    "",
                    "",
                    "",
                    "",
                    "",
                    "",
                    "",
                    "",
                    "",
                    "",
                    "",
                    "",
                    "",
                    "",
                    "",
                    "",
                    "",
                    "",
                    "",
                    "",
                    "",
                    "",
                    "",
                    "",
                    "",
                    "",
                    "",
                    "",
                    "",
                    "",
                    "",
                    "",
                    "",
                    "",
                    "",
                    "",
                    "",
                    "",
                    "",
                    "",
                    "",
                    "",
                    "",
                    "",
                    "",
                    "",
                    "",
                    "",
                    "",
                    "",
                    "",
                    "",
                    "",
                    "",
                    "",
                    22.67292757312015,
                    22.67175145223375,
                    22.682388384116177,
                    22.691638029969532,
                    22.695702745657705,
                    22.69499856293541,
                    22.69020409430057,
                    22.711294368003916,
                    22.73427258359451,
                    22.77141580466282,
                    22.800418109294142,
                    22.830269651221656,
                    22.846700628042317,
                    22.857475947030693,
                    22.87096976715231,
                    22.87423086315137,
                    22.87466287757595,
                    22.87289127725722,
                    22.868976435201855
                  ],
                  "yaxis": "y2"
                },
                {
                  "legendgroup": "RSI(Close,2)",
                  "line": {
                    "color": "rgba(219, 64, 82, 1.0)",
                    "dash": "solid",
                    "shape": "linear",
                    "width": 1.3
                  },
                  "mode": "lines",
                  "name": "RSI(Close,2)",
                  "showlegend": true,
                  "text": "",
                  "type": "scatter",
                  "x": [
                    "2023-10-13",
                    "2023-10-16",
                    "2023-10-17",
                    "2023-10-18",
                    "2023-10-19",
                    "2023-10-20",
                    "2023-10-23",
                    "2023-10-24",
                    "2023-10-25",
                    "2023-10-26",
                    "2023-10-27",
                    "2023-10-30",
                    "2023-10-31",
                    "2023-11-01",
                    "2023-11-03",
                    "2023-11-06",
                    "2023-11-07",
                    "2023-11-08",
                    "2023-11-09",
                    "2023-11-10",
                    "2023-11-13",
                    "2023-11-14",
                    "2023-11-16",
                    "2023-11-17",
                    "2023-11-20",
                    "2023-11-21",
                    "2023-11-22",
                    "2023-11-23",
                    "2023-11-24",
                    "2023-11-27",
                    "2023-11-28",
                    "2023-11-29",
                    "2023-11-30",
                    "2023-12-01",
                    "2023-12-04",
                    "2023-12-05",
                    "2023-12-06",
                    "2023-12-07",
                    "2023-12-08",
                    "2023-12-11",
                    "2023-12-12",
                    "2023-12-13",
                    "2023-12-14",
                    "2023-12-15",
                    "2023-12-18",
                    "2023-12-19",
                    "2023-12-20",
                    "2023-12-21",
                    "2023-12-22",
                    "2023-12-26",
                    "2023-12-27",
                    "2023-12-28",
                    "2024-01-02",
                    "2024-01-03",
                    "2024-01-04",
                    "2024-01-05",
                    "2024-01-08",
                    "2024-01-09",
                    "2024-01-10",
                    "2024-01-11",
                    "2024-01-12",
                    "2024-01-15",
                    "2024-01-16",
                    "2024-01-17",
                    "2024-01-18",
                    "2024-01-19",
                    "2024-01-22",
                    "2024-01-23",
                    "2024-01-24",
                    "2024-01-25",
                    "2024-01-26",
                    "2024-01-29",
                    "2024-01-30",
                    "2024-01-31",
                    "2024-02-01",
                    "2024-02-02",
                    "2024-02-05",
                    "2024-02-06",
                    "2024-02-07",
                    "2024-02-08",
                    "2024-02-09",
                    "2024-02-14",
                    "2024-02-15",
                    "2024-02-16",
                    "2024-02-19",
                    "2024-02-20",
                    "2024-02-21",
                    "2024-02-22",
                    "2024-02-23",
                    "2024-02-26"
                  ],
                  "y": [
                    "",
                    100,
                    8.450639902859407,
                    0,
                    37.75513183068219,
                    78.72337835205505,
                    89.58330435888317,
                    81.13202794082189,
                    0,
                    80,
                    51.798600638618154,
                    0,
                    78.37833658099038,
                    100,
                    100,
                    100,
                    0,
                    0,
                    44.444538634340695,
                    100,
                    45.282917016046895,
                    67.77773068282966,
                    100,
                    35.71433437101928,
                    46.26857173765134,
                    31.95873045212059,
                    0,
                    51.063855690603255,
                    40.67791678789642,
                    2.77783664646293,
                    100,
                    100,
                    100,
                    0,
                    0,
                    0,
                    42.85701310614799,
                    36.00006103515625,
                    0,
                    0,
                    89.99980926586431,
                    100,
                    100,
                    82.4323279395011,
                    0,
                    23.75003278250773,
                    100,
                    100,
                    100,
                    100,
                    100,
                    64.28610354223433,
                    0,
                    15.662550929660199,
                    100,
                    100,
                    100,
                    87.6106642810725,
                    68.88894540306617,
                    30.69306743716126,
                    33.962220014970924,
                    66.66678440486871,
                    0,
                    0,
                    0,
                    71.59088199786291,
                    84.00010172551912,
                    84.6154974764271,
                    60.550436240318895,
                    0,
                    76.00003051781096,
                    100,
                    48.88887005098948,
                    65.15138817042404,
                    91.48956029462492,
                    0,
                    0,
                    0,
                    86.23854495312989,
                    100,
                    100,
                    67.50001788136785,
                    18.749850988245953,
                    11.53839100022374,
                    0,
                    36.66673024471189,
                    23.404324394519847,
                    0,
                    0,
                    0
                  ],
                  "yaxis": "y3"
                },
                {
                  "legendgroup": "RSI(Close,2)",
                  "line": {
                    "color": "red",
                    "width": 1
                  },
                  "mode": "lines",
                  "name": "",
                  "showlegend": true,
                  "text": "",
                  "type": "scatter",
                  "x": [
                    "2023-10-13",
                    "2023-10-16",
                    "2023-10-17",
                    "2023-10-18",
                    "2023-10-19",
                    "2023-10-20",
                    "2023-10-23",
                    "2023-10-24",
                    "2023-10-25",
                    "2023-10-26",
                    "2023-10-27",
                    "2023-10-30",
                    "2023-10-31",
                    "2023-11-01",
                    "2023-11-03",
                    "2023-11-06",
                    "2023-11-07",
                    "2023-11-08",
                    "2023-11-09",
                    "2023-11-10",
                    "2023-11-13",
                    "2023-11-14",
                    "2023-11-16",
                    "2023-11-17",
                    "2023-11-20",
                    "2023-11-21",
                    "2023-11-22",
                    "2023-11-23",
                    "2023-11-24",
                    "2023-11-27",
                    "2023-11-28",
                    "2023-11-29",
                    "2023-11-30",
                    "2023-12-01",
                    "2023-12-04",
                    "2023-12-05",
                    "2023-12-06",
                    "2023-12-07",
                    "2023-12-08",
                    "2023-12-11",
                    "2023-12-12",
                    "2023-12-13",
                    "2023-12-14",
                    "2023-12-15",
                    "2023-12-18",
                    "2023-12-19",
                    "2023-12-20",
                    "2023-12-21",
                    "2023-12-22",
                    "2023-12-26",
                    "2023-12-27",
                    "2023-12-28",
                    "2024-01-02",
                    "2024-01-03",
                    "2024-01-04",
                    "2024-01-05",
                    "2024-01-08",
                    "2024-01-09",
                    "2024-01-10",
                    "2024-01-11",
                    "2024-01-12",
                    "2024-01-15",
                    "2024-01-16",
                    "2024-01-17",
                    "2024-01-18",
                    "2024-01-19",
                    "2024-01-22",
                    "2024-01-23",
                    "2024-01-24",
                    "2024-01-25",
                    "2024-01-26",
                    "2024-01-29",
                    "2024-01-30",
                    "2024-01-31",
                    "2024-02-01",
                    "2024-02-02",
                    "2024-02-05",
                    "2024-02-06",
                    "2024-02-07",
                    "2024-02-08",
                    "2024-02-09",
                    "2024-02-14",
                    "2024-02-15",
                    "2024-02-16",
                    "2024-02-19",
                    "2024-02-20",
                    "2024-02-21",
                    "2024-02-22",
                    "2024-02-23",
                    "2024-02-26"
                  ],
                  "y": [
                    5,
                    5,
                    5,
                    5,
                    5,
                    5,
                    5,
                    5,
                    5,
                    5,
                    5,
                    5,
                    5,
                    5,
                    5,
                    5,
                    5,
                    5,
                    5,
                    5,
                    5,
                    5,
                    5,
                    5,
                    5,
                    5,
                    5,
                    5,
                    5,
                    5,
                    5,
                    5,
                    5,
                    5,
                    5,
                    5,
                    5,
                    5,
                    5,
                    5,
                    5,
                    5,
                    5,
                    5,
                    5,
                    5,
                    5,
                    5,
                    5,
                    5,
                    5,
                    5,
                    5,
                    5,
                    5,
                    5,
                    5,
                    5,
                    5,
                    5,
                    5,
                    5,
                    5,
                    5,
                    5,
                    5,
                    5,
                    5,
                    5,
                    5,
                    5,
                    5,
                    5,
                    5,
                    5,
                    5,
                    5,
                    5,
                    5,
                    5,
                    5,
                    5,
                    5,
                    5,
                    5,
                    5,
                    5,
                    5,
                    5,
                    5
                  ],
                  "yaxis": "y3"
                },
                {
                  "legendgroup": "RSI(Close,2)",
                  "line": {
                    "color": "green",
                    "width": 1
                  },
                  "mode": "lines",
                  "name": "",
                  "showlegend": true,
                  "text": "",
                  "type": "scatter",
                  "x": [
                    "2023-10-13",
                    "2023-10-16",
                    "2023-10-17",
                    "2023-10-18",
                    "2023-10-19",
                    "2023-10-20",
                    "2023-10-23",
                    "2023-10-24",
                    "2023-10-25",
                    "2023-10-26",
                    "2023-10-27",
                    "2023-10-30",
                    "2023-10-31",
                    "2023-11-01",
                    "2023-11-03",
                    "2023-11-06",
                    "2023-11-07",
                    "2023-11-08",
                    "2023-11-09",
                    "2023-11-10",
                    "2023-11-13",
                    "2023-11-14",
                    "2023-11-16",
                    "2023-11-17",
                    "2023-11-20",
                    "2023-11-21",
                    "2023-11-22",
                    "2023-11-23",
                    "2023-11-24",
                    "2023-11-27",
                    "2023-11-28",
                    "2023-11-29",
                    "2023-11-30",
                    "2023-12-01",
                    "2023-12-04",
                    "2023-12-05",
                    "2023-12-06",
                    "2023-12-07",
                    "2023-12-08",
                    "2023-12-11",
                    "2023-12-12",
                    "2023-12-13",
                    "2023-12-14",
                    "2023-12-15",
                    "2023-12-18",
                    "2023-12-19",
                    "2023-12-20",
                    "2023-12-21",
                    "2023-12-22",
                    "2023-12-26",
                    "2023-12-27",
                    "2023-12-28",
                    "2024-01-02",
                    "2024-01-03",
                    "2024-01-04",
                    "2024-01-05",
                    "2024-01-08",
                    "2024-01-09",
                    "2024-01-10",
                    "2024-01-11",
                    "2024-01-12",
                    "2024-01-15",
                    "2024-01-16",
                    "2024-01-17",
                    "2024-01-18",
                    "2024-01-19",
                    "2024-01-22",
                    "2024-01-23",
                    "2024-01-24",
                    "2024-01-25",
                    "2024-01-26",
                    "2024-01-29",
                    "2024-01-30",
                    "2024-01-31",
                    "2024-02-01",
                    "2024-02-02",
                    "2024-02-05",
                    "2024-02-06",
                    "2024-02-07",
                    "2024-02-08",
                    "2024-02-09",
                    "2024-02-14",
                    "2024-02-15",
                    "2024-02-16",
                    "2024-02-19",
                    "2024-02-20",
                    "2024-02-21",
                    "2024-02-22",
                    "2024-02-23",
                    "2024-02-26"
                  ],
                  "y": [
                    95,
                    95,
                    95,
                    95,
                    95,
                    95,
                    95,
                    95,
                    95,
                    95,
                    95,
                    95,
                    95,
                    95,
                    95,
                    95,
                    95,
                    95,
                    95,
                    95,
                    95,
                    95,
                    95,
                    95,
                    95,
                    95,
                    95,
                    95,
                    95,
                    95,
                    95,
                    95,
                    95,
                    95,
                    95,
                    95,
                    95,
                    95,
                    95,
                    95,
                    95,
                    95,
                    95,
                    95,
                    95,
                    95,
                    95,
                    95,
                    95,
                    95,
                    95,
                    95,
                    95,
                    95,
                    95,
                    95,
                    95,
                    95,
                    95,
                    95,
                    95,
                    95,
                    95,
                    95,
                    95,
                    95,
                    95,
                    95,
                    95,
                    95,
                    95,
                    95,
                    95,
                    95,
                    95,
                    95,
                    95,
                    95,
                    95,
                    95,
                    95,
                    95,
                    95,
                    95,
                    95,
                    95,
                    95,
                    95,
                    95,
                    95
                  ],
                  "yaxis": "y3"
                },
                {
                  "close": [
                    22.5,
                    22.559999465942383,
                    21.90999984741211,
                    21.299999237060547,
                    21.670000076293945,
                    21.56999969482422,
                    22.43000030517578,
                    22.229999542236328,
                    22.049999237060547,
                    22.770000457763672,
                    22.100000381469727,
                    22.020000457763672,
                    22.309999465942383,
                    23,
                    23.1299991607666,
                    23.1299991607666,
                    22.899999618530273,
                    22.649999618530273,
                    22.850000381469727,
                    23.09000015258789,
                    22.799999237060547,
                    23.40999984741211,
                    23.610000610351562,
                    23.25,
                    23.559999465942383,
                    22.899999618530273,
                    22.670000076293945,
                    22.90999984741211,
                    22.559999465942383,
                    22.56999969482422,
                    22.68000030517578,
                    22.899999618530273,
                    22.899999618530273,
                    22.770000457763672,
                    22.579999923706055,
                    22.459999084472656,
                    22.549999237060547,
                    22.389999389648438,
                    22.170000076293945,
                    22.149999618530273,
                    22.329999923706055,
                    22.34000015258789,
                    22.950000762939453,
                    22.81999969482422,
                    22.209999084472656,
                    22.399999618530273,
                    22.600000381469727,
                    22.81999969482422,
                    22.899999618530273,
                    22.90999984741211,
                    23,
                    22.950000762939453,
                    22.25,
                    22.3799991607666,
                    22.399999618530273,
                    22.649999618530273,
                    23.639999389648438,
                    23.5,
                    23.809999465942383,
                    23.110000610351562,
                    23.469999313354492,
                    23.290000915527344,
                    22.770000457763672,
                    22.020000457763672,
                    21.770000457763672,
                    22.399999618530273,
                    22.280000686645508,
                    22.940000534057617,
                    22.510000228881836,
                    22.450000762939453,
                    22.639999389648438,
                    22.860000610351562,
                    22.6299991607666,
                    23.059999465942383,
                    23.020000457763672,
                    22.84000015258789,
                    22.670000076293945,
                    22.520000457763672,
                    23.459999084472656,
                    23.549999237060547,
                    24.09000015258789,
                    23.829999923706055,
                    23.889999389648438,
                    23.43000030517578,
                    23.239999771118164,
                    23.350000381469727,
                    22.989999771118164,
                    22.889999389648438,
                    22.809999465942383,
                    22.729999542236328
                  ],
                  "decreasing": {
                    "line": {
                      "color": "#db4052"
                    }
                  },
                  "high": [
                    23.030000686645508,
                    22.760000228881836,
                    22.440000534057617,
                    21.850000381469727,
                    22.190000534057617,
                    21.799999237060547,
                    22.520000457763672,
                    22.649999618530273,
                    22.34000015258789,
                    22.889999389648438,
                    23,
                    22.31999969482422,
                    22.530000686645508,
                    23.15999984741211,
                    23.940000534057617,
                    23.309999465942383,
                    23.280000686645508,
                    23.030000686645508,
                    23.040000915527344,
                    23.549999237060547,
                    23.190000534057617,
                    23.59000015258789,
                    23.709999084472656,
                    23.809999465942383,
                    23.68000030517578,
                    23.40999984741211,
                    23.110000610351562,
                    23.100000381469727,
                    22.90999984741211,
                    22.799999237060547,
                    22.889999389648438,
                    23.200000762939453,
                    23.079999923706055,
                    23.100000381469727,
                    22.84000015258789,
                    22.979999542236328,
                    22.700000762939453,
                    22.65999984741211,
                    22.610000610351562,
                    22.440000534057617,
                    22.65999984741211,
                    22.40999984741211,
                    23.59000015258789,
                    23.43000030517578,
                    22.93000030517578,
                    22.6299991607666,
                    22.829999923706055,
                    22.920000076293945,
                    22.969999313354492,
                    23.020000457763672,
                    23.079999923706055,
                    23.049999237060547,
                    22.700000762939453,
                    22.6299991607666,
                    22.8799991607666,
                    22.739999771118164,
                    23.75,
                    23.700000762939453,
                    23.920000076293945,
                    23.850000381469727,
                    23.850000381469727,
                    23.510000228881836,
                    23.209999084472656,
                    22.3799991607666,
                    22.18000030517578,
                    22.59000015258789,
                    22.6200008392334,
                    23.020000457763672,
                    23.040000915527344,
                    22.75,
                    22.829999923706055,
                    22.889999389648438,
                    23.100000381469727,
                    23.579999923706055,
                    23.229999542236328,
                    23.200000762939453,
                    23.09000015258789,
                    23.18000030517578,
                    23.579999923706055,
                    23.600000381469727,
                    24.549999237060547,
                    24.040000915527344,
                    24,
                    23.940000534057617,
                    23.450000762939453,
                    23.450000762939453,
                    23.350000381469727,
                    23.200000762939453,
                    23.1200008392334,
                    22.950000762939453
                  ],
                  "increasing": {
                    "line": {
                      "color": "#008000"
                    }
                  },
                  "low": [
                    22.34000015258789,
                    22.270000457763672,
                    21.799999237060547,
                    21.1200008392334,
                    21.3700008392334,
                    21.329999923706055,
                    21.280000686645508,
                    22.1299991607666,
                    21.950000762939453,
                    22.020000457763672,
                    22.100000381469727,
                    21.68000030517578,
                    21.860000610351562,
                    22.219999313354492,
                    22.93000030517578,
                    22.969999313354492,
                    22.790000915527344,
                    22.360000610351562,
                    22.43000030517578,
                    22.8799991607666,
                    22.530000686645508,
                    22.860000610351562,
                    23.31999969482422,
                    23.149999618530273,
                    23.09000015258789,
                    22.68000030517578,
                    22.489999771118164,
                    22.6200008392334,
                    22.3799991607666,
                    22.329999923706055,
                    22.420000076293945,
                    22.579999923706055,
                    22.450000762939453,
                    22.34000015258789,
                    22.479999542236328,
                    22.31999969482422,
                    22.239999771118164,
                    22.3799991607666,
                    22.059999465942383,
                    21.889999389648438,
                    22.200000762939453,
                    21.559999465942383,
                    22.420000076293945,
                    22.81999969482422,
                    22.1200008392334,
                    21.950000762939453,
                    22.290000915527344,
                    22.420000076293945,
                    22.760000228881836,
                    22.690000534057617,
                    22.729999542236328,
                    22.780000686645508,
                    22.15999984741211,
                    22.280000686645508,
                    22.190000534057617,
                    22.219999313354492,
                    22.59000015258789,
                    23.309999465942383,
                    23.190000534057617,
                    23.06999969482422,
                    23.059999465942383,
                    23.149999618530273,
                    22.719999313354492,
                    21.84000015258789,
                    21.68000030517578,
                    21.510000228881836,
                    22.149999618530273,
                    22.149999618530273,
                    22.489999771118164,
                    22.3700008392334,
                    22.31999969482422,
                    22.329999923706055,
                    22.600000381469727,
                    22.81999969482422,
                    22.920000076293945,
                    22.770000457763672,
                    22.610000610351562,
                    22.280000686645508,
                    22.56999969482422,
                    23.239999771118164,
                    23.709999084472656,
                    23.6200008392334,
                    23.56999969482422,
                    23.020000457763672,
                    23.1200008392334,
                    23.040000915527344,
                    22.780000686645508,
                    22.75,
                    22.799999237060547,
                    22.600000381469727
                  ],
                  "name": "GS",
                  "open": [
                    23,
                    22.68000030517578,
                    22.280000686645508,
                    21.75,
                    21.639999389648438,
                    21.639999389648438,
                    21.360000610351562,
                    22.649999618530273,
                    22.239999771118164,
                    22.200000762939453,
                    22.6299991607666,
                    22.139999389648438,
                    22,
                    22.299999237060547,
                    23.93000030517578,
                    23.1299991607666,
                    23,
                    22.899999618530273,
                    22.639999389648438,
                    23.1200008392334,
                    23.1200008392334,
                    22.969999313354492,
                    23.559999465942383,
                    23.700000762939453,
                    23.3799991607666,
                    23.360000610351562,
                    23.059999465942383,
                    22.780000686645508,
                    22.770000457763672,
                    22.729999542236328,
                    22.6200008392334,
                    22.670000076293945,
                    23.010000228881836,
                    22.920000076293945,
                    22.649999618530273,
                    22.59000015258789,
                    22.450000762939453,
                    22.649999618530273,
                    22.389999389648438,
                    22.260000228881836,
                    22.229999542236328,
                    22.309999465942383,
                    22.459999084472656,
                    23.229999542236328,
                    22.729999542236328,
                    22.139999389648438,
                    22.3700008392334,
                    22.420000076293945,
                    22.809999465942383,
                    22.920000076293945,
                    22.90999984741211,
                    22.989999771118164,
                    22.6200008392334,
                    22.280000686645508,
                    22.459999084472656,
                    22.219999313354492,
                    22.649999618530273,
                    23.530000686645508,
                    23.5,
                    23.65999984741211,
                    23.059999465942383,
                    23.459999084472656,
                    23.100000381469727,
                    22.3799991607666,
                    22.170000076293945,
                    21.81999969482422,
                    22.5,
                    22.389999389648438,
                    22.989999771118164,
                    22.600000381469727,
                    22.559999465942383,
                    22.610000610351562,
                    22.799999237060547,
                    22.899999618530273,
                    23.1200008392334,
                    23.040000915527344,
                    22.829999923706055,
                    22.65999984741211,
                    22.700000762939453,
                    23.34000015258789,
                    23.860000610351562,
                    24.040000915527344,
                    24,
                    23.940000534057617,
                    23.350000381469727,
                    23.200000762939453,
                    23.350000381469727,
                    22.950000762939453,
                    22.989999771118164,
                    22.850000381469727
                  ],
                  "showlegend": true,
                  "type": "candlestick",
                  "x": [
                    "2023-10-13",
                    "2023-10-16",
                    "2023-10-17",
                    "2023-10-18",
                    "2023-10-19",
                    "2023-10-20",
                    "2023-10-23",
                    "2023-10-24",
                    "2023-10-25",
                    "2023-10-26",
                    "2023-10-27",
                    "2023-10-30",
                    "2023-10-31",
                    "2023-11-01",
                    "2023-11-03",
                    "2023-11-06",
                    "2023-11-07",
                    "2023-11-08",
                    "2023-11-09",
                    "2023-11-10",
                    "2023-11-13",
                    "2023-11-14",
                    "2023-11-16",
                    "2023-11-17",
                    "2023-11-20",
                    "2023-11-21",
                    "2023-11-22",
                    "2023-11-23",
                    "2023-11-24",
                    "2023-11-27",
                    "2023-11-28",
                    "2023-11-29",
                    "2023-11-30",
                    "2023-12-01",
                    "2023-12-04",
                    "2023-12-05",
                    "2023-12-06",
                    "2023-12-07",
                    "2023-12-08",
                    "2023-12-11",
                    "2023-12-12",
                    "2023-12-13",
                    "2023-12-14",
                    "2023-12-15",
                    "2023-12-18",
                    "2023-12-19",
                    "2023-12-20",
                    "2023-12-21",
                    "2023-12-22",
                    "2023-12-26",
                    "2023-12-27",
                    "2023-12-28",
                    "2024-01-02",
                    "2024-01-03",
                    "2024-01-04",
                    "2024-01-05",
                    "2024-01-08",
                    "2024-01-09",
                    "2024-01-10",
                    "2024-01-11",
                    "2024-01-12",
                    "2024-01-15",
                    "2024-01-16",
                    "2024-01-17",
                    "2024-01-18",
                    "2024-01-19",
                    "2024-01-22",
                    "2024-01-23",
                    "2024-01-24",
                    "2024-01-25",
                    "2024-01-26",
                    "2024-01-29",
                    "2024-01-30",
                    "2024-01-31",
                    "2024-02-01",
                    "2024-02-02",
                    "2024-02-05",
                    "2024-02-06",
                    "2024-02-07",
                    "2024-02-08",
                    "2024-02-09",
                    "2024-02-14",
                    "2024-02-15",
                    "2024-02-16",
                    "2024-02-19",
                    "2024-02-20",
                    "2024-02-21",
                    "2024-02-22",
                    "2024-02-23",
                    "2024-02-26"
                  ],
                  "yaxis": "y2"
                }
              ],
              "layout": {
                "legend": {
                  "bgcolor": "#F5F6F9",
                  "font": {
                    "color": "#4D5663"
                  },
                  "orientation": "h",
                  "x": 0.3,
                  "y": 0.95,
                  "yanchor": "bottom"
                },
                "margin": {
                  "b": 30,
                  "l": 30,
                  "r": 30,
                  "t": 30
                },
                "paper_bgcolor": "#F5F6F9",
                "plot_bgcolor": "#F5F6F9",
                "showlegend": true,
                "template": {
                  "data": {
                    "bar": [
                      {
                        "error_x": {
                          "color": "#2a3f5f"
                        },
                        "error_y": {
                          "color": "#2a3f5f"
                        },
                        "marker": {
                          "line": {
                            "color": "#E5ECF6",
                            "width": 0.5
                          },
                          "pattern": {
                            "fillmode": "overlay",
                            "size": 10,
                            "solidity": 0.2
                          }
                        },
                        "type": "bar"
                      }
                    ],
                    "barpolar": [
                      {
                        "marker": {
                          "line": {
                            "color": "#E5ECF6",
                            "width": 0.5
                          },
                          "pattern": {
                            "fillmode": "overlay",
                            "size": 10,
                            "solidity": 0.2
                          }
                        },
                        "type": "barpolar"
                      }
                    ],
                    "carpet": [
                      {
                        "aaxis": {
                          "endlinecolor": "#2a3f5f",
                          "gridcolor": "white",
                          "linecolor": "white",
                          "minorgridcolor": "white",
                          "startlinecolor": "#2a3f5f"
                        },
                        "baxis": {
                          "endlinecolor": "#2a3f5f",
                          "gridcolor": "white",
                          "linecolor": "white",
                          "minorgridcolor": "white",
                          "startlinecolor": "#2a3f5f"
                        },
                        "type": "carpet"
                      }
                    ],
                    "choropleth": [
                      {
                        "colorbar": {
                          "outlinewidth": 0,
                          "ticks": ""
                        },
                        "type": "choropleth"
                      }
                    ],
                    "contour": [
                      {
                        "colorbar": {
                          "outlinewidth": 0,
                          "ticks": ""
                        },
                        "colorscale": [
                          [
                            0,
                            "#0d0887"
                          ],
                          [
                            0.1111111111111111,
                            "#46039f"
                          ],
                          [
                            0.2222222222222222,
                            "#7201a8"
                          ],
                          [
                            0.3333333333333333,
                            "#9c179e"
                          ],
                          [
                            0.4444444444444444,
                            "#bd3786"
                          ],
                          [
                            0.5555555555555556,
                            "#d8576b"
                          ],
                          [
                            0.6666666666666666,
                            "#ed7953"
                          ],
                          [
                            0.7777777777777778,
                            "#fb9f3a"
                          ],
                          [
                            0.8888888888888888,
                            "#fdca26"
                          ],
                          [
                            1,
                            "#f0f921"
                          ]
                        ],
                        "type": "contour"
                      }
                    ],
                    "contourcarpet": [
                      {
                        "colorbar": {
                          "outlinewidth": 0,
                          "ticks": ""
                        },
                        "type": "contourcarpet"
                      }
                    ],
                    "heatmap": [
                      {
                        "colorbar": {
                          "outlinewidth": 0,
                          "ticks": ""
                        },
                        "colorscale": [
                          [
                            0,
                            "#0d0887"
                          ],
                          [
                            0.1111111111111111,
                            "#46039f"
                          ],
                          [
                            0.2222222222222222,
                            "#7201a8"
                          ],
                          [
                            0.3333333333333333,
                            "#9c179e"
                          ],
                          [
                            0.4444444444444444,
                            "#bd3786"
                          ],
                          [
                            0.5555555555555556,
                            "#d8576b"
                          ],
                          [
                            0.6666666666666666,
                            "#ed7953"
                          ],
                          [
                            0.7777777777777778,
                            "#fb9f3a"
                          ],
                          [
                            0.8888888888888888,
                            "#fdca26"
                          ],
                          [
                            1,
                            "#f0f921"
                          ]
                        ],
                        "type": "heatmap"
                      }
                    ],
                    "heatmapgl": [
                      {
                        "colorbar": {
                          "outlinewidth": 0,
                          "ticks": ""
                        },
                        "colorscale": [
                          [
                            0,
                            "#0d0887"
                          ],
                          [
                            0.1111111111111111,
                            "#46039f"
                          ],
                          [
                            0.2222222222222222,
                            "#7201a8"
                          ],
                          [
                            0.3333333333333333,
                            "#9c179e"
                          ],
                          [
                            0.4444444444444444,
                            "#bd3786"
                          ],
                          [
                            0.5555555555555556,
                            "#d8576b"
                          ],
                          [
                            0.6666666666666666,
                            "#ed7953"
                          ],
                          [
                            0.7777777777777778,
                            "#fb9f3a"
                          ],
                          [
                            0.8888888888888888,
                            "#fdca26"
                          ],
                          [
                            1,
                            "#f0f921"
                          ]
                        ],
                        "type": "heatmapgl"
                      }
                    ],
                    "histogram": [
                      {
                        "marker": {
                          "pattern": {
                            "fillmode": "overlay",
                            "size": 10,
                            "solidity": 0.2
                          }
                        },
                        "type": "histogram"
                      }
                    ],
                    "histogram2d": [
                      {
                        "colorbar": {
                          "outlinewidth": 0,
                          "ticks": ""
                        },
                        "colorscale": [
                          [
                            0,
                            "#0d0887"
                          ],
                          [
                            0.1111111111111111,
                            "#46039f"
                          ],
                          [
                            0.2222222222222222,
                            "#7201a8"
                          ],
                          [
                            0.3333333333333333,
                            "#9c179e"
                          ],
                          [
                            0.4444444444444444,
                            "#bd3786"
                          ],
                          [
                            0.5555555555555556,
                            "#d8576b"
                          ],
                          [
                            0.6666666666666666,
                            "#ed7953"
                          ],
                          [
                            0.7777777777777778,
                            "#fb9f3a"
                          ],
                          [
                            0.8888888888888888,
                            "#fdca26"
                          ],
                          [
                            1,
                            "#f0f921"
                          ]
                        ],
                        "type": "histogram2d"
                      }
                    ],
                    "histogram2dcontour": [
                      {
                        "colorbar": {
                          "outlinewidth": 0,
                          "ticks": ""
                        },
                        "colorscale": [
                          [
                            0,
                            "#0d0887"
                          ],
                          [
                            0.1111111111111111,
                            "#46039f"
                          ],
                          [
                            0.2222222222222222,
                            "#7201a8"
                          ],
                          [
                            0.3333333333333333,
                            "#9c179e"
                          ],
                          [
                            0.4444444444444444,
                            "#bd3786"
                          ],
                          [
                            0.5555555555555556,
                            "#d8576b"
                          ],
                          [
                            0.6666666666666666,
                            "#ed7953"
                          ],
                          [
                            0.7777777777777778,
                            "#fb9f3a"
                          ],
                          [
                            0.8888888888888888,
                            "#fdca26"
                          ],
                          [
                            1,
                            "#f0f921"
                          ]
                        ],
                        "type": "histogram2dcontour"
                      }
                    ],
                    "mesh3d": [
                      {
                        "colorbar": {
                          "outlinewidth": 0,
                          "ticks": ""
                        },
                        "type": "mesh3d"
                      }
                    ],
                    "parcoords": [
                      {
                        "line": {
                          "colorbar": {
                            "outlinewidth": 0,
                            "ticks": ""
                          }
                        },
                        "type": "parcoords"
                      }
                    ],
                    "pie": [
                      {
                        "automargin": true,
                        "type": "pie"
                      }
                    ],
                    "scatter": [
                      {
                        "fillpattern": {
                          "fillmode": "overlay",
                          "size": 10,
                          "solidity": 0.2
                        },
                        "type": "scatter"
                      }
                    ],
                    "scatter3d": [
                      {
                        "line": {
                          "colorbar": {
                            "outlinewidth": 0,
                            "ticks": ""
                          }
                        },
                        "marker": {
                          "colorbar": {
                            "outlinewidth": 0,
                            "ticks": ""
                          }
                        },
                        "type": "scatter3d"
                      }
                    ],
                    "scattercarpet": [
                      {
                        "marker": {
                          "colorbar": {
                            "outlinewidth": 0,
                            "ticks": ""
                          }
                        },
                        "type": "scattercarpet"
                      }
                    ],
                    "scattergeo": [
                      {
                        "marker": {
                          "colorbar": {
                            "outlinewidth": 0,
                            "ticks": ""
                          }
                        },
                        "type": "scattergeo"
                      }
                    ],
                    "scattergl": [
                      {
                        "marker": {
                          "colorbar": {
                            "outlinewidth": 0,
                            "ticks": ""
                          }
                        },
                        "type": "scattergl"
                      }
                    ],
                    "scattermapbox": [
                      {
                        "marker": {
                          "colorbar": {
                            "outlinewidth": 0,
                            "ticks": ""
                          }
                        },
                        "type": "scattermapbox"
                      }
                    ],
                    "scatterpolar": [
                      {
                        "marker": {
                          "colorbar": {
                            "outlinewidth": 0,
                            "ticks": ""
                          }
                        },
                        "type": "scatterpolar"
                      }
                    ],
                    "scatterpolargl": [
                      {
                        "marker": {
                          "colorbar": {
                            "outlinewidth": 0,
                            "ticks": ""
                          }
                        },
                        "type": "scatterpolargl"
                      }
                    ],
                    "scatterternary": [
                      {
                        "marker": {
                          "colorbar": {
                            "outlinewidth": 0,
                            "ticks": ""
                          }
                        },
                        "type": "scatterternary"
                      }
                    ],
                    "surface": [
                      {
                        "colorbar": {
                          "outlinewidth": 0,
                          "ticks": ""
                        },
                        "colorscale": [
                          [
                            0,
                            "#0d0887"
                          ],
                          [
                            0.1111111111111111,
                            "#46039f"
                          ],
                          [
                            0.2222222222222222,
                            "#7201a8"
                          ],
                          [
                            0.3333333333333333,
                            "#9c179e"
                          ],
                          [
                            0.4444444444444444,
                            "#bd3786"
                          ],
                          [
                            0.5555555555555556,
                            "#d8576b"
                          ],
                          [
                            0.6666666666666666,
                            "#ed7953"
                          ],
                          [
                            0.7777777777777778,
                            "#fb9f3a"
                          ],
                          [
                            0.8888888888888888,
                            "#fdca26"
                          ],
                          [
                            1,
                            "#f0f921"
                          ]
                        ],
                        "type": "surface"
                      }
                    ],
                    "table": [
                      {
                        "cells": {
                          "fill": {
                            "color": "#EBF0F8"
                          },
                          "line": {
                            "color": "white"
                          }
                        },
                        "header": {
                          "fill": {
                            "color": "#C8D4E3"
                          },
                          "line": {
                            "color": "white"
                          }
                        },
                        "type": "table"
                      }
                    ]
                  },
                  "layout": {
                    "annotationdefaults": {
                      "arrowcolor": "#2a3f5f",
                      "arrowhead": 0,
                      "arrowwidth": 1
                    },
                    "autotypenumbers": "strict",
                    "coloraxis": {
                      "colorbar": {
                        "outlinewidth": 0,
                        "ticks": ""
                      }
                    },
                    "colorscale": {
                      "diverging": [
                        [
                          0,
                          "#8e0152"
                        ],
                        [
                          0.1,
                          "#c51b7d"
                        ],
                        [
                          0.2,
                          "#de77ae"
                        ],
                        [
                          0.3,
                          "#f1b6da"
                        ],
                        [
                          0.4,
                          "#fde0ef"
                        ],
                        [
                          0.5,
                          "#f7f7f7"
                        ],
                        [
                          0.6,
                          "#e6f5d0"
                        ],
                        [
                          0.7,
                          "#b8e186"
                        ],
                        [
                          0.8,
                          "#7fbc41"
                        ],
                        [
                          0.9,
                          "#4d9221"
                        ],
                        [
                          1,
                          "#276419"
                        ]
                      ],
                      "sequential": [
                        [
                          0,
                          "#0d0887"
                        ],
                        [
                          0.1111111111111111,
                          "#46039f"
                        ],
                        [
                          0.2222222222222222,
                          "#7201a8"
                        ],
                        [
                          0.3333333333333333,
                          "#9c179e"
                        ],
                        [
                          0.4444444444444444,
                          "#bd3786"
                        ],
                        [
                          0.5555555555555556,
                          "#d8576b"
                        ],
                        [
                          0.6666666666666666,
                          "#ed7953"
                        ],
                        [
                          0.7777777777777778,
                          "#fb9f3a"
                        ],
                        [
                          0.8888888888888888,
                          "#fdca26"
                        ],
                        [
                          1,
                          "#f0f921"
                        ]
                      ],
                      "sequentialminus": [
                        [
                          0,
                          "#0d0887"
                        ],
                        [
                          0.1111111111111111,
                          "#46039f"
                        ],
                        [
                          0.2222222222222222,
                          "#7201a8"
                        ],
                        [
                          0.3333333333333333,
                          "#9c179e"
                        ],
                        [
                          0.4444444444444444,
                          "#bd3786"
                        ],
                        [
                          0.5555555555555556,
                          "#d8576b"
                        ],
                        [
                          0.6666666666666666,
                          "#ed7953"
                        ],
                        [
                          0.7777777777777778,
                          "#fb9f3a"
                        ],
                        [
                          0.8888888888888888,
                          "#fdca26"
                        ],
                        [
                          1,
                          "#f0f921"
                        ]
                      ]
                    },
                    "colorway": [
                      "#636efa",
                      "#EF553B",
                      "#00cc96",
                      "#ab63fa",
                      "#FFA15A",
                      "#19d3f3",
                      "#FF6692",
                      "#B6E880",
                      "#FF97FF",
                      "#FECB52"
                    ],
                    "font": {
                      "color": "#2a3f5f"
                    },
                    "geo": {
                      "bgcolor": "white",
                      "lakecolor": "white",
                      "landcolor": "#E5ECF6",
                      "showlakes": true,
                      "showland": true,
                      "subunitcolor": "white"
                    },
                    "hoverlabel": {
                      "align": "left"
                    },
                    "hovermode": "closest",
                    "mapbox": {
                      "style": "light"
                    },
                    "paper_bgcolor": "white",
                    "plot_bgcolor": "#E5ECF6",
                    "polar": {
                      "angularaxis": {
                        "gridcolor": "white",
                        "linecolor": "white",
                        "ticks": ""
                      },
                      "bgcolor": "#E5ECF6",
                      "radialaxis": {
                        "gridcolor": "white",
                        "linecolor": "white",
                        "ticks": ""
                      }
                    },
                    "scene": {
                      "xaxis": {
                        "backgroundcolor": "#E5ECF6",
                        "gridcolor": "white",
                        "gridwidth": 2,
                        "linecolor": "white",
                        "showbackground": true,
                        "ticks": "",
                        "zerolinecolor": "white"
                      },
                      "yaxis": {
                        "backgroundcolor": "#E5ECF6",
                        "gridcolor": "white",
                        "gridwidth": 2,
                        "linecolor": "white",
                        "showbackground": true,
                        "ticks": "",
                        "zerolinecolor": "white"
                      },
                      "zaxis": {
                        "backgroundcolor": "#E5ECF6",
                        "gridcolor": "white",
                        "gridwidth": 2,
                        "linecolor": "white",
                        "showbackground": true,
                        "ticks": "",
                        "zerolinecolor": "white"
                      }
                    },
                    "shapedefaults": {
                      "line": {
                        "color": "#2a3f5f"
                      }
                    },
                    "ternary": {
                      "aaxis": {
                        "gridcolor": "white",
                        "linecolor": "white",
                        "ticks": ""
                      },
                      "baxis": {
                        "gridcolor": "white",
                        "linecolor": "white",
                        "ticks": ""
                      },
                      "bgcolor": "#E5ECF6",
                      "caxis": {
                        "gridcolor": "white",
                        "linecolor": "white",
                        "ticks": ""
                      }
                    },
                    "title": {
                      "x": 0.05
                    },
                    "xaxis": {
                      "automargin": true,
                      "gridcolor": "white",
                      "linecolor": "white",
                      "ticks": "",
                      "title": {
                        "standoff": 15
                      },
                      "zerolinecolor": "white",
                      "zerolinewidth": 2
                    },
                    "yaxis": {
                      "automargin": true,
                      "gridcolor": "white",
                      "linecolor": "white",
                      "ticks": "",
                      "title": {
                        "standoff": 15
                      },
                      "zerolinecolor": "white",
                      "zerolinewidth": 2
                    }
                  }
                },
                "title": {
                  "font": {
                    "color": "#4D5663"
                  },
                  "text": "RAIZ4"
                },
                "xaxis": {
                  "anchor": "y2",
                  "gridcolor": "#E1E5ED",
                  "rangebreaks": [
                    {
                      "bounds": [
                        "sat",
                        "mon"
                      ]
                    }
                  ],
                  "rangeselector": {
                    "bgcolor": "rgba(150, 200, 250, 1)",
                    "buttons": [
                      {
                        "count": 1,
                        "label": "1m",
                        "step": "month",
                        "stepmode": "backward"
                      },
                      {
                        "count": 1,
                        "label": "1y",
                        "step": "year",
                        "stepmode": "backward"
                      }
                    ],
                    "font": {
                      "size": 13
                    },
                    "visible": false,
                    "x": 0,
                    "y": 0.9
                  },
                  "rangeslider": {
                    "visible": false
                  },
                  "showgrid": true,
                  "tickfont": {
                    "color": "#4D5663"
                  },
                  "title": {
                    "font": {
                      "color": "#4D5663"
                    },
                    "text": ""
                  },
                  "zerolinecolor": "#E1E5ED"
                },
                "yaxis": {
                  "gridcolor": "#E1E5ED",
                  "showgrid": true,
                  "showticklabels": false,
                  "tickfont": {
                    "color": "#4D5663"
                  },
                  "title": {
                    "font": {
                      "color": "#4D5663"
                    },
                    "text": ""
                  },
                  "zerolinecolor": "#E1E5ED"
                },
                "yaxis2": {
                  "domain": [
                    0.23,
                    0.9
                  ],
                  "gridcolor": "#E1E5ED",
                  "showgrid": true,
                  "tickfont": {
                    "color": "#4D5663"
                  },
                  "title": {
                    "font": {
                      "color": "#4D5663"
                    },
                    "text": ""
                  },
                  "zerolinecolor": "#E1E5ED"
                },
                "yaxis3": {
                  "domain": [
                    0,
                    0.15
                  ],
                  "gridcolor": "#E1E5ED",
                  "showgrid": true,
                  "tickfont": {
                    "color": "#4D5663"
                  },
                  "title": {
                    "font": {
                      "color": "#4D5663"
                    },
                    "text": ""
                  },
                  "zerolinecolor": "#E1E5ED"
                }
              }
            },
            "text/html": [
              "<div>                            <div id=\"02da4d71-df07-4b90-94f1-0128d52d1582\" class=\"plotly-graph-div\" style=\"height:525px; width:100%;\"></div>            <script type=\"text/javascript\">                require([\"plotly\"], function(Plotly) {                    window.PLOTLYENV=window.PLOTLYENV || {};                                    if (document.getElementById(\"02da4d71-df07-4b90-94f1-0128d52d1582\")) {                    Plotly.newPlot(                        \"02da4d71-df07-4b90-94f1-0128d52d1582\",                        [{\"line\":{\"color\":\"rgba(55, 128, 191, 1.0)\",\"dash\":\"solid\",\"shape\":\"linear\",\"width\":1.3},\"mode\":\"lines\",\"name\":\" EMA(5)\",\"text\":\"\",\"x\":[\"2023-10-13\",\"2023-10-16\",\"2023-10-17\",\"2023-10-18\",\"2023-10-19\",\"2023-10-20\",\"2023-10-23\",\"2023-10-24\",\"2023-10-25\",\"2023-10-26\",\"2023-10-27\",\"2023-10-30\",\"2023-10-31\",\"2023-11-01\",\"2023-11-03\",\"2023-11-06\",\"2023-11-07\",\"2023-11-08\",\"2023-11-09\",\"2023-11-10\",\"2023-11-13\",\"2023-11-14\",\"2023-11-16\",\"2023-11-17\",\"2023-11-20\",\"2023-11-21\",\"2023-11-22\",\"2023-11-23\",\"2023-11-24\",\"2023-11-27\",\"2023-11-28\",\"2023-11-29\",\"2023-11-30\",\"2023-12-01\",\"2023-12-04\",\"2023-12-05\",\"2023-12-06\",\"2023-12-07\",\"2023-12-08\",\"2023-12-11\",\"2023-12-12\",\"2023-12-13\",\"2023-12-14\",\"2023-12-15\",\"2023-12-18\",\"2023-12-19\",\"2023-12-20\",\"2023-12-21\",\"2023-12-22\",\"2023-12-26\",\"2023-12-27\",\"2023-12-28\",\"2024-01-02\",\"2024-01-03\",\"2024-01-04\",\"2024-01-05\",\"2024-01-08\",\"2024-01-09\",\"2024-01-10\",\"2024-01-11\",\"2024-01-12\",\"2024-01-15\",\"2024-01-16\",\"2024-01-17\",\"2024-01-18\",\"2024-01-19\",\"2024-01-22\",\"2024-01-23\",\"2024-01-24\",\"2024-01-25\",\"2024-01-26\",\"2024-01-29\",\"2024-01-30\",\"2024-01-31\",\"2024-02-01\",\"2024-02-02\",\"2024-02-05\",\"2024-02-06\",\"2024-02-07\",\"2024-02-08\",\"2024-02-09\",\"2024-02-14\",\"2024-02-15\",\"2024-02-16\",\"2024-02-19\",\"2024-02-20\",\"2024-02-21\",\"2024-02-22\",\"2024-02-23\",\"2024-02-26\"],\"y\":[\"\",\"\",\"\",\"\",21.875184965722358,21.773456542089647,21.99230446311836,22.071536156157684,22.064357183125306,22.29957160800476,22.233047865826418,22.162032063138838,22.21135453074002,22.474236353826683,22.69282395613999,22.83854902434886,22.859032555742665,22.7893549100052,22.809570067160045,22.90304676230266,22.86869758722196,23.04913167395201,23.236087986085195,23.240725324056797,23.34715003801866,23.1980998981892,23.022066624224117,22.98471103195345,22.843140509949762,22.752093571574584,22.728062482774984,22.785374861360083,22.823583113750146,22.805722228421324,22.7304814601829,22.640320668279486,22.61021352453984,22.536808812909374,22.414539234037566,22.326359362201803,22.327572882703222,22.331715305998113,22.537810458311895,22.63187353714934,22.491248719590445,22.46083235257039,22.507221695536835,22.61148102863263,22.707653891931848,22.775102543758603,22.850068362505738,22.88337916265031,22.67225277510021,22.574834903655674,22.51655647528054,22.561037523030453,22.920691478569783,23.113794319046523,23.345862701345144,23.267242004347285,23.334827774016354,23.31988548785335,23.13659047782346,22.7643938044702,22.432929355568024,22.421952776555443,22.374635413252133,22.56309045352063,22.545393711974366,22.513596062296063,22.555730504746855,22.657153873281757,22.648102302443373,22.785401356943044,22.863601057216588,22.855734089007022,22.793822751435997,22.70254865354522,22.955032130521033,23.153354499367538,23.465569717107655,23.587046452640458,23.688030764976453,23.602020611709563,23.4813469981791,23.437564792609308,23.28837645211226,23.155584097957654,23.040389220619232,22.9369259944916],\"yaxis\":\"y2\",\"type\":\"scatter\"},{\"line\":{\"color\":\"rgba(55, 128, 191, 1.0)\",\"dash\":\"solid\",\"shape\":\"linear\",\"width\":1.3},\"mode\":\"lines\",\"name\":\" EMA(21)\",\"text\":\"\",\"x\":[\"2023-10-13\",\"2023-10-16\",\"2023-10-17\",\"2023-10-18\",\"2023-10-19\",\"2023-10-20\",\"2023-10-23\",\"2023-10-24\",\"2023-10-25\",\"2023-10-26\",\"2023-10-27\",\"2023-10-30\",\"2023-10-31\",\"2023-11-01\",\"2023-11-03\",\"2023-11-06\",\"2023-11-07\",\"2023-11-08\",\"2023-11-09\",\"2023-11-10\",\"2023-11-13\",\"2023-11-14\",\"2023-11-16\",\"2023-11-17\",\"2023-11-20\",\"2023-11-21\",\"2023-11-22\",\"2023-11-23\",\"2023-11-24\",\"2023-11-27\",\"2023-11-28\",\"2023-11-29\",\"2023-11-30\",\"2023-12-01\",\"2023-12-04\",\"2023-12-05\",\"2023-12-06\",\"2023-12-07\",\"2023-12-08\",\"2023-12-11\",\"2023-12-12\",\"2023-12-13\",\"2023-12-14\",\"2023-12-15\",\"2023-12-18\",\"2023-12-19\",\"2023-12-20\",\"2023-12-21\",\"2023-12-22\",\"2023-12-26\",\"2023-12-27\",\"2023-12-28\",\"2024-01-02\",\"2024-01-03\",\"2024-01-04\",\"2024-01-05\",\"2024-01-08\",\"2024-01-09\",\"2024-01-10\",\"2024-01-11\",\"2024-01-12\",\"2024-01-15\",\"2024-01-16\",\"2024-01-17\",\"2024-01-18\",\"2024-01-19\",\"2024-01-22\",\"2024-01-23\",\"2024-01-24\",\"2024-01-25\",\"2024-01-26\",\"2024-01-29\",\"2024-01-30\",\"2024-01-31\",\"2024-02-01\",\"2024-02-02\",\"2024-02-05\",\"2024-02-06\",\"2024-02-07\",\"2024-02-08\",\"2024-02-09\",\"2024-02-14\",\"2024-02-15\",\"2024-02-16\",\"2024-02-19\",\"2024-02-20\",\"2024-02-21\",\"2024-02-22\",\"2024-02-23\",\"2024-02-26\"],\"y\":[\"\",\"\",\"\",\"\",\"\",\"\",\"\",\"\",\"\",\"\",\"\",\"\",\"\",\"\",\"\",\"\",\"\",\"\",\"\",\"\",22.60782709377119,22.680751889556724,22.765229045992616,22.809299132720557,22.877544617558904,22.879585981283576,22.860532717193607,22.865029729031654,22.837299705114447,22.81299970417897,22.800908849724134,22.809917101433783,22.818106421169826,22.813733151769267,22.792484676490794,22.762258713580053,22.742962397532825,22.710874851361517,22.661704417264463,22.615185799197718,22.58925981051666,22.566599841614043,22.601454470825445,22.621322218461696,22.58392920628087,22.56720833466718,22.570189429831046,22.592899453921337,22.62081765070397,22.6471069413138,22.67918812846709,22.70380745887367,22.6625522353397,22.63686559219669,22.615332321863377,22.61848389428764,22.711348939320438,22.783044490291307,22.876404033532314,22.897640085970426,22.949672743005344,22.98061166778007,22.961465194142214,22.875877490835073,22.77534321510131,22.74122106995849,22.699291944202763,22.721174543280476,22.701976878335145,22.67906995875372,22.675518088835055,22.69228922715474,22.686626493846724,22.720569491309966,22.747790488260303,22.756173185017357,22.7483392660425,22.727581192562603,22.7941646372817,22.862876873625233,22.97443353534911,23.052212297927014,23.12837476081078,23.15579526484396,23.163450219959795,23.180409325551608,23.163099366057658,23.138272095475003,23.108429129153855,23.07402643943408],\"yaxis\":\"y2\",\"type\":\"scatter\"},{\"line\":{\"color\":\"rgba(55, 128, 191, 1.0)\",\"dash\":\"solid\",\"shape\":\"linear\",\"width\":1.3},\"mode\":\"lines\",\"name\":\" EMA(72)\",\"text\":\"\",\"x\":[\"2023-10-13\",\"2023-10-16\",\"2023-10-17\",\"2023-10-18\",\"2023-10-19\",\"2023-10-20\",\"2023-10-23\",\"2023-10-24\",\"2023-10-25\",\"2023-10-26\",\"2023-10-27\",\"2023-10-30\",\"2023-10-31\",\"2023-11-01\",\"2023-11-03\",\"2023-11-06\",\"2023-11-07\",\"2023-11-08\",\"2023-11-09\",\"2023-11-10\",\"2023-11-13\",\"2023-11-14\",\"2023-11-16\",\"2023-11-17\",\"2023-11-20\",\"2023-11-21\",\"2023-11-22\",\"2023-11-23\",\"2023-11-24\",\"2023-11-27\",\"2023-11-28\",\"2023-11-29\",\"2023-11-30\",\"2023-12-01\",\"2023-12-04\",\"2023-12-05\",\"2023-12-06\",\"2023-12-07\",\"2023-12-08\",\"2023-12-11\",\"2023-12-12\",\"2023-12-13\",\"2023-12-14\",\"2023-12-15\",\"2023-12-18\",\"2023-12-19\",\"2023-12-20\",\"2023-12-21\",\"2023-12-22\",\"2023-12-26\",\"2023-12-27\",\"2023-12-28\",\"2024-01-02\",\"2024-01-03\",\"2024-01-04\",\"2024-01-05\",\"2024-01-08\",\"2024-01-09\",\"2024-01-10\",\"2024-01-11\",\"2024-01-12\",\"2024-01-15\",\"2024-01-16\",\"2024-01-17\",\"2024-01-18\",\"2024-01-19\",\"2024-01-22\",\"2024-01-23\",\"2024-01-24\",\"2024-01-25\",\"2024-01-26\",\"2024-01-29\",\"2024-01-30\",\"2024-01-31\",\"2024-02-01\",\"2024-02-02\",\"2024-02-05\",\"2024-02-06\",\"2024-02-07\",\"2024-02-08\",\"2024-02-09\",\"2024-02-14\",\"2024-02-15\",\"2024-02-16\",\"2024-02-19\",\"2024-02-20\",\"2024-02-21\",\"2024-02-22\",\"2024-02-23\",\"2024-02-26\"],\"y\":[\"\",\"\",\"\",\"\",\"\",\"\",\"\",\"\",\"\",\"\",\"\",\"\",\"\",\"\",\"\",\"\",\"\",\"\",\"\",\"\",\"\",\"\",\"\",\"\",\"\",\"\",\"\",\"\",\"\",\"\",\"\",\"\",\"\",\"\",\"\",\"\",\"\",\"\",\"\",\"\",\"\",\"\",\"\",\"\",\"\",\"\",\"\",\"\",\"\",\"\",\"\",\"\",\"\",\"\",\"\",\"\",\"\",\"\",\"\",\"\",\"\",\"\",\"\",\"\",\"\",\"\",\"\",\"\",\"\",\"\",\"\",22.67292757312015,22.67175145223375,22.682388384116177,22.691638029969532,22.695702745657705,22.69499856293541,22.69020409430057,22.711294368003916,22.73427258359451,22.77141580466282,22.800418109294142,22.830269651221656,22.846700628042317,22.857475947030693,22.87096976715231,22.87423086315137,22.87466287757595,22.87289127725722,22.868976435201855],\"yaxis\":\"y2\",\"type\":\"scatter\"},{\"legendgroup\":\"RSI(Close,2)\",\"line\":{\"color\":\"rgba(219, 64, 82, 1.0)\",\"dash\":\"solid\",\"shape\":\"linear\",\"width\":1.3},\"mode\":\"lines\",\"name\":\"RSI(Close,2)\",\"showlegend\":true,\"text\":\"\",\"x\":[\"2023-10-13\",\"2023-10-16\",\"2023-10-17\",\"2023-10-18\",\"2023-10-19\",\"2023-10-20\",\"2023-10-23\",\"2023-10-24\",\"2023-10-25\",\"2023-10-26\",\"2023-10-27\",\"2023-10-30\",\"2023-10-31\",\"2023-11-01\",\"2023-11-03\",\"2023-11-06\",\"2023-11-07\",\"2023-11-08\",\"2023-11-09\",\"2023-11-10\",\"2023-11-13\",\"2023-11-14\",\"2023-11-16\",\"2023-11-17\",\"2023-11-20\",\"2023-11-21\",\"2023-11-22\",\"2023-11-23\",\"2023-11-24\",\"2023-11-27\",\"2023-11-28\",\"2023-11-29\",\"2023-11-30\",\"2023-12-01\",\"2023-12-04\",\"2023-12-05\",\"2023-12-06\",\"2023-12-07\",\"2023-12-08\",\"2023-12-11\",\"2023-12-12\",\"2023-12-13\",\"2023-12-14\",\"2023-12-15\",\"2023-12-18\",\"2023-12-19\",\"2023-12-20\",\"2023-12-21\",\"2023-12-22\",\"2023-12-26\",\"2023-12-27\",\"2023-12-28\",\"2024-01-02\",\"2024-01-03\",\"2024-01-04\",\"2024-01-05\",\"2024-01-08\",\"2024-01-09\",\"2024-01-10\",\"2024-01-11\",\"2024-01-12\",\"2024-01-15\",\"2024-01-16\",\"2024-01-17\",\"2024-01-18\",\"2024-01-19\",\"2024-01-22\",\"2024-01-23\",\"2024-01-24\",\"2024-01-25\",\"2024-01-26\",\"2024-01-29\",\"2024-01-30\",\"2024-01-31\",\"2024-02-01\",\"2024-02-02\",\"2024-02-05\",\"2024-02-06\",\"2024-02-07\",\"2024-02-08\",\"2024-02-09\",\"2024-02-14\",\"2024-02-15\",\"2024-02-16\",\"2024-02-19\",\"2024-02-20\",\"2024-02-21\",\"2024-02-22\",\"2024-02-23\",\"2024-02-26\"],\"y\":[\"\",100.0,8.450639902859407,0.0,37.75513183068219,78.72337835205505,89.58330435888317,81.13202794082189,0.0,80.0,51.798600638618154,0.0,78.37833658099038,100.0,100.0,100.0,0.0,0.0,44.444538634340695,100.0,45.282917016046895,67.77773068282966,100.0,35.71433437101928,46.26857173765134,31.95873045212059,0.0,51.063855690603255,40.67791678789642,2.77783664646293,100.0,100.0,100.0,0.0,0.0,0.0,42.85701310614799,36.00006103515625,0.0,0.0,89.99980926586431,100.0,100.0,82.4323279395011,0.0,23.75003278250773,100.0,100.0,100.0,100.0,100.0,64.28610354223433,0.0,15.662550929660199,100.0,100.0,100.0,87.6106642810725,68.88894540306617,30.69306743716126,33.962220014970924,66.66678440486871,0.0,0.0,0.0,71.59088199786291,84.00010172551912,84.6154974764271,60.550436240318895,0.0,76.00003051781096,100.0,48.88887005098948,65.15138817042404,91.48956029462492,0.0,0.0,0.0,86.23854495312989,100.0,100.0,67.50001788136785,18.749850988245953,11.53839100022374,0.0,36.66673024471189,23.404324394519847,0.0,0.0,0.0],\"yaxis\":\"y3\",\"type\":\"scatter\"},{\"legendgroup\":\"RSI(Close,2)\",\"line\":{\"color\":\"red\",\"width\":1},\"mode\":\"lines\",\"name\":\"\",\"showlegend\":true,\"text\":\"\",\"x\":[\"2023-10-13\",\"2023-10-16\",\"2023-10-17\",\"2023-10-18\",\"2023-10-19\",\"2023-10-20\",\"2023-10-23\",\"2023-10-24\",\"2023-10-25\",\"2023-10-26\",\"2023-10-27\",\"2023-10-30\",\"2023-10-31\",\"2023-11-01\",\"2023-11-03\",\"2023-11-06\",\"2023-11-07\",\"2023-11-08\",\"2023-11-09\",\"2023-11-10\",\"2023-11-13\",\"2023-11-14\",\"2023-11-16\",\"2023-11-17\",\"2023-11-20\",\"2023-11-21\",\"2023-11-22\",\"2023-11-23\",\"2023-11-24\",\"2023-11-27\",\"2023-11-28\",\"2023-11-29\",\"2023-11-30\",\"2023-12-01\",\"2023-12-04\",\"2023-12-05\",\"2023-12-06\",\"2023-12-07\",\"2023-12-08\",\"2023-12-11\",\"2023-12-12\",\"2023-12-13\",\"2023-12-14\",\"2023-12-15\",\"2023-12-18\",\"2023-12-19\",\"2023-12-20\",\"2023-12-21\",\"2023-12-22\",\"2023-12-26\",\"2023-12-27\",\"2023-12-28\",\"2024-01-02\",\"2024-01-03\",\"2024-01-04\",\"2024-01-05\",\"2024-01-08\",\"2024-01-09\",\"2024-01-10\",\"2024-01-11\",\"2024-01-12\",\"2024-01-15\",\"2024-01-16\",\"2024-01-17\",\"2024-01-18\",\"2024-01-19\",\"2024-01-22\",\"2024-01-23\",\"2024-01-24\",\"2024-01-25\",\"2024-01-26\",\"2024-01-29\",\"2024-01-30\",\"2024-01-31\",\"2024-02-01\",\"2024-02-02\",\"2024-02-05\",\"2024-02-06\",\"2024-02-07\",\"2024-02-08\",\"2024-02-09\",\"2024-02-14\",\"2024-02-15\",\"2024-02-16\",\"2024-02-19\",\"2024-02-20\",\"2024-02-21\",\"2024-02-22\",\"2024-02-23\",\"2024-02-26\"],\"y\":[5,5,5,5,5,5,5,5,5,5,5,5,5,5,5,5,5,5,5,5,5,5,5,5,5,5,5,5,5,5,5,5,5,5,5,5,5,5,5,5,5,5,5,5,5,5,5,5,5,5,5,5,5,5,5,5,5,5,5,5,5,5,5,5,5,5,5,5,5,5,5,5,5,5,5,5,5,5,5,5,5,5,5,5,5,5,5,5,5,5],\"yaxis\":\"y3\",\"type\":\"scatter\"},{\"legendgroup\":\"RSI(Close,2)\",\"line\":{\"color\":\"green\",\"width\":1},\"mode\":\"lines\",\"name\":\"\",\"showlegend\":true,\"text\":\"\",\"x\":[\"2023-10-13\",\"2023-10-16\",\"2023-10-17\",\"2023-10-18\",\"2023-10-19\",\"2023-10-20\",\"2023-10-23\",\"2023-10-24\",\"2023-10-25\",\"2023-10-26\",\"2023-10-27\",\"2023-10-30\",\"2023-10-31\",\"2023-11-01\",\"2023-11-03\",\"2023-11-06\",\"2023-11-07\",\"2023-11-08\",\"2023-11-09\",\"2023-11-10\",\"2023-11-13\",\"2023-11-14\",\"2023-11-16\",\"2023-11-17\",\"2023-11-20\",\"2023-11-21\",\"2023-11-22\",\"2023-11-23\",\"2023-11-24\",\"2023-11-27\",\"2023-11-28\",\"2023-11-29\",\"2023-11-30\",\"2023-12-01\",\"2023-12-04\",\"2023-12-05\",\"2023-12-06\",\"2023-12-07\",\"2023-12-08\",\"2023-12-11\",\"2023-12-12\",\"2023-12-13\",\"2023-12-14\",\"2023-12-15\",\"2023-12-18\",\"2023-12-19\",\"2023-12-20\",\"2023-12-21\",\"2023-12-22\",\"2023-12-26\",\"2023-12-27\",\"2023-12-28\",\"2024-01-02\",\"2024-01-03\",\"2024-01-04\",\"2024-01-05\",\"2024-01-08\",\"2024-01-09\",\"2024-01-10\",\"2024-01-11\",\"2024-01-12\",\"2024-01-15\",\"2024-01-16\",\"2024-01-17\",\"2024-01-18\",\"2024-01-19\",\"2024-01-22\",\"2024-01-23\",\"2024-01-24\",\"2024-01-25\",\"2024-01-26\",\"2024-01-29\",\"2024-01-30\",\"2024-01-31\",\"2024-02-01\",\"2024-02-02\",\"2024-02-05\",\"2024-02-06\",\"2024-02-07\",\"2024-02-08\",\"2024-02-09\",\"2024-02-14\",\"2024-02-15\",\"2024-02-16\",\"2024-02-19\",\"2024-02-20\",\"2024-02-21\",\"2024-02-22\",\"2024-02-23\",\"2024-02-26\"],\"y\":[95,95,95,95,95,95,95,95,95,95,95,95,95,95,95,95,95,95,95,95,95,95,95,95,95,95,95,95,95,95,95,95,95,95,95,95,95,95,95,95,95,95,95,95,95,95,95,95,95,95,95,95,95,95,95,95,95,95,95,95,95,95,95,95,95,95,95,95,95,95,95,95,95,95,95,95,95,95,95,95,95,95,95,95,95,95,95,95,95,95],\"yaxis\":\"y3\",\"type\":\"scatter\"},{\"close\":[22.5,22.559999465942383,21.90999984741211,21.299999237060547,21.670000076293945,21.56999969482422,22.43000030517578,22.229999542236328,22.049999237060547,22.770000457763672,22.100000381469727,22.020000457763672,22.309999465942383,23.0,23.1299991607666,23.1299991607666,22.899999618530273,22.649999618530273,22.850000381469727,23.09000015258789,22.799999237060547,23.40999984741211,23.610000610351562,23.25,23.559999465942383,22.899999618530273,22.670000076293945,22.90999984741211,22.559999465942383,22.56999969482422,22.68000030517578,22.899999618530273,22.899999618530273,22.770000457763672,22.579999923706055,22.459999084472656,22.549999237060547,22.389999389648438,22.170000076293945,22.149999618530273,22.329999923706055,22.34000015258789,22.950000762939453,22.81999969482422,22.209999084472656,22.399999618530273,22.600000381469727,22.81999969482422,22.899999618530273,22.90999984741211,23.0,22.950000762939453,22.25,22.3799991607666,22.399999618530273,22.649999618530273,23.639999389648438,23.5,23.809999465942383,23.110000610351562,23.469999313354492,23.290000915527344,22.770000457763672,22.020000457763672,21.770000457763672,22.399999618530273,22.280000686645508,22.940000534057617,22.510000228881836,22.450000762939453,22.639999389648438,22.860000610351562,22.6299991607666,23.059999465942383,23.020000457763672,22.84000015258789,22.670000076293945,22.520000457763672,23.459999084472656,23.549999237060547,24.09000015258789,23.829999923706055,23.889999389648438,23.43000030517578,23.239999771118164,23.350000381469727,22.989999771118164,22.889999389648438,22.809999465942383,22.729999542236328],\"decreasing\":{\"line\":{\"color\":\"#db4052\"}},\"high\":[23.030000686645508,22.760000228881836,22.440000534057617,21.850000381469727,22.190000534057617,21.799999237060547,22.520000457763672,22.649999618530273,22.34000015258789,22.889999389648438,23.0,22.31999969482422,22.530000686645508,23.15999984741211,23.940000534057617,23.309999465942383,23.280000686645508,23.030000686645508,23.040000915527344,23.549999237060547,23.190000534057617,23.59000015258789,23.709999084472656,23.809999465942383,23.68000030517578,23.40999984741211,23.110000610351562,23.100000381469727,22.90999984741211,22.799999237060547,22.889999389648438,23.200000762939453,23.079999923706055,23.100000381469727,22.84000015258789,22.979999542236328,22.700000762939453,22.65999984741211,22.610000610351562,22.440000534057617,22.65999984741211,22.40999984741211,23.59000015258789,23.43000030517578,22.93000030517578,22.6299991607666,22.829999923706055,22.920000076293945,22.969999313354492,23.020000457763672,23.079999923706055,23.049999237060547,22.700000762939453,22.6299991607666,22.8799991607666,22.739999771118164,23.75,23.700000762939453,23.920000076293945,23.850000381469727,23.850000381469727,23.510000228881836,23.209999084472656,22.3799991607666,22.18000030517578,22.59000015258789,22.6200008392334,23.020000457763672,23.040000915527344,22.75,22.829999923706055,22.889999389648438,23.100000381469727,23.579999923706055,23.229999542236328,23.200000762939453,23.09000015258789,23.18000030517578,23.579999923706055,23.600000381469727,24.549999237060547,24.040000915527344,24.0,23.940000534057617,23.450000762939453,23.450000762939453,23.350000381469727,23.200000762939453,23.1200008392334,22.950000762939453],\"increasing\":{\"line\":{\"color\":\"#008000\"}},\"low\":[22.34000015258789,22.270000457763672,21.799999237060547,21.1200008392334,21.3700008392334,21.329999923706055,21.280000686645508,22.1299991607666,21.950000762939453,22.020000457763672,22.100000381469727,21.68000030517578,21.860000610351562,22.219999313354492,22.93000030517578,22.969999313354492,22.790000915527344,22.360000610351562,22.43000030517578,22.8799991607666,22.530000686645508,22.860000610351562,23.31999969482422,23.149999618530273,23.09000015258789,22.68000030517578,22.489999771118164,22.6200008392334,22.3799991607666,22.329999923706055,22.420000076293945,22.579999923706055,22.450000762939453,22.34000015258789,22.479999542236328,22.31999969482422,22.239999771118164,22.3799991607666,22.059999465942383,21.889999389648438,22.200000762939453,21.559999465942383,22.420000076293945,22.81999969482422,22.1200008392334,21.950000762939453,22.290000915527344,22.420000076293945,22.760000228881836,22.690000534057617,22.729999542236328,22.780000686645508,22.15999984741211,22.280000686645508,22.190000534057617,22.219999313354492,22.59000015258789,23.309999465942383,23.190000534057617,23.06999969482422,23.059999465942383,23.149999618530273,22.719999313354492,21.84000015258789,21.68000030517578,21.510000228881836,22.149999618530273,22.149999618530273,22.489999771118164,22.3700008392334,22.31999969482422,22.329999923706055,22.600000381469727,22.81999969482422,22.920000076293945,22.770000457763672,22.610000610351562,22.280000686645508,22.56999969482422,23.239999771118164,23.709999084472656,23.6200008392334,23.56999969482422,23.020000457763672,23.1200008392334,23.040000915527344,22.780000686645508,22.75,22.799999237060547,22.600000381469727],\"name\":\"GS\",\"open\":[23.0,22.68000030517578,22.280000686645508,21.75,21.639999389648438,21.639999389648438,21.360000610351562,22.649999618530273,22.239999771118164,22.200000762939453,22.6299991607666,22.139999389648438,22.0,22.299999237060547,23.93000030517578,23.1299991607666,23.0,22.899999618530273,22.639999389648438,23.1200008392334,23.1200008392334,22.969999313354492,23.559999465942383,23.700000762939453,23.3799991607666,23.360000610351562,23.059999465942383,22.780000686645508,22.770000457763672,22.729999542236328,22.6200008392334,22.670000076293945,23.010000228881836,22.920000076293945,22.649999618530273,22.59000015258789,22.450000762939453,22.649999618530273,22.389999389648438,22.260000228881836,22.229999542236328,22.309999465942383,22.459999084472656,23.229999542236328,22.729999542236328,22.139999389648438,22.3700008392334,22.420000076293945,22.809999465942383,22.920000076293945,22.90999984741211,22.989999771118164,22.6200008392334,22.280000686645508,22.459999084472656,22.219999313354492,22.649999618530273,23.530000686645508,23.5,23.65999984741211,23.059999465942383,23.459999084472656,23.100000381469727,22.3799991607666,22.170000076293945,21.81999969482422,22.5,22.389999389648438,22.989999771118164,22.600000381469727,22.559999465942383,22.610000610351562,22.799999237060547,22.899999618530273,23.1200008392334,23.040000915527344,22.829999923706055,22.65999984741211,22.700000762939453,23.34000015258789,23.860000610351562,24.040000915527344,24.0,23.940000534057617,23.350000381469727,23.200000762939453,23.350000381469727,22.950000762939453,22.989999771118164,22.850000381469727],\"showlegend\":true,\"x\":[\"2023-10-13\",\"2023-10-16\",\"2023-10-17\",\"2023-10-18\",\"2023-10-19\",\"2023-10-20\",\"2023-10-23\",\"2023-10-24\",\"2023-10-25\",\"2023-10-26\",\"2023-10-27\",\"2023-10-30\",\"2023-10-31\",\"2023-11-01\",\"2023-11-03\",\"2023-11-06\",\"2023-11-07\",\"2023-11-08\",\"2023-11-09\",\"2023-11-10\",\"2023-11-13\",\"2023-11-14\",\"2023-11-16\",\"2023-11-17\",\"2023-11-20\",\"2023-11-21\",\"2023-11-22\",\"2023-11-23\",\"2023-11-24\",\"2023-11-27\",\"2023-11-28\",\"2023-11-29\",\"2023-11-30\",\"2023-12-01\",\"2023-12-04\",\"2023-12-05\",\"2023-12-06\",\"2023-12-07\",\"2023-12-08\",\"2023-12-11\",\"2023-12-12\",\"2023-12-13\",\"2023-12-14\",\"2023-12-15\",\"2023-12-18\",\"2023-12-19\",\"2023-12-20\",\"2023-12-21\",\"2023-12-22\",\"2023-12-26\",\"2023-12-27\",\"2023-12-28\",\"2024-01-02\",\"2024-01-03\",\"2024-01-04\",\"2024-01-05\",\"2024-01-08\",\"2024-01-09\",\"2024-01-10\",\"2024-01-11\",\"2024-01-12\",\"2024-01-15\",\"2024-01-16\",\"2024-01-17\",\"2024-01-18\",\"2024-01-19\",\"2024-01-22\",\"2024-01-23\",\"2024-01-24\",\"2024-01-25\",\"2024-01-26\",\"2024-01-29\",\"2024-01-30\",\"2024-01-31\",\"2024-02-01\",\"2024-02-02\",\"2024-02-05\",\"2024-02-06\",\"2024-02-07\",\"2024-02-08\",\"2024-02-09\",\"2024-02-14\",\"2024-02-15\",\"2024-02-16\",\"2024-02-19\",\"2024-02-20\",\"2024-02-21\",\"2024-02-22\",\"2024-02-23\",\"2024-02-26\"],\"yaxis\":\"y2\",\"type\":\"candlestick\"}],                        {\"legend\":{\"bgcolor\":\"#F5F6F9\",\"font\":{\"color\":\"#4D5663\"},\"orientation\":\"h\",\"x\":0.3,\"y\":0.95,\"yanchor\":\"bottom\"},\"margin\":{\"b\":30,\"l\":30,\"r\":30,\"t\":30},\"paper_bgcolor\":\"#F5F6F9\",\"plot_bgcolor\":\"#F5F6F9\",\"showlegend\":true,\"template\":{\"data\":{\"barpolar\":[{\"marker\":{\"line\":{\"color\":\"#E5ECF6\",\"width\":0.5},\"pattern\":{\"fillmode\":\"overlay\",\"size\":10,\"solidity\":0.2}},\"type\":\"barpolar\"}],\"bar\":[{\"error_x\":{\"color\":\"#2a3f5f\"},\"error_y\":{\"color\":\"#2a3f5f\"},\"marker\":{\"line\":{\"color\":\"#E5ECF6\",\"width\":0.5},\"pattern\":{\"fillmode\":\"overlay\",\"size\":10,\"solidity\":0.2}},\"type\":\"bar\"}],\"carpet\":[{\"aaxis\":{\"endlinecolor\":\"#2a3f5f\",\"gridcolor\":\"white\",\"linecolor\":\"white\",\"minorgridcolor\":\"white\",\"startlinecolor\":\"#2a3f5f\"},\"baxis\":{\"endlinecolor\":\"#2a3f5f\",\"gridcolor\":\"white\",\"linecolor\":\"white\",\"minorgridcolor\":\"white\",\"startlinecolor\":\"#2a3f5f\"},\"type\":\"carpet\"}],\"choropleth\":[{\"colorbar\":{\"outlinewidth\":0,\"ticks\":\"\"},\"type\":\"choropleth\"}],\"contourcarpet\":[{\"colorbar\":{\"outlinewidth\":0,\"ticks\":\"\"},\"type\":\"contourcarpet\"}],\"contour\":[{\"colorbar\":{\"outlinewidth\":0,\"ticks\":\"\"},\"colorscale\":[[0.0,\"#0d0887\"],[0.1111111111111111,\"#46039f\"],[0.2222222222222222,\"#7201a8\"],[0.3333333333333333,\"#9c179e\"],[0.4444444444444444,\"#bd3786\"],[0.5555555555555556,\"#d8576b\"],[0.6666666666666666,\"#ed7953\"],[0.7777777777777778,\"#fb9f3a\"],[0.8888888888888888,\"#fdca26\"],[1.0,\"#f0f921\"]],\"type\":\"contour\"}],\"heatmapgl\":[{\"colorbar\":{\"outlinewidth\":0,\"ticks\":\"\"},\"colorscale\":[[0.0,\"#0d0887\"],[0.1111111111111111,\"#46039f\"],[0.2222222222222222,\"#7201a8\"],[0.3333333333333333,\"#9c179e\"],[0.4444444444444444,\"#bd3786\"],[0.5555555555555556,\"#d8576b\"],[0.6666666666666666,\"#ed7953\"],[0.7777777777777778,\"#fb9f3a\"],[0.8888888888888888,\"#fdca26\"],[1.0,\"#f0f921\"]],\"type\":\"heatmapgl\"}],\"heatmap\":[{\"colorbar\":{\"outlinewidth\":0,\"ticks\":\"\"},\"colorscale\":[[0.0,\"#0d0887\"],[0.1111111111111111,\"#46039f\"],[0.2222222222222222,\"#7201a8\"],[0.3333333333333333,\"#9c179e\"],[0.4444444444444444,\"#bd3786\"],[0.5555555555555556,\"#d8576b\"],[0.6666666666666666,\"#ed7953\"],[0.7777777777777778,\"#fb9f3a\"],[0.8888888888888888,\"#fdca26\"],[1.0,\"#f0f921\"]],\"type\":\"heatmap\"}],\"histogram2dcontour\":[{\"colorbar\":{\"outlinewidth\":0,\"ticks\":\"\"},\"colorscale\":[[0.0,\"#0d0887\"],[0.1111111111111111,\"#46039f\"],[0.2222222222222222,\"#7201a8\"],[0.3333333333333333,\"#9c179e\"],[0.4444444444444444,\"#bd3786\"],[0.5555555555555556,\"#d8576b\"],[0.6666666666666666,\"#ed7953\"],[0.7777777777777778,\"#fb9f3a\"],[0.8888888888888888,\"#fdca26\"],[1.0,\"#f0f921\"]],\"type\":\"histogram2dcontour\"}],\"histogram2d\":[{\"colorbar\":{\"outlinewidth\":0,\"ticks\":\"\"},\"colorscale\":[[0.0,\"#0d0887\"],[0.1111111111111111,\"#46039f\"],[0.2222222222222222,\"#7201a8\"],[0.3333333333333333,\"#9c179e\"],[0.4444444444444444,\"#bd3786\"],[0.5555555555555556,\"#d8576b\"],[0.6666666666666666,\"#ed7953\"],[0.7777777777777778,\"#fb9f3a\"],[0.8888888888888888,\"#fdca26\"],[1.0,\"#f0f921\"]],\"type\":\"histogram2d\"}],\"histogram\":[{\"marker\":{\"pattern\":{\"fillmode\":\"overlay\",\"size\":10,\"solidity\":0.2}},\"type\":\"histogram\"}],\"mesh3d\":[{\"colorbar\":{\"outlinewidth\":0,\"ticks\":\"\"},\"type\":\"mesh3d\"}],\"parcoords\":[{\"line\":{\"colorbar\":{\"outlinewidth\":0,\"ticks\":\"\"}},\"type\":\"parcoords\"}],\"pie\":[{\"automargin\":true,\"type\":\"pie\"}],\"scatter3d\":[{\"line\":{\"colorbar\":{\"outlinewidth\":0,\"ticks\":\"\"}},\"marker\":{\"colorbar\":{\"outlinewidth\":0,\"ticks\":\"\"}},\"type\":\"scatter3d\"}],\"scattercarpet\":[{\"marker\":{\"colorbar\":{\"outlinewidth\":0,\"ticks\":\"\"}},\"type\":\"scattercarpet\"}],\"scattergeo\":[{\"marker\":{\"colorbar\":{\"outlinewidth\":0,\"ticks\":\"\"}},\"type\":\"scattergeo\"}],\"scattergl\":[{\"marker\":{\"colorbar\":{\"outlinewidth\":0,\"ticks\":\"\"}},\"type\":\"scattergl\"}],\"scattermapbox\":[{\"marker\":{\"colorbar\":{\"outlinewidth\":0,\"ticks\":\"\"}},\"type\":\"scattermapbox\"}],\"scatterpolargl\":[{\"marker\":{\"colorbar\":{\"outlinewidth\":0,\"ticks\":\"\"}},\"type\":\"scatterpolargl\"}],\"scatterpolar\":[{\"marker\":{\"colorbar\":{\"outlinewidth\":0,\"ticks\":\"\"}},\"type\":\"scatterpolar\"}],\"scatter\":[{\"fillpattern\":{\"fillmode\":\"overlay\",\"size\":10,\"solidity\":0.2},\"type\":\"scatter\"}],\"scatterternary\":[{\"marker\":{\"colorbar\":{\"outlinewidth\":0,\"ticks\":\"\"}},\"type\":\"scatterternary\"}],\"surface\":[{\"colorbar\":{\"outlinewidth\":0,\"ticks\":\"\"},\"colorscale\":[[0.0,\"#0d0887\"],[0.1111111111111111,\"#46039f\"],[0.2222222222222222,\"#7201a8\"],[0.3333333333333333,\"#9c179e\"],[0.4444444444444444,\"#bd3786\"],[0.5555555555555556,\"#d8576b\"],[0.6666666666666666,\"#ed7953\"],[0.7777777777777778,\"#fb9f3a\"],[0.8888888888888888,\"#fdca26\"],[1.0,\"#f0f921\"]],\"type\":\"surface\"}],\"table\":[{\"cells\":{\"fill\":{\"color\":\"#EBF0F8\"},\"line\":{\"color\":\"white\"}},\"header\":{\"fill\":{\"color\":\"#C8D4E3\"},\"line\":{\"color\":\"white\"}},\"type\":\"table\"}]},\"layout\":{\"annotationdefaults\":{\"arrowcolor\":\"#2a3f5f\",\"arrowhead\":0,\"arrowwidth\":1},\"autotypenumbers\":\"strict\",\"coloraxis\":{\"colorbar\":{\"outlinewidth\":0,\"ticks\":\"\"}},\"colorscale\":{\"diverging\":[[0,\"#8e0152\"],[0.1,\"#c51b7d\"],[0.2,\"#de77ae\"],[0.3,\"#f1b6da\"],[0.4,\"#fde0ef\"],[0.5,\"#f7f7f7\"],[0.6,\"#e6f5d0\"],[0.7,\"#b8e186\"],[0.8,\"#7fbc41\"],[0.9,\"#4d9221\"],[1,\"#276419\"]],\"sequential\":[[0.0,\"#0d0887\"],[0.1111111111111111,\"#46039f\"],[0.2222222222222222,\"#7201a8\"],[0.3333333333333333,\"#9c179e\"],[0.4444444444444444,\"#bd3786\"],[0.5555555555555556,\"#d8576b\"],[0.6666666666666666,\"#ed7953\"],[0.7777777777777778,\"#fb9f3a\"],[0.8888888888888888,\"#fdca26\"],[1.0,\"#f0f921\"]],\"sequentialminus\":[[0.0,\"#0d0887\"],[0.1111111111111111,\"#46039f\"],[0.2222222222222222,\"#7201a8\"],[0.3333333333333333,\"#9c179e\"],[0.4444444444444444,\"#bd3786\"],[0.5555555555555556,\"#d8576b\"],[0.6666666666666666,\"#ed7953\"],[0.7777777777777778,\"#fb9f3a\"],[0.8888888888888888,\"#fdca26\"],[1.0,\"#f0f921\"]]},\"colorway\":[\"#636efa\",\"#EF553B\",\"#00cc96\",\"#ab63fa\",\"#FFA15A\",\"#19d3f3\",\"#FF6692\",\"#B6E880\",\"#FF97FF\",\"#FECB52\"],\"font\":{\"color\":\"#2a3f5f\"},\"geo\":{\"bgcolor\":\"white\",\"lakecolor\":\"white\",\"landcolor\":\"#E5ECF6\",\"showlakes\":true,\"showland\":true,\"subunitcolor\":\"white\"},\"hoverlabel\":{\"align\":\"left\"},\"hovermode\":\"closest\",\"mapbox\":{\"style\":\"light\"},\"paper_bgcolor\":\"white\",\"plot_bgcolor\":\"#E5ECF6\",\"polar\":{\"angularaxis\":{\"gridcolor\":\"white\",\"linecolor\":\"white\",\"ticks\":\"\"},\"bgcolor\":\"#E5ECF6\",\"radialaxis\":{\"gridcolor\":\"white\",\"linecolor\":\"white\",\"ticks\":\"\"}},\"scene\":{\"xaxis\":{\"backgroundcolor\":\"#E5ECF6\",\"gridcolor\":\"white\",\"gridwidth\":2,\"linecolor\":\"white\",\"showbackground\":true,\"ticks\":\"\",\"zerolinecolor\":\"white\"},\"yaxis\":{\"backgroundcolor\":\"#E5ECF6\",\"gridcolor\":\"white\",\"gridwidth\":2,\"linecolor\":\"white\",\"showbackground\":true,\"ticks\":\"\",\"zerolinecolor\":\"white\"},\"zaxis\":{\"backgroundcolor\":\"#E5ECF6\",\"gridcolor\":\"white\",\"gridwidth\":2,\"linecolor\":\"white\",\"showbackground\":true,\"ticks\":\"\",\"zerolinecolor\":\"white\"}},\"shapedefaults\":{\"line\":{\"color\":\"#2a3f5f\"}},\"ternary\":{\"aaxis\":{\"gridcolor\":\"white\",\"linecolor\":\"white\",\"ticks\":\"\"},\"baxis\":{\"gridcolor\":\"white\",\"linecolor\":\"white\",\"ticks\":\"\"},\"bgcolor\":\"#E5ECF6\",\"caxis\":{\"gridcolor\":\"white\",\"linecolor\":\"white\",\"ticks\":\"\"}},\"title\":{\"x\":0.05},\"xaxis\":{\"automargin\":true,\"gridcolor\":\"white\",\"linecolor\":\"white\",\"ticks\":\"\",\"title\":{\"standoff\":15},\"zerolinecolor\":\"white\",\"zerolinewidth\":2},\"yaxis\":{\"automargin\":true,\"gridcolor\":\"white\",\"linecolor\":\"white\",\"ticks\":\"\",\"title\":{\"standoff\":15},\"zerolinecolor\":\"white\",\"zerolinewidth\":2}}},\"title\":{\"font\":{\"color\":\"#4D5663\"},\"text\":\"RAIZ4\"},\"xaxis\":{\"anchor\":\"y2\",\"gridcolor\":\"#E1E5ED\",\"rangeselector\":{\"bgcolor\":\"rgba(150, 200, 250, 1)\",\"buttons\":[{\"count\":1,\"label\":\"1m\",\"step\":\"month\",\"stepmode\":\"backward\"},{\"count\":1,\"label\":\"1y\",\"step\":\"year\",\"stepmode\":\"backward\"}],\"font\":{\"size\":13},\"visible\":false,\"x\":0,\"y\":0.9},\"rangeslider\":{\"visible\":false},\"showgrid\":true,\"tickfont\":{\"color\":\"#4D5663\"},\"title\":{\"font\":{\"color\":\"#4D5663\"},\"text\":\"\"},\"zerolinecolor\":\"#E1E5ED\",\"rangebreaks\":[{\"bounds\":[\"sat\",\"mon\"]}]},\"yaxis\":{\"gridcolor\":\"#E1E5ED\",\"showgrid\":true,\"showticklabels\":false,\"tickfont\":{\"color\":\"#4D5663\"},\"title\":{\"font\":{\"color\":\"#4D5663\"},\"text\":\"\"},\"zerolinecolor\":\"#E1E5ED\"},\"yaxis2\":{\"domain\":[0.23,0.9],\"gridcolor\":\"#E1E5ED\",\"showgrid\":true,\"tickfont\":{\"color\":\"#4D5663\"},\"title\":{\"font\":{\"color\":\"#4D5663\"},\"text\":\"\"},\"zerolinecolor\":\"#E1E5ED\"},\"yaxis3\":{\"domain\":[0.0,0.15],\"gridcolor\":\"#E1E5ED\",\"showgrid\":true,\"tickfont\":{\"color\":\"#4D5663\"},\"title\":{\"font\":{\"color\":\"#4D5663\"},\"text\":\"\"},\"zerolinecolor\":\"#E1E5ED\"}},                        {\"responsive\": true}                    ).then(function(){\n",
              "                            \n",
              "var gd = document.getElementById('02da4d71-df07-4b90-94f1-0128d52d1582');\n",
              "var x = new MutationObserver(function (mutations, observer) {{\n",
              "        var display = window.getComputedStyle(gd).display;\n",
              "        if (!display || display === 'none') {{\n",
              "            console.log([gd, 'removed!']);\n",
              "            Plotly.purge(gd);\n",
              "            observer.disconnect();\n",
              "        }}\n",
              "}});\n",
              "\n",
              "// Listen for the removal of the full notebook cells\n",
              "var notebookContainer = gd.closest('#notebook-container');\n",
              "if (notebookContainer) {{\n",
              "    x.observe(notebookContainer, {childList: true});\n",
              "}}\n",
              "\n",
              "// Listen for the clearing of the current output cell\n",
              "var outputEl = gd.closest('.output');\n",
              "if (outputEl) {{\n",
              "    x.observe(outputEl, {childList: true});\n",
              "}}\n",
              "\n",
              "                        })                };                });            </script>        </div>"
            ]
          },
          "metadata": {},
          "output_type": "display_data"
        }
      ],
      "source": [
        "ohlc = yf.download(tickers= ativo+'.SA', period = periodo , auto_adjust=True, progress = False )\n",
        "\n",
        "qf=cf.QuantFig(ohlc[-90:] , title= x ,legend='top',name='GS',up_color='green', down_color='red' )\n",
        "#qf.add_bollinger_bands(periods=20, boll_std=2, colors=['cyan','grey'], fill=True)\n",
        "qf.add_ema(periods=5)\n",
        "qf.add_ema(periods=21)\n",
        "qf.add_ema(periods=72)\n",
        "qf.add_rsi(periods=2,color='red',rsi_upper=95,rsi_lower=5,showbands=True)\n",
        "\n",
        "fig = qf.figure()\n",
        "fig.update_xaxes(\n",
        "    rangebreaks=[dict(bounds=[\"sat\", \"mon\"])])\n",
        "fig.show()"
      ]
    },
    {
      "cell_type": "markdown",
      "metadata": {
        "id": "abIGckox54tp"
      },
      "source": [
        "**informações dos trades**"
      ]
    },
    {
      "cell_type": "code",
      "execution_count": 16,
      "metadata": {
        "colab": {
          "base_uri": "https://localhost:8080/"
        },
        "id": "O2ajq4WnIhCg",
        "outputId": "84a71bbd-7952-467f-8a09-26bdad18c871"
      },
      "outputs": [
        {
          "name": "stdout",
          "output_type": "stream",
          "text": [
            "\n",
            "****** RAIL3 (retornos) ********\n",
            "resumo dos retornos das operações:\n",
            "count    5.000000\n",
            "mean     0.011114\n",
            "std      0.019317\n",
            "min     -0.022251\n",
            "25%      0.014429\n",
            "50%      0.014760\n",
            "75%      0.022510\n",
            "max      0.026123\n",
            "dtype: float64\n",
            "\n",
            "****** RAIZ4 (retornos) ********\n",
            "resumo dos retornos das operações:\n",
            "count    8.000000\n",
            "mean    -0.000749\n",
            "std      0.048566\n",
            "min     -0.088083\n",
            "25%     -0.010396\n",
            "50%      0.017380\n",
            "75%      0.028404\n",
            "max      0.043353\n",
            "dtype: float64\n"
          ]
        }
      ],
      "source": [
        "for x in range(len(lista_ifr)):\n",
        "  print(\"\\n******\",retornos[x][0],\"(retornos) ********\")\n",
        "  print('resumo dos retornos das operações:')\n",
        "  print(pd.Series(retornos[x][1]).describe()  );"
      ]
    },
    {
      "cell_type": "code",
      "execution_count": 17,
      "metadata": {
        "colab": {
          "base_uri": "https://localhost:8080/"
        },
        "id": "7MUQT3z-wGED",
        "outputId": "68cf2f45-8515-4a25-ab21-4771a0c02e78"
      },
      "outputs": [
        {
          "data": {
            "text/plain": [
              "[['RAIL3',\n",
              "  ['entrada em 24/03/2023 e saida em 28/03/2023 durou 2 dias e variou 2.251%',\n",
              "   'entrada em 29/06/2023 e saida em 30/06/2023 durou 1 dias e variou 1.476%',\n",
              "   'entrada em 02/08/2023 e saida em 04/08/2023 durou 2 dias e variou 1.443%',\n",
              "   'entrada em 27/09/2023 e saida em 10/10/2023 durou 9 dias e variou -2.225%',\n",
              "   'entrada em 19/01/2024 e saida em 23/01/2024 durou 2 dias e variou 2.612%']],\n",
              " ['RAIZ4',\n",
              "  ['entrada em 06/03/2023 e saida em 09/03/2023 durou 3 dias e variou 1.859%',\n",
              "   'entrada em 14/03/2023 e saida em 17/03/2023 durou 3 dias e variou 0.794%',\n",
              "   'entrada em 22/03/2023 e saida em 27/03/2023 durou 3 dias e variou 2.609%',\n",
              "   'entrada em 17/07/2023 e saida em 18/07/2023 durou 1 dias e variou 3.535%',\n",
              "   'entrada em 09/08/2023 e saida em 24/08/2023 durou 11 dias e variou -8.808%',\n",
              "   'entrada em 22/09/2023 e saida em 10/10/2023 durou 12 dias e variou -6.54%',\n",
              "   'entrada em 06/12/2023 e saida em 08/12/2023 durou 2 dias e variou 4.335%',\n",
              "   'entrada em 19/01/2024 e saida em 24/01/2024 durou 3 dias e variou 1.617%']]]"
            ]
          },
          "execution_count": 17,
          "metadata": {},
          "output_type": "execute_result"
        }
      ],
      "source": [
        "out"
      ]
    },
    {
      "cell_type": "code",
      "execution_count": 18,
      "metadata": {
        "colab": {
          "base_uri": "https://localhost:8080/",
          "height": 296
        },
        "id": "PEibksd_83UE",
        "outputId": "7fb87aec-0fa7-4f87-ffe7-c2aa4bca9c73"
      },
      "outputs": [
        {
          "data": {
            "text/plain": [
              "Date\n",
              "2023-02-27          NaN\n",
              "2023-02-28          NaN\n",
              "2023-03-01     0.000000\n",
              "2023-03-02    51.127759\n",
              "2023-03-03    41.212183\n",
              "                ...    \n",
              "2024-02-20    38.649196\n",
              "2024-02-21    13.134632\n",
              "2024-02-22     9.610085\n",
              "2024-02-23     6.723433\n",
              "2024-02-26     4.200164\n",
              "Length: 248, dtype: float64"
            ]
          },
          "execution_count": 18,
          "metadata": {},
          "output_type": "execute_result"
        }
      ],
      "source": [
        "import talib\n",
        "talib.RSI(ohlc[\"Close\"] , 2)"
      ]
    },
    {
      "cell_type": "code",
      "execution_count": 19,
      "metadata": {},
      "outputs": [
        {
          "data": {
            "text/plain": [
              "Date\n",
              "2023-02-27      NaN\n",
              "2023-02-28     0.00\n",
              "2023-03-01     0.00\n",
              "2023-03-02    53.54\n",
              "2023-03-03    42.77\n",
              "              ...  \n",
              "2024-02-20    38.65\n",
              "2024-02-21    13.13\n",
              "2024-02-22     9.61\n",
              "2024-02-23     6.72\n",
              "2024-02-26     4.20\n",
              "Name: rsi, Length: 248, dtype: float64"
            ]
          },
          "execution_count": 19,
          "metadata": {},
          "output_type": "execute_result"
        }
      ],
      "source": [
        "rsi(ohlc[\"Close\"])"
      ]
    },
    {
      "cell_type": "code",
      "execution_count": 20,
      "metadata": {},
      "outputs": [
        {
          "name": "stdout",
          "output_type": "stream",
          "text": [
            "Help on function full in module quantstats.reports:\n",
            "\n",
            "full(returns, benchmark=None, rf=0.0, grayscale=False, figsize=(8, 5), display=True, compounded=True, periods_per_year=252, match_dates=True, **kwargs)\n",
            "\n"
          ]
        }
      ],
      "source": [
        "import quantstats as qs\n",
        "\n",
        "help(qs.reports.full)"
      ]
    },
    {
      "cell_type": "code",
      "execution_count": 21,
      "metadata": {},
      "outputs": [
        {
          "data": {
            "text/html": [
              "<div>\n",
              "<style scoped>\n",
              "    .dataframe tbody tr th:only-of-type {\n",
              "        vertical-align: middle;\n",
              "    }\n",
              "\n",
              "    .dataframe tbody tr th {\n",
              "        vertical-align: top;\n",
              "    }\n",
              "\n",
              "    .dataframe thead th {\n",
              "        text-align: right;\n",
              "    }\n",
              "</style>\n",
              "<table border=\"1\" class=\"dataframe\">\n",
              "  <thead>\n",
              "    <tr style=\"text-align: right;\">\n",
              "      <th></th>\n",
              "      <th>Open</th>\n",
              "      <th>High</th>\n",
              "      <th>Low</th>\n",
              "      <th>Close</th>\n",
              "      <th>Volume</th>\n",
              "    </tr>\n",
              "    <tr>\n",
              "      <th>Date</th>\n",
              "      <th></th>\n",
              "      <th></th>\n",
              "      <th></th>\n",
              "      <th></th>\n",
              "      <th></th>\n",
              "    </tr>\n",
              "  </thead>\n",
              "  <tbody>\n",
              "    <tr>\n",
              "      <th>2023-02-27</th>\n",
              "      <td>17.948428</td>\n",
              "      <td>18.117847</td>\n",
              "      <td>17.808907</td>\n",
              "      <td>18.018188</td>\n",
              "      <td>7794500</td>\n",
              "    </tr>\n",
              "    <tr>\n",
              "      <th>2023-02-28</th>\n",
              "      <td>18.038120</td>\n",
              "      <td>18.177641</td>\n",
              "      <td>17.858735</td>\n",
              "      <td>17.898598</td>\n",
              "      <td>9087300</td>\n",
              "    </tr>\n",
              "    <tr>\n",
              "      <th>2023-03-01</th>\n",
              "      <td>17.998256</td>\n",
              "      <td>18.018188</td>\n",
              "      <td>17.101334</td>\n",
              "      <td>17.370411</td>\n",
              "      <td>13692700</td>\n",
              "    </tr>\n",
              "    <tr>\n",
              "      <th>2023-03-02</th>\n",
              "      <td>17.360444</td>\n",
              "      <td>17.868700</td>\n",
              "      <td>17.240853</td>\n",
              "      <td>17.709248</td>\n",
              "      <td>12680600</td>\n",
              "    </tr>\n",
              "    <tr>\n",
              "      <th>2023-03-03</th>\n",
              "      <td>17.699283</td>\n",
              "      <td>17.838803</td>\n",
              "      <td>17.509932</td>\n",
              "      <td>17.629522</td>\n",
              "      <td>12829100</td>\n",
              "    </tr>\n",
              "    <tr>\n",
              "      <th>...</th>\n",
              "      <td>...</td>\n",
              "      <td>...</td>\n",
              "      <td>...</td>\n",
              "      <td>...</td>\n",
              "      <td>...</td>\n",
              "    </tr>\n",
              "    <tr>\n",
              "      <th>2024-02-20</th>\n",
              "      <td>23.200001</td>\n",
              "      <td>23.450001</td>\n",
              "      <td>23.040001</td>\n",
              "      <td>23.350000</td>\n",
              "      <td>7374500</td>\n",
              "    </tr>\n",
              "    <tr>\n",
              "      <th>2024-02-21</th>\n",
              "      <td>23.350000</td>\n",
              "      <td>23.350000</td>\n",
              "      <td>22.780001</td>\n",
              "      <td>22.990000</td>\n",
              "      <td>9063600</td>\n",
              "    </tr>\n",
              "    <tr>\n",
              "      <th>2024-02-22</th>\n",
              "      <td>22.950001</td>\n",
              "      <td>23.200001</td>\n",
              "      <td>22.750000</td>\n",
              "      <td>22.889999</td>\n",
              "      <td>8846900</td>\n",
              "    </tr>\n",
              "    <tr>\n",
              "      <th>2024-02-23</th>\n",
              "      <td>22.990000</td>\n",
              "      <td>23.120001</td>\n",
              "      <td>22.799999</td>\n",
              "      <td>22.809999</td>\n",
              "      <td>7771500</td>\n",
              "    </tr>\n",
              "    <tr>\n",
              "      <th>2024-02-26</th>\n",
              "      <td>22.850000</td>\n",
              "      <td>22.950001</td>\n",
              "      <td>22.600000</td>\n",
              "      <td>22.730000</td>\n",
              "      <td>11421500</td>\n",
              "    </tr>\n",
              "  </tbody>\n",
              "</table>\n",
              "<p>248 rows × 5 columns</p>\n",
              "</div>"
            ],
            "text/plain": [
              "                 Open       High        Low      Close    Volume\n",
              "Date                                                            \n",
              "2023-02-27  17.948428  18.117847  17.808907  18.018188   7794500\n",
              "2023-02-28  18.038120  18.177641  17.858735  17.898598   9087300\n",
              "2023-03-01  17.998256  18.018188  17.101334  17.370411  13692700\n",
              "2023-03-02  17.360444  17.868700  17.240853  17.709248  12680600\n",
              "2023-03-03  17.699283  17.838803  17.509932  17.629522  12829100\n",
              "...               ...        ...        ...        ...       ...\n",
              "2024-02-20  23.200001  23.450001  23.040001  23.350000   7374500\n",
              "2024-02-21  23.350000  23.350000  22.780001  22.990000   9063600\n",
              "2024-02-22  22.950001  23.200001  22.750000  22.889999   8846900\n",
              "2024-02-23  22.990000  23.120001  22.799999  22.809999   7771500\n",
              "2024-02-26  22.850000  22.950001  22.600000  22.730000  11421500\n",
              "\n",
              "[248 rows x 5 columns]"
            ]
          },
          "execution_count": 21,
          "metadata": {},
          "output_type": "execute_result"
        }
      ],
      "source": [
        "ohlc"
      ]
    },
    {
      "cell_type": "code",
      "execution_count": 22,
      "metadata": {},
      "outputs": [
        {
          "ename": "KeyError",
          "evalue": "'retorno_estrategia'",
          "output_type": "error",
          "traceback": [
            "\u001b[0;31m---------------------------------------------------------------------------\u001b[0m",
            "\u001b[0;31mKeyError\u001b[0m                                  Traceback (most recent call last)",
            "File \u001b[0;32m~/bin/miniconda3/lib/python3.11/site-packages/pandas/core/indexes/base.py:3790\u001b[0m, in \u001b[0;36mIndex.get_loc\u001b[0;34m(self, key)\u001b[0m\n\u001b[1;32m   3789\u001b[0m \u001b[38;5;28;01mtry\u001b[39;00m:\n\u001b[0;32m-> 3790\u001b[0m     \u001b[38;5;28;01mreturn\u001b[39;00m \u001b[38;5;28;43mself\u001b[39;49m\u001b[38;5;241;43m.\u001b[39;49m\u001b[43m_engine\u001b[49m\u001b[38;5;241;43m.\u001b[39;49m\u001b[43mget_loc\u001b[49m\u001b[43m(\u001b[49m\u001b[43mcasted_key\u001b[49m\u001b[43m)\u001b[49m\n\u001b[1;32m   3791\u001b[0m \u001b[38;5;28;01mexcept\u001b[39;00m \u001b[38;5;167;01mKeyError\u001b[39;00m \u001b[38;5;28;01mas\u001b[39;00m err:\n",
            "File \u001b[0;32mindex.pyx:152\u001b[0m, in \u001b[0;36mpandas._libs.index.IndexEngine.get_loc\u001b[0;34m()\u001b[0m\n",
            "File \u001b[0;32mindex.pyx:181\u001b[0m, in \u001b[0;36mpandas._libs.index.IndexEngine.get_loc\u001b[0;34m()\u001b[0m\n",
            "File \u001b[0;32mpandas/_libs/hashtable_class_helper.pxi:7080\u001b[0m, in \u001b[0;36mpandas._libs.hashtable.PyObjectHashTable.get_item\u001b[0;34m()\u001b[0m\n",
            "File \u001b[0;32mpandas/_libs/hashtable_class_helper.pxi:7088\u001b[0m, in \u001b[0;36mpandas._libs.hashtable.PyObjectHashTable.get_item\u001b[0;34m()\u001b[0m\n",
            "\u001b[0;31mKeyError\u001b[0m: 'retorno_estrategia'",
            "\nThe above exception was the direct cause of the following exception:\n",
            "\u001b[0;31mKeyError\u001b[0m                                  Traceback (most recent call last)",
            "Cell \u001b[0;32mIn[22], line 5\u001b[0m\n\u001b[1;32m      2\u001b[0m \u001b[38;5;66;03m# Suppress FutureWarning messages\u001b[39;00m\n\u001b[1;32m      3\u001b[0m warnings\u001b[38;5;241m.\u001b[39msimplefilter(action\u001b[38;5;241m=\u001b[39m\u001b[38;5;124m'\u001b[39m\u001b[38;5;124mignore\u001b[39m\u001b[38;5;124m'\u001b[39m, category\u001b[38;5;241m=\u001b[39m\u001b[38;5;167;01mFutureWarning\u001b[39;00m)\n\u001b[0;32m----> 5\u001b[0m qs\u001b[38;5;241m.\u001b[39mreports\u001b[38;5;241m.\u001b[39mfull(\u001b[43mohlc\u001b[49m\u001b[43m[\u001b[49m\u001b[38;5;124;43m'\u001b[39;49m\u001b[38;5;124;43mretorno_estrategia\u001b[39;49m\u001b[38;5;124;43m'\u001b[39;49m\u001b[43m]\u001b[49m )\n",
            "File \u001b[0;32m~/bin/miniconda3/lib/python3.11/site-packages/pandas/core/frame.py:3893\u001b[0m, in \u001b[0;36mDataFrame.__getitem__\u001b[0;34m(self, key)\u001b[0m\n\u001b[1;32m   3891\u001b[0m \u001b[38;5;28;01mif\u001b[39;00m \u001b[38;5;28mself\u001b[39m\u001b[38;5;241m.\u001b[39mcolumns\u001b[38;5;241m.\u001b[39mnlevels \u001b[38;5;241m>\u001b[39m \u001b[38;5;241m1\u001b[39m:\n\u001b[1;32m   3892\u001b[0m     \u001b[38;5;28;01mreturn\u001b[39;00m \u001b[38;5;28mself\u001b[39m\u001b[38;5;241m.\u001b[39m_getitem_multilevel(key)\n\u001b[0;32m-> 3893\u001b[0m indexer \u001b[38;5;241m=\u001b[39m \u001b[38;5;28;43mself\u001b[39;49m\u001b[38;5;241;43m.\u001b[39;49m\u001b[43mcolumns\u001b[49m\u001b[38;5;241;43m.\u001b[39;49m\u001b[43mget_loc\u001b[49m\u001b[43m(\u001b[49m\u001b[43mkey\u001b[49m\u001b[43m)\u001b[49m\n\u001b[1;32m   3894\u001b[0m \u001b[38;5;28;01mif\u001b[39;00m is_integer(indexer):\n\u001b[1;32m   3895\u001b[0m     indexer \u001b[38;5;241m=\u001b[39m [indexer]\n",
            "File \u001b[0;32m~/bin/miniconda3/lib/python3.11/site-packages/pandas/core/indexes/base.py:3797\u001b[0m, in \u001b[0;36mIndex.get_loc\u001b[0;34m(self, key)\u001b[0m\n\u001b[1;32m   3792\u001b[0m     \u001b[38;5;28;01mif\u001b[39;00m \u001b[38;5;28misinstance\u001b[39m(casted_key, \u001b[38;5;28mslice\u001b[39m) \u001b[38;5;129;01mor\u001b[39;00m (\n\u001b[1;32m   3793\u001b[0m         \u001b[38;5;28misinstance\u001b[39m(casted_key, abc\u001b[38;5;241m.\u001b[39mIterable)\n\u001b[1;32m   3794\u001b[0m         \u001b[38;5;129;01mand\u001b[39;00m \u001b[38;5;28many\u001b[39m(\u001b[38;5;28misinstance\u001b[39m(x, \u001b[38;5;28mslice\u001b[39m) \u001b[38;5;28;01mfor\u001b[39;00m x \u001b[38;5;129;01min\u001b[39;00m casted_key)\n\u001b[1;32m   3795\u001b[0m     ):\n\u001b[1;32m   3796\u001b[0m         \u001b[38;5;28;01mraise\u001b[39;00m InvalidIndexError(key)\n\u001b[0;32m-> 3797\u001b[0m     \u001b[38;5;28;01mraise\u001b[39;00m \u001b[38;5;167;01mKeyError\u001b[39;00m(key) \u001b[38;5;28;01mfrom\u001b[39;00m \u001b[38;5;21;01merr\u001b[39;00m\n\u001b[1;32m   3798\u001b[0m \u001b[38;5;28;01mexcept\u001b[39;00m \u001b[38;5;167;01mTypeError\u001b[39;00m:\n\u001b[1;32m   3799\u001b[0m     \u001b[38;5;66;03m# If we have a listlike key, _check_indexing_error will raise\u001b[39;00m\n\u001b[1;32m   3800\u001b[0m     \u001b[38;5;66;03m#  InvalidIndexError. Otherwise we fall through and re-raise\u001b[39;00m\n\u001b[1;32m   3801\u001b[0m     \u001b[38;5;66;03m#  the TypeError.\u001b[39;00m\n\u001b[1;32m   3802\u001b[0m     \u001b[38;5;28mself\u001b[39m\u001b[38;5;241m.\u001b[39m_check_indexing_error(key)\n",
            "\u001b[0;31mKeyError\u001b[0m: 'retorno_estrategia'"
          ]
        }
      ],
      "source": [
        "import warnings\n",
        "# Suppress FutureWarning messages\n",
        "warnings.simplefilter(action='ignore', category=FutureWarning)\n",
        "\n",
        "qs.reports.full(ohlc['retorno_estrategia'] )"
      ]
    }
  ],
  "metadata": {
    "colab": {
      "authorship_tag": "ABX9TyP7iEbM0V8v5zZD8EoBLUGn",
      "include_colab_link": true,
      "provenance": []
    },
    "kernelspec": {
      "display_name": "Python 3",
      "name": "python3"
    },
    "language_info": {
      "codemirror_mode": {
        "name": "ipython",
        "version": 3
      },
      "file_extension": ".py",
      "mimetype": "text/x-python",
      "name": "python",
      "nbconvert_exporter": "python",
      "pygments_lexer": "ipython3",
      "version": "3.11.5"
    }
  },
  "nbformat": 4,
  "nbformat_minor": 0
}
