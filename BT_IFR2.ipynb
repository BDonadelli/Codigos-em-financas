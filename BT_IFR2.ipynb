{
  "cells": [
    {
      "cell_type": "markdown",
      "metadata": {
        "colab_type": "text",
        "id": "view-in-github"
      },
      "source": [
        "<a href=\"https://colab.research.google.com/github/BDonadelli/Codigos-em-financas/blob/main/IFR2.ipynb\" target=\"_parent\"><img src=\"https://colab.research.google.com/assets/colab-badge.svg\" alt=\"Open In Colab\"/></a>"
      ]
    },
    {
      "cell_type": "markdown",
      "metadata": {
        "id": "wBQjWPl1DDi_"
      },
      "source": [
        "ESTRATÉGIA\n",
        "1.   IFR para 2 períodos < 5 compra na abertura seguinte\n",
        "2.   Preço fechamento > ma5 vende na abertura seguinte\n",
        "\n"
      ]
    },
    {
      "cell_type": "code",
      "execution_count": 1,
      "metadata": {
        "id": "Pb8Y0UL7YD8N"
      },
      "outputs": [],
      "source": [
        "# @ Data é ano/mes/dia.\n",
        "\n",
        "inicio  = '2020-01-02'  #@param {type:\"date\"}\n",
        "termino = '2023-01-30'  #@param {type:\"date\"}\n",
        "from datetime import datetime\n",
        "\n",
        "usar_periodo = True #@param {type:\"boolean\"}\n",
        "periodo = '1y' #@param ['1d','5d','1mo','3mo','6mo','1y','2y','3y','5y','10y','ytd','max']"
      ]
    },
    {
      "cell_type": "code",
      "execution_count": 2,
      "metadata": {
        "colab": {
          "base_uri": "https://localhost:8080/"
        },
        "id": "QpinoXv_p27A",
        "outputId": "465568a7-598a-422a-b49d-c016e35fc165"
      },
      "outputs": [
        {
          "data": {
            "text/html": [
              "        <script type=\"text/javascript\">\n",
              "        window.PlotlyConfig = {MathJaxConfig: 'local'};\n",
              "        if (window.MathJax && window.MathJax.Hub && window.MathJax.Hub.Config) {window.MathJax.Hub.Config({SVG: {font: \"STIX-Web\"}});}\n",
              "        if (typeof require !== 'undefined') {\n",
              "        require.undef(\"plotly\");\n",
              "        requirejs.config({\n",
              "            paths: {\n",
              "                'plotly': ['https://cdn.plot.ly/plotly-2.27.0.min']\n",
              "            }\n",
              "        });\n",
              "        require(['plotly'], function(Plotly) {\n",
              "            window._Plotly = Plotly;\n",
              "        });\n",
              "        }\n",
              "        </script>\n",
              "        "
            ]
          },
          "metadata": {},
          "output_type": "display_data"
        }
      ],
      "source": [
        "# @ markdown Instala bibliotecas\n",
        "\n",
        "import pandas as pd\n",
        "import numpy as np\n",
        "\n",
        "# import pyfolio as pf\n",
        "import quantstats as qstats\n",
        "import pandas_ta as pta\n",
        "\n",
        "# !pip install -q  yfinance\n",
        "import yfinance as yf\n",
        "\n",
        "import cufflinks as cf\n",
        "cf.go_offline()\n"
      ]
    },
    {
      "cell_type": "code",
      "execution_count": 3,
      "metadata": {},
      "outputs": [],
      "source": [
        "arq = 'data/Cart_Ibov.csv'\n",
        "# arq = 'data/Cart_IBr100.csv'\n",
        "\n",
        "try:\n",
        "    IBOV = pd.read_csv(arq, encoding='latin-1', sep=';' , skiprows=[0], skipfooter=2 , index_col=False ,engine='python')\n",
        "except:\n",
        "    url = f'https://raw.githubusercontent.com/BDonadelli/Codigos-em-financas/main/data/{arq}.csv'\n",
        "    IBOV = pd.read_csv(url, encoding='latin-1', sep=';' , skiprows=[0], skipfooter=2 , index_col=False ,engine='python')\n",
        "\n"
      ]
    },
    {
      "cell_type": "code",
      "execution_count": 4,
      "metadata": {},
      "outputs": [
        {
          "data": {
            "text/plain": [
              "'LWSA3.SA'"
            ]
          },
          "execution_count": 4,
          "metadata": {},
          "output_type": "execute_result"
        }
      ],
      "source": [
        "codigos = np.array(sorted(IBOV.Código.to_list()),dtype=str)\n",
        "tickers = [tk+'.SA' for tk in codigos]\n",
        "tickers[50]"
      ]
    },
    {
      "cell_type": "code",
      "execution_count": 5,
      "metadata": {
        "colab": {
          "base_uri": "https://localhost:8080/",
          "height": 275
        },
        "id": "ishLNStc5Cmo",
        "outputId": "8aeef680-0a37-4e27-bf72-36f8b8bb912b"
      },
      "outputs": [
        {
          "data": {
            "text/html": [
              "<div>\n",
              "<style scoped>\n",
              "    .dataframe tbody tr th:only-of-type {\n",
              "        vertical-align: middle;\n",
              "    }\n",
              "\n",
              "    .dataframe tbody tr th {\n",
              "        vertical-align: top;\n",
              "    }\n",
              "\n",
              "    .dataframe thead th {\n",
              "        text-align: right;\n",
              "    }\n",
              "</style>\n",
              "<table border=\"1\" class=\"dataframe\">\n",
              "  <thead>\n",
              "    <tr style=\"text-align: right;\">\n",
              "      <th></th>\n",
              "      <th>Open ABEV3</th>\n",
              "      <th>Open ALOS3</th>\n",
              "      <th>Open ALPA4</th>\n",
              "      <th>Open ARZZ3</th>\n",
              "      <th>Open ASAI3</th>\n",
              "      <th>Open AZUL4</th>\n",
              "      <th>Open B3SA3</th>\n",
              "      <th>Open BBAS3</th>\n",
              "      <th>Open BBDC3</th>\n",
              "      <th>Open BBDC4</th>\n",
              "      <th>...</th>\n",
              "      <th>Close TOTS3</th>\n",
              "      <th>Close TRPL4</th>\n",
              "      <th>Close UGPA3</th>\n",
              "      <th>Close USIM5</th>\n",
              "      <th>Close VALE3</th>\n",
              "      <th>Close VAMO3</th>\n",
              "      <th>Close VBBR3</th>\n",
              "      <th>Close VIVT3</th>\n",
              "      <th>Close WEGE3</th>\n",
              "      <th>Close YDUQ3</th>\n",
              "    </tr>\n",
              "    <tr>\n",
              "      <th>Date</th>\n",
              "      <th></th>\n",
              "      <th></th>\n",
              "      <th></th>\n",
              "      <th></th>\n",
              "      <th></th>\n",
              "      <th></th>\n",
              "      <th></th>\n",
              "      <th></th>\n",
              "      <th></th>\n",
              "      <th></th>\n",
              "      <th></th>\n",
              "      <th></th>\n",
              "      <th></th>\n",
              "      <th></th>\n",
              "      <th></th>\n",
              "      <th></th>\n",
              "      <th></th>\n",
              "      <th></th>\n",
              "      <th></th>\n",
              "      <th></th>\n",
              "      <th></th>\n",
              "    </tr>\n",
              "  </thead>\n",
              "  <tbody>\n",
              "    <tr>\n",
              "      <th>2023-02-01</th>\n",
              "      <td>12.962455</td>\n",
              "      <td>NaN</td>\n",
              "      <td>13.57</td>\n",
              "      <td>85.19536</td>\n",
              "      <td>19.450581</td>\n",
              "      <td>11.88</td>\n",
              "      <td>12.572464</td>\n",
              "      <td>37.608223</td>\n",
              "      <td>11.915107</td>\n",
              "      <td>13.251731</td>\n",
              "      <td>...</td>\n",
              "      <td>29.718929</td>\n",
              "      <td>20.665749</td>\n",
              "      <td>12.614014</td>\n",
              "      <td>8.021667</td>\n",
              "      <td>87.900795</td>\n",
              "      <td>14.219867</td>\n",
              "      <td>15.329631</td>\n",
              "      <td>38.380348</td>\n",
              "      <td>37.775787</td>\n",
              "      <td>10.252883</td>\n",
              "    </tr>\n",
              "  </tbody>\n",
              "</table>\n",
              "<p>1 rows × 172 columns</p>\n",
              "</div>"
            ],
            "text/plain": [
              "            Open ABEV3  Open ALOS3  Open ALPA4  Open ARZZ3  Open ASAI3  \\\n",
              "Date                                                                     \n",
              "2023-02-01   12.962455         NaN       13.57    85.19536   19.450581   \n",
              "\n",
              "            Open AZUL4  Open B3SA3  Open BBAS3  Open BBDC3  Open BBDC4  ...  \\\n",
              "Date                                                                    ...   \n",
              "2023-02-01       11.88   12.572464   37.608223   11.915107   13.251731  ...   \n",
              "\n",
              "            Close TOTS3  Close TRPL4  Close UGPA3  Close USIM5  Close VALE3  \\\n",
              "Date                                                                          \n",
              "2023-02-01    29.718929    20.665749    12.614014     8.021667    87.900795   \n",
              "\n",
              "            Close VAMO3  Close VBBR3  Close VIVT3  Close WEGE3  Close YDUQ3  \n",
              "Date                                                                         \n",
              "2023-02-01    14.219867    15.329631    38.380348    37.775787    10.252883  \n",
              "\n",
              "[1 rows x 172 columns]"
            ]
          },
          "execution_count": 5,
          "metadata": {},
          "output_type": "execute_result"
        }
      ],
      "source": [
        "# @ markdown ## download dados do yahoo finance\n",
        "## a ultima lina da tabela tem a data mais recente\n",
        "df=pd.DataFrame()\n",
        "if usar_periodo : \n",
        "  df = yf.download(tickers, period = periodo   , auto_adjust=True, progress = False )[['Open','Close']]\n",
        "else: \n",
        "  df = yf.download(tickers, start = inicio , end = termino , auto_adjust=True, progress = False )[['Open','Close']]\n",
        "\n",
        "d = dict(zip(df.columns.levels[1],df.columns.levels[1].str.rstrip('.SA') ))\n",
        "df = df.rename(columns=d, level=1)\n",
        "\n",
        "df.columns = [\" \".join(col).strip() for col in df.columns.values]\n",
        "df.head(1) #mostra a primeiro linha da tabela dos preços"
      ]
    },
    {
      "cell_type": "code",
      "execution_count": 6,
      "metadata": {
        "id": "9ykcKmET51TA"
      },
      "outputs": [],
      "source": [
        "# @ markdown  função qu, output: str = Nonee calcula o ifr a partir de uma serie de preços\n",
        "\n",
        "def rsi(price, window=2, output: str = None):   \n",
        "  '''\n",
        "    calcula o ifr \n",
        "    \"price\" é uma série de preços\n",
        "    \"window\" é o periodo da janela móvel de obeservação, por default vale 2      \n",
        "    \"output\" é string com nome de arquivo para exportar contas em csv\n",
        "    Referencia: https://seekingalpha.com/article/4518407-rsi-indicator-meaning-and-calculation \n",
        "  '''\n",
        "    \n",
        "  data = pd.DataFrame(price).copy()\n",
        "    \n",
        "  data[\"Variation\"] = data.diff()\n",
        "\n",
        "  data[\"Gain\"] = np.where(data[\"Variation\"] > 0, data[\"Variation\"], 0)\n",
        "  data[\"Loss\"] = np.where(data[\"Variation\"] < 0, data[\"Variation\"], 0)\n",
        "\n",
        "  data['avg_gain'] = data[\"Gain\"].rolling(window,min_periods=window).mean()\n",
        "  data['avg_loss'] = data[\"Loss\"].abs().rolling(window,min_periods=window).mean()\n",
        "\n",
        "  # avg_gain = gain.ewm(com=period - 1, min_periods=period).mean()\n",
        "  # avg_loss = loss.ewm(com=period - 1, min_periods=period).mean()\n",
        "  # rs = avg_gain / avg_loss\n",
        "\n",
        "  for i in range(window, len(data['avg_gain'])):\n",
        "     data['avg_gain'].iloc[i] = (data['avg_gain'].iloc[i - 1] * (window - 1) + data[\"Gain\"].iloc[i]) / window\n",
        "     data['avg_loss'].iloc[i] = (data['avg_loss'].iloc[i - 1] * (window - 1) + data[\"Loss\"].abs().iloc[i]) / window\n",
        "  data['rsi'] = 100 - (100 / (1 + ( data['avg_gain'] / data['avg_loss'] ))).round(2)\n",
        "\n",
        "  if output is not None:\n",
        "        data.to_csv(output)\n",
        "\n",
        "  return data['rsi']"
      ]
    },
    {
      "cell_type": "markdown",
      "metadata": {
        "id": "mKIKiHMYFoyB"
      },
      "source": [
        "**lista os ativos do índice com ifr2 < 5**\n"
      ]
    },
    {
      "cell_type": "code",
      "execution_count": 7,
      "metadata": {
        "colab": {
          "base_uri": "https://localhost:8080/"
        },
        "id": "UyvBTQMGQ8iM",
        "outputId": "425498bf-48f3-4227-dfdc-493f5d2497f5"
      },
      "outputs": [
        {
          "name": "stdout",
          "output_type": "stream",
          "text": [
            "o ultimo preço é do dia 31 / 1 / 2024\n",
            "Os ativos com IFR<5 são:\n",
            "CCRO3\n",
            "PCAR3\n",
            "RENT3\n",
            "WEGE3\n"
          ]
        }
      ],
      "source": [
        "IFR = pd.DataFrame({f\"{i}\": rsi( df['Close '+i] , 2)  for i in codigos})\n",
        "\n",
        "print('o ultimo preço é do dia',IFR.index[-1].day,'/',IFR.index[-1].month,'/',IFR.index[-1].year)\n",
        "print('Os ativos com IFR<5 são:')\n",
        "## seleciona os ativos dentre 'codigos' com ifr2 < 5 \n",
        "lista_ifr=[]\n",
        "for x in codigos :\n",
        "  if IFR[x].iloc[-1]< 5 :  \n",
        "    print(x)\n",
        "    lista_ifr.append(x)\n",
        "\n",
        "if len(lista_ifr)==0: print('*************** Não tem papel com IFR<5 ***************')"
      ]
    },
    {
      "cell_type": "markdown",
      "metadata": {
        "id": "PjkZQH0SGI9F"
      },
      "source": [
        "**histórico da estratégia**"
      ]
    },
    {
      "cell_type": "code",
      "execution_count": 8,
      "metadata": {
        "id": "f0KW9re0DWrw"
      },
      "outputs": [],
      "source": [
        "# @ markdown Simula as operações\n",
        "def trades (x):\n",
        "  '''\n",
        "  'trades' cria duas listas 'entrada' e 'saida' \n",
        "  essas listas têm 3 componentes: \n",
        "    a linha na tabela de dados do sinal de entrada/saida;\n",
        "    a data seguinte do sinal (entrada/saida), que é o dia de negociação, e \n",
        "    o preço (open) de entrada/saida naquele dia, preço da negociação\n",
        "  '''\n",
        "  open  = 'Open '+x\n",
        "  close = 'Close '+x\n",
        "\n",
        "  bt = df[[open , close]].copy() \n",
        "  #media movel simples de 5 periodos \n",
        "  bt['mm5'] = df[close].rolling(5).mean()  \n",
        "  bt['ifr'] = IFR[x]\n",
        "  bt=bt.dropna()\n",
        "  \n",
        "  ## marca todos os pontos com ifr2 < 5\n",
        "  bt['sinal_entra'] = np.where(bt['ifr'] < 5 , 1 , 0)\n",
        "  #marca todos pontos com close > mm5\n",
        "  bt['sinal_sai'] = np.where(bt[close] > bt['mm5'] , -1 , 0)\n",
        "\n",
        "  '''\n",
        "  cria listas com os pontos de entrada e saída das operações\n",
        "  1) percorre a tabela bt em ordem cronológica até achar sinal entrada\n",
        "     quando acha, armazenas as informações: \n",
        "       linha da tabela, data do sinal e preço de abertura do dia seguinte\n",
        "  2) em seguida, continua, a partir do proximo dia, até achar sinal saida\n",
        "     quando acha, armazenas as informações: \n",
        "       linha da tabela, data do sinal e preço de fechamento do dia seguinte\n",
        "  3) repete os passos 1 e 2 \n",
        "  '''  \n",
        "  entrada = []\n",
        "  saida = []\n",
        "  i=0\n",
        "  while i < len(bt):\n",
        "    while bt['sinal_entra'].iloc[i] == 0 : i+=1 # pega um sinal de entrada\n",
        "    if i+1 < len(bt) :                          # se teve pregão dia seguinte,entra\n",
        "        i+=1                                    # vai p/ dia seguinte\n",
        "        entrada.append( ( i-1,                                      # sinal no dia anterior\n",
        "                         bt.index[i].date().strftime(\"%d/%m/%Y\") ,  # dia entrada\n",
        "                         np.round(bt[open].iloc[i],2)))             # preço entrada\n",
        "       #avança até o primeiro sinal de saída, que pode ser no proprio dia\n",
        "        while (i < len(bt) and bt['sinal_sai'].iloc[i]==0) : i=i+1    \n",
        "       #se teve pregão dia seguinte,sai  (senão vai dormir comprado, vamos desconsiderar)\n",
        "        if i+1 < len(bt) :  \n",
        "            i+=1                                                        # vai p/ dia seguinte\n",
        "            saida.append( (i-1,                                         # sinal no dia anterior\n",
        "                           bt.index[i].date().strftime(\"%d/%m/%Y\")  ,   # dia saida\n",
        "                           np.round(bt[open].iloc[i],2)) )              # preço saida\n",
        "            # senão, a ultima operação ainda não deu saida , remove ultima entrada\n",
        "        else : entrada.pop()                    \n",
        "    i=i+1\n",
        "  return entrada,saida"
      ]
    },
    {
      "cell_type": "code",
      "execution_count": 27,
      "metadata": {
        "colab": {
          "base_uri": "https://localhost:8080/",
          "height": 426
        },
        "id": "EnX3J5gjfzNb",
        "outputId": "5bd31b03-628d-441b-9dba-0ae636f77a68"
      },
      "outputs": [
        {
          "data": {
            "text/html": [
              "<div>\n",
              "<style scoped>\n",
              "    .dataframe tbody tr th:only-of-type {\n",
              "        vertical-align: middle;\n",
              "    }\n",
              "\n",
              "    .dataframe tbody tr th {\n",
              "        vertical-align: top;\n",
              "    }\n",
              "\n",
              "    .dataframe thead th {\n",
              "        text-align: right;\n",
              "    }\n",
              "</style>\n",
              "<table border=\"1\" class=\"dataframe\">\n",
              "  <thead>\n",
              "    <tr style=\"text-align: right;\">\n",
              "      <th></th>\n",
              "      <th>IFR2</th>\n",
              "      <th>Operações</th>\n",
              "      <th>Positivas</th>\n",
              "      <th>Tx acerto</th>\n",
              "      <th>Acumulado</th>\n",
              "      <th>Ret. médio pos</th>\n",
              "      <th>Ret. médio neg</th>\n",
              "      <th>Exp matematica</th>\n",
              "      <th>Duração média(dias)</th>\n",
              "    </tr>\n",
              "  </thead>\n",
              "  <tbody>\n",
              "    <tr>\n",
              "      <th>RENT3</th>\n",
              "      <td>0.84</td>\n",
              "      <td>7</td>\n",
              "      <td>6</td>\n",
              "      <td>0.857</td>\n",
              "      <td>0.15</td>\n",
              "      <td>0.02</td>\n",
              "      <td>0.0</td>\n",
              "      <td>1.714</td>\n",
              "      <td>3.7</td>\n",
              "    </tr>\n",
              "    <tr>\n",
              "      <th>CCRO3</th>\n",
              "      <td>2.37</td>\n",
              "      <td>3</td>\n",
              "      <td>2</td>\n",
              "      <td>0.667</td>\n",
              "      <td>0.04</td>\n",
              "      <td>0.03</td>\n",
              "      <td>0.01</td>\n",
              "      <td>1.668</td>\n",
              "      <td>3.0</td>\n",
              "    </tr>\n",
              "    <tr>\n",
              "      <th>WEGE3</th>\n",
              "      <td>3.26</td>\n",
              "      <td>10</td>\n",
              "      <td>5</td>\n",
              "      <td>0.5</td>\n",
              "      <td>0.01</td>\n",
              "      <td>0.02</td>\n",
              "      <td>0.02</td>\n",
              "      <td>0.0</td>\n",
              "      <td>3.3</td>\n",
              "    </tr>\n",
              "    <tr>\n",
              "      <th>PCAR3</th>\n",
              "      <td>3.54</td>\n",
              "      <td>9</td>\n",
              "      <td>3</td>\n",
              "      <td>0.333</td>\n",
              "      <td>-0.43</td>\n",
              "      <td>0.05</td>\n",
              "      <td>0.1</td>\n",
              "      <td>-5.005</td>\n",
              "      <td>5.0</td>\n",
              "    </tr>\n",
              "  </tbody>\n",
              "</table>\n",
              "</div>"
            ],
            "text/plain": [
              "       IFR2 Operações Positivas Tx acerto Acumulado Ret. médio pos  \\\n",
              "RENT3  0.84         7         6     0.857      0.15           0.02   \n",
              "CCRO3  2.37         3         2     0.667      0.04           0.03   \n",
              "WEGE3  3.26        10         5       0.5      0.01           0.02   \n",
              "PCAR3  3.54         9         3     0.333     -0.43           0.05   \n",
              "\n",
              "      Ret. médio neg Exp matematica Duração média(dias)  \n",
              "RENT3            0.0          1.714                 3.7  \n",
              "CCRO3           0.01          1.668                 3.0  \n",
              "WEGE3           0.02            0.0                 3.3  \n",
              "PCAR3            0.1         -5.005                 5.0  "
            ]
          },
          "metadata": {},
          "output_type": "display_data"
        }
      ],
      "source": [
        "# @ markdown Mostra os resultados\n",
        "\n",
        "resumo = pd.DataFrame(index=lista_ifr,columns=[ \\\n",
        "    'IFR2',                    # ifr do papel\n",
        "    'Operações' ,              # no. de operações no periodo\n",
        "    'Positivas' ,     # no. de operações com retorno >0\n",
        "    'Tx acerto' ,              # Retornos positivos / Retornos \n",
        "    'Acumulado',               # Retorno acumulado pela estratégia \n",
        "    'Ret. médio pos' ,          # média aritmetica dos retornos > 0\n",
        "    'Ret. médio neg' ,          # média aritmetica dos retornos < 0\n",
        "    'Exp matematica',\n",
        "    'Duração média(dias)' ])   # no. medio de dias que fica posicionado\n",
        "\n",
        "# usando as informações da função 'trades', simula as operações\n",
        "# calcula o tempo de cada operação e a variação do preço do ativo\n",
        "\n",
        "out =  [ [[],[]] for j in range(len(lista_ifr))] \n",
        "retornos = [ [[],[]] for j in range(len(lista_ifr))] \n",
        "z=0\n",
        "for x in lista_ifr:\n",
        "  dura = []  ## duração da operação, em dias uteis\n",
        "  e    = []  ## pontos de entrada \n",
        "  s    = []  ## pontos de saida\n",
        "  posret = 0 ## conta retornos positivos\n",
        "\n",
        "  e,s = trades(x)\n",
        "  # mensagens para ajudar na validação\n",
        "  out1 =  ['' for j in range(len(e))] # entrada/saida\n",
        "  out2 =  ['' for j in range(len(e))] # duração\n",
        "  out3 =  ['' for j in range(len(e))] # retorno\n",
        "  \n",
        "  for j in range(len(e)) :\n",
        "      out1[j] =  \"entrada em \" + str(e[j][1]) + \" e saida em \" + str(s[j][1]) \n",
        "      \n",
        "      dias = s[j][0] - e[j][0]\n",
        "      out2[j] = \" durou \"+str(dias)+\" dias e \"\n",
        "      dura.append(dias)\n",
        "\n",
        "      retorno = s[j][2]/e[j][2] - 1\n",
        "      out3[j] = \"variou \"+str(round(retorno*100,3))+\"%\" \n",
        "      retornos[z][1].append(retorno)\n",
        "      if retorno > 0 : posret +=1\n",
        "  \n",
        "  if len(retornos[z][1])!=0 : wins = np.round(posret/(len(retornos[z][1])),3) \n",
        "  else : wins = 0\n",
        "  retpos = np.round(np.mean([x for x in retornos[z][1] if x>0]),2)\n",
        "  retneg = abs(np.round(np.mean([x for x in retornos[z][1] if x<=0]),2))\n",
        "  expectativa = (wins * retpos) - ((1 - wins) * retneg)\n",
        "\n",
        "  resumo.loc[x] = [ IFR[x].iloc[-1].round(2), \n",
        "                   len(e) , \n",
        "                   posret , \n",
        "                   wins,\n",
        "                   np.round((np.array(retornos[z][1])+1).cumprod()[-1] - 1,2) , \n",
        "                   retpos, \n",
        "                   retneg,\n",
        "                   expectativa*100, \n",
        "                   np.round(np.mean(dura),1) \n",
        "                   ]\n",
        "  \n",
        "  retornos[z][0] = x\n",
        "  out[z][0] = x\n",
        "  for j in range(len(e)) : \n",
        "        out[z][1].append(out1[j] + out2[j]+out3[j])        \n",
        "  z=z+1\n",
        "\n",
        "resumo = resumo.sort_values(by=['Exp matematica'], ascending=False)\n",
        "display(resumo.sort_values(by=['Exp matematica'], ascending=False))"
      ]
    },
    {
      "cell_type": "markdown",
      "metadata": {},
      "source": [
        "analise 1º ativo da lista"
      ]
    },
    {
      "cell_type": "code",
      "execution_count": 29,
      "metadata": {},
      "outputs": [
        {
          "name": "stdout",
          "output_type": "stream",
          "text": [
            "bt de  RENT3\n"
          ]
        }
      ],
      "source": [
        "ativo = resumo.index[0]\n",
        "print('bt de ',ativo)"
      ]
    },
    {
      "cell_type": "code",
      "execution_count": 11,
      "metadata": {},
      "outputs": [],
      "source": [
        "entrada,saida = trades(ativo)\n",
        "entra = [datetime.strptime(x[1] , \"%d/%m/%Y\") for x in entrada]\n",
        "sai   = [datetime.strptime(x[1] , \"%d/%m/%Y\") for x in saida]"
      ]
    },
    {
      "cell_type": "code",
      "execution_count": 12,
      "metadata": {},
      "outputs": [],
      "source": [
        "posicao = pd.DataFrame(columns=['pos'], index=df.index)\n",
        "posicao.loc[entra] = 1\n",
        "posicao.loc[sai] = 0\n",
        "posicao.ffill(inplace=True)\n",
        "posicao.fillna(0,inplace=True)\n",
        "# posicao.iplot()"
      ]
    },
    {
      "cell_type": "code",
      "execution_count": 13,
      "metadata": {},
      "outputs": [
        {
          "data": {
            "application/vnd.plotly.v1+json": {
              "config": {
                "plotlyServerURL": "https://plot.ly"
              },
              "data": [
                {
                  "name": "preço",
                  "type": "scatter",
                  "x": [
                    "2023-02-01T00:00:00",
                    "2023-02-02T00:00:00",
                    "2023-02-03T00:00:00",
                    "2023-02-06T00:00:00",
                    "2023-02-07T00:00:00",
                    "2023-02-08T00:00:00",
                    "2023-02-09T00:00:00",
                    "2023-02-10T00:00:00",
                    "2023-02-13T00:00:00",
                    "2023-02-14T00:00:00",
                    "2023-02-15T00:00:00",
                    "2023-02-16T00:00:00",
                    "2023-02-17T00:00:00",
                    "2023-02-22T00:00:00",
                    "2023-02-23T00:00:00",
                    "2023-02-24T00:00:00",
                    "2023-02-27T00:00:00",
                    "2023-02-28T00:00:00",
                    "2023-03-01T00:00:00",
                    "2023-03-02T00:00:00",
                    "2023-03-03T00:00:00",
                    "2023-03-06T00:00:00",
                    "2023-03-07T00:00:00",
                    "2023-03-08T00:00:00",
                    "2023-03-09T00:00:00",
                    "2023-03-10T00:00:00",
                    "2023-03-13T00:00:00",
                    "2023-03-14T00:00:00",
                    "2023-03-15T00:00:00",
                    "2023-03-16T00:00:00",
                    "2023-03-17T00:00:00",
                    "2023-03-20T00:00:00",
                    "2023-03-21T00:00:00",
                    "2023-03-22T00:00:00",
                    "2023-03-23T00:00:00",
                    "2023-03-24T00:00:00",
                    "2023-03-27T00:00:00",
                    "2023-03-28T00:00:00",
                    "2023-03-29T00:00:00",
                    "2023-03-30T00:00:00",
                    "2023-03-31T00:00:00",
                    "2023-04-03T00:00:00",
                    "2023-04-04T00:00:00",
                    "2023-04-05T00:00:00",
                    "2023-04-06T00:00:00",
                    "2023-04-10T00:00:00",
                    "2023-04-11T00:00:00",
                    "2023-04-12T00:00:00",
                    "2023-04-13T00:00:00",
                    "2023-04-14T00:00:00",
                    "2023-04-17T00:00:00",
                    "2023-04-18T00:00:00",
                    "2023-04-19T00:00:00",
                    "2023-04-20T00:00:00",
                    "2023-04-24T00:00:00",
                    "2023-04-25T00:00:00",
                    "2023-04-26T00:00:00",
                    "2023-04-27T00:00:00",
                    "2023-04-28T00:00:00",
                    "2023-05-02T00:00:00",
                    "2023-05-03T00:00:00",
                    "2023-05-04T00:00:00",
                    "2023-05-05T00:00:00",
                    "2023-05-08T00:00:00",
                    "2023-05-09T00:00:00",
                    "2023-05-10T00:00:00",
                    "2023-05-11T00:00:00",
                    "2023-05-12T00:00:00",
                    "2023-05-15T00:00:00",
                    "2023-05-16T00:00:00",
                    "2023-05-17T00:00:00",
                    "2023-05-18T00:00:00",
                    "2023-05-19T00:00:00",
                    "2023-05-22T00:00:00",
                    "2023-05-23T00:00:00",
                    "2023-05-24T00:00:00",
                    "2023-05-25T00:00:00",
                    "2023-05-26T00:00:00",
                    "2023-05-29T00:00:00",
                    "2023-05-30T00:00:00",
                    "2023-05-31T00:00:00",
                    "2023-06-01T00:00:00",
                    "2023-06-02T00:00:00",
                    "2023-06-05T00:00:00",
                    "2023-06-06T00:00:00",
                    "2023-06-07T00:00:00",
                    "2023-06-09T00:00:00",
                    "2023-06-12T00:00:00",
                    "2023-06-13T00:00:00",
                    "2023-06-14T00:00:00",
                    "2023-06-15T00:00:00",
                    "2023-06-16T00:00:00",
                    "2023-06-19T00:00:00",
                    "2023-06-20T00:00:00",
                    "2023-06-21T00:00:00",
                    "2023-06-22T00:00:00",
                    "2023-06-23T00:00:00",
                    "2023-06-26T00:00:00",
                    "2023-06-27T00:00:00",
                    "2023-06-28T00:00:00",
                    "2023-06-29T00:00:00",
                    "2023-06-30T00:00:00",
                    "2023-07-03T00:00:00",
                    "2023-07-04T00:00:00",
                    "2023-07-05T00:00:00",
                    "2023-07-06T00:00:00",
                    "2023-07-07T00:00:00",
                    "2023-07-10T00:00:00",
                    "2023-07-11T00:00:00",
                    "2023-07-12T00:00:00",
                    "2023-07-13T00:00:00",
                    "2023-07-14T00:00:00",
                    "2023-07-17T00:00:00",
                    "2023-07-18T00:00:00",
                    "2023-07-19T00:00:00",
                    "2023-07-20T00:00:00",
                    "2023-07-21T00:00:00",
                    "2023-07-24T00:00:00",
                    "2023-07-25T00:00:00",
                    "2023-07-26T00:00:00",
                    "2023-07-27T00:00:00",
                    "2023-07-28T00:00:00",
                    "2023-07-31T00:00:00",
                    "2023-08-01T00:00:00",
                    "2023-08-02T00:00:00",
                    "2023-08-03T00:00:00",
                    "2023-08-04T00:00:00",
                    "2023-08-07T00:00:00",
                    "2023-08-08T00:00:00",
                    "2023-08-09T00:00:00",
                    "2023-08-10T00:00:00",
                    "2023-08-11T00:00:00",
                    "2023-08-14T00:00:00",
                    "2023-08-15T00:00:00",
                    "2023-08-16T00:00:00",
                    "2023-08-17T00:00:00",
                    "2023-08-18T00:00:00",
                    "2023-08-21T00:00:00",
                    "2023-08-22T00:00:00",
                    "2023-08-23T00:00:00",
                    "2023-08-24T00:00:00",
                    "2023-08-25T00:00:00",
                    "2023-08-28T00:00:00",
                    "2023-08-29T00:00:00",
                    "2023-08-30T00:00:00",
                    "2023-08-31T00:00:00",
                    "2023-09-01T00:00:00",
                    "2023-09-04T00:00:00",
                    "2023-09-05T00:00:00",
                    "2023-09-06T00:00:00",
                    "2023-09-08T00:00:00",
                    "2023-09-11T00:00:00",
                    "2023-09-12T00:00:00",
                    "2023-09-13T00:00:00",
                    "2023-09-14T00:00:00",
                    "2023-09-15T00:00:00",
                    "2023-09-18T00:00:00",
                    "2023-09-19T00:00:00",
                    "2023-09-20T00:00:00",
                    "2023-09-21T00:00:00",
                    "2023-09-22T00:00:00",
                    "2023-09-25T00:00:00",
                    "2023-09-26T00:00:00",
                    "2023-09-27T00:00:00",
                    "2023-09-28T00:00:00",
                    "2023-09-29T00:00:00",
                    "2023-10-02T00:00:00",
                    "2023-10-03T00:00:00",
                    "2023-10-04T00:00:00",
                    "2023-10-05T00:00:00",
                    "2023-10-06T00:00:00",
                    "2023-10-09T00:00:00",
                    "2023-10-10T00:00:00",
                    "2023-10-11T00:00:00",
                    "2023-10-13T00:00:00",
                    "2023-10-16T00:00:00",
                    "2023-10-17T00:00:00",
                    "2023-10-18T00:00:00",
                    "2023-10-19T00:00:00",
                    "2023-10-20T00:00:00",
                    "2023-10-23T00:00:00",
                    "2023-10-24T00:00:00",
                    "2023-10-25T00:00:00",
                    "2023-10-26T00:00:00",
                    "2023-10-27T00:00:00",
                    "2023-10-30T00:00:00",
                    "2023-10-31T00:00:00",
                    "2023-11-01T00:00:00",
                    "2023-11-03T00:00:00",
                    "2023-11-06T00:00:00",
                    "2023-11-07T00:00:00",
                    "2023-11-08T00:00:00",
                    "2023-11-09T00:00:00",
                    "2023-11-10T00:00:00",
                    "2023-11-13T00:00:00",
                    "2023-11-14T00:00:00",
                    "2023-11-16T00:00:00",
                    "2023-11-17T00:00:00",
                    "2023-11-20T00:00:00",
                    "2023-11-21T00:00:00",
                    "2023-11-22T00:00:00",
                    "2023-11-23T00:00:00",
                    "2023-11-24T00:00:00",
                    "2023-11-27T00:00:00",
                    "2023-11-28T00:00:00",
                    "2023-11-29T00:00:00",
                    "2023-11-30T00:00:00",
                    "2023-12-01T00:00:00",
                    "2023-12-04T00:00:00",
                    "2023-12-05T00:00:00",
                    "2023-12-06T00:00:00",
                    "2023-12-07T00:00:00",
                    "2023-12-08T00:00:00",
                    "2023-12-11T00:00:00",
                    "2023-12-12T00:00:00",
                    "2023-12-13T00:00:00",
                    "2023-12-14T00:00:00",
                    "2023-12-15T00:00:00",
                    "2023-12-18T00:00:00",
                    "2023-12-19T00:00:00",
                    "2023-12-20T00:00:00",
                    "2023-12-21T00:00:00",
                    "2023-12-22T00:00:00",
                    "2023-12-26T00:00:00",
                    "2023-12-27T00:00:00",
                    "2023-12-28T00:00:00",
                    "2024-01-02T00:00:00",
                    "2024-01-03T00:00:00",
                    "2024-01-04T00:00:00",
                    "2024-01-05T00:00:00",
                    "2024-01-08T00:00:00",
                    "2024-01-09T00:00:00",
                    "2024-01-10T00:00:00",
                    "2024-01-11T00:00:00",
                    "2024-01-12T00:00:00",
                    "2024-01-15T00:00:00",
                    "2024-01-16T00:00:00",
                    "2024-01-17T00:00:00",
                    "2024-01-18T00:00:00",
                    "2024-01-19T00:00:00",
                    "2024-01-22T00:00:00",
                    "2024-01-23T00:00:00",
                    "2024-01-24T00:00:00",
                    "2024-01-25T00:00:00",
                    "2024-01-26T00:00:00",
                    "2024-01-29T00:00:00",
                    "2024-01-30T00:00:00",
                    "2024-01-31T00:00:00"
                  ],
                  "xaxis": "x",
                  "y": [
                    11.506073951721191,
                    11.45686149597168,
                    11.072997093200684,
                    11.20095157623291,
                    11.082839012145996,
                    11.17142391204834,
                    10.935198783874512,
                    11.053311347961426,
                    11.072997093200684,
                    10.885986328125,
                    10.945042610168457,
                    10.905671119689941,
                    10.787559509277344,
                    10.787559509277344,
                    10.8466157913208,
                    10.8466157913208,
                    10.807244300842285,
                    10.817087173461914,
                    10.728503227233887,
                    10.590706825256348,
                    10.610391616821289,
                    10.797402381896973,
                    10.876143455505371,
                    11.437174797058105,
                    11.525758743286133,
                    11.368276596069336,
                    11.614343643188477,
                    11.545443534851074,
                    11.614343643188477,
                    11.722612380981445,
                    11.732454299926758,
                    11.535602569580078,
                    11.584815979003906,
                    11.8997802734375,
                    11.387961387634277,
                    11.624185562133789,
                    11.702927589416504,
                    11.92930793762207,
                    11.683241844177246,
                    12.25411605834961,
                    12.598609924316406,
                    12.441126823425293,
                    12.500182151794434,
                    12.480498313903809,
                    12.62813663482666,
                    12.647823333740234,
                    12.756092071533203,
                    12.98247241973877,
                    13.307281494140625,
                    12.84467601776123,
                    12.8742036819458,
                    12.795462608337402,
                    12.736406326293945,
                    12.831705093383789,
                    12.79222297668457,
                    12.94028091430664,
                    13.048856735229492,
                    13.147562026977539,
                    13.394325256347656,
                    13.502902030944824,
                    13.522643089294434,
                    13.335103034973145,
                    13.700312614440918,
                    13.581866264343262,
                    13.690442085266113,
                    13.571995735168457,
                    13.473289489746094,
                    13.32523250579834,
                    13.473289489746094,
                    13.058727264404297,
                    13.34497356414795,
                    13.611477851867676,
                    13.710183143615723,
                    13.542384147644043,
                    13.571995735168457,
                    13.374585151672363,
                    13.542384147644043,
                    13.502902030944824,
                    13.404196739196777,
                    13.591736793518066,
                    13.394325256347656,
                    13.680571556091309,
                    13.966816902160645,
                    13.93720531463623,
                    14.105005264282227,
                    13.877983093261719,
                    14.065523147583008,
                    14.105005264282227,
                    13.996429443359375,
                    13.907594680786133,
                    14.026041030883789,
                    13.877983093261719,
                    13.996429443359375,
                    14.026041030883789,
                    13.858241081237793,
                    13.76940631866455,
                    13.966816902160645,
                    13.779276847839355,
                    13.749665260314941,
                    13.631218910217285,
                    13.6608304977417,
                    13.868112564086914,
                    13.828630447387695,
                    13.877983093261719,
                    13.729924201965332,
                    13.394325256347656,
                    13.601607322692871,
                    13.64108943939209,
                    13.374585151672363,
                    13.512771606445312,
                    13.522643089294434,
                    13.285750389099121,
                    13.404196739196777,
                    13.305490493774414,
                    13.354843139648438,
                    13.236396789550781,
                    13.354843139648438,
                    13.305490493774414,
                    13.226526260375977,
                    13.256138801574707,
                    13.098210334777832,
                    13.187044143676758,
                    13.117950439453125,
                    13.098210334777832,
                    13.12782096862793,
                    13.17717456817627,
                    12.881057739257812,
                    12.851446151733398,
                    12.999504089355469,
                    12.871187210083008,
                    13.117950439453125,
                    12.989633560180664,
                    13.13769245147705,
                    13.117950439453125,
                    12.890928268432617,
                    12.584941864013672,
                    12.62442398071289,
                    12.515848159790039,
                    12.703388214111328,
                    12.841575622558594,
                    12.634294509887695,
                    12.387530326843262,
                    12.634294509887695,
                    12.782352447509766,
                    12.6441650390625,
                    12.29869556427002,
                    12.496106147766113,
                    12.436883926391602,
                    12.239472389221191,
                    12.101284980773926,
                    12.101284980773926,
                    12.27895450592041,
                    12.377659797668457,
                    12.288825035095215,
                    12.318436622619629,
                    12.44675350189209,
                    12.57507038116455,
                    12.693516731262207,
                    12.62442398071289,
                    12.42701244354248,
                    12.42701244354248,
                    12.545459747314453,
                    12.328307151794434,
                    12.318436622619629,
                    12.6441650390625,
                    12.723129272460938,
                    12.4664945602417,
                    12.042061805725098,
                    12.071672439575195,
                    12.081543922424316,
                    12.081543922424316,
                    12.377659797668457,
                    12.594812393188477,
                    12.555330276489258,
                    12.101284980773926,
                    12.071672439575195,
                    11.894003868103027,
                    11.647239685058594,
                    11.74594497680664,
                    11.627498626708984,
                    12.051932334899902,
                    12.081543922424316,
                    11.854521751403809,
                    12.11115550994873,
                    11.657111167907715,
                    11.953226089477539,
                    11.979999542236328,
                    12.039999961853027,
                    12.350000381469727,
                    12.220000267028809,
                    12.479999542236328,
                    12.40999984741211,
                    12.430000305175781,
                    12.5,
                    12.520000457763672,
                    13.130000114440918,
                    13.319999694824219,
                    13.109999656677246,
                    13.050000190734863,
                    13.050000190734863,
                    13.170000076293945,
                    13.220000267028809,
                    13.0600004196167,
                    13.300000190734863,
                    13.210000038146973,
                    13.380000114440918,
                    13.539999961853027,
                    13.789999961853027,
                    13.670000076293945,
                    13.829999923706055,
                    13.869999885559082,
                    13.899999618530273,
                    14.050000190734863,
                    14.0600004196167,
                    13.90999984741211,
                    14.199999809265137,
                    14.319999694824219,
                    14.210000038146973,
                    14.25,
                    14.529999732971191,
                    14.199999809265137,
                    14.350000381469727,
                    14.350000381469727,
                    14.350000381469727,
                    14.329999923706055,
                    14.180000305175781,
                    13.989999771118164,
                    13.970000267028809,
                    13.739999771118164,
                    13.829999923706055,
                    13.989999771118164,
                    13.9399995803833,
                    13.819999694824219,
                    13.710000038146973,
                    13.729999542236328,
                    13.8100004196167,
                    13.399999618530273,
                    13.460000038146973,
                    13.359999656677246,
                    13.510000228881836,
                    13.399999618530273,
                    13.510000228881836,
                    13.34000015258789,
                    13.3100004196167,
                    13.270000457763672,
                    13.25,
                    13.149999618530273,
                    13.119999885559082
                  ],
                  "yaxis": "y"
                },
                {
                  "line": {
                    "color": "firebrick",
                    "dash": "dot",
                    "width": 2
                  },
                  "mode": "lines",
                  "name": "mma5",
                  "type": "scatter",
                  "x": [
                    "2023-02-01T00:00:00",
                    "2023-02-02T00:00:00",
                    "2023-02-03T00:00:00",
                    "2023-02-06T00:00:00",
                    "2023-02-07T00:00:00",
                    "2023-02-08T00:00:00",
                    "2023-02-09T00:00:00",
                    "2023-02-10T00:00:00",
                    "2023-02-13T00:00:00",
                    "2023-02-14T00:00:00",
                    "2023-02-15T00:00:00",
                    "2023-02-16T00:00:00",
                    "2023-02-17T00:00:00",
                    "2023-02-22T00:00:00",
                    "2023-02-23T00:00:00",
                    "2023-02-24T00:00:00",
                    "2023-02-27T00:00:00",
                    "2023-02-28T00:00:00",
                    "2023-03-01T00:00:00",
                    "2023-03-02T00:00:00",
                    "2023-03-03T00:00:00",
                    "2023-03-06T00:00:00",
                    "2023-03-07T00:00:00",
                    "2023-03-08T00:00:00",
                    "2023-03-09T00:00:00",
                    "2023-03-10T00:00:00",
                    "2023-03-13T00:00:00",
                    "2023-03-14T00:00:00",
                    "2023-03-15T00:00:00",
                    "2023-03-16T00:00:00",
                    "2023-03-17T00:00:00",
                    "2023-03-20T00:00:00",
                    "2023-03-21T00:00:00",
                    "2023-03-22T00:00:00",
                    "2023-03-23T00:00:00",
                    "2023-03-24T00:00:00",
                    "2023-03-27T00:00:00",
                    "2023-03-28T00:00:00",
                    "2023-03-29T00:00:00",
                    "2023-03-30T00:00:00",
                    "2023-03-31T00:00:00",
                    "2023-04-03T00:00:00",
                    "2023-04-04T00:00:00",
                    "2023-04-05T00:00:00",
                    "2023-04-06T00:00:00",
                    "2023-04-10T00:00:00",
                    "2023-04-11T00:00:00",
                    "2023-04-12T00:00:00",
                    "2023-04-13T00:00:00",
                    "2023-04-14T00:00:00",
                    "2023-04-17T00:00:00",
                    "2023-04-18T00:00:00",
                    "2023-04-19T00:00:00",
                    "2023-04-20T00:00:00",
                    "2023-04-24T00:00:00",
                    "2023-04-25T00:00:00",
                    "2023-04-26T00:00:00",
                    "2023-04-27T00:00:00",
                    "2023-04-28T00:00:00",
                    "2023-05-02T00:00:00",
                    "2023-05-03T00:00:00",
                    "2023-05-04T00:00:00",
                    "2023-05-05T00:00:00",
                    "2023-05-08T00:00:00",
                    "2023-05-09T00:00:00",
                    "2023-05-10T00:00:00",
                    "2023-05-11T00:00:00",
                    "2023-05-12T00:00:00",
                    "2023-05-15T00:00:00",
                    "2023-05-16T00:00:00",
                    "2023-05-17T00:00:00",
                    "2023-05-18T00:00:00",
                    "2023-05-19T00:00:00",
                    "2023-05-22T00:00:00",
                    "2023-05-23T00:00:00",
                    "2023-05-24T00:00:00",
                    "2023-05-25T00:00:00",
                    "2023-05-26T00:00:00",
                    "2023-05-29T00:00:00",
                    "2023-05-30T00:00:00",
                    "2023-05-31T00:00:00",
                    "2023-06-01T00:00:00",
                    "2023-06-02T00:00:00",
                    "2023-06-05T00:00:00",
                    "2023-06-06T00:00:00",
                    "2023-06-07T00:00:00",
                    "2023-06-09T00:00:00",
                    "2023-06-12T00:00:00",
                    "2023-06-13T00:00:00",
                    "2023-06-14T00:00:00",
                    "2023-06-15T00:00:00",
                    "2023-06-16T00:00:00",
                    "2023-06-19T00:00:00",
                    "2023-06-20T00:00:00",
                    "2023-06-21T00:00:00",
                    "2023-06-22T00:00:00",
                    "2023-06-23T00:00:00",
                    "2023-06-26T00:00:00",
                    "2023-06-27T00:00:00",
                    "2023-06-28T00:00:00",
                    "2023-06-29T00:00:00",
                    "2023-06-30T00:00:00",
                    "2023-07-03T00:00:00",
                    "2023-07-04T00:00:00",
                    "2023-07-05T00:00:00",
                    "2023-07-06T00:00:00",
                    "2023-07-07T00:00:00",
                    "2023-07-10T00:00:00",
                    "2023-07-11T00:00:00",
                    "2023-07-12T00:00:00",
                    "2023-07-13T00:00:00",
                    "2023-07-14T00:00:00",
                    "2023-07-17T00:00:00",
                    "2023-07-18T00:00:00",
                    "2023-07-19T00:00:00",
                    "2023-07-20T00:00:00",
                    "2023-07-21T00:00:00",
                    "2023-07-24T00:00:00",
                    "2023-07-25T00:00:00",
                    "2023-07-26T00:00:00",
                    "2023-07-27T00:00:00",
                    "2023-07-28T00:00:00",
                    "2023-07-31T00:00:00",
                    "2023-08-01T00:00:00",
                    "2023-08-02T00:00:00",
                    "2023-08-03T00:00:00",
                    "2023-08-04T00:00:00",
                    "2023-08-07T00:00:00",
                    "2023-08-08T00:00:00",
                    "2023-08-09T00:00:00",
                    "2023-08-10T00:00:00",
                    "2023-08-11T00:00:00",
                    "2023-08-14T00:00:00",
                    "2023-08-15T00:00:00",
                    "2023-08-16T00:00:00",
                    "2023-08-17T00:00:00",
                    "2023-08-18T00:00:00",
                    "2023-08-21T00:00:00",
                    "2023-08-22T00:00:00",
                    "2023-08-23T00:00:00",
                    "2023-08-24T00:00:00",
                    "2023-08-25T00:00:00",
                    "2023-08-28T00:00:00",
                    "2023-08-29T00:00:00",
                    "2023-08-30T00:00:00",
                    "2023-08-31T00:00:00",
                    "2023-09-01T00:00:00",
                    "2023-09-04T00:00:00",
                    "2023-09-05T00:00:00",
                    "2023-09-06T00:00:00",
                    "2023-09-08T00:00:00",
                    "2023-09-11T00:00:00",
                    "2023-09-12T00:00:00",
                    "2023-09-13T00:00:00",
                    "2023-09-14T00:00:00",
                    "2023-09-15T00:00:00",
                    "2023-09-18T00:00:00",
                    "2023-09-19T00:00:00",
                    "2023-09-20T00:00:00",
                    "2023-09-21T00:00:00",
                    "2023-09-22T00:00:00",
                    "2023-09-25T00:00:00",
                    "2023-09-26T00:00:00",
                    "2023-09-27T00:00:00",
                    "2023-09-28T00:00:00",
                    "2023-09-29T00:00:00",
                    "2023-10-02T00:00:00",
                    "2023-10-03T00:00:00",
                    "2023-10-04T00:00:00",
                    "2023-10-05T00:00:00",
                    "2023-10-06T00:00:00",
                    "2023-10-09T00:00:00",
                    "2023-10-10T00:00:00",
                    "2023-10-11T00:00:00",
                    "2023-10-13T00:00:00",
                    "2023-10-16T00:00:00",
                    "2023-10-17T00:00:00",
                    "2023-10-18T00:00:00",
                    "2023-10-19T00:00:00",
                    "2023-10-20T00:00:00",
                    "2023-10-23T00:00:00",
                    "2023-10-24T00:00:00",
                    "2023-10-25T00:00:00",
                    "2023-10-26T00:00:00",
                    "2023-10-27T00:00:00",
                    "2023-10-30T00:00:00",
                    "2023-10-31T00:00:00",
                    "2023-11-01T00:00:00",
                    "2023-11-03T00:00:00",
                    "2023-11-06T00:00:00",
                    "2023-11-07T00:00:00",
                    "2023-11-08T00:00:00",
                    "2023-11-09T00:00:00",
                    "2023-11-10T00:00:00",
                    "2023-11-13T00:00:00",
                    "2023-11-14T00:00:00",
                    "2023-11-16T00:00:00",
                    "2023-11-17T00:00:00",
                    "2023-11-20T00:00:00",
                    "2023-11-21T00:00:00",
                    "2023-11-22T00:00:00",
                    "2023-11-23T00:00:00",
                    "2023-11-24T00:00:00",
                    "2023-11-27T00:00:00",
                    "2023-11-28T00:00:00",
                    "2023-11-29T00:00:00",
                    "2023-11-30T00:00:00",
                    "2023-12-01T00:00:00",
                    "2023-12-04T00:00:00",
                    "2023-12-05T00:00:00",
                    "2023-12-06T00:00:00",
                    "2023-12-07T00:00:00",
                    "2023-12-08T00:00:00",
                    "2023-12-11T00:00:00",
                    "2023-12-12T00:00:00",
                    "2023-12-13T00:00:00",
                    "2023-12-14T00:00:00",
                    "2023-12-15T00:00:00",
                    "2023-12-18T00:00:00",
                    "2023-12-19T00:00:00",
                    "2023-12-20T00:00:00",
                    "2023-12-21T00:00:00",
                    "2023-12-22T00:00:00",
                    "2023-12-26T00:00:00",
                    "2023-12-27T00:00:00",
                    "2023-12-28T00:00:00",
                    "2024-01-02T00:00:00",
                    "2024-01-03T00:00:00",
                    "2024-01-04T00:00:00",
                    "2024-01-05T00:00:00",
                    "2024-01-08T00:00:00",
                    "2024-01-09T00:00:00",
                    "2024-01-10T00:00:00",
                    "2024-01-11T00:00:00",
                    "2024-01-12T00:00:00",
                    "2024-01-15T00:00:00",
                    "2024-01-16T00:00:00",
                    "2024-01-17T00:00:00",
                    "2024-01-18T00:00:00",
                    "2024-01-19T00:00:00",
                    "2024-01-22T00:00:00",
                    "2024-01-23T00:00:00",
                    "2024-01-24T00:00:00",
                    "2024-01-25T00:00:00",
                    "2024-01-26T00:00:00",
                    "2024-01-29T00:00:00",
                    "2024-01-30T00:00:00",
                    "2024-01-31T00:00:00"
                  ],
                  "xaxis": "x",
                  "y": [
                    null,
                    null,
                    null,
                    null,
                    11.263944625854492,
                    11.197014617919923,
                    11.092682075500488,
                    11.088744926452637,
                    11.063154029846192,
                    11.023783493041993,
                    10.978507232666015,
                    10.972601699829102,
                    10.919451332092285,
                    10.862363815307617,
                    10.854489707946778,
                    10.834804344177247,
                    10.815118980407714,
                    10.821024513244629,
                    10.809213256835937,
                    10.758031463623047,
                    10.710786628723145,
                    10.708818244934083,
                    10.720629501342774,
                    10.862363815307617,
                    11.049374198913574,
                    11.200951194763183,
                    11.364339447021484,
                    11.498199462890625,
                    11.5336332321167,
                    11.573003959655761,
                    11.645839500427247,
                    11.630091285705566,
                    11.637965774536132,
                    11.695053100585938,
                    11.628122901916504,
                    11.60646915435791,
                    11.639934158325195,
                    11.708832550048829,
                    11.665524864196778,
                    11.838755798339843,
                    12.033640670776368,
                    12.181280517578125,
                    12.295455360412598,
                    12.45490665435791,
                    12.52971076965332,
                    12.539553451538087,
                    12.602546501159669,
                    12.699004554748536,
                    12.864361190795899,
                    12.907669067382812,
                    12.952945137023926,
                    12.960819244384766,
                    12.9116060256958,
                    12.816490745544433,
                    12.806000137329102,
                    12.81921558380127,
                    12.869894409179688,
                    12.952125549316406,
                    13.06464958190918,
                    13.20678539276123,
                    13.32325782775879,
                    13.38050708770752,
                    13.491057205200196,
                    13.528565406799316,
                    13.566073417663574,
                    13.575943946838379,
                    13.60358123779297,
                    13.528565216064454,
                    13.50684986114502,
                    13.380506896972657,
                    13.335102462768555,
                    13.36274013519287,
                    13.439730262756347,
                    13.453549194335938,
                    13.55620288848877,
                    13.562125205993652,
                    13.548306465148926,
                    13.506850242614746,
                    13.479212760925293,
                    13.483160972595215,
                    13.487108993530274,
                    13.514746475219727,
                    13.607529449462891,
                    13.714131164550782,
                    13.816784858703613,
                    13.913516426086426,
                    13.990506744384765,
                    14.018144416809083,
                    14.029989242553711,
                    13.990507125854492,
                    14.020118713378906,
                    13.982610702514648,
                    13.960895538330078,
                    13.966817855834961,
                    13.956947135925294,
                    13.905620193481445,
                    13.92338695526123,
                    13.879956436157226,
                    13.824681282043457,
                    13.779276847839355,
                    13.757561683654785,
                    13.737820816040038,
                    13.747691535949707,
                    13.773355102539062,
                    13.793096160888672,
                    13.739795112609864,
                    13.686494064331054,
                    13.648985862731934,
                    13.548306274414063,
                    13.504875755310058,
                    13.530539321899415,
                    13.467367935180665,
                    13.419989395141602,
                    13.406170463562011,
                    13.374584770202636,
                    13.317335510253907,
                    13.331154060363769,
                    13.311412811279297,
                    13.29561996459961,
                    13.275879096984863,
                    13.248241806030274,
                    13.214682006835938,
                    13.17717399597168,
                    13.15151081085205,
                    13.125847244262696,
                    13.141640090942383,
                    13.080442810058594,
                    13.027141952514649,
                    13.007400703430175,
                    12.95607395172119,
                    12.944229125976562,
                    12.965944290161133,
                    13.023193550109863,
                    13.046882820129394,
                    13.050831031799316,
                    12.944229316711425,
                    12.87118740081787,
                    12.746818542480469,
                    12.66390609741211,
                    12.654035568237305,
                    12.66390609741211,
                    12.616527366638184,
                    12.640216636657716,
                    12.656009483337403,
                    12.616527366638184,
                    12.549407577514648,
                    12.571122741699218,
                    12.531640625,
                    12.423064613342286,
                    12.31448860168457,
                    12.27500648498535,
                    12.23157615661621,
                    12.219731330871582,
                    12.229601860046387,
                    12.273032188415527,
                    12.34212589263916,
                    12.401349067687988,
                    12.464520454406738,
                    12.531640243530273,
                    12.553355407714843,
                    12.549407196044921,
                    12.543485069274903,
                    12.470443153381348,
                    12.409245681762695,
                    12.4526762008667,
                    12.51189956665039,
                    12.49610652923584,
                    12.438857460021973,
                    12.389504623413085,
                    12.27698040008545,
                    12.148663330078126,
                    12.130896377563477,
                    12.241446495056152,
                    12.338178062438965,
                    12.342126274108887,
                    12.340151977539062,
                    12.243420791625976,
                    12.05390625,
                    11.892029190063477,
                    11.797271919250488,
                    11.79332389831543,
                    11.830831909179688,
                    11.87228832244873,
                    11.94533042907715,
                    11.951252937316895,
                    11.931511688232423,
                    11.911202812194825,
                    11.948298454284668,
                    11.996067428588868,
                    12.108645248413087,
                    12.213999938964843,
                    12.3,
                    12.378000068664551,
                    12.407999992370605,
                    12.468000030517578,
                    12.598000144958496,
                    12.780000114440918,
                    12.91599998474121,
                    13.026000022888184,
                    13.131999969482422,
                    13.139999961853027,
                    13.120000076293945,
                    13.110000228881836,
                    13.160000228881836,
                    13.192000198364259,
                    13.234000205993652,
                    13.298000144958497,
                    13.444000053405762,
                    13.518000030517578,
                    13.642000007629395,
                    13.739999961853027,
                    13.811999893188476,
                    13.863999938964843,
                    13.942000007629394,
                    13.957999992370606,
                    14.023999977111817,
                    14.107999992370605,
                    14.139999961853027,
                    14.177999877929688,
                    14.301999855041505,
                    14.301999855041505,
                    14.307999992370606,
                    14.336000061035156,
                    14.3560001373291,
                    14.316000175476074,
                    14.312000274658203,
                    14.240000152587891,
                    14.164000129699707,
                    14.042000007629394,
                    13.942000007629394,
                    13.90399990081787,
                    13.8939998626709,
                    13.86399974822998,
                    13.857999801635742,
                    13.837999725341797,
                    13.801999855041505,
                    13.693999862670898,
                    13.621999931335449,
                    13.551999855041505,
                    13.507999992370605,
                    13.42599983215332,
                    13.447999954223633,
                    13.423999977111816,
                    13.414000129699707,
                    13.366000175476074,
                    13.33600025177002,
                    13.264000129699706,
                    13.220000076293946
                  ],
                  "yaxis": "y"
                },
                {
                  "marker": {
                    "angle": 45,
                    "line": {
                      "color": "DarkSlateGrey",
                      "width": 2
                    },
                    "size": 12,
                    "symbol": "arrow"
                  },
                  "mode": "markers",
                  "name": "Entrada",
                  "type": "scatter",
                  "x": [
                    "2023-03-03T00:00:00",
                    "2023-10-19T00:00:00",
                    "2024-01-03T00:00:00"
                  ],
                  "xaxis": "x",
                  "y": [
                    10.610391616821289,
                    11.74594497680664,
                    13.970000267028809
                  ],
                  "yaxis": "y"
                },
                {
                  "marker": {
                    "angle": -135,
                    "line": {
                      "color": "red",
                      "width": 2
                    },
                    "size": 12,
                    "symbol": "arrow"
                  },
                  "mode": "markers",
                  "name": "Saida",
                  "type": "scatter",
                  "x": [
                    "2023-03-07T00:00:00",
                    "2023-10-24T00:00:00",
                    "2024-01-09T00:00:00"
                  ],
                  "xaxis": "x",
                  "y": [
                    10.876143455505371,
                    12.081543922424316,
                    13.9399995803833
                  ],
                  "yaxis": "y"
                },
                {
                  "name": "ifr2",
                  "type": "scatter",
                  "x": [
                    "2023-02-01T00:00:00",
                    "2023-02-02T00:00:00",
                    "2023-02-03T00:00:00",
                    "2023-02-06T00:00:00",
                    "2023-02-07T00:00:00",
                    "2023-02-08T00:00:00",
                    "2023-02-09T00:00:00",
                    "2023-02-10T00:00:00",
                    "2023-02-13T00:00:00",
                    "2023-02-14T00:00:00",
                    "2023-02-15T00:00:00",
                    "2023-02-16T00:00:00",
                    "2023-02-17T00:00:00",
                    "2023-02-22T00:00:00",
                    "2023-02-23T00:00:00",
                    "2023-02-24T00:00:00",
                    "2023-02-27T00:00:00",
                    "2023-02-28T00:00:00",
                    "2023-03-01T00:00:00",
                    "2023-03-02T00:00:00",
                    "2023-03-03T00:00:00",
                    "2023-03-06T00:00:00",
                    "2023-03-07T00:00:00",
                    "2023-03-08T00:00:00",
                    "2023-03-09T00:00:00",
                    "2023-03-10T00:00:00",
                    "2023-03-13T00:00:00",
                    "2023-03-14T00:00:00",
                    "2023-03-15T00:00:00",
                    "2023-03-16T00:00:00",
                    "2023-03-17T00:00:00",
                    "2023-03-20T00:00:00",
                    "2023-03-21T00:00:00",
                    "2023-03-22T00:00:00",
                    "2023-03-23T00:00:00",
                    "2023-03-24T00:00:00",
                    "2023-03-27T00:00:00",
                    "2023-03-28T00:00:00",
                    "2023-03-29T00:00:00",
                    "2023-03-30T00:00:00",
                    "2023-03-31T00:00:00",
                    "2023-04-03T00:00:00",
                    "2023-04-04T00:00:00",
                    "2023-04-05T00:00:00",
                    "2023-04-06T00:00:00",
                    "2023-04-10T00:00:00",
                    "2023-04-11T00:00:00",
                    "2023-04-12T00:00:00",
                    "2023-04-13T00:00:00",
                    "2023-04-14T00:00:00",
                    "2023-04-17T00:00:00",
                    "2023-04-18T00:00:00",
                    "2023-04-19T00:00:00",
                    "2023-04-20T00:00:00",
                    "2023-04-24T00:00:00",
                    "2023-04-25T00:00:00",
                    "2023-04-26T00:00:00",
                    "2023-04-27T00:00:00",
                    "2023-04-28T00:00:00",
                    "2023-05-02T00:00:00",
                    "2023-05-03T00:00:00",
                    "2023-05-04T00:00:00",
                    "2023-05-05T00:00:00",
                    "2023-05-08T00:00:00",
                    "2023-05-09T00:00:00",
                    "2023-05-10T00:00:00",
                    "2023-05-11T00:00:00",
                    "2023-05-12T00:00:00",
                    "2023-05-15T00:00:00",
                    "2023-05-16T00:00:00",
                    "2023-05-17T00:00:00",
                    "2023-05-18T00:00:00",
                    "2023-05-19T00:00:00",
                    "2023-05-22T00:00:00",
                    "2023-05-23T00:00:00",
                    "2023-05-24T00:00:00",
                    "2023-05-25T00:00:00",
                    "2023-05-26T00:00:00",
                    "2023-05-29T00:00:00",
                    "2023-05-30T00:00:00",
                    "2023-05-31T00:00:00",
                    "2023-06-01T00:00:00",
                    "2023-06-02T00:00:00",
                    "2023-06-05T00:00:00",
                    "2023-06-06T00:00:00",
                    "2023-06-07T00:00:00",
                    "2023-06-09T00:00:00",
                    "2023-06-12T00:00:00",
                    "2023-06-13T00:00:00",
                    "2023-06-14T00:00:00",
                    "2023-06-15T00:00:00",
                    "2023-06-16T00:00:00",
                    "2023-06-19T00:00:00",
                    "2023-06-20T00:00:00",
                    "2023-06-21T00:00:00",
                    "2023-06-22T00:00:00",
                    "2023-06-23T00:00:00",
                    "2023-06-26T00:00:00",
                    "2023-06-27T00:00:00",
                    "2023-06-28T00:00:00",
                    "2023-06-29T00:00:00",
                    "2023-06-30T00:00:00",
                    "2023-07-03T00:00:00",
                    "2023-07-04T00:00:00",
                    "2023-07-05T00:00:00",
                    "2023-07-06T00:00:00",
                    "2023-07-07T00:00:00",
                    "2023-07-10T00:00:00",
                    "2023-07-11T00:00:00",
                    "2023-07-12T00:00:00",
                    "2023-07-13T00:00:00",
                    "2023-07-14T00:00:00",
                    "2023-07-17T00:00:00",
                    "2023-07-18T00:00:00",
                    "2023-07-19T00:00:00",
                    "2023-07-20T00:00:00",
                    "2023-07-21T00:00:00",
                    "2023-07-24T00:00:00",
                    "2023-07-25T00:00:00",
                    "2023-07-26T00:00:00",
                    "2023-07-27T00:00:00",
                    "2023-07-28T00:00:00",
                    "2023-07-31T00:00:00",
                    "2023-08-01T00:00:00",
                    "2023-08-02T00:00:00",
                    "2023-08-03T00:00:00",
                    "2023-08-04T00:00:00",
                    "2023-08-07T00:00:00",
                    "2023-08-08T00:00:00",
                    "2023-08-09T00:00:00",
                    "2023-08-10T00:00:00",
                    "2023-08-11T00:00:00",
                    "2023-08-14T00:00:00",
                    "2023-08-15T00:00:00",
                    "2023-08-16T00:00:00",
                    "2023-08-17T00:00:00",
                    "2023-08-18T00:00:00",
                    "2023-08-21T00:00:00",
                    "2023-08-22T00:00:00",
                    "2023-08-23T00:00:00",
                    "2023-08-24T00:00:00",
                    "2023-08-25T00:00:00",
                    "2023-08-28T00:00:00",
                    "2023-08-29T00:00:00",
                    "2023-08-30T00:00:00",
                    "2023-08-31T00:00:00",
                    "2023-09-01T00:00:00",
                    "2023-09-04T00:00:00",
                    "2023-09-05T00:00:00",
                    "2023-09-06T00:00:00",
                    "2023-09-08T00:00:00",
                    "2023-09-11T00:00:00",
                    "2023-09-12T00:00:00",
                    "2023-09-13T00:00:00",
                    "2023-09-14T00:00:00",
                    "2023-09-15T00:00:00",
                    "2023-09-18T00:00:00",
                    "2023-09-19T00:00:00",
                    "2023-09-20T00:00:00",
                    "2023-09-21T00:00:00",
                    "2023-09-22T00:00:00",
                    "2023-09-25T00:00:00",
                    "2023-09-26T00:00:00",
                    "2023-09-27T00:00:00",
                    "2023-09-28T00:00:00",
                    "2023-09-29T00:00:00",
                    "2023-10-02T00:00:00",
                    "2023-10-03T00:00:00",
                    "2023-10-04T00:00:00",
                    "2023-10-05T00:00:00",
                    "2023-10-06T00:00:00",
                    "2023-10-09T00:00:00",
                    "2023-10-10T00:00:00",
                    "2023-10-11T00:00:00",
                    "2023-10-13T00:00:00",
                    "2023-10-16T00:00:00",
                    "2023-10-17T00:00:00",
                    "2023-10-18T00:00:00",
                    "2023-10-19T00:00:00",
                    "2023-10-20T00:00:00",
                    "2023-10-23T00:00:00",
                    "2023-10-24T00:00:00",
                    "2023-10-25T00:00:00",
                    "2023-10-26T00:00:00",
                    "2023-10-27T00:00:00",
                    "2023-10-30T00:00:00",
                    "2023-10-31T00:00:00",
                    "2023-11-01T00:00:00",
                    "2023-11-03T00:00:00",
                    "2023-11-06T00:00:00",
                    "2023-11-07T00:00:00",
                    "2023-11-08T00:00:00",
                    "2023-11-09T00:00:00",
                    "2023-11-10T00:00:00",
                    "2023-11-13T00:00:00",
                    "2023-11-14T00:00:00",
                    "2023-11-16T00:00:00",
                    "2023-11-17T00:00:00",
                    "2023-11-20T00:00:00",
                    "2023-11-21T00:00:00",
                    "2023-11-22T00:00:00",
                    "2023-11-23T00:00:00",
                    "2023-11-24T00:00:00",
                    "2023-11-27T00:00:00",
                    "2023-11-28T00:00:00",
                    "2023-11-29T00:00:00",
                    "2023-11-30T00:00:00",
                    "2023-12-01T00:00:00",
                    "2023-12-04T00:00:00",
                    "2023-12-05T00:00:00",
                    "2023-12-06T00:00:00",
                    "2023-12-07T00:00:00",
                    "2023-12-08T00:00:00",
                    "2023-12-11T00:00:00",
                    "2023-12-12T00:00:00",
                    "2023-12-13T00:00:00",
                    "2023-12-14T00:00:00",
                    "2023-12-15T00:00:00",
                    "2023-12-18T00:00:00",
                    "2023-12-19T00:00:00",
                    "2023-12-20T00:00:00",
                    "2023-12-21T00:00:00",
                    "2023-12-22T00:00:00",
                    "2023-12-26T00:00:00",
                    "2023-12-27T00:00:00",
                    "2023-12-28T00:00:00",
                    "2024-01-02T00:00:00",
                    "2024-01-03T00:00:00",
                    "2024-01-04T00:00:00",
                    "2024-01-05T00:00:00",
                    "2024-01-08T00:00:00",
                    "2024-01-09T00:00:00",
                    "2024-01-10T00:00:00",
                    "2024-01-11T00:00:00",
                    "2024-01-12T00:00:00",
                    "2024-01-15T00:00:00",
                    "2024-01-16T00:00:00",
                    "2024-01-17T00:00:00",
                    "2024-01-18T00:00:00",
                    "2024-01-19T00:00:00",
                    "2024-01-22T00:00:00",
                    "2024-01-23T00:00:00",
                    "2024-01-24T00:00:00",
                    "2024-01-25T00:00:00",
                    "2024-01-26T00:00:00",
                    "2024-01-29T00:00:00",
                    "2024-01-30T00:00:00",
                    "2024-01-31T00:00:00"
                  ],
                  "xaxis": "x2",
                  "y": [
                    null,
                    0,
                    0,
                    38.52,
                    22.510000000000005,
                    52.27,
                    17.150000000000006,
                    50.44,
                    56.3,
                    17.349999999999994,
                    42.48,
                    30.230000000000004,
                    11.069999999999993,
                    11.069999999999993,
                    60.78,
                    60.78,
                    24.400000000000006,
                    41.82,
                    8.129999999999995,
                    2.319999999999993,
                    18.879999999999995,
                    80.78999999999999,
                    88.3,
                    98.22,
                    98.6,
                    56.31,
                    81.33,
                    61.58,
                    74.14,
                    87.24,
                    88.32,
                    20.189999999999998,
                    42.4,
                    87.38,
                    24.700000000000003,
                    54.7,
                    64.2,
                    83.78,
                    38.28,
                    82.47,
                    90.59,
                    63.63,
                    70.27,
                    62.64,
                    85.78,
                    87.8,
                    95.23,
                    98.66,
                    99.56,
                    34.120000000000005,
                    39.22,
                    27.760000000000005,
                    19.299999999999997,
                    59.32,
                    42.04,
                    81.8,
                    90.93,
                    95.25,
                    98.6,
                    99.13,
                    99.24,
                    29.879999999999995,
                    81.16,
                    55.05,
                    71.73,
                    39.64,
                    22.709999999999994,
                    9.950000000000003,
                    57.59,
                    14.530000000000001,
                    57.95,
                    78.39,
                    84.11,
                    44.27,
                    52.25,
                    17.959999999999994,
                    61.22,
                    49.05,
                    24.599999999999994,
                    73.95,
                    31.099999999999994,
                    74.28999999999999,
                    88.59,
                    79.45,
                    90.53,
                    36.82,
                    68.09,
                    73.6,
                    37.77,
                    21.019999999999996,
                    63.81,
                    27.099999999999994,
                    62.04,
                    69.38,
                    21.739999999999995,
                    12.590000000000003,
                    69.55,
                    31.08,
                    26.450000000000003,
                    12.079999999999998,
                    30.86,
                    82.68,
                    64.31,
                    77.05,
                    24.519999999999996,
                    6,
                    51.38,
                    58.93,
                    19.03,
                    52.43,
                    55.08,
                    15,
                    50.8,
                    29.849999999999994,
                    50.33,
                    20.959999999999994,
                    63.53,
                    43.85,
                    22.019999999999996,
                    43.22,
                    11.079999999999998,
                    51.58,
                    30.189999999999998,
                    24.409999999999997,
                    52,
                    78.34,
                    10.329999999999998,
                    8.799999999999997,
                    63.22,
                    31.08,
                    76.68,
                    45.42,
                    71.88,
                    63.65,
                    17.519999999999996,
                    5.930000000000007,
                    19.650000000000006,
                    10.900000000000006,
                    64.89,
                    81.45,
                    33.72,
                    14.079999999999998,
                    60.31,
                    75.89,
                    43.8,
                    14.069999999999993,
                    51.61,
                    40.89,
                    17.150000000000006,
                    9.459999999999994,
                    9.459999999999994,
                    72.61,
                    84.57,
                    47.35,
                    59.3,
                    86.28,
                    94.1,
                    97.12,
                    60.77,
                    19.36,
                    19.36,
                    69.4,
                    21.189999999999998,
                    19.930000000000007,
                    83.73,
                    88.26,
                    31.400000000000006,
                    10.030000000000001,
                    17.83,
                    22.319999999999993,
                    22.319999999999993,
                    89.72,
                    95.48,
                    79.33,
                    16.22,
                    14.689999999999998,
                    6.900000000000006,
                    2.7900000000000063,
                    34.16,
                    19.25,
                    80.44,
                    82.31,
                    33.370000000000005,
                    71.58,
                    23.629999999999995,
                    59.24,
                    62.41,
                    72.13,
                    92.41,
                    57.39,
                    83.06,
                    62.72,
                    67.28999999999999,
                    82.41,
                    86.09,
                    98.99,
                    99.36,
                    54.91,
                    43.73,
                    43.73,
                    78.59,
                    85.88,
                    27.010000000000005,
                    76.12,
                    50.59,
                    78.2,
                    89.38,
                    95.92,
                    60.29,
                    80.05,
                    84.02,
                    87.7,
                    96.27,
                    96.59,
                    27.200000000000003,
                    80.73,
                    88.02,
                    51.97,
                    62.99,
                    91.22,
                    32.599999999999994,
                    57.46,
                    57.46,
                    57.46,
                    41.24,
                    7.8799999999999955,
                    2.5799999999999983,
                    2.260000000000005,
                    0.5900000000000034,
                    37.06,
                    72.68,
                    53.69,
                    23.819999999999993,
                    11.790000000000006,
                    25.47,
                    66.75,
                    10,
                    27.930000000000007,
                    16.78,
                    62.13,
                    34.53,
                    65.33,
                    26.620000000000005,
                    22.019999999999996,
                    15.069999999999993,
                    11.450000000000003,
                    3.3700000000000045,
                    2.3700000000000045
                  ],
                  "yaxis": "y2"
                },
                {
                  "line": {
                    "color": "red",
                    "dash": "dot",
                    "width": 4
                  },
                  "mode": "lines",
                  "name": "ifr2=5",
                  "type": "scatter",
                  "x": [
                    "2023-02-01T00:00:00",
                    "2023-02-02T00:00:00",
                    "2023-02-03T00:00:00",
                    "2023-02-06T00:00:00",
                    "2023-02-07T00:00:00",
                    "2023-02-08T00:00:00",
                    "2023-02-09T00:00:00",
                    "2023-02-10T00:00:00",
                    "2023-02-13T00:00:00",
                    "2023-02-14T00:00:00",
                    "2023-02-15T00:00:00",
                    "2023-02-16T00:00:00",
                    "2023-02-17T00:00:00",
                    "2023-02-22T00:00:00",
                    "2023-02-23T00:00:00",
                    "2023-02-24T00:00:00",
                    "2023-02-27T00:00:00",
                    "2023-02-28T00:00:00",
                    "2023-03-01T00:00:00",
                    "2023-03-02T00:00:00",
                    "2023-03-03T00:00:00",
                    "2023-03-06T00:00:00",
                    "2023-03-07T00:00:00",
                    "2023-03-08T00:00:00",
                    "2023-03-09T00:00:00",
                    "2023-03-10T00:00:00",
                    "2023-03-13T00:00:00",
                    "2023-03-14T00:00:00",
                    "2023-03-15T00:00:00",
                    "2023-03-16T00:00:00",
                    "2023-03-17T00:00:00",
                    "2023-03-20T00:00:00",
                    "2023-03-21T00:00:00",
                    "2023-03-22T00:00:00",
                    "2023-03-23T00:00:00",
                    "2023-03-24T00:00:00",
                    "2023-03-27T00:00:00",
                    "2023-03-28T00:00:00",
                    "2023-03-29T00:00:00",
                    "2023-03-30T00:00:00",
                    "2023-03-31T00:00:00",
                    "2023-04-03T00:00:00",
                    "2023-04-04T00:00:00",
                    "2023-04-05T00:00:00",
                    "2023-04-06T00:00:00",
                    "2023-04-10T00:00:00",
                    "2023-04-11T00:00:00",
                    "2023-04-12T00:00:00",
                    "2023-04-13T00:00:00",
                    "2023-04-14T00:00:00",
                    "2023-04-17T00:00:00",
                    "2023-04-18T00:00:00",
                    "2023-04-19T00:00:00",
                    "2023-04-20T00:00:00",
                    "2023-04-24T00:00:00",
                    "2023-04-25T00:00:00",
                    "2023-04-26T00:00:00",
                    "2023-04-27T00:00:00",
                    "2023-04-28T00:00:00",
                    "2023-05-02T00:00:00",
                    "2023-05-03T00:00:00",
                    "2023-05-04T00:00:00",
                    "2023-05-05T00:00:00",
                    "2023-05-08T00:00:00",
                    "2023-05-09T00:00:00",
                    "2023-05-10T00:00:00",
                    "2023-05-11T00:00:00",
                    "2023-05-12T00:00:00",
                    "2023-05-15T00:00:00",
                    "2023-05-16T00:00:00",
                    "2023-05-17T00:00:00",
                    "2023-05-18T00:00:00",
                    "2023-05-19T00:00:00",
                    "2023-05-22T00:00:00",
                    "2023-05-23T00:00:00",
                    "2023-05-24T00:00:00",
                    "2023-05-25T00:00:00",
                    "2023-05-26T00:00:00",
                    "2023-05-29T00:00:00",
                    "2023-05-30T00:00:00",
                    "2023-05-31T00:00:00",
                    "2023-06-01T00:00:00",
                    "2023-06-02T00:00:00",
                    "2023-06-05T00:00:00",
                    "2023-06-06T00:00:00",
                    "2023-06-07T00:00:00",
                    "2023-06-09T00:00:00",
                    "2023-06-12T00:00:00",
                    "2023-06-13T00:00:00",
                    "2023-06-14T00:00:00",
                    "2023-06-15T00:00:00",
                    "2023-06-16T00:00:00",
                    "2023-06-19T00:00:00",
                    "2023-06-20T00:00:00",
                    "2023-06-21T00:00:00",
                    "2023-06-22T00:00:00",
                    "2023-06-23T00:00:00",
                    "2023-06-26T00:00:00",
                    "2023-06-27T00:00:00",
                    "2023-06-28T00:00:00",
                    "2023-06-29T00:00:00",
                    "2023-06-30T00:00:00",
                    "2023-07-03T00:00:00",
                    "2023-07-04T00:00:00",
                    "2023-07-05T00:00:00",
                    "2023-07-06T00:00:00",
                    "2023-07-07T00:00:00",
                    "2023-07-10T00:00:00",
                    "2023-07-11T00:00:00",
                    "2023-07-12T00:00:00",
                    "2023-07-13T00:00:00",
                    "2023-07-14T00:00:00",
                    "2023-07-17T00:00:00",
                    "2023-07-18T00:00:00",
                    "2023-07-19T00:00:00",
                    "2023-07-20T00:00:00",
                    "2023-07-21T00:00:00",
                    "2023-07-24T00:00:00",
                    "2023-07-25T00:00:00",
                    "2023-07-26T00:00:00",
                    "2023-07-27T00:00:00",
                    "2023-07-28T00:00:00",
                    "2023-07-31T00:00:00",
                    "2023-08-01T00:00:00",
                    "2023-08-02T00:00:00",
                    "2023-08-03T00:00:00",
                    "2023-08-04T00:00:00",
                    "2023-08-07T00:00:00",
                    "2023-08-08T00:00:00",
                    "2023-08-09T00:00:00",
                    "2023-08-10T00:00:00",
                    "2023-08-11T00:00:00",
                    "2023-08-14T00:00:00",
                    "2023-08-15T00:00:00",
                    "2023-08-16T00:00:00",
                    "2023-08-17T00:00:00",
                    "2023-08-18T00:00:00",
                    "2023-08-21T00:00:00",
                    "2023-08-22T00:00:00",
                    "2023-08-23T00:00:00",
                    "2023-08-24T00:00:00",
                    "2023-08-25T00:00:00",
                    "2023-08-28T00:00:00",
                    "2023-08-29T00:00:00",
                    "2023-08-30T00:00:00",
                    "2023-08-31T00:00:00",
                    "2023-09-01T00:00:00",
                    "2023-09-04T00:00:00",
                    "2023-09-05T00:00:00",
                    "2023-09-06T00:00:00",
                    "2023-09-08T00:00:00",
                    "2023-09-11T00:00:00",
                    "2023-09-12T00:00:00",
                    "2023-09-13T00:00:00",
                    "2023-09-14T00:00:00",
                    "2023-09-15T00:00:00",
                    "2023-09-18T00:00:00",
                    "2023-09-19T00:00:00",
                    "2023-09-20T00:00:00",
                    "2023-09-21T00:00:00",
                    "2023-09-22T00:00:00",
                    "2023-09-25T00:00:00",
                    "2023-09-26T00:00:00",
                    "2023-09-27T00:00:00",
                    "2023-09-28T00:00:00",
                    "2023-09-29T00:00:00",
                    "2023-10-02T00:00:00",
                    "2023-10-03T00:00:00",
                    "2023-10-04T00:00:00",
                    "2023-10-05T00:00:00",
                    "2023-10-06T00:00:00",
                    "2023-10-09T00:00:00",
                    "2023-10-10T00:00:00",
                    "2023-10-11T00:00:00",
                    "2023-10-13T00:00:00",
                    "2023-10-16T00:00:00",
                    "2023-10-17T00:00:00",
                    "2023-10-18T00:00:00",
                    "2023-10-19T00:00:00",
                    "2023-10-20T00:00:00",
                    "2023-10-23T00:00:00",
                    "2023-10-24T00:00:00",
                    "2023-10-25T00:00:00",
                    "2023-10-26T00:00:00",
                    "2023-10-27T00:00:00",
                    "2023-10-30T00:00:00",
                    "2023-10-31T00:00:00",
                    "2023-11-01T00:00:00",
                    "2023-11-03T00:00:00",
                    "2023-11-06T00:00:00",
                    "2023-11-07T00:00:00",
                    "2023-11-08T00:00:00",
                    "2023-11-09T00:00:00",
                    "2023-11-10T00:00:00",
                    "2023-11-13T00:00:00",
                    "2023-11-14T00:00:00",
                    "2023-11-16T00:00:00",
                    "2023-11-17T00:00:00",
                    "2023-11-20T00:00:00",
                    "2023-11-21T00:00:00",
                    "2023-11-22T00:00:00",
                    "2023-11-23T00:00:00",
                    "2023-11-24T00:00:00",
                    "2023-11-27T00:00:00",
                    "2023-11-28T00:00:00",
                    "2023-11-29T00:00:00",
                    "2023-11-30T00:00:00",
                    "2023-12-01T00:00:00",
                    "2023-12-04T00:00:00",
                    "2023-12-05T00:00:00",
                    "2023-12-06T00:00:00",
                    "2023-12-07T00:00:00",
                    "2023-12-08T00:00:00",
                    "2023-12-11T00:00:00",
                    "2023-12-12T00:00:00",
                    "2023-12-13T00:00:00",
                    "2023-12-14T00:00:00",
                    "2023-12-15T00:00:00",
                    "2023-12-18T00:00:00",
                    "2023-12-19T00:00:00",
                    "2023-12-20T00:00:00",
                    "2023-12-21T00:00:00",
                    "2023-12-22T00:00:00",
                    "2023-12-26T00:00:00",
                    "2023-12-27T00:00:00",
                    "2023-12-28T00:00:00",
                    "2024-01-02T00:00:00",
                    "2024-01-03T00:00:00",
                    "2024-01-04T00:00:00",
                    "2024-01-05T00:00:00",
                    "2024-01-08T00:00:00",
                    "2024-01-09T00:00:00",
                    "2024-01-10T00:00:00",
                    "2024-01-11T00:00:00",
                    "2024-01-12T00:00:00",
                    "2024-01-15T00:00:00",
                    "2024-01-16T00:00:00",
                    "2024-01-17T00:00:00",
                    "2024-01-18T00:00:00",
                    "2024-01-19T00:00:00",
                    "2024-01-22T00:00:00",
                    "2024-01-23T00:00:00",
                    "2024-01-24T00:00:00",
                    "2024-01-25T00:00:00",
                    "2024-01-26T00:00:00",
                    "2024-01-29T00:00:00",
                    "2024-01-30T00:00:00",
                    "2024-01-31T00:00:00"
                  ],
                  "xaxis": "x2",
                  "y": [
                    5,
                    5,
                    5,
                    5,
                    5,
                    5,
                    5,
                    5,
                    5,
                    5,
                    5,
                    5,
                    5,
                    5,
                    5,
                    5,
                    5,
                    5,
                    5,
                    5,
                    5,
                    5,
                    5,
                    5,
                    5,
                    5,
                    5,
                    5,
                    5,
                    5,
                    5,
                    5,
                    5,
                    5,
                    5,
                    5,
                    5,
                    5,
                    5,
                    5,
                    5,
                    5,
                    5,
                    5,
                    5,
                    5,
                    5,
                    5,
                    5,
                    5,
                    5,
                    5,
                    5,
                    5,
                    5,
                    5,
                    5,
                    5,
                    5,
                    5,
                    5,
                    5,
                    5,
                    5,
                    5,
                    5,
                    5,
                    5,
                    5,
                    5,
                    5,
                    5,
                    5,
                    5,
                    5,
                    5,
                    5,
                    5,
                    5,
                    5,
                    5,
                    5,
                    5,
                    5,
                    5,
                    5,
                    5,
                    5,
                    5,
                    5,
                    5,
                    5,
                    5,
                    5,
                    5,
                    5,
                    5,
                    5,
                    5,
                    5,
                    5,
                    5,
                    5,
                    5,
                    5,
                    5,
                    5,
                    5,
                    5,
                    5,
                    5,
                    5,
                    5,
                    5,
                    5,
                    5,
                    5,
                    5,
                    5,
                    5,
                    5,
                    5,
                    5,
                    5,
                    5,
                    5,
                    5,
                    5,
                    5,
                    5,
                    5,
                    5,
                    5,
                    5,
                    5,
                    5,
                    5,
                    5,
                    5,
                    5,
                    5,
                    5,
                    5,
                    5,
                    5,
                    5,
                    5,
                    5,
                    5,
                    5,
                    5,
                    5,
                    5,
                    5,
                    5,
                    5,
                    5,
                    5,
                    5,
                    5,
                    5,
                    5,
                    5,
                    5,
                    5,
                    5,
                    5,
                    5,
                    5,
                    5,
                    5,
                    5,
                    5,
                    5,
                    5,
                    5,
                    5,
                    5,
                    5,
                    5,
                    5,
                    5,
                    5,
                    5,
                    5,
                    5,
                    5,
                    5,
                    5,
                    5,
                    5,
                    5,
                    5,
                    5,
                    5,
                    5,
                    5,
                    5,
                    5,
                    5,
                    5,
                    5,
                    5,
                    5,
                    5,
                    5,
                    5,
                    5,
                    5,
                    5,
                    5,
                    5,
                    5,
                    5,
                    5,
                    5,
                    5,
                    5,
                    5,
                    5,
                    5,
                    5,
                    5,
                    5,
                    5,
                    5,
                    5,
                    5,
                    5,
                    5,
                    5,
                    5,
                    5,
                    5,
                    5,
                    5,
                    5,
                    5,
                    5,
                    5,
                    5,
                    5,
                    5,
                    5,
                    5,
                    5,
                    5,
                    5
                  ],
                  "yaxis": "y2"
                },
                {
                  "mode": "lines",
                  "name": "posição",
                  "type": "scatter",
                  "x": [
                    "2023-02-01T00:00:00",
                    "2023-02-02T00:00:00",
                    "2023-02-03T00:00:00",
                    "2023-02-06T00:00:00",
                    "2023-02-07T00:00:00",
                    "2023-02-08T00:00:00",
                    "2023-02-09T00:00:00",
                    "2023-02-10T00:00:00",
                    "2023-02-13T00:00:00",
                    "2023-02-14T00:00:00",
                    "2023-02-15T00:00:00",
                    "2023-02-16T00:00:00",
                    "2023-02-17T00:00:00",
                    "2023-02-22T00:00:00",
                    "2023-02-23T00:00:00",
                    "2023-02-24T00:00:00",
                    "2023-02-27T00:00:00",
                    "2023-02-28T00:00:00",
                    "2023-03-01T00:00:00",
                    "2023-03-02T00:00:00",
                    "2023-03-03T00:00:00",
                    "2023-03-06T00:00:00",
                    "2023-03-07T00:00:00",
                    "2023-03-08T00:00:00",
                    "2023-03-09T00:00:00",
                    "2023-03-10T00:00:00",
                    "2023-03-13T00:00:00",
                    "2023-03-14T00:00:00",
                    "2023-03-15T00:00:00",
                    "2023-03-16T00:00:00",
                    "2023-03-17T00:00:00",
                    "2023-03-20T00:00:00",
                    "2023-03-21T00:00:00",
                    "2023-03-22T00:00:00",
                    "2023-03-23T00:00:00",
                    "2023-03-24T00:00:00",
                    "2023-03-27T00:00:00",
                    "2023-03-28T00:00:00",
                    "2023-03-29T00:00:00",
                    "2023-03-30T00:00:00",
                    "2023-03-31T00:00:00",
                    "2023-04-03T00:00:00",
                    "2023-04-04T00:00:00",
                    "2023-04-05T00:00:00",
                    "2023-04-06T00:00:00",
                    "2023-04-10T00:00:00",
                    "2023-04-11T00:00:00",
                    "2023-04-12T00:00:00",
                    "2023-04-13T00:00:00",
                    "2023-04-14T00:00:00",
                    "2023-04-17T00:00:00",
                    "2023-04-18T00:00:00",
                    "2023-04-19T00:00:00",
                    "2023-04-20T00:00:00",
                    "2023-04-24T00:00:00",
                    "2023-04-25T00:00:00",
                    "2023-04-26T00:00:00",
                    "2023-04-27T00:00:00",
                    "2023-04-28T00:00:00",
                    "2023-05-02T00:00:00",
                    "2023-05-03T00:00:00",
                    "2023-05-04T00:00:00",
                    "2023-05-05T00:00:00",
                    "2023-05-08T00:00:00",
                    "2023-05-09T00:00:00",
                    "2023-05-10T00:00:00",
                    "2023-05-11T00:00:00",
                    "2023-05-12T00:00:00",
                    "2023-05-15T00:00:00",
                    "2023-05-16T00:00:00",
                    "2023-05-17T00:00:00",
                    "2023-05-18T00:00:00",
                    "2023-05-19T00:00:00",
                    "2023-05-22T00:00:00",
                    "2023-05-23T00:00:00",
                    "2023-05-24T00:00:00",
                    "2023-05-25T00:00:00",
                    "2023-05-26T00:00:00",
                    "2023-05-29T00:00:00",
                    "2023-05-30T00:00:00",
                    "2023-05-31T00:00:00",
                    "2023-06-01T00:00:00",
                    "2023-06-02T00:00:00",
                    "2023-06-05T00:00:00",
                    "2023-06-06T00:00:00",
                    "2023-06-07T00:00:00",
                    "2023-06-09T00:00:00",
                    "2023-06-12T00:00:00",
                    "2023-06-13T00:00:00",
                    "2023-06-14T00:00:00",
                    "2023-06-15T00:00:00",
                    "2023-06-16T00:00:00",
                    "2023-06-19T00:00:00",
                    "2023-06-20T00:00:00",
                    "2023-06-21T00:00:00",
                    "2023-06-22T00:00:00",
                    "2023-06-23T00:00:00",
                    "2023-06-26T00:00:00",
                    "2023-06-27T00:00:00",
                    "2023-06-28T00:00:00",
                    "2023-06-29T00:00:00",
                    "2023-06-30T00:00:00",
                    "2023-07-03T00:00:00",
                    "2023-07-04T00:00:00",
                    "2023-07-05T00:00:00",
                    "2023-07-06T00:00:00",
                    "2023-07-07T00:00:00",
                    "2023-07-10T00:00:00",
                    "2023-07-11T00:00:00",
                    "2023-07-12T00:00:00",
                    "2023-07-13T00:00:00",
                    "2023-07-14T00:00:00",
                    "2023-07-17T00:00:00",
                    "2023-07-18T00:00:00",
                    "2023-07-19T00:00:00",
                    "2023-07-20T00:00:00",
                    "2023-07-21T00:00:00",
                    "2023-07-24T00:00:00",
                    "2023-07-25T00:00:00",
                    "2023-07-26T00:00:00",
                    "2023-07-27T00:00:00",
                    "2023-07-28T00:00:00",
                    "2023-07-31T00:00:00",
                    "2023-08-01T00:00:00",
                    "2023-08-02T00:00:00",
                    "2023-08-03T00:00:00",
                    "2023-08-04T00:00:00",
                    "2023-08-07T00:00:00",
                    "2023-08-08T00:00:00",
                    "2023-08-09T00:00:00",
                    "2023-08-10T00:00:00",
                    "2023-08-11T00:00:00",
                    "2023-08-14T00:00:00",
                    "2023-08-15T00:00:00",
                    "2023-08-16T00:00:00",
                    "2023-08-17T00:00:00",
                    "2023-08-18T00:00:00",
                    "2023-08-21T00:00:00",
                    "2023-08-22T00:00:00",
                    "2023-08-23T00:00:00",
                    "2023-08-24T00:00:00",
                    "2023-08-25T00:00:00",
                    "2023-08-28T00:00:00",
                    "2023-08-29T00:00:00",
                    "2023-08-30T00:00:00",
                    "2023-08-31T00:00:00",
                    "2023-09-01T00:00:00",
                    "2023-09-04T00:00:00",
                    "2023-09-05T00:00:00",
                    "2023-09-06T00:00:00",
                    "2023-09-08T00:00:00",
                    "2023-09-11T00:00:00",
                    "2023-09-12T00:00:00",
                    "2023-09-13T00:00:00",
                    "2023-09-14T00:00:00",
                    "2023-09-15T00:00:00",
                    "2023-09-18T00:00:00",
                    "2023-09-19T00:00:00",
                    "2023-09-20T00:00:00",
                    "2023-09-21T00:00:00",
                    "2023-09-22T00:00:00",
                    "2023-09-25T00:00:00",
                    "2023-09-26T00:00:00",
                    "2023-09-27T00:00:00",
                    "2023-09-28T00:00:00",
                    "2023-09-29T00:00:00",
                    "2023-10-02T00:00:00",
                    "2023-10-03T00:00:00",
                    "2023-10-04T00:00:00",
                    "2023-10-05T00:00:00",
                    "2023-10-06T00:00:00",
                    "2023-10-09T00:00:00",
                    "2023-10-10T00:00:00",
                    "2023-10-11T00:00:00",
                    "2023-10-13T00:00:00",
                    "2023-10-16T00:00:00",
                    "2023-10-17T00:00:00",
                    "2023-10-18T00:00:00",
                    "2023-10-19T00:00:00",
                    "2023-10-20T00:00:00",
                    "2023-10-23T00:00:00",
                    "2023-10-24T00:00:00",
                    "2023-10-25T00:00:00",
                    "2023-10-26T00:00:00",
                    "2023-10-27T00:00:00",
                    "2023-10-30T00:00:00",
                    "2023-10-31T00:00:00",
                    "2023-11-01T00:00:00",
                    "2023-11-03T00:00:00",
                    "2023-11-06T00:00:00",
                    "2023-11-07T00:00:00",
                    "2023-11-08T00:00:00",
                    "2023-11-09T00:00:00",
                    "2023-11-10T00:00:00",
                    "2023-11-13T00:00:00",
                    "2023-11-14T00:00:00",
                    "2023-11-16T00:00:00",
                    "2023-11-17T00:00:00",
                    "2023-11-20T00:00:00",
                    "2023-11-21T00:00:00",
                    "2023-11-22T00:00:00",
                    "2023-11-23T00:00:00",
                    "2023-11-24T00:00:00",
                    "2023-11-27T00:00:00",
                    "2023-11-28T00:00:00",
                    "2023-11-29T00:00:00",
                    "2023-11-30T00:00:00",
                    "2023-12-01T00:00:00",
                    "2023-12-04T00:00:00",
                    "2023-12-05T00:00:00",
                    "2023-12-06T00:00:00",
                    "2023-12-07T00:00:00",
                    "2023-12-08T00:00:00",
                    "2023-12-11T00:00:00",
                    "2023-12-12T00:00:00",
                    "2023-12-13T00:00:00",
                    "2023-12-14T00:00:00",
                    "2023-12-15T00:00:00",
                    "2023-12-18T00:00:00",
                    "2023-12-19T00:00:00",
                    "2023-12-20T00:00:00",
                    "2023-12-21T00:00:00",
                    "2023-12-22T00:00:00",
                    "2023-12-26T00:00:00",
                    "2023-12-27T00:00:00",
                    "2023-12-28T00:00:00",
                    "2024-01-02T00:00:00",
                    "2024-01-03T00:00:00",
                    "2024-01-04T00:00:00",
                    "2024-01-05T00:00:00",
                    "2024-01-08T00:00:00",
                    "2024-01-09T00:00:00",
                    "2024-01-10T00:00:00",
                    "2024-01-11T00:00:00",
                    "2024-01-12T00:00:00",
                    "2024-01-15T00:00:00",
                    "2024-01-16T00:00:00",
                    "2024-01-17T00:00:00",
                    "2024-01-18T00:00:00",
                    "2024-01-19T00:00:00",
                    "2024-01-22T00:00:00",
                    "2024-01-23T00:00:00",
                    "2024-01-24T00:00:00",
                    "2024-01-25T00:00:00",
                    "2024-01-26T00:00:00",
                    "2024-01-29T00:00:00",
                    "2024-01-30T00:00:00",
                    "2024-01-31T00:00:00"
                  ],
                  "xaxis": "x3",
                  "y": [
                    0,
                    0,
                    0,
                    0,
                    0,
                    0,
                    0,
                    0,
                    0,
                    0,
                    0,
                    0,
                    0,
                    0,
                    0,
                    0,
                    0,
                    0,
                    0,
                    0,
                    1,
                    1,
                    0,
                    0,
                    0,
                    0,
                    0,
                    0,
                    0,
                    0,
                    0,
                    0,
                    0,
                    0,
                    0,
                    0,
                    0,
                    0,
                    0,
                    0,
                    0,
                    0,
                    0,
                    0,
                    0,
                    0,
                    0,
                    0,
                    0,
                    0,
                    0,
                    0,
                    0,
                    0,
                    0,
                    0,
                    0,
                    0,
                    0,
                    0,
                    0,
                    0,
                    0,
                    0,
                    0,
                    0,
                    0,
                    0,
                    0,
                    0,
                    0,
                    0,
                    0,
                    0,
                    0,
                    0,
                    0,
                    0,
                    0,
                    0,
                    0,
                    0,
                    0,
                    0,
                    0,
                    0,
                    0,
                    0,
                    0,
                    0,
                    0,
                    0,
                    0,
                    0,
                    0,
                    0,
                    0,
                    0,
                    0,
                    0,
                    0,
                    0,
                    0,
                    0,
                    0,
                    0,
                    0,
                    0,
                    0,
                    0,
                    0,
                    0,
                    0,
                    0,
                    0,
                    0,
                    0,
                    0,
                    0,
                    0,
                    0,
                    0,
                    0,
                    0,
                    0,
                    0,
                    0,
                    0,
                    0,
                    0,
                    0,
                    0,
                    0,
                    0,
                    0,
                    0,
                    0,
                    0,
                    0,
                    0,
                    0,
                    0,
                    0,
                    0,
                    0,
                    0,
                    0,
                    0,
                    0,
                    0,
                    0,
                    0,
                    0,
                    0,
                    0,
                    0,
                    0,
                    0,
                    0,
                    0,
                    0,
                    0,
                    0,
                    0,
                    0,
                    0,
                    0,
                    0,
                    0,
                    0,
                    0,
                    0,
                    0,
                    0,
                    0,
                    0,
                    0,
                    0,
                    1,
                    1,
                    1,
                    0,
                    0,
                    0,
                    0,
                    0,
                    0,
                    0,
                    0,
                    0,
                    0,
                    0,
                    0,
                    0,
                    0,
                    0,
                    0,
                    0,
                    0,
                    0,
                    0,
                    0,
                    0,
                    0,
                    0,
                    0,
                    0,
                    0,
                    0,
                    0,
                    0,
                    0,
                    0,
                    0,
                    0,
                    0,
                    0,
                    0,
                    0,
                    0,
                    0,
                    0,
                    0,
                    0,
                    0,
                    0,
                    0,
                    1,
                    1,
                    1,
                    1,
                    0,
                    0,
                    0,
                    0,
                    0,
                    0,
                    0,
                    0,
                    0,
                    0,
                    0,
                    0,
                    0,
                    0,
                    0,
                    0,
                    0
                  ],
                  "yaxis": "y3"
                }
              ],
              "layout": {
                "template": {
                  "data": {
                    "bar": [
                      {
                        "error_x": {
                          "color": "#2a3f5f"
                        },
                        "error_y": {
                          "color": "#2a3f5f"
                        },
                        "marker": {
                          "line": {
                            "color": "#E5ECF6",
                            "width": 0.5
                          },
                          "pattern": {
                            "fillmode": "overlay",
                            "size": 10,
                            "solidity": 0.2
                          }
                        },
                        "type": "bar"
                      }
                    ],
                    "barpolar": [
                      {
                        "marker": {
                          "line": {
                            "color": "#E5ECF6",
                            "width": 0.5
                          },
                          "pattern": {
                            "fillmode": "overlay",
                            "size": 10,
                            "solidity": 0.2
                          }
                        },
                        "type": "barpolar"
                      }
                    ],
                    "carpet": [
                      {
                        "aaxis": {
                          "endlinecolor": "#2a3f5f",
                          "gridcolor": "white",
                          "linecolor": "white",
                          "minorgridcolor": "white",
                          "startlinecolor": "#2a3f5f"
                        },
                        "baxis": {
                          "endlinecolor": "#2a3f5f",
                          "gridcolor": "white",
                          "linecolor": "white",
                          "minorgridcolor": "white",
                          "startlinecolor": "#2a3f5f"
                        },
                        "type": "carpet"
                      }
                    ],
                    "choropleth": [
                      {
                        "colorbar": {
                          "outlinewidth": 0,
                          "ticks": ""
                        },
                        "type": "choropleth"
                      }
                    ],
                    "contour": [
                      {
                        "colorbar": {
                          "outlinewidth": 0,
                          "ticks": ""
                        },
                        "colorscale": [
                          [
                            0,
                            "#0d0887"
                          ],
                          [
                            0.1111111111111111,
                            "#46039f"
                          ],
                          [
                            0.2222222222222222,
                            "#7201a8"
                          ],
                          [
                            0.3333333333333333,
                            "#9c179e"
                          ],
                          [
                            0.4444444444444444,
                            "#bd3786"
                          ],
                          [
                            0.5555555555555556,
                            "#d8576b"
                          ],
                          [
                            0.6666666666666666,
                            "#ed7953"
                          ],
                          [
                            0.7777777777777778,
                            "#fb9f3a"
                          ],
                          [
                            0.8888888888888888,
                            "#fdca26"
                          ],
                          [
                            1,
                            "#f0f921"
                          ]
                        ],
                        "type": "contour"
                      }
                    ],
                    "contourcarpet": [
                      {
                        "colorbar": {
                          "outlinewidth": 0,
                          "ticks": ""
                        },
                        "type": "contourcarpet"
                      }
                    ],
                    "heatmap": [
                      {
                        "colorbar": {
                          "outlinewidth": 0,
                          "ticks": ""
                        },
                        "colorscale": [
                          [
                            0,
                            "#0d0887"
                          ],
                          [
                            0.1111111111111111,
                            "#46039f"
                          ],
                          [
                            0.2222222222222222,
                            "#7201a8"
                          ],
                          [
                            0.3333333333333333,
                            "#9c179e"
                          ],
                          [
                            0.4444444444444444,
                            "#bd3786"
                          ],
                          [
                            0.5555555555555556,
                            "#d8576b"
                          ],
                          [
                            0.6666666666666666,
                            "#ed7953"
                          ],
                          [
                            0.7777777777777778,
                            "#fb9f3a"
                          ],
                          [
                            0.8888888888888888,
                            "#fdca26"
                          ],
                          [
                            1,
                            "#f0f921"
                          ]
                        ],
                        "type": "heatmap"
                      }
                    ],
                    "heatmapgl": [
                      {
                        "colorbar": {
                          "outlinewidth": 0,
                          "ticks": ""
                        },
                        "colorscale": [
                          [
                            0,
                            "#0d0887"
                          ],
                          [
                            0.1111111111111111,
                            "#46039f"
                          ],
                          [
                            0.2222222222222222,
                            "#7201a8"
                          ],
                          [
                            0.3333333333333333,
                            "#9c179e"
                          ],
                          [
                            0.4444444444444444,
                            "#bd3786"
                          ],
                          [
                            0.5555555555555556,
                            "#d8576b"
                          ],
                          [
                            0.6666666666666666,
                            "#ed7953"
                          ],
                          [
                            0.7777777777777778,
                            "#fb9f3a"
                          ],
                          [
                            0.8888888888888888,
                            "#fdca26"
                          ],
                          [
                            1,
                            "#f0f921"
                          ]
                        ],
                        "type": "heatmapgl"
                      }
                    ],
                    "histogram": [
                      {
                        "marker": {
                          "pattern": {
                            "fillmode": "overlay",
                            "size": 10,
                            "solidity": 0.2
                          }
                        },
                        "type": "histogram"
                      }
                    ],
                    "histogram2d": [
                      {
                        "colorbar": {
                          "outlinewidth": 0,
                          "ticks": ""
                        },
                        "colorscale": [
                          [
                            0,
                            "#0d0887"
                          ],
                          [
                            0.1111111111111111,
                            "#46039f"
                          ],
                          [
                            0.2222222222222222,
                            "#7201a8"
                          ],
                          [
                            0.3333333333333333,
                            "#9c179e"
                          ],
                          [
                            0.4444444444444444,
                            "#bd3786"
                          ],
                          [
                            0.5555555555555556,
                            "#d8576b"
                          ],
                          [
                            0.6666666666666666,
                            "#ed7953"
                          ],
                          [
                            0.7777777777777778,
                            "#fb9f3a"
                          ],
                          [
                            0.8888888888888888,
                            "#fdca26"
                          ],
                          [
                            1,
                            "#f0f921"
                          ]
                        ],
                        "type": "histogram2d"
                      }
                    ],
                    "histogram2dcontour": [
                      {
                        "colorbar": {
                          "outlinewidth": 0,
                          "ticks": ""
                        },
                        "colorscale": [
                          [
                            0,
                            "#0d0887"
                          ],
                          [
                            0.1111111111111111,
                            "#46039f"
                          ],
                          [
                            0.2222222222222222,
                            "#7201a8"
                          ],
                          [
                            0.3333333333333333,
                            "#9c179e"
                          ],
                          [
                            0.4444444444444444,
                            "#bd3786"
                          ],
                          [
                            0.5555555555555556,
                            "#d8576b"
                          ],
                          [
                            0.6666666666666666,
                            "#ed7953"
                          ],
                          [
                            0.7777777777777778,
                            "#fb9f3a"
                          ],
                          [
                            0.8888888888888888,
                            "#fdca26"
                          ],
                          [
                            1,
                            "#f0f921"
                          ]
                        ],
                        "type": "histogram2dcontour"
                      }
                    ],
                    "mesh3d": [
                      {
                        "colorbar": {
                          "outlinewidth": 0,
                          "ticks": ""
                        },
                        "type": "mesh3d"
                      }
                    ],
                    "parcoords": [
                      {
                        "line": {
                          "colorbar": {
                            "outlinewidth": 0,
                            "ticks": ""
                          }
                        },
                        "type": "parcoords"
                      }
                    ],
                    "pie": [
                      {
                        "automargin": true,
                        "type": "pie"
                      }
                    ],
                    "scatter": [
                      {
                        "fillpattern": {
                          "fillmode": "overlay",
                          "size": 10,
                          "solidity": 0.2
                        },
                        "type": "scatter"
                      }
                    ],
                    "scatter3d": [
                      {
                        "line": {
                          "colorbar": {
                            "outlinewidth": 0,
                            "ticks": ""
                          }
                        },
                        "marker": {
                          "colorbar": {
                            "outlinewidth": 0,
                            "ticks": ""
                          }
                        },
                        "type": "scatter3d"
                      }
                    ],
                    "scattercarpet": [
                      {
                        "marker": {
                          "colorbar": {
                            "outlinewidth": 0,
                            "ticks": ""
                          }
                        },
                        "type": "scattercarpet"
                      }
                    ],
                    "scattergeo": [
                      {
                        "marker": {
                          "colorbar": {
                            "outlinewidth": 0,
                            "ticks": ""
                          }
                        },
                        "type": "scattergeo"
                      }
                    ],
                    "scattergl": [
                      {
                        "marker": {
                          "colorbar": {
                            "outlinewidth": 0,
                            "ticks": ""
                          }
                        },
                        "type": "scattergl"
                      }
                    ],
                    "scattermapbox": [
                      {
                        "marker": {
                          "colorbar": {
                            "outlinewidth": 0,
                            "ticks": ""
                          }
                        },
                        "type": "scattermapbox"
                      }
                    ],
                    "scatterpolar": [
                      {
                        "marker": {
                          "colorbar": {
                            "outlinewidth": 0,
                            "ticks": ""
                          }
                        },
                        "type": "scatterpolar"
                      }
                    ],
                    "scatterpolargl": [
                      {
                        "marker": {
                          "colorbar": {
                            "outlinewidth": 0,
                            "ticks": ""
                          }
                        },
                        "type": "scatterpolargl"
                      }
                    ],
                    "scatterternary": [
                      {
                        "marker": {
                          "colorbar": {
                            "outlinewidth": 0,
                            "ticks": ""
                          }
                        },
                        "type": "scatterternary"
                      }
                    ],
                    "surface": [
                      {
                        "colorbar": {
                          "outlinewidth": 0,
                          "ticks": ""
                        },
                        "colorscale": [
                          [
                            0,
                            "#0d0887"
                          ],
                          [
                            0.1111111111111111,
                            "#46039f"
                          ],
                          [
                            0.2222222222222222,
                            "#7201a8"
                          ],
                          [
                            0.3333333333333333,
                            "#9c179e"
                          ],
                          [
                            0.4444444444444444,
                            "#bd3786"
                          ],
                          [
                            0.5555555555555556,
                            "#d8576b"
                          ],
                          [
                            0.6666666666666666,
                            "#ed7953"
                          ],
                          [
                            0.7777777777777778,
                            "#fb9f3a"
                          ],
                          [
                            0.8888888888888888,
                            "#fdca26"
                          ],
                          [
                            1,
                            "#f0f921"
                          ]
                        ],
                        "type": "surface"
                      }
                    ],
                    "table": [
                      {
                        "cells": {
                          "fill": {
                            "color": "#EBF0F8"
                          },
                          "line": {
                            "color": "white"
                          }
                        },
                        "header": {
                          "fill": {
                            "color": "#C8D4E3"
                          },
                          "line": {
                            "color": "white"
                          }
                        },
                        "type": "table"
                      }
                    ]
                  },
                  "layout": {
                    "annotationdefaults": {
                      "arrowcolor": "#2a3f5f",
                      "arrowhead": 0,
                      "arrowwidth": 1
                    },
                    "autotypenumbers": "strict",
                    "coloraxis": {
                      "colorbar": {
                        "outlinewidth": 0,
                        "ticks": ""
                      }
                    },
                    "colorscale": {
                      "diverging": [
                        [
                          0,
                          "#8e0152"
                        ],
                        [
                          0.1,
                          "#c51b7d"
                        ],
                        [
                          0.2,
                          "#de77ae"
                        ],
                        [
                          0.3,
                          "#f1b6da"
                        ],
                        [
                          0.4,
                          "#fde0ef"
                        ],
                        [
                          0.5,
                          "#f7f7f7"
                        ],
                        [
                          0.6,
                          "#e6f5d0"
                        ],
                        [
                          0.7,
                          "#b8e186"
                        ],
                        [
                          0.8,
                          "#7fbc41"
                        ],
                        [
                          0.9,
                          "#4d9221"
                        ],
                        [
                          1,
                          "#276419"
                        ]
                      ],
                      "sequential": [
                        [
                          0,
                          "#0d0887"
                        ],
                        [
                          0.1111111111111111,
                          "#46039f"
                        ],
                        [
                          0.2222222222222222,
                          "#7201a8"
                        ],
                        [
                          0.3333333333333333,
                          "#9c179e"
                        ],
                        [
                          0.4444444444444444,
                          "#bd3786"
                        ],
                        [
                          0.5555555555555556,
                          "#d8576b"
                        ],
                        [
                          0.6666666666666666,
                          "#ed7953"
                        ],
                        [
                          0.7777777777777778,
                          "#fb9f3a"
                        ],
                        [
                          0.8888888888888888,
                          "#fdca26"
                        ],
                        [
                          1,
                          "#f0f921"
                        ]
                      ],
                      "sequentialminus": [
                        [
                          0,
                          "#0d0887"
                        ],
                        [
                          0.1111111111111111,
                          "#46039f"
                        ],
                        [
                          0.2222222222222222,
                          "#7201a8"
                        ],
                        [
                          0.3333333333333333,
                          "#9c179e"
                        ],
                        [
                          0.4444444444444444,
                          "#bd3786"
                        ],
                        [
                          0.5555555555555556,
                          "#d8576b"
                        ],
                        [
                          0.6666666666666666,
                          "#ed7953"
                        ],
                        [
                          0.7777777777777778,
                          "#fb9f3a"
                        ],
                        [
                          0.8888888888888888,
                          "#fdca26"
                        ],
                        [
                          1,
                          "#f0f921"
                        ]
                      ]
                    },
                    "colorway": [
                      "#636efa",
                      "#EF553B",
                      "#00cc96",
                      "#ab63fa",
                      "#FFA15A",
                      "#19d3f3",
                      "#FF6692",
                      "#B6E880",
                      "#FF97FF",
                      "#FECB52"
                    ],
                    "font": {
                      "color": "#2a3f5f"
                    },
                    "geo": {
                      "bgcolor": "white",
                      "lakecolor": "white",
                      "landcolor": "#E5ECF6",
                      "showlakes": true,
                      "showland": true,
                      "subunitcolor": "white"
                    },
                    "hoverlabel": {
                      "align": "left"
                    },
                    "hovermode": "closest",
                    "mapbox": {
                      "style": "light"
                    },
                    "paper_bgcolor": "white",
                    "plot_bgcolor": "#E5ECF6",
                    "polar": {
                      "angularaxis": {
                        "gridcolor": "white",
                        "linecolor": "white",
                        "ticks": ""
                      },
                      "bgcolor": "#E5ECF6",
                      "radialaxis": {
                        "gridcolor": "white",
                        "linecolor": "white",
                        "ticks": ""
                      }
                    },
                    "scene": {
                      "xaxis": {
                        "backgroundcolor": "#E5ECF6",
                        "gridcolor": "white",
                        "gridwidth": 2,
                        "linecolor": "white",
                        "showbackground": true,
                        "ticks": "",
                        "zerolinecolor": "white"
                      },
                      "yaxis": {
                        "backgroundcolor": "#E5ECF6",
                        "gridcolor": "white",
                        "gridwidth": 2,
                        "linecolor": "white",
                        "showbackground": true,
                        "ticks": "",
                        "zerolinecolor": "white"
                      },
                      "zaxis": {
                        "backgroundcolor": "#E5ECF6",
                        "gridcolor": "white",
                        "gridwidth": 2,
                        "linecolor": "white",
                        "showbackground": true,
                        "ticks": "",
                        "zerolinecolor": "white"
                      }
                    },
                    "shapedefaults": {
                      "line": {
                        "color": "#2a3f5f"
                      }
                    },
                    "ternary": {
                      "aaxis": {
                        "gridcolor": "white",
                        "linecolor": "white",
                        "ticks": ""
                      },
                      "baxis": {
                        "gridcolor": "white",
                        "linecolor": "white",
                        "ticks": ""
                      },
                      "bgcolor": "#E5ECF6",
                      "caxis": {
                        "gridcolor": "white",
                        "linecolor": "white",
                        "ticks": ""
                      }
                    },
                    "title": {
                      "x": 0.05
                    },
                    "xaxis": {
                      "automargin": true,
                      "gridcolor": "white",
                      "linecolor": "white",
                      "ticks": "",
                      "title": {
                        "standoff": 15
                      },
                      "zerolinecolor": "white",
                      "zerolinewidth": 2
                    },
                    "yaxis": {
                      "automargin": true,
                      "gridcolor": "white",
                      "linecolor": "white",
                      "ticks": "",
                      "title": {
                        "standoff": 15
                      },
                      "zerolinecolor": "white",
                      "zerolinewidth": 2
                    }
                  }
                },
                "xaxis": {
                  "anchor": "y",
                  "domain": [
                    0,
                    1
                  ]
                },
                "xaxis2": {
                  "anchor": "y2",
                  "domain": [
                    0,
                    1
                  ]
                },
                "xaxis3": {
                  "anchor": "y3",
                  "domain": [
                    0,
                    1
                  ]
                },
                "yaxis": {
                  "anchor": "x",
                  "domain": [
                    0.7333333333333333,
                    1
                  ]
                },
                "yaxis2": {
                  "anchor": "x2",
                  "domain": [
                    0.36666666666666664,
                    0.6333333333333333
                  ]
                },
                "yaxis3": {
                  "anchor": "x3",
                  "domain": [
                    0,
                    0.26666666666666666
                  ]
                }
              }
            },
            "text/html": [
              "<div>                            <div id=\"2365237c-ce94-4cae-8698-7849f7d234ea\" class=\"plotly-graph-div\" style=\"height:525px; width:100%;\"></div>            <script type=\"text/javascript\">                require([\"plotly\"], function(Plotly) {                    window.PLOTLYENV=window.PLOTLYENV || {};                                    if (document.getElementById(\"2365237c-ce94-4cae-8698-7849f7d234ea\")) {                    Plotly.newPlot(                        \"2365237c-ce94-4cae-8698-7849f7d234ea\",                        [{\"name\":\"pre\\u00e7o\",\"x\":[\"2023-02-01T00:00:00\",\"2023-02-02T00:00:00\",\"2023-02-03T00:00:00\",\"2023-02-06T00:00:00\",\"2023-02-07T00:00:00\",\"2023-02-08T00:00:00\",\"2023-02-09T00:00:00\",\"2023-02-10T00:00:00\",\"2023-02-13T00:00:00\",\"2023-02-14T00:00:00\",\"2023-02-15T00:00:00\",\"2023-02-16T00:00:00\",\"2023-02-17T00:00:00\",\"2023-02-22T00:00:00\",\"2023-02-23T00:00:00\",\"2023-02-24T00:00:00\",\"2023-02-27T00:00:00\",\"2023-02-28T00:00:00\",\"2023-03-01T00:00:00\",\"2023-03-02T00:00:00\",\"2023-03-03T00:00:00\",\"2023-03-06T00:00:00\",\"2023-03-07T00:00:00\",\"2023-03-08T00:00:00\",\"2023-03-09T00:00:00\",\"2023-03-10T00:00:00\",\"2023-03-13T00:00:00\",\"2023-03-14T00:00:00\",\"2023-03-15T00:00:00\",\"2023-03-16T00:00:00\",\"2023-03-17T00:00:00\",\"2023-03-20T00:00:00\",\"2023-03-21T00:00:00\",\"2023-03-22T00:00:00\",\"2023-03-23T00:00:00\",\"2023-03-24T00:00:00\",\"2023-03-27T00:00:00\",\"2023-03-28T00:00:00\",\"2023-03-29T00:00:00\",\"2023-03-30T00:00:00\",\"2023-03-31T00:00:00\",\"2023-04-03T00:00:00\",\"2023-04-04T00:00:00\",\"2023-04-05T00:00:00\",\"2023-04-06T00:00:00\",\"2023-04-10T00:00:00\",\"2023-04-11T00:00:00\",\"2023-04-12T00:00:00\",\"2023-04-13T00:00:00\",\"2023-04-14T00:00:00\",\"2023-04-17T00:00:00\",\"2023-04-18T00:00:00\",\"2023-04-19T00:00:00\",\"2023-04-20T00:00:00\",\"2023-04-24T00:00:00\",\"2023-04-25T00:00:00\",\"2023-04-26T00:00:00\",\"2023-04-27T00:00:00\",\"2023-04-28T00:00:00\",\"2023-05-02T00:00:00\",\"2023-05-03T00:00:00\",\"2023-05-04T00:00:00\",\"2023-05-05T00:00:00\",\"2023-05-08T00:00:00\",\"2023-05-09T00:00:00\",\"2023-05-10T00:00:00\",\"2023-05-11T00:00:00\",\"2023-05-12T00:00:00\",\"2023-05-15T00:00:00\",\"2023-05-16T00:00:00\",\"2023-05-17T00:00:00\",\"2023-05-18T00:00:00\",\"2023-05-19T00:00:00\",\"2023-05-22T00:00:00\",\"2023-05-23T00:00:00\",\"2023-05-24T00:00:00\",\"2023-05-25T00:00:00\",\"2023-05-26T00:00:00\",\"2023-05-29T00:00:00\",\"2023-05-30T00:00:00\",\"2023-05-31T00:00:00\",\"2023-06-01T00:00:00\",\"2023-06-02T00:00:00\",\"2023-06-05T00:00:00\",\"2023-06-06T00:00:00\",\"2023-06-07T00:00:00\",\"2023-06-09T00:00:00\",\"2023-06-12T00:00:00\",\"2023-06-13T00:00:00\",\"2023-06-14T00:00:00\",\"2023-06-15T00:00:00\",\"2023-06-16T00:00:00\",\"2023-06-19T00:00:00\",\"2023-06-20T00:00:00\",\"2023-06-21T00:00:00\",\"2023-06-22T00:00:00\",\"2023-06-23T00:00:00\",\"2023-06-26T00:00:00\",\"2023-06-27T00:00:00\",\"2023-06-28T00:00:00\",\"2023-06-29T00:00:00\",\"2023-06-30T00:00:00\",\"2023-07-03T00:00:00\",\"2023-07-04T00:00:00\",\"2023-07-05T00:00:00\",\"2023-07-06T00:00:00\",\"2023-07-07T00:00:00\",\"2023-07-10T00:00:00\",\"2023-07-11T00:00:00\",\"2023-07-12T00:00:00\",\"2023-07-13T00:00:00\",\"2023-07-14T00:00:00\",\"2023-07-17T00:00:00\",\"2023-07-18T00:00:00\",\"2023-07-19T00:00:00\",\"2023-07-20T00:00:00\",\"2023-07-21T00:00:00\",\"2023-07-24T00:00:00\",\"2023-07-25T00:00:00\",\"2023-07-26T00:00:00\",\"2023-07-27T00:00:00\",\"2023-07-28T00:00:00\",\"2023-07-31T00:00:00\",\"2023-08-01T00:00:00\",\"2023-08-02T00:00:00\",\"2023-08-03T00:00:00\",\"2023-08-04T00:00:00\",\"2023-08-07T00:00:00\",\"2023-08-08T00:00:00\",\"2023-08-09T00:00:00\",\"2023-08-10T00:00:00\",\"2023-08-11T00:00:00\",\"2023-08-14T00:00:00\",\"2023-08-15T00:00:00\",\"2023-08-16T00:00:00\",\"2023-08-17T00:00:00\",\"2023-08-18T00:00:00\",\"2023-08-21T00:00:00\",\"2023-08-22T00:00:00\",\"2023-08-23T00:00:00\",\"2023-08-24T00:00:00\",\"2023-08-25T00:00:00\",\"2023-08-28T00:00:00\",\"2023-08-29T00:00:00\",\"2023-08-30T00:00:00\",\"2023-08-31T00:00:00\",\"2023-09-01T00:00:00\",\"2023-09-04T00:00:00\",\"2023-09-05T00:00:00\",\"2023-09-06T00:00:00\",\"2023-09-08T00:00:00\",\"2023-09-11T00:00:00\",\"2023-09-12T00:00:00\",\"2023-09-13T00:00:00\",\"2023-09-14T00:00:00\",\"2023-09-15T00:00:00\",\"2023-09-18T00:00:00\",\"2023-09-19T00:00:00\",\"2023-09-20T00:00:00\",\"2023-09-21T00:00:00\",\"2023-09-22T00:00:00\",\"2023-09-25T00:00:00\",\"2023-09-26T00:00:00\",\"2023-09-27T00:00:00\",\"2023-09-28T00:00:00\",\"2023-09-29T00:00:00\",\"2023-10-02T00:00:00\",\"2023-10-03T00:00:00\",\"2023-10-04T00:00:00\",\"2023-10-05T00:00:00\",\"2023-10-06T00:00:00\",\"2023-10-09T00:00:00\",\"2023-10-10T00:00:00\",\"2023-10-11T00:00:00\",\"2023-10-13T00:00:00\",\"2023-10-16T00:00:00\",\"2023-10-17T00:00:00\",\"2023-10-18T00:00:00\",\"2023-10-19T00:00:00\",\"2023-10-20T00:00:00\",\"2023-10-23T00:00:00\",\"2023-10-24T00:00:00\",\"2023-10-25T00:00:00\",\"2023-10-26T00:00:00\",\"2023-10-27T00:00:00\",\"2023-10-30T00:00:00\",\"2023-10-31T00:00:00\",\"2023-11-01T00:00:00\",\"2023-11-03T00:00:00\",\"2023-11-06T00:00:00\",\"2023-11-07T00:00:00\",\"2023-11-08T00:00:00\",\"2023-11-09T00:00:00\",\"2023-11-10T00:00:00\",\"2023-11-13T00:00:00\",\"2023-11-14T00:00:00\",\"2023-11-16T00:00:00\",\"2023-11-17T00:00:00\",\"2023-11-20T00:00:00\",\"2023-11-21T00:00:00\",\"2023-11-22T00:00:00\",\"2023-11-23T00:00:00\",\"2023-11-24T00:00:00\",\"2023-11-27T00:00:00\",\"2023-11-28T00:00:00\",\"2023-11-29T00:00:00\",\"2023-11-30T00:00:00\",\"2023-12-01T00:00:00\",\"2023-12-04T00:00:00\",\"2023-12-05T00:00:00\",\"2023-12-06T00:00:00\",\"2023-12-07T00:00:00\",\"2023-12-08T00:00:00\",\"2023-12-11T00:00:00\",\"2023-12-12T00:00:00\",\"2023-12-13T00:00:00\",\"2023-12-14T00:00:00\",\"2023-12-15T00:00:00\",\"2023-12-18T00:00:00\",\"2023-12-19T00:00:00\",\"2023-12-20T00:00:00\",\"2023-12-21T00:00:00\",\"2023-12-22T00:00:00\",\"2023-12-26T00:00:00\",\"2023-12-27T00:00:00\",\"2023-12-28T00:00:00\",\"2024-01-02T00:00:00\",\"2024-01-03T00:00:00\",\"2024-01-04T00:00:00\",\"2024-01-05T00:00:00\",\"2024-01-08T00:00:00\",\"2024-01-09T00:00:00\",\"2024-01-10T00:00:00\",\"2024-01-11T00:00:00\",\"2024-01-12T00:00:00\",\"2024-01-15T00:00:00\",\"2024-01-16T00:00:00\",\"2024-01-17T00:00:00\",\"2024-01-18T00:00:00\",\"2024-01-19T00:00:00\",\"2024-01-22T00:00:00\",\"2024-01-23T00:00:00\",\"2024-01-24T00:00:00\",\"2024-01-25T00:00:00\",\"2024-01-26T00:00:00\",\"2024-01-29T00:00:00\",\"2024-01-30T00:00:00\",\"2024-01-31T00:00:00\"],\"y\":[11.506073951721191,11.45686149597168,11.072997093200684,11.20095157623291,11.082839012145996,11.17142391204834,10.935198783874512,11.053311347961426,11.072997093200684,10.885986328125,10.945042610168457,10.905671119689941,10.787559509277344,10.787559509277344,10.8466157913208,10.8466157913208,10.807244300842285,10.817087173461914,10.728503227233887,10.590706825256348,10.610391616821289,10.797402381896973,10.876143455505371,11.437174797058105,11.525758743286133,11.368276596069336,11.614343643188477,11.545443534851074,11.614343643188477,11.722612380981445,11.732454299926758,11.535602569580078,11.584815979003906,11.8997802734375,11.387961387634277,11.624185562133789,11.702927589416504,11.92930793762207,11.683241844177246,12.25411605834961,12.598609924316406,12.441126823425293,12.500182151794434,12.480498313903809,12.62813663482666,12.647823333740234,12.756092071533203,12.98247241973877,13.307281494140625,12.84467601776123,12.8742036819458,12.795462608337402,12.736406326293945,12.831705093383789,12.79222297668457,12.94028091430664,13.048856735229492,13.147562026977539,13.394325256347656,13.502902030944824,13.522643089294434,13.335103034973145,13.700312614440918,13.581866264343262,13.690442085266113,13.571995735168457,13.473289489746094,13.32523250579834,13.473289489746094,13.058727264404297,13.34497356414795,13.611477851867676,13.710183143615723,13.542384147644043,13.571995735168457,13.374585151672363,13.542384147644043,13.502902030944824,13.404196739196777,13.591736793518066,13.394325256347656,13.680571556091309,13.966816902160645,13.93720531463623,14.105005264282227,13.877983093261719,14.065523147583008,14.105005264282227,13.996429443359375,13.907594680786133,14.026041030883789,13.877983093261719,13.996429443359375,14.026041030883789,13.858241081237793,13.76940631866455,13.966816902160645,13.779276847839355,13.749665260314941,13.631218910217285,13.6608304977417,13.868112564086914,13.828630447387695,13.877983093261719,13.729924201965332,13.394325256347656,13.601607322692871,13.64108943939209,13.374585151672363,13.512771606445312,13.522643089294434,13.285750389099121,13.404196739196777,13.305490493774414,13.354843139648438,13.236396789550781,13.354843139648438,13.305490493774414,13.226526260375977,13.256138801574707,13.098210334777832,13.187044143676758,13.117950439453125,13.098210334777832,13.12782096862793,13.17717456817627,12.881057739257812,12.851446151733398,12.999504089355469,12.871187210083008,13.117950439453125,12.989633560180664,13.13769245147705,13.117950439453125,12.890928268432617,12.584941864013672,12.62442398071289,12.515848159790039,12.703388214111328,12.841575622558594,12.634294509887695,12.387530326843262,12.634294509887695,12.782352447509766,12.6441650390625,12.29869556427002,12.496106147766113,12.436883926391602,12.239472389221191,12.101284980773926,12.101284980773926,12.27895450592041,12.377659797668457,12.288825035095215,12.318436622619629,12.44675350189209,12.57507038116455,12.693516731262207,12.62442398071289,12.42701244354248,12.42701244354248,12.545459747314453,12.328307151794434,12.318436622619629,12.6441650390625,12.723129272460938,12.4664945602417,12.042061805725098,12.071672439575195,12.081543922424316,12.081543922424316,12.377659797668457,12.594812393188477,12.555330276489258,12.101284980773926,12.071672439575195,11.894003868103027,11.647239685058594,11.74594497680664,11.627498626708984,12.051932334899902,12.081543922424316,11.854521751403809,12.11115550994873,11.657111167907715,11.953226089477539,11.979999542236328,12.039999961853027,12.350000381469727,12.220000267028809,12.479999542236328,12.40999984741211,12.430000305175781,12.5,12.520000457763672,13.130000114440918,13.319999694824219,13.109999656677246,13.050000190734863,13.050000190734863,13.170000076293945,13.220000267028809,13.0600004196167,13.300000190734863,13.210000038146973,13.380000114440918,13.539999961853027,13.789999961853027,13.670000076293945,13.829999923706055,13.869999885559082,13.899999618530273,14.050000190734863,14.0600004196167,13.90999984741211,14.199999809265137,14.319999694824219,14.210000038146973,14.25,14.529999732971191,14.199999809265137,14.350000381469727,14.350000381469727,14.350000381469727,14.329999923706055,14.180000305175781,13.989999771118164,13.970000267028809,13.739999771118164,13.829999923706055,13.989999771118164,13.9399995803833,13.819999694824219,13.710000038146973,13.729999542236328,13.8100004196167,13.399999618530273,13.460000038146973,13.359999656677246,13.510000228881836,13.399999618530273,13.510000228881836,13.34000015258789,13.3100004196167,13.270000457763672,13.25,13.149999618530273,13.119999885559082],\"type\":\"scatter\",\"xaxis\":\"x\",\"yaxis\":\"y\"},{\"line\":{\"color\":\"firebrick\",\"dash\":\"dot\",\"width\":2},\"mode\":\"lines\",\"name\":\"mma5\",\"x\":[\"2023-02-01T00:00:00\",\"2023-02-02T00:00:00\",\"2023-02-03T00:00:00\",\"2023-02-06T00:00:00\",\"2023-02-07T00:00:00\",\"2023-02-08T00:00:00\",\"2023-02-09T00:00:00\",\"2023-02-10T00:00:00\",\"2023-02-13T00:00:00\",\"2023-02-14T00:00:00\",\"2023-02-15T00:00:00\",\"2023-02-16T00:00:00\",\"2023-02-17T00:00:00\",\"2023-02-22T00:00:00\",\"2023-02-23T00:00:00\",\"2023-02-24T00:00:00\",\"2023-02-27T00:00:00\",\"2023-02-28T00:00:00\",\"2023-03-01T00:00:00\",\"2023-03-02T00:00:00\",\"2023-03-03T00:00:00\",\"2023-03-06T00:00:00\",\"2023-03-07T00:00:00\",\"2023-03-08T00:00:00\",\"2023-03-09T00:00:00\",\"2023-03-10T00:00:00\",\"2023-03-13T00:00:00\",\"2023-03-14T00:00:00\",\"2023-03-15T00:00:00\",\"2023-03-16T00:00:00\",\"2023-03-17T00:00:00\",\"2023-03-20T00:00:00\",\"2023-03-21T00:00:00\",\"2023-03-22T00:00:00\",\"2023-03-23T00:00:00\",\"2023-03-24T00:00:00\",\"2023-03-27T00:00:00\",\"2023-03-28T00:00:00\",\"2023-03-29T00:00:00\",\"2023-03-30T00:00:00\",\"2023-03-31T00:00:00\",\"2023-04-03T00:00:00\",\"2023-04-04T00:00:00\",\"2023-04-05T00:00:00\",\"2023-04-06T00:00:00\",\"2023-04-10T00:00:00\",\"2023-04-11T00:00:00\",\"2023-04-12T00:00:00\",\"2023-04-13T00:00:00\",\"2023-04-14T00:00:00\",\"2023-04-17T00:00:00\",\"2023-04-18T00:00:00\",\"2023-04-19T00:00:00\",\"2023-04-20T00:00:00\",\"2023-04-24T00:00:00\",\"2023-04-25T00:00:00\",\"2023-04-26T00:00:00\",\"2023-04-27T00:00:00\",\"2023-04-28T00:00:00\",\"2023-05-02T00:00:00\",\"2023-05-03T00:00:00\",\"2023-05-04T00:00:00\",\"2023-05-05T00:00:00\",\"2023-05-08T00:00:00\",\"2023-05-09T00:00:00\",\"2023-05-10T00:00:00\",\"2023-05-11T00:00:00\",\"2023-05-12T00:00:00\",\"2023-05-15T00:00:00\",\"2023-05-16T00:00:00\",\"2023-05-17T00:00:00\",\"2023-05-18T00:00:00\",\"2023-05-19T00:00:00\",\"2023-05-22T00:00:00\",\"2023-05-23T00:00:00\",\"2023-05-24T00:00:00\",\"2023-05-25T00:00:00\",\"2023-05-26T00:00:00\",\"2023-05-29T00:00:00\",\"2023-05-30T00:00:00\",\"2023-05-31T00:00:00\",\"2023-06-01T00:00:00\",\"2023-06-02T00:00:00\",\"2023-06-05T00:00:00\",\"2023-06-06T00:00:00\",\"2023-06-07T00:00:00\",\"2023-06-09T00:00:00\",\"2023-06-12T00:00:00\",\"2023-06-13T00:00:00\",\"2023-06-14T00:00:00\",\"2023-06-15T00:00:00\",\"2023-06-16T00:00:00\",\"2023-06-19T00:00:00\",\"2023-06-20T00:00:00\",\"2023-06-21T00:00:00\",\"2023-06-22T00:00:00\",\"2023-06-23T00:00:00\",\"2023-06-26T00:00:00\",\"2023-06-27T00:00:00\",\"2023-06-28T00:00:00\",\"2023-06-29T00:00:00\",\"2023-06-30T00:00:00\",\"2023-07-03T00:00:00\",\"2023-07-04T00:00:00\",\"2023-07-05T00:00:00\",\"2023-07-06T00:00:00\",\"2023-07-07T00:00:00\",\"2023-07-10T00:00:00\",\"2023-07-11T00:00:00\",\"2023-07-12T00:00:00\",\"2023-07-13T00:00:00\",\"2023-07-14T00:00:00\",\"2023-07-17T00:00:00\",\"2023-07-18T00:00:00\",\"2023-07-19T00:00:00\",\"2023-07-20T00:00:00\",\"2023-07-21T00:00:00\",\"2023-07-24T00:00:00\",\"2023-07-25T00:00:00\",\"2023-07-26T00:00:00\",\"2023-07-27T00:00:00\",\"2023-07-28T00:00:00\",\"2023-07-31T00:00:00\",\"2023-08-01T00:00:00\",\"2023-08-02T00:00:00\",\"2023-08-03T00:00:00\",\"2023-08-04T00:00:00\",\"2023-08-07T00:00:00\",\"2023-08-08T00:00:00\",\"2023-08-09T00:00:00\",\"2023-08-10T00:00:00\",\"2023-08-11T00:00:00\",\"2023-08-14T00:00:00\",\"2023-08-15T00:00:00\",\"2023-08-16T00:00:00\",\"2023-08-17T00:00:00\",\"2023-08-18T00:00:00\",\"2023-08-21T00:00:00\",\"2023-08-22T00:00:00\",\"2023-08-23T00:00:00\",\"2023-08-24T00:00:00\",\"2023-08-25T00:00:00\",\"2023-08-28T00:00:00\",\"2023-08-29T00:00:00\",\"2023-08-30T00:00:00\",\"2023-08-31T00:00:00\",\"2023-09-01T00:00:00\",\"2023-09-04T00:00:00\",\"2023-09-05T00:00:00\",\"2023-09-06T00:00:00\",\"2023-09-08T00:00:00\",\"2023-09-11T00:00:00\",\"2023-09-12T00:00:00\",\"2023-09-13T00:00:00\",\"2023-09-14T00:00:00\",\"2023-09-15T00:00:00\",\"2023-09-18T00:00:00\",\"2023-09-19T00:00:00\",\"2023-09-20T00:00:00\",\"2023-09-21T00:00:00\",\"2023-09-22T00:00:00\",\"2023-09-25T00:00:00\",\"2023-09-26T00:00:00\",\"2023-09-27T00:00:00\",\"2023-09-28T00:00:00\",\"2023-09-29T00:00:00\",\"2023-10-02T00:00:00\",\"2023-10-03T00:00:00\",\"2023-10-04T00:00:00\",\"2023-10-05T00:00:00\",\"2023-10-06T00:00:00\",\"2023-10-09T00:00:00\",\"2023-10-10T00:00:00\",\"2023-10-11T00:00:00\",\"2023-10-13T00:00:00\",\"2023-10-16T00:00:00\",\"2023-10-17T00:00:00\",\"2023-10-18T00:00:00\",\"2023-10-19T00:00:00\",\"2023-10-20T00:00:00\",\"2023-10-23T00:00:00\",\"2023-10-24T00:00:00\",\"2023-10-25T00:00:00\",\"2023-10-26T00:00:00\",\"2023-10-27T00:00:00\",\"2023-10-30T00:00:00\",\"2023-10-31T00:00:00\",\"2023-11-01T00:00:00\",\"2023-11-03T00:00:00\",\"2023-11-06T00:00:00\",\"2023-11-07T00:00:00\",\"2023-11-08T00:00:00\",\"2023-11-09T00:00:00\",\"2023-11-10T00:00:00\",\"2023-11-13T00:00:00\",\"2023-11-14T00:00:00\",\"2023-11-16T00:00:00\",\"2023-11-17T00:00:00\",\"2023-11-20T00:00:00\",\"2023-11-21T00:00:00\",\"2023-11-22T00:00:00\",\"2023-11-23T00:00:00\",\"2023-11-24T00:00:00\",\"2023-11-27T00:00:00\",\"2023-11-28T00:00:00\",\"2023-11-29T00:00:00\",\"2023-11-30T00:00:00\",\"2023-12-01T00:00:00\",\"2023-12-04T00:00:00\",\"2023-12-05T00:00:00\",\"2023-12-06T00:00:00\",\"2023-12-07T00:00:00\",\"2023-12-08T00:00:00\",\"2023-12-11T00:00:00\",\"2023-12-12T00:00:00\",\"2023-12-13T00:00:00\",\"2023-12-14T00:00:00\",\"2023-12-15T00:00:00\",\"2023-12-18T00:00:00\",\"2023-12-19T00:00:00\",\"2023-12-20T00:00:00\",\"2023-12-21T00:00:00\",\"2023-12-22T00:00:00\",\"2023-12-26T00:00:00\",\"2023-12-27T00:00:00\",\"2023-12-28T00:00:00\",\"2024-01-02T00:00:00\",\"2024-01-03T00:00:00\",\"2024-01-04T00:00:00\",\"2024-01-05T00:00:00\",\"2024-01-08T00:00:00\",\"2024-01-09T00:00:00\",\"2024-01-10T00:00:00\",\"2024-01-11T00:00:00\",\"2024-01-12T00:00:00\",\"2024-01-15T00:00:00\",\"2024-01-16T00:00:00\",\"2024-01-17T00:00:00\",\"2024-01-18T00:00:00\",\"2024-01-19T00:00:00\",\"2024-01-22T00:00:00\",\"2024-01-23T00:00:00\",\"2024-01-24T00:00:00\",\"2024-01-25T00:00:00\",\"2024-01-26T00:00:00\",\"2024-01-29T00:00:00\",\"2024-01-30T00:00:00\",\"2024-01-31T00:00:00\"],\"y\":[null,null,null,null,11.263944625854492,11.197014617919923,11.092682075500488,11.088744926452637,11.063154029846192,11.023783493041993,10.978507232666015,10.972601699829102,10.919451332092285,10.862363815307617,10.854489707946778,10.834804344177247,10.815118980407714,10.821024513244629,10.809213256835937,10.758031463623047,10.710786628723145,10.708818244934083,10.720629501342774,10.862363815307617,11.049374198913574,11.200951194763183,11.364339447021484,11.498199462890625,11.5336332321167,11.573003959655761,11.645839500427247,11.630091285705566,11.637965774536132,11.695053100585938,11.628122901916504,11.60646915435791,11.639934158325195,11.708832550048829,11.665524864196778,11.838755798339843,12.033640670776368,12.181280517578125,12.295455360412598,12.45490665435791,12.52971076965332,12.539553451538087,12.602546501159669,12.699004554748536,12.864361190795899,12.907669067382812,12.952945137023926,12.960819244384766,12.9116060256958,12.816490745544433,12.806000137329102,12.81921558380127,12.869894409179688,12.952125549316406,13.06464958190918,13.20678539276123,13.32325782775879,13.38050708770752,13.491057205200196,13.528565406799316,13.566073417663574,13.575943946838379,13.60358123779297,13.528565216064454,13.50684986114502,13.380506896972657,13.335102462768555,13.36274013519287,13.439730262756347,13.453549194335938,13.55620288848877,13.562125205993652,13.548306465148926,13.506850242614746,13.479212760925293,13.483160972595215,13.487108993530274,13.514746475219727,13.607529449462891,13.714131164550782,13.816784858703613,13.913516426086426,13.990506744384765,14.018144416809083,14.029989242553711,13.990507125854492,14.020118713378906,13.982610702514648,13.960895538330078,13.966817855834961,13.956947135925294,13.905620193481445,13.92338695526123,13.879956436157226,13.824681282043457,13.779276847839355,13.757561683654785,13.737820816040038,13.747691535949707,13.773355102539062,13.793096160888672,13.739795112609864,13.686494064331054,13.648985862731934,13.548306274414063,13.504875755310058,13.530539321899415,13.467367935180665,13.419989395141602,13.406170463562011,13.374584770202636,13.317335510253907,13.331154060363769,13.311412811279297,13.29561996459961,13.275879096984863,13.248241806030274,13.214682006835938,13.17717399597168,13.15151081085205,13.125847244262696,13.141640090942383,13.080442810058594,13.027141952514649,13.007400703430175,12.95607395172119,12.944229125976562,12.965944290161133,13.023193550109863,13.046882820129394,13.050831031799316,12.944229316711425,12.87118740081787,12.746818542480469,12.66390609741211,12.654035568237305,12.66390609741211,12.616527366638184,12.640216636657716,12.656009483337403,12.616527366638184,12.549407577514648,12.571122741699218,12.531640625,12.423064613342286,12.31448860168457,12.27500648498535,12.23157615661621,12.219731330871582,12.229601860046387,12.273032188415527,12.34212589263916,12.401349067687988,12.464520454406738,12.531640243530273,12.553355407714843,12.549407196044921,12.543485069274903,12.470443153381348,12.409245681762695,12.4526762008667,12.51189956665039,12.49610652923584,12.438857460021973,12.389504623413085,12.27698040008545,12.148663330078126,12.130896377563477,12.241446495056152,12.338178062438965,12.342126274108887,12.340151977539062,12.243420791625976,12.05390625,11.892029190063477,11.797271919250488,11.79332389831543,11.830831909179688,11.87228832244873,11.94533042907715,11.951252937316895,11.931511688232423,11.911202812194825,11.948298454284668,11.996067428588868,12.108645248413087,12.213999938964843,12.3,12.378000068664551,12.407999992370605,12.468000030517578,12.598000144958496,12.780000114440918,12.91599998474121,13.026000022888184,13.131999969482422,13.139999961853027,13.120000076293945,13.110000228881836,13.160000228881836,13.192000198364259,13.234000205993652,13.298000144958497,13.444000053405762,13.518000030517578,13.642000007629395,13.739999961853027,13.811999893188476,13.863999938964843,13.942000007629394,13.957999992370606,14.023999977111817,14.107999992370605,14.139999961853027,14.177999877929688,14.301999855041505,14.301999855041505,14.307999992370606,14.336000061035156,14.3560001373291,14.316000175476074,14.312000274658203,14.240000152587891,14.164000129699707,14.042000007629394,13.942000007629394,13.90399990081787,13.8939998626709,13.86399974822998,13.857999801635742,13.837999725341797,13.801999855041505,13.693999862670898,13.621999931335449,13.551999855041505,13.507999992370605,13.42599983215332,13.447999954223633,13.423999977111816,13.414000129699707,13.366000175476074,13.33600025177002,13.264000129699706,13.220000076293946],\"type\":\"scatter\",\"xaxis\":\"x\",\"yaxis\":\"y\"},{\"marker\":{\"angle\":45,\"line\":{\"color\":\"DarkSlateGrey\",\"width\":2},\"size\":12,\"symbol\":\"arrow\"},\"mode\":\"markers\",\"name\":\"Entrada\",\"x\":[\"2023-03-03T00:00:00\",\"2023-10-19T00:00:00\",\"2024-01-03T00:00:00\"],\"y\":[10.610391616821289,11.74594497680664,13.970000267028809],\"type\":\"scatter\",\"xaxis\":\"x\",\"yaxis\":\"y\"},{\"marker\":{\"angle\":-135,\"line\":{\"color\":\"red\",\"width\":2},\"size\":12,\"symbol\":\"arrow\"},\"mode\":\"markers\",\"name\":\"Saida\",\"x\":[\"2023-03-07T00:00:00\",\"2023-10-24T00:00:00\",\"2024-01-09T00:00:00\"],\"y\":[10.876143455505371,12.081543922424316,13.9399995803833],\"type\":\"scatter\",\"xaxis\":\"x\",\"yaxis\":\"y\"},{\"name\":\"ifr2\",\"x\":[\"2023-02-01T00:00:00\",\"2023-02-02T00:00:00\",\"2023-02-03T00:00:00\",\"2023-02-06T00:00:00\",\"2023-02-07T00:00:00\",\"2023-02-08T00:00:00\",\"2023-02-09T00:00:00\",\"2023-02-10T00:00:00\",\"2023-02-13T00:00:00\",\"2023-02-14T00:00:00\",\"2023-02-15T00:00:00\",\"2023-02-16T00:00:00\",\"2023-02-17T00:00:00\",\"2023-02-22T00:00:00\",\"2023-02-23T00:00:00\",\"2023-02-24T00:00:00\",\"2023-02-27T00:00:00\",\"2023-02-28T00:00:00\",\"2023-03-01T00:00:00\",\"2023-03-02T00:00:00\",\"2023-03-03T00:00:00\",\"2023-03-06T00:00:00\",\"2023-03-07T00:00:00\",\"2023-03-08T00:00:00\",\"2023-03-09T00:00:00\",\"2023-03-10T00:00:00\",\"2023-03-13T00:00:00\",\"2023-03-14T00:00:00\",\"2023-03-15T00:00:00\",\"2023-03-16T00:00:00\",\"2023-03-17T00:00:00\",\"2023-03-20T00:00:00\",\"2023-03-21T00:00:00\",\"2023-03-22T00:00:00\",\"2023-03-23T00:00:00\",\"2023-03-24T00:00:00\",\"2023-03-27T00:00:00\",\"2023-03-28T00:00:00\",\"2023-03-29T00:00:00\",\"2023-03-30T00:00:00\",\"2023-03-31T00:00:00\",\"2023-04-03T00:00:00\",\"2023-04-04T00:00:00\",\"2023-04-05T00:00:00\",\"2023-04-06T00:00:00\",\"2023-04-10T00:00:00\",\"2023-04-11T00:00:00\",\"2023-04-12T00:00:00\",\"2023-04-13T00:00:00\",\"2023-04-14T00:00:00\",\"2023-04-17T00:00:00\",\"2023-04-18T00:00:00\",\"2023-04-19T00:00:00\",\"2023-04-20T00:00:00\",\"2023-04-24T00:00:00\",\"2023-04-25T00:00:00\",\"2023-04-26T00:00:00\",\"2023-04-27T00:00:00\",\"2023-04-28T00:00:00\",\"2023-05-02T00:00:00\",\"2023-05-03T00:00:00\",\"2023-05-04T00:00:00\",\"2023-05-05T00:00:00\",\"2023-05-08T00:00:00\",\"2023-05-09T00:00:00\",\"2023-05-10T00:00:00\",\"2023-05-11T00:00:00\",\"2023-05-12T00:00:00\",\"2023-05-15T00:00:00\",\"2023-05-16T00:00:00\",\"2023-05-17T00:00:00\",\"2023-05-18T00:00:00\",\"2023-05-19T00:00:00\",\"2023-05-22T00:00:00\",\"2023-05-23T00:00:00\",\"2023-05-24T00:00:00\",\"2023-05-25T00:00:00\",\"2023-05-26T00:00:00\",\"2023-05-29T00:00:00\",\"2023-05-30T00:00:00\",\"2023-05-31T00:00:00\",\"2023-06-01T00:00:00\",\"2023-06-02T00:00:00\",\"2023-06-05T00:00:00\",\"2023-06-06T00:00:00\",\"2023-06-07T00:00:00\",\"2023-06-09T00:00:00\",\"2023-06-12T00:00:00\",\"2023-06-13T00:00:00\",\"2023-06-14T00:00:00\",\"2023-06-15T00:00:00\",\"2023-06-16T00:00:00\",\"2023-06-19T00:00:00\",\"2023-06-20T00:00:00\",\"2023-06-21T00:00:00\",\"2023-06-22T00:00:00\",\"2023-06-23T00:00:00\",\"2023-06-26T00:00:00\",\"2023-06-27T00:00:00\",\"2023-06-28T00:00:00\",\"2023-06-29T00:00:00\",\"2023-06-30T00:00:00\",\"2023-07-03T00:00:00\",\"2023-07-04T00:00:00\",\"2023-07-05T00:00:00\",\"2023-07-06T00:00:00\",\"2023-07-07T00:00:00\",\"2023-07-10T00:00:00\",\"2023-07-11T00:00:00\",\"2023-07-12T00:00:00\",\"2023-07-13T00:00:00\",\"2023-07-14T00:00:00\",\"2023-07-17T00:00:00\",\"2023-07-18T00:00:00\",\"2023-07-19T00:00:00\",\"2023-07-20T00:00:00\",\"2023-07-21T00:00:00\",\"2023-07-24T00:00:00\",\"2023-07-25T00:00:00\",\"2023-07-26T00:00:00\",\"2023-07-27T00:00:00\",\"2023-07-28T00:00:00\",\"2023-07-31T00:00:00\",\"2023-08-01T00:00:00\",\"2023-08-02T00:00:00\",\"2023-08-03T00:00:00\",\"2023-08-04T00:00:00\",\"2023-08-07T00:00:00\",\"2023-08-08T00:00:00\",\"2023-08-09T00:00:00\",\"2023-08-10T00:00:00\",\"2023-08-11T00:00:00\",\"2023-08-14T00:00:00\",\"2023-08-15T00:00:00\",\"2023-08-16T00:00:00\",\"2023-08-17T00:00:00\",\"2023-08-18T00:00:00\",\"2023-08-21T00:00:00\",\"2023-08-22T00:00:00\",\"2023-08-23T00:00:00\",\"2023-08-24T00:00:00\",\"2023-08-25T00:00:00\",\"2023-08-28T00:00:00\",\"2023-08-29T00:00:00\",\"2023-08-30T00:00:00\",\"2023-08-31T00:00:00\",\"2023-09-01T00:00:00\",\"2023-09-04T00:00:00\",\"2023-09-05T00:00:00\",\"2023-09-06T00:00:00\",\"2023-09-08T00:00:00\",\"2023-09-11T00:00:00\",\"2023-09-12T00:00:00\",\"2023-09-13T00:00:00\",\"2023-09-14T00:00:00\",\"2023-09-15T00:00:00\",\"2023-09-18T00:00:00\",\"2023-09-19T00:00:00\",\"2023-09-20T00:00:00\",\"2023-09-21T00:00:00\",\"2023-09-22T00:00:00\",\"2023-09-25T00:00:00\",\"2023-09-26T00:00:00\",\"2023-09-27T00:00:00\",\"2023-09-28T00:00:00\",\"2023-09-29T00:00:00\",\"2023-10-02T00:00:00\",\"2023-10-03T00:00:00\",\"2023-10-04T00:00:00\",\"2023-10-05T00:00:00\",\"2023-10-06T00:00:00\",\"2023-10-09T00:00:00\",\"2023-10-10T00:00:00\",\"2023-10-11T00:00:00\",\"2023-10-13T00:00:00\",\"2023-10-16T00:00:00\",\"2023-10-17T00:00:00\",\"2023-10-18T00:00:00\",\"2023-10-19T00:00:00\",\"2023-10-20T00:00:00\",\"2023-10-23T00:00:00\",\"2023-10-24T00:00:00\",\"2023-10-25T00:00:00\",\"2023-10-26T00:00:00\",\"2023-10-27T00:00:00\",\"2023-10-30T00:00:00\",\"2023-10-31T00:00:00\",\"2023-11-01T00:00:00\",\"2023-11-03T00:00:00\",\"2023-11-06T00:00:00\",\"2023-11-07T00:00:00\",\"2023-11-08T00:00:00\",\"2023-11-09T00:00:00\",\"2023-11-10T00:00:00\",\"2023-11-13T00:00:00\",\"2023-11-14T00:00:00\",\"2023-11-16T00:00:00\",\"2023-11-17T00:00:00\",\"2023-11-20T00:00:00\",\"2023-11-21T00:00:00\",\"2023-11-22T00:00:00\",\"2023-11-23T00:00:00\",\"2023-11-24T00:00:00\",\"2023-11-27T00:00:00\",\"2023-11-28T00:00:00\",\"2023-11-29T00:00:00\",\"2023-11-30T00:00:00\",\"2023-12-01T00:00:00\",\"2023-12-04T00:00:00\",\"2023-12-05T00:00:00\",\"2023-12-06T00:00:00\",\"2023-12-07T00:00:00\",\"2023-12-08T00:00:00\",\"2023-12-11T00:00:00\",\"2023-12-12T00:00:00\",\"2023-12-13T00:00:00\",\"2023-12-14T00:00:00\",\"2023-12-15T00:00:00\",\"2023-12-18T00:00:00\",\"2023-12-19T00:00:00\",\"2023-12-20T00:00:00\",\"2023-12-21T00:00:00\",\"2023-12-22T00:00:00\",\"2023-12-26T00:00:00\",\"2023-12-27T00:00:00\",\"2023-12-28T00:00:00\",\"2024-01-02T00:00:00\",\"2024-01-03T00:00:00\",\"2024-01-04T00:00:00\",\"2024-01-05T00:00:00\",\"2024-01-08T00:00:00\",\"2024-01-09T00:00:00\",\"2024-01-10T00:00:00\",\"2024-01-11T00:00:00\",\"2024-01-12T00:00:00\",\"2024-01-15T00:00:00\",\"2024-01-16T00:00:00\",\"2024-01-17T00:00:00\",\"2024-01-18T00:00:00\",\"2024-01-19T00:00:00\",\"2024-01-22T00:00:00\",\"2024-01-23T00:00:00\",\"2024-01-24T00:00:00\",\"2024-01-25T00:00:00\",\"2024-01-26T00:00:00\",\"2024-01-29T00:00:00\",\"2024-01-30T00:00:00\",\"2024-01-31T00:00:00\"],\"y\":[null,0.0,0.0,38.52,22.510000000000005,52.27,17.150000000000006,50.44,56.3,17.349999999999994,42.48,30.230000000000004,11.069999999999993,11.069999999999993,60.78,60.78,24.400000000000006,41.82,8.129999999999995,2.319999999999993,18.879999999999995,80.78999999999999,88.3,98.22,98.6,56.31,81.33,61.58,74.14,87.24,88.32,20.189999999999998,42.4,87.38,24.700000000000003,54.7,64.2,83.78,38.28,82.47,90.59,63.63,70.27,62.64,85.78,87.8,95.23,98.66,99.56,34.120000000000005,39.22,27.760000000000005,19.299999999999997,59.32,42.04,81.8,90.93,95.25,98.6,99.13,99.24,29.879999999999995,81.16,55.05,71.73,39.64,22.709999999999994,9.950000000000003,57.59,14.530000000000001,57.95,78.39,84.11,44.27,52.25,17.959999999999994,61.22,49.05,24.599999999999994,73.95,31.099999999999994,74.28999999999999,88.59,79.45,90.53,36.82,68.09,73.6,37.77,21.019999999999996,63.81,27.099999999999994,62.04,69.38,21.739999999999995,12.590000000000003,69.55,31.08,26.450000000000003,12.079999999999998,30.86,82.68,64.31,77.05,24.519999999999996,6.0,51.38,58.93,19.03,52.43,55.08,15.0,50.8,29.849999999999994,50.33,20.959999999999994,63.53,43.85,22.019999999999996,43.22,11.079999999999998,51.58,30.189999999999998,24.409999999999997,52.0,78.34,10.329999999999998,8.799999999999997,63.22,31.08,76.68,45.42,71.88,63.65,17.519999999999996,5.930000000000007,19.650000000000006,10.900000000000006,64.89,81.45,33.72,14.079999999999998,60.31,75.89,43.8,14.069999999999993,51.61,40.89,17.150000000000006,9.459999999999994,9.459999999999994,72.61,84.57,47.35,59.3,86.28,94.1,97.12,60.77,19.36,19.36,69.4,21.189999999999998,19.930000000000007,83.73,88.26,31.400000000000006,10.030000000000001,17.83,22.319999999999993,22.319999999999993,89.72,95.48,79.33,16.22,14.689999999999998,6.900000000000006,2.7900000000000063,34.16,19.25,80.44,82.31,33.370000000000005,71.58,23.629999999999995,59.24,62.41,72.13,92.41,57.39,83.06,62.72,67.28999999999999,82.41,86.09,98.99,99.36,54.91,43.73,43.73,78.59,85.88,27.010000000000005,76.12,50.59,78.2,89.38,95.92,60.29,80.05,84.02,87.7,96.27,96.59,27.200000000000003,80.73,88.02,51.97,62.99,91.22,32.599999999999994,57.46,57.46,57.46,41.24,7.8799999999999955,2.5799999999999983,2.260000000000005,0.5900000000000034,37.06,72.68,53.69,23.819999999999993,11.790000000000006,25.47,66.75,10.0,27.930000000000007,16.78,62.13,34.53,65.33,26.620000000000005,22.019999999999996,15.069999999999993,11.450000000000003,3.3700000000000045,2.3700000000000045],\"type\":\"scatter\",\"xaxis\":\"x2\",\"yaxis\":\"y2\"},{\"line\":{\"color\":\"red\",\"dash\":\"dot\",\"width\":4},\"mode\":\"lines\",\"name\":\"ifr2=5\",\"x\":[\"2023-02-01T00:00:00\",\"2023-02-02T00:00:00\",\"2023-02-03T00:00:00\",\"2023-02-06T00:00:00\",\"2023-02-07T00:00:00\",\"2023-02-08T00:00:00\",\"2023-02-09T00:00:00\",\"2023-02-10T00:00:00\",\"2023-02-13T00:00:00\",\"2023-02-14T00:00:00\",\"2023-02-15T00:00:00\",\"2023-02-16T00:00:00\",\"2023-02-17T00:00:00\",\"2023-02-22T00:00:00\",\"2023-02-23T00:00:00\",\"2023-02-24T00:00:00\",\"2023-02-27T00:00:00\",\"2023-02-28T00:00:00\",\"2023-03-01T00:00:00\",\"2023-03-02T00:00:00\",\"2023-03-03T00:00:00\",\"2023-03-06T00:00:00\",\"2023-03-07T00:00:00\",\"2023-03-08T00:00:00\",\"2023-03-09T00:00:00\",\"2023-03-10T00:00:00\",\"2023-03-13T00:00:00\",\"2023-03-14T00:00:00\",\"2023-03-15T00:00:00\",\"2023-03-16T00:00:00\",\"2023-03-17T00:00:00\",\"2023-03-20T00:00:00\",\"2023-03-21T00:00:00\",\"2023-03-22T00:00:00\",\"2023-03-23T00:00:00\",\"2023-03-24T00:00:00\",\"2023-03-27T00:00:00\",\"2023-03-28T00:00:00\",\"2023-03-29T00:00:00\",\"2023-03-30T00:00:00\",\"2023-03-31T00:00:00\",\"2023-04-03T00:00:00\",\"2023-04-04T00:00:00\",\"2023-04-05T00:00:00\",\"2023-04-06T00:00:00\",\"2023-04-10T00:00:00\",\"2023-04-11T00:00:00\",\"2023-04-12T00:00:00\",\"2023-04-13T00:00:00\",\"2023-04-14T00:00:00\",\"2023-04-17T00:00:00\",\"2023-04-18T00:00:00\",\"2023-04-19T00:00:00\",\"2023-04-20T00:00:00\",\"2023-04-24T00:00:00\",\"2023-04-25T00:00:00\",\"2023-04-26T00:00:00\",\"2023-04-27T00:00:00\",\"2023-04-28T00:00:00\",\"2023-05-02T00:00:00\",\"2023-05-03T00:00:00\",\"2023-05-04T00:00:00\",\"2023-05-05T00:00:00\",\"2023-05-08T00:00:00\",\"2023-05-09T00:00:00\",\"2023-05-10T00:00:00\",\"2023-05-11T00:00:00\",\"2023-05-12T00:00:00\",\"2023-05-15T00:00:00\",\"2023-05-16T00:00:00\",\"2023-05-17T00:00:00\",\"2023-05-18T00:00:00\",\"2023-05-19T00:00:00\",\"2023-05-22T00:00:00\",\"2023-05-23T00:00:00\",\"2023-05-24T00:00:00\",\"2023-05-25T00:00:00\",\"2023-05-26T00:00:00\",\"2023-05-29T00:00:00\",\"2023-05-30T00:00:00\",\"2023-05-31T00:00:00\",\"2023-06-01T00:00:00\",\"2023-06-02T00:00:00\",\"2023-06-05T00:00:00\",\"2023-06-06T00:00:00\",\"2023-06-07T00:00:00\",\"2023-06-09T00:00:00\",\"2023-06-12T00:00:00\",\"2023-06-13T00:00:00\",\"2023-06-14T00:00:00\",\"2023-06-15T00:00:00\",\"2023-06-16T00:00:00\",\"2023-06-19T00:00:00\",\"2023-06-20T00:00:00\",\"2023-06-21T00:00:00\",\"2023-06-22T00:00:00\",\"2023-06-23T00:00:00\",\"2023-06-26T00:00:00\",\"2023-06-27T00:00:00\",\"2023-06-28T00:00:00\",\"2023-06-29T00:00:00\",\"2023-06-30T00:00:00\",\"2023-07-03T00:00:00\",\"2023-07-04T00:00:00\",\"2023-07-05T00:00:00\",\"2023-07-06T00:00:00\",\"2023-07-07T00:00:00\",\"2023-07-10T00:00:00\",\"2023-07-11T00:00:00\",\"2023-07-12T00:00:00\",\"2023-07-13T00:00:00\",\"2023-07-14T00:00:00\",\"2023-07-17T00:00:00\",\"2023-07-18T00:00:00\",\"2023-07-19T00:00:00\",\"2023-07-20T00:00:00\",\"2023-07-21T00:00:00\",\"2023-07-24T00:00:00\",\"2023-07-25T00:00:00\",\"2023-07-26T00:00:00\",\"2023-07-27T00:00:00\",\"2023-07-28T00:00:00\",\"2023-07-31T00:00:00\",\"2023-08-01T00:00:00\",\"2023-08-02T00:00:00\",\"2023-08-03T00:00:00\",\"2023-08-04T00:00:00\",\"2023-08-07T00:00:00\",\"2023-08-08T00:00:00\",\"2023-08-09T00:00:00\",\"2023-08-10T00:00:00\",\"2023-08-11T00:00:00\",\"2023-08-14T00:00:00\",\"2023-08-15T00:00:00\",\"2023-08-16T00:00:00\",\"2023-08-17T00:00:00\",\"2023-08-18T00:00:00\",\"2023-08-21T00:00:00\",\"2023-08-22T00:00:00\",\"2023-08-23T00:00:00\",\"2023-08-24T00:00:00\",\"2023-08-25T00:00:00\",\"2023-08-28T00:00:00\",\"2023-08-29T00:00:00\",\"2023-08-30T00:00:00\",\"2023-08-31T00:00:00\",\"2023-09-01T00:00:00\",\"2023-09-04T00:00:00\",\"2023-09-05T00:00:00\",\"2023-09-06T00:00:00\",\"2023-09-08T00:00:00\",\"2023-09-11T00:00:00\",\"2023-09-12T00:00:00\",\"2023-09-13T00:00:00\",\"2023-09-14T00:00:00\",\"2023-09-15T00:00:00\",\"2023-09-18T00:00:00\",\"2023-09-19T00:00:00\",\"2023-09-20T00:00:00\",\"2023-09-21T00:00:00\",\"2023-09-22T00:00:00\",\"2023-09-25T00:00:00\",\"2023-09-26T00:00:00\",\"2023-09-27T00:00:00\",\"2023-09-28T00:00:00\",\"2023-09-29T00:00:00\",\"2023-10-02T00:00:00\",\"2023-10-03T00:00:00\",\"2023-10-04T00:00:00\",\"2023-10-05T00:00:00\",\"2023-10-06T00:00:00\",\"2023-10-09T00:00:00\",\"2023-10-10T00:00:00\",\"2023-10-11T00:00:00\",\"2023-10-13T00:00:00\",\"2023-10-16T00:00:00\",\"2023-10-17T00:00:00\",\"2023-10-18T00:00:00\",\"2023-10-19T00:00:00\",\"2023-10-20T00:00:00\",\"2023-10-23T00:00:00\",\"2023-10-24T00:00:00\",\"2023-10-25T00:00:00\",\"2023-10-26T00:00:00\",\"2023-10-27T00:00:00\",\"2023-10-30T00:00:00\",\"2023-10-31T00:00:00\",\"2023-11-01T00:00:00\",\"2023-11-03T00:00:00\",\"2023-11-06T00:00:00\",\"2023-11-07T00:00:00\",\"2023-11-08T00:00:00\",\"2023-11-09T00:00:00\",\"2023-11-10T00:00:00\",\"2023-11-13T00:00:00\",\"2023-11-14T00:00:00\",\"2023-11-16T00:00:00\",\"2023-11-17T00:00:00\",\"2023-11-20T00:00:00\",\"2023-11-21T00:00:00\",\"2023-11-22T00:00:00\",\"2023-11-23T00:00:00\",\"2023-11-24T00:00:00\",\"2023-11-27T00:00:00\",\"2023-11-28T00:00:00\",\"2023-11-29T00:00:00\",\"2023-11-30T00:00:00\",\"2023-12-01T00:00:00\",\"2023-12-04T00:00:00\",\"2023-12-05T00:00:00\",\"2023-12-06T00:00:00\",\"2023-12-07T00:00:00\",\"2023-12-08T00:00:00\",\"2023-12-11T00:00:00\",\"2023-12-12T00:00:00\",\"2023-12-13T00:00:00\",\"2023-12-14T00:00:00\",\"2023-12-15T00:00:00\",\"2023-12-18T00:00:00\",\"2023-12-19T00:00:00\",\"2023-12-20T00:00:00\",\"2023-12-21T00:00:00\",\"2023-12-22T00:00:00\",\"2023-12-26T00:00:00\",\"2023-12-27T00:00:00\",\"2023-12-28T00:00:00\",\"2024-01-02T00:00:00\",\"2024-01-03T00:00:00\",\"2024-01-04T00:00:00\",\"2024-01-05T00:00:00\",\"2024-01-08T00:00:00\",\"2024-01-09T00:00:00\",\"2024-01-10T00:00:00\",\"2024-01-11T00:00:00\",\"2024-01-12T00:00:00\",\"2024-01-15T00:00:00\",\"2024-01-16T00:00:00\",\"2024-01-17T00:00:00\",\"2024-01-18T00:00:00\",\"2024-01-19T00:00:00\",\"2024-01-22T00:00:00\",\"2024-01-23T00:00:00\",\"2024-01-24T00:00:00\",\"2024-01-25T00:00:00\",\"2024-01-26T00:00:00\",\"2024-01-29T00:00:00\",\"2024-01-30T00:00:00\",\"2024-01-31T00:00:00\"],\"y\":[5,5,5,5,5,5,5,5,5,5,5,5,5,5,5,5,5,5,5,5,5,5,5,5,5,5,5,5,5,5,5,5,5,5,5,5,5,5,5,5,5,5,5,5,5,5,5,5,5,5,5,5,5,5,5,5,5,5,5,5,5,5,5,5,5,5,5,5,5,5,5,5,5,5,5,5,5,5,5,5,5,5,5,5,5,5,5,5,5,5,5,5,5,5,5,5,5,5,5,5,5,5,5,5,5,5,5,5,5,5,5,5,5,5,5,5,5,5,5,5,5,5,5,5,5,5,5,5,5,5,5,5,5,5,5,5,5,5,5,5,5,5,5,5,5,5,5,5,5,5,5,5,5,5,5,5,5,5,5,5,5,5,5,5,5,5,5,5,5,5,5,5,5,5,5,5,5,5,5,5,5,5,5,5,5,5,5,5,5,5,5,5,5,5,5,5,5,5,5,5,5,5,5,5,5,5,5,5,5,5,5,5,5,5,5,5,5,5,5,5,5,5,5,5,5,5,5,5,5,5,5,5,5,5,5,5,5,5,5,5,5,5,5,5,5,5,5,5],\"type\":\"scatter\",\"xaxis\":\"x2\",\"yaxis\":\"y2\"},{\"mode\":\"lines\",\"name\":\"posi\\u00e7\\u00e3o\",\"x\":[\"2023-02-01T00:00:00\",\"2023-02-02T00:00:00\",\"2023-02-03T00:00:00\",\"2023-02-06T00:00:00\",\"2023-02-07T00:00:00\",\"2023-02-08T00:00:00\",\"2023-02-09T00:00:00\",\"2023-02-10T00:00:00\",\"2023-02-13T00:00:00\",\"2023-02-14T00:00:00\",\"2023-02-15T00:00:00\",\"2023-02-16T00:00:00\",\"2023-02-17T00:00:00\",\"2023-02-22T00:00:00\",\"2023-02-23T00:00:00\",\"2023-02-24T00:00:00\",\"2023-02-27T00:00:00\",\"2023-02-28T00:00:00\",\"2023-03-01T00:00:00\",\"2023-03-02T00:00:00\",\"2023-03-03T00:00:00\",\"2023-03-06T00:00:00\",\"2023-03-07T00:00:00\",\"2023-03-08T00:00:00\",\"2023-03-09T00:00:00\",\"2023-03-10T00:00:00\",\"2023-03-13T00:00:00\",\"2023-03-14T00:00:00\",\"2023-03-15T00:00:00\",\"2023-03-16T00:00:00\",\"2023-03-17T00:00:00\",\"2023-03-20T00:00:00\",\"2023-03-21T00:00:00\",\"2023-03-22T00:00:00\",\"2023-03-23T00:00:00\",\"2023-03-24T00:00:00\",\"2023-03-27T00:00:00\",\"2023-03-28T00:00:00\",\"2023-03-29T00:00:00\",\"2023-03-30T00:00:00\",\"2023-03-31T00:00:00\",\"2023-04-03T00:00:00\",\"2023-04-04T00:00:00\",\"2023-04-05T00:00:00\",\"2023-04-06T00:00:00\",\"2023-04-10T00:00:00\",\"2023-04-11T00:00:00\",\"2023-04-12T00:00:00\",\"2023-04-13T00:00:00\",\"2023-04-14T00:00:00\",\"2023-04-17T00:00:00\",\"2023-04-18T00:00:00\",\"2023-04-19T00:00:00\",\"2023-04-20T00:00:00\",\"2023-04-24T00:00:00\",\"2023-04-25T00:00:00\",\"2023-04-26T00:00:00\",\"2023-04-27T00:00:00\",\"2023-04-28T00:00:00\",\"2023-05-02T00:00:00\",\"2023-05-03T00:00:00\",\"2023-05-04T00:00:00\",\"2023-05-05T00:00:00\",\"2023-05-08T00:00:00\",\"2023-05-09T00:00:00\",\"2023-05-10T00:00:00\",\"2023-05-11T00:00:00\",\"2023-05-12T00:00:00\",\"2023-05-15T00:00:00\",\"2023-05-16T00:00:00\",\"2023-05-17T00:00:00\",\"2023-05-18T00:00:00\",\"2023-05-19T00:00:00\",\"2023-05-22T00:00:00\",\"2023-05-23T00:00:00\",\"2023-05-24T00:00:00\",\"2023-05-25T00:00:00\",\"2023-05-26T00:00:00\",\"2023-05-29T00:00:00\",\"2023-05-30T00:00:00\",\"2023-05-31T00:00:00\",\"2023-06-01T00:00:00\",\"2023-06-02T00:00:00\",\"2023-06-05T00:00:00\",\"2023-06-06T00:00:00\",\"2023-06-07T00:00:00\",\"2023-06-09T00:00:00\",\"2023-06-12T00:00:00\",\"2023-06-13T00:00:00\",\"2023-06-14T00:00:00\",\"2023-06-15T00:00:00\",\"2023-06-16T00:00:00\",\"2023-06-19T00:00:00\",\"2023-06-20T00:00:00\",\"2023-06-21T00:00:00\",\"2023-06-22T00:00:00\",\"2023-06-23T00:00:00\",\"2023-06-26T00:00:00\",\"2023-06-27T00:00:00\",\"2023-06-28T00:00:00\",\"2023-06-29T00:00:00\",\"2023-06-30T00:00:00\",\"2023-07-03T00:00:00\",\"2023-07-04T00:00:00\",\"2023-07-05T00:00:00\",\"2023-07-06T00:00:00\",\"2023-07-07T00:00:00\",\"2023-07-10T00:00:00\",\"2023-07-11T00:00:00\",\"2023-07-12T00:00:00\",\"2023-07-13T00:00:00\",\"2023-07-14T00:00:00\",\"2023-07-17T00:00:00\",\"2023-07-18T00:00:00\",\"2023-07-19T00:00:00\",\"2023-07-20T00:00:00\",\"2023-07-21T00:00:00\",\"2023-07-24T00:00:00\",\"2023-07-25T00:00:00\",\"2023-07-26T00:00:00\",\"2023-07-27T00:00:00\",\"2023-07-28T00:00:00\",\"2023-07-31T00:00:00\",\"2023-08-01T00:00:00\",\"2023-08-02T00:00:00\",\"2023-08-03T00:00:00\",\"2023-08-04T00:00:00\",\"2023-08-07T00:00:00\",\"2023-08-08T00:00:00\",\"2023-08-09T00:00:00\",\"2023-08-10T00:00:00\",\"2023-08-11T00:00:00\",\"2023-08-14T00:00:00\",\"2023-08-15T00:00:00\",\"2023-08-16T00:00:00\",\"2023-08-17T00:00:00\",\"2023-08-18T00:00:00\",\"2023-08-21T00:00:00\",\"2023-08-22T00:00:00\",\"2023-08-23T00:00:00\",\"2023-08-24T00:00:00\",\"2023-08-25T00:00:00\",\"2023-08-28T00:00:00\",\"2023-08-29T00:00:00\",\"2023-08-30T00:00:00\",\"2023-08-31T00:00:00\",\"2023-09-01T00:00:00\",\"2023-09-04T00:00:00\",\"2023-09-05T00:00:00\",\"2023-09-06T00:00:00\",\"2023-09-08T00:00:00\",\"2023-09-11T00:00:00\",\"2023-09-12T00:00:00\",\"2023-09-13T00:00:00\",\"2023-09-14T00:00:00\",\"2023-09-15T00:00:00\",\"2023-09-18T00:00:00\",\"2023-09-19T00:00:00\",\"2023-09-20T00:00:00\",\"2023-09-21T00:00:00\",\"2023-09-22T00:00:00\",\"2023-09-25T00:00:00\",\"2023-09-26T00:00:00\",\"2023-09-27T00:00:00\",\"2023-09-28T00:00:00\",\"2023-09-29T00:00:00\",\"2023-10-02T00:00:00\",\"2023-10-03T00:00:00\",\"2023-10-04T00:00:00\",\"2023-10-05T00:00:00\",\"2023-10-06T00:00:00\",\"2023-10-09T00:00:00\",\"2023-10-10T00:00:00\",\"2023-10-11T00:00:00\",\"2023-10-13T00:00:00\",\"2023-10-16T00:00:00\",\"2023-10-17T00:00:00\",\"2023-10-18T00:00:00\",\"2023-10-19T00:00:00\",\"2023-10-20T00:00:00\",\"2023-10-23T00:00:00\",\"2023-10-24T00:00:00\",\"2023-10-25T00:00:00\",\"2023-10-26T00:00:00\",\"2023-10-27T00:00:00\",\"2023-10-30T00:00:00\",\"2023-10-31T00:00:00\",\"2023-11-01T00:00:00\",\"2023-11-03T00:00:00\",\"2023-11-06T00:00:00\",\"2023-11-07T00:00:00\",\"2023-11-08T00:00:00\",\"2023-11-09T00:00:00\",\"2023-11-10T00:00:00\",\"2023-11-13T00:00:00\",\"2023-11-14T00:00:00\",\"2023-11-16T00:00:00\",\"2023-11-17T00:00:00\",\"2023-11-20T00:00:00\",\"2023-11-21T00:00:00\",\"2023-11-22T00:00:00\",\"2023-11-23T00:00:00\",\"2023-11-24T00:00:00\",\"2023-11-27T00:00:00\",\"2023-11-28T00:00:00\",\"2023-11-29T00:00:00\",\"2023-11-30T00:00:00\",\"2023-12-01T00:00:00\",\"2023-12-04T00:00:00\",\"2023-12-05T00:00:00\",\"2023-12-06T00:00:00\",\"2023-12-07T00:00:00\",\"2023-12-08T00:00:00\",\"2023-12-11T00:00:00\",\"2023-12-12T00:00:00\",\"2023-12-13T00:00:00\",\"2023-12-14T00:00:00\",\"2023-12-15T00:00:00\",\"2023-12-18T00:00:00\",\"2023-12-19T00:00:00\",\"2023-12-20T00:00:00\",\"2023-12-21T00:00:00\",\"2023-12-22T00:00:00\",\"2023-12-26T00:00:00\",\"2023-12-27T00:00:00\",\"2023-12-28T00:00:00\",\"2024-01-02T00:00:00\",\"2024-01-03T00:00:00\",\"2024-01-04T00:00:00\",\"2024-01-05T00:00:00\",\"2024-01-08T00:00:00\",\"2024-01-09T00:00:00\",\"2024-01-10T00:00:00\",\"2024-01-11T00:00:00\",\"2024-01-12T00:00:00\",\"2024-01-15T00:00:00\",\"2024-01-16T00:00:00\",\"2024-01-17T00:00:00\",\"2024-01-18T00:00:00\",\"2024-01-19T00:00:00\",\"2024-01-22T00:00:00\",\"2024-01-23T00:00:00\",\"2024-01-24T00:00:00\",\"2024-01-25T00:00:00\",\"2024-01-26T00:00:00\",\"2024-01-29T00:00:00\",\"2024-01-30T00:00:00\",\"2024-01-31T00:00:00\"],\"y\":[0.0,0.0,0.0,0.0,0.0,0.0,0.0,0.0,0.0,0.0,0.0,0.0,0.0,0.0,0.0,0.0,0.0,0.0,0.0,0.0,1.0,1.0,0.0,0.0,0.0,0.0,0.0,0.0,0.0,0.0,0.0,0.0,0.0,0.0,0.0,0.0,0.0,0.0,0.0,0.0,0.0,0.0,0.0,0.0,0.0,0.0,0.0,0.0,0.0,0.0,0.0,0.0,0.0,0.0,0.0,0.0,0.0,0.0,0.0,0.0,0.0,0.0,0.0,0.0,0.0,0.0,0.0,0.0,0.0,0.0,0.0,0.0,0.0,0.0,0.0,0.0,0.0,0.0,0.0,0.0,0.0,0.0,0.0,0.0,0.0,0.0,0.0,0.0,0.0,0.0,0.0,0.0,0.0,0.0,0.0,0.0,0.0,0.0,0.0,0.0,0.0,0.0,0.0,0.0,0.0,0.0,0.0,0.0,0.0,0.0,0.0,0.0,0.0,0.0,0.0,0.0,0.0,0.0,0.0,0.0,0.0,0.0,0.0,0.0,0.0,0.0,0.0,0.0,0.0,0.0,0.0,0.0,0.0,0.0,0.0,0.0,0.0,0.0,0.0,0.0,0.0,0.0,0.0,0.0,0.0,0.0,0.0,0.0,0.0,0.0,0.0,0.0,0.0,0.0,0.0,0.0,0.0,0.0,0.0,0.0,0.0,0.0,0.0,0.0,0.0,0.0,0.0,0.0,0.0,0.0,0.0,0.0,0.0,0.0,0.0,0.0,0.0,0.0,1.0,1.0,1.0,0.0,0.0,0.0,0.0,0.0,0.0,0.0,0.0,0.0,0.0,0.0,0.0,0.0,0.0,0.0,0.0,0.0,0.0,0.0,0.0,0.0,0.0,0.0,0.0,0.0,0.0,0.0,0.0,0.0,0.0,0.0,0.0,0.0,0.0,0.0,0.0,0.0,0.0,0.0,0.0,0.0,0.0,0.0,0.0,0.0,0.0,1.0,1.0,1.0,1.0,0.0,0.0,0.0,0.0,0.0,0.0,0.0,0.0,0.0,0.0,0.0,0.0,0.0,0.0,0.0,0.0,0.0],\"type\":\"scatter\",\"xaxis\":\"x3\",\"yaxis\":\"y3\"}],                        {\"template\":{\"data\":{\"histogram2dcontour\":[{\"type\":\"histogram2dcontour\",\"colorbar\":{\"outlinewidth\":0,\"ticks\":\"\"},\"colorscale\":[[0.0,\"#0d0887\"],[0.1111111111111111,\"#46039f\"],[0.2222222222222222,\"#7201a8\"],[0.3333333333333333,\"#9c179e\"],[0.4444444444444444,\"#bd3786\"],[0.5555555555555556,\"#d8576b\"],[0.6666666666666666,\"#ed7953\"],[0.7777777777777778,\"#fb9f3a\"],[0.8888888888888888,\"#fdca26\"],[1.0,\"#f0f921\"]]}],\"choropleth\":[{\"type\":\"choropleth\",\"colorbar\":{\"outlinewidth\":0,\"ticks\":\"\"}}],\"histogram2d\":[{\"type\":\"histogram2d\",\"colorbar\":{\"outlinewidth\":0,\"ticks\":\"\"},\"colorscale\":[[0.0,\"#0d0887\"],[0.1111111111111111,\"#46039f\"],[0.2222222222222222,\"#7201a8\"],[0.3333333333333333,\"#9c179e\"],[0.4444444444444444,\"#bd3786\"],[0.5555555555555556,\"#d8576b\"],[0.6666666666666666,\"#ed7953\"],[0.7777777777777778,\"#fb9f3a\"],[0.8888888888888888,\"#fdca26\"],[1.0,\"#f0f921\"]]}],\"heatmap\":[{\"type\":\"heatmap\",\"colorbar\":{\"outlinewidth\":0,\"ticks\":\"\"},\"colorscale\":[[0.0,\"#0d0887\"],[0.1111111111111111,\"#46039f\"],[0.2222222222222222,\"#7201a8\"],[0.3333333333333333,\"#9c179e\"],[0.4444444444444444,\"#bd3786\"],[0.5555555555555556,\"#d8576b\"],[0.6666666666666666,\"#ed7953\"],[0.7777777777777778,\"#fb9f3a\"],[0.8888888888888888,\"#fdca26\"],[1.0,\"#f0f921\"]]}],\"heatmapgl\":[{\"type\":\"heatmapgl\",\"colorbar\":{\"outlinewidth\":0,\"ticks\":\"\"},\"colorscale\":[[0.0,\"#0d0887\"],[0.1111111111111111,\"#46039f\"],[0.2222222222222222,\"#7201a8\"],[0.3333333333333333,\"#9c179e\"],[0.4444444444444444,\"#bd3786\"],[0.5555555555555556,\"#d8576b\"],[0.6666666666666666,\"#ed7953\"],[0.7777777777777778,\"#fb9f3a\"],[0.8888888888888888,\"#fdca26\"],[1.0,\"#f0f921\"]]}],\"contourcarpet\":[{\"type\":\"contourcarpet\",\"colorbar\":{\"outlinewidth\":0,\"ticks\":\"\"}}],\"contour\":[{\"type\":\"contour\",\"colorbar\":{\"outlinewidth\":0,\"ticks\":\"\"},\"colorscale\":[[0.0,\"#0d0887\"],[0.1111111111111111,\"#46039f\"],[0.2222222222222222,\"#7201a8\"],[0.3333333333333333,\"#9c179e\"],[0.4444444444444444,\"#bd3786\"],[0.5555555555555556,\"#d8576b\"],[0.6666666666666666,\"#ed7953\"],[0.7777777777777778,\"#fb9f3a\"],[0.8888888888888888,\"#fdca26\"],[1.0,\"#f0f921\"]]}],\"surface\":[{\"type\":\"surface\",\"colorbar\":{\"outlinewidth\":0,\"ticks\":\"\"},\"colorscale\":[[0.0,\"#0d0887\"],[0.1111111111111111,\"#46039f\"],[0.2222222222222222,\"#7201a8\"],[0.3333333333333333,\"#9c179e\"],[0.4444444444444444,\"#bd3786\"],[0.5555555555555556,\"#d8576b\"],[0.6666666666666666,\"#ed7953\"],[0.7777777777777778,\"#fb9f3a\"],[0.8888888888888888,\"#fdca26\"],[1.0,\"#f0f921\"]]}],\"mesh3d\":[{\"type\":\"mesh3d\",\"colorbar\":{\"outlinewidth\":0,\"ticks\":\"\"}}],\"scatter\":[{\"fillpattern\":{\"fillmode\":\"overlay\",\"size\":10,\"solidity\":0.2},\"type\":\"scatter\"}],\"parcoords\":[{\"type\":\"parcoords\",\"line\":{\"colorbar\":{\"outlinewidth\":0,\"ticks\":\"\"}}}],\"scatterpolargl\":[{\"type\":\"scatterpolargl\",\"marker\":{\"colorbar\":{\"outlinewidth\":0,\"ticks\":\"\"}}}],\"bar\":[{\"error_x\":{\"color\":\"#2a3f5f\"},\"error_y\":{\"color\":\"#2a3f5f\"},\"marker\":{\"line\":{\"color\":\"#E5ECF6\",\"width\":0.5},\"pattern\":{\"fillmode\":\"overlay\",\"size\":10,\"solidity\":0.2}},\"type\":\"bar\"}],\"scattergeo\":[{\"type\":\"scattergeo\",\"marker\":{\"colorbar\":{\"outlinewidth\":0,\"ticks\":\"\"}}}],\"scatterpolar\":[{\"type\":\"scatterpolar\",\"marker\":{\"colorbar\":{\"outlinewidth\":0,\"ticks\":\"\"}}}],\"histogram\":[{\"marker\":{\"pattern\":{\"fillmode\":\"overlay\",\"size\":10,\"solidity\":0.2}},\"type\":\"histogram\"}],\"scattergl\":[{\"type\":\"scattergl\",\"marker\":{\"colorbar\":{\"outlinewidth\":0,\"ticks\":\"\"}}}],\"scatter3d\":[{\"type\":\"scatter3d\",\"line\":{\"colorbar\":{\"outlinewidth\":0,\"ticks\":\"\"}},\"marker\":{\"colorbar\":{\"outlinewidth\":0,\"ticks\":\"\"}}}],\"scattermapbox\":[{\"type\":\"scattermapbox\",\"marker\":{\"colorbar\":{\"outlinewidth\":0,\"ticks\":\"\"}}}],\"scatterternary\":[{\"type\":\"scatterternary\",\"marker\":{\"colorbar\":{\"outlinewidth\":0,\"ticks\":\"\"}}}],\"scattercarpet\":[{\"type\":\"scattercarpet\",\"marker\":{\"colorbar\":{\"outlinewidth\":0,\"ticks\":\"\"}}}],\"carpet\":[{\"aaxis\":{\"endlinecolor\":\"#2a3f5f\",\"gridcolor\":\"white\",\"linecolor\":\"white\",\"minorgridcolor\":\"white\",\"startlinecolor\":\"#2a3f5f\"},\"baxis\":{\"endlinecolor\":\"#2a3f5f\",\"gridcolor\":\"white\",\"linecolor\":\"white\",\"minorgridcolor\":\"white\",\"startlinecolor\":\"#2a3f5f\"},\"type\":\"carpet\"}],\"table\":[{\"cells\":{\"fill\":{\"color\":\"#EBF0F8\"},\"line\":{\"color\":\"white\"}},\"header\":{\"fill\":{\"color\":\"#C8D4E3\"},\"line\":{\"color\":\"white\"}},\"type\":\"table\"}],\"barpolar\":[{\"marker\":{\"line\":{\"color\":\"#E5ECF6\",\"width\":0.5},\"pattern\":{\"fillmode\":\"overlay\",\"size\":10,\"solidity\":0.2}},\"type\":\"barpolar\"}],\"pie\":[{\"automargin\":true,\"type\":\"pie\"}]},\"layout\":{\"autotypenumbers\":\"strict\",\"colorway\":[\"#636efa\",\"#EF553B\",\"#00cc96\",\"#ab63fa\",\"#FFA15A\",\"#19d3f3\",\"#FF6692\",\"#B6E880\",\"#FF97FF\",\"#FECB52\"],\"font\":{\"color\":\"#2a3f5f\"},\"hovermode\":\"closest\",\"hoverlabel\":{\"align\":\"left\"},\"paper_bgcolor\":\"white\",\"plot_bgcolor\":\"#E5ECF6\",\"polar\":{\"bgcolor\":\"#E5ECF6\",\"angularaxis\":{\"gridcolor\":\"white\",\"linecolor\":\"white\",\"ticks\":\"\"},\"radialaxis\":{\"gridcolor\":\"white\",\"linecolor\":\"white\",\"ticks\":\"\"}},\"ternary\":{\"bgcolor\":\"#E5ECF6\",\"aaxis\":{\"gridcolor\":\"white\",\"linecolor\":\"white\",\"ticks\":\"\"},\"baxis\":{\"gridcolor\":\"white\",\"linecolor\":\"white\",\"ticks\":\"\"},\"caxis\":{\"gridcolor\":\"white\",\"linecolor\":\"white\",\"ticks\":\"\"}},\"coloraxis\":{\"colorbar\":{\"outlinewidth\":0,\"ticks\":\"\"}},\"colorscale\":{\"sequential\":[[0.0,\"#0d0887\"],[0.1111111111111111,\"#46039f\"],[0.2222222222222222,\"#7201a8\"],[0.3333333333333333,\"#9c179e\"],[0.4444444444444444,\"#bd3786\"],[0.5555555555555556,\"#d8576b\"],[0.6666666666666666,\"#ed7953\"],[0.7777777777777778,\"#fb9f3a\"],[0.8888888888888888,\"#fdca26\"],[1.0,\"#f0f921\"]],\"sequentialminus\":[[0.0,\"#0d0887\"],[0.1111111111111111,\"#46039f\"],[0.2222222222222222,\"#7201a8\"],[0.3333333333333333,\"#9c179e\"],[0.4444444444444444,\"#bd3786\"],[0.5555555555555556,\"#d8576b\"],[0.6666666666666666,\"#ed7953\"],[0.7777777777777778,\"#fb9f3a\"],[0.8888888888888888,\"#fdca26\"],[1.0,\"#f0f921\"]],\"diverging\":[[0,\"#8e0152\"],[0.1,\"#c51b7d\"],[0.2,\"#de77ae\"],[0.3,\"#f1b6da\"],[0.4,\"#fde0ef\"],[0.5,\"#f7f7f7\"],[0.6,\"#e6f5d0\"],[0.7,\"#b8e186\"],[0.8,\"#7fbc41\"],[0.9,\"#4d9221\"],[1,\"#276419\"]]},\"xaxis\":{\"gridcolor\":\"white\",\"linecolor\":\"white\",\"ticks\":\"\",\"title\":{\"standoff\":15},\"zerolinecolor\":\"white\",\"automargin\":true,\"zerolinewidth\":2},\"yaxis\":{\"gridcolor\":\"white\",\"linecolor\":\"white\",\"ticks\":\"\",\"title\":{\"standoff\":15},\"zerolinecolor\":\"white\",\"automargin\":true,\"zerolinewidth\":2},\"scene\":{\"xaxis\":{\"backgroundcolor\":\"#E5ECF6\",\"gridcolor\":\"white\",\"linecolor\":\"white\",\"showbackground\":true,\"ticks\":\"\",\"zerolinecolor\":\"white\",\"gridwidth\":2},\"yaxis\":{\"backgroundcolor\":\"#E5ECF6\",\"gridcolor\":\"white\",\"linecolor\":\"white\",\"showbackground\":true,\"ticks\":\"\",\"zerolinecolor\":\"white\",\"gridwidth\":2},\"zaxis\":{\"backgroundcolor\":\"#E5ECF6\",\"gridcolor\":\"white\",\"linecolor\":\"white\",\"showbackground\":true,\"ticks\":\"\",\"zerolinecolor\":\"white\",\"gridwidth\":2}},\"shapedefaults\":{\"line\":{\"color\":\"#2a3f5f\"}},\"annotationdefaults\":{\"arrowcolor\":\"#2a3f5f\",\"arrowhead\":0,\"arrowwidth\":1},\"geo\":{\"bgcolor\":\"white\",\"landcolor\":\"#E5ECF6\",\"subunitcolor\":\"white\",\"showland\":true,\"showlakes\":true,\"lakecolor\":\"white\"},\"title\":{\"x\":0.05},\"mapbox\":{\"style\":\"light\"}}},\"xaxis\":{\"anchor\":\"y\",\"domain\":[0.0,1.0]},\"yaxis\":{\"anchor\":\"x\",\"domain\":[0.7333333333333333,1.0]},\"xaxis2\":{\"anchor\":\"y2\",\"domain\":[0.0,1.0]},\"yaxis2\":{\"anchor\":\"x2\",\"domain\":[0.36666666666666664,0.6333333333333333]},\"xaxis3\":{\"anchor\":\"y3\",\"domain\":[0.0,1.0]},\"yaxis3\":{\"anchor\":\"x3\",\"domain\":[0.0,0.26666666666666666]}},                        {\"responsive\": true}                    ).then(function(){\n",
              "                            \n",
              "var gd = document.getElementById('2365237c-ce94-4cae-8698-7849f7d234ea');\n",
              "var x = new MutationObserver(function (mutations, observer) {{\n",
              "        var display = window.getComputedStyle(gd).display;\n",
              "        if (!display || display === 'none') {{\n",
              "            console.log([gd, 'removed!']);\n",
              "            Plotly.purge(gd);\n",
              "            observer.disconnect();\n",
              "        }}\n",
              "}});\n",
              "\n",
              "// Listen for the removal of the full notebook cells\n",
              "var notebookContainer = gd.closest('#notebook-container');\n",
              "if (notebookContainer) {{\n",
              "    x.observe(notebookContainer, {childList: true});\n",
              "}}\n",
              "\n",
              "// Listen for the clearing of the current output cell\n",
              "var outputEl = gd.closest('.output');\n",
              "if (outputEl) {{\n",
              "    x.observe(outputEl, {childList: true});\n",
              "}}\n",
              "\n",
              "                        })                };                });            </script>        </div>"
            ]
          },
          "metadata": {},
          "output_type": "display_data"
        }
      ],
      "source": [
        "import plotly.graph_objects as go\n",
        "from plotly.subplots import make_subplots\n",
        "\n",
        "df['Close '+ativo].rolling(5).mean() \n",
        "\n",
        "\n",
        "fig = make_subplots(rows=3, cols=1) #go.Figure()\n",
        "fig.add_trace(go.Scatter(x = df.index , y = df['Close '+ativo].values , name=\"preço\"),1,1)\n",
        "fig.add_trace(go.Scatter(x = df.index , y =  df['Close '+ativo].rolling(5).mean(), mode='lines', \n",
        "                         line=dict(color='firebrick', width=2, dash='dot'), name=\"mma5\"),1,1)\n",
        "\n",
        "fig.add_trace(go.Scatter(x = df.loc[entra].index, y = df.loc[entra]['Close '+ativo] , mode='markers' ,name='Entrada',\n",
        "                             marker=dict(size=12, symbol=\"arrow\", angle=45, line=dict(width=2, color=\"DarkSlateGrey\"))\n",
        "                         ),1,1)\n",
        "fig.update_traces(\n",
        "    marker=dict(size=12, symbol=\"arrow\", angle=45, line=dict(width=2, color=\"DarkSlateGrey\")),\n",
        "    selector=dict(mode=\"markers\"),\n",
        ")\n",
        "fig.add_trace(go.Scatter(x = df.loc[sai].index, y = df.loc[sai]['Close '+ativo] , mode='markers' ,name='Saida',\n",
        "                         marker=dict(size=12, symbol=\"arrow\", angle=-135, line=dict(width=2, color=\"red\"))\n",
        "                         ),1,1)\n",
        "fig.add_trace(go.Scatter(x = df.index , y = IFR[ativo].values , name=\"ifr2\"),2,1)\n",
        "fig.add_trace(go.Scatter(x = df.index , y = [5]*len(df.index) , name=\"ifr2=5\", mode='lines', \n",
        "              line=dict(color='red', width=4, dash='dot')),2,1)\n",
        "\n",
        "fig.add_trace(go.Scatter(x =posicao.index , y = posicao['pos'] , mode='lines', name=\"posição\"),3,1)\n",
        "\n",
        "\n",
        "fig.show()"
      ]
    },
    {
      "cell_type": "code",
      "execution_count": 30,
      "metadata": {},
      "outputs": [
        {
          "data": {
            "application/vnd.plotly.v1+json": {
              "config": {
                "linkText": "Export to plot.ly",
                "plotlyServerURL": "https://plot.ly",
                "showLink": true
              },
              "data": [
                {
                  "line": {
                    "color": "rgba(255, 153, 51, 1.0)",
                    "dash": "solid",
                    "shape": "linear",
                    "width": 1.3
                  },
                  "mode": "lines",
                  "name": "retorno",
                  "text": "",
                  "type": "scatter",
                  "x": [
                    "2023-02-01",
                    "2023-02-02",
                    "2023-02-03",
                    "2023-02-06",
                    "2023-02-07",
                    "2023-02-08",
                    "2023-02-09",
                    "2023-02-10",
                    "2023-02-13",
                    "2023-02-14",
                    "2023-02-15",
                    "2023-02-16",
                    "2023-02-17",
                    "2023-02-22",
                    "2023-02-23",
                    "2023-02-24",
                    "2023-02-27",
                    "2023-02-28",
                    "2023-03-01",
                    "2023-03-02",
                    "2023-03-03",
                    "2023-03-06",
                    "2023-03-07",
                    "2023-03-08",
                    "2023-03-09",
                    "2023-03-10",
                    "2023-03-13",
                    "2023-03-14",
                    "2023-03-15",
                    "2023-03-16",
                    "2023-03-17",
                    "2023-03-20",
                    "2023-03-21",
                    "2023-03-22",
                    "2023-03-23",
                    "2023-03-24",
                    "2023-03-27",
                    "2023-03-28",
                    "2023-03-29",
                    "2023-03-30",
                    "2023-03-31",
                    "2023-04-03",
                    "2023-04-04",
                    "2023-04-05",
                    "2023-04-06",
                    "2023-04-10",
                    "2023-04-11",
                    "2023-04-12",
                    "2023-04-13",
                    "2023-04-14",
                    "2023-04-17",
                    "2023-04-18",
                    "2023-04-19",
                    "2023-04-20",
                    "2023-04-24",
                    "2023-04-25",
                    "2023-04-26",
                    "2023-04-27",
                    "2023-04-28",
                    "2023-05-02",
                    "2023-05-03",
                    "2023-05-04",
                    "2023-05-05",
                    "2023-05-08",
                    "2023-05-09",
                    "2023-05-10",
                    "2023-05-11",
                    "2023-05-12",
                    "2023-05-15",
                    "2023-05-16",
                    "2023-05-17",
                    "2023-05-18",
                    "2023-05-19",
                    "2023-05-22",
                    "2023-05-23",
                    "2023-05-24",
                    "2023-05-25",
                    "2023-05-26",
                    "2023-05-29",
                    "2023-05-30",
                    "2023-05-31",
                    "2023-06-01",
                    "2023-06-02",
                    "2023-06-05",
                    "2023-06-06",
                    "2023-06-07",
                    "2023-06-09",
                    "2023-06-12",
                    "2023-06-13",
                    "2023-06-14",
                    "2023-06-15",
                    "2023-06-16",
                    "2023-06-19",
                    "2023-06-20",
                    "2023-06-21",
                    "2023-06-22",
                    "2023-06-23",
                    "2023-06-26",
                    "2023-06-27",
                    "2023-06-28",
                    "2023-06-29",
                    "2023-06-30",
                    "2023-07-03",
                    "2023-07-04",
                    "2023-07-05",
                    "2023-07-06",
                    "2023-07-07",
                    "2023-07-10",
                    "2023-07-11",
                    "2023-07-12",
                    "2023-07-13",
                    "2023-07-14",
                    "2023-07-17",
                    "2023-07-18",
                    "2023-07-19",
                    "2023-07-20",
                    "2023-07-21",
                    "2023-07-24",
                    "2023-07-25",
                    "2023-07-26",
                    "2023-07-27",
                    "2023-07-28",
                    "2023-07-31",
                    "2023-08-01",
                    "2023-08-02",
                    "2023-08-03",
                    "2023-08-04",
                    "2023-08-07",
                    "2023-08-08",
                    "2023-08-09",
                    "2023-08-10",
                    "2023-08-11",
                    "2023-08-14",
                    "2023-08-15",
                    "2023-08-16",
                    "2023-08-17",
                    "2023-08-18",
                    "2023-08-21",
                    "2023-08-22",
                    "2023-08-23",
                    "2023-08-24",
                    "2023-08-25",
                    "2023-08-28",
                    "2023-08-29",
                    "2023-08-30",
                    "2023-08-31",
                    "2023-09-01",
                    "2023-09-04",
                    "2023-09-05",
                    "2023-09-06",
                    "2023-09-08",
                    "2023-09-11",
                    "2023-09-12",
                    "2023-09-13",
                    "2023-09-14",
                    "2023-09-15",
                    "2023-09-18",
                    "2023-09-19",
                    "2023-09-20",
                    "2023-09-21",
                    "2023-09-22",
                    "2023-09-25",
                    "2023-09-26",
                    "2023-09-27",
                    "2023-09-28",
                    "2023-09-29",
                    "2023-10-02",
                    "2023-10-03",
                    "2023-10-04",
                    "2023-10-05",
                    "2023-10-06",
                    "2023-10-09",
                    "2023-10-10",
                    "2023-10-11",
                    "2023-10-13",
                    "2023-10-16",
                    "2023-10-17",
                    "2023-10-18",
                    "2023-10-19",
                    "2023-10-20",
                    "2023-10-23",
                    "2023-10-24",
                    "2023-10-25",
                    "2023-10-26",
                    "2023-10-27",
                    "2023-10-30",
                    "2023-10-31",
                    "2023-11-01",
                    "2023-11-03",
                    "2023-11-06",
                    "2023-11-07",
                    "2023-11-08",
                    "2023-11-09",
                    "2023-11-10",
                    "2023-11-13",
                    "2023-11-14",
                    "2023-11-16",
                    "2023-11-17",
                    "2023-11-20",
                    "2023-11-21",
                    "2023-11-22",
                    "2023-11-23",
                    "2023-11-24",
                    "2023-11-27",
                    "2023-11-28",
                    "2023-11-29",
                    "2023-11-30",
                    "2023-12-01",
                    "2023-12-04",
                    "2023-12-05",
                    "2023-12-06",
                    "2023-12-07",
                    "2023-12-08",
                    "2023-12-11",
                    "2023-12-12",
                    "2023-12-13",
                    "2023-12-14",
                    "2023-12-15",
                    "2023-12-18",
                    "2023-12-19",
                    "2023-12-20",
                    "2023-12-21",
                    "2023-12-22",
                    "2023-12-26",
                    "2023-12-27",
                    "2023-12-28",
                    "2024-01-02",
                    "2024-01-03",
                    "2024-01-04",
                    "2024-01-05",
                    "2024-01-08",
                    "2024-01-09",
                    "2024-01-10",
                    "2024-01-11",
                    "2024-01-12",
                    "2024-01-15",
                    "2024-01-16",
                    "2024-01-17",
                    "2024-01-18",
                    "2024-01-19",
                    "2024-01-22",
                    "2024-01-23",
                    "2024-01-24",
                    "2024-01-25",
                    "2024-01-26",
                    "2024-01-29",
                    "2024-01-30",
                    "2024-01-31",
                    "2024-02-01"
                  ],
                  "y": [
                    "",
                    0.02767816822760749,
                    -0.01025116846636731,
                    -0.012301348685978208,
                    -0.021185596655115324,
                    0.000341696703268779,
                    -0.03177859550890727,
                    -0.02938651805979342,
                    -0.032974533970346886,
                    -0.052451713951197965,
                    -0.03263283726707833,
                    -0.007517394313984571,
                    -0.014351528905588884,
                    -0.05108492713812396,
                    -0.05467274252244325,
                    -0.06031093865260784,
                    -0.06338634266618048,
                    -0.051939102054217146,
                    -0.08901419699002067,
                    -0.09208953416151522,
                    -0.09533571968464405,
                    -0.08867243344467413,
                    -0.08747649498323429,
                    -0.043225635594636214,
                    -0.04390909584325131,
                    -0.061848640659394216,
                    -0.06475312947925449,
                    -0.10285324768278548,
                    -0.09618996144281555,
                    -0.04681358466311181,
                    -0.08183829885307015,
                    -0.09345638781666765,
                    -0.11128270215250202,
                    -0.11247743745653582,
                    -0.14558879716076223,
                    -0.12459550516435236,
                    -0.11469619339712533,
                    -0.08772909119638994,
                    -0.08611264922159678,
                    -0.0534245335559258,
                    -0.08129534065262944,
                    -0.10366090051251775,
                    -0.084908355500394,
                    -0.09144584494937202,
                    -0.10125217938595621,
                    -0.10486519423372076,
                    -0.022801102840814713,
                    -0.010758165628787064,
                    -0.003016248774450059,
                    -0.01196245934998974,
                    -0.004220542495652846,
                    -0.021596809119611926,
                    -0.056349342367529975,
                    -0.027618210883547656,
                    -0.027962313901627844,
                    -0.033123658646597165,
                    -0.026241999337460853,
                    -0.008349578186381379,
                    -0.001984006562287366,
                    -0.03604833377404493,
                    -0.025381674950182065,
                    -0.009037717380463661,
                    0.0038654105346864753,
                    0.000940735407238602,
                    0.013843863322388739,
                    0.03311256286163289,
                    0.06390811192786261,
                    0.05857478251593107,
                    0.053929659140160124,
                    0.05169319004887285,
                    0.0709618227460389,
                    0.08283270844902635,
                    0.08919834691519868,
                    0.08919834691519868,
                    0.08386501750326736,
                    0.07835963658229583,
                    0.10003692356394556,
                    0.10519813462475858,
                    0.10502621679987478,
                    0.08747789866687561,
                    0.06734894158243088,
                    0.127391642975607,
                    0.13805816811531346,
                    0.14390765205436518,
                    0.16644519658121548,
                    0.16214404253936876,
                    0.1729827528722716,
                    0.1566389289867096,
                    0.1323810030536141,
                    0.15405829003526383,
                    0.14648829100581096,
                    0.11964979296334799,
                    0.16334840310264953,
                    0.15388610484206766,
                    0.15921943425399898,
                    0.16730545412641606,
                    0.16128391867832415,
                    0.16128391867832415,
                    0.14528393044252974,
                    0.14149906461195938,
                    0.17504737098075274,
                    0.1784881337932427,
                    0.19542043533443376,
                    0.19230759975712264,
                    0.2083896700648289,
                    0.19749548080709944,
                    0.21288560192227135,
                    0.20579579638191858,
                    0.20129973084031993,
                    0.2139231246586042,
                    0.21253976101016048,
                    0.18418040516459344,
                    0.1997433798937427,
                    0.1973224935089659,
                    0.2011268772263426,
                    0.21011887462538348,
                    0.2161711574294034,
                    0.20268322817291984,
                    0.17864681688666173,
                    0.1767446250279734,
                    0.1438892036408077,
                    0.154091577390159,
                    0.16239202664913432,
                    0.16723393310284407,
                    0.1698276731015982,
                    0.15374587016220453,
                    0.15893348384386896,
                    0.1480392945861395,
                    0.14769358735818483,
                    0.14509957999111833,
                    0.15080615556718358,
                    0.15184367830351664,
                    0.1113794894815976,
                    0.12383002968590429,
                    0.10826685443052075,
                    0.08509517910869624,
                    0.08889949598399483,
                    0.08077210086523112,
                    0.11881526961821742,
                    0.1482122818842735,
                    0.1331678679970565,
                    0.08959117780821702,
                    0.0869973709673848,
                    0.10048536706594646,
                    0.09754565247092528,
                    0.0937413355956267,
                    0.10204165117044584,
                    0.0954705401561815,
                    0.07575727395546639,
                    0.04774369217993213,
                    0.043593467550444354,
                    0.058983789191850544,
                    0.0750655921312442,
                    0.08820781415977286,
                    0.06901330932722427,
                    0.04272886527016673,
                    0.03684943608012414,
                    0.035811980185869396,
                    0.03196080701381976,
                    0.010544404663010543,
                    0.004326754557760992,
                    -0.0005092697930755286,
                    -0.009663091863206685,
                    -0.022616551863169243,
                    -0.005104127926112034,
                    0.01997729240922652,
                    -0.0159030672225432,
                    -0.04028779257780213,
                    -0.032623947270690845,
                    -0.03332070909284868,
                    -0.04969327507199561,
                    -0.047254809220677374,
                    -0.023392655232036708,
                    -0.031753128677149633,
                    -0.06310487067528392,
                    -0.07076864914031711,
                    -0.07703897080311273,
                    -0.11048086458356432,
                    -0.11048086458356432,
                    -0.11170013093026243,
                    -0.09915935392051489,
                    -0.08365767337698715,
                    -0.1054297424253886,
                    -0.09010218549532234,
                    -0.12145399433553472,
                    -0.12371826973131339,
                    -0.1139644063260411,
                    -0.09567587902011643,
                    -0.045338847893899525,
                    -0.05927301486380643,
                    -0.0361075558552455,
                    -0.033320709092848344,
                    -0.03767513627094432,
                    -0.012767906391145,
                    -0.036804250835325014,
                    0.027641070874260043,
                    0.06073458374363283,
                    0.05899281287239444,
                    0.06038626967463201,
                    0.04575540772464537,
                    0.04854225448704241,
                    0.057599422912234965,
                    0.04157517100208885,
                    0.027641070874260043,
                    0.028686146765418696,
                    0.031647117141277104,
                    0.04575540772464537,
                    0.05794780382331388,
                    0.05638022340761495,
                    0.05899281287239422,
                    0.06369555411949102,
                    0.07101101851552327,
                    0.06386981141710835,
                    0.06474063001064945,
                    0.05411588116975796,
                    0.09591818155324439,
                    0.13754629148119135,
                    0.11542597520586728,
                    0.12117385918620083,
                    0.12082541143304382,
                    0.09981367102307726,
                    0.12278087642798119,
                    0.12260681965659792,
                    0.11703894139259896,
                    0.11441505561661991,
                    0.11441505561661991,
                    0.07341298859219658,
                    0.06710503483942842,
                    0.044851769670755104,
                    0.0600961082135818,
                    0.10039726920700476,
                    0.09005913919702402,
                    0.10390173251992807,
                    0.06903242616156202,
                    0.06885723307485114,
                    0.07201124337227416,
                    0.05624119188515819,
                    0.06780587402835048,
                    0.04012075422462025,
                    0.052911988501024076,
                    0.028731265168139064,
                    0.03766764995819738,
                    0.02732951994821642,
                    0.022598504502081562,
                    -0.014548646193918269,
                    -0.02839123951682243,
                    -0.045212583208360635,
                    -0.05169586373199608,
                    -0.04836659350578376
                  ]
                },
                {
                  "line": {
                    "color": "rgba(55, 128, 191, 1.0)",
                    "dash": "solid",
                    "shape": "linear",
                    "width": 1.3
                  },
                  "mode": "lines",
                  "name": "retorno_estrategia",
                  "text": "",
                  "type": "scatter",
                  "x": [
                    "2023-02-01",
                    "2023-02-02",
                    "2023-02-03",
                    "2023-02-06",
                    "2023-02-07",
                    "2023-02-08",
                    "2023-02-09",
                    "2023-02-10",
                    "2023-02-13",
                    "2023-02-14",
                    "2023-02-15",
                    "2023-02-16",
                    "2023-02-17",
                    "2023-02-22",
                    "2023-02-23",
                    "2023-02-24",
                    "2023-02-27",
                    "2023-02-28",
                    "2023-03-01",
                    "2023-03-02",
                    "2023-03-03",
                    "2023-03-06",
                    "2023-03-07",
                    "2023-03-08",
                    "2023-03-09",
                    "2023-03-10",
                    "2023-03-13",
                    "2023-03-14",
                    "2023-03-15",
                    "2023-03-16",
                    "2023-03-17",
                    "2023-03-20",
                    "2023-03-21",
                    "2023-03-22",
                    "2023-03-23",
                    "2023-03-24",
                    "2023-03-27",
                    "2023-03-28",
                    "2023-03-29",
                    "2023-03-30",
                    "2023-03-31",
                    "2023-04-03",
                    "2023-04-04",
                    "2023-04-05",
                    "2023-04-06",
                    "2023-04-10",
                    "2023-04-11",
                    "2023-04-12",
                    "2023-04-13",
                    "2023-04-14",
                    "2023-04-17",
                    "2023-04-18",
                    "2023-04-19",
                    "2023-04-20",
                    "2023-04-24",
                    "2023-04-25",
                    "2023-04-26",
                    "2023-04-27",
                    "2023-04-28",
                    "2023-05-02",
                    "2023-05-03",
                    "2023-05-04",
                    "2023-05-05",
                    "2023-05-08",
                    "2023-05-09",
                    "2023-05-10",
                    "2023-05-11",
                    "2023-05-12",
                    "2023-05-15",
                    "2023-05-16",
                    "2023-05-17",
                    "2023-05-18",
                    "2023-05-19",
                    "2023-05-22",
                    "2023-05-23",
                    "2023-05-24",
                    "2023-05-25",
                    "2023-05-26",
                    "2023-05-29",
                    "2023-05-30",
                    "2023-05-31",
                    "2023-06-01",
                    "2023-06-02",
                    "2023-06-05",
                    "2023-06-06",
                    "2023-06-07",
                    "2023-06-09",
                    "2023-06-12",
                    "2023-06-13",
                    "2023-06-14",
                    "2023-06-15",
                    "2023-06-16",
                    "2023-06-19",
                    "2023-06-20",
                    "2023-06-21",
                    "2023-06-22",
                    "2023-06-23",
                    "2023-06-26",
                    "2023-06-27",
                    "2023-06-28",
                    "2023-06-29",
                    "2023-06-30",
                    "2023-07-03",
                    "2023-07-04",
                    "2023-07-05",
                    "2023-07-06",
                    "2023-07-07",
                    "2023-07-10",
                    "2023-07-11",
                    "2023-07-12",
                    "2023-07-13",
                    "2023-07-14",
                    "2023-07-17",
                    "2023-07-18",
                    "2023-07-19",
                    "2023-07-20",
                    "2023-07-21",
                    "2023-07-24",
                    "2023-07-25",
                    "2023-07-26",
                    "2023-07-27",
                    "2023-07-28",
                    "2023-07-31",
                    "2023-08-01",
                    "2023-08-02",
                    "2023-08-03",
                    "2023-08-04",
                    "2023-08-07",
                    "2023-08-08",
                    "2023-08-09",
                    "2023-08-10",
                    "2023-08-11",
                    "2023-08-14",
                    "2023-08-15",
                    "2023-08-16",
                    "2023-08-17",
                    "2023-08-18",
                    "2023-08-21",
                    "2023-08-22",
                    "2023-08-23",
                    "2023-08-24",
                    "2023-08-25",
                    "2023-08-28",
                    "2023-08-29",
                    "2023-08-30",
                    "2023-08-31",
                    "2023-09-01",
                    "2023-09-04",
                    "2023-09-05",
                    "2023-09-06",
                    "2023-09-08",
                    "2023-09-11",
                    "2023-09-12",
                    "2023-09-13",
                    "2023-09-14",
                    "2023-09-15",
                    "2023-09-18",
                    "2023-09-19",
                    "2023-09-20",
                    "2023-09-21",
                    "2023-09-22",
                    "2023-09-25",
                    "2023-09-26",
                    "2023-09-27",
                    "2023-09-28",
                    "2023-09-29",
                    "2023-10-02",
                    "2023-10-03",
                    "2023-10-04",
                    "2023-10-05",
                    "2023-10-06",
                    "2023-10-09",
                    "2023-10-10",
                    "2023-10-11",
                    "2023-10-13",
                    "2023-10-16",
                    "2023-10-17",
                    "2023-10-18",
                    "2023-10-19",
                    "2023-10-20",
                    "2023-10-23",
                    "2023-10-24",
                    "2023-10-25",
                    "2023-10-26",
                    "2023-10-27",
                    "2023-10-30",
                    "2023-10-31",
                    "2023-11-01",
                    "2023-11-03",
                    "2023-11-06",
                    "2023-11-07",
                    "2023-11-08",
                    "2023-11-09",
                    "2023-11-10",
                    "2023-11-13",
                    "2023-11-14",
                    "2023-11-16",
                    "2023-11-17",
                    "2023-11-20",
                    "2023-11-21",
                    "2023-11-22",
                    "2023-11-23",
                    "2023-11-24",
                    "2023-11-27",
                    "2023-11-28",
                    "2023-11-29",
                    "2023-11-30",
                    "2023-12-01",
                    "2023-12-04",
                    "2023-12-05",
                    "2023-12-06",
                    "2023-12-07",
                    "2023-12-08",
                    "2023-12-11",
                    "2023-12-12",
                    "2023-12-13",
                    "2023-12-14",
                    "2023-12-15",
                    "2023-12-18",
                    "2023-12-19",
                    "2023-12-20",
                    "2023-12-21",
                    "2023-12-22",
                    "2023-12-26",
                    "2023-12-27",
                    "2023-12-28",
                    "2024-01-02",
                    "2024-01-03",
                    "2024-01-04",
                    "2024-01-05",
                    "2024-01-08",
                    "2024-01-09",
                    "2024-01-10",
                    "2024-01-11",
                    "2024-01-12",
                    "2024-01-15",
                    "2024-01-16",
                    "2024-01-17",
                    "2024-01-18",
                    "2024-01-19",
                    "2024-01-22",
                    "2024-01-23",
                    "2024-01-24",
                    "2024-01-25",
                    "2024-01-26",
                    "2024-01-29",
                    "2024-01-30",
                    "2024-01-31",
                    "2024-02-01"
                  ],
                  "y": [
                    0,
                    0,
                    0,
                    0,
                    0,
                    0,
                    0,
                    0,
                    0,
                    0,
                    0,
                    0,
                    0,
                    0,
                    0,
                    0,
                    0,
                    0,
                    0,
                    0,
                    0,
                    0.007365479531973085,
                    0.0086874488939368,
                    0.0086874488939368,
                    0.0086874488939368,
                    0.0086874488939368,
                    0.0086874488939368,
                    0.0086874488939368,
                    0.0086874488939368,
                    0.0086874488939368,
                    0.0086874488939368,
                    0.0086874488939368,
                    0.0086874488939368,
                    0.0086874488939368,
                    0.0086874488939368,
                    0.0086874488939368,
                    0.0086874488939368,
                    0.0086874488939368,
                    0.0086874488939368,
                    0.0086874488939368,
                    0.0086874488939368,
                    0.0086874488939368,
                    0.0086874488939368,
                    0.0086874488939368,
                    0.0086874488939368,
                    0.0086874488939368,
                    0.0086874488939368,
                    0.0086874488939368,
                    0.0086874488939368,
                    0.0086874488939368,
                    0.0086874488939368,
                    0.0086874488939368,
                    0.0086874488939368,
                    0.0086874488939368,
                    0.0086874488939368,
                    0.0086874488939368,
                    0.0086874488939368,
                    0.0086874488939368,
                    0.0086874488939368,
                    0.0086874488939368,
                    0.0086874488939368,
                    0.0086874488939368,
                    0.0086874488939368,
                    0.0086874488939368,
                    0.0086874488939368,
                    0.0086874488939368,
                    0.0086874488939368,
                    0.0086874488939368,
                    0.0086874488939368,
                    0.0086874488939368,
                    0.0086874488939368,
                    0.0086874488939368,
                    0.0086874488939368,
                    0.0086874488939368,
                    0.0086874488939368,
                    0.0086874488939368,
                    0.0086874488939368,
                    0.0086874488939368,
                    0.0086874488939368,
                    0.0086874488939368,
                    0.0086874488939368,
                    0.0086874488939368,
                    0.0086874488939368,
                    0.0086874488939368,
                    0.0086874488939368,
                    0.0086874488939368,
                    0.0086874488939368,
                    0.0086874488939368,
                    0.0086874488939368,
                    0.0086874488939368,
                    0.0086874488939368,
                    0.0086874488939368,
                    0.0086874488939368,
                    0.0086874488939368,
                    0.0086874488939368,
                    0.0086874488939368,
                    0.0086874488939368,
                    0.0086874488939368,
                    0.0086874488939368,
                    0.0086874488939368,
                    0.0086874488939368,
                    0.0086874488939368,
                    0.0086874488939368,
                    0.0086874488939368,
                    0.0086874488939368,
                    0.0086874488939368,
                    0.0086874488939368,
                    0.0086874488939368,
                    0.0086874488939368,
                    0.0086874488939368,
                    0.0086874488939368,
                    0.0086874488939368,
                    0.0086874488939368,
                    0.0086874488939368,
                    0.0086874488939368,
                    0.0086874488939368,
                    0.0086874488939368,
                    0.0086874488939368,
                    0.0086874488939368,
                    0.0086874488939368,
                    0.0086874488939368,
                    0.0086874488939368,
                    0.0086874488939368,
                    0.0086874488939368,
                    0.0086874488939368,
                    0.0086874488939368,
                    0.0086874488939368,
                    0.0086874488939368,
                    0.0086874488939368,
                    0.0086874488939368,
                    0.0086874488939368,
                    0.0086874488939368,
                    0.0086874488939368,
                    0.0086874488939368,
                    0.0086874488939368,
                    0.0086874488939368,
                    0.0086874488939368,
                    0.0086874488939368,
                    0.0086874488939368,
                    0.0086874488939368,
                    0.0086874488939368,
                    0.0086874488939368,
                    0.0086874488939368,
                    0.0086874488939368,
                    0.0086874488939368,
                    0.0086874488939368,
                    0.0086874488939368,
                    0.0086874488939368,
                    0.0086874488939368,
                    0.0086874488939368,
                    0.0086874488939368,
                    0.0086874488939368,
                    0.0086874488939368,
                    0.0086874488939368,
                    0.0086874488939368,
                    0.0086874488939368,
                    0.0086874488939368,
                    0.0086874488939368,
                    0.0086874488939368,
                    0.0086874488939368,
                    0.0086874488939368,
                    0.0086874488939368,
                    0.0086874488939368,
                    0.0086874488939368,
                    0.0086874488939368,
                    0.0086874488939368,
                    0.0086874488939368,
                    0.0086874488939368,
                    0.0086874488939368,
                    0.0086874488939368,
                    0.0086874488939368,
                    0.0086874488939368,
                    0.0086874488939368,
                    0.0086874488939368,
                    0.0086874488939368,
                    0.0086874488939368,
                    0.0086874488939368,
                    0.0086874488939368,
                    0.0086874488939368,
                    0.007304838209347686,
                    0.021525695148178814,
                    0.039104125986206384,
                    0.039104125986206384,
                    0.039104125986206384,
                    0.039104125986206384,
                    0.039104125986206384,
                    0.039104125986206384,
                    0.039104125986206384,
                    0.039104125986206384,
                    0.039104125986206384,
                    0.039104125986206384,
                    0.039104125986206384,
                    0.039104125986206384,
                    0.039104125986206384,
                    0.039104125986206384,
                    0.039104125986206384,
                    0.039104125986206384,
                    0.039104125986206384,
                    0.039104125986206384,
                    0.039104125986206384,
                    0.039104125986206384,
                    0.039104125986206384,
                    0.039104125986206384,
                    0.039104125986206384,
                    0.039104125986206384,
                    0.039104125986206384,
                    0.039104125986206384,
                    0.039104125986206384,
                    0.039104125986206384,
                    0.039104125986206384,
                    0.039104125986206384,
                    0.039104125986206384,
                    0.039104125986206384,
                    0.039104125986206384,
                    0.039104125986206384,
                    0.039104125986206384,
                    0.039104125986206384,
                    0.039104125986206384,
                    0.039104125986206384,
                    0.039104125986206384,
                    0.039104125986206384,
                    0.039104125986206384,
                    0.039104125986206384,
                    0.039104125986206384,
                    0.039104125986206384,
                    0.039104125986206384,
                    0.039104125986206384,
                    0.039104125986206384,
                    0.01743478801244902,
                    0.032279114072784054,
                    0.0715227698546177,
                    0.06145591308079568,
                    0.06145591308079568,
                    0.06145591308079568,
                    0.06145591308079568,
                    0.06145591308079568,
                    0.06145591308079568,
                    0.06145591308079568,
                    0.06145591308079568,
                    0.06145591308079568,
                    0.06145591308079568,
                    0.06145591308079568,
                    0.06145591308079568,
                    0.06145591308079568,
                    0.06145591308079568,
                    0.06145591308079568,
                    0.06145591308079568,
                    0.06145591308079568,
                    0.06145591308079568
                  ]
                }
              ],
              "layout": {
                "legend": {
                  "bgcolor": "#F5F6F9",
                  "font": {
                    "color": "#4D5663"
                  }
                },
                "paper_bgcolor": "#F5F6F9",
                "plot_bgcolor": "#F5F6F9",
                "template": {
                  "data": {
                    "bar": [
                      {
                        "error_x": {
                          "color": "#2a3f5f"
                        },
                        "error_y": {
                          "color": "#2a3f5f"
                        },
                        "marker": {
                          "line": {
                            "color": "#E5ECF6",
                            "width": 0.5
                          },
                          "pattern": {
                            "fillmode": "overlay",
                            "size": 10,
                            "solidity": 0.2
                          }
                        },
                        "type": "bar"
                      }
                    ],
                    "barpolar": [
                      {
                        "marker": {
                          "line": {
                            "color": "#E5ECF6",
                            "width": 0.5
                          },
                          "pattern": {
                            "fillmode": "overlay",
                            "size": 10,
                            "solidity": 0.2
                          }
                        },
                        "type": "barpolar"
                      }
                    ],
                    "carpet": [
                      {
                        "aaxis": {
                          "endlinecolor": "#2a3f5f",
                          "gridcolor": "white",
                          "linecolor": "white",
                          "minorgridcolor": "white",
                          "startlinecolor": "#2a3f5f"
                        },
                        "baxis": {
                          "endlinecolor": "#2a3f5f",
                          "gridcolor": "white",
                          "linecolor": "white",
                          "minorgridcolor": "white",
                          "startlinecolor": "#2a3f5f"
                        },
                        "type": "carpet"
                      }
                    ],
                    "choropleth": [
                      {
                        "colorbar": {
                          "outlinewidth": 0,
                          "ticks": ""
                        },
                        "type": "choropleth"
                      }
                    ],
                    "contour": [
                      {
                        "colorbar": {
                          "outlinewidth": 0,
                          "ticks": ""
                        },
                        "colorscale": [
                          [
                            0,
                            "#0d0887"
                          ],
                          [
                            0.1111111111111111,
                            "#46039f"
                          ],
                          [
                            0.2222222222222222,
                            "#7201a8"
                          ],
                          [
                            0.3333333333333333,
                            "#9c179e"
                          ],
                          [
                            0.4444444444444444,
                            "#bd3786"
                          ],
                          [
                            0.5555555555555556,
                            "#d8576b"
                          ],
                          [
                            0.6666666666666666,
                            "#ed7953"
                          ],
                          [
                            0.7777777777777778,
                            "#fb9f3a"
                          ],
                          [
                            0.8888888888888888,
                            "#fdca26"
                          ],
                          [
                            1,
                            "#f0f921"
                          ]
                        ],
                        "type": "contour"
                      }
                    ],
                    "contourcarpet": [
                      {
                        "colorbar": {
                          "outlinewidth": 0,
                          "ticks": ""
                        },
                        "type": "contourcarpet"
                      }
                    ],
                    "heatmap": [
                      {
                        "colorbar": {
                          "outlinewidth": 0,
                          "ticks": ""
                        },
                        "colorscale": [
                          [
                            0,
                            "#0d0887"
                          ],
                          [
                            0.1111111111111111,
                            "#46039f"
                          ],
                          [
                            0.2222222222222222,
                            "#7201a8"
                          ],
                          [
                            0.3333333333333333,
                            "#9c179e"
                          ],
                          [
                            0.4444444444444444,
                            "#bd3786"
                          ],
                          [
                            0.5555555555555556,
                            "#d8576b"
                          ],
                          [
                            0.6666666666666666,
                            "#ed7953"
                          ],
                          [
                            0.7777777777777778,
                            "#fb9f3a"
                          ],
                          [
                            0.8888888888888888,
                            "#fdca26"
                          ],
                          [
                            1,
                            "#f0f921"
                          ]
                        ],
                        "type": "heatmap"
                      }
                    ],
                    "heatmapgl": [
                      {
                        "colorbar": {
                          "outlinewidth": 0,
                          "ticks": ""
                        },
                        "colorscale": [
                          [
                            0,
                            "#0d0887"
                          ],
                          [
                            0.1111111111111111,
                            "#46039f"
                          ],
                          [
                            0.2222222222222222,
                            "#7201a8"
                          ],
                          [
                            0.3333333333333333,
                            "#9c179e"
                          ],
                          [
                            0.4444444444444444,
                            "#bd3786"
                          ],
                          [
                            0.5555555555555556,
                            "#d8576b"
                          ],
                          [
                            0.6666666666666666,
                            "#ed7953"
                          ],
                          [
                            0.7777777777777778,
                            "#fb9f3a"
                          ],
                          [
                            0.8888888888888888,
                            "#fdca26"
                          ],
                          [
                            1,
                            "#f0f921"
                          ]
                        ],
                        "type": "heatmapgl"
                      }
                    ],
                    "histogram": [
                      {
                        "marker": {
                          "pattern": {
                            "fillmode": "overlay",
                            "size": 10,
                            "solidity": 0.2
                          }
                        },
                        "type": "histogram"
                      }
                    ],
                    "histogram2d": [
                      {
                        "colorbar": {
                          "outlinewidth": 0,
                          "ticks": ""
                        },
                        "colorscale": [
                          [
                            0,
                            "#0d0887"
                          ],
                          [
                            0.1111111111111111,
                            "#46039f"
                          ],
                          [
                            0.2222222222222222,
                            "#7201a8"
                          ],
                          [
                            0.3333333333333333,
                            "#9c179e"
                          ],
                          [
                            0.4444444444444444,
                            "#bd3786"
                          ],
                          [
                            0.5555555555555556,
                            "#d8576b"
                          ],
                          [
                            0.6666666666666666,
                            "#ed7953"
                          ],
                          [
                            0.7777777777777778,
                            "#fb9f3a"
                          ],
                          [
                            0.8888888888888888,
                            "#fdca26"
                          ],
                          [
                            1,
                            "#f0f921"
                          ]
                        ],
                        "type": "histogram2d"
                      }
                    ],
                    "histogram2dcontour": [
                      {
                        "colorbar": {
                          "outlinewidth": 0,
                          "ticks": ""
                        },
                        "colorscale": [
                          [
                            0,
                            "#0d0887"
                          ],
                          [
                            0.1111111111111111,
                            "#46039f"
                          ],
                          [
                            0.2222222222222222,
                            "#7201a8"
                          ],
                          [
                            0.3333333333333333,
                            "#9c179e"
                          ],
                          [
                            0.4444444444444444,
                            "#bd3786"
                          ],
                          [
                            0.5555555555555556,
                            "#d8576b"
                          ],
                          [
                            0.6666666666666666,
                            "#ed7953"
                          ],
                          [
                            0.7777777777777778,
                            "#fb9f3a"
                          ],
                          [
                            0.8888888888888888,
                            "#fdca26"
                          ],
                          [
                            1,
                            "#f0f921"
                          ]
                        ],
                        "type": "histogram2dcontour"
                      }
                    ],
                    "mesh3d": [
                      {
                        "colorbar": {
                          "outlinewidth": 0,
                          "ticks": ""
                        },
                        "type": "mesh3d"
                      }
                    ],
                    "parcoords": [
                      {
                        "line": {
                          "colorbar": {
                            "outlinewidth": 0,
                            "ticks": ""
                          }
                        },
                        "type": "parcoords"
                      }
                    ],
                    "pie": [
                      {
                        "automargin": true,
                        "type": "pie"
                      }
                    ],
                    "scatter": [
                      {
                        "fillpattern": {
                          "fillmode": "overlay",
                          "size": 10,
                          "solidity": 0.2
                        },
                        "type": "scatter"
                      }
                    ],
                    "scatter3d": [
                      {
                        "line": {
                          "colorbar": {
                            "outlinewidth": 0,
                            "ticks": ""
                          }
                        },
                        "marker": {
                          "colorbar": {
                            "outlinewidth": 0,
                            "ticks": ""
                          }
                        },
                        "type": "scatter3d"
                      }
                    ],
                    "scattercarpet": [
                      {
                        "marker": {
                          "colorbar": {
                            "outlinewidth": 0,
                            "ticks": ""
                          }
                        },
                        "type": "scattercarpet"
                      }
                    ],
                    "scattergeo": [
                      {
                        "marker": {
                          "colorbar": {
                            "outlinewidth": 0,
                            "ticks": ""
                          }
                        },
                        "type": "scattergeo"
                      }
                    ],
                    "scattergl": [
                      {
                        "marker": {
                          "colorbar": {
                            "outlinewidth": 0,
                            "ticks": ""
                          }
                        },
                        "type": "scattergl"
                      }
                    ],
                    "scattermapbox": [
                      {
                        "marker": {
                          "colorbar": {
                            "outlinewidth": 0,
                            "ticks": ""
                          }
                        },
                        "type": "scattermapbox"
                      }
                    ],
                    "scatterpolar": [
                      {
                        "marker": {
                          "colorbar": {
                            "outlinewidth": 0,
                            "ticks": ""
                          }
                        },
                        "type": "scatterpolar"
                      }
                    ],
                    "scatterpolargl": [
                      {
                        "marker": {
                          "colorbar": {
                            "outlinewidth": 0,
                            "ticks": ""
                          }
                        },
                        "type": "scatterpolargl"
                      }
                    ],
                    "scatterternary": [
                      {
                        "marker": {
                          "colorbar": {
                            "outlinewidth": 0,
                            "ticks": ""
                          }
                        },
                        "type": "scatterternary"
                      }
                    ],
                    "surface": [
                      {
                        "colorbar": {
                          "outlinewidth": 0,
                          "ticks": ""
                        },
                        "colorscale": [
                          [
                            0,
                            "#0d0887"
                          ],
                          [
                            0.1111111111111111,
                            "#46039f"
                          ],
                          [
                            0.2222222222222222,
                            "#7201a8"
                          ],
                          [
                            0.3333333333333333,
                            "#9c179e"
                          ],
                          [
                            0.4444444444444444,
                            "#bd3786"
                          ],
                          [
                            0.5555555555555556,
                            "#d8576b"
                          ],
                          [
                            0.6666666666666666,
                            "#ed7953"
                          ],
                          [
                            0.7777777777777778,
                            "#fb9f3a"
                          ],
                          [
                            0.8888888888888888,
                            "#fdca26"
                          ],
                          [
                            1,
                            "#f0f921"
                          ]
                        ],
                        "type": "surface"
                      }
                    ],
                    "table": [
                      {
                        "cells": {
                          "fill": {
                            "color": "#EBF0F8"
                          },
                          "line": {
                            "color": "white"
                          }
                        },
                        "header": {
                          "fill": {
                            "color": "#C8D4E3"
                          },
                          "line": {
                            "color": "white"
                          }
                        },
                        "type": "table"
                      }
                    ]
                  },
                  "layout": {
                    "annotationdefaults": {
                      "arrowcolor": "#2a3f5f",
                      "arrowhead": 0,
                      "arrowwidth": 1
                    },
                    "autotypenumbers": "strict",
                    "coloraxis": {
                      "colorbar": {
                        "outlinewidth": 0,
                        "ticks": ""
                      }
                    },
                    "colorscale": {
                      "diverging": [
                        [
                          0,
                          "#8e0152"
                        ],
                        [
                          0.1,
                          "#c51b7d"
                        ],
                        [
                          0.2,
                          "#de77ae"
                        ],
                        [
                          0.3,
                          "#f1b6da"
                        ],
                        [
                          0.4,
                          "#fde0ef"
                        ],
                        [
                          0.5,
                          "#f7f7f7"
                        ],
                        [
                          0.6,
                          "#e6f5d0"
                        ],
                        [
                          0.7,
                          "#b8e186"
                        ],
                        [
                          0.8,
                          "#7fbc41"
                        ],
                        [
                          0.9,
                          "#4d9221"
                        ],
                        [
                          1,
                          "#276419"
                        ]
                      ],
                      "sequential": [
                        [
                          0,
                          "#0d0887"
                        ],
                        [
                          0.1111111111111111,
                          "#46039f"
                        ],
                        [
                          0.2222222222222222,
                          "#7201a8"
                        ],
                        [
                          0.3333333333333333,
                          "#9c179e"
                        ],
                        [
                          0.4444444444444444,
                          "#bd3786"
                        ],
                        [
                          0.5555555555555556,
                          "#d8576b"
                        ],
                        [
                          0.6666666666666666,
                          "#ed7953"
                        ],
                        [
                          0.7777777777777778,
                          "#fb9f3a"
                        ],
                        [
                          0.8888888888888888,
                          "#fdca26"
                        ],
                        [
                          1,
                          "#f0f921"
                        ]
                      ],
                      "sequentialminus": [
                        [
                          0,
                          "#0d0887"
                        ],
                        [
                          0.1111111111111111,
                          "#46039f"
                        ],
                        [
                          0.2222222222222222,
                          "#7201a8"
                        ],
                        [
                          0.3333333333333333,
                          "#9c179e"
                        ],
                        [
                          0.4444444444444444,
                          "#bd3786"
                        ],
                        [
                          0.5555555555555556,
                          "#d8576b"
                        ],
                        [
                          0.6666666666666666,
                          "#ed7953"
                        ],
                        [
                          0.7777777777777778,
                          "#fb9f3a"
                        ],
                        [
                          0.8888888888888888,
                          "#fdca26"
                        ],
                        [
                          1,
                          "#f0f921"
                        ]
                      ]
                    },
                    "colorway": [
                      "#636efa",
                      "#EF553B",
                      "#00cc96",
                      "#ab63fa",
                      "#FFA15A",
                      "#19d3f3",
                      "#FF6692",
                      "#B6E880",
                      "#FF97FF",
                      "#FECB52"
                    ],
                    "font": {
                      "color": "#2a3f5f"
                    },
                    "geo": {
                      "bgcolor": "white",
                      "lakecolor": "white",
                      "landcolor": "#E5ECF6",
                      "showlakes": true,
                      "showland": true,
                      "subunitcolor": "white"
                    },
                    "hoverlabel": {
                      "align": "left"
                    },
                    "hovermode": "closest",
                    "mapbox": {
                      "style": "light"
                    },
                    "paper_bgcolor": "white",
                    "plot_bgcolor": "#E5ECF6",
                    "polar": {
                      "angularaxis": {
                        "gridcolor": "white",
                        "linecolor": "white",
                        "ticks": ""
                      },
                      "bgcolor": "#E5ECF6",
                      "radialaxis": {
                        "gridcolor": "white",
                        "linecolor": "white",
                        "ticks": ""
                      }
                    },
                    "scene": {
                      "xaxis": {
                        "backgroundcolor": "#E5ECF6",
                        "gridcolor": "white",
                        "gridwidth": 2,
                        "linecolor": "white",
                        "showbackground": true,
                        "ticks": "",
                        "zerolinecolor": "white"
                      },
                      "yaxis": {
                        "backgroundcolor": "#E5ECF6",
                        "gridcolor": "white",
                        "gridwidth": 2,
                        "linecolor": "white",
                        "showbackground": true,
                        "ticks": "",
                        "zerolinecolor": "white"
                      },
                      "zaxis": {
                        "backgroundcolor": "#E5ECF6",
                        "gridcolor": "white",
                        "gridwidth": 2,
                        "linecolor": "white",
                        "showbackground": true,
                        "ticks": "",
                        "zerolinecolor": "white"
                      }
                    },
                    "shapedefaults": {
                      "line": {
                        "color": "#2a3f5f"
                      }
                    },
                    "ternary": {
                      "aaxis": {
                        "gridcolor": "white",
                        "linecolor": "white",
                        "ticks": ""
                      },
                      "baxis": {
                        "gridcolor": "white",
                        "linecolor": "white",
                        "ticks": ""
                      },
                      "bgcolor": "#E5ECF6",
                      "caxis": {
                        "gridcolor": "white",
                        "linecolor": "white",
                        "ticks": ""
                      }
                    },
                    "title": {
                      "x": 0.05
                    },
                    "xaxis": {
                      "automargin": true,
                      "gridcolor": "white",
                      "linecolor": "white",
                      "ticks": "",
                      "title": {
                        "standoff": 15
                      },
                      "zerolinecolor": "white",
                      "zerolinewidth": 2
                    },
                    "yaxis": {
                      "automargin": true,
                      "gridcolor": "white",
                      "linecolor": "white",
                      "ticks": "",
                      "title": {
                        "standoff": 15
                      },
                      "zerolinecolor": "white",
                      "zerolinewidth": 2
                    }
                  }
                },
                "title": {
                  "font": {
                    "color": "#4D5663"
                  }
                },
                "xaxis": {
                  "gridcolor": "#E1E5ED",
                  "showgrid": true,
                  "tickfont": {
                    "color": "#4D5663"
                  },
                  "title": {
                    "font": {
                      "color": "#4D5663"
                    },
                    "text": ""
                  },
                  "zerolinecolor": "#E1E5ED"
                },
                "yaxis": {
                  "gridcolor": "#E1E5ED",
                  "showgrid": true,
                  "tickfont": {
                    "color": "#4D5663"
                  },
                  "title": {
                    "font": {
                      "color": "#4D5663"
                    },
                    "text": ""
                  },
                  "zerolinecolor": "#E1E5ED"
                }
              }
            },
            "text/html": [
              "<div>                            <div id=\"a350de9a-17bf-415a-be76-44c8b9f64a44\" class=\"plotly-graph-div\" style=\"height:525px; width:100%;\"></div>            <script type=\"text/javascript\">                require([\"plotly\"], function(Plotly) {                    window.PLOTLYENV=window.PLOTLYENV || {};\n",
              "                    window.PLOTLYENV.BASE_URL='https://plot.ly';                                    if (document.getElementById(\"a350de9a-17bf-415a-be76-44c8b9f64a44\")) {                    Plotly.newPlot(                        \"a350de9a-17bf-415a-be76-44c8b9f64a44\",                        [{\"line\":{\"color\":\"rgba(255, 153, 51, 1.0)\",\"dash\":\"solid\",\"shape\":\"linear\",\"width\":1.3},\"mode\":\"lines\",\"name\":\"retorno\",\"text\":\"\",\"x\":[\"2023-02-01\",\"2023-02-02\",\"2023-02-03\",\"2023-02-06\",\"2023-02-07\",\"2023-02-08\",\"2023-02-09\",\"2023-02-10\",\"2023-02-13\",\"2023-02-14\",\"2023-02-15\",\"2023-02-16\",\"2023-02-17\",\"2023-02-22\",\"2023-02-23\",\"2023-02-24\",\"2023-02-27\",\"2023-02-28\",\"2023-03-01\",\"2023-03-02\",\"2023-03-03\",\"2023-03-06\",\"2023-03-07\",\"2023-03-08\",\"2023-03-09\",\"2023-03-10\",\"2023-03-13\",\"2023-03-14\",\"2023-03-15\",\"2023-03-16\",\"2023-03-17\",\"2023-03-20\",\"2023-03-21\",\"2023-03-22\",\"2023-03-23\",\"2023-03-24\",\"2023-03-27\",\"2023-03-28\",\"2023-03-29\",\"2023-03-30\",\"2023-03-31\",\"2023-04-03\",\"2023-04-04\",\"2023-04-05\",\"2023-04-06\",\"2023-04-10\",\"2023-04-11\",\"2023-04-12\",\"2023-04-13\",\"2023-04-14\",\"2023-04-17\",\"2023-04-18\",\"2023-04-19\",\"2023-04-20\",\"2023-04-24\",\"2023-04-25\",\"2023-04-26\",\"2023-04-27\",\"2023-04-28\",\"2023-05-02\",\"2023-05-03\",\"2023-05-04\",\"2023-05-05\",\"2023-05-08\",\"2023-05-09\",\"2023-05-10\",\"2023-05-11\",\"2023-05-12\",\"2023-05-15\",\"2023-05-16\",\"2023-05-17\",\"2023-05-18\",\"2023-05-19\",\"2023-05-22\",\"2023-05-23\",\"2023-05-24\",\"2023-05-25\",\"2023-05-26\",\"2023-05-29\",\"2023-05-30\",\"2023-05-31\",\"2023-06-01\",\"2023-06-02\",\"2023-06-05\",\"2023-06-06\",\"2023-06-07\",\"2023-06-09\",\"2023-06-12\",\"2023-06-13\",\"2023-06-14\",\"2023-06-15\",\"2023-06-16\",\"2023-06-19\",\"2023-06-20\",\"2023-06-21\",\"2023-06-22\",\"2023-06-23\",\"2023-06-26\",\"2023-06-27\",\"2023-06-28\",\"2023-06-29\",\"2023-06-30\",\"2023-07-03\",\"2023-07-04\",\"2023-07-05\",\"2023-07-06\",\"2023-07-07\",\"2023-07-10\",\"2023-07-11\",\"2023-07-12\",\"2023-07-13\",\"2023-07-14\",\"2023-07-17\",\"2023-07-18\",\"2023-07-19\",\"2023-07-20\",\"2023-07-21\",\"2023-07-24\",\"2023-07-25\",\"2023-07-26\",\"2023-07-27\",\"2023-07-28\",\"2023-07-31\",\"2023-08-01\",\"2023-08-02\",\"2023-08-03\",\"2023-08-04\",\"2023-08-07\",\"2023-08-08\",\"2023-08-09\",\"2023-08-10\",\"2023-08-11\",\"2023-08-14\",\"2023-08-15\",\"2023-08-16\",\"2023-08-17\",\"2023-08-18\",\"2023-08-21\",\"2023-08-22\",\"2023-08-23\",\"2023-08-24\",\"2023-08-25\",\"2023-08-28\",\"2023-08-29\",\"2023-08-30\",\"2023-08-31\",\"2023-09-01\",\"2023-09-04\",\"2023-09-05\",\"2023-09-06\",\"2023-09-08\",\"2023-09-11\",\"2023-09-12\",\"2023-09-13\",\"2023-09-14\",\"2023-09-15\",\"2023-09-18\",\"2023-09-19\",\"2023-09-20\",\"2023-09-21\",\"2023-09-22\",\"2023-09-25\",\"2023-09-26\",\"2023-09-27\",\"2023-09-28\",\"2023-09-29\",\"2023-10-02\",\"2023-10-03\",\"2023-10-04\",\"2023-10-05\",\"2023-10-06\",\"2023-10-09\",\"2023-10-10\",\"2023-10-11\",\"2023-10-13\",\"2023-10-16\",\"2023-10-17\",\"2023-10-18\",\"2023-10-19\",\"2023-10-20\",\"2023-10-23\",\"2023-10-24\",\"2023-10-25\",\"2023-10-26\",\"2023-10-27\",\"2023-10-30\",\"2023-10-31\",\"2023-11-01\",\"2023-11-03\",\"2023-11-06\",\"2023-11-07\",\"2023-11-08\",\"2023-11-09\",\"2023-11-10\",\"2023-11-13\",\"2023-11-14\",\"2023-11-16\",\"2023-11-17\",\"2023-11-20\",\"2023-11-21\",\"2023-11-22\",\"2023-11-23\",\"2023-11-24\",\"2023-11-27\",\"2023-11-28\",\"2023-11-29\",\"2023-11-30\",\"2023-12-01\",\"2023-12-04\",\"2023-12-05\",\"2023-12-06\",\"2023-12-07\",\"2023-12-08\",\"2023-12-11\",\"2023-12-12\",\"2023-12-13\",\"2023-12-14\",\"2023-12-15\",\"2023-12-18\",\"2023-12-19\",\"2023-12-20\",\"2023-12-21\",\"2023-12-22\",\"2023-12-26\",\"2023-12-27\",\"2023-12-28\",\"2024-01-02\",\"2024-01-03\",\"2024-01-04\",\"2024-01-05\",\"2024-01-08\",\"2024-01-09\",\"2024-01-10\",\"2024-01-11\",\"2024-01-12\",\"2024-01-15\",\"2024-01-16\",\"2024-01-17\",\"2024-01-18\",\"2024-01-19\",\"2024-01-22\",\"2024-01-23\",\"2024-01-24\",\"2024-01-25\",\"2024-01-26\",\"2024-01-29\",\"2024-01-30\",\"2024-01-31\",\"2024-02-01\"],\"y\":[\"\",0.02767816822760749,-0.01025116846636731,-0.012301348685978208,-0.021185596655115324,0.000341696703268779,-0.03177859550890727,-0.02938651805979342,-0.032974533970346886,-0.052451713951197965,-0.03263283726707833,-0.007517394313984571,-0.014351528905588884,-0.05108492713812396,-0.05467274252244325,-0.06031093865260784,-0.06338634266618048,-0.051939102054217146,-0.08901419699002067,-0.09208953416151522,-0.09533571968464405,-0.08867243344467413,-0.08747649498323429,-0.043225635594636214,-0.04390909584325131,-0.061848640659394216,-0.06475312947925449,-0.10285324768278548,-0.09618996144281555,-0.04681358466311181,-0.08183829885307015,-0.09345638781666765,-0.11128270215250202,-0.11247743745653582,-0.14558879716076223,-0.12459550516435236,-0.11469619339712533,-0.08772909119638994,-0.08611264922159678,-0.0534245335559258,-0.08129534065262944,-0.10366090051251775,-0.084908355500394,-0.09144584494937202,-0.10125217938595621,-0.10486519423372076,-0.022801102840814713,-0.010758165628787064,-0.003016248774450059,-0.01196245934998974,-0.004220542495652846,-0.021596809119611926,-0.056349342367529975,-0.027618210883547656,-0.027962313901627844,-0.033123658646597165,-0.026241999337460853,-0.008349578186381379,-0.001984006562287366,-0.03604833377404493,-0.025381674950182065,-0.009037717380463661,0.0038654105346864753,0.000940735407238602,0.013843863322388739,0.03311256286163289,0.06390811192786261,0.05857478251593107,0.053929659140160124,0.05169319004887285,0.0709618227460389,0.08283270844902635,0.08919834691519868,0.08919834691519868,0.08386501750326736,0.07835963658229583,0.10003692356394556,0.10519813462475858,0.10502621679987478,0.08747789866687561,0.06734894158243088,0.127391642975607,0.13805816811531346,0.14390765205436518,0.16644519658121548,0.16214404253936876,0.1729827528722716,0.1566389289867096,0.1323810030536141,0.15405829003526383,0.14648829100581096,0.11964979296334799,0.16334840310264953,0.15388610484206766,0.15921943425399898,0.16730545412641606,0.16128391867832415,0.16128391867832415,0.14528393044252974,0.14149906461195938,0.17504737098075274,0.1784881337932427,0.19542043533443376,0.19230759975712264,0.2083896700648289,0.19749548080709944,0.21288560192227135,0.20579579638191858,0.20129973084031993,0.2139231246586042,0.21253976101016048,0.18418040516459344,0.1997433798937427,0.1973224935089659,0.2011268772263426,0.21011887462538348,0.2161711574294034,0.20268322817291984,0.17864681688666173,0.1767446250279734,0.1438892036408077,0.154091577390159,0.16239202664913432,0.16723393310284407,0.1698276731015982,0.15374587016220453,0.15893348384386896,0.1480392945861395,0.14769358735818483,0.14509957999111833,0.15080615556718358,0.15184367830351664,0.1113794894815976,0.12383002968590429,0.10826685443052075,0.08509517910869624,0.08889949598399483,0.08077210086523112,0.11881526961821742,0.1482122818842735,0.1331678679970565,0.08959117780821702,0.0869973709673848,0.10048536706594646,0.09754565247092528,0.0937413355956267,0.10204165117044584,0.0954705401561815,0.07575727395546639,0.04774369217993213,0.043593467550444354,0.058983789191850544,0.0750655921312442,0.08820781415977286,0.06901330932722427,0.04272886527016673,0.03684943608012414,0.035811980185869396,0.03196080701381976,0.010544404663010543,0.004326754557760992,-0.0005092697930755286,-0.009663091863206685,-0.022616551863169243,-0.005104127926112034,0.01997729240922652,-0.0159030672225432,-0.04028779257780213,-0.032623947270690845,-0.03332070909284868,-0.04969327507199561,-0.047254809220677374,-0.023392655232036708,-0.031753128677149633,-0.06310487067528392,-0.07076864914031711,-0.07703897080311273,-0.11048086458356432,-0.11048086458356432,-0.11170013093026243,-0.09915935392051489,-0.08365767337698715,-0.1054297424253886,-0.09010218549532234,-0.12145399433553472,-0.12371826973131339,-0.1139644063260411,-0.09567587902011643,-0.045338847893899525,-0.05927301486380643,-0.0361075558552455,-0.033320709092848344,-0.03767513627094432,-0.012767906391145,-0.036804250835325014,0.027641070874260043,0.06073458374363283,0.05899281287239444,0.06038626967463201,0.04575540772464537,0.04854225448704241,0.057599422912234965,0.04157517100208885,0.027641070874260043,0.028686146765418696,0.031647117141277104,0.04575540772464537,0.05794780382331388,0.05638022340761495,0.05899281287239422,0.06369555411949102,0.07101101851552327,0.06386981141710835,0.06474063001064945,0.05411588116975796,0.09591818155324439,0.13754629148119135,0.11542597520586728,0.12117385918620083,0.12082541143304382,0.09981367102307726,0.12278087642798119,0.12260681965659792,0.11703894139259896,0.11441505561661991,0.11441505561661991,0.07341298859219658,0.06710503483942842,0.044851769670755104,0.0600961082135818,0.10039726920700476,0.09005913919702402,0.10390173251992807,0.06903242616156202,0.06885723307485114,0.07201124337227416,0.05624119188515819,0.06780587402835048,0.04012075422462025,0.052911988501024076,0.028731265168139064,0.03766764995819738,0.02732951994821642,0.022598504502081562,-0.014548646193918269,-0.02839123951682243,-0.045212583208360635,-0.05169586373199608,-0.04836659350578376],\"type\":\"scatter\"},{\"line\":{\"color\":\"rgba(55, 128, 191, 1.0)\",\"dash\":\"solid\",\"shape\":\"linear\",\"width\":1.3},\"mode\":\"lines\",\"name\":\"retorno_estrategia\",\"text\":\"\",\"x\":[\"2023-02-01\",\"2023-02-02\",\"2023-02-03\",\"2023-02-06\",\"2023-02-07\",\"2023-02-08\",\"2023-02-09\",\"2023-02-10\",\"2023-02-13\",\"2023-02-14\",\"2023-02-15\",\"2023-02-16\",\"2023-02-17\",\"2023-02-22\",\"2023-02-23\",\"2023-02-24\",\"2023-02-27\",\"2023-02-28\",\"2023-03-01\",\"2023-03-02\",\"2023-03-03\",\"2023-03-06\",\"2023-03-07\",\"2023-03-08\",\"2023-03-09\",\"2023-03-10\",\"2023-03-13\",\"2023-03-14\",\"2023-03-15\",\"2023-03-16\",\"2023-03-17\",\"2023-03-20\",\"2023-03-21\",\"2023-03-22\",\"2023-03-23\",\"2023-03-24\",\"2023-03-27\",\"2023-03-28\",\"2023-03-29\",\"2023-03-30\",\"2023-03-31\",\"2023-04-03\",\"2023-04-04\",\"2023-04-05\",\"2023-04-06\",\"2023-04-10\",\"2023-04-11\",\"2023-04-12\",\"2023-04-13\",\"2023-04-14\",\"2023-04-17\",\"2023-04-18\",\"2023-04-19\",\"2023-04-20\",\"2023-04-24\",\"2023-04-25\",\"2023-04-26\",\"2023-04-27\",\"2023-04-28\",\"2023-05-02\",\"2023-05-03\",\"2023-05-04\",\"2023-05-05\",\"2023-05-08\",\"2023-05-09\",\"2023-05-10\",\"2023-05-11\",\"2023-05-12\",\"2023-05-15\",\"2023-05-16\",\"2023-05-17\",\"2023-05-18\",\"2023-05-19\",\"2023-05-22\",\"2023-05-23\",\"2023-05-24\",\"2023-05-25\",\"2023-05-26\",\"2023-05-29\",\"2023-05-30\",\"2023-05-31\",\"2023-06-01\",\"2023-06-02\",\"2023-06-05\",\"2023-06-06\",\"2023-06-07\",\"2023-06-09\",\"2023-06-12\",\"2023-06-13\",\"2023-06-14\",\"2023-06-15\",\"2023-06-16\",\"2023-06-19\",\"2023-06-20\",\"2023-06-21\",\"2023-06-22\",\"2023-06-23\",\"2023-06-26\",\"2023-06-27\",\"2023-06-28\",\"2023-06-29\",\"2023-06-30\",\"2023-07-03\",\"2023-07-04\",\"2023-07-05\",\"2023-07-06\",\"2023-07-07\",\"2023-07-10\",\"2023-07-11\",\"2023-07-12\",\"2023-07-13\",\"2023-07-14\",\"2023-07-17\",\"2023-07-18\",\"2023-07-19\",\"2023-07-20\",\"2023-07-21\",\"2023-07-24\",\"2023-07-25\",\"2023-07-26\",\"2023-07-27\",\"2023-07-28\",\"2023-07-31\",\"2023-08-01\",\"2023-08-02\",\"2023-08-03\",\"2023-08-04\",\"2023-08-07\",\"2023-08-08\",\"2023-08-09\",\"2023-08-10\",\"2023-08-11\",\"2023-08-14\",\"2023-08-15\",\"2023-08-16\",\"2023-08-17\",\"2023-08-18\",\"2023-08-21\",\"2023-08-22\",\"2023-08-23\",\"2023-08-24\",\"2023-08-25\",\"2023-08-28\",\"2023-08-29\",\"2023-08-30\",\"2023-08-31\",\"2023-09-01\",\"2023-09-04\",\"2023-09-05\",\"2023-09-06\",\"2023-09-08\",\"2023-09-11\",\"2023-09-12\",\"2023-09-13\",\"2023-09-14\",\"2023-09-15\",\"2023-09-18\",\"2023-09-19\",\"2023-09-20\",\"2023-09-21\",\"2023-09-22\",\"2023-09-25\",\"2023-09-26\",\"2023-09-27\",\"2023-09-28\",\"2023-09-29\",\"2023-10-02\",\"2023-10-03\",\"2023-10-04\",\"2023-10-05\",\"2023-10-06\",\"2023-10-09\",\"2023-10-10\",\"2023-10-11\",\"2023-10-13\",\"2023-10-16\",\"2023-10-17\",\"2023-10-18\",\"2023-10-19\",\"2023-10-20\",\"2023-10-23\",\"2023-10-24\",\"2023-10-25\",\"2023-10-26\",\"2023-10-27\",\"2023-10-30\",\"2023-10-31\",\"2023-11-01\",\"2023-11-03\",\"2023-11-06\",\"2023-11-07\",\"2023-11-08\",\"2023-11-09\",\"2023-11-10\",\"2023-11-13\",\"2023-11-14\",\"2023-11-16\",\"2023-11-17\",\"2023-11-20\",\"2023-11-21\",\"2023-11-22\",\"2023-11-23\",\"2023-11-24\",\"2023-11-27\",\"2023-11-28\",\"2023-11-29\",\"2023-11-30\",\"2023-12-01\",\"2023-12-04\",\"2023-12-05\",\"2023-12-06\",\"2023-12-07\",\"2023-12-08\",\"2023-12-11\",\"2023-12-12\",\"2023-12-13\",\"2023-12-14\",\"2023-12-15\",\"2023-12-18\",\"2023-12-19\",\"2023-12-20\",\"2023-12-21\",\"2023-12-22\",\"2023-12-26\",\"2023-12-27\",\"2023-12-28\",\"2024-01-02\",\"2024-01-03\",\"2024-01-04\",\"2024-01-05\",\"2024-01-08\",\"2024-01-09\",\"2024-01-10\",\"2024-01-11\",\"2024-01-12\",\"2024-01-15\",\"2024-01-16\",\"2024-01-17\",\"2024-01-18\",\"2024-01-19\",\"2024-01-22\",\"2024-01-23\",\"2024-01-24\",\"2024-01-25\",\"2024-01-26\",\"2024-01-29\",\"2024-01-30\",\"2024-01-31\",\"2024-02-01\"],\"y\":[0.0,0.0,0.0,0.0,0.0,0.0,0.0,0.0,0.0,0.0,0.0,0.0,0.0,0.0,0.0,0.0,0.0,0.0,0.0,0.0,0.0,0.007365479531973085,0.0086874488939368,0.0086874488939368,0.0086874488939368,0.0086874488939368,0.0086874488939368,0.0086874488939368,0.0086874488939368,0.0086874488939368,0.0086874488939368,0.0086874488939368,0.0086874488939368,0.0086874488939368,0.0086874488939368,0.0086874488939368,0.0086874488939368,0.0086874488939368,0.0086874488939368,0.0086874488939368,0.0086874488939368,0.0086874488939368,0.0086874488939368,0.0086874488939368,0.0086874488939368,0.0086874488939368,0.0086874488939368,0.0086874488939368,0.0086874488939368,0.0086874488939368,0.0086874488939368,0.0086874488939368,0.0086874488939368,0.0086874488939368,0.0086874488939368,0.0086874488939368,0.0086874488939368,0.0086874488939368,0.0086874488939368,0.0086874488939368,0.0086874488939368,0.0086874488939368,0.0086874488939368,0.0086874488939368,0.0086874488939368,0.0086874488939368,0.0086874488939368,0.0086874488939368,0.0086874488939368,0.0086874488939368,0.0086874488939368,0.0086874488939368,0.0086874488939368,0.0086874488939368,0.0086874488939368,0.0086874488939368,0.0086874488939368,0.0086874488939368,0.0086874488939368,0.0086874488939368,0.0086874488939368,0.0086874488939368,0.0086874488939368,0.0086874488939368,0.0086874488939368,0.0086874488939368,0.0086874488939368,0.0086874488939368,0.0086874488939368,0.0086874488939368,0.0086874488939368,0.0086874488939368,0.0086874488939368,0.0086874488939368,0.0086874488939368,0.0086874488939368,0.0086874488939368,0.0086874488939368,0.0086874488939368,0.0086874488939368,0.0086874488939368,0.0086874488939368,0.0086874488939368,0.0086874488939368,0.0086874488939368,0.0086874488939368,0.0086874488939368,0.0086874488939368,0.0086874488939368,0.0086874488939368,0.0086874488939368,0.0086874488939368,0.0086874488939368,0.0086874488939368,0.0086874488939368,0.0086874488939368,0.0086874488939368,0.0086874488939368,0.0086874488939368,0.0086874488939368,0.0086874488939368,0.0086874488939368,0.0086874488939368,0.0086874488939368,0.0086874488939368,0.0086874488939368,0.0086874488939368,0.0086874488939368,0.0086874488939368,0.0086874488939368,0.0086874488939368,0.0086874488939368,0.0086874488939368,0.0086874488939368,0.0086874488939368,0.0086874488939368,0.0086874488939368,0.0086874488939368,0.0086874488939368,0.0086874488939368,0.0086874488939368,0.0086874488939368,0.0086874488939368,0.0086874488939368,0.0086874488939368,0.0086874488939368,0.0086874488939368,0.0086874488939368,0.0086874488939368,0.0086874488939368,0.0086874488939368,0.0086874488939368,0.0086874488939368,0.0086874488939368,0.0086874488939368,0.0086874488939368,0.0086874488939368,0.0086874488939368,0.0086874488939368,0.0086874488939368,0.0086874488939368,0.0086874488939368,0.0086874488939368,0.0086874488939368,0.0086874488939368,0.0086874488939368,0.0086874488939368,0.0086874488939368,0.0086874488939368,0.0086874488939368,0.0086874488939368,0.0086874488939368,0.0086874488939368,0.0086874488939368,0.0086874488939368,0.0086874488939368,0.0086874488939368,0.0086874488939368,0.0086874488939368,0.007304838209347686,0.021525695148178814,0.039104125986206384,0.039104125986206384,0.039104125986206384,0.039104125986206384,0.039104125986206384,0.039104125986206384,0.039104125986206384,0.039104125986206384,0.039104125986206384,0.039104125986206384,0.039104125986206384,0.039104125986206384,0.039104125986206384,0.039104125986206384,0.039104125986206384,0.039104125986206384,0.039104125986206384,0.039104125986206384,0.039104125986206384,0.039104125986206384,0.039104125986206384,0.039104125986206384,0.039104125986206384,0.039104125986206384,0.039104125986206384,0.039104125986206384,0.039104125986206384,0.039104125986206384,0.039104125986206384,0.039104125986206384,0.039104125986206384,0.039104125986206384,0.039104125986206384,0.039104125986206384,0.039104125986206384,0.039104125986206384,0.039104125986206384,0.039104125986206384,0.039104125986206384,0.039104125986206384,0.039104125986206384,0.039104125986206384,0.039104125986206384,0.039104125986206384,0.039104125986206384,0.039104125986206384,0.039104125986206384,0.01743478801244902,0.032279114072784054,0.0715227698546177,0.06145591308079568,0.06145591308079568,0.06145591308079568,0.06145591308079568,0.06145591308079568,0.06145591308079568,0.06145591308079568,0.06145591308079568,0.06145591308079568,0.06145591308079568,0.06145591308079568,0.06145591308079568,0.06145591308079568,0.06145591308079568,0.06145591308079568,0.06145591308079568,0.06145591308079568,0.06145591308079568],\"type\":\"scatter\"}],                        {\"legend\":{\"bgcolor\":\"#F5F6F9\",\"font\":{\"color\":\"#4D5663\"}},\"paper_bgcolor\":\"#F5F6F9\",\"plot_bgcolor\":\"#F5F6F9\",\"template\":{\"data\":{\"barpolar\":[{\"marker\":{\"line\":{\"color\":\"#E5ECF6\",\"width\":0.5},\"pattern\":{\"fillmode\":\"overlay\",\"size\":10,\"solidity\":0.2}},\"type\":\"barpolar\"}],\"bar\":[{\"error_x\":{\"color\":\"#2a3f5f\"},\"error_y\":{\"color\":\"#2a3f5f\"},\"marker\":{\"line\":{\"color\":\"#E5ECF6\",\"width\":0.5},\"pattern\":{\"fillmode\":\"overlay\",\"size\":10,\"solidity\":0.2}},\"type\":\"bar\"}],\"carpet\":[{\"aaxis\":{\"endlinecolor\":\"#2a3f5f\",\"gridcolor\":\"white\",\"linecolor\":\"white\",\"minorgridcolor\":\"white\",\"startlinecolor\":\"#2a3f5f\"},\"baxis\":{\"endlinecolor\":\"#2a3f5f\",\"gridcolor\":\"white\",\"linecolor\":\"white\",\"minorgridcolor\":\"white\",\"startlinecolor\":\"#2a3f5f\"},\"type\":\"carpet\"}],\"choropleth\":[{\"colorbar\":{\"outlinewidth\":0,\"ticks\":\"\"},\"type\":\"choropleth\"}],\"contourcarpet\":[{\"colorbar\":{\"outlinewidth\":0,\"ticks\":\"\"},\"type\":\"contourcarpet\"}],\"contour\":[{\"colorbar\":{\"outlinewidth\":0,\"ticks\":\"\"},\"colorscale\":[[0.0,\"#0d0887\"],[0.1111111111111111,\"#46039f\"],[0.2222222222222222,\"#7201a8\"],[0.3333333333333333,\"#9c179e\"],[0.4444444444444444,\"#bd3786\"],[0.5555555555555556,\"#d8576b\"],[0.6666666666666666,\"#ed7953\"],[0.7777777777777778,\"#fb9f3a\"],[0.8888888888888888,\"#fdca26\"],[1.0,\"#f0f921\"]],\"type\":\"contour\"}],\"heatmapgl\":[{\"colorbar\":{\"outlinewidth\":0,\"ticks\":\"\"},\"colorscale\":[[0.0,\"#0d0887\"],[0.1111111111111111,\"#46039f\"],[0.2222222222222222,\"#7201a8\"],[0.3333333333333333,\"#9c179e\"],[0.4444444444444444,\"#bd3786\"],[0.5555555555555556,\"#d8576b\"],[0.6666666666666666,\"#ed7953\"],[0.7777777777777778,\"#fb9f3a\"],[0.8888888888888888,\"#fdca26\"],[1.0,\"#f0f921\"]],\"type\":\"heatmapgl\"}],\"heatmap\":[{\"colorbar\":{\"outlinewidth\":0,\"ticks\":\"\"},\"colorscale\":[[0.0,\"#0d0887\"],[0.1111111111111111,\"#46039f\"],[0.2222222222222222,\"#7201a8\"],[0.3333333333333333,\"#9c179e\"],[0.4444444444444444,\"#bd3786\"],[0.5555555555555556,\"#d8576b\"],[0.6666666666666666,\"#ed7953\"],[0.7777777777777778,\"#fb9f3a\"],[0.8888888888888888,\"#fdca26\"],[1.0,\"#f0f921\"]],\"type\":\"heatmap\"}],\"histogram2dcontour\":[{\"colorbar\":{\"outlinewidth\":0,\"ticks\":\"\"},\"colorscale\":[[0.0,\"#0d0887\"],[0.1111111111111111,\"#46039f\"],[0.2222222222222222,\"#7201a8\"],[0.3333333333333333,\"#9c179e\"],[0.4444444444444444,\"#bd3786\"],[0.5555555555555556,\"#d8576b\"],[0.6666666666666666,\"#ed7953\"],[0.7777777777777778,\"#fb9f3a\"],[0.8888888888888888,\"#fdca26\"],[1.0,\"#f0f921\"]],\"type\":\"histogram2dcontour\"}],\"histogram2d\":[{\"colorbar\":{\"outlinewidth\":0,\"ticks\":\"\"},\"colorscale\":[[0.0,\"#0d0887\"],[0.1111111111111111,\"#46039f\"],[0.2222222222222222,\"#7201a8\"],[0.3333333333333333,\"#9c179e\"],[0.4444444444444444,\"#bd3786\"],[0.5555555555555556,\"#d8576b\"],[0.6666666666666666,\"#ed7953\"],[0.7777777777777778,\"#fb9f3a\"],[0.8888888888888888,\"#fdca26\"],[1.0,\"#f0f921\"]],\"type\":\"histogram2d\"}],\"histogram\":[{\"marker\":{\"pattern\":{\"fillmode\":\"overlay\",\"size\":10,\"solidity\":0.2}},\"type\":\"histogram\"}],\"mesh3d\":[{\"colorbar\":{\"outlinewidth\":0,\"ticks\":\"\"},\"type\":\"mesh3d\"}],\"parcoords\":[{\"line\":{\"colorbar\":{\"outlinewidth\":0,\"ticks\":\"\"}},\"type\":\"parcoords\"}],\"pie\":[{\"automargin\":true,\"type\":\"pie\"}],\"scatter3d\":[{\"line\":{\"colorbar\":{\"outlinewidth\":0,\"ticks\":\"\"}},\"marker\":{\"colorbar\":{\"outlinewidth\":0,\"ticks\":\"\"}},\"type\":\"scatter3d\"}],\"scattercarpet\":[{\"marker\":{\"colorbar\":{\"outlinewidth\":0,\"ticks\":\"\"}},\"type\":\"scattercarpet\"}],\"scattergeo\":[{\"marker\":{\"colorbar\":{\"outlinewidth\":0,\"ticks\":\"\"}},\"type\":\"scattergeo\"}],\"scattergl\":[{\"marker\":{\"colorbar\":{\"outlinewidth\":0,\"ticks\":\"\"}},\"type\":\"scattergl\"}],\"scattermapbox\":[{\"marker\":{\"colorbar\":{\"outlinewidth\":0,\"ticks\":\"\"}},\"type\":\"scattermapbox\"}],\"scatterpolargl\":[{\"marker\":{\"colorbar\":{\"outlinewidth\":0,\"ticks\":\"\"}},\"type\":\"scatterpolargl\"}],\"scatterpolar\":[{\"marker\":{\"colorbar\":{\"outlinewidth\":0,\"ticks\":\"\"}},\"type\":\"scatterpolar\"}],\"scatter\":[{\"fillpattern\":{\"fillmode\":\"overlay\",\"size\":10,\"solidity\":0.2},\"type\":\"scatter\"}],\"scatterternary\":[{\"marker\":{\"colorbar\":{\"outlinewidth\":0,\"ticks\":\"\"}},\"type\":\"scatterternary\"}],\"surface\":[{\"colorbar\":{\"outlinewidth\":0,\"ticks\":\"\"},\"colorscale\":[[0.0,\"#0d0887\"],[0.1111111111111111,\"#46039f\"],[0.2222222222222222,\"#7201a8\"],[0.3333333333333333,\"#9c179e\"],[0.4444444444444444,\"#bd3786\"],[0.5555555555555556,\"#d8576b\"],[0.6666666666666666,\"#ed7953\"],[0.7777777777777778,\"#fb9f3a\"],[0.8888888888888888,\"#fdca26\"],[1.0,\"#f0f921\"]],\"type\":\"surface\"}],\"table\":[{\"cells\":{\"fill\":{\"color\":\"#EBF0F8\"},\"line\":{\"color\":\"white\"}},\"header\":{\"fill\":{\"color\":\"#C8D4E3\"},\"line\":{\"color\":\"white\"}},\"type\":\"table\"}]},\"layout\":{\"annotationdefaults\":{\"arrowcolor\":\"#2a3f5f\",\"arrowhead\":0,\"arrowwidth\":1},\"autotypenumbers\":\"strict\",\"coloraxis\":{\"colorbar\":{\"outlinewidth\":0,\"ticks\":\"\"}},\"colorscale\":{\"diverging\":[[0,\"#8e0152\"],[0.1,\"#c51b7d\"],[0.2,\"#de77ae\"],[0.3,\"#f1b6da\"],[0.4,\"#fde0ef\"],[0.5,\"#f7f7f7\"],[0.6,\"#e6f5d0\"],[0.7,\"#b8e186\"],[0.8,\"#7fbc41\"],[0.9,\"#4d9221\"],[1,\"#276419\"]],\"sequential\":[[0.0,\"#0d0887\"],[0.1111111111111111,\"#46039f\"],[0.2222222222222222,\"#7201a8\"],[0.3333333333333333,\"#9c179e\"],[0.4444444444444444,\"#bd3786\"],[0.5555555555555556,\"#d8576b\"],[0.6666666666666666,\"#ed7953\"],[0.7777777777777778,\"#fb9f3a\"],[0.8888888888888888,\"#fdca26\"],[1.0,\"#f0f921\"]],\"sequentialminus\":[[0.0,\"#0d0887\"],[0.1111111111111111,\"#46039f\"],[0.2222222222222222,\"#7201a8\"],[0.3333333333333333,\"#9c179e\"],[0.4444444444444444,\"#bd3786\"],[0.5555555555555556,\"#d8576b\"],[0.6666666666666666,\"#ed7953\"],[0.7777777777777778,\"#fb9f3a\"],[0.8888888888888888,\"#fdca26\"],[1.0,\"#f0f921\"]]},\"colorway\":[\"#636efa\",\"#EF553B\",\"#00cc96\",\"#ab63fa\",\"#FFA15A\",\"#19d3f3\",\"#FF6692\",\"#B6E880\",\"#FF97FF\",\"#FECB52\"],\"font\":{\"color\":\"#2a3f5f\"},\"geo\":{\"bgcolor\":\"white\",\"lakecolor\":\"white\",\"landcolor\":\"#E5ECF6\",\"showlakes\":true,\"showland\":true,\"subunitcolor\":\"white\"},\"hoverlabel\":{\"align\":\"left\"},\"hovermode\":\"closest\",\"mapbox\":{\"style\":\"light\"},\"paper_bgcolor\":\"white\",\"plot_bgcolor\":\"#E5ECF6\",\"polar\":{\"angularaxis\":{\"gridcolor\":\"white\",\"linecolor\":\"white\",\"ticks\":\"\"},\"bgcolor\":\"#E5ECF6\",\"radialaxis\":{\"gridcolor\":\"white\",\"linecolor\":\"white\",\"ticks\":\"\"}},\"scene\":{\"xaxis\":{\"backgroundcolor\":\"#E5ECF6\",\"gridcolor\":\"white\",\"gridwidth\":2,\"linecolor\":\"white\",\"showbackground\":true,\"ticks\":\"\",\"zerolinecolor\":\"white\"},\"yaxis\":{\"backgroundcolor\":\"#E5ECF6\",\"gridcolor\":\"white\",\"gridwidth\":2,\"linecolor\":\"white\",\"showbackground\":true,\"ticks\":\"\",\"zerolinecolor\":\"white\"},\"zaxis\":{\"backgroundcolor\":\"#E5ECF6\",\"gridcolor\":\"white\",\"gridwidth\":2,\"linecolor\":\"white\",\"showbackground\":true,\"ticks\":\"\",\"zerolinecolor\":\"white\"}},\"shapedefaults\":{\"line\":{\"color\":\"#2a3f5f\"}},\"ternary\":{\"aaxis\":{\"gridcolor\":\"white\",\"linecolor\":\"white\",\"ticks\":\"\"},\"baxis\":{\"gridcolor\":\"white\",\"linecolor\":\"white\",\"ticks\":\"\"},\"bgcolor\":\"#E5ECF6\",\"caxis\":{\"gridcolor\":\"white\",\"linecolor\":\"white\",\"ticks\":\"\"}},\"title\":{\"x\":0.05},\"xaxis\":{\"automargin\":true,\"gridcolor\":\"white\",\"linecolor\":\"white\",\"ticks\":\"\",\"title\":{\"standoff\":15},\"zerolinecolor\":\"white\",\"zerolinewidth\":2},\"yaxis\":{\"automargin\":true,\"gridcolor\":\"white\",\"linecolor\":\"white\",\"ticks\":\"\",\"title\":{\"standoff\":15},\"zerolinecolor\":\"white\",\"zerolinewidth\":2}}},\"title\":{\"font\":{\"color\":\"#4D5663\"}},\"xaxis\":{\"gridcolor\":\"#E1E5ED\",\"showgrid\":true,\"tickfont\":{\"color\":\"#4D5663\"},\"title\":{\"font\":{\"color\":\"#4D5663\"},\"text\":\"\"},\"zerolinecolor\":\"#E1E5ED\"},\"yaxis\":{\"gridcolor\":\"#E1E5ED\",\"showgrid\":true,\"tickfont\":{\"color\":\"#4D5663\"},\"title\":{\"font\":{\"color\":\"#4D5663\"},\"text\":\"\"},\"zerolinecolor\":\"#E1E5ED\"}},                        {\"showLink\": true, \"linkText\": \"Export to plot.ly\", \"plotlyServerURL\": \"https://plot.ly\", \"responsive\": true}                    ).then(function(){\n",
              "                            \n",
              "var gd = document.getElementById('a350de9a-17bf-415a-be76-44c8b9f64a44');\n",
              "var x = new MutationObserver(function (mutations, observer) {{\n",
              "        var display = window.getComputedStyle(gd).display;\n",
              "        if (!display || display === 'none') {{\n",
              "            console.log([gd, 'removed!']);\n",
              "            Plotly.purge(gd);\n",
              "            observer.disconnect();\n",
              "        }}\n",
              "}});\n",
              "\n",
              "// Listen for the removal of the full notebook cells\n",
              "var notebookContainer = gd.closest('#notebook-container');\n",
              "if (notebookContainer) {{\n",
              "    x.observe(notebookContainer, {childList: true});\n",
              "}}\n",
              "\n",
              "// Listen for the clearing of the current output cell\n",
              "var outputEl = gd.closest('.output');\n",
              "if (outputEl) {{\n",
              "    x.observe(outputEl, {childList: true});\n",
              "}}\n",
              "\n",
              "                        })                };                });            </script>        </div>"
            ]
          },
          "metadata": {},
          "output_type": "display_data"
        }
      ],
      "source": [
        "ohlc = yf.download(tickers= ativo+'.SA', period = periodo , auto_adjust=True, progress = False )\n",
        "ohlc['retorno'] = ohlc['Close'].pct_change()\n",
        "## calculating stretegy returns\n",
        "ohlc['retorno_estrategia'] = ohlc['retorno'] * (posicao['pos'].shift(1))\n",
        "# ohlc.fillna(0,inplace=True)\n",
        "ohlc['retorno_estrategia'].fillna(0,inplace=True)\n",
        "ohlc[ohlc['retorno_estrategia']!= 0.0]\n",
        "((ohlc[['retorno', 'retorno_estrategia']]+1).cumprod()-1).iplot();"
      ]
    },
    {
      "cell_type": "code",
      "execution_count": 31,
      "metadata": {},
      "outputs": [
        {
          "data": {
            "application/vnd.plotly.v1+json": {
              "config": {
                "plotlyServerURL": "https://plot.ly"
              },
              "data": [
                {
                  "line": {
                    "color": "rgba(55, 128, 191, 1.0)",
                    "dash": "solid",
                    "shape": "linear",
                    "width": 1.3
                  },
                  "mode": "lines",
                  "name": " EMA(5)",
                  "text": "",
                  "type": "scatter",
                  "x": [
                    "2023-09-21",
                    "2023-09-22",
                    "2023-09-25",
                    "2023-09-26",
                    "2023-09-27",
                    "2023-09-28",
                    "2023-09-29",
                    "2023-10-02",
                    "2023-10-03",
                    "2023-10-04",
                    "2023-10-05",
                    "2023-10-06",
                    "2023-10-09",
                    "2023-10-10",
                    "2023-10-11",
                    "2023-10-13",
                    "2023-10-16",
                    "2023-10-17",
                    "2023-10-18",
                    "2023-10-19",
                    "2023-10-20",
                    "2023-10-23",
                    "2023-10-24",
                    "2023-10-25",
                    "2023-10-26",
                    "2023-10-27",
                    "2023-10-30",
                    "2023-10-31",
                    "2023-11-01",
                    "2023-11-03",
                    "2023-11-06",
                    "2023-11-07",
                    "2023-11-08",
                    "2023-11-09",
                    "2023-11-10",
                    "2023-11-13",
                    "2023-11-14",
                    "2023-11-16",
                    "2023-11-17",
                    "2023-11-20",
                    "2023-11-21",
                    "2023-11-22",
                    "2023-11-23",
                    "2023-11-24",
                    "2023-11-27",
                    "2023-11-28",
                    "2023-11-29",
                    "2023-11-30",
                    "2023-12-01",
                    "2023-12-04",
                    "2023-12-05",
                    "2023-12-06",
                    "2023-12-07",
                    "2023-12-08",
                    "2023-12-11",
                    "2023-12-12",
                    "2023-12-13",
                    "2023-12-14",
                    "2023-12-15",
                    "2023-12-18",
                    "2023-12-19",
                    "2023-12-20",
                    "2023-12-21",
                    "2023-12-22",
                    "2023-12-26",
                    "2023-12-27",
                    "2023-12-28",
                    "2024-01-02",
                    "2024-01-03",
                    "2024-01-04",
                    "2024-01-05",
                    "2024-01-08",
                    "2024-01-09",
                    "2024-01-10",
                    "2024-01-11",
                    "2024-01-12",
                    "2024-01-15",
                    "2024-01-16",
                    "2024-01-17",
                    "2024-01-18",
                    "2024-01-19",
                    "2024-01-22",
                    "2024-01-23",
                    "2024-01-24",
                    "2024-01-25",
                    "2024-01-26",
                    "2024-01-29",
                    "2024-01-30",
                    "2024-01-31",
                    "2024-02-01"
                  ],
                  "y": [
                    "",
                    "",
                    "",
                    "",
                    56.6564535447109,
                    56.697303410910784,
                    57.201671359633885,
                    56.855349062347074,
                    56.16058635609923,
                    55.84320386182983,
                    55.6183607308846,
                    55.15700290791071,
                    54.89581901624386,
                    55.17563649544839,
                    55.20313658005479,
                    54.62505222483796,
                    54.09387128303,
                    53.62046761479344,
                    52.66868556318261,
                    52.03416419544206,
                    51.587955319340935,
                    51.52905135913419,
                    51.78467722444884,
                    51.54091498394246,
                    51.6699895669317,
                    51.15962027240434,
                    50.77629978609508,
                    50.70630475648527,
                    51.0075519665631,
                    52.165966549486086,
                    52.67316725450766,
                    53.451987601637924,
                    54.02421655742333,
                    54.322866376823896,
                    54.99578726065604,
                    54.987147409203644,
                    56.2073587301592,
                    57.65038514953322,
                    58.57926830200002,
                    59.225032068276704,
                    59.377212032334214,
                    59.53168073273779,
                    59.80695829773666,
                    59.685640401209206,
                    59.33968739149624,
                    59.128932982270285,
                    59.04475786261053,
                    59.25702922855676,
                    59.630484695665444,
                    59.849634246980095,
                    60.0454343669646,
                    60.26543006056104,
                    60.55125909880502,
                    60.60596152037848,
                    60.65899576008631,
                    60.4922327284039,
                    61.17628061003294,
                    62.42422206684488,
                    62.83537869641872,
                    63.218827598556494,
                    63.46783152769977,
                    63.23411872354464,
                    63.51522526719383,
                    63.69931847240006,
                    63.71612712002778,
                    63.67741757139222,
                    63.65161120563518,
                    62.85440691093453,
                    62.20293844924933,
                    61.34529265553797,
                    61.06352843702531,
                    61.64235203703706,
                    61.83156771951559,
                    62.221045146343734,
                    61.81736287140689,
                    61.54490858093793,
                    61.423272489017215,
                    61.04218125244377,
                    61.00812037719885,
                    60.458747121583094,
                    60.33583146525136,
                    59.79388733832513,
                    59.60259196578446,
                    59.27839499989472,
                    58.97226353671367,
                    58.06150958396472,
                    57.19100664362297,
                    56.29067165523758,
                    55.567114080786645,
                    55.14807651162144
                  ],
                  "yaxis": "y2"
                },
                {
                  "line": {
                    "color": "rgba(55, 128, 191, 1.0)",
                    "dash": "solid",
                    "shape": "linear",
                    "width": 1.3
                  },
                  "mode": "lines",
                  "name": " EMA(21)",
                  "text": "",
                  "type": "scatter",
                  "x": [
                    "2023-09-21",
                    "2023-09-22",
                    "2023-09-25",
                    "2023-09-26",
                    "2023-09-27",
                    "2023-09-28",
                    "2023-09-29",
                    "2023-10-02",
                    "2023-10-03",
                    "2023-10-04",
                    "2023-10-05",
                    "2023-10-06",
                    "2023-10-09",
                    "2023-10-10",
                    "2023-10-11",
                    "2023-10-13",
                    "2023-10-16",
                    "2023-10-17",
                    "2023-10-18",
                    "2023-10-19",
                    "2023-10-20",
                    "2023-10-23",
                    "2023-10-24",
                    "2023-10-25",
                    "2023-10-26",
                    "2023-10-27",
                    "2023-10-30",
                    "2023-10-31",
                    "2023-11-01",
                    "2023-11-03",
                    "2023-11-06",
                    "2023-11-07",
                    "2023-11-08",
                    "2023-11-09",
                    "2023-11-10",
                    "2023-11-13",
                    "2023-11-14",
                    "2023-11-16",
                    "2023-11-17",
                    "2023-11-20",
                    "2023-11-21",
                    "2023-11-22",
                    "2023-11-23",
                    "2023-11-24",
                    "2023-11-27",
                    "2023-11-28",
                    "2023-11-29",
                    "2023-11-30",
                    "2023-12-01",
                    "2023-12-04",
                    "2023-12-05",
                    "2023-12-06",
                    "2023-12-07",
                    "2023-12-08",
                    "2023-12-11",
                    "2023-12-12",
                    "2023-12-13",
                    "2023-12-14",
                    "2023-12-15",
                    "2023-12-18",
                    "2023-12-19",
                    "2023-12-20",
                    "2023-12-21",
                    "2023-12-22",
                    "2023-12-26",
                    "2023-12-27",
                    "2023-12-28",
                    "2024-01-02",
                    "2024-01-03",
                    "2024-01-04",
                    "2024-01-05",
                    "2024-01-08",
                    "2024-01-09",
                    "2024-01-10",
                    "2024-01-11",
                    "2024-01-12",
                    "2024-01-15",
                    "2024-01-16",
                    "2024-01-17",
                    "2024-01-18",
                    "2024-01-19",
                    "2024-01-22",
                    "2024-01-23",
                    "2024-01-24",
                    "2024-01-25",
                    "2024-01-26",
                    "2024-01-29",
                    "2024-01-30",
                    "2024-01-31",
                    "2024-02-01"
                  ],
                  "y": [
                    "",
                    "",
                    "",
                    "",
                    "",
                    "",
                    "",
                    "",
                    "",
                    "",
                    "",
                    "",
                    "",
                    "",
                    "",
                    "",
                    "",
                    "",
                    "",
                    "",
                    54.22428628314315,
                    53.96855511546838,
                    53.81649819179653,
                    53.56530658371773,
                    53.41647314273522,
                    53.11851028279107,
                    52.8358874219443,
                    52.629562628791696,
                    52.536879334057794,
                    52.71378082326454,
                    52.8023069906542,
                    53.00297256385822,
                    53.19985455523421,
                    53.35624650617883,
                    53.627644917282595,
                    53.74966517082953,
                    54.19494846185142,
                    54.77144750970867,
                    55.28650088218367,
                    55.761960765696976,
                    56.118289056128994,
                    56.45668260862135,
                    56.811303592177076,
                    57.0505491390841,
                    57.19575206935557,
                    57.33317680521582,
                    57.47347051594993,
                    57.674207010904404,
                    57.91995143081153,
                    58.1352225143386,
                    58.344478159119966,
                    58.5591093671776,
                    58.792182804278994,
                    58.96701767330139,
                    59.1304764520469,
                    59.22395192595528,
                    59.52580869389489,
                    60.016199265401596,
                    60.347244055416574,
                    60.6780150869998,
                    60.97690820508948,
                    61.139615924193556,
                    61.40669069058434,
                    61.64858288987781,
                    61.839597574005566,
                    61.99963401947062,
                    62.14512169716612,
                    62.06465593574494,
                    61.95877826212075,
                    61.747071244483884,
                    61.633701131348985,
                    61.73972823186821,
                    61.78248012755952,
                    61.893163752326835,
                    61.812875985891054,
                    61.73897816899186,
                    61.68816199955404,
                    61.560147161348844,
                    61.503770021836125,
                    61.30888189351934,
                    61.19807446252557,
                    60.97188579179348,
                    60.81262355805799,
                    60.61420333169956,
                    60.40927581157701,
                    60.03025089038517,
                    59.61386451516283,
                    59.14805880273592,
                    58.69096245084036,
                    58.29269326197224
                  ],
                  "yaxis": "y2"
                },
                {
                  "line": {
                    "color": "rgba(55, 128, 191, 1.0)",
                    "dash": "solid",
                    "shape": "linear",
                    "width": 1.3
                  },
                  "mode": "lines",
                  "name": " EMA(72)",
                  "text": "",
                  "type": "scatter",
                  "x": [
                    "2023-09-21",
                    "2023-09-22",
                    "2023-09-25",
                    "2023-09-26",
                    "2023-09-27",
                    "2023-09-28",
                    "2023-09-29",
                    "2023-10-02",
                    "2023-10-03",
                    "2023-10-04",
                    "2023-10-05",
                    "2023-10-06",
                    "2023-10-09",
                    "2023-10-10",
                    "2023-10-11",
                    "2023-10-13",
                    "2023-10-16",
                    "2023-10-17",
                    "2023-10-18",
                    "2023-10-19",
                    "2023-10-20",
                    "2023-10-23",
                    "2023-10-24",
                    "2023-10-25",
                    "2023-10-26",
                    "2023-10-27",
                    "2023-10-30",
                    "2023-10-31",
                    "2023-11-01",
                    "2023-11-03",
                    "2023-11-06",
                    "2023-11-07",
                    "2023-11-08",
                    "2023-11-09",
                    "2023-11-10",
                    "2023-11-13",
                    "2023-11-14",
                    "2023-11-16",
                    "2023-11-17",
                    "2023-11-20",
                    "2023-11-21",
                    "2023-11-22",
                    "2023-11-23",
                    "2023-11-24",
                    "2023-11-27",
                    "2023-11-28",
                    "2023-11-29",
                    "2023-11-30",
                    "2023-12-01",
                    "2023-12-04",
                    "2023-12-05",
                    "2023-12-06",
                    "2023-12-07",
                    "2023-12-08",
                    "2023-12-11",
                    "2023-12-12",
                    "2023-12-13",
                    "2023-12-14",
                    "2023-12-15",
                    "2023-12-18",
                    "2023-12-19",
                    "2023-12-20",
                    "2023-12-21",
                    "2023-12-22",
                    "2023-12-26",
                    "2023-12-27",
                    "2023-12-28",
                    "2024-01-02",
                    "2024-01-03",
                    "2024-01-04",
                    "2024-01-05",
                    "2024-01-08",
                    "2024-01-09",
                    "2024-01-10",
                    "2024-01-11",
                    "2024-01-12",
                    "2024-01-15",
                    "2024-01-16",
                    "2024-01-17",
                    "2024-01-18",
                    "2024-01-19",
                    "2024-01-22",
                    "2024-01-23",
                    "2024-01-24",
                    "2024-01-25",
                    "2024-01-26",
                    "2024-01-29",
                    "2024-01-30",
                    "2024-01-31",
                    "2024-02-01"
                  ],
                  "y": [
                    "",
                    "",
                    "",
                    "",
                    "",
                    "",
                    "",
                    "",
                    "",
                    "",
                    "",
                    "",
                    "",
                    "",
                    "",
                    "",
                    "",
                    "",
                    "",
                    "",
                    "",
                    "",
                    "",
                    "",
                    "",
                    "",
                    "",
                    "",
                    "",
                    "",
                    "",
                    "",
                    "",
                    "",
                    "",
                    "",
                    "",
                    "",
                    "",
                    "",
                    "",
                    "",
                    "",
                    "",
                    "",
                    "",
                    "",
                    "",
                    "",
                    "",
                    "",
                    "",
                    "",
                    "",
                    "",
                    "",
                    "",
                    "",
                    "",
                    "",
                    "",
                    "",
                    "",
                    "",
                    "",
                    "",
                    "",
                    "",
                    "",
                    "",
                    "",
                    59.23141536126435,
                    59.313020394776906,
                    59.41403353464603,
                    59.457758597300476,
                    59.500011786415534,
                    59.5460388691213,
                    59.56614735981103,
                    59.60378712054796,
                    59.59710803807683,
                    59.61061193162508,
                    59.58593760704556,
                    59.57591195262522,
                    59.549996585926316,
                    59.51739395645851,
                    59.42760238719847,
                    59.31862700023247,
                    59.18633589552656,
                    59.04753214309802,
                    58.91773677954166
                  ],
                  "yaxis": "y2"
                },
                {
                  "legendgroup": "RSI(Close,2)",
                  "line": {
                    "color": "rgba(219, 64, 82, 1.0)",
                    "dash": "solid",
                    "shape": "linear",
                    "width": 1.3
                  },
                  "mode": "lines",
                  "name": "RSI(Close,2)",
                  "showlegend": true,
                  "text": "",
                  "type": "scatter",
                  "x": [
                    "2023-09-21",
                    "2023-09-22",
                    "2023-09-25",
                    "2023-09-26",
                    "2023-09-27",
                    "2023-09-28",
                    "2023-09-29",
                    "2023-10-02",
                    "2023-10-03",
                    "2023-10-04",
                    "2023-10-05",
                    "2023-10-06",
                    "2023-10-09",
                    "2023-10-10",
                    "2023-10-11",
                    "2023-10-13",
                    "2023-10-16",
                    "2023-10-17",
                    "2023-10-18",
                    "2023-10-19",
                    "2023-10-20",
                    "2023-10-23",
                    "2023-10-24",
                    "2023-10-25",
                    "2023-10-26",
                    "2023-10-27",
                    "2023-10-30",
                    "2023-10-31",
                    "2023-11-01",
                    "2023-11-03",
                    "2023-11-06",
                    "2023-11-07",
                    "2023-11-08",
                    "2023-11-09",
                    "2023-11-10",
                    "2023-11-13",
                    "2023-11-14",
                    "2023-11-16",
                    "2023-11-17",
                    "2023-11-20",
                    "2023-11-21",
                    "2023-11-22",
                    "2023-11-23",
                    "2023-11-24",
                    "2023-11-27",
                    "2023-11-28",
                    "2023-11-29",
                    "2023-11-30",
                    "2023-12-01",
                    "2023-12-04",
                    "2023-12-05",
                    "2023-12-06",
                    "2023-12-07",
                    "2023-12-08",
                    "2023-12-11",
                    "2023-12-12",
                    "2023-12-13",
                    "2023-12-14",
                    "2023-12-15",
                    "2023-12-18",
                    "2023-12-19",
                    "2023-12-20",
                    "2023-12-21",
                    "2023-12-22",
                    "2023-12-26",
                    "2023-12-27",
                    "2023-12-28",
                    "2024-01-02",
                    "2024-01-03",
                    "2024-01-04",
                    "2024-01-05",
                    "2024-01-08",
                    "2024-01-09",
                    "2024-01-10",
                    "2024-01-11",
                    "2024-01-12",
                    "2024-01-15",
                    "2024-01-16",
                    "2024-01-17",
                    "2024-01-18",
                    "2024-01-19",
                    "2024-01-22",
                    "2024-01-23",
                    "2024-01-24",
                    "2024-01-25",
                    "2024-01-26",
                    "2024-01-29",
                    "2024-01-30",
                    "2024-01-31",
                    "2024-02-01"
                  ],
                  "y": [
                    "",
                    0,
                    0,
                    0,
                    0,
                    57.482080524102166,
                    100,
                    41.14286090214435,
                    0,
                    23.913220305047062,
                    91.66613367444836,
                    0,
                    12.96295638269521,
                    100,
                    74.0540293857129,
                    0,
                    0,
                    0,
                    0,
                    0,
                    0,
                    91.13908063286036,
                    100,
                    41.588733930015664,
                    41.31458613346209,
                    32.83582944442138,
                    0,
                    81.15951701622367,
                    100,
                    100,
                    78.31973359347212,
                    62.44121981716435,
                    100,
                    39.02450438982385,
                    85.11900002969575,
                    50.889683117393915,
                    72.83466113487371,
                    100,
                    94.99998081196105,
                    44.445155100735526,
                    8.695887942469568,
                    16.00007675186123,
                    100,
                    36.11106669438271,
                    0,
                    6.976858338762497,
                    100,
                    100,
                    100,
                    88.60768102284099,
                    62.49960024305223,
                    100,
                    100,
                    50.60268816955719,
                    10.868894172610865,
                    7.575255406120448,
                    79.73422308125792,
                    100,
                    65.30060804200826,
                    20.625242848850874,
                    94.28430458856423,
                    0,
                    52.22318311490335,
                    99.24785100286533,
                    0,
                    0,
                    0,
                    0,
                    0,
                    0,
                    40.65416729056593,
                    100,
                    79.58476549506597,
                    57.24639884564033,
                    28.417272603775444,
                    0,
                    94.73768747364828,
                    16.666666666666657,
                    42.30764528237294,
                    29.464307001679146,
                    31.60174518455888,
                    34.59712469536669,
                    26.984194262624314,
                    46.36373409534643,
                    0,
                    0,
                    0,
                    0,
                    0,
                    33.92869306957671
                  ],
                  "yaxis": "y3"
                },
                {
                  "legendgroup": "RSI(Close,2)",
                  "line": {
                    "color": "red",
                    "width": 1
                  },
                  "mode": "lines",
                  "name": "",
                  "showlegend": true,
                  "text": "",
                  "type": "scatter",
                  "x": [
                    "2023-09-21",
                    "2023-09-22",
                    "2023-09-25",
                    "2023-09-26",
                    "2023-09-27",
                    "2023-09-28",
                    "2023-09-29",
                    "2023-10-02",
                    "2023-10-03",
                    "2023-10-04",
                    "2023-10-05",
                    "2023-10-06",
                    "2023-10-09",
                    "2023-10-10",
                    "2023-10-11",
                    "2023-10-13",
                    "2023-10-16",
                    "2023-10-17",
                    "2023-10-18",
                    "2023-10-19",
                    "2023-10-20",
                    "2023-10-23",
                    "2023-10-24",
                    "2023-10-25",
                    "2023-10-26",
                    "2023-10-27",
                    "2023-10-30",
                    "2023-10-31",
                    "2023-11-01",
                    "2023-11-03",
                    "2023-11-06",
                    "2023-11-07",
                    "2023-11-08",
                    "2023-11-09",
                    "2023-11-10",
                    "2023-11-13",
                    "2023-11-14",
                    "2023-11-16",
                    "2023-11-17",
                    "2023-11-20",
                    "2023-11-21",
                    "2023-11-22",
                    "2023-11-23",
                    "2023-11-24",
                    "2023-11-27",
                    "2023-11-28",
                    "2023-11-29",
                    "2023-11-30",
                    "2023-12-01",
                    "2023-12-04",
                    "2023-12-05",
                    "2023-12-06",
                    "2023-12-07",
                    "2023-12-08",
                    "2023-12-11",
                    "2023-12-12",
                    "2023-12-13",
                    "2023-12-14",
                    "2023-12-15",
                    "2023-12-18",
                    "2023-12-19",
                    "2023-12-20",
                    "2023-12-21",
                    "2023-12-22",
                    "2023-12-26",
                    "2023-12-27",
                    "2023-12-28",
                    "2024-01-02",
                    "2024-01-03",
                    "2024-01-04",
                    "2024-01-05",
                    "2024-01-08",
                    "2024-01-09",
                    "2024-01-10",
                    "2024-01-11",
                    "2024-01-12",
                    "2024-01-15",
                    "2024-01-16",
                    "2024-01-17",
                    "2024-01-18",
                    "2024-01-19",
                    "2024-01-22",
                    "2024-01-23",
                    "2024-01-24",
                    "2024-01-25",
                    "2024-01-26",
                    "2024-01-29",
                    "2024-01-30",
                    "2024-01-31",
                    "2024-02-01"
                  ],
                  "y": [
                    5,
                    5,
                    5,
                    5,
                    5,
                    5,
                    5,
                    5,
                    5,
                    5,
                    5,
                    5,
                    5,
                    5,
                    5,
                    5,
                    5,
                    5,
                    5,
                    5,
                    5,
                    5,
                    5,
                    5,
                    5,
                    5,
                    5,
                    5,
                    5,
                    5,
                    5,
                    5,
                    5,
                    5,
                    5,
                    5,
                    5,
                    5,
                    5,
                    5,
                    5,
                    5,
                    5,
                    5,
                    5,
                    5,
                    5,
                    5,
                    5,
                    5,
                    5,
                    5,
                    5,
                    5,
                    5,
                    5,
                    5,
                    5,
                    5,
                    5,
                    5,
                    5,
                    5,
                    5,
                    5,
                    5,
                    5,
                    5,
                    5,
                    5,
                    5,
                    5,
                    5,
                    5,
                    5,
                    5,
                    5,
                    5,
                    5,
                    5,
                    5,
                    5,
                    5,
                    5,
                    5,
                    5,
                    5,
                    5,
                    5,
                    5
                  ],
                  "yaxis": "y3"
                },
                {
                  "legendgroup": "RSI(Close,2)",
                  "line": {
                    "color": "green",
                    "width": 1
                  },
                  "mode": "lines",
                  "name": "",
                  "showlegend": true,
                  "text": "",
                  "type": "scatter",
                  "x": [
                    "2023-09-21",
                    "2023-09-22",
                    "2023-09-25",
                    "2023-09-26",
                    "2023-09-27",
                    "2023-09-28",
                    "2023-09-29",
                    "2023-10-02",
                    "2023-10-03",
                    "2023-10-04",
                    "2023-10-05",
                    "2023-10-06",
                    "2023-10-09",
                    "2023-10-10",
                    "2023-10-11",
                    "2023-10-13",
                    "2023-10-16",
                    "2023-10-17",
                    "2023-10-18",
                    "2023-10-19",
                    "2023-10-20",
                    "2023-10-23",
                    "2023-10-24",
                    "2023-10-25",
                    "2023-10-26",
                    "2023-10-27",
                    "2023-10-30",
                    "2023-10-31",
                    "2023-11-01",
                    "2023-11-03",
                    "2023-11-06",
                    "2023-11-07",
                    "2023-11-08",
                    "2023-11-09",
                    "2023-11-10",
                    "2023-11-13",
                    "2023-11-14",
                    "2023-11-16",
                    "2023-11-17",
                    "2023-11-20",
                    "2023-11-21",
                    "2023-11-22",
                    "2023-11-23",
                    "2023-11-24",
                    "2023-11-27",
                    "2023-11-28",
                    "2023-11-29",
                    "2023-11-30",
                    "2023-12-01",
                    "2023-12-04",
                    "2023-12-05",
                    "2023-12-06",
                    "2023-12-07",
                    "2023-12-08",
                    "2023-12-11",
                    "2023-12-12",
                    "2023-12-13",
                    "2023-12-14",
                    "2023-12-15",
                    "2023-12-18",
                    "2023-12-19",
                    "2023-12-20",
                    "2023-12-21",
                    "2023-12-22",
                    "2023-12-26",
                    "2023-12-27",
                    "2023-12-28",
                    "2024-01-02",
                    "2024-01-03",
                    "2024-01-04",
                    "2024-01-05",
                    "2024-01-08",
                    "2024-01-09",
                    "2024-01-10",
                    "2024-01-11",
                    "2024-01-12",
                    "2024-01-15",
                    "2024-01-16",
                    "2024-01-17",
                    "2024-01-18",
                    "2024-01-19",
                    "2024-01-22",
                    "2024-01-23",
                    "2024-01-24",
                    "2024-01-25",
                    "2024-01-26",
                    "2024-01-29",
                    "2024-01-30",
                    "2024-01-31",
                    "2024-02-01"
                  ],
                  "y": [
                    95,
                    95,
                    95,
                    95,
                    95,
                    95,
                    95,
                    95,
                    95,
                    95,
                    95,
                    95,
                    95,
                    95,
                    95,
                    95,
                    95,
                    95,
                    95,
                    95,
                    95,
                    95,
                    95,
                    95,
                    95,
                    95,
                    95,
                    95,
                    95,
                    95,
                    95,
                    95,
                    95,
                    95,
                    95,
                    95,
                    95,
                    95,
                    95,
                    95,
                    95,
                    95,
                    95,
                    95,
                    95,
                    95,
                    95,
                    95,
                    95,
                    95,
                    95,
                    95,
                    95,
                    95,
                    95,
                    95,
                    95,
                    95,
                    95,
                    95,
                    95,
                    95,
                    95,
                    95,
                    95,
                    95,
                    95,
                    95,
                    95,
                    95,
                    95,
                    95,
                    95,
                    95,
                    95,
                    95,
                    95,
                    95,
                    95,
                    95,
                    95,
                    95,
                    95,
                    95,
                    95,
                    95,
                    95,
                    95,
                    95,
                    95
                  ],
                  "yaxis": "y3"
                },
                {
                  "close": [
                    57.67206954956055,
                    57.31722640991211,
                    57.04123306274414,
                    56.518821716308594,
                    55.779563903808594,
                    56.77900314331055,
                    58.21040725708008,
                    56.16270446777344,
                    54.771060943603516,
                    55.208438873291016,
                    55.16867446899414,
                    54.23428726196289,
                    54.373451232910156,
                    55.73527145385742,
                    55.25813674926758,
                    53.4688835144043,
                    53.03150939941406,
                    52.67366027832031,
                    50.76512145996094,
                    50.76512145996094,
                    50.69553756713867,
                    51.4112434387207,
                    52.295928955078125,
                    51.05339050292969,
                    51.928138732910156,
                    50.13888168334961,
                    50.00965881347656,
                    50.566314697265625,
                    51.61004638671875,
                    54.48279571533203,
                    53.68756866455078,
                    55.00962829589844,
                    55.16867446899414,
                    54.920166015625,
                    56.34162902832031,
                    54.96986770629883,
                    58.64778137207031,
                    60.53643798828125,
                    60.437034606933594,
                    60.51655960083008,
                    59.68157196044922,
                    59.84061813354492,
                    60.357513427734375,
                    59.4430046081543,
                    58.64778137207031,
                    58.70742416381836,
                    58.876407623291016,
                    59.68157196044922,
                    60.37739562988281,
                    60.287933349609375,
                    60.437034606933594,
                    60.705421447753906,
                    61.12291717529297,
                    60.71536636352539,
                    60.76506423950195,
                    60.15870666503906,
                    62.544376373291016,
                    64.92010498046875,
                    63.657691955566406,
                    63.98572540283203,
                    63.96583938598633,
                    62.766693115234375,
                    64.07743835449219,
                    64.0675048828125,
                    63.7497444152832,
                    63.599998474121094,
                    63.599998474121094,
                    61.2599983215332,
                    60.900001525878906,
                    59.630001068115234,
                    60.5,
                    62.79999923706055,
                    62.209999084472656,
                    63,
                    61.0099983215332,
                    61,
                    61.18000030517578,
                    60.279998779296875,
                    60.939998626708984,
                    59.36000061035156,
                    60.09000015258789,
                    58.709999084472656,
                    59.220001220703125,
                    58.630001068115234,
                    58.36000061035156,
                    56.2400016784668,
                    55.45000076293945,
                    54.4900016784668,
                    54.119998931884766,
                    54.310001373291016
                  ],
                  "decreasing": {
                    "line": {
                      "color": "#db4052"
                    }
                  },
                  "high": [
                    58.23390554408124,
                    58.066342340372124,
                    57.701638799507506,
                    56.9525203686796,
                    57.317222822729406,
                    57.05733417380456,
                    58.608017044029346,
                    57.91219589425214,
                    55.8943160993572,
                    55.715392612860995,
                    55.78497211303513,
                    54.731302345328636,
                    54.85058526101952,
                    56.03347974714306,
                    56.07324117716071,
                    55.1487931290725,
                    53.99571990221499,
                    53.528523037706606,
                    52.23628568497127,
                    51.55040621950423,
                    50.74523831617262,
                    52.21640547829473,
                    52.564317561678315,
                    52.28598579906497,
                    52.28598641567248,
                    52.04742163003146,
                    51.14285259140709,
                    51.01362904109478,
                    51.95795923337554,
                    55.06927367519439,
                    55.367482105319816,
                    55.09909116049516,
                    55.83467286318092,
                    55.834671937300065,
                    56.74918123686276,
                    56.26210617041108,
                    60.1090069688241,
                    60.914166717195634,
                    61.11297543739965,
                    60.90423077188576,
                    60.72530287433133,
                    61.083155869740104,
                    60.625902029963335,
                    60.26805148604094,
                    59.920138805370655,
                    59.11497638849556,
                    59.49270527856319,
                    60.08912417603839,
                    60.37739562988281,
                    60.635842404010205,
                    61.14279512959178,
                    61.311780450862216,
                    61.460887586724816,
                    61.659692018856816,
                    61.12291570084738,
                    61.013573222517046,
                    63.24019824953011,
                    65.44693973284498,
                    65.70539164543922,
                    64.5125601847014,
                    64.69148474089063,
                    64.07743616606689,
                    64.17673368410517,
                    64.72287834058774,
                    64.46469653516606,
                    63.79999923706055,
                    63.900001525878906,
                    63.5099983215332,
                    61.619998931884766,
                    61.130001068115234,
                    61.16999816894531,
                    63.34000015258789,
                    62.93000030517578,
                    63.36000061035156,
                    62.88999938964844,
                    62.2599983215332,
                    61.5,
                    60.79999923706055,
                    61.189998626708984,
                    61.5,
                    60.56999969482422,
                    60.61000061035156,
                    59.65999984741211,
                    59.93000030517578,
                    59.099998474121094,
                    58.900001525878906,
                    57.310001373291016,
                    55.650001525878906,
                    55.81999969482422,
                    54.54999923706055
                  ],
                  "increasing": {
                    "line": {
                      "color": "#008000"
                    }
                  },
                  "low": [
                    56.86381478756902,
                    56.95252617440268,
                    57.04123306274414,
                    55.77956170860531,
                    54.58689350401262,
                    55.31778134889496,
                    57.35554071684918,
                    55.93407798426296,
                    54.65177838473893,
                    54.880407083274186,
                    54.57225788339631,
                    53.101089686672694,
                    53.41918317669145,
                    54.44303298833688,
                    54.81082241885692,
                    53.4390600309297,
                    52.683600347848916,
                    52.067301269045494,
                    50.46691316158067,
                    50.30786848298291,
                    49.85061345778933,
                    49.880436012282814,
                    51.709450990712725,
                    50.93410794341561,
                    51.21243578353702,
                    49.97983700378648,
                    49.721389156445355,
                    49.95995567473324,
                    50.49673361965048,
                    53.180614810031074,
                    53.57822852933334,
                    53.49870202266703,
                    54.72136013383368,
                    54.62195772777113,
                    55.02950953779711,
                    54.96986770629883,
                    56.21240664145542,
                    58.57819736848002,
                    60.00960132319994,
                    59.80085664385081,
                    58.81676298752837,
                    59.820737074734886,
                    59.38336431145381,
                    59.12491525068395,
                    57.9817829630535,
                    57.95195909880622,
                    58.598080383863106,
                    59.005631145531936,
                    58.89628897291885,
                    59.79091824793716,
                    59.91019982127668,
                    60.20840636873714,
                    60.38733317679158,
                    60.14876566163254,
                    60.31774991282017,
                    59.47282720916506,
                    59.98971914395144,
                    62.62389782054673,
                    63.61792983935502,
                    63.16067853348833,
                    63.90620000311824,
                    62.647531898304756,
                    63.24332876711847,
                    63.50150708260326,
                    63.20360496405979,
                    62.83000183105469,
                    63.209999084472656,
                    60.91999816894531,
                    60.34000015258789,
                    59.220001220703125,
                    59.209999084472656,
                    59.9900016784668,
                    62,
                    62.16999816894531,
                    61.0099983215332,
                    60.11000061035156,
                    59.70000076293945,
                    60.029998779296875,
                    60.0099983215332,
                    59.36000061035156,
                    58.2400016784668,
                    58.43000030517578,
                    58.349998474121094,
                    58.38999938964844,
                    58.2599983215332,
                    56.040000915527344,
                    55.040000915527344,
                    53.849998474121094,
                    54.119998931884766,
                    54.150001525878906
                  ],
                  "name": "GS",
                  "open": [
                    57.74106800913958,
                    57.75092510649422,
                    57.317223126577616,
                    56.587816405700394,
                    57.011661455371765,
                    55.665690397107184,
                    57.52452402311969,
                    57.892318627793976,
                    55.51658357237447,
                    54.94005026107479,
                    55.218375219139936,
                    54.47285237850092,
                    53.75715358725943,
                    54.671659472920005,
                    55.86449575361045,
                    55.1487931290725,
                    53.86649491509468,
                    52.39532925273197,
                    51.98777813766701,
                    50.36750786750442,
                    50.33768610701572,
                    50.30786930397553,
                    51.80885249304276,
                    52.28598579906497,
                    51.45100090537857,
                    51.60010728378382,
                    50.367506486567144,
                    49.95995567473324,
                    51.023572206433776,
                    53.409241297174134,
                    55.11897455887935,
                    53.54840277145986,
                    55.138854777291506,
                    55.66568863122172,
                    55.53646324425758,
                    56.26210617041108,
                    56.21240664145542,
                    58.985749580568566,
                    61.033454994245886,
                    60.50661717535854,
                    60.51655744993973,
                    60.35751428683302,
                    59.84061728180351,
                    59.8903189520733,
                    59.751155492727314,
                    58.74718248940513,
                    58.707424311330996,
                    59.30383943636623,
                    59.999663094562436,
                    60.00960231416441,
                    60.4767967244726,
                    60.735241139079186,
                    60.71536495491257,
                    61.1229185933611,
                    60.46685595235546,
                    60.77500431199502,
                    60.188525936008915,
                    62.62389782054673,
                    65.12885233614648,
                    64.27399506503099,
                    64.22428935149519,
                    63.90862728602638,
                    63.54122233980601,
                    63.997998908982005,
                    64.46469653516606,
                    63.79999923706055,
                    63.45000076293945,
                    63.33000183105469,
                    61.220001220703125,
                    60.900001525878906,
                    59.47999954223633,
                    60.29999923706055,
                    62.38999938964844,
                    62.689998626708984,
                    62.63999938964844,
                    60.66999816894531,
                    61.0099983215332,
                    60.310001373291016,
                    60.06999969482422,
                    61.209999084472656,
                    59.58000183105469,
                    60.209999084472656,
                    59.16999816894531,
                    59.790000915527344,
                    58.61000061035156,
                    58.900001525878906,
                    56.22999954223633,
                    55.099998474121094,
                    54.59000015258789,
                    54.36000061035156
                  ],
                  "showlegend": true,
                  "type": "candlestick",
                  "x": [
                    "2023-09-21",
                    "2023-09-22",
                    "2023-09-25",
                    "2023-09-26",
                    "2023-09-27",
                    "2023-09-28",
                    "2023-09-29",
                    "2023-10-02",
                    "2023-10-03",
                    "2023-10-04",
                    "2023-10-05",
                    "2023-10-06",
                    "2023-10-09",
                    "2023-10-10",
                    "2023-10-11",
                    "2023-10-13",
                    "2023-10-16",
                    "2023-10-17",
                    "2023-10-18",
                    "2023-10-19",
                    "2023-10-20",
                    "2023-10-23",
                    "2023-10-24",
                    "2023-10-25",
                    "2023-10-26",
                    "2023-10-27",
                    "2023-10-30",
                    "2023-10-31",
                    "2023-11-01",
                    "2023-11-03",
                    "2023-11-06",
                    "2023-11-07",
                    "2023-11-08",
                    "2023-11-09",
                    "2023-11-10",
                    "2023-11-13",
                    "2023-11-14",
                    "2023-11-16",
                    "2023-11-17",
                    "2023-11-20",
                    "2023-11-21",
                    "2023-11-22",
                    "2023-11-23",
                    "2023-11-24",
                    "2023-11-27",
                    "2023-11-28",
                    "2023-11-29",
                    "2023-11-30",
                    "2023-12-01",
                    "2023-12-04",
                    "2023-12-05",
                    "2023-12-06",
                    "2023-12-07",
                    "2023-12-08",
                    "2023-12-11",
                    "2023-12-12",
                    "2023-12-13",
                    "2023-12-14",
                    "2023-12-15",
                    "2023-12-18",
                    "2023-12-19",
                    "2023-12-20",
                    "2023-12-21",
                    "2023-12-22",
                    "2023-12-26",
                    "2023-12-27",
                    "2023-12-28",
                    "2024-01-02",
                    "2024-01-03",
                    "2024-01-04",
                    "2024-01-05",
                    "2024-01-08",
                    "2024-01-09",
                    "2024-01-10",
                    "2024-01-11",
                    "2024-01-12",
                    "2024-01-15",
                    "2024-01-16",
                    "2024-01-17",
                    "2024-01-18",
                    "2024-01-19",
                    "2024-01-22",
                    "2024-01-23",
                    "2024-01-24",
                    "2024-01-25",
                    "2024-01-26",
                    "2024-01-29",
                    "2024-01-30",
                    "2024-01-31",
                    "2024-02-01"
                  ],
                  "yaxis": "y2"
                }
              ],
              "layout": {
                "legend": {
                  "bgcolor": "#F5F6F9",
                  "font": {
                    "color": "#4D5663"
                  },
                  "orientation": "h",
                  "x": 0.3,
                  "y": 0.95,
                  "yanchor": "bottom"
                },
                "margin": {
                  "b": 30,
                  "l": 30,
                  "r": 30,
                  "t": 30
                },
                "paper_bgcolor": "#F5F6F9",
                "plot_bgcolor": "#F5F6F9",
                "showlegend": true,
                "template": {
                  "data": {
                    "bar": [
                      {
                        "error_x": {
                          "color": "#2a3f5f"
                        },
                        "error_y": {
                          "color": "#2a3f5f"
                        },
                        "marker": {
                          "line": {
                            "color": "#E5ECF6",
                            "width": 0.5
                          },
                          "pattern": {
                            "fillmode": "overlay",
                            "size": 10,
                            "solidity": 0.2
                          }
                        },
                        "type": "bar"
                      }
                    ],
                    "barpolar": [
                      {
                        "marker": {
                          "line": {
                            "color": "#E5ECF6",
                            "width": 0.5
                          },
                          "pattern": {
                            "fillmode": "overlay",
                            "size": 10,
                            "solidity": 0.2
                          }
                        },
                        "type": "barpolar"
                      }
                    ],
                    "carpet": [
                      {
                        "aaxis": {
                          "endlinecolor": "#2a3f5f",
                          "gridcolor": "white",
                          "linecolor": "white",
                          "minorgridcolor": "white",
                          "startlinecolor": "#2a3f5f"
                        },
                        "baxis": {
                          "endlinecolor": "#2a3f5f",
                          "gridcolor": "white",
                          "linecolor": "white",
                          "minorgridcolor": "white",
                          "startlinecolor": "#2a3f5f"
                        },
                        "type": "carpet"
                      }
                    ],
                    "choropleth": [
                      {
                        "colorbar": {
                          "outlinewidth": 0,
                          "ticks": ""
                        },
                        "type": "choropleth"
                      }
                    ],
                    "contour": [
                      {
                        "colorbar": {
                          "outlinewidth": 0,
                          "ticks": ""
                        },
                        "colorscale": [
                          [
                            0,
                            "#0d0887"
                          ],
                          [
                            0.1111111111111111,
                            "#46039f"
                          ],
                          [
                            0.2222222222222222,
                            "#7201a8"
                          ],
                          [
                            0.3333333333333333,
                            "#9c179e"
                          ],
                          [
                            0.4444444444444444,
                            "#bd3786"
                          ],
                          [
                            0.5555555555555556,
                            "#d8576b"
                          ],
                          [
                            0.6666666666666666,
                            "#ed7953"
                          ],
                          [
                            0.7777777777777778,
                            "#fb9f3a"
                          ],
                          [
                            0.8888888888888888,
                            "#fdca26"
                          ],
                          [
                            1,
                            "#f0f921"
                          ]
                        ],
                        "type": "contour"
                      }
                    ],
                    "contourcarpet": [
                      {
                        "colorbar": {
                          "outlinewidth": 0,
                          "ticks": ""
                        },
                        "type": "contourcarpet"
                      }
                    ],
                    "heatmap": [
                      {
                        "colorbar": {
                          "outlinewidth": 0,
                          "ticks": ""
                        },
                        "colorscale": [
                          [
                            0,
                            "#0d0887"
                          ],
                          [
                            0.1111111111111111,
                            "#46039f"
                          ],
                          [
                            0.2222222222222222,
                            "#7201a8"
                          ],
                          [
                            0.3333333333333333,
                            "#9c179e"
                          ],
                          [
                            0.4444444444444444,
                            "#bd3786"
                          ],
                          [
                            0.5555555555555556,
                            "#d8576b"
                          ],
                          [
                            0.6666666666666666,
                            "#ed7953"
                          ],
                          [
                            0.7777777777777778,
                            "#fb9f3a"
                          ],
                          [
                            0.8888888888888888,
                            "#fdca26"
                          ],
                          [
                            1,
                            "#f0f921"
                          ]
                        ],
                        "type": "heatmap"
                      }
                    ],
                    "heatmapgl": [
                      {
                        "colorbar": {
                          "outlinewidth": 0,
                          "ticks": ""
                        },
                        "colorscale": [
                          [
                            0,
                            "#0d0887"
                          ],
                          [
                            0.1111111111111111,
                            "#46039f"
                          ],
                          [
                            0.2222222222222222,
                            "#7201a8"
                          ],
                          [
                            0.3333333333333333,
                            "#9c179e"
                          ],
                          [
                            0.4444444444444444,
                            "#bd3786"
                          ],
                          [
                            0.5555555555555556,
                            "#d8576b"
                          ],
                          [
                            0.6666666666666666,
                            "#ed7953"
                          ],
                          [
                            0.7777777777777778,
                            "#fb9f3a"
                          ],
                          [
                            0.8888888888888888,
                            "#fdca26"
                          ],
                          [
                            1,
                            "#f0f921"
                          ]
                        ],
                        "type": "heatmapgl"
                      }
                    ],
                    "histogram": [
                      {
                        "marker": {
                          "pattern": {
                            "fillmode": "overlay",
                            "size": 10,
                            "solidity": 0.2
                          }
                        },
                        "type": "histogram"
                      }
                    ],
                    "histogram2d": [
                      {
                        "colorbar": {
                          "outlinewidth": 0,
                          "ticks": ""
                        },
                        "colorscale": [
                          [
                            0,
                            "#0d0887"
                          ],
                          [
                            0.1111111111111111,
                            "#46039f"
                          ],
                          [
                            0.2222222222222222,
                            "#7201a8"
                          ],
                          [
                            0.3333333333333333,
                            "#9c179e"
                          ],
                          [
                            0.4444444444444444,
                            "#bd3786"
                          ],
                          [
                            0.5555555555555556,
                            "#d8576b"
                          ],
                          [
                            0.6666666666666666,
                            "#ed7953"
                          ],
                          [
                            0.7777777777777778,
                            "#fb9f3a"
                          ],
                          [
                            0.8888888888888888,
                            "#fdca26"
                          ],
                          [
                            1,
                            "#f0f921"
                          ]
                        ],
                        "type": "histogram2d"
                      }
                    ],
                    "histogram2dcontour": [
                      {
                        "colorbar": {
                          "outlinewidth": 0,
                          "ticks": ""
                        },
                        "colorscale": [
                          [
                            0,
                            "#0d0887"
                          ],
                          [
                            0.1111111111111111,
                            "#46039f"
                          ],
                          [
                            0.2222222222222222,
                            "#7201a8"
                          ],
                          [
                            0.3333333333333333,
                            "#9c179e"
                          ],
                          [
                            0.4444444444444444,
                            "#bd3786"
                          ],
                          [
                            0.5555555555555556,
                            "#d8576b"
                          ],
                          [
                            0.6666666666666666,
                            "#ed7953"
                          ],
                          [
                            0.7777777777777778,
                            "#fb9f3a"
                          ],
                          [
                            0.8888888888888888,
                            "#fdca26"
                          ],
                          [
                            1,
                            "#f0f921"
                          ]
                        ],
                        "type": "histogram2dcontour"
                      }
                    ],
                    "mesh3d": [
                      {
                        "colorbar": {
                          "outlinewidth": 0,
                          "ticks": ""
                        },
                        "type": "mesh3d"
                      }
                    ],
                    "parcoords": [
                      {
                        "line": {
                          "colorbar": {
                            "outlinewidth": 0,
                            "ticks": ""
                          }
                        },
                        "type": "parcoords"
                      }
                    ],
                    "pie": [
                      {
                        "automargin": true,
                        "type": "pie"
                      }
                    ],
                    "scatter": [
                      {
                        "fillpattern": {
                          "fillmode": "overlay",
                          "size": 10,
                          "solidity": 0.2
                        },
                        "type": "scatter"
                      }
                    ],
                    "scatter3d": [
                      {
                        "line": {
                          "colorbar": {
                            "outlinewidth": 0,
                            "ticks": ""
                          }
                        },
                        "marker": {
                          "colorbar": {
                            "outlinewidth": 0,
                            "ticks": ""
                          }
                        },
                        "type": "scatter3d"
                      }
                    ],
                    "scattercarpet": [
                      {
                        "marker": {
                          "colorbar": {
                            "outlinewidth": 0,
                            "ticks": ""
                          }
                        },
                        "type": "scattercarpet"
                      }
                    ],
                    "scattergeo": [
                      {
                        "marker": {
                          "colorbar": {
                            "outlinewidth": 0,
                            "ticks": ""
                          }
                        },
                        "type": "scattergeo"
                      }
                    ],
                    "scattergl": [
                      {
                        "marker": {
                          "colorbar": {
                            "outlinewidth": 0,
                            "ticks": ""
                          }
                        },
                        "type": "scattergl"
                      }
                    ],
                    "scattermapbox": [
                      {
                        "marker": {
                          "colorbar": {
                            "outlinewidth": 0,
                            "ticks": ""
                          }
                        },
                        "type": "scattermapbox"
                      }
                    ],
                    "scatterpolar": [
                      {
                        "marker": {
                          "colorbar": {
                            "outlinewidth": 0,
                            "ticks": ""
                          }
                        },
                        "type": "scatterpolar"
                      }
                    ],
                    "scatterpolargl": [
                      {
                        "marker": {
                          "colorbar": {
                            "outlinewidth": 0,
                            "ticks": ""
                          }
                        },
                        "type": "scatterpolargl"
                      }
                    ],
                    "scatterternary": [
                      {
                        "marker": {
                          "colorbar": {
                            "outlinewidth": 0,
                            "ticks": ""
                          }
                        },
                        "type": "scatterternary"
                      }
                    ],
                    "surface": [
                      {
                        "colorbar": {
                          "outlinewidth": 0,
                          "ticks": ""
                        },
                        "colorscale": [
                          [
                            0,
                            "#0d0887"
                          ],
                          [
                            0.1111111111111111,
                            "#46039f"
                          ],
                          [
                            0.2222222222222222,
                            "#7201a8"
                          ],
                          [
                            0.3333333333333333,
                            "#9c179e"
                          ],
                          [
                            0.4444444444444444,
                            "#bd3786"
                          ],
                          [
                            0.5555555555555556,
                            "#d8576b"
                          ],
                          [
                            0.6666666666666666,
                            "#ed7953"
                          ],
                          [
                            0.7777777777777778,
                            "#fb9f3a"
                          ],
                          [
                            0.8888888888888888,
                            "#fdca26"
                          ],
                          [
                            1,
                            "#f0f921"
                          ]
                        ],
                        "type": "surface"
                      }
                    ],
                    "table": [
                      {
                        "cells": {
                          "fill": {
                            "color": "#EBF0F8"
                          },
                          "line": {
                            "color": "white"
                          }
                        },
                        "header": {
                          "fill": {
                            "color": "#C8D4E3"
                          },
                          "line": {
                            "color": "white"
                          }
                        },
                        "type": "table"
                      }
                    ]
                  },
                  "layout": {
                    "annotationdefaults": {
                      "arrowcolor": "#2a3f5f",
                      "arrowhead": 0,
                      "arrowwidth": 1
                    },
                    "autotypenumbers": "strict",
                    "coloraxis": {
                      "colorbar": {
                        "outlinewidth": 0,
                        "ticks": ""
                      }
                    },
                    "colorscale": {
                      "diverging": [
                        [
                          0,
                          "#8e0152"
                        ],
                        [
                          0.1,
                          "#c51b7d"
                        ],
                        [
                          0.2,
                          "#de77ae"
                        ],
                        [
                          0.3,
                          "#f1b6da"
                        ],
                        [
                          0.4,
                          "#fde0ef"
                        ],
                        [
                          0.5,
                          "#f7f7f7"
                        ],
                        [
                          0.6,
                          "#e6f5d0"
                        ],
                        [
                          0.7,
                          "#b8e186"
                        ],
                        [
                          0.8,
                          "#7fbc41"
                        ],
                        [
                          0.9,
                          "#4d9221"
                        ],
                        [
                          1,
                          "#276419"
                        ]
                      ],
                      "sequential": [
                        [
                          0,
                          "#0d0887"
                        ],
                        [
                          0.1111111111111111,
                          "#46039f"
                        ],
                        [
                          0.2222222222222222,
                          "#7201a8"
                        ],
                        [
                          0.3333333333333333,
                          "#9c179e"
                        ],
                        [
                          0.4444444444444444,
                          "#bd3786"
                        ],
                        [
                          0.5555555555555556,
                          "#d8576b"
                        ],
                        [
                          0.6666666666666666,
                          "#ed7953"
                        ],
                        [
                          0.7777777777777778,
                          "#fb9f3a"
                        ],
                        [
                          0.8888888888888888,
                          "#fdca26"
                        ],
                        [
                          1,
                          "#f0f921"
                        ]
                      ],
                      "sequentialminus": [
                        [
                          0,
                          "#0d0887"
                        ],
                        [
                          0.1111111111111111,
                          "#46039f"
                        ],
                        [
                          0.2222222222222222,
                          "#7201a8"
                        ],
                        [
                          0.3333333333333333,
                          "#9c179e"
                        ],
                        [
                          0.4444444444444444,
                          "#bd3786"
                        ],
                        [
                          0.5555555555555556,
                          "#d8576b"
                        ],
                        [
                          0.6666666666666666,
                          "#ed7953"
                        ],
                        [
                          0.7777777777777778,
                          "#fb9f3a"
                        ],
                        [
                          0.8888888888888888,
                          "#fdca26"
                        ],
                        [
                          1,
                          "#f0f921"
                        ]
                      ]
                    },
                    "colorway": [
                      "#636efa",
                      "#EF553B",
                      "#00cc96",
                      "#ab63fa",
                      "#FFA15A",
                      "#19d3f3",
                      "#FF6692",
                      "#B6E880",
                      "#FF97FF",
                      "#FECB52"
                    ],
                    "font": {
                      "color": "#2a3f5f"
                    },
                    "geo": {
                      "bgcolor": "white",
                      "lakecolor": "white",
                      "landcolor": "#E5ECF6",
                      "showlakes": true,
                      "showland": true,
                      "subunitcolor": "white"
                    },
                    "hoverlabel": {
                      "align": "left"
                    },
                    "hovermode": "closest",
                    "mapbox": {
                      "style": "light"
                    },
                    "paper_bgcolor": "white",
                    "plot_bgcolor": "#E5ECF6",
                    "polar": {
                      "angularaxis": {
                        "gridcolor": "white",
                        "linecolor": "white",
                        "ticks": ""
                      },
                      "bgcolor": "#E5ECF6",
                      "radialaxis": {
                        "gridcolor": "white",
                        "linecolor": "white",
                        "ticks": ""
                      }
                    },
                    "scene": {
                      "xaxis": {
                        "backgroundcolor": "#E5ECF6",
                        "gridcolor": "white",
                        "gridwidth": 2,
                        "linecolor": "white",
                        "showbackground": true,
                        "ticks": "",
                        "zerolinecolor": "white"
                      },
                      "yaxis": {
                        "backgroundcolor": "#E5ECF6",
                        "gridcolor": "white",
                        "gridwidth": 2,
                        "linecolor": "white",
                        "showbackground": true,
                        "ticks": "",
                        "zerolinecolor": "white"
                      },
                      "zaxis": {
                        "backgroundcolor": "#E5ECF6",
                        "gridcolor": "white",
                        "gridwidth": 2,
                        "linecolor": "white",
                        "showbackground": true,
                        "ticks": "",
                        "zerolinecolor": "white"
                      }
                    },
                    "shapedefaults": {
                      "line": {
                        "color": "#2a3f5f"
                      }
                    },
                    "ternary": {
                      "aaxis": {
                        "gridcolor": "white",
                        "linecolor": "white",
                        "ticks": ""
                      },
                      "baxis": {
                        "gridcolor": "white",
                        "linecolor": "white",
                        "ticks": ""
                      },
                      "bgcolor": "#E5ECF6",
                      "caxis": {
                        "gridcolor": "white",
                        "linecolor": "white",
                        "ticks": ""
                      }
                    },
                    "title": {
                      "x": 0.05
                    },
                    "xaxis": {
                      "automargin": true,
                      "gridcolor": "white",
                      "linecolor": "white",
                      "ticks": "",
                      "title": {
                        "standoff": 15
                      },
                      "zerolinecolor": "white",
                      "zerolinewidth": 2
                    },
                    "yaxis": {
                      "automargin": true,
                      "gridcolor": "white",
                      "linecolor": "white",
                      "ticks": "",
                      "title": {
                        "standoff": 15
                      },
                      "zerolinecolor": "white",
                      "zerolinewidth": 2
                    }
                  }
                },
                "title": {
                  "font": {
                    "color": "#4D5663"
                  },
                  "text": "WEGE3"
                },
                "xaxis": {
                  "anchor": "y2",
                  "gridcolor": "#E1E5ED",
                  "rangebreaks": [
                    {
                      "bounds": [
                        "sat",
                        "mon"
                      ]
                    }
                  ],
                  "rangeselector": {
                    "bgcolor": "rgba(150, 200, 250, 1)",
                    "buttons": [
                      {
                        "count": 1,
                        "label": "1m",
                        "step": "month",
                        "stepmode": "backward"
                      },
                      {
                        "count": 1,
                        "label": "1y",
                        "step": "year",
                        "stepmode": "backward"
                      }
                    ],
                    "font": {
                      "size": 13
                    },
                    "visible": false,
                    "x": 0,
                    "y": 0.9
                  },
                  "rangeslider": {
                    "visible": false
                  },
                  "showgrid": true,
                  "tickfont": {
                    "color": "#4D5663"
                  },
                  "title": {
                    "font": {
                      "color": "#4D5663"
                    },
                    "text": ""
                  },
                  "zerolinecolor": "#E1E5ED"
                },
                "yaxis": {
                  "gridcolor": "#E1E5ED",
                  "showgrid": true,
                  "showticklabels": false,
                  "tickfont": {
                    "color": "#4D5663"
                  },
                  "title": {
                    "font": {
                      "color": "#4D5663"
                    },
                    "text": ""
                  },
                  "zerolinecolor": "#E1E5ED"
                },
                "yaxis2": {
                  "domain": [
                    0.23,
                    0.9
                  ],
                  "gridcolor": "#E1E5ED",
                  "showgrid": true,
                  "tickfont": {
                    "color": "#4D5663"
                  },
                  "title": {
                    "font": {
                      "color": "#4D5663"
                    },
                    "text": ""
                  },
                  "zerolinecolor": "#E1E5ED"
                },
                "yaxis3": {
                  "domain": [
                    0,
                    0.15
                  ],
                  "gridcolor": "#E1E5ED",
                  "showgrid": true,
                  "tickfont": {
                    "color": "#4D5663"
                  },
                  "title": {
                    "font": {
                      "color": "#4D5663"
                    },
                    "text": ""
                  },
                  "zerolinecolor": "#E1E5ED"
                }
              }
            },
            "text/html": [
              "<div>                            <div id=\"893578d0-7a66-4a93-848a-713d0f2f8e22\" class=\"plotly-graph-div\" style=\"height:525px; width:100%;\"></div>            <script type=\"text/javascript\">                require([\"plotly\"], function(Plotly) {                    window.PLOTLYENV=window.PLOTLYENV || {};                                    if (document.getElementById(\"893578d0-7a66-4a93-848a-713d0f2f8e22\")) {                    Plotly.newPlot(                        \"893578d0-7a66-4a93-848a-713d0f2f8e22\",                        [{\"line\":{\"color\":\"rgba(55, 128, 191, 1.0)\",\"dash\":\"solid\",\"shape\":\"linear\",\"width\":1.3},\"mode\":\"lines\",\"name\":\" EMA(5)\",\"text\":\"\",\"x\":[\"2023-09-21\",\"2023-09-22\",\"2023-09-25\",\"2023-09-26\",\"2023-09-27\",\"2023-09-28\",\"2023-09-29\",\"2023-10-02\",\"2023-10-03\",\"2023-10-04\",\"2023-10-05\",\"2023-10-06\",\"2023-10-09\",\"2023-10-10\",\"2023-10-11\",\"2023-10-13\",\"2023-10-16\",\"2023-10-17\",\"2023-10-18\",\"2023-10-19\",\"2023-10-20\",\"2023-10-23\",\"2023-10-24\",\"2023-10-25\",\"2023-10-26\",\"2023-10-27\",\"2023-10-30\",\"2023-10-31\",\"2023-11-01\",\"2023-11-03\",\"2023-11-06\",\"2023-11-07\",\"2023-11-08\",\"2023-11-09\",\"2023-11-10\",\"2023-11-13\",\"2023-11-14\",\"2023-11-16\",\"2023-11-17\",\"2023-11-20\",\"2023-11-21\",\"2023-11-22\",\"2023-11-23\",\"2023-11-24\",\"2023-11-27\",\"2023-11-28\",\"2023-11-29\",\"2023-11-30\",\"2023-12-01\",\"2023-12-04\",\"2023-12-05\",\"2023-12-06\",\"2023-12-07\",\"2023-12-08\",\"2023-12-11\",\"2023-12-12\",\"2023-12-13\",\"2023-12-14\",\"2023-12-15\",\"2023-12-18\",\"2023-12-19\",\"2023-12-20\",\"2023-12-21\",\"2023-12-22\",\"2023-12-26\",\"2023-12-27\",\"2023-12-28\",\"2024-01-02\",\"2024-01-03\",\"2024-01-04\",\"2024-01-05\",\"2024-01-08\",\"2024-01-09\",\"2024-01-10\",\"2024-01-11\",\"2024-01-12\",\"2024-01-15\",\"2024-01-16\",\"2024-01-17\",\"2024-01-18\",\"2024-01-19\",\"2024-01-22\",\"2024-01-23\",\"2024-01-24\",\"2024-01-25\",\"2024-01-26\",\"2024-01-29\",\"2024-01-30\",\"2024-01-31\",\"2024-02-01\"],\"y\":[\"\",\"\",\"\",\"\",56.6564535447109,56.697303410910784,57.201671359633885,56.855349062347074,56.16058635609923,55.84320386182983,55.6183607308846,55.15700290791071,54.89581901624386,55.17563649544839,55.20313658005479,54.62505222483796,54.09387128303,53.62046761479344,52.66868556318261,52.03416419544206,51.587955319340935,51.52905135913419,51.78467722444884,51.54091498394246,51.6699895669317,51.15962027240434,50.77629978609508,50.70630475648527,51.0075519665631,52.165966549486086,52.67316725450766,53.451987601637924,54.02421655742333,54.322866376823896,54.99578726065604,54.987147409203644,56.2073587301592,57.65038514953322,58.57926830200002,59.225032068276704,59.377212032334214,59.53168073273779,59.80695829773666,59.685640401209206,59.33968739149624,59.128932982270285,59.04475786261053,59.25702922855676,59.630484695665444,59.849634246980095,60.0454343669646,60.26543006056104,60.55125909880502,60.60596152037848,60.65899576008631,60.4922327284039,61.17628061003294,62.42422206684488,62.83537869641872,63.218827598556494,63.46783152769977,63.23411872354464,63.51522526719383,63.69931847240006,63.71612712002778,63.67741757139222,63.65161120563518,62.85440691093453,62.20293844924933,61.34529265553797,61.06352843702531,61.64235203703706,61.83156771951559,62.221045146343734,61.81736287140689,61.54490858093793,61.423272489017215,61.04218125244377,61.00812037719885,60.458747121583094,60.33583146525136,59.79388733832513,59.60259196578446,59.27839499989472,58.97226353671367,58.06150958396472,57.19100664362297,56.29067165523758,55.567114080786645,55.14807651162144],\"yaxis\":\"y2\",\"type\":\"scatter\"},{\"line\":{\"color\":\"rgba(55, 128, 191, 1.0)\",\"dash\":\"solid\",\"shape\":\"linear\",\"width\":1.3},\"mode\":\"lines\",\"name\":\" EMA(21)\",\"text\":\"\",\"x\":[\"2023-09-21\",\"2023-09-22\",\"2023-09-25\",\"2023-09-26\",\"2023-09-27\",\"2023-09-28\",\"2023-09-29\",\"2023-10-02\",\"2023-10-03\",\"2023-10-04\",\"2023-10-05\",\"2023-10-06\",\"2023-10-09\",\"2023-10-10\",\"2023-10-11\",\"2023-10-13\",\"2023-10-16\",\"2023-10-17\",\"2023-10-18\",\"2023-10-19\",\"2023-10-20\",\"2023-10-23\",\"2023-10-24\",\"2023-10-25\",\"2023-10-26\",\"2023-10-27\",\"2023-10-30\",\"2023-10-31\",\"2023-11-01\",\"2023-11-03\",\"2023-11-06\",\"2023-11-07\",\"2023-11-08\",\"2023-11-09\",\"2023-11-10\",\"2023-11-13\",\"2023-11-14\",\"2023-11-16\",\"2023-11-17\",\"2023-11-20\",\"2023-11-21\",\"2023-11-22\",\"2023-11-23\",\"2023-11-24\",\"2023-11-27\",\"2023-11-28\",\"2023-11-29\",\"2023-11-30\",\"2023-12-01\",\"2023-12-04\",\"2023-12-05\",\"2023-12-06\",\"2023-12-07\",\"2023-12-08\",\"2023-12-11\",\"2023-12-12\",\"2023-12-13\",\"2023-12-14\",\"2023-12-15\",\"2023-12-18\",\"2023-12-19\",\"2023-12-20\",\"2023-12-21\",\"2023-12-22\",\"2023-12-26\",\"2023-12-27\",\"2023-12-28\",\"2024-01-02\",\"2024-01-03\",\"2024-01-04\",\"2024-01-05\",\"2024-01-08\",\"2024-01-09\",\"2024-01-10\",\"2024-01-11\",\"2024-01-12\",\"2024-01-15\",\"2024-01-16\",\"2024-01-17\",\"2024-01-18\",\"2024-01-19\",\"2024-01-22\",\"2024-01-23\",\"2024-01-24\",\"2024-01-25\",\"2024-01-26\",\"2024-01-29\",\"2024-01-30\",\"2024-01-31\",\"2024-02-01\"],\"y\":[\"\",\"\",\"\",\"\",\"\",\"\",\"\",\"\",\"\",\"\",\"\",\"\",\"\",\"\",\"\",\"\",\"\",\"\",\"\",\"\",54.22428628314315,53.96855511546838,53.81649819179653,53.56530658371773,53.41647314273522,53.11851028279107,52.8358874219443,52.629562628791696,52.536879334057794,52.71378082326454,52.8023069906542,53.00297256385822,53.19985455523421,53.35624650617883,53.627644917282595,53.74966517082953,54.19494846185142,54.77144750970867,55.28650088218367,55.761960765696976,56.118289056128994,56.45668260862135,56.811303592177076,57.0505491390841,57.19575206935557,57.33317680521582,57.47347051594993,57.674207010904404,57.91995143081153,58.1352225143386,58.344478159119966,58.5591093671776,58.792182804278994,58.96701767330139,59.1304764520469,59.22395192595528,59.52580869389489,60.016199265401596,60.347244055416574,60.6780150869998,60.97690820508948,61.139615924193556,61.40669069058434,61.64858288987781,61.839597574005566,61.99963401947062,62.14512169716612,62.06465593574494,61.95877826212075,61.747071244483884,61.633701131348985,61.73972823186821,61.78248012755952,61.893163752326835,61.812875985891054,61.73897816899186,61.68816199955404,61.560147161348844,61.503770021836125,61.30888189351934,61.19807446252557,60.97188579179348,60.81262355805799,60.61420333169956,60.40927581157701,60.03025089038517,59.61386451516283,59.14805880273592,58.69096245084036,58.29269326197224],\"yaxis\":\"y2\",\"type\":\"scatter\"},{\"line\":{\"color\":\"rgba(55, 128, 191, 1.0)\",\"dash\":\"solid\",\"shape\":\"linear\",\"width\":1.3},\"mode\":\"lines\",\"name\":\" EMA(72)\",\"text\":\"\",\"x\":[\"2023-09-21\",\"2023-09-22\",\"2023-09-25\",\"2023-09-26\",\"2023-09-27\",\"2023-09-28\",\"2023-09-29\",\"2023-10-02\",\"2023-10-03\",\"2023-10-04\",\"2023-10-05\",\"2023-10-06\",\"2023-10-09\",\"2023-10-10\",\"2023-10-11\",\"2023-10-13\",\"2023-10-16\",\"2023-10-17\",\"2023-10-18\",\"2023-10-19\",\"2023-10-20\",\"2023-10-23\",\"2023-10-24\",\"2023-10-25\",\"2023-10-26\",\"2023-10-27\",\"2023-10-30\",\"2023-10-31\",\"2023-11-01\",\"2023-11-03\",\"2023-11-06\",\"2023-11-07\",\"2023-11-08\",\"2023-11-09\",\"2023-11-10\",\"2023-11-13\",\"2023-11-14\",\"2023-11-16\",\"2023-11-17\",\"2023-11-20\",\"2023-11-21\",\"2023-11-22\",\"2023-11-23\",\"2023-11-24\",\"2023-11-27\",\"2023-11-28\",\"2023-11-29\",\"2023-11-30\",\"2023-12-01\",\"2023-12-04\",\"2023-12-05\",\"2023-12-06\",\"2023-12-07\",\"2023-12-08\",\"2023-12-11\",\"2023-12-12\",\"2023-12-13\",\"2023-12-14\",\"2023-12-15\",\"2023-12-18\",\"2023-12-19\",\"2023-12-20\",\"2023-12-21\",\"2023-12-22\",\"2023-12-26\",\"2023-12-27\",\"2023-12-28\",\"2024-01-02\",\"2024-01-03\",\"2024-01-04\",\"2024-01-05\",\"2024-01-08\",\"2024-01-09\",\"2024-01-10\",\"2024-01-11\",\"2024-01-12\",\"2024-01-15\",\"2024-01-16\",\"2024-01-17\",\"2024-01-18\",\"2024-01-19\",\"2024-01-22\",\"2024-01-23\",\"2024-01-24\",\"2024-01-25\",\"2024-01-26\",\"2024-01-29\",\"2024-01-30\",\"2024-01-31\",\"2024-02-01\"],\"y\":[\"\",\"\",\"\",\"\",\"\",\"\",\"\",\"\",\"\",\"\",\"\",\"\",\"\",\"\",\"\",\"\",\"\",\"\",\"\",\"\",\"\",\"\",\"\",\"\",\"\",\"\",\"\",\"\",\"\",\"\",\"\",\"\",\"\",\"\",\"\",\"\",\"\",\"\",\"\",\"\",\"\",\"\",\"\",\"\",\"\",\"\",\"\",\"\",\"\",\"\",\"\",\"\",\"\",\"\",\"\",\"\",\"\",\"\",\"\",\"\",\"\",\"\",\"\",\"\",\"\",\"\",\"\",\"\",\"\",\"\",\"\",59.23141536126435,59.313020394776906,59.41403353464603,59.457758597300476,59.500011786415534,59.5460388691213,59.56614735981103,59.60378712054796,59.59710803807683,59.61061193162508,59.58593760704556,59.57591195262522,59.549996585926316,59.51739395645851,59.42760238719847,59.31862700023247,59.18633589552656,59.04753214309802,58.91773677954166],\"yaxis\":\"y2\",\"type\":\"scatter\"},{\"legendgroup\":\"RSI(Close,2)\",\"line\":{\"color\":\"rgba(219, 64, 82, 1.0)\",\"dash\":\"solid\",\"shape\":\"linear\",\"width\":1.3},\"mode\":\"lines\",\"name\":\"RSI(Close,2)\",\"showlegend\":true,\"text\":\"\",\"x\":[\"2023-09-21\",\"2023-09-22\",\"2023-09-25\",\"2023-09-26\",\"2023-09-27\",\"2023-09-28\",\"2023-09-29\",\"2023-10-02\",\"2023-10-03\",\"2023-10-04\",\"2023-10-05\",\"2023-10-06\",\"2023-10-09\",\"2023-10-10\",\"2023-10-11\",\"2023-10-13\",\"2023-10-16\",\"2023-10-17\",\"2023-10-18\",\"2023-10-19\",\"2023-10-20\",\"2023-10-23\",\"2023-10-24\",\"2023-10-25\",\"2023-10-26\",\"2023-10-27\",\"2023-10-30\",\"2023-10-31\",\"2023-11-01\",\"2023-11-03\",\"2023-11-06\",\"2023-11-07\",\"2023-11-08\",\"2023-11-09\",\"2023-11-10\",\"2023-11-13\",\"2023-11-14\",\"2023-11-16\",\"2023-11-17\",\"2023-11-20\",\"2023-11-21\",\"2023-11-22\",\"2023-11-23\",\"2023-11-24\",\"2023-11-27\",\"2023-11-28\",\"2023-11-29\",\"2023-11-30\",\"2023-12-01\",\"2023-12-04\",\"2023-12-05\",\"2023-12-06\",\"2023-12-07\",\"2023-12-08\",\"2023-12-11\",\"2023-12-12\",\"2023-12-13\",\"2023-12-14\",\"2023-12-15\",\"2023-12-18\",\"2023-12-19\",\"2023-12-20\",\"2023-12-21\",\"2023-12-22\",\"2023-12-26\",\"2023-12-27\",\"2023-12-28\",\"2024-01-02\",\"2024-01-03\",\"2024-01-04\",\"2024-01-05\",\"2024-01-08\",\"2024-01-09\",\"2024-01-10\",\"2024-01-11\",\"2024-01-12\",\"2024-01-15\",\"2024-01-16\",\"2024-01-17\",\"2024-01-18\",\"2024-01-19\",\"2024-01-22\",\"2024-01-23\",\"2024-01-24\",\"2024-01-25\",\"2024-01-26\",\"2024-01-29\",\"2024-01-30\",\"2024-01-31\",\"2024-02-01\"],\"y\":[\"\",0.0,0.0,0.0,0.0,57.482080524102166,100.0,41.14286090214435,0.0,23.913220305047062,91.66613367444836,0.0,12.96295638269521,100.0,74.0540293857129,0.0,0.0,0.0,0.0,0.0,0.0,91.13908063286036,100.0,41.588733930015664,41.31458613346209,32.83582944442138,0.0,81.15951701622367,100.0,100.0,78.31973359347212,62.44121981716435,100.0,39.02450438982385,85.11900002969575,50.889683117393915,72.83466113487371,100.0,94.99998081196105,44.445155100735526,8.695887942469568,16.00007675186123,100.0,36.11106669438271,0.0,6.976858338762497,100.0,100.0,100.0,88.60768102284099,62.49960024305223,100.0,100.0,50.60268816955719,10.868894172610865,7.575255406120448,79.73422308125792,100.0,65.30060804200826,20.625242848850874,94.28430458856423,0.0,52.22318311490335,99.24785100286533,0.0,0.0,0.0,0.0,0.0,0.0,40.65416729056593,100.0,79.58476549506597,57.24639884564033,28.417272603775444,0.0,94.73768747364828,16.666666666666657,42.30764528237294,29.464307001679146,31.60174518455888,34.59712469536669,26.984194262624314,46.36373409534643,0.0,0.0,0.0,0.0,0.0,33.92869306957671],\"yaxis\":\"y3\",\"type\":\"scatter\"},{\"legendgroup\":\"RSI(Close,2)\",\"line\":{\"color\":\"red\",\"width\":1},\"mode\":\"lines\",\"name\":\"\",\"showlegend\":true,\"text\":\"\",\"x\":[\"2023-09-21\",\"2023-09-22\",\"2023-09-25\",\"2023-09-26\",\"2023-09-27\",\"2023-09-28\",\"2023-09-29\",\"2023-10-02\",\"2023-10-03\",\"2023-10-04\",\"2023-10-05\",\"2023-10-06\",\"2023-10-09\",\"2023-10-10\",\"2023-10-11\",\"2023-10-13\",\"2023-10-16\",\"2023-10-17\",\"2023-10-18\",\"2023-10-19\",\"2023-10-20\",\"2023-10-23\",\"2023-10-24\",\"2023-10-25\",\"2023-10-26\",\"2023-10-27\",\"2023-10-30\",\"2023-10-31\",\"2023-11-01\",\"2023-11-03\",\"2023-11-06\",\"2023-11-07\",\"2023-11-08\",\"2023-11-09\",\"2023-11-10\",\"2023-11-13\",\"2023-11-14\",\"2023-11-16\",\"2023-11-17\",\"2023-11-20\",\"2023-11-21\",\"2023-11-22\",\"2023-11-23\",\"2023-11-24\",\"2023-11-27\",\"2023-11-28\",\"2023-11-29\",\"2023-11-30\",\"2023-12-01\",\"2023-12-04\",\"2023-12-05\",\"2023-12-06\",\"2023-12-07\",\"2023-12-08\",\"2023-12-11\",\"2023-12-12\",\"2023-12-13\",\"2023-12-14\",\"2023-12-15\",\"2023-12-18\",\"2023-12-19\",\"2023-12-20\",\"2023-12-21\",\"2023-12-22\",\"2023-12-26\",\"2023-12-27\",\"2023-12-28\",\"2024-01-02\",\"2024-01-03\",\"2024-01-04\",\"2024-01-05\",\"2024-01-08\",\"2024-01-09\",\"2024-01-10\",\"2024-01-11\",\"2024-01-12\",\"2024-01-15\",\"2024-01-16\",\"2024-01-17\",\"2024-01-18\",\"2024-01-19\",\"2024-01-22\",\"2024-01-23\",\"2024-01-24\",\"2024-01-25\",\"2024-01-26\",\"2024-01-29\",\"2024-01-30\",\"2024-01-31\",\"2024-02-01\"],\"y\":[5,5,5,5,5,5,5,5,5,5,5,5,5,5,5,5,5,5,5,5,5,5,5,5,5,5,5,5,5,5,5,5,5,5,5,5,5,5,5,5,5,5,5,5,5,5,5,5,5,5,5,5,5,5,5,5,5,5,5,5,5,5,5,5,5,5,5,5,5,5,5,5,5,5,5,5,5,5,5,5,5,5,5,5,5,5,5,5,5,5],\"yaxis\":\"y3\",\"type\":\"scatter\"},{\"legendgroup\":\"RSI(Close,2)\",\"line\":{\"color\":\"green\",\"width\":1},\"mode\":\"lines\",\"name\":\"\",\"showlegend\":true,\"text\":\"\",\"x\":[\"2023-09-21\",\"2023-09-22\",\"2023-09-25\",\"2023-09-26\",\"2023-09-27\",\"2023-09-28\",\"2023-09-29\",\"2023-10-02\",\"2023-10-03\",\"2023-10-04\",\"2023-10-05\",\"2023-10-06\",\"2023-10-09\",\"2023-10-10\",\"2023-10-11\",\"2023-10-13\",\"2023-10-16\",\"2023-10-17\",\"2023-10-18\",\"2023-10-19\",\"2023-10-20\",\"2023-10-23\",\"2023-10-24\",\"2023-10-25\",\"2023-10-26\",\"2023-10-27\",\"2023-10-30\",\"2023-10-31\",\"2023-11-01\",\"2023-11-03\",\"2023-11-06\",\"2023-11-07\",\"2023-11-08\",\"2023-11-09\",\"2023-11-10\",\"2023-11-13\",\"2023-11-14\",\"2023-11-16\",\"2023-11-17\",\"2023-11-20\",\"2023-11-21\",\"2023-11-22\",\"2023-11-23\",\"2023-11-24\",\"2023-11-27\",\"2023-11-28\",\"2023-11-29\",\"2023-11-30\",\"2023-12-01\",\"2023-12-04\",\"2023-12-05\",\"2023-12-06\",\"2023-12-07\",\"2023-12-08\",\"2023-12-11\",\"2023-12-12\",\"2023-12-13\",\"2023-12-14\",\"2023-12-15\",\"2023-12-18\",\"2023-12-19\",\"2023-12-20\",\"2023-12-21\",\"2023-12-22\",\"2023-12-26\",\"2023-12-27\",\"2023-12-28\",\"2024-01-02\",\"2024-01-03\",\"2024-01-04\",\"2024-01-05\",\"2024-01-08\",\"2024-01-09\",\"2024-01-10\",\"2024-01-11\",\"2024-01-12\",\"2024-01-15\",\"2024-01-16\",\"2024-01-17\",\"2024-01-18\",\"2024-01-19\",\"2024-01-22\",\"2024-01-23\",\"2024-01-24\",\"2024-01-25\",\"2024-01-26\",\"2024-01-29\",\"2024-01-30\",\"2024-01-31\",\"2024-02-01\"],\"y\":[95,95,95,95,95,95,95,95,95,95,95,95,95,95,95,95,95,95,95,95,95,95,95,95,95,95,95,95,95,95,95,95,95,95,95,95,95,95,95,95,95,95,95,95,95,95,95,95,95,95,95,95,95,95,95,95,95,95,95,95,95,95,95,95,95,95,95,95,95,95,95,95,95,95,95,95,95,95,95,95,95,95,95,95,95,95,95,95,95,95],\"yaxis\":\"y3\",\"type\":\"scatter\"},{\"close\":[57.67206954956055,57.31722640991211,57.04123306274414,56.518821716308594,55.779563903808594,56.77900314331055,58.21040725708008,56.16270446777344,54.771060943603516,55.208438873291016,55.16867446899414,54.23428726196289,54.373451232910156,55.73527145385742,55.25813674926758,53.4688835144043,53.03150939941406,52.67366027832031,50.76512145996094,50.76512145996094,50.69553756713867,51.4112434387207,52.295928955078125,51.05339050292969,51.928138732910156,50.13888168334961,50.00965881347656,50.566314697265625,51.61004638671875,54.48279571533203,53.68756866455078,55.00962829589844,55.16867446899414,54.920166015625,56.34162902832031,54.96986770629883,58.64778137207031,60.53643798828125,60.437034606933594,60.51655960083008,59.68157196044922,59.84061813354492,60.357513427734375,59.4430046081543,58.64778137207031,58.70742416381836,58.876407623291016,59.68157196044922,60.37739562988281,60.287933349609375,60.437034606933594,60.705421447753906,61.12291717529297,60.71536636352539,60.76506423950195,60.15870666503906,62.544376373291016,64.92010498046875,63.657691955566406,63.98572540283203,63.96583938598633,62.766693115234375,64.07743835449219,64.0675048828125,63.7497444152832,63.599998474121094,63.599998474121094,61.2599983215332,60.900001525878906,59.630001068115234,60.5,62.79999923706055,62.209999084472656,63.0,61.0099983215332,61.0,61.18000030517578,60.279998779296875,60.939998626708984,59.36000061035156,60.09000015258789,58.709999084472656,59.220001220703125,58.630001068115234,58.36000061035156,56.2400016784668,55.45000076293945,54.4900016784668,54.119998931884766,54.310001373291016],\"decreasing\":{\"line\":{\"color\":\"#db4052\"}},\"high\":[58.23390554408124,58.066342340372124,57.701638799507506,56.9525203686796,57.317222822729406,57.05733417380456,58.608017044029346,57.91219589425214,55.8943160993572,55.715392612860995,55.78497211303513,54.731302345328636,54.85058526101952,56.03347974714306,56.07324117716071,55.1487931290725,53.99571990221499,53.528523037706606,52.23628568497127,51.55040621950423,50.74523831617262,52.21640547829473,52.564317561678315,52.28598579906497,52.28598641567248,52.04742163003146,51.14285259140709,51.01362904109478,51.95795923337554,55.06927367519439,55.367482105319816,55.09909116049516,55.83467286318092,55.834671937300065,56.74918123686276,56.26210617041108,60.1090069688241,60.914166717195634,61.11297543739965,60.90423077188576,60.72530287433133,61.083155869740104,60.625902029963335,60.26805148604094,59.920138805370655,59.11497638849556,59.49270527856319,60.08912417603839,60.37739562988281,60.635842404010205,61.14279512959178,61.311780450862216,61.460887586724816,61.659692018856816,61.12291570084738,61.013573222517046,63.24019824953011,65.44693973284498,65.70539164543922,64.5125601847014,64.69148474089063,64.07743616606689,64.17673368410517,64.72287834058774,64.46469653516606,63.79999923706055,63.900001525878906,63.5099983215332,61.619998931884766,61.130001068115234,61.16999816894531,63.34000015258789,62.93000030517578,63.36000061035156,62.88999938964844,62.2599983215332,61.5,60.79999923706055,61.189998626708984,61.5,60.56999969482422,60.61000061035156,59.65999984741211,59.93000030517578,59.099998474121094,58.900001525878906,57.310001373291016,55.650001525878906,55.81999969482422,54.54999923706055],\"increasing\":{\"line\":{\"color\":\"#008000\"}},\"low\":[56.86381478756902,56.95252617440268,57.04123306274414,55.77956170860531,54.58689350401262,55.31778134889496,57.35554071684918,55.93407798426296,54.65177838473893,54.880407083274186,54.57225788339631,53.101089686672694,53.41918317669145,54.44303298833688,54.81082241885692,53.4390600309297,52.683600347848916,52.067301269045494,50.46691316158067,50.30786848298291,49.85061345778933,49.880436012282814,51.709450990712725,50.93410794341561,51.21243578353702,49.97983700378648,49.721389156445355,49.95995567473324,50.49673361965048,53.180614810031074,53.57822852933334,53.49870202266703,54.72136013383368,54.62195772777113,55.02950953779711,54.96986770629883,56.21240664145542,58.57819736848002,60.00960132319994,59.80085664385081,58.81676298752837,59.820737074734886,59.38336431145381,59.12491525068395,57.9817829630535,57.95195909880622,58.598080383863106,59.005631145531936,58.89628897291885,59.79091824793716,59.91019982127668,60.20840636873714,60.38733317679158,60.14876566163254,60.31774991282017,59.47282720916506,59.98971914395144,62.62389782054673,63.61792983935502,63.16067853348833,63.90620000311824,62.647531898304756,63.24332876711847,63.50150708260326,63.20360496405979,62.83000183105469,63.209999084472656,60.91999816894531,60.34000015258789,59.220001220703125,59.209999084472656,59.9900016784668,62.0,62.16999816894531,61.0099983215332,60.11000061035156,59.70000076293945,60.029998779296875,60.0099983215332,59.36000061035156,58.2400016784668,58.43000030517578,58.349998474121094,58.38999938964844,58.2599983215332,56.040000915527344,55.040000915527344,53.849998474121094,54.119998931884766,54.150001525878906],\"name\":\"GS\",\"open\":[57.74106800913958,57.75092510649422,57.317223126577616,56.587816405700394,57.011661455371765,55.665690397107184,57.52452402311969,57.892318627793976,55.51658357237447,54.94005026107479,55.218375219139936,54.47285237850092,53.75715358725943,54.671659472920005,55.86449575361045,55.1487931290725,53.86649491509468,52.39532925273197,51.98777813766701,50.36750786750442,50.33768610701572,50.30786930397553,51.80885249304276,52.28598579906497,51.45100090537857,51.60010728378382,50.367506486567144,49.95995567473324,51.023572206433776,53.409241297174134,55.11897455887935,53.54840277145986,55.138854777291506,55.66568863122172,55.53646324425758,56.26210617041108,56.21240664145542,58.985749580568566,61.033454994245886,60.50661717535854,60.51655744993973,60.35751428683302,59.84061728180351,59.8903189520733,59.751155492727314,58.74718248940513,58.707424311330996,59.30383943636623,59.999663094562436,60.00960231416441,60.4767967244726,60.735241139079186,60.71536495491257,61.1229185933611,60.46685595235546,60.77500431199502,60.188525936008915,62.62389782054673,65.12885233614648,64.27399506503099,64.22428935149519,63.90862728602638,63.54122233980601,63.997998908982005,64.46469653516606,63.79999923706055,63.45000076293945,63.33000183105469,61.220001220703125,60.900001525878906,59.47999954223633,60.29999923706055,62.38999938964844,62.689998626708984,62.63999938964844,60.66999816894531,61.0099983215332,60.310001373291016,60.06999969482422,61.209999084472656,59.58000183105469,60.209999084472656,59.16999816894531,59.790000915527344,58.61000061035156,58.900001525878906,56.22999954223633,55.099998474121094,54.59000015258789,54.36000061035156],\"showlegend\":true,\"x\":[\"2023-09-21\",\"2023-09-22\",\"2023-09-25\",\"2023-09-26\",\"2023-09-27\",\"2023-09-28\",\"2023-09-29\",\"2023-10-02\",\"2023-10-03\",\"2023-10-04\",\"2023-10-05\",\"2023-10-06\",\"2023-10-09\",\"2023-10-10\",\"2023-10-11\",\"2023-10-13\",\"2023-10-16\",\"2023-10-17\",\"2023-10-18\",\"2023-10-19\",\"2023-10-20\",\"2023-10-23\",\"2023-10-24\",\"2023-10-25\",\"2023-10-26\",\"2023-10-27\",\"2023-10-30\",\"2023-10-31\",\"2023-11-01\",\"2023-11-03\",\"2023-11-06\",\"2023-11-07\",\"2023-11-08\",\"2023-11-09\",\"2023-11-10\",\"2023-11-13\",\"2023-11-14\",\"2023-11-16\",\"2023-11-17\",\"2023-11-20\",\"2023-11-21\",\"2023-11-22\",\"2023-11-23\",\"2023-11-24\",\"2023-11-27\",\"2023-11-28\",\"2023-11-29\",\"2023-11-30\",\"2023-12-01\",\"2023-12-04\",\"2023-12-05\",\"2023-12-06\",\"2023-12-07\",\"2023-12-08\",\"2023-12-11\",\"2023-12-12\",\"2023-12-13\",\"2023-12-14\",\"2023-12-15\",\"2023-12-18\",\"2023-12-19\",\"2023-12-20\",\"2023-12-21\",\"2023-12-22\",\"2023-12-26\",\"2023-12-27\",\"2023-12-28\",\"2024-01-02\",\"2024-01-03\",\"2024-01-04\",\"2024-01-05\",\"2024-01-08\",\"2024-01-09\",\"2024-01-10\",\"2024-01-11\",\"2024-01-12\",\"2024-01-15\",\"2024-01-16\",\"2024-01-17\",\"2024-01-18\",\"2024-01-19\",\"2024-01-22\",\"2024-01-23\",\"2024-01-24\",\"2024-01-25\",\"2024-01-26\",\"2024-01-29\",\"2024-01-30\",\"2024-01-31\",\"2024-02-01\"],\"yaxis\":\"y2\",\"type\":\"candlestick\"}],                        {\"legend\":{\"bgcolor\":\"#F5F6F9\",\"font\":{\"color\":\"#4D5663\"},\"orientation\":\"h\",\"x\":0.3,\"y\":0.95,\"yanchor\":\"bottom\"},\"margin\":{\"b\":30,\"l\":30,\"r\":30,\"t\":30},\"paper_bgcolor\":\"#F5F6F9\",\"plot_bgcolor\":\"#F5F6F9\",\"showlegend\":true,\"template\":{\"data\":{\"barpolar\":[{\"marker\":{\"line\":{\"color\":\"#E5ECF6\",\"width\":0.5},\"pattern\":{\"fillmode\":\"overlay\",\"size\":10,\"solidity\":0.2}},\"type\":\"barpolar\"}],\"bar\":[{\"error_x\":{\"color\":\"#2a3f5f\"},\"error_y\":{\"color\":\"#2a3f5f\"},\"marker\":{\"line\":{\"color\":\"#E5ECF6\",\"width\":0.5},\"pattern\":{\"fillmode\":\"overlay\",\"size\":10,\"solidity\":0.2}},\"type\":\"bar\"}],\"carpet\":[{\"aaxis\":{\"endlinecolor\":\"#2a3f5f\",\"gridcolor\":\"white\",\"linecolor\":\"white\",\"minorgridcolor\":\"white\",\"startlinecolor\":\"#2a3f5f\"},\"baxis\":{\"endlinecolor\":\"#2a3f5f\",\"gridcolor\":\"white\",\"linecolor\":\"white\",\"minorgridcolor\":\"white\",\"startlinecolor\":\"#2a3f5f\"},\"type\":\"carpet\"}],\"choropleth\":[{\"colorbar\":{\"outlinewidth\":0,\"ticks\":\"\"},\"type\":\"choropleth\"}],\"contourcarpet\":[{\"colorbar\":{\"outlinewidth\":0,\"ticks\":\"\"},\"type\":\"contourcarpet\"}],\"contour\":[{\"colorbar\":{\"outlinewidth\":0,\"ticks\":\"\"},\"colorscale\":[[0.0,\"#0d0887\"],[0.1111111111111111,\"#46039f\"],[0.2222222222222222,\"#7201a8\"],[0.3333333333333333,\"#9c179e\"],[0.4444444444444444,\"#bd3786\"],[0.5555555555555556,\"#d8576b\"],[0.6666666666666666,\"#ed7953\"],[0.7777777777777778,\"#fb9f3a\"],[0.8888888888888888,\"#fdca26\"],[1.0,\"#f0f921\"]],\"type\":\"contour\"}],\"heatmapgl\":[{\"colorbar\":{\"outlinewidth\":0,\"ticks\":\"\"},\"colorscale\":[[0.0,\"#0d0887\"],[0.1111111111111111,\"#46039f\"],[0.2222222222222222,\"#7201a8\"],[0.3333333333333333,\"#9c179e\"],[0.4444444444444444,\"#bd3786\"],[0.5555555555555556,\"#d8576b\"],[0.6666666666666666,\"#ed7953\"],[0.7777777777777778,\"#fb9f3a\"],[0.8888888888888888,\"#fdca26\"],[1.0,\"#f0f921\"]],\"type\":\"heatmapgl\"}],\"heatmap\":[{\"colorbar\":{\"outlinewidth\":0,\"ticks\":\"\"},\"colorscale\":[[0.0,\"#0d0887\"],[0.1111111111111111,\"#46039f\"],[0.2222222222222222,\"#7201a8\"],[0.3333333333333333,\"#9c179e\"],[0.4444444444444444,\"#bd3786\"],[0.5555555555555556,\"#d8576b\"],[0.6666666666666666,\"#ed7953\"],[0.7777777777777778,\"#fb9f3a\"],[0.8888888888888888,\"#fdca26\"],[1.0,\"#f0f921\"]],\"type\":\"heatmap\"}],\"histogram2dcontour\":[{\"colorbar\":{\"outlinewidth\":0,\"ticks\":\"\"},\"colorscale\":[[0.0,\"#0d0887\"],[0.1111111111111111,\"#46039f\"],[0.2222222222222222,\"#7201a8\"],[0.3333333333333333,\"#9c179e\"],[0.4444444444444444,\"#bd3786\"],[0.5555555555555556,\"#d8576b\"],[0.6666666666666666,\"#ed7953\"],[0.7777777777777778,\"#fb9f3a\"],[0.8888888888888888,\"#fdca26\"],[1.0,\"#f0f921\"]],\"type\":\"histogram2dcontour\"}],\"histogram2d\":[{\"colorbar\":{\"outlinewidth\":0,\"ticks\":\"\"},\"colorscale\":[[0.0,\"#0d0887\"],[0.1111111111111111,\"#46039f\"],[0.2222222222222222,\"#7201a8\"],[0.3333333333333333,\"#9c179e\"],[0.4444444444444444,\"#bd3786\"],[0.5555555555555556,\"#d8576b\"],[0.6666666666666666,\"#ed7953\"],[0.7777777777777778,\"#fb9f3a\"],[0.8888888888888888,\"#fdca26\"],[1.0,\"#f0f921\"]],\"type\":\"histogram2d\"}],\"histogram\":[{\"marker\":{\"pattern\":{\"fillmode\":\"overlay\",\"size\":10,\"solidity\":0.2}},\"type\":\"histogram\"}],\"mesh3d\":[{\"colorbar\":{\"outlinewidth\":0,\"ticks\":\"\"},\"type\":\"mesh3d\"}],\"parcoords\":[{\"line\":{\"colorbar\":{\"outlinewidth\":0,\"ticks\":\"\"}},\"type\":\"parcoords\"}],\"pie\":[{\"automargin\":true,\"type\":\"pie\"}],\"scatter3d\":[{\"line\":{\"colorbar\":{\"outlinewidth\":0,\"ticks\":\"\"}},\"marker\":{\"colorbar\":{\"outlinewidth\":0,\"ticks\":\"\"}},\"type\":\"scatter3d\"}],\"scattercarpet\":[{\"marker\":{\"colorbar\":{\"outlinewidth\":0,\"ticks\":\"\"}},\"type\":\"scattercarpet\"}],\"scattergeo\":[{\"marker\":{\"colorbar\":{\"outlinewidth\":0,\"ticks\":\"\"}},\"type\":\"scattergeo\"}],\"scattergl\":[{\"marker\":{\"colorbar\":{\"outlinewidth\":0,\"ticks\":\"\"}},\"type\":\"scattergl\"}],\"scattermapbox\":[{\"marker\":{\"colorbar\":{\"outlinewidth\":0,\"ticks\":\"\"}},\"type\":\"scattermapbox\"}],\"scatterpolargl\":[{\"marker\":{\"colorbar\":{\"outlinewidth\":0,\"ticks\":\"\"}},\"type\":\"scatterpolargl\"}],\"scatterpolar\":[{\"marker\":{\"colorbar\":{\"outlinewidth\":0,\"ticks\":\"\"}},\"type\":\"scatterpolar\"}],\"scatter\":[{\"fillpattern\":{\"fillmode\":\"overlay\",\"size\":10,\"solidity\":0.2},\"type\":\"scatter\"}],\"scatterternary\":[{\"marker\":{\"colorbar\":{\"outlinewidth\":0,\"ticks\":\"\"}},\"type\":\"scatterternary\"}],\"surface\":[{\"colorbar\":{\"outlinewidth\":0,\"ticks\":\"\"},\"colorscale\":[[0.0,\"#0d0887\"],[0.1111111111111111,\"#46039f\"],[0.2222222222222222,\"#7201a8\"],[0.3333333333333333,\"#9c179e\"],[0.4444444444444444,\"#bd3786\"],[0.5555555555555556,\"#d8576b\"],[0.6666666666666666,\"#ed7953\"],[0.7777777777777778,\"#fb9f3a\"],[0.8888888888888888,\"#fdca26\"],[1.0,\"#f0f921\"]],\"type\":\"surface\"}],\"table\":[{\"cells\":{\"fill\":{\"color\":\"#EBF0F8\"},\"line\":{\"color\":\"white\"}},\"header\":{\"fill\":{\"color\":\"#C8D4E3\"},\"line\":{\"color\":\"white\"}},\"type\":\"table\"}]},\"layout\":{\"annotationdefaults\":{\"arrowcolor\":\"#2a3f5f\",\"arrowhead\":0,\"arrowwidth\":1},\"autotypenumbers\":\"strict\",\"coloraxis\":{\"colorbar\":{\"outlinewidth\":0,\"ticks\":\"\"}},\"colorscale\":{\"diverging\":[[0,\"#8e0152\"],[0.1,\"#c51b7d\"],[0.2,\"#de77ae\"],[0.3,\"#f1b6da\"],[0.4,\"#fde0ef\"],[0.5,\"#f7f7f7\"],[0.6,\"#e6f5d0\"],[0.7,\"#b8e186\"],[0.8,\"#7fbc41\"],[0.9,\"#4d9221\"],[1,\"#276419\"]],\"sequential\":[[0.0,\"#0d0887\"],[0.1111111111111111,\"#46039f\"],[0.2222222222222222,\"#7201a8\"],[0.3333333333333333,\"#9c179e\"],[0.4444444444444444,\"#bd3786\"],[0.5555555555555556,\"#d8576b\"],[0.6666666666666666,\"#ed7953\"],[0.7777777777777778,\"#fb9f3a\"],[0.8888888888888888,\"#fdca26\"],[1.0,\"#f0f921\"]],\"sequentialminus\":[[0.0,\"#0d0887\"],[0.1111111111111111,\"#46039f\"],[0.2222222222222222,\"#7201a8\"],[0.3333333333333333,\"#9c179e\"],[0.4444444444444444,\"#bd3786\"],[0.5555555555555556,\"#d8576b\"],[0.6666666666666666,\"#ed7953\"],[0.7777777777777778,\"#fb9f3a\"],[0.8888888888888888,\"#fdca26\"],[1.0,\"#f0f921\"]]},\"colorway\":[\"#636efa\",\"#EF553B\",\"#00cc96\",\"#ab63fa\",\"#FFA15A\",\"#19d3f3\",\"#FF6692\",\"#B6E880\",\"#FF97FF\",\"#FECB52\"],\"font\":{\"color\":\"#2a3f5f\"},\"geo\":{\"bgcolor\":\"white\",\"lakecolor\":\"white\",\"landcolor\":\"#E5ECF6\",\"showlakes\":true,\"showland\":true,\"subunitcolor\":\"white\"},\"hoverlabel\":{\"align\":\"left\"},\"hovermode\":\"closest\",\"mapbox\":{\"style\":\"light\"},\"paper_bgcolor\":\"white\",\"plot_bgcolor\":\"#E5ECF6\",\"polar\":{\"angularaxis\":{\"gridcolor\":\"white\",\"linecolor\":\"white\",\"ticks\":\"\"},\"bgcolor\":\"#E5ECF6\",\"radialaxis\":{\"gridcolor\":\"white\",\"linecolor\":\"white\",\"ticks\":\"\"}},\"scene\":{\"xaxis\":{\"backgroundcolor\":\"#E5ECF6\",\"gridcolor\":\"white\",\"gridwidth\":2,\"linecolor\":\"white\",\"showbackground\":true,\"ticks\":\"\",\"zerolinecolor\":\"white\"},\"yaxis\":{\"backgroundcolor\":\"#E5ECF6\",\"gridcolor\":\"white\",\"gridwidth\":2,\"linecolor\":\"white\",\"showbackground\":true,\"ticks\":\"\",\"zerolinecolor\":\"white\"},\"zaxis\":{\"backgroundcolor\":\"#E5ECF6\",\"gridcolor\":\"white\",\"gridwidth\":2,\"linecolor\":\"white\",\"showbackground\":true,\"ticks\":\"\",\"zerolinecolor\":\"white\"}},\"shapedefaults\":{\"line\":{\"color\":\"#2a3f5f\"}},\"ternary\":{\"aaxis\":{\"gridcolor\":\"white\",\"linecolor\":\"white\",\"ticks\":\"\"},\"baxis\":{\"gridcolor\":\"white\",\"linecolor\":\"white\",\"ticks\":\"\"},\"bgcolor\":\"#E5ECF6\",\"caxis\":{\"gridcolor\":\"white\",\"linecolor\":\"white\",\"ticks\":\"\"}},\"title\":{\"x\":0.05},\"xaxis\":{\"automargin\":true,\"gridcolor\":\"white\",\"linecolor\":\"white\",\"ticks\":\"\",\"title\":{\"standoff\":15},\"zerolinecolor\":\"white\",\"zerolinewidth\":2},\"yaxis\":{\"automargin\":true,\"gridcolor\":\"white\",\"linecolor\":\"white\",\"ticks\":\"\",\"title\":{\"standoff\":15},\"zerolinecolor\":\"white\",\"zerolinewidth\":2}}},\"title\":{\"font\":{\"color\":\"#4D5663\"},\"text\":\"WEGE3\"},\"xaxis\":{\"anchor\":\"y2\",\"gridcolor\":\"#E1E5ED\",\"rangeselector\":{\"bgcolor\":\"rgba(150, 200, 250, 1)\",\"buttons\":[{\"count\":1,\"label\":\"1m\",\"step\":\"month\",\"stepmode\":\"backward\"},{\"count\":1,\"label\":\"1y\",\"step\":\"year\",\"stepmode\":\"backward\"}],\"font\":{\"size\":13},\"visible\":false,\"x\":0,\"y\":0.9},\"rangeslider\":{\"visible\":false},\"showgrid\":true,\"tickfont\":{\"color\":\"#4D5663\"},\"title\":{\"font\":{\"color\":\"#4D5663\"},\"text\":\"\"},\"zerolinecolor\":\"#E1E5ED\",\"rangebreaks\":[{\"bounds\":[\"sat\",\"mon\"]}]},\"yaxis\":{\"gridcolor\":\"#E1E5ED\",\"showgrid\":true,\"showticklabels\":false,\"tickfont\":{\"color\":\"#4D5663\"},\"title\":{\"font\":{\"color\":\"#4D5663\"},\"text\":\"\"},\"zerolinecolor\":\"#E1E5ED\"},\"yaxis2\":{\"domain\":[0.23,0.9],\"gridcolor\":\"#E1E5ED\",\"showgrid\":true,\"tickfont\":{\"color\":\"#4D5663\"},\"title\":{\"font\":{\"color\":\"#4D5663\"},\"text\":\"\"},\"zerolinecolor\":\"#E1E5ED\"},\"yaxis3\":{\"domain\":[0.0,0.15],\"gridcolor\":\"#E1E5ED\",\"showgrid\":true,\"tickfont\":{\"color\":\"#4D5663\"},\"title\":{\"font\":{\"color\":\"#4D5663\"},\"text\":\"\"},\"zerolinecolor\":\"#E1E5ED\"}},                        {\"responsive\": true}                    ).then(function(){\n",
              "                            \n",
              "var gd = document.getElementById('893578d0-7a66-4a93-848a-713d0f2f8e22');\n",
              "var x = new MutationObserver(function (mutations, observer) {{\n",
              "        var display = window.getComputedStyle(gd).display;\n",
              "        if (!display || display === 'none') {{\n",
              "            console.log([gd, 'removed!']);\n",
              "            Plotly.purge(gd);\n",
              "            observer.disconnect();\n",
              "        }}\n",
              "}});\n",
              "\n",
              "// Listen for the removal of the full notebook cells\n",
              "var notebookContainer = gd.closest('#notebook-container');\n",
              "if (notebookContainer) {{\n",
              "    x.observe(notebookContainer, {childList: true});\n",
              "}}\n",
              "\n",
              "// Listen for the clearing of the current output cell\n",
              "var outputEl = gd.closest('.output');\n",
              "if (outputEl) {{\n",
              "    x.observe(outputEl, {childList: true});\n",
              "}}\n",
              "\n",
              "                        })                };                });            </script>        </div>"
            ]
          },
          "metadata": {},
          "output_type": "display_data"
        }
      ],
      "source": [
        "ohlc = yf.download(tickers= ativo+'.SA', period = periodo , auto_adjust=True, progress = False )\n",
        "\n",
        "qf=cf.QuantFig(ohlc[-90:] , title= x ,legend='top',name='GS',up_color='green', down_color='red' )\n",
        "#qf.add_bollinger_bands(periods=20, boll_std=2, colors=['cyan','grey'], fill=True)\n",
        "qf.add_ema(periods=5)\n",
        "qf.add_ema(periods=21)\n",
        "qf.add_ema(periods=72)\n",
        "qf.add_rsi(periods=2,color='red',rsi_upper=95,rsi_lower=5,showbands=True)\n",
        "\n",
        "fig = qf.figure()\n",
        "fig.update_xaxes(\n",
        "    rangebreaks=[dict(bounds=[\"sat\", \"mon\"])])\n",
        "fig.show()"
      ]
    },
    {
      "cell_type": "markdown",
      "metadata": {
        "id": "abIGckox54tp"
      },
      "source": [
        "**informações dos trades**"
      ]
    },
    {
      "cell_type": "code",
      "execution_count": 39,
      "metadata": {
        "colab": {
          "base_uri": "https://localhost:8080/"
        },
        "id": "O2ajq4WnIhCg",
        "outputId": "84a71bbd-7952-467f-8a09-26bdad18c871"
      },
      "outputs": [
        {
          "name": "stdout",
          "output_type": "stream",
          "text": [
            "\n",
            "****** CCRO3 (retornos) ********\n",
            "resumo dos retornos das operações:\n",
            "count    3.000000\n",
            "mean     0.014102\n",
            "std      0.022002\n",
            "min     -0.007891\n",
            "25%      0.003097\n",
            "50%      0.014085\n",
            "75%      0.025099\n",
            "max      0.036113\n",
            "dtype: float64\n",
            "\n",
            "****** PCAR3 (retornos) ********\n",
            "resumo dos retornos das operações:\n",
            "count    9.000000\n",
            "mean    -0.053696\n",
            "std      0.115232\n",
            "min     -0.270677\n",
            "25%     -0.127873\n",
            "50%     -0.019608\n",
            "75%      0.012974\n",
            "max      0.091644\n",
            "dtype: float64\n",
            "\n",
            "****** RENT3 (retornos) ********\n",
            "resumo dos retornos das operações:\n",
            "count    7.000000\n",
            "mean     0.019710\n",
            "std      0.011707\n",
            "min     -0.003983\n",
            "25%      0.018341\n",
            "50%      0.019758\n",
            "75%      0.026794\n",
            "max      0.031924\n",
            "dtype: float64\n",
            "\n",
            "****** WEGE3 (retornos) ********\n",
            "resumo dos retornos das operações:\n",
            "count    10.000000\n",
            "mean      0.001629\n",
            "std       0.030036\n",
            "min      -0.070642\n",
            "25%      -0.005554\n",
            "50%       0.004751\n",
            "75%       0.014389\n",
            "max       0.046452\n",
            "dtype: float64\n"
          ]
        }
      ],
      "source": [
        "for x in range(len(lista_ifr)):\n",
        "  print(\"\\n******\",retornos[x][0],\"(retornos) ********\")\n",
        "  print('resumo dos retornos das operações:')\n",
        "  print(pd.Series(retornos[x][1]).describe()  );"
      ]
    },
    {
      "cell_type": "code",
      "execution_count": 40,
      "metadata": {
        "colab": {
          "base_uri": "https://localhost:8080/"
        },
        "id": "7MUQT3z-wGED",
        "outputId": "68cf2f45-8515-4a25-ab21-4771a0c02e78"
      },
      "outputs": [
        {
          "data": {
            "text/plain": [
              "[['CCRO3',\n",
              "  ['entrada em 03/03/2023 e saida em 07/03/2023 durou 2 dias e variou 1.408%',\n",
              "   'entrada em 19/10/2023 e saida em 24/10/2023 durou 3 dias e variou 3.611%',\n",
              "   'entrada em 03/01/2024 e saida em 09/01/2024 durou 4 dias e variou -0.789%']],\n",
              " ['PCAR3',\n",
              "  ['entrada em 08/02/2023 e saida em 13/02/2023 durou 3 dias e variou -1.994%',\n",
              "   'entrada em 24/02/2023 e saida em 08/03/2023 durou 8 dias e variou -12.787%',\n",
              "   'entrada em 26/05/2023 e saida em 01/06/2023 durou 4 dias e variou -0.428%',\n",
              "   'entrada em 09/08/2023 e saida em 11/08/2023 durou 2 dias e variou 1.297%',\n",
              "   'entrada em 18/08/2023 e saida em 21/08/2023 durou 1 dias e variou 3.356%',\n",
              "   'entrada em 24/08/2023 e saida em 12/09/2023 durou 12 dias e variou -27.068%',\n",
              "   'entrada em 19/09/2023 e saida em 02/10/2023 durou 9 dias e variou -17.907%',\n",
              "   'entrada em 27/11/2023 e saida em 04/12/2023 durou 5 dias e variou -1.961%',\n",
              "   'entrada em 12/01/2024 e saida em 15/01/2024 durou 1 dias e variou 9.164%']],\n",
              " ['RENT3',\n",
              "  ['entrada em 24/03/2023 e saida em 28/03/2023 durou 2 dias e variou 2.5%',\n",
              "   'entrada em 28/07/2023 e saida em 02/08/2023 durou 3 dias e variou 1.757%',\n",
              "   'entrada em 15/08/2023 e saida em 23/08/2023 durou 6 dias e variou 1.976%',\n",
              "   'entrada em 08/09/2023 e saida em 13/09/2023 durou 3 dias e variou 3.192%',\n",
              "   'entrada em 22/09/2023 e saida em 29/09/2023 durou 5 dias e variou -0.398%',\n",
              "   'entrada em 19/10/2023 e saida em 24/10/2023 durou 3 dias e variou 2.859%',\n",
              "   'entrada em 03/01/2024 e saida em 09/01/2024 durou 4 dias e variou 1.911%']],\n",
              " ['WEGE3',\n",
              "  ['entrada em 06/04/2023 e saida em 12/04/2023 durou 3 dias e variou 1.355%',\n",
              "   'entrada em 01/06/2023 e saida em 07/06/2023 durou 4 dias e variou 1.467%',\n",
              "   'entrada em 21/06/2023 e saida em 28/06/2023 durou 5 dias e variou -0.899%',\n",
              "   'entrada em 18/07/2023 e saida em 19/07/2023 durou 1 dias e variou 4.645%',\n",
              "   'entrada em 15/08/2023 e saida em 24/08/2023 durou 7 dias e variou -7.064%',\n",
              "   'entrada em 12/09/2023 e saida em 13/09/2023 durou 1 dias e variou 1.935%',\n",
              "   'entrada em 25/09/2023 e saida em 26/09/2023 durou 1 dias e variou -0.028%',\n",
              "   'entrada em 06/10/2023 e saida em 11/10/2023 durou 3 dias e variou 0.95%',\n",
              "   'entrada em 23/10/2023 e saida em 25/10/2023 durou 2 dias e variou 0.0%',\n",
              "   'entrada em 16/01/2024 e saida em 24/01/2024 durou 6 dias e variou -0.731%']]]"
            ]
          },
          "execution_count": 40,
          "metadata": {},
          "output_type": "execute_result"
        }
      ],
      "source": [
        "out"
      ]
    },
    {
      "cell_type": "code",
      "execution_count": 34,
      "metadata": {
        "colab": {
          "base_uri": "https://localhost:8080/",
          "height": 296
        },
        "id": "PEibksd_83UE",
        "outputId": "7fb87aec-0fa7-4f87-ffe7-c2aa4bca9c73"
      },
      "outputs": [
        {
          "data": {
            "text/plain": [
              "Date\n",
              "2023-02-01          NaN\n",
              "2023-02-02          NaN\n",
              "2023-02-03    42.187503\n",
              "2023-02-06    39.705947\n",
              "2023-02-07    26.298832\n",
              "                ...    \n",
              "2024-01-26     3.540765\n",
              "2024-01-29     2.205732\n",
              "2024-01-30     1.150998\n",
              "2024-01-31     0.841005\n",
              "2024-02-01    22.326101\n",
              "Length: 249, dtype: float64"
            ]
          },
          "execution_count": 34,
          "metadata": {},
          "output_type": "execute_result"
        }
      ],
      "source": [
        "import talib\n",
        "talib.RSI(ohlc[\"Close\"] , 2)"
      ]
    },
    {
      "cell_type": "code",
      "execution_count": 35,
      "metadata": {},
      "outputs": [
        {
          "data": {
            "text/plain": [
              "Date\n",
              "2023-02-01       NaN\n",
              "2023-02-02    100.00\n",
              "2023-02-03     26.73\n",
              "2023-02-06     24.77\n",
              "2023-02-07     15.14\n",
              "               ...  \n",
              "2024-01-26      3.54\n",
              "2024-01-29      2.21\n",
              "2024-01-30      1.15\n",
              "2024-01-31      0.84\n",
              "2024-02-01     22.33\n",
              "Name: rsi, Length: 249, dtype: float64"
            ]
          },
          "execution_count": 35,
          "metadata": {},
          "output_type": "execute_result"
        }
      ],
      "source": [
        "rsi(ohlc[\"Close\"])"
      ]
    },
    {
      "cell_type": "code",
      "execution_count": 36,
      "metadata": {},
      "outputs": [
        {
          "name": "stdout",
          "output_type": "stream",
          "text": [
            "Help on function full in module quantstats.reports:\n",
            "\n",
            "full(returns, benchmark=None, rf=0.0, grayscale=False, figsize=(8, 5), display=True, compounded=True, periods_per_year=252, match_dates=True, **kwargs)\n",
            "\n"
          ]
        }
      ],
      "source": [
        "import quantstats as qs\n",
        "\n",
        "help(qs.reports.full)"
      ]
    },
    {
      "cell_type": "code",
      "execution_count": 37,
      "metadata": {},
      "outputs": [
        {
          "data": {
            "text/html": [
              "<div>\n",
              "<style scoped>\n",
              "    .dataframe tbody tr th:only-of-type {\n",
              "        vertical-align: middle;\n",
              "    }\n",
              "\n",
              "    .dataframe tbody tr th {\n",
              "        vertical-align: top;\n",
              "    }\n",
              "\n",
              "    .dataframe thead th {\n",
              "        text-align: right;\n",
              "    }\n",
              "</style>\n",
              "<table border=\"1\" class=\"dataframe\">\n",
              "  <thead>\n",
              "    <tr style=\"text-align: right;\">\n",
              "      <th></th>\n",
              "      <th>Open</th>\n",
              "      <th>High</th>\n",
              "      <th>Low</th>\n",
              "      <th>Close</th>\n",
              "      <th>Volume</th>\n",
              "    </tr>\n",
              "    <tr>\n",
              "      <th>Date</th>\n",
              "      <th></th>\n",
              "      <th></th>\n",
              "      <th></th>\n",
              "      <th></th>\n",
              "      <th></th>\n",
              "    </tr>\n",
              "  </thead>\n",
              "  <tbody>\n",
              "    <tr>\n",
              "      <th>2023-02-01</th>\n",
              "      <td>57.606584</td>\n",
              "      <td>58.766904</td>\n",
              "      <td>56.475510</td>\n",
              "      <td>57.070297</td>\n",
              "      <td>6822000</td>\n",
              "    </tr>\n",
              "    <tr>\n",
              "      <th>2023-02-02</th>\n",
              "      <td>56.651021</td>\n",
              "      <td>59.371441</td>\n",
              "      <td>56.651021</td>\n",
              "      <td>58.649899</td>\n",
              "      <td>8593100</td>\n",
              "    </tr>\n",
              "    <tr>\n",
              "      <th>2023-02-03</th>\n",
              "      <td>58.133111</td>\n",
              "      <td>58.357375</td>\n",
              "      <td>56.124489</td>\n",
              "      <td>56.485260</td>\n",
              "      <td>6504600</td>\n",
              "    </tr>\n",
              "    <tr>\n",
              "      <th>2023-02-06</th>\n",
              "      <td>56.816783</td>\n",
              "      <td>57.216557</td>\n",
              "      <td>55.539452</td>\n",
              "      <td>56.368256</td>\n",
              "      <td>5828300</td>\n",
              "    </tr>\n",
              "    <tr>\n",
              "      <th>2023-02-07</th>\n",
              "      <td>56.368261</td>\n",
              "      <td>56.758283</td>\n",
              "      <td>55.714968</td>\n",
              "      <td>55.861229</td>\n",
              "      <td>7694400</td>\n",
              "    </tr>\n",
              "    <tr>\n",
              "      <th>...</th>\n",
              "      <td>...</td>\n",
              "      <td>...</td>\n",
              "      <td>...</td>\n",
              "      <td>...</td>\n",
              "      <td>...</td>\n",
              "    </tr>\n",
              "    <tr>\n",
              "      <th>2024-01-26</th>\n",
              "      <td>58.900002</td>\n",
              "      <td>58.900002</td>\n",
              "      <td>56.040001</td>\n",
              "      <td>56.240002</td>\n",
              "      <td>10955800</td>\n",
              "    </tr>\n",
              "    <tr>\n",
              "      <th>2024-01-29</th>\n",
              "      <td>56.230000</td>\n",
              "      <td>57.310001</td>\n",
              "      <td>55.040001</td>\n",
              "      <td>55.450001</td>\n",
              "      <td>7615500</td>\n",
              "    </tr>\n",
              "    <tr>\n",
              "      <th>2024-01-30</th>\n",
              "      <td>55.099998</td>\n",
              "      <td>55.650002</td>\n",
              "      <td>53.849998</td>\n",
              "      <td>54.490002</td>\n",
              "      <td>11611000</td>\n",
              "    </tr>\n",
              "    <tr>\n",
              "      <th>2024-01-31</th>\n",
              "      <td>54.590000</td>\n",
              "      <td>55.820000</td>\n",
              "      <td>54.119999</td>\n",
              "      <td>54.119999</td>\n",
              "      <td>14076900</td>\n",
              "    </tr>\n",
              "    <tr>\n",
              "      <th>2024-02-01</th>\n",
              "      <td>54.360001</td>\n",
              "      <td>54.549999</td>\n",
              "      <td>54.150002</td>\n",
              "      <td>54.310001</td>\n",
              "      <td>312700</td>\n",
              "    </tr>\n",
              "  </tbody>\n",
              "</table>\n",
              "<p>249 rows × 5 columns</p>\n",
              "</div>"
            ],
            "text/plain": [
              "                 Open       High        Low      Close    Volume\n",
              "Date                                                            \n",
              "2023-02-01  57.606584  58.766904  56.475510  57.070297   6822000\n",
              "2023-02-02  56.651021  59.371441  56.651021  58.649899   8593100\n",
              "2023-02-03  58.133111  58.357375  56.124489  56.485260   6504600\n",
              "2023-02-06  56.816783  57.216557  55.539452  56.368256   5828300\n",
              "2023-02-07  56.368261  56.758283  55.714968  55.861229   7694400\n",
              "...               ...        ...        ...        ...       ...\n",
              "2024-01-26  58.900002  58.900002  56.040001  56.240002  10955800\n",
              "2024-01-29  56.230000  57.310001  55.040001  55.450001   7615500\n",
              "2024-01-30  55.099998  55.650002  53.849998  54.490002  11611000\n",
              "2024-01-31  54.590000  55.820000  54.119999  54.119999  14076900\n",
              "2024-02-01  54.360001  54.549999  54.150002  54.310001    312700\n",
              "\n",
              "[249 rows x 5 columns]"
            ]
          },
          "execution_count": 37,
          "metadata": {},
          "output_type": "execute_result"
        }
      ],
      "source": [
        "ohlc"
      ]
    },
    {
      "cell_type": "code",
      "execution_count": 38,
      "metadata": {},
      "outputs": [
        {
          "ename": "KeyError",
          "evalue": "'retorno_estrategia'",
          "output_type": "error",
          "traceback": [
            "\u001b[0;31m---------------------------------------------------------------------------\u001b[0m",
            "\u001b[0;31mKeyError\u001b[0m                                  Traceback (most recent call last)",
            "File \u001b[0;32m~/bin/miniconda3/lib/python3.11/site-packages/pandas/core/indexes/base.py:3790\u001b[0m, in \u001b[0;36mIndex.get_loc\u001b[0;34m(self, key)\u001b[0m\n\u001b[1;32m   3789\u001b[0m \u001b[38;5;28;01mtry\u001b[39;00m:\n\u001b[0;32m-> 3790\u001b[0m     \u001b[38;5;28;01mreturn\u001b[39;00m \u001b[38;5;28;43mself\u001b[39;49m\u001b[38;5;241;43m.\u001b[39;49m\u001b[43m_engine\u001b[49m\u001b[38;5;241;43m.\u001b[39;49m\u001b[43mget_loc\u001b[49m\u001b[43m(\u001b[49m\u001b[43mcasted_key\u001b[49m\u001b[43m)\u001b[49m\n\u001b[1;32m   3791\u001b[0m \u001b[38;5;28;01mexcept\u001b[39;00m \u001b[38;5;167;01mKeyError\u001b[39;00m \u001b[38;5;28;01mas\u001b[39;00m err:\n",
            "File \u001b[0;32mindex.pyx:152\u001b[0m, in \u001b[0;36mpandas._libs.index.IndexEngine.get_loc\u001b[0;34m()\u001b[0m\n",
            "File \u001b[0;32mindex.pyx:181\u001b[0m, in \u001b[0;36mpandas._libs.index.IndexEngine.get_loc\u001b[0;34m()\u001b[0m\n",
            "File \u001b[0;32mpandas/_libs/hashtable_class_helper.pxi:7080\u001b[0m, in \u001b[0;36mpandas._libs.hashtable.PyObjectHashTable.get_item\u001b[0;34m()\u001b[0m\n",
            "File \u001b[0;32mpandas/_libs/hashtable_class_helper.pxi:7088\u001b[0m, in \u001b[0;36mpandas._libs.hashtable.PyObjectHashTable.get_item\u001b[0;34m()\u001b[0m\n",
            "\u001b[0;31mKeyError\u001b[0m: 'retorno_estrategia'",
            "\nThe above exception was the direct cause of the following exception:\n",
            "\u001b[0;31mKeyError\u001b[0m                                  Traceback (most recent call last)",
            "Cell \u001b[0;32mIn[38], line 5\u001b[0m\n\u001b[1;32m      2\u001b[0m \u001b[38;5;66;03m# Suppress FutureWarning messages\u001b[39;00m\n\u001b[1;32m      3\u001b[0m warnings\u001b[38;5;241m.\u001b[39msimplefilter(action\u001b[38;5;241m=\u001b[39m\u001b[38;5;124m'\u001b[39m\u001b[38;5;124mignore\u001b[39m\u001b[38;5;124m'\u001b[39m, category\u001b[38;5;241m=\u001b[39m\u001b[38;5;167;01mFutureWarning\u001b[39;00m)\n\u001b[0;32m----> 5\u001b[0m qs\u001b[38;5;241m.\u001b[39mreports\u001b[38;5;241m.\u001b[39mfull(\u001b[43mohlc\u001b[49m\u001b[43m[\u001b[49m\u001b[38;5;124;43m'\u001b[39;49m\u001b[38;5;124;43mretorno_estrategia\u001b[39;49m\u001b[38;5;124;43m'\u001b[39;49m\u001b[43m]\u001b[49m )\n",
            "File \u001b[0;32m~/bin/miniconda3/lib/python3.11/site-packages/pandas/core/frame.py:3893\u001b[0m, in \u001b[0;36mDataFrame.__getitem__\u001b[0;34m(self, key)\u001b[0m\n\u001b[1;32m   3891\u001b[0m \u001b[38;5;28;01mif\u001b[39;00m \u001b[38;5;28mself\u001b[39m\u001b[38;5;241m.\u001b[39mcolumns\u001b[38;5;241m.\u001b[39mnlevels \u001b[38;5;241m>\u001b[39m \u001b[38;5;241m1\u001b[39m:\n\u001b[1;32m   3892\u001b[0m     \u001b[38;5;28;01mreturn\u001b[39;00m \u001b[38;5;28mself\u001b[39m\u001b[38;5;241m.\u001b[39m_getitem_multilevel(key)\n\u001b[0;32m-> 3893\u001b[0m indexer \u001b[38;5;241m=\u001b[39m \u001b[38;5;28;43mself\u001b[39;49m\u001b[38;5;241;43m.\u001b[39;49m\u001b[43mcolumns\u001b[49m\u001b[38;5;241;43m.\u001b[39;49m\u001b[43mget_loc\u001b[49m\u001b[43m(\u001b[49m\u001b[43mkey\u001b[49m\u001b[43m)\u001b[49m\n\u001b[1;32m   3894\u001b[0m \u001b[38;5;28;01mif\u001b[39;00m is_integer(indexer):\n\u001b[1;32m   3895\u001b[0m     indexer \u001b[38;5;241m=\u001b[39m [indexer]\n",
            "File \u001b[0;32m~/bin/miniconda3/lib/python3.11/site-packages/pandas/core/indexes/base.py:3797\u001b[0m, in \u001b[0;36mIndex.get_loc\u001b[0;34m(self, key)\u001b[0m\n\u001b[1;32m   3792\u001b[0m     \u001b[38;5;28;01mif\u001b[39;00m \u001b[38;5;28misinstance\u001b[39m(casted_key, \u001b[38;5;28mslice\u001b[39m) \u001b[38;5;129;01mor\u001b[39;00m (\n\u001b[1;32m   3793\u001b[0m         \u001b[38;5;28misinstance\u001b[39m(casted_key, abc\u001b[38;5;241m.\u001b[39mIterable)\n\u001b[1;32m   3794\u001b[0m         \u001b[38;5;129;01mand\u001b[39;00m \u001b[38;5;28many\u001b[39m(\u001b[38;5;28misinstance\u001b[39m(x, \u001b[38;5;28mslice\u001b[39m) \u001b[38;5;28;01mfor\u001b[39;00m x \u001b[38;5;129;01min\u001b[39;00m casted_key)\n\u001b[1;32m   3795\u001b[0m     ):\n\u001b[1;32m   3796\u001b[0m         \u001b[38;5;28;01mraise\u001b[39;00m InvalidIndexError(key)\n\u001b[0;32m-> 3797\u001b[0m     \u001b[38;5;28;01mraise\u001b[39;00m \u001b[38;5;167;01mKeyError\u001b[39;00m(key) \u001b[38;5;28;01mfrom\u001b[39;00m \u001b[38;5;21;01merr\u001b[39;00m\n\u001b[1;32m   3798\u001b[0m \u001b[38;5;28;01mexcept\u001b[39;00m \u001b[38;5;167;01mTypeError\u001b[39;00m:\n\u001b[1;32m   3799\u001b[0m     \u001b[38;5;66;03m# If we have a listlike key, _check_indexing_error will raise\u001b[39;00m\n\u001b[1;32m   3800\u001b[0m     \u001b[38;5;66;03m#  InvalidIndexError. Otherwise we fall through and re-raise\u001b[39;00m\n\u001b[1;32m   3801\u001b[0m     \u001b[38;5;66;03m#  the TypeError.\u001b[39;00m\n\u001b[1;32m   3802\u001b[0m     \u001b[38;5;28mself\u001b[39m\u001b[38;5;241m.\u001b[39m_check_indexing_error(key)\n",
            "\u001b[0;31mKeyError\u001b[0m: 'retorno_estrategia'"
          ]
        }
      ],
      "source": [
        "import warnings\n",
        "# Suppress FutureWarning messages\n",
        "warnings.simplefilter(action='ignore', category=FutureWarning)\n",
        "\n",
        "qs.reports.full(ohlc['retorno_estrategia'] )"
      ]
    }
  ],
  "metadata": {
    "colab": {
      "authorship_tag": "ABX9TyP7iEbM0V8v5zZD8EoBLUGn",
      "include_colab_link": true,
      "provenance": []
    },
    "kernelspec": {
      "display_name": "Python 3",
      "name": "python3"
    },
    "language_info": {
      "codemirror_mode": {
        "name": "ipython",
        "version": 3
      },
      "file_extension": ".py",
      "mimetype": "text/x-python",
      "name": "python",
      "nbconvert_exporter": "python",
      "pygments_lexer": "ipython3",
      "version": "3.11.5"
    }
  },
  "nbformat": 4,
  "nbformat_minor": 0
}
