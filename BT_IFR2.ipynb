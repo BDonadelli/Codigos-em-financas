{
  "cells": [
    {
      "cell_type": "markdown",
      "metadata": {
        "colab_type": "text",
        "id": "view-in-github"
      },
      "source": [
        "<a href=\"https://colab.research.google.com/github/BDonadelli/Codigos-em-financas/blob/main/IFR2.ipynb\" target=\"_parent\"><img src=\"https://colab.research.google.com/assets/colab-badge.svg\" alt=\"Open In Colab\"/></a>"
      ]
    },
    {
      "cell_type": "markdown",
      "metadata": {
        "id": "wBQjWPl1DDi_"
      },
      "source": [
        "ESTRATÉGIA\n",
        "1.   IFR para 2 períodos < 5 compra na abertura seguinte\n",
        "2.   Preço fechamento > ma5 vende na abertura seguinte\n",
        "\n"
      ]
    },
    {
      "cell_type": "code",
      "execution_count": 1,
      "metadata": {
        "id": "Pb8Y0UL7YD8N"
      },
      "outputs": [],
      "source": [
        "# @ Data é ano/mes/dia.\n",
        "\n",
        "inicio  = '2020-01-02'  #@param {type:\"date\"}\n",
        "termino = '2023-01-30'  #@param {type:\"date\"}\n",
        "from datetime import datetime\n",
        "\n",
        "usar_periodo = True #@param {type:\"boolean\"}\n",
        "periodo = '1y' #@param ['1d','5d','1mo','3mo','6mo','1y','2y','3y','5y','10y','ytd','max']"
      ]
    },
    {
      "cell_type": "code",
      "execution_count": 2,
      "metadata": {
        "colab": {
          "base_uri": "https://localhost:8080/"
        },
        "id": "QpinoXv_p27A",
        "outputId": "465568a7-598a-422a-b49d-c016e35fc165"
      },
      "outputs": [
        {
          "data": {
            "text/html": [
              "        <script type=\"text/javascript\">\n",
              "        window.PlotlyConfig = {MathJaxConfig: 'local'};\n",
              "        if (window.MathJax && window.MathJax.Hub && window.MathJax.Hub.Config) {window.MathJax.Hub.Config({SVG: {font: \"STIX-Web\"}});}\n",
              "        if (typeof require !== 'undefined') {\n",
              "        require.undef(\"plotly\");\n",
              "        requirejs.config({\n",
              "            paths: {\n",
              "                'plotly': ['https://cdn.plot.ly/plotly-2.27.0.min']\n",
              "            }\n",
              "        });\n",
              "        require(['plotly'], function(Plotly) {\n",
              "            window._Plotly = Plotly;\n",
              "        });\n",
              "        }\n",
              "        </script>\n",
              "        "
            ]
          },
          "metadata": {},
          "output_type": "display_data"
        }
      ],
      "source": [
        "# @ markdown Instala bibliotecas\n",
        "\n",
        "import pandas as pd\n",
        "import numpy as np\n",
        "\n",
        "# import pyfolio as pf\n",
        "import quantstats as qstats\n",
        "import pandas_ta as pta\n",
        "\n",
        "# !pip install -q  yfinance\n",
        "import yfinance as yf\n",
        "\n",
        "import cufflinks as cf\n",
        "cf.go_offline()\n"
      ]
    },
    {
      "cell_type": "code",
      "execution_count": 3,
      "metadata": {},
      "outputs": [],
      "source": [
        "arq = 'data/Cart_Ibov.csv'\n",
        "# arq = 'data/Cart_IBr100.csv'\n",
        "\n",
        "try:\n",
        "    IBOV = pd.read_csv(arq, encoding='latin-1', sep=';' , skiprows=[0], skipfooter=2 , index_col=False ,engine='python')\n",
        "except:\n",
        "    url = f'https://raw.githubusercontent.com/BDonadelli/Codigos-em-financas/main/data/{arq}.csv'\n",
        "    IBOV = pd.read_csv(url, encoding='latin-1', sep=';' , skiprows=[0], skipfooter=2 , index_col=False ,engine='python')\n",
        "\n"
      ]
    },
    {
      "cell_type": "code",
      "execution_count": 4,
      "metadata": {},
      "outputs": [
        {
          "data": {
            "text/plain": [
              "'LWSA3.SA'"
            ]
          },
          "execution_count": 4,
          "metadata": {},
          "output_type": "execute_result"
        }
      ],
      "source": [
        "codigos = np.array(sorted(IBOV.Código.to_list()),dtype=str)\n",
        "tickers = [tk+'.SA' for tk in codigos]\n",
        "tickers[50]"
      ]
    },
    {
      "cell_type": "code",
      "execution_count": 5,
      "metadata": {
        "colab": {
          "base_uri": "https://localhost:8080/",
          "height": 275
        },
        "id": "ishLNStc5Cmo",
        "outputId": "8aeef680-0a37-4e27-bf72-36f8b8bb912b"
      },
      "outputs": [
        {
          "data": {
            "text/html": [
              "<div>\n",
              "<style scoped>\n",
              "    .dataframe tbody tr th:only-of-type {\n",
              "        vertical-align: middle;\n",
              "    }\n",
              "\n",
              "    .dataframe tbody tr th {\n",
              "        vertical-align: top;\n",
              "    }\n",
              "\n",
              "    .dataframe thead th {\n",
              "        text-align: right;\n",
              "    }\n",
              "</style>\n",
              "<table border=\"1\" class=\"dataframe\">\n",
              "  <thead>\n",
              "    <tr style=\"text-align: right;\">\n",
              "      <th></th>\n",
              "      <th>Open ABEV3</th>\n",
              "      <th>Open ALOS3</th>\n",
              "      <th>Open ALPA4</th>\n",
              "      <th>Open ARZZ3</th>\n",
              "      <th>Open ASAI3</th>\n",
              "      <th>Open AZUL4</th>\n",
              "      <th>Open B3SA3</th>\n",
              "      <th>Open BBAS3</th>\n",
              "      <th>Open BBDC3</th>\n",
              "      <th>Open BBDC4</th>\n",
              "      <th>...</th>\n",
              "      <th>Close TOTS3</th>\n",
              "      <th>Close TRPL4</th>\n",
              "      <th>Close UGPA3</th>\n",
              "      <th>Close USIM5</th>\n",
              "      <th>Close VALE3</th>\n",
              "      <th>Close VAMO3</th>\n",
              "      <th>Close VBBR3</th>\n",
              "      <th>Close VIVT3</th>\n",
              "      <th>Close WEGE3</th>\n",
              "      <th>Close YDUQ3</th>\n",
              "    </tr>\n",
              "    <tr>\n",
              "      <th>Date</th>\n",
              "      <th></th>\n",
              "      <th></th>\n",
              "      <th></th>\n",
              "      <th></th>\n",
              "      <th></th>\n",
              "      <th></th>\n",
              "      <th></th>\n",
              "      <th></th>\n",
              "      <th></th>\n",
              "      <th></th>\n",
              "      <th></th>\n",
              "      <th></th>\n",
              "      <th></th>\n",
              "      <th></th>\n",
              "      <th></th>\n",
              "      <th></th>\n",
              "      <th></th>\n",
              "      <th></th>\n",
              "      <th></th>\n",
              "      <th></th>\n",
              "      <th></th>\n",
              "    </tr>\n",
              "  </thead>\n",
              "  <tbody>\n",
              "    <tr>\n",
              "      <th>2023-03-21</th>\n",
              "      <td>13.437618</td>\n",
              "      <td>NaN</td>\n",
              "      <td>8.35</td>\n",
              "      <td>62.082968</td>\n",
              "      <td>15.934935</td>\n",
              "      <td>12.92</td>\n",
              "      <td>10.76202</td>\n",
              "      <td>35.063687</td>\n",
              "      <td>11.001733</td>\n",
              "      <td>12.470065</td>\n",
              "      <td>...</td>\n",
              "      <td>27.559526</td>\n",
              "      <td>19.603148</td>\n",
              "      <td>13.251404</td>\n",
              "      <td>6.476471</td>\n",
              "      <td>76.094719</td>\n",
              "      <td>12.410027</td>\n",
              "      <td>13.68717</td>\n",
              "      <td>36.723679</td>\n",
              "      <td>39.271503</td>\n",
              "      <td>7.25999</td>\n",
              "    </tr>\n",
              "  </tbody>\n",
              "</table>\n",
              "<p>1 rows × 172 columns</p>\n",
              "</div>"
            ],
            "text/plain": [
              "            Open ABEV3  Open ALOS3  Open ALPA4  Open ARZZ3  Open ASAI3  \\\n",
              "Date                                                                     \n",
              "2023-03-21   13.437618         NaN        8.35   62.082968   15.934935   \n",
              "\n",
              "            Open AZUL4  Open B3SA3  Open BBAS3  Open BBDC3  Open BBDC4  ...  \\\n",
              "Date                                                                    ...   \n",
              "2023-03-21       12.92    10.76202   35.063687   11.001733   12.470065  ...   \n",
              "\n",
              "            Close TOTS3  Close TRPL4  Close UGPA3  Close USIM5  Close VALE3  \\\n",
              "Date                                                                          \n",
              "2023-03-21    27.559526    19.603148    13.251404     6.476471    76.094719   \n",
              "\n",
              "            Close VAMO3  Close VBBR3  Close VIVT3  Close WEGE3  Close YDUQ3  \n",
              "Date                                                                         \n",
              "2023-03-21    12.410027     13.68717    36.723679    39.271503      7.25999  \n",
              "\n",
              "[1 rows x 172 columns]"
            ]
          },
          "execution_count": 5,
          "metadata": {},
          "output_type": "execute_result"
        }
      ],
      "source": [
        "# @ markdown ## download dados do yahoo finance\n",
        "## a ultima lina da tabela tem a data mais recente\n",
        "df=pd.DataFrame()\n",
        "if usar_periodo : \n",
        "  df = yf.download(tickers, period = periodo   , auto_adjust=True, progress = False )[['Open','Close']]\n",
        "else: \n",
        "  df = yf.download(tickers, start = inicio , end = termino , auto_adjust=True, progress = False )[['Open','Close']]\n",
        "\n",
        "d = dict(zip(df.columns.levels[1],df.columns.levels[1].str.rstrip('.SA') ))\n",
        "df = df.rename(columns=d, level=1)\n",
        "\n",
        "df.columns = [\" \".join(col).strip() for col in df.columns.values]\n",
        "df.head(1) #mostra a primeiro linha da tabela dos preços"
      ]
    },
    {
      "cell_type": "code",
      "execution_count": 6,
      "metadata": {
        "id": "9ykcKmET51TA"
      },
      "outputs": [],
      "source": [
        "# @ markdown  função qu, output: str = Nonee calcula o ifr a partir de uma serie de preços\n",
        "\n",
        "def rsi(price, window=2, output: str = None):   \n",
        "  '''\n",
        "    calcula o ifr \n",
        "    \"price\" é uma série de preços\n",
        "    \"window\" é o periodo da janela móvel de obeservação, por default vale 2      \n",
        "    \"output\" é string com nome de arquivo para exportar contas em csv\n",
        "    Referencia: https://seekingalpha.com/article/4518407-rsi-indicator-meaning-and-calculation \n",
        "  '''\n",
        "    \n",
        "  data = pd.DataFrame(price).copy()\n",
        "    \n",
        "  data[\"Variation\"] = data.diff()\n",
        "\n",
        "  data[\"Gain\"] = np.where(data[\"Variation\"] > 0, data[\"Variation\"], 0)\n",
        "  data[\"Loss\"] = np.where(data[\"Variation\"] < 0, data[\"Variation\"], 0)\n",
        "\n",
        "  data['avg_gain'] = data[\"Gain\"].rolling(window,min_periods=window).mean()\n",
        "  data['avg_loss'] = data[\"Loss\"].abs().rolling(window,min_periods=window).mean()\n",
        "\n",
        "  # avg_gain = gain.ewm(com=period - 1, min_periods=period).mean()\n",
        "  # avg_loss = loss.ewm(com=period - 1, min_periods=period).mean()\n",
        "  # rs = avg_gain / avg_loss\n",
        "\n",
        "  for i in range(window, len(data['avg_gain'])):\n",
        "     data['avg_gain'].iloc[i] = (data['avg_gain'].iloc[i - 1] * (window - 1) + data[\"Gain\"].iloc[i]) / window\n",
        "     data['avg_loss'].iloc[i] = (data['avg_loss'].iloc[i - 1] * (window - 1) + data[\"Loss\"].abs().iloc[i]) / window\n",
        "  data['rsi'] = 100 - (100 / (1 + ( data['avg_gain'] / data['avg_loss'] ))).round(2)\n",
        "\n",
        "  if output is not None:\n",
        "        data.to_csv(output)\n",
        "\n",
        "  return data['rsi']"
      ]
    },
    {
      "cell_type": "markdown",
      "metadata": {
        "id": "mKIKiHMYFoyB"
      },
      "source": [
        "**lista os ativos do índice com ifr2 < 5**\n"
      ]
    },
    {
      "cell_type": "code",
      "execution_count": 7,
      "metadata": {
        "colab": {
          "base_uri": "https://localhost:8080/"
        },
        "id": "UyvBTQMGQ8iM",
        "outputId": "425498bf-48f3-4227-dfdc-493f5d2497f5"
      },
      "outputs": [
        {
          "name": "stdout",
          "output_type": "stream",
          "text": [
            "o ultimo preço é do dia 21 / 3 / 2024\n",
            "Os ativos com IFR<5 são:\n",
            "BBSE3\n"
          ]
        }
      ],
      "source": [
        "IFR = pd.DataFrame({f\"{i}\": rsi( df['Close '+i] , 2)  for i in codigos})\n",
        "\n",
        "print('o ultimo preço é do dia',IFR.index[-1].day,'/',IFR.index[-1].month,'/',IFR.index[-1].year)\n",
        "print('Os ativos com IFR<5 são:')\n",
        "## seleciona os ativos dentre 'codigos' com ifr2 < 5 \n",
        "lista_ifr=[]\n",
        "for x in codigos :\n",
        "  if IFR[x].iloc[-1]< 5 :  \n",
        "    print(x)\n",
        "    lista_ifr.append(x)\n",
        "\n",
        "if len(lista_ifr)==0: print('*************** Não tem papel com IFR<5 ***************')"
      ]
    },
    {
      "cell_type": "markdown",
      "metadata": {
        "id": "PjkZQH0SGI9F"
      },
      "source": [
        "**histórico da estratégia**"
      ]
    },
    {
      "cell_type": "code",
      "execution_count": 8,
      "metadata": {
        "id": "f0KW9re0DWrw"
      },
      "outputs": [],
      "source": [
        "# @ markdown Simula as operações\n",
        "def trades (x):\n",
        "  '''\n",
        "  'trades' cria duas listas 'entrada' e 'saida' \n",
        "  essas listas têm 3 componentes: \n",
        "    a linha na tabela de dados do sinal de entrada/saida;\n",
        "    a data seguinte do sinal (entrada/saida), que é o dia de negociação, e \n",
        "    o preço (open) de entrada/saida naquele dia, preço da negociação\n",
        "  '''\n",
        "  open  = 'Open '+x\n",
        "  close = 'Close '+x\n",
        "\n",
        "  bt = df[[open , close]].copy() \n",
        "  #media movel simples de 5 periodos \n",
        "  bt['mm5'] = df[close].rolling(5).mean()  \n",
        "  bt['ifr'] = IFR[x]\n",
        "  bt=bt.dropna()\n",
        "  \n",
        "  ## marca todos os pontos com ifr2 < 5\n",
        "  bt['sinal_entra'] = np.where(bt['ifr'] < 5 , 1 , 0)\n",
        "  #marca todos pontos com close > mm5\n",
        "  bt['sinal_sai'] = np.where(bt[close] > bt['mm5'] , -1 , 0)\n",
        "\n",
        "  '''\n",
        "  cria listas com os pontos de entrada e saída das operações\n",
        "  1) percorre a tabela bt em ordem cronológica até achar sinal entrada\n",
        "     quando acha, armazenas as informações: \n",
        "       linha da tabela, data do sinal e preço de abertura do dia seguinte\n",
        "  2) em seguida, continua, a partir do proximo dia, até achar sinal saida\n",
        "     quando acha, armazenas as informações: \n",
        "       linha da tabela, data do sinal e preço de fechamento do dia seguinte\n",
        "  3) repete os passos 1 e 2 \n",
        "  '''  \n",
        "  entrada = []\n",
        "  saida = []\n",
        "  i=0\n",
        "  while i < len(bt):\n",
        "    while bt['sinal_entra'].iloc[i] == 0 : i+=1 # pega um sinal de entrada\n",
        "    if i+1 < len(bt) :                          # se teve pregão dia seguinte,entra\n",
        "        i+=1                                    # vai p/ dia seguinte\n",
        "        entrada.append( ( i-1,                                      # sinal no dia anterior\n",
        "                         bt.index[i].date().strftime(\"%d/%m/%Y\") ,  # dia entrada\n",
        "                         np.round(bt[open].iloc[i],2)))             # preço entrada\n",
        "       #avança até o primeiro sinal de saída, que pode ser no proprio dia\n",
        "        while (i < len(bt) and bt['sinal_sai'].iloc[i]==0) : i=i+1    \n",
        "       #se teve pregão dia seguinte,sai  (senão vai dormir comprado, vamos desconsiderar)\n",
        "        if i+1 < len(bt) :  \n",
        "            i+=1                                                        # vai p/ dia seguinte\n",
        "            saida.append( (i-1,                                         # sinal no dia anterior\n",
        "                           bt.index[i].date().strftime(\"%d/%m/%Y\")  ,   # dia saida\n",
        "                           np.round(bt[open].iloc[i],2)) )              # preço saida\n",
        "            # senão, a ultima operação ainda não deu saida , remove ultima entrada\n",
        "        else : entrada.pop()                    \n",
        "    i=i+1\n",
        "  return entrada,saida"
      ]
    },
    {
      "cell_type": "code",
      "execution_count": 9,
      "metadata": {
        "colab": {
          "base_uri": "https://localhost:8080/",
          "height": 426
        },
        "id": "EnX3J5gjfzNb",
        "outputId": "5bd31b03-628d-441b-9dba-0ae636f77a68"
      },
      "outputs": [
        {
          "name": "stderr",
          "output_type": "stream",
          "text": [
            "/home/yair/bin/miniconda3/lib/python3.11/site-packages/numpy/core/fromnumeric.py:3504: RuntimeWarning:\n",
            "\n",
            "Mean of empty slice.\n",
            "\n",
            "/home/yair/bin/miniconda3/lib/python3.11/site-packages/numpy/core/_methods.py:129: RuntimeWarning:\n",
            "\n",
            "invalid value encountered in scalar divide\n",
            "\n"
          ]
        },
        {
          "data": {
            "text/html": [
              "<div>\n",
              "<style scoped>\n",
              "    .dataframe tbody tr th:only-of-type {\n",
              "        vertical-align: middle;\n",
              "    }\n",
              "\n",
              "    .dataframe tbody tr th {\n",
              "        vertical-align: top;\n",
              "    }\n",
              "\n",
              "    .dataframe thead th {\n",
              "        text-align: right;\n",
              "    }\n",
              "</style>\n",
              "<table border=\"1\" class=\"dataframe\">\n",
              "  <thead>\n",
              "    <tr style=\"text-align: right;\">\n",
              "      <th></th>\n",
              "      <th>IFR2</th>\n",
              "      <th>Operações</th>\n",
              "      <th>Positivas</th>\n",
              "      <th>Tx acerto</th>\n",
              "      <th>Acumulado</th>\n",
              "      <th>Ret. médio pos</th>\n",
              "      <th>Ret. médio neg</th>\n",
              "      <th>Exp matematica</th>\n",
              "      <th>Duração média(dias)</th>\n",
              "    </tr>\n",
              "  </thead>\n",
              "  <tbody>\n",
              "    <tr>\n",
              "      <th>BBSE3</th>\n",
              "      <td>2.1</td>\n",
              "      <td>7</td>\n",
              "      <td>7</td>\n",
              "      <td>1.0</td>\n",
              "      <td>0.07</td>\n",
              "      <td>0.01</td>\n",
              "      <td>NaN</td>\n",
              "      <td>NaN</td>\n",
              "      <td>3.9</td>\n",
              "    </tr>\n",
              "  </tbody>\n",
              "</table>\n",
              "</div>"
            ],
            "text/plain": [
              "      IFR2 Operações Positivas Tx acerto Acumulado Ret. médio pos  \\\n",
              "BBSE3  2.1         7         7       1.0      0.07           0.01   \n",
              "\n",
              "      Ret. médio neg Exp matematica Duração média(dias)  \n",
              "BBSE3            NaN            NaN                 3.9  "
            ]
          },
          "metadata": {},
          "output_type": "display_data"
        }
      ],
      "source": [
        "# @ markdown Mostra os resultados\n",
        "\n",
        "resumo = pd.DataFrame(index=lista_ifr,columns=[ \\\n",
        "    'IFR2',                    # ifr do papel\n",
        "    'Operações' ,              # no. de operações no periodo\n",
        "    'Positivas' ,     # no. de operações com retorno >0\n",
        "    'Tx acerto' ,              # Retornos positivos / Retornos \n",
        "    'Acumulado',               # Retorno acumulado pela estratégia \n",
        "    'Ret. médio pos' ,          # média aritmetica dos retornos > 0\n",
        "    'Ret. médio neg' ,          # média aritmetica dos retornos < 0\n",
        "    'Exp matematica',\n",
        "    'Duração média(dias)' ])   # no. medio de dias que fica posicionado\n",
        "\n",
        "# usando as informações da função 'trades', simula as operações\n",
        "# calcula o tempo de cada operação e a variação do preço do ativo\n",
        "\n",
        "out =  [ [[],[]] for j in range(len(lista_ifr))] \n",
        "retornos = [ [[],[]] for j in range(len(lista_ifr))] \n",
        "z=0\n",
        "for x in lista_ifr:\n",
        "  dura = []  ## duração da operação, em dias uteis\n",
        "  e    = []  ## pontos de entrada \n",
        "  s    = []  ## pontos de saida\n",
        "  posret = 0 ## conta retornos positivos\n",
        "\n",
        "  e,s = trades(x)\n",
        "  # mensagens para ajudar na validação\n",
        "  out1 =  ['' for j in range(len(e))] # entrada/saida\n",
        "  out2 =  ['' for j in range(len(e))] # duração\n",
        "  out3 =  ['' for j in range(len(e))] # retorno\n",
        "  \n",
        "  for j in range(len(e)) :\n",
        "      out1[j] =  \"entrada em \" + str(e[j][1]) + \" e saida em \" + str(s[j][1]) \n",
        "      \n",
        "      dias = s[j][0] - e[j][0]\n",
        "      out2[j] = \" durou \"+str(dias)+\" dias e \"\n",
        "      dura.append(dias)\n",
        "\n",
        "      retorno = s[j][2]/e[j][2] - 1\n",
        "      out3[j] = \"variou \"+str(round(retorno*100,3))+\"%\" \n",
        "      retornos[z][1].append(retorno)\n",
        "      if retorno > 0 : posret +=1\n",
        "  \n",
        "  if len(retornos[z][1])!=0 : wins = np.round(posret/(len(retornos[z][1])),3) \n",
        "  else : wins = 0\n",
        "  retpos = np.round(np.mean([x for x in retornos[z][1] if x>0]),2)\n",
        "  retneg = abs(np.round(np.mean([x for x in retornos[z][1] if x<=0]),2))\n",
        "  expectativa = (wins * retpos) - ((1 - wins) * retneg)\n",
        "\n",
        "  resumo.loc[x] = [ IFR[x].iloc[-1].round(2), \n",
        "                   len(e) , \n",
        "                   posret , \n",
        "                   wins,\n",
        "                   np.round((np.array(retornos[z][1])+1).cumprod()[-1] - 1,2) , \n",
        "                   retpos, \n",
        "                   retneg,\n",
        "                   expectativa*100, \n",
        "                   np.round(np.mean(dura),1) \n",
        "                   ]\n",
        "  \n",
        "  retornos[z][0] = x\n",
        "  out[z][0] = x\n",
        "  for j in range(len(e)) : \n",
        "        out[z][1].append(out1[j] + out2[j]+out3[j])        \n",
        "  z=z+1\n",
        "\n",
        "resumo = resumo.sort_values(by=['Exp matematica'], ascending=False)\n",
        "display(resumo.sort_values(by=['Exp matematica'], ascending=False))"
      ]
    },
    {
      "cell_type": "markdown",
      "metadata": {},
      "source": [
        "analise 1º ativo da lista"
      ]
    },
    {
      "cell_type": "code",
      "execution_count": 10,
      "metadata": {},
      "outputs": [
        {
          "name": "stdout",
          "output_type": "stream",
          "text": [
            "bt de  BBSE3\n"
          ]
        }
      ],
      "source": [
        "ativo = resumo.index[0]\n",
        "print('bt de ',ativo)"
      ]
    },
    {
      "cell_type": "code",
      "execution_count": 11,
      "metadata": {},
      "outputs": [],
      "source": [
        "entrada,saida = trades(ativo)\n",
        "entra = [datetime.strptime(x[1] , \"%d/%m/%Y\") for x in entrada]\n",
        "sai   = [datetime.strptime(x[1] , \"%d/%m/%Y\") for x in saida]"
      ]
    },
    {
      "cell_type": "code",
      "execution_count": 12,
      "metadata": {},
      "outputs": [],
      "source": [
        "posicao = pd.DataFrame(columns=['pos'], index=df.index)\n",
        "posicao.loc[entra] = 1\n",
        "posicao.loc[sai] = 0\n",
        "posicao.ffill(inplace=True)\n",
        "posicao.fillna(0,inplace=True)\n",
        "# posicao.iplot()"
      ]
    },
    {
      "cell_type": "code",
      "execution_count": 13,
      "metadata": {},
      "outputs": [
        {
          "data": {
            "application/vnd.plotly.v1+json": {
              "config": {
                "plotlyServerURL": "https://plot.ly"
              },
              "data": [
                {
                  "name": "preço",
                  "type": "scatter",
                  "x": [
                    "2023-03-21T00:00:00",
                    "2023-03-22T00:00:00",
                    "2023-03-23T00:00:00",
                    "2023-03-24T00:00:00",
                    "2023-03-27T00:00:00",
                    "2023-03-28T00:00:00",
                    "2023-03-29T00:00:00",
                    "2023-03-30T00:00:00",
                    "2023-03-31T00:00:00",
                    "2023-04-03T00:00:00",
                    "2023-04-04T00:00:00",
                    "2023-04-05T00:00:00",
                    "2023-04-06T00:00:00",
                    "2023-04-10T00:00:00",
                    "2023-04-11T00:00:00",
                    "2023-04-12T00:00:00",
                    "2023-04-13T00:00:00",
                    "2023-04-14T00:00:00",
                    "2023-04-17T00:00:00",
                    "2023-04-18T00:00:00",
                    "2023-04-19T00:00:00",
                    "2023-04-20T00:00:00",
                    "2023-04-24T00:00:00",
                    "2023-04-25T00:00:00",
                    "2023-04-26T00:00:00",
                    "2023-04-27T00:00:00",
                    "2023-04-28T00:00:00",
                    "2023-05-02T00:00:00",
                    "2023-05-03T00:00:00",
                    "2023-05-04T00:00:00",
                    "2023-05-05T00:00:00",
                    "2023-05-08T00:00:00",
                    "2023-05-09T00:00:00",
                    "2023-05-10T00:00:00",
                    "2023-05-11T00:00:00",
                    "2023-05-12T00:00:00",
                    "2023-05-15T00:00:00",
                    "2023-05-16T00:00:00",
                    "2023-05-17T00:00:00",
                    "2023-05-18T00:00:00",
                    "2023-05-19T00:00:00",
                    "2023-05-22T00:00:00",
                    "2023-05-23T00:00:00",
                    "2023-05-24T00:00:00",
                    "2023-05-25T00:00:00",
                    "2023-05-26T00:00:00",
                    "2023-05-29T00:00:00",
                    "2023-05-30T00:00:00",
                    "2023-05-31T00:00:00",
                    "2023-06-01T00:00:00",
                    "2023-06-02T00:00:00",
                    "2023-06-05T00:00:00",
                    "2023-06-06T00:00:00",
                    "2023-06-07T00:00:00",
                    "2023-06-09T00:00:00",
                    "2023-06-12T00:00:00",
                    "2023-06-13T00:00:00",
                    "2023-06-14T00:00:00",
                    "2023-06-15T00:00:00",
                    "2023-06-16T00:00:00",
                    "2023-06-19T00:00:00",
                    "2023-06-20T00:00:00",
                    "2023-06-21T00:00:00",
                    "2023-06-22T00:00:00",
                    "2023-06-23T00:00:00",
                    "2023-06-26T00:00:00",
                    "2023-06-27T00:00:00",
                    "2023-06-28T00:00:00",
                    "2023-06-29T00:00:00",
                    "2023-06-30T00:00:00",
                    "2023-07-03T00:00:00",
                    "2023-07-04T00:00:00",
                    "2023-07-05T00:00:00",
                    "2023-07-06T00:00:00",
                    "2023-07-07T00:00:00",
                    "2023-07-10T00:00:00",
                    "2023-07-11T00:00:00",
                    "2023-07-12T00:00:00",
                    "2023-07-13T00:00:00",
                    "2023-07-14T00:00:00",
                    "2023-07-17T00:00:00",
                    "2023-07-18T00:00:00",
                    "2023-07-19T00:00:00",
                    "2023-07-20T00:00:00",
                    "2023-07-21T00:00:00",
                    "2023-07-24T00:00:00",
                    "2023-07-25T00:00:00",
                    "2023-07-26T00:00:00",
                    "2023-07-27T00:00:00",
                    "2023-07-28T00:00:00",
                    "2023-07-31T00:00:00",
                    "2023-08-01T00:00:00",
                    "2023-08-02T00:00:00",
                    "2023-08-03T00:00:00",
                    "2023-08-04T00:00:00",
                    "2023-08-07T00:00:00",
                    "2023-08-08T00:00:00",
                    "2023-08-09T00:00:00",
                    "2023-08-10T00:00:00",
                    "2023-08-11T00:00:00",
                    "2023-08-14T00:00:00",
                    "2023-08-15T00:00:00",
                    "2023-08-16T00:00:00",
                    "2023-08-17T00:00:00",
                    "2023-08-18T00:00:00",
                    "2023-08-21T00:00:00",
                    "2023-08-22T00:00:00",
                    "2023-08-23T00:00:00",
                    "2023-08-24T00:00:00",
                    "2023-08-25T00:00:00",
                    "2023-08-28T00:00:00",
                    "2023-08-29T00:00:00",
                    "2023-08-30T00:00:00",
                    "2023-08-31T00:00:00",
                    "2023-09-01T00:00:00",
                    "2023-09-04T00:00:00",
                    "2023-09-05T00:00:00",
                    "2023-09-06T00:00:00",
                    "2023-09-08T00:00:00",
                    "2023-09-11T00:00:00",
                    "2023-09-12T00:00:00",
                    "2023-09-13T00:00:00",
                    "2023-09-14T00:00:00",
                    "2023-09-15T00:00:00",
                    "2023-09-18T00:00:00",
                    "2023-09-19T00:00:00",
                    "2023-09-20T00:00:00",
                    "2023-09-21T00:00:00",
                    "2023-09-22T00:00:00",
                    "2023-09-25T00:00:00",
                    "2023-09-26T00:00:00",
                    "2023-09-27T00:00:00",
                    "2023-09-28T00:00:00",
                    "2023-09-29T00:00:00",
                    "2023-10-02T00:00:00",
                    "2023-10-03T00:00:00",
                    "2023-10-04T00:00:00",
                    "2023-10-05T00:00:00",
                    "2023-10-06T00:00:00",
                    "2023-10-09T00:00:00",
                    "2023-10-10T00:00:00",
                    "2023-10-11T00:00:00",
                    "2023-10-13T00:00:00",
                    "2023-10-16T00:00:00",
                    "2023-10-17T00:00:00",
                    "2023-10-18T00:00:00",
                    "2023-10-19T00:00:00",
                    "2023-10-20T00:00:00",
                    "2023-10-23T00:00:00",
                    "2023-10-24T00:00:00",
                    "2023-10-25T00:00:00",
                    "2023-10-26T00:00:00",
                    "2023-10-27T00:00:00",
                    "2023-10-30T00:00:00",
                    "2023-10-31T00:00:00",
                    "2023-11-01T00:00:00",
                    "2023-11-03T00:00:00",
                    "2023-11-06T00:00:00",
                    "2023-11-07T00:00:00",
                    "2023-11-08T00:00:00",
                    "2023-11-09T00:00:00",
                    "2023-11-10T00:00:00",
                    "2023-11-13T00:00:00",
                    "2023-11-14T00:00:00",
                    "2023-11-16T00:00:00",
                    "2023-11-17T00:00:00",
                    "2023-11-20T00:00:00",
                    "2023-11-21T00:00:00",
                    "2023-11-22T00:00:00",
                    "2023-11-23T00:00:00",
                    "2023-11-24T00:00:00",
                    "2023-11-27T00:00:00",
                    "2023-11-28T00:00:00",
                    "2023-11-29T00:00:00",
                    "2023-11-30T00:00:00",
                    "2023-12-01T00:00:00",
                    "2023-12-04T00:00:00",
                    "2023-12-05T00:00:00",
                    "2023-12-06T00:00:00",
                    "2023-12-07T00:00:00",
                    "2023-12-08T00:00:00",
                    "2023-12-11T00:00:00",
                    "2023-12-12T00:00:00",
                    "2023-12-13T00:00:00",
                    "2023-12-14T00:00:00",
                    "2023-12-15T00:00:00",
                    "2023-12-18T00:00:00",
                    "2023-12-19T00:00:00",
                    "2023-12-20T00:00:00",
                    "2023-12-21T00:00:00",
                    "2023-12-22T00:00:00",
                    "2023-12-26T00:00:00",
                    "2023-12-27T00:00:00",
                    "2023-12-28T00:00:00",
                    "2024-01-02T00:00:00",
                    "2024-01-03T00:00:00",
                    "2024-01-04T00:00:00",
                    "2024-01-05T00:00:00",
                    "2024-01-08T00:00:00",
                    "2024-01-09T00:00:00",
                    "2024-01-10T00:00:00",
                    "2024-01-11T00:00:00",
                    "2024-01-12T00:00:00",
                    "2024-01-15T00:00:00",
                    "2024-01-16T00:00:00",
                    "2024-01-17T00:00:00",
                    "2024-01-18T00:00:00",
                    "2024-01-19T00:00:00",
                    "2024-01-22T00:00:00",
                    "2024-01-23T00:00:00",
                    "2024-01-24T00:00:00",
                    "2024-01-25T00:00:00",
                    "2024-01-26T00:00:00",
                    "2024-01-29T00:00:00",
                    "2024-01-30T00:00:00",
                    "2024-01-31T00:00:00",
                    "2024-02-01T00:00:00",
                    "2024-02-02T00:00:00",
                    "2024-02-05T00:00:00",
                    "2024-02-06T00:00:00",
                    "2024-02-07T00:00:00",
                    "2024-02-08T00:00:00",
                    "2024-02-09T00:00:00",
                    "2024-02-14T00:00:00",
                    "2024-02-15T00:00:00",
                    "2024-02-16T00:00:00",
                    "2024-02-19T00:00:00",
                    "2024-02-20T00:00:00",
                    "2024-02-21T00:00:00",
                    "2024-02-22T00:00:00",
                    "2024-02-23T00:00:00",
                    "2024-02-26T00:00:00",
                    "2024-02-27T00:00:00",
                    "2024-02-28T00:00:00",
                    "2024-02-29T00:00:00",
                    "2024-03-01T00:00:00",
                    "2024-03-04T00:00:00",
                    "2024-03-05T00:00:00",
                    "2024-03-06T00:00:00",
                    "2024-03-07T00:00:00",
                    "2024-03-08T00:00:00",
                    "2024-03-11T00:00:00",
                    "2024-03-12T00:00:00",
                    "2024-03-13T00:00:00",
                    "2024-03-14T00:00:00",
                    "2024-03-15T00:00:00",
                    "2024-03-18T00:00:00",
                    "2024-03-19T00:00:00",
                    "2024-03-20T00:00:00",
                    "2024-03-21T00:00:00"
                  ],
                  "xaxis": "x",
                  "y": [
                    29.59086036682129,
                    29.67328643798828,
                    29.902246475219727,
                    30.28689956665039,
                    30.03046417236328,
                    30.552494049072266,
                    30.057939529418945,
                    29.828977584838867,
                    29.77402687072754,
                    29.4992733001709,
                    30.35100746154785,
                    29.902246475219727,
                    31.18442153930664,
                    31.697294235229492,
                    32.027000427246094,
                    32.39333724975586,
                    31.990365982055664,
                    31.962890625,
                    31.688135147094727,
                    31.697294235229492,
                    31.669822692871094,
                    31.834671020507812,
                    31.642343521118164,
                    31.82551383972168,
                    31.843830108642578,
                    31.468334197998047,
                    31.42254638671875,
                    31.340118408203125,
                    30.69902992248535,
                    30.33268928527832,
                    30.66239356994629,
                    30.616601943969727,
                    30.873037338256836,
                    30.955461502075195,
                    31.11115837097168,
                    31.285165786743164,
                    29.435165405273438,
                    29.444326400756836,
                    29.27947235107422,
                    28.684175491333008,
                    28.29952049255371,
                    28.326995849609375,
                    28.180461883544922,
                    28.729969024658203,
                    29.132938385009766,
                    29.215364456176758,
                    29.389373779296875,
                    29.02303695678711,
                    28.326995849609375,
                    27.951501846313477,
                    28.381946563720703,
                    28.4277400970459,
                    28.381946563720703,
                    28.381946563720703,
                    28.455215454101562,
                    28.23541259765625,
                    28.03392791748047,
                    27.960660934448242,
                    28.006452560424805,
                    27.887393951416016,
                    27.7042236328125,
                    27.68590545654297,
                    27.786649703979492,
                    27.832441329956055,
                    28.015609741210938,
                    27.200511932373047,
                    27.576007843017578,
                    27.969820022583008,
                    28.189620971679688,
                    28.180461883544922,
                    28.858184814453125,
                    28.96808624267578,
                    28.858184814453125,
                    28.62922477722168,
                    28.684175491333008,
                    28.555957794189453,
                    28.482690811157227,
                    28.152986526489258,
                    28.0797176361084,
                    27.87823486328125,
                    27.914867401123047,
                    27.594322204589844,
                    27.64011573791504,
                    28.125511169433594,
                    28.43689727783203,
                    28.821550369262695,
                    28.56511688232422,
                    28.757442474365234,
                    28.27204704284668,
                    28.638383865356445,
                    28.501007080078125,
                    28.62922477722168,
                    28.64754295349121,
                    28.684175491333008,
                    28.858184814453125,
                    29.54506492614746,
                    29.352739334106445,
                    29.453481674194336,
                    29.535907745361328,
                    29.737394332885742,
                    30.01214599609375,
                    29.81066131591797,
                    29.801504135131836,
                    28.57565689086914,
                    28.787612915039062,
                    28.7972469329834,
                    28.864688873291016,
                    29.04774284362793,
                    29.230796813964844,
                    29.230796813964844,
                    29.63544273376465,
                    29.914838790893555,
                    29.66434669494629,
                    29.269332885742188,
                    29.895570755004883,
                    30.23277473449707,
                    30.174968719482422,
                    29.95337677001953,
                    29.972646713256836,
                    30.62778663635254,
                    30.781936645507812,
                    30.753032684326172,
                    30.54107666015625,
                    30.48326873779297,
                    30.67595863342285,
                    30.521808624267578,
                    31.022796630859375,
                    30.5988826751709,
                    30.579614639282227,
                    30.859010696411133,
                    30.666322708129883,
                    30.31948471069336,
                    30.54107666015625,
                    30.068988800048828,
                    30.772302627563477,
                    30.84937858581543,
                    31.022796630859375,
                    30.772302627563477,
                    30.89754867553711,
                    30.714494705200195,
                    30.473634719848633,
                    30.589248657226562,
                    30.155698776245117,
                    30.531442642211914,
                    30.45436668395996,
                    30.72412872314453,
                    30.695226669311523,
                    30.29058265686035,
                    30.2135066986084,
                    30.252044677734375,
                    30.12679672241211,
                    30.184602737426758,
                    29.818496704101562,
                    29.43311882019043,
                    29.63544273376465,
                    30.068988800048828,
                    30.300216674804688,
                    30.608518600463867,
                    30.7337646484375,
                    30.7337646484375,
                    30.155698776245117,
                    30.155698776245117,
                    30.271312713623047,
                    30.492904663085938,
                    30.964990615844727,
                    30.618152618408203,
                    30.81083869934082,
                    30.743398666381836,
                    30.859010696411133,
                    30.926450729370117,
                    30.743398666381836,
                    30.550710678100586,
                    30.64705467224121,
                    30.300216674804688,
                    30.155698776245117,
                    29.770322799682617,
                    29.693248748779297,
                    29.57763671875,
                    29.558366775512695,
                    29.9630126953125,
                    29.972646713256836,
                    30.04008674621582,
                    30.068988800048828,
                    29.914838790893555,
                    30.48326873779297,
                    30.89754867553711,
                    31.340730667114258,
                    32.150020599365234,
                    31.938066482543945,
                    31.938066482543945,
                    32.14038848876953,
                    32.381248474121094,
                    32.1596565246582,
                    32.4197883605957,
                    32.6510124206543,
                    32.50649642944336,
                    32.73772048950195,
                    32.44868850708008,
                    32.29454040527344,
                    32.17892837524414,
                    31.97660255432129,
                    32.06331253051758,
                    32.12112045288086,
                    32.45832061767578,
                    32.25600051879883,
                    32.67028045654297,
                    33.12310028076172,
                    33.28688049316406,
                    33.36396026611328,
                    33.24834442138672,
                    32.988216400146484,
                    32.50649642944336,
                    32.49686050415039,
                    32.84370040893555,
                    32.59320831298828,
                    32.99785232543945,
                    33.055660247802734,
                    32.84370040893555,
                    33.28688049316406,
                    34.202152252197266,
                    34.529720306396484,
                    33.238712310791016,
                    32.790000915527344,
                    32.93000030517578,
                    33.0099983215332,
                    32.65999984741211,
                    32.77000045776367,
                    33.11000061035156,
                    32.900001525878906,
                    33.36000061035156,
                    33.04999923706055,
                    33.06999969482422,
                    33.209999084472656,
                    33.54999923706055,
                    33.34000015258789,
                    32.91999816894531,
                    32.90999984741211,
                    32.86000061035156,
                    32.70000076293945,
                    32.900001525878906,
                    32.790000915527344,
                    32.83000183105469,
                    32.939998626708984,
                    32.880001068115234,
                    33.11000061035156,
                    33.27000045776367,
                    33.2599983215332,
                    32.88999938964844,
                    32.86000061035156,
                    32.11000061035156
                  ],
                  "yaxis": "y"
                },
                {
                  "line": {
                    "color": "firebrick",
                    "dash": "dot",
                    "width": 2
                  },
                  "mode": "lines",
                  "name": "mma5",
                  "type": "scatter",
                  "x": [
                    "2023-03-21T00:00:00",
                    "2023-03-22T00:00:00",
                    "2023-03-23T00:00:00",
                    "2023-03-24T00:00:00",
                    "2023-03-27T00:00:00",
                    "2023-03-28T00:00:00",
                    "2023-03-29T00:00:00",
                    "2023-03-30T00:00:00",
                    "2023-03-31T00:00:00",
                    "2023-04-03T00:00:00",
                    "2023-04-04T00:00:00",
                    "2023-04-05T00:00:00",
                    "2023-04-06T00:00:00",
                    "2023-04-10T00:00:00",
                    "2023-04-11T00:00:00",
                    "2023-04-12T00:00:00",
                    "2023-04-13T00:00:00",
                    "2023-04-14T00:00:00",
                    "2023-04-17T00:00:00",
                    "2023-04-18T00:00:00",
                    "2023-04-19T00:00:00",
                    "2023-04-20T00:00:00",
                    "2023-04-24T00:00:00",
                    "2023-04-25T00:00:00",
                    "2023-04-26T00:00:00",
                    "2023-04-27T00:00:00",
                    "2023-04-28T00:00:00",
                    "2023-05-02T00:00:00",
                    "2023-05-03T00:00:00",
                    "2023-05-04T00:00:00",
                    "2023-05-05T00:00:00",
                    "2023-05-08T00:00:00",
                    "2023-05-09T00:00:00",
                    "2023-05-10T00:00:00",
                    "2023-05-11T00:00:00",
                    "2023-05-12T00:00:00",
                    "2023-05-15T00:00:00",
                    "2023-05-16T00:00:00",
                    "2023-05-17T00:00:00",
                    "2023-05-18T00:00:00",
                    "2023-05-19T00:00:00",
                    "2023-05-22T00:00:00",
                    "2023-05-23T00:00:00",
                    "2023-05-24T00:00:00",
                    "2023-05-25T00:00:00",
                    "2023-05-26T00:00:00",
                    "2023-05-29T00:00:00",
                    "2023-05-30T00:00:00",
                    "2023-05-31T00:00:00",
                    "2023-06-01T00:00:00",
                    "2023-06-02T00:00:00",
                    "2023-06-05T00:00:00",
                    "2023-06-06T00:00:00",
                    "2023-06-07T00:00:00",
                    "2023-06-09T00:00:00",
                    "2023-06-12T00:00:00",
                    "2023-06-13T00:00:00",
                    "2023-06-14T00:00:00",
                    "2023-06-15T00:00:00",
                    "2023-06-16T00:00:00",
                    "2023-06-19T00:00:00",
                    "2023-06-20T00:00:00",
                    "2023-06-21T00:00:00",
                    "2023-06-22T00:00:00",
                    "2023-06-23T00:00:00",
                    "2023-06-26T00:00:00",
                    "2023-06-27T00:00:00",
                    "2023-06-28T00:00:00",
                    "2023-06-29T00:00:00",
                    "2023-06-30T00:00:00",
                    "2023-07-03T00:00:00",
                    "2023-07-04T00:00:00",
                    "2023-07-05T00:00:00",
                    "2023-07-06T00:00:00",
                    "2023-07-07T00:00:00",
                    "2023-07-10T00:00:00",
                    "2023-07-11T00:00:00",
                    "2023-07-12T00:00:00",
                    "2023-07-13T00:00:00",
                    "2023-07-14T00:00:00",
                    "2023-07-17T00:00:00",
                    "2023-07-18T00:00:00",
                    "2023-07-19T00:00:00",
                    "2023-07-20T00:00:00",
                    "2023-07-21T00:00:00",
                    "2023-07-24T00:00:00",
                    "2023-07-25T00:00:00",
                    "2023-07-26T00:00:00",
                    "2023-07-27T00:00:00",
                    "2023-07-28T00:00:00",
                    "2023-07-31T00:00:00",
                    "2023-08-01T00:00:00",
                    "2023-08-02T00:00:00",
                    "2023-08-03T00:00:00",
                    "2023-08-04T00:00:00",
                    "2023-08-07T00:00:00",
                    "2023-08-08T00:00:00",
                    "2023-08-09T00:00:00",
                    "2023-08-10T00:00:00",
                    "2023-08-11T00:00:00",
                    "2023-08-14T00:00:00",
                    "2023-08-15T00:00:00",
                    "2023-08-16T00:00:00",
                    "2023-08-17T00:00:00",
                    "2023-08-18T00:00:00",
                    "2023-08-21T00:00:00",
                    "2023-08-22T00:00:00",
                    "2023-08-23T00:00:00",
                    "2023-08-24T00:00:00",
                    "2023-08-25T00:00:00",
                    "2023-08-28T00:00:00",
                    "2023-08-29T00:00:00",
                    "2023-08-30T00:00:00",
                    "2023-08-31T00:00:00",
                    "2023-09-01T00:00:00",
                    "2023-09-04T00:00:00",
                    "2023-09-05T00:00:00",
                    "2023-09-06T00:00:00",
                    "2023-09-08T00:00:00",
                    "2023-09-11T00:00:00",
                    "2023-09-12T00:00:00",
                    "2023-09-13T00:00:00",
                    "2023-09-14T00:00:00",
                    "2023-09-15T00:00:00",
                    "2023-09-18T00:00:00",
                    "2023-09-19T00:00:00",
                    "2023-09-20T00:00:00",
                    "2023-09-21T00:00:00",
                    "2023-09-22T00:00:00",
                    "2023-09-25T00:00:00",
                    "2023-09-26T00:00:00",
                    "2023-09-27T00:00:00",
                    "2023-09-28T00:00:00",
                    "2023-09-29T00:00:00",
                    "2023-10-02T00:00:00",
                    "2023-10-03T00:00:00",
                    "2023-10-04T00:00:00",
                    "2023-10-05T00:00:00",
                    "2023-10-06T00:00:00",
                    "2023-10-09T00:00:00",
                    "2023-10-10T00:00:00",
                    "2023-10-11T00:00:00",
                    "2023-10-13T00:00:00",
                    "2023-10-16T00:00:00",
                    "2023-10-17T00:00:00",
                    "2023-10-18T00:00:00",
                    "2023-10-19T00:00:00",
                    "2023-10-20T00:00:00",
                    "2023-10-23T00:00:00",
                    "2023-10-24T00:00:00",
                    "2023-10-25T00:00:00",
                    "2023-10-26T00:00:00",
                    "2023-10-27T00:00:00",
                    "2023-10-30T00:00:00",
                    "2023-10-31T00:00:00",
                    "2023-11-01T00:00:00",
                    "2023-11-03T00:00:00",
                    "2023-11-06T00:00:00",
                    "2023-11-07T00:00:00",
                    "2023-11-08T00:00:00",
                    "2023-11-09T00:00:00",
                    "2023-11-10T00:00:00",
                    "2023-11-13T00:00:00",
                    "2023-11-14T00:00:00",
                    "2023-11-16T00:00:00",
                    "2023-11-17T00:00:00",
                    "2023-11-20T00:00:00",
                    "2023-11-21T00:00:00",
                    "2023-11-22T00:00:00",
                    "2023-11-23T00:00:00",
                    "2023-11-24T00:00:00",
                    "2023-11-27T00:00:00",
                    "2023-11-28T00:00:00",
                    "2023-11-29T00:00:00",
                    "2023-11-30T00:00:00",
                    "2023-12-01T00:00:00",
                    "2023-12-04T00:00:00",
                    "2023-12-05T00:00:00",
                    "2023-12-06T00:00:00",
                    "2023-12-07T00:00:00",
                    "2023-12-08T00:00:00",
                    "2023-12-11T00:00:00",
                    "2023-12-12T00:00:00",
                    "2023-12-13T00:00:00",
                    "2023-12-14T00:00:00",
                    "2023-12-15T00:00:00",
                    "2023-12-18T00:00:00",
                    "2023-12-19T00:00:00",
                    "2023-12-20T00:00:00",
                    "2023-12-21T00:00:00",
                    "2023-12-22T00:00:00",
                    "2023-12-26T00:00:00",
                    "2023-12-27T00:00:00",
                    "2023-12-28T00:00:00",
                    "2024-01-02T00:00:00",
                    "2024-01-03T00:00:00",
                    "2024-01-04T00:00:00",
                    "2024-01-05T00:00:00",
                    "2024-01-08T00:00:00",
                    "2024-01-09T00:00:00",
                    "2024-01-10T00:00:00",
                    "2024-01-11T00:00:00",
                    "2024-01-12T00:00:00",
                    "2024-01-15T00:00:00",
                    "2024-01-16T00:00:00",
                    "2024-01-17T00:00:00",
                    "2024-01-18T00:00:00",
                    "2024-01-19T00:00:00",
                    "2024-01-22T00:00:00",
                    "2024-01-23T00:00:00",
                    "2024-01-24T00:00:00",
                    "2024-01-25T00:00:00",
                    "2024-01-26T00:00:00",
                    "2024-01-29T00:00:00",
                    "2024-01-30T00:00:00",
                    "2024-01-31T00:00:00",
                    "2024-02-01T00:00:00",
                    "2024-02-02T00:00:00",
                    "2024-02-05T00:00:00",
                    "2024-02-06T00:00:00",
                    "2024-02-07T00:00:00",
                    "2024-02-08T00:00:00",
                    "2024-02-09T00:00:00",
                    "2024-02-14T00:00:00",
                    "2024-02-15T00:00:00",
                    "2024-02-16T00:00:00",
                    "2024-02-19T00:00:00",
                    "2024-02-20T00:00:00",
                    "2024-02-21T00:00:00",
                    "2024-02-22T00:00:00",
                    "2024-02-23T00:00:00",
                    "2024-02-26T00:00:00",
                    "2024-02-27T00:00:00",
                    "2024-02-28T00:00:00",
                    "2024-02-29T00:00:00",
                    "2024-03-01T00:00:00",
                    "2024-03-04T00:00:00",
                    "2024-03-05T00:00:00",
                    "2024-03-06T00:00:00",
                    "2024-03-07T00:00:00",
                    "2024-03-08T00:00:00",
                    "2024-03-11T00:00:00",
                    "2024-03-12T00:00:00",
                    "2024-03-13T00:00:00",
                    "2024-03-14T00:00:00",
                    "2024-03-15T00:00:00",
                    "2024-03-18T00:00:00",
                    "2024-03-19T00:00:00",
                    "2024-03-20T00:00:00",
                    "2024-03-21T00:00:00"
                  ],
                  "xaxis": "x",
                  "y": [
                    null,
                    null,
                    null,
                    null,
                    29.896751403808594,
                    30.08907814025879,
                    30.166008758544923,
                    30.15135498046875,
                    30.04878044128418,
                    29.942542266845702,
                    29.90224494934082,
                    29.871106338500976,
                    30.14219512939453,
                    30.526848602294923,
                    31.032394027709962,
                    31.440859985351562,
                    31.85848388671875,
                    32.01417770385742,
                    32.01234588623047,
                    31.946404647827148,
                    31.801701736450195,
                    31.770562744140626,
                    31.706453323364258,
                    31.733929061889647,
                    31.763236236572265,
                    31.722938537597656,
                    31.640513610839843,
                    31.580068588256836,
                    31.35477180480957,
                    31.05254364013672,
                    30.891355514526367,
                    30.730166625976562,
                    30.636750411987304,
                    30.688036727905274,
                    30.843730545043947,
                    30.96828498840332,
                    30.731997680664062,
                    30.446255493164063,
                    30.111057662963866,
                    29.625661087036132,
                    29.028532028198242,
                    28.80689811706543,
                    28.554125213623045,
                    28.444224548339843,
                    28.533977127075197,
                    28.717145919799805,
                    28.929621505737305,
                    29.098136520385744,
                    29.017541885375977,
                    28.78125457763672,
                    28.614570999145506,
                    28.422244262695312,
                    28.294026184082032,
                    28.305016326904298,
                    28.405759048461913,
                    28.376452255249024,
                    28.297689819335936,
                    28.213432693481444,
                    28.138333892822267,
                    28.024769592285157,
                    27.918531799316405,
                    27.848927307128907,
                    27.814125061035156,
                    27.779322814941406,
                    27.80496597290039,
                    27.7042236328125,
                    27.682244110107423,
                    27.718878173828124,
                    27.79031410217285,
                    27.823284530639647,
                    28.154819107055665,
                    28.433234786987306,
                    28.610907745361327,
                    28.698828506469727,
                    28.799571228027343,
                    28.73912582397461,
                    28.6420467376709,
                    28.501007080078125,
                    28.39110565185547,
                    28.229917526245117,
                    28.101699447631837,
                    27.92402572631836,
                    27.821451568603514,
                    27.830610275268555,
                    27.94234275817871,
                    28.12367935180664,
                    28.317838287353517,
                    28.541303634643555,
                    28.570610809326173,
                    28.610908126831056,
                    28.54679946899414,
                    28.559621047973632,
                    28.53764114379883,
                    28.620066833496093,
                    28.66402702331543,
                    28.8728385925293,
                    29.01754150390625,
                    29.178729248046874,
                    29.349075698852538,
                    29.524917602539062,
                    29.61833381652832,
                    29.709918212890624,
                    29.779522705078126,
                    29.58747253417969,
                    29.39751625061035,
                    29.15453643798828,
                    28.96534194946289,
                    28.81458969116211,
                    28.94561767578125,
                    29.034254455566405,
                    29.201893615722657,
                    29.411923599243163,
                    29.535244369506835,
                    29.542951583862305,
                    29.675906372070312,
                    29.795372772216798,
                    29.84739875793457,
                    29.90520477294922,
                    30.04586753845215,
                    30.19231071472168,
                    30.302143096923828,
                    30.41775588989258,
                    30.53529586791992,
                    30.63742027282715,
                    30.64705467224121,
                    30.595029067993163,
                    30.648981857299805,
                    30.660543060302736,
                    30.679812240600587,
                    30.716422653198244,
                    30.7453254699707,
                    30.6046630859375,
                    30.59310188293457,
                    30.49097671508789,
                    30.473635101318358,
                    30.51024627685547,
                    30.65090866088867,
                    30.697153854370118,
                    30.862865829467772,
                    30.851304244995116,
                    30.776155471801758,
                    30.689445877075194,
                    30.566125106811523,
                    30.492903900146484,
                    30.440878295898436,
                    30.490977096557618,
                    30.51217269897461,
                    30.539149475097656,
                    30.475562286376952,
                    30.435097885131835,
                    30.315631484985353,
                    30.2135066986084,
                    30.11908950805664,
                    29.963011932373046,
                    29.8396915435791,
                    29.828129959106445,
                    29.85125274658203,
                    30.009257125854493,
                    30.269386291503906,
                    30.489050674438477,
                    30.506392669677734,
                    30.47748908996582,
                    30.410047912597655,
                    30.361875915527342,
                    30.40812110900879,
                    30.500611877441408,
                    30.631639862060545,
                    30.726057052612305,
                    30.799278259277344,
                    30.791570281982423,
                    30.81661949157715,
                    30.764593887329102,
                    30.745325088500977,
                    30.633566284179686,
                    30.479415893554688,
                    30.284800720214843,
                    30.113308334350585,
                    29.899424743652343,
                    29.751054763793945,
                    29.712517547607423,
                    29.752982330322265,
                    29.82234992980957,
                    29.920620346069335,
                    29.991914749145508,
                    30.095965957641603,
                    30.280946350097658,
                    30.541075134277342,
                    30.957281494140624,
                    31.361927032470703,
                    31.652886581420898,
                    31.901454544067384,
                    32.10955810546875,
                    32.11148529052734,
                    32.2078296661377,
                    32.35041885375976,
                    32.423640441894534,
                    32.4949348449707,
                    32.55274124145508,
                    32.52769165039062,
                    32.433274841308595,
                    32.32729606628418,
                    32.19241447448731,
                    32.126900863647464,
                    32.15965690612793,
                    32.17507133483887,
                    32.3138069152832,
                    32.52576446533203,
                    32.75891647338867,
                    32.94004440307617,
                    33.13851318359375,
                    33.202100372314455,
                    33.07877960205078,
                    32.92077560424805,
                    32.8167236328125,
                    32.68569641113281,
                    32.68762359619141,
                    32.79745635986328,
                    32.866824340820315,
                    32.95546035766601,
                    33.27724914550781,
                    33.583622741699216,
                    33.620233154296876,
                    33.609493255615234,
                    33.538117218017575,
                    33.299686431884766,
                    32.92574234008789,
                    32.831999969482425,
                    32.895999908447266,
                    32.89000015258789,
                    32.960000610351564,
                    33.03800048828125,
                    33.09800033569336,
                    33.11800003051758,
                    33.247999572753905,
                    33.24399948120117,
                    33.21799926757812,
                    33.1859992980957,
                    33.11599960327148,
                    32.94599990844726,
                    32.85800018310547,
                    32.832000732421875,
                    32.81600112915039,
                    32.832000732421875,
                    32.86800079345703,
                    32.91000061035156,
                    33.00600051879883,
                    33.09199981689453,
                    33.081999969482425,
                    33.077999877929685,
                    32.87799987792969
                  ],
                  "yaxis": "y"
                },
                {
                  "marker": {
                    "angle": 45,
                    "line": {
                      "color": "DarkSlateGrey",
                      "width": 2
                    },
                    "size": 12,
                    "symbol": "arrow"
                  },
                  "mode": "markers",
                  "name": "Entrada",
                  "type": "scatter",
                  "x": [
                    "2023-05-04T00:00:00",
                    "2023-05-19T00:00:00",
                    "2023-06-20T00:00:00",
                    "2023-07-13T00:00:00",
                    "2023-08-18T00:00:00",
                    "2023-10-31T00:00:00",
                    "2023-12-04T00:00:00"
                  ],
                  "xaxis": "x",
                  "y": [
                    30.33268928527832,
                    28.29952049255371,
                    27.68590545654297,
                    28.0797176361084,
                    28.787612915039062,
                    29.63544273376465,
                    29.693248748779297
                  ],
                  "yaxis": "y"
                },
                {
                  "marker": {
                    "angle": -135,
                    "line": {
                      "color": "red",
                      "width": 2
                    },
                    "size": 12,
                    "symbol": "arrow"
                  },
                  "mode": "markers",
                  "name": "Saida",
                  "type": "scatter",
                  "x": [
                    "2023-05-10T00:00:00",
                    "2023-05-25T00:00:00",
                    "2023-06-23T00:00:00",
                    "2023-07-21T00:00:00",
                    "2023-08-24T00:00:00",
                    "2023-11-03T00:00:00",
                    "2023-12-08T00:00:00"
                  ],
                  "xaxis": "x",
                  "y": [
                    30.955461502075195,
                    29.132938385009766,
                    28.015609741210938,
                    28.43689727783203,
                    29.230796813964844,
                    30.300216674804688,
                    29.972646713256836
                  ],
                  "yaxis": "y"
                },
                {
                  "name": "ifr2",
                  "type": "scatter",
                  "x": [
                    "2023-03-21T00:00:00",
                    "2023-03-22T00:00:00",
                    "2023-03-23T00:00:00",
                    "2023-03-24T00:00:00",
                    "2023-03-27T00:00:00",
                    "2023-03-28T00:00:00",
                    "2023-03-29T00:00:00",
                    "2023-03-30T00:00:00",
                    "2023-03-31T00:00:00",
                    "2023-04-03T00:00:00",
                    "2023-04-04T00:00:00",
                    "2023-04-05T00:00:00",
                    "2023-04-06T00:00:00",
                    "2023-04-10T00:00:00",
                    "2023-04-11T00:00:00",
                    "2023-04-12T00:00:00",
                    "2023-04-13T00:00:00",
                    "2023-04-14T00:00:00",
                    "2023-04-17T00:00:00",
                    "2023-04-18T00:00:00",
                    "2023-04-19T00:00:00",
                    "2023-04-20T00:00:00",
                    "2023-04-24T00:00:00",
                    "2023-04-25T00:00:00",
                    "2023-04-26T00:00:00",
                    "2023-04-27T00:00:00",
                    "2023-04-28T00:00:00",
                    "2023-05-02T00:00:00",
                    "2023-05-03T00:00:00",
                    "2023-05-04T00:00:00",
                    "2023-05-05T00:00:00",
                    "2023-05-08T00:00:00",
                    "2023-05-09T00:00:00",
                    "2023-05-10T00:00:00",
                    "2023-05-11T00:00:00",
                    "2023-05-12T00:00:00",
                    "2023-05-15T00:00:00",
                    "2023-05-16T00:00:00",
                    "2023-05-17T00:00:00",
                    "2023-05-18T00:00:00",
                    "2023-05-19T00:00:00",
                    "2023-05-22T00:00:00",
                    "2023-05-23T00:00:00",
                    "2023-05-24T00:00:00",
                    "2023-05-25T00:00:00",
                    "2023-05-26T00:00:00",
                    "2023-05-29T00:00:00",
                    "2023-05-30T00:00:00",
                    "2023-05-31T00:00:00",
                    "2023-06-01T00:00:00",
                    "2023-06-02T00:00:00",
                    "2023-06-05T00:00:00",
                    "2023-06-06T00:00:00",
                    "2023-06-07T00:00:00",
                    "2023-06-09T00:00:00",
                    "2023-06-12T00:00:00",
                    "2023-06-13T00:00:00",
                    "2023-06-14T00:00:00",
                    "2023-06-15T00:00:00",
                    "2023-06-16T00:00:00",
                    "2023-06-19T00:00:00",
                    "2023-06-20T00:00:00",
                    "2023-06-21T00:00:00",
                    "2023-06-22T00:00:00",
                    "2023-06-23T00:00:00",
                    "2023-06-26T00:00:00",
                    "2023-06-27T00:00:00",
                    "2023-06-28T00:00:00",
                    "2023-06-29T00:00:00",
                    "2023-06-30T00:00:00",
                    "2023-07-03T00:00:00",
                    "2023-07-04T00:00:00",
                    "2023-07-05T00:00:00",
                    "2023-07-06T00:00:00",
                    "2023-07-07T00:00:00",
                    "2023-07-10T00:00:00",
                    "2023-07-11T00:00:00",
                    "2023-07-12T00:00:00",
                    "2023-07-13T00:00:00",
                    "2023-07-14T00:00:00",
                    "2023-07-17T00:00:00",
                    "2023-07-18T00:00:00",
                    "2023-07-19T00:00:00",
                    "2023-07-20T00:00:00",
                    "2023-07-21T00:00:00",
                    "2023-07-24T00:00:00",
                    "2023-07-25T00:00:00",
                    "2023-07-26T00:00:00",
                    "2023-07-27T00:00:00",
                    "2023-07-28T00:00:00",
                    "2023-07-31T00:00:00",
                    "2023-08-01T00:00:00",
                    "2023-08-02T00:00:00",
                    "2023-08-03T00:00:00",
                    "2023-08-04T00:00:00",
                    "2023-08-07T00:00:00",
                    "2023-08-08T00:00:00",
                    "2023-08-09T00:00:00",
                    "2023-08-10T00:00:00",
                    "2023-08-11T00:00:00",
                    "2023-08-14T00:00:00",
                    "2023-08-15T00:00:00",
                    "2023-08-16T00:00:00",
                    "2023-08-17T00:00:00",
                    "2023-08-18T00:00:00",
                    "2023-08-21T00:00:00",
                    "2023-08-22T00:00:00",
                    "2023-08-23T00:00:00",
                    "2023-08-24T00:00:00",
                    "2023-08-25T00:00:00",
                    "2023-08-28T00:00:00",
                    "2023-08-29T00:00:00",
                    "2023-08-30T00:00:00",
                    "2023-08-31T00:00:00",
                    "2023-09-01T00:00:00",
                    "2023-09-04T00:00:00",
                    "2023-09-05T00:00:00",
                    "2023-09-06T00:00:00",
                    "2023-09-08T00:00:00",
                    "2023-09-11T00:00:00",
                    "2023-09-12T00:00:00",
                    "2023-09-13T00:00:00",
                    "2023-09-14T00:00:00",
                    "2023-09-15T00:00:00",
                    "2023-09-18T00:00:00",
                    "2023-09-19T00:00:00",
                    "2023-09-20T00:00:00",
                    "2023-09-21T00:00:00",
                    "2023-09-22T00:00:00",
                    "2023-09-25T00:00:00",
                    "2023-09-26T00:00:00",
                    "2023-09-27T00:00:00",
                    "2023-09-28T00:00:00",
                    "2023-09-29T00:00:00",
                    "2023-10-02T00:00:00",
                    "2023-10-03T00:00:00",
                    "2023-10-04T00:00:00",
                    "2023-10-05T00:00:00",
                    "2023-10-06T00:00:00",
                    "2023-10-09T00:00:00",
                    "2023-10-10T00:00:00",
                    "2023-10-11T00:00:00",
                    "2023-10-13T00:00:00",
                    "2023-10-16T00:00:00",
                    "2023-10-17T00:00:00",
                    "2023-10-18T00:00:00",
                    "2023-10-19T00:00:00",
                    "2023-10-20T00:00:00",
                    "2023-10-23T00:00:00",
                    "2023-10-24T00:00:00",
                    "2023-10-25T00:00:00",
                    "2023-10-26T00:00:00",
                    "2023-10-27T00:00:00",
                    "2023-10-30T00:00:00",
                    "2023-10-31T00:00:00",
                    "2023-11-01T00:00:00",
                    "2023-11-03T00:00:00",
                    "2023-11-06T00:00:00",
                    "2023-11-07T00:00:00",
                    "2023-11-08T00:00:00",
                    "2023-11-09T00:00:00",
                    "2023-11-10T00:00:00",
                    "2023-11-13T00:00:00",
                    "2023-11-14T00:00:00",
                    "2023-11-16T00:00:00",
                    "2023-11-17T00:00:00",
                    "2023-11-20T00:00:00",
                    "2023-11-21T00:00:00",
                    "2023-11-22T00:00:00",
                    "2023-11-23T00:00:00",
                    "2023-11-24T00:00:00",
                    "2023-11-27T00:00:00",
                    "2023-11-28T00:00:00",
                    "2023-11-29T00:00:00",
                    "2023-11-30T00:00:00",
                    "2023-12-01T00:00:00",
                    "2023-12-04T00:00:00",
                    "2023-12-05T00:00:00",
                    "2023-12-06T00:00:00",
                    "2023-12-07T00:00:00",
                    "2023-12-08T00:00:00",
                    "2023-12-11T00:00:00",
                    "2023-12-12T00:00:00",
                    "2023-12-13T00:00:00",
                    "2023-12-14T00:00:00",
                    "2023-12-15T00:00:00",
                    "2023-12-18T00:00:00",
                    "2023-12-19T00:00:00",
                    "2023-12-20T00:00:00",
                    "2023-12-21T00:00:00",
                    "2023-12-22T00:00:00",
                    "2023-12-26T00:00:00",
                    "2023-12-27T00:00:00",
                    "2023-12-28T00:00:00",
                    "2024-01-02T00:00:00",
                    "2024-01-03T00:00:00",
                    "2024-01-04T00:00:00",
                    "2024-01-05T00:00:00",
                    "2024-01-08T00:00:00",
                    "2024-01-09T00:00:00",
                    "2024-01-10T00:00:00",
                    "2024-01-11T00:00:00",
                    "2024-01-12T00:00:00",
                    "2024-01-15T00:00:00",
                    "2024-01-16T00:00:00",
                    "2024-01-17T00:00:00",
                    "2024-01-18T00:00:00",
                    "2024-01-19T00:00:00",
                    "2024-01-22T00:00:00",
                    "2024-01-23T00:00:00",
                    "2024-01-24T00:00:00",
                    "2024-01-25T00:00:00",
                    "2024-01-26T00:00:00",
                    "2024-01-29T00:00:00",
                    "2024-01-30T00:00:00",
                    "2024-01-31T00:00:00",
                    "2024-02-01T00:00:00",
                    "2024-02-02T00:00:00",
                    "2024-02-05T00:00:00",
                    "2024-02-06T00:00:00",
                    "2024-02-07T00:00:00",
                    "2024-02-08T00:00:00",
                    "2024-02-09T00:00:00",
                    "2024-02-14T00:00:00",
                    "2024-02-15T00:00:00",
                    "2024-02-16T00:00:00",
                    "2024-02-19T00:00:00",
                    "2024-02-20T00:00:00",
                    "2024-02-21T00:00:00",
                    "2024-02-22T00:00:00",
                    "2024-02-23T00:00:00",
                    "2024-02-26T00:00:00",
                    "2024-02-27T00:00:00",
                    "2024-02-28T00:00:00",
                    "2024-02-29T00:00:00",
                    "2024-03-01T00:00:00",
                    "2024-03-04T00:00:00",
                    "2024-03-05T00:00:00",
                    "2024-03-06T00:00:00",
                    "2024-03-07T00:00:00",
                    "2024-03-08T00:00:00",
                    "2024-03-11T00:00:00",
                    "2024-03-12T00:00:00",
                    "2024-03-13T00:00:00",
                    "2024-03-14T00:00:00",
                    "2024-03-15T00:00:00",
                    "2024-03-18T00:00:00",
                    "2024-03-19T00:00:00",
                    "2024-03-20T00:00:00",
                    "2024-03-21T00:00:00"
                  ],
                  "xaxis": "x2",
                  "y": [
                    null,
                    100,
                    100,
                    100,
                    50.33,
                    83.57,
                    36.85,
                    24.28,
                    20.86,
                    8.670000000000002,
                    80.25,
                    43.95,
                    84.36,
                    90.08,
                    93.26,
                    96.06,
                    50.18,
                    47.12,
                    21.200000000000003,
                    23.980000000000004,
                    19.790000000000006,
                    74.13,
                    28.72,
                    67.1,
                    70.3,
                    14.099999999999994,
                    11.799999999999997,
                    7.430000000000007,
                    1.0999999999999943,
                    0.5600000000000023,
                    47.33,
                    41.86,
                    74.66,
                    81.4,
                    90.73,
                    95.63,
                    7.810000000000002,
                    8.650000000000006,
                    6.530000000000001,
                    2.3599999999999994,
                    1.2900000000000063,
                    7.280000000000001,
                    4.420000000000002,
                    75.78,
                    88.44,
                    90.48,
                    94.54,
                    33.81,
                    9.829999999999998,
                    5.569999999999993,
                    52.64,
                    57.18,
                    47.98,
                    47.98,
                    74.37,
                    18.39,
                    7.730000000000004,
                    5.439999999999998,
                    31.010000000000005,
                    12.89,
                    4.609999999999999,
                    4.079999999999998,
                    57.42,
                    71.72,
                    92.33,
                    12.329999999999998,
                    51.25,
                    74.76,
                    83.59,
                    81.22,
                    96.38,
                    97.13,
                    68.64,
                    30.89,
                    45.32,
                    22.950000000000003,
                    14.680000000000007,
                    3.4599999999999937,
                    2.5799999999999983,
                    1.0799999999999983,
                    18.370000000000005,
                    4.530000000000001,
                    21.439999999999998,
                    83.48,
                    91.8,
                    96.34,
                    55.4,
                    72.76,
                    24.540000000000006,
                    62.28,
                    45.29,
                    63.75,
                    66.94,
                    75.53999999999999,
                    92.95,
                    98.94,
                    67.06,
                    75.37,
                    82.57,
                    92.82,
                    97.24,
                    51.09,
                    48.97,
                    4.060000000000002,
                    27.159999999999997,
                    28.72,
                    45.16,
                    75.66,
                    88.47,
                    88.47,
                    97.96,
                    99.05,
                    50.69,
                    19.959999999999994,
                    72.61,
                    83.97,
                    73.52,
                    37.62,
                    42.5,
                    90.91,
                    93.49,
                    84.5,
                    35.05,
                    26.569999999999993,
                    71.9,
                    36.17,
                    84.91,
                    37.04,
                    35.239999999999995,
                    73.17,
                    40.47,
                    15.510000000000005,
                    52.75,
                    18.33,
                    72.26,
                    75.77,
                    84.56,
                    41.29,
                    61.16,
                    30.75,
                    13.319999999999993,
                    43.87,
                    12.040000000000006,
                    61.04,
                    49.68,
                    78.14,
                    69.7,
                    17.310000000000002,
                    13.450000000000003,
                    29.209999999999994,
                    13.379999999999995,
                    42.26,
                    8.090000000000003,
                    2.989999999999995,
                    41.61,
                    78.42,
                    87.1,
                    93.77,
                    95.62,
                    95.62,
                    14.790000000000006,
                    14.790000000000006,
                    49.17,
                    80.03999999999999,
                    94.44,
                    45.85,
                    65.53999999999999,
                    52.24,
                    71.84,
                    80.95,
                    29.36,
                    12.540000000000006,
                    44.4,
                    12.260000000000005,
                    7.640000000000001,
                    2.5400000000000063,
                    2.010000000000005,
                    1.230000000000004,
                    1.0900000000000034,
                    82.95,
                    83.6,
                    89.28999999999999,
                    91.74,
                    26.64,
                    88.23,
                    94.71,
                    97.57,
                    99.18,
                    73.59,
                    73.59,
                    86.7,
                    93.9,
                    47.03,
                    75.61,
                    87.55,
                    54.31,
                    79.37,
                    33.47,
                    20.700000000000003,
                    13.170000000000002,
                    5.790000000000006,
                    36.35,
                    55.57,
                    90.18,
                    46.61,
                    82.08,
                    92.69,
                    94.88,
                    96.01,
                    57.82,
                    20.730000000000004,
                    6.140000000000001,
                    5.969999999999999,
                    68.36,
                    34.91,
                    74.78,
                    78.53999999999999,
                    37.54,
                    80.38,
                    94.88,
                    96.65,
                    25.930000000000007,
                    17.189999999999998,
                    31.58,
                    42.92,
                    17.519999999999996,
                    39.88,
                    77.53999999999999,
                    43.71,
                    80.66,
                    42.8,
                    46.06,
                    70.03,
                    90.51,
                    49.08,
                    17.340000000000003,
                    16.819999999999993,
                    12.950000000000003,
                    5.239999999999995,
                    61.92,
                    37.35,
                    51.38,
                    78.22,
                    48.82,
                    86.81,
                    93.51,
                    87.93,
                    16.230000000000004,
                    14.329999999999998,
                    2.0999999999999943
                  ],
                  "yaxis": "y2"
                },
                {
                  "line": {
                    "color": "red",
                    "dash": "dot",
                    "width": 4
                  },
                  "mode": "lines",
                  "name": "ifr2=5",
                  "type": "scatter",
                  "x": [
                    "2023-03-21T00:00:00",
                    "2023-03-22T00:00:00",
                    "2023-03-23T00:00:00",
                    "2023-03-24T00:00:00",
                    "2023-03-27T00:00:00",
                    "2023-03-28T00:00:00",
                    "2023-03-29T00:00:00",
                    "2023-03-30T00:00:00",
                    "2023-03-31T00:00:00",
                    "2023-04-03T00:00:00",
                    "2023-04-04T00:00:00",
                    "2023-04-05T00:00:00",
                    "2023-04-06T00:00:00",
                    "2023-04-10T00:00:00",
                    "2023-04-11T00:00:00",
                    "2023-04-12T00:00:00",
                    "2023-04-13T00:00:00",
                    "2023-04-14T00:00:00",
                    "2023-04-17T00:00:00",
                    "2023-04-18T00:00:00",
                    "2023-04-19T00:00:00",
                    "2023-04-20T00:00:00",
                    "2023-04-24T00:00:00",
                    "2023-04-25T00:00:00",
                    "2023-04-26T00:00:00",
                    "2023-04-27T00:00:00",
                    "2023-04-28T00:00:00",
                    "2023-05-02T00:00:00",
                    "2023-05-03T00:00:00",
                    "2023-05-04T00:00:00",
                    "2023-05-05T00:00:00",
                    "2023-05-08T00:00:00",
                    "2023-05-09T00:00:00",
                    "2023-05-10T00:00:00",
                    "2023-05-11T00:00:00",
                    "2023-05-12T00:00:00",
                    "2023-05-15T00:00:00",
                    "2023-05-16T00:00:00",
                    "2023-05-17T00:00:00",
                    "2023-05-18T00:00:00",
                    "2023-05-19T00:00:00",
                    "2023-05-22T00:00:00",
                    "2023-05-23T00:00:00",
                    "2023-05-24T00:00:00",
                    "2023-05-25T00:00:00",
                    "2023-05-26T00:00:00",
                    "2023-05-29T00:00:00",
                    "2023-05-30T00:00:00",
                    "2023-05-31T00:00:00",
                    "2023-06-01T00:00:00",
                    "2023-06-02T00:00:00",
                    "2023-06-05T00:00:00",
                    "2023-06-06T00:00:00",
                    "2023-06-07T00:00:00",
                    "2023-06-09T00:00:00",
                    "2023-06-12T00:00:00",
                    "2023-06-13T00:00:00",
                    "2023-06-14T00:00:00",
                    "2023-06-15T00:00:00",
                    "2023-06-16T00:00:00",
                    "2023-06-19T00:00:00",
                    "2023-06-20T00:00:00",
                    "2023-06-21T00:00:00",
                    "2023-06-22T00:00:00",
                    "2023-06-23T00:00:00",
                    "2023-06-26T00:00:00",
                    "2023-06-27T00:00:00",
                    "2023-06-28T00:00:00",
                    "2023-06-29T00:00:00",
                    "2023-06-30T00:00:00",
                    "2023-07-03T00:00:00",
                    "2023-07-04T00:00:00",
                    "2023-07-05T00:00:00",
                    "2023-07-06T00:00:00",
                    "2023-07-07T00:00:00",
                    "2023-07-10T00:00:00",
                    "2023-07-11T00:00:00",
                    "2023-07-12T00:00:00",
                    "2023-07-13T00:00:00",
                    "2023-07-14T00:00:00",
                    "2023-07-17T00:00:00",
                    "2023-07-18T00:00:00",
                    "2023-07-19T00:00:00",
                    "2023-07-20T00:00:00",
                    "2023-07-21T00:00:00",
                    "2023-07-24T00:00:00",
                    "2023-07-25T00:00:00",
                    "2023-07-26T00:00:00",
                    "2023-07-27T00:00:00",
                    "2023-07-28T00:00:00",
                    "2023-07-31T00:00:00",
                    "2023-08-01T00:00:00",
                    "2023-08-02T00:00:00",
                    "2023-08-03T00:00:00",
                    "2023-08-04T00:00:00",
                    "2023-08-07T00:00:00",
                    "2023-08-08T00:00:00",
                    "2023-08-09T00:00:00",
                    "2023-08-10T00:00:00",
                    "2023-08-11T00:00:00",
                    "2023-08-14T00:00:00",
                    "2023-08-15T00:00:00",
                    "2023-08-16T00:00:00",
                    "2023-08-17T00:00:00",
                    "2023-08-18T00:00:00",
                    "2023-08-21T00:00:00",
                    "2023-08-22T00:00:00",
                    "2023-08-23T00:00:00",
                    "2023-08-24T00:00:00",
                    "2023-08-25T00:00:00",
                    "2023-08-28T00:00:00",
                    "2023-08-29T00:00:00",
                    "2023-08-30T00:00:00",
                    "2023-08-31T00:00:00",
                    "2023-09-01T00:00:00",
                    "2023-09-04T00:00:00",
                    "2023-09-05T00:00:00",
                    "2023-09-06T00:00:00",
                    "2023-09-08T00:00:00",
                    "2023-09-11T00:00:00",
                    "2023-09-12T00:00:00",
                    "2023-09-13T00:00:00",
                    "2023-09-14T00:00:00",
                    "2023-09-15T00:00:00",
                    "2023-09-18T00:00:00",
                    "2023-09-19T00:00:00",
                    "2023-09-20T00:00:00",
                    "2023-09-21T00:00:00",
                    "2023-09-22T00:00:00",
                    "2023-09-25T00:00:00",
                    "2023-09-26T00:00:00",
                    "2023-09-27T00:00:00",
                    "2023-09-28T00:00:00",
                    "2023-09-29T00:00:00",
                    "2023-10-02T00:00:00",
                    "2023-10-03T00:00:00",
                    "2023-10-04T00:00:00",
                    "2023-10-05T00:00:00",
                    "2023-10-06T00:00:00",
                    "2023-10-09T00:00:00",
                    "2023-10-10T00:00:00",
                    "2023-10-11T00:00:00",
                    "2023-10-13T00:00:00",
                    "2023-10-16T00:00:00",
                    "2023-10-17T00:00:00",
                    "2023-10-18T00:00:00",
                    "2023-10-19T00:00:00",
                    "2023-10-20T00:00:00",
                    "2023-10-23T00:00:00",
                    "2023-10-24T00:00:00",
                    "2023-10-25T00:00:00",
                    "2023-10-26T00:00:00",
                    "2023-10-27T00:00:00",
                    "2023-10-30T00:00:00",
                    "2023-10-31T00:00:00",
                    "2023-11-01T00:00:00",
                    "2023-11-03T00:00:00",
                    "2023-11-06T00:00:00",
                    "2023-11-07T00:00:00",
                    "2023-11-08T00:00:00",
                    "2023-11-09T00:00:00",
                    "2023-11-10T00:00:00",
                    "2023-11-13T00:00:00",
                    "2023-11-14T00:00:00",
                    "2023-11-16T00:00:00",
                    "2023-11-17T00:00:00",
                    "2023-11-20T00:00:00",
                    "2023-11-21T00:00:00",
                    "2023-11-22T00:00:00",
                    "2023-11-23T00:00:00",
                    "2023-11-24T00:00:00",
                    "2023-11-27T00:00:00",
                    "2023-11-28T00:00:00",
                    "2023-11-29T00:00:00",
                    "2023-11-30T00:00:00",
                    "2023-12-01T00:00:00",
                    "2023-12-04T00:00:00",
                    "2023-12-05T00:00:00",
                    "2023-12-06T00:00:00",
                    "2023-12-07T00:00:00",
                    "2023-12-08T00:00:00",
                    "2023-12-11T00:00:00",
                    "2023-12-12T00:00:00",
                    "2023-12-13T00:00:00",
                    "2023-12-14T00:00:00",
                    "2023-12-15T00:00:00",
                    "2023-12-18T00:00:00",
                    "2023-12-19T00:00:00",
                    "2023-12-20T00:00:00",
                    "2023-12-21T00:00:00",
                    "2023-12-22T00:00:00",
                    "2023-12-26T00:00:00",
                    "2023-12-27T00:00:00",
                    "2023-12-28T00:00:00",
                    "2024-01-02T00:00:00",
                    "2024-01-03T00:00:00",
                    "2024-01-04T00:00:00",
                    "2024-01-05T00:00:00",
                    "2024-01-08T00:00:00",
                    "2024-01-09T00:00:00",
                    "2024-01-10T00:00:00",
                    "2024-01-11T00:00:00",
                    "2024-01-12T00:00:00",
                    "2024-01-15T00:00:00",
                    "2024-01-16T00:00:00",
                    "2024-01-17T00:00:00",
                    "2024-01-18T00:00:00",
                    "2024-01-19T00:00:00",
                    "2024-01-22T00:00:00",
                    "2024-01-23T00:00:00",
                    "2024-01-24T00:00:00",
                    "2024-01-25T00:00:00",
                    "2024-01-26T00:00:00",
                    "2024-01-29T00:00:00",
                    "2024-01-30T00:00:00",
                    "2024-01-31T00:00:00",
                    "2024-02-01T00:00:00",
                    "2024-02-02T00:00:00",
                    "2024-02-05T00:00:00",
                    "2024-02-06T00:00:00",
                    "2024-02-07T00:00:00",
                    "2024-02-08T00:00:00",
                    "2024-02-09T00:00:00",
                    "2024-02-14T00:00:00",
                    "2024-02-15T00:00:00",
                    "2024-02-16T00:00:00",
                    "2024-02-19T00:00:00",
                    "2024-02-20T00:00:00",
                    "2024-02-21T00:00:00",
                    "2024-02-22T00:00:00",
                    "2024-02-23T00:00:00",
                    "2024-02-26T00:00:00",
                    "2024-02-27T00:00:00",
                    "2024-02-28T00:00:00",
                    "2024-02-29T00:00:00",
                    "2024-03-01T00:00:00",
                    "2024-03-04T00:00:00",
                    "2024-03-05T00:00:00",
                    "2024-03-06T00:00:00",
                    "2024-03-07T00:00:00",
                    "2024-03-08T00:00:00",
                    "2024-03-11T00:00:00",
                    "2024-03-12T00:00:00",
                    "2024-03-13T00:00:00",
                    "2024-03-14T00:00:00",
                    "2024-03-15T00:00:00",
                    "2024-03-18T00:00:00",
                    "2024-03-19T00:00:00",
                    "2024-03-20T00:00:00",
                    "2024-03-21T00:00:00"
                  ],
                  "xaxis": "x2",
                  "y": [
                    5,
                    5,
                    5,
                    5,
                    5,
                    5,
                    5,
                    5,
                    5,
                    5,
                    5,
                    5,
                    5,
                    5,
                    5,
                    5,
                    5,
                    5,
                    5,
                    5,
                    5,
                    5,
                    5,
                    5,
                    5,
                    5,
                    5,
                    5,
                    5,
                    5,
                    5,
                    5,
                    5,
                    5,
                    5,
                    5,
                    5,
                    5,
                    5,
                    5,
                    5,
                    5,
                    5,
                    5,
                    5,
                    5,
                    5,
                    5,
                    5,
                    5,
                    5,
                    5,
                    5,
                    5,
                    5,
                    5,
                    5,
                    5,
                    5,
                    5,
                    5,
                    5,
                    5,
                    5,
                    5,
                    5,
                    5,
                    5,
                    5,
                    5,
                    5,
                    5,
                    5,
                    5,
                    5,
                    5,
                    5,
                    5,
                    5,
                    5,
                    5,
                    5,
                    5,
                    5,
                    5,
                    5,
                    5,
                    5,
                    5,
                    5,
                    5,
                    5,
                    5,
                    5,
                    5,
                    5,
                    5,
                    5,
                    5,
                    5,
                    5,
                    5,
                    5,
                    5,
                    5,
                    5,
                    5,
                    5,
                    5,
                    5,
                    5,
                    5,
                    5,
                    5,
                    5,
                    5,
                    5,
                    5,
                    5,
                    5,
                    5,
                    5,
                    5,
                    5,
                    5,
                    5,
                    5,
                    5,
                    5,
                    5,
                    5,
                    5,
                    5,
                    5,
                    5,
                    5,
                    5,
                    5,
                    5,
                    5,
                    5,
                    5,
                    5,
                    5,
                    5,
                    5,
                    5,
                    5,
                    5,
                    5,
                    5,
                    5,
                    5,
                    5,
                    5,
                    5,
                    5,
                    5,
                    5,
                    5,
                    5,
                    5,
                    5,
                    5,
                    5,
                    5,
                    5,
                    5,
                    5,
                    5,
                    5,
                    5,
                    5,
                    5,
                    5,
                    5,
                    5,
                    5,
                    5,
                    5,
                    5,
                    5,
                    5,
                    5,
                    5,
                    5,
                    5,
                    5,
                    5,
                    5,
                    5,
                    5,
                    5,
                    5,
                    5,
                    5,
                    5,
                    5,
                    5,
                    5,
                    5,
                    5,
                    5,
                    5,
                    5,
                    5,
                    5,
                    5,
                    5,
                    5,
                    5,
                    5,
                    5,
                    5,
                    5,
                    5,
                    5,
                    5,
                    5,
                    5,
                    5,
                    5,
                    5,
                    5,
                    5,
                    5,
                    5,
                    5,
                    5,
                    5,
                    5,
                    5,
                    5,
                    5,
                    5,
                    5,
                    5,
                    5,
                    5,
                    5,
                    5,
                    5,
                    5,
                    5,
                    5,
                    5,
                    5,
                    5,
                    5,
                    5
                  ],
                  "yaxis": "y2"
                },
                {
                  "mode": "lines",
                  "name": "posição",
                  "type": "scatter",
                  "x": [
                    "2023-03-21T00:00:00",
                    "2023-03-22T00:00:00",
                    "2023-03-23T00:00:00",
                    "2023-03-24T00:00:00",
                    "2023-03-27T00:00:00",
                    "2023-03-28T00:00:00",
                    "2023-03-29T00:00:00",
                    "2023-03-30T00:00:00",
                    "2023-03-31T00:00:00",
                    "2023-04-03T00:00:00",
                    "2023-04-04T00:00:00",
                    "2023-04-05T00:00:00",
                    "2023-04-06T00:00:00",
                    "2023-04-10T00:00:00",
                    "2023-04-11T00:00:00",
                    "2023-04-12T00:00:00",
                    "2023-04-13T00:00:00",
                    "2023-04-14T00:00:00",
                    "2023-04-17T00:00:00",
                    "2023-04-18T00:00:00",
                    "2023-04-19T00:00:00",
                    "2023-04-20T00:00:00",
                    "2023-04-24T00:00:00",
                    "2023-04-25T00:00:00",
                    "2023-04-26T00:00:00",
                    "2023-04-27T00:00:00",
                    "2023-04-28T00:00:00",
                    "2023-05-02T00:00:00",
                    "2023-05-03T00:00:00",
                    "2023-05-04T00:00:00",
                    "2023-05-05T00:00:00",
                    "2023-05-08T00:00:00",
                    "2023-05-09T00:00:00",
                    "2023-05-10T00:00:00",
                    "2023-05-11T00:00:00",
                    "2023-05-12T00:00:00",
                    "2023-05-15T00:00:00",
                    "2023-05-16T00:00:00",
                    "2023-05-17T00:00:00",
                    "2023-05-18T00:00:00",
                    "2023-05-19T00:00:00",
                    "2023-05-22T00:00:00",
                    "2023-05-23T00:00:00",
                    "2023-05-24T00:00:00",
                    "2023-05-25T00:00:00",
                    "2023-05-26T00:00:00",
                    "2023-05-29T00:00:00",
                    "2023-05-30T00:00:00",
                    "2023-05-31T00:00:00",
                    "2023-06-01T00:00:00",
                    "2023-06-02T00:00:00",
                    "2023-06-05T00:00:00",
                    "2023-06-06T00:00:00",
                    "2023-06-07T00:00:00",
                    "2023-06-09T00:00:00",
                    "2023-06-12T00:00:00",
                    "2023-06-13T00:00:00",
                    "2023-06-14T00:00:00",
                    "2023-06-15T00:00:00",
                    "2023-06-16T00:00:00",
                    "2023-06-19T00:00:00",
                    "2023-06-20T00:00:00",
                    "2023-06-21T00:00:00",
                    "2023-06-22T00:00:00",
                    "2023-06-23T00:00:00",
                    "2023-06-26T00:00:00",
                    "2023-06-27T00:00:00",
                    "2023-06-28T00:00:00",
                    "2023-06-29T00:00:00",
                    "2023-06-30T00:00:00",
                    "2023-07-03T00:00:00",
                    "2023-07-04T00:00:00",
                    "2023-07-05T00:00:00",
                    "2023-07-06T00:00:00",
                    "2023-07-07T00:00:00",
                    "2023-07-10T00:00:00",
                    "2023-07-11T00:00:00",
                    "2023-07-12T00:00:00",
                    "2023-07-13T00:00:00",
                    "2023-07-14T00:00:00",
                    "2023-07-17T00:00:00",
                    "2023-07-18T00:00:00",
                    "2023-07-19T00:00:00",
                    "2023-07-20T00:00:00",
                    "2023-07-21T00:00:00",
                    "2023-07-24T00:00:00",
                    "2023-07-25T00:00:00",
                    "2023-07-26T00:00:00",
                    "2023-07-27T00:00:00",
                    "2023-07-28T00:00:00",
                    "2023-07-31T00:00:00",
                    "2023-08-01T00:00:00",
                    "2023-08-02T00:00:00",
                    "2023-08-03T00:00:00",
                    "2023-08-04T00:00:00",
                    "2023-08-07T00:00:00",
                    "2023-08-08T00:00:00",
                    "2023-08-09T00:00:00",
                    "2023-08-10T00:00:00",
                    "2023-08-11T00:00:00",
                    "2023-08-14T00:00:00",
                    "2023-08-15T00:00:00",
                    "2023-08-16T00:00:00",
                    "2023-08-17T00:00:00",
                    "2023-08-18T00:00:00",
                    "2023-08-21T00:00:00",
                    "2023-08-22T00:00:00",
                    "2023-08-23T00:00:00",
                    "2023-08-24T00:00:00",
                    "2023-08-25T00:00:00",
                    "2023-08-28T00:00:00",
                    "2023-08-29T00:00:00",
                    "2023-08-30T00:00:00",
                    "2023-08-31T00:00:00",
                    "2023-09-01T00:00:00",
                    "2023-09-04T00:00:00",
                    "2023-09-05T00:00:00",
                    "2023-09-06T00:00:00",
                    "2023-09-08T00:00:00",
                    "2023-09-11T00:00:00",
                    "2023-09-12T00:00:00",
                    "2023-09-13T00:00:00",
                    "2023-09-14T00:00:00",
                    "2023-09-15T00:00:00",
                    "2023-09-18T00:00:00",
                    "2023-09-19T00:00:00",
                    "2023-09-20T00:00:00",
                    "2023-09-21T00:00:00",
                    "2023-09-22T00:00:00",
                    "2023-09-25T00:00:00",
                    "2023-09-26T00:00:00",
                    "2023-09-27T00:00:00",
                    "2023-09-28T00:00:00",
                    "2023-09-29T00:00:00",
                    "2023-10-02T00:00:00",
                    "2023-10-03T00:00:00",
                    "2023-10-04T00:00:00",
                    "2023-10-05T00:00:00",
                    "2023-10-06T00:00:00",
                    "2023-10-09T00:00:00",
                    "2023-10-10T00:00:00",
                    "2023-10-11T00:00:00",
                    "2023-10-13T00:00:00",
                    "2023-10-16T00:00:00",
                    "2023-10-17T00:00:00",
                    "2023-10-18T00:00:00",
                    "2023-10-19T00:00:00",
                    "2023-10-20T00:00:00",
                    "2023-10-23T00:00:00",
                    "2023-10-24T00:00:00",
                    "2023-10-25T00:00:00",
                    "2023-10-26T00:00:00",
                    "2023-10-27T00:00:00",
                    "2023-10-30T00:00:00",
                    "2023-10-31T00:00:00",
                    "2023-11-01T00:00:00",
                    "2023-11-03T00:00:00",
                    "2023-11-06T00:00:00",
                    "2023-11-07T00:00:00",
                    "2023-11-08T00:00:00",
                    "2023-11-09T00:00:00",
                    "2023-11-10T00:00:00",
                    "2023-11-13T00:00:00",
                    "2023-11-14T00:00:00",
                    "2023-11-16T00:00:00",
                    "2023-11-17T00:00:00",
                    "2023-11-20T00:00:00",
                    "2023-11-21T00:00:00",
                    "2023-11-22T00:00:00",
                    "2023-11-23T00:00:00",
                    "2023-11-24T00:00:00",
                    "2023-11-27T00:00:00",
                    "2023-11-28T00:00:00",
                    "2023-11-29T00:00:00",
                    "2023-11-30T00:00:00",
                    "2023-12-01T00:00:00",
                    "2023-12-04T00:00:00",
                    "2023-12-05T00:00:00",
                    "2023-12-06T00:00:00",
                    "2023-12-07T00:00:00",
                    "2023-12-08T00:00:00",
                    "2023-12-11T00:00:00",
                    "2023-12-12T00:00:00",
                    "2023-12-13T00:00:00",
                    "2023-12-14T00:00:00",
                    "2023-12-15T00:00:00",
                    "2023-12-18T00:00:00",
                    "2023-12-19T00:00:00",
                    "2023-12-20T00:00:00",
                    "2023-12-21T00:00:00",
                    "2023-12-22T00:00:00",
                    "2023-12-26T00:00:00",
                    "2023-12-27T00:00:00",
                    "2023-12-28T00:00:00",
                    "2024-01-02T00:00:00",
                    "2024-01-03T00:00:00",
                    "2024-01-04T00:00:00",
                    "2024-01-05T00:00:00",
                    "2024-01-08T00:00:00",
                    "2024-01-09T00:00:00",
                    "2024-01-10T00:00:00",
                    "2024-01-11T00:00:00",
                    "2024-01-12T00:00:00",
                    "2024-01-15T00:00:00",
                    "2024-01-16T00:00:00",
                    "2024-01-17T00:00:00",
                    "2024-01-18T00:00:00",
                    "2024-01-19T00:00:00",
                    "2024-01-22T00:00:00",
                    "2024-01-23T00:00:00",
                    "2024-01-24T00:00:00",
                    "2024-01-25T00:00:00",
                    "2024-01-26T00:00:00",
                    "2024-01-29T00:00:00",
                    "2024-01-30T00:00:00",
                    "2024-01-31T00:00:00",
                    "2024-02-01T00:00:00",
                    "2024-02-02T00:00:00",
                    "2024-02-05T00:00:00",
                    "2024-02-06T00:00:00",
                    "2024-02-07T00:00:00",
                    "2024-02-08T00:00:00",
                    "2024-02-09T00:00:00",
                    "2024-02-14T00:00:00",
                    "2024-02-15T00:00:00",
                    "2024-02-16T00:00:00",
                    "2024-02-19T00:00:00",
                    "2024-02-20T00:00:00",
                    "2024-02-21T00:00:00",
                    "2024-02-22T00:00:00",
                    "2024-02-23T00:00:00",
                    "2024-02-26T00:00:00",
                    "2024-02-27T00:00:00",
                    "2024-02-28T00:00:00",
                    "2024-02-29T00:00:00",
                    "2024-03-01T00:00:00",
                    "2024-03-04T00:00:00",
                    "2024-03-05T00:00:00",
                    "2024-03-06T00:00:00",
                    "2024-03-07T00:00:00",
                    "2024-03-08T00:00:00",
                    "2024-03-11T00:00:00",
                    "2024-03-12T00:00:00",
                    "2024-03-13T00:00:00",
                    "2024-03-14T00:00:00",
                    "2024-03-15T00:00:00",
                    "2024-03-18T00:00:00",
                    "2024-03-19T00:00:00",
                    "2024-03-20T00:00:00",
                    "2024-03-21T00:00:00"
                  ],
                  "xaxis": "x3",
                  "y": [
                    0,
                    0,
                    0,
                    0,
                    0,
                    0,
                    0,
                    0,
                    0,
                    0,
                    0,
                    0,
                    0,
                    0,
                    0,
                    0,
                    0,
                    0,
                    0,
                    0,
                    0,
                    0,
                    0,
                    0,
                    0,
                    0,
                    0,
                    0,
                    0,
                    1,
                    1,
                    1,
                    1,
                    0,
                    0,
                    0,
                    0,
                    0,
                    0,
                    0,
                    1,
                    1,
                    1,
                    1,
                    0,
                    0,
                    0,
                    0,
                    0,
                    0,
                    0,
                    0,
                    0,
                    0,
                    0,
                    0,
                    0,
                    0,
                    0,
                    0,
                    0,
                    1,
                    1,
                    1,
                    0,
                    0,
                    0,
                    0,
                    0,
                    0,
                    0,
                    0,
                    0,
                    0,
                    0,
                    0,
                    0,
                    0,
                    1,
                    1,
                    1,
                    1,
                    1,
                    1,
                    0,
                    0,
                    0,
                    0,
                    0,
                    0,
                    0,
                    0,
                    0,
                    0,
                    0,
                    0,
                    0,
                    0,
                    0,
                    0,
                    0,
                    0,
                    0,
                    0,
                    1,
                    1,
                    1,
                    1,
                    0,
                    0,
                    0,
                    0,
                    0,
                    0,
                    0,
                    0,
                    0,
                    0,
                    0,
                    0,
                    0,
                    0,
                    0,
                    0,
                    0,
                    0,
                    0,
                    0,
                    0,
                    0,
                    0,
                    0,
                    0,
                    0,
                    0,
                    0,
                    0,
                    0,
                    0,
                    0,
                    0,
                    0,
                    0,
                    0,
                    0,
                    0,
                    0,
                    0,
                    0,
                    0,
                    0,
                    0,
                    0,
                    0,
                    1,
                    1,
                    0,
                    0,
                    0,
                    0,
                    0,
                    0,
                    0,
                    0,
                    0,
                    0,
                    0,
                    0,
                    0,
                    0,
                    0,
                    0,
                    0,
                    0,
                    0,
                    0,
                    1,
                    1,
                    1,
                    1,
                    0,
                    0,
                    0,
                    0,
                    0,
                    0,
                    0,
                    0,
                    0,
                    0,
                    0,
                    0,
                    0,
                    0,
                    0,
                    0,
                    0,
                    0,
                    0,
                    0,
                    0,
                    0,
                    0,
                    0,
                    0,
                    0,
                    0,
                    0,
                    0,
                    0,
                    0,
                    0,
                    0,
                    0,
                    0,
                    0,
                    0,
                    0,
                    0,
                    0,
                    0,
                    0,
                    0,
                    0,
                    0,
                    0,
                    0,
                    0,
                    0,
                    0,
                    0,
                    0,
                    0,
                    0,
                    0,
                    0,
                    0,
                    0,
                    0,
                    0,
                    0,
                    0,
                    0,
                    0,
                    0,
                    0,
                    0,
                    0,
                    0,
                    0
                  ],
                  "yaxis": "y3"
                }
              ],
              "layout": {
                "template": {
                  "data": {
                    "bar": [
                      {
                        "error_x": {
                          "color": "#2a3f5f"
                        },
                        "error_y": {
                          "color": "#2a3f5f"
                        },
                        "marker": {
                          "line": {
                            "color": "#E5ECF6",
                            "width": 0.5
                          },
                          "pattern": {
                            "fillmode": "overlay",
                            "size": 10,
                            "solidity": 0.2
                          }
                        },
                        "type": "bar"
                      }
                    ],
                    "barpolar": [
                      {
                        "marker": {
                          "line": {
                            "color": "#E5ECF6",
                            "width": 0.5
                          },
                          "pattern": {
                            "fillmode": "overlay",
                            "size": 10,
                            "solidity": 0.2
                          }
                        },
                        "type": "barpolar"
                      }
                    ],
                    "carpet": [
                      {
                        "aaxis": {
                          "endlinecolor": "#2a3f5f",
                          "gridcolor": "white",
                          "linecolor": "white",
                          "minorgridcolor": "white",
                          "startlinecolor": "#2a3f5f"
                        },
                        "baxis": {
                          "endlinecolor": "#2a3f5f",
                          "gridcolor": "white",
                          "linecolor": "white",
                          "minorgridcolor": "white",
                          "startlinecolor": "#2a3f5f"
                        },
                        "type": "carpet"
                      }
                    ],
                    "choropleth": [
                      {
                        "colorbar": {
                          "outlinewidth": 0,
                          "ticks": ""
                        },
                        "type": "choropleth"
                      }
                    ],
                    "contour": [
                      {
                        "colorbar": {
                          "outlinewidth": 0,
                          "ticks": ""
                        },
                        "colorscale": [
                          [
                            0,
                            "#0d0887"
                          ],
                          [
                            0.1111111111111111,
                            "#46039f"
                          ],
                          [
                            0.2222222222222222,
                            "#7201a8"
                          ],
                          [
                            0.3333333333333333,
                            "#9c179e"
                          ],
                          [
                            0.4444444444444444,
                            "#bd3786"
                          ],
                          [
                            0.5555555555555556,
                            "#d8576b"
                          ],
                          [
                            0.6666666666666666,
                            "#ed7953"
                          ],
                          [
                            0.7777777777777778,
                            "#fb9f3a"
                          ],
                          [
                            0.8888888888888888,
                            "#fdca26"
                          ],
                          [
                            1,
                            "#f0f921"
                          ]
                        ],
                        "type": "contour"
                      }
                    ],
                    "contourcarpet": [
                      {
                        "colorbar": {
                          "outlinewidth": 0,
                          "ticks": ""
                        },
                        "type": "contourcarpet"
                      }
                    ],
                    "heatmap": [
                      {
                        "colorbar": {
                          "outlinewidth": 0,
                          "ticks": ""
                        },
                        "colorscale": [
                          [
                            0,
                            "#0d0887"
                          ],
                          [
                            0.1111111111111111,
                            "#46039f"
                          ],
                          [
                            0.2222222222222222,
                            "#7201a8"
                          ],
                          [
                            0.3333333333333333,
                            "#9c179e"
                          ],
                          [
                            0.4444444444444444,
                            "#bd3786"
                          ],
                          [
                            0.5555555555555556,
                            "#d8576b"
                          ],
                          [
                            0.6666666666666666,
                            "#ed7953"
                          ],
                          [
                            0.7777777777777778,
                            "#fb9f3a"
                          ],
                          [
                            0.8888888888888888,
                            "#fdca26"
                          ],
                          [
                            1,
                            "#f0f921"
                          ]
                        ],
                        "type": "heatmap"
                      }
                    ],
                    "heatmapgl": [
                      {
                        "colorbar": {
                          "outlinewidth": 0,
                          "ticks": ""
                        },
                        "colorscale": [
                          [
                            0,
                            "#0d0887"
                          ],
                          [
                            0.1111111111111111,
                            "#46039f"
                          ],
                          [
                            0.2222222222222222,
                            "#7201a8"
                          ],
                          [
                            0.3333333333333333,
                            "#9c179e"
                          ],
                          [
                            0.4444444444444444,
                            "#bd3786"
                          ],
                          [
                            0.5555555555555556,
                            "#d8576b"
                          ],
                          [
                            0.6666666666666666,
                            "#ed7953"
                          ],
                          [
                            0.7777777777777778,
                            "#fb9f3a"
                          ],
                          [
                            0.8888888888888888,
                            "#fdca26"
                          ],
                          [
                            1,
                            "#f0f921"
                          ]
                        ],
                        "type": "heatmapgl"
                      }
                    ],
                    "histogram": [
                      {
                        "marker": {
                          "pattern": {
                            "fillmode": "overlay",
                            "size": 10,
                            "solidity": 0.2
                          }
                        },
                        "type": "histogram"
                      }
                    ],
                    "histogram2d": [
                      {
                        "colorbar": {
                          "outlinewidth": 0,
                          "ticks": ""
                        },
                        "colorscale": [
                          [
                            0,
                            "#0d0887"
                          ],
                          [
                            0.1111111111111111,
                            "#46039f"
                          ],
                          [
                            0.2222222222222222,
                            "#7201a8"
                          ],
                          [
                            0.3333333333333333,
                            "#9c179e"
                          ],
                          [
                            0.4444444444444444,
                            "#bd3786"
                          ],
                          [
                            0.5555555555555556,
                            "#d8576b"
                          ],
                          [
                            0.6666666666666666,
                            "#ed7953"
                          ],
                          [
                            0.7777777777777778,
                            "#fb9f3a"
                          ],
                          [
                            0.8888888888888888,
                            "#fdca26"
                          ],
                          [
                            1,
                            "#f0f921"
                          ]
                        ],
                        "type": "histogram2d"
                      }
                    ],
                    "histogram2dcontour": [
                      {
                        "colorbar": {
                          "outlinewidth": 0,
                          "ticks": ""
                        },
                        "colorscale": [
                          [
                            0,
                            "#0d0887"
                          ],
                          [
                            0.1111111111111111,
                            "#46039f"
                          ],
                          [
                            0.2222222222222222,
                            "#7201a8"
                          ],
                          [
                            0.3333333333333333,
                            "#9c179e"
                          ],
                          [
                            0.4444444444444444,
                            "#bd3786"
                          ],
                          [
                            0.5555555555555556,
                            "#d8576b"
                          ],
                          [
                            0.6666666666666666,
                            "#ed7953"
                          ],
                          [
                            0.7777777777777778,
                            "#fb9f3a"
                          ],
                          [
                            0.8888888888888888,
                            "#fdca26"
                          ],
                          [
                            1,
                            "#f0f921"
                          ]
                        ],
                        "type": "histogram2dcontour"
                      }
                    ],
                    "mesh3d": [
                      {
                        "colorbar": {
                          "outlinewidth": 0,
                          "ticks": ""
                        },
                        "type": "mesh3d"
                      }
                    ],
                    "parcoords": [
                      {
                        "line": {
                          "colorbar": {
                            "outlinewidth": 0,
                            "ticks": ""
                          }
                        },
                        "type": "parcoords"
                      }
                    ],
                    "pie": [
                      {
                        "automargin": true,
                        "type": "pie"
                      }
                    ],
                    "scatter": [
                      {
                        "fillpattern": {
                          "fillmode": "overlay",
                          "size": 10,
                          "solidity": 0.2
                        },
                        "type": "scatter"
                      }
                    ],
                    "scatter3d": [
                      {
                        "line": {
                          "colorbar": {
                            "outlinewidth": 0,
                            "ticks": ""
                          }
                        },
                        "marker": {
                          "colorbar": {
                            "outlinewidth": 0,
                            "ticks": ""
                          }
                        },
                        "type": "scatter3d"
                      }
                    ],
                    "scattercarpet": [
                      {
                        "marker": {
                          "colorbar": {
                            "outlinewidth": 0,
                            "ticks": ""
                          }
                        },
                        "type": "scattercarpet"
                      }
                    ],
                    "scattergeo": [
                      {
                        "marker": {
                          "colorbar": {
                            "outlinewidth": 0,
                            "ticks": ""
                          }
                        },
                        "type": "scattergeo"
                      }
                    ],
                    "scattergl": [
                      {
                        "marker": {
                          "colorbar": {
                            "outlinewidth": 0,
                            "ticks": ""
                          }
                        },
                        "type": "scattergl"
                      }
                    ],
                    "scattermapbox": [
                      {
                        "marker": {
                          "colorbar": {
                            "outlinewidth": 0,
                            "ticks": ""
                          }
                        },
                        "type": "scattermapbox"
                      }
                    ],
                    "scatterpolar": [
                      {
                        "marker": {
                          "colorbar": {
                            "outlinewidth": 0,
                            "ticks": ""
                          }
                        },
                        "type": "scatterpolar"
                      }
                    ],
                    "scatterpolargl": [
                      {
                        "marker": {
                          "colorbar": {
                            "outlinewidth": 0,
                            "ticks": ""
                          }
                        },
                        "type": "scatterpolargl"
                      }
                    ],
                    "scatterternary": [
                      {
                        "marker": {
                          "colorbar": {
                            "outlinewidth": 0,
                            "ticks": ""
                          }
                        },
                        "type": "scatterternary"
                      }
                    ],
                    "surface": [
                      {
                        "colorbar": {
                          "outlinewidth": 0,
                          "ticks": ""
                        },
                        "colorscale": [
                          [
                            0,
                            "#0d0887"
                          ],
                          [
                            0.1111111111111111,
                            "#46039f"
                          ],
                          [
                            0.2222222222222222,
                            "#7201a8"
                          ],
                          [
                            0.3333333333333333,
                            "#9c179e"
                          ],
                          [
                            0.4444444444444444,
                            "#bd3786"
                          ],
                          [
                            0.5555555555555556,
                            "#d8576b"
                          ],
                          [
                            0.6666666666666666,
                            "#ed7953"
                          ],
                          [
                            0.7777777777777778,
                            "#fb9f3a"
                          ],
                          [
                            0.8888888888888888,
                            "#fdca26"
                          ],
                          [
                            1,
                            "#f0f921"
                          ]
                        ],
                        "type": "surface"
                      }
                    ],
                    "table": [
                      {
                        "cells": {
                          "fill": {
                            "color": "#EBF0F8"
                          },
                          "line": {
                            "color": "white"
                          }
                        },
                        "header": {
                          "fill": {
                            "color": "#C8D4E3"
                          },
                          "line": {
                            "color": "white"
                          }
                        },
                        "type": "table"
                      }
                    ]
                  },
                  "layout": {
                    "annotationdefaults": {
                      "arrowcolor": "#2a3f5f",
                      "arrowhead": 0,
                      "arrowwidth": 1
                    },
                    "autotypenumbers": "strict",
                    "coloraxis": {
                      "colorbar": {
                        "outlinewidth": 0,
                        "ticks": ""
                      }
                    },
                    "colorscale": {
                      "diverging": [
                        [
                          0,
                          "#8e0152"
                        ],
                        [
                          0.1,
                          "#c51b7d"
                        ],
                        [
                          0.2,
                          "#de77ae"
                        ],
                        [
                          0.3,
                          "#f1b6da"
                        ],
                        [
                          0.4,
                          "#fde0ef"
                        ],
                        [
                          0.5,
                          "#f7f7f7"
                        ],
                        [
                          0.6,
                          "#e6f5d0"
                        ],
                        [
                          0.7,
                          "#b8e186"
                        ],
                        [
                          0.8,
                          "#7fbc41"
                        ],
                        [
                          0.9,
                          "#4d9221"
                        ],
                        [
                          1,
                          "#276419"
                        ]
                      ],
                      "sequential": [
                        [
                          0,
                          "#0d0887"
                        ],
                        [
                          0.1111111111111111,
                          "#46039f"
                        ],
                        [
                          0.2222222222222222,
                          "#7201a8"
                        ],
                        [
                          0.3333333333333333,
                          "#9c179e"
                        ],
                        [
                          0.4444444444444444,
                          "#bd3786"
                        ],
                        [
                          0.5555555555555556,
                          "#d8576b"
                        ],
                        [
                          0.6666666666666666,
                          "#ed7953"
                        ],
                        [
                          0.7777777777777778,
                          "#fb9f3a"
                        ],
                        [
                          0.8888888888888888,
                          "#fdca26"
                        ],
                        [
                          1,
                          "#f0f921"
                        ]
                      ],
                      "sequentialminus": [
                        [
                          0,
                          "#0d0887"
                        ],
                        [
                          0.1111111111111111,
                          "#46039f"
                        ],
                        [
                          0.2222222222222222,
                          "#7201a8"
                        ],
                        [
                          0.3333333333333333,
                          "#9c179e"
                        ],
                        [
                          0.4444444444444444,
                          "#bd3786"
                        ],
                        [
                          0.5555555555555556,
                          "#d8576b"
                        ],
                        [
                          0.6666666666666666,
                          "#ed7953"
                        ],
                        [
                          0.7777777777777778,
                          "#fb9f3a"
                        ],
                        [
                          0.8888888888888888,
                          "#fdca26"
                        ],
                        [
                          1,
                          "#f0f921"
                        ]
                      ]
                    },
                    "colorway": [
                      "#636efa",
                      "#EF553B",
                      "#00cc96",
                      "#ab63fa",
                      "#FFA15A",
                      "#19d3f3",
                      "#FF6692",
                      "#B6E880",
                      "#FF97FF",
                      "#FECB52"
                    ],
                    "font": {
                      "color": "#2a3f5f"
                    },
                    "geo": {
                      "bgcolor": "white",
                      "lakecolor": "white",
                      "landcolor": "#E5ECF6",
                      "showlakes": true,
                      "showland": true,
                      "subunitcolor": "white"
                    },
                    "hoverlabel": {
                      "align": "left"
                    },
                    "hovermode": "closest",
                    "mapbox": {
                      "style": "light"
                    },
                    "paper_bgcolor": "white",
                    "plot_bgcolor": "#E5ECF6",
                    "polar": {
                      "angularaxis": {
                        "gridcolor": "white",
                        "linecolor": "white",
                        "ticks": ""
                      },
                      "bgcolor": "#E5ECF6",
                      "radialaxis": {
                        "gridcolor": "white",
                        "linecolor": "white",
                        "ticks": ""
                      }
                    },
                    "scene": {
                      "xaxis": {
                        "backgroundcolor": "#E5ECF6",
                        "gridcolor": "white",
                        "gridwidth": 2,
                        "linecolor": "white",
                        "showbackground": true,
                        "ticks": "",
                        "zerolinecolor": "white"
                      },
                      "yaxis": {
                        "backgroundcolor": "#E5ECF6",
                        "gridcolor": "white",
                        "gridwidth": 2,
                        "linecolor": "white",
                        "showbackground": true,
                        "ticks": "",
                        "zerolinecolor": "white"
                      },
                      "zaxis": {
                        "backgroundcolor": "#E5ECF6",
                        "gridcolor": "white",
                        "gridwidth": 2,
                        "linecolor": "white",
                        "showbackground": true,
                        "ticks": "",
                        "zerolinecolor": "white"
                      }
                    },
                    "shapedefaults": {
                      "line": {
                        "color": "#2a3f5f"
                      }
                    },
                    "ternary": {
                      "aaxis": {
                        "gridcolor": "white",
                        "linecolor": "white",
                        "ticks": ""
                      },
                      "baxis": {
                        "gridcolor": "white",
                        "linecolor": "white",
                        "ticks": ""
                      },
                      "bgcolor": "#E5ECF6",
                      "caxis": {
                        "gridcolor": "white",
                        "linecolor": "white",
                        "ticks": ""
                      }
                    },
                    "title": {
                      "x": 0.05
                    },
                    "xaxis": {
                      "automargin": true,
                      "gridcolor": "white",
                      "linecolor": "white",
                      "ticks": "",
                      "title": {
                        "standoff": 15
                      },
                      "zerolinecolor": "white",
                      "zerolinewidth": 2
                    },
                    "yaxis": {
                      "automargin": true,
                      "gridcolor": "white",
                      "linecolor": "white",
                      "ticks": "",
                      "title": {
                        "standoff": 15
                      },
                      "zerolinecolor": "white",
                      "zerolinewidth": 2
                    }
                  }
                },
                "xaxis": {
                  "anchor": "y",
                  "domain": [
                    0,
                    1
                  ]
                },
                "xaxis2": {
                  "anchor": "y2",
                  "domain": [
                    0,
                    1
                  ]
                },
                "xaxis3": {
                  "anchor": "y3",
                  "domain": [
                    0,
                    1
                  ]
                },
                "yaxis": {
                  "anchor": "x",
                  "domain": [
                    0.7333333333333333,
                    1
                  ]
                },
                "yaxis2": {
                  "anchor": "x2",
                  "domain": [
                    0.36666666666666664,
                    0.6333333333333333
                  ]
                },
                "yaxis3": {
                  "anchor": "x3",
                  "domain": [
                    0,
                    0.26666666666666666
                  ]
                }
              }
            },
            "text/html": [
              "<div>                            <div id=\"78251fb3-13e8-4ca7-8b6f-a3cec4d93325\" class=\"plotly-graph-div\" style=\"height:525px; width:100%;\"></div>            <script type=\"text/javascript\">                require([\"plotly\"], function(Plotly) {                    window.PLOTLYENV=window.PLOTLYENV || {};                                    if (document.getElementById(\"78251fb3-13e8-4ca7-8b6f-a3cec4d93325\")) {                    Plotly.newPlot(                        \"78251fb3-13e8-4ca7-8b6f-a3cec4d93325\",                        [{\"name\":\"pre\\u00e7o\",\"x\":[\"2023-03-21T00:00:00\",\"2023-03-22T00:00:00\",\"2023-03-23T00:00:00\",\"2023-03-24T00:00:00\",\"2023-03-27T00:00:00\",\"2023-03-28T00:00:00\",\"2023-03-29T00:00:00\",\"2023-03-30T00:00:00\",\"2023-03-31T00:00:00\",\"2023-04-03T00:00:00\",\"2023-04-04T00:00:00\",\"2023-04-05T00:00:00\",\"2023-04-06T00:00:00\",\"2023-04-10T00:00:00\",\"2023-04-11T00:00:00\",\"2023-04-12T00:00:00\",\"2023-04-13T00:00:00\",\"2023-04-14T00:00:00\",\"2023-04-17T00:00:00\",\"2023-04-18T00:00:00\",\"2023-04-19T00:00:00\",\"2023-04-20T00:00:00\",\"2023-04-24T00:00:00\",\"2023-04-25T00:00:00\",\"2023-04-26T00:00:00\",\"2023-04-27T00:00:00\",\"2023-04-28T00:00:00\",\"2023-05-02T00:00:00\",\"2023-05-03T00:00:00\",\"2023-05-04T00:00:00\",\"2023-05-05T00:00:00\",\"2023-05-08T00:00:00\",\"2023-05-09T00:00:00\",\"2023-05-10T00:00:00\",\"2023-05-11T00:00:00\",\"2023-05-12T00:00:00\",\"2023-05-15T00:00:00\",\"2023-05-16T00:00:00\",\"2023-05-17T00:00:00\",\"2023-05-18T00:00:00\",\"2023-05-19T00:00:00\",\"2023-05-22T00:00:00\",\"2023-05-23T00:00:00\",\"2023-05-24T00:00:00\",\"2023-05-25T00:00:00\",\"2023-05-26T00:00:00\",\"2023-05-29T00:00:00\",\"2023-05-30T00:00:00\",\"2023-05-31T00:00:00\",\"2023-06-01T00:00:00\",\"2023-06-02T00:00:00\",\"2023-06-05T00:00:00\",\"2023-06-06T00:00:00\",\"2023-06-07T00:00:00\",\"2023-06-09T00:00:00\",\"2023-06-12T00:00:00\",\"2023-06-13T00:00:00\",\"2023-06-14T00:00:00\",\"2023-06-15T00:00:00\",\"2023-06-16T00:00:00\",\"2023-06-19T00:00:00\",\"2023-06-20T00:00:00\",\"2023-06-21T00:00:00\",\"2023-06-22T00:00:00\",\"2023-06-23T00:00:00\",\"2023-06-26T00:00:00\",\"2023-06-27T00:00:00\",\"2023-06-28T00:00:00\",\"2023-06-29T00:00:00\",\"2023-06-30T00:00:00\",\"2023-07-03T00:00:00\",\"2023-07-04T00:00:00\",\"2023-07-05T00:00:00\",\"2023-07-06T00:00:00\",\"2023-07-07T00:00:00\",\"2023-07-10T00:00:00\",\"2023-07-11T00:00:00\",\"2023-07-12T00:00:00\",\"2023-07-13T00:00:00\",\"2023-07-14T00:00:00\",\"2023-07-17T00:00:00\",\"2023-07-18T00:00:00\",\"2023-07-19T00:00:00\",\"2023-07-20T00:00:00\",\"2023-07-21T00:00:00\",\"2023-07-24T00:00:00\",\"2023-07-25T00:00:00\",\"2023-07-26T00:00:00\",\"2023-07-27T00:00:00\",\"2023-07-28T00:00:00\",\"2023-07-31T00:00:00\",\"2023-08-01T00:00:00\",\"2023-08-02T00:00:00\",\"2023-08-03T00:00:00\",\"2023-08-04T00:00:00\",\"2023-08-07T00:00:00\",\"2023-08-08T00:00:00\",\"2023-08-09T00:00:00\",\"2023-08-10T00:00:00\",\"2023-08-11T00:00:00\",\"2023-08-14T00:00:00\",\"2023-08-15T00:00:00\",\"2023-08-16T00:00:00\",\"2023-08-17T00:00:00\",\"2023-08-18T00:00:00\",\"2023-08-21T00:00:00\",\"2023-08-22T00:00:00\",\"2023-08-23T00:00:00\",\"2023-08-24T00:00:00\",\"2023-08-25T00:00:00\",\"2023-08-28T00:00:00\",\"2023-08-29T00:00:00\",\"2023-08-30T00:00:00\",\"2023-08-31T00:00:00\",\"2023-09-01T00:00:00\",\"2023-09-04T00:00:00\",\"2023-09-05T00:00:00\",\"2023-09-06T00:00:00\",\"2023-09-08T00:00:00\",\"2023-09-11T00:00:00\",\"2023-09-12T00:00:00\",\"2023-09-13T00:00:00\",\"2023-09-14T00:00:00\",\"2023-09-15T00:00:00\",\"2023-09-18T00:00:00\",\"2023-09-19T00:00:00\",\"2023-09-20T00:00:00\",\"2023-09-21T00:00:00\",\"2023-09-22T00:00:00\",\"2023-09-25T00:00:00\",\"2023-09-26T00:00:00\",\"2023-09-27T00:00:00\",\"2023-09-28T00:00:00\",\"2023-09-29T00:00:00\",\"2023-10-02T00:00:00\",\"2023-10-03T00:00:00\",\"2023-10-04T00:00:00\",\"2023-10-05T00:00:00\",\"2023-10-06T00:00:00\",\"2023-10-09T00:00:00\",\"2023-10-10T00:00:00\",\"2023-10-11T00:00:00\",\"2023-10-13T00:00:00\",\"2023-10-16T00:00:00\",\"2023-10-17T00:00:00\",\"2023-10-18T00:00:00\",\"2023-10-19T00:00:00\",\"2023-10-20T00:00:00\",\"2023-10-23T00:00:00\",\"2023-10-24T00:00:00\",\"2023-10-25T00:00:00\",\"2023-10-26T00:00:00\",\"2023-10-27T00:00:00\",\"2023-10-30T00:00:00\",\"2023-10-31T00:00:00\",\"2023-11-01T00:00:00\",\"2023-11-03T00:00:00\",\"2023-11-06T00:00:00\",\"2023-11-07T00:00:00\",\"2023-11-08T00:00:00\",\"2023-11-09T00:00:00\",\"2023-11-10T00:00:00\",\"2023-11-13T00:00:00\",\"2023-11-14T00:00:00\",\"2023-11-16T00:00:00\",\"2023-11-17T00:00:00\",\"2023-11-20T00:00:00\",\"2023-11-21T00:00:00\",\"2023-11-22T00:00:00\",\"2023-11-23T00:00:00\",\"2023-11-24T00:00:00\",\"2023-11-27T00:00:00\",\"2023-11-28T00:00:00\",\"2023-11-29T00:00:00\",\"2023-11-30T00:00:00\",\"2023-12-01T00:00:00\",\"2023-12-04T00:00:00\",\"2023-12-05T00:00:00\",\"2023-12-06T00:00:00\",\"2023-12-07T00:00:00\",\"2023-12-08T00:00:00\",\"2023-12-11T00:00:00\",\"2023-12-12T00:00:00\",\"2023-12-13T00:00:00\",\"2023-12-14T00:00:00\",\"2023-12-15T00:00:00\",\"2023-12-18T00:00:00\",\"2023-12-19T00:00:00\",\"2023-12-20T00:00:00\",\"2023-12-21T00:00:00\",\"2023-12-22T00:00:00\",\"2023-12-26T00:00:00\",\"2023-12-27T00:00:00\",\"2023-12-28T00:00:00\",\"2024-01-02T00:00:00\",\"2024-01-03T00:00:00\",\"2024-01-04T00:00:00\",\"2024-01-05T00:00:00\",\"2024-01-08T00:00:00\",\"2024-01-09T00:00:00\",\"2024-01-10T00:00:00\",\"2024-01-11T00:00:00\",\"2024-01-12T00:00:00\",\"2024-01-15T00:00:00\",\"2024-01-16T00:00:00\",\"2024-01-17T00:00:00\",\"2024-01-18T00:00:00\",\"2024-01-19T00:00:00\",\"2024-01-22T00:00:00\",\"2024-01-23T00:00:00\",\"2024-01-24T00:00:00\",\"2024-01-25T00:00:00\",\"2024-01-26T00:00:00\",\"2024-01-29T00:00:00\",\"2024-01-30T00:00:00\",\"2024-01-31T00:00:00\",\"2024-02-01T00:00:00\",\"2024-02-02T00:00:00\",\"2024-02-05T00:00:00\",\"2024-02-06T00:00:00\",\"2024-02-07T00:00:00\",\"2024-02-08T00:00:00\",\"2024-02-09T00:00:00\",\"2024-02-14T00:00:00\",\"2024-02-15T00:00:00\",\"2024-02-16T00:00:00\",\"2024-02-19T00:00:00\",\"2024-02-20T00:00:00\",\"2024-02-21T00:00:00\",\"2024-02-22T00:00:00\",\"2024-02-23T00:00:00\",\"2024-02-26T00:00:00\",\"2024-02-27T00:00:00\",\"2024-02-28T00:00:00\",\"2024-02-29T00:00:00\",\"2024-03-01T00:00:00\",\"2024-03-04T00:00:00\",\"2024-03-05T00:00:00\",\"2024-03-06T00:00:00\",\"2024-03-07T00:00:00\",\"2024-03-08T00:00:00\",\"2024-03-11T00:00:00\",\"2024-03-12T00:00:00\",\"2024-03-13T00:00:00\",\"2024-03-14T00:00:00\",\"2024-03-15T00:00:00\",\"2024-03-18T00:00:00\",\"2024-03-19T00:00:00\",\"2024-03-20T00:00:00\",\"2024-03-21T00:00:00\"],\"y\":[29.59086036682129,29.67328643798828,29.902246475219727,30.28689956665039,30.03046417236328,30.552494049072266,30.057939529418945,29.828977584838867,29.77402687072754,29.4992733001709,30.35100746154785,29.902246475219727,31.18442153930664,31.697294235229492,32.027000427246094,32.39333724975586,31.990365982055664,31.962890625,31.688135147094727,31.697294235229492,31.669822692871094,31.834671020507812,31.642343521118164,31.82551383972168,31.843830108642578,31.468334197998047,31.42254638671875,31.340118408203125,30.69902992248535,30.33268928527832,30.66239356994629,30.616601943969727,30.873037338256836,30.955461502075195,31.11115837097168,31.285165786743164,29.435165405273438,29.444326400756836,29.27947235107422,28.684175491333008,28.29952049255371,28.326995849609375,28.180461883544922,28.729969024658203,29.132938385009766,29.215364456176758,29.389373779296875,29.02303695678711,28.326995849609375,27.951501846313477,28.381946563720703,28.4277400970459,28.381946563720703,28.381946563720703,28.455215454101562,28.23541259765625,28.03392791748047,27.960660934448242,28.006452560424805,27.887393951416016,27.7042236328125,27.68590545654297,27.786649703979492,27.832441329956055,28.015609741210938,27.200511932373047,27.576007843017578,27.969820022583008,28.189620971679688,28.180461883544922,28.858184814453125,28.96808624267578,28.858184814453125,28.62922477722168,28.684175491333008,28.555957794189453,28.482690811157227,28.152986526489258,28.0797176361084,27.87823486328125,27.914867401123047,27.594322204589844,27.64011573791504,28.125511169433594,28.43689727783203,28.821550369262695,28.56511688232422,28.757442474365234,28.27204704284668,28.638383865356445,28.501007080078125,28.62922477722168,28.64754295349121,28.684175491333008,28.858184814453125,29.54506492614746,29.352739334106445,29.453481674194336,29.535907745361328,29.737394332885742,30.01214599609375,29.81066131591797,29.801504135131836,28.57565689086914,28.787612915039062,28.7972469329834,28.864688873291016,29.04774284362793,29.230796813964844,29.230796813964844,29.63544273376465,29.914838790893555,29.66434669494629,29.269332885742188,29.895570755004883,30.23277473449707,30.174968719482422,29.95337677001953,29.972646713256836,30.62778663635254,30.781936645507812,30.753032684326172,30.54107666015625,30.48326873779297,30.67595863342285,30.521808624267578,31.022796630859375,30.5988826751709,30.579614639282227,30.859010696411133,30.666322708129883,30.31948471069336,30.54107666015625,30.068988800048828,30.772302627563477,30.84937858581543,31.022796630859375,30.772302627563477,30.89754867553711,30.714494705200195,30.473634719848633,30.589248657226562,30.155698776245117,30.531442642211914,30.45436668395996,30.72412872314453,30.695226669311523,30.29058265686035,30.2135066986084,30.252044677734375,30.12679672241211,30.184602737426758,29.818496704101562,29.43311882019043,29.63544273376465,30.068988800048828,30.300216674804688,30.608518600463867,30.7337646484375,30.7337646484375,30.155698776245117,30.155698776245117,30.271312713623047,30.492904663085938,30.964990615844727,30.618152618408203,30.81083869934082,30.743398666381836,30.859010696411133,30.926450729370117,30.743398666381836,30.550710678100586,30.64705467224121,30.300216674804688,30.155698776245117,29.770322799682617,29.693248748779297,29.57763671875,29.558366775512695,29.9630126953125,29.972646713256836,30.04008674621582,30.068988800048828,29.914838790893555,30.48326873779297,30.89754867553711,31.340730667114258,32.150020599365234,31.938066482543945,31.938066482543945,32.14038848876953,32.381248474121094,32.1596565246582,32.4197883605957,32.6510124206543,32.50649642944336,32.73772048950195,32.44868850708008,32.29454040527344,32.17892837524414,31.97660255432129,32.06331253051758,32.12112045288086,32.45832061767578,32.25600051879883,32.67028045654297,33.12310028076172,33.28688049316406,33.36396026611328,33.24834442138672,32.988216400146484,32.50649642944336,32.49686050415039,32.84370040893555,32.59320831298828,32.99785232543945,33.055660247802734,32.84370040893555,33.28688049316406,34.202152252197266,34.529720306396484,33.238712310791016,32.790000915527344,32.93000030517578,33.0099983215332,32.65999984741211,32.77000045776367,33.11000061035156,32.900001525878906,33.36000061035156,33.04999923706055,33.06999969482422,33.209999084472656,33.54999923706055,33.34000015258789,32.91999816894531,32.90999984741211,32.86000061035156,32.70000076293945,32.900001525878906,32.790000915527344,32.83000183105469,32.939998626708984,32.880001068115234,33.11000061035156,33.27000045776367,33.2599983215332,32.88999938964844,32.86000061035156,32.11000061035156],\"type\":\"scatter\",\"xaxis\":\"x\",\"yaxis\":\"y\"},{\"line\":{\"color\":\"firebrick\",\"dash\":\"dot\",\"width\":2},\"mode\":\"lines\",\"name\":\"mma5\",\"x\":[\"2023-03-21T00:00:00\",\"2023-03-22T00:00:00\",\"2023-03-23T00:00:00\",\"2023-03-24T00:00:00\",\"2023-03-27T00:00:00\",\"2023-03-28T00:00:00\",\"2023-03-29T00:00:00\",\"2023-03-30T00:00:00\",\"2023-03-31T00:00:00\",\"2023-04-03T00:00:00\",\"2023-04-04T00:00:00\",\"2023-04-05T00:00:00\",\"2023-04-06T00:00:00\",\"2023-04-10T00:00:00\",\"2023-04-11T00:00:00\",\"2023-04-12T00:00:00\",\"2023-04-13T00:00:00\",\"2023-04-14T00:00:00\",\"2023-04-17T00:00:00\",\"2023-04-18T00:00:00\",\"2023-04-19T00:00:00\",\"2023-04-20T00:00:00\",\"2023-04-24T00:00:00\",\"2023-04-25T00:00:00\",\"2023-04-26T00:00:00\",\"2023-04-27T00:00:00\",\"2023-04-28T00:00:00\",\"2023-05-02T00:00:00\",\"2023-05-03T00:00:00\",\"2023-05-04T00:00:00\",\"2023-05-05T00:00:00\",\"2023-05-08T00:00:00\",\"2023-05-09T00:00:00\",\"2023-05-10T00:00:00\",\"2023-05-11T00:00:00\",\"2023-05-12T00:00:00\",\"2023-05-15T00:00:00\",\"2023-05-16T00:00:00\",\"2023-05-17T00:00:00\",\"2023-05-18T00:00:00\",\"2023-05-19T00:00:00\",\"2023-05-22T00:00:00\",\"2023-05-23T00:00:00\",\"2023-05-24T00:00:00\",\"2023-05-25T00:00:00\",\"2023-05-26T00:00:00\",\"2023-05-29T00:00:00\",\"2023-05-30T00:00:00\",\"2023-05-31T00:00:00\",\"2023-06-01T00:00:00\",\"2023-06-02T00:00:00\",\"2023-06-05T00:00:00\",\"2023-06-06T00:00:00\",\"2023-06-07T00:00:00\",\"2023-06-09T00:00:00\",\"2023-06-12T00:00:00\",\"2023-06-13T00:00:00\",\"2023-06-14T00:00:00\",\"2023-06-15T00:00:00\",\"2023-06-16T00:00:00\",\"2023-06-19T00:00:00\",\"2023-06-20T00:00:00\",\"2023-06-21T00:00:00\",\"2023-06-22T00:00:00\",\"2023-06-23T00:00:00\",\"2023-06-26T00:00:00\",\"2023-06-27T00:00:00\",\"2023-06-28T00:00:00\",\"2023-06-29T00:00:00\",\"2023-06-30T00:00:00\",\"2023-07-03T00:00:00\",\"2023-07-04T00:00:00\",\"2023-07-05T00:00:00\",\"2023-07-06T00:00:00\",\"2023-07-07T00:00:00\",\"2023-07-10T00:00:00\",\"2023-07-11T00:00:00\",\"2023-07-12T00:00:00\",\"2023-07-13T00:00:00\",\"2023-07-14T00:00:00\",\"2023-07-17T00:00:00\",\"2023-07-18T00:00:00\",\"2023-07-19T00:00:00\",\"2023-07-20T00:00:00\",\"2023-07-21T00:00:00\",\"2023-07-24T00:00:00\",\"2023-07-25T00:00:00\",\"2023-07-26T00:00:00\",\"2023-07-27T00:00:00\",\"2023-07-28T00:00:00\",\"2023-07-31T00:00:00\",\"2023-08-01T00:00:00\",\"2023-08-02T00:00:00\",\"2023-08-03T00:00:00\",\"2023-08-04T00:00:00\",\"2023-08-07T00:00:00\",\"2023-08-08T00:00:00\",\"2023-08-09T00:00:00\",\"2023-08-10T00:00:00\",\"2023-08-11T00:00:00\",\"2023-08-14T00:00:00\",\"2023-08-15T00:00:00\",\"2023-08-16T00:00:00\",\"2023-08-17T00:00:00\",\"2023-08-18T00:00:00\",\"2023-08-21T00:00:00\",\"2023-08-22T00:00:00\",\"2023-08-23T00:00:00\",\"2023-08-24T00:00:00\",\"2023-08-25T00:00:00\",\"2023-08-28T00:00:00\",\"2023-08-29T00:00:00\",\"2023-08-30T00:00:00\",\"2023-08-31T00:00:00\",\"2023-09-01T00:00:00\",\"2023-09-04T00:00:00\",\"2023-09-05T00:00:00\",\"2023-09-06T00:00:00\",\"2023-09-08T00:00:00\",\"2023-09-11T00:00:00\",\"2023-09-12T00:00:00\",\"2023-09-13T00:00:00\",\"2023-09-14T00:00:00\",\"2023-09-15T00:00:00\",\"2023-09-18T00:00:00\",\"2023-09-19T00:00:00\",\"2023-09-20T00:00:00\",\"2023-09-21T00:00:00\",\"2023-09-22T00:00:00\",\"2023-09-25T00:00:00\",\"2023-09-26T00:00:00\",\"2023-09-27T00:00:00\",\"2023-09-28T00:00:00\",\"2023-09-29T00:00:00\",\"2023-10-02T00:00:00\",\"2023-10-03T00:00:00\",\"2023-10-04T00:00:00\",\"2023-10-05T00:00:00\",\"2023-10-06T00:00:00\",\"2023-10-09T00:00:00\",\"2023-10-10T00:00:00\",\"2023-10-11T00:00:00\",\"2023-10-13T00:00:00\",\"2023-10-16T00:00:00\",\"2023-10-17T00:00:00\",\"2023-10-18T00:00:00\",\"2023-10-19T00:00:00\",\"2023-10-20T00:00:00\",\"2023-10-23T00:00:00\",\"2023-10-24T00:00:00\",\"2023-10-25T00:00:00\",\"2023-10-26T00:00:00\",\"2023-10-27T00:00:00\",\"2023-10-30T00:00:00\",\"2023-10-31T00:00:00\",\"2023-11-01T00:00:00\",\"2023-11-03T00:00:00\",\"2023-11-06T00:00:00\",\"2023-11-07T00:00:00\",\"2023-11-08T00:00:00\",\"2023-11-09T00:00:00\",\"2023-11-10T00:00:00\",\"2023-11-13T00:00:00\",\"2023-11-14T00:00:00\",\"2023-11-16T00:00:00\",\"2023-11-17T00:00:00\",\"2023-11-20T00:00:00\",\"2023-11-21T00:00:00\",\"2023-11-22T00:00:00\",\"2023-11-23T00:00:00\",\"2023-11-24T00:00:00\",\"2023-11-27T00:00:00\",\"2023-11-28T00:00:00\",\"2023-11-29T00:00:00\",\"2023-11-30T00:00:00\",\"2023-12-01T00:00:00\",\"2023-12-04T00:00:00\",\"2023-12-05T00:00:00\",\"2023-12-06T00:00:00\",\"2023-12-07T00:00:00\",\"2023-12-08T00:00:00\",\"2023-12-11T00:00:00\",\"2023-12-12T00:00:00\",\"2023-12-13T00:00:00\",\"2023-12-14T00:00:00\",\"2023-12-15T00:00:00\",\"2023-12-18T00:00:00\",\"2023-12-19T00:00:00\",\"2023-12-20T00:00:00\",\"2023-12-21T00:00:00\",\"2023-12-22T00:00:00\",\"2023-12-26T00:00:00\",\"2023-12-27T00:00:00\",\"2023-12-28T00:00:00\",\"2024-01-02T00:00:00\",\"2024-01-03T00:00:00\",\"2024-01-04T00:00:00\",\"2024-01-05T00:00:00\",\"2024-01-08T00:00:00\",\"2024-01-09T00:00:00\",\"2024-01-10T00:00:00\",\"2024-01-11T00:00:00\",\"2024-01-12T00:00:00\",\"2024-01-15T00:00:00\",\"2024-01-16T00:00:00\",\"2024-01-17T00:00:00\",\"2024-01-18T00:00:00\",\"2024-01-19T00:00:00\",\"2024-01-22T00:00:00\",\"2024-01-23T00:00:00\",\"2024-01-24T00:00:00\",\"2024-01-25T00:00:00\",\"2024-01-26T00:00:00\",\"2024-01-29T00:00:00\",\"2024-01-30T00:00:00\",\"2024-01-31T00:00:00\",\"2024-02-01T00:00:00\",\"2024-02-02T00:00:00\",\"2024-02-05T00:00:00\",\"2024-02-06T00:00:00\",\"2024-02-07T00:00:00\",\"2024-02-08T00:00:00\",\"2024-02-09T00:00:00\",\"2024-02-14T00:00:00\",\"2024-02-15T00:00:00\",\"2024-02-16T00:00:00\",\"2024-02-19T00:00:00\",\"2024-02-20T00:00:00\",\"2024-02-21T00:00:00\",\"2024-02-22T00:00:00\",\"2024-02-23T00:00:00\",\"2024-02-26T00:00:00\",\"2024-02-27T00:00:00\",\"2024-02-28T00:00:00\",\"2024-02-29T00:00:00\",\"2024-03-01T00:00:00\",\"2024-03-04T00:00:00\",\"2024-03-05T00:00:00\",\"2024-03-06T00:00:00\",\"2024-03-07T00:00:00\",\"2024-03-08T00:00:00\",\"2024-03-11T00:00:00\",\"2024-03-12T00:00:00\",\"2024-03-13T00:00:00\",\"2024-03-14T00:00:00\",\"2024-03-15T00:00:00\",\"2024-03-18T00:00:00\",\"2024-03-19T00:00:00\",\"2024-03-20T00:00:00\",\"2024-03-21T00:00:00\"],\"y\":[null,null,null,null,29.896751403808594,30.08907814025879,30.166008758544923,30.15135498046875,30.04878044128418,29.942542266845702,29.90224494934082,29.871106338500976,30.14219512939453,30.526848602294923,31.032394027709962,31.440859985351562,31.85848388671875,32.01417770385742,32.01234588623047,31.946404647827148,31.801701736450195,31.770562744140626,31.706453323364258,31.733929061889647,31.763236236572265,31.722938537597656,31.640513610839843,31.580068588256836,31.35477180480957,31.05254364013672,30.891355514526367,30.730166625976562,30.636750411987304,30.688036727905274,30.843730545043947,30.96828498840332,30.731997680664062,30.446255493164063,30.111057662963866,29.625661087036132,29.028532028198242,28.80689811706543,28.554125213623045,28.444224548339843,28.533977127075197,28.717145919799805,28.929621505737305,29.098136520385744,29.017541885375977,28.78125457763672,28.614570999145506,28.422244262695312,28.294026184082032,28.305016326904298,28.405759048461913,28.376452255249024,28.297689819335936,28.213432693481444,28.138333892822267,28.024769592285157,27.918531799316405,27.848927307128907,27.814125061035156,27.779322814941406,27.80496597290039,27.7042236328125,27.682244110107423,27.718878173828124,27.79031410217285,27.823284530639647,28.154819107055665,28.433234786987306,28.610907745361327,28.698828506469727,28.799571228027343,28.73912582397461,28.6420467376709,28.501007080078125,28.39110565185547,28.229917526245117,28.101699447631837,27.92402572631836,27.821451568603514,27.830610275268555,27.94234275817871,28.12367935180664,28.317838287353517,28.541303634643555,28.570610809326173,28.610908126831056,28.54679946899414,28.559621047973632,28.53764114379883,28.620066833496093,28.66402702331543,28.8728385925293,29.01754150390625,29.178729248046874,29.349075698852538,29.524917602539062,29.61833381652832,29.709918212890624,29.779522705078126,29.58747253417969,29.39751625061035,29.15453643798828,28.96534194946289,28.81458969116211,28.94561767578125,29.034254455566405,29.201893615722657,29.411923599243163,29.535244369506835,29.542951583862305,29.675906372070312,29.795372772216798,29.84739875793457,29.90520477294922,30.04586753845215,30.19231071472168,30.302143096923828,30.41775588989258,30.53529586791992,30.63742027282715,30.64705467224121,30.595029067993163,30.648981857299805,30.660543060302736,30.679812240600587,30.716422653198244,30.7453254699707,30.6046630859375,30.59310188293457,30.49097671508789,30.473635101318358,30.51024627685547,30.65090866088867,30.697153854370118,30.862865829467772,30.851304244995116,30.776155471801758,30.689445877075194,30.566125106811523,30.492903900146484,30.440878295898436,30.490977096557618,30.51217269897461,30.539149475097656,30.475562286376952,30.435097885131835,30.315631484985353,30.2135066986084,30.11908950805664,29.963011932373046,29.8396915435791,29.828129959106445,29.85125274658203,30.009257125854493,30.269386291503906,30.489050674438477,30.506392669677734,30.47748908996582,30.410047912597655,30.361875915527342,30.40812110900879,30.500611877441408,30.631639862060545,30.726057052612305,30.799278259277344,30.791570281982423,30.81661949157715,30.764593887329102,30.745325088500977,30.633566284179686,30.479415893554688,30.284800720214843,30.113308334350585,29.899424743652343,29.751054763793945,29.712517547607423,29.752982330322265,29.82234992980957,29.920620346069335,29.991914749145508,30.095965957641603,30.280946350097658,30.541075134277342,30.957281494140624,31.361927032470703,31.652886581420898,31.901454544067384,32.10955810546875,32.11148529052734,32.2078296661377,32.35041885375976,32.423640441894534,32.4949348449707,32.55274124145508,32.52769165039062,32.433274841308595,32.32729606628418,32.19241447448731,32.126900863647464,32.15965690612793,32.17507133483887,32.3138069152832,32.52576446533203,32.75891647338867,32.94004440307617,33.13851318359375,33.202100372314455,33.07877960205078,32.92077560424805,32.8167236328125,32.68569641113281,32.68762359619141,32.79745635986328,32.866824340820315,32.95546035766601,33.27724914550781,33.583622741699216,33.620233154296876,33.609493255615234,33.538117218017575,33.299686431884766,32.92574234008789,32.831999969482425,32.895999908447266,32.89000015258789,32.960000610351564,33.03800048828125,33.09800033569336,33.11800003051758,33.247999572753905,33.24399948120117,33.21799926757812,33.1859992980957,33.11599960327148,32.94599990844726,32.85800018310547,32.832000732421875,32.81600112915039,32.832000732421875,32.86800079345703,32.91000061035156,33.00600051879883,33.09199981689453,33.081999969482425,33.077999877929685,32.87799987792969],\"type\":\"scatter\",\"xaxis\":\"x\",\"yaxis\":\"y\"},{\"marker\":{\"angle\":45,\"line\":{\"color\":\"DarkSlateGrey\",\"width\":2},\"size\":12,\"symbol\":\"arrow\"},\"mode\":\"markers\",\"name\":\"Entrada\",\"x\":[\"2023-05-04T00:00:00\",\"2023-05-19T00:00:00\",\"2023-06-20T00:00:00\",\"2023-07-13T00:00:00\",\"2023-08-18T00:00:00\",\"2023-10-31T00:00:00\",\"2023-12-04T00:00:00\"],\"y\":[30.33268928527832,28.29952049255371,27.68590545654297,28.0797176361084,28.787612915039062,29.63544273376465,29.693248748779297],\"type\":\"scatter\",\"xaxis\":\"x\",\"yaxis\":\"y\"},{\"marker\":{\"angle\":-135,\"line\":{\"color\":\"red\",\"width\":2},\"size\":12,\"symbol\":\"arrow\"},\"mode\":\"markers\",\"name\":\"Saida\",\"x\":[\"2023-05-10T00:00:00\",\"2023-05-25T00:00:00\",\"2023-06-23T00:00:00\",\"2023-07-21T00:00:00\",\"2023-08-24T00:00:00\",\"2023-11-03T00:00:00\",\"2023-12-08T00:00:00\"],\"y\":[30.955461502075195,29.132938385009766,28.015609741210938,28.43689727783203,29.230796813964844,30.300216674804688,29.972646713256836],\"type\":\"scatter\",\"xaxis\":\"x\",\"yaxis\":\"y\"},{\"name\":\"ifr2\",\"x\":[\"2023-03-21T00:00:00\",\"2023-03-22T00:00:00\",\"2023-03-23T00:00:00\",\"2023-03-24T00:00:00\",\"2023-03-27T00:00:00\",\"2023-03-28T00:00:00\",\"2023-03-29T00:00:00\",\"2023-03-30T00:00:00\",\"2023-03-31T00:00:00\",\"2023-04-03T00:00:00\",\"2023-04-04T00:00:00\",\"2023-04-05T00:00:00\",\"2023-04-06T00:00:00\",\"2023-04-10T00:00:00\",\"2023-04-11T00:00:00\",\"2023-04-12T00:00:00\",\"2023-04-13T00:00:00\",\"2023-04-14T00:00:00\",\"2023-04-17T00:00:00\",\"2023-04-18T00:00:00\",\"2023-04-19T00:00:00\",\"2023-04-20T00:00:00\",\"2023-04-24T00:00:00\",\"2023-04-25T00:00:00\",\"2023-04-26T00:00:00\",\"2023-04-27T00:00:00\",\"2023-04-28T00:00:00\",\"2023-05-02T00:00:00\",\"2023-05-03T00:00:00\",\"2023-05-04T00:00:00\",\"2023-05-05T00:00:00\",\"2023-05-08T00:00:00\",\"2023-05-09T00:00:00\",\"2023-05-10T00:00:00\",\"2023-05-11T00:00:00\",\"2023-05-12T00:00:00\",\"2023-05-15T00:00:00\",\"2023-05-16T00:00:00\",\"2023-05-17T00:00:00\",\"2023-05-18T00:00:00\",\"2023-05-19T00:00:00\",\"2023-05-22T00:00:00\",\"2023-05-23T00:00:00\",\"2023-05-24T00:00:00\",\"2023-05-25T00:00:00\",\"2023-05-26T00:00:00\",\"2023-05-29T00:00:00\",\"2023-05-30T00:00:00\",\"2023-05-31T00:00:00\",\"2023-06-01T00:00:00\",\"2023-06-02T00:00:00\",\"2023-06-05T00:00:00\",\"2023-06-06T00:00:00\",\"2023-06-07T00:00:00\",\"2023-06-09T00:00:00\",\"2023-06-12T00:00:00\",\"2023-06-13T00:00:00\",\"2023-06-14T00:00:00\",\"2023-06-15T00:00:00\",\"2023-06-16T00:00:00\",\"2023-06-19T00:00:00\",\"2023-06-20T00:00:00\",\"2023-06-21T00:00:00\",\"2023-06-22T00:00:00\",\"2023-06-23T00:00:00\",\"2023-06-26T00:00:00\",\"2023-06-27T00:00:00\",\"2023-06-28T00:00:00\",\"2023-06-29T00:00:00\",\"2023-06-30T00:00:00\",\"2023-07-03T00:00:00\",\"2023-07-04T00:00:00\",\"2023-07-05T00:00:00\",\"2023-07-06T00:00:00\",\"2023-07-07T00:00:00\",\"2023-07-10T00:00:00\",\"2023-07-11T00:00:00\",\"2023-07-12T00:00:00\",\"2023-07-13T00:00:00\",\"2023-07-14T00:00:00\",\"2023-07-17T00:00:00\",\"2023-07-18T00:00:00\",\"2023-07-19T00:00:00\",\"2023-07-20T00:00:00\",\"2023-07-21T00:00:00\",\"2023-07-24T00:00:00\",\"2023-07-25T00:00:00\",\"2023-07-26T00:00:00\",\"2023-07-27T00:00:00\",\"2023-07-28T00:00:00\",\"2023-07-31T00:00:00\",\"2023-08-01T00:00:00\",\"2023-08-02T00:00:00\",\"2023-08-03T00:00:00\",\"2023-08-04T00:00:00\",\"2023-08-07T00:00:00\",\"2023-08-08T00:00:00\",\"2023-08-09T00:00:00\",\"2023-08-10T00:00:00\",\"2023-08-11T00:00:00\",\"2023-08-14T00:00:00\",\"2023-08-15T00:00:00\",\"2023-08-16T00:00:00\",\"2023-08-17T00:00:00\",\"2023-08-18T00:00:00\",\"2023-08-21T00:00:00\",\"2023-08-22T00:00:00\",\"2023-08-23T00:00:00\",\"2023-08-24T00:00:00\",\"2023-08-25T00:00:00\",\"2023-08-28T00:00:00\",\"2023-08-29T00:00:00\",\"2023-08-30T00:00:00\",\"2023-08-31T00:00:00\",\"2023-09-01T00:00:00\",\"2023-09-04T00:00:00\",\"2023-09-05T00:00:00\",\"2023-09-06T00:00:00\",\"2023-09-08T00:00:00\",\"2023-09-11T00:00:00\",\"2023-09-12T00:00:00\",\"2023-09-13T00:00:00\",\"2023-09-14T00:00:00\",\"2023-09-15T00:00:00\",\"2023-09-18T00:00:00\",\"2023-09-19T00:00:00\",\"2023-09-20T00:00:00\",\"2023-09-21T00:00:00\",\"2023-09-22T00:00:00\",\"2023-09-25T00:00:00\",\"2023-09-26T00:00:00\",\"2023-09-27T00:00:00\",\"2023-09-28T00:00:00\",\"2023-09-29T00:00:00\",\"2023-10-02T00:00:00\",\"2023-10-03T00:00:00\",\"2023-10-04T00:00:00\",\"2023-10-05T00:00:00\",\"2023-10-06T00:00:00\",\"2023-10-09T00:00:00\",\"2023-10-10T00:00:00\",\"2023-10-11T00:00:00\",\"2023-10-13T00:00:00\",\"2023-10-16T00:00:00\",\"2023-10-17T00:00:00\",\"2023-10-18T00:00:00\",\"2023-10-19T00:00:00\",\"2023-10-20T00:00:00\",\"2023-10-23T00:00:00\",\"2023-10-24T00:00:00\",\"2023-10-25T00:00:00\",\"2023-10-26T00:00:00\",\"2023-10-27T00:00:00\",\"2023-10-30T00:00:00\",\"2023-10-31T00:00:00\",\"2023-11-01T00:00:00\",\"2023-11-03T00:00:00\",\"2023-11-06T00:00:00\",\"2023-11-07T00:00:00\",\"2023-11-08T00:00:00\",\"2023-11-09T00:00:00\",\"2023-11-10T00:00:00\",\"2023-11-13T00:00:00\",\"2023-11-14T00:00:00\",\"2023-11-16T00:00:00\",\"2023-11-17T00:00:00\",\"2023-11-20T00:00:00\",\"2023-11-21T00:00:00\",\"2023-11-22T00:00:00\",\"2023-11-23T00:00:00\",\"2023-11-24T00:00:00\",\"2023-11-27T00:00:00\",\"2023-11-28T00:00:00\",\"2023-11-29T00:00:00\",\"2023-11-30T00:00:00\",\"2023-12-01T00:00:00\",\"2023-12-04T00:00:00\",\"2023-12-05T00:00:00\",\"2023-12-06T00:00:00\",\"2023-12-07T00:00:00\",\"2023-12-08T00:00:00\",\"2023-12-11T00:00:00\",\"2023-12-12T00:00:00\",\"2023-12-13T00:00:00\",\"2023-12-14T00:00:00\",\"2023-12-15T00:00:00\",\"2023-12-18T00:00:00\",\"2023-12-19T00:00:00\",\"2023-12-20T00:00:00\",\"2023-12-21T00:00:00\",\"2023-12-22T00:00:00\",\"2023-12-26T00:00:00\",\"2023-12-27T00:00:00\",\"2023-12-28T00:00:00\",\"2024-01-02T00:00:00\",\"2024-01-03T00:00:00\",\"2024-01-04T00:00:00\",\"2024-01-05T00:00:00\",\"2024-01-08T00:00:00\",\"2024-01-09T00:00:00\",\"2024-01-10T00:00:00\",\"2024-01-11T00:00:00\",\"2024-01-12T00:00:00\",\"2024-01-15T00:00:00\",\"2024-01-16T00:00:00\",\"2024-01-17T00:00:00\",\"2024-01-18T00:00:00\",\"2024-01-19T00:00:00\",\"2024-01-22T00:00:00\",\"2024-01-23T00:00:00\",\"2024-01-24T00:00:00\",\"2024-01-25T00:00:00\",\"2024-01-26T00:00:00\",\"2024-01-29T00:00:00\",\"2024-01-30T00:00:00\",\"2024-01-31T00:00:00\",\"2024-02-01T00:00:00\",\"2024-02-02T00:00:00\",\"2024-02-05T00:00:00\",\"2024-02-06T00:00:00\",\"2024-02-07T00:00:00\",\"2024-02-08T00:00:00\",\"2024-02-09T00:00:00\",\"2024-02-14T00:00:00\",\"2024-02-15T00:00:00\",\"2024-02-16T00:00:00\",\"2024-02-19T00:00:00\",\"2024-02-20T00:00:00\",\"2024-02-21T00:00:00\",\"2024-02-22T00:00:00\",\"2024-02-23T00:00:00\",\"2024-02-26T00:00:00\",\"2024-02-27T00:00:00\",\"2024-02-28T00:00:00\",\"2024-02-29T00:00:00\",\"2024-03-01T00:00:00\",\"2024-03-04T00:00:00\",\"2024-03-05T00:00:00\",\"2024-03-06T00:00:00\",\"2024-03-07T00:00:00\",\"2024-03-08T00:00:00\",\"2024-03-11T00:00:00\",\"2024-03-12T00:00:00\",\"2024-03-13T00:00:00\",\"2024-03-14T00:00:00\",\"2024-03-15T00:00:00\",\"2024-03-18T00:00:00\",\"2024-03-19T00:00:00\",\"2024-03-20T00:00:00\",\"2024-03-21T00:00:00\"],\"y\":[null,100.0,100.0,100.0,50.33,83.57,36.85,24.28,20.86,8.670000000000002,80.25,43.95,84.36,90.08,93.26,96.06,50.18,47.12,21.200000000000003,23.980000000000004,19.790000000000006,74.13,28.72,67.1,70.3,14.099999999999994,11.799999999999997,7.430000000000007,1.0999999999999943,0.5600000000000023,47.33,41.86,74.66,81.4,90.73,95.63,7.810000000000002,8.650000000000006,6.530000000000001,2.3599999999999994,1.2900000000000063,7.280000000000001,4.420000000000002,75.78,88.44,90.48,94.54,33.81,9.829999999999998,5.569999999999993,52.64,57.18,47.98,47.98,74.37,18.39,7.730000000000004,5.439999999999998,31.010000000000005,12.89,4.609999999999999,4.079999999999998,57.42,71.72,92.33,12.329999999999998,51.25,74.76,83.59,81.22,96.38,97.13,68.64,30.89,45.32,22.950000000000003,14.680000000000007,3.4599999999999937,2.5799999999999983,1.0799999999999983,18.370000000000005,4.530000000000001,21.439999999999998,83.48,91.8,96.34,55.4,72.76,24.540000000000006,62.28,45.29,63.75,66.94,75.53999999999999,92.95,98.94,67.06,75.37,82.57,92.82,97.24,51.09,48.97,4.060000000000002,27.159999999999997,28.72,45.16,75.66,88.47,88.47,97.96,99.05,50.69,19.959999999999994,72.61,83.97,73.52,37.62,42.5,90.91,93.49,84.5,35.05,26.569999999999993,71.9,36.17,84.91,37.04,35.239999999999995,73.17,40.47,15.510000000000005,52.75,18.33,72.26,75.77,84.56,41.29,61.16,30.75,13.319999999999993,43.87,12.040000000000006,61.04,49.68,78.14,69.7,17.310000000000002,13.450000000000003,29.209999999999994,13.379999999999995,42.26,8.090000000000003,2.989999999999995,41.61,78.42,87.1,93.77,95.62,95.62,14.790000000000006,14.790000000000006,49.17,80.03999999999999,94.44,45.85,65.53999999999999,52.24,71.84,80.95,29.36,12.540000000000006,44.4,12.260000000000005,7.640000000000001,2.5400000000000063,2.010000000000005,1.230000000000004,1.0900000000000034,82.95,83.6,89.28999999999999,91.74,26.64,88.23,94.71,97.57,99.18,73.59,73.59,86.7,93.9,47.03,75.61,87.55,54.31,79.37,33.47,20.700000000000003,13.170000000000002,5.790000000000006,36.35,55.57,90.18,46.61,82.08,92.69,94.88,96.01,57.82,20.730000000000004,6.140000000000001,5.969999999999999,68.36,34.91,74.78,78.53999999999999,37.54,80.38,94.88,96.65,25.930000000000007,17.189999999999998,31.58,42.92,17.519999999999996,39.88,77.53999999999999,43.71,80.66,42.8,46.06,70.03,90.51,49.08,17.340000000000003,16.819999999999993,12.950000000000003,5.239999999999995,61.92,37.35,51.38,78.22,48.82,86.81,93.51,87.93,16.230000000000004,14.329999999999998,2.0999999999999943],\"type\":\"scatter\",\"xaxis\":\"x2\",\"yaxis\":\"y2\"},{\"line\":{\"color\":\"red\",\"dash\":\"dot\",\"width\":4},\"mode\":\"lines\",\"name\":\"ifr2=5\",\"x\":[\"2023-03-21T00:00:00\",\"2023-03-22T00:00:00\",\"2023-03-23T00:00:00\",\"2023-03-24T00:00:00\",\"2023-03-27T00:00:00\",\"2023-03-28T00:00:00\",\"2023-03-29T00:00:00\",\"2023-03-30T00:00:00\",\"2023-03-31T00:00:00\",\"2023-04-03T00:00:00\",\"2023-04-04T00:00:00\",\"2023-04-05T00:00:00\",\"2023-04-06T00:00:00\",\"2023-04-10T00:00:00\",\"2023-04-11T00:00:00\",\"2023-04-12T00:00:00\",\"2023-04-13T00:00:00\",\"2023-04-14T00:00:00\",\"2023-04-17T00:00:00\",\"2023-04-18T00:00:00\",\"2023-04-19T00:00:00\",\"2023-04-20T00:00:00\",\"2023-04-24T00:00:00\",\"2023-04-25T00:00:00\",\"2023-04-26T00:00:00\",\"2023-04-27T00:00:00\",\"2023-04-28T00:00:00\",\"2023-05-02T00:00:00\",\"2023-05-03T00:00:00\",\"2023-05-04T00:00:00\",\"2023-05-05T00:00:00\",\"2023-05-08T00:00:00\",\"2023-05-09T00:00:00\",\"2023-05-10T00:00:00\",\"2023-05-11T00:00:00\",\"2023-05-12T00:00:00\",\"2023-05-15T00:00:00\",\"2023-05-16T00:00:00\",\"2023-05-17T00:00:00\",\"2023-05-18T00:00:00\",\"2023-05-19T00:00:00\",\"2023-05-22T00:00:00\",\"2023-05-23T00:00:00\",\"2023-05-24T00:00:00\",\"2023-05-25T00:00:00\",\"2023-05-26T00:00:00\",\"2023-05-29T00:00:00\",\"2023-05-30T00:00:00\",\"2023-05-31T00:00:00\",\"2023-06-01T00:00:00\",\"2023-06-02T00:00:00\",\"2023-06-05T00:00:00\",\"2023-06-06T00:00:00\",\"2023-06-07T00:00:00\",\"2023-06-09T00:00:00\",\"2023-06-12T00:00:00\",\"2023-06-13T00:00:00\",\"2023-06-14T00:00:00\",\"2023-06-15T00:00:00\",\"2023-06-16T00:00:00\",\"2023-06-19T00:00:00\",\"2023-06-20T00:00:00\",\"2023-06-21T00:00:00\",\"2023-06-22T00:00:00\",\"2023-06-23T00:00:00\",\"2023-06-26T00:00:00\",\"2023-06-27T00:00:00\",\"2023-06-28T00:00:00\",\"2023-06-29T00:00:00\",\"2023-06-30T00:00:00\",\"2023-07-03T00:00:00\",\"2023-07-04T00:00:00\",\"2023-07-05T00:00:00\",\"2023-07-06T00:00:00\",\"2023-07-07T00:00:00\",\"2023-07-10T00:00:00\",\"2023-07-11T00:00:00\",\"2023-07-12T00:00:00\",\"2023-07-13T00:00:00\",\"2023-07-14T00:00:00\",\"2023-07-17T00:00:00\",\"2023-07-18T00:00:00\",\"2023-07-19T00:00:00\",\"2023-07-20T00:00:00\",\"2023-07-21T00:00:00\",\"2023-07-24T00:00:00\",\"2023-07-25T00:00:00\",\"2023-07-26T00:00:00\",\"2023-07-27T00:00:00\",\"2023-07-28T00:00:00\",\"2023-07-31T00:00:00\",\"2023-08-01T00:00:00\",\"2023-08-02T00:00:00\",\"2023-08-03T00:00:00\",\"2023-08-04T00:00:00\",\"2023-08-07T00:00:00\",\"2023-08-08T00:00:00\",\"2023-08-09T00:00:00\",\"2023-08-10T00:00:00\",\"2023-08-11T00:00:00\",\"2023-08-14T00:00:00\",\"2023-08-15T00:00:00\",\"2023-08-16T00:00:00\",\"2023-08-17T00:00:00\",\"2023-08-18T00:00:00\",\"2023-08-21T00:00:00\",\"2023-08-22T00:00:00\",\"2023-08-23T00:00:00\",\"2023-08-24T00:00:00\",\"2023-08-25T00:00:00\",\"2023-08-28T00:00:00\",\"2023-08-29T00:00:00\",\"2023-08-30T00:00:00\",\"2023-08-31T00:00:00\",\"2023-09-01T00:00:00\",\"2023-09-04T00:00:00\",\"2023-09-05T00:00:00\",\"2023-09-06T00:00:00\",\"2023-09-08T00:00:00\",\"2023-09-11T00:00:00\",\"2023-09-12T00:00:00\",\"2023-09-13T00:00:00\",\"2023-09-14T00:00:00\",\"2023-09-15T00:00:00\",\"2023-09-18T00:00:00\",\"2023-09-19T00:00:00\",\"2023-09-20T00:00:00\",\"2023-09-21T00:00:00\",\"2023-09-22T00:00:00\",\"2023-09-25T00:00:00\",\"2023-09-26T00:00:00\",\"2023-09-27T00:00:00\",\"2023-09-28T00:00:00\",\"2023-09-29T00:00:00\",\"2023-10-02T00:00:00\",\"2023-10-03T00:00:00\",\"2023-10-04T00:00:00\",\"2023-10-05T00:00:00\",\"2023-10-06T00:00:00\",\"2023-10-09T00:00:00\",\"2023-10-10T00:00:00\",\"2023-10-11T00:00:00\",\"2023-10-13T00:00:00\",\"2023-10-16T00:00:00\",\"2023-10-17T00:00:00\",\"2023-10-18T00:00:00\",\"2023-10-19T00:00:00\",\"2023-10-20T00:00:00\",\"2023-10-23T00:00:00\",\"2023-10-24T00:00:00\",\"2023-10-25T00:00:00\",\"2023-10-26T00:00:00\",\"2023-10-27T00:00:00\",\"2023-10-30T00:00:00\",\"2023-10-31T00:00:00\",\"2023-11-01T00:00:00\",\"2023-11-03T00:00:00\",\"2023-11-06T00:00:00\",\"2023-11-07T00:00:00\",\"2023-11-08T00:00:00\",\"2023-11-09T00:00:00\",\"2023-11-10T00:00:00\",\"2023-11-13T00:00:00\",\"2023-11-14T00:00:00\",\"2023-11-16T00:00:00\",\"2023-11-17T00:00:00\",\"2023-11-20T00:00:00\",\"2023-11-21T00:00:00\",\"2023-11-22T00:00:00\",\"2023-11-23T00:00:00\",\"2023-11-24T00:00:00\",\"2023-11-27T00:00:00\",\"2023-11-28T00:00:00\",\"2023-11-29T00:00:00\",\"2023-11-30T00:00:00\",\"2023-12-01T00:00:00\",\"2023-12-04T00:00:00\",\"2023-12-05T00:00:00\",\"2023-12-06T00:00:00\",\"2023-12-07T00:00:00\",\"2023-12-08T00:00:00\",\"2023-12-11T00:00:00\",\"2023-12-12T00:00:00\",\"2023-12-13T00:00:00\",\"2023-12-14T00:00:00\",\"2023-12-15T00:00:00\",\"2023-12-18T00:00:00\",\"2023-12-19T00:00:00\",\"2023-12-20T00:00:00\",\"2023-12-21T00:00:00\",\"2023-12-22T00:00:00\",\"2023-12-26T00:00:00\",\"2023-12-27T00:00:00\",\"2023-12-28T00:00:00\",\"2024-01-02T00:00:00\",\"2024-01-03T00:00:00\",\"2024-01-04T00:00:00\",\"2024-01-05T00:00:00\",\"2024-01-08T00:00:00\",\"2024-01-09T00:00:00\",\"2024-01-10T00:00:00\",\"2024-01-11T00:00:00\",\"2024-01-12T00:00:00\",\"2024-01-15T00:00:00\",\"2024-01-16T00:00:00\",\"2024-01-17T00:00:00\",\"2024-01-18T00:00:00\",\"2024-01-19T00:00:00\",\"2024-01-22T00:00:00\",\"2024-01-23T00:00:00\",\"2024-01-24T00:00:00\",\"2024-01-25T00:00:00\",\"2024-01-26T00:00:00\",\"2024-01-29T00:00:00\",\"2024-01-30T00:00:00\",\"2024-01-31T00:00:00\",\"2024-02-01T00:00:00\",\"2024-02-02T00:00:00\",\"2024-02-05T00:00:00\",\"2024-02-06T00:00:00\",\"2024-02-07T00:00:00\",\"2024-02-08T00:00:00\",\"2024-02-09T00:00:00\",\"2024-02-14T00:00:00\",\"2024-02-15T00:00:00\",\"2024-02-16T00:00:00\",\"2024-02-19T00:00:00\",\"2024-02-20T00:00:00\",\"2024-02-21T00:00:00\",\"2024-02-22T00:00:00\",\"2024-02-23T00:00:00\",\"2024-02-26T00:00:00\",\"2024-02-27T00:00:00\",\"2024-02-28T00:00:00\",\"2024-02-29T00:00:00\",\"2024-03-01T00:00:00\",\"2024-03-04T00:00:00\",\"2024-03-05T00:00:00\",\"2024-03-06T00:00:00\",\"2024-03-07T00:00:00\",\"2024-03-08T00:00:00\",\"2024-03-11T00:00:00\",\"2024-03-12T00:00:00\",\"2024-03-13T00:00:00\",\"2024-03-14T00:00:00\",\"2024-03-15T00:00:00\",\"2024-03-18T00:00:00\",\"2024-03-19T00:00:00\",\"2024-03-20T00:00:00\",\"2024-03-21T00:00:00\"],\"y\":[5,5,5,5,5,5,5,5,5,5,5,5,5,5,5,5,5,5,5,5,5,5,5,5,5,5,5,5,5,5,5,5,5,5,5,5,5,5,5,5,5,5,5,5,5,5,5,5,5,5,5,5,5,5,5,5,5,5,5,5,5,5,5,5,5,5,5,5,5,5,5,5,5,5,5,5,5,5,5,5,5,5,5,5,5,5,5,5,5,5,5,5,5,5,5,5,5,5,5,5,5,5,5,5,5,5,5,5,5,5,5,5,5,5,5,5,5,5,5,5,5,5,5,5,5,5,5,5,5,5,5,5,5,5,5,5,5,5,5,5,5,5,5,5,5,5,5,5,5,5,5,5,5,5,5,5,5,5,5,5,5,5,5,5,5,5,5,5,5,5,5,5,5,5,5,5,5,5,5,5,5,5,5,5,5,5,5,5,5,5,5,5,5,5,5,5,5,5,5,5,5,5,5,5,5,5,5,5,5,5,5,5,5,5,5,5,5,5,5,5,5,5,5,5,5,5,5,5,5,5,5,5,5,5,5,5,5,5,5,5,5,5,5,5,5,5,5,5,5,5],\"type\":\"scatter\",\"xaxis\":\"x2\",\"yaxis\":\"y2\"},{\"mode\":\"lines\",\"name\":\"posi\\u00e7\\u00e3o\",\"x\":[\"2023-03-21T00:00:00\",\"2023-03-22T00:00:00\",\"2023-03-23T00:00:00\",\"2023-03-24T00:00:00\",\"2023-03-27T00:00:00\",\"2023-03-28T00:00:00\",\"2023-03-29T00:00:00\",\"2023-03-30T00:00:00\",\"2023-03-31T00:00:00\",\"2023-04-03T00:00:00\",\"2023-04-04T00:00:00\",\"2023-04-05T00:00:00\",\"2023-04-06T00:00:00\",\"2023-04-10T00:00:00\",\"2023-04-11T00:00:00\",\"2023-04-12T00:00:00\",\"2023-04-13T00:00:00\",\"2023-04-14T00:00:00\",\"2023-04-17T00:00:00\",\"2023-04-18T00:00:00\",\"2023-04-19T00:00:00\",\"2023-04-20T00:00:00\",\"2023-04-24T00:00:00\",\"2023-04-25T00:00:00\",\"2023-04-26T00:00:00\",\"2023-04-27T00:00:00\",\"2023-04-28T00:00:00\",\"2023-05-02T00:00:00\",\"2023-05-03T00:00:00\",\"2023-05-04T00:00:00\",\"2023-05-05T00:00:00\",\"2023-05-08T00:00:00\",\"2023-05-09T00:00:00\",\"2023-05-10T00:00:00\",\"2023-05-11T00:00:00\",\"2023-05-12T00:00:00\",\"2023-05-15T00:00:00\",\"2023-05-16T00:00:00\",\"2023-05-17T00:00:00\",\"2023-05-18T00:00:00\",\"2023-05-19T00:00:00\",\"2023-05-22T00:00:00\",\"2023-05-23T00:00:00\",\"2023-05-24T00:00:00\",\"2023-05-25T00:00:00\",\"2023-05-26T00:00:00\",\"2023-05-29T00:00:00\",\"2023-05-30T00:00:00\",\"2023-05-31T00:00:00\",\"2023-06-01T00:00:00\",\"2023-06-02T00:00:00\",\"2023-06-05T00:00:00\",\"2023-06-06T00:00:00\",\"2023-06-07T00:00:00\",\"2023-06-09T00:00:00\",\"2023-06-12T00:00:00\",\"2023-06-13T00:00:00\",\"2023-06-14T00:00:00\",\"2023-06-15T00:00:00\",\"2023-06-16T00:00:00\",\"2023-06-19T00:00:00\",\"2023-06-20T00:00:00\",\"2023-06-21T00:00:00\",\"2023-06-22T00:00:00\",\"2023-06-23T00:00:00\",\"2023-06-26T00:00:00\",\"2023-06-27T00:00:00\",\"2023-06-28T00:00:00\",\"2023-06-29T00:00:00\",\"2023-06-30T00:00:00\",\"2023-07-03T00:00:00\",\"2023-07-04T00:00:00\",\"2023-07-05T00:00:00\",\"2023-07-06T00:00:00\",\"2023-07-07T00:00:00\",\"2023-07-10T00:00:00\",\"2023-07-11T00:00:00\",\"2023-07-12T00:00:00\",\"2023-07-13T00:00:00\",\"2023-07-14T00:00:00\",\"2023-07-17T00:00:00\",\"2023-07-18T00:00:00\",\"2023-07-19T00:00:00\",\"2023-07-20T00:00:00\",\"2023-07-21T00:00:00\",\"2023-07-24T00:00:00\",\"2023-07-25T00:00:00\",\"2023-07-26T00:00:00\",\"2023-07-27T00:00:00\",\"2023-07-28T00:00:00\",\"2023-07-31T00:00:00\",\"2023-08-01T00:00:00\",\"2023-08-02T00:00:00\",\"2023-08-03T00:00:00\",\"2023-08-04T00:00:00\",\"2023-08-07T00:00:00\",\"2023-08-08T00:00:00\",\"2023-08-09T00:00:00\",\"2023-08-10T00:00:00\",\"2023-08-11T00:00:00\",\"2023-08-14T00:00:00\",\"2023-08-15T00:00:00\",\"2023-08-16T00:00:00\",\"2023-08-17T00:00:00\",\"2023-08-18T00:00:00\",\"2023-08-21T00:00:00\",\"2023-08-22T00:00:00\",\"2023-08-23T00:00:00\",\"2023-08-24T00:00:00\",\"2023-08-25T00:00:00\",\"2023-08-28T00:00:00\",\"2023-08-29T00:00:00\",\"2023-08-30T00:00:00\",\"2023-08-31T00:00:00\",\"2023-09-01T00:00:00\",\"2023-09-04T00:00:00\",\"2023-09-05T00:00:00\",\"2023-09-06T00:00:00\",\"2023-09-08T00:00:00\",\"2023-09-11T00:00:00\",\"2023-09-12T00:00:00\",\"2023-09-13T00:00:00\",\"2023-09-14T00:00:00\",\"2023-09-15T00:00:00\",\"2023-09-18T00:00:00\",\"2023-09-19T00:00:00\",\"2023-09-20T00:00:00\",\"2023-09-21T00:00:00\",\"2023-09-22T00:00:00\",\"2023-09-25T00:00:00\",\"2023-09-26T00:00:00\",\"2023-09-27T00:00:00\",\"2023-09-28T00:00:00\",\"2023-09-29T00:00:00\",\"2023-10-02T00:00:00\",\"2023-10-03T00:00:00\",\"2023-10-04T00:00:00\",\"2023-10-05T00:00:00\",\"2023-10-06T00:00:00\",\"2023-10-09T00:00:00\",\"2023-10-10T00:00:00\",\"2023-10-11T00:00:00\",\"2023-10-13T00:00:00\",\"2023-10-16T00:00:00\",\"2023-10-17T00:00:00\",\"2023-10-18T00:00:00\",\"2023-10-19T00:00:00\",\"2023-10-20T00:00:00\",\"2023-10-23T00:00:00\",\"2023-10-24T00:00:00\",\"2023-10-25T00:00:00\",\"2023-10-26T00:00:00\",\"2023-10-27T00:00:00\",\"2023-10-30T00:00:00\",\"2023-10-31T00:00:00\",\"2023-11-01T00:00:00\",\"2023-11-03T00:00:00\",\"2023-11-06T00:00:00\",\"2023-11-07T00:00:00\",\"2023-11-08T00:00:00\",\"2023-11-09T00:00:00\",\"2023-11-10T00:00:00\",\"2023-11-13T00:00:00\",\"2023-11-14T00:00:00\",\"2023-11-16T00:00:00\",\"2023-11-17T00:00:00\",\"2023-11-20T00:00:00\",\"2023-11-21T00:00:00\",\"2023-11-22T00:00:00\",\"2023-11-23T00:00:00\",\"2023-11-24T00:00:00\",\"2023-11-27T00:00:00\",\"2023-11-28T00:00:00\",\"2023-11-29T00:00:00\",\"2023-11-30T00:00:00\",\"2023-12-01T00:00:00\",\"2023-12-04T00:00:00\",\"2023-12-05T00:00:00\",\"2023-12-06T00:00:00\",\"2023-12-07T00:00:00\",\"2023-12-08T00:00:00\",\"2023-12-11T00:00:00\",\"2023-12-12T00:00:00\",\"2023-12-13T00:00:00\",\"2023-12-14T00:00:00\",\"2023-12-15T00:00:00\",\"2023-12-18T00:00:00\",\"2023-12-19T00:00:00\",\"2023-12-20T00:00:00\",\"2023-12-21T00:00:00\",\"2023-12-22T00:00:00\",\"2023-12-26T00:00:00\",\"2023-12-27T00:00:00\",\"2023-12-28T00:00:00\",\"2024-01-02T00:00:00\",\"2024-01-03T00:00:00\",\"2024-01-04T00:00:00\",\"2024-01-05T00:00:00\",\"2024-01-08T00:00:00\",\"2024-01-09T00:00:00\",\"2024-01-10T00:00:00\",\"2024-01-11T00:00:00\",\"2024-01-12T00:00:00\",\"2024-01-15T00:00:00\",\"2024-01-16T00:00:00\",\"2024-01-17T00:00:00\",\"2024-01-18T00:00:00\",\"2024-01-19T00:00:00\",\"2024-01-22T00:00:00\",\"2024-01-23T00:00:00\",\"2024-01-24T00:00:00\",\"2024-01-25T00:00:00\",\"2024-01-26T00:00:00\",\"2024-01-29T00:00:00\",\"2024-01-30T00:00:00\",\"2024-01-31T00:00:00\",\"2024-02-01T00:00:00\",\"2024-02-02T00:00:00\",\"2024-02-05T00:00:00\",\"2024-02-06T00:00:00\",\"2024-02-07T00:00:00\",\"2024-02-08T00:00:00\",\"2024-02-09T00:00:00\",\"2024-02-14T00:00:00\",\"2024-02-15T00:00:00\",\"2024-02-16T00:00:00\",\"2024-02-19T00:00:00\",\"2024-02-20T00:00:00\",\"2024-02-21T00:00:00\",\"2024-02-22T00:00:00\",\"2024-02-23T00:00:00\",\"2024-02-26T00:00:00\",\"2024-02-27T00:00:00\",\"2024-02-28T00:00:00\",\"2024-02-29T00:00:00\",\"2024-03-01T00:00:00\",\"2024-03-04T00:00:00\",\"2024-03-05T00:00:00\",\"2024-03-06T00:00:00\",\"2024-03-07T00:00:00\",\"2024-03-08T00:00:00\",\"2024-03-11T00:00:00\",\"2024-03-12T00:00:00\",\"2024-03-13T00:00:00\",\"2024-03-14T00:00:00\",\"2024-03-15T00:00:00\",\"2024-03-18T00:00:00\",\"2024-03-19T00:00:00\",\"2024-03-20T00:00:00\",\"2024-03-21T00:00:00\"],\"y\":[0.0,0.0,0.0,0.0,0.0,0.0,0.0,0.0,0.0,0.0,0.0,0.0,0.0,0.0,0.0,0.0,0.0,0.0,0.0,0.0,0.0,0.0,0.0,0.0,0.0,0.0,0.0,0.0,0.0,1.0,1.0,1.0,1.0,0.0,0.0,0.0,0.0,0.0,0.0,0.0,1.0,1.0,1.0,1.0,0.0,0.0,0.0,0.0,0.0,0.0,0.0,0.0,0.0,0.0,0.0,0.0,0.0,0.0,0.0,0.0,0.0,1.0,1.0,1.0,0.0,0.0,0.0,0.0,0.0,0.0,0.0,0.0,0.0,0.0,0.0,0.0,0.0,0.0,1.0,1.0,1.0,1.0,1.0,1.0,0.0,0.0,0.0,0.0,0.0,0.0,0.0,0.0,0.0,0.0,0.0,0.0,0.0,0.0,0.0,0.0,0.0,0.0,0.0,0.0,1.0,1.0,1.0,1.0,0.0,0.0,0.0,0.0,0.0,0.0,0.0,0.0,0.0,0.0,0.0,0.0,0.0,0.0,0.0,0.0,0.0,0.0,0.0,0.0,0.0,0.0,0.0,0.0,0.0,0.0,0.0,0.0,0.0,0.0,0.0,0.0,0.0,0.0,0.0,0.0,0.0,0.0,0.0,0.0,0.0,0.0,0.0,0.0,0.0,0.0,1.0,1.0,0.0,0.0,0.0,0.0,0.0,0.0,0.0,0.0,0.0,0.0,0.0,0.0,0.0,0.0,0.0,0.0,0.0,0.0,0.0,0.0,1.0,1.0,1.0,1.0,0.0,0.0,0.0,0.0,0.0,0.0,0.0,0.0,0.0,0.0,0.0,0.0,0.0,0.0,0.0,0.0,0.0,0.0,0.0,0.0,0.0,0.0,0.0,0.0,0.0,0.0,0.0,0.0,0.0,0.0,0.0,0.0,0.0,0.0,0.0,0.0,0.0,0.0,0.0,0.0,0.0,0.0,0.0,0.0,0.0,0.0,0.0,0.0,0.0,0.0,0.0,0.0,0.0,0.0,0.0,0.0,0.0,0.0,0.0,0.0,0.0,0.0,0.0,0.0,0.0,0.0,0.0,0.0,0.0,0.0],\"type\":\"scatter\",\"xaxis\":\"x3\",\"yaxis\":\"y3\"}],                        {\"template\":{\"data\":{\"histogram2dcontour\":[{\"type\":\"histogram2dcontour\",\"colorbar\":{\"outlinewidth\":0,\"ticks\":\"\"},\"colorscale\":[[0.0,\"#0d0887\"],[0.1111111111111111,\"#46039f\"],[0.2222222222222222,\"#7201a8\"],[0.3333333333333333,\"#9c179e\"],[0.4444444444444444,\"#bd3786\"],[0.5555555555555556,\"#d8576b\"],[0.6666666666666666,\"#ed7953\"],[0.7777777777777778,\"#fb9f3a\"],[0.8888888888888888,\"#fdca26\"],[1.0,\"#f0f921\"]]}],\"choropleth\":[{\"type\":\"choropleth\",\"colorbar\":{\"outlinewidth\":0,\"ticks\":\"\"}}],\"histogram2d\":[{\"type\":\"histogram2d\",\"colorbar\":{\"outlinewidth\":0,\"ticks\":\"\"},\"colorscale\":[[0.0,\"#0d0887\"],[0.1111111111111111,\"#46039f\"],[0.2222222222222222,\"#7201a8\"],[0.3333333333333333,\"#9c179e\"],[0.4444444444444444,\"#bd3786\"],[0.5555555555555556,\"#d8576b\"],[0.6666666666666666,\"#ed7953\"],[0.7777777777777778,\"#fb9f3a\"],[0.8888888888888888,\"#fdca26\"],[1.0,\"#f0f921\"]]}],\"heatmap\":[{\"type\":\"heatmap\",\"colorbar\":{\"outlinewidth\":0,\"ticks\":\"\"},\"colorscale\":[[0.0,\"#0d0887\"],[0.1111111111111111,\"#46039f\"],[0.2222222222222222,\"#7201a8\"],[0.3333333333333333,\"#9c179e\"],[0.4444444444444444,\"#bd3786\"],[0.5555555555555556,\"#d8576b\"],[0.6666666666666666,\"#ed7953\"],[0.7777777777777778,\"#fb9f3a\"],[0.8888888888888888,\"#fdca26\"],[1.0,\"#f0f921\"]]}],\"heatmapgl\":[{\"type\":\"heatmapgl\",\"colorbar\":{\"outlinewidth\":0,\"ticks\":\"\"},\"colorscale\":[[0.0,\"#0d0887\"],[0.1111111111111111,\"#46039f\"],[0.2222222222222222,\"#7201a8\"],[0.3333333333333333,\"#9c179e\"],[0.4444444444444444,\"#bd3786\"],[0.5555555555555556,\"#d8576b\"],[0.6666666666666666,\"#ed7953\"],[0.7777777777777778,\"#fb9f3a\"],[0.8888888888888888,\"#fdca26\"],[1.0,\"#f0f921\"]]}],\"contourcarpet\":[{\"type\":\"contourcarpet\",\"colorbar\":{\"outlinewidth\":0,\"ticks\":\"\"}}],\"contour\":[{\"type\":\"contour\",\"colorbar\":{\"outlinewidth\":0,\"ticks\":\"\"},\"colorscale\":[[0.0,\"#0d0887\"],[0.1111111111111111,\"#46039f\"],[0.2222222222222222,\"#7201a8\"],[0.3333333333333333,\"#9c179e\"],[0.4444444444444444,\"#bd3786\"],[0.5555555555555556,\"#d8576b\"],[0.6666666666666666,\"#ed7953\"],[0.7777777777777778,\"#fb9f3a\"],[0.8888888888888888,\"#fdca26\"],[1.0,\"#f0f921\"]]}],\"surface\":[{\"type\":\"surface\",\"colorbar\":{\"outlinewidth\":0,\"ticks\":\"\"},\"colorscale\":[[0.0,\"#0d0887\"],[0.1111111111111111,\"#46039f\"],[0.2222222222222222,\"#7201a8\"],[0.3333333333333333,\"#9c179e\"],[0.4444444444444444,\"#bd3786\"],[0.5555555555555556,\"#d8576b\"],[0.6666666666666666,\"#ed7953\"],[0.7777777777777778,\"#fb9f3a\"],[0.8888888888888888,\"#fdca26\"],[1.0,\"#f0f921\"]]}],\"mesh3d\":[{\"type\":\"mesh3d\",\"colorbar\":{\"outlinewidth\":0,\"ticks\":\"\"}}],\"scatter\":[{\"fillpattern\":{\"fillmode\":\"overlay\",\"size\":10,\"solidity\":0.2},\"type\":\"scatter\"}],\"parcoords\":[{\"type\":\"parcoords\",\"line\":{\"colorbar\":{\"outlinewidth\":0,\"ticks\":\"\"}}}],\"scatterpolargl\":[{\"type\":\"scatterpolargl\",\"marker\":{\"colorbar\":{\"outlinewidth\":0,\"ticks\":\"\"}}}],\"bar\":[{\"error_x\":{\"color\":\"#2a3f5f\"},\"error_y\":{\"color\":\"#2a3f5f\"},\"marker\":{\"line\":{\"color\":\"#E5ECF6\",\"width\":0.5},\"pattern\":{\"fillmode\":\"overlay\",\"size\":10,\"solidity\":0.2}},\"type\":\"bar\"}],\"scattergeo\":[{\"type\":\"scattergeo\",\"marker\":{\"colorbar\":{\"outlinewidth\":0,\"ticks\":\"\"}}}],\"scatterpolar\":[{\"type\":\"scatterpolar\",\"marker\":{\"colorbar\":{\"outlinewidth\":0,\"ticks\":\"\"}}}],\"histogram\":[{\"marker\":{\"pattern\":{\"fillmode\":\"overlay\",\"size\":10,\"solidity\":0.2}},\"type\":\"histogram\"}],\"scattergl\":[{\"type\":\"scattergl\",\"marker\":{\"colorbar\":{\"outlinewidth\":0,\"ticks\":\"\"}}}],\"scatter3d\":[{\"type\":\"scatter3d\",\"line\":{\"colorbar\":{\"outlinewidth\":0,\"ticks\":\"\"}},\"marker\":{\"colorbar\":{\"outlinewidth\":0,\"ticks\":\"\"}}}],\"scattermapbox\":[{\"type\":\"scattermapbox\",\"marker\":{\"colorbar\":{\"outlinewidth\":0,\"ticks\":\"\"}}}],\"scatterternary\":[{\"type\":\"scatterternary\",\"marker\":{\"colorbar\":{\"outlinewidth\":0,\"ticks\":\"\"}}}],\"scattercarpet\":[{\"type\":\"scattercarpet\",\"marker\":{\"colorbar\":{\"outlinewidth\":0,\"ticks\":\"\"}}}],\"carpet\":[{\"aaxis\":{\"endlinecolor\":\"#2a3f5f\",\"gridcolor\":\"white\",\"linecolor\":\"white\",\"minorgridcolor\":\"white\",\"startlinecolor\":\"#2a3f5f\"},\"baxis\":{\"endlinecolor\":\"#2a3f5f\",\"gridcolor\":\"white\",\"linecolor\":\"white\",\"minorgridcolor\":\"white\",\"startlinecolor\":\"#2a3f5f\"},\"type\":\"carpet\"}],\"table\":[{\"cells\":{\"fill\":{\"color\":\"#EBF0F8\"},\"line\":{\"color\":\"white\"}},\"header\":{\"fill\":{\"color\":\"#C8D4E3\"},\"line\":{\"color\":\"white\"}},\"type\":\"table\"}],\"barpolar\":[{\"marker\":{\"line\":{\"color\":\"#E5ECF6\",\"width\":0.5},\"pattern\":{\"fillmode\":\"overlay\",\"size\":10,\"solidity\":0.2}},\"type\":\"barpolar\"}],\"pie\":[{\"automargin\":true,\"type\":\"pie\"}]},\"layout\":{\"autotypenumbers\":\"strict\",\"colorway\":[\"#636efa\",\"#EF553B\",\"#00cc96\",\"#ab63fa\",\"#FFA15A\",\"#19d3f3\",\"#FF6692\",\"#B6E880\",\"#FF97FF\",\"#FECB52\"],\"font\":{\"color\":\"#2a3f5f\"},\"hovermode\":\"closest\",\"hoverlabel\":{\"align\":\"left\"},\"paper_bgcolor\":\"white\",\"plot_bgcolor\":\"#E5ECF6\",\"polar\":{\"bgcolor\":\"#E5ECF6\",\"angularaxis\":{\"gridcolor\":\"white\",\"linecolor\":\"white\",\"ticks\":\"\"},\"radialaxis\":{\"gridcolor\":\"white\",\"linecolor\":\"white\",\"ticks\":\"\"}},\"ternary\":{\"bgcolor\":\"#E5ECF6\",\"aaxis\":{\"gridcolor\":\"white\",\"linecolor\":\"white\",\"ticks\":\"\"},\"baxis\":{\"gridcolor\":\"white\",\"linecolor\":\"white\",\"ticks\":\"\"},\"caxis\":{\"gridcolor\":\"white\",\"linecolor\":\"white\",\"ticks\":\"\"}},\"coloraxis\":{\"colorbar\":{\"outlinewidth\":0,\"ticks\":\"\"}},\"colorscale\":{\"sequential\":[[0.0,\"#0d0887\"],[0.1111111111111111,\"#46039f\"],[0.2222222222222222,\"#7201a8\"],[0.3333333333333333,\"#9c179e\"],[0.4444444444444444,\"#bd3786\"],[0.5555555555555556,\"#d8576b\"],[0.6666666666666666,\"#ed7953\"],[0.7777777777777778,\"#fb9f3a\"],[0.8888888888888888,\"#fdca26\"],[1.0,\"#f0f921\"]],\"sequentialminus\":[[0.0,\"#0d0887\"],[0.1111111111111111,\"#46039f\"],[0.2222222222222222,\"#7201a8\"],[0.3333333333333333,\"#9c179e\"],[0.4444444444444444,\"#bd3786\"],[0.5555555555555556,\"#d8576b\"],[0.6666666666666666,\"#ed7953\"],[0.7777777777777778,\"#fb9f3a\"],[0.8888888888888888,\"#fdca26\"],[1.0,\"#f0f921\"]],\"diverging\":[[0,\"#8e0152\"],[0.1,\"#c51b7d\"],[0.2,\"#de77ae\"],[0.3,\"#f1b6da\"],[0.4,\"#fde0ef\"],[0.5,\"#f7f7f7\"],[0.6,\"#e6f5d0\"],[0.7,\"#b8e186\"],[0.8,\"#7fbc41\"],[0.9,\"#4d9221\"],[1,\"#276419\"]]},\"xaxis\":{\"gridcolor\":\"white\",\"linecolor\":\"white\",\"ticks\":\"\",\"title\":{\"standoff\":15},\"zerolinecolor\":\"white\",\"automargin\":true,\"zerolinewidth\":2},\"yaxis\":{\"gridcolor\":\"white\",\"linecolor\":\"white\",\"ticks\":\"\",\"title\":{\"standoff\":15},\"zerolinecolor\":\"white\",\"automargin\":true,\"zerolinewidth\":2},\"scene\":{\"xaxis\":{\"backgroundcolor\":\"#E5ECF6\",\"gridcolor\":\"white\",\"linecolor\":\"white\",\"showbackground\":true,\"ticks\":\"\",\"zerolinecolor\":\"white\",\"gridwidth\":2},\"yaxis\":{\"backgroundcolor\":\"#E5ECF6\",\"gridcolor\":\"white\",\"linecolor\":\"white\",\"showbackground\":true,\"ticks\":\"\",\"zerolinecolor\":\"white\",\"gridwidth\":2},\"zaxis\":{\"backgroundcolor\":\"#E5ECF6\",\"gridcolor\":\"white\",\"linecolor\":\"white\",\"showbackground\":true,\"ticks\":\"\",\"zerolinecolor\":\"white\",\"gridwidth\":2}},\"shapedefaults\":{\"line\":{\"color\":\"#2a3f5f\"}},\"annotationdefaults\":{\"arrowcolor\":\"#2a3f5f\",\"arrowhead\":0,\"arrowwidth\":1},\"geo\":{\"bgcolor\":\"white\",\"landcolor\":\"#E5ECF6\",\"subunitcolor\":\"white\",\"showland\":true,\"showlakes\":true,\"lakecolor\":\"white\"},\"title\":{\"x\":0.05},\"mapbox\":{\"style\":\"light\"}}},\"xaxis\":{\"anchor\":\"y\",\"domain\":[0.0,1.0]},\"yaxis\":{\"anchor\":\"x\",\"domain\":[0.7333333333333333,1.0]},\"xaxis2\":{\"anchor\":\"y2\",\"domain\":[0.0,1.0]},\"yaxis2\":{\"anchor\":\"x2\",\"domain\":[0.36666666666666664,0.6333333333333333]},\"xaxis3\":{\"anchor\":\"y3\",\"domain\":[0.0,1.0]},\"yaxis3\":{\"anchor\":\"x3\",\"domain\":[0.0,0.26666666666666666]}},                        {\"responsive\": true}                    ).then(function(){\n",
              "                            \n",
              "var gd = document.getElementById('78251fb3-13e8-4ca7-8b6f-a3cec4d93325');\n",
              "var x = new MutationObserver(function (mutations, observer) {{\n",
              "        var display = window.getComputedStyle(gd).display;\n",
              "        if (!display || display === 'none') {{\n",
              "            console.log([gd, 'removed!']);\n",
              "            Plotly.purge(gd);\n",
              "            observer.disconnect();\n",
              "        }}\n",
              "}});\n",
              "\n",
              "// Listen for the removal of the full notebook cells\n",
              "var notebookContainer = gd.closest('#notebook-container');\n",
              "if (notebookContainer) {{\n",
              "    x.observe(notebookContainer, {childList: true});\n",
              "}}\n",
              "\n",
              "// Listen for the clearing of the current output cell\n",
              "var outputEl = gd.closest('.output');\n",
              "if (outputEl) {{\n",
              "    x.observe(outputEl, {childList: true});\n",
              "}}\n",
              "\n",
              "                        })                };                });            </script>        </div>"
            ]
          },
          "metadata": {},
          "output_type": "display_data"
        }
      ],
      "source": [
        "import plotly.graph_objects as go\n",
        "from plotly.subplots import make_subplots\n",
        "\n",
        "df['Close '+ativo].rolling(5).mean() \n",
        "\n",
        "\n",
        "fig = make_subplots(rows=3, cols=1) #go.Figure()\n",
        "fig.add_trace(go.Scatter(x = df.index , y = df['Close '+ativo].values , name=\"preço\"),1,1)\n",
        "fig.add_trace(go.Scatter(x = df.index , y =  df['Close '+ativo].rolling(5).mean(), mode='lines', \n",
        "                         line=dict(color='firebrick', width=2, dash='dot'), name=\"mma5\"),1,1)\n",
        "\n",
        "fig.add_trace(go.Scatter(x = df.loc[entra].index, y = df.loc[entra]['Close '+ativo] , mode='markers' ,name='Entrada',\n",
        "                             marker=dict(size=12, symbol=\"arrow\", angle=45, line=dict(width=2, color=\"DarkSlateGrey\"))\n",
        "                         ),1,1)\n",
        "fig.update_traces(\n",
        "    marker=dict(size=12, symbol=\"arrow\", angle=45, line=dict(width=2, color=\"DarkSlateGrey\")),\n",
        "    selector=dict(mode=\"markers\"),\n",
        ")\n",
        "fig.add_trace(go.Scatter(x = df.loc[sai].index, y = df.loc[sai]['Close '+ativo] , mode='markers' ,name='Saida',\n",
        "                         marker=dict(size=12, symbol=\"arrow\", angle=-135, line=dict(width=2, color=\"red\"))\n",
        "                         ),1,1)\n",
        "fig.add_trace(go.Scatter(x = df.index , y = IFR[ativo].values , name=\"ifr2\"),2,1)\n",
        "fig.add_trace(go.Scatter(x = df.index , y = [5]*len(df.index) , name=\"ifr2=5\", mode='lines', \n",
        "              line=dict(color='red', width=4, dash='dot')),2,1)\n",
        "\n",
        "fig.add_trace(go.Scatter(x =posicao.index , y = posicao['pos'] , mode='lines', name=\"posição\"),3,1)\n",
        "\n",
        "\n",
        "fig.show()"
      ]
    },
    {
      "cell_type": "code",
      "execution_count": 14,
      "metadata": {},
      "outputs": [
        {
          "data": {
            "application/vnd.plotly.v1+json": {
              "config": {
                "linkText": "Export to plot.ly",
                "plotlyServerURL": "https://plot.ly",
                "showLink": true
              },
              "data": [
                {
                  "line": {
                    "color": "rgba(255, 153, 51, 1.0)",
                    "dash": "solid",
                    "shape": "linear",
                    "width": 1.3
                  },
                  "mode": "lines",
                  "name": "retorno",
                  "text": "",
                  "type": "scatter",
                  "x": [
                    "2023-03-21",
                    "2023-03-22",
                    "2023-03-23",
                    "2023-03-24",
                    "2023-03-27",
                    "2023-03-28",
                    "2023-03-29",
                    "2023-03-30",
                    "2023-03-31",
                    "2023-04-03",
                    "2023-04-04",
                    "2023-04-05",
                    "2023-04-06",
                    "2023-04-10",
                    "2023-04-11",
                    "2023-04-12",
                    "2023-04-13",
                    "2023-04-14",
                    "2023-04-17",
                    "2023-04-18",
                    "2023-04-19",
                    "2023-04-20",
                    "2023-04-24",
                    "2023-04-25",
                    "2023-04-26",
                    "2023-04-27",
                    "2023-04-28",
                    "2023-05-02",
                    "2023-05-03",
                    "2023-05-04",
                    "2023-05-05",
                    "2023-05-08",
                    "2023-05-09",
                    "2023-05-10",
                    "2023-05-11",
                    "2023-05-12",
                    "2023-05-15",
                    "2023-05-16",
                    "2023-05-17",
                    "2023-05-18",
                    "2023-05-19",
                    "2023-05-22",
                    "2023-05-23",
                    "2023-05-24",
                    "2023-05-25",
                    "2023-05-26",
                    "2023-05-29",
                    "2023-05-30",
                    "2023-05-31",
                    "2023-06-01",
                    "2023-06-02",
                    "2023-06-05",
                    "2023-06-06",
                    "2023-06-07",
                    "2023-06-09",
                    "2023-06-12",
                    "2023-06-13",
                    "2023-06-14",
                    "2023-06-15",
                    "2023-06-16",
                    "2023-06-19",
                    "2023-06-20",
                    "2023-06-21",
                    "2023-06-22",
                    "2023-06-23",
                    "2023-06-26",
                    "2023-06-27",
                    "2023-06-28",
                    "2023-06-29",
                    "2023-06-30",
                    "2023-07-03",
                    "2023-07-04",
                    "2023-07-05",
                    "2023-07-06",
                    "2023-07-07",
                    "2023-07-10",
                    "2023-07-11",
                    "2023-07-12",
                    "2023-07-13",
                    "2023-07-14",
                    "2023-07-17",
                    "2023-07-18",
                    "2023-07-19",
                    "2023-07-20",
                    "2023-07-21",
                    "2023-07-24",
                    "2023-07-25",
                    "2023-07-26",
                    "2023-07-27",
                    "2023-07-28",
                    "2023-07-31",
                    "2023-08-01",
                    "2023-08-02",
                    "2023-08-03",
                    "2023-08-04",
                    "2023-08-07",
                    "2023-08-08",
                    "2023-08-09",
                    "2023-08-10",
                    "2023-08-11",
                    "2023-08-14",
                    "2023-08-15",
                    "2023-08-16",
                    "2023-08-17",
                    "2023-08-18",
                    "2023-08-21",
                    "2023-08-22",
                    "2023-08-23",
                    "2023-08-24",
                    "2023-08-25",
                    "2023-08-28",
                    "2023-08-29",
                    "2023-08-30",
                    "2023-08-31",
                    "2023-09-01",
                    "2023-09-04",
                    "2023-09-05",
                    "2023-09-06",
                    "2023-09-08",
                    "2023-09-11",
                    "2023-09-12",
                    "2023-09-13",
                    "2023-09-14",
                    "2023-09-15",
                    "2023-09-18",
                    "2023-09-19",
                    "2023-09-20",
                    "2023-09-21",
                    "2023-09-22",
                    "2023-09-25",
                    "2023-09-26",
                    "2023-09-27",
                    "2023-09-28",
                    "2023-09-29",
                    "2023-10-02",
                    "2023-10-03",
                    "2023-10-04",
                    "2023-10-05",
                    "2023-10-06",
                    "2023-10-09",
                    "2023-10-10",
                    "2023-10-11",
                    "2023-10-13",
                    "2023-10-16",
                    "2023-10-17",
                    "2023-10-18",
                    "2023-10-19",
                    "2023-10-20",
                    "2023-10-23",
                    "2023-10-24",
                    "2023-10-25",
                    "2023-10-26",
                    "2023-10-27",
                    "2023-10-30",
                    "2023-10-31",
                    "2023-11-01",
                    "2023-11-03",
                    "2023-11-06",
                    "2023-11-07",
                    "2023-11-08",
                    "2023-11-09",
                    "2023-11-10",
                    "2023-11-13",
                    "2023-11-14",
                    "2023-11-16",
                    "2023-11-17",
                    "2023-11-20",
                    "2023-11-21",
                    "2023-11-22",
                    "2023-11-23",
                    "2023-11-24",
                    "2023-11-27",
                    "2023-11-28",
                    "2023-11-29",
                    "2023-11-30",
                    "2023-12-01",
                    "2023-12-04",
                    "2023-12-05",
                    "2023-12-06",
                    "2023-12-07",
                    "2023-12-08",
                    "2023-12-11",
                    "2023-12-12",
                    "2023-12-13",
                    "2023-12-14",
                    "2023-12-15",
                    "2023-12-18",
                    "2023-12-19",
                    "2023-12-20",
                    "2023-12-21",
                    "2023-12-22",
                    "2023-12-26",
                    "2023-12-27",
                    "2023-12-28",
                    "2024-01-02",
                    "2024-01-03",
                    "2024-01-04",
                    "2024-01-05",
                    "2024-01-08",
                    "2024-01-09",
                    "2024-01-10",
                    "2024-01-11",
                    "2024-01-12",
                    "2024-01-15",
                    "2024-01-16",
                    "2024-01-17",
                    "2024-01-18",
                    "2024-01-19",
                    "2024-01-22",
                    "2024-01-23",
                    "2024-01-24",
                    "2024-01-25",
                    "2024-01-26",
                    "2024-01-29",
                    "2024-01-30",
                    "2024-01-31",
                    "2024-02-01",
                    "2024-02-02",
                    "2024-02-05",
                    "2024-02-06",
                    "2024-02-07",
                    "2024-02-08",
                    "2024-02-09",
                    "2024-02-14",
                    "2024-02-15",
                    "2024-02-16",
                    "2024-02-19",
                    "2024-02-20",
                    "2024-02-21",
                    "2024-02-22",
                    "2024-02-23",
                    "2024-02-26",
                    "2024-02-27",
                    "2024-02-28",
                    "2024-02-29",
                    "2024-03-01",
                    "2024-03-04",
                    "2024-03-05",
                    "2024-03-06",
                    "2024-03-07",
                    "2024-03-08",
                    "2024-03-11",
                    "2024-03-12",
                    "2024-03-13",
                    "2024-03-14",
                    "2024-03-15",
                    "2024-03-18",
                    "2024-03-19",
                    "2024-03-20",
                    "2024-03-21"
                  ],
                  "y": [
                    "",
                    0.0027855246567758396,
                    0.010523050176248994,
                    0.02352203632649008,
                    0.014856067045448063,
                    0.03249765874767219,
                    0.01578451080701715,
                    0.008046985287543995,
                    0.006189968849693361,
                    -0.003095048882203133,
                    0.025688576989767897,
                    0.010523050176248994,
                    0.053853218868241015,
                    0.07118528634503773,
                    0.08232744942949766,
                    0.09470738712888438,
                    0.08108941698514527,
                    0.08016090876622006,
                    0.07087582657696734,
                    0.07118528634503818,
                    0.07025690704082566,
                    0.07582782743966443,
                    0.06932826990718732,
                    0.07551836767159337,
                    0.07613735166509139,
                    0.06344782528292114,
                    0.061900397527854256,
                    0.059114743956365734,
                    0.03744965961036972,
                    0.025069528538913755,
                    0.036211627166017335,
                    0.03466419941095045,
                    0.043330104234636124,
                    0.046115693348768305,
                    0.05137728289424914,
                    0.0572577275185151,
                    -0.005261589545480727,
                    -0.004952000862697092,
                    -0.010523114633605224,
                    -0.030640706767177894,
                    -0.043639757374775434,
                    -0.042711249155850006,
                    -0.04766331447590366,
                    -0.02909315009739799,
                    -0.015475179953658658,
                    -0.012689655296882707,
                    -0.006809081757903734,
                    -0.019189148372003362,
                    -0.042711249155849895,
                    -0.055400839995376705,
                    -0.040854297175355825,
                    -0.03930674050557603,
                    -0.040854297175355714,
                    -0.040854297175355714,
                    -0.03837829674400717,
                    -0.04580629803805303,
                    -0.052615315338600865,
                    -0.05509131576994941,
                    -0.05354388801488241,
                    -0.05756731620129796,
                    -0.06375741396570411,
                    -0.06437646241655848,
                    -0.06097188930892816,
                    -0.05942439709650482,
                    -0.05323436378945512,
                    -0.08077995721707365,
                    -0.06809036637754684,
                    -0.05478179154452201,
                    -0.04735379025047615,
                    -0.04766331447590344,
                    -0.02476019768555493,
                    -0.021046164809853662,
                    -0.02476019768555482,
                    -0.03249772320502797,
                    -0.03064070676717745,
                    -0.03497372363637663,
                    -0.03744972406772529,
                    -0.048591822694828646,
                    -0.05106782312617719,
                    -0.05787684042672503,
                    -0.05663887243972887,
                    -0.06747144684140505,
                    -0.0659239546289817,
                    -0.04952033091375385,
                    -0.03899728073750486,
                    -0.025998230129907207,
                    -0.034664199410949226,
                    -0.028164770793185023,
                    -0.044568265593700196,
                    -0.03218819897960068,
                    -0.03683074007422715,
                    -0.03249772320502786,
                    -0.0318786747541735,
                    -0.030640706767177228,
                    -0.024760197685554597,
                    -0.0015476211271351348,
                    -0.00804711420225579,
                    -0.004642541094625585,
                    -0.001857080895206198,
                    0.0049520008626979806,
                    0.014237018594594586,
                    0.00742800129404686,
                    0.007118541525976019,
                    -0.03430800805948908,
                    -0.027145119872311607,
                    -0.026819545765141006,
                    -0.02454039810023434,
                    -0.018354232234568557,
                    -0.012168066368902775,
                    -0.012168066368902775,
                    0.0015066262484673132,
                    0.01094859764319489,
                    0.002483413027335235,
                    -0.010865769940220815,
                    0.010297449428853911,
                    0.021692994381317554,
                    0.01973948528093805,
                    0.012250958529233635,
                    0.012902171200931178,
                    0.035042112891517485,
                    0.040251491978315235,
                    0.03927470519944731,
                    0.03211181701226984,
                    0.030158243454533773,
                    0.03667004788472661,
                    0.03146066879792886,
                    0.04839116694436085,
                    0.03406532611264956,
                    0.033414177898308584,
                    0.04285614929303638,
                    0.03634440932020011,
                    0.024623290260565867,
                    0.03211181701227028,
                    0.016157976729993306,
                    0.03992591787114508,
                    0.042530639643222345,
                    0.0483911669443613,
                    0.0399259178711453,
                    0.04415851017907513,
                    0.037972344313409234,
                    0.029832669347363616,
                    0.033739752005479184,
                    0.019088272609240953,
                    0.03178624290509968,
                    0.029181521133022414,
                    0.03829791842057961,
                    0.03732119609906803,
                    0.023646567939054286,
                    0.02104184616697724,
                    0.022344207053015763,
                    0.018111550287729594,
                    0.020065059388109097,
                    0.007692792114133873,
                    -0.005330752288895346,
                    0.0015066262484679793,
                    0.016157976729993306,
                    0.023972142046224665,
                    0.03439096467717673,
                    0.038623556985106555,
                    0.038623556985106555,
                    0.019088272609240953,
                    0.019088272609240953,
                    0.022995355267356743,
                    0.03048388201906116,
                    0.04643765784398157,
                    0.03471653878434733,
                    0.04122821429982748,
                    0.03894913109227738,
                    0.04285614929303683,
                    0.04513523250058693,
                    0.03894913109227738,
                    0.032437391119440884,
                    0.03569326110585891,
                    0.023972142046224665,
                    0.019088272609240953,
                    0.006064792663568186,
                    0.0034601353488474818,
                    -0.00044688285191185617,
                    -0.0010980955236092882,
                    0.012576597093761022,
                    0.0129021712009314,
                    0.015181254408481504,
                    0.016157976729993084,
                    0.010948597643195335,
                    0.030158243454533995,
                    0.044158510179074684,
                    0.059135499225127175,
                    0.08648482000251123,
                    0.0793219962726901,
                    0.0793219962726901,
                    0.08615931035269697,
                    0.09429898531874237,
                    0.08681045856703795,
                    0.09560141066213745,
                    0.10341544706365613,
                    0.09853164208402898,
                    0.10634567848554743,
                    0.09657806852629292,
                    0.0913687538968515,
                    0.08746173569609228,
                    0.0806242927013725,
                    0.08355458858062015,
                    0.08550816213835621,
                    0.09690357817610695,
                    0.09006632855345642,
                    0.10406659527799711,
                    0.11936928734593266,
                    0.12490411162518811,
                    0.12750896231197806,
                    0.12360181519650615,
                    0.11481099201611955,
                    0.09853164208402854,
                    0.0982060035195016,
                    0.10992718703649218,
                    0.10146200242063252,
                    0.11513663058064627,
                    0.11709020413838234,
                    0.10992718703649218,
                    0.12490411162518811,
                    0.1558350054108737,
                    0.1669049117988104,
                    0.12327630554669167,
                    0.10811245462443897,
                    0.11284362458411379,
                    0.11554709502619387,
                    0.10371917012700682,
                    0.1074365547852405,
                    0.11892659422218488,
                    0.11182983928267265,
                    0.1273751488400936,
                    0.11689889470459014,
                    0.11757479454378839,
                    0.1223059645034632,
                    0.13379600394040758,
                    0.12669924900089535,
                    0.11250561020715799,
                    0.11216772474491532,
                    0.11047803960427616,
                    0.10507096980540309,
                    0.11182983928267265,
                    0.10811245462443875,
                    0.10946425430283524,
                    0.11318151004635646,
                    0.11115393944347463,
                    0.1189265942221851,
                    0.12433366402105839,
                    0.12399564964410281,
                    0.11149182490571752,
                    0.1104780396042766,
                    0.08513237575055044
                  ]
                },
                {
                  "line": {
                    "color": "rgba(55, 128, 191, 1.0)",
                    "dash": "solid",
                    "shape": "linear",
                    "width": 1.3
                  },
                  "mode": "lines",
                  "name": "retorno_estrategia",
                  "text": "",
                  "type": "scatter",
                  "x": [
                    "2023-03-21",
                    "2023-03-22",
                    "2023-03-23",
                    "2023-03-24",
                    "2023-03-27",
                    "2023-03-28",
                    "2023-03-29",
                    "2023-03-30",
                    "2023-03-31",
                    "2023-04-03",
                    "2023-04-04",
                    "2023-04-05",
                    "2023-04-06",
                    "2023-04-10",
                    "2023-04-11",
                    "2023-04-12",
                    "2023-04-13",
                    "2023-04-14",
                    "2023-04-17",
                    "2023-04-18",
                    "2023-04-19",
                    "2023-04-20",
                    "2023-04-24",
                    "2023-04-25",
                    "2023-04-26",
                    "2023-04-27",
                    "2023-04-28",
                    "2023-05-02",
                    "2023-05-03",
                    "2023-05-04",
                    "2023-05-05",
                    "2023-05-08",
                    "2023-05-09",
                    "2023-05-10",
                    "2023-05-11",
                    "2023-05-12",
                    "2023-05-15",
                    "2023-05-16",
                    "2023-05-17",
                    "2023-05-18",
                    "2023-05-19",
                    "2023-05-22",
                    "2023-05-23",
                    "2023-05-24",
                    "2023-05-25",
                    "2023-05-26",
                    "2023-05-29",
                    "2023-05-30",
                    "2023-05-31",
                    "2023-06-01",
                    "2023-06-02",
                    "2023-06-05",
                    "2023-06-06",
                    "2023-06-07",
                    "2023-06-09",
                    "2023-06-12",
                    "2023-06-13",
                    "2023-06-14",
                    "2023-06-15",
                    "2023-06-16",
                    "2023-06-19",
                    "2023-06-20",
                    "2023-06-21",
                    "2023-06-22",
                    "2023-06-23",
                    "2023-06-26",
                    "2023-06-27",
                    "2023-06-28",
                    "2023-06-29",
                    "2023-06-30",
                    "2023-07-03",
                    "2023-07-04",
                    "2023-07-05",
                    "2023-07-06",
                    "2023-07-07",
                    "2023-07-10",
                    "2023-07-11",
                    "2023-07-12",
                    "2023-07-13",
                    "2023-07-14",
                    "2023-07-17",
                    "2023-07-18",
                    "2023-07-19",
                    "2023-07-20",
                    "2023-07-21",
                    "2023-07-24",
                    "2023-07-25",
                    "2023-07-26",
                    "2023-07-27",
                    "2023-07-28",
                    "2023-07-31",
                    "2023-08-01",
                    "2023-08-02",
                    "2023-08-03",
                    "2023-08-04",
                    "2023-08-07",
                    "2023-08-08",
                    "2023-08-09",
                    "2023-08-10",
                    "2023-08-11",
                    "2023-08-14",
                    "2023-08-15",
                    "2023-08-16",
                    "2023-08-17",
                    "2023-08-18",
                    "2023-08-21",
                    "2023-08-22",
                    "2023-08-23",
                    "2023-08-24",
                    "2023-08-25",
                    "2023-08-28",
                    "2023-08-29",
                    "2023-08-30",
                    "2023-08-31",
                    "2023-09-01",
                    "2023-09-04",
                    "2023-09-05",
                    "2023-09-06",
                    "2023-09-08",
                    "2023-09-11",
                    "2023-09-12",
                    "2023-09-13",
                    "2023-09-14",
                    "2023-09-15",
                    "2023-09-18",
                    "2023-09-19",
                    "2023-09-20",
                    "2023-09-21",
                    "2023-09-22",
                    "2023-09-25",
                    "2023-09-26",
                    "2023-09-27",
                    "2023-09-28",
                    "2023-09-29",
                    "2023-10-02",
                    "2023-10-03",
                    "2023-10-04",
                    "2023-10-05",
                    "2023-10-06",
                    "2023-10-09",
                    "2023-10-10",
                    "2023-10-11",
                    "2023-10-13",
                    "2023-10-16",
                    "2023-10-17",
                    "2023-10-18",
                    "2023-10-19",
                    "2023-10-20",
                    "2023-10-23",
                    "2023-10-24",
                    "2023-10-25",
                    "2023-10-26",
                    "2023-10-27",
                    "2023-10-30",
                    "2023-10-31",
                    "2023-11-01",
                    "2023-11-03",
                    "2023-11-06",
                    "2023-11-07",
                    "2023-11-08",
                    "2023-11-09",
                    "2023-11-10",
                    "2023-11-13",
                    "2023-11-14",
                    "2023-11-16",
                    "2023-11-17",
                    "2023-11-20",
                    "2023-11-21",
                    "2023-11-22",
                    "2023-11-23",
                    "2023-11-24",
                    "2023-11-27",
                    "2023-11-28",
                    "2023-11-29",
                    "2023-11-30",
                    "2023-12-01",
                    "2023-12-04",
                    "2023-12-05",
                    "2023-12-06",
                    "2023-12-07",
                    "2023-12-08",
                    "2023-12-11",
                    "2023-12-12",
                    "2023-12-13",
                    "2023-12-14",
                    "2023-12-15",
                    "2023-12-18",
                    "2023-12-19",
                    "2023-12-20",
                    "2023-12-21",
                    "2023-12-22",
                    "2023-12-26",
                    "2023-12-27",
                    "2023-12-28",
                    "2024-01-02",
                    "2024-01-03",
                    "2024-01-04",
                    "2024-01-05",
                    "2024-01-08",
                    "2024-01-09",
                    "2024-01-10",
                    "2024-01-11",
                    "2024-01-12",
                    "2024-01-15",
                    "2024-01-16",
                    "2024-01-17",
                    "2024-01-18",
                    "2024-01-19",
                    "2024-01-22",
                    "2024-01-23",
                    "2024-01-24",
                    "2024-01-25",
                    "2024-01-26",
                    "2024-01-29",
                    "2024-01-30",
                    "2024-01-31",
                    "2024-02-01",
                    "2024-02-02",
                    "2024-02-05",
                    "2024-02-06",
                    "2024-02-07",
                    "2024-02-08",
                    "2024-02-09",
                    "2024-02-14",
                    "2024-02-15",
                    "2024-02-16",
                    "2024-02-19",
                    "2024-02-20",
                    "2024-02-21",
                    "2024-02-22",
                    "2024-02-23",
                    "2024-02-26",
                    "2024-02-27",
                    "2024-02-28",
                    "2024-02-29",
                    "2024-03-01",
                    "2024-03-04",
                    "2024-03-05",
                    "2024-03-06",
                    "2024-03-07",
                    "2024-03-08",
                    "2024-03-11",
                    "2024-03-12",
                    "2024-03-13",
                    "2024-03-14",
                    "2024-03-15",
                    "2024-03-18",
                    "2024-03-19",
                    "2024-03-20",
                    "2024-03-21"
                  ],
                  "y": [
                    0,
                    0,
                    0,
                    0,
                    0,
                    0,
                    0,
                    0,
                    0,
                    0,
                    0,
                    0,
                    0,
                    0,
                    0,
                    0,
                    0,
                    0,
                    0,
                    0,
                    0,
                    0,
                    0,
                    0,
                    0,
                    0,
                    0,
                    0,
                    0,
                    0,
                    0.010869602809269852,
                    0.009360019593707358,
                    0.01781398742946738,
                    0.020531451012745228,
                    0.020531451012745228,
                    0.020531451012745228,
                    0.020531451012745228,
                    0.020531451012745228,
                    0.020531451012745228,
                    0.020531451012745228,
                    0.020531451012745228,
                    0.02152226158569004,
                    0.01623791560251564,
                    0.03605412706141076,
                    0.05058585497231749,
                    0.05058585497231749,
                    0.05058585497231749,
                    0.05058585497231749,
                    0.05058585497231749,
                    0.05058585497231749,
                    0.05058585497231749,
                    0.05058585497231749,
                    0.05058585497231749,
                    0.05058585497231749,
                    0.05058585497231749,
                    0.05058585497231749,
                    0.05058585497231749,
                    0.05058585497231749,
                    0.05058585497231749,
                    0.05058585497231749,
                    0.05058585497231749,
                    0.05058585497231749,
                    0.05440875617714802,
                    0.056146392484642815,
                    0.06309701009200919,
                    0.06309701009200919,
                    0.06309701009200919,
                    0.06309701009200919,
                    0.06309701009200919,
                    0.06309701009200919,
                    0.06309701009200919,
                    0.06309701009200919,
                    0.06309701009200919,
                    0.06309701009200919,
                    0.06309701009200919,
                    0.06309701009200919,
                    0.06309701009200919,
                    0.06309701009200919,
                    0.06309701009200919,
                    0.05546880850891567,
                    0.056855714862856566,
                    0.04471988709910635,
                    0.04645355614760205,
                    0.06483067914050467,
                    0.07661974420969986,
                    0.07661974420969986,
                    0.07661974420969986,
                    0.07661974420969986,
                    0.07661974420969986,
                    0.07661974420969986,
                    0.07661974420969986,
                    0.07661974420969986,
                    0.07661974420969986,
                    0.07661974420969986,
                    0.07661974420969986,
                    0.07661974420969986,
                    0.07661974420969986,
                    0.07661974420969986,
                    0.07661974420969986,
                    0.07661974420969986,
                    0.07661974420969986,
                    0.07661974420969986,
                    0.07661974420969986,
                    0.07661974420969986,
                    0.07661974420969986,
                    0.07698004410554593,
                    0.07950228604124532,
                    0.08634826939187379,
                    0.09319425274250226,
                    0.09319425274250226,
                    0.09319425274250226,
                    0.09319425274250226,
                    0.09319425274250226,
                    0.09319425274250226,
                    0.09319425274250226,
                    0.09319425274250226,
                    0.09319425274250226,
                    0.09319425274250226,
                    0.09319425274250226,
                    0.09319425274250226,
                    0.09319425274250226,
                    0.09319425274250226,
                    0.09319425274250226,
                    0.09319425274250226,
                    0.09319425274250226,
                    0.09319425274250226,
                    0.09319425274250226,
                    0.09319425274250226,
                    0.09319425274250226,
                    0.09319425274250226,
                    0.09319425274250226,
                    0.09319425274250226,
                    0.09319425274250226,
                    0.09319425274250226,
                    0.09319425274250226,
                    0.09319425274250226,
                    0.09319425274250226,
                    0.09319425274250226,
                    0.09319425274250226,
                    0.09319425274250226,
                    0.09319425274250226,
                    0.09319425274250226,
                    0.09319425274250226,
                    0.09319425274250226,
                    0.09319425274250226,
                    0.09319425274250226,
                    0.09319425274250226,
                    0.09319425274250226,
                    0.09319425274250226,
                    0.09319425274250226,
                    0.09319425274250226,
                    0.09319425274250226,
                    0.09319425274250226,
                    0.09319425274250226,
                    0.09319425274250226,
                    0.10918692989663814,
                    0.1177164796667507,
                    0.1177164796667507,
                    0.1177164796667507,
                    0.1177164796667507,
                    0.1177164796667507,
                    0.1177164796667507,
                    0.1177164796667507,
                    0.1177164796667507,
                    0.1177164796667507,
                    0.1177164796667507,
                    0.1177164796667507,
                    0.1177164796667507,
                    0.1177164796667507,
                    0.1177164796667507,
                    0.1177164796667507,
                    0.1177164796667507,
                    0.1177164796667507,
                    0.1177164796667507,
                    0.1177164796667507,
                    0.1177164796667507,
                    0.1177164796667507,
                    0.11336459913307251,
                    0.1126392378463772,
                    0.12787096330749725,
                    0.12823360805253303,
                    0.12823360805253303,
                    0.12823360805253303,
                    0.12823360805253303,
                    0.12823360805253303,
                    0.12823360805253303,
                    0.12823360805253303,
                    0.12823360805253303,
                    0.12823360805253303,
                    0.12823360805253303,
                    0.12823360805253303,
                    0.12823360805253303,
                    0.12823360805253303,
                    0.12823360805253303,
                    0.12823360805253303,
                    0.12823360805253303,
                    0.12823360805253303,
                    0.12823360805253303,
                    0.12823360805253303,
                    0.12823360805253303,
                    0.12823360805253303,
                    0.12823360805253303,
                    0.12823360805253303,
                    0.12823360805253303,
                    0.12823360805253303,
                    0.12823360805253303,
                    0.12823360805253303,
                    0.12823360805253303,
                    0.12823360805253303,
                    0.12823360805253303,
                    0.12823360805253303,
                    0.12823360805253303,
                    0.12823360805253303,
                    0.12823360805253303,
                    0.12823360805253303,
                    0.12823360805253303,
                    0.12823360805253303,
                    0.12823360805253303,
                    0.12823360805253303,
                    0.12823360805253303,
                    0.12823360805253303,
                    0.12823360805253303,
                    0.12823360805253303,
                    0.12823360805253303,
                    0.12823360805253303,
                    0.12823360805253303,
                    0.12823360805253303,
                    0.12823360805253303,
                    0.12823360805253303,
                    0.12823360805253303,
                    0.12823360805253303,
                    0.12823360805253303,
                    0.12823360805253303,
                    0.12823360805253303,
                    0.12823360805253303,
                    0.12823360805253303,
                    0.12823360805253303,
                    0.12823360805253303,
                    0.12823360805253303,
                    0.12823360805253303,
                    0.12823360805253303,
                    0.12823360805253303,
                    0.12823360805253303,
                    0.12823360805253303,
                    0.12823360805253303,
                    0.12823360805253303,
                    0.12823360805253303,
                    0.12823360805253303,
                    0.12823360805253303,
                    0.12823360805253303
                  ]
                }
              ],
              "layout": {
                "legend": {
                  "bgcolor": "#F5F6F9",
                  "font": {
                    "color": "#4D5663"
                  }
                },
                "paper_bgcolor": "#F5F6F9",
                "plot_bgcolor": "#F5F6F9",
                "template": {
                  "data": {
                    "bar": [
                      {
                        "error_x": {
                          "color": "#2a3f5f"
                        },
                        "error_y": {
                          "color": "#2a3f5f"
                        },
                        "marker": {
                          "line": {
                            "color": "#E5ECF6",
                            "width": 0.5
                          },
                          "pattern": {
                            "fillmode": "overlay",
                            "size": 10,
                            "solidity": 0.2
                          }
                        },
                        "type": "bar"
                      }
                    ],
                    "barpolar": [
                      {
                        "marker": {
                          "line": {
                            "color": "#E5ECF6",
                            "width": 0.5
                          },
                          "pattern": {
                            "fillmode": "overlay",
                            "size": 10,
                            "solidity": 0.2
                          }
                        },
                        "type": "barpolar"
                      }
                    ],
                    "carpet": [
                      {
                        "aaxis": {
                          "endlinecolor": "#2a3f5f",
                          "gridcolor": "white",
                          "linecolor": "white",
                          "minorgridcolor": "white",
                          "startlinecolor": "#2a3f5f"
                        },
                        "baxis": {
                          "endlinecolor": "#2a3f5f",
                          "gridcolor": "white",
                          "linecolor": "white",
                          "minorgridcolor": "white",
                          "startlinecolor": "#2a3f5f"
                        },
                        "type": "carpet"
                      }
                    ],
                    "choropleth": [
                      {
                        "colorbar": {
                          "outlinewidth": 0,
                          "ticks": ""
                        },
                        "type": "choropleth"
                      }
                    ],
                    "contour": [
                      {
                        "colorbar": {
                          "outlinewidth": 0,
                          "ticks": ""
                        },
                        "colorscale": [
                          [
                            0,
                            "#0d0887"
                          ],
                          [
                            0.1111111111111111,
                            "#46039f"
                          ],
                          [
                            0.2222222222222222,
                            "#7201a8"
                          ],
                          [
                            0.3333333333333333,
                            "#9c179e"
                          ],
                          [
                            0.4444444444444444,
                            "#bd3786"
                          ],
                          [
                            0.5555555555555556,
                            "#d8576b"
                          ],
                          [
                            0.6666666666666666,
                            "#ed7953"
                          ],
                          [
                            0.7777777777777778,
                            "#fb9f3a"
                          ],
                          [
                            0.8888888888888888,
                            "#fdca26"
                          ],
                          [
                            1,
                            "#f0f921"
                          ]
                        ],
                        "type": "contour"
                      }
                    ],
                    "contourcarpet": [
                      {
                        "colorbar": {
                          "outlinewidth": 0,
                          "ticks": ""
                        },
                        "type": "contourcarpet"
                      }
                    ],
                    "heatmap": [
                      {
                        "colorbar": {
                          "outlinewidth": 0,
                          "ticks": ""
                        },
                        "colorscale": [
                          [
                            0,
                            "#0d0887"
                          ],
                          [
                            0.1111111111111111,
                            "#46039f"
                          ],
                          [
                            0.2222222222222222,
                            "#7201a8"
                          ],
                          [
                            0.3333333333333333,
                            "#9c179e"
                          ],
                          [
                            0.4444444444444444,
                            "#bd3786"
                          ],
                          [
                            0.5555555555555556,
                            "#d8576b"
                          ],
                          [
                            0.6666666666666666,
                            "#ed7953"
                          ],
                          [
                            0.7777777777777778,
                            "#fb9f3a"
                          ],
                          [
                            0.8888888888888888,
                            "#fdca26"
                          ],
                          [
                            1,
                            "#f0f921"
                          ]
                        ],
                        "type": "heatmap"
                      }
                    ],
                    "heatmapgl": [
                      {
                        "colorbar": {
                          "outlinewidth": 0,
                          "ticks": ""
                        },
                        "colorscale": [
                          [
                            0,
                            "#0d0887"
                          ],
                          [
                            0.1111111111111111,
                            "#46039f"
                          ],
                          [
                            0.2222222222222222,
                            "#7201a8"
                          ],
                          [
                            0.3333333333333333,
                            "#9c179e"
                          ],
                          [
                            0.4444444444444444,
                            "#bd3786"
                          ],
                          [
                            0.5555555555555556,
                            "#d8576b"
                          ],
                          [
                            0.6666666666666666,
                            "#ed7953"
                          ],
                          [
                            0.7777777777777778,
                            "#fb9f3a"
                          ],
                          [
                            0.8888888888888888,
                            "#fdca26"
                          ],
                          [
                            1,
                            "#f0f921"
                          ]
                        ],
                        "type": "heatmapgl"
                      }
                    ],
                    "histogram": [
                      {
                        "marker": {
                          "pattern": {
                            "fillmode": "overlay",
                            "size": 10,
                            "solidity": 0.2
                          }
                        },
                        "type": "histogram"
                      }
                    ],
                    "histogram2d": [
                      {
                        "colorbar": {
                          "outlinewidth": 0,
                          "ticks": ""
                        },
                        "colorscale": [
                          [
                            0,
                            "#0d0887"
                          ],
                          [
                            0.1111111111111111,
                            "#46039f"
                          ],
                          [
                            0.2222222222222222,
                            "#7201a8"
                          ],
                          [
                            0.3333333333333333,
                            "#9c179e"
                          ],
                          [
                            0.4444444444444444,
                            "#bd3786"
                          ],
                          [
                            0.5555555555555556,
                            "#d8576b"
                          ],
                          [
                            0.6666666666666666,
                            "#ed7953"
                          ],
                          [
                            0.7777777777777778,
                            "#fb9f3a"
                          ],
                          [
                            0.8888888888888888,
                            "#fdca26"
                          ],
                          [
                            1,
                            "#f0f921"
                          ]
                        ],
                        "type": "histogram2d"
                      }
                    ],
                    "histogram2dcontour": [
                      {
                        "colorbar": {
                          "outlinewidth": 0,
                          "ticks": ""
                        },
                        "colorscale": [
                          [
                            0,
                            "#0d0887"
                          ],
                          [
                            0.1111111111111111,
                            "#46039f"
                          ],
                          [
                            0.2222222222222222,
                            "#7201a8"
                          ],
                          [
                            0.3333333333333333,
                            "#9c179e"
                          ],
                          [
                            0.4444444444444444,
                            "#bd3786"
                          ],
                          [
                            0.5555555555555556,
                            "#d8576b"
                          ],
                          [
                            0.6666666666666666,
                            "#ed7953"
                          ],
                          [
                            0.7777777777777778,
                            "#fb9f3a"
                          ],
                          [
                            0.8888888888888888,
                            "#fdca26"
                          ],
                          [
                            1,
                            "#f0f921"
                          ]
                        ],
                        "type": "histogram2dcontour"
                      }
                    ],
                    "mesh3d": [
                      {
                        "colorbar": {
                          "outlinewidth": 0,
                          "ticks": ""
                        },
                        "type": "mesh3d"
                      }
                    ],
                    "parcoords": [
                      {
                        "line": {
                          "colorbar": {
                            "outlinewidth": 0,
                            "ticks": ""
                          }
                        },
                        "type": "parcoords"
                      }
                    ],
                    "pie": [
                      {
                        "automargin": true,
                        "type": "pie"
                      }
                    ],
                    "scatter": [
                      {
                        "fillpattern": {
                          "fillmode": "overlay",
                          "size": 10,
                          "solidity": 0.2
                        },
                        "type": "scatter"
                      }
                    ],
                    "scatter3d": [
                      {
                        "line": {
                          "colorbar": {
                            "outlinewidth": 0,
                            "ticks": ""
                          }
                        },
                        "marker": {
                          "colorbar": {
                            "outlinewidth": 0,
                            "ticks": ""
                          }
                        },
                        "type": "scatter3d"
                      }
                    ],
                    "scattercarpet": [
                      {
                        "marker": {
                          "colorbar": {
                            "outlinewidth": 0,
                            "ticks": ""
                          }
                        },
                        "type": "scattercarpet"
                      }
                    ],
                    "scattergeo": [
                      {
                        "marker": {
                          "colorbar": {
                            "outlinewidth": 0,
                            "ticks": ""
                          }
                        },
                        "type": "scattergeo"
                      }
                    ],
                    "scattergl": [
                      {
                        "marker": {
                          "colorbar": {
                            "outlinewidth": 0,
                            "ticks": ""
                          }
                        },
                        "type": "scattergl"
                      }
                    ],
                    "scattermapbox": [
                      {
                        "marker": {
                          "colorbar": {
                            "outlinewidth": 0,
                            "ticks": ""
                          }
                        },
                        "type": "scattermapbox"
                      }
                    ],
                    "scatterpolar": [
                      {
                        "marker": {
                          "colorbar": {
                            "outlinewidth": 0,
                            "ticks": ""
                          }
                        },
                        "type": "scatterpolar"
                      }
                    ],
                    "scatterpolargl": [
                      {
                        "marker": {
                          "colorbar": {
                            "outlinewidth": 0,
                            "ticks": ""
                          }
                        },
                        "type": "scatterpolargl"
                      }
                    ],
                    "scatterternary": [
                      {
                        "marker": {
                          "colorbar": {
                            "outlinewidth": 0,
                            "ticks": ""
                          }
                        },
                        "type": "scatterternary"
                      }
                    ],
                    "surface": [
                      {
                        "colorbar": {
                          "outlinewidth": 0,
                          "ticks": ""
                        },
                        "colorscale": [
                          [
                            0,
                            "#0d0887"
                          ],
                          [
                            0.1111111111111111,
                            "#46039f"
                          ],
                          [
                            0.2222222222222222,
                            "#7201a8"
                          ],
                          [
                            0.3333333333333333,
                            "#9c179e"
                          ],
                          [
                            0.4444444444444444,
                            "#bd3786"
                          ],
                          [
                            0.5555555555555556,
                            "#d8576b"
                          ],
                          [
                            0.6666666666666666,
                            "#ed7953"
                          ],
                          [
                            0.7777777777777778,
                            "#fb9f3a"
                          ],
                          [
                            0.8888888888888888,
                            "#fdca26"
                          ],
                          [
                            1,
                            "#f0f921"
                          ]
                        ],
                        "type": "surface"
                      }
                    ],
                    "table": [
                      {
                        "cells": {
                          "fill": {
                            "color": "#EBF0F8"
                          },
                          "line": {
                            "color": "white"
                          }
                        },
                        "header": {
                          "fill": {
                            "color": "#C8D4E3"
                          },
                          "line": {
                            "color": "white"
                          }
                        },
                        "type": "table"
                      }
                    ]
                  },
                  "layout": {
                    "annotationdefaults": {
                      "arrowcolor": "#2a3f5f",
                      "arrowhead": 0,
                      "arrowwidth": 1
                    },
                    "autotypenumbers": "strict",
                    "coloraxis": {
                      "colorbar": {
                        "outlinewidth": 0,
                        "ticks": ""
                      }
                    },
                    "colorscale": {
                      "diverging": [
                        [
                          0,
                          "#8e0152"
                        ],
                        [
                          0.1,
                          "#c51b7d"
                        ],
                        [
                          0.2,
                          "#de77ae"
                        ],
                        [
                          0.3,
                          "#f1b6da"
                        ],
                        [
                          0.4,
                          "#fde0ef"
                        ],
                        [
                          0.5,
                          "#f7f7f7"
                        ],
                        [
                          0.6,
                          "#e6f5d0"
                        ],
                        [
                          0.7,
                          "#b8e186"
                        ],
                        [
                          0.8,
                          "#7fbc41"
                        ],
                        [
                          0.9,
                          "#4d9221"
                        ],
                        [
                          1,
                          "#276419"
                        ]
                      ],
                      "sequential": [
                        [
                          0,
                          "#0d0887"
                        ],
                        [
                          0.1111111111111111,
                          "#46039f"
                        ],
                        [
                          0.2222222222222222,
                          "#7201a8"
                        ],
                        [
                          0.3333333333333333,
                          "#9c179e"
                        ],
                        [
                          0.4444444444444444,
                          "#bd3786"
                        ],
                        [
                          0.5555555555555556,
                          "#d8576b"
                        ],
                        [
                          0.6666666666666666,
                          "#ed7953"
                        ],
                        [
                          0.7777777777777778,
                          "#fb9f3a"
                        ],
                        [
                          0.8888888888888888,
                          "#fdca26"
                        ],
                        [
                          1,
                          "#f0f921"
                        ]
                      ],
                      "sequentialminus": [
                        [
                          0,
                          "#0d0887"
                        ],
                        [
                          0.1111111111111111,
                          "#46039f"
                        ],
                        [
                          0.2222222222222222,
                          "#7201a8"
                        ],
                        [
                          0.3333333333333333,
                          "#9c179e"
                        ],
                        [
                          0.4444444444444444,
                          "#bd3786"
                        ],
                        [
                          0.5555555555555556,
                          "#d8576b"
                        ],
                        [
                          0.6666666666666666,
                          "#ed7953"
                        ],
                        [
                          0.7777777777777778,
                          "#fb9f3a"
                        ],
                        [
                          0.8888888888888888,
                          "#fdca26"
                        ],
                        [
                          1,
                          "#f0f921"
                        ]
                      ]
                    },
                    "colorway": [
                      "#636efa",
                      "#EF553B",
                      "#00cc96",
                      "#ab63fa",
                      "#FFA15A",
                      "#19d3f3",
                      "#FF6692",
                      "#B6E880",
                      "#FF97FF",
                      "#FECB52"
                    ],
                    "font": {
                      "color": "#2a3f5f"
                    },
                    "geo": {
                      "bgcolor": "white",
                      "lakecolor": "white",
                      "landcolor": "#E5ECF6",
                      "showlakes": true,
                      "showland": true,
                      "subunitcolor": "white"
                    },
                    "hoverlabel": {
                      "align": "left"
                    },
                    "hovermode": "closest",
                    "mapbox": {
                      "style": "light"
                    },
                    "paper_bgcolor": "white",
                    "plot_bgcolor": "#E5ECF6",
                    "polar": {
                      "angularaxis": {
                        "gridcolor": "white",
                        "linecolor": "white",
                        "ticks": ""
                      },
                      "bgcolor": "#E5ECF6",
                      "radialaxis": {
                        "gridcolor": "white",
                        "linecolor": "white",
                        "ticks": ""
                      }
                    },
                    "scene": {
                      "xaxis": {
                        "backgroundcolor": "#E5ECF6",
                        "gridcolor": "white",
                        "gridwidth": 2,
                        "linecolor": "white",
                        "showbackground": true,
                        "ticks": "",
                        "zerolinecolor": "white"
                      },
                      "yaxis": {
                        "backgroundcolor": "#E5ECF6",
                        "gridcolor": "white",
                        "gridwidth": 2,
                        "linecolor": "white",
                        "showbackground": true,
                        "ticks": "",
                        "zerolinecolor": "white"
                      },
                      "zaxis": {
                        "backgroundcolor": "#E5ECF6",
                        "gridcolor": "white",
                        "gridwidth": 2,
                        "linecolor": "white",
                        "showbackground": true,
                        "ticks": "",
                        "zerolinecolor": "white"
                      }
                    },
                    "shapedefaults": {
                      "line": {
                        "color": "#2a3f5f"
                      }
                    },
                    "ternary": {
                      "aaxis": {
                        "gridcolor": "white",
                        "linecolor": "white",
                        "ticks": ""
                      },
                      "baxis": {
                        "gridcolor": "white",
                        "linecolor": "white",
                        "ticks": ""
                      },
                      "bgcolor": "#E5ECF6",
                      "caxis": {
                        "gridcolor": "white",
                        "linecolor": "white",
                        "ticks": ""
                      }
                    },
                    "title": {
                      "x": 0.05
                    },
                    "xaxis": {
                      "automargin": true,
                      "gridcolor": "white",
                      "linecolor": "white",
                      "ticks": "",
                      "title": {
                        "standoff": 15
                      },
                      "zerolinecolor": "white",
                      "zerolinewidth": 2
                    },
                    "yaxis": {
                      "automargin": true,
                      "gridcolor": "white",
                      "linecolor": "white",
                      "ticks": "",
                      "title": {
                        "standoff": 15
                      },
                      "zerolinecolor": "white",
                      "zerolinewidth": 2
                    }
                  }
                },
                "title": {
                  "font": {
                    "color": "#4D5663"
                  }
                },
                "xaxis": {
                  "gridcolor": "#E1E5ED",
                  "showgrid": true,
                  "tickfont": {
                    "color": "#4D5663"
                  },
                  "title": {
                    "font": {
                      "color": "#4D5663"
                    },
                    "text": ""
                  },
                  "zerolinecolor": "#E1E5ED"
                },
                "yaxis": {
                  "gridcolor": "#E1E5ED",
                  "showgrid": true,
                  "tickfont": {
                    "color": "#4D5663"
                  },
                  "title": {
                    "font": {
                      "color": "#4D5663"
                    },
                    "text": ""
                  },
                  "zerolinecolor": "#E1E5ED"
                }
              }
            },
            "text/html": [
              "<div>                            <div id=\"1f19d341-05ab-440d-86fe-5c6deb93033f\" class=\"plotly-graph-div\" style=\"height:525px; width:100%;\"></div>            <script type=\"text/javascript\">                require([\"plotly\"], function(Plotly) {                    window.PLOTLYENV=window.PLOTLYENV || {};\n",
              "                    window.PLOTLYENV.BASE_URL='https://plot.ly';                                    if (document.getElementById(\"1f19d341-05ab-440d-86fe-5c6deb93033f\")) {                    Plotly.newPlot(                        \"1f19d341-05ab-440d-86fe-5c6deb93033f\",                        [{\"line\":{\"color\":\"rgba(255, 153, 51, 1.0)\",\"dash\":\"solid\",\"shape\":\"linear\",\"width\":1.3},\"mode\":\"lines\",\"name\":\"retorno\",\"text\":\"\",\"x\":[\"2023-03-21\",\"2023-03-22\",\"2023-03-23\",\"2023-03-24\",\"2023-03-27\",\"2023-03-28\",\"2023-03-29\",\"2023-03-30\",\"2023-03-31\",\"2023-04-03\",\"2023-04-04\",\"2023-04-05\",\"2023-04-06\",\"2023-04-10\",\"2023-04-11\",\"2023-04-12\",\"2023-04-13\",\"2023-04-14\",\"2023-04-17\",\"2023-04-18\",\"2023-04-19\",\"2023-04-20\",\"2023-04-24\",\"2023-04-25\",\"2023-04-26\",\"2023-04-27\",\"2023-04-28\",\"2023-05-02\",\"2023-05-03\",\"2023-05-04\",\"2023-05-05\",\"2023-05-08\",\"2023-05-09\",\"2023-05-10\",\"2023-05-11\",\"2023-05-12\",\"2023-05-15\",\"2023-05-16\",\"2023-05-17\",\"2023-05-18\",\"2023-05-19\",\"2023-05-22\",\"2023-05-23\",\"2023-05-24\",\"2023-05-25\",\"2023-05-26\",\"2023-05-29\",\"2023-05-30\",\"2023-05-31\",\"2023-06-01\",\"2023-06-02\",\"2023-06-05\",\"2023-06-06\",\"2023-06-07\",\"2023-06-09\",\"2023-06-12\",\"2023-06-13\",\"2023-06-14\",\"2023-06-15\",\"2023-06-16\",\"2023-06-19\",\"2023-06-20\",\"2023-06-21\",\"2023-06-22\",\"2023-06-23\",\"2023-06-26\",\"2023-06-27\",\"2023-06-28\",\"2023-06-29\",\"2023-06-30\",\"2023-07-03\",\"2023-07-04\",\"2023-07-05\",\"2023-07-06\",\"2023-07-07\",\"2023-07-10\",\"2023-07-11\",\"2023-07-12\",\"2023-07-13\",\"2023-07-14\",\"2023-07-17\",\"2023-07-18\",\"2023-07-19\",\"2023-07-20\",\"2023-07-21\",\"2023-07-24\",\"2023-07-25\",\"2023-07-26\",\"2023-07-27\",\"2023-07-28\",\"2023-07-31\",\"2023-08-01\",\"2023-08-02\",\"2023-08-03\",\"2023-08-04\",\"2023-08-07\",\"2023-08-08\",\"2023-08-09\",\"2023-08-10\",\"2023-08-11\",\"2023-08-14\",\"2023-08-15\",\"2023-08-16\",\"2023-08-17\",\"2023-08-18\",\"2023-08-21\",\"2023-08-22\",\"2023-08-23\",\"2023-08-24\",\"2023-08-25\",\"2023-08-28\",\"2023-08-29\",\"2023-08-30\",\"2023-08-31\",\"2023-09-01\",\"2023-09-04\",\"2023-09-05\",\"2023-09-06\",\"2023-09-08\",\"2023-09-11\",\"2023-09-12\",\"2023-09-13\",\"2023-09-14\",\"2023-09-15\",\"2023-09-18\",\"2023-09-19\",\"2023-09-20\",\"2023-09-21\",\"2023-09-22\",\"2023-09-25\",\"2023-09-26\",\"2023-09-27\",\"2023-09-28\",\"2023-09-29\",\"2023-10-02\",\"2023-10-03\",\"2023-10-04\",\"2023-10-05\",\"2023-10-06\",\"2023-10-09\",\"2023-10-10\",\"2023-10-11\",\"2023-10-13\",\"2023-10-16\",\"2023-10-17\",\"2023-10-18\",\"2023-10-19\",\"2023-10-20\",\"2023-10-23\",\"2023-10-24\",\"2023-10-25\",\"2023-10-26\",\"2023-10-27\",\"2023-10-30\",\"2023-10-31\",\"2023-11-01\",\"2023-11-03\",\"2023-11-06\",\"2023-11-07\",\"2023-11-08\",\"2023-11-09\",\"2023-11-10\",\"2023-11-13\",\"2023-11-14\",\"2023-11-16\",\"2023-11-17\",\"2023-11-20\",\"2023-11-21\",\"2023-11-22\",\"2023-11-23\",\"2023-11-24\",\"2023-11-27\",\"2023-11-28\",\"2023-11-29\",\"2023-11-30\",\"2023-12-01\",\"2023-12-04\",\"2023-12-05\",\"2023-12-06\",\"2023-12-07\",\"2023-12-08\",\"2023-12-11\",\"2023-12-12\",\"2023-12-13\",\"2023-12-14\",\"2023-12-15\",\"2023-12-18\",\"2023-12-19\",\"2023-12-20\",\"2023-12-21\",\"2023-12-22\",\"2023-12-26\",\"2023-12-27\",\"2023-12-28\",\"2024-01-02\",\"2024-01-03\",\"2024-01-04\",\"2024-01-05\",\"2024-01-08\",\"2024-01-09\",\"2024-01-10\",\"2024-01-11\",\"2024-01-12\",\"2024-01-15\",\"2024-01-16\",\"2024-01-17\",\"2024-01-18\",\"2024-01-19\",\"2024-01-22\",\"2024-01-23\",\"2024-01-24\",\"2024-01-25\",\"2024-01-26\",\"2024-01-29\",\"2024-01-30\",\"2024-01-31\",\"2024-02-01\",\"2024-02-02\",\"2024-02-05\",\"2024-02-06\",\"2024-02-07\",\"2024-02-08\",\"2024-02-09\",\"2024-02-14\",\"2024-02-15\",\"2024-02-16\",\"2024-02-19\",\"2024-02-20\",\"2024-02-21\",\"2024-02-22\",\"2024-02-23\",\"2024-02-26\",\"2024-02-27\",\"2024-02-28\",\"2024-02-29\",\"2024-03-01\",\"2024-03-04\",\"2024-03-05\",\"2024-03-06\",\"2024-03-07\",\"2024-03-08\",\"2024-03-11\",\"2024-03-12\",\"2024-03-13\",\"2024-03-14\",\"2024-03-15\",\"2024-03-18\",\"2024-03-19\",\"2024-03-20\",\"2024-03-21\"],\"y\":[\"\",0.0027855246567758396,0.010523050176248994,0.02352203632649008,0.014856067045448063,0.03249765874767219,0.01578451080701715,0.008046985287543995,0.006189968849693361,-0.003095048882203133,0.025688576989767897,0.010523050176248994,0.053853218868241015,0.07118528634503773,0.08232744942949766,0.09470738712888438,0.08108941698514527,0.08016090876622006,0.07087582657696734,0.07118528634503818,0.07025690704082566,0.07582782743966443,0.06932826990718732,0.07551836767159337,0.07613735166509139,0.06344782528292114,0.061900397527854256,0.059114743956365734,0.03744965961036972,0.025069528538913755,0.036211627166017335,0.03466419941095045,0.043330104234636124,0.046115693348768305,0.05137728289424914,0.0572577275185151,-0.005261589545480727,-0.004952000862697092,-0.010523114633605224,-0.030640706767177894,-0.043639757374775434,-0.042711249155850006,-0.04766331447590366,-0.02909315009739799,-0.015475179953658658,-0.012689655296882707,-0.006809081757903734,-0.019189148372003362,-0.042711249155849895,-0.055400839995376705,-0.040854297175355825,-0.03930674050557603,-0.040854297175355714,-0.040854297175355714,-0.03837829674400717,-0.04580629803805303,-0.052615315338600865,-0.05509131576994941,-0.05354388801488241,-0.05756731620129796,-0.06375741396570411,-0.06437646241655848,-0.06097188930892816,-0.05942439709650482,-0.05323436378945512,-0.08077995721707365,-0.06809036637754684,-0.05478179154452201,-0.04735379025047615,-0.04766331447590344,-0.02476019768555493,-0.021046164809853662,-0.02476019768555482,-0.03249772320502797,-0.03064070676717745,-0.03497372363637663,-0.03744972406772529,-0.048591822694828646,-0.05106782312617719,-0.05787684042672503,-0.05663887243972887,-0.06747144684140505,-0.0659239546289817,-0.04952033091375385,-0.03899728073750486,-0.025998230129907207,-0.034664199410949226,-0.028164770793185023,-0.044568265593700196,-0.03218819897960068,-0.03683074007422715,-0.03249772320502786,-0.0318786747541735,-0.030640706767177228,-0.024760197685554597,-0.0015476211271351348,-0.00804711420225579,-0.004642541094625585,-0.001857080895206198,0.0049520008626979806,0.014237018594594586,0.00742800129404686,0.007118541525976019,-0.03430800805948908,-0.027145119872311607,-0.026819545765141006,-0.02454039810023434,-0.018354232234568557,-0.012168066368902775,-0.012168066368902775,0.0015066262484673132,0.01094859764319489,0.002483413027335235,-0.010865769940220815,0.010297449428853911,0.021692994381317554,0.01973948528093805,0.012250958529233635,0.012902171200931178,0.035042112891517485,0.040251491978315235,0.03927470519944731,0.03211181701226984,0.030158243454533773,0.03667004788472661,0.03146066879792886,0.04839116694436085,0.03406532611264956,0.033414177898308584,0.04285614929303638,0.03634440932020011,0.024623290260565867,0.03211181701227028,0.016157976729993306,0.03992591787114508,0.042530639643222345,0.0483911669443613,0.0399259178711453,0.04415851017907513,0.037972344313409234,0.029832669347363616,0.033739752005479184,0.019088272609240953,0.03178624290509968,0.029181521133022414,0.03829791842057961,0.03732119609906803,0.023646567939054286,0.02104184616697724,0.022344207053015763,0.018111550287729594,0.020065059388109097,0.007692792114133873,-0.005330752288895346,0.0015066262484679793,0.016157976729993306,0.023972142046224665,0.03439096467717673,0.038623556985106555,0.038623556985106555,0.019088272609240953,0.019088272609240953,0.022995355267356743,0.03048388201906116,0.04643765784398157,0.03471653878434733,0.04122821429982748,0.03894913109227738,0.04285614929303683,0.04513523250058693,0.03894913109227738,0.032437391119440884,0.03569326110585891,0.023972142046224665,0.019088272609240953,0.006064792663568186,0.0034601353488474818,-0.00044688285191185617,-0.0010980955236092882,0.012576597093761022,0.0129021712009314,0.015181254408481504,0.016157976729993084,0.010948597643195335,0.030158243454533995,0.044158510179074684,0.059135499225127175,0.08648482000251123,0.0793219962726901,0.0793219962726901,0.08615931035269697,0.09429898531874237,0.08681045856703795,0.09560141066213745,0.10341544706365613,0.09853164208402898,0.10634567848554743,0.09657806852629292,0.0913687538968515,0.08746173569609228,0.0806242927013725,0.08355458858062015,0.08550816213835621,0.09690357817610695,0.09006632855345642,0.10406659527799711,0.11936928734593266,0.12490411162518811,0.12750896231197806,0.12360181519650615,0.11481099201611955,0.09853164208402854,0.0982060035195016,0.10992718703649218,0.10146200242063252,0.11513663058064627,0.11709020413838234,0.10992718703649218,0.12490411162518811,0.1558350054108737,0.1669049117988104,0.12327630554669167,0.10811245462443897,0.11284362458411379,0.11554709502619387,0.10371917012700682,0.1074365547852405,0.11892659422218488,0.11182983928267265,0.1273751488400936,0.11689889470459014,0.11757479454378839,0.1223059645034632,0.13379600394040758,0.12669924900089535,0.11250561020715799,0.11216772474491532,0.11047803960427616,0.10507096980540309,0.11182983928267265,0.10811245462443875,0.10946425430283524,0.11318151004635646,0.11115393944347463,0.1189265942221851,0.12433366402105839,0.12399564964410281,0.11149182490571752,0.1104780396042766,0.08513237575055044],\"type\":\"scatter\"},{\"line\":{\"color\":\"rgba(55, 128, 191, 1.0)\",\"dash\":\"solid\",\"shape\":\"linear\",\"width\":1.3},\"mode\":\"lines\",\"name\":\"retorno_estrategia\",\"text\":\"\",\"x\":[\"2023-03-21\",\"2023-03-22\",\"2023-03-23\",\"2023-03-24\",\"2023-03-27\",\"2023-03-28\",\"2023-03-29\",\"2023-03-30\",\"2023-03-31\",\"2023-04-03\",\"2023-04-04\",\"2023-04-05\",\"2023-04-06\",\"2023-04-10\",\"2023-04-11\",\"2023-04-12\",\"2023-04-13\",\"2023-04-14\",\"2023-04-17\",\"2023-04-18\",\"2023-04-19\",\"2023-04-20\",\"2023-04-24\",\"2023-04-25\",\"2023-04-26\",\"2023-04-27\",\"2023-04-28\",\"2023-05-02\",\"2023-05-03\",\"2023-05-04\",\"2023-05-05\",\"2023-05-08\",\"2023-05-09\",\"2023-05-10\",\"2023-05-11\",\"2023-05-12\",\"2023-05-15\",\"2023-05-16\",\"2023-05-17\",\"2023-05-18\",\"2023-05-19\",\"2023-05-22\",\"2023-05-23\",\"2023-05-24\",\"2023-05-25\",\"2023-05-26\",\"2023-05-29\",\"2023-05-30\",\"2023-05-31\",\"2023-06-01\",\"2023-06-02\",\"2023-06-05\",\"2023-06-06\",\"2023-06-07\",\"2023-06-09\",\"2023-06-12\",\"2023-06-13\",\"2023-06-14\",\"2023-06-15\",\"2023-06-16\",\"2023-06-19\",\"2023-06-20\",\"2023-06-21\",\"2023-06-22\",\"2023-06-23\",\"2023-06-26\",\"2023-06-27\",\"2023-06-28\",\"2023-06-29\",\"2023-06-30\",\"2023-07-03\",\"2023-07-04\",\"2023-07-05\",\"2023-07-06\",\"2023-07-07\",\"2023-07-10\",\"2023-07-11\",\"2023-07-12\",\"2023-07-13\",\"2023-07-14\",\"2023-07-17\",\"2023-07-18\",\"2023-07-19\",\"2023-07-20\",\"2023-07-21\",\"2023-07-24\",\"2023-07-25\",\"2023-07-26\",\"2023-07-27\",\"2023-07-28\",\"2023-07-31\",\"2023-08-01\",\"2023-08-02\",\"2023-08-03\",\"2023-08-04\",\"2023-08-07\",\"2023-08-08\",\"2023-08-09\",\"2023-08-10\",\"2023-08-11\",\"2023-08-14\",\"2023-08-15\",\"2023-08-16\",\"2023-08-17\",\"2023-08-18\",\"2023-08-21\",\"2023-08-22\",\"2023-08-23\",\"2023-08-24\",\"2023-08-25\",\"2023-08-28\",\"2023-08-29\",\"2023-08-30\",\"2023-08-31\",\"2023-09-01\",\"2023-09-04\",\"2023-09-05\",\"2023-09-06\",\"2023-09-08\",\"2023-09-11\",\"2023-09-12\",\"2023-09-13\",\"2023-09-14\",\"2023-09-15\",\"2023-09-18\",\"2023-09-19\",\"2023-09-20\",\"2023-09-21\",\"2023-09-22\",\"2023-09-25\",\"2023-09-26\",\"2023-09-27\",\"2023-09-28\",\"2023-09-29\",\"2023-10-02\",\"2023-10-03\",\"2023-10-04\",\"2023-10-05\",\"2023-10-06\",\"2023-10-09\",\"2023-10-10\",\"2023-10-11\",\"2023-10-13\",\"2023-10-16\",\"2023-10-17\",\"2023-10-18\",\"2023-10-19\",\"2023-10-20\",\"2023-10-23\",\"2023-10-24\",\"2023-10-25\",\"2023-10-26\",\"2023-10-27\",\"2023-10-30\",\"2023-10-31\",\"2023-11-01\",\"2023-11-03\",\"2023-11-06\",\"2023-11-07\",\"2023-11-08\",\"2023-11-09\",\"2023-11-10\",\"2023-11-13\",\"2023-11-14\",\"2023-11-16\",\"2023-11-17\",\"2023-11-20\",\"2023-11-21\",\"2023-11-22\",\"2023-11-23\",\"2023-11-24\",\"2023-11-27\",\"2023-11-28\",\"2023-11-29\",\"2023-11-30\",\"2023-12-01\",\"2023-12-04\",\"2023-12-05\",\"2023-12-06\",\"2023-12-07\",\"2023-12-08\",\"2023-12-11\",\"2023-12-12\",\"2023-12-13\",\"2023-12-14\",\"2023-12-15\",\"2023-12-18\",\"2023-12-19\",\"2023-12-20\",\"2023-12-21\",\"2023-12-22\",\"2023-12-26\",\"2023-12-27\",\"2023-12-28\",\"2024-01-02\",\"2024-01-03\",\"2024-01-04\",\"2024-01-05\",\"2024-01-08\",\"2024-01-09\",\"2024-01-10\",\"2024-01-11\",\"2024-01-12\",\"2024-01-15\",\"2024-01-16\",\"2024-01-17\",\"2024-01-18\",\"2024-01-19\",\"2024-01-22\",\"2024-01-23\",\"2024-01-24\",\"2024-01-25\",\"2024-01-26\",\"2024-01-29\",\"2024-01-30\",\"2024-01-31\",\"2024-02-01\",\"2024-02-02\",\"2024-02-05\",\"2024-02-06\",\"2024-02-07\",\"2024-02-08\",\"2024-02-09\",\"2024-02-14\",\"2024-02-15\",\"2024-02-16\",\"2024-02-19\",\"2024-02-20\",\"2024-02-21\",\"2024-02-22\",\"2024-02-23\",\"2024-02-26\",\"2024-02-27\",\"2024-02-28\",\"2024-02-29\",\"2024-03-01\",\"2024-03-04\",\"2024-03-05\",\"2024-03-06\",\"2024-03-07\",\"2024-03-08\",\"2024-03-11\",\"2024-03-12\",\"2024-03-13\",\"2024-03-14\",\"2024-03-15\",\"2024-03-18\",\"2024-03-19\",\"2024-03-20\",\"2024-03-21\"],\"y\":[0.0,0.0,0.0,0.0,0.0,0.0,0.0,0.0,0.0,0.0,0.0,0.0,0.0,0.0,0.0,0.0,0.0,0.0,0.0,0.0,0.0,0.0,0.0,0.0,0.0,0.0,0.0,0.0,0.0,0.0,0.010869602809269852,0.009360019593707358,0.01781398742946738,0.020531451012745228,0.020531451012745228,0.020531451012745228,0.020531451012745228,0.020531451012745228,0.020531451012745228,0.020531451012745228,0.020531451012745228,0.02152226158569004,0.01623791560251564,0.03605412706141076,0.05058585497231749,0.05058585497231749,0.05058585497231749,0.05058585497231749,0.05058585497231749,0.05058585497231749,0.05058585497231749,0.05058585497231749,0.05058585497231749,0.05058585497231749,0.05058585497231749,0.05058585497231749,0.05058585497231749,0.05058585497231749,0.05058585497231749,0.05058585497231749,0.05058585497231749,0.05058585497231749,0.05440875617714802,0.056146392484642815,0.06309701009200919,0.06309701009200919,0.06309701009200919,0.06309701009200919,0.06309701009200919,0.06309701009200919,0.06309701009200919,0.06309701009200919,0.06309701009200919,0.06309701009200919,0.06309701009200919,0.06309701009200919,0.06309701009200919,0.06309701009200919,0.06309701009200919,0.05546880850891567,0.056855714862856566,0.04471988709910635,0.04645355614760205,0.06483067914050467,0.07661974420969986,0.07661974420969986,0.07661974420969986,0.07661974420969986,0.07661974420969986,0.07661974420969986,0.07661974420969986,0.07661974420969986,0.07661974420969986,0.07661974420969986,0.07661974420969986,0.07661974420969986,0.07661974420969986,0.07661974420969986,0.07661974420969986,0.07661974420969986,0.07661974420969986,0.07661974420969986,0.07661974420969986,0.07661974420969986,0.07661974420969986,0.07698004410554593,0.07950228604124532,0.08634826939187379,0.09319425274250226,0.09319425274250226,0.09319425274250226,0.09319425274250226,0.09319425274250226,0.09319425274250226,0.09319425274250226,0.09319425274250226,0.09319425274250226,0.09319425274250226,0.09319425274250226,0.09319425274250226,0.09319425274250226,0.09319425274250226,0.09319425274250226,0.09319425274250226,0.09319425274250226,0.09319425274250226,0.09319425274250226,0.09319425274250226,0.09319425274250226,0.09319425274250226,0.09319425274250226,0.09319425274250226,0.09319425274250226,0.09319425274250226,0.09319425274250226,0.09319425274250226,0.09319425274250226,0.09319425274250226,0.09319425274250226,0.09319425274250226,0.09319425274250226,0.09319425274250226,0.09319425274250226,0.09319425274250226,0.09319425274250226,0.09319425274250226,0.09319425274250226,0.09319425274250226,0.09319425274250226,0.09319425274250226,0.09319425274250226,0.09319425274250226,0.09319425274250226,0.09319425274250226,0.09319425274250226,0.10918692989663814,0.1177164796667507,0.1177164796667507,0.1177164796667507,0.1177164796667507,0.1177164796667507,0.1177164796667507,0.1177164796667507,0.1177164796667507,0.1177164796667507,0.1177164796667507,0.1177164796667507,0.1177164796667507,0.1177164796667507,0.1177164796667507,0.1177164796667507,0.1177164796667507,0.1177164796667507,0.1177164796667507,0.1177164796667507,0.1177164796667507,0.1177164796667507,0.11336459913307251,0.1126392378463772,0.12787096330749725,0.12823360805253303,0.12823360805253303,0.12823360805253303,0.12823360805253303,0.12823360805253303,0.12823360805253303,0.12823360805253303,0.12823360805253303,0.12823360805253303,0.12823360805253303,0.12823360805253303,0.12823360805253303,0.12823360805253303,0.12823360805253303,0.12823360805253303,0.12823360805253303,0.12823360805253303,0.12823360805253303,0.12823360805253303,0.12823360805253303,0.12823360805253303,0.12823360805253303,0.12823360805253303,0.12823360805253303,0.12823360805253303,0.12823360805253303,0.12823360805253303,0.12823360805253303,0.12823360805253303,0.12823360805253303,0.12823360805253303,0.12823360805253303,0.12823360805253303,0.12823360805253303,0.12823360805253303,0.12823360805253303,0.12823360805253303,0.12823360805253303,0.12823360805253303,0.12823360805253303,0.12823360805253303,0.12823360805253303,0.12823360805253303,0.12823360805253303,0.12823360805253303,0.12823360805253303,0.12823360805253303,0.12823360805253303,0.12823360805253303,0.12823360805253303,0.12823360805253303,0.12823360805253303,0.12823360805253303,0.12823360805253303,0.12823360805253303,0.12823360805253303,0.12823360805253303,0.12823360805253303,0.12823360805253303,0.12823360805253303,0.12823360805253303,0.12823360805253303,0.12823360805253303,0.12823360805253303,0.12823360805253303,0.12823360805253303,0.12823360805253303,0.12823360805253303,0.12823360805253303,0.12823360805253303],\"type\":\"scatter\"}],                        {\"legend\":{\"bgcolor\":\"#F5F6F9\",\"font\":{\"color\":\"#4D5663\"}},\"paper_bgcolor\":\"#F5F6F9\",\"plot_bgcolor\":\"#F5F6F9\",\"template\":{\"data\":{\"barpolar\":[{\"marker\":{\"line\":{\"color\":\"#E5ECF6\",\"width\":0.5},\"pattern\":{\"fillmode\":\"overlay\",\"size\":10,\"solidity\":0.2}},\"type\":\"barpolar\"}],\"bar\":[{\"error_x\":{\"color\":\"#2a3f5f\"},\"error_y\":{\"color\":\"#2a3f5f\"},\"marker\":{\"line\":{\"color\":\"#E5ECF6\",\"width\":0.5},\"pattern\":{\"fillmode\":\"overlay\",\"size\":10,\"solidity\":0.2}},\"type\":\"bar\"}],\"carpet\":[{\"aaxis\":{\"endlinecolor\":\"#2a3f5f\",\"gridcolor\":\"white\",\"linecolor\":\"white\",\"minorgridcolor\":\"white\",\"startlinecolor\":\"#2a3f5f\"},\"baxis\":{\"endlinecolor\":\"#2a3f5f\",\"gridcolor\":\"white\",\"linecolor\":\"white\",\"minorgridcolor\":\"white\",\"startlinecolor\":\"#2a3f5f\"},\"type\":\"carpet\"}],\"choropleth\":[{\"colorbar\":{\"outlinewidth\":0,\"ticks\":\"\"},\"type\":\"choropleth\"}],\"contourcarpet\":[{\"colorbar\":{\"outlinewidth\":0,\"ticks\":\"\"},\"type\":\"contourcarpet\"}],\"contour\":[{\"colorbar\":{\"outlinewidth\":0,\"ticks\":\"\"},\"colorscale\":[[0.0,\"#0d0887\"],[0.1111111111111111,\"#46039f\"],[0.2222222222222222,\"#7201a8\"],[0.3333333333333333,\"#9c179e\"],[0.4444444444444444,\"#bd3786\"],[0.5555555555555556,\"#d8576b\"],[0.6666666666666666,\"#ed7953\"],[0.7777777777777778,\"#fb9f3a\"],[0.8888888888888888,\"#fdca26\"],[1.0,\"#f0f921\"]],\"type\":\"contour\"}],\"heatmapgl\":[{\"colorbar\":{\"outlinewidth\":0,\"ticks\":\"\"},\"colorscale\":[[0.0,\"#0d0887\"],[0.1111111111111111,\"#46039f\"],[0.2222222222222222,\"#7201a8\"],[0.3333333333333333,\"#9c179e\"],[0.4444444444444444,\"#bd3786\"],[0.5555555555555556,\"#d8576b\"],[0.6666666666666666,\"#ed7953\"],[0.7777777777777778,\"#fb9f3a\"],[0.8888888888888888,\"#fdca26\"],[1.0,\"#f0f921\"]],\"type\":\"heatmapgl\"}],\"heatmap\":[{\"colorbar\":{\"outlinewidth\":0,\"ticks\":\"\"},\"colorscale\":[[0.0,\"#0d0887\"],[0.1111111111111111,\"#46039f\"],[0.2222222222222222,\"#7201a8\"],[0.3333333333333333,\"#9c179e\"],[0.4444444444444444,\"#bd3786\"],[0.5555555555555556,\"#d8576b\"],[0.6666666666666666,\"#ed7953\"],[0.7777777777777778,\"#fb9f3a\"],[0.8888888888888888,\"#fdca26\"],[1.0,\"#f0f921\"]],\"type\":\"heatmap\"}],\"histogram2dcontour\":[{\"colorbar\":{\"outlinewidth\":0,\"ticks\":\"\"},\"colorscale\":[[0.0,\"#0d0887\"],[0.1111111111111111,\"#46039f\"],[0.2222222222222222,\"#7201a8\"],[0.3333333333333333,\"#9c179e\"],[0.4444444444444444,\"#bd3786\"],[0.5555555555555556,\"#d8576b\"],[0.6666666666666666,\"#ed7953\"],[0.7777777777777778,\"#fb9f3a\"],[0.8888888888888888,\"#fdca26\"],[1.0,\"#f0f921\"]],\"type\":\"histogram2dcontour\"}],\"histogram2d\":[{\"colorbar\":{\"outlinewidth\":0,\"ticks\":\"\"},\"colorscale\":[[0.0,\"#0d0887\"],[0.1111111111111111,\"#46039f\"],[0.2222222222222222,\"#7201a8\"],[0.3333333333333333,\"#9c179e\"],[0.4444444444444444,\"#bd3786\"],[0.5555555555555556,\"#d8576b\"],[0.6666666666666666,\"#ed7953\"],[0.7777777777777778,\"#fb9f3a\"],[0.8888888888888888,\"#fdca26\"],[1.0,\"#f0f921\"]],\"type\":\"histogram2d\"}],\"histogram\":[{\"marker\":{\"pattern\":{\"fillmode\":\"overlay\",\"size\":10,\"solidity\":0.2}},\"type\":\"histogram\"}],\"mesh3d\":[{\"colorbar\":{\"outlinewidth\":0,\"ticks\":\"\"},\"type\":\"mesh3d\"}],\"parcoords\":[{\"line\":{\"colorbar\":{\"outlinewidth\":0,\"ticks\":\"\"}},\"type\":\"parcoords\"}],\"pie\":[{\"automargin\":true,\"type\":\"pie\"}],\"scatter3d\":[{\"line\":{\"colorbar\":{\"outlinewidth\":0,\"ticks\":\"\"}},\"marker\":{\"colorbar\":{\"outlinewidth\":0,\"ticks\":\"\"}},\"type\":\"scatter3d\"}],\"scattercarpet\":[{\"marker\":{\"colorbar\":{\"outlinewidth\":0,\"ticks\":\"\"}},\"type\":\"scattercarpet\"}],\"scattergeo\":[{\"marker\":{\"colorbar\":{\"outlinewidth\":0,\"ticks\":\"\"}},\"type\":\"scattergeo\"}],\"scattergl\":[{\"marker\":{\"colorbar\":{\"outlinewidth\":0,\"ticks\":\"\"}},\"type\":\"scattergl\"}],\"scattermapbox\":[{\"marker\":{\"colorbar\":{\"outlinewidth\":0,\"ticks\":\"\"}},\"type\":\"scattermapbox\"}],\"scatterpolargl\":[{\"marker\":{\"colorbar\":{\"outlinewidth\":0,\"ticks\":\"\"}},\"type\":\"scatterpolargl\"}],\"scatterpolar\":[{\"marker\":{\"colorbar\":{\"outlinewidth\":0,\"ticks\":\"\"}},\"type\":\"scatterpolar\"}],\"scatter\":[{\"fillpattern\":{\"fillmode\":\"overlay\",\"size\":10,\"solidity\":0.2},\"type\":\"scatter\"}],\"scatterternary\":[{\"marker\":{\"colorbar\":{\"outlinewidth\":0,\"ticks\":\"\"}},\"type\":\"scatterternary\"}],\"surface\":[{\"colorbar\":{\"outlinewidth\":0,\"ticks\":\"\"},\"colorscale\":[[0.0,\"#0d0887\"],[0.1111111111111111,\"#46039f\"],[0.2222222222222222,\"#7201a8\"],[0.3333333333333333,\"#9c179e\"],[0.4444444444444444,\"#bd3786\"],[0.5555555555555556,\"#d8576b\"],[0.6666666666666666,\"#ed7953\"],[0.7777777777777778,\"#fb9f3a\"],[0.8888888888888888,\"#fdca26\"],[1.0,\"#f0f921\"]],\"type\":\"surface\"}],\"table\":[{\"cells\":{\"fill\":{\"color\":\"#EBF0F8\"},\"line\":{\"color\":\"white\"}},\"header\":{\"fill\":{\"color\":\"#C8D4E3\"},\"line\":{\"color\":\"white\"}},\"type\":\"table\"}]},\"layout\":{\"annotationdefaults\":{\"arrowcolor\":\"#2a3f5f\",\"arrowhead\":0,\"arrowwidth\":1},\"autotypenumbers\":\"strict\",\"coloraxis\":{\"colorbar\":{\"outlinewidth\":0,\"ticks\":\"\"}},\"colorscale\":{\"diverging\":[[0,\"#8e0152\"],[0.1,\"#c51b7d\"],[0.2,\"#de77ae\"],[0.3,\"#f1b6da\"],[0.4,\"#fde0ef\"],[0.5,\"#f7f7f7\"],[0.6,\"#e6f5d0\"],[0.7,\"#b8e186\"],[0.8,\"#7fbc41\"],[0.9,\"#4d9221\"],[1,\"#276419\"]],\"sequential\":[[0.0,\"#0d0887\"],[0.1111111111111111,\"#46039f\"],[0.2222222222222222,\"#7201a8\"],[0.3333333333333333,\"#9c179e\"],[0.4444444444444444,\"#bd3786\"],[0.5555555555555556,\"#d8576b\"],[0.6666666666666666,\"#ed7953\"],[0.7777777777777778,\"#fb9f3a\"],[0.8888888888888888,\"#fdca26\"],[1.0,\"#f0f921\"]],\"sequentialminus\":[[0.0,\"#0d0887\"],[0.1111111111111111,\"#46039f\"],[0.2222222222222222,\"#7201a8\"],[0.3333333333333333,\"#9c179e\"],[0.4444444444444444,\"#bd3786\"],[0.5555555555555556,\"#d8576b\"],[0.6666666666666666,\"#ed7953\"],[0.7777777777777778,\"#fb9f3a\"],[0.8888888888888888,\"#fdca26\"],[1.0,\"#f0f921\"]]},\"colorway\":[\"#636efa\",\"#EF553B\",\"#00cc96\",\"#ab63fa\",\"#FFA15A\",\"#19d3f3\",\"#FF6692\",\"#B6E880\",\"#FF97FF\",\"#FECB52\"],\"font\":{\"color\":\"#2a3f5f\"},\"geo\":{\"bgcolor\":\"white\",\"lakecolor\":\"white\",\"landcolor\":\"#E5ECF6\",\"showlakes\":true,\"showland\":true,\"subunitcolor\":\"white\"},\"hoverlabel\":{\"align\":\"left\"},\"hovermode\":\"closest\",\"mapbox\":{\"style\":\"light\"},\"paper_bgcolor\":\"white\",\"plot_bgcolor\":\"#E5ECF6\",\"polar\":{\"angularaxis\":{\"gridcolor\":\"white\",\"linecolor\":\"white\",\"ticks\":\"\"},\"bgcolor\":\"#E5ECF6\",\"radialaxis\":{\"gridcolor\":\"white\",\"linecolor\":\"white\",\"ticks\":\"\"}},\"scene\":{\"xaxis\":{\"backgroundcolor\":\"#E5ECF6\",\"gridcolor\":\"white\",\"gridwidth\":2,\"linecolor\":\"white\",\"showbackground\":true,\"ticks\":\"\",\"zerolinecolor\":\"white\"},\"yaxis\":{\"backgroundcolor\":\"#E5ECF6\",\"gridcolor\":\"white\",\"gridwidth\":2,\"linecolor\":\"white\",\"showbackground\":true,\"ticks\":\"\",\"zerolinecolor\":\"white\"},\"zaxis\":{\"backgroundcolor\":\"#E5ECF6\",\"gridcolor\":\"white\",\"gridwidth\":2,\"linecolor\":\"white\",\"showbackground\":true,\"ticks\":\"\",\"zerolinecolor\":\"white\"}},\"shapedefaults\":{\"line\":{\"color\":\"#2a3f5f\"}},\"ternary\":{\"aaxis\":{\"gridcolor\":\"white\",\"linecolor\":\"white\",\"ticks\":\"\"},\"baxis\":{\"gridcolor\":\"white\",\"linecolor\":\"white\",\"ticks\":\"\"},\"bgcolor\":\"#E5ECF6\",\"caxis\":{\"gridcolor\":\"white\",\"linecolor\":\"white\",\"ticks\":\"\"}},\"title\":{\"x\":0.05},\"xaxis\":{\"automargin\":true,\"gridcolor\":\"white\",\"linecolor\":\"white\",\"ticks\":\"\",\"title\":{\"standoff\":15},\"zerolinecolor\":\"white\",\"zerolinewidth\":2},\"yaxis\":{\"automargin\":true,\"gridcolor\":\"white\",\"linecolor\":\"white\",\"ticks\":\"\",\"title\":{\"standoff\":15},\"zerolinecolor\":\"white\",\"zerolinewidth\":2}}},\"title\":{\"font\":{\"color\":\"#4D5663\"}},\"xaxis\":{\"gridcolor\":\"#E1E5ED\",\"showgrid\":true,\"tickfont\":{\"color\":\"#4D5663\"},\"title\":{\"font\":{\"color\":\"#4D5663\"},\"text\":\"\"},\"zerolinecolor\":\"#E1E5ED\"},\"yaxis\":{\"gridcolor\":\"#E1E5ED\",\"showgrid\":true,\"tickfont\":{\"color\":\"#4D5663\"},\"title\":{\"font\":{\"color\":\"#4D5663\"},\"text\":\"\"},\"zerolinecolor\":\"#E1E5ED\"}},                        {\"showLink\": true, \"linkText\": \"Export to plot.ly\", \"plotlyServerURL\": \"https://plot.ly\", \"responsive\": true}                    ).then(function(){\n",
              "                            \n",
              "var gd = document.getElementById('1f19d341-05ab-440d-86fe-5c6deb93033f');\n",
              "var x = new MutationObserver(function (mutations, observer) {{\n",
              "        var display = window.getComputedStyle(gd).display;\n",
              "        if (!display || display === 'none') {{\n",
              "            console.log([gd, 'removed!']);\n",
              "            Plotly.purge(gd);\n",
              "            observer.disconnect();\n",
              "        }}\n",
              "}});\n",
              "\n",
              "// Listen for the removal of the full notebook cells\n",
              "var notebookContainer = gd.closest('#notebook-container');\n",
              "if (notebookContainer) {{\n",
              "    x.observe(notebookContainer, {childList: true});\n",
              "}}\n",
              "\n",
              "// Listen for the clearing of the current output cell\n",
              "var outputEl = gd.closest('.output');\n",
              "if (outputEl) {{\n",
              "    x.observe(outputEl, {childList: true});\n",
              "}}\n",
              "\n",
              "                        })                };                });            </script>        </div>"
            ]
          },
          "metadata": {},
          "output_type": "display_data"
        }
      ],
      "source": [
        "ohlc = yf.download(tickers= ativo+'.SA', period = periodo , auto_adjust=True, progress = False )\n",
        "ohlc['retorno'] = ohlc['Close'].pct_change()\n",
        "## calculating stretegy returns\n",
        "ohlc['retorno_estrategia'] = ohlc['retorno'] * (posicao['pos'].shift(1))\n",
        "# ohlc.fillna(0,inplace=True)\n",
        "ohlc['retorno_estrategia'].fillna(0,inplace=True)\n",
        "ohlc[ohlc['retorno_estrategia']!= 0.0]\n",
        "((ohlc[['retorno', 'retorno_estrategia']]+1).cumprod()-1).iplot();"
      ]
    },
    {
      "cell_type": "code",
      "execution_count": 15,
      "metadata": {},
      "outputs": [
        {
          "data": {
            "application/vnd.plotly.v1+json": {
              "config": {
                "plotlyServerURL": "https://plot.ly"
              },
              "data": [
                {
                  "line": {
                    "color": "rgba(55, 128, 191, 1.0)",
                    "dash": "solid",
                    "shape": "linear",
                    "width": 1.3
                  },
                  "mode": "lines",
                  "name": " EMA(5)",
                  "text": "",
                  "type": "scatter",
                  "x": [
                    "2023-11-09",
                    "2023-11-10",
                    "2023-11-13",
                    "2023-11-14",
                    "2023-11-16",
                    "2023-11-17",
                    "2023-11-20",
                    "2023-11-21",
                    "2023-11-22",
                    "2023-11-23",
                    "2023-11-24",
                    "2023-11-27",
                    "2023-11-28",
                    "2023-11-29",
                    "2023-11-30",
                    "2023-12-01",
                    "2023-12-04",
                    "2023-12-05",
                    "2023-12-06",
                    "2023-12-07",
                    "2023-12-08",
                    "2023-12-11",
                    "2023-12-12",
                    "2023-12-13",
                    "2023-12-14",
                    "2023-12-15",
                    "2023-12-18",
                    "2023-12-19",
                    "2023-12-20",
                    "2023-12-21",
                    "2023-12-22",
                    "2023-12-26",
                    "2023-12-27",
                    "2023-12-28",
                    "2024-01-02",
                    "2024-01-03",
                    "2024-01-04",
                    "2024-01-05",
                    "2024-01-08",
                    "2024-01-09",
                    "2024-01-10",
                    "2024-01-11",
                    "2024-01-12",
                    "2024-01-15",
                    "2024-01-16",
                    "2024-01-17",
                    "2024-01-18",
                    "2024-01-19",
                    "2024-01-22",
                    "2024-01-23",
                    "2024-01-24",
                    "2024-01-25",
                    "2024-01-26",
                    "2024-01-29",
                    "2024-01-30",
                    "2024-01-31",
                    "2024-02-01",
                    "2024-02-02",
                    "2024-02-05",
                    "2024-02-06",
                    "2024-02-07",
                    "2024-02-08",
                    "2024-02-09",
                    "2024-02-14",
                    "2024-02-15",
                    "2024-02-16",
                    "2024-02-19",
                    "2024-02-20",
                    "2024-02-21",
                    "2024-02-22",
                    "2024-02-23",
                    "2024-02-26",
                    "2024-02-27",
                    "2024-02-28",
                    "2024-02-29",
                    "2024-03-01",
                    "2024-03-04",
                    "2024-03-05",
                    "2024-03-06",
                    "2024-03-07",
                    "2024-03-08",
                    "2024-03-11",
                    "2024-03-12",
                    "2024-03-13",
                    "2024-03-14",
                    "2024-03-15",
                    "2024-03-18",
                    "2024-03-19",
                    "2024-03-20",
                    "2024-03-21"
                  ],
                  "y": [
                    "",
                    "",
                    "",
                    "",
                    30.517525355021164,
                    30.55106777615018,
                    30.637658083880396,
                    30.67290494471421,
                    30.734940195279854,
                    30.79877703997661,
                    30.780317582111685,
                    30.70378194744132,
                    30.684872855707955,
                    30.5566541287402,
                    30.423002344575174,
                    30.20544249627766,
                    30.034711247111538,
                    29.882353070991027,
                    29.77435763916492,
                    29.837242657880783,
                    29.882377343006134,
                    29.93494714407603,
                    29.979627696066963,
                    29.958031394342495,
                    30.133110508825986,
                    30.38792323106303,
                    30.705525709746773,
                    31.187024006286265,
                    31.43737149837216,
                    31.604269826429423,
                    31.782976047209463,
                    31.982400189513342,
                    32.04148563456163,
                    32.16758654323966,
                    32.32872850237787,
                    32.38798447806637,
                    32.504563148544904,
                    32.48593826805663,
                    32.422138980462236,
                    32.34106877872287,
                    32.21958003725568,
                    32.16749086834298,
                    32.15203406318894,
                    32.25412958135122,
                    32.25475322716709,
                    32.39326230362572,
                    32.63654162933772,
                    32.85332125061317,
                    33.02353425577988,
                    33.09847097764883,
                    33.06171945181472,
                    32.87664511102427,
                    32.75005024206631,
                    32.78126696435606,
                    32.71858074723347,
                    32.81167127330213,
                    32.893000931469004,
                    32.87656742395785,
                    33.01333844702659,
                    33.40960971541682,
                    33.78297991241004,
                    33.60155737853704,
                    33.33103855753381,
                    33.19735914008113,
                    33.13490553389849,
                    32.976603638403034,
                    32.90773591152325,
                    32.97515747779936,
                    32.95010549382587,
                    33.086737199334436,
                    33.07449121190981,
                    33.07299403954795,
                    33.11866238785619,
                    33.26244133759098,
                    33.288294275923285,
                    33.16552890693063,
                    33.08035255375779,
                    33.006901905955715,
                    32.904601524950294,
                    32.9030681919265,
                    32.86537909979345,
                    32.85358667688053,
                    32.88239066015669,
                    32.881594129476206,
                    32.95772962310133,
                    33.06181990132211,
                    33.12787937472581,
                    33.04858604636669,
                    32.98572423436165,
                    32.693816359691624
                  ],
                  "yaxis": "y2"
                },
                {
                  "line": {
                    "color": "rgba(55, 128, 191, 1.0)",
                    "dash": "solid",
                    "shape": "linear",
                    "width": 1.3
                  },
                  "mode": "lines",
                  "name": " EMA(21)",
                  "text": "",
                  "type": "scatter",
                  "x": [
                    "2023-11-09",
                    "2023-11-10",
                    "2023-11-13",
                    "2023-11-14",
                    "2023-11-16",
                    "2023-11-17",
                    "2023-11-20",
                    "2023-11-21",
                    "2023-11-22",
                    "2023-11-23",
                    "2023-11-24",
                    "2023-11-27",
                    "2023-11-28",
                    "2023-11-29",
                    "2023-11-30",
                    "2023-12-01",
                    "2023-12-04",
                    "2023-12-05",
                    "2023-12-06",
                    "2023-12-07",
                    "2023-12-08",
                    "2023-12-11",
                    "2023-12-12",
                    "2023-12-13",
                    "2023-12-14",
                    "2023-12-15",
                    "2023-12-18",
                    "2023-12-19",
                    "2023-12-20",
                    "2023-12-21",
                    "2023-12-22",
                    "2023-12-26",
                    "2023-12-27",
                    "2023-12-28",
                    "2024-01-02",
                    "2024-01-03",
                    "2024-01-04",
                    "2024-01-05",
                    "2024-01-08",
                    "2024-01-09",
                    "2024-01-10",
                    "2024-01-11",
                    "2024-01-12",
                    "2024-01-15",
                    "2024-01-16",
                    "2024-01-17",
                    "2024-01-18",
                    "2024-01-19",
                    "2024-01-22",
                    "2024-01-23",
                    "2024-01-24",
                    "2024-01-25",
                    "2024-01-26",
                    "2024-01-29",
                    "2024-01-30",
                    "2024-01-31",
                    "2024-02-01",
                    "2024-02-02",
                    "2024-02-05",
                    "2024-02-06",
                    "2024-02-07",
                    "2024-02-08",
                    "2024-02-09",
                    "2024-02-14",
                    "2024-02-15",
                    "2024-02-16",
                    "2024-02-19",
                    "2024-02-20",
                    "2024-02-21",
                    "2024-02-22",
                    "2024-02-23",
                    "2024-02-26",
                    "2024-02-27",
                    "2024-02-28",
                    "2024-02-29",
                    "2024-03-01",
                    "2024-03-04",
                    "2024-03-05",
                    "2024-03-06",
                    "2024-03-07",
                    "2024-03-08",
                    "2024-03-11",
                    "2024-03-12",
                    "2024-03-13",
                    "2024-03-14",
                    "2024-03-15",
                    "2024-03-18",
                    "2024-03-19",
                    "2024-03-20",
                    "2024-03-21"
                  ],
                  "y": [
                    "",
                    "",
                    "",
                    "",
                    "",
                    "",
                    "",
                    "",
                    "",
                    "",
                    "",
                    "",
                    "",
                    "",
                    "",
                    "",
                    "",
                    "",
                    "",
                    "",
                    30.16183402610659,
                    30.150766091571064,
                    30.14333179234177,
                    30.12255970130102,
                    30.155351431891198,
                    30.22282390858628,
                    30.32445179572519,
                    30.4904125960561,
                    30.62201749482772,
                    30.74165831189283,
                    30.8688156006998,
                    31.006309498283553,
                    31.111159227953976,
                    31.230125512739587,
                    31.35929704982274,
                    31.46358790251552,
                    31.579418137696106,
                    31.658442716731013,
                    31.716269779325778,
                    31.758329651681994,
                    31.77817264283102,
                    31.804094450802527,
                    31.83291499644601,
                    31.889770052921442,
                    31.92306373163757,
                    31.990992524810785,
                    32.09391141171542,
                    32.202363146392564,
                    32.30796288454899,
                    32.393452115170604,
                    32.44752159562296,
                    32.45288294415209,
                    32.45688090415193,
                    32.49204631367771,
                    32.50124285906958,
                    32.54638917419411,
                    32.59268654452217,
                    32.61550598674157,
                    32.676540032779975,
                    32.815232052727,
                    32.97109462124241,
                    32.99542350211046,
                    32.976748721511996,
                    32.97249886548143,
                    32.97590790694068,
                    32.94718899243808,
                    32.93108094383131,
                    32.94734636806042,
                    32.943042291498465,
                    32.980947593212385,
                    32.987225015380396,
                    32.99474998623892,
                    33.014318086078354,
                    33.06301637253128,
                    33.08819671617279,
                    33.07290593915211,
                    33.05809629444847,
                    33.0400875958942,
                    33.00917061108013,
                    32.999246148789105,
                    32.98022385485622,
                    32.966567307237895,
                    32.96415197264436,
                    32.95650189041444,
                    32.97045631949963,
                    32.99768760479636,
                    33.02153403359062,
                    33.009576338686784,
                    32.995978545201766,
                    32.91543509657902
                  ],
                  "yaxis": "y2"
                },
                {
                  "line": {
                    "color": "rgba(55, 128, 191, 1.0)",
                    "dash": "solid",
                    "shape": "linear",
                    "width": 1.3
                  },
                  "mode": "lines",
                  "name": " EMA(72)",
                  "text": "",
                  "type": "scatter",
                  "x": [
                    "2023-11-09",
                    "2023-11-10",
                    "2023-11-13",
                    "2023-11-14",
                    "2023-11-16",
                    "2023-11-17",
                    "2023-11-20",
                    "2023-11-21",
                    "2023-11-22",
                    "2023-11-23",
                    "2023-11-24",
                    "2023-11-27",
                    "2023-11-28",
                    "2023-11-29",
                    "2023-11-30",
                    "2023-12-01",
                    "2023-12-04",
                    "2023-12-05",
                    "2023-12-06",
                    "2023-12-07",
                    "2023-12-08",
                    "2023-12-11",
                    "2023-12-12",
                    "2023-12-13",
                    "2023-12-14",
                    "2023-12-15",
                    "2023-12-18",
                    "2023-12-19",
                    "2023-12-20",
                    "2023-12-21",
                    "2023-12-22",
                    "2023-12-26",
                    "2023-12-27",
                    "2023-12-28",
                    "2024-01-02",
                    "2024-01-03",
                    "2024-01-04",
                    "2024-01-05",
                    "2024-01-08",
                    "2024-01-09",
                    "2024-01-10",
                    "2024-01-11",
                    "2024-01-12",
                    "2024-01-15",
                    "2024-01-16",
                    "2024-01-17",
                    "2024-01-18",
                    "2024-01-19",
                    "2024-01-22",
                    "2024-01-23",
                    "2024-01-24",
                    "2024-01-25",
                    "2024-01-26",
                    "2024-01-29",
                    "2024-01-30",
                    "2024-01-31",
                    "2024-02-01",
                    "2024-02-02",
                    "2024-02-05",
                    "2024-02-06",
                    "2024-02-07",
                    "2024-02-08",
                    "2024-02-09",
                    "2024-02-14",
                    "2024-02-15",
                    "2024-02-16",
                    "2024-02-19",
                    "2024-02-20",
                    "2024-02-21",
                    "2024-02-22",
                    "2024-02-23",
                    "2024-02-26",
                    "2024-02-27",
                    "2024-02-28",
                    "2024-02-29",
                    "2024-03-01",
                    "2024-03-04",
                    "2024-03-05",
                    "2024-03-06",
                    "2024-03-07",
                    "2024-03-08",
                    "2024-03-11",
                    "2024-03-12",
                    "2024-03-13",
                    "2024-03-14",
                    "2024-03-15",
                    "2024-03-18",
                    "2024-03-19",
                    "2024-03-20",
                    "2024-03-21"
                  ],
                  "y": [
                    "",
                    "",
                    "",
                    "",
                    "",
                    "",
                    "",
                    "",
                    "",
                    "",
                    "",
                    "",
                    "",
                    "",
                    "",
                    "",
                    "",
                    "",
                    "",
                    "",
                    "",
                    "",
                    "",
                    "",
                    "",
                    "",
                    "",
                    "",
                    "",
                    "",
                    "",
                    "",
                    "",
                    "",
                    "",
                    "",
                    "",
                    "",
                    "",
                    "",
                    "",
                    "",
                    "",
                    "",
                    "",
                    "",
                    "",
                    "",
                    "",
                    "",
                    "",
                    "",
                    "",
                    "",
                    "",
                    "",
                    "",
                    "",
                    "",
                    "",
                    "",
                    "",
                    "",
                    "",
                    "",
                    "",
                    "",
                    "",
                    "",
                    "",
                    "",
                    32.1191214449497,
                    32.14900850356676,
                    32.18739181133372,
                    32.21897012205301,
                    32.23817636991307,
                    32.25658249258428,
                    32.27311449581078,
                    32.28481000997869,
                    32.30166457205815,
                    32.31504364996142,
                    32.32915209327904,
                    32.34588761474288,
                    32.36052086004075,
                    32.38105455183009,
                    32.40540923418443,
                    32.428822633837825,
                    32.441457613449074,
                    32.45292454487106,
                    32.44352936858286
                  ],
                  "yaxis": "y2"
                },
                {
                  "legendgroup": "RSI(Close,2)",
                  "line": {
                    "color": "rgba(219, 64, 82, 1.0)",
                    "dash": "solid",
                    "shape": "linear",
                    "width": 1.3
                  },
                  "mode": "lines",
                  "name": "RSI(Close,2)",
                  "showlegend": true,
                  "text": "",
                  "type": "scatter",
                  "x": [
                    "2023-11-09",
                    "2023-11-10",
                    "2023-11-13",
                    "2023-11-14",
                    "2023-11-16",
                    "2023-11-17",
                    "2023-11-20",
                    "2023-11-21",
                    "2023-11-22",
                    "2023-11-23",
                    "2023-11-24",
                    "2023-11-27",
                    "2023-11-28",
                    "2023-11-29",
                    "2023-11-30",
                    "2023-12-01",
                    "2023-12-04",
                    "2023-12-05",
                    "2023-12-06",
                    "2023-12-07",
                    "2023-12-08",
                    "2023-12-11",
                    "2023-12-12",
                    "2023-12-13",
                    "2023-12-14",
                    "2023-12-15",
                    "2023-12-18",
                    "2023-12-19",
                    "2023-12-20",
                    "2023-12-21",
                    "2023-12-22",
                    "2023-12-26",
                    "2023-12-27",
                    "2023-12-28",
                    "2024-01-02",
                    "2024-01-03",
                    "2024-01-04",
                    "2024-01-05",
                    "2024-01-08",
                    "2024-01-09",
                    "2024-01-10",
                    "2024-01-11",
                    "2024-01-12",
                    "2024-01-15",
                    "2024-01-16",
                    "2024-01-17",
                    "2024-01-18",
                    "2024-01-19",
                    "2024-01-22",
                    "2024-01-23",
                    "2024-01-24",
                    "2024-01-25",
                    "2024-01-26",
                    "2024-01-29",
                    "2024-01-30",
                    "2024-01-31",
                    "2024-02-01",
                    "2024-02-02",
                    "2024-02-05",
                    "2024-02-06",
                    "2024-02-07",
                    "2024-02-08",
                    "2024-02-09",
                    "2024-02-14",
                    "2024-02-15",
                    "2024-02-16",
                    "2024-02-19",
                    "2024-02-20",
                    "2024-02-21",
                    "2024-02-22",
                    "2024-02-23",
                    "2024-02-26",
                    "2024-02-27",
                    "2024-02-28",
                    "2024-02-29",
                    "2024-03-01",
                    "2024-03-04",
                    "2024-03-05",
                    "2024-03-06",
                    "2024-03-07",
                    "2024-03-08",
                    "2024-03-11",
                    "2024-03-12",
                    "2024-03-13",
                    "2024-03-14",
                    "2024-03-15",
                    "2024-03-18",
                    "2024-03-19",
                    "2024-03-20",
                    "2024-03-21"
                  ],
                  "y": [
                    "",
                    "",
                    100,
                    100,
                    100,
                    57.64710540535505,
                    35.714083700409375,
                    74.0741012311099,
                    63.15800441795524,
                    100,
                    26.92301835071956,
                    0,
                    33.33333333333333,
                    21.73914914677971,
                    0,
                    0,
                    0,
                    0,
                    0,
                    95.45430003509499,
                    100,
                    100,
                    100,
                    15.788980119201426,
                    78.66671945940239,
                    100,
                    100,
                    100,
                    79.24549797731153,
                    0,
                    100,
                    100,
                    52.08324740779846,
                    54.00020589003888,
                    100,
                    61.53830534630145,
                    61.53830534630145,
                    44.44428150342421,
                    0,
                    0,
                    0,
                    29.9997360398052,
                    100,
                    100,
                    62.50000000000001,
                    67.18778999987626,
                    100,
                    100,
                    100,
                    40.000791859682465,
                    0,
                    0,
                    0,
                    97.29689238935023,
                    58.064845740706446,
                    61.764877139862584,
                    100,
                    21.42877343816285,
                    67.64663068224827,
                    100,
                    100,
                    20.238039123261842,
                    0,
                    23.780673504960248,
                    100,
                    18.604341693207118,
                    23.913223757318434,
                    100,
                    61.81829531346452,
                    68.65676740531553,
                    59.74010532521513,
                    6.060711148101916,
                    100,
                    100,
                    61.81829531346452,
                    0,
                    0,
                    0,
                    0,
                    55.55567329292587,
                    64.5160893373531,
                    26.66700574741874,
                    100,
                    64.7061463545991,
                    79.31097986082793,
                    100,
                    94.11645910467855,
                    0,
                    0,
                    0
                  ],
                  "yaxis": "y3"
                },
                {
                  "legendgroup": "RSI(Close,2)",
                  "line": {
                    "color": "red",
                    "width": 1
                  },
                  "mode": "lines",
                  "name": "",
                  "showlegend": true,
                  "text": "",
                  "type": "scatter",
                  "x": [
                    "2023-11-09",
                    "2023-11-10",
                    "2023-11-13",
                    "2023-11-14",
                    "2023-11-16",
                    "2023-11-17",
                    "2023-11-20",
                    "2023-11-21",
                    "2023-11-22",
                    "2023-11-23",
                    "2023-11-24",
                    "2023-11-27",
                    "2023-11-28",
                    "2023-11-29",
                    "2023-11-30",
                    "2023-12-01",
                    "2023-12-04",
                    "2023-12-05",
                    "2023-12-06",
                    "2023-12-07",
                    "2023-12-08",
                    "2023-12-11",
                    "2023-12-12",
                    "2023-12-13",
                    "2023-12-14",
                    "2023-12-15",
                    "2023-12-18",
                    "2023-12-19",
                    "2023-12-20",
                    "2023-12-21",
                    "2023-12-22",
                    "2023-12-26",
                    "2023-12-27",
                    "2023-12-28",
                    "2024-01-02",
                    "2024-01-03",
                    "2024-01-04",
                    "2024-01-05",
                    "2024-01-08",
                    "2024-01-09",
                    "2024-01-10",
                    "2024-01-11",
                    "2024-01-12",
                    "2024-01-15",
                    "2024-01-16",
                    "2024-01-17",
                    "2024-01-18",
                    "2024-01-19",
                    "2024-01-22",
                    "2024-01-23",
                    "2024-01-24",
                    "2024-01-25",
                    "2024-01-26",
                    "2024-01-29",
                    "2024-01-30",
                    "2024-01-31",
                    "2024-02-01",
                    "2024-02-02",
                    "2024-02-05",
                    "2024-02-06",
                    "2024-02-07",
                    "2024-02-08",
                    "2024-02-09",
                    "2024-02-14",
                    "2024-02-15",
                    "2024-02-16",
                    "2024-02-19",
                    "2024-02-20",
                    "2024-02-21",
                    "2024-02-22",
                    "2024-02-23",
                    "2024-02-26",
                    "2024-02-27",
                    "2024-02-28",
                    "2024-02-29",
                    "2024-03-01",
                    "2024-03-04",
                    "2024-03-05",
                    "2024-03-06",
                    "2024-03-07",
                    "2024-03-08",
                    "2024-03-11",
                    "2024-03-12",
                    "2024-03-13",
                    "2024-03-14",
                    "2024-03-15",
                    "2024-03-18",
                    "2024-03-19",
                    "2024-03-20",
                    "2024-03-21"
                  ],
                  "y": [
                    5,
                    5,
                    5,
                    5,
                    5,
                    5,
                    5,
                    5,
                    5,
                    5,
                    5,
                    5,
                    5,
                    5,
                    5,
                    5,
                    5,
                    5,
                    5,
                    5,
                    5,
                    5,
                    5,
                    5,
                    5,
                    5,
                    5,
                    5,
                    5,
                    5,
                    5,
                    5,
                    5,
                    5,
                    5,
                    5,
                    5,
                    5,
                    5,
                    5,
                    5,
                    5,
                    5,
                    5,
                    5,
                    5,
                    5,
                    5,
                    5,
                    5,
                    5,
                    5,
                    5,
                    5,
                    5,
                    5,
                    5,
                    5,
                    5,
                    5,
                    5,
                    5,
                    5,
                    5,
                    5,
                    5,
                    5,
                    5,
                    5,
                    5,
                    5,
                    5,
                    5,
                    5,
                    5,
                    5,
                    5,
                    5,
                    5,
                    5,
                    5,
                    5,
                    5,
                    5,
                    5,
                    5,
                    5,
                    5,
                    5,
                    5
                  ],
                  "yaxis": "y3"
                },
                {
                  "legendgroup": "RSI(Close,2)",
                  "line": {
                    "color": "green",
                    "width": 1
                  },
                  "mode": "lines",
                  "name": "",
                  "showlegend": true,
                  "text": "",
                  "type": "scatter",
                  "x": [
                    "2023-11-09",
                    "2023-11-10",
                    "2023-11-13",
                    "2023-11-14",
                    "2023-11-16",
                    "2023-11-17",
                    "2023-11-20",
                    "2023-11-21",
                    "2023-11-22",
                    "2023-11-23",
                    "2023-11-24",
                    "2023-11-27",
                    "2023-11-28",
                    "2023-11-29",
                    "2023-11-30",
                    "2023-12-01",
                    "2023-12-04",
                    "2023-12-05",
                    "2023-12-06",
                    "2023-12-07",
                    "2023-12-08",
                    "2023-12-11",
                    "2023-12-12",
                    "2023-12-13",
                    "2023-12-14",
                    "2023-12-15",
                    "2023-12-18",
                    "2023-12-19",
                    "2023-12-20",
                    "2023-12-21",
                    "2023-12-22",
                    "2023-12-26",
                    "2023-12-27",
                    "2023-12-28",
                    "2024-01-02",
                    "2024-01-03",
                    "2024-01-04",
                    "2024-01-05",
                    "2024-01-08",
                    "2024-01-09",
                    "2024-01-10",
                    "2024-01-11",
                    "2024-01-12",
                    "2024-01-15",
                    "2024-01-16",
                    "2024-01-17",
                    "2024-01-18",
                    "2024-01-19",
                    "2024-01-22",
                    "2024-01-23",
                    "2024-01-24",
                    "2024-01-25",
                    "2024-01-26",
                    "2024-01-29",
                    "2024-01-30",
                    "2024-01-31",
                    "2024-02-01",
                    "2024-02-02",
                    "2024-02-05",
                    "2024-02-06",
                    "2024-02-07",
                    "2024-02-08",
                    "2024-02-09",
                    "2024-02-14",
                    "2024-02-15",
                    "2024-02-16",
                    "2024-02-19",
                    "2024-02-20",
                    "2024-02-21",
                    "2024-02-22",
                    "2024-02-23",
                    "2024-02-26",
                    "2024-02-27",
                    "2024-02-28",
                    "2024-02-29",
                    "2024-03-01",
                    "2024-03-04",
                    "2024-03-05",
                    "2024-03-06",
                    "2024-03-07",
                    "2024-03-08",
                    "2024-03-11",
                    "2024-03-12",
                    "2024-03-13",
                    "2024-03-14",
                    "2024-03-15",
                    "2024-03-18",
                    "2024-03-19",
                    "2024-03-20",
                    "2024-03-21"
                  ],
                  "y": [
                    95,
                    95,
                    95,
                    95,
                    95,
                    95,
                    95,
                    95,
                    95,
                    95,
                    95,
                    95,
                    95,
                    95,
                    95,
                    95,
                    95,
                    95,
                    95,
                    95,
                    95,
                    95,
                    95,
                    95,
                    95,
                    95,
                    95,
                    95,
                    95,
                    95,
                    95,
                    95,
                    95,
                    95,
                    95,
                    95,
                    95,
                    95,
                    95,
                    95,
                    95,
                    95,
                    95,
                    95,
                    95,
                    95,
                    95,
                    95,
                    95,
                    95,
                    95,
                    95,
                    95,
                    95,
                    95,
                    95,
                    95,
                    95,
                    95,
                    95,
                    95,
                    95,
                    95,
                    95,
                    95,
                    95,
                    95,
                    95,
                    95,
                    95,
                    95,
                    95,
                    95,
                    95,
                    95,
                    95,
                    95,
                    95,
                    95,
                    95,
                    95,
                    95,
                    95,
                    95,
                    95,
                    95,
                    95,
                    95,
                    95,
                    95
                  ],
                  "yaxis": "y3"
                },
                {
                  "close": [
                    30.155698776245117,
                    30.155698776245117,
                    30.271312713623047,
                    30.492904663085938,
                    30.964990615844727,
                    30.618152618408203,
                    30.81083869934082,
                    30.743398666381836,
                    30.859010696411133,
                    30.926450729370117,
                    30.743398666381836,
                    30.550710678100586,
                    30.64705467224121,
                    30.300216674804688,
                    30.155698776245117,
                    29.770322799682617,
                    29.693248748779297,
                    29.57763671875,
                    29.558366775512695,
                    29.9630126953125,
                    29.972646713256836,
                    30.04008674621582,
                    30.068988800048828,
                    29.914838790893555,
                    30.48326873779297,
                    30.89754867553711,
                    31.340730667114258,
                    32.150020599365234,
                    31.938066482543945,
                    31.938066482543945,
                    32.14038848876953,
                    32.381248474121094,
                    32.1596565246582,
                    32.4197883605957,
                    32.6510124206543,
                    32.50649642944336,
                    32.73772048950195,
                    32.44868850708008,
                    32.29454040527344,
                    32.17892837524414,
                    31.97660255432129,
                    32.06331253051758,
                    32.12112045288086,
                    32.45832061767578,
                    32.25600051879883,
                    32.67028045654297,
                    33.12310028076172,
                    33.28688049316406,
                    33.36396026611328,
                    33.24834442138672,
                    32.988216400146484,
                    32.50649642944336,
                    32.49686050415039,
                    32.84370040893555,
                    32.59320831298828,
                    32.99785232543945,
                    33.055660247802734,
                    32.84370040893555,
                    33.28688049316406,
                    34.202152252197266,
                    34.529720306396484,
                    33.238712310791016,
                    32.790000915527344,
                    32.93000030517578,
                    33.0099983215332,
                    32.65999984741211,
                    32.77000045776367,
                    33.11000061035156,
                    32.900001525878906,
                    33.36000061035156,
                    33.04999923706055,
                    33.06999969482422,
                    33.209999084472656,
                    33.54999923706055,
                    33.34000015258789,
                    32.91999816894531,
                    32.90999984741211,
                    32.86000061035156,
                    32.70000076293945,
                    32.900001525878906,
                    32.790000915527344,
                    32.83000183105469,
                    32.939998626708984,
                    32.880001068115234,
                    33.11000061035156,
                    33.27000045776367,
                    33.2599983215332,
                    32.88999938964844,
                    32.86000061035156,
                    32.11000061035156
                  ],
                  "decreasing": {
                    "line": {
                      "color": "#db4052"
                    }
                  },
                  "high": [
                    30.79156960934602,
                    30.40619362528754,
                    30.627786650018347,
                    30.762668781455194,
                    31.196218054010295,
                    31.013161404779048,
                    30.849377216344585,
                    30.878279803003377,
                    30.916818473206416,
                    30.926450729370117,
                    31.022797406660928,
                    30.878280737770154,
                    30.849378217843988,
                    30.81083916957427,
                    30.492903451402903,
                    30.194237301062504,
                    30.001549548001716,
                    29.828129738641948,
                    29.86666756604661,
                    30.319484803265297,
                    30.21350693605673,
                    30.30984901486841,
                    30.261677709925134,
                    29.98228119654765,
                    30.820473412018163,
                    31.061335535983577,
                    31.571958095541657,
                    32.36197876549909,
                    32.390881194721864,
                    32.08258040868083,
                    32.24636757408177,
                    32.39088126579058,
                    32.38124747859661,
                    32.4197883605957,
                    32.718452991510304,
                    32.930409087313905,
                    32.997849966764534,
                    33.0363880205918,
                    32.525764170274584,
                    32.361980827967116,
                    32.3234418707671,
                    32.178928086686824,
                    32.419788461473125,
                    32.45832061767578,
                    32.56430130922279,
                    32.679913248346395,
                    33.19054085200229,
                    33.51810791329997,
                    33.70116311981253,
                    33.47957185852038,
                    33.23870940464322,
                    32.9978496539016,
                    32.785892033661696,
                    32.84370040893555,
                    32.89187264810188,
                    33.3157896010093,
                    33.22907991245548,
                    33.22907823880588,
                    33.547009962603774,
                    34.202152252197266,
                    34.77058051956185,
                    34.28886307863412,
                    33.20000076293945,
                    32.9900016784668,
                    33.369998931884766,
                    33.13999938964844,
                    33.09000015258789,
                    33.36000061035156,
                    33.20000076293945,
                    33.5,
                    33.560001373291016,
                    33.099998474121094,
                    33.369998931884766,
                    33.689998626708984,
                    33.68000030517578,
                    33.40999984741211,
                    33.2599983215332,
                    33.31999969482422,
                    33.15999984741211,
                    33.04999923706055,
                    32.970001220703125,
                    33.11000061035156,
                    33.02000045776367,
                    33.029998779296875,
                    33.11000061035156,
                    33.849998474121094,
                    33.560001373291016,
                    33.400001525878906,
                    33.11000061035156,
                    32.86000061035156
                  ],
                  "increasing": {
                    "line": {
                      "color": "#008000"
                    }
                  },
                  "low": [
                    30.07862357943342,
                    29.963011703024698,
                    30.030452492107145,
                    30.290582952522286,
                    30.541077933649206,
                    30.492904271708795,
                    30.33875289175047,
                    30.521807702612836,
                    30.44473265508431,
                    30.492903436621113,
                    30.483269184939445,
                    30.396560277975812,
                    30.512173533584487,
                    30.2038722184425,
                    30.155698776245117,
                    29.64507629393869,
                    29.693248748779297,
                    29.48129226007433,
                    29.48129157787922,
                    29.57763669849149,
                    29.635442033813447,
                    29.91483840352629,
                    30.059356008410884,
                    29.028473101805425,
                    30.011182928924754,
                    30.483268803816102,
                    30.54107664740823,
                    31.562321084346987,
                    31.938066482543945,
                    31.812818139703754,
                    31.909161059430513,
                    32.10184973764736,
                    32.10184875071268,
                    32.12112035293278,
                    32.36198087766635,
                    32.49685996265355,
                    32.32344061925806,
                    32.35234589103087,
                    32.27527114565076,
                    31.822452586712167,
                    31.947700503029278,
                    31.77428099056533,
                    31.995872104085983,
                    32.09221574418082,
                    32.10185012358684,
                    32.22709852887859,
                    32.641379814623036,
                    33.00748176577677,
                    33.20980986510284,
                    32.96894934869598,
                    32.679911946191396,
                    32.50649642944336,
                    32.49686050415039,
                    32.47759183808226,
                    32.55466979386541,
                    32.54503390577411,
                    32.94968115548877,
                    32.70881927105154,
                    32.8726006353788,
                    33.44103305241582,
                    34.105807654310105,
                    33.11346395997427,
                    32.099998474121094,
                    32.61000061035156,
                    32.709999084472656,
                    32.63999938964844,
                    32.41999816894531,
                    32.400001525878906,
                    32.75,
                    32.86000061035156,
                    33.04999923706055,
                    32.75,
                    33.0099983215332,
                    33.20000076293945,
                    33.310001373291016,
                    32.86000061035156,
                    32.90999984741211,
                    32.86000061035156,
                    32.59000015258789,
                    32.61000061035156,
                    32.52000045776367,
                    32.720001220703125,
                    32.72999954223633,
                    32.63999938964844,
                    32.869998931884766,
                    33.11000061035156,
                    33.22999954223633,
                    32.88999938964844,
                    32.77000045776367,
                    32.11000061035156
                  ],
                  "name": "GS",
                  "open": [
                    30.733763671141656,
                    30.252043231664146,
                    30.1653336281184,
                    30.41582946321154,
                    30.550710725756524,
                    30.964990094582472,
                    30.647053677310076,
                    30.810839234692608,
                    30.743398818055912,
                    30.541076583116098,
                    30.926451112477448,
                    30.839742218930102,
                    30.58924873247657,
                    30.781937118997973,
                    30.367656945690513,
                    30.097892845619217,
                    29.866668407746335,
                    29.789593057742305,
                    29.86666756604661,
                    29.58726949049652,
                    30.001548763917516,
                    29.97264617905267,
                    30.16533325498698,
                    29.702882457405092,
                    30.040086816755817,
                    30.483268803816102,
                    30.589247956386973,
                    31.581590342653268,
                    32.1500209759251,
                    32.05367835850051,
                    31.938066785119958,
                    32.15965751337012,
                    32.38124747859661,
                    32.15965887170904,
                    32.41978865635813,
                    32.651010354173316,
                    32.506496737647616,
                    32.824429855001284,
                    32.45832359921296,
                    32.284903789829784,
                    32.27527056020194,
                    31.995871960369904,
                    32.06331267453658,
                    32.159656309047534,
                    32.43905296460202,
                    32.25600057952421,
                    32.74735890521122,
                    33.22907639455646,
                    33.4603028885315,
                    33.4410333397922,
                    33.22907661322361,
                    32.98821686234703,
                    32.63174163957331,
                    32.62210944309248,
                    32.862970596377465,
                    32.71845356967847,
                    33.00748526021599,
                    33.05565858288777,
                    33.29651695975544,
                    33.44103305241582,
                    34.202150269482175,
                    34.20215324733568,
                    33,
                    32.790000915527344,
                    32.779998779296875,
                    33.029998779296875,
                    32.779998779296875,
                    32.61000061035156,
                    33.099998474121094,
                    32.900001525878906,
                    33.47999954223633,
                    33.04999923706055,
                    33.2599983215332,
                    33.209999084472656,
                    33.540000915527344,
                    33.349998474121094,
                    32.939998626708984,
                    33.31999969482422,
                    32.959999084472656,
                    32.70000076293945,
                    32.810001373291016,
                    32.79999923706055,
                    32.900001525878906,
                    32.83000183105469,
                    32.959999084472656,
                    33.150001525878906,
                    33.349998474121094,
                    33.33000183105469,
                    32.91999816894531,
                    32.83000183105469
                  ],
                  "showlegend": true,
                  "type": "candlestick",
                  "x": [
                    "2023-11-09",
                    "2023-11-10",
                    "2023-11-13",
                    "2023-11-14",
                    "2023-11-16",
                    "2023-11-17",
                    "2023-11-20",
                    "2023-11-21",
                    "2023-11-22",
                    "2023-11-23",
                    "2023-11-24",
                    "2023-11-27",
                    "2023-11-28",
                    "2023-11-29",
                    "2023-11-30",
                    "2023-12-01",
                    "2023-12-04",
                    "2023-12-05",
                    "2023-12-06",
                    "2023-12-07",
                    "2023-12-08",
                    "2023-12-11",
                    "2023-12-12",
                    "2023-12-13",
                    "2023-12-14",
                    "2023-12-15",
                    "2023-12-18",
                    "2023-12-19",
                    "2023-12-20",
                    "2023-12-21",
                    "2023-12-22",
                    "2023-12-26",
                    "2023-12-27",
                    "2023-12-28",
                    "2024-01-02",
                    "2024-01-03",
                    "2024-01-04",
                    "2024-01-05",
                    "2024-01-08",
                    "2024-01-09",
                    "2024-01-10",
                    "2024-01-11",
                    "2024-01-12",
                    "2024-01-15",
                    "2024-01-16",
                    "2024-01-17",
                    "2024-01-18",
                    "2024-01-19",
                    "2024-01-22",
                    "2024-01-23",
                    "2024-01-24",
                    "2024-01-25",
                    "2024-01-26",
                    "2024-01-29",
                    "2024-01-30",
                    "2024-01-31",
                    "2024-02-01",
                    "2024-02-02",
                    "2024-02-05",
                    "2024-02-06",
                    "2024-02-07",
                    "2024-02-08",
                    "2024-02-09",
                    "2024-02-14",
                    "2024-02-15",
                    "2024-02-16",
                    "2024-02-19",
                    "2024-02-20",
                    "2024-02-21",
                    "2024-02-22",
                    "2024-02-23",
                    "2024-02-26",
                    "2024-02-27",
                    "2024-02-28",
                    "2024-02-29",
                    "2024-03-01",
                    "2024-03-04",
                    "2024-03-05",
                    "2024-03-06",
                    "2024-03-07",
                    "2024-03-08",
                    "2024-03-11",
                    "2024-03-12",
                    "2024-03-13",
                    "2024-03-14",
                    "2024-03-15",
                    "2024-03-18",
                    "2024-03-19",
                    "2024-03-20",
                    "2024-03-21"
                  ],
                  "yaxis": "y2"
                }
              ],
              "layout": {
                "legend": {
                  "bgcolor": "#F5F6F9",
                  "font": {
                    "color": "#4D5663"
                  },
                  "orientation": "h",
                  "x": 0.3,
                  "y": 0.95,
                  "yanchor": "bottom"
                },
                "margin": {
                  "b": 30,
                  "l": 30,
                  "r": 30,
                  "t": 30
                },
                "paper_bgcolor": "#F5F6F9",
                "plot_bgcolor": "#F5F6F9",
                "showlegend": true,
                "template": {
                  "data": {
                    "bar": [
                      {
                        "error_x": {
                          "color": "#2a3f5f"
                        },
                        "error_y": {
                          "color": "#2a3f5f"
                        },
                        "marker": {
                          "line": {
                            "color": "#E5ECF6",
                            "width": 0.5
                          },
                          "pattern": {
                            "fillmode": "overlay",
                            "size": 10,
                            "solidity": 0.2
                          }
                        },
                        "type": "bar"
                      }
                    ],
                    "barpolar": [
                      {
                        "marker": {
                          "line": {
                            "color": "#E5ECF6",
                            "width": 0.5
                          },
                          "pattern": {
                            "fillmode": "overlay",
                            "size": 10,
                            "solidity": 0.2
                          }
                        },
                        "type": "barpolar"
                      }
                    ],
                    "carpet": [
                      {
                        "aaxis": {
                          "endlinecolor": "#2a3f5f",
                          "gridcolor": "white",
                          "linecolor": "white",
                          "minorgridcolor": "white",
                          "startlinecolor": "#2a3f5f"
                        },
                        "baxis": {
                          "endlinecolor": "#2a3f5f",
                          "gridcolor": "white",
                          "linecolor": "white",
                          "minorgridcolor": "white",
                          "startlinecolor": "#2a3f5f"
                        },
                        "type": "carpet"
                      }
                    ],
                    "choropleth": [
                      {
                        "colorbar": {
                          "outlinewidth": 0,
                          "ticks": ""
                        },
                        "type": "choropleth"
                      }
                    ],
                    "contour": [
                      {
                        "colorbar": {
                          "outlinewidth": 0,
                          "ticks": ""
                        },
                        "colorscale": [
                          [
                            0,
                            "#0d0887"
                          ],
                          [
                            0.1111111111111111,
                            "#46039f"
                          ],
                          [
                            0.2222222222222222,
                            "#7201a8"
                          ],
                          [
                            0.3333333333333333,
                            "#9c179e"
                          ],
                          [
                            0.4444444444444444,
                            "#bd3786"
                          ],
                          [
                            0.5555555555555556,
                            "#d8576b"
                          ],
                          [
                            0.6666666666666666,
                            "#ed7953"
                          ],
                          [
                            0.7777777777777778,
                            "#fb9f3a"
                          ],
                          [
                            0.8888888888888888,
                            "#fdca26"
                          ],
                          [
                            1,
                            "#f0f921"
                          ]
                        ],
                        "type": "contour"
                      }
                    ],
                    "contourcarpet": [
                      {
                        "colorbar": {
                          "outlinewidth": 0,
                          "ticks": ""
                        },
                        "type": "contourcarpet"
                      }
                    ],
                    "heatmap": [
                      {
                        "colorbar": {
                          "outlinewidth": 0,
                          "ticks": ""
                        },
                        "colorscale": [
                          [
                            0,
                            "#0d0887"
                          ],
                          [
                            0.1111111111111111,
                            "#46039f"
                          ],
                          [
                            0.2222222222222222,
                            "#7201a8"
                          ],
                          [
                            0.3333333333333333,
                            "#9c179e"
                          ],
                          [
                            0.4444444444444444,
                            "#bd3786"
                          ],
                          [
                            0.5555555555555556,
                            "#d8576b"
                          ],
                          [
                            0.6666666666666666,
                            "#ed7953"
                          ],
                          [
                            0.7777777777777778,
                            "#fb9f3a"
                          ],
                          [
                            0.8888888888888888,
                            "#fdca26"
                          ],
                          [
                            1,
                            "#f0f921"
                          ]
                        ],
                        "type": "heatmap"
                      }
                    ],
                    "heatmapgl": [
                      {
                        "colorbar": {
                          "outlinewidth": 0,
                          "ticks": ""
                        },
                        "colorscale": [
                          [
                            0,
                            "#0d0887"
                          ],
                          [
                            0.1111111111111111,
                            "#46039f"
                          ],
                          [
                            0.2222222222222222,
                            "#7201a8"
                          ],
                          [
                            0.3333333333333333,
                            "#9c179e"
                          ],
                          [
                            0.4444444444444444,
                            "#bd3786"
                          ],
                          [
                            0.5555555555555556,
                            "#d8576b"
                          ],
                          [
                            0.6666666666666666,
                            "#ed7953"
                          ],
                          [
                            0.7777777777777778,
                            "#fb9f3a"
                          ],
                          [
                            0.8888888888888888,
                            "#fdca26"
                          ],
                          [
                            1,
                            "#f0f921"
                          ]
                        ],
                        "type": "heatmapgl"
                      }
                    ],
                    "histogram": [
                      {
                        "marker": {
                          "pattern": {
                            "fillmode": "overlay",
                            "size": 10,
                            "solidity": 0.2
                          }
                        },
                        "type": "histogram"
                      }
                    ],
                    "histogram2d": [
                      {
                        "colorbar": {
                          "outlinewidth": 0,
                          "ticks": ""
                        },
                        "colorscale": [
                          [
                            0,
                            "#0d0887"
                          ],
                          [
                            0.1111111111111111,
                            "#46039f"
                          ],
                          [
                            0.2222222222222222,
                            "#7201a8"
                          ],
                          [
                            0.3333333333333333,
                            "#9c179e"
                          ],
                          [
                            0.4444444444444444,
                            "#bd3786"
                          ],
                          [
                            0.5555555555555556,
                            "#d8576b"
                          ],
                          [
                            0.6666666666666666,
                            "#ed7953"
                          ],
                          [
                            0.7777777777777778,
                            "#fb9f3a"
                          ],
                          [
                            0.8888888888888888,
                            "#fdca26"
                          ],
                          [
                            1,
                            "#f0f921"
                          ]
                        ],
                        "type": "histogram2d"
                      }
                    ],
                    "histogram2dcontour": [
                      {
                        "colorbar": {
                          "outlinewidth": 0,
                          "ticks": ""
                        },
                        "colorscale": [
                          [
                            0,
                            "#0d0887"
                          ],
                          [
                            0.1111111111111111,
                            "#46039f"
                          ],
                          [
                            0.2222222222222222,
                            "#7201a8"
                          ],
                          [
                            0.3333333333333333,
                            "#9c179e"
                          ],
                          [
                            0.4444444444444444,
                            "#bd3786"
                          ],
                          [
                            0.5555555555555556,
                            "#d8576b"
                          ],
                          [
                            0.6666666666666666,
                            "#ed7953"
                          ],
                          [
                            0.7777777777777778,
                            "#fb9f3a"
                          ],
                          [
                            0.8888888888888888,
                            "#fdca26"
                          ],
                          [
                            1,
                            "#f0f921"
                          ]
                        ],
                        "type": "histogram2dcontour"
                      }
                    ],
                    "mesh3d": [
                      {
                        "colorbar": {
                          "outlinewidth": 0,
                          "ticks": ""
                        },
                        "type": "mesh3d"
                      }
                    ],
                    "parcoords": [
                      {
                        "line": {
                          "colorbar": {
                            "outlinewidth": 0,
                            "ticks": ""
                          }
                        },
                        "type": "parcoords"
                      }
                    ],
                    "pie": [
                      {
                        "automargin": true,
                        "type": "pie"
                      }
                    ],
                    "scatter": [
                      {
                        "fillpattern": {
                          "fillmode": "overlay",
                          "size": 10,
                          "solidity": 0.2
                        },
                        "type": "scatter"
                      }
                    ],
                    "scatter3d": [
                      {
                        "line": {
                          "colorbar": {
                            "outlinewidth": 0,
                            "ticks": ""
                          }
                        },
                        "marker": {
                          "colorbar": {
                            "outlinewidth": 0,
                            "ticks": ""
                          }
                        },
                        "type": "scatter3d"
                      }
                    ],
                    "scattercarpet": [
                      {
                        "marker": {
                          "colorbar": {
                            "outlinewidth": 0,
                            "ticks": ""
                          }
                        },
                        "type": "scattercarpet"
                      }
                    ],
                    "scattergeo": [
                      {
                        "marker": {
                          "colorbar": {
                            "outlinewidth": 0,
                            "ticks": ""
                          }
                        },
                        "type": "scattergeo"
                      }
                    ],
                    "scattergl": [
                      {
                        "marker": {
                          "colorbar": {
                            "outlinewidth": 0,
                            "ticks": ""
                          }
                        },
                        "type": "scattergl"
                      }
                    ],
                    "scattermapbox": [
                      {
                        "marker": {
                          "colorbar": {
                            "outlinewidth": 0,
                            "ticks": ""
                          }
                        },
                        "type": "scattermapbox"
                      }
                    ],
                    "scatterpolar": [
                      {
                        "marker": {
                          "colorbar": {
                            "outlinewidth": 0,
                            "ticks": ""
                          }
                        },
                        "type": "scatterpolar"
                      }
                    ],
                    "scatterpolargl": [
                      {
                        "marker": {
                          "colorbar": {
                            "outlinewidth": 0,
                            "ticks": ""
                          }
                        },
                        "type": "scatterpolargl"
                      }
                    ],
                    "scatterternary": [
                      {
                        "marker": {
                          "colorbar": {
                            "outlinewidth": 0,
                            "ticks": ""
                          }
                        },
                        "type": "scatterternary"
                      }
                    ],
                    "surface": [
                      {
                        "colorbar": {
                          "outlinewidth": 0,
                          "ticks": ""
                        },
                        "colorscale": [
                          [
                            0,
                            "#0d0887"
                          ],
                          [
                            0.1111111111111111,
                            "#46039f"
                          ],
                          [
                            0.2222222222222222,
                            "#7201a8"
                          ],
                          [
                            0.3333333333333333,
                            "#9c179e"
                          ],
                          [
                            0.4444444444444444,
                            "#bd3786"
                          ],
                          [
                            0.5555555555555556,
                            "#d8576b"
                          ],
                          [
                            0.6666666666666666,
                            "#ed7953"
                          ],
                          [
                            0.7777777777777778,
                            "#fb9f3a"
                          ],
                          [
                            0.8888888888888888,
                            "#fdca26"
                          ],
                          [
                            1,
                            "#f0f921"
                          ]
                        ],
                        "type": "surface"
                      }
                    ],
                    "table": [
                      {
                        "cells": {
                          "fill": {
                            "color": "#EBF0F8"
                          },
                          "line": {
                            "color": "white"
                          }
                        },
                        "header": {
                          "fill": {
                            "color": "#C8D4E3"
                          },
                          "line": {
                            "color": "white"
                          }
                        },
                        "type": "table"
                      }
                    ]
                  },
                  "layout": {
                    "annotationdefaults": {
                      "arrowcolor": "#2a3f5f",
                      "arrowhead": 0,
                      "arrowwidth": 1
                    },
                    "autotypenumbers": "strict",
                    "coloraxis": {
                      "colorbar": {
                        "outlinewidth": 0,
                        "ticks": ""
                      }
                    },
                    "colorscale": {
                      "diverging": [
                        [
                          0,
                          "#8e0152"
                        ],
                        [
                          0.1,
                          "#c51b7d"
                        ],
                        [
                          0.2,
                          "#de77ae"
                        ],
                        [
                          0.3,
                          "#f1b6da"
                        ],
                        [
                          0.4,
                          "#fde0ef"
                        ],
                        [
                          0.5,
                          "#f7f7f7"
                        ],
                        [
                          0.6,
                          "#e6f5d0"
                        ],
                        [
                          0.7,
                          "#b8e186"
                        ],
                        [
                          0.8,
                          "#7fbc41"
                        ],
                        [
                          0.9,
                          "#4d9221"
                        ],
                        [
                          1,
                          "#276419"
                        ]
                      ],
                      "sequential": [
                        [
                          0,
                          "#0d0887"
                        ],
                        [
                          0.1111111111111111,
                          "#46039f"
                        ],
                        [
                          0.2222222222222222,
                          "#7201a8"
                        ],
                        [
                          0.3333333333333333,
                          "#9c179e"
                        ],
                        [
                          0.4444444444444444,
                          "#bd3786"
                        ],
                        [
                          0.5555555555555556,
                          "#d8576b"
                        ],
                        [
                          0.6666666666666666,
                          "#ed7953"
                        ],
                        [
                          0.7777777777777778,
                          "#fb9f3a"
                        ],
                        [
                          0.8888888888888888,
                          "#fdca26"
                        ],
                        [
                          1,
                          "#f0f921"
                        ]
                      ],
                      "sequentialminus": [
                        [
                          0,
                          "#0d0887"
                        ],
                        [
                          0.1111111111111111,
                          "#46039f"
                        ],
                        [
                          0.2222222222222222,
                          "#7201a8"
                        ],
                        [
                          0.3333333333333333,
                          "#9c179e"
                        ],
                        [
                          0.4444444444444444,
                          "#bd3786"
                        ],
                        [
                          0.5555555555555556,
                          "#d8576b"
                        ],
                        [
                          0.6666666666666666,
                          "#ed7953"
                        ],
                        [
                          0.7777777777777778,
                          "#fb9f3a"
                        ],
                        [
                          0.8888888888888888,
                          "#fdca26"
                        ],
                        [
                          1,
                          "#f0f921"
                        ]
                      ]
                    },
                    "colorway": [
                      "#636efa",
                      "#EF553B",
                      "#00cc96",
                      "#ab63fa",
                      "#FFA15A",
                      "#19d3f3",
                      "#FF6692",
                      "#B6E880",
                      "#FF97FF",
                      "#FECB52"
                    ],
                    "font": {
                      "color": "#2a3f5f"
                    },
                    "geo": {
                      "bgcolor": "white",
                      "lakecolor": "white",
                      "landcolor": "#E5ECF6",
                      "showlakes": true,
                      "showland": true,
                      "subunitcolor": "white"
                    },
                    "hoverlabel": {
                      "align": "left"
                    },
                    "hovermode": "closest",
                    "mapbox": {
                      "style": "light"
                    },
                    "paper_bgcolor": "white",
                    "plot_bgcolor": "#E5ECF6",
                    "polar": {
                      "angularaxis": {
                        "gridcolor": "white",
                        "linecolor": "white",
                        "ticks": ""
                      },
                      "bgcolor": "#E5ECF6",
                      "radialaxis": {
                        "gridcolor": "white",
                        "linecolor": "white",
                        "ticks": ""
                      }
                    },
                    "scene": {
                      "xaxis": {
                        "backgroundcolor": "#E5ECF6",
                        "gridcolor": "white",
                        "gridwidth": 2,
                        "linecolor": "white",
                        "showbackground": true,
                        "ticks": "",
                        "zerolinecolor": "white"
                      },
                      "yaxis": {
                        "backgroundcolor": "#E5ECF6",
                        "gridcolor": "white",
                        "gridwidth": 2,
                        "linecolor": "white",
                        "showbackground": true,
                        "ticks": "",
                        "zerolinecolor": "white"
                      },
                      "zaxis": {
                        "backgroundcolor": "#E5ECF6",
                        "gridcolor": "white",
                        "gridwidth": 2,
                        "linecolor": "white",
                        "showbackground": true,
                        "ticks": "",
                        "zerolinecolor": "white"
                      }
                    },
                    "shapedefaults": {
                      "line": {
                        "color": "#2a3f5f"
                      }
                    },
                    "ternary": {
                      "aaxis": {
                        "gridcolor": "white",
                        "linecolor": "white",
                        "ticks": ""
                      },
                      "baxis": {
                        "gridcolor": "white",
                        "linecolor": "white",
                        "ticks": ""
                      },
                      "bgcolor": "#E5ECF6",
                      "caxis": {
                        "gridcolor": "white",
                        "linecolor": "white",
                        "ticks": ""
                      }
                    },
                    "title": {
                      "x": 0.05
                    },
                    "xaxis": {
                      "automargin": true,
                      "gridcolor": "white",
                      "linecolor": "white",
                      "ticks": "",
                      "title": {
                        "standoff": 15
                      },
                      "zerolinecolor": "white",
                      "zerolinewidth": 2
                    },
                    "yaxis": {
                      "automargin": true,
                      "gridcolor": "white",
                      "linecolor": "white",
                      "ticks": "",
                      "title": {
                        "standoff": 15
                      },
                      "zerolinecolor": "white",
                      "zerolinewidth": 2
                    }
                  }
                },
                "title": {
                  "font": {
                    "color": "#4D5663"
                  },
                  "text": "BBSE3"
                },
                "xaxis": {
                  "anchor": "y2",
                  "gridcolor": "#E1E5ED",
                  "rangebreaks": [
                    {
                      "bounds": [
                        "sat",
                        "mon"
                      ]
                    }
                  ],
                  "rangeselector": {
                    "bgcolor": "rgba(150, 200, 250, 1)",
                    "buttons": [
                      {
                        "count": 1,
                        "label": "1m",
                        "step": "month",
                        "stepmode": "backward"
                      },
                      {
                        "count": 1,
                        "label": "1y",
                        "step": "year",
                        "stepmode": "backward"
                      }
                    ],
                    "font": {
                      "size": 13
                    },
                    "visible": false,
                    "x": 0,
                    "y": 0.9
                  },
                  "rangeslider": {
                    "visible": false
                  },
                  "showgrid": true,
                  "tickfont": {
                    "color": "#4D5663"
                  },
                  "title": {
                    "font": {
                      "color": "#4D5663"
                    },
                    "text": ""
                  },
                  "zerolinecolor": "#E1E5ED"
                },
                "yaxis": {
                  "gridcolor": "#E1E5ED",
                  "showgrid": true,
                  "showticklabels": false,
                  "tickfont": {
                    "color": "#4D5663"
                  },
                  "title": {
                    "font": {
                      "color": "#4D5663"
                    },
                    "text": ""
                  },
                  "zerolinecolor": "#E1E5ED"
                },
                "yaxis2": {
                  "domain": [
                    0.23,
                    0.9
                  ],
                  "gridcolor": "#E1E5ED",
                  "showgrid": true,
                  "tickfont": {
                    "color": "#4D5663"
                  },
                  "title": {
                    "font": {
                      "color": "#4D5663"
                    },
                    "text": ""
                  },
                  "zerolinecolor": "#E1E5ED"
                },
                "yaxis3": {
                  "domain": [
                    0,
                    0.15
                  ],
                  "gridcolor": "#E1E5ED",
                  "showgrid": true,
                  "tickfont": {
                    "color": "#4D5663"
                  },
                  "title": {
                    "font": {
                      "color": "#4D5663"
                    },
                    "text": ""
                  },
                  "zerolinecolor": "#E1E5ED"
                }
              }
            },
            "text/html": [
              "<div>                            <div id=\"fe297b14-11dc-4bdb-8706-261f46705216\" class=\"plotly-graph-div\" style=\"height:525px; width:100%;\"></div>            <script type=\"text/javascript\">                require([\"plotly\"], function(Plotly) {                    window.PLOTLYENV=window.PLOTLYENV || {};                                    if (document.getElementById(\"fe297b14-11dc-4bdb-8706-261f46705216\")) {                    Plotly.newPlot(                        \"fe297b14-11dc-4bdb-8706-261f46705216\",                        [{\"line\":{\"color\":\"rgba(55, 128, 191, 1.0)\",\"dash\":\"solid\",\"shape\":\"linear\",\"width\":1.3},\"mode\":\"lines\",\"name\":\" EMA(5)\",\"text\":\"\",\"x\":[\"2023-11-09\",\"2023-11-10\",\"2023-11-13\",\"2023-11-14\",\"2023-11-16\",\"2023-11-17\",\"2023-11-20\",\"2023-11-21\",\"2023-11-22\",\"2023-11-23\",\"2023-11-24\",\"2023-11-27\",\"2023-11-28\",\"2023-11-29\",\"2023-11-30\",\"2023-12-01\",\"2023-12-04\",\"2023-12-05\",\"2023-12-06\",\"2023-12-07\",\"2023-12-08\",\"2023-12-11\",\"2023-12-12\",\"2023-12-13\",\"2023-12-14\",\"2023-12-15\",\"2023-12-18\",\"2023-12-19\",\"2023-12-20\",\"2023-12-21\",\"2023-12-22\",\"2023-12-26\",\"2023-12-27\",\"2023-12-28\",\"2024-01-02\",\"2024-01-03\",\"2024-01-04\",\"2024-01-05\",\"2024-01-08\",\"2024-01-09\",\"2024-01-10\",\"2024-01-11\",\"2024-01-12\",\"2024-01-15\",\"2024-01-16\",\"2024-01-17\",\"2024-01-18\",\"2024-01-19\",\"2024-01-22\",\"2024-01-23\",\"2024-01-24\",\"2024-01-25\",\"2024-01-26\",\"2024-01-29\",\"2024-01-30\",\"2024-01-31\",\"2024-02-01\",\"2024-02-02\",\"2024-02-05\",\"2024-02-06\",\"2024-02-07\",\"2024-02-08\",\"2024-02-09\",\"2024-02-14\",\"2024-02-15\",\"2024-02-16\",\"2024-02-19\",\"2024-02-20\",\"2024-02-21\",\"2024-02-22\",\"2024-02-23\",\"2024-02-26\",\"2024-02-27\",\"2024-02-28\",\"2024-02-29\",\"2024-03-01\",\"2024-03-04\",\"2024-03-05\",\"2024-03-06\",\"2024-03-07\",\"2024-03-08\",\"2024-03-11\",\"2024-03-12\",\"2024-03-13\",\"2024-03-14\",\"2024-03-15\",\"2024-03-18\",\"2024-03-19\",\"2024-03-20\",\"2024-03-21\"],\"y\":[\"\",\"\",\"\",\"\",30.517525355021164,30.55106777615018,30.637658083880396,30.67290494471421,30.734940195279854,30.79877703997661,30.780317582111685,30.70378194744132,30.684872855707955,30.5566541287402,30.423002344575174,30.20544249627766,30.034711247111538,29.882353070991027,29.77435763916492,29.837242657880783,29.882377343006134,29.93494714407603,29.979627696066963,29.958031394342495,30.133110508825986,30.38792323106303,30.705525709746773,31.187024006286265,31.43737149837216,31.604269826429423,31.782976047209463,31.982400189513342,32.04148563456163,32.16758654323966,32.32872850237787,32.38798447806637,32.504563148544904,32.48593826805663,32.422138980462236,32.34106877872287,32.21958003725568,32.16749086834298,32.15203406318894,32.25412958135122,32.25475322716709,32.39326230362572,32.63654162933772,32.85332125061317,33.02353425577988,33.09847097764883,33.06171945181472,32.87664511102427,32.75005024206631,32.78126696435606,32.71858074723347,32.81167127330213,32.893000931469004,32.87656742395785,33.01333844702659,33.40960971541682,33.78297991241004,33.60155737853704,33.33103855753381,33.19735914008113,33.13490553389849,32.976603638403034,32.90773591152325,32.97515747779936,32.95010549382587,33.086737199334436,33.07449121190981,33.07299403954795,33.11866238785619,33.26244133759098,33.288294275923285,33.16552890693063,33.08035255375779,33.006901905955715,32.904601524950294,32.9030681919265,32.86537909979345,32.85358667688053,32.88239066015669,32.881594129476206,32.95772962310133,33.06181990132211,33.12787937472581,33.04858604636669,32.98572423436165,32.693816359691624],\"yaxis\":\"y2\",\"type\":\"scatter\"},{\"line\":{\"color\":\"rgba(55, 128, 191, 1.0)\",\"dash\":\"solid\",\"shape\":\"linear\",\"width\":1.3},\"mode\":\"lines\",\"name\":\" EMA(21)\",\"text\":\"\",\"x\":[\"2023-11-09\",\"2023-11-10\",\"2023-11-13\",\"2023-11-14\",\"2023-11-16\",\"2023-11-17\",\"2023-11-20\",\"2023-11-21\",\"2023-11-22\",\"2023-11-23\",\"2023-11-24\",\"2023-11-27\",\"2023-11-28\",\"2023-11-29\",\"2023-11-30\",\"2023-12-01\",\"2023-12-04\",\"2023-12-05\",\"2023-12-06\",\"2023-12-07\",\"2023-12-08\",\"2023-12-11\",\"2023-12-12\",\"2023-12-13\",\"2023-12-14\",\"2023-12-15\",\"2023-12-18\",\"2023-12-19\",\"2023-12-20\",\"2023-12-21\",\"2023-12-22\",\"2023-12-26\",\"2023-12-27\",\"2023-12-28\",\"2024-01-02\",\"2024-01-03\",\"2024-01-04\",\"2024-01-05\",\"2024-01-08\",\"2024-01-09\",\"2024-01-10\",\"2024-01-11\",\"2024-01-12\",\"2024-01-15\",\"2024-01-16\",\"2024-01-17\",\"2024-01-18\",\"2024-01-19\",\"2024-01-22\",\"2024-01-23\",\"2024-01-24\",\"2024-01-25\",\"2024-01-26\",\"2024-01-29\",\"2024-01-30\",\"2024-01-31\",\"2024-02-01\",\"2024-02-02\",\"2024-02-05\",\"2024-02-06\",\"2024-02-07\",\"2024-02-08\",\"2024-02-09\",\"2024-02-14\",\"2024-02-15\",\"2024-02-16\",\"2024-02-19\",\"2024-02-20\",\"2024-02-21\",\"2024-02-22\",\"2024-02-23\",\"2024-02-26\",\"2024-02-27\",\"2024-02-28\",\"2024-02-29\",\"2024-03-01\",\"2024-03-04\",\"2024-03-05\",\"2024-03-06\",\"2024-03-07\",\"2024-03-08\",\"2024-03-11\",\"2024-03-12\",\"2024-03-13\",\"2024-03-14\",\"2024-03-15\",\"2024-03-18\",\"2024-03-19\",\"2024-03-20\",\"2024-03-21\"],\"y\":[\"\",\"\",\"\",\"\",\"\",\"\",\"\",\"\",\"\",\"\",\"\",\"\",\"\",\"\",\"\",\"\",\"\",\"\",\"\",\"\",30.16183402610659,30.150766091571064,30.14333179234177,30.12255970130102,30.155351431891198,30.22282390858628,30.32445179572519,30.4904125960561,30.62201749482772,30.74165831189283,30.8688156006998,31.006309498283553,31.111159227953976,31.230125512739587,31.35929704982274,31.46358790251552,31.579418137696106,31.658442716731013,31.716269779325778,31.758329651681994,31.77817264283102,31.804094450802527,31.83291499644601,31.889770052921442,31.92306373163757,31.990992524810785,32.09391141171542,32.202363146392564,32.30796288454899,32.393452115170604,32.44752159562296,32.45288294415209,32.45688090415193,32.49204631367771,32.50124285906958,32.54638917419411,32.59268654452217,32.61550598674157,32.676540032779975,32.815232052727,32.97109462124241,32.99542350211046,32.976748721511996,32.97249886548143,32.97590790694068,32.94718899243808,32.93108094383131,32.94734636806042,32.943042291498465,32.980947593212385,32.987225015380396,32.99474998623892,33.014318086078354,33.06301637253128,33.08819671617279,33.07290593915211,33.05809629444847,33.0400875958942,33.00917061108013,32.999246148789105,32.98022385485622,32.966567307237895,32.96415197264436,32.95650189041444,32.97045631949963,32.99768760479636,33.02153403359062,33.009576338686784,32.995978545201766,32.91543509657902],\"yaxis\":\"y2\",\"type\":\"scatter\"},{\"line\":{\"color\":\"rgba(55, 128, 191, 1.0)\",\"dash\":\"solid\",\"shape\":\"linear\",\"width\":1.3},\"mode\":\"lines\",\"name\":\" EMA(72)\",\"text\":\"\",\"x\":[\"2023-11-09\",\"2023-11-10\",\"2023-11-13\",\"2023-11-14\",\"2023-11-16\",\"2023-11-17\",\"2023-11-20\",\"2023-11-21\",\"2023-11-22\",\"2023-11-23\",\"2023-11-24\",\"2023-11-27\",\"2023-11-28\",\"2023-11-29\",\"2023-11-30\",\"2023-12-01\",\"2023-12-04\",\"2023-12-05\",\"2023-12-06\",\"2023-12-07\",\"2023-12-08\",\"2023-12-11\",\"2023-12-12\",\"2023-12-13\",\"2023-12-14\",\"2023-12-15\",\"2023-12-18\",\"2023-12-19\",\"2023-12-20\",\"2023-12-21\",\"2023-12-22\",\"2023-12-26\",\"2023-12-27\",\"2023-12-28\",\"2024-01-02\",\"2024-01-03\",\"2024-01-04\",\"2024-01-05\",\"2024-01-08\",\"2024-01-09\",\"2024-01-10\",\"2024-01-11\",\"2024-01-12\",\"2024-01-15\",\"2024-01-16\",\"2024-01-17\",\"2024-01-18\",\"2024-01-19\",\"2024-01-22\",\"2024-01-23\",\"2024-01-24\",\"2024-01-25\",\"2024-01-26\",\"2024-01-29\",\"2024-01-30\",\"2024-01-31\",\"2024-02-01\",\"2024-02-02\",\"2024-02-05\",\"2024-02-06\",\"2024-02-07\",\"2024-02-08\",\"2024-02-09\",\"2024-02-14\",\"2024-02-15\",\"2024-02-16\",\"2024-02-19\",\"2024-02-20\",\"2024-02-21\",\"2024-02-22\",\"2024-02-23\",\"2024-02-26\",\"2024-02-27\",\"2024-02-28\",\"2024-02-29\",\"2024-03-01\",\"2024-03-04\",\"2024-03-05\",\"2024-03-06\",\"2024-03-07\",\"2024-03-08\",\"2024-03-11\",\"2024-03-12\",\"2024-03-13\",\"2024-03-14\",\"2024-03-15\",\"2024-03-18\",\"2024-03-19\",\"2024-03-20\",\"2024-03-21\"],\"y\":[\"\",\"\",\"\",\"\",\"\",\"\",\"\",\"\",\"\",\"\",\"\",\"\",\"\",\"\",\"\",\"\",\"\",\"\",\"\",\"\",\"\",\"\",\"\",\"\",\"\",\"\",\"\",\"\",\"\",\"\",\"\",\"\",\"\",\"\",\"\",\"\",\"\",\"\",\"\",\"\",\"\",\"\",\"\",\"\",\"\",\"\",\"\",\"\",\"\",\"\",\"\",\"\",\"\",\"\",\"\",\"\",\"\",\"\",\"\",\"\",\"\",\"\",\"\",\"\",\"\",\"\",\"\",\"\",\"\",\"\",\"\",32.1191214449497,32.14900850356676,32.18739181133372,32.21897012205301,32.23817636991307,32.25658249258428,32.27311449581078,32.28481000997869,32.30166457205815,32.31504364996142,32.32915209327904,32.34588761474288,32.36052086004075,32.38105455183009,32.40540923418443,32.428822633837825,32.441457613449074,32.45292454487106,32.44352936858286],\"yaxis\":\"y2\",\"type\":\"scatter\"},{\"legendgroup\":\"RSI(Close,2)\",\"line\":{\"color\":\"rgba(219, 64, 82, 1.0)\",\"dash\":\"solid\",\"shape\":\"linear\",\"width\":1.3},\"mode\":\"lines\",\"name\":\"RSI(Close,2)\",\"showlegend\":true,\"text\":\"\",\"x\":[\"2023-11-09\",\"2023-11-10\",\"2023-11-13\",\"2023-11-14\",\"2023-11-16\",\"2023-11-17\",\"2023-11-20\",\"2023-11-21\",\"2023-11-22\",\"2023-11-23\",\"2023-11-24\",\"2023-11-27\",\"2023-11-28\",\"2023-11-29\",\"2023-11-30\",\"2023-12-01\",\"2023-12-04\",\"2023-12-05\",\"2023-12-06\",\"2023-12-07\",\"2023-12-08\",\"2023-12-11\",\"2023-12-12\",\"2023-12-13\",\"2023-12-14\",\"2023-12-15\",\"2023-12-18\",\"2023-12-19\",\"2023-12-20\",\"2023-12-21\",\"2023-12-22\",\"2023-12-26\",\"2023-12-27\",\"2023-12-28\",\"2024-01-02\",\"2024-01-03\",\"2024-01-04\",\"2024-01-05\",\"2024-01-08\",\"2024-01-09\",\"2024-01-10\",\"2024-01-11\",\"2024-01-12\",\"2024-01-15\",\"2024-01-16\",\"2024-01-17\",\"2024-01-18\",\"2024-01-19\",\"2024-01-22\",\"2024-01-23\",\"2024-01-24\",\"2024-01-25\",\"2024-01-26\",\"2024-01-29\",\"2024-01-30\",\"2024-01-31\",\"2024-02-01\",\"2024-02-02\",\"2024-02-05\",\"2024-02-06\",\"2024-02-07\",\"2024-02-08\",\"2024-02-09\",\"2024-02-14\",\"2024-02-15\",\"2024-02-16\",\"2024-02-19\",\"2024-02-20\",\"2024-02-21\",\"2024-02-22\",\"2024-02-23\",\"2024-02-26\",\"2024-02-27\",\"2024-02-28\",\"2024-02-29\",\"2024-03-01\",\"2024-03-04\",\"2024-03-05\",\"2024-03-06\",\"2024-03-07\",\"2024-03-08\",\"2024-03-11\",\"2024-03-12\",\"2024-03-13\",\"2024-03-14\",\"2024-03-15\",\"2024-03-18\",\"2024-03-19\",\"2024-03-20\",\"2024-03-21\"],\"y\":[\"\",\"\",100.0,100.0,100.0,57.64710540535505,35.714083700409375,74.0741012311099,63.15800441795524,100.0,26.92301835071956,0.0,33.33333333333333,21.73914914677971,0.0,0.0,0.0,0.0,0.0,95.45430003509499,100.0,100.0,100.0,15.788980119201426,78.66671945940239,100.0,100.0,100.0,79.24549797731153,0.0,100.0,100.0,52.08324740779846,54.00020589003888,100.0,61.53830534630145,61.53830534630145,44.44428150342421,0.0,0.0,0.0,29.9997360398052,100.0,100.0,62.50000000000001,67.18778999987626,100.0,100.0,100.0,40.000791859682465,0.0,0.0,0.0,97.29689238935023,58.064845740706446,61.764877139862584,100.0,21.42877343816285,67.64663068224827,100.0,100.0,20.238039123261842,0.0,23.780673504960248,100.0,18.604341693207118,23.913223757318434,100.0,61.81829531346452,68.65676740531553,59.74010532521513,6.060711148101916,100.0,100.0,61.81829531346452,0.0,0.0,0.0,0.0,55.55567329292587,64.5160893373531,26.66700574741874,100.0,64.7061463545991,79.31097986082793,100.0,94.11645910467855,0.0,0.0,0.0],\"yaxis\":\"y3\",\"type\":\"scatter\"},{\"legendgroup\":\"RSI(Close,2)\",\"line\":{\"color\":\"red\",\"width\":1},\"mode\":\"lines\",\"name\":\"\",\"showlegend\":true,\"text\":\"\",\"x\":[\"2023-11-09\",\"2023-11-10\",\"2023-11-13\",\"2023-11-14\",\"2023-11-16\",\"2023-11-17\",\"2023-11-20\",\"2023-11-21\",\"2023-11-22\",\"2023-11-23\",\"2023-11-24\",\"2023-11-27\",\"2023-11-28\",\"2023-11-29\",\"2023-11-30\",\"2023-12-01\",\"2023-12-04\",\"2023-12-05\",\"2023-12-06\",\"2023-12-07\",\"2023-12-08\",\"2023-12-11\",\"2023-12-12\",\"2023-12-13\",\"2023-12-14\",\"2023-12-15\",\"2023-12-18\",\"2023-12-19\",\"2023-12-20\",\"2023-12-21\",\"2023-12-22\",\"2023-12-26\",\"2023-12-27\",\"2023-12-28\",\"2024-01-02\",\"2024-01-03\",\"2024-01-04\",\"2024-01-05\",\"2024-01-08\",\"2024-01-09\",\"2024-01-10\",\"2024-01-11\",\"2024-01-12\",\"2024-01-15\",\"2024-01-16\",\"2024-01-17\",\"2024-01-18\",\"2024-01-19\",\"2024-01-22\",\"2024-01-23\",\"2024-01-24\",\"2024-01-25\",\"2024-01-26\",\"2024-01-29\",\"2024-01-30\",\"2024-01-31\",\"2024-02-01\",\"2024-02-02\",\"2024-02-05\",\"2024-02-06\",\"2024-02-07\",\"2024-02-08\",\"2024-02-09\",\"2024-02-14\",\"2024-02-15\",\"2024-02-16\",\"2024-02-19\",\"2024-02-20\",\"2024-02-21\",\"2024-02-22\",\"2024-02-23\",\"2024-02-26\",\"2024-02-27\",\"2024-02-28\",\"2024-02-29\",\"2024-03-01\",\"2024-03-04\",\"2024-03-05\",\"2024-03-06\",\"2024-03-07\",\"2024-03-08\",\"2024-03-11\",\"2024-03-12\",\"2024-03-13\",\"2024-03-14\",\"2024-03-15\",\"2024-03-18\",\"2024-03-19\",\"2024-03-20\",\"2024-03-21\"],\"y\":[5,5,5,5,5,5,5,5,5,5,5,5,5,5,5,5,5,5,5,5,5,5,5,5,5,5,5,5,5,5,5,5,5,5,5,5,5,5,5,5,5,5,5,5,5,5,5,5,5,5,5,5,5,5,5,5,5,5,5,5,5,5,5,5,5,5,5,5,5,5,5,5,5,5,5,5,5,5,5,5,5,5,5,5,5,5,5,5,5,5],\"yaxis\":\"y3\",\"type\":\"scatter\"},{\"legendgroup\":\"RSI(Close,2)\",\"line\":{\"color\":\"green\",\"width\":1},\"mode\":\"lines\",\"name\":\"\",\"showlegend\":true,\"text\":\"\",\"x\":[\"2023-11-09\",\"2023-11-10\",\"2023-11-13\",\"2023-11-14\",\"2023-11-16\",\"2023-11-17\",\"2023-11-20\",\"2023-11-21\",\"2023-11-22\",\"2023-11-23\",\"2023-11-24\",\"2023-11-27\",\"2023-11-28\",\"2023-11-29\",\"2023-11-30\",\"2023-12-01\",\"2023-12-04\",\"2023-12-05\",\"2023-12-06\",\"2023-12-07\",\"2023-12-08\",\"2023-12-11\",\"2023-12-12\",\"2023-12-13\",\"2023-12-14\",\"2023-12-15\",\"2023-12-18\",\"2023-12-19\",\"2023-12-20\",\"2023-12-21\",\"2023-12-22\",\"2023-12-26\",\"2023-12-27\",\"2023-12-28\",\"2024-01-02\",\"2024-01-03\",\"2024-01-04\",\"2024-01-05\",\"2024-01-08\",\"2024-01-09\",\"2024-01-10\",\"2024-01-11\",\"2024-01-12\",\"2024-01-15\",\"2024-01-16\",\"2024-01-17\",\"2024-01-18\",\"2024-01-19\",\"2024-01-22\",\"2024-01-23\",\"2024-01-24\",\"2024-01-25\",\"2024-01-26\",\"2024-01-29\",\"2024-01-30\",\"2024-01-31\",\"2024-02-01\",\"2024-02-02\",\"2024-02-05\",\"2024-02-06\",\"2024-02-07\",\"2024-02-08\",\"2024-02-09\",\"2024-02-14\",\"2024-02-15\",\"2024-02-16\",\"2024-02-19\",\"2024-02-20\",\"2024-02-21\",\"2024-02-22\",\"2024-02-23\",\"2024-02-26\",\"2024-02-27\",\"2024-02-28\",\"2024-02-29\",\"2024-03-01\",\"2024-03-04\",\"2024-03-05\",\"2024-03-06\",\"2024-03-07\",\"2024-03-08\",\"2024-03-11\",\"2024-03-12\",\"2024-03-13\",\"2024-03-14\",\"2024-03-15\",\"2024-03-18\",\"2024-03-19\",\"2024-03-20\",\"2024-03-21\"],\"y\":[95,95,95,95,95,95,95,95,95,95,95,95,95,95,95,95,95,95,95,95,95,95,95,95,95,95,95,95,95,95,95,95,95,95,95,95,95,95,95,95,95,95,95,95,95,95,95,95,95,95,95,95,95,95,95,95,95,95,95,95,95,95,95,95,95,95,95,95,95,95,95,95,95,95,95,95,95,95,95,95,95,95,95,95,95,95,95,95,95,95],\"yaxis\":\"y3\",\"type\":\"scatter\"},{\"close\":[30.155698776245117,30.155698776245117,30.271312713623047,30.492904663085938,30.964990615844727,30.618152618408203,30.81083869934082,30.743398666381836,30.859010696411133,30.926450729370117,30.743398666381836,30.550710678100586,30.64705467224121,30.300216674804688,30.155698776245117,29.770322799682617,29.693248748779297,29.57763671875,29.558366775512695,29.9630126953125,29.972646713256836,30.04008674621582,30.068988800048828,29.914838790893555,30.48326873779297,30.89754867553711,31.340730667114258,32.150020599365234,31.938066482543945,31.938066482543945,32.14038848876953,32.381248474121094,32.1596565246582,32.4197883605957,32.6510124206543,32.50649642944336,32.73772048950195,32.44868850708008,32.29454040527344,32.17892837524414,31.97660255432129,32.06331253051758,32.12112045288086,32.45832061767578,32.25600051879883,32.67028045654297,33.12310028076172,33.28688049316406,33.36396026611328,33.24834442138672,32.988216400146484,32.50649642944336,32.49686050415039,32.84370040893555,32.59320831298828,32.99785232543945,33.055660247802734,32.84370040893555,33.28688049316406,34.202152252197266,34.529720306396484,33.238712310791016,32.790000915527344,32.93000030517578,33.0099983215332,32.65999984741211,32.77000045776367,33.11000061035156,32.900001525878906,33.36000061035156,33.04999923706055,33.06999969482422,33.209999084472656,33.54999923706055,33.34000015258789,32.91999816894531,32.90999984741211,32.86000061035156,32.70000076293945,32.900001525878906,32.790000915527344,32.83000183105469,32.939998626708984,32.880001068115234,33.11000061035156,33.27000045776367,33.2599983215332,32.88999938964844,32.86000061035156,32.11000061035156],\"decreasing\":{\"line\":{\"color\":\"#db4052\"}},\"high\":[30.79156960934602,30.40619362528754,30.627786650018347,30.762668781455194,31.196218054010295,31.013161404779048,30.849377216344585,30.878279803003377,30.916818473206416,30.926450729370117,31.022797406660928,30.878280737770154,30.849378217843988,30.81083916957427,30.492903451402903,30.194237301062504,30.001549548001716,29.828129738641948,29.86666756604661,30.319484803265297,30.21350693605673,30.30984901486841,30.261677709925134,29.98228119654765,30.820473412018163,31.061335535983577,31.571958095541657,32.36197876549909,32.390881194721864,32.08258040868083,32.24636757408177,32.39088126579058,32.38124747859661,32.4197883605957,32.718452991510304,32.930409087313905,32.997849966764534,33.0363880205918,32.525764170274584,32.361980827967116,32.3234418707671,32.178928086686824,32.419788461473125,32.45832061767578,32.56430130922279,32.679913248346395,33.19054085200229,33.51810791329997,33.70116311981253,33.47957185852038,33.23870940464322,32.9978496539016,32.785892033661696,32.84370040893555,32.89187264810188,33.3157896010093,33.22907991245548,33.22907823880588,33.547009962603774,34.202152252197266,34.77058051956185,34.28886307863412,33.20000076293945,32.9900016784668,33.369998931884766,33.13999938964844,33.09000015258789,33.36000061035156,33.20000076293945,33.5,33.560001373291016,33.099998474121094,33.369998931884766,33.689998626708984,33.68000030517578,33.40999984741211,33.2599983215332,33.31999969482422,33.15999984741211,33.04999923706055,32.970001220703125,33.11000061035156,33.02000045776367,33.029998779296875,33.11000061035156,33.849998474121094,33.560001373291016,33.400001525878906,33.11000061035156,32.86000061035156],\"increasing\":{\"line\":{\"color\":\"#008000\"}},\"low\":[30.07862357943342,29.963011703024698,30.030452492107145,30.290582952522286,30.541077933649206,30.492904271708795,30.33875289175047,30.521807702612836,30.44473265508431,30.492903436621113,30.483269184939445,30.396560277975812,30.512173533584487,30.2038722184425,30.155698776245117,29.64507629393869,29.693248748779297,29.48129226007433,29.48129157787922,29.57763669849149,29.635442033813447,29.91483840352629,30.059356008410884,29.028473101805425,30.011182928924754,30.483268803816102,30.54107664740823,31.562321084346987,31.938066482543945,31.812818139703754,31.909161059430513,32.10184973764736,32.10184875071268,32.12112035293278,32.36198087766635,32.49685996265355,32.32344061925806,32.35234589103087,32.27527114565076,31.822452586712167,31.947700503029278,31.77428099056533,31.995872104085983,32.09221574418082,32.10185012358684,32.22709852887859,32.641379814623036,33.00748176577677,33.20980986510284,32.96894934869598,32.679911946191396,32.50649642944336,32.49686050415039,32.47759183808226,32.55466979386541,32.54503390577411,32.94968115548877,32.70881927105154,32.8726006353788,33.44103305241582,34.105807654310105,33.11346395997427,32.099998474121094,32.61000061035156,32.709999084472656,32.63999938964844,32.41999816894531,32.400001525878906,32.75,32.86000061035156,33.04999923706055,32.75,33.0099983215332,33.20000076293945,33.310001373291016,32.86000061035156,32.90999984741211,32.86000061035156,32.59000015258789,32.61000061035156,32.52000045776367,32.720001220703125,32.72999954223633,32.63999938964844,32.869998931884766,33.11000061035156,33.22999954223633,32.88999938964844,32.77000045776367,32.11000061035156],\"name\":\"GS\",\"open\":[30.733763671141656,30.252043231664146,30.1653336281184,30.41582946321154,30.550710725756524,30.964990094582472,30.647053677310076,30.810839234692608,30.743398818055912,30.541076583116098,30.926451112477448,30.839742218930102,30.58924873247657,30.781937118997973,30.367656945690513,30.097892845619217,29.866668407746335,29.789593057742305,29.86666756604661,29.58726949049652,30.001548763917516,29.97264617905267,30.16533325498698,29.702882457405092,30.040086816755817,30.483268803816102,30.589247956386973,31.581590342653268,32.1500209759251,32.05367835850051,31.938066785119958,32.15965751337012,32.38124747859661,32.15965887170904,32.41978865635813,32.651010354173316,32.506496737647616,32.824429855001284,32.45832359921296,32.284903789829784,32.27527056020194,31.995871960369904,32.06331267453658,32.159656309047534,32.43905296460202,32.25600057952421,32.74735890521122,33.22907639455646,33.4603028885315,33.4410333397922,33.22907661322361,32.98821686234703,32.63174163957331,32.62210944309248,32.862970596377465,32.71845356967847,33.00748526021599,33.05565858288777,33.29651695975544,33.44103305241582,34.202150269482175,34.20215324733568,33.0,32.790000915527344,32.779998779296875,33.029998779296875,32.779998779296875,32.61000061035156,33.099998474121094,32.900001525878906,33.47999954223633,33.04999923706055,33.2599983215332,33.209999084472656,33.540000915527344,33.349998474121094,32.939998626708984,33.31999969482422,32.959999084472656,32.70000076293945,32.810001373291016,32.79999923706055,32.900001525878906,32.83000183105469,32.959999084472656,33.150001525878906,33.349998474121094,33.33000183105469,32.91999816894531,32.83000183105469],\"showlegend\":true,\"x\":[\"2023-11-09\",\"2023-11-10\",\"2023-11-13\",\"2023-11-14\",\"2023-11-16\",\"2023-11-17\",\"2023-11-20\",\"2023-11-21\",\"2023-11-22\",\"2023-11-23\",\"2023-11-24\",\"2023-11-27\",\"2023-11-28\",\"2023-11-29\",\"2023-11-30\",\"2023-12-01\",\"2023-12-04\",\"2023-12-05\",\"2023-12-06\",\"2023-12-07\",\"2023-12-08\",\"2023-12-11\",\"2023-12-12\",\"2023-12-13\",\"2023-12-14\",\"2023-12-15\",\"2023-12-18\",\"2023-12-19\",\"2023-12-20\",\"2023-12-21\",\"2023-12-22\",\"2023-12-26\",\"2023-12-27\",\"2023-12-28\",\"2024-01-02\",\"2024-01-03\",\"2024-01-04\",\"2024-01-05\",\"2024-01-08\",\"2024-01-09\",\"2024-01-10\",\"2024-01-11\",\"2024-01-12\",\"2024-01-15\",\"2024-01-16\",\"2024-01-17\",\"2024-01-18\",\"2024-01-19\",\"2024-01-22\",\"2024-01-23\",\"2024-01-24\",\"2024-01-25\",\"2024-01-26\",\"2024-01-29\",\"2024-01-30\",\"2024-01-31\",\"2024-02-01\",\"2024-02-02\",\"2024-02-05\",\"2024-02-06\",\"2024-02-07\",\"2024-02-08\",\"2024-02-09\",\"2024-02-14\",\"2024-02-15\",\"2024-02-16\",\"2024-02-19\",\"2024-02-20\",\"2024-02-21\",\"2024-02-22\",\"2024-02-23\",\"2024-02-26\",\"2024-02-27\",\"2024-02-28\",\"2024-02-29\",\"2024-03-01\",\"2024-03-04\",\"2024-03-05\",\"2024-03-06\",\"2024-03-07\",\"2024-03-08\",\"2024-03-11\",\"2024-03-12\",\"2024-03-13\",\"2024-03-14\",\"2024-03-15\",\"2024-03-18\",\"2024-03-19\",\"2024-03-20\",\"2024-03-21\"],\"yaxis\":\"y2\",\"type\":\"candlestick\"}],                        {\"legend\":{\"bgcolor\":\"#F5F6F9\",\"font\":{\"color\":\"#4D5663\"},\"orientation\":\"h\",\"x\":0.3,\"y\":0.95,\"yanchor\":\"bottom\"},\"margin\":{\"b\":30,\"l\":30,\"r\":30,\"t\":30},\"paper_bgcolor\":\"#F5F6F9\",\"plot_bgcolor\":\"#F5F6F9\",\"showlegend\":true,\"template\":{\"data\":{\"barpolar\":[{\"marker\":{\"line\":{\"color\":\"#E5ECF6\",\"width\":0.5},\"pattern\":{\"fillmode\":\"overlay\",\"size\":10,\"solidity\":0.2}},\"type\":\"barpolar\"}],\"bar\":[{\"error_x\":{\"color\":\"#2a3f5f\"},\"error_y\":{\"color\":\"#2a3f5f\"},\"marker\":{\"line\":{\"color\":\"#E5ECF6\",\"width\":0.5},\"pattern\":{\"fillmode\":\"overlay\",\"size\":10,\"solidity\":0.2}},\"type\":\"bar\"}],\"carpet\":[{\"aaxis\":{\"endlinecolor\":\"#2a3f5f\",\"gridcolor\":\"white\",\"linecolor\":\"white\",\"minorgridcolor\":\"white\",\"startlinecolor\":\"#2a3f5f\"},\"baxis\":{\"endlinecolor\":\"#2a3f5f\",\"gridcolor\":\"white\",\"linecolor\":\"white\",\"minorgridcolor\":\"white\",\"startlinecolor\":\"#2a3f5f\"},\"type\":\"carpet\"}],\"choropleth\":[{\"colorbar\":{\"outlinewidth\":0,\"ticks\":\"\"},\"type\":\"choropleth\"}],\"contourcarpet\":[{\"colorbar\":{\"outlinewidth\":0,\"ticks\":\"\"},\"type\":\"contourcarpet\"}],\"contour\":[{\"colorbar\":{\"outlinewidth\":0,\"ticks\":\"\"},\"colorscale\":[[0.0,\"#0d0887\"],[0.1111111111111111,\"#46039f\"],[0.2222222222222222,\"#7201a8\"],[0.3333333333333333,\"#9c179e\"],[0.4444444444444444,\"#bd3786\"],[0.5555555555555556,\"#d8576b\"],[0.6666666666666666,\"#ed7953\"],[0.7777777777777778,\"#fb9f3a\"],[0.8888888888888888,\"#fdca26\"],[1.0,\"#f0f921\"]],\"type\":\"contour\"}],\"heatmapgl\":[{\"colorbar\":{\"outlinewidth\":0,\"ticks\":\"\"},\"colorscale\":[[0.0,\"#0d0887\"],[0.1111111111111111,\"#46039f\"],[0.2222222222222222,\"#7201a8\"],[0.3333333333333333,\"#9c179e\"],[0.4444444444444444,\"#bd3786\"],[0.5555555555555556,\"#d8576b\"],[0.6666666666666666,\"#ed7953\"],[0.7777777777777778,\"#fb9f3a\"],[0.8888888888888888,\"#fdca26\"],[1.0,\"#f0f921\"]],\"type\":\"heatmapgl\"}],\"heatmap\":[{\"colorbar\":{\"outlinewidth\":0,\"ticks\":\"\"},\"colorscale\":[[0.0,\"#0d0887\"],[0.1111111111111111,\"#46039f\"],[0.2222222222222222,\"#7201a8\"],[0.3333333333333333,\"#9c179e\"],[0.4444444444444444,\"#bd3786\"],[0.5555555555555556,\"#d8576b\"],[0.6666666666666666,\"#ed7953\"],[0.7777777777777778,\"#fb9f3a\"],[0.8888888888888888,\"#fdca26\"],[1.0,\"#f0f921\"]],\"type\":\"heatmap\"}],\"histogram2dcontour\":[{\"colorbar\":{\"outlinewidth\":0,\"ticks\":\"\"},\"colorscale\":[[0.0,\"#0d0887\"],[0.1111111111111111,\"#46039f\"],[0.2222222222222222,\"#7201a8\"],[0.3333333333333333,\"#9c179e\"],[0.4444444444444444,\"#bd3786\"],[0.5555555555555556,\"#d8576b\"],[0.6666666666666666,\"#ed7953\"],[0.7777777777777778,\"#fb9f3a\"],[0.8888888888888888,\"#fdca26\"],[1.0,\"#f0f921\"]],\"type\":\"histogram2dcontour\"}],\"histogram2d\":[{\"colorbar\":{\"outlinewidth\":0,\"ticks\":\"\"},\"colorscale\":[[0.0,\"#0d0887\"],[0.1111111111111111,\"#46039f\"],[0.2222222222222222,\"#7201a8\"],[0.3333333333333333,\"#9c179e\"],[0.4444444444444444,\"#bd3786\"],[0.5555555555555556,\"#d8576b\"],[0.6666666666666666,\"#ed7953\"],[0.7777777777777778,\"#fb9f3a\"],[0.8888888888888888,\"#fdca26\"],[1.0,\"#f0f921\"]],\"type\":\"histogram2d\"}],\"histogram\":[{\"marker\":{\"pattern\":{\"fillmode\":\"overlay\",\"size\":10,\"solidity\":0.2}},\"type\":\"histogram\"}],\"mesh3d\":[{\"colorbar\":{\"outlinewidth\":0,\"ticks\":\"\"},\"type\":\"mesh3d\"}],\"parcoords\":[{\"line\":{\"colorbar\":{\"outlinewidth\":0,\"ticks\":\"\"}},\"type\":\"parcoords\"}],\"pie\":[{\"automargin\":true,\"type\":\"pie\"}],\"scatter3d\":[{\"line\":{\"colorbar\":{\"outlinewidth\":0,\"ticks\":\"\"}},\"marker\":{\"colorbar\":{\"outlinewidth\":0,\"ticks\":\"\"}},\"type\":\"scatter3d\"}],\"scattercarpet\":[{\"marker\":{\"colorbar\":{\"outlinewidth\":0,\"ticks\":\"\"}},\"type\":\"scattercarpet\"}],\"scattergeo\":[{\"marker\":{\"colorbar\":{\"outlinewidth\":0,\"ticks\":\"\"}},\"type\":\"scattergeo\"}],\"scattergl\":[{\"marker\":{\"colorbar\":{\"outlinewidth\":0,\"ticks\":\"\"}},\"type\":\"scattergl\"}],\"scattermapbox\":[{\"marker\":{\"colorbar\":{\"outlinewidth\":0,\"ticks\":\"\"}},\"type\":\"scattermapbox\"}],\"scatterpolargl\":[{\"marker\":{\"colorbar\":{\"outlinewidth\":0,\"ticks\":\"\"}},\"type\":\"scatterpolargl\"}],\"scatterpolar\":[{\"marker\":{\"colorbar\":{\"outlinewidth\":0,\"ticks\":\"\"}},\"type\":\"scatterpolar\"}],\"scatter\":[{\"fillpattern\":{\"fillmode\":\"overlay\",\"size\":10,\"solidity\":0.2},\"type\":\"scatter\"}],\"scatterternary\":[{\"marker\":{\"colorbar\":{\"outlinewidth\":0,\"ticks\":\"\"}},\"type\":\"scatterternary\"}],\"surface\":[{\"colorbar\":{\"outlinewidth\":0,\"ticks\":\"\"},\"colorscale\":[[0.0,\"#0d0887\"],[0.1111111111111111,\"#46039f\"],[0.2222222222222222,\"#7201a8\"],[0.3333333333333333,\"#9c179e\"],[0.4444444444444444,\"#bd3786\"],[0.5555555555555556,\"#d8576b\"],[0.6666666666666666,\"#ed7953\"],[0.7777777777777778,\"#fb9f3a\"],[0.8888888888888888,\"#fdca26\"],[1.0,\"#f0f921\"]],\"type\":\"surface\"}],\"table\":[{\"cells\":{\"fill\":{\"color\":\"#EBF0F8\"},\"line\":{\"color\":\"white\"}},\"header\":{\"fill\":{\"color\":\"#C8D4E3\"},\"line\":{\"color\":\"white\"}},\"type\":\"table\"}]},\"layout\":{\"annotationdefaults\":{\"arrowcolor\":\"#2a3f5f\",\"arrowhead\":0,\"arrowwidth\":1},\"autotypenumbers\":\"strict\",\"coloraxis\":{\"colorbar\":{\"outlinewidth\":0,\"ticks\":\"\"}},\"colorscale\":{\"diverging\":[[0,\"#8e0152\"],[0.1,\"#c51b7d\"],[0.2,\"#de77ae\"],[0.3,\"#f1b6da\"],[0.4,\"#fde0ef\"],[0.5,\"#f7f7f7\"],[0.6,\"#e6f5d0\"],[0.7,\"#b8e186\"],[0.8,\"#7fbc41\"],[0.9,\"#4d9221\"],[1,\"#276419\"]],\"sequential\":[[0.0,\"#0d0887\"],[0.1111111111111111,\"#46039f\"],[0.2222222222222222,\"#7201a8\"],[0.3333333333333333,\"#9c179e\"],[0.4444444444444444,\"#bd3786\"],[0.5555555555555556,\"#d8576b\"],[0.6666666666666666,\"#ed7953\"],[0.7777777777777778,\"#fb9f3a\"],[0.8888888888888888,\"#fdca26\"],[1.0,\"#f0f921\"]],\"sequentialminus\":[[0.0,\"#0d0887\"],[0.1111111111111111,\"#46039f\"],[0.2222222222222222,\"#7201a8\"],[0.3333333333333333,\"#9c179e\"],[0.4444444444444444,\"#bd3786\"],[0.5555555555555556,\"#d8576b\"],[0.6666666666666666,\"#ed7953\"],[0.7777777777777778,\"#fb9f3a\"],[0.8888888888888888,\"#fdca26\"],[1.0,\"#f0f921\"]]},\"colorway\":[\"#636efa\",\"#EF553B\",\"#00cc96\",\"#ab63fa\",\"#FFA15A\",\"#19d3f3\",\"#FF6692\",\"#B6E880\",\"#FF97FF\",\"#FECB52\"],\"font\":{\"color\":\"#2a3f5f\"},\"geo\":{\"bgcolor\":\"white\",\"lakecolor\":\"white\",\"landcolor\":\"#E5ECF6\",\"showlakes\":true,\"showland\":true,\"subunitcolor\":\"white\"},\"hoverlabel\":{\"align\":\"left\"},\"hovermode\":\"closest\",\"mapbox\":{\"style\":\"light\"},\"paper_bgcolor\":\"white\",\"plot_bgcolor\":\"#E5ECF6\",\"polar\":{\"angularaxis\":{\"gridcolor\":\"white\",\"linecolor\":\"white\",\"ticks\":\"\"},\"bgcolor\":\"#E5ECF6\",\"radialaxis\":{\"gridcolor\":\"white\",\"linecolor\":\"white\",\"ticks\":\"\"}},\"scene\":{\"xaxis\":{\"backgroundcolor\":\"#E5ECF6\",\"gridcolor\":\"white\",\"gridwidth\":2,\"linecolor\":\"white\",\"showbackground\":true,\"ticks\":\"\",\"zerolinecolor\":\"white\"},\"yaxis\":{\"backgroundcolor\":\"#E5ECF6\",\"gridcolor\":\"white\",\"gridwidth\":2,\"linecolor\":\"white\",\"showbackground\":true,\"ticks\":\"\",\"zerolinecolor\":\"white\"},\"zaxis\":{\"backgroundcolor\":\"#E5ECF6\",\"gridcolor\":\"white\",\"gridwidth\":2,\"linecolor\":\"white\",\"showbackground\":true,\"ticks\":\"\",\"zerolinecolor\":\"white\"}},\"shapedefaults\":{\"line\":{\"color\":\"#2a3f5f\"}},\"ternary\":{\"aaxis\":{\"gridcolor\":\"white\",\"linecolor\":\"white\",\"ticks\":\"\"},\"baxis\":{\"gridcolor\":\"white\",\"linecolor\":\"white\",\"ticks\":\"\"},\"bgcolor\":\"#E5ECF6\",\"caxis\":{\"gridcolor\":\"white\",\"linecolor\":\"white\",\"ticks\":\"\"}},\"title\":{\"x\":0.05},\"xaxis\":{\"automargin\":true,\"gridcolor\":\"white\",\"linecolor\":\"white\",\"ticks\":\"\",\"title\":{\"standoff\":15},\"zerolinecolor\":\"white\",\"zerolinewidth\":2},\"yaxis\":{\"automargin\":true,\"gridcolor\":\"white\",\"linecolor\":\"white\",\"ticks\":\"\",\"title\":{\"standoff\":15},\"zerolinecolor\":\"white\",\"zerolinewidth\":2}}},\"title\":{\"font\":{\"color\":\"#4D5663\"},\"text\":\"BBSE3\"},\"xaxis\":{\"anchor\":\"y2\",\"gridcolor\":\"#E1E5ED\",\"rangeselector\":{\"bgcolor\":\"rgba(150, 200, 250, 1)\",\"buttons\":[{\"count\":1,\"label\":\"1m\",\"step\":\"month\",\"stepmode\":\"backward\"},{\"count\":1,\"label\":\"1y\",\"step\":\"year\",\"stepmode\":\"backward\"}],\"font\":{\"size\":13},\"visible\":false,\"x\":0,\"y\":0.9},\"rangeslider\":{\"visible\":false},\"showgrid\":true,\"tickfont\":{\"color\":\"#4D5663\"},\"title\":{\"font\":{\"color\":\"#4D5663\"},\"text\":\"\"},\"zerolinecolor\":\"#E1E5ED\",\"rangebreaks\":[{\"bounds\":[\"sat\",\"mon\"]}]},\"yaxis\":{\"gridcolor\":\"#E1E5ED\",\"showgrid\":true,\"showticklabels\":false,\"tickfont\":{\"color\":\"#4D5663\"},\"title\":{\"font\":{\"color\":\"#4D5663\"},\"text\":\"\"},\"zerolinecolor\":\"#E1E5ED\"},\"yaxis2\":{\"domain\":[0.23,0.9],\"gridcolor\":\"#E1E5ED\",\"showgrid\":true,\"tickfont\":{\"color\":\"#4D5663\"},\"title\":{\"font\":{\"color\":\"#4D5663\"},\"text\":\"\"},\"zerolinecolor\":\"#E1E5ED\"},\"yaxis3\":{\"domain\":[0.0,0.15],\"gridcolor\":\"#E1E5ED\",\"showgrid\":true,\"tickfont\":{\"color\":\"#4D5663\"},\"title\":{\"font\":{\"color\":\"#4D5663\"},\"text\":\"\"},\"zerolinecolor\":\"#E1E5ED\"}},                        {\"responsive\": true}                    ).then(function(){\n",
              "                            \n",
              "var gd = document.getElementById('fe297b14-11dc-4bdb-8706-261f46705216');\n",
              "var x = new MutationObserver(function (mutations, observer) {{\n",
              "        var display = window.getComputedStyle(gd).display;\n",
              "        if (!display || display === 'none') {{\n",
              "            console.log([gd, 'removed!']);\n",
              "            Plotly.purge(gd);\n",
              "            observer.disconnect();\n",
              "        }}\n",
              "}});\n",
              "\n",
              "// Listen for the removal of the full notebook cells\n",
              "var notebookContainer = gd.closest('#notebook-container');\n",
              "if (notebookContainer) {{\n",
              "    x.observe(notebookContainer, {childList: true});\n",
              "}}\n",
              "\n",
              "// Listen for the clearing of the current output cell\n",
              "var outputEl = gd.closest('.output');\n",
              "if (outputEl) {{\n",
              "    x.observe(outputEl, {childList: true});\n",
              "}}\n",
              "\n",
              "                        })                };                });            </script>        </div>"
            ]
          },
          "metadata": {},
          "output_type": "display_data"
        }
      ],
      "source": [
        "ohlc = yf.download(tickers= ativo+'.SA', period = periodo , auto_adjust=True, progress = False )\n",
        "\n",
        "qf=cf.QuantFig(ohlc[-90:] , title= x ,legend='top',name='GS',up_color='green', down_color='red' )\n",
        "#qf.add_bollinger_bands(periods=20, boll_std=2, colors=['cyan','grey'], fill=True)\n",
        "qf.add_ema(periods=5)\n",
        "qf.add_ema(periods=21)\n",
        "qf.add_ema(periods=72)\n",
        "qf.add_rsi(periods=2,color='red',rsi_upper=95,rsi_lower=5,showbands=True)\n",
        "\n",
        "fig = qf.figure()\n",
        "fig.update_xaxes(\n",
        "    rangebreaks=[dict(bounds=[\"sat\", \"mon\"])])\n",
        "fig.show()"
      ]
    },
    {
      "cell_type": "markdown",
      "metadata": {
        "id": "abIGckox54tp"
      },
      "source": [
        "**informações dos trades**"
      ]
    },
    {
      "cell_type": "code",
      "execution_count": 16,
      "metadata": {
        "colab": {
          "base_uri": "https://localhost:8080/"
        },
        "id": "O2ajq4WnIhCg",
        "outputId": "84a71bbd-7952-467f-8a09-26bdad18c871"
      },
      "outputs": [
        {
          "name": "stdout",
          "output_type": "stream",
          "text": [
            "\n",
            "****** BBSE3 (retornos) ********\n",
            "resumo dos retornos das operações:\n",
            "count    7.000000\n",
            "mean     0.009202\n",
            "std      0.007941\n",
            "min      0.000326\n",
            "25%      0.003775\n",
            "50%      0.007220\n",
            "75%      0.013300\n",
            "max      0.022720\n",
            "dtype: float64\n"
          ]
        }
      ],
      "source": [
        "for x in range(len(lista_ifr)):\n",
        "  print(\"\\n******\",retornos[x][0],\"(retornos) ********\")\n",
        "  print('resumo dos retornos das operações:')\n",
        "  print(pd.Series(retornos[x][1]).describe()  );"
      ]
    },
    {
      "cell_type": "code",
      "execution_count": 17,
      "metadata": {
        "colab": {
          "base_uri": "https://localhost:8080/"
        },
        "id": "7MUQT3z-wGED",
        "outputId": "68cf2f45-8515-4a25-ab21-4771a0c02e78"
      },
      "outputs": [
        {
          "data": {
            "text/plain": [
              "[['BBSE3',\n",
              "  ['entrada em 04/05/2023 e saida em 10/05/2023 durou 4 dias e variou 0.033%',\n",
              "   'entrada em 19/05/2023 e saida em 25/05/2023 durou 4 dias e variou 1.015%',\n",
              "   'entrada em 20/06/2023 e saida em 23/06/2023 durou 3 dias e variou 0.722%',\n",
              "   'entrada em 13/07/2023 e saida em 21/07/2023 durou 6 dias e variou 0.32%',\n",
              "   'entrada em 18/08/2023 e saida em 24/08/2023 durou 4 dias e variou 1.645%',\n",
              "   'entrada em 31/10/2023 e saida em 03/11/2023 durou 2 dias e variou 2.272%',\n",
              "   'entrada em 04/12/2023 e saida em 08/12/2023 durou 4 dias e variou 0.435%']]]"
            ]
          },
          "execution_count": 17,
          "metadata": {},
          "output_type": "execute_result"
        }
      ],
      "source": [
        "out"
      ]
    },
    {
      "cell_type": "code",
      "execution_count": 18,
      "metadata": {
        "colab": {
          "base_uri": "https://localhost:8080/",
          "height": 296
        },
        "id": "PEibksd_83UE",
        "outputId": "7fb87aec-0fa7-4f87-ffe7-c2aa4bca9c73"
      },
      "outputs": [
        {
          "data": {
            "text/plain": [
              "Date\n",
              "2023-03-21           NaN\n",
              "2023-03-22           NaN\n",
              "2023-03-23    100.000000\n",
              "2023-03-24    100.000000\n",
              "2023-03-27     51.304452\n",
              "                 ...    \n",
              "2024-03-15     93.513716\n",
              "2024-03-18     87.928189\n",
              "2024-03-19     16.225829\n",
              "2024-03-20     14.330827\n",
              "2024-03-21      2.095242\n",
              "Length: 250, dtype: float64"
            ]
          },
          "execution_count": 18,
          "metadata": {},
          "output_type": "execute_result"
        }
      ],
      "source": [
        "import talib\n",
        "talib.RSI(ohlc[\"Close\"] , 2)"
      ]
    },
    {
      "cell_type": "code",
      "execution_count": 19,
      "metadata": {},
      "outputs": [
        {
          "data": {
            "text/plain": [
              "Date\n",
              "2023-03-21       NaN\n",
              "2023-03-22    100.00\n",
              "2023-03-23    100.00\n",
              "2023-03-24    100.00\n",
              "2023-03-27     50.33\n",
              "               ...  \n",
              "2024-03-15     93.51\n",
              "2024-03-18     87.93\n",
              "2024-03-19     16.23\n",
              "2024-03-20     14.33\n",
              "2024-03-21      2.10\n",
              "Name: rsi, Length: 250, dtype: float64"
            ]
          },
          "execution_count": 19,
          "metadata": {},
          "output_type": "execute_result"
        }
      ],
      "source": [
        "rsi(ohlc[\"Close\"])"
      ]
    },
    {
      "cell_type": "code",
      "execution_count": 20,
      "metadata": {},
      "outputs": [
        {
          "name": "stdout",
          "output_type": "stream",
          "text": [
            "Help on function full in module quantstats.reports:\n",
            "\n",
            "full(returns, benchmark=None, rf=0.0, grayscale=False, figsize=(8, 5), display=True, compounded=True, periods_per_year=252, match_dates=True, **kwargs)\n",
            "\n"
          ]
        }
      ],
      "source": [
        "import quantstats as qs\n",
        "\n",
        "help(qs.reports.full)"
      ]
    },
    {
      "cell_type": "code",
      "execution_count": 21,
      "metadata": {},
      "outputs": [
        {
          "data": {
            "text/html": [
              "<div>\n",
              "<style scoped>\n",
              "    .dataframe tbody tr th:only-of-type {\n",
              "        vertical-align: middle;\n",
              "    }\n",
              "\n",
              "    .dataframe tbody tr th {\n",
              "        vertical-align: top;\n",
              "    }\n",
              "\n",
              "    .dataframe thead th {\n",
              "        text-align: right;\n",
              "    }\n",
              "</style>\n",
              "<table border=\"1\" class=\"dataframe\">\n",
              "  <thead>\n",
              "    <tr style=\"text-align: right;\">\n",
              "      <th></th>\n",
              "      <th>Open</th>\n",
              "      <th>High</th>\n",
              "      <th>Low</th>\n",
              "      <th>Close</th>\n",
              "      <th>Volume</th>\n",
              "    </tr>\n",
              "    <tr>\n",
              "      <th>Date</th>\n",
              "      <th></th>\n",
              "      <th></th>\n",
              "      <th></th>\n",
              "      <th></th>\n",
              "      <th></th>\n",
              "    </tr>\n",
              "  </thead>\n",
              "  <tbody>\n",
              "    <tr>\n",
              "      <th>2023-03-21</th>\n",
              "      <td>29.535909</td>\n",
              "      <td>29.728235</td>\n",
              "      <td>29.380217</td>\n",
              "      <td>29.590860</td>\n",
              "      <td>3982400</td>\n",
              "    </tr>\n",
              "    <tr>\n",
              "      <th>2023-03-22</th>\n",
              "      <td>29.664126</td>\n",
              "      <td>29.938878</td>\n",
              "      <td>29.609178</td>\n",
              "      <td>29.673286</td>\n",
              "      <td>3938800</td>\n",
              "    </tr>\n",
              "    <tr>\n",
              "      <th>2023-03-23</th>\n",
              "      <td>29.893086</td>\n",
              "      <td>30.854720</td>\n",
              "      <td>29.700760</td>\n",
              "      <td>29.902246</td>\n",
              "      <td>5288500</td>\n",
              "    </tr>\n",
              "    <tr>\n",
              "      <th>2023-03-24</th>\n",
              "      <td>29.948037</td>\n",
              "      <td>30.497541</td>\n",
              "      <td>29.764868</td>\n",
              "      <td>30.286898</td>\n",
              "      <td>4379700</td>\n",
              "    </tr>\n",
              "    <tr>\n",
              "      <th>2023-03-27</th>\n",
              "      <td>30.515859</td>\n",
              "      <td>30.570811</td>\n",
              "      <td>29.911404</td>\n",
              "      <td>30.030464</td>\n",
              "      <td>2686800</td>\n",
              "    </tr>\n",
              "    <tr>\n",
              "      <th>...</th>\n",
              "      <td>...</td>\n",
              "      <td>...</td>\n",
              "      <td>...</td>\n",
              "      <td>...</td>\n",
              "      <td>...</td>\n",
              "    </tr>\n",
              "    <tr>\n",
              "      <th>2024-03-15</th>\n",
              "      <td>33.150002</td>\n",
              "      <td>33.849998</td>\n",
              "      <td>33.110001</td>\n",
              "      <td>33.270000</td>\n",
              "      <td>9889500</td>\n",
              "    </tr>\n",
              "    <tr>\n",
              "      <th>2024-03-18</th>\n",
              "      <td>33.349998</td>\n",
              "      <td>33.560001</td>\n",
              "      <td>33.230000</td>\n",
              "      <td>33.259998</td>\n",
              "      <td>2938000</td>\n",
              "    </tr>\n",
              "    <tr>\n",
              "      <th>2024-03-19</th>\n",
              "      <td>33.330002</td>\n",
              "      <td>33.400002</td>\n",
              "      <td>32.889999</td>\n",
              "      <td>32.889999</td>\n",
              "      <td>3323700</td>\n",
              "    </tr>\n",
              "    <tr>\n",
              "      <th>2024-03-20</th>\n",
              "      <td>32.919998</td>\n",
              "      <td>33.110001</td>\n",
              "      <td>32.770000</td>\n",
              "      <td>32.860001</td>\n",
              "      <td>4568200</td>\n",
              "    </tr>\n",
              "    <tr>\n",
              "      <th>2024-03-21</th>\n",
              "      <td>32.830002</td>\n",
              "      <td>32.860001</td>\n",
              "      <td>32.110001</td>\n",
              "      <td>32.110001</td>\n",
              "      <td>6469400</td>\n",
              "    </tr>\n",
              "  </tbody>\n",
              "</table>\n",
              "<p>250 rows × 5 columns</p>\n",
              "</div>"
            ],
            "text/plain": [
              "                 Open       High        Low      Close   Volume\n",
              "Date                                                           \n",
              "2023-03-21  29.535909  29.728235  29.380217  29.590860  3982400\n",
              "2023-03-22  29.664126  29.938878  29.609178  29.673286  3938800\n",
              "2023-03-23  29.893086  30.854720  29.700760  29.902246  5288500\n",
              "2023-03-24  29.948037  30.497541  29.764868  30.286898  4379700\n",
              "2023-03-27  30.515859  30.570811  29.911404  30.030464  2686800\n",
              "...               ...        ...        ...        ...      ...\n",
              "2024-03-15  33.150002  33.849998  33.110001  33.270000  9889500\n",
              "2024-03-18  33.349998  33.560001  33.230000  33.259998  2938000\n",
              "2024-03-19  33.330002  33.400002  32.889999  32.889999  3323700\n",
              "2024-03-20  32.919998  33.110001  32.770000  32.860001  4568200\n",
              "2024-03-21  32.830002  32.860001  32.110001  32.110001  6469400\n",
              "\n",
              "[250 rows x 5 columns]"
            ]
          },
          "execution_count": 21,
          "metadata": {},
          "output_type": "execute_result"
        }
      ],
      "source": [
        "ohlc"
      ]
    },
    {
      "cell_type": "code",
      "execution_count": 22,
      "metadata": {},
      "outputs": [
        {
          "ename": "KeyError",
          "evalue": "'retorno_estrategia'",
          "output_type": "error",
          "traceback": [
            "\u001b[0;31m---------------------------------------------------------------------------\u001b[0m",
            "\u001b[0;31mKeyError\u001b[0m                                  Traceback (most recent call last)",
            "File \u001b[0;32m~/bin/miniconda3/lib/python3.11/site-packages/pandas/core/indexes/base.py:3790\u001b[0m, in \u001b[0;36mIndex.get_loc\u001b[0;34m(self, key)\u001b[0m\n\u001b[1;32m   3789\u001b[0m \u001b[38;5;28;01mtry\u001b[39;00m:\n\u001b[0;32m-> 3790\u001b[0m     \u001b[38;5;28;01mreturn\u001b[39;00m \u001b[38;5;28;43mself\u001b[39;49m\u001b[38;5;241;43m.\u001b[39;49m\u001b[43m_engine\u001b[49m\u001b[38;5;241;43m.\u001b[39;49m\u001b[43mget_loc\u001b[49m\u001b[43m(\u001b[49m\u001b[43mcasted_key\u001b[49m\u001b[43m)\u001b[49m\n\u001b[1;32m   3791\u001b[0m \u001b[38;5;28;01mexcept\u001b[39;00m \u001b[38;5;167;01mKeyError\u001b[39;00m \u001b[38;5;28;01mas\u001b[39;00m err:\n",
            "File \u001b[0;32mindex.pyx:152\u001b[0m, in \u001b[0;36mpandas._libs.index.IndexEngine.get_loc\u001b[0;34m()\u001b[0m\n",
            "File \u001b[0;32mindex.pyx:181\u001b[0m, in \u001b[0;36mpandas._libs.index.IndexEngine.get_loc\u001b[0;34m()\u001b[0m\n",
            "File \u001b[0;32mpandas/_libs/hashtable_class_helper.pxi:7080\u001b[0m, in \u001b[0;36mpandas._libs.hashtable.PyObjectHashTable.get_item\u001b[0;34m()\u001b[0m\n",
            "File \u001b[0;32mpandas/_libs/hashtable_class_helper.pxi:7088\u001b[0m, in \u001b[0;36mpandas._libs.hashtable.PyObjectHashTable.get_item\u001b[0;34m()\u001b[0m\n",
            "\u001b[0;31mKeyError\u001b[0m: 'retorno_estrategia'",
            "\nThe above exception was the direct cause of the following exception:\n",
            "\u001b[0;31mKeyError\u001b[0m                                  Traceback (most recent call last)",
            "Cell \u001b[0;32mIn[22], line 5\u001b[0m\n\u001b[1;32m      2\u001b[0m \u001b[38;5;66;03m# Suppress FutureWarning messages\u001b[39;00m\n\u001b[1;32m      3\u001b[0m warnings\u001b[38;5;241m.\u001b[39msimplefilter(action\u001b[38;5;241m=\u001b[39m\u001b[38;5;124m'\u001b[39m\u001b[38;5;124mignore\u001b[39m\u001b[38;5;124m'\u001b[39m, category\u001b[38;5;241m=\u001b[39m\u001b[38;5;167;01mFutureWarning\u001b[39;00m)\n\u001b[0;32m----> 5\u001b[0m qs\u001b[38;5;241m.\u001b[39mreports\u001b[38;5;241m.\u001b[39mfull(\u001b[43mohlc\u001b[49m\u001b[43m[\u001b[49m\u001b[38;5;124;43m'\u001b[39;49m\u001b[38;5;124;43mretorno_estrategia\u001b[39;49m\u001b[38;5;124;43m'\u001b[39;49m\u001b[43m]\u001b[49m )\n",
            "File \u001b[0;32m~/bin/miniconda3/lib/python3.11/site-packages/pandas/core/frame.py:3893\u001b[0m, in \u001b[0;36mDataFrame.__getitem__\u001b[0;34m(self, key)\u001b[0m\n\u001b[1;32m   3891\u001b[0m \u001b[38;5;28;01mif\u001b[39;00m \u001b[38;5;28mself\u001b[39m\u001b[38;5;241m.\u001b[39mcolumns\u001b[38;5;241m.\u001b[39mnlevels \u001b[38;5;241m>\u001b[39m \u001b[38;5;241m1\u001b[39m:\n\u001b[1;32m   3892\u001b[0m     \u001b[38;5;28;01mreturn\u001b[39;00m \u001b[38;5;28mself\u001b[39m\u001b[38;5;241m.\u001b[39m_getitem_multilevel(key)\n\u001b[0;32m-> 3893\u001b[0m indexer \u001b[38;5;241m=\u001b[39m \u001b[38;5;28;43mself\u001b[39;49m\u001b[38;5;241;43m.\u001b[39;49m\u001b[43mcolumns\u001b[49m\u001b[38;5;241;43m.\u001b[39;49m\u001b[43mget_loc\u001b[49m\u001b[43m(\u001b[49m\u001b[43mkey\u001b[49m\u001b[43m)\u001b[49m\n\u001b[1;32m   3894\u001b[0m \u001b[38;5;28;01mif\u001b[39;00m is_integer(indexer):\n\u001b[1;32m   3895\u001b[0m     indexer \u001b[38;5;241m=\u001b[39m [indexer]\n",
            "File \u001b[0;32m~/bin/miniconda3/lib/python3.11/site-packages/pandas/core/indexes/base.py:3797\u001b[0m, in \u001b[0;36mIndex.get_loc\u001b[0;34m(self, key)\u001b[0m\n\u001b[1;32m   3792\u001b[0m     \u001b[38;5;28;01mif\u001b[39;00m \u001b[38;5;28misinstance\u001b[39m(casted_key, \u001b[38;5;28mslice\u001b[39m) \u001b[38;5;129;01mor\u001b[39;00m (\n\u001b[1;32m   3793\u001b[0m         \u001b[38;5;28misinstance\u001b[39m(casted_key, abc\u001b[38;5;241m.\u001b[39mIterable)\n\u001b[1;32m   3794\u001b[0m         \u001b[38;5;129;01mand\u001b[39;00m \u001b[38;5;28many\u001b[39m(\u001b[38;5;28misinstance\u001b[39m(x, \u001b[38;5;28mslice\u001b[39m) \u001b[38;5;28;01mfor\u001b[39;00m x \u001b[38;5;129;01min\u001b[39;00m casted_key)\n\u001b[1;32m   3795\u001b[0m     ):\n\u001b[1;32m   3796\u001b[0m         \u001b[38;5;28;01mraise\u001b[39;00m InvalidIndexError(key)\n\u001b[0;32m-> 3797\u001b[0m     \u001b[38;5;28;01mraise\u001b[39;00m \u001b[38;5;167;01mKeyError\u001b[39;00m(key) \u001b[38;5;28;01mfrom\u001b[39;00m \u001b[38;5;21;01merr\u001b[39;00m\n\u001b[1;32m   3798\u001b[0m \u001b[38;5;28;01mexcept\u001b[39;00m \u001b[38;5;167;01mTypeError\u001b[39;00m:\n\u001b[1;32m   3799\u001b[0m     \u001b[38;5;66;03m# If we have a listlike key, _check_indexing_error will raise\u001b[39;00m\n\u001b[1;32m   3800\u001b[0m     \u001b[38;5;66;03m#  InvalidIndexError. Otherwise we fall through and re-raise\u001b[39;00m\n\u001b[1;32m   3801\u001b[0m     \u001b[38;5;66;03m#  the TypeError.\u001b[39;00m\n\u001b[1;32m   3802\u001b[0m     \u001b[38;5;28mself\u001b[39m\u001b[38;5;241m.\u001b[39m_check_indexing_error(key)\n",
            "\u001b[0;31mKeyError\u001b[0m: 'retorno_estrategia'"
          ]
        }
      ],
      "source": [
        "import warnings\n",
        "# Suppress FutureWarning messages\n",
        "warnings.simplefilter(action='ignore', category=FutureWarning)\n",
        "\n",
        "qs.reports.full(ohlc['retorno_estrategia'] )"
      ]
    }
  ],
  "metadata": {
    "colab": {
      "authorship_tag": "ABX9TyP7iEbM0V8v5zZD8EoBLUGn",
      "include_colab_link": true,
      "provenance": []
    },
    "kernelspec": {
      "display_name": "Python 3",
      "name": "python3"
    },
    "language_info": {
      "codemirror_mode": {
        "name": "ipython",
        "version": 3
      },
      "file_extension": ".py",
      "mimetype": "text/x-python",
      "name": "python",
      "nbconvert_exporter": "python",
      "pygments_lexer": "ipython3",
      "version": "3.11.5"
    }
  },
  "nbformat": 4,
  "nbformat_minor": 0
}
