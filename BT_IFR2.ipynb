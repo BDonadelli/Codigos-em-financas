{
  "cells": [
    {
      "cell_type": "markdown",
      "metadata": {
        "colab_type": "text",
        "id": "view-in-github"
      },
      "source": [
        "<a href=\"https://colab.research.google.com/github/BDonadelli/Codigos-em-financas/blob/main/IFR2.ipynb\" target=\"_parent\"><img src=\"https://colab.research.google.com/assets/colab-badge.svg\" alt=\"Open In Colab\"/></a>"
      ]
    },
    {
      "cell_type": "markdown",
      "metadata": {
        "id": "wBQjWPl1DDi_"
      },
      "source": [
        "ESTRATÉGIA\n",
        "1.   IFR para 2 períodos < 5 compra na abertura seguinte\n",
        "2.   Preço fechamento > ma5 vende na abertura seguinte\n",
        "\n"
      ]
    },
    {
      "cell_type": "code",
      "execution_count": 1,
      "metadata": {
        "id": "Pb8Y0UL7YD8N"
      },
      "outputs": [],
      "source": [
        "# @ Data é ano/mes/dia.\n",
        "\n",
        "inicio  = '2020-01-02'  #@param {type:\"date\"}\n",
        "termino = '2023-01-30'  #@param {type:\"date\"}\n",
        "from datetime import datetime\n",
        "\n",
        "usar_periodo = True #@param {type:\"boolean\"}\n",
        "periodo = '1y' #@param ['1d','5d','1mo','3mo','6mo','1y','2y','3y','5y','10y','ytd','max']"
      ]
    },
    {
      "cell_type": "code",
      "execution_count": 2,
      "metadata": {
        "colab": {
          "base_uri": "https://localhost:8080/"
        },
        "id": "QpinoXv_p27A",
        "outputId": "465568a7-598a-422a-b49d-c016e35fc165"
      },
      "outputs": [
        {
          "data": {
            "text/html": [
              "        <script type=\"text/javascript\">\n",
              "        window.PlotlyConfig = {MathJaxConfig: 'local'};\n",
              "        if (window.MathJax && window.MathJax.Hub && window.MathJax.Hub.Config) {window.MathJax.Hub.Config({SVG: {font: \"STIX-Web\"}});}\n",
              "        if (typeof require !== 'undefined') {\n",
              "        require.undef(\"plotly\");\n",
              "        requirejs.config({\n",
              "            paths: {\n",
              "                'plotly': ['https://cdn.plot.ly/plotly-2.27.0.min']\n",
              "            }\n",
              "        });\n",
              "        require(['plotly'], function(Plotly) {\n",
              "            window._Plotly = Plotly;\n",
              "        });\n",
              "        }\n",
              "        </script>\n",
              "        "
            ]
          },
          "metadata": {},
          "output_type": "display_data"
        }
      ],
      "source": [
        "# @ markdown Instala bibliotecas\n",
        "\n",
        "import pandas as pd\n",
        "import numpy as np\n",
        "\n",
        "# import pyfolio as pf\n",
        "import quantstats as qstats\n",
        "import pandas_ta as pta\n",
        "\n",
        "# !pip install -q  yfinance\n",
        "import yfinance as yf\n",
        "\n",
        "import cufflinks as cf\n",
        "cf.go_offline()\n"
      ]
    },
    {
      "cell_type": "code",
      "execution_count": 3,
      "metadata": {},
      "outputs": [],
      "source": [
        "arq = 'data/Cart_Ibov.csv'\n",
        "# arq = 'data/Cart_IBr100.csv'\n",
        "\n",
        "try:\n",
        "    IBOV = pd.read_csv(arq, encoding='latin-1', sep=';' , skiprows=[0], skipfooter=2 , index_col=False ,engine='python')\n",
        "except:\n",
        "    url = f'https://raw.githubusercontent.com/BDonadelli/Codigos-em-financas/main/data/{arq}.csv'\n",
        "    IBOV = pd.read_csv(url, encoding='latin-1', sep=';' , skiprows=[0], skipfooter=2 , index_col=False ,engine='python')\n",
        "\n"
      ]
    },
    {
      "cell_type": "code",
      "execution_count": 4,
      "metadata": {},
      "outputs": [
        {
          "data": {
            "text/plain": [
              "'LWSA3.SA'"
            ]
          },
          "execution_count": 4,
          "metadata": {},
          "output_type": "execute_result"
        }
      ],
      "source": [
        "codigos = np.array(sorted(IBOV.Código.to_list()),dtype=str)\n",
        "tickers = [tk+'.SA' for tk in codigos]\n",
        "tickers[50]"
      ]
    },
    {
      "cell_type": "code",
      "execution_count": 5,
      "metadata": {
        "colab": {
          "base_uri": "https://localhost:8080/",
          "height": 275
        },
        "id": "ishLNStc5Cmo",
        "outputId": "8aeef680-0a37-4e27-bf72-36f8b8bb912b"
      },
      "outputs": [
        {
          "data": {
            "text/html": [
              "<div>\n",
              "<style scoped>\n",
              "    .dataframe tbody tr th:only-of-type {\n",
              "        vertical-align: middle;\n",
              "    }\n",
              "\n",
              "    .dataframe tbody tr th {\n",
              "        vertical-align: top;\n",
              "    }\n",
              "\n",
              "    .dataframe thead th {\n",
              "        text-align: right;\n",
              "    }\n",
              "</style>\n",
              "<table border=\"1\" class=\"dataframe\">\n",
              "  <thead>\n",
              "    <tr style=\"text-align: right;\">\n",
              "      <th></th>\n",
              "      <th>Open ABEV3</th>\n",
              "      <th>Open ALOS3</th>\n",
              "      <th>Open ALPA4</th>\n",
              "      <th>Open ARZZ3</th>\n",
              "      <th>Open ASAI3</th>\n",
              "      <th>Open AZUL4</th>\n",
              "      <th>Open B3SA3</th>\n",
              "      <th>Open BBAS3</th>\n",
              "      <th>Open BBDC3</th>\n",
              "      <th>Open BBDC4</th>\n",
              "      <th>...</th>\n",
              "      <th>Close TOTS3</th>\n",
              "      <th>Close TRPL4</th>\n",
              "      <th>Close UGPA3</th>\n",
              "      <th>Close USIM5</th>\n",
              "      <th>Close VALE3</th>\n",
              "      <th>Close VAMO3</th>\n",
              "      <th>Close VBBR3</th>\n",
              "      <th>Close VIVT3</th>\n",
              "      <th>Close WEGE3</th>\n",
              "      <th>Close YDUQ3</th>\n",
              "    </tr>\n",
              "    <tr>\n",
              "      <th>Date</th>\n",
              "      <th></th>\n",
              "      <th></th>\n",
              "      <th></th>\n",
              "      <th></th>\n",
              "      <th></th>\n",
              "      <th></th>\n",
              "      <th></th>\n",
              "      <th></th>\n",
              "      <th></th>\n",
              "      <th></th>\n",
              "      <th></th>\n",
              "      <th></th>\n",
              "      <th></th>\n",
              "      <th></th>\n",
              "      <th></th>\n",
              "      <th></th>\n",
              "      <th></th>\n",
              "      <th></th>\n",
              "      <th></th>\n",
              "      <th></th>\n",
              "      <th></th>\n",
              "    </tr>\n",
              "  </thead>\n",
              "  <tbody>\n",
              "    <tr>\n",
              "      <th>2023-03-15</th>\n",
              "      <td>13.114507</td>\n",
              "      <td>NaN</td>\n",
              "      <td>9.33</td>\n",
              "      <td>63.996061</td>\n",
              "      <td>16.293471</td>\n",
              "      <td>12.56</td>\n",
              "      <td>10.916592</td>\n",
              "      <td>34.621982</td>\n",
              "      <td>10.860083</td>\n",
              "      <td>12.422793</td>\n",
              "      <td>...</td>\n",
              "      <td>28.427231</td>\n",
              "      <td>20.72987</td>\n",
              "      <td>12.764935</td>\n",
              "      <td>6.571853</td>\n",
              "      <td>74.935493</td>\n",
              "      <td>13.511224</td>\n",
              "      <td>14.321102</td>\n",
              "      <td>38.290455</td>\n",
              "      <td>39.327038</td>\n",
              "      <td>7.269867</td>\n",
              "    </tr>\n",
              "  </tbody>\n",
              "</table>\n",
              "<p>1 rows × 172 columns</p>\n",
              "</div>"
            ],
            "text/plain": [
              "            Open ABEV3  Open ALOS3  Open ALPA4  Open ARZZ3  Open ASAI3  \\\n",
              "Date                                                                     \n",
              "2023-03-15   13.114507         NaN        9.33   63.996061   16.293471   \n",
              "\n",
              "            Open AZUL4  Open B3SA3  Open BBAS3  Open BBDC3  Open BBDC4  ...  \\\n",
              "Date                                                                    ...   \n",
              "2023-03-15       12.56   10.916592   34.621982   10.860083   12.422793  ...   \n",
              "\n",
              "            Close TOTS3  Close TRPL4  Close UGPA3  Close USIM5  Close VALE3  \\\n",
              "Date                                                                          \n",
              "2023-03-15    28.427231     20.72987    12.764935     6.571853    74.935493   \n",
              "\n",
              "            Close VAMO3  Close VBBR3  Close VIVT3  Close WEGE3  Close YDUQ3  \n",
              "Date                                                                         \n",
              "2023-03-15    13.511224    14.321102    38.290455    39.327038     7.269867  \n",
              "\n",
              "[1 rows x 172 columns]"
            ]
          },
          "execution_count": 5,
          "metadata": {},
          "output_type": "execute_result"
        }
      ],
      "source": [
        "# @ markdown ## download dados do yahoo finance\n",
        "## a ultima lina da tabela tem a data mais recente\n",
        "df=pd.DataFrame()\n",
        "if usar_periodo : \n",
        "  df = yf.download(tickers, period = periodo   , auto_adjust=True, progress = False )[['Open','Close']]\n",
        "else: \n",
        "  df = yf.download(tickers, start = inicio , end = termino , auto_adjust=True, progress = False )[['Open','Close']]\n",
        "\n",
        "d = dict(zip(df.columns.levels[1],df.columns.levels[1].str.rstrip('.SA') ))\n",
        "df = df.rename(columns=d, level=1)\n",
        "\n",
        "df.columns = [\" \".join(col).strip() for col in df.columns.values]\n",
        "df.head(1) #mostra a primeiro linha da tabela dos preços"
      ]
    },
    {
      "cell_type": "code",
      "execution_count": 6,
      "metadata": {
        "id": "9ykcKmET51TA"
      },
      "outputs": [],
      "source": [
        "# @ markdown  função qu, output: str = Nonee calcula o ifr a partir de uma serie de preços\n",
        "\n",
        "def rsi(price, window=2, output: str = None):   \n",
        "  '''\n",
        "    calcula o ifr \n",
        "    \"price\" é uma série de preços\n",
        "    \"window\" é o periodo da janela móvel de obeservação, por default vale 2      \n",
        "    \"output\" é string com nome de arquivo para exportar contas em csv\n",
        "    Referencia: https://seekingalpha.com/article/4518407-rsi-indicator-meaning-and-calculation \n",
        "  '''\n",
        "    \n",
        "  data = pd.DataFrame(price).copy()\n",
        "    \n",
        "  data[\"Variation\"] = data.diff()\n",
        "\n",
        "  data[\"Gain\"] = np.where(data[\"Variation\"] > 0, data[\"Variation\"], 0)\n",
        "  data[\"Loss\"] = np.where(data[\"Variation\"] < 0, data[\"Variation\"], 0)\n",
        "\n",
        "  data['avg_gain'] = data[\"Gain\"].rolling(window,min_periods=window).mean()\n",
        "  data['avg_loss'] = data[\"Loss\"].abs().rolling(window,min_periods=window).mean()\n",
        "\n",
        "  # avg_gain = gain.ewm(com=period - 1, min_periods=period).mean()\n",
        "  # avg_loss = loss.ewm(com=period - 1, min_periods=period).mean()\n",
        "  # rs = avg_gain / avg_loss\n",
        "\n",
        "  for i in range(window, len(data['avg_gain'])):\n",
        "     data['avg_gain'].iloc[i] = (data['avg_gain'].iloc[i - 1] * (window - 1) + data[\"Gain\"].iloc[i]) / window\n",
        "     data['avg_loss'].iloc[i] = (data['avg_loss'].iloc[i - 1] * (window - 1) + data[\"Loss\"].abs().iloc[i]) / window\n",
        "  data['rsi'] = 100 - (100 / (1 + ( data['avg_gain'] / data['avg_loss'] ))).round(2)\n",
        "\n",
        "  if output is not None:\n",
        "        data.to_csv(output)\n",
        "\n",
        "  return data['rsi']"
      ]
    },
    {
      "cell_type": "markdown",
      "metadata": {
        "id": "mKIKiHMYFoyB"
      },
      "source": [
        "**lista os ativos do índice com ifr2 < 5**\n"
      ]
    },
    {
      "cell_type": "code",
      "execution_count": 7,
      "metadata": {
        "colab": {
          "base_uri": "https://localhost:8080/"
        },
        "id": "UyvBTQMGQ8iM",
        "outputId": "425498bf-48f3-4227-dfdc-493f5d2497f5"
      },
      "outputs": [
        {
          "name": "stdout",
          "output_type": "stream",
          "text": [
            "o ultimo preço é do dia 15 / 3 / 2024\n",
            "Os ativos com IFR<5 são:\n",
            "BHIA3\n",
            "BRAP4\n",
            "CIEL3\n",
            "CMIN3\n",
            "ENGI11\n",
            "IRBR3\n",
            "PCAR3\n",
            "USIM5\n",
            "YDUQ3\n"
          ]
        }
      ],
      "source": [
        "IFR = pd.DataFrame({f\"{i}\": rsi( df['Close '+i] , 2)  for i in codigos})\n",
        "\n",
        "print('o ultimo preço é do dia',IFR.index[-1].day,'/',IFR.index[-1].month,'/',IFR.index[-1].year)\n",
        "print('Os ativos com IFR<5 são:')\n",
        "## seleciona os ativos dentre 'codigos' com ifr2 < 5 \n",
        "lista_ifr=[]\n",
        "for x in codigos :\n",
        "  if IFR[x].iloc[-1]< 5 :  \n",
        "    print(x)\n",
        "    lista_ifr.append(x)\n",
        "\n",
        "if len(lista_ifr)==0: print('*************** Não tem papel com IFR<5 ***************')"
      ]
    },
    {
      "cell_type": "markdown",
      "metadata": {
        "id": "PjkZQH0SGI9F"
      },
      "source": [
        "**histórico da estratégia**"
      ]
    },
    {
      "cell_type": "code",
      "execution_count": 8,
      "metadata": {
        "id": "f0KW9re0DWrw"
      },
      "outputs": [],
      "source": [
        "# @ markdown Simula as operações\n",
        "def trades (x):\n",
        "  '''\n",
        "  'trades' cria duas listas 'entrada' e 'saida' \n",
        "  essas listas têm 3 componentes: \n",
        "    a linha na tabela de dados do sinal de entrada/saida;\n",
        "    a data seguinte do sinal (entrada/saida), que é o dia de negociação, e \n",
        "    o preço (open) de entrada/saida naquele dia, preço da negociação\n",
        "  '''\n",
        "  open  = 'Open '+x\n",
        "  close = 'Close '+x\n",
        "\n",
        "  bt = df[[open , close]].copy() \n",
        "  #media movel simples de 5 periodos \n",
        "  bt['mm5'] = df[close].rolling(5).mean()  \n",
        "  bt['ifr'] = IFR[x]\n",
        "  bt=bt.dropna()\n",
        "  \n",
        "  ## marca todos os pontos com ifr2 < 5\n",
        "  bt['sinal_entra'] = np.where(bt['ifr'] < 5 , 1 , 0)\n",
        "  #marca todos pontos com close > mm5\n",
        "  bt['sinal_sai'] = np.where(bt[close] > bt['mm5'] , -1 , 0)\n",
        "\n",
        "  '''\n",
        "  cria listas com os pontos de entrada e saída das operações\n",
        "  1) percorre a tabela bt em ordem cronológica até achar sinal entrada\n",
        "     quando acha, armazenas as informações: \n",
        "       linha da tabela, data do sinal e preço de abertura do dia seguinte\n",
        "  2) em seguida, continua, a partir do proximo dia, até achar sinal saida\n",
        "     quando acha, armazenas as informações: \n",
        "       linha da tabela, data do sinal e preço de fechamento do dia seguinte\n",
        "  3) repete os passos 1 e 2 \n",
        "  '''  \n",
        "  entrada = []\n",
        "  saida = []\n",
        "  i=0\n",
        "  while i < len(bt):\n",
        "    while bt['sinal_entra'].iloc[i] == 0 : i+=1 # pega um sinal de entrada\n",
        "    if i+1 < len(bt) :                          # se teve pregão dia seguinte,entra\n",
        "        i+=1                                    # vai p/ dia seguinte\n",
        "        entrada.append( ( i-1,                                      # sinal no dia anterior\n",
        "                         bt.index[i].date().strftime(\"%d/%m/%Y\") ,  # dia entrada\n",
        "                         np.round(bt[open].iloc[i],2)))             # preço entrada\n",
        "       #avança até o primeiro sinal de saída, que pode ser no proprio dia\n",
        "        while (i < len(bt) and bt['sinal_sai'].iloc[i]==0) : i=i+1    \n",
        "       #se teve pregão dia seguinte,sai  (senão vai dormir comprado, vamos desconsiderar)\n",
        "        if i+1 < len(bt) :  \n",
        "            i+=1                                                        # vai p/ dia seguinte\n",
        "            saida.append( (i-1,                                         # sinal no dia anterior\n",
        "                           bt.index[i].date().strftime(\"%d/%m/%Y\")  ,   # dia saida\n",
        "                           np.round(bt[open].iloc[i],2)) )              # preço saida\n",
        "            # senão, a ultima operação ainda não deu saida , remove ultima entrada\n",
        "        else : entrada.pop()                    \n",
        "    i=i+1\n",
        "  return entrada,saida"
      ]
    },
    {
      "cell_type": "code",
      "execution_count": 9,
      "metadata": {
        "colab": {
          "base_uri": "https://localhost:8080/",
          "height": 426
        },
        "id": "EnX3J5gjfzNb",
        "outputId": "5bd31b03-628d-441b-9dba-0ae636f77a68"
      },
      "outputs": [
        {
          "name": "stderr",
          "output_type": "stream",
          "text": [
            "/home/yair/bin/miniconda3/lib/python3.11/site-packages/numpy/core/fromnumeric.py:3504: RuntimeWarning:\n",
            "\n",
            "Mean of empty slice.\n",
            "\n",
            "/home/yair/bin/miniconda3/lib/python3.11/site-packages/numpy/core/_methods.py:129: RuntimeWarning:\n",
            "\n",
            "invalid value encountered in scalar divide\n",
            "\n"
          ]
        },
        {
          "data": {
            "text/html": [
              "<div>\n",
              "<style scoped>\n",
              "    .dataframe tbody tr th:only-of-type {\n",
              "        vertical-align: middle;\n",
              "    }\n",
              "\n",
              "    .dataframe tbody tr th {\n",
              "        vertical-align: top;\n",
              "    }\n",
              "\n",
              "    .dataframe thead th {\n",
              "        text-align: right;\n",
              "    }\n",
              "</style>\n",
              "<table border=\"1\" class=\"dataframe\">\n",
              "  <thead>\n",
              "    <tr style=\"text-align: right;\">\n",
              "      <th></th>\n",
              "      <th>IFR2</th>\n",
              "      <th>Operações</th>\n",
              "      <th>Positivas</th>\n",
              "      <th>Tx acerto</th>\n",
              "      <th>Acumulado</th>\n",
              "      <th>Ret. médio pos</th>\n",
              "      <th>Ret. médio neg</th>\n",
              "      <th>Exp matematica</th>\n",
              "      <th>Duração média(dias)</th>\n",
              "    </tr>\n",
              "  </thead>\n",
              "  <tbody>\n",
              "    <tr>\n",
              "      <th>IRBR3</th>\n",
              "      <td>3.38</td>\n",
              "      <td>7</td>\n",
              "      <td>5</td>\n",
              "      <td>0.714</td>\n",
              "      <td>0.17</td>\n",
              "      <td>0.06</td>\n",
              "      <td>0.05</td>\n",
              "      <td>2.854</td>\n",
              "      <td>2.7</td>\n",
              "    </tr>\n",
              "    <tr>\n",
              "      <th>ENGI11</th>\n",
              "      <td>2.33</td>\n",
              "      <td>7</td>\n",
              "      <td>6</td>\n",
              "      <td>0.857</td>\n",
              "      <td>0.07</td>\n",
              "      <td>0.02</td>\n",
              "      <td>0.04</td>\n",
              "      <td>1.142</td>\n",
              "      <td>3.4</td>\n",
              "    </tr>\n",
              "    <tr>\n",
              "      <th>USIM5</th>\n",
              "      <td>2.57</td>\n",
              "      <td>8</td>\n",
              "      <td>4</td>\n",
              "      <td>0.5</td>\n",
              "      <td>0.02</td>\n",
              "      <td>0.03</td>\n",
              "      <td>0.02</td>\n",
              "      <td>0.5</td>\n",
              "      <td>4.8</td>\n",
              "    </tr>\n",
              "    <tr>\n",
              "      <th>BRAP4</th>\n",
              "      <td>0.43</td>\n",
              "      <td>9</td>\n",
              "      <td>5</td>\n",
              "      <td>0.556</td>\n",
              "      <td>0.01</td>\n",
              "      <td>0.03</td>\n",
              "      <td>0.03</td>\n",
              "      <td>0.336</td>\n",
              "      <td>4.8</td>\n",
              "    </tr>\n",
              "    <tr>\n",
              "      <th>CMIN3</th>\n",
              "      <td>3.67</td>\n",
              "      <td>4</td>\n",
              "      <td>3</td>\n",
              "      <td>0.75</td>\n",
              "      <td>-0.02</td>\n",
              "      <td>0.02</td>\n",
              "      <td>0.09</td>\n",
              "      <td>-0.75</td>\n",
              "      <td>5.0</td>\n",
              "    </tr>\n",
              "    <tr>\n",
              "      <th>PCAR3</th>\n",
              "      <td>0.83</td>\n",
              "      <td>8</td>\n",
              "      <td>4</td>\n",
              "      <td>0.5</td>\n",
              "      <td>-0.32</td>\n",
              "      <td>0.04</td>\n",
              "      <td>0.12</td>\n",
              "      <td>-4.0</td>\n",
              "      <td>4.9</td>\n",
              "    </tr>\n",
              "    <tr>\n",
              "      <th>BHIA3</th>\n",
              "      <td>1.09</td>\n",
              "      <td>10</td>\n",
              "      <td>4</td>\n",
              "      <td>0.4</td>\n",
              "      <td>-0.39</td>\n",
              "      <td>0.04</td>\n",
              "      <td>0.1</td>\n",
              "      <td>-4.4</td>\n",
              "      <td>5.5</td>\n",
              "    </tr>\n",
              "    <tr>\n",
              "      <th>CIEL3</th>\n",
              "      <td>1.11</td>\n",
              "      <td>5</td>\n",
              "      <td>2</td>\n",
              "      <td>0.4</td>\n",
              "      <td>-0.25</td>\n",
              "      <td>0.02</td>\n",
              "      <td>0.1</td>\n",
              "      <td>-5.2</td>\n",
              "      <td>8.0</td>\n",
              "    </tr>\n",
              "    <tr>\n",
              "      <th>YDUQ3</th>\n",
              "      <td>4.36</td>\n",
              "      <td>4</td>\n",
              "      <td>4</td>\n",
              "      <td>1.0</td>\n",
              "      <td>0.22</td>\n",
              "      <td>0.05</td>\n",
              "      <td>NaN</td>\n",
              "      <td>NaN</td>\n",
              "      <td>2.5</td>\n",
              "    </tr>\n",
              "  </tbody>\n",
              "</table>\n",
              "</div>"
            ],
            "text/plain": [
              "        IFR2 Operações Positivas Tx acerto Acumulado Ret. médio pos  \\\n",
              "IRBR3   3.38         7         5     0.714      0.17           0.06   \n",
              "ENGI11  2.33         7         6     0.857      0.07           0.02   \n",
              "USIM5   2.57         8         4       0.5      0.02           0.03   \n",
              "BRAP4   0.43         9         5     0.556      0.01           0.03   \n",
              "CMIN3   3.67         4         3      0.75     -0.02           0.02   \n",
              "PCAR3   0.83         8         4       0.5     -0.32           0.04   \n",
              "BHIA3   1.09        10         4       0.4     -0.39           0.04   \n",
              "CIEL3   1.11         5         2       0.4     -0.25           0.02   \n",
              "YDUQ3   4.36         4         4       1.0      0.22           0.05   \n",
              "\n",
              "       Ret. médio neg Exp matematica Duração média(dias)  \n",
              "IRBR3            0.05          2.854                 2.7  \n",
              "ENGI11           0.04          1.142                 3.4  \n",
              "USIM5            0.02            0.5                 4.8  \n",
              "BRAP4            0.03          0.336                 4.8  \n",
              "CMIN3            0.09          -0.75                 5.0  \n",
              "PCAR3            0.12           -4.0                 4.9  \n",
              "BHIA3             0.1           -4.4                 5.5  \n",
              "CIEL3             0.1           -5.2                 8.0  \n",
              "YDUQ3             NaN            NaN                 2.5  "
            ]
          },
          "metadata": {},
          "output_type": "display_data"
        }
      ],
      "source": [
        "# @ markdown Mostra os resultados\n",
        "\n",
        "resumo = pd.DataFrame(index=lista_ifr,columns=[ \\\n",
        "    'IFR2',                    # ifr do papel\n",
        "    'Operações' ,              # no. de operações no periodo\n",
        "    'Positivas' ,     # no. de operações com retorno >0\n",
        "    'Tx acerto' ,              # Retornos positivos / Retornos \n",
        "    'Acumulado',               # Retorno acumulado pela estratégia \n",
        "    'Ret. médio pos' ,          # média aritmetica dos retornos > 0\n",
        "    'Ret. médio neg' ,          # média aritmetica dos retornos < 0\n",
        "    'Exp matematica',\n",
        "    'Duração média(dias)' ])   # no. medio de dias que fica posicionado\n",
        "\n",
        "# usando as informações da função 'trades', simula as operações\n",
        "# calcula o tempo de cada operação e a variação do preço do ativo\n",
        "\n",
        "out =  [ [[],[]] for j in range(len(lista_ifr))] \n",
        "retornos = [ [[],[]] for j in range(len(lista_ifr))] \n",
        "z=0\n",
        "for x in lista_ifr:\n",
        "  dura = []  ## duração da operação, em dias uteis\n",
        "  e    = []  ## pontos de entrada \n",
        "  s    = []  ## pontos de saida\n",
        "  posret = 0 ## conta retornos positivos\n",
        "\n",
        "  e,s = trades(x)\n",
        "  # mensagens para ajudar na validação\n",
        "  out1 =  ['' for j in range(len(e))] # entrada/saida\n",
        "  out2 =  ['' for j in range(len(e))] # duração\n",
        "  out3 =  ['' for j in range(len(e))] # retorno\n",
        "  \n",
        "  for j in range(len(e)) :\n",
        "      out1[j] =  \"entrada em \" + str(e[j][1]) + \" e saida em \" + str(s[j][1]) \n",
        "      \n",
        "      dias = s[j][0] - e[j][0]\n",
        "      out2[j] = \" durou \"+str(dias)+\" dias e \"\n",
        "      dura.append(dias)\n",
        "\n",
        "      retorno = s[j][2]/e[j][2] - 1\n",
        "      out3[j] = \"variou \"+str(round(retorno*100,3))+\"%\" \n",
        "      retornos[z][1].append(retorno)\n",
        "      if retorno > 0 : posret +=1\n",
        "  \n",
        "  if len(retornos[z][1])!=0 : wins = np.round(posret/(len(retornos[z][1])),3) \n",
        "  else : wins = 0\n",
        "  retpos = np.round(np.mean([x for x in retornos[z][1] if x>0]),2)\n",
        "  retneg = abs(np.round(np.mean([x for x in retornos[z][1] if x<=0]),2))\n",
        "  expectativa = (wins * retpos) - ((1 - wins) * retneg)\n",
        "\n",
        "  resumo.loc[x] = [ IFR[x].iloc[-1].round(2), \n",
        "                   len(e) , \n",
        "                   posret , \n",
        "                   wins,\n",
        "                   np.round((np.array(retornos[z][1])+1).cumprod()[-1] - 1,2) , \n",
        "                   retpos, \n",
        "                   retneg,\n",
        "                   expectativa*100, \n",
        "                   np.round(np.mean(dura),1) \n",
        "                   ]\n",
        "  \n",
        "  retornos[z][0] = x\n",
        "  out[z][0] = x\n",
        "  for j in range(len(e)) : \n",
        "        out[z][1].append(out1[j] + out2[j]+out3[j])        \n",
        "  z=z+1\n",
        "\n",
        "resumo = resumo.sort_values(by=['Exp matematica'], ascending=False)\n",
        "display(resumo.sort_values(by=['Exp matematica'], ascending=False))"
      ]
    },
    {
      "cell_type": "markdown",
      "metadata": {},
      "source": [
        "analise 1º ativo da lista"
      ]
    },
    {
      "cell_type": "code",
      "execution_count": 10,
      "metadata": {},
      "outputs": [
        {
          "name": "stdout",
          "output_type": "stream",
          "text": [
            "bt de  IRBR3\n"
          ]
        }
      ],
      "source": [
        "ativo = resumo.index[0]\n",
        "print('bt de ',ativo)"
      ]
    },
    {
      "cell_type": "code",
      "execution_count": 11,
      "metadata": {},
      "outputs": [],
      "source": [
        "entrada,saida = trades(ativo)\n",
        "entra = [datetime.strptime(x[1] , \"%d/%m/%Y\") for x in entrada]\n",
        "sai   = [datetime.strptime(x[1] , \"%d/%m/%Y\") for x in saida]"
      ]
    },
    {
      "cell_type": "code",
      "execution_count": 12,
      "metadata": {},
      "outputs": [],
      "source": [
        "posicao = pd.DataFrame(columns=['pos'], index=df.index)\n",
        "posicao.loc[entra] = 1\n",
        "posicao.loc[sai] = 0\n",
        "posicao.ffill(inplace=True)\n",
        "posicao.fillna(0,inplace=True)\n",
        "# posicao.iplot()"
      ]
    },
    {
      "cell_type": "code",
      "execution_count": 13,
      "metadata": {},
      "outputs": [
        {
          "data": {
            "application/vnd.plotly.v1+json": {
              "config": {
                "plotlyServerURL": "https://plot.ly"
              },
              "data": [
                {
                  "name": "preço",
                  "type": "scatter",
                  "x": [
                    "2023-03-15T00:00:00",
                    "2023-03-16T00:00:00",
                    "2023-03-17T00:00:00",
                    "2023-03-20T00:00:00",
                    "2023-03-21T00:00:00",
                    "2023-03-22T00:00:00",
                    "2023-03-23T00:00:00",
                    "2023-03-24T00:00:00",
                    "2023-03-27T00:00:00",
                    "2023-03-28T00:00:00",
                    "2023-03-29T00:00:00",
                    "2023-03-30T00:00:00",
                    "2023-03-31T00:00:00",
                    "2023-04-03T00:00:00",
                    "2023-04-04T00:00:00",
                    "2023-04-05T00:00:00",
                    "2023-04-06T00:00:00",
                    "2023-04-10T00:00:00",
                    "2023-04-11T00:00:00",
                    "2023-04-12T00:00:00",
                    "2023-04-13T00:00:00",
                    "2023-04-14T00:00:00",
                    "2023-04-17T00:00:00",
                    "2023-04-18T00:00:00",
                    "2023-04-19T00:00:00",
                    "2023-04-20T00:00:00",
                    "2023-04-24T00:00:00",
                    "2023-04-25T00:00:00",
                    "2023-04-26T00:00:00",
                    "2023-04-27T00:00:00",
                    "2023-04-28T00:00:00",
                    "2023-05-02T00:00:00",
                    "2023-05-03T00:00:00",
                    "2023-05-04T00:00:00",
                    "2023-05-05T00:00:00",
                    "2023-05-08T00:00:00",
                    "2023-05-09T00:00:00",
                    "2023-05-10T00:00:00",
                    "2023-05-11T00:00:00",
                    "2023-05-12T00:00:00",
                    "2023-05-15T00:00:00",
                    "2023-05-16T00:00:00",
                    "2023-05-17T00:00:00",
                    "2023-05-18T00:00:00",
                    "2023-05-19T00:00:00",
                    "2023-05-22T00:00:00",
                    "2023-05-23T00:00:00",
                    "2023-05-24T00:00:00",
                    "2023-05-25T00:00:00",
                    "2023-05-26T00:00:00",
                    "2023-05-29T00:00:00",
                    "2023-05-30T00:00:00",
                    "2023-05-31T00:00:00",
                    "2023-06-01T00:00:00",
                    "2023-06-02T00:00:00",
                    "2023-06-05T00:00:00",
                    "2023-06-06T00:00:00",
                    "2023-06-07T00:00:00",
                    "2023-06-09T00:00:00",
                    "2023-06-12T00:00:00",
                    "2023-06-13T00:00:00",
                    "2023-06-14T00:00:00",
                    "2023-06-15T00:00:00",
                    "2023-06-16T00:00:00",
                    "2023-06-19T00:00:00",
                    "2023-06-20T00:00:00",
                    "2023-06-21T00:00:00",
                    "2023-06-22T00:00:00",
                    "2023-06-23T00:00:00",
                    "2023-06-26T00:00:00",
                    "2023-06-27T00:00:00",
                    "2023-06-28T00:00:00",
                    "2023-06-29T00:00:00",
                    "2023-06-30T00:00:00",
                    "2023-07-03T00:00:00",
                    "2023-07-04T00:00:00",
                    "2023-07-05T00:00:00",
                    "2023-07-06T00:00:00",
                    "2023-07-07T00:00:00",
                    "2023-07-10T00:00:00",
                    "2023-07-11T00:00:00",
                    "2023-07-12T00:00:00",
                    "2023-07-13T00:00:00",
                    "2023-07-14T00:00:00",
                    "2023-07-17T00:00:00",
                    "2023-07-18T00:00:00",
                    "2023-07-19T00:00:00",
                    "2023-07-20T00:00:00",
                    "2023-07-21T00:00:00",
                    "2023-07-24T00:00:00",
                    "2023-07-25T00:00:00",
                    "2023-07-26T00:00:00",
                    "2023-07-27T00:00:00",
                    "2023-07-28T00:00:00",
                    "2023-07-31T00:00:00",
                    "2023-08-01T00:00:00",
                    "2023-08-02T00:00:00",
                    "2023-08-03T00:00:00",
                    "2023-08-04T00:00:00",
                    "2023-08-07T00:00:00",
                    "2023-08-08T00:00:00",
                    "2023-08-09T00:00:00",
                    "2023-08-10T00:00:00",
                    "2023-08-11T00:00:00",
                    "2023-08-14T00:00:00",
                    "2023-08-15T00:00:00",
                    "2023-08-16T00:00:00",
                    "2023-08-17T00:00:00",
                    "2023-08-18T00:00:00",
                    "2023-08-21T00:00:00",
                    "2023-08-22T00:00:00",
                    "2023-08-23T00:00:00",
                    "2023-08-24T00:00:00",
                    "2023-08-25T00:00:00",
                    "2023-08-28T00:00:00",
                    "2023-08-29T00:00:00",
                    "2023-08-30T00:00:00",
                    "2023-08-31T00:00:00",
                    "2023-09-01T00:00:00",
                    "2023-09-04T00:00:00",
                    "2023-09-05T00:00:00",
                    "2023-09-06T00:00:00",
                    "2023-09-08T00:00:00",
                    "2023-09-11T00:00:00",
                    "2023-09-12T00:00:00",
                    "2023-09-13T00:00:00",
                    "2023-09-14T00:00:00",
                    "2023-09-15T00:00:00",
                    "2023-09-18T00:00:00",
                    "2023-09-19T00:00:00",
                    "2023-09-20T00:00:00",
                    "2023-09-21T00:00:00",
                    "2023-09-22T00:00:00",
                    "2023-09-25T00:00:00",
                    "2023-09-26T00:00:00",
                    "2023-09-27T00:00:00",
                    "2023-09-28T00:00:00",
                    "2023-09-29T00:00:00",
                    "2023-10-02T00:00:00",
                    "2023-10-03T00:00:00",
                    "2023-10-04T00:00:00",
                    "2023-10-05T00:00:00",
                    "2023-10-06T00:00:00",
                    "2023-10-09T00:00:00",
                    "2023-10-10T00:00:00",
                    "2023-10-11T00:00:00",
                    "2023-10-13T00:00:00",
                    "2023-10-16T00:00:00",
                    "2023-10-17T00:00:00",
                    "2023-10-18T00:00:00",
                    "2023-10-19T00:00:00",
                    "2023-10-20T00:00:00",
                    "2023-10-23T00:00:00",
                    "2023-10-24T00:00:00",
                    "2023-10-25T00:00:00",
                    "2023-10-26T00:00:00",
                    "2023-10-27T00:00:00",
                    "2023-10-30T00:00:00",
                    "2023-10-31T00:00:00",
                    "2023-11-01T00:00:00",
                    "2023-11-03T00:00:00",
                    "2023-11-06T00:00:00",
                    "2023-11-07T00:00:00",
                    "2023-11-08T00:00:00",
                    "2023-11-09T00:00:00",
                    "2023-11-10T00:00:00",
                    "2023-11-13T00:00:00",
                    "2023-11-14T00:00:00",
                    "2023-11-16T00:00:00",
                    "2023-11-17T00:00:00",
                    "2023-11-20T00:00:00",
                    "2023-11-21T00:00:00",
                    "2023-11-22T00:00:00",
                    "2023-11-23T00:00:00",
                    "2023-11-24T00:00:00",
                    "2023-11-27T00:00:00",
                    "2023-11-28T00:00:00",
                    "2023-11-29T00:00:00",
                    "2023-11-30T00:00:00",
                    "2023-12-01T00:00:00",
                    "2023-12-04T00:00:00",
                    "2023-12-05T00:00:00",
                    "2023-12-06T00:00:00",
                    "2023-12-07T00:00:00",
                    "2023-12-08T00:00:00",
                    "2023-12-11T00:00:00",
                    "2023-12-12T00:00:00",
                    "2023-12-13T00:00:00",
                    "2023-12-14T00:00:00",
                    "2023-12-15T00:00:00",
                    "2023-12-18T00:00:00",
                    "2023-12-19T00:00:00",
                    "2023-12-20T00:00:00",
                    "2023-12-21T00:00:00",
                    "2023-12-22T00:00:00",
                    "2023-12-26T00:00:00",
                    "2023-12-27T00:00:00",
                    "2023-12-28T00:00:00",
                    "2024-01-02T00:00:00",
                    "2024-01-03T00:00:00",
                    "2024-01-04T00:00:00",
                    "2024-01-05T00:00:00",
                    "2024-01-08T00:00:00",
                    "2024-01-09T00:00:00",
                    "2024-01-10T00:00:00",
                    "2024-01-11T00:00:00",
                    "2024-01-12T00:00:00",
                    "2024-01-15T00:00:00",
                    "2024-01-16T00:00:00",
                    "2024-01-17T00:00:00",
                    "2024-01-18T00:00:00",
                    "2024-01-19T00:00:00",
                    "2024-01-22T00:00:00",
                    "2024-01-23T00:00:00",
                    "2024-01-24T00:00:00",
                    "2024-01-25T00:00:00",
                    "2024-01-26T00:00:00",
                    "2024-01-29T00:00:00",
                    "2024-01-30T00:00:00",
                    "2024-01-31T00:00:00",
                    "2024-02-01T00:00:00",
                    "2024-02-02T00:00:00",
                    "2024-02-05T00:00:00",
                    "2024-02-06T00:00:00",
                    "2024-02-07T00:00:00",
                    "2024-02-08T00:00:00",
                    "2024-02-09T00:00:00",
                    "2024-02-14T00:00:00",
                    "2024-02-15T00:00:00",
                    "2024-02-16T00:00:00",
                    "2024-02-19T00:00:00",
                    "2024-02-20T00:00:00",
                    "2024-02-21T00:00:00",
                    "2024-02-22T00:00:00",
                    "2024-02-23T00:00:00",
                    "2024-02-26T00:00:00",
                    "2024-02-27T00:00:00",
                    "2024-02-28T00:00:00",
                    "2024-02-29T00:00:00",
                    "2024-03-01T00:00:00",
                    "2024-03-04T00:00:00",
                    "2024-03-05T00:00:00",
                    "2024-03-06T00:00:00",
                    "2024-03-07T00:00:00",
                    "2024-03-08T00:00:00",
                    "2024-03-11T00:00:00",
                    "2024-03-12T00:00:00",
                    "2024-03-13T00:00:00",
                    "2024-03-14T00:00:00",
                    "2024-03-15T00:00:00"
                  ],
                  "xaxis": "x",
                  "y": [
                    20.790000915527344,
                    21.969999313354492,
                    21.760000228881836,
                    20.84000015258789,
                    20.729999542236328,
                    19.799999237060547,
                    19.459999084472656,
                    20.549999237060547,
                    20.579999923706055,
                    20.579999923706055,
                    21.1299991607666,
                    22.200000762939453,
                    22.239999771118164,
                    21.350000381469727,
                    21.979999542236328,
                    21.239999771118164,
                    21.829999923706055,
                    22.079999923706055,
                    22.700000762939453,
                    23.209999084472656,
                    24.450000762939453,
                    24.309999465942383,
                    24.690000534057617,
                    25.079999923706055,
                    24.450000762939453,
                    26,
                    27.6200008392334,
                    26.75,
                    28.100000381469727,
                    28.25,
                    31.469999313354492,
                    34.13999938964844,
                    31.829999923706055,
                    30.639999389648438,
                    33,
                    32.93000030517578,
                    34.7400016784668,
                    35.400001525878906,
                    36.060001373291016,
                    35.93000030517578,
                    36,
                    35.599998474121094,
                    32.61000061035156,
                    34.11000061035156,
                    35.33000183105469,
                    35.66999816894531,
                    35.369998931884766,
                    35.04999923706055,
                    36.290000915527344,
                    36.529998779296875,
                    37.11000061035156,
                    38.709999084472656,
                    38,
                    39.08000183105469,
                    38.95000076293945,
                    39.209999084472656,
                    40.84000015258789,
                    38.290000915527344,
                    37.9900016784668,
                    37.709999084472656,
                    37.349998474121094,
                    38.22999954223633,
                    38.20000076293945,
                    38.5,
                    39,
                    38.38999938964844,
                    40.61000061035156,
                    39.7599983215332,
                    42.65999984741211,
                    40.9900016784668,
                    41,
                    41.79999923706055,
                    43.650001525878906,
                    43.54999923706055,
                    43.849998474121094,
                    43.310001373291016,
                    46.16999816894531,
                    48.72999954223633,
                    52.36000061035156,
                    51.27000045776367,
                    53.529998779296875,
                    53.27000045776367,
                    52.439998626708984,
                    51.11000061035156,
                    49.5,
                    49.20000076293945,
                    47.900001525878906,
                    48.33000183105469,
                    49.2400016784668,
                    42.150001525878906,
                    42.88999938964844,
                    43.11000061035156,
                    41.91999816894531,
                    41.08000183105469,
                    41.119998931884766,
                    40.790000915527344,
                    40.91999816894531,
                    41.150001525878906,
                    40.68000030517578,
                    39.5,
                    38.86000061035156,
                    38.56999969482422,
                    39.08000183105469,
                    39.150001525878906,
                    38.86000061035156,
                    39.560001373291016,
                    44.25,
                    44.130001068115234,
                    43.7400016784668,
                    39.70000076293945,
                    43.33000183105469,
                    44.130001068115234,
                    45.02000045776367,
                    45.16999816894531,
                    45.650001525878906,
                    47.5099983215332,
                    45.040000915527344,
                    42.959999084472656,
                    41.90999984741211,
                    43.470001220703125,
                    43.2400016784668,
                    41.29999923706055,
                    40.79999923706055,
                    41.650001525878906,
                    42.93000030517578,
                    43.79999923706055,
                    43.65999984741211,
                    40.5,
                    40.79999923706055,
                    40.189998626708984,
                    40.4900016784668,
                    39.709999084472656,
                    40.4900016784668,
                    41.439998626708984,
                    41.5,
                    41.0099983215332,
                    41.7599983215332,
                    44,
                    41.66999816894531,
                    40.79999923706055,
                    42.22999954223633,
                    42.709999084472656,
                    42.459999084472656,
                    42.95000076293945,
                    44,
                    40.970001220703125,
                    39.91999816894531,
                    40.08000183105469,
                    39.7599983215332,
                    39.720001220703125,
                    39.900001525878906,
                    40.47999954223633,
                    40.720001220703125,
                    40.439998626708984,
                    39.59000015258789,
                    42,
                    40.86000061035156,
                    40.689998626708984,
                    40.689998626708984,
                    41.540000915527344,
                    42.25,
                    42.16999816894531,
                    43.09000015258789,
                    43.470001220703125,
                    43.18000030517578,
                    44.130001068115234,
                    43.529998779296875,
                    44.27000045776367,
                    43.95000076293945,
                    42.900001525878906,
                    43.38999938964844,
                    44.08000183105469,
                    46.810001373291016,
                    47.70000076293945,
                    46.790000915527344,
                    47.72999954223633,
                    48.90999984741211,
                    48.93000030517578,
                    50.5,
                    53.630001068115234,
                    52.25,
                    54.060001373291016,
                    53.38999938964844,
                    52.709999084472656,
                    50.58000183105469,
                    51.02000045776367,
                    51.52000045776367,
                    51.130001068115234,
                    49.5,
                    47.58000183105469,
                    48.83000183105469,
                    50.02000045776367,
                    49.54999923706055,
                    48.54999923706055,
                    45.54999923706055,
                    45.22999954223633,
                    45,
                    44.29999923706055,
                    41.91999816894531,
                    42.459999084472656,
                    41.9900016784668,
                    40.91999816894531,
                    42.18000030517578,
                    41.7400016784668,
                    40.77000045776367,
                    40.599998474121094,
                    40.33000183105469,
                    40.650001525878906,
                    39.54999923706055,
                    38.91999816894531,
                    38.619998931884766,
                    38.54999923706055,
                    37.83000183105469,
                    41.84000015258789,
                    40.54999923706055,
                    40.91999816894531,
                    40.650001525878906,
                    40.119998931884766,
                    39.45000076293945,
                    40.7599983215332,
                    40.349998474121094,
                    40.36000061035156,
                    40.58000183105469,
                    42.2400016784668,
                    42.27000045776367,
                    40.83000183105469,
                    39.79999923706055,
                    39.619998931884766,
                    40,
                    40.5099983215332,
                    41.16999816894531,
                    41.84000015258789,
                    40.97999954223633,
                    41.310001373291016,
                    41.290000915527344,
                    39.70000076293945,
                    41.310001373291016,
                    39.060001373291016,
                    38.81999969482422,
                    38.810001373291016,
                    42.72999954223633,
                    42.5,
                    43.380001068115234,
                    43.31999969482422,
                    42.79999923706055,
                    40.63999938964844,
                    40.45000076293945,
                    40.599998474121094,
                    40.11000061035156,
                    39.040000915527344
                  ],
                  "yaxis": "y"
                },
                {
                  "line": {
                    "color": "firebrick",
                    "dash": "dot",
                    "width": 2
                  },
                  "mode": "lines",
                  "name": "mma5",
                  "type": "scatter",
                  "x": [
                    "2023-03-15T00:00:00",
                    "2023-03-16T00:00:00",
                    "2023-03-17T00:00:00",
                    "2023-03-20T00:00:00",
                    "2023-03-21T00:00:00",
                    "2023-03-22T00:00:00",
                    "2023-03-23T00:00:00",
                    "2023-03-24T00:00:00",
                    "2023-03-27T00:00:00",
                    "2023-03-28T00:00:00",
                    "2023-03-29T00:00:00",
                    "2023-03-30T00:00:00",
                    "2023-03-31T00:00:00",
                    "2023-04-03T00:00:00",
                    "2023-04-04T00:00:00",
                    "2023-04-05T00:00:00",
                    "2023-04-06T00:00:00",
                    "2023-04-10T00:00:00",
                    "2023-04-11T00:00:00",
                    "2023-04-12T00:00:00",
                    "2023-04-13T00:00:00",
                    "2023-04-14T00:00:00",
                    "2023-04-17T00:00:00",
                    "2023-04-18T00:00:00",
                    "2023-04-19T00:00:00",
                    "2023-04-20T00:00:00",
                    "2023-04-24T00:00:00",
                    "2023-04-25T00:00:00",
                    "2023-04-26T00:00:00",
                    "2023-04-27T00:00:00",
                    "2023-04-28T00:00:00",
                    "2023-05-02T00:00:00",
                    "2023-05-03T00:00:00",
                    "2023-05-04T00:00:00",
                    "2023-05-05T00:00:00",
                    "2023-05-08T00:00:00",
                    "2023-05-09T00:00:00",
                    "2023-05-10T00:00:00",
                    "2023-05-11T00:00:00",
                    "2023-05-12T00:00:00",
                    "2023-05-15T00:00:00",
                    "2023-05-16T00:00:00",
                    "2023-05-17T00:00:00",
                    "2023-05-18T00:00:00",
                    "2023-05-19T00:00:00",
                    "2023-05-22T00:00:00",
                    "2023-05-23T00:00:00",
                    "2023-05-24T00:00:00",
                    "2023-05-25T00:00:00",
                    "2023-05-26T00:00:00",
                    "2023-05-29T00:00:00",
                    "2023-05-30T00:00:00",
                    "2023-05-31T00:00:00",
                    "2023-06-01T00:00:00",
                    "2023-06-02T00:00:00",
                    "2023-06-05T00:00:00",
                    "2023-06-06T00:00:00",
                    "2023-06-07T00:00:00",
                    "2023-06-09T00:00:00",
                    "2023-06-12T00:00:00",
                    "2023-06-13T00:00:00",
                    "2023-06-14T00:00:00",
                    "2023-06-15T00:00:00",
                    "2023-06-16T00:00:00",
                    "2023-06-19T00:00:00",
                    "2023-06-20T00:00:00",
                    "2023-06-21T00:00:00",
                    "2023-06-22T00:00:00",
                    "2023-06-23T00:00:00",
                    "2023-06-26T00:00:00",
                    "2023-06-27T00:00:00",
                    "2023-06-28T00:00:00",
                    "2023-06-29T00:00:00",
                    "2023-06-30T00:00:00",
                    "2023-07-03T00:00:00",
                    "2023-07-04T00:00:00",
                    "2023-07-05T00:00:00",
                    "2023-07-06T00:00:00",
                    "2023-07-07T00:00:00",
                    "2023-07-10T00:00:00",
                    "2023-07-11T00:00:00",
                    "2023-07-12T00:00:00",
                    "2023-07-13T00:00:00",
                    "2023-07-14T00:00:00",
                    "2023-07-17T00:00:00",
                    "2023-07-18T00:00:00",
                    "2023-07-19T00:00:00",
                    "2023-07-20T00:00:00",
                    "2023-07-21T00:00:00",
                    "2023-07-24T00:00:00",
                    "2023-07-25T00:00:00",
                    "2023-07-26T00:00:00",
                    "2023-07-27T00:00:00",
                    "2023-07-28T00:00:00",
                    "2023-07-31T00:00:00",
                    "2023-08-01T00:00:00",
                    "2023-08-02T00:00:00",
                    "2023-08-03T00:00:00",
                    "2023-08-04T00:00:00",
                    "2023-08-07T00:00:00",
                    "2023-08-08T00:00:00",
                    "2023-08-09T00:00:00",
                    "2023-08-10T00:00:00",
                    "2023-08-11T00:00:00",
                    "2023-08-14T00:00:00",
                    "2023-08-15T00:00:00",
                    "2023-08-16T00:00:00",
                    "2023-08-17T00:00:00",
                    "2023-08-18T00:00:00",
                    "2023-08-21T00:00:00",
                    "2023-08-22T00:00:00",
                    "2023-08-23T00:00:00",
                    "2023-08-24T00:00:00",
                    "2023-08-25T00:00:00",
                    "2023-08-28T00:00:00",
                    "2023-08-29T00:00:00",
                    "2023-08-30T00:00:00",
                    "2023-08-31T00:00:00",
                    "2023-09-01T00:00:00",
                    "2023-09-04T00:00:00",
                    "2023-09-05T00:00:00",
                    "2023-09-06T00:00:00",
                    "2023-09-08T00:00:00",
                    "2023-09-11T00:00:00",
                    "2023-09-12T00:00:00",
                    "2023-09-13T00:00:00",
                    "2023-09-14T00:00:00",
                    "2023-09-15T00:00:00",
                    "2023-09-18T00:00:00",
                    "2023-09-19T00:00:00",
                    "2023-09-20T00:00:00",
                    "2023-09-21T00:00:00",
                    "2023-09-22T00:00:00",
                    "2023-09-25T00:00:00",
                    "2023-09-26T00:00:00",
                    "2023-09-27T00:00:00",
                    "2023-09-28T00:00:00",
                    "2023-09-29T00:00:00",
                    "2023-10-02T00:00:00",
                    "2023-10-03T00:00:00",
                    "2023-10-04T00:00:00",
                    "2023-10-05T00:00:00",
                    "2023-10-06T00:00:00",
                    "2023-10-09T00:00:00",
                    "2023-10-10T00:00:00",
                    "2023-10-11T00:00:00",
                    "2023-10-13T00:00:00",
                    "2023-10-16T00:00:00",
                    "2023-10-17T00:00:00",
                    "2023-10-18T00:00:00",
                    "2023-10-19T00:00:00",
                    "2023-10-20T00:00:00",
                    "2023-10-23T00:00:00",
                    "2023-10-24T00:00:00",
                    "2023-10-25T00:00:00",
                    "2023-10-26T00:00:00",
                    "2023-10-27T00:00:00",
                    "2023-10-30T00:00:00",
                    "2023-10-31T00:00:00",
                    "2023-11-01T00:00:00",
                    "2023-11-03T00:00:00",
                    "2023-11-06T00:00:00",
                    "2023-11-07T00:00:00",
                    "2023-11-08T00:00:00",
                    "2023-11-09T00:00:00",
                    "2023-11-10T00:00:00",
                    "2023-11-13T00:00:00",
                    "2023-11-14T00:00:00",
                    "2023-11-16T00:00:00",
                    "2023-11-17T00:00:00",
                    "2023-11-20T00:00:00",
                    "2023-11-21T00:00:00",
                    "2023-11-22T00:00:00",
                    "2023-11-23T00:00:00",
                    "2023-11-24T00:00:00",
                    "2023-11-27T00:00:00",
                    "2023-11-28T00:00:00",
                    "2023-11-29T00:00:00",
                    "2023-11-30T00:00:00",
                    "2023-12-01T00:00:00",
                    "2023-12-04T00:00:00",
                    "2023-12-05T00:00:00",
                    "2023-12-06T00:00:00",
                    "2023-12-07T00:00:00",
                    "2023-12-08T00:00:00",
                    "2023-12-11T00:00:00",
                    "2023-12-12T00:00:00",
                    "2023-12-13T00:00:00",
                    "2023-12-14T00:00:00",
                    "2023-12-15T00:00:00",
                    "2023-12-18T00:00:00",
                    "2023-12-19T00:00:00",
                    "2023-12-20T00:00:00",
                    "2023-12-21T00:00:00",
                    "2023-12-22T00:00:00",
                    "2023-12-26T00:00:00",
                    "2023-12-27T00:00:00",
                    "2023-12-28T00:00:00",
                    "2024-01-02T00:00:00",
                    "2024-01-03T00:00:00",
                    "2024-01-04T00:00:00",
                    "2024-01-05T00:00:00",
                    "2024-01-08T00:00:00",
                    "2024-01-09T00:00:00",
                    "2024-01-10T00:00:00",
                    "2024-01-11T00:00:00",
                    "2024-01-12T00:00:00",
                    "2024-01-15T00:00:00",
                    "2024-01-16T00:00:00",
                    "2024-01-17T00:00:00",
                    "2024-01-18T00:00:00",
                    "2024-01-19T00:00:00",
                    "2024-01-22T00:00:00",
                    "2024-01-23T00:00:00",
                    "2024-01-24T00:00:00",
                    "2024-01-25T00:00:00",
                    "2024-01-26T00:00:00",
                    "2024-01-29T00:00:00",
                    "2024-01-30T00:00:00",
                    "2024-01-31T00:00:00",
                    "2024-02-01T00:00:00",
                    "2024-02-02T00:00:00",
                    "2024-02-05T00:00:00",
                    "2024-02-06T00:00:00",
                    "2024-02-07T00:00:00",
                    "2024-02-08T00:00:00",
                    "2024-02-09T00:00:00",
                    "2024-02-14T00:00:00",
                    "2024-02-15T00:00:00",
                    "2024-02-16T00:00:00",
                    "2024-02-19T00:00:00",
                    "2024-02-20T00:00:00",
                    "2024-02-21T00:00:00",
                    "2024-02-22T00:00:00",
                    "2024-02-23T00:00:00",
                    "2024-02-26T00:00:00",
                    "2024-02-27T00:00:00",
                    "2024-02-28T00:00:00",
                    "2024-02-29T00:00:00",
                    "2024-03-01T00:00:00",
                    "2024-03-04T00:00:00",
                    "2024-03-05T00:00:00",
                    "2024-03-06T00:00:00",
                    "2024-03-07T00:00:00",
                    "2024-03-08T00:00:00",
                    "2024-03-11T00:00:00",
                    "2024-03-12T00:00:00",
                    "2024-03-13T00:00:00",
                    "2024-03-14T00:00:00",
                    "2024-03-15T00:00:00"
                  ],
                  "xaxis": "x",
                  "y": [
                    null,
                    null,
                    null,
                    null,
                    21.21800003051758,
                    21.019999694824218,
                    20.51799964904785,
                    20.275999450683592,
                    20.223999404907225,
                    20.19399948120117,
                    20.45999946594238,
                    21.00799980163574,
                    21.345999908447265,
                    21.5,
                    21.779999923706054,
                    21.802000045776367,
                    21.727999877929687,
                    21.695999908447266,
                    21.96599998474121,
                    22.211999893188477,
                    22.854000091552734,
                    23.35,
                    23.87200012207031,
                    24.34799995422363,
                    24.596000289916994,
                    24.9060001373291,
                    25.568000411987306,
                    25.980000305175782,
                    26.584000396728516,
                    27.344000244140624,
                    28.438000106811522,
                    29.74199981689453,
                    30.75799980163574,
                    31.265999603271485,
                    32.215999603271484,
                    32.50799980163574,
                    32.628000259399414,
                    33.342000579833986,
                    34.4260009765625,
                    35.012001037597656,
                    35.6260009765625,
                    35.79800033569336,
                    35.24000015258789,
                    34.85,
                    34.73000030517578,
                    34.66399993896484,
                    34.61800003051758,
                    35.10599975585937,
                    35.54199981689453,
                    35.78199920654297,
                    36.06999969482422,
                    36.737999725341794,
                    37.327999877929685,
                    37.886000061035155,
                    38.37000045776367,
                    38.79000015258789,
                    39.216000366210935,
                    39.274000549316405,
                    39.056000518798825,
                    38.80800018310547,
                    38.43600006103516,
                    37.91399993896484,
                    37.895999908447266,
                    37.997999572753905,
                    38.25599975585938,
                    38.46399993896485,
                    38.94000015258789,
                    39.25199966430664,
                    40.08399963378906,
                    40.48199996948242,
                    41.00400009155273,
                    41.241999816894534,
                    42.02000045776367,
                    42.19800033569336,
                    42.76999969482422,
                    43.23199996948242,
                    44.10599975585937,
                    45.12199935913086,
                    46.88399963378906,
                    48.36800003051758,
                    50.41199951171875,
                    51.831999969482425,
                    52.57399978637695,
                    52.32399978637695,
                    51.96999969482422,
                    51.104000091552734,
                    50.03000030517578,
                    49.20800094604492,
                    48.83400115966797,
                    47.36400146484375,
                    46.10200119018555,
                    45.14400100708008,
                    43.8620002746582,
                    42.23000030517578,
                    42.023999786376955,
                    41.604000091552734,
                    41.16599960327149,
                    41.012000274658206,
                    40.93199996948242,
                    40.60800018310547,
                    40.22200012207031,
                    39.752000427246095,
                    39.33800048828125,
                    39.03200073242188,
                    38.90400085449219,
                    39.04400100708008,
                    40.18000106811523,
                    41.19000091552734,
                    42.108000946044925,
                    42.2760009765625,
                    43.03000106811523,
                    43.00600128173828,
                    43.18400115966797,
                    43.470000457763675,
                    44.66000061035156,
                    45.49599990844727,
                    45.677999877929686,
                    45.26599960327148,
                    44.613999938964845,
                    44.177999877929686,
                    43.32400054931641,
                    42.57600021362305,
                    42.14400024414063,
                    42.092000579833986,
                    41.98400039672852,
                    42.09599990844727,
                    42.56800003051758,
                    42.508000183105466,
                    42.337999725341795,
                    41.789999389648436,
                    41.12799987792969,
                    40.337999725341795,
                    40.33600006103516,
                    40.46399993896485,
                    40.726000213623045,
                    40.82999954223633,
                    41.23999938964844,
                    41.94199905395508,
                    41.987998962402344,
                    41.847998809814456,
                    42.09199905395508,
                    42.28199920654297,
                    41.9739990234375,
                    42.22999954223633,
                    42.869999694824216,
                    42.61800003051758,
                    42.05999984741211,
                    41.58400039672851,
                    40.94599990844726,
                    40.09000015258789,
                    39.876000213623044,
                    39.98800048828125,
                    40.11600036621094,
                    40.252000427246095,
                    40.226000213623045,
                    40.645999908447266,
                    40.72200012207031,
                    40.715999603271484,
                    40.76599960327148,
                    41.155999755859376,
                    41.205999755859374,
                    41.46799926757812,
                    41.94799957275391,
                    42.50400009155273,
                    42.831999969482425,
                    43.20800018310547,
                    43.48000030517578,
                    43.716000366210935,
                    43.8120002746582,
                    43.75600051879883,
                    43.60800018310547,
                    43.71800079345703,
                    44.2260009765625,
                    44.9760009765625,
                    45.75400085449219,
                    46.62200088500977,
                    47.58800048828125,
                    48.012000274658206,
                    48.572000122070314,
                    49.94000015258789,
                    50.844000244140624,
                    51.874000549316406,
                    52.76600036621094,
                    53.20800018310547,
                    52.59800033569336,
                    52.3520004272461,
                    51.844000244140624,
                    51.39200057983398,
                    50.75000076293945,
                    50.150000762939456,
                    49.71200103759766,
                    49.412001037597655,
                    49.09600067138672,
                    48.90600051879883,
                    48.5,
                    47.779999542236325,
                    46.77599945068359,
                    45.725999450683595,
                    44.39999923706055,
                    43.78199920654297,
                    43.13399963378906,
                    42.317999267578124,
                    41.89399948120117,
                    41.85800018310547,
                    41.52000045776367,
                    41.241999816894534,
                    41.124000549316406,
                    40.81800079345703,
                    40.380000305175784,
                    40.00999984741211,
                    39.613999938964845,
                    39.257999420166016,
                    38.693999481201175,
                    39.15199966430664,
                    39.47799987792969,
                    39.9379997253418,
                    40.35800018310547,
                    40.815999603271486,
                    40.337999725341795,
                    40.37999954223633,
                    40.26599960327148,
                    40.20799942016602,
                    40.3,
                    40.85800018310547,
                    41.16000061035156,
                    41.25600128173828,
                    41.14400100708008,
                    40.95200042724609,
                    40.50400009155273,
                    40.15199966430664,
                    40.21999893188477,
                    40.62799911499023,
                    40.89999923706055,
                    41.16199951171875,
                    41.31800003051758,
                    41.024000549316405,
                    40.91800079345703,
                    40.534001159667966,
                    40.03600082397461,
                    39.540000915527344,
                    40.146000671386716,
                    40.38400039672852,
                    41.24800033569336,
                    42.14800033569336,
                    42.94599990844726,
                    42.52799987792969,
                    42.11800003051758,
                    41.56199951171875,
                    40.91999969482422,
                    40.168000030517575
                  ],
                  "yaxis": "y"
                },
                {
                  "marker": {
                    "angle": 45,
                    "line": {
                      "color": "DarkSlateGrey",
                      "width": 2
                    },
                    "size": 12,
                    "symbol": "arrow"
                  },
                  "mode": "markers",
                  "name": "Entrada",
                  "type": "scatter",
                  "x": [
                    "2023-03-24T00:00:00",
                    "2023-05-18T00:00:00",
                    "2023-07-20T00:00:00",
                    "2023-08-09T00:00:00",
                    "2023-12-18T00:00:00",
                    "2023-12-28T00:00:00",
                    "2024-01-19T00:00:00"
                  ],
                  "xaxis": "x",
                  "y": [
                    20.549999237060547,
                    34.11000061035156,
                    48.33000183105469,
                    38.56999969482422,
                    48.83000183105469,
                    44.29999923706055,
                    38.54999923706055
                  ],
                  "yaxis": "y"
                },
                {
                  "marker": {
                    "angle": -135,
                    "line": {
                      "color": "red",
                      "width": 2
                    },
                    "size": 12,
                    "symbol": "arrow"
                  },
                  "mode": "markers",
                  "name": "Saida",
                  "type": "scatter",
                  "x": [
                    "2023-03-27T00:00:00",
                    "2023-05-22T00:00:00",
                    "2023-07-24T00:00:00",
                    "2023-08-14T00:00:00",
                    "2023-12-20T00:00:00",
                    "2024-01-09T00:00:00",
                    "2024-01-24T00:00:00"
                  ],
                  "xaxis": "x",
                  "y": [
                    20.579999923706055,
                    35.66999816894531,
                    42.150001525878906,
                    38.86000061035156,
                    49.54999923706055,
                    41.7400016784668,
                    40.54999923706055
                  ],
                  "yaxis": "y"
                },
                {
                  "name": "ifr2",
                  "type": "scatter",
                  "x": [
                    "2023-03-15T00:00:00",
                    "2023-03-16T00:00:00",
                    "2023-03-17T00:00:00",
                    "2023-03-20T00:00:00",
                    "2023-03-21T00:00:00",
                    "2023-03-22T00:00:00",
                    "2023-03-23T00:00:00",
                    "2023-03-24T00:00:00",
                    "2023-03-27T00:00:00",
                    "2023-03-28T00:00:00",
                    "2023-03-29T00:00:00",
                    "2023-03-30T00:00:00",
                    "2023-03-31T00:00:00",
                    "2023-04-03T00:00:00",
                    "2023-04-04T00:00:00",
                    "2023-04-05T00:00:00",
                    "2023-04-06T00:00:00",
                    "2023-04-10T00:00:00",
                    "2023-04-11T00:00:00",
                    "2023-04-12T00:00:00",
                    "2023-04-13T00:00:00",
                    "2023-04-14T00:00:00",
                    "2023-04-17T00:00:00",
                    "2023-04-18T00:00:00",
                    "2023-04-19T00:00:00",
                    "2023-04-20T00:00:00",
                    "2023-04-24T00:00:00",
                    "2023-04-25T00:00:00",
                    "2023-04-26T00:00:00",
                    "2023-04-27T00:00:00",
                    "2023-04-28T00:00:00",
                    "2023-05-02T00:00:00",
                    "2023-05-03T00:00:00",
                    "2023-05-04T00:00:00",
                    "2023-05-05T00:00:00",
                    "2023-05-08T00:00:00",
                    "2023-05-09T00:00:00",
                    "2023-05-10T00:00:00",
                    "2023-05-11T00:00:00",
                    "2023-05-12T00:00:00",
                    "2023-05-15T00:00:00",
                    "2023-05-16T00:00:00",
                    "2023-05-17T00:00:00",
                    "2023-05-18T00:00:00",
                    "2023-05-19T00:00:00",
                    "2023-05-22T00:00:00",
                    "2023-05-23T00:00:00",
                    "2023-05-24T00:00:00",
                    "2023-05-25T00:00:00",
                    "2023-05-26T00:00:00",
                    "2023-05-29T00:00:00",
                    "2023-05-30T00:00:00",
                    "2023-05-31T00:00:00",
                    "2023-06-01T00:00:00",
                    "2023-06-02T00:00:00",
                    "2023-06-05T00:00:00",
                    "2023-06-06T00:00:00",
                    "2023-06-07T00:00:00",
                    "2023-06-09T00:00:00",
                    "2023-06-12T00:00:00",
                    "2023-06-13T00:00:00",
                    "2023-06-14T00:00:00",
                    "2023-06-15T00:00:00",
                    "2023-06-16T00:00:00",
                    "2023-06-19T00:00:00",
                    "2023-06-20T00:00:00",
                    "2023-06-21T00:00:00",
                    "2023-06-22T00:00:00",
                    "2023-06-23T00:00:00",
                    "2023-06-26T00:00:00",
                    "2023-06-27T00:00:00",
                    "2023-06-28T00:00:00",
                    "2023-06-29T00:00:00",
                    "2023-06-30T00:00:00",
                    "2023-07-03T00:00:00",
                    "2023-07-04T00:00:00",
                    "2023-07-05T00:00:00",
                    "2023-07-06T00:00:00",
                    "2023-07-07T00:00:00",
                    "2023-07-10T00:00:00",
                    "2023-07-11T00:00:00",
                    "2023-07-12T00:00:00",
                    "2023-07-13T00:00:00",
                    "2023-07-14T00:00:00",
                    "2023-07-17T00:00:00",
                    "2023-07-18T00:00:00",
                    "2023-07-19T00:00:00",
                    "2023-07-20T00:00:00",
                    "2023-07-21T00:00:00",
                    "2023-07-24T00:00:00",
                    "2023-07-25T00:00:00",
                    "2023-07-26T00:00:00",
                    "2023-07-27T00:00:00",
                    "2023-07-28T00:00:00",
                    "2023-07-31T00:00:00",
                    "2023-08-01T00:00:00",
                    "2023-08-02T00:00:00",
                    "2023-08-03T00:00:00",
                    "2023-08-04T00:00:00",
                    "2023-08-07T00:00:00",
                    "2023-08-08T00:00:00",
                    "2023-08-09T00:00:00",
                    "2023-08-10T00:00:00",
                    "2023-08-11T00:00:00",
                    "2023-08-14T00:00:00",
                    "2023-08-15T00:00:00",
                    "2023-08-16T00:00:00",
                    "2023-08-17T00:00:00",
                    "2023-08-18T00:00:00",
                    "2023-08-21T00:00:00",
                    "2023-08-22T00:00:00",
                    "2023-08-23T00:00:00",
                    "2023-08-24T00:00:00",
                    "2023-08-25T00:00:00",
                    "2023-08-28T00:00:00",
                    "2023-08-29T00:00:00",
                    "2023-08-30T00:00:00",
                    "2023-08-31T00:00:00",
                    "2023-09-01T00:00:00",
                    "2023-09-04T00:00:00",
                    "2023-09-05T00:00:00",
                    "2023-09-06T00:00:00",
                    "2023-09-08T00:00:00",
                    "2023-09-11T00:00:00",
                    "2023-09-12T00:00:00",
                    "2023-09-13T00:00:00",
                    "2023-09-14T00:00:00",
                    "2023-09-15T00:00:00",
                    "2023-09-18T00:00:00",
                    "2023-09-19T00:00:00",
                    "2023-09-20T00:00:00",
                    "2023-09-21T00:00:00",
                    "2023-09-22T00:00:00",
                    "2023-09-25T00:00:00",
                    "2023-09-26T00:00:00",
                    "2023-09-27T00:00:00",
                    "2023-09-28T00:00:00",
                    "2023-09-29T00:00:00",
                    "2023-10-02T00:00:00",
                    "2023-10-03T00:00:00",
                    "2023-10-04T00:00:00",
                    "2023-10-05T00:00:00",
                    "2023-10-06T00:00:00",
                    "2023-10-09T00:00:00",
                    "2023-10-10T00:00:00",
                    "2023-10-11T00:00:00",
                    "2023-10-13T00:00:00",
                    "2023-10-16T00:00:00",
                    "2023-10-17T00:00:00",
                    "2023-10-18T00:00:00",
                    "2023-10-19T00:00:00",
                    "2023-10-20T00:00:00",
                    "2023-10-23T00:00:00",
                    "2023-10-24T00:00:00",
                    "2023-10-25T00:00:00",
                    "2023-10-26T00:00:00",
                    "2023-10-27T00:00:00",
                    "2023-10-30T00:00:00",
                    "2023-10-31T00:00:00",
                    "2023-11-01T00:00:00",
                    "2023-11-03T00:00:00",
                    "2023-11-06T00:00:00",
                    "2023-11-07T00:00:00",
                    "2023-11-08T00:00:00",
                    "2023-11-09T00:00:00",
                    "2023-11-10T00:00:00",
                    "2023-11-13T00:00:00",
                    "2023-11-14T00:00:00",
                    "2023-11-16T00:00:00",
                    "2023-11-17T00:00:00",
                    "2023-11-20T00:00:00",
                    "2023-11-21T00:00:00",
                    "2023-11-22T00:00:00",
                    "2023-11-23T00:00:00",
                    "2023-11-24T00:00:00",
                    "2023-11-27T00:00:00",
                    "2023-11-28T00:00:00",
                    "2023-11-29T00:00:00",
                    "2023-11-30T00:00:00",
                    "2023-12-01T00:00:00",
                    "2023-12-04T00:00:00",
                    "2023-12-05T00:00:00",
                    "2023-12-06T00:00:00",
                    "2023-12-07T00:00:00",
                    "2023-12-08T00:00:00",
                    "2023-12-11T00:00:00",
                    "2023-12-12T00:00:00",
                    "2023-12-13T00:00:00",
                    "2023-12-14T00:00:00",
                    "2023-12-15T00:00:00",
                    "2023-12-18T00:00:00",
                    "2023-12-19T00:00:00",
                    "2023-12-20T00:00:00",
                    "2023-12-21T00:00:00",
                    "2023-12-22T00:00:00",
                    "2023-12-26T00:00:00",
                    "2023-12-27T00:00:00",
                    "2023-12-28T00:00:00",
                    "2024-01-02T00:00:00",
                    "2024-01-03T00:00:00",
                    "2024-01-04T00:00:00",
                    "2024-01-05T00:00:00",
                    "2024-01-08T00:00:00",
                    "2024-01-09T00:00:00",
                    "2024-01-10T00:00:00",
                    "2024-01-11T00:00:00",
                    "2024-01-12T00:00:00",
                    "2024-01-15T00:00:00",
                    "2024-01-16T00:00:00",
                    "2024-01-17T00:00:00",
                    "2024-01-18T00:00:00",
                    "2024-01-19T00:00:00",
                    "2024-01-22T00:00:00",
                    "2024-01-23T00:00:00",
                    "2024-01-24T00:00:00",
                    "2024-01-25T00:00:00",
                    "2024-01-26T00:00:00",
                    "2024-01-29T00:00:00",
                    "2024-01-30T00:00:00",
                    "2024-01-31T00:00:00",
                    "2024-02-01T00:00:00",
                    "2024-02-02T00:00:00",
                    "2024-02-05T00:00:00",
                    "2024-02-06T00:00:00",
                    "2024-02-07T00:00:00",
                    "2024-02-08T00:00:00",
                    "2024-02-09T00:00:00",
                    "2024-02-14T00:00:00",
                    "2024-02-15T00:00:00",
                    "2024-02-16T00:00:00",
                    "2024-02-19T00:00:00",
                    "2024-02-20T00:00:00",
                    "2024-02-21T00:00:00",
                    "2024-02-22T00:00:00",
                    "2024-02-23T00:00:00",
                    "2024-02-26T00:00:00",
                    "2024-02-27T00:00:00",
                    "2024-02-28T00:00:00",
                    "2024-02-29T00:00:00",
                    "2024-03-01T00:00:00",
                    "2024-03-04T00:00:00",
                    "2024-03-05T00:00:00",
                    "2024-03-06T00:00:00",
                    "2024-03-07T00:00:00",
                    "2024-03-08T00:00:00",
                    "2024-03-11T00:00:00",
                    "2024-03-12T00:00:00",
                    "2024-03-13T00:00:00",
                    "2024-03-14T00:00:00",
                    "2024-03-15T00:00:00"
                  ],
                  "xaxis": "x2",
                  "y": [
                    null,
                    100,
                    73.75,
                    22.349999999999994,
                    19.159999999999997,
                    5.609999999999999,
                    3.700000000000003,
                    69.77,
                    70.87,
                    70.87,
                    92.06,
                    97.93,
                    98.04,
                    29.439999999999998,
                    64.55,
                    29.760000000000005,
                    62.23,
                    72.86,
                    88.67,
                    94.22,
                    98.29,
                    84.8,
                    91.28999999999999,
                    95.36,
                    38.01,
                    84.34,
                    93.89,
                    56.73,
                    80.58,
                    82.7,
                    96.96,
                    98.71,
                    49.38,
                    32.59,
                    71.28999999999999,
                    68.95,
                    88.51,
                    92.13,
                    95.17,
                    82.6,
                    84.77,
                    34.980000000000004,
                    3.5799999999999983,
                    49.27,
                    71.35,
                    76.95,
                    57.23,
                    37,
                    83.15,
                    86.87,
                    93.65,
                    98.35,
                    59.36,
                    81.58,
                    72.09,
                    80.95,
                    96.18,
                    27.47,
                    23.519999999999996,
                    18.540000000000006,
                    12,
                    67.69,
                    64.89,
                    80.78999999999999,
                    92.34,
                    37.42,
                    88.26,
                    54.41,
                    87.4,
                    47.67,
                    47.95,
                    72.11,
                    91.14,
                    84.88,
                    89.28999999999999,
                    43.54,
                    91.22,
                    96.5,
                    98.71,
                    71.6,
                    86.72,
                    77.26,
                    45.53,
                    19.659999999999997,
                    8.269999999999996,
                    6.810000000000002,
                    2.680000000000007,
                    30.53,
                    68.58,
                    7.189999999999998,
                    21.799999999999997,
                    28.5,
                    14.799999999999997,
                    8.810000000000002,
                    12.189999999999998,
                    7.569999999999993,
                    28.849999999999994,
                    60.79,
                    21.439999999999998,
                    5.049999999999997,
                    2.760000000000005,
                    1.9500000000000028,
                    51.57,
                    57.47,
                    28.590000000000003,
                    79.16,
                    98.01,
                    93.68,
                    72.75,
                    12.930000000000007,
                    64.86,
                    72.17,
                    80.98,
                    82.81,
                    89.37,
                    97.31,
                    32.599999999999994,
                    15.379999999999995,
                    10.030000000000001,
                    55.76,
                    48.49,
                    15.159999999999997,
                    11.189999999999998,
                    53,
                    80.56,
                    89.18,
                    78.03999999999999,
                    11.75,
                    24.010000000000005,
                    15.340000000000003,
                    37.52,
                    15.879999999999995,
                    60.94,
                    83.05,
                    84.18,
                    40.28,
                    77,
                    95.08,
                    36.08,
                    24.659999999999997,
                    63.08,
                    72.5,
                    57.28,
                    76.57,
                    92.01,
                    19.150000000000006,
                    12.36,
                    20.909999999999997,
                    15.040000000000006,
                    14.060000000000002,
                    45.94,
                    84.06,
                    89.93,
                    48.35,
                    12.700000000000003,
                    83.15,
                    47.15,
                    41.76,
                    41.76,
                    82.28,
                    91.81,
                    81.89,
                    94.8,
                    96.73,
                    61.78,
                    88.65,
                    46.95,
                    75.44,
                    51.51,
                    16.72,
                    48.92,
                    75.55,
                    95.23,
                    96.87,
                    56.86,
                    76.72,
                    89.2,
                    89.4,
                    97.21,
                    99.29,
                    59.89,
                    80.35,
                    58.32,
                    37.47,
                    11.569999999999993,
                    31.209999999999994,
                    54.29,
                    35.64,
                    9.200000000000003,
                    3.3499999999999943,
                    47.13,
                    71.61,
                    52.43,
                    24.510000000000005,
                    5.840000000000003,
                    5.019999999999996,
                    4.180000000000007,
                    2.069999999999993,
                    0.46999999999999886,
                    26.349999999999994,
                    18.14,
                    7.5,
                    61.16,
                    43.52,
                    19.159999999999997,
                    16.019999999999996,
                    10.530000000000001,
                    50.62,
                    12.409999999999997,
                    6.650000000000006,
                    4.609999999999999,
                    4.040000000000006,
                    1.1299999999999955,
                    89.03999999999999,
                    56.64,
                    64.13,
                    51.22,
                    28.61,
                    13.519999999999996,
                    71.76,
                    50.48,
                    51.19,
                    70.01,
                    95.6,
                    95.73,
                    24.72,
                    11.989999999999995,
                    10.170000000000002,
                    45.35,
                    73.36,
                    88.55,
                    94.69,
                    39.83,
                    58.35,
                    56.25,
                    8.370000000000005,
                    66.36,
                    23.97,
                    21.090000000000003,
                    20.879999999999995,
                    90.97,
                    82.4,
                    89.77,
                    84.92,
                    43.86,
                    8.739999999999995,
                    7.659999999999997,
                    22.730000000000004,
                    11,
                    3.3799999999999955
                  ],
                  "yaxis": "y2"
                },
                {
                  "line": {
                    "color": "red",
                    "dash": "dot",
                    "width": 4
                  },
                  "mode": "lines",
                  "name": "ifr2=5",
                  "type": "scatter",
                  "x": [
                    "2023-03-15T00:00:00",
                    "2023-03-16T00:00:00",
                    "2023-03-17T00:00:00",
                    "2023-03-20T00:00:00",
                    "2023-03-21T00:00:00",
                    "2023-03-22T00:00:00",
                    "2023-03-23T00:00:00",
                    "2023-03-24T00:00:00",
                    "2023-03-27T00:00:00",
                    "2023-03-28T00:00:00",
                    "2023-03-29T00:00:00",
                    "2023-03-30T00:00:00",
                    "2023-03-31T00:00:00",
                    "2023-04-03T00:00:00",
                    "2023-04-04T00:00:00",
                    "2023-04-05T00:00:00",
                    "2023-04-06T00:00:00",
                    "2023-04-10T00:00:00",
                    "2023-04-11T00:00:00",
                    "2023-04-12T00:00:00",
                    "2023-04-13T00:00:00",
                    "2023-04-14T00:00:00",
                    "2023-04-17T00:00:00",
                    "2023-04-18T00:00:00",
                    "2023-04-19T00:00:00",
                    "2023-04-20T00:00:00",
                    "2023-04-24T00:00:00",
                    "2023-04-25T00:00:00",
                    "2023-04-26T00:00:00",
                    "2023-04-27T00:00:00",
                    "2023-04-28T00:00:00",
                    "2023-05-02T00:00:00",
                    "2023-05-03T00:00:00",
                    "2023-05-04T00:00:00",
                    "2023-05-05T00:00:00",
                    "2023-05-08T00:00:00",
                    "2023-05-09T00:00:00",
                    "2023-05-10T00:00:00",
                    "2023-05-11T00:00:00",
                    "2023-05-12T00:00:00",
                    "2023-05-15T00:00:00",
                    "2023-05-16T00:00:00",
                    "2023-05-17T00:00:00",
                    "2023-05-18T00:00:00",
                    "2023-05-19T00:00:00",
                    "2023-05-22T00:00:00",
                    "2023-05-23T00:00:00",
                    "2023-05-24T00:00:00",
                    "2023-05-25T00:00:00",
                    "2023-05-26T00:00:00",
                    "2023-05-29T00:00:00",
                    "2023-05-30T00:00:00",
                    "2023-05-31T00:00:00",
                    "2023-06-01T00:00:00",
                    "2023-06-02T00:00:00",
                    "2023-06-05T00:00:00",
                    "2023-06-06T00:00:00",
                    "2023-06-07T00:00:00",
                    "2023-06-09T00:00:00",
                    "2023-06-12T00:00:00",
                    "2023-06-13T00:00:00",
                    "2023-06-14T00:00:00",
                    "2023-06-15T00:00:00",
                    "2023-06-16T00:00:00",
                    "2023-06-19T00:00:00",
                    "2023-06-20T00:00:00",
                    "2023-06-21T00:00:00",
                    "2023-06-22T00:00:00",
                    "2023-06-23T00:00:00",
                    "2023-06-26T00:00:00",
                    "2023-06-27T00:00:00",
                    "2023-06-28T00:00:00",
                    "2023-06-29T00:00:00",
                    "2023-06-30T00:00:00",
                    "2023-07-03T00:00:00",
                    "2023-07-04T00:00:00",
                    "2023-07-05T00:00:00",
                    "2023-07-06T00:00:00",
                    "2023-07-07T00:00:00",
                    "2023-07-10T00:00:00",
                    "2023-07-11T00:00:00",
                    "2023-07-12T00:00:00",
                    "2023-07-13T00:00:00",
                    "2023-07-14T00:00:00",
                    "2023-07-17T00:00:00",
                    "2023-07-18T00:00:00",
                    "2023-07-19T00:00:00",
                    "2023-07-20T00:00:00",
                    "2023-07-21T00:00:00",
                    "2023-07-24T00:00:00",
                    "2023-07-25T00:00:00",
                    "2023-07-26T00:00:00",
                    "2023-07-27T00:00:00",
                    "2023-07-28T00:00:00",
                    "2023-07-31T00:00:00",
                    "2023-08-01T00:00:00",
                    "2023-08-02T00:00:00",
                    "2023-08-03T00:00:00",
                    "2023-08-04T00:00:00",
                    "2023-08-07T00:00:00",
                    "2023-08-08T00:00:00",
                    "2023-08-09T00:00:00",
                    "2023-08-10T00:00:00",
                    "2023-08-11T00:00:00",
                    "2023-08-14T00:00:00",
                    "2023-08-15T00:00:00",
                    "2023-08-16T00:00:00",
                    "2023-08-17T00:00:00",
                    "2023-08-18T00:00:00",
                    "2023-08-21T00:00:00",
                    "2023-08-22T00:00:00",
                    "2023-08-23T00:00:00",
                    "2023-08-24T00:00:00",
                    "2023-08-25T00:00:00",
                    "2023-08-28T00:00:00",
                    "2023-08-29T00:00:00",
                    "2023-08-30T00:00:00",
                    "2023-08-31T00:00:00",
                    "2023-09-01T00:00:00",
                    "2023-09-04T00:00:00",
                    "2023-09-05T00:00:00",
                    "2023-09-06T00:00:00",
                    "2023-09-08T00:00:00",
                    "2023-09-11T00:00:00",
                    "2023-09-12T00:00:00",
                    "2023-09-13T00:00:00",
                    "2023-09-14T00:00:00",
                    "2023-09-15T00:00:00",
                    "2023-09-18T00:00:00",
                    "2023-09-19T00:00:00",
                    "2023-09-20T00:00:00",
                    "2023-09-21T00:00:00",
                    "2023-09-22T00:00:00",
                    "2023-09-25T00:00:00",
                    "2023-09-26T00:00:00",
                    "2023-09-27T00:00:00",
                    "2023-09-28T00:00:00",
                    "2023-09-29T00:00:00",
                    "2023-10-02T00:00:00",
                    "2023-10-03T00:00:00",
                    "2023-10-04T00:00:00",
                    "2023-10-05T00:00:00",
                    "2023-10-06T00:00:00",
                    "2023-10-09T00:00:00",
                    "2023-10-10T00:00:00",
                    "2023-10-11T00:00:00",
                    "2023-10-13T00:00:00",
                    "2023-10-16T00:00:00",
                    "2023-10-17T00:00:00",
                    "2023-10-18T00:00:00",
                    "2023-10-19T00:00:00",
                    "2023-10-20T00:00:00",
                    "2023-10-23T00:00:00",
                    "2023-10-24T00:00:00",
                    "2023-10-25T00:00:00",
                    "2023-10-26T00:00:00",
                    "2023-10-27T00:00:00",
                    "2023-10-30T00:00:00",
                    "2023-10-31T00:00:00",
                    "2023-11-01T00:00:00",
                    "2023-11-03T00:00:00",
                    "2023-11-06T00:00:00",
                    "2023-11-07T00:00:00",
                    "2023-11-08T00:00:00",
                    "2023-11-09T00:00:00",
                    "2023-11-10T00:00:00",
                    "2023-11-13T00:00:00",
                    "2023-11-14T00:00:00",
                    "2023-11-16T00:00:00",
                    "2023-11-17T00:00:00",
                    "2023-11-20T00:00:00",
                    "2023-11-21T00:00:00",
                    "2023-11-22T00:00:00",
                    "2023-11-23T00:00:00",
                    "2023-11-24T00:00:00",
                    "2023-11-27T00:00:00",
                    "2023-11-28T00:00:00",
                    "2023-11-29T00:00:00",
                    "2023-11-30T00:00:00",
                    "2023-12-01T00:00:00",
                    "2023-12-04T00:00:00",
                    "2023-12-05T00:00:00",
                    "2023-12-06T00:00:00",
                    "2023-12-07T00:00:00",
                    "2023-12-08T00:00:00",
                    "2023-12-11T00:00:00",
                    "2023-12-12T00:00:00",
                    "2023-12-13T00:00:00",
                    "2023-12-14T00:00:00",
                    "2023-12-15T00:00:00",
                    "2023-12-18T00:00:00",
                    "2023-12-19T00:00:00",
                    "2023-12-20T00:00:00",
                    "2023-12-21T00:00:00",
                    "2023-12-22T00:00:00",
                    "2023-12-26T00:00:00",
                    "2023-12-27T00:00:00",
                    "2023-12-28T00:00:00",
                    "2024-01-02T00:00:00",
                    "2024-01-03T00:00:00",
                    "2024-01-04T00:00:00",
                    "2024-01-05T00:00:00",
                    "2024-01-08T00:00:00",
                    "2024-01-09T00:00:00",
                    "2024-01-10T00:00:00",
                    "2024-01-11T00:00:00",
                    "2024-01-12T00:00:00",
                    "2024-01-15T00:00:00",
                    "2024-01-16T00:00:00",
                    "2024-01-17T00:00:00",
                    "2024-01-18T00:00:00",
                    "2024-01-19T00:00:00",
                    "2024-01-22T00:00:00",
                    "2024-01-23T00:00:00",
                    "2024-01-24T00:00:00",
                    "2024-01-25T00:00:00",
                    "2024-01-26T00:00:00",
                    "2024-01-29T00:00:00",
                    "2024-01-30T00:00:00",
                    "2024-01-31T00:00:00",
                    "2024-02-01T00:00:00",
                    "2024-02-02T00:00:00",
                    "2024-02-05T00:00:00",
                    "2024-02-06T00:00:00",
                    "2024-02-07T00:00:00",
                    "2024-02-08T00:00:00",
                    "2024-02-09T00:00:00",
                    "2024-02-14T00:00:00",
                    "2024-02-15T00:00:00",
                    "2024-02-16T00:00:00",
                    "2024-02-19T00:00:00",
                    "2024-02-20T00:00:00",
                    "2024-02-21T00:00:00",
                    "2024-02-22T00:00:00",
                    "2024-02-23T00:00:00",
                    "2024-02-26T00:00:00",
                    "2024-02-27T00:00:00",
                    "2024-02-28T00:00:00",
                    "2024-02-29T00:00:00",
                    "2024-03-01T00:00:00",
                    "2024-03-04T00:00:00",
                    "2024-03-05T00:00:00",
                    "2024-03-06T00:00:00",
                    "2024-03-07T00:00:00",
                    "2024-03-08T00:00:00",
                    "2024-03-11T00:00:00",
                    "2024-03-12T00:00:00",
                    "2024-03-13T00:00:00",
                    "2024-03-14T00:00:00",
                    "2024-03-15T00:00:00"
                  ],
                  "xaxis": "x2",
                  "y": [
                    5,
                    5,
                    5,
                    5,
                    5,
                    5,
                    5,
                    5,
                    5,
                    5,
                    5,
                    5,
                    5,
                    5,
                    5,
                    5,
                    5,
                    5,
                    5,
                    5,
                    5,
                    5,
                    5,
                    5,
                    5,
                    5,
                    5,
                    5,
                    5,
                    5,
                    5,
                    5,
                    5,
                    5,
                    5,
                    5,
                    5,
                    5,
                    5,
                    5,
                    5,
                    5,
                    5,
                    5,
                    5,
                    5,
                    5,
                    5,
                    5,
                    5,
                    5,
                    5,
                    5,
                    5,
                    5,
                    5,
                    5,
                    5,
                    5,
                    5,
                    5,
                    5,
                    5,
                    5,
                    5,
                    5,
                    5,
                    5,
                    5,
                    5,
                    5,
                    5,
                    5,
                    5,
                    5,
                    5,
                    5,
                    5,
                    5,
                    5,
                    5,
                    5,
                    5,
                    5,
                    5,
                    5,
                    5,
                    5,
                    5,
                    5,
                    5,
                    5,
                    5,
                    5,
                    5,
                    5,
                    5,
                    5,
                    5,
                    5,
                    5,
                    5,
                    5,
                    5,
                    5,
                    5,
                    5,
                    5,
                    5,
                    5,
                    5,
                    5,
                    5,
                    5,
                    5,
                    5,
                    5,
                    5,
                    5,
                    5,
                    5,
                    5,
                    5,
                    5,
                    5,
                    5,
                    5,
                    5,
                    5,
                    5,
                    5,
                    5,
                    5,
                    5,
                    5,
                    5,
                    5,
                    5,
                    5,
                    5,
                    5,
                    5,
                    5,
                    5,
                    5,
                    5,
                    5,
                    5,
                    5,
                    5,
                    5,
                    5,
                    5,
                    5,
                    5,
                    5,
                    5,
                    5,
                    5,
                    5,
                    5,
                    5,
                    5,
                    5,
                    5,
                    5,
                    5,
                    5,
                    5,
                    5,
                    5,
                    5,
                    5,
                    5,
                    5,
                    5,
                    5,
                    5,
                    5,
                    5,
                    5,
                    5,
                    5,
                    5,
                    5,
                    5,
                    5,
                    5,
                    5,
                    5,
                    5,
                    5,
                    5,
                    5,
                    5,
                    5,
                    5,
                    5,
                    5,
                    5,
                    5,
                    5,
                    5,
                    5,
                    5,
                    5,
                    5,
                    5,
                    5,
                    5,
                    5,
                    5,
                    5,
                    5,
                    5,
                    5,
                    5,
                    5,
                    5,
                    5,
                    5,
                    5,
                    5,
                    5,
                    5,
                    5,
                    5,
                    5,
                    5,
                    5,
                    5,
                    5,
                    5,
                    5,
                    5,
                    5,
                    5,
                    5,
                    5,
                    5,
                    5,
                    5,
                    5,
                    5,
                    5,
                    5,
                    5,
                    5,
                    5,
                    5
                  ],
                  "yaxis": "y2"
                },
                {
                  "mode": "lines",
                  "name": "posição",
                  "type": "scatter",
                  "x": [
                    "2023-03-15T00:00:00",
                    "2023-03-16T00:00:00",
                    "2023-03-17T00:00:00",
                    "2023-03-20T00:00:00",
                    "2023-03-21T00:00:00",
                    "2023-03-22T00:00:00",
                    "2023-03-23T00:00:00",
                    "2023-03-24T00:00:00",
                    "2023-03-27T00:00:00",
                    "2023-03-28T00:00:00",
                    "2023-03-29T00:00:00",
                    "2023-03-30T00:00:00",
                    "2023-03-31T00:00:00",
                    "2023-04-03T00:00:00",
                    "2023-04-04T00:00:00",
                    "2023-04-05T00:00:00",
                    "2023-04-06T00:00:00",
                    "2023-04-10T00:00:00",
                    "2023-04-11T00:00:00",
                    "2023-04-12T00:00:00",
                    "2023-04-13T00:00:00",
                    "2023-04-14T00:00:00",
                    "2023-04-17T00:00:00",
                    "2023-04-18T00:00:00",
                    "2023-04-19T00:00:00",
                    "2023-04-20T00:00:00",
                    "2023-04-24T00:00:00",
                    "2023-04-25T00:00:00",
                    "2023-04-26T00:00:00",
                    "2023-04-27T00:00:00",
                    "2023-04-28T00:00:00",
                    "2023-05-02T00:00:00",
                    "2023-05-03T00:00:00",
                    "2023-05-04T00:00:00",
                    "2023-05-05T00:00:00",
                    "2023-05-08T00:00:00",
                    "2023-05-09T00:00:00",
                    "2023-05-10T00:00:00",
                    "2023-05-11T00:00:00",
                    "2023-05-12T00:00:00",
                    "2023-05-15T00:00:00",
                    "2023-05-16T00:00:00",
                    "2023-05-17T00:00:00",
                    "2023-05-18T00:00:00",
                    "2023-05-19T00:00:00",
                    "2023-05-22T00:00:00",
                    "2023-05-23T00:00:00",
                    "2023-05-24T00:00:00",
                    "2023-05-25T00:00:00",
                    "2023-05-26T00:00:00",
                    "2023-05-29T00:00:00",
                    "2023-05-30T00:00:00",
                    "2023-05-31T00:00:00",
                    "2023-06-01T00:00:00",
                    "2023-06-02T00:00:00",
                    "2023-06-05T00:00:00",
                    "2023-06-06T00:00:00",
                    "2023-06-07T00:00:00",
                    "2023-06-09T00:00:00",
                    "2023-06-12T00:00:00",
                    "2023-06-13T00:00:00",
                    "2023-06-14T00:00:00",
                    "2023-06-15T00:00:00",
                    "2023-06-16T00:00:00",
                    "2023-06-19T00:00:00",
                    "2023-06-20T00:00:00",
                    "2023-06-21T00:00:00",
                    "2023-06-22T00:00:00",
                    "2023-06-23T00:00:00",
                    "2023-06-26T00:00:00",
                    "2023-06-27T00:00:00",
                    "2023-06-28T00:00:00",
                    "2023-06-29T00:00:00",
                    "2023-06-30T00:00:00",
                    "2023-07-03T00:00:00",
                    "2023-07-04T00:00:00",
                    "2023-07-05T00:00:00",
                    "2023-07-06T00:00:00",
                    "2023-07-07T00:00:00",
                    "2023-07-10T00:00:00",
                    "2023-07-11T00:00:00",
                    "2023-07-12T00:00:00",
                    "2023-07-13T00:00:00",
                    "2023-07-14T00:00:00",
                    "2023-07-17T00:00:00",
                    "2023-07-18T00:00:00",
                    "2023-07-19T00:00:00",
                    "2023-07-20T00:00:00",
                    "2023-07-21T00:00:00",
                    "2023-07-24T00:00:00",
                    "2023-07-25T00:00:00",
                    "2023-07-26T00:00:00",
                    "2023-07-27T00:00:00",
                    "2023-07-28T00:00:00",
                    "2023-07-31T00:00:00",
                    "2023-08-01T00:00:00",
                    "2023-08-02T00:00:00",
                    "2023-08-03T00:00:00",
                    "2023-08-04T00:00:00",
                    "2023-08-07T00:00:00",
                    "2023-08-08T00:00:00",
                    "2023-08-09T00:00:00",
                    "2023-08-10T00:00:00",
                    "2023-08-11T00:00:00",
                    "2023-08-14T00:00:00",
                    "2023-08-15T00:00:00",
                    "2023-08-16T00:00:00",
                    "2023-08-17T00:00:00",
                    "2023-08-18T00:00:00",
                    "2023-08-21T00:00:00",
                    "2023-08-22T00:00:00",
                    "2023-08-23T00:00:00",
                    "2023-08-24T00:00:00",
                    "2023-08-25T00:00:00",
                    "2023-08-28T00:00:00",
                    "2023-08-29T00:00:00",
                    "2023-08-30T00:00:00",
                    "2023-08-31T00:00:00",
                    "2023-09-01T00:00:00",
                    "2023-09-04T00:00:00",
                    "2023-09-05T00:00:00",
                    "2023-09-06T00:00:00",
                    "2023-09-08T00:00:00",
                    "2023-09-11T00:00:00",
                    "2023-09-12T00:00:00",
                    "2023-09-13T00:00:00",
                    "2023-09-14T00:00:00",
                    "2023-09-15T00:00:00",
                    "2023-09-18T00:00:00",
                    "2023-09-19T00:00:00",
                    "2023-09-20T00:00:00",
                    "2023-09-21T00:00:00",
                    "2023-09-22T00:00:00",
                    "2023-09-25T00:00:00",
                    "2023-09-26T00:00:00",
                    "2023-09-27T00:00:00",
                    "2023-09-28T00:00:00",
                    "2023-09-29T00:00:00",
                    "2023-10-02T00:00:00",
                    "2023-10-03T00:00:00",
                    "2023-10-04T00:00:00",
                    "2023-10-05T00:00:00",
                    "2023-10-06T00:00:00",
                    "2023-10-09T00:00:00",
                    "2023-10-10T00:00:00",
                    "2023-10-11T00:00:00",
                    "2023-10-13T00:00:00",
                    "2023-10-16T00:00:00",
                    "2023-10-17T00:00:00",
                    "2023-10-18T00:00:00",
                    "2023-10-19T00:00:00",
                    "2023-10-20T00:00:00",
                    "2023-10-23T00:00:00",
                    "2023-10-24T00:00:00",
                    "2023-10-25T00:00:00",
                    "2023-10-26T00:00:00",
                    "2023-10-27T00:00:00",
                    "2023-10-30T00:00:00",
                    "2023-10-31T00:00:00",
                    "2023-11-01T00:00:00",
                    "2023-11-03T00:00:00",
                    "2023-11-06T00:00:00",
                    "2023-11-07T00:00:00",
                    "2023-11-08T00:00:00",
                    "2023-11-09T00:00:00",
                    "2023-11-10T00:00:00",
                    "2023-11-13T00:00:00",
                    "2023-11-14T00:00:00",
                    "2023-11-16T00:00:00",
                    "2023-11-17T00:00:00",
                    "2023-11-20T00:00:00",
                    "2023-11-21T00:00:00",
                    "2023-11-22T00:00:00",
                    "2023-11-23T00:00:00",
                    "2023-11-24T00:00:00",
                    "2023-11-27T00:00:00",
                    "2023-11-28T00:00:00",
                    "2023-11-29T00:00:00",
                    "2023-11-30T00:00:00",
                    "2023-12-01T00:00:00",
                    "2023-12-04T00:00:00",
                    "2023-12-05T00:00:00",
                    "2023-12-06T00:00:00",
                    "2023-12-07T00:00:00",
                    "2023-12-08T00:00:00",
                    "2023-12-11T00:00:00",
                    "2023-12-12T00:00:00",
                    "2023-12-13T00:00:00",
                    "2023-12-14T00:00:00",
                    "2023-12-15T00:00:00",
                    "2023-12-18T00:00:00",
                    "2023-12-19T00:00:00",
                    "2023-12-20T00:00:00",
                    "2023-12-21T00:00:00",
                    "2023-12-22T00:00:00",
                    "2023-12-26T00:00:00",
                    "2023-12-27T00:00:00",
                    "2023-12-28T00:00:00",
                    "2024-01-02T00:00:00",
                    "2024-01-03T00:00:00",
                    "2024-01-04T00:00:00",
                    "2024-01-05T00:00:00",
                    "2024-01-08T00:00:00",
                    "2024-01-09T00:00:00",
                    "2024-01-10T00:00:00",
                    "2024-01-11T00:00:00",
                    "2024-01-12T00:00:00",
                    "2024-01-15T00:00:00",
                    "2024-01-16T00:00:00",
                    "2024-01-17T00:00:00",
                    "2024-01-18T00:00:00",
                    "2024-01-19T00:00:00",
                    "2024-01-22T00:00:00",
                    "2024-01-23T00:00:00",
                    "2024-01-24T00:00:00",
                    "2024-01-25T00:00:00",
                    "2024-01-26T00:00:00",
                    "2024-01-29T00:00:00",
                    "2024-01-30T00:00:00",
                    "2024-01-31T00:00:00",
                    "2024-02-01T00:00:00",
                    "2024-02-02T00:00:00",
                    "2024-02-05T00:00:00",
                    "2024-02-06T00:00:00",
                    "2024-02-07T00:00:00",
                    "2024-02-08T00:00:00",
                    "2024-02-09T00:00:00",
                    "2024-02-14T00:00:00",
                    "2024-02-15T00:00:00",
                    "2024-02-16T00:00:00",
                    "2024-02-19T00:00:00",
                    "2024-02-20T00:00:00",
                    "2024-02-21T00:00:00",
                    "2024-02-22T00:00:00",
                    "2024-02-23T00:00:00",
                    "2024-02-26T00:00:00",
                    "2024-02-27T00:00:00",
                    "2024-02-28T00:00:00",
                    "2024-02-29T00:00:00",
                    "2024-03-01T00:00:00",
                    "2024-03-04T00:00:00",
                    "2024-03-05T00:00:00",
                    "2024-03-06T00:00:00",
                    "2024-03-07T00:00:00",
                    "2024-03-08T00:00:00",
                    "2024-03-11T00:00:00",
                    "2024-03-12T00:00:00",
                    "2024-03-13T00:00:00",
                    "2024-03-14T00:00:00",
                    "2024-03-15T00:00:00"
                  ],
                  "xaxis": "x3",
                  "y": [
                    0,
                    0,
                    0,
                    0,
                    0,
                    0,
                    0,
                    1,
                    0,
                    0,
                    0,
                    0,
                    0,
                    0,
                    0,
                    0,
                    0,
                    0,
                    0,
                    0,
                    0,
                    0,
                    0,
                    0,
                    0,
                    0,
                    0,
                    0,
                    0,
                    0,
                    0,
                    0,
                    0,
                    0,
                    0,
                    0,
                    0,
                    0,
                    0,
                    0,
                    0,
                    0,
                    0,
                    1,
                    1,
                    0,
                    0,
                    0,
                    0,
                    0,
                    0,
                    0,
                    0,
                    0,
                    0,
                    0,
                    0,
                    0,
                    0,
                    0,
                    0,
                    0,
                    0,
                    0,
                    0,
                    0,
                    0,
                    0,
                    0,
                    0,
                    0,
                    0,
                    0,
                    0,
                    0,
                    0,
                    0,
                    0,
                    0,
                    0,
                    0,
                    0,
                    0,
                    0,
                    0,
                    0,
                    0,
                    1,
                    1,
                    0,
                    0,
                    0,
                    0,
                    0,
                    0,
                    0,
                    0,
                    0,
                    0,
                    0,
                    0,
                    1,
                    1,
                    1,
                    0,
                    0,
                    0,
                    0,
                    0,
                    0,
                    0,
                    0,
                    0,
                    0,
                    0,
                    0,
                    0,
                    0,
                    0,
                    0,
                    0,
                    0,
                    0,
                    0,
                    0,
                    0,
                    0,
                    0,
                    0,
                    0,
                    0,
                    0,
                    0,
                    0,
                    0,
                    0,
                    0,
                    0,
                    0,
                    0,
                    0,
                    0,
                    0,
                    0,
                    0,
                    0,
                    0,
                    0,
                    0,
                    0,
                    0,
                    0,
                    0,
                    0,
                    0,
                    0,
                    0,
                    0,
                    0,
                    0,
                    0,
                    0,
                    0,
                    0,
                    0,
                    0,
                    0,
                    0,
                    0,
                    0,
                    0,
                    0,
                    0,
                    0,
                    0,
                    0,
                    0,
                    0,
                    0,
                    0,
                    0,
                    0,
                    0,
                    0,
                    0,
                    0,
                    0,
                    0,
                    0,
                    0,
                    1,
                    1,
                    0,
                    0,
                    0,
                    0,
                    0,
                    1,
                    1,
                    1,
                    1,
                    1,
                    1,
                    0,
                    0,
                    0,
                    0,
                    0,
                    0,
                    0,
                    0,
                    1,
                    1,
                    1,
                    0,
                    0,
                    0,
                    0,
                    0,
                    0,
                    0,
                    0,
                    0,
                    0,
                    0,
                    0,
                    0,
                    0,
                    0,
                    0,
                    0,
                    0,
                    0,
                    0,
                    0,
                    0,
                    0,
                    0,
                    0,
                    0,
                    0,
                    0,
                    0,
                    0,
                    0,
                    0,
                    0,
                    0,
                    0,
                    0
                  ],
                  "yaxis": "y3"
                }
              ],
              "layout": {
                "template": {
                  "data": {
                    "bar": [
                      {
                        "error_x": {
                          "color": "#2a3f5f"
                        },
                        "error_y": {
                          "color": "#2a3f5f"
                        },
                        "marker": {
                          "line": {
                            "color": "#E5ECF6",
                            "width": 0.5
                          },
                          "pattern": {
                            "fillmode": "overlay",
                            "size": 10,
                            "solidity": 0.2
                          }
                        },
                        "type": "bar"
                      }
                    ],
                    "barpolar": [
                      {
                        "marker": {
                          "line": {
                            "color": "#E5ECF6",
                            "width": 0.5
                          },
                          "pattern": {
                            "fillmode": "overlay",
                            "size": 10,
                            "solidity": 0.2
                          }
                        },
                        "type": "barpolar"
                      }
                    ],
                    "carpet": [
                      {
                        "aaxis": {
                          "endlinecolor": "#2a3f5f",
                          "gridcolor": "white",
                          "linecolor": "white",
                          "minorgridcolor": "white",
                          "startlinecolor": "#2a3f5f"
                        },
                        "baxis": {
                          "endlinecolor": "#2a3f5f",
                          "gridcolor": "white",
                          "linecolor": "white",
                          "minorgridcolor": "white",
                          "startlinecolor": "#2a3f5f"
                        },
                        "type": "carpet"
                      }
                    ],
                    "choropleth": [
                      {
                        "colorbar": {
                          "outlinewidth": 0,
                          "ticks": ""
                        },
                        "type": "choropleth"
                      }
                    ],
                    "contour": [
                      {
                        "colorbar": {
                          "outlinewidth": 0,
                          "ticks": ""
                        },
                        "colorscale": [
                          [
                            0,
                            "#0d0887"
                          ],
                          [
                            0.1111111111111111,
                            "#46039f"
                          ],
                          [
                            0.2222222222222222,
                            "#7201a8"
                          ],
                          [
                            0.3333333333333333,
                            "#9c179e"
                          ],
                          [
                            0.4444444444444444,
                            "#bd3786"
                          ],
                          [
                            0.5555555555555556,
                            "#d8576b"
                          ],
                          [
                            0.6666666666666666,
                            "#ed7953"
                          ],
                          [
                            0.7777777777777778,
                            "#fb9f3a"
                          ],
                          [
                            0.8888888888888888,
                            "#fdca26"
                          ],
                          [
                            1,
                            "#f0f921"
                          ]
                        ],
                        "type": "contour"
                      }
                    ],
                    "contourcarpet": [
                      {
                        "colorbar": {
                          "outlinewidth": 0,
                          "ticks": ""
                        },
                        "type": "contourcarpet"
                      }
                    ],
                    "heatmap": [
                      {
                        "colorbar": {
                          "outlinewidth": 0,
                          "ticks": ""
                        },
                        "colorscale": [
                          [
                            0,
                            "#0d0887"
                          ],
                          [
                            0.1111111111111111,
                            "#46039f"
                          ],
                          [
                            0.2222222222222222,
                            "#7201a8"
                          ],
                          [
                            0.3333333333333333,
                            "#9c179e"
                          ],
                          [
                            0.4444444444444444,
                            "#bd3786"
                          ],
                          [
                            0.5555555555555556,
                            "#d8576b"
                          ],
                          [
                            0.6666666666666666,
                            "#ed7953"
                          ],
                          [
                            0.7777777777777778,
                            "#fb9f3a"
                          ],
                          [
                            0.8888888888888888,
                            "#fdca26"
                          ],
                          [
                            1,
                            "#f0f921"
                          ]
                        ],
                        "type": "heatmap"
                      }
                    ],
                    "heatmapgl": [
                      {
                        "colorbar": {
                          "outlinewidth": 0,
                          "ticks": ""
                        },
                        "colorscale": [
                          [
                            0,
                            "#0d0887"
                          ],
                          [
                            0.1111111111111111,
                            "#46039f"
                          ],
                          [
                            0.2222222222222222,
                            "#7201a8"
                          ],
                          [
                            0.3333333333333333,
                            "#9c179e"
                          ],
                          [
                            0.4444444444444444,
                            "#bd3786"
                          ],
                          [
                            0.5555555555555556,
                            "#d8576b"
                          ],
                          [
                            0.6666666666666666,
                            "#ed7953"
                          ],
                          [
                            0.7777777777777778,
                            "#fb9f3a"
                          ],
                          [
                            0.8888888888888888,
                            "#fdca26"
                          ],
                          [
                            1,
                            "#f0f921"
                          ]
                        ],
                        "type": "heatmapgl"
                      }
                    ],
                    "histogram": [
                      {
                        "marker": {
                          "pattern": {
                            "fillmode": "overlay",
                            "size": 10,
                            "solidity": 0.2
                          }
                        },
                        "type": "histogram"
                      }
                    ],
                    "histogram2d": [
                      {
                        "colorbar": {
                          "outlinewidth": 0,
                          "ticks": ""
                        },
                        "colorscale": [
                          [
                            0,
                            "#0d0887"
                          ],
                          [
                            0.1111111111111111,
                            "#46039f"
                          ],
                          [
                            0.2222222222222222,
                            "#7201a8"
                          ],
                          [
                            0.3333333333333333,
                            "#9c179e"
                          ],
                          [
                            0.4444444444444444,
                            "#bd3786"
                          ],
                          [
                            0.5555555555555556,
                            "#d8576b"
                          ],
                          [
                            0.6666666666666666,
                            "#ed7953"
                          ],
                          [
                            0.7777777777777778,
                            "#fb9f3a"
                          ],
                          [
                            0.8888888888888888,
                            "#fdca26"
                          ],
                          [
                            1,
                            "#f0f921"
                          ]
                        ],
                        "type": "histogram2d"
                      }
                    ],
                    "histogram2dcontour": [
                      {
                        "colorbar": {
                          "outlinewidth": 0,
                          "ticks": ""
                        },
                        "colorscale": [
                          [
                            0,
                            "#0d0887"
                          ],
                          [
                            0.1111111111111111,
                            "#46039f"
                          ],
                          [
                            0.2222222222222222,
                            "#7201a8"
                          ],
                          [
                            0.3333333333333333,
                            "#9c179e"
                          ],
                          [
                            0.4444444444444444,
                            "#bd3786"
                          ],
                          [
                            0.5555555555555556,
                            "#d8576b"
                          ],
                          [
                            0.6666666666666666,
                            "#ed7953"
                          ],
                          [
                            0.7777777777777778,
                            "#fb9f3a"
                          ],
                          [
                            0.8888888888888888,
                            "#fdca26"
                          ],
                          [
                            1,
                            "#f0f921"
                          ]
                        ],
                        "type": "histogram2dcontour"
                      }
                    ],
                    "mesh3d": [
                      {
                        "colorbar": {
                          "outlinewidth": 0,
                          "ticks": ""
                        },
                        "type": "mesh3d"
                      }
                    ],
                    "parcoords": [
                      {
                        "line": {
                          "colorbar": {
                            "outlinewidth": 0,
                            "ticks": ""
                          }
                        },
                        "type": "parcoords"
                      }
                    ],
                    "pie": [
                      {
                        "automargin": true,
                        "type": "pie"
                      }
                    ],
                    "scatter": [
                      {
                        "fillpattern": {
                          "fillmode": "overlay",
                          "size": 10,
                          "solidity": 0.2
                        },
                        "type": "scatter"
                      }
                    ],
                    "scatter3d": [
                      {
                        "line": {
                          "colorbar": {
                            "outlinewidth": 0,
                            "ticks": ""
                          }
                        },
                        "marker": {
                          "colorbar": {
                            "outlinewidth": 0,
                            "ticks": ""
                          }
                        },
                        "type": "scatter3d"
                      }
                    ],
                    "scattercarpet": [
                      {
                        "marker": {
                          "colorbar": {
                            "outlinewidth": 0,
                            "ticks": ""
                          }
                        },
                        "type": "scattercarpet"
                      }
                    ],
                    "scattergeo": [
                      {
                        "marker": {
                          "colorbar": {
                            "outlinewidth": 0,
                            "ticks": ""
                          }
                        },
                        "type": "scattergeo"
                      }
                    ],
                    "scattergl": [
                      {
                        "marker": {
                          "colorbar": {
                            "outlinewidth": 0,
                            "ticks": ""
                          }
                        },
                        "type": "scattergl"
                      }
                    ],
                    "scattermapbox": [
                      {
                        "marker": {
                          "colorbar": {
                            "outlinewidth": 0,
                            "ticks": ""
                          }
                        },
                        "type": "scattermapbox"
                      }
                    ],
                    "scatterpolar": [
                      {
                        "marker": {
                          "colorbar": {
                            "outlinewidth": 0,
                            "ticks": ""
                          }
                        },
                        "type": "scatterpolar"
                      }
                    ],
                    "scatterpolargl": [
                      {
                        "marker": {
                          "colorbar": {
                            "outlinewidth": 0,
                            "ticks": ""
                          }
                        },
                        "type": "scatterpolargl"
                      }
                    ],
                    "scatterternary": [
                      {
                        "marker": {
                          "colorbar": {
                            "outlinewidth": 0,
                            "ticks": ""
                          }
                        },
                        "type": "scatterternary"
                      }
                    ],
                    "surface": [
                      {
                        "colorbar": {
                          "outlinewidth": 0,
                          "ticks": ""
                        },
                        "colorscale": [
                          [
                            0,
                            "#0d0887"
                          ],
                          [
                            0.1111111111111111,
                            "#46039f"
                          ],
                          [
                            0.2222222222222222,
                            "#7201a8"
                          ],
                          [
                            0.3333333333333333,
                            "#9c179e"
                          ],
                          [
                            0.4444444444444444,
                            "#bd3786"
                          ],
                          [
                            0.5555555555555556,
                            "#d8576b"
                          ],
                          [
                            0.6666666666666666,
                            "#ed7953"
                          ],
                          [
                            0.7777777777777778,
                            "#fb9f3a"
                          ],
                          [
                            0.8888888888888888,
                            "#fdca26"
                          ],
                          [
                            1,
                            "#f0f921"
                          ]
                        ],
                        "type": "surface"
                      }
                    ],
                    "table": [
                      {
                        "cells": {
                          "fill": {
                            "color": "#EBF0F8"
                          },
                          "line": {
                            "color": "white"
                          }
                        },
                        "header": {
                          "fill": {
                            "color": "#C8D4E3"
                          },
                          "line": {
                            "color": "white"
                          }
                        },
                        "type": "table"
                      }
                    ]
                  },
                  "layout": {
                    "annotationdefaults": {
                      "arrowcolor": "#2a3f5f",
                      "arrowhead": 0,
                      "arrowwidth": 1
                    },
                    "autotypenumbers": "strict",
                    "coloraxis": {
                      "colorbar": {
                        "outlinewidth": 0,
                        "ticks": ""
                      }
                    },
                    "colorscale": {
                      "diverging": [
                        [
                          0,
                          "#8e0152"
                        ],
                        [
                          0.1,
                          "#c51b7d"
                        ],
                        [
                          0.2,
                          "#de77ae"
                        ],
                        [
                          0.3,
                          "#f1b6da"
                        ],
                        [
                          0.4,
                          "#fde0ef"
                        ],
                        [
                          0.5,
                          "#f7f7f7"
                        ],
                        [
                          0.6,
                          "#e6f5d0"
                        ],
                        [
                          0.7,
                          "#b8e186"
                        ],
                        [
                          0.8,
                          "#7fbc41"
                        ],
                        [
                          0.9,
                          "#4d9221"
                        ],
                        [
                          1,
                          "#276419"
                        ]
                      ],
                      "sequential": [
                        [
                          0,
                          "#0d0887"
                        ],
                        [
                          0.1111111111111111,
                          "#46039f"
                        ],
                        [
                          0.2222222222222222,
                          "#7201a8"
                        ],
                        [
                          0.3333333333333333,
                          "#9c179e"
                        ],
                        [
                          0.4444444444444444,
                          "#bd3786"
                        ],
                        [
                          0.5555555555555556,
                          "#d8576b"
                        ],
                        [
                          0.6666666666666666,
                          "#ed7953"
                        ],
                        [
                          0.7777777777777778,
                          "#fb9f3a"
                        ],
                        [
                          0.8888888888888888,
                          "#fdca26"
                        ],
                        [
                          1,
                          "#f0f921"
                        ]
                      ],
                      "sequentialminus": [
                        [
                          0,
                          "#0d0887"
                        ],
                        [
                          0.1111111111111111,
                          "#46039f"
                        ],
                        [
                          0.2222222222222222,
                          "#7201a8"
                        ],
                        [
                          0.3333333333333333,
                          "#9c179e"
                        ],
                        [
                          0.4444444444444444,
                          "#bd3786"
                        ],
                        [
                          0.5555555555555556,
                          "#d8576b"
                        ],
                        [
                          0.6666666666666666,
                          "#ed7953"
                        ],
                        [
                          0.7777777777777778,
                          "#fb9f3a"
                        ],
                        [
                          0.8888888888888888,
                          "#fdca26"
                        ],
                        [
                          1,
                          "#f0f921"
                        ]
                      ]
                    },
                    "colorway": [
                      "#636efa",
                      "#EF553B",
                      "#00cc96",
                      "#ab63fa",
                      "#FFA15A",
                      "#19d3f3",
                      "#FF6692",
                      "#B6E880",
                      "#FF97FF",
                      "#FECB52"
                    ],
                    "font": {
                      "color": "#2a3f5f"
                    },
                    "geo": {
                      "bgcolor": "white",
                      "lakecolor": "white",
                      "landcolor": "#E5ECF6",
                      "showlakes": true,
                      "showland": true,
                      "subunitcolor": "white"
                    },
                    "hoverlabel": {
                      "align": "left"
                    },
                    "hovermode": "closest",
                    "mapbox": {
                      "style": "light"
                    },
                    "paper_bgcolor": "white",
                    "plot_bgcolor": "#E5ECF6",
                    "polar": {
                      "angularaxis": {
                        "gridcolor": "white",
                        "linecolor": "white",
                        "ticks": ""
                      },
                      "bgcolor": "#E5ECF6",
                      "radialaxis": {
                        "gridcolor": "white",
                        "linecolor": "white",
                        "ticks": ""
                      }
                    },
                    "scene": {
                      "xaxis": {
                        "backgroundcolor": "#E5ECF6",
                        "gridcolor": "white",
                        "gridwidth": 2,
                        "linecolor": "white",
                        "showbackground": true,
                        "ticks": "",
                        "zerolinecolor": "white"
                      },
                      "yaxis": {
                        "backgroundcolor": "#E5ECF6",
                        "gridcolor": "white",
                        "gridwidth": 2,
                        "linecolor": "white",
                        "showbackground": true,
                        "ticks": "",
                        "zerolinecolor": "white"
                      },
                      "zaxis": {
                        "backgroundcolor": "#E5ECF6",
                        "gridcolor": "white",
                        "gridwidth": 2,
                        "linecolor": "white",
                        "showbackground": true,
                        "ticks": "",
                        "zerolinecolor": "white"
                      }
                    },
                    "shapedefaults": {
                      "line": {
                        "color": "#2a3f5f"
                      }
                    },
                    "ternary": {
                      "aaxis": {
                        "gridcolor": "white",
                        "linecolor": "white",
                        "ticks": ""
                      },
                      "baxis": {
                        "gridcolor": "white",
                        "linecolor": "white",
                        "ticks": ""
                      },
                      "bgcolor": "#E5ECF6",
                      "caxis": {
                        "gridcolor": "white",
                        "linecolor": "white",
                        "ticks": ""
                      }
                    },
                    "title": {
                      "x": 0.05
                    },
                    "xaxis": {
                      "automargin": true,
                      "gridcolor": "white",
                      "linecolor": "white",
                      "ticks": "",
                      "title": {
                        "standoff": 15
                      },
                      "zerolinecolor": "white",
                      "zerolinewidth": 2
                    },
                    "yaxis": {
                      "automargin": true,
                      "gridcolor": "white",
                      "linecolor": "white",
                      "ticks": "",
                      "title": {
                        "standoff": 15
                      },
                      "zerolinecolor": "white",
                      "zerolinewidth": 2
                    }
                  }
                },
                "xaxis": {
                  "anchor": "y",
                  "domain": [
                    0,
                    1
                  ]
                },
                "xaxis2": {
                  "anchor": "y2",
                  "domain": [
                    0,
                    1
                  ]
                },
                "xaxis3": {
                  "anchor": "y3",
                  "domain": [
                    0,
                    1
                  ]
                },
                "yaxis": {
                  "anchor": "x",
                  "domain": [
                    0.7333333333333333,
                    1
                  ]
                },
                "yaxis2": {
                  "anchor": "x2",
                  "domain": [
                    0.36666666666666664,
                    0.6333333333333333
                  ]
                },
                "yaxis3": {
                  "anchor": "x3",
                  "domain": [
                    0,
                    0.26666666666666666
                  ]
                }
              }
            },
            "text/html": [
              "<div>                            <div id=\"9d96ae61-1e42-4abb-bd67-a2b8b23be7ca\" class=\"plotly-graph-div\" style=\"height:525px; width:100%;\"></div>            <script type=\"text/javascript\">                require([\"plotly\"], function(Plotly) {                    window.PLOTLYENV=window.PLOTLYENV || {};                                    if (document.getElementById(\"9d96ae61-1e42-4abb-bd67-a2b8b23be7ca\")) {                    Plotly.newPlot(                        \"9d96ae61-1e42-4abb-bd67-a2b8b23be7ca\",                        [{\"name\":\"pre\\u00e7o\",\"x\":[\"2023-03-15T00:00:00\",\"2023-03-16T00:00:00\",\"2023-03-17T00:00:00\",\"2023-03-20T00:00:00\",\"2023-03-21T00:00:00\",\"2023-03-22T00:00:00\",\"2023-03-23T00:00:00\",\"2023-03-24T00:00:00\",\"2023-03-27T00:00:00\",\"2023-03-28T00:00:00\",\"2023-03-29T00:00:00\",\"2023-03-30T00:00:00\",\"2023-03-31T00:00:00\",\"2023-04-03T00:00:00\",\"2023-04-04T00:00:00\",\"2023-04-05T00:00:00\",\"2023-04-06T00:00:00\",\"2023-04-10T00:00:00\",\"2023-04-11T00:00:00\",\"2023-04-12T00:00:00\",\"2023-04-13T00:00:00\",\"2023-04-14T00:00:00\",\"2023-04-17T00:00:00\",\"2023-04-18T00:00:00\",\"2023-04-19T00:00:00\",\"2023-04-20T00:00:00\",\"2023-04-24T00:00:00\",\"2023-04-25T00:00:00\",\"2023-04-26T00:00:00\",\"2023-04-27T00:00:00\",\"2023-04-28T00:00:00\",\"2023-05-02T00:00:00\",\"2023-05-03T00:00:00\",\"2023-05-04T00:00:00\",\"2023-05-05T00:00:00\",\"2023-05-08T00:00:00\",\"2023-05-09T00:00:00\",\"2023-05-10T00:00:00\",\"2023-05-11T00:00:00\",\"2023-05-12T00:00:00\",\"2023-05-15T00:00:00\",\"2023-05-16T00:00:00\",\"2023-05-17T00:00:00\",\"2023-05-18T00:00:00\",\"2023-05-19T00:00:00\",\"2023-05-22T00:00:00\",\"2023-05-23T00:00:00\",\"2023-05-24T00:00:00\",\"2023-05-25T00:00:00\",\"2023-05-26T00:00:00\",\"2023-05-29T00:00:00\",\"2023-05-30T00:00:00\",\"2023-05-31T00:00:00\",\"2023-06-01T00:00:00\",\"2023-06-02T00:00:00\",\"2023-06-05T00:00:00\",\"2023-06-06T00:00:00\",\"2023-06-07T00:00:00\",\"2023-06-09T00:00:00\",\"2023-06-12T00:00:00\",\"2023-06-13T00:00:00\",\"2023-06-14T00:00:00\",\"2023-06-15T00:00:00\",\"2023-06-16T00:00:00\",\"2023-06-19T00:00:00\",\"2023-06-20T00:00:00\",\"2023-06-21T00:00:00\",\"2023-06-22T00:00:00\",\"2023-06-23T00:00:00\",\"2023-06-26T00:00:00\",\"2023-06-27T00:00:00\",\"2023-06-28T00:00:00\",\"2023-06-29T00:00:00\",\"2023-06-30T00:00:00\",\"2023-07-03T00:00:00\",\"2023-07-04T00:00:00\",\"2023-07-05T00:00:00\",\"2023-07-06T00:00:00\",\"2023-07-07T00:00:00\",\"2023-07-10T00:00:00\",\"2023-07-11T00:00:00\",\"2023-07-12T00:00:00\",\"2023-07-13T00:00:00\",\"2023-07-14T00:00:00\",\"2023-07-17T00:00:00\",\"2023-07-18T00:00:00\",\"2023-07-19T00:00:00\",\"2023-07-20T00:00:00\",\"2023-07-21T00:00:00\",\"2023-07-24T00:00:00\",\"2023-07-25T00:00:00\",\"2023-07-26T00:00:00\",\"2023-07-27T00:00:00\",\"2023-07-28T00:00:00\",\"2023-07-31T00:00:00\",\"2023-08-01T00:00:00\",\"2023-08-02T00:00:00\",\"2023-08-03T00:00:00\",\"2023-08-04T00:00:00\",\"2023-08-07T00:00:00\",\"2023-08-08T00:00:00\",\"2023-08-09T00:00:00\",\"2023-08-10T00:00:00\",\"2023-08-11T00:00:00\",\"2023-08-14T00:00:00\",\"2023-08-15T00:00:00\",\"2023-08-16T00:00:00\",\"2023-08-17T00:00:00\",\"2023-08-18T00:00:00\",\"2023-08-21T00:00:00\",\"2023-08-22T00:00:00\",\"2023-08-23T00:00:00\",\"2023-08-24T00:00:00\",\"2023-08-25T00:00:00\",\"2023-08-28T00:00:00\",\"2023-08-29T00:00:00\",\"2023-08-30T00:00:00\",\"2023-08-31T00:00:00\",\"2023-09-01T00:00:00\",\"2023-09-04T00:00:00\",\"2023-09-05T00:00:00\",\"2023-09-06T00:00:00\",\"2023-09-08T00:00:00\",\"2023-09-11T00:00:00\",\"2023-09-12T00:00:00\",\"2023-09-13T00:00:00\",\"2023-09-14T00:00:00\",\"2023-09-15T00:00:00\",\"2023-09-18T00:00:00\",\"2023-09-19T00:00:00\",\"2023-09-20T00:00:00\",\"2023-09-21T00:00:00\",\"2023-09-22T00:00:00\",\"2023-09-25T00:00:00\",\"2023-09-26T00:00:00\",\"2023-09-27T00:00:00\",\"2023-09-28T00:00:00\",\"2023-09-29T00:00:00\",\"2023-10-02T00:00:00\",\"2023-10-03T00:00:00\",\"2023-10-04T00:00:00\",\"2023-10-05T00:00:00\",\"2023-10-06T00:00:00\",\"2023-10-09T00:00:00\",\"2023-10-10T00:00:00\",\"2023-10-11T00:00:00\",\"2023-10-13T00:00:00\",\"2023-10-16T00:00:00\",\"2023-10-17T00:00:00\",\"2023-10-18T00:00:00\",\"2023-10-19T00:00:00\",\"2023-10-20T00:00:00\",\"2023-10-23T00:00:00\",\"2023-10-24T00:00:00\",\"2023-10-25T00:00:00\",\"2023-10-26T00:00:00\",\"2023-10-27T00:00:00\",\"2023-10-30T00:00:00\",\"2023-10-31T00:00:00\",\"2023-11-01T00:00:00\",\"2023-11-03T00:00:00\",\"2023-11-06T00:00:00\",\"2023-11-07T00:00:00\",\"2023-11-08T00:00:00\",\"2023-11-09T00:00:00\",\"2023-11-10T00:00:00\",\"2023-11-13T00:00:00\",\"2023-11-14T00:00:00\",\"2023-11-16T00:00:00\",\"2023-11-17T00:00:00\",\"2023-11-20T00:00:00\",\"2023-11-21T00:00:00\",\"2023-11-22T00:00:00\",\"2023-11-23T00:00:00\",\"2023-11-24T00:00:00\",\"2023-11-27T00:00:00\",\"2023-11-28T00:00:00\",\"2023-11-29T00:00:00\",\"2023-11-30T00:00:00\",\"2023-12-01T00:00:00\",\"2023-12-04T00:00:00\",\"2023-12-05T00:00:00\",\"2023-12-06T00:00:00\",\"2023-12-07T00:00:00\",\"2023-12-08T00:00:00\",\"2023-12-11T00:00:00\",\"2023-12-12T00:00:00\",\"2023-12-13T00:00:00\",\"2023-12-14T00:00:00\",\"2023-12-15T00:00:00\",\"2023-12-18T00:00:00\",\"2023-12-19T00:00:00\",\"2023-12-20T00:00:00\",\"2023-12-21T00:00:00\",\"2023-12-22T00:00:00\",\"2023-12-26T00:00:00\",\"2023-12-27T00:00:00\",\"2023-12-28T00:00:00\",\"2024-01-02T00:00:00\",\"2024-01-03T00:00:00\",\"2024-01-04T00:00:00\",\"2024-01-05T00:00:00\",\"2024-01-08T00:00:00\",\"2024-01-09T00:00:00\",\"2024-01-10T00:00:00\",\"2024-01-11T00:00:00\",\"2024-01-12T00:00:00\",\"2024-01-15T00:00:00\",\"2024-01-16T00:00:00\",\"2024-01-17T00:00:00\",\"2024-01-18T00:00:00\",\"2024-01-19T00:00:00\",\"2024-01-22T00:00:00\",\"2024-01-23T00:00:00\",\"2024-01-24T00:00:00\",\"2024-01-25T00:00:00\",\"2024-01-26T00:00:00\",\"2024-01-29T00:00:00\",\"2024-01-30T00:00:00\",\"2024-01-31T00:00:00\",\"2024-02-01T00:00:00\",\"2024-02-02T00:00:00\",\"2024-02-05T00:00:00\",\"2024-02-06T00:00:00\",\"2024-02-07T00:00:00\",\"2024-02-08T00:00:00\",\"2024-02-09T00:00:00\",\"2024-02-14T00:00:00\",\"2024-02-15T00:00:00\",\"2024-02-16T00:00:00\",\"2024-02-19T00:00:00\",\"2024-02-20T00:00:00\",\"2024-02-21T00:00:00\",\"2024-02-22T00:00:00\",\"2024-02-23T00:00:00\",\"2024-02-26T00:00:00\",\"2024-02-27T00:00:00\",\"2024-02-28T00:00:00\",\"2024-02-29T00:00:00\",\"2024-03-01T00:00:00\",\"2024-03-04T00:00:00\",\"2024-03-05T00:00:00\",\"2024-03-06T00:00:00\",\"2024-03-07T00:00:00\",\"2024-03-08T00:00:00\",\"2024-03-11T00:00:00\",\"2024-03-12T00:00:00\",\"2024-03-13T00:00:00\",\"2024-03-14T00:00:00\",\"2024-03-15T00:00:00\"],\"y\":[20.790000915527344,21.969999313354492,21.760000228881836,20.84000015258789,20.729999542236328,19.799999237060547,19.459999084472656,20.549999237060547,20.579999923706055,20.579999923706055,21.1299991607666,22.200000762939453,22.239999771118164,21.350000381469727,21.979999542236328,21.239999771118164,21.829999923706055,22.079999923706055,22.700000762939453,23.209999084472656,24.450000762939453,24.309999465942383,24.690000534057617,25.079999923706055,24.450000762939453,26.0,27.6200008392334,26.75,28.100000381469727,28.25,31.469999313354492,34.13999938964844,31.829999923706055,30.639999389648438,33.0,32.93000030517578,34.7400016784668,35.400001525878906,36.060001373291016,35.93000030517578,36.0,35.599998474121094,32.61000061035156,34.11000061035156,35.33000183105469,35.66999816894531,35.369998931884766,35.04999923706055,36.290000915527344,36.529998779296875,37.11000061035156,38.709999084472656,38.0,39.08000183105469,38.95000076293945,39.209999084472656,40.84000015258789,38.290000915527344,37.9900016784668,37.709999084472656,37.349998474121094,38.22999954223633,38.20000076293945,38.5,39.0,38.38999938964844,40.61000061035156,39.7599983215332,42.65999984741211,40.9900016784668,41.0,41.79999923706055,43.650001525878906,43.54999923706055,43.849998474121094,43.310001373291016,46.16999816894531,48.72999954223633,52.36000061035156,51.27000045776367,53.529998779296875,53.27000045776367,52.439998626708984,51.11000061035156,49.5,49.20000076293945,47.900001525878906,48.33000183105469,49.2400016784668,42.150001525878906,42.88999938964844,43.11000061035156,41.91999816894531,41.08000183105469,41.119998931884766,40.790000915527344,40.91999816894531,41.150001525878906,40.68000030517578,39.5,38.86000061035156,38.56999969482422,39.08000183105469,39.150001525878906,38.86000061035156,39.560001373291016,44.25,44.130001068115234,43.7400016784668,39.70000076293945,43.33000183105469,44.130001068115234,45.02000045776367,45.16999816894531,45.650001525878906,47.5099983215332,45.040000915527344,42.959999084472656,41.90999984741211,43.470001220703125,43.2400016784668,41.29999923706055,40.79999923706055,41.650001525878906,42.93000030517578,43.79999923706055,43.65999984741211,40.5,40.79999923706055,40.189998626708984,40.4900016784668,39.709999084472656,40.4900016784668,41.439998626708984,41.5,41.0099983215332,41.7599983215332,44.0,41.66999816894531,40.79999923706055,42.22999954223633,42.709999084472656,42.459999084472656,42.95000076293945,44.0,40.970001220703125,39.91999816894531,40.08000183105469,39.7599983215332,39.720001220703125,39.900001525878906,40.47999954223633,40.720001220703125,40.439998626708984,39.59000015258789,42.0,40.86000061035156,40.689998626708984,40.689998626708984,41.540000915527344,42.25,42.16999816894531,43.09000015258789,43.470001220703125,43.18000030517578,44.130001068115234,43.529998779296875,44.27000045776367,43.95000076293945,42.900001525878906,43.38999938964844,44.08000183105469,46.810001373291016,47.70000076293945,46.790000915527344,47.72999954223633,48.90999984741211,48.93000030517578,50.5,53.630001068115234,52.25,54.060001373291016,53.38999938964844,52.709999084472656,50.58000183105469,51.02000045776367,51.52000045776367,51.130001068115234,49.5,47.58000183105469,48.83000183105469,50.02000045776367,49.54999923706055,48.54999923706055,45.54999923706055,45.22999954223633,45.0,44.29999923706055,41.91999816894531,42.459999084472656,41.9900016784668,40.91999816894531,42.18000030517578,41.7400016784668,40.77000045776367,40.599998474121094,40.33000183105469,40.650001525878906,39.54999923706055,38.91999816894531,38.619998931884766,38.54999923706055,37.83000183105469,41.84000015258789,40.54999923706055,40.91999816894531,40.650001525878906,40.119998931884766,39.45000076293945,40.7599983215332,40.349998474121094,40.36000061035156,40.58000183105469,42.2400016784668,42.27000045776367,40.83000183105469,39.79999923706055,39.619998931884766,40.0,40.5099983215332,41.16999816894531,41.84000015258789,40.97999954223633,41.310001373291016,41.290000915527344,39.70000076293945,41.310001373291016,39.060001373291016,38.81999969482422,38.810001373291016,42.72999954223633,42.5,43.380001068115234,43.31999969482422,42.79999923706055,40.63999938964844,40.45000076293945,40.599998474121094,40.11000061035156,39.040000915527344],\"type\":\"scatter\",\"xaxis\":\"x\",\"yaxis\":\"y\"},{\"line\":{\"color\":\"firebrick\",\"dash\":\"dot\",\"width\":2},\"mode\":\"lines\",\"name\":\"mma5\",\"x\":[\"2023-03-15T00:00:00\",\"2023-03-16T00:00:00\",\"2023-03-17T00:00:00\",\"2023-03-20T00:00:00\",\"2023-03-21T00:00:00\",\"2023-03-22T00:00:00\",\"2023-03-23T00:00:00\",\"2023-03-24T00:00:00\",\"2023-03-27T00:00:00\",\"2023-03-28T00:00:00\",\"2023-03-29T00:00:00\",\"2023-03-30T00:00:00\",\"2023-03-31T00:00:00\",\"2023-04-03T00:00:00\",\"2023-04-04T00:00:00\",\"2023-04-05T00:00:00\",\"2023-04-06T00:00:00\",\"2023-04-10T00:00:00\",\"2023-04-11T00:00:00\",\"2023-04-12T00:00:00\",\"2023-04-13T00:00:00\",\"2023-04-14T00:00:00\",\"2023-04-17T00:00:00\",\"2023-04-18T00:00:00\",\"2023-04-19T00:00:00\",\"2023-04-20T00:00:00\",\"2023-04-24T00:00:00\",\"2023-04-25T00:00:00\",\"2023-04-26T00:00:00\",\"2023-04-27T00:00:00\",\"2023-04-28T00:00:00\",\"2023-05-02T00:00:00\",\"2023-05-03T00:00:00\",\"2023-05-04T00:00:00\",\"2023-05-05T00:00:00\",\"2023-05-08T00:00:00\",\"2023-05-09T00:00:00\",\"2023-05-10T00:00:00\",\"2023-05-11T00:00:00\",\"2023-05-12T00:00:00\",\"2023-05-15T00:00:00\",\"2023-05-16T00:00:00\",\"2023-05-17T00:00:00\",\"2023-05-18T00:00:00\",\"2023-05-19T00:00:00\",\"2023-05-22T00:00:00\",\"2023-05-23T00:00:00\",\"2023-05-24T00:00:00\",\"2023-05-25T00:00:00\",\"2023-05-26T00:00:00\",\"2023-05-29T00:00:00\",\"2023-05-30T00:00:00\",\"2023-05-31T00:00:00\",\"2023-06-01T00:00:00\",\"2023-06-02T00:00:00\",\"2023-06-05T00:00:00\",\"2023-06-06T00:00:00\",\"2023-06-07T00:00:00\",\"2023-06-09T00:00:00\",\"2023-06-12T00:00:00\",\"2023-06-13T00:00:00\",\"2023-06-14T00:00:00\",\"2023-06-15T00:00:00\",\"2023-06-16T00:00:00\",\"2023-06-19T00:00:00\",\"2023-06-20T00:00:00\",\"2023-06-21T00:00:00\",\"2023-06-22T00:00:00\",\"2023-06-23T00:00:00\",\"2023-06-26T00:00:00\",\"2023-06-27T00:00:00\",\"2023-06-28T00:00:00\",\"2023-06-29T00:00:00\",\"2023-06-30T00:00:00\",\"2023-07-03T00:00:00\",\"2023-07-04T00:00:00\",\"2023-07-05T00:00:00\",\"2023-07-06T00:00:00\",\"2023-07-07T00:00:00\",\"2023-07-10T00:00:00\",\"2023-07-11T00:00:00\",\"2023-07-12T00:00:00\",\"2023-07-13T00:00:00\",\"2023-07-14T00:00:00\",\"2023-07-17T00:00:00\",\"2023-07-18T00:00:00\",\"2023-07-19T00:00:00\",\"2023-07-20T00:00:00\",\"2023-07-21T00:00:00\",\"2023-07-24T00:00:00\",\"2023-07-25T00:00:00\",\"2023-07-26T00:00:00\",\"2023-07-27T00:00:00\",\"2023-07-28T00:00:00\",\"2023-07-31T00:00:00\",\"2023-08-01T00:00:00\",\"2023-08-02T00:00:00\",\"2023-08-03T00:00:00\",\"2023-08-04T00:00:00\",\"2023-08-07T00:00:00\",\"2023-08-08T00:00:00\",\"2023-08-09T00:00:00\",\"2023-08-10T00:00:00\",\"2023-08-11T00:00:00\",\"2023-08-14T00:00:00\",\"2023-08-15T00:00:00\",\"2023-08-16T00:00:00\",\"2023-08-17T00:00:00\",\"2023-08-18T00:00:00\",\"2023-08-21T00:00:00\",\"2023-08-22T00:00:00\",\"2023-08-23T00:00:00\",\"2023-08-24T00:00:00\",\"2023-08-25T00:00:00\",\"2023-08-28T00:00:00\",\"2023-08-29T00:00:00\",\"2023-08-30T00:00:00\",\"2023-08-31T00:00:00\",\"2023-09-01T00:00:00\",\"2023-09-04T00:00:00\",\"2023-09-05T00:00:00\",\"2023-09-06T00:00:00\",\"2023-09-08T00:00:00\",\"2023-09-11T00:00:00\",\"2023-09-12T00:00:00\",\"2023-09-13T00:00:00\",\"2023-09-14T00:00:00\",\"2023-09-15T00:00:00\",\"2023-09-18T00:00:00\",\"2023-09-19T00:00:00\",\"2023-09-20T00:00:00\",\"2023-09-21T00:00:00\",\"2023-09-22T00:00:00\",\"2023-09-25T00:00:00\",\"2023-09-26T00:00:00\",\"2023-09-27T00:00:00\",\"2023-09-28T00:00:00\",\"2023-09-29T00:00:00\",\"2023-10-02T00:00:00\",\"2023-10-03T00:00:00\",\"2023-10-04T00:00:00\",\"2023-10-05T00:00:00\",\"2023-10-06T00:00:00\",\"2023-10-09T00:00:00\",\"2023-10-10T00:00:00\",\"2023-10-11T00:00:00\",\"2023-10-13T00:00:00\",\"2023-10-16T00:00:00\",\"2023-10-17T00:00:00\",\"2023-10-18T00:00:00\",\"2023-10-19T00:00:00\",\"2023-10-20T00:00:00\",\"2023-10-23T00:00:00\",\"2023-10-24T00:00:00\",\"2023-10-25T00:00:00\",\"2023-10-26T00:00:00\",\"2023-10-27T00:00:00\",\"2023-10-30T00:00:00\",\"2023-10-31T00:00:00\",\"2023-11-01T00:00:00\",\"2023-11-03T00:00:00\",\"2023-11-06T00:00:00\",\"2023-11-07T00:00:00\",\"2023-11-08T00:00:00\",\"2023-11-09T00:00:00\",\"2023-11-10T00:00:00\",\"2023-11-13T00:00:00\",\"2023-11-14T00:00:00\",\"2023-11-16T00:00:00\",\"2023-11-17T00:00:00\",\"2023-11-20T00:00:00\",\"2023-11-21T00:00:00\",\"2023-11-22T00:00:00\",\"2023-11-23T00:00:00\",\"2023-11-24T00:00:00\",\"2023-11-27T00:00:00\",\"2023-11-28T00:00:00\",\"2023-11-29T00:00:00\",\"2023-11-30T00:00:00\",\"2023-12-01T00:00:00\",\"2023-12-04T00:00:00\",\"2023-12-05T00:00:00\",\"2023-12-06T00:00:00\",\"2023-12-07T00:00:00\",\"2023-12-08T00:00:00\",\"2023-12-11T00:00:00\",\"2023-12-12T00:00:00\",\"2023-12-13T00:00:00\",\"2023-12-14T00:00:00\",\"2023-12-15T00:00:00\",\"2023-12-18T00:00:00\",\"2023-12-19T00:00:00\",\"2023-12-20T00:00:00\",\"2023-12-21T00:00:00\",\"2023-12-22T00:00:00\",\"2023-12-26T00:00:00\",\"2023-12-27T00:00:00\",\"2023-12-28T00:00:00\",\"2024-01-02T00:00:00\",\"2024-01-03T00:00:00\",\"2024-01-04T00:00:00\",\"2024-01-05T00:00:00\",\"2024-01-08T00:00:00\",\"2024-01-09T00:00:00\",\"2024-01-10T00:00:00\",\"2024-01-11T00:00:00\",\"2024-01-12T00:00:00\",\"2024-01-15T00:00:00\",\"2024-01-16T00:00:00\",\"2024-01-17T00:00:00\",\"2024-01-18T00:00:00\",\"2024-01-19T00:00:00\",\"2024-01-22T00:00:00\",\"2024-01-23T00:00:00\",\"2024-01-24T00:00:00\",\"2024-01-25T00:00:00\",\"2024-01-26T00:00:00\",\"2024-01-29T00:00:00\",\"2024-01-30T00:00:00\",\"2024-01-31T00:00:00\",\"2024-02-01T00:00:00\",\"2024-02-02T00:00:00\",\"2024-02-05T00:00:00\",\"2024-02-06T00:00:00\",\"2024-02-07T00:00:00\",\"2024-02-08T00:00:00\",\"2024-02-09T00:00:00\",\"2024-02-14T00:00:00\",\"2024-02-15T00:00:00\",\"2024-02-16T00:00:00\",\"2024-02-19T00:00:00\",\"2024-02-20T00:00:00\",\"2024-02-21T00:00:00\",\"2024-02-22T00:00:00\",\"2024-02-23T00:00:00\",\"2024-02-26T00:00:00\",\"2024-02-27T00:00:00\",\"2024-02-28T00:00:00\",\"2024-02-29T00:00:00\",\"2024-03-01T00:00:00\",\"2024-03-04T00:00:00\",\"2024-03-05T00:00:00\",\"2024-03-06T00:00:00\",\"2024-03-07T00:00:00\",\"2024-03-08T00:00:00\",\"2024-03-11T00:00:00\",\"2024-03-12T00:00:00\",\"2024-03-13T00:00:00\",\"2024-03-14T00:00:00\",\"2024-03-15T00:00:00\"],\"y\":[null,null,null,null,21.21800003051758,21.019999694824218,20.51799964904785,20.275999450683592,20.223999404907225,20.19399948120117,20.45999946594238,21.00799980163574,21.345999908447265,21.5,21.779999923706054,21.802000045776367,21.727999877929687,21.695999908447266,21.96599998474121,22.211999893188477,22.854000091552734,23.35,23.87200012207031,24.34799995422363,24.596000289916994,24.9060001373291,25.568000411987306,25.980000305175782,26.584000396728516,27.344000244140624,28.438000106811522,29.74199981689453,30.75799980163574,31.265999603271485,32.215999603271484,32.50799980163574,32.628000259399414,33.342000579833986,34.4260009765625,35.012001037597656,35.6260009765625,35.79800033569336,35.24000015258789,34.85,34.73000030517578,34.66399993896484,34.61800003051758,35.10599975585937,35.54199981689453,35.78199920654297,36.06999969482422,36.737999725341794,37.327999877929685,37.886000061035155,38.37000045776367,38.79000015258789,39.216000366210935,39.274000549316405,39.056000518798825,38.80800018310547,38.43600006103516,37.91399993896484,37.895999908447266,37.997999572753905,38.25599975585938,38.46399993896485,38.94000015258789,39.25199966430664,40.08399963378906,40.48199996948242,41.00400009155273,41.241999816894534,42.02000045776367,42.19800033569336,42.76999969482422,43.23199996948242,44.10599975585937,45.12199935913086,46.88399963378906,48.36800003051758,50.41199951171875,51.831999969482425,52.57399978637695,52.32399978637695,51.96999969482422,51.104000091552734,50.03000030517578,49.20800094604492,48.83400115966797,47.36400146484375,46.10200119018555,45.14400100708008,43.8620002746582,42.23000030517578,42.023999786376955,41.604000091552734,41.16599960327149,41.012000274658206,40.93199996948242,40.60800018310547,40.22200012207031,39.752000427246095,39.33800048828125,39.03200073242188,38.90400085449219,39.04400100708008,40.18000106811523,41.19000091552734,42.108000946044925,42.2760009765625,43.03000106811523,43.00600128173828,43.18400115966797,43.470000457763675,44.66000061035156,45.49599990844727,45.677999877929686,45.26599960327148,44.613999938964845,44.177999877929686,43.32400054931641,42.57600021362305,42.14400024414063,42.092000579833986,41.98400039672852,42.09599990844727,42.56800003051758,42.508000183105466,42.337999725341795,41.789999389648436,41.12799987792969,40.337999725341795,40.33600006103516,40.46399993896485,40.726000213623045,40.82999954223633,41.23999938964844,41.94199905395508,41.987998962402344,41.847998809814456,42.09199905395508,42.28199920654297,41.9739990234375,42.22999954223633,42.869999694824216,42.61800003051758,42.05999984741211,41.58400039672851,40.94599990844726,40.09000015258789,39.876000213623044,39.98800048828125,40.11600036621094,40.252000427246095,40.226000213623045,40.645999908447266,40.72200012207031,40.715999603271484,40.76599960327148,41.155999755859376,41.205999755859374,41.46799926757812,41.94799957275391,42.50400009155273,42.831999969482425,43.20800018310547,43.48000030517578,43.716000366210935,43.8120002746582,43.75600051879883,43.60800018310547,43.71800079345703,44.2260009765625,44.9760009765625,45.75400085449219,46.62200088500977,47.58800048828125,48.012000274658206,48.572000122070314,49.94000015258789,50.844000244140624,51.874000549316406,52.76600036621094,53.20800018310547,52.59800033569336,52.3520004272461,51.844000244140624,51.39200057983398,50.75000076293945,50.150000762939456,49.71200103759766,49.412001037597655,49.09600067138672,48.90600051879883,48.5,47.779999542236325,46.77599945068359,45.725999450683595,44.39999923706055,43.78199920654297,43.13399963378906,42.317999267578124,41.89399948120117,41.85800018310547,41.52000045776367,41.241999816894534,41.124000549316406,40.81800079345703,40.380000305175784,40.00999984741211,39.613999938964845,39.257999420166016,38.693999481201175,39.15199966430664,39.47799987792969,39.9379997253418,40.35800018310547,40.815999603271486,40.337999725341795,40.37999954223633,40.26599960327148,40.20799942016602,40.3,40.85800018310547,41.16000061035156,41.25600128173828,41.14400100708008,40.95200042724609,40.50400009155273,40.15199966430664,40.21999893188477,40.62799911499023,40.89999923706055,41.16199951171875,41.31800003051758,41.024000549316405,40.91800079345703,40.534001159667966,40.03600082397461,39.540000915527344,40.146000671386716,40.38400039672852,41.24800033569336,42.14800033569336,42.94599990844726,42.52799987792969,42.11800003051758,41.56199951171875,40.91999969482422,40.168000030517575],\"type\":\"scatter\",\"xaxis\":\"x\",\"yaxis\":\"y\"},{\"marker\":{\"angle\":45,\"line\":{\"color\":\"DarkSlateGrey\",\"width\":2},\"size\":12,\"symbol\":\"arrow\"},\"mode\":\"markers\",\"name\":\"Entrada\",\"x\":[\"2023-03-24T00:00:00\",\"2023-05-18T00:00:00\",\"2023-07-20T00:00:00\",\"2023-08-09T00:00:00\",\"2023-12-18T00:00:00\",\"2023-12-28T00:00:00\",\"2024-01-19T00:00:00\"],\"y\":[20.549999237060547,34.11000061035156,48.33000183105469,38.56999969482422,48.83000183105469,44.29999923706055,38.54999923706055],\"type\":\"scatter\",\"xaxis\":\"x\",\"yaxis\":\"y\"},{\"marker\":{\"angle\":-135,\"line\":{\"color\":\"red\",\"width\":2},\"size\":12,\"symbol\":\"arrow\"},\"mode\":\"markers\",\"name\":\"Saida\",\"x\":[\"2023-03-27T00:00:00\",\"2023-05-22T00:00:00\",\"2023-07-24T00:00:00\",\"2023-08-14T00:00:00\",\"2023-12-20T00:00:00\",\"2024-01-09T00:00:00\",\"2024-01-24T00:00:00\"],\"y\":[20.579999923706055,35.66999816894531,42.150001525878906,38.86000061035156,49.54999923706055,41.7400016784668,40.54999923706055],\"type\":\"scatter\",\"xaxis\":\"x\",\"yaxis\":\"y\"},{\"name\":\"ifr2\",\"x\":[\"2023-03-15T00:00:00\",\"2023-03-16T00:00:00\",\"2023-03-17T00:00:00\",\"2023-03-20T00:00:00\",\"2023-03-21T00:00:00\",\"2023-03-22T00:00:00\",\"2023-03-23T00:00:00\",\"2023-03-24T00:00:00\",\"2023-03-27T00:00:00\",\"2023-03-28T00:00:00\",\"2023-03-29T00:00:00\",\"2023-03-30T00:00:00\",\"2023-03-31T00:00:00\",\"2023-04-03T00:00:00\",\"2023-04-04T00:00:00\",\"2023-04-05T00:00:00\",\"2023-04-06T00:00:00\",\"2023-04-10T00:00:00\",\"2023-04-11T00:00:00\",\"2023-04-12T00:00:00\",\"2023-04-13T00:00:00\",\"2023-04-14T00:00:00\",\"2023-04-17T00:00:00\",\"2023-04-18T00:00:00\",\"2023-04-19T00:00:00\",\"2023-04-20T00:00:00\",\"2023-04-24T00:00:00\",\"2023-04-25T00:00:00\",\"2023-04-26T00:00:00\",\"2023-04-27T00:00:00\",\"2023-04-28T00:00:00\",\"2023-05-02T00:00:00\",\"2023-05-03T00:00:00\",\"2023-05-04T00:00:00\",\"2023-05-05T00:00:00\",\"2023-05-08T00:00:00\",\"2023-05-09T00:00:00\",\"2023-05-10T00:00:00\",\"2023-05-11T00:00:00\",\"2023-05-12T00:00:00\",\"2023-05-15T00:00:00\",\"2023-05-16T00:00:00\",\"2023-05-17T00:00:00\",\"2023-05-18T00:00:00\",\"2023-05-19T00:00:00\",\"2023-05-22T00:00:00\",\"2023-05-23T00:00:00\",\"2023-05-24T00:00:00\",\"2023-05-25T00:00:00\",\"2023-05-26T00:00:00\",\"2023-05-29T00:00:00\",\"2023-05-30T00:00:00\",\"2023-05-31T00:00:00\",\"2023-06-01T00:00:00\",\"2023-06-02T00:00:00\",\"2023-06-05T00:00:00\",\"2023-06-06T00:00:00\",\"2023-06-07T00:00:00\",\"2023-06-09T00:00:00\",\"2023-06-12T00:00:00\",\"2023-06-13T00:00:00\",\"2023-06-14T00:00:00\",\"2023-06-15T00:00:00\",\"2023-06-16T00:00:00\",\"2023-06-19T00:00:00\",\"2023-06-20T00:00:00\",\"2023-06-21T00:00:00\",\"2023-06-22T00:00:00\",\"2023-06-23T00:00:00\",\"2023-06-26T00:00:00\",\"2023-06-27T00:00:00\",\"2023-06-28T00:00:00\",\"2023-06-29T00:00:00\",\"2023-06-30T00:00:00\",\"2023-07-03T00:00:00\",\"2023-07-04T00:00:00\",\"2023-07-05T00:00:00\",\"2023-07-06T00:00:00\",\"2023-07-07T00:00:00\",\"2023-07-10T00:00:00\",\"2023-07-11T00:00:00\",\"2023-07-12T00:00:00\",\"2023-07-13T00:00:00\",\"2023-07-14T00:00:00\",\"2023-07-17T00:00:00\",\"2023-07-18T00:00:00\",\"2023-07-19T00:00:00\",\"2023-07-20T00:00:00\",\"2023-07-21T00:00:00\",\"2023-07-24T00:00:00\",\"2023-07-25T00:00:00\",\"2023-07-26T00:00:00\",\"2023-07-27T00:00:00\",\"2023-07-28T00:00:00\",\"2023-07-31T00:00:00\",\"2023-08-01T00:00:00\",\"2023-08-02T00:00:00\",\"2023-08-03T00:00:00\",\"2023-08-04T00:00:00\",\"2023-08-07T00:00:00\",\"2023-08-08T00:00:00\",\"2023-08-09T00:00:00\",\"2023-08-10T00:00:00\",\"2023-08-11T00:00:00\",\"2023-08-14T00:00:00\",\"2023-08-15T00:00:00\",\"2023-08-16T00:00:00\",\"2023-08-17T00:00:00\",\"2023-08-18T00:00:00\",\"2023-08-21T00:00:00\",\"2023-08-22T00:00:00\",\"2023-08-23T00:00:00\",\"2023-08-24T00:00:00\",\"2023-08-25T00:00:00\",\"2023-08-28T00:00:00\",\"2023-08-29T00:00:00\",\"2023-08-30T00:00:00\",\"2023-08-31T00:00:00\",\"2023-09-01T00:00:00\",\"2023-09-04T00:00:00\",\"2023-09-05T00:00:00\",\"2023-09-06T00:00:00\",\"2023-09-08T00:00:00\",\"2023-09-11T00:00:00\",\"2023-09-12T00:00:00\",\"2023-09-13T00:00:00\",\"2023-09-14T00:00:00\",\"2023-09-15T00:00:00\",\"2023-09-18T00:00:00\",\"2023-09-19T00:00:00\",\"2023-09-20T00:00:00\",\"2023-09-21T00:00:00\",\"2023-09-22T00:00:00\",\"2023-09-25T00:00:00\",\"2023-09-26T00:00:00\",\"2023-09-27T00:00:00\",\"2023-09-28T00:00:00\",\"2023-09-29T00:00:00\",\"2023-10-02T00:00:00\",\"2023-10-03T00:00:00\",\"2023-10-04T00:00:00\",\"2023-10-05T00:00:00\",\"2023-10-06T00:00:00\",\"2023-10-09T00:00:00\",\"2023-10-10T00:00:00\",\"2023-10-11T00:00:00\",\"2023-10-13T00:00:00\",\"2023-10-16T00:00:00\",\"2023-10-17T00:00:00\",\"2023-10-18T00:00:00\",\"2023-10-19T00:00:00\",\"2023-10-20T00:00:00\",\"2023-10-23T00:00:00\",\"2023-10-24T00:00:00\",\"2023-10-25T00:00:00\",\"2023-10-26T00:00:00\",\"2023-10-27T00:00:00\",\"2023-10-30T00:00:00\",\"2023-10-31T00:00:00\",\"2023-11-01T00:00:00\",\"2023-11-03T00:00:00\",\"2023-11-06T00:00:00\",\"2023-11-07T00:00:00\",\"2023-11-08T00:00:00\",\"2023-11-09T00:00:00\",\"2023-11-10T00:00:00\",\"2023-11-13T00:00:00\",\"2023-11-14T00:00:00\",\"2023-11-16T00:00:00\",\"2023-11-17T00:00:00\",\"2023-11-20T00:00:00\",\"2023-11-21T00:00:00\",\"2023-11-22T00:00:00\",\"2023-11-23T00:00:00\",\"2023-11-24T00:00:00\",\"2023-11-27T00:00:00\",\"2023-11-28T00:00:00\",\"2023-11-29T00:00:00\",\"2023-11-30T00:00:00\",\"2023-12-01T00:00:00\",\"2023-12-04T00:00:00\",\"2023-12-05T00:00:00\",\"2023-12-06T00:00:00\",\"2023-12-07T00:00:00\",\"2023-12-08T00:00:00\",\"2023-12-11T00:00:00\",\"2023-12-12T00:00:00\",\"2023-12-13T00:00:00\",\"2023-12-14T00:00:00\",\"2023-12-15T00:00:00\",\"2023-12-18T00:00:00\",\"2023-12-19T00:00:00\",\"2023-12-20T00:00:00\",\"2023-12-21T00:00:00\",\"2023-12-22T00:00:00\",\"2023-12-26T00:00:00\",\"2023-12-27T00:00:00\",\"2023-12-28T00:00:00\",\"2024-01-02T00:00:00\",\"2024-01-03T00:00:00\",\"2024-01-04T00:00:00\",\"2024-01-05T00:00:00\",\"2024-01-08T00:00:00\",\"2024-01-09T00:00:00\",\"2024-01-10T00:00:00\",\"2024-01-11T00:00:00\",\"2024-01-12T00:00:00\",\"2024-01-15T00:00:00\",\"2024-01-16T00:00:00\",\"2024-01-17T00:00:00\",\"2024-01-18T00:00:00\",\"2024-01-19T00:00:00\",\"2024-01-22T00:00:00\",\"2024-01-23T00:00:00\",\"2024-01-24T00:00:00\",\"2024-01-25T00:00:00\",\"2024-01-26T00:00:00\",\"2024-01-29T00:00:00\",\"2024-01-30T00:00:00\",\"2024-01-31T00:00:00\",\"2024-02-01T00:00:00\",\"2024-02-02T00:00:00\",\"2024-02-05T00:00:00\",\"2024-02-06T00:00:00\",\"2024-02-07T00:00:00\",\"2024-02-08T00:00:00\",\"2024-02-09T00:00:00\",\"2024-02-14T00:00:00\",\"2024-02-15T00:00:00\",\"2024-02-16T00:00:00\",\"2024-02-19T00:00:00\",\"2024-02-20T00:00:00\",\"2024-02-21T00:00:00\",\"2024-02-22T00:00:00\",\"2024-02-23T00:00:00\",\"2024-02-26T00:00:00\",\"2024-02-27T00:00:00\",\"2024-02-28T00:00:00\",\"2024-02-29T00:00:00\",\"2024-03-01T00:00:00\",\"2024-03-04T00:00:00\",\"2024-03-05T00:00:00\",\"2024-03-06T00:00:00\",\"2024-03-07T00:00:00\",\"2024-03-08T00:00:00\",\"2024-03-11T00:00:00\",\"2024-03-12T00:00:00\",\"2024-03-13T00:00:00\",\"2024-03-14T00:00:00\",\"2024-03-15T00:00:00\"],\"y\":[null,100.0,73.75,22.349999999999994,19.159999999999997,5.609999999999999,3.700000000000003,69.77,70.87,70.87,92.06,97.93,98.04,29.439999999999998,64.55,29.760000000000005,62.23,72.86,88.67,94.22,98.29,84.8,91.28999999999999,95.36,38.01,84.34,93.89,56.73,80.58,82.7,96.96,98.71,49.38,32.59,71.28999999999999,68.95,88.51,92.13,95.17,82.6,84.77,34.980000000000004,3.5799999999999983,49.27,71.35,76.95,57.23,37.0,83.15,86.87,93.65,98.35,59.36,81.58,72.09,80.95,96.18,27.47,23.519999999999996,18.540000000000006,12.0,67.69,64.89,80.78999999999999,92.34,37.42,88.26,54.41,87.4,47.67,47.95,72.11,91.14,84.88,89.28999999999999,43.54,91.22,96.5,98.71,71.6,86.72,77.26,45.53,19.659999999999997,8.269999999999996,6.810000000000002,2.680000000000007,30.53,68.58,7.189999999999998,21.799999999999997,28.5,14.799999999999997,8.810000000000002,12.189999999999998,7.569999999999993,28.849999999999994,60.79,21.439999999999998,5.049999999999997,2.760000000000005,1.9500000000000028,51.57,57.47,28.590000000000003,79.16,98.01,93.68,72.75,12.930000000000007,64.86,72.17,80.98,82.81,89.37,97.31,32.599999999999994,15.379999999999995,10.030000000000001,55.76,48.49,15.159999999999997,11.189999999999998,53.0,80.56,89.18,78.03999999999999,11.75,24.010000000000005,15.340000000000003,37.52,15.879999999999995,60.94,83.05,84.18,40.28,77.0,95.08,36.08,24.659999999999997,63.08,72.5,57.28,76.57,92.01,19.150000000000006,12.36,20.909999999999997,15.040000000000006,14.060000000000002,45.94,84.06,89.93,48.35,12.700000000000003,83.15,47.15,41.76,41.76,82.28,91.81,81.89,94.8,96.73,61.78,88.65,46.95,75.44,51.51,16.72,48.92,75.55,95.23,96.87,56.86,76.72,89.2,89.4,97.21,99.29,59.89,80.35,58.32,37.47,11.569999999999993,31.209999999999994,54.29,35.64,9.200000000000003,3.3499999999999943,47.13,71.61,52.43,24.510000000000005,5.840000000000003,5.019999999999996,4.180000000000007,2.069999999999993,0.46999999999999886,26.349999999999994,18.14,7.5,61.16,43.52,19.159999999999997,16.019999999999996,10.530000000000001,50.62,12.409999999999997,6.650000000000006,4.609999999999999,4.040000000000006,1.1299999999999955,89.03999999999999,56.64,64.13,51.22,28.61,13.519999999999996,71.76,50.48,51.19,70.01,95.6,95.73,24.72,11.989999999999995,10.170000000000002,45.35,73.36,88.55,94.69,39.83,58.35,56.25,8.370000000000005,66.36,23.97,21.090000000000003,20.879999999999995,90.97,82.4,89.77,84.92,43.86,8.739999999999995,7.659999999999997,22.730000000000004,11.0,3.3799999999999955],\"type\":\"scatter\",\"xaxis\":\"x2\",\"yaxis\":\"y2\"},{\"line\":{\"color\":\"red\",\"dash\":\"dot\",\"width\":4},\"mode\":\"lines\",\"name\":\"ifr2=5\",\"x\":[\"2023-03-15T00:00:00\",\"2023-03-16T00:00:00\",\"2023-03-17T00:00:00\",\"2023-03-20T00:00:00\",\"2023-03-21T00:00:00\",\"2023-03-22T00:00:00\",\"2023-03-23T00:00:00\",\"2023-03-24T00:00:00\",\"2023-03-27T00:00:00\",\"2023-03-28T00:00:00\",\"2023-03-29T00:00:00\",\"2023-03-30T00:00:00\",\"2023-03-31T00:00:00\",\"2023-04-03T00:00:00\",\"2023-04-04T00:00:00\",\"2023-04-05T00:00:00\",\"2023-04-06T00:00:00\",\"2023-04-10T00:00:00\",\"2023-04-11T00:00:00\",\"2023-04-12T00:00:00\",\"2023-04-13T00:00:00\",\"2023-04-14T00:00:00\",\"2023-04-17T00:00:00\",\"2023-04-18T00:00:00\",\"2023-04-19T00:00:00\",\"2023-04-20T00:00:00\",\"2023-04-24T00:00:00\",\"2023-04-25T00:00:00\",\"2023-04-26T00:00:00\",\"2023-04-27T00:00:00\",\"2023-04-28T00:00:00\",\"2023-05-02T00:00:00\",\"2023-05-03T00:00:00\",\"2023-05-04T00:00:00\",\"2023-05-05T00:00:00\",\"2023-05-08T00:00:00\",\"2023-05-09T00:00:00\",\"2023-05-10T00:00:00\",\"2023-05-11T00:00:00\",\"2023-05-12T00:00:00\",\"2023-05-15T00:00:00\",\"2023-05-16T00:00:00\",\"2023-05-17T00:00:00\",\"2023-05-18T00:00:00\",\"2023-05-19T00:00:00\",\"2023-05-22T00:00:00\",\"2023-05-23T00:00:00\",\"2023-05-24T00:00:00\",\"2023-05-25T00:00:00\",\"2023-05-26T00:00:00\",\"2023-05-29T00:00:00\",\"2023-05-30T00:00:00\",\"2023-05-31T00:00:00\",\"2023-06-01T00:00:00\",\"2023-06-02T00:00:00\",\"2023-06-05T00:00:00\",\"2023-06-06T00:00:00\",\"2023-06-07T00:00:00\",\"2023-06-09T00:00:00\",\"2023-06-12T00:00:00\",\"2023-06-13T00:00:00\",\"2023-06-14T00:00:00\",\"2023-06-15T00:00:00\",\"2023-06-16T00:00:00\",\"2023-06-19T00:00:00\",\"2023-06-20T00:00:00\",\"2023-06-21T00:00:00\",\"2023-06-22T00:00:00\",\"2023-06-23T00:00:00\",\"2023-06-26T00:00:00\",\"2023-06-27T00:00:00\",\"2023-06-28T00:00:00\",\"2023-06-29T00:00:00\",\"2023-06-30T00:00:00\",\"2023-07-03T00:00:00\",\"2023-07-04T00:00:00\",\"2023-07-05T00:00:00\",\"2023-07-06T00:00:00\",\"2023-07-07T00:00:00\",\"2023-07-10T00:00:00\",\"2023-07-11T00:00:00\",\"2023-07-12T00:00:00\",\"2023-07-13T00:00:00\",\"2023-07-14T00:00:00\",\"2023-07-17T00:00:00\",\"2023-07-18T00:00:00\",\"2023-07-19T00:00:00\",\"2023-07-20T00:00:00\",\"2023-07-21T00:00:00\",\"2023-07-24T00:00:00\",\"2023-07-25T00:00:00\",\"2023-07-26T00:00:00\",\"2023-07-27T00:00:00\",\"2023-07-28T00:00:00\",\"2023-07-31T00:00:00\",\"2023-08-01T00:00:00\",\"2023-08-02T00:00:00\",\"2023-08-03T00:00:00\",\"2023-08-04T00:00:00\",\"2023-08-07T00:00:00\",\"2023-08-08T00:00:00\",\"2023-08-09T00:00:00\",\"2023-08-10T00:00:00\",\"2023-08-11T00:00:00\",\"2023-08-14T00:00:00\",\"2023-08-15T00:00:00\",\"2023-08-16T00:00:00\",\"2023-08-17T00:00:00\",\"2023-08-18T00:00:00\",\"2023-08-21T00:00:00\",\"2023-08-22T00:00:00\",\"2023-08-23T00:00:00\",\"2023-08-24T00:00:00\",\"2023-08-25T00:00:00\",\"2023-08-28T00:00:00\",\"2023-08-29T00:00:00\",\"2023-08-30T00:00:00\",\"2023-08-31T00:00:00\",\"2023-09-01T00:00:00\",\"2023-09-04T00:00:00\",\"2023-09-05T00:00:00\",\"2023-09-06T00:00:00\",\"2023-09-08T00:00:00\",\"2023-09-11T00:00:00\",\"2023-09-12T00:00:00\",\"2023-09-13T00:00:00\",\"2023-09-14T00:00:00\",\"2023-09-15T00:00:00\",\"2023-09-18T00:00:00\",\"2023-09-19T00:00:00\",\"2023-09-20T00:00:00\",\"2023-09-21T00:00:00\",\"2023-09-22T00:00:00\",\"2023-09-25T00:00:00\",\"2023-09-26T00:00:00\",\"2023-09-27T00:00:00\",\"2023-09-28T00:00:00\",\"2023-09-29T00:00:00\",\"2023-10-02T00:00:00\",\"2023-10-03T00:00:00\",\"2023-10-04T00:00:00\",\"2023-10-05T00:00:00\",\"2023-10-06T00:00:00\",\"2023-10-09T00:00:00\",\"2023-10-10T00:00:00\",\"2023-10-11T00:00:00\",\"2023-10-13T00:00:00\",\"2023-10-16T00:00:00\",\"2023-10-17T00:00:00\",\"2023-10-18T00:00:00\",\"2023-10-19T00:00:00\",\"2023-10-20T00:00:00\",\"2023-10-23T00:00:00\",\"2023-10-24T00:00:00\",\"2023-10-25T00:00:00\",\"2023-10-26T00:00:00\",\"2023-10-27T00:00:00\",\"2023-10-30T00:00:00\",\"2023-10-31T00:00:00\",\"2023-11-01T00:00:00\",\"2023-11-03T00:00:00\",\"2023-11-06T00:00:00\",\"2023-11-07T00:00:00\",\"2023-11-08T00:00:00\",\"2023-11-09T00:00:00\",\"2023-11-10T00:00:00\",\"2023-11-13T00:00:00\",\"2023-11-14T00:00:00\",\"2023-11-16T00:00:00\",\"2023-11-17T00:00:00\",\"2023-11-20T00:00:00\",\"2023-11-21T00:00:00\",\"2023-11-22T00:00:00\",\"2023-11-23T00:00:00\",\"2023-11-24T00:00:00\",\"2023-11-27T00:00:00\",\"2023-11-28T00:00:00\",\"2023-11-29T00:00:00\",\"2023-11-30T00:00:00\",\"2023-12-01T00:00:00\",\"2023-12-04T00:00:00\",\"2023-12-05T00:00:00\",\"2023-12-06T00:00:00\",\"2023-12-07T00:00:00\",\"2023-12-08T00:00:00\",\"2023-12-11T00:00:00\",\"2023-12-12T00:00:00\",\"2023-12-13T00:00:00\",\"2023-12-14T00:00:00\",\"2023-12-15T00:00:00\",\"2023-12-18T00:00:00\",\"2023-12-19T00:00:00\",\"2023-12-20T00:00:00\",\"2023-12-21T00:00:00\",\"2023-12-22T00:00:00\",\"2023-12-26T00:00:00\",\"2023-12-27T00:00:00\",\"2023-12-28T00:00:00\",\"2024-01-02T00:00:00\",\"2024-01-03T00:00:00\",\"2024-01-04T00:00:00\",\"2024-01-05T00:00:00\",\"2024-01-08T00:00:00\",\"2024-01-09T00:00:00\",\"2024-01-10T00:00:00\",\"2024-01-11T00:00:00\",\"2024-01-12T00:00:00\",\"2024-01-15T00:00:00\",\"2024-01-16T00:00:00\",\"2024-01-17T00:00:00\",\"2024-01-18T00:00:00\",\"2024-01-19T00:00:00\",\"2024-01-22T00:00:00\",\"2024-01-23T00:00:00\",\"2024-01-24T00:00:00\",\"2024-01-25T00:00:00\",\"2024-01-26T00:00:00\",\"2024-01-29T00:00:00\",\"2024-01-30T00:00:00\",\"2024-01-31T00:00:00\",\"2024-02-01T00:00:00\",\"2024-02-02T00:00:00\",\"2024-02-05T00:00:00\",\"2024-02-06T00:00:00\",\"2024-02-07T00:00:00\",\"2024-02-08T00:00:00\",\"2024-02-09T00:00:00\",\"2024-02-14T00:00:00\",\"2024-02-15T00:00:00\",\"2024-02-16T00:00:00\",\"2024-02-19T00:00:00\",\"2024-02-20T00:00:00\",\"2024-02-21T00:00:00\",\"2024-02-22T00:00:00\",\"2024-02-23T00:00:00\",\"2024-02-26T00:00:00\",\"2024-02-27T00:00:00\",\"2024-02-28T00:00:00\",\"2024-02-29T00:00:00\",\"2024-03-01T00:00:00\",\"2024-03-04T00:00:00\",\"2024-03-05T00:00:00\",\"2024-03-06T00:00:00\",\"2024-03-07T00:00:00\",\"2024-03-08T00:00:00\",\"2024-03-11T00:00:00\",\"2024-03-12T00:00:00\",\"2024-03-13T00:00:00\",\"2024-03-14T00:00:00\",\"2024-03-15T00:00:00\"],\"y\":[5,5,5,5,5,5,5,5,5,5,5,5,5,5,5,5,5,5,5,5,5,5,5,5,5,5,5,5,5,5,5,5,5,5,5,5,5,5,5,5,5,5,5,5,5,5,5,5,5,5,5,5,5,5,5,5,5,5,5,5,5,5,5,5,5,5,5,5,5,5,5,5,5,5,5,5,5,5,5,5,5,5,5,5,5,5,5,5,5,5,5,5,5,5,5,5,5,5,5,5,5,5,5,5,5,5,5,5,5,5,5,5,5,5,5,5,5,5,5,5,5,5,5,5,5,5,5,5,5,5,5,5,5,5,5,5,5,5,5,5,5,5,5,5,5,5,5,5,5,5,5,5,5,5,5,5,5,5,5,5,5,5,5,5,5,5,5,5,5,5,5,5,5,5,5,5,5,5,5,5,5,5,5,5,5,5,5,5,5,5,5,5,5,5,5,5,5,5,5,5,5,5,5,5,5,5,5,5,5,5,5,5,5,5,5,5,5,5,5,5,5,5,5,5,5,5,5,5,5,5,5,5,5,5,5,5,5,5,5,5,5,5,5,5,5,5,5,5,5,5],\"type\":\"scatter\",\"xaxis\":\"x2\",\"yaxis\":\"y2\"},{\"mode\":\"lines\",\"name\":\"posi\\u00e7\\u00e3o\",\"x\":[\"2023-03-15T00:00:00\",\"2023-03-16T00:00:00\",\"2023-03-17T00:00:00\",\"2023-03-20T00:00:00\",\"2023-03-21T00:00:00\",\"2023-03-22T00:00:00\",\"2023-03-23T00:00:00\",\"2023-03-24T00:00:00\",\"2023-03-27T00:00:00\",\"2023-03-28T00:00:00\",\"2023-03-29T00:00:00\",\"2023-03-30T00:00:00\",\"2023-03-31T00:00:00\",\"2023-04-03T00:00:00\",\"2023-04-04T00:00:00\",\"2023-04-05T00:00:00\",\"2023-04-06T00:00:00\",\"2023-04-10T00:00:00\",\"2023-04-11T00:00:00\",\"2023-04-12T00:00:00\",\"2023-04-13T00:00:00\",\"2023-04-14T00:00:00\",\"2023-04-17T00:00:00\",\"2023-04-18T00:00:00\",\"2023-04-19T00:00:00\",\"2023-04-20T00:00:00\",\"2023-04-24T00:00:00\",\"2023-04-25T00:00:00\",\"2023-04-26T00:00:00\",\"2023-04-27T00:00:00\",\"2023-04-28T00:00:00\",\"2023-05-02T00:00:00\",\"2023-05-03T00:00:00\",\"2023-05-04T00:00:00\",\"2023-05-05T00:00:00\",\"2023-05-08T00:00:00\",\"2023-05-09T00:00:00\",\"2023-05-10T00:00:00\",\"2023-05-11T00:00:00\",\"2023-05-12T00:00:00\",\"2023-05-15T00:00:00\",\"2023-05-16T00:00:00\",\"2023-05-17T00:00:00\",\"2023-05-18T00:00:00\",\"2023-05-19T00:00:00\",\"2023-05-22T00:00:00\",\"2023-05-23T00:00:00\",\"2023-05-24T00:00:00\",\"2023-05-25T00:00:00\",\"2023-05-26T00:00:00\",\"2023-05-29T00:00:00\",\"2023-05-30T00:00:00\",\"2023-05-31T00:00:00\",\"2023-06-01T00:00:00\",\"2023-06-02T00:00:00\",\"2023-06-05T00:00:00\",\"2023-06-06T00:00:00\",\"2023-06-07T00:00:00\",\"2023-06-09T00:00:00\",\"2023-06-12T00:00:00\",\"2023-06-13T00:00:00\",\"2023-06-14T00:00:00\",\"2023-06-15T00:00:00\",\"2023-06-16T00:00:00\",\"2023-06-19T00:00:00\",\"2023-06-20T00:00:00\",\"2023-06-21T00:00:00\",\"2023-06-22T00:00:00\",\"2023-06-23T00:00:00\",\"2023-06-26T00:00:00\",\"2023-06-27T00:00:00\",\"2023-06-28T00:00:00\",\"2023-06-29T00:00:00\",\"2023-06-30T00:00:00\",\"2023-07-03T00:00:00\",\"2023-07-04T00:00:00\",\"2023-07-05T00:00:00\",\"2023-07-06T00:00:00\",\"2023-07-07T00:00:00\",\"2023-07-10T00:00:00\",\"2023-07-11T00:00:00\",\"2023-07-12T00:00:00\",\"2023-07-13T00:00:00\",\"2023-07-14T00:00:00\",\"2023-07-17T00:00:00\",\"2023-07-18T00:00:00\",\"2023-07-19T00:00:00\",\"2023-07-20T00:00:00\",\"2023-07-21T00:00:00\",\"2023-07-24T00:00:00\",\"2023-07-25T00:00:00\",\"2023-07-26T00:00:00\",\"2023-07-27T00:00:00\",\"2023-07-28T00:00:00\",\"2023-07-31T00:00:00\",\"2023-08-01T00:00:00\",\"2023-08-02T00:00:00\",\"2023-08-03T00:00:00\",\"2023-08-04T00:00:00\",\"2023-08-07T00:00:00\",\"2023-08-08T00:00:00\",\"2023-08-09T00:00:00\",\"2023-08-10T00:00:00\",\"2023-08-11T00:00:00\",\"2023-08-14T00:00:00\",\"2023-08-15T00:00:00\",\"2023-08-16T00:00:00\",\"2023-08-17T00:00:00\",\"2023-08-18T00:00:00\",\"2023-08-21T00:00:00\",\"2023-08-22T00:00:00\",\"2023-08-23T00:00:00\",\"2023-08-24T00:00:00\",\"2023-08-25T00:00:00\",\"2023-08-28T00:00:00\",\"2023-08-29T00:00:00\",\"2023-08-30T00:00:00\",\"2023-08-31T00:00:00\",\"2023-09-01T00:00:00\",\"2023-09-04T00:00:00\",\"2023-09-05T00:00:00\",\"2023-09-06T00:00:00\",\"2023-09-08T00:00:00\",\"2023-09-11T00:00:00\",\"2023-09-12T00:00:00\",\"2023-09-13T00:00:00\",\"2023-09-14T00:00:00\",\"2023-09-15T00:00:00\",\"2023-09-18T00:00:00\",\"2023-09-19T00:00:00\",\"2023-09-20T00:00:00\",\"2023-09-21T00:00:00\",\"2023-09-22T00:00:00\",\"2023-09-25T00:00:00\",\"2023-09-26T00:00:00\",\"2023-09-27T00:00:00\",\"2023-09-28T00:00:00\",\"2023-09-29T00:00:00\",\"2023-10-02T00:00:00\",\"2023-10-03T00:00:00\",\"2023-10-04T00:00:00\",\"2023-10-05T00:00:00\",\"2023-10-06T00:00:00\",\"2023-10-09T00:00:00\",\"2023-10-10T00:00:00\",\"2023-10-11T00:00:00\",\"2023-10-13T00:00:00\",\"2023-10-16T00:00:00\",\"2023-10-17T00:00:00\",\"2023-10-18T00:00:00\",\"2023-10-19T00:00:00\",\"2023-10-20T00:00:00\",\"2023-10-23T00:00:00\",\"2023-10-24T00:00:00\",\"2023-10-25T00:00:00\",\"2023-10-26T00:00:00\",\"2023-10-27T00:00:00\",\"2023-10-30T00:00:00\",\"2023-10-31T00:00:00\",\"2023-11-01T00:00:00\",\"2023-11-03T00:00:00\",\"2023-11-06T00:00:00\",\"2023-11-07T00:00:00\",\"2023-11-08T00:00:00\",\"2023-11-09T00:00:00\",\"2023-11-10T00:00:00\",\"2023-11-13T00:00:00\",\"2023-11-14T00:00:00\",\"2023-11-16T00:00:00\",\"2023-11-17T00:00:00\",\"2023-11-20T00:00:00\",\"2023-11-21T00:00:00\",\"2023-11-22T00:00:00\",\"2023-11-23T00:00:00\",\"2023-11-24T00:00:00\",\"2023-11-27T00:00:00\",\"2023-11-28T00:00:00\",\"2023-11-29T00:00:00\",\"2023-11-30T00:00:00\",\"2023-12-01T00:00:00\",\"2023-12-04T00:00:00\",\"2023-12-05T00:00:00\",\"2023-12-06T00:00:00\",\"2023-12-07T00:00:00\",\"2023-12-08T00:00:00\",\"2023-12-11T00:00:00\",\"2023-12-12T00:00:00\",\"2023-12-13T00:00:00\",\"2023-12-14T00:00:00\",\"2023-12-15T00:00:00\",\"2023-12-18T00:00:00\",\"2023-12-19T00:00:00\",\"2023-12-20T00:00:00\",\"2023-12-21T00:00:00\",\"2023-12-22T00:00:00\",\"2023-12-26T00:00:00\",\"2023-12-27T00:00:00\",\"2023-12-28T00:00:00\",\"2024-01-02T00:00:00\",\"2024-01-03T00:00:00\",\"2024-01-04T00:00:00\",\"2024-01-05T00:00:00\",\"2024-01-08T00:00:00\",\"2024-01-09T00:00:00\",\"2024-01-10T00:00:00\",\"2024-01-11T00:00:00\",\"2024-01-12T00:00:00\",\"2024-01-15T00:00:00\",\"2024-01-16T00:00:00\",\"2024-01-17T00:00:00\",\"2024-01-18T00:00:00\",\"2024-01-19T00:00:00\",\"2024-01-22T00:00:00\",\"2024-01-23T00:00:00\",\"2024-01-24T00:00:00\",\"2024-01-25T00:00:00\",\"2024-01-26T00:00:00\",\"2024-01-29T00:00:00\",\"2024-01-30T00:00:00\",\"2024-01-31T00:00:00\",\"2024-02-01T00:00:00\",\"2024-02-02T00:00:00\",\"2024-02-05T00:00:00\",\"2024-02-06T00:00:00\",\"2024-02-07T00:00:00\",\"2024-02-08T00:00:00\",\"2024-02-09T00:00:00\",\"2024-02-14T00:00:00\",\"2024-02-15T00:00:00\",\"2024-02-16T00:00:00\",\"2024-02-19T00:00:00\",\"2024-02-20T00:00:00\",\"2024-02-21T00:00:00\",\"2024-02-22T00:00:00\",\"2024-02-23T00:00:00\",\"2024-02-26T00:00:00\",\"2024-02-27T00:00:00\",\"2024-02-28T00:00:00\",\"2024-02-29T00:00:00\",\"2024-03-01T00:00:00\",\"2024-03-04T00:00:00\",\"2024-03-05T00:00:00\",\"2024-03-06T00:00:00\",\"2024-03-07T00:00:00\",\"2024-03-08T00:00:00\",\"2024-03-11T00:00:00\",\"2024-03-12T00:00:00\",\"2024-03-13T00:00:00\",\"2024-03-14T00:00:00\",\"2024-03-15T00:00:00\"],\"y\":[0.0,0.0,0.0,0.0,0.0,0.0,0.0,1.0,0.0,0.0,0.0,0.0,0.0,0.0,0.0,0.0,0.0,0.0,0.0,0.0,0.0,0.0,0.0,0.0,0.0,0.0,0.0,0.0,0.0,0.0,0.0,0.0,0.0,0.0,0.0,0.0,0.0,0.0,0.0,0.0,0.0,0.0,0.0,1.0,1.0,0.0,0.0,0.0,0.0,0.0,0.0,0.0,0.0,0.0,0.0,0.0,0.0,0.0,0.0,0.0,0.0,0.0,0.0,0.0,0.0,0.0,0.0,0.0,0.0,0.0,0.0,0.0,0.0,0.0,0.0,0.0,0.0,0.0,0.0,0.0,0.0,0.0,0.0,0.0,0.0,0.0,0.0,1.0,1.0,0.0,0.0,0.0,0.0,0.0,0.0,0.0,0.0,0.0,0.0,0.0,0.0,1.0,1.0,1.0,0.0,0.0,0.0,0.0,0.0,0.0,0.0,0.0,0.0,0.0,0.0,0.0,0.0,0.0,0.0,0.0,0.0,0.0,0.0,0.0,0.0,0.0,0.0,0.0,0.0,0.0,0.0,0.0,0.0,0.0,0.0,0.0,0.0,0.0,0.0,0.0,0.0,0.0,0.0,0.0,0.0,0.0,0.0,0.0,0.0,0.0,0.0,0.0,0.0,0.0,0.0,0.0,0.0,0.0,0.0,0.0,0.0,0.0,0.0,0.0,0.0,0.0,0.0,0.0,0.0,0.0,0.0,0.0,0.0,0.0,0.0,0.0,0.0,0.0,0.0,0.0,0.0,0.0,0.0,0.0,0.0,0.0,0.0,0.0,0.0,0.0,1.0,1.0,0.0,0.0,0.0,0.0,0.0,1.0,1.0,1.0,1.0,1.0,1.0,0.0,0.0,0.0,0.0,0.0,0.0,0.0,0.0,1.0,1.0,1.0,0.0,0.0,0.0,0.0,0.0,0.0,0.0,0.0,0.0,0.0,0.0,0.0,0.0,0.0,0.0,0.0,0.0,0.0,0.0,0.0,0.0,0.0,0.0,0.0,0.0,0.0,0.0,0.0,0.0,0.0,0.0,0.0,0.0,0.0,0.0,0.0],\"type\":\"scatter\",\"xaxis\":\"x3\",\"yaxis\":\"y3\"}],                        {\"template\":{\"data\":{\"histogram2dcontour\":[{\"type\":\"histogram2dcontour\",\"colorbar\":{\"outlinewidth\":0,\"ticks\":\"\"},\"colorscale\":[[0.0,\"#0d0887\"],[0.1111111111111111,\"#46039f\"],[0.2222222222222222,\"#7201a8\"],[0.3333333333333333,\"#9c179e\"],[0.4444444444444444,\"#bd3786\"],[0.5555555555555556,\"#d8576b\"],[0.6666666666666666,\"#ed7953\"],[0.7777777777777778,\"#fb9f3a\"],[0.8888888888888888,\"#fdca26\"],[1.0,\"#f0f921\"]]}],\"choropleth\":[{\"type\":\"choropleth\",\"colorbar\":{\"outlinewidth\":0,\"ticks\":\"\"}}],\"histogram2d\":[{\"type\":\"histogram2d\",\"colorbar\":{\"outlinewidth\":0,\"ticks\":\"\"},\"colorscale\":[[0.0,\"#0d0887\"],[0.1111111111111111,\"#46039f\"],[0.2222222222222222,\"#7201a8\"],[0.3333333333333333,\"#9c179e\"],[0.4444444444444444,\"#bd3786\"],[0.5555555555555556,\"#d8576b\"],[0.6666666666666666,\"#ed7953\"],[0.7777777777777778,\"#fb9f3a\"],[0.8888888888888888,\"#fdca26\"],[1.0,\"#f0f921\"]]}],\"heatmap\":[{\"type\":\"heatmap\",\"colorbar\":{\"outlinewidth\":0,\"ticks\":\"\"},\"colorscale\":[[0.0,\"#0d0887\"],[0.1111111111111111,\"#46039f\"],[0.2222222222222222,\"#7201a8\"],[0.3333333333333333,\"#9c179e\"],[0.4444444444444444,\"#bd3786\"],[0.5555555555555556,\"#d8576b\"],[0.6666666666666666,\"#ed7953\"],[0.7777777777777778,\"#fb9f3a\"],[0.8888888888888888,\"#fdca26\"],[1.0,\"#f0f921\"]]}],\"heatmapgl\":[{\"type\":\"heatmapgl\",\"colorbar\":{\"outlinewidth\":0,\"ticks\":\"\"},\"colorscale\":[[0.0,\"#0d0887\"],[0.1111111111111111,\"#46039f\"],[0.2222222222222222,\"#7201a8\"],[0.3333333333333333,\"#9c179e\"],[0.4444444444444444,\"#bd3786\"],[0.5555555555555556,\"#d8576b\"],[0.6666666666666666,\"#ed7953\"],[0.7777777777777778,\"#fb9f3a\"],[0.8888888888888888,\"#fdca26\"],[1.0,\"#f0f921\"]]}],\"contourcarpet\":[{\"type\":\"contourcarpet\",\"colorbar\":{\"outlinewidth\":0,\"ticks\":\"\"}}],\"contour\":[{\"type\":\"contour\",\"colorbar\":{\"outlinewidth\":0,\"ticks\":\"\"},\"colorscale\":[[0.0,\"#0d0887\"],[0.1111111111111111,\"#46039f\"],[0.2222222222222222,\"#7201a8\"],[0.3333333333333333,\"#9c179e\"],[0.4444444444444444,\"#bd3786\"],[0.5555555555555556,\"#d8576b\"],[0.6666666666666666,\"#ed7953\"],[0.7777777777777778,\"#fb9f3a\"],[0.8888888888888888,\"#fdca26\"],[1.0,\"#f0f921\"]]}],\"surface\":[{\"type\":\"surface\",\"colorbar\":{\"outlinewidth\":0,\"ticks\":\"\"},\"colorscale\":[[0.0,\"#0d0887\"],[0.1111111111111111,\"#46039f\"],[0.2222222222222222,\"#7201a8\"],[0.3333333333333333,\"#9c179e\"],[0.4444444444444444,\"#bd3786\"],[0.5555555555555556,\"#d8576b\"],[0.6666666666666666,\"#ed7953\"],[0.7777777777777778,\"#fb9f3a\"],[0.8888888888888888,\"#fdca26\"],[1.0,\"#f0f921\"]]}],\"mesh3d\":[{\"type\":\"mesh3d\",\"colorbar\":{\"outlinewidth\":0,\"ticks\":\"\"}}],\"scatter\":[{\"fillpattern\":{\"fillmode\":\"overlay\",\"size\":10,\"solidity\":0.2},\"type\":\"scatter\"}],\"parcoords\":[{\"type\":\"parcoords\",\"line\":{\"colorbar\":{\"outlinewidth\":0,\"ticks\":\"\"}}}],\"scatterpolargl\":[{\"type\":\"scatterpolargl\",\"marker\":{\"colorbar\":{\"outlinewidth\":0,\"ticks\":\"\"}}}],\"bar\":[{\"error_x\":{\"color\":\"#2a3f5f\"},\"error_y\":{\"color\":\"#2a3f5f\"},\"marker\":{\"line\":{\"color\":\"#E5ECF6\",\"width\":0.5},\"pattern\":{\"fillmode\":\"overlay\",\"size\":10,\"solidity\":0.2}},\"type\":\"bar\"}],\"scattergeo\":[{\"type\":\"scattergeo\",\"marker\":{\"colorbar\":{\"outlinewidth\":0,\"ticks\":\"\"}}}],\"scatterpolar\":[{\"type\":\"scatterpolar\",\"marker\":{\"colorbar\":{\"outlinewidth\":0,\"ticks\":\"\"}}}],\"histogram\":[{\"marker\":{\"pattern\":{\"fillmode\":\"overlay\",\"size\":10,\"solidity\":0.2}},\"type\":\"histogram\"}],\"scattergl\":[{\"type\":\"scattergl\",\"marker\":{\"colorbar\":{\"outlinewidth\":0,\"ticks\":\"\"}}}],\"scatter3d\":[{\"type\":\"scatter3d\",\"line\":{\"colorbar\":{\"outlinewidth\":0,\"ticks\":\"\"}},\"marker\":{\"colorbar\":{\"outlinewidth\":0,\"ticks\":\"\"}}}],\"scattermapbox\":[{\"type\":\"scattermapbox\",\"marker\":{\"colorbar\":{\"outlinewidth\":0,\"ticks\":\"\"}}}],\"scatterternary\":[{\"type\":\"scatterternary\",\"marker\":{\"colorbar\":{\"outlinewidth\":0,\"ticks\":\"\"}}}],\"scattercarpet\":[{\"type\":\"scattercarpet\",\"marker\":{\"colorbar\":{\"outlinewidth\":0,\"ticks\":\"\"}}}],\"carpet\":[{\"aaxis\":{\"endlinecolor\":\"#2a3f5f\",\"gridcolor\":\"white\",\"linecolor\":\"white\",\"minorgridcolor\":\"white\",\"startlinecolor\":\"#2a3f5f\"},\"baxis\":{\"endlinecolor\":\"#2a3f5f\",\"gridcolor\":\"white\",\"linecolor\":\"white\",\"minorgridcolor\":\"white\",\"startlinecolor\":\"#2a3f5f\"},\"type\":\"carpet\"}],\"table\":[{\"cells\":{\"fill\":{\"color\":\"#EBF0F8\"},\"line\":{\"color\":\"white\"}},\"header\":{\"fill\":{\"color\":\"#C8D4E3\"},\"line\":{\"color\":\"white\"}},\"type\":\"table\"}],\"barpolar\":[{\"marker\":{\"line\":{\"color\":\"#E5ECF6\",\"width\":0.5},\"pattern\":{\"fillmode\":\"overlay\",\"size\":10,\"solidity\":0.2}},\"type\":\"barpolar\"}],\"pie\":[{\"automargin\":true,\"type\":\"pie\"}]},\"layout\":{\"autotypenumbers\":\"strict\",\"colorway\":[\"#636efa\",\"#EF553B\",\"#00cc96\",\"#ab63fa\",\"#FFA15A\",\"#19d3f3\",\"#FF6692\",\"#B6E880\",\"#FF97FF\",\"#FECB52\"],\"font\":{\"color\":\"#2a3f5f\"},\"hovermode\":\"closest\",\"hoverlabel\":{\"align\":\"left\"},\"paper_bgcolor\":\"white\",\"plot_bgcolor\":\"#E5ECF6\",\"polar\":{\"bgcolor\":\"#E5ECF6\",\"angularaxis\":{\"gridcolor\":\"white\",\"linecolor\":\"white\",\"ticks\":\"\"},\"radialaxis\":{\"gridcolor\":\"white\",\"linecolor\":\"white\",\"ticks\":\"\"}},\"ternary\":{\"bgcolor\":\"#E5ECF6\",\"aaxis\":{\"gridcolor\":\"white\",\"linecolor\":\"white\",\"ticks\":\"\"},\"baxis\":{\"gridcolor\":\"white\",\"linecolor\":\"white\",\"ticks\":\"\"},\"caxis\":{\"gridcolor\":\"white\",\"linecolor\":\"white\",\"ticks\":\"\"}},\"coloraxis\":{\"colorbar\":{\"outlinewidth\":0,\"ticks\":\"\"}},\"colorscale\":{\"sequential\":[[0.0,\"#0d0887\"],[0.1111111111111111,\"#46039f\"],[0.2222222222222222,\"#7201a8\"],[0.3333333333333333,\"#9c179e\"],[0.4444444444444444,\"#bd3786\"],[0.5555555555555556,\"#d8576b\"],[0.6666666666666666,\"#ed7953\"],[0.7777777777777778,\"#fb9f3a\"],[0.8888888888888888,\"#fdca26\"],[1.0,\"#f0f921\"]],\"sequentialminus\":[[0.0,\"#0d0887\"],[0.1111111111111111,\"#46039f\"],[0.2222222222222222,\"#7201a8\"],[0.3333333333333333,\"#9c179e\"],[0.4444444444444444,\"#bd3786\"],[0.5555555555555556,\"#d8576b\"],[0.6666666666666666,\"#ed7953\"],[0.7777777777777778,\"#fb9f3a\"],[0.8888888888888888,\"#fdca26\"],[1.0,\"#f0f921\"]],\"diverging\":[[0,\"#8e0152\"],[0.1,\"#c51b7d\"],[0.2,\"#de77ae\"],[0.3,\"#f1b6da\"],[0.4,\"#fde0ef\"],[0.5,\"#f7f7f7\"],[0.6,\"#e6f5d0\"],[0.7,\"#b8e186\"],[0.8,\"#7fbc41\"],[0.9,\"#4d9221\"],[1,\"#276419\"]]},\"xaxis\":{\"gridcolor\":\"white\",\"linecolor\":\"white\",\"ticks\":\"\",\"title\":{\"standoff\":15},\"zerolinecolor\":\"white\",\"automargin\":true,\"zerolinewidth\":2},\"yaxis\":{\"gridcolor\":\"white\",\"linecolor\":\"white\",\"ticks\":\"\",\"title\":{\"standoff\":15},\"zerolinecolor\":\"white\",\"automargin\":true,\"zerolinewidth\":2},\"scene\":{\"xaxis\":{\"backgroundcolor\":\"#E5ECF6\",\"gridcolor\":\"white\",\"linecolor\":\"white\",\"showbackground\":true,\"ticks\":\"\",\"zerolinecolor\":\"white\",\"gridwidth\":2},\"yaxis\":{\"backgroundcolor\":\"#E5ECF6\",\"gridcolor\":\"white\",\"linecolor\":\"white\",\"showbackground\":true,\"ticks\":\"\",\"zerolinecolor\":\"white\",\"gridwidth\":2},\"zaxis\":{\"backgroundcolor\":\"#E5ECF6\",\"gridcolor\":\"white\",\"linecolor\":\"white\",\"showbackground\":true,\"ticks\":\"\",\"zerolinecolor\":\"white\",\"gridwidth\":2}},\"shapedefaults\":{\"line\":{\"color\":\"#2a3f5f\"}},\"annotationdefaults\":{\"arrowcolor\":\"#2a3f5f\",\"arrowhead\":0,\"arrowwidth\":1},\"geo\":{\"bgcolor\":\"white\",\"landcolor\":\"#E5ECF6\",\"subunitcolor\":\"white\",\"showland\":true,\"showlakes\":true,\"lakecolor\":\"white\"},\"title\":{\"x\":0.05},\"mapbox\":{\"style\":\"light\"}}},\"xaxis\":{\"anchor\":\"y\",\"domain\":[0.0,1.0]},\"yaxis\":{\"anchor\":\"x\",\"domain\":[0.7333333333333333,1.0]},\"xaxis2\":{\"anchor\":\"y2\",\"domain\":[0.0,1.0]},\"yaxis2\":{\"anchor\":\"x2\",\"domain\":[0.36666666666666664,0.6333333333333333]},\"xaxis3\":{\"anchor\":\"y3\",\"domain\":[0.0,1.0]},\"yaxis3\":{\"anchor\":\"x3\",\"domain\":[0.0,0.26666666666666666]}},                        {\"responsive\": true}                    ).then(function(){\n",
              "                            \n",
              "var gd = document.getElementById('9d96ae61-1e42-4abb-bd67-a2b8b23be7ca');\n",
              "var x = new MutationObserver(function (mutations, observer) {{\n",
              "        var display = window.getComputedStyle(gd).display;\n",
              "        if (!display || display === 'none') {{\n",
              "            console.log([gd, 'removed!']);\n",
              "            Plotly.purge(gd);\n",
              "            observer.disconnect();\n",
              "        }}\n",
              "}});\n",
              "\n",
              "// Listen for the removal of the full notebook cells\n",
              "var notebookContainer = gd.closest('#notebook-container');\n",
              "if (notebookContainer) {{\n",
              "    x.observe(notebookContainer, {childList: true});\n",
              "}}\n",
              "\n",
              "// Listen for the clearing of the current output cell\n",
              "var outputEl = gd.closest('.output');\n",
              "if (outputEl) {{\n",
              "    x.observe(outputEl, {childList: true});\n",
              "}}\n",
              "\n",
              "                        })                };                });            </script>        </div>"
            ]
          },
          "metadata": {},
          "output_type": "display_data"
        }
      ],
      "source": [
        "import plotly.graph_objects as go\n",
        "from plotly.subplots import make_subplots\n",
        "\n",
        "df['Close '+ativo].rolling(5).mean() \n",
        "\n",
        "\n",
        "fig = make_subplots(rows=3, cols=1) #go.Figure()\n",
        "fig.add_trace(go.Scatter(x = df.index , y = df['Close '+ativo].values , name=\"preço\"),1,1)\n",
        "fig.add_trace(go.Scatter(x = df.index , y =  df['Close '+ativo].rolling(5).mean(), mode='lines', \n",
        "                         line=dict(color='firebrick', width=2, dash='dot'), name=\"mma5\"),1,1)\n",
        "\n",
        "fig.add_trace(go.Scatter(x = df.loc[entra].index, y = df.loc[entra]['Close '+ativo] , mode='markers' ,name='Entrada',\n",
        "                             marker=dict(size=12, symbol=\"arrow\", angle=45, line=dict(width=2, color=\"DarkSlateGrey\"))\n",
        "                         ),1,1)\n",
        "fig.update_traces(\n",
        "    marker=dict(size=12, symbol=\"arrow\", angle=45, line=dict(width=2, color=\"DarkSlateGrey\")),\n",
        "    selector=dict(mode=\"markers\"),\n",
        ")\n",
        "fig.add_trace(go.Scatter(x = df.loc[sai].index, y = df.loc[sai]['Close '+ativo] , mode='markers' ,name='Saida',\n",
        "                         marker=dict(size=12, symbol=\"arrow\", angle=-135, line=dict(width=2, color=\"red\"))\n",
        "                         ),1,1)\n",
        "fig.add_trace(go.Scatter(x = df.index , y = IFR[ativo].values , name=\"ifr2\"),2,1)\n",
        "fig.add_trace(go.Scatter(x = df.index , y = [5]*len(df.index) , name=\"ifr2=5\", mode='lines', \n",
        "              line=dict(color='red', width=4, dash='dot')),2,1)\n",
        "\n",
        "fig.add_trace(go.Scatter(x =posicao.index , y = posicao['pos'] , mode='lines', name=\"posição\"),3,1)\n",
        "\n",
        "\n",
        "fig.show()"
      ]
    },
    {
      "cell_type": "code",
      "execution_count": 14,
      "metadata": {},
      "outputs": [
        {
          "data": {
            "application/vnd.plotly.v1+json": {
              "config": {
                "linkText": "Export to plot.ly",
                "plotlyServerURL": "https://plot.ly",
                "showLink": true
              },
              "data": [
                {
                  "line": {
                    "color": "rgba(255, 153, 51, 1.0)",
                    "dash": "solid",
                    "shape": "linear",
                    "width": 1.3
                  },
                  "mode": "lines",
                  "name": "retorno",
                  "text": "",
                  "type": "scatter",
                  "x": [
                    "2023-03-15",
                    "2023-03-16",
                    "2023-03-17",
                    "2023-03-20",
                    "2023-03-21",
                    "2023-03-22",
                    "2023-03-23",
                    "2023-03-24",
                    "2023-03-27",
                    "2023-03-28",
                    "2023-03-29",
                    "2023-03-30",
                    "2023-03-31",
                    "2023-04-03",
                    "2023-04-04",
                    "2023-04-05",
                    "2023-04-06",
                    "2023-04-10",
                    "2023-04-11",
                    "2023-04-12",
                    "2023-04-13",
                    "2023-04-14",
                    "2023-04-17",
                    "2023-04-18",
                    "2023-04-19",
                    "2023-04-20",
                    "2023-04-24",
                    "2023-04-25",
                    "2023-04-26",
                    "2023-04-27",
                    "2023-04-28",
                    "2023-05-02",
                    "2023-05-03",
                    "2023-05-04",
                    "2023-05-05",
                    "2023-05-08",
                    "2023-05-09",
                    "2023-05-10",
                    "2023-05-11",
                    "2023-05-12",
                    "2023-05-15",
                    "2023-05-16",
                    "2023-05-17",
                    "2023-05-18",
                    "2023-05-19",
                    "2023-05-22",
                    "2023-05-23",
                    "2023-05-24",
                    "2023-05-25",
                    "2023-05-26",
                    "2023-05-29",
                    "2023-05-30",
                    "2023-05-31",
                    "2023-06-01",
                    "2023-06-02",
                    "2023-06-05",
                    "2023-06-06",
                    "2023-06-07",
                    "2023-06-09",
                    "2023-06-12",
                    "2023-06-13",
                    "2023-06-14",
                    "2023-06-15",
                    "2023-06-16",
                    "2023-06-19",
                    "2023-06-20",
                    "2023-06-21",
                    "2023-06-22",
                    "2023-06-23",
                    "2023-06-26",
                    "2023-06-27",
                    "2023-06-28",
                    "2023-06-29",
                    "2023-06-30",
                    "2023-07-03",
                    "2023-07-04",
                    "2023-07-05",
                    "2023-07-06",
                    "2023-07-07",
                    "2023-07-10",
                    "2023-07-11",
                    "2023-07-12",
                    "2023-07-13",
                    "2023-07-14",
                    "2023-07-17",
                    "2023-07-18",
                    "2023-07-19",
                    "2023-07-20",
                    "2023-07-21",
                    "2023-07-24",
                    "2023-07-25",
                    "2023-07-26",
                    "2023-07-27",
                    "2023-07-28",
                    "2023-07-31",
                    "2023-08-01",
                    "2023-08-02",
                    "2023-08-03",
                    "2023-08-04",
                    "2023-08-07",
                    "2023-08-08",
                    "2023-08-09",
                    "2023-08-10",
                    "2023-08-11",
                    "2023-08-14",
                    "2023-08-15",
                    "2023-08-16",
                    "2023-08-17",
                    "2023-08-18",
                    "2023-08-21",
                    "2023-08-22",
                    "2023-08-23",
                    "2023-08-24",
                    "2023-08-25",
                    "2023-08-28",
                    "2023-08-29",
                    "2023-08-30",
                    "2023-08-31",
                    "2023-09-01",
                    "2023-09-04",
                    "2023-09-05",
                    "2023-09-06",
                    "2023-09-08",
                    "2023-09-11",
                    "2023-09-12",
                    "2023-09-13",
                    "2023-09-14",
                    "2023-09-15",
                    "2023-09-18",
                    "2023-09-19",
                    "2023-09-20",
                    "2023-09-21",
                    "2023-09-22",
                    "2023-09-25",
                    "2023-09-26",
                    "2023-09-27",
                    "2023-09-28",
                    "2023-09-29",
                    "2023-10-02",
                    "2023-10-03",
                    "2023-10-04",
                    "2023-10-05",
                    "2023-10-06",
                    "2023-10-09",
                    "2023-10-10",
                    "2023-10-11",
                    "2023-10-13",
                    "2023-10-16",
                    "2023-10-17",
                    "2023-10-18",
                    "2023-10-19",
                    "2023-10-20",
                    "2023-10-23",
                    "2023-10-24",
                    "2023-10-25",
                    "2023-10-26",
                    "2023-10-27",
                    "2023-10-30",
                    "2023-10-31",
                    "2023-11-01",
                    "2023-11-03",
                    "2023-11-06",
                    "2023-11-07",
                    "2023-11-08",
                    "2023-11-09",
                    "2023-11-10",
                    "2023-11-13",
                    "2023-11-14",
                    "2023-11-16",
                    "2023-11-17",
                    "2023-11-20",
                    "2023-11-21",
                    "2023-11-22",
                    "2023-11-23",
                    "2023-11-24",
                    "2023-11-27",
                    "2023-11-28",
                    "2023-11-29",
                    "2023-11-30",
                    "2023-12-01",
                    "2023-12-04",
                    "2023-12-05",
                    "2023-12-06",
                    "2023-12-07",
                    "2023-12-08",
                    "2023-12-11",
                    "2023-12-12",
                    "2023-12-13",
                    "2023-12-14",
                    "2023-12-15",
                    "2023-12-18",
                    "2023-12-19",
                    "2023-12-20",
                    "2023-12-21",
                    "2023-12-22",
                    "2023-12-26",
                    "2023-12-27",
                    "2023-12-28",
                    "2024-01-02",
                    "2024-01-03",
                    "2024-01-04",
                    "2024-01-05",
                    "2024-01-08",
                    "2024-01-09",
                    "2024-01-10",
                    "2024-01-11",
                    "2024-01-12",
                    "2024-01-15",
                    "2024-01-16",
                    "2024-01-17",
                    "2024-01-18",
                    "2024-01-19",
                    "2024-01-22",
                    "2024-01-23",
                    "2024-01-24",
                    "2024-01-25",
                    "2024-01-26",
                    "2024-01-29",
                    "2024-01-30",
                    "2024-01-31",
                    "2024-02-01",
                    "2024-02-02",
                    "2024-02-05",
                    "2024-02-06",
                    "2024-02-07",
                    "2024-02-08",
                    "2024-02-09",
                    "2024-02-14",
                    "2024-02-15",
                    "2024-02-16",
                    "2024-02-19",
                    "2024-02-20",
                    "2024-02-21",
                    "2024-02-22",
                    "2024-02-23",
                    "2024-02-26",
                    "2024-02-27",
                    "2024-02-28",
                    "2024-02-29",
                    "2024-03-01",
                    "2024-03-04",
                    "2024-03-05",
                    "2024-03-06",
                    "2024-03-07",
                    "2024-03-08",
                    "2024-03-11",
                    "2024-03-12",
                    "2024-03-13",
                    "2024-03-14",
                    "2024-03-15"
                  ],
                  "y": [
                    "",
                    0.05675797719401965,
                    0.04665701157473401,
                    0.0024049656016706944,
                    -0.002886068814273335,
                    -0.047619126256382205,
                    -0.06397314922970276,
                    -0.01154409176997917,
                    -0.010101057362842614,
                    -0.010101057362842614,
                    0.016353931229763585,
                    0.06782105749495315,
                    0.0697450116275784,
                    0.026936000061651644,
                    0.057238988663065093,
                    0.021644965645707614,
                    0.05002400011449604,
                    0.06204901160996368,
                    0.09187108048588843,
                    0.11640202320231241,
                    0.17604616095416215,
                    0.16931209213108156,
                    0.18759016098058434,
                    0.2063491495555756,
                    0.17604616095416215,
                    0.2506011955286389,
                    0.32852331038643445,
                    0.28667623001504183,
                    0.3516113104392786,
                    0.3588262989878479,
                    0.5137084140217911,
                    0.6421355404631282,
                    0.5310244599332028,
                    0.47378537952658073,
                    0.587301517401734,
                    0.5839345288619722,
                    0.670995678144519,
                    0.7027417011530692,
                    0.7344877241616192,
                    0.7282346668075841,
                    0.7316016553473459,
                    0.712361563559752,
                    0.5685425288267423,
                    0.6406925977995481,
                    0.699374712613307,
                    0.7157285520995136,
                    0.701298575002375,
                    0.6859065749671456,
                    0.7455507127189955,
                    0.7570946210018608,
                    0.7849927357451605,
                    0.8619527359213079,
                    0.827801747311087,
                    0.879749885045322,
                    0.8734968276912869,
                    0.8860027589122432,
                    0.9644058852390844,
                    0.8417508046827369,
                    0.8273208275855983,
                    0.8138526899394369,
                    0.7965366440280253,
                    0.8388647358684636,
                    0.837421793204884,
                    0.8518517703020225,
                    0.8759017932929576,
                    0.8465607358860783,
                    0.9533428966817079,
                    0.9124577475048494,
                    1.0519479542471202,
                    0.9716209655312107,
                    0.9721018852566994,
                    1.0105818853447732,
                    1.0995670805035025,
                    1.0947569658130472,
                    1.1091869429101853,
                    1.0832130575301817,
                    1.2207790349091563,
                    1.3439152186781063,
                    1.5185184369686886,
                    1.466089379508965,
                    1.5747954026936628,
                    1.5622894714727065,
                    1.522366345233939,
                    1.4583933794913504,
                    1.3809522761026005,
                    1.366522299005462,
                    1.3039922759264528,
                    1.3246753103776263,
                    1.3684463448816442,
                    1.0274170115306962,
                    1.063010942804497,
                    1.073593011636385,
                    1.016353839486206,
                    0.9759499770090638,
                    0.9778738393981321,
                    0.962000919637414,
                    0.9682537935043354,
                    0.9793169655488259,
                    0.9567098852214702,
                    0.8999518162838935,
                    0.8691678162134344,
                    0.8552187588417846,
                    0.8797498850453225,
                    0.8831168735850843,
                    0.8691678162134344,
                    0.9028378850981669,
                    1.1284270346977796,
                    1.1226550805563469,
                    1.1038960919813556,
                    0.9095718621776907,
                    1.084175080468273,
                    1.1226550805563469,
                    1.1654640921222734,
                    1.1726789889272853,
                    1.1957671724672436,
                    1.2852331038643472,
                    1.1664261150603639,
                    1.0663779313442578,
                    1.0158729197607164,
                    1.0909090575477958,
                    1.0798460689904195,
                    0.9865318623538373,
                    0.9624818393629018,
                    1.00336698853976,
                    1.0649349886806778,
                    1.1067819773085135,
                    1.1000480002289899,
                    0.948051862265763,
                    0.9624818393629013,
                    0.933140781956022,
                    0.9475709425402745,
                    0.9100527819031778,
                    0.9475709425402745,
                    0.9932658394333604,
                    0.9961519082476336,
                    0.9725828049821867,
                    1.0086578394685897,
                    1.1164020232023097,
                    1.0043288279907365,
                    0.9624818393629009,
                    1.031264919795945,
                    1.0543529198487893,
                    1.0423279083533217,
                    1.0658970116187683,
                    1.1164020232023097,
                    0.970658942593118,
                    0.9201537475224626,
                    0.9278499310271913,
                    0.9124577475048479,
                    0.9105338851157796,
                    0.9191919080714857,
                    0.9470898393276717,
                    0.9586339310976506,
                    0.9451657934514892,
                    0.9042808277617447,
                    1.0202019312385682,
                    0.9653679081771738,
                    0.9571908049469566,
                    0.9571908049469566,
                    0.9980759541238149,
                    1.0322269427340354,
                    1.028378850981671,
                    1.0726309886982914,
                    1.0909090575477944,
                    1.0769600001761446,
                    1.1226550805563447,
                    1.093794942874954,
                    1.1293890576358687,
                    1.1139970576006393,
                    1.0634920460170978,
                    1.0870609657954309,
                    1.1202501149546746,
                    1.2515632184667282,
                    1.2943722300326552,
                    1.2506011955286374,
                    1.2958151726962348,
                    1.3525732416338117,
                    1.3535352645719025,
                    1.4290523220844702,
                    1.5796055173841173,
                    1.5132274025527437,
                    1.6002885518352907,
                    1.5680614256141383,
                    1.5353533796674972,
                    1.4329004138368346,
                    1.4540643680134968,
                    1.478114391004432,
                    1.4593554024294408,
                    1.3809522761025996,
                    1.2886002758912225,
                    1.3487253333685607,
                    1.4059643220316258,
                    1.38335724170427,
                    1.3352571957223995,
                    1.1909570577767874,
                    1.175565057741558,
                    1.1645020691841812,
                    1.1308320002994492,
                    1.016353839486205,
                    1.0423279083533226,
                    1.0197210115130808,
                    0.9682537935043345,
                    1.0288599541942753,
                    1.0076960000176132,
                    0.9610388966993222,
                    0.9528617934691048,
                    0.9398749425226598,
                    0.9552669425578892,
                    0.9023567818855631,
                    0.8720537015405927,
                    0.8576237244434541,
                    0.8542567359036923,
                    0.8196248275679829,
                    1.0125059312209541,
                    0.9504568278674335,
                    0.9682537935043338,
                    0.955266942557889,
                    0.92977379341626,
                    0.8975468506822213,
                    0.9605577934867191,
                    0.9408367819736367,
                    0.9413178851862392,
                    0.9518999540181272,
                    1.031746023008548,
                    1.0331889656721276,
                    0.9639249655135949,
                    0.9143817933810305,
                    0.9057237704253247,
                    0.9240018392748275,
                    0.9485327819912515,
                    0.9802788049998017,
                    1.0125059312209541,
                    0.9711398623186072,
                    0.9870129655664392,
                    0.9860509426283481,
                    0.9095718621776891,
                    0.9870129655664392,
                    0.8787878621072303,
                    0.8672437703372511,
                    0.8667628506117626,
                    1.055314942786881,
                    1.0442519542295043,
                    1.0865800460699426,
                    1.0836939772556695,
                    1.0586819313266433,
                    0.9547858393452873,
                    0.9456468966640927,
                    0.952861793469105,
                    0.9292928736907722,
                    0.8778258391691396
                  ]
                },
                {
                  "line": {
                    "color": "rgba(55, 128, 191, 1.0)",
                    "dash": "solid",
                    "shape": "linear",
                    "width": 1.3
                  },
                  "mode": "lines",
                  "name": "retorno_estrategia",
                  "text": "",
                  "type": "scatter",
                  "x": [
                    "2023-03-15",
                    "2023-03-16",
                    "2023-03-17",
                    "2023-03-20",
                    "2023-03-21",
                    "2023-03-22",
                    "2023-03-23",
                    "2023-03-24",
                    "2023-03-27",
                    "2023-03-28",
                    "2023-03-29",
                    "2023-03-30",
                    "2023-03-31",
                    "2023-04-03",
                    "2023-04-04",
                    "2023-04-05",
                    "2023-04-06",
                    "2023-04-10",
                    "2023-04-11",
                    "2023-04-12",
                    "2023-04-13",
                    "2023-04-14",
                    "2023-04-17",
                    "2023-04-18",
                    "2023-04-19",
                    "2023-04-20",
                    "2023-04-24",
                    "2023-04-25",
                    "2023-04-26",
                    "2023-04-27",
                    "2023-04-28",
                    "2023-05-02",
                    "2023-05-03",
                    "2023-05-04",
                    "2023-05-05",
                    "2023-05-08",
                    "2023-05-09",
                    "2023-05-10",
                    "2023-05-11",
                    "2023-05-12",
                    "2023-05-15",
                    "2023-05-16",
                    "2023-05-17",
                    "2023-05-18",
                    "2023-05-19",
                    "2023-05-22",
                    "2023-05-23",
                    "2023-05-24",
                    "2023-05-25",
                    "2023-05-26",
                    "2023-05-29",
                    "2023-05-30",
                    "2023-05-31",
                    "2023-06-01",
                    "2023-06-02",
                    "2023-06-05",
                    "2023-06-06",
                    "2023-06-07",
                    "2023-06-09",
                    "2023-06-12",
                    "2023-06-13",
                    "2023-06-14",
                    "2023-06-15",
                    "2023-06-16",
                    "2023-06-19",
                    "2023-06-20",
                    "2023-06-21",
                    "2023-06-22",
                    "2023-06-23",
                    "2023-06-26",
                    "2023-06-27",
                    "2023-06-28",
                    "2023-06-29",
                    "2023-06-30",
                    "2023-07-03",
                    "2023-07-04",
                    "2023-07-05",
                    "2023-07-06",
                    "2023-07-07",
                    "2023-07-10",
                    "2023-07-11",
                    "2023-07-12",
                    "2023-07-13",
                    "2023-07-14",
                    "2023-07-17",
                    "2023-07-18",
                    "2023-07-19",
                    "2023-07-20",
                    "2023-07-21",
                    "2023-07-24",
                    "2023-07-25",
                    "2023-07-26",
                    "2023-07-27",
                    "2023-07-28",
                    "2023-07-31",
                    "2023-08-01",
                    "2023-08-02",
                    "2023-08-03",
                    "2023-08-04",
                    "2023-08-07",
                    "2023-08-08",
                    "2023-08-09",
                    "2023-08-10",
                    "2023-08-11",
                    "2023-08-14",
                    "2023-08-15",
                    "2023-08-16",
                    "2023-08-17",
                    "2023-08-18",
                    "2023-08-21",
                    "2023-08-22",
                    "2023-08-23",
                    "2023-08-24",
                    "2023-08-25",
                    "2023-08-28",
                    "2023-08-29",
                    "2023-08-30",
                    "2023-08-31",
                    "2023-09-01",
                    "2023-09-04",
                    "2023-09-05",
                    "2023-09-06",
                    "2023-09-08",
                    "2023-09-11",
                    "2023-09-12",
                    "2023-09-13",
                    "2023-09-14",
                    "2023-09-15",
                    "2023-09-18",
                    "2023-09-19",
                    "2023-09-20",
                    "2023-09-21",
                    "2023-09-22",
                    "2023-09-25",
                    "2023-09-26",
                    "2023-09-27",
                    "2023-09-28",
                    "2023-09-29",
                    "2023-10-02",
                    "2023-10-03",
                    "2023-10-04",
                    "2023-10-05",
                    "2023-10-06",
                    "2023-10-09",
                    "2023-10-10",
                    "2023-10-11",
                    "2023-10-13",
                    "2023-10-16",
                    "2023-10-17",
                    "2023-10-18",
                    "2023-10-19",
                    "2023-10-20",
                    "2023-10-23",
                    "2023-10-24",
                    "2023-10-25",
                    "2023-10-26",
                    "2023-10-27",
                    "2023-10-30",
                    "2023-10-31",
                    "2023-11-01",
                    "2023-11-03",
                    "2023-11-06",
                    "2023-11-07",
                    "2023-11-08",
                    "2023-11-09",
                    "2023-11-10",
                    "2023-11-13",
                    "2023-11-14",
                    "2023-11-16",
                    "2023-11-17",
                    "2023-11-20",
                    "2023-11-21",
                    "2023-11-22",
                    "2023-11-23",
                    "2023-11-24",
                    "2023-11-27",
                    "2023-11-28",
                    "2023-11-29",
                    "2023-11-30",
                    "2023-12-01",
                    "2023-12-04",
                    "2023-12-05",
                    "2023-12-06",
                    "2023-12-07",
                    "2023-12-08",
                    "2023-12-11",
                    "2023-12-12",
                    "2023-12-13",
                    "2023-12-14",
                    "2023-12-15",
                    "2023-12-18",
                    "2023-12-19",
                    "2023-12-20",
                    "2023-12-21",
                    "2023-12-22",
                    "2023-12-26",
                    "2023-12-27",
                    "2023-12-28",
                    "2024-01-02",
                    "2024-01-03",
                    "2024-01-04",
                    "2024-01-05",
                    "2024-01-08",
                    "2024-01-09",
                    "2024-01-10",
                    "2024-01-11",
                    "2024-01-12",
                    "2024-01-15",
                    "2024-01-16",
                    "2024-01-17",
                    "2024-01-18",
                    "2024-01-19",
                    "2024-01-22",
                    "2024-01-23",
                    "2024-01-24",
                    "2024-01-25",
                    "2024-01-26",
                    "2024-01-29",
                    "2024-01-30",
                    "2024-01-31",
                    "2024-02-01",
                    "2024-02-02",
                    "2024-02-05",
                    "2024-02-06",
                    "2024-02-07",
                    "2024-02-08",
                    "2024-02-09",
                    "2024-02-14",
                    "2024-02-15",
                    "2024-02-16",
                    "2024-02-19",
                    "2024-02-20",
                    "2024-02-21",
                    "2024-02-22",
                    "2024-02-23",
                    "2024-02-26",
                    "2024-02-27",
                    "2024-02-28",
                    "2024-02-29",
                    "2024-03-01",
                    "2024-03-04",
                    "2024-03-05",
                    "2024-03-06",
                    "2024-03-07",
                    "2024-03-08",
                    "2024-03-11",
                    "2024-03-12",
                    "2024-03-13",
                    "2024-03-14",
                    "2024-03-15"
                  ],
                  "y": [
                    0,
                    0,
                    0,
                    0,
                    0,
                    0,
                    0,
                    0,
                    0.0014598874822049357,
                    0.0014598874822049357,
                    0.0014598874822049357,
                    0.0014598874822049357,
                    0.0014598874822049357,
                    0.0014598874822049357,
                    0.0014598874822049357,
                    0.0014598874822049357,
                    0.0014598874822049357,
                    0.0014598874822049357,
                    0.0014598874822049357,
                    0.0014598874822049357,
                    0.0014598874822049357,
                    0.0014598874822049357,
                    0.0014598874822049357,
                    0.0014598874822049357,
                    0.0014598874822049357,
                    0.0014598874822049357,
                    0.0014598874822049357,
                    0.0014598874822049357,
                    0.0014598874822049357,
                    0.0014598874822049357,
                    0.0014598874822049357,
                    0.0014598874822049357,
                    0.0014598874822049357,
                    0.0014598874822049357,
                    0.0014598874822049357,
                    0.0014598874822049357,
                    0.0014598874822049357,
                    0.0014598874822049357,
                    0.0014598874822049357,
                    0.0014598874822049357,
                    0.0014598874822049357,
                    0.0014598874822049357,
                    0.0014598874822049357,
                    0.0014598874822049357,
                    0.037278775296669675,
                    0.04726097078760061,
                    0.04726097078760061,
                    0.04726097078760061,
                    0.04726097078760061,
                    0.04726097078760061,
                    0.04726097078760061,
                    0.04726097078760061,
                    0.04726097078760061,
                    0.04726097078760061,
                    0.04726097078760061,
                    0.04726097078760061,
                    0.04726097078760061,
                    0.04726097078760061,
                    0.04726097078760061,
                    0.04726097078760061,
                    0.04726097078760061,
                    0.04726097078760061,
                    0.04726097078760061,
                    0.04726097078760061,
                    0.04726097078760061,
                    0.04726097078760061,
                    0.04726097078760061,
                    0.04726097078760061,
                    0.04726097078760061,
                    0.04726097078760061,
                    0.04726097078760061,
                    0.04726097078760061,
                    0.04726097078760061,
                    0.04726097078760061,
                    0.04726097078760061,
                    0.04726097078760061,
                    0.04726097078760061,
                    0.04726097078760061,
                    0.04726097078760061,
                    0.04726097078760061,
                    0.04726097078760061,
                    0.04726097078760061,
                    0.04726097078760061,
                    0.04726097078760061,
                    0.04726097078760061,
                    0.04726097078760061,
                    0.04726097078760061,
                    0.04726097078760061,
                    0.06697972285694176,
                    -0.08665322068481507,
                    -0.08665322068481507,
                    -0.08665322068481507,
                    -0.08665322068481507,
                    -0.08665322068481507,
                    -0.08665322068481507,
                    -0.08665322068481507,
                    -0.08665322068481507,
                    -0.08665322068481507,
                    -0.08665322068481507,
                    -0.08665322068481507,
                    -0.08665322068481507,
                    -0.08665322068481507,
                    -0.07457624862737233,
                    -0.07291863918151786,
                    -0.07978592993316636,
                    -0.07978592993316636,
                    -0.07978592993316636,
                    -0.07978592993316636,
                    -0.07978592993316636,
                    -0.07978592993316636,
                    -0.07978592993316636,
                    -0.07978592993316636,
                    -0.07978592993316636,
                    -0.07978592993316636,
                    -0.07978592993316636,
                    -0.07978592993316636,
                    -0.07978592993316636,
                    -0.07978592993316636,
                    -0.07978592993316636,
                    -0.07978592993316636,
                    -0.07978592993316636,
                    -0.07978592993316636,
                    -0.07978592993316636,
                    -0.07978592993316636,
                    -0.07978592993316636,
                    -0.07978592993316636,
                    -0.07978592993316636,
                    -0.07978592993316636,
                    -0.07978592993316636,
                    -0.07978592993316636,
                    -0.07978592993316636,
                    -0.07978592993316636,
                    -0.07978592993316636,
                    -0.07978592993316636,
                    -0.07978592993316636,
                    -0.07978592993316636,
                    -0.07978592993316636,
                    -0.07978592993316636,
                    -0.07978592993316636,
                    -0.07978592993316636,
                    -0.07978592993316636,
                    -0.07978592993316636,
                    -0.07978592993316636,
                    -0.07978592993316636,
                    -0.07978592993316636,
                    -0.07978592993316636,
                    -0.07978592993316636,
                    -0.07978592993316636,
                    -0.07978592993316636,
                    -0.07978592993316636,
                    -0.07978592993316636,
                    -0.07978592993316636,
                    -0.07978592993316636,
                    -0.07978592993316636,
                    -0.07978592993316636,
                    -0.07978592993316636,
                    -0.07978592993316636,
                    -0.07978592993316636,
                    -0.07978592993316636,
                    -0.07978592993316636,
                    -0.07978592993316636,
                    -0.07978592993316636,
                    -0.07978592993316636,
                    -0.07978592993316636,
                    -0.07978592993316636,
                    -0.07978592993316636,
                    -0.07978592993316636,
                    -0.07978592993316636,
                    -0.07978592993316636,
                    -0.07978592993316636,
                    -0.07978592993316636,
                    -0.07978592993316636,
                    -0.07978592993316636,
                    -0.07978592993316636,
                    -0.07978592993316636,
                    -0.07978592993316636,
                    -0.07978592993316636,
                    -0.07978592993316636,
                    -0.07978592993316636,
                    -0.07978592993316636,
                    -0.07978592993316636,
                    -0.07978592993316636,
                    -0.07978592993316636,
                    -0.07978592993316636,
                    -0.07978592993316636,
                    -0.07978592993316636,
                    -0.07978592993316636,
                    -0.07978592993316636,
                    -0.07978592993316636,
                    -0.07978592993316636,
                    -0.07978592993316636,
                    -0.057360096662740556,
                    -0.06621739176864694,
                    -0.06621739176864694,
                    -0.06621739176864694,
                    -0.06621739176864694,
                    -0.06621739176864694,
                    -0.06621739176864694,
                    -0.11638451689850093,
                    -0.10500204574652405,
                    -0.11490893990454853,
                    -0.13746313144281386,
                    -0.11090403208820099,
                    -0.12017859354062665,
                    -0.12017859354062665,
                    -0.12017859354062665,
                    -0.12017859354062665,
                    -0.12017859354062665,
                    -0.12017859354062665,
                    -0.12017859354062665,
                    -0.12017859354062665,
                    -0.12017859354062665,
                    -0.13661099672963062,
                    -0.04509134866283382,
                    -0.07453286467568054,
                    -0.07453286467568054,
                    -0.07453286467568054,
                    -0.07453286467568054,
                    -0.07453286467568054,
                    -0.07453286467568054,
                    -0.07453286467568054,
                    -0.07453286467568054,
                    -0.07453286467568054,
                    -0.07453286467568054,
                    -0.07453286467568054,
                    -0.07453286467568054,
                    -0.07453286467568054,
                    -0.07453286467568054,
                    -0.07453286467568054,
                    -0.07453286467568054,
                    -0.07453286467568054,
                    -0.07453286467568054,
                    -0.07453286467568054,
                    -0.07453286467568054,
                    -0.07453286467568054,
                    -0.07453286467568054,
                    -0.07453286467568054,
                    -0.07453286467568054,
                    -0.07453286467568054,
                    -0.07453286467568054,
                    -0.07453286467568054,
                    -0.07453286467568054,
                    -0.07453286467568054,
                    -0.07453286467568054,
                    -0.07453286467568054,
                    -0.07453286467568054,
                    -0.07453286467568054,
                    -0.07453286467568054,
                    -0.07453286467568054,
                    -0.07453286467568054
                  ]
                }
              ],
              "layout": {
                "legend": {
                  "bgcolor": "#F5F6F9",
                  "font": {
                    "color": "#4D5663"
                  }
                },
                "paper_bgcolor": "#F5F6F9",
                "plot_bgcolor": "#F5F6F9",
                "template": {
                  "data": {
                    "bar": [
                      {
                        "error_x": {
                          "color": "#2a3f5f"
                        },
                        "error_y": {
                          "color": "#2a3f5f"
                        },
                        "marker": {
                          "line": {
                            "color": "#E5ECF6",
                            "width": 0.5
                          },
                          "pattern": {
                            "fillmode": "overlay",
                            "size": 10,
                            "solidity": 0.2
                          }
                        },
                        "type": "bar"
                      }
                    ],
                    "barpolar": [
                      {
                        "marker": {
                          "line": {
                            "color": "#E5ECF6",
                            "width": 0.5
                          },
                          "pattern": {
                            "fillmode": "overlay",
                            "size": 10,
                            "solidity": 0.2
                          }
                        },
                        "type": "barpolar"
                      }
                    ],
                    "carpet": [
                      {
                        "aaxis": {
                          "endlinecolor": "#2a3f5f",
                          "gridcolor": "white",
                          "linecolor": "white",
                          "minorgridcolor": "white",
                          "startlinecolor": "#2a3f5f"
                        },
                        "baxis": {
                          "endlinecolor": "#2a3f5f",
                          "gridcolor": "white",
                          "linecolor": "white",
                          "minorgridcolor": "white",
                          "startlinecolor": "#2a3f5f"
                        },
                        "type": "carpet"
                      }
                    ],
                    "choropleth": [
                      {
                        "colorbar": {
                          "outlinewidth": 0,
                          "ticks": ""
                        },
                        "type": "choropleth"
                      }
                    ],
                    "contour": [
                      {
                        "colorbar": {
                          "outlinewidth": 0,
                          "ticks": ""
                        },
                        "colorscale": [
                          [
                            0,
                            "#0d0887"
                          ],
                          [
                            0.1111111111111111,
                            "#46039f"
                          ],
                          [
                            0.2222222222222222,
                            "#7201a8"
                          ],
                          [
                            0.3333333333333333,
                            "#9c179e"
                          ],
                          [
                            0.4444444444444444,
                            "#bd3786"
                          ],
                          [
                            0.5555555555555556,
                            "#d8576b"
                          ],
                          [
                            0.6666666666666666,
                            "#ed7953"
                          ],
                          [
                            0.7777777777777778,
                            "#fb9f3a"
                          ],
                          [
                            0.8888888888888888,
                            "#fdca26"
                          ],
                          [
                            1,
                            "#f0f921"
                          ]
                        ],
                        "type": "contour"
                      }
                    ],
                    "contourcarpet": [
                      {
                        "colorbar": {
                          "outlinewidth": 0,
                          "ticks": ""
                        },
                        "type": "contourcarpet"
                      }
                    ],
                    "heatmap": [
                      {
                        "colorbar": {
                          "outlinewidth": 0,
                          "ticks": ""
                        },
                        "colorscale": [
                          [
                            0,
                            "#0d0887"
                          ],
                          [
                            0.1111111111111111,
                            "#46039f"
                          ],
                          [
                            0.2222222222222222,
                            "#7201a8"
                          ],
                          [
                            0.3333333333333333,
                            "#9c179e"
                          ],
                          [
                            0.4444444444444444,
                            "#bd3786"
                          ],
                          [
                            0.5555555555555556,
                            "#d8576b"
                          ],
                          [
                            0.6666666666666666,
                            "#ed7953"
                          ],
                          [
                            0.7777777777777778,
                            "#fb9f3a"
                          ],
                          [
                            0.8888888888888888,
                            "#fdca26"
                          ],
                          [
                            1,
                            "#f0f921"
                          ]
                        ],
                        "type": "heatmap"
                      }
                    ],
                    "heatmapgl": [
                      {
                        "colorbar": {
                          "outlinewidth": 0,
                          "ticks": ""
                        },
                        "colorscale": [
                          [
                            0,
                            "#0d0887"
                          ],
                          [
                            0.1111111111111111,
                            "#46039f"
                          ],
                          [
                            0.2222222222222222,
                            "#7201a8"
                          ],
                          [
                            0.3333333333333333,
                            "#9c179e"
                          ],
                          [
                            0.4444444444444444,
                            "#bd3786"
                          ],
                          [
                            0.5555555555555556,
                            "#d8576b"
                          ],
                          [
                            0.6666666666666666,
                            "#ed7953"
                          ],
                          [
                            0.7777777777777778,
                            "#fb9f3a"
                          ],
                          [
                            0.8888888888888888,
                            "#fdca26"
                          ],
                          [
                            1,
                            "#f0f921"
                          ]
                        ],
                        "type": "heatmapgl"
                      }
                    ],
                    "histogram": [
                      {
                        "marker": {
                          "pattern": {
                            "fillmode": "overlay",
                            "size": 10,
                            "solidity": 0.2
                          }
                        },
                        "type": "histogram"
                      }
                    ],
                    "histogram2d": [
                      {
                        "colorbar": {
                          "outlinewidth": 0,
                          "ticks": ""
                        },
                        "colorscale": [
                          [
                            0,
                            "#0d0887"
                          ],
                          [
                            0.1111111111111111,
                            "#46039f"
                          ],
                          [
                            0.2222222222222222,
                            "#7201a8"
                          ],
                          [
                            0.3333333333333333,
                            "#9c179e"
                          ],
                          [
                            0.4444444444444444,
                            "#bd3786"
                          ],
                          [
                            0.5555555555555556,
                            "#d8576b"
                          ],
                          [
                            0.6666666666666666,
                            "#ed7953"
                          ],
                          [
                            0.7777777777777778,
                            "#fb9f3a"
                          ],
                          [
                            0.8888888888888888,
                            "#fdca26"
                          ],
                          [
                            1,
                            "#f0f921"
                          ]
                        ],
                        "type": "histogram2d"
                      }
                    ],
                    "histogram2dcontour": [
                      {
                        "colorbar": {
                          "outlinewidth": 0,
                          "ticks": ""
                        },
                        "colorscale": [
                          [
                            0,
                            "#0d0887"
                          ],
                          [
                            0.1111111111111111,
                            "#46039f"
                          ],
                          [
                            0.2222222222222222,
                            "#7201a8"
                          ],
                          [
                            0.3333333333333333,
                            "#9c179e"
                          ],
                          [
                            0.4444444444444444,
                            "#bd3786"
                          ],
                          [
                            0.5555555555555556,
                            "#d8576b"
                          ],
                          [
                            0.6666666666666666,
                            "#ed7953"
                          ],
                          [
                            0.7777777777777778,
                            "#fb9f3a"
                          ],
                          [
                            0.8888888888888888,
                            "#fdca26"
                          ],
                          [
                            1,
                            "#f0f921"
                          ]
                        ],
                        "type": "histogram2dcontour"
                      }
                    ],
                    "mesh3d": [
                      {
                        "colorbar": {
                          "outlinewidth": 0,
                          "ticks": ""
                        },
                        "type": "mesh3d"
                      }
                    ],
                    "parcoords": [
                      {
                        "line": {
                          "colorbar": {
                            "outlinewidth": 0,
                            "ticks": ""
                          }
                        },
                        "type": "parcoords"
                      }
                    ],
                    "pie": [
                      {
                        "automargin": true,
                        "type": "pie"
                      }
                    ],
                    "scatter": [
                      {
                        "fillpattern": {
                          "fillmode": "overlay",
                          "size": 10,
                          "solidity": 0.2
                        },
                        "type": "scatter"
                      }
                    ],
                    "scatter3d": [
                      {
                        "line": {
                          "colorbar": {
                            "outlinewidth": 0,
                            "ticks": ""
                          }
                        },
                        "marker": {
                          "colorbar": {
                            "outlinewidth": 0,
                            "ticks": ""
                          }
                        },
                        "type": "scatter3d"
                      }
                    ],
                    "scattercarpet": [
                      {
                        "marker": {
                          "colorbar": {
                            "outlinewidth": 0,
                            "ticks": ""
                          }
                        },
                        "type": "scattercarpet"
                      }
                    ],
                    "scattergeo": [
                      {
                        "marker": {
                          "colorbar": {
                            "outlinewidth": 0,
                            "ticks": ""
                          }
                        },
                        "type": "scattergeo"
                      }
                    ],
                    "scattergl": [
                      {
                        "marker": {
                          "colorbar": {
                            "outlinewidth": 0,
                            "ticks": ""
                          }
                        },
                        "type": "scattergl"
                      }
                    ],
                    "scattermapbox": [
                      {
                        "marker": {
                          "colorbar": {
                            "outlinewidth": 0,
                            "ticks": ""
                          }
                        },
                        "type": "scattermapbox"
                      }
                    ],
                    "scatterpolar": [
                      {
                        "marker": {
                          "colorbar": {
                            "outlinewidth": 0,
                            "ticks": ""
                          }
                        },
                        "type": "scatterpolar"
                      }
                    ],
                    "scatterpolargl": [
                      {
                        "marker": {
                          "colorbar": {
                            "outlinewidth": 0,
                            "ticks": ""
                          }
                        },
                        "type": "scatterpolargl"
                      }
                    ],
                    "scatterternary": [
                      {
                        "marker": {
                          "colorbar": {
                            "outlinewidth": 0,
                            "ticks": ""
                          }
                        },
                        "type": "scatterternary"
                      }
                    ],
                    "surface": [
                      {
                        "colorbar": {
                          "outlinewidth": 0,
                          "ticks": ""
                        },
                        "colorscale": [
                          [
                            0,
                            "#0d0887"
                          ],
                          [
                            0.1111111111111111,
                            "#46039f"
                          ],
                          [
                            0.2222222222222222,
                            "#7201a8"
                          ],
                          [
                            0.3333333333333333,
                            "#9c179e"
                          ],
                          [
                            0.4444444444444444,
                            "#bd3786"
                          ],
                          [
                            0.5555555555555556,
                            "#d8576b"
                          ],
                          [
                            0.6666666666666666,
                            "#ed7953"
                          ],
                          [
                            0.7777777777777778,
                            "#fb9f3a"
                          ],
                          [
                            0.8888888888888888,
                            "#fdca26"
                          ],
                          [
                            1,
                            "#f0f921"
                          ]
                        ],
                        "type": "surface"
                      }
                    ],
                    "table": [
                      {
                        "cells": {
                          "fill": {
                            "color": "#EBF0F8"
                          },
                          "line": {
                            "color": "white"
                          }
                        },
                        "header": {
                          "fill": {
                            "color": "#C8D4E3"
                          },
                          "line": {
                            "color": "white"
                          }
                        },
                        "type": "table"
                      }
                    ]
                  },
                  "layout": {
                    "annotationdefaults": {
                      "arrowcolor": "#2a3f5f",
                      "arrowhead": 0,
                      "arrowwidth": 1
                    },
                    "autotypenumbers": "strict",
                    "coloraxis": {
                      "colorbar": {
                        "outlinewidth": 0,
                        "ticks": ""
                      }
                    },
                    "colorscale": {
                      "diverging": [
                        [
                          0,
                          "#8e0152"
                        ],
                        [
                          0.1,
                          "#c51b7d"
                        ],
                        [
                          0.2,
                          "#de77ae"
                        ],
                        [
                          0.3,
                          "#f1b6da"
                        ],
                        [
                          0.4,
                          "#fde0ef"
                        ],
                        [
                          0.5,
                          "#f7f7f7"
                        ],
                        [
                          0.6,
                          "#e6f5d0"
                        ],
                        [
                          0.7,
                          "#b8e186"
                        ],
                        [
                          0.8,
                          "#7fbc41"
                        ],
                        [
                          0.9,
                          "#4d9221"
                        ],
                        [
                          1,
                          "#276419"
                        ]
                      ],
                      "sequential": [
                        [
                          0,
                          "#0d0887"
                        ],
                        [
                          0.1111111111111111,
                          "#46039f"
                        ],
                        [
                          0.2222222222222222,
                          "#7201a8"
                        ],
                        [
                          0.3333333333333333,
                          "#9c179e"
                        ],
                        [
                          0.4444444444444444,
                          "#bd3786"
                        ],
                        [
                          0.5555555555555556,
                          "#d8576b"
                        ],
                        [
                          0.6666666666666666,
                          "#ed7953"
                        ],
                        [
                          0.7777777777777778,
                          "#fb9f3a"
                        ],
                        [
                          0.8888888888888888,
                          "#fdca26"
                        ],
                        [
                          1,
                          "#f0f921"
                        ]
                      ],
                      "sequentialminus": [
                        [
                          0,
                          "#0d0887"
                        ],
                        [
                          0.1111111111111111,
                          "#46039f"
                        ],
                        [
                          0.2222222222222222,
                          "#7201a8"
                        ],
                        [
                          0.3333333333333333,
                          "#9c179e"
                        ],
                        [
                          0.4444444444444444,
                          "#bd3786"
                        ],
                        [
                          0.5555555555555556,
                          "#d8576b"
                        ],
                        [
                          0.6666666666666666,
                          "#ed7953"
                        ],
                        [
                          0.7777777777777778,
                          "#fb9f3a"
                        ],
                        [
                          0.8888888888888888,
                          "#fdca26"
                        ],
                        [
                          1,
                          "#f0f921"
                        ]
                      ]
                    },
                    "colorway": [
                      "#636efa",
                      "#EF553B",
                      "#00cc96",
                      "#ab63fa",
                      "#FFA15A",
                      "#19d3f3",
                      "#FF6692",
                      "#B6E880",
                      "#FF97FF",
                      "#FECB52"
                    ],
                    "font": {
                      "color": "#2a3f5f"
                    },
                    "geo": {
                      "bgcolor": "white",
                      "lakecolor": "white",
                      "landcolor": "#E5ECF6",
                      "showlakes": true,
                      "showland": true,
                      "subunitcolor": "white"
                    },
                    "hoverlabel": {
                      "align": "left"
                    },
                    "hovermode": "closest",
                    "mapbox": {
                      "style": "light"
                    },
                    "paper_bgcolor": "white",
                    "plot_bgcolor": "#E5ECF6",
                    "polar": {
                      "angularaxis": {
                        "gridcolor": "white",
                        "linecolor": "white",
                        "ticks": ""
                      },
                      "bgcolor": "#E5ECF6",
                      "radialaxis": {
                        "gridcolor": "white",
                        "linecolor": "white",
                        "ticks": ""
                      }
                    },
                    "scene": {
                      "xaxis": {
                        "backgroundcolor": "#E5ECF6",
                        "gridcolor": "white",
                        "gridwidth": 2,
                        "linecolor": "white",
                        "showbackground": true,
                        "ticks": "",
                        "zerolinecolor": "white"
                      },
                      "yaxis": {
                        "backgroundcolor": "#E5ECF6",
                        "gridcolor": "white",
                        "gridwidth": 2,
                        "linecolor": "white",
                        "showbackground": true,
                        "ticks": "",
                        "zerolinecolor": "white"
                      },
                      "zaxis": {
                        "backgroundcolor": "#E5ECF6",
                        "gridcolor": "white",
                        "gridwidth": 2,
                        "linecolor": "white",
                        "showbackground": true,
                        "ticks": "",
                        "zerolinecolor": "white"
                      }
                    },
                    "shapedefaults": {
                      "line": {
                        "color": "#2a3f5f"
                      }
                    },
                    "ternary": {
                      "aaxis": {
                        "gridcolor": "white",
                        "linecolor": "white",
                        "ticks": ""
                      },
                      "baxis": {
                        "gridcolor": "white",
                        "linecolor": "white",
                        "ticks": ""
                      },
                      "bgcolor": "#E5ECF6",
                      "caxis": {
                        "gridcolor": "white",
                        "linecolor": "white",
                        "ticks": ""
                      }
                    },
                    "title": {
                      "x": 0.05
                    },
                    "xaxis": {
                      "automargin": true,
                      "gridcolor": "white",
                      "linecolor": "white",
                      "ticks": "",
                      "title": {
                        "standoff": 15
                      },
                      "zerolinecolor": "white",
                      "zerolinewidth": 2
                    },
                    "yaxis": {
                      "automargin": true,
                      "gridcolor": "white",
                      "linecolor": "white",
                      "ticks": "",
                      "title": {
                        "standoff": 15
                      },
                      "zerolinecolor": "white",
                      "zerolinewidth": 2
                    }
                  }
                },
                "title": {
                  "font": {
                    "color": "#4D5663"
                  }
                },
                "xaxis": {
                  "gridcolor": "#E1E5ED",
                  "showgrid": true,
                  "tickfont": {
                    "color": "#4D5663"
                  },
                  "title": {
                    "font": {
                      "color": "#4D5663"
                    },
                    "text": ""
                  },
                  "zerolinecolor": "#E1E5ED"
                },
                "yaxis": {
                  "gridcolor": "#E1E5ED",
                  "showgrid": true,
                  "tickfont": {
                    "color": "#4D5663"
                  },
                  "title": {
                    "font": {
                      "color": "#4D5663"
                    },
                    "text": ""
                  },
                  "zerolinecolor": "#E1E5ED"
                }
              }
            },
            "text/html": [
              "<div>                            <div id=\"83bf54d4-bc56-4574-80fa-de65ad745019\" class=\"plotly-graph-div\" style=\"height:525px; width:100%;\"></div>            <script type=\"text/javascript\">                require([\"plotly\"], function(Plotly) {                    window.PLOTLYENV=window.PLOTLYENV || {};\n",
              "                    window.PLOTLYENV.BASE_URL='https://plot.ly';                                    if (document.getElementById(\"83bf54d4-bc56-4574-80fa-de65ad745019\")) {                    Plotly.newPlot(                        \"83bf54d4-bc56-4574-80fa-de65ad745019\",                        [{\"line\":{\"color\":\"rgba(255, 153, 51, 1.0)\",\"dash\":\"solid\",\"shape\":\"linear\",\"width\":1.3},\"mode\":\"lines\",\"name\":\"retorno\",\"text\":\"\",\"x\":[\"2023-03-15\",\"2023-03-16\",\"2023-03-17\",\"2023-03-20\",\"2023-03-21\",\"2023-03-22\",\"2023-03-23\",\"2023-03-24\",\"2023-03-27\",\"2023-03-28\",\"2023-03-29\",\"2023-03-30\",\"2023-03-31\",\"2023-04-03\",\"2023-04-04\",\"2023-04-05\",\"2023-04-06\",\"2023-04-10\",\"2023-04-11\",\"2023-04-12\",\"2023-04-13\",\"2023-04-14\",\"2023-04-17\",\"2023-04-18\",\"2023-04-19\",\"2023-04-20\",\"2023-04-24\",\"2023-04-25\",\"2023-04-26\",\"2023-04-27\",\"2023-04-28\",\"2023-05-02\",\"2023-05-03\",\"2023-05-04\",\"2023-05-05\",\"2023-05-08\",\"2023-05-09\",\"2023-05-10\",\"2023-05-11\",\"2023-05-12\",\"2023-05-15\",\"2023-05-16\",\"2023-05-17\",\"2023-05-18\",\"2023-05-19\",\"2023-05-22\",\"2023-05-23\",\"2023-05-24\",\"2023-05-25\",\"2023-05-26\",\"2023-05-29\",\"2023-05-30\",\"2023-05-31\",\"2023-06-01\",\"2023-06-02\",\"2023-06-05\",\"2023-06-06\",\"2023-06-07\",\"2023-06-09\",\"2023-06-12\",\"2023-06-13\",\"2023-06-14\",\"2023-06-15\",\"2023-06-16\",\"2023-06-19\",\"2023-06-20\",\"2023-06-21\",\"2023-06-22\",\"2023-06-23\",\"2023-06-26\",\"2023-06-27\",\"2023-06-28\",\"2023-06-29\",\"2023-06-30\",\"2023-07-03\",\"2023-07-04\",\"2023-07-05\",\"2023-07-06\",\"2023-07-07\",\"2023-07-10\",\"2023-07-11\",\"2023-07-12\",\"2023-07-13\",\"2023-07-14\",\"2023-07-17\",\"2023-07-18\",\"2023-07-19\",\"2023-07-20\",\"2023-07-21\",\"2023-07-24\",\"2023-07-25\",\"2023-07-26\",\"2023-07-27\",\"2023-07-28\",\"2023-07-31\",\"2023-08-01\",\"2023-08-02\",\"2023-08-03\",\"2023-08-04\",\"2023-08-07\",\"2023-08-08\",\"2023-08-09\",\"2023-08-10\",\"2023-08-11\",\"2023-08-14\",\"2023-08-15\",\"2023-08-16\",\"2023-08-17\",\"2023-08-18\",\"2023-08-21\",\"2023-08-22\",\"2023-08-23\",\"2023-08-24\",\"2023-08-25\",\"2023-08-28\",\"2023-08-29\",\"2023-08-30\",\"2023-08-31\",\"2023-09-01\",\"2023-09-04\",\"2023-09-05\",\"2023-09-06\",\"2023-09-08\",\"2023-09-11\",\"2023-09-12\",\"2023-09-13\",\"2023-09-14\",\"2023-09-15\",\"2023-09-18\",\"2023-09-19\",\"2023-09-20\",\"2023-09-21\",\"2023-09-22\",\"2023-09-25\",\"2023-09-26\",\"2023-09-27\",\"2023-09-28\",\"2023-09-29\",\"2023-10-02\",\"2023-10-03\",\"2023-10-04\",\"2023-10-05\",\"2023-10-06\",\"2023-10-09\",\"2023-10-10\",\"2023-10-11\",\"2023-10-13\",\"2023-10-16\",\"2023-10-17\",\"2023-10-18\",\"2023-10-19\",\"2023-10-20\",\"2023-10-23\",\"2023-10-24\",\"2023-10-25\",\"2023-10-26\",\"2023-10-27\",\"2023-10-30\",\"2023-10-31\",\"2023-11-01\",\"2023-11-03\",\"2023-11-06\",\"2023-11-07\",\"2023-11-08\",\"2023-11-09\",\"2023-11-10\",\"2023-11-13\",\"2023-11-14\",\"2023-11-16\",\"2023-11-17\",\"2023-11-20\",\"2023-11-21\",\"2023-11-22\",\"2023-11-23\",\"2023-11-24\",\"2023-11-27\",\"2023-11-28\",\"2023-11-29\",\"2023-11-30\",\"2023-12-01\",\"2023-12-04\",\"2023-12-05\",\"2023-12-06\",\"2023-12-07\",\"2023-12-08\",\"2023-12-11\",\"2023-12-12\",\"2023-12-13\",\"2023-12-14\",\"2023-12-15\",\"2023-12-18\",\"2023-12-19\",\"2023-12-20\",\"2023-12-21\",\"2023-12-22\",\"2023-12-26\",\"2023-12-27\",\"2023-12-28\",\"2024-01-02\",\"2024-01-03\",\"2024-01-04\",\"2024-01-05\",\"2024-01-08\",\"2024-01-09\",\"2024-01-10\",\"2024-01-11\",\"2024-01-12\",\"2024-01-15\",\"2024-01-16\",\"2024-01-17\",\"2024-01-18\",\"2024-01-19\",\"2024-01-22\",\"2024-01-23\",\"2024-01-24\",\"2024-01-25\",\"2024-01-26\",\"2024-01-29\",\"2024-01-30\",\"2024-01-31\",\"2024-02-01\",\"2024-02-02\",\"2024-02-05\",\"2024-02-06\",\"2024-02-07\",\"2024-02-08\",\"2024-02-09\",\"2024-02-14\",\"2024-02-15\",\"2024-02-16\",\"2024-02-19\",\"2024-02-20\",\"2024-02-21\",\"2024-02-22\",\"2024-02-23\",\"2024-02-26\",\"2024-02-27\",\"2024-02-28\",\"2024-02-29\",\"2024-03-01\",\"2024-03-04\",\"2024-03-05\",\"2024-03-06\",\"2024-03-07\",\"2024-03-08\",\"2024-03-11\",\"2024-03-12\",\"2024-03-13\",\"2024-03-14\",\"2024-03-15\"],\"y\":[\"\",0.05675797719401965,0.04665701157473401,0.0024049656016706944,-0.002886068814273335,-0.047619126256382205,-0.06397314922970276,-0.01154409176997917,-0.010101057362842614,-0.010101057362842614,0.016353931229763585,0.06782105749495315,0.0697450116275784,0.026936000061651644,0.057238988663065093,0.021644965645707614,0.05002400011449604,0.06204901160996368,0.09187108048588843,0.11640202320231241,0.17604616095416215,0.16931209213108156,0.18759016098058434,0.2063491495555756,0.17604616095416215,0.2506011955286389,0.32852331038643445,0.28667623001504183,0.3516113104392786,0.3588262989878479,0.5137084140217911,0.6421355404631282,0.5310244599332028,0.47378537952658073,0.587301517401734,0.5839345288619722,0.670995678144519,0.7027417011530692,0.7344877241616192,0.7282346668075841,0.7316016553473459,0.712361563559752,0.5685425288267423,0.6406925977995481,0.699374712613307,0.7157285520995136,0.701298575002375,0.6859065749671456,0.7455507127189955,0.7570946210018608,0.7849927357451605,0.8619527359213079,0.827801747311087,0.879749885045322,0.8734968276912869,0.8860027589122432,0.9644058852390844,0.8417508046827369,0.8273208275855983,0.8138526899394369,0.7965366440280253,0.8388647358684636,0.837421793204884,0.8518517703020225,0.8759017932929576,0.8465607358860783,0.9533428966817079,0.9124577475048494,1.0519479542471202,0.9716209655312107,0.9721018852566994,1.0105818853447732,1.0995670805035025,1.0947569658130472,1.1091869429101853,1.0832130575301817,1.2207790349091563,1.3439152186781063,1.5185184369686886,1.466089379508965,1.5747954026936628,1.5622894714727065,1.522366345233939,1.4583933794913504,1.3809522761026005,1.366522299005462,1.3039922759264528,1.3246753103776263,1.3684463448816442,1.0274170115306962,1.063010942804497,1.073593011636385,1.016353839486206,0.9759499770090638,0.9778738393981321,0.962000919637414,0.9682537935043354,0.9793169655488259,0.9567098852214702,0.8999518162838935,0.8691678162134344,0.8552187588417846,0.8797498850453225,0.8831168735850843,0.8691678162134344,0.9028378850981669,1.1284270346977796,1.1226550805563469,1.1038960919813556,0.9095718621776907,1.084175080468273,1.1226550805563469,1.1654640921222734,1.1726789889272853,1.1957671724672436,1.2852331038643472,1.1664261150603639,1.0663779313442578,1.0158729197607164,1.0909090575477958,1.0798460689904195,0.9865318623538373,0.9624818393629018,1.00336698853976,1.0649349886806778,1.1067819773085135,1.1000480002289899,0.948051862265763,0.9624818393629013,0.933140781956022,0.9475709425402745,0.9100527819031778,0.9475709425402745,0.9932658394333604,0.9961519082476336,0.9725828049821867,1.0086578394685897,1.1164020232023097,1.0043288279907365,0.9624818393629009,1.031264919795945,1.0543529198487893,1.0423279083533217,1.0658970116187683,1.1164020232023097,0.970658942593118,0.9201537475224626,0.9278499310271913,0.9124577475048479,0.9105338851157796,0.9191919080714857,0.9470898393276717,0.9586339310976506,0.9451657934514892,0.9042808277617447,1.0202019312385682,0.9653679081771738,0.9571908049469566,0.9571908049469566,0.9980759541238149,1.0322269427340354,1.028378850981671,1.0726309886982914,1.0909090575477944,1.0769600001761446,1.1226550805563447,1.093794942874954,1.1293890576358687,1.1139970576006393,1.0634920460170978,1.0870609657954309,1.1202501149546746,1.2515632184667282,1.2943722300326552,1.2506011955286374,1.2958151726962348,1.3525732416338117,1.3535352645719025,1.4290523220844702,1.5796055173841173,1.5132274025527437,1.6002885518352907,1.5680614256141383,1.5353533796674972,1.4329004138368346,1.4540643680134968,1.478114391004432,1.4593554024294408,1.3809522761025996,1.2886002758912225,1.3487253333685607,1.4059643220316258,1.38335724170427,1.3352571957223995,1.1909570577767874,1.175565057741558,1.1645020691841812,1.1308320002994492,1.016353839486205,1.0423279083533226,1.0197210115130808,0.9682537935043345,1.0288599541942753,1.0076960000176132,0.9610388966993222,0.9528617934691048,0.9398749425226598,0.9552669425578892,0.9023567818855631,0.8720537015405927,0.8576237244434541,0.8542567359036923,0.8196248275679829,1.0125059312209541,0.9504568278674335,0.9682537935043338,0.955266942557889,0.92977379341626,0.8975468506822213,0.9605577934867191,0.9408367819736367,0.9413178851862392,0.9518999540181272,1.031746023008548,1.0331889656721276,0.9639249655135949,0.9143817933810305,0.9057237704253247,0.9240018392748275,0.9485327819912515,0.9802788049998017,1.0125059312209541,0.9711398623186072,0.9870129655664392,0.9860509426283481,0.9095718621776891,0.9870129655664392,0.8787878621072303,0.8672437703372511,0.8667628506117626,1.055314942786881,1.0442519542295043,1.0865800460699426,1.0836939772556695,1.0586819313266433,0.9547858393452873,0.9456468966640927,0.952861793469105,0.9292928736907722,0.8778258391691396],\"type\":\"scatter\"},{\"line\":{\"color\":\"rgba(55, 128, 191, 1.0)\",\"dash\":\"solid\",\"shape\":\"linear\",\"width\":1.3},\"mode\":\"lines\",\"name\":\"retorno_estrategia\",\"text\":\"\",\"x\":[\"2023-03-15\",\"2023-03-16\",\"2023-03-17\",\"2023-03-20\",\"2023-03-21\",\"2023-03-22\",\"2023-03-23\",\"2023-03-24\",\"2023-03-27\",\"2023-03-28\",\"2023-03-29\",\"2023-03-30\",\"2023-03-31\",\"2023-04-03\",\"2023-04-04\",\"2023-04-05\",\"2023-04-06\",\"2023-04-10\",\"2023-04-11\",\"2023-04-12\",\"2023-04-13\",\"2023-04-14\",\"2023-04-17\",\"2023-04-18\",\"2023-04-19\",\"2023-04-20\",\"2023-04-24\",\"2023-04-25\",\"2023-04-26\",\"2023-04-27\",\"2023-04-28\",\"2023-05-02\",\"2023-05-03\",\"2023-05-04\",\"2023-05-05\",\"2023-05-08\",\"2023-05-09\",\"2023-05-10\",\"2023-05-11\",\"2023-05-12\",\"2023-05-15\",\"2023-05-16\",\"2023-05-17\",\"2023-05-18\",\"2023-05-19\",\"2023-05-22\",\"2023-05-23\",\"2023-05-24\",\"2023-05-25\",\"2023-05-26\",\"2023-05-29\",\"2023-05-30\",\"2023-05-31\",\"2023-06-01\",\"2023-06-02\",\"2023-06-05\",\"2023-06-06\",\"2023-06-07\",\"2023-06-09\",\"2023-06-12\",\"2023-06-13\",\"2023-06-14\",\"2023-06-15\",\"2023-06-16\",\"2023-06-19\",\"2023-06-20\",\"2023-06-21\",\"2023-06-22\",\"2023-06-23\",\"2023-06-26\",\"2023-06-27\",\"2023-06-28\",\"2023-06-29\",\"2023-06-30\",\"2023-07-03\",\"2023-07-04\",\"2023-07-05\",\"2023-07-06\",\"2023-07-07\",\"2023-07-10\",\"2023-07-11\",\"2023-07-12\",\"2023-07-13\",\"2023-07-14\",\"2023-07-17\",\"2023-07-18\",\"2023-07-19\",\"2023-07-20\",\"2023-07-21\",\"2023-07-24\",\"2023-07-25\",\"2023-07-26\",\"2023-07-27\",\"2023-07-28\",\"2023-07-31\",\"2023-08-01\",\"2023-08-02\",\"2023-08-03\",\"2023-08-04\",\"2023-08-07\",\"2023-08-08\",\"2023-08-09\",\"2023-08-10\",\"2023-08-11\",\"2023-08-14\",\"2023-08-15\",\"2023-08-16\",\"2023-08-17\",\"2023-08-18\",\"2023-08-21\",\"2023-08-22\",\"2023-08-23\",\"2023-08-24\",\"2023-08-25\",\"2023-08-28\",\"2023-08-29\",\"2023-08-30\",\"2023-08-31\",\"2023-09-01\",\"2023-09-04\",\"2023-09-05\",\"2023-09-06\",\"2023-09-08\",\"2023-09-11\",\"2023-09-12\",\"2023-09-13\",\"2023-09-14\",\"2023-09-15\",\"2023-09-18\",\"2023-09-19\",\"2023-09-20\",\"2023-09-21\",\"2023-09-22\",\"2023-09-25\",\"2023-09-26\",\"2023-09-27\",\"2023-09-28\",\"2023-09-29\",\"2023-10-02\",\"2023-10-03\",\"2023-10-04\",\"2023-10-05\",\"2023-10-06\",\"2023-10-09\",\"2023-10-10\",\"2023-10-11\",\"2023-10-13\",\"2023-10-16\",\"2023-10-17\",\"2023-10-18\",\"2023-10-19\",\"2023-10-20\",\"2023-10-23\",\"2023-10-24\",\"2023-10-25\",\"2023-10-26\",\"2023-10-27\",\"2023-10-30\",\"2023-10-31\",\"2023-11-01\",\"2023-11-03\",\"2023-11-06\",\"2023-11-07\",\"2023-11-08\",\"2023-11-09\",\"2023-11-10\",\"2023-11-13\",\"2023-11-14\",\"2023-11-16\",\"2023-11-17\",\"2023-11-20\",\"2023-11-21\",\"2023-11-22\",\"2023-11-23\",\"2023-11-24\",\"2023-11-27\",\"2023-11-28\",\"2023-11-29\",\"2023-11-30\",\"2023-12-01\",\"2023-12-04\",\"2023-12-05\",\"2023-12-06\",\"2023-12-07\",\"2023-12-08\",\"2023-12-11\",\"2023-12-12\",\"2023-12-13\",\"2023-12-14\",\"2023-12-15\",\"2023-12-18\",\"2023-12-19\",\"2023-12-20\",\"2023-12-21\",\"2023-12-22\",\"2023-12-26\",\"2023-12-27\",\"2023-12-28\",\"2024-01-02\",\"2024-01-03\",\"2024-01-04\",\"2024-01-05\",\"2024-01-08\",\"2024-01-09\",\"2024-01-10\",\"2024-01-11\",\"2024-01-12\",\"2024-01-15\",\"2024-01-16\",\"2024-01-17\",\"2024-01-18\",\"2024-01-19\",\"2024-01-22\",\"2024-01-23\",\"2024-01-24\",\"2024-01-25\",\"2024-01-26\",\"2024-01-29\",\"2024-01-30\",\"2024-01-31\",\"2024-02-01\",\"2024-02-02\",\"2024-02-05\",\"2024-02-06\",\"2024-02-07\",\"2024-02-08\",\"2024-02-09\",\"2024-02-14\",\"2024-02-15\",\"2024-02-16\",\"2024-02-19\",\"2024-02-20\",\"2024-02-21\",\"2024-02-22\",\"2024-02-23\",\"2024-02-26\",\"2024-02-27\",\"2024-02-28\",\"2024-02-29\",\"2024-03-01\",\"2024-03-04\",\"2024-03-05\",\"2024-03-06\",\"2024-03-07\",\"2024-03-08\",\"2024-03-11\",\"2024-03-12\",\"2024-03-13\",\"2024-03-14\",\"2024-03-15\"],\"y\":[0.0,0.0,0.0,0.0,0.0,0.0,0.0,0.0,0.0014598874822049357,0.0014598874822049357,0.0014598874822049357,0.0014598874822049357,0.0014598874822049357,0.0014598874822049357,0.0014598874822049357,0.0014598874822049357,0.0014598874822049357,0.0014598874822049357,0.0014598874822049357,0.0014598874822049357,0.0014598874822049357,0.0014598874822049357,0.0014598874822049357,0.0014598874822049357,0.0014598874822049357,0.0014598874822049357,0.0014598874822049357,0.0014598874822049357,0.0014598874822049357,0.0014598874822049357,0.0014598874822049357,0.0014598874822049357,0.0014598874822049357,0.0014598874822049357,0.0014598874822049357,0.0014598874822049357,0.0014598874822049357,0.0014598874822049357,0.0014598874822049357,0.0014598874822049357,0.0014598874822049357,0.0014598874822049357,0.0014598874822049357,0.0014598874822049357,0.037278775296669675,0.04726097078760061,0.04726097078760061,0.04726097078760061,0.04726097078760061,0.04726097078760061,0.04726097078760061,0.04726097078760061,0.04726097078760061,0.04726097078760061,0.04726097078760061,0.04726097078760061,0.04726097078760061,0.04726097078760061,0.04726097078760061,0.04726097078760061,0.04726097078760061,0.04726097078760061,0.04726097078760061,0.04726097078760061,0.04726097078760061,0.04726097078760061,0.04726097078760061,0.04726097078760061,0.04726097078760061,0.04726097078760061,0.04726097078760061,0.04726097078760061,0.04726097078760061,0.04726097078760061,0.04726097078760061,0.04726097078760061,0.04726097078760061,0.04726097078760061,0.04726097078760061,0.04726097078760061,0.04726097078760061,0.04726097078760061,0.04726097078760061,0.04726097078760061,0.04726097078760061,0.04726097078760061,0.04726097078760061,0.04726097078760061,0.06697972285694176,-0.08665322068481507,-0.08665322068481507,-0.08665322068481507,-0.08665322068481507,-0.08665322068481507,-0.08665322068481507,-0.08665322068481507,-0.08665322068481507,-0.08665322068481507,-0.08665322068481507,-0.08665322068481507,-0.08665322068481507,-0.08665322068481507,-0.07457624862737233,-0.07291863918151786,-0.07978592993316636,-0.07978592993316636,-0.07978592993316636,-0.07978592993316636,-0.07978592993316636,-0.07978592993316636,-0.07978592993316636,-0.07978592993316636,-0.07978592993316636,-0.07978592993316636,-0.07978592993316636,-0.07978592993316636,-0.07978592993316636,-0.07978592993316636,-0.07978592993316636,-0.07978592993316636,-0.07978592993316636,-0.07978592993316636,-0.07978592993316636,-0.07978592993316636,-0.07978592993316636,-0.07978592993316636,-0.07978592993316636,-0.07978592993316636,-0.07978592993316636,-0.07978592993316636,-0.07978592993316636,-0.07978592993316636,-0.07978592993316636,-0.07978592993316636,-0.07978592993316636,-0.07978592993316636,-0.07978592993316636,-0.07978592993316636,-0.07978592993316636,-0.07978592993316636,-0.07978592993316636,-0.07978592993316636,-0.07978592993316636,-0.07978592993316636,-0.07978592993316636,-0.07978592993316636,-0.07978592993316636,-0.07978592993316636,-0.07978592993316636,-0.07978592993316636,-0.07978592993316636,-0.07978592993316636,-0.07978592993316636,-0.07978592993316636,-0.07978592993316636,-0.07978592993316636,-0.07978592993316636,-0.07978592993316636,-0.07978592993316636,-0.07978592993316636,-0.07978592993316636,-0.07978592993316636,-0.07978592993316636,-0.07978592993316636,-0.07978592993316636,-0.07978592993316636,-0.07978592993316636,-0.07978592993316636,-0.07978592993316636,-0.07978592993316636,-0.07978592993316636,-0.07978592993316636,-0.07978592993316636,-0.07978592993316636,-0.07978592993316636,-0.07978592993316636,-0.07978592993316636,-0.07978592993316636,-0.07978592993316636,-0.07978592993316636,-0.07978592993316636,-0.07978592993316636,-0.07978592993316636,-0.07978592993316636,-0.07978592993316636,-0.07978592993316636,-0.07978592993316636,-0.07978592993316636,-0.07978592993316636,-0.07978592993316636,-0.07978592993316636,-0.057360096662740556,-0.06621739176864694,-0.06621739176864694,-0.06621739176864694,-0.06621739176864694,-0.06621739176864694,-0.06621739176864694,-0.11638451689850093,-0.10500204574652405,-0.11490893990454853,-0.13746313144281386,-0.11090403208820099,-0.12017859354062665,-0.12017859354062665,-0.12017859354062665,-0.12017859354062665,-0.12017859354062665,-0.12017859354062665,-0.12017859354062665,-0.12017859354062665,-0.12017859354062665,-0.13661099672963062,-0.04509134866283382,-0.07453286467568054,-0.07453286467568054,-0.07453286467568054,-0.07453286467568054,-0.07453286467568054,-0.07453286467568054,-0.07453286467568054,-0.07453286467568054,-0.07453286467568054,-0.07453286467568054,-0.07453286467568054,-0.07453286467568054,-0.07453286467568054,-0.07453286467568054,-0.07453286467568054,-0.07453286467568054,-0.07453286467568054,-0.07453286467568054,-0.07453286467568054,-0.07453286467568054,-0.07453286467568054,-0.07453286467568054,-0.07453286467568054,-0.07453286467568054,-0.07453286467568054,-0.07453286467568054,-0.07453286467568054,-0.07453286467568054,-0.07453286467568054,-0.07453286467568054,-0.07453286467568054,-0.07453286467568054,-0.07453286467568054,-0.07453286467568054,-0.07453286467568054,-0.07453286467568054],\"type\":\"scatter\"}],                        {\"legend\":{\"bgcolor\":\"#F5F6F9\",\"font\":{\"color\":\"#4D5663\"}},\"paper_bgcolor\":\"#F5F6F9\",\"plot_bgcolor\":\"#F5F6F9\",\"template\":{\"data\":{\"barpolar\":[{\"marker\":{\"line\":{\"color\":\"#E5ECF6\",\"width\":0.5},\"pattern\":{\"fillmode\":\"overlay\",\"size\":10,\"solidity\":0.2}},\"type\":\"barpolar\"}],\"bar\":[{\"error_x\":{\"color\":\"#2a3f5f\"},\"error_y\":{\"color\":\"#2a3f5f\"},\"marker\":{\"line\":{\"color\":\"#E5ECF6\",\"width\":0.5},\"pattern\":{\"fillmode\":\"overlay\",\"size\":10,\"solidity\":0.2}},\"type\":\"bar\"}],\"carpet\":[{\"aaxis\":{\"endlinecolor\":\"#2a3f5f\",\"gridcolor\":\"white\",\"linecolor\":\"white\",\"minorgridcolor\":\"white\",\"startlinecolor\":\"#2a3f5f\"},\"baxis\":{\"endlinecolor\":\"#2a3f5f\",\"gridcolor\":\"white\",\"linecolor\":\"white\",\"minorgridcolor\":\"white\",\"startlinecolor\":\"#2a3f5f\"},\"type\":\"carpet\"}],\"choropleth\":[{\"colorbar\":{\"outlinewidth\":0,\"ticks\":\"\"},\"type\":\"choropleth\"}],\"contourcarpet\":[{\"colorbar\":{\"outlinewidth\":0,\"ticks\":\"\"},\"type\":\"contourcarpet\"}],\"contour\":[{\"colorbar\":{\"outlinewidth\":0,\"ticks\":\"\"},\"colorscale\":[[0.0,\"#0d0887\"],[0.1111111111111111,\"#46039f\"],[0.2222222222222222,\"#7201a8\"],[0.3333333333333333,\"#9c179e\"],[0.4444444444444444,\"#bd3786\"],[0.5555555555555556,\"#d8576b\"],[0.6666666666666666,\"#ed7953\"],[0.7777777777777778,\"#fb9f3a\"],[0.8888888888888888,\"#fdca26\"],[1.0,\"#f0f921\"]],\"type\":\"contour\"}],\"heatmapgl\":[{\"colorbar\":{\"outlinewidth\":0,\"ticks\":\"\"},\"colorscale\":[[0.0,\"#0d0887\"],[0.1111111111111111,\"#46039f\"],[0.2222222222222222,\"#7201a8\"],[0.3333333333333333,\"#9c179e\"],[0.4444444444444444,\"#bd3786\"],[0.5555555555555556,\"#d8576b\"],[0.6666666666666666,\"#ed7953\"],[0.7777777777777778,\"#fb9f3a\"],[0.8888888888888888,\"#fdca26\"],[1.0,\"#f0f921\"]],\"type\":\"heatmapgl\"}],\"heatmap\":[{\"colorbar\":{\"outlinewidth\":0,\"ticks\":\"\"},\"colorscale\":[[0.0,\"#0d0887\"],[0.1111111111111111,\"#46039f\"],[0.2222222222222222,\"#7201a8\"],[0.3333333333333333,\"#9c179e\"],[0.4444444444444444,\"#bd3786\"],[0.5555555555555556,\"#d8576b\"],[0.6666666666666666,\"#ed7953\"],[0.7777777777777778,\"#fb9f3a\"],[0.8888888888888888,\"#fdca26\"],[1.0,\"#f0f921\"]],\"type\":\"heatmap\"}],\"histogram2dcontour\":[{\"colorbar\":{\"outlinewidth\":0,\"ticks\":\"\"},\"colorscale\":[[0.0,\"#0d0887\"],[0.1111111111111111,\"#46039f\"],[0.2222222222222222,\"#7201a8\"],[0.3333333333333333,\"#9c179e\"],[0.4444444444444444,\"#bd3786\"],[0.5555555555555556,\"#d8576b\"],[0.6666666666666666,\"#ed7953\"],[0.7777777777777778,\"#fb9f3a\"],[0.8888888888888888,\"#fdca26\"],[1.0,\"#f0f921\"]],\"type\":\"histogram2dcontour\"}],\"histogram2d\":[{\"colorbar\":{\"outlinewidth\":0,\"ticks\":\"\"},\"colorscale\":[[0.0,\"#0d0887\"],[0.1111111111111111,\"#46039f\"],[0.2222222222222222,\"#7201a8\"],[0.3333333333333333,\"#9c179e\"],[0.4444444444444444,\"#bd3786\"],[0.5555555555555556,\"#d8576b\"],[0.6666666666666666,\"#ed7953\"],[0.7777777777777778,\"#fb9f3a\"],[0.8888888888888888,\"#fdca26\"],[1.0,\"#f0f921\"]],\"type\":\"histogram2d\"}],\"histogram\":[{\"marker\":{\"pattern\":{\"fillmode\":\"overlay\",\"size\":10,\"solidity\":0.2}},\"type\":\"histogram\"}],\"mesh3d\":[{\"colorbar\":{\"outlinewidth\":0,\"ticks\":\"\"},\"type\":\"mesh3d\"}],\"parcoords\":[{\"line\":{\"colorbar\":{\"outlinewidth\":0,\"ticks\":\"\"}},\"type\":\"parcoords\"}],\"pie\":[{\"automargin\":true,\"type\":\"pie\"}],\"scatter3d\":[{\"line\":{\"colorbar\":{\"outlinewidth\":0,\"ticks\":\"\"}},\"marker\":{\"colorbar\":{\"outlinewidth\":0,\"ticks\":\"\"}},\"type\":\"scatter3d\"}],\"scattercarpet\":[{\"marker\":{\"colorbar\":{\"outlinewidth\":0,\"ticks\":\"\"}},\"type\":\"scattercarpet\"}],\"scattergeo\":[{\"marker\":{\"colorbar\":{\"outlinewidth\":0,\"ticks\":\"\"}},\"type\":\"scattergeo\"}],\"scattergl\":[{\"marker\":{\"colorbar\":{\"outlinewidth\":0,\"ticks\":\"\"}},\"type\":\"scattergl\"}],\"scattermapbox\":[{\"marker\":{\"colorbar\":{\"outlinewidth\":0,\"ticks\":\"\"}},\"type\":\"scattermapbox\"}],\"scatterpolargl\":[{\"marker\":{\"colorbar\":{\"outlinewidth\":0,\"ticks\":\"\"}},\"type\":\"scatterpolargl\"}],\"scatterpolar\":[{\"marker\":{\"colorbar\":{\"outlinewidth\":0,\"ticks\":\"\"}},\"type\":\"scatterpolar\"}],\"scatter\":[{\"fillpattern\":{\"fillmode\":\"overlay\",\"size\":10,\"solidity\":0.2},\"type\":\"scatter\"}],\"scatterternary\":[{\"marker\":{\"colorbar\":{\"outlinewidth\":0,\"ticks\":\"\"}},\"type\":\"scatterternary\"}],\"surface\":[{\"colorbar\":{\"outlinewidth\":0,\"ticks\":\"\"},\"colorscale\":[[0.0,\"#0d0887\"],[0.1111111111111111,\"#46039f\"],[0.2222222222222222,\"#7201a8\"],[0.3333333333333333,\"#9c179e\"],[0.4444444444444444,\"#bd3786\"],[0.5555555555555556,\"#d8576b\"],[0.6666666666666666,\"#ed7953\"],[0.7777777777777778,\"#fb9f3a\"],[0.8888888888888888,\"#fdca26\"],[1.0,\"#f0f921\"]],\"type\":\"surface\"}],\"table\":[{\"cells\":{\"fill\":{\"color\":\"#EBF0F8\"},\"line\":{\"color\":\"white\"}},\"header\":{\"fill\":{\"color\":\"#C8D4E3\"},\"line\":{\"color\":\"white\"}},\"type\":\"table\"}]},\"layout\":{\"annotationdefaults\":{\"arrowcolor\":\"#2a3f5f\",\"arrowhead\":0,\"arrowwidth\":1},\"autotypenumbers\":\"strict\",\"coloraxis\":{\"colorbar\":{\"outlinewidth\":0,\"ticks\":\"\"}},\"colorscale\":{\"diverging\":[[0,\"#8e0152\"],[0.1,\"#c51b7d\"],[0.2,\"#de77ae\"],[0.3,\"#f1b6da\"],[0.4,\"#fde0ef\"],[0.5,\"#f7f7f7\"],[0.6,\"#e6f5d0\"],[0.7,\"#b8e186\"],[0.8,\"#7fbc41\"],[0.9,\"#4d9221\"],[1,\"#276419\"]],\"sequential\":[[0.0,\"#0d0887\"],[0.1111111111111111,\"#46039f\"],[0.2222222222222222,\"#7201a8\"],[0.3333333333333333,\"#9c179e\"],[0.4444444444444444,\"#bd3786\"],[0.5555555555555556,\"#d8576b\"],[0.6666666666666666,\"#ed7953\"],[0.7777777777777778,\"#fb9f3a\"],[0.8888888888888888,\"#fdca26\"],[1.0,\"#f0f921\"]],\"sequentialminus\":[[0.0,\"#0d0887\"],[0.1111111111111111,\"#46039f\"],[0.2222222222222222,\"#7201a8\"],[0.3333333333333333,\"#9c179e\"],[0.4444444444444444,\"#bd3786\"],[0.5555555555555556,\"#d8576b\"],[0.6666666666666666,\"#ed7953\"],[0.7777777777777778,\"#fb9f3a\"],[0.8888888888888888,\"#fdca26\"],[1.0,\"#f0f921\"]]},\"colorway\":[\"#636efa\",\"#EF553B\",\"#00cc96\",\"#ab63fa\",\"#FFA15A\",\"#19d3f3\",\"#FF6692\",\"#B6E880\",\"#FF97FF\",\"#FECB52\"],\"font\":{\"color\":\"#2a3f5f\"},\"geo\":{\"bgcolor\":\"white\",\"lakecolor\":\"white\",\"landcolor\":\"#E5ECF6\",\"showlakes\":true,\"showland\":true,\"subunitcolor\":\"white\"},\"hoverlabel\":{\"align\":\"left\"},\"hovermode\":\"closest\",\"mapbox\":{\"style\":\"light\"},\"paper_bgcolor\":\"white\",\"plot_bgcolor\":\"#E5ECF6\",\"polar\":{\"angularaxis\":{\"gridcolor\":\"white\",\"linecolor\":\"white\",\"ticks\":\"\"},\"bgcolor\":\"#E5ECF6\",\"radialaxis\":{\"gridcolor\":\"white\",\"linecolor\":\"white\",\"ticks\":\"\"}},\"scene\":{\"xaxis\":{\"backgroundcolor\":\"#E5ECF6\",\"gridcolor\":\"white\",\"gridwidth\":2,\"linecolor\":\"white\",\"showbackground\":true,\"ticks\":\"\",\"zerolinecolor\":\"white\"},\"yaxis\":{\"backgroundcolor\":\"#E5ECF6\",\"gridcolor\":\"white\",\"gridwidth\":2,\"linecolor\":\"white\",\"showbackground\":true,\"ticks\":\"\",\"zerolinecolor\":\"white\"},\"zaxis\":{\"backgroundcolor\":\"#E5ECF6\",\"gridcolor\":\"white\",\"gridwidth\":2,\"linecolor\":\"white\",\"showbackground\":true,\"ticks\":\"\",\"zerolinecolor\":\"white\"}},\"shapedefaults\":{\"line\":{\"color\":\"#2a3f5f\"}},\"ternary\":{\"aaxis\":{\"gridcolor\":\"white\",\"linecolor\":\"white\",\"ticks\":\"\"},\"baxis\":{\"gridcolor\":\"white\",\"linecolor\":\"white\",\"ticks\":\"\"},\"bgcolor\":\"#E5ECF6\",\"caxis\":{\"gridcolor\":\"white\",\"linecolor\":\"white\",\"ticks\":\"\"}},\"title\":{\"x\":0.05},\"xaxis\":{\"automargin\":true,\"gridcolor\":\"white\",\"linecolor\":\"white\",\"ticks\":\"\",\"title\":{\"standoff\":15},\"zerolinecolor\":\"white\",\"zerolinewidth\":2},\"yaxis\":{\"automargin\":true,\"gridcolor\":\"white\",\"linecolor\":\"white\",\"ticks\":\"\",\"title\":{\"standoff\":15},\"zerolinecolor\":\"white\",\"zerolinewidth\":2}}},\"title\":{\"font\":{\"color\":\"#4D5663\"}},\"xaxis\":{\"gridcolor\":\"#E1E5ED\",\"showgrid\":true,\"tickfont\":{\"color\":\"#4D5663\"},\"title\":{\"font\":{\"color\":\"#4D5663\"},\"text\":\"\"},\"zerolinecolor\":\"#E1E5ED\"},\"yaxis\":{\"gridcolor\":\"#E1E5ED\",\"showgrid\":true,\"tickfont\":{\"color\":\"#4D5663\"},\"title\":{\"font\":{\"color\":\"#4D5663\"},\"text\":\"\"},\"zerolinecolor\":\"#E1E5ED\"}},                        {\"showLink\": true, \"linkText\": \"Export to plot.ly\", \"plotlyServerURL\": \"https://plot.ly\", \"responsive\": true}                    ).then(function(){\n",
              "                            \n",
              "var gd = document.getElementById('83bf54d4-bc56-4574-80fa-de65ad745019');\n",
              "var x = new MutationObserver(function (mutations, observer) {{\n",
              "        var display = window.getComputedStyle(gd).display;\n",
              "        if (!display || display === 'none') {{\n",
              "            console.log([gd, 'removed!']);\n",
              "            Plotly.purge(gd);\n",
              "            observer.disconnect();\n",
              "        }}\n",
              "}});\n",
              "\n",
              "// Listen for the removal of the full notebook cells\n",
              "var notebookContainer = gd.closest('#notebook-container');\n",
              "if (notebookContainer) {{\n",
              "    x.observe(notebookContainer, {childList: true});\n",
              "}}\n",
              "\n",
              "// Listen for the clearing of the current output cell\n",
              "var outputEl = gd.closest('.output');\n",
              "if (outputEl) {{\n",
              "    x.observe(outputEl, {childList: true});\n",
              "}}\n",
              "\n",
              "                        })                };                });            </script>        </div>"
            ]
          },
          "metadata": {},
          "output_type": "display_data"
        }
      ],
      "source": [
        "ohlc = yf.download(tickers= ativo+'.SA', period = periodo , auto_adjust=True, progress = False )\n",
        "ohlc['retorno'] = ohlc['Close'].pct_change()\n",
        "## calculating stretegy returns\n",
        "ohlc['retorno_estrategia'] = ohlc['retorno'] * (posicao['pos'].shift(1))\n",
        "# ohlc.fillna(0,inplace=True)\n",
        "ohlc['retorno_estrategia'].fillna(0,inplace=True)\n",
        "ohlc[ohlc['retorno_estrategia']!= 0.0]\n",
        "((ohlc[['retorno', 'retorno_estrategia']]+1).cumprod()-1).iplot();"
      ]
    },
    {
      "cell_type": "code",
      "execution_count": 15,
      "metadata": {},
      "outputs": [
        {
          "data": {
            "application/vnd.plotly.v1+json": {
              "config": {
                "plotlyServerURL": "https://plot.ly"
              },
              "data": [
                {
                  "line": {
                    "color": "rgba(55, 128, 191, 1.0)",
                    "dash": "solid",
                    "shape": "linear",
                    "width": 1.3
                  },
                  "mode": "lines",
                  "name": " EMA(5)",
                  "text": "",
                  "type": "scatter",
                  "x": [
                    "2023-11-03",
                    "2023-11-06",
                    "2023-11-07",
                    "2023-11-08",
                    "2023-11-09",
                    "2023-11-10",
                    "2023-11-13",
                    "2023-11-14",
                    "2023-11-16",
                    "2023-11-17",
                    "2023-11-20",
                    "2023-11-21",
                    "2023-11-22",
                    "2023-11-23",
                    "2023-11-24",
                    "2023-11-27",
                    "2023-11-28",
                    "2023-11-29",
                    "2023-11-30",
                    "2023-12-01",
                    "2023-12-04",
                    "2023-12-05",
                    "2023-12-06",
                    "2023-12-07",
                    "2023-12-08",
                    "2023-12-11",
                    "2023-12-12",
                    "2023-12-13",
                    "2023-12-14",
                    "2023-12-15",
                    "2023-12-18",
                    "2023-12-19",
                    "2023-12-20",
                    "2023-12-21",
                    "2023-12-22",
                    "2023-12-26",
                    "2023-12-27",
                    "2023-12-28",
                    "2024-01-02",
                    "2024-01-03",
                    "2024-01-04",
                    "2024-01-05",
                    "2024-01-08",
                    "2024-01-09",
                    "2024-01-10",
                    "2024-01-11",
                    "2024-01-12",
                    "2024-01-15",
                    "2024-01-16",
                    "2024-01-17",
                    "2024-01-18",
                    "2024-01-19",
                    "2024-01-22",
                    "2024-01-23",
                    "2024-01-24",
                    "2024-01-25",
                    "2024-01-26",
                    "2024-01-29",
                    "2024-01-30",
                    "2024-01-31",
                    "2024-02-01",
                    "2024-02-02",
                    "2024-02-05",
                    "2024-02-06",
                    "2024-02-07",
                    "2024-02-08",
                    "2024-02-09",
                    "2024-02-14",
                    "2024-02-15",
                    "2024-02-16",
                    "2024-02-19",
                    "2024-02-20",
                    "2024-02-21",
                    "2024-02-22",
                    "2024-02-23",
                    "2024-02-26",
                    "2024-02-27",
                    "2024-02-28",
                    "2024-02-29",
                    "2024-03-01",
                    "2024-03-04",
                    "2024-03-05",
                    "2024-03-06",
                    "2024-03-07",
                    "2024-03-08",
                    "2024-03-11",
                    "2024-03-12",
                    "2024-03-13",
                    "2024-03-14",
                    "2024-03-15"
                  ],
                  "y": [
                    "",
                    "",
                    "",
                    "",
                    42.94765453574099,
                    43.3417700465324,
                    43.404512957453896,
                    43.69300879089049,
                    43.778672781573476,
                    43.485782363008624,
                    43.4538547052219,
                    43.66257041383283,
                    44.711714066985564,
                    45.70780963230353,
                    46.0685400600448,
                    46.62235988744198,
                    47.38490654076536,
                    47.89993779556883,
                    48.76662519704589,
                    50.38775048740234,
                    51.0085003249349,
                    52.02566734105361,
                    52.48044469058523,
                    52.556962821881044,
                    51.89797582493893,
                    51.60531736921385,
                    51.57687839873046,
                    51.42791928852539,
                    50.7852795256836,
                    49.71685362747397,
                    49.421236362000876,
                    49.62082439392181,
                    49.597216008301395,
                    49.248143751221114,
                    48.0154289131676,
                    47.08695245619051,
                    46.391301637460344,
                    45.69420083732708,
                    44.43613328119983,
                    43.777421882290774,
                    43.181615147682784,
                    42.427742821436965,
                    42.34516198268324,
                    42.14344188127776,
                    41.68562807343973,
                    41.32375154033352,
                    40.99250163724058,
                    40.87833493345336,
                    40.43555636798909,
                    39.93037030164117,
                    39.493579845055706,
                    39.17905297572399,
                    38.729369260834225,
                    39.766246224752116,
                    40.02749722885493,
                    40.32499754221839,
                    40.43333220343857,
                    40.328887779587305,
                    40.03592544070469,
                    40.27728306764753,
                    40.30152153647205,
                    40.32101456109856,
                    40.407343651083934,
                    41.01822966021156,
                    41.435486592728935,
                    41.23365833883752,
                    40.75577197157853,
                    40.37718095834728,
                    40.25145397223152,
                    40.337635421998755,
                    40.61508967098094,
                    41.02339316484993,
                    41.00892862397873,
                    41.10928620708283,
                    41.169524443231005,
                    40.679683216467154,
                    40.88978926874178,
                    40.279859970258194,
                    39.79323987844687,
                    39.46549371006159,
                    40.5536623207865,
                    41.202441547191,
                    41.92829472083241,
                    42.39219637882968,
                    42.52813066490664,
                    41.89875357315391,
                    41.4158359697491,
                    41.1438901378731,
                    40.799260295365926,
                    40.2128405020864
                  ],
                  "yaxis": "y2"
                },
                {
                  "line": {
                    "color": "rgba(55, 128, 191, 1.0)",
                    "dash": "solid",
                    "shape": "linear",
                    "width": 1.3
                  },
                  "mode": "lines",
                  "name": " EMA(21)",
                  "text": "",
                  "type": "scatter",
                  "x": [
                    "2023-11-03",
                    "2023-11-06",
                    "2023-11-07",
                    "2023-11-08",
                    "2023-11-09",
                    "2023-11-10",
                    "2023-11-13",
                    "2023-11-14",
                    "2023-11-16",
                    "2023-11-17",
                    "2023-11-20",
                    "2023-11-21",
                    "2023-11-22",
                    "2023-11-23",
                    "2023-11-24",
                    "2023-11-27",
                    "2023-11-28",
                    "2023-11-29",
                    "2023-11-30",
                    "2023-12-01",
                    "2023-12-04",
                    "2023-12-05",
                    "2023-12-06",
                    "2023-12-07",
                    "2023-12-08",
                    "2023-12-11",
                    "2023-12-12",
                    "2023-12-13",
                    "2023-12-14",
                    "2023-12-15",
                    "2023-12-18",
                    "2023-12-19",
                    "2023-12-20",
                    "2023-12-21",
                    "2023-12-22",
                    "2023-12-26",
                    "2023-12-27",
                    "2023-12-28",
                    "2024-01-02",
                    "2024-01-03",
                    "2024-01-04",
                    "2024-01-05",
                    "2024-01-08",
                    "2024-01-09",
                    "2024-01-10",
                    "2024-01-11",
                    "2024-01-12",
                    "2024-01-15",
                    "2024-01-16",
                    "2024-01-17",
                    "2024-01-18",
                    "2024-01-19",
                    "2024-01-22",
                    "2024-01-23",
                    "2024-01-24",
                    "2024-01-25",
                    "2024-01-26",
                    "2024-01-29",
                    "2024-01-30",
                    "2024-01-31",
                    "2024-02-01",
                    "2024-02-02",
                    "2024-02-05",
                    "2024-02-06",
                    "2024-02-07",
                    "2024-02-08",
                    "2024-02-09",
                    "2024-02-14",
                    "2024-02-15",
                    "2024-02-16",
                    "2024-02-19",
                    "2024-02-20",
                    "2024-02-21",
                    "2024-02-22",
                    "2024-02-23",
                    "2024-02-26",
                    "2024-02-27",
                    "2024-02-28",
                    "2024-02-29",
                    "2024-03-01",
                    "2024-03-04",
                    "2024-03-05",
                    "2024-03-06",
                    "2024-03-07",
                    "2024-03-08",
                    "2024-03-11",
                    "2024-03-12",
                    "2024-03-13",
                    "2024-03-14",
                    "2024-03-15"
                  ],
                  "y": [
                    "",
                    "",
                    "",
                    "",
                    "",
                    "",
                    "",
                    "",
                    "",
                    "",
                    "",
                    "",
                    "",
                    "",
                    "",
                    "",
                    "",
                    "",
                    "",
                    "",
                    46.93725085258191,
                    47.58477362719183,
                    48.112521423778794,
                    48.530473938387324,
                    48.71679465590254,
                    48.92617700152628,
                    49.161979133911494,
                    49.34089021883911,
                    49.355354744399186,
                    49.19395902500423,
                    49.16087200737246,
                    49.238974593771665,
                    49.26724956134338,
                    49.20204498640857,
                    48.87004082737693,
                    48.53912798327324,
                    48.21738907570295,
                    47.861262726735454,
                    47.32114776693635,
                    46.87922515943965,
                    46.43475029753302,
                    45.933409194934136,
                    45.592190204956104,
                    45.24199124800253,
                    44.835446630708084,
                    44.45040588920018,
                    44.075823702096045,
                    43.76438532243994,
                    43.381259314678175,
                    42.975690119611556,
                    42.579718193454575,
                    42.21338010650966,
                    41.81489117237739,
                    41.81717380694199,
                    41.70197611877095,
                    41.63088721424135,
                    41.54171578802658,
                    41.412468801104595,
                    41.23406261581685,
                    41.190965861791064,
                    41.11451428109379,
                    41.04592212920813,
                    41.00356573846691,
                    41.11596900573963,
                    41.22088095592363,
                    41.18534649002646,
                    41.05940583066592,
                    40.92855065804945,
                    40.84413696186314,
                    40.81376072183315,
                    40.84614594429789,
                    40.93649632686971,
                    40.9404511646303,
                    40.97404663814491,
                    41.00276975427059,
                    40.884336209604115,
                    40.92303304266656,
                    40.75366652726878,
                    40.57787863341018,
                    40.417162518853885,
                    40.62742043007047,
                    40.797654936427705,
                    41.032413675672025,
                    41.240376041049494,
                    41.38215996795959,
                    41.314690824476756,
                    41.23608263706427,
                    41.178256804069434,
                    41.08114260464053,
                    40.8955842692666
                  ],
                  "yaxis": "y2"
                },
                {
                  "line": {
                    "color": "rgba(55, 128, 191, 1.0)",
                    "dash": "solid",
                    "shape": "linear",
                    "width": 1.3
                  },
                  "mode": "lines",
                  "name": " EMA(72)",
                  "text": "",
                  "type": "scatter",
                  "x": [
                    "2023-11-03",
                    "2023-11-06",
                    "2023-11-07",
                    "2023-11-08",
                    "2023-11-09",
                    "2023-11-10",
                    "2023-11-13",
                    "2023-11-14",
                    "2023-11-16",
                    "2023-11-17",
                    "2023-11-20",
                    "2023-11-21",
                    "2023-11-22",
                    "2023-11-23",
                    "2023-11-24",
                    "2023-11-27",
                    "2023-11-28",
                    "2023-11-29",
                    "2023-11-30",
                    "2023-12-01",
                    "2023-12-04",
                    "2023-12-05",
                    "2023-12-06",
                    "2023-12-07",
                    "2023-12-08",
                    "2023-12-11",
                    "2023-12-12",
                    "2023-12-13",
                    "2023-12-14",
                    "2023-12-15",
                    "2023-12-18",
                    "2023-12-19",
                    "2023-12-20",
                    "2023-12-21",
                    "2023-12-22",
                    "2023-12-26",
                    "2023-12-27",
                    "2023-12-28",
                    "2024-01-02",
                    "2024-01-03",
                    "2024-01-04",
                    "2024-01-05",
                    "2024-01-08",
                    "2024-01-09",
                    "2024-01-10",
                    "2024-01-11",
                    "2024-01-12",
                    "2024-01-15",
                    "2024-01-16",
                    "2024-01-17",
                    "2024-01-18",
                    "2024-01-19",
                    "2024-01-22",
                    "2024-01-23",
                    "2024-01-24",
                    "2024-01-25",
                    "2024-01-26",
                    "2024-01-29",
                    "2024-01-30",
                    "2024-01-31",
                    "2024-02-01",
                    "2024-02-02",
                    "2024-02-05",
                    "2024-02-06",
                    "2024-02-07",
                    "2024-02-08",
                    "2024-02-09",
                    "2024-02-14",
                    "2024-02-15",
                    "2024-02-16",
                    "2024-02-19",
                    "2024-02-20",
                    "2024-02-21",
                    "2024-02-22",
                    "2024-02-23",
                    "2024-02-26",
                    "2024-02-27",
                    "2024-02-28",
                    "2024-02-29",
                    "2024-03-01",
                    "2024-03-04",
                    "2024-03-05",
                    "2024-03-06",
                    "2024-03-07",
                    "2024-03-08",
                    "2024-03-11",
                    "2024-03-12",
                    "2024-03-13",
                    "2024-03-14",
                    "2024-03-15"
                  ],
                  "y": [
                    "",
                    "",
                    "",
                    "",
                    "",
                    "",
                    "",
                    "",
                    "",
                    "",
                    "",
                    "",
                    "",
                    "",
                    "",
                    "",
                    "",
                    "",
                    "",
                    "",
                    "",
                    "",
                    "",
                    "",
                    "",
                    "",
                    "",
                    "",
                    "",
                    "",
                    "",
                    "",
                    "",
                    "",
                    "",
                    "",
                    "",
                    "",
                    "",
                    "",
                    "",
                    "",
                    "",
                    "",
                    "",
                    "",
                    "",
                    "",
                    "",
                    "",
                    "",
                    "",
                    "",
                    "",
                    "",
                    "",
                    "",
                    "",
                    "",
                    "",
                    "",
                    "",
                    "",
                    "",
                    "",
                    "",
                    "",
                    "",
                    "",
                    "",
                    "",
                    42.66509727836243,
                    42.6189302170987,
                    42.58306915288479,
                    42.5476426258339,
                    42.469625040549126,
                    42.437854529117395,
                    42.34531060703996,
                    42.24872674643131,
                    42.15451509237267,
                    42.17028178962921,
                    42.17931516525581,
                    42.212210669443735,
                    42.24256105370074,
                    42.2578333326969,
                    42.21350911507913,
                    42.16519381776023,
                    42.12231175355094,
                    42.0671799414085,
                    41.98424352974052
                  ],
                  "yaxis": "y2"
                },
                {
                  "legendgroup": "RSI(Close,2)",
                  "line": {
                    "color": "rgba(219, 64, 82, 1.0)",
                    "dash": "solid",
                    "shape": "linear",
                    "width": 1.3
                  },
                  "mode": "lines",
                  "name": "RSI(Close,2)",
                  "showlegend": true,
                  "text": "",
                  "type": "scatter",
                  "x": [
                    "2023-11-03",
                    "2023-11-06",
                    "2023-11-07",
                    "2023-11-08",
                    "2023-11-09",
                    "2023-11-10",
                    "2023-11-13",
                    "2023-11-14",
                    "2023-11-16",
                    "2023-11-17",
                    "2023-11-20",
                    "2023-11-21",
                    "2023-11-22",
                    "2023-11-23",
                    "2023-11-24",
                    "2023-11-27",
                    "2023-11-28",
                    "2023-11-29",
                    "2023-11-30",
                    "2023-12-01",
                    "2023-12-04",
                    "2023-12-05",
                    "2023-12-06",
                    "2023-12-07",
                    "2023-12-08",
                    "2023-12-11",
                    "2023-12-12",
                    "2023-12-13",
                    "2023-12-14",
                    "2023-12-15",
                    "2023-12-18",
                    "2023-12-19",
                    "2023-12-20",
                    "2023-12-21",
                    "2023-12-22",
                    "2023-12-26",
                    "2023-12-27",
                    "2023-12-28",
                    "2024-01-02",
                    "2024-01-03",
                    "2024-01-04",
                    "2024-01-05",
                    "2024-01-08",
                    "2024-01-09",
                    "2024-01-10",
                    "2024-01-11",
                    "2024-01-12",
                    "2024-01-15",
                    "2024-01-16",
                    "2024-01-17",
                    "2024-01-18",
                    "2024-01-19",
                    "2024-01-22",
                    "2024-01-23",
                    "2024-01-24",
                    "2024-01-25",
                    "2024-01-26",
                    "2024-01-29",
                    "2024-01-30",
                    "2024-01-31",
                    "2024-02-01",
                    "2024-02-02",
                    "2024-02-05",
                    "2024-02-06",
                    "2024-02-07",
                    "2024-02-08",
                    "2024-02-09",
                    "2024-02-14",
                    "2024-02-15",
                    "2024-02-16",
                    "2024-02-19",
                    "2024-02-20",
                    "2024-02-21",
                    "2024-02-22",
                    "2024-02-23",
                    "2024-02-26",
                    "2024-02-27",
                    "2024-02-28",
                    "2024-02-29",
                    "2024-03-01",
                    "2024-03-04",
                    "2024-03-05",
                    "2024-03-06",
                    "2024-03-07",
                    "2024-03-08",
                    "2024-03-11",
                    "2024-03-12",
                    "2024-03-13",
                    "2024-03-14",
                    "2024-03-15"
                  ],
                  "y": [
                    "",
                    0,
                    91.99984741269145,
                    100,
                    56.7164094125953,
                    76.61286104984018,
                    61.29025112964038,
                    55.22384235667884,
                    69.81138865596873,
                    0,
                    31.818103001974237,
                    100,
                    100,
                    100,
                    49.44443149330626,
                    50.81077848756408,
                    100,
                    100,
                    100,
                    100,
                    69.40132118720766,
                    56.739811537357696,
                    72.98382755130606,
                    0,
                    0,
                    17.120596578047795,
                    100,
                    56.179813808356336,
                    0,
                    0,
                    39.43219943296959,
                    100,
                    71.68667084904598,
                    0,
                    0,
                    0,
                    0,
                    0,
                    0,
                    18.49316947564931,
                    53.465526032519406,
                    0,
                    54.07721386974723,
                    74.11773945629369,
                    0,
                    0,
                    0,
                    54.237573061604515,
                    22.535158296283356,
                    0,
                    0,
                    0,
                    0,
                    84.77805377679564,
                    75.66035658067761,
                    22.289094331037617,
                    57.81273283225349,
                    0,
                    0,
                    66.16163562241351,
                    76.16276361926603,
                    2.381449759766028,
                    100,
                    100,
                    100,
                    2.04073688663064,
                    0,
                    0,
                    67.85716718550964,
                    100,
                    100,
                    100,
                    43.790905079023936,
                    27.73118941375597,
                    94.28562086516769,
                    0,
                    50.312507078049876,
                    41.70985377654969,
                    0,
                    0,
                    99.74558955567959,
                    94.45783929912483,
                    79.27933191284625,
                    93.61689176027531,
                    0,
                    0,
                    0,
                    44.117449062023155,
                    23.43730442090707,
                    0
                  ],
                  "yaxis": "y3"
                },
                {
                  "legendgroup": "RSI(Close,2)",
                  "line": {
                    "color": "red",
                    "width": 1
                  },
                  "mode": "lines",
                  "name": "",
                  "showlegend": true,
                  "text": "",
                  "type": "scatter",
                  "x": [
                    "2023-11-03",
                    "2023-11-06",
                    "2023-11-07",
                    "2023-11-08",
                    "2023-11-09",
                    "2023-11-10",
                    "2023-11-13",
                    "2023-11-14",
                    "2023-11-16",
                    "2023-11-17",
                    "2023-11-20",
                    "2023-11-21",
                    "2023-11-22",
                    "2023-11-23",
                    "2023-11-24",
                    "2023-11-27",
                    "2023-11-28",
                    "2023-11-29",
                    "2023-11-30",
                    "2023-12-01",
                    "2023-12-04",
                    "2023-12-05",
                    "2023-12-06",
                    "2023-12-07",
                    "2023-12-08",
                    "2023-12-11",
                    "2023-12-12",
                    "2023-12-13",
                    "2023-12-14",
                    "2023-12-15",
                    "2023-12-18",
                    "2023-12-19",
                    "2023-12-20",
                    "2023-12-21",
                    "2023-12-22",
                    "2023-12-26",
                    "2023-12-27",
                    "2023-12-28",
                    "2024-01-02",
                    "2024-01-03",
                    "2024-01-04",
                    "2024-01-05",
                    "2024-01-08",
                    "2024-01-09",
                    "2024-01-10",
                    "2024-01-11",
                    "2024-01-12",
                    "2024-01-15",
                    "2024-01-16",
                    "2024-01-17",
                    "2024-01-18",
                    "2024-01-19",
                    "2024-01-22",
                    "2024-01-23",
                    "2024-01-24",
                    "2024-01-25",
                    "2024-01-26",
                    "2024-01-29",
                    "2024-01-30",
                    "2024-01-31",
                    "2024-02-01",
                    "2024-02-02",
                    "2024-02-05",
                    "2024-02-06",
                    "2024-02-07",
                    "2024-02-08",
                    "2024-02-09",
                    "2024-02-14",
                    "2024-02-15",
                    "2024-02-16",
                    "2024-02-19",
                    "2024-02-20",
                    "2024-02-21",
                    "2024-02-22",
                    "2024-02-23",
                    "2024-02-26",
                    "2024-02-27",
                    "2024-02-28",
                    "2024-02-29",
                    "2024-03-01",
                    "2024-03-04",
                    "2024-03-05",
                    "2024-03-06",
                    "2024-03-07",
                    "2024-03-08",
                    "2024-03-11",
                    "2024-03-12",
                    "2024-03-13",
                    "2024-03-14",
                    "2024-03-15"
                  ],
                  "y": [
                    5,
                    5,
                    5,
                    5,
                    5,
                    5,
                    5,
                    5,
                    5,
                    5,
                    5,
                    5,
                    5,
                    5,
                    5,
                    5,
                    5,
                    5,
                    5,
                    5,
                    5,
                    5,
                    5,
                    5,
                    5,
                    5,
                    5,
                    5,
                    5,
                    5,
                    5,
                    5,
                    5,
                    5,
                    5,
                    5,
                    5,
                    5,
                    5,
                    5,
                    5,
                    5,
                    5,
                    5,
                    5,
                    5,
                    5,
                    5,
                    5,
                    5,
                    5,
                    5,
                    5,
                    5,
                    5,
                    5,
                    5,
                    5,
                    5,
                    5,
                    5,
                    5,
                    5,
                    5,
                    5,
                    5,
                    5,
                    5,
                    5,
                    5,
                    5,
                    5,
                    5,
                    5,
                    5,
                    5,
                    5,
                    5,
                    5,
                    5,
                    5,
                    5,
                    5,
                    5,
                    5,
                    5,
                    5,
                    5,
                    5,
                    5
                  ],
                  "yaxis": "y3"
                },
                {
                  "legendgroup": "RSI(Close,2)",
                  "line": {
                    "color": "green",
                    "width": 1
                  },
                  "mode": "lines",
                  "name": "",
                  "showlegend": true,
                  "text": "",
                  "type": "scatter",
                  "x": [
                    "2023-11-03",
                    "2023-11-06",
                    "2023-11-07",
                    "2023-11-08",
                    "2023-11-09",
                    "2023-11-10",
                    "2023-11-13",
                    "2023-11-14",
                    "2023-11-16",
                    "2023-11-17",
                    "2023-11-20",
                    "2023-11-21",
                    "2023-11-22",
                    "2023-11-23",
                    "2023-11-24",
                    "2023-11-27",
                    "2023-11-28",
                    "2023-11-29",
                    "2023-11-30",
                    "2023-12-01",
                    "2023-12-04",
                    "2023-12-05",
                    "2023-12-06",
                    "2023-12-07",
                    "2023-12-08",
                    "2023-12-11",
                    "2023-12-12",
                    "2023-12-13",
                    "2023-12-14",
                    "2023-12-15",
                    "2023-12-18",
                    "2023-12-19",
                    "2023-12-20",
                    "2023-12-21",
                    "2023-12-22",
                    "2023-12-26",
                    "2023-12-27",
                    "2023-12-28",
                    "2024-01-02",
                    "2024-01-03",
                    "2024-01-04",
                    "2024-01-05",
                    "2024-01-08",
                    "2024-01-09",
                    "2024-01-10",
                    "2024-01-11",
                    "2024-01-12",
                    "2024-01-15",
                    "2024-01-16",
                    "2024-01-17",
                    "2024-01-18",
                    "2024-01-19",
                    "2024-01-22",
                    "2024-01-23",
                    "2024-01-24",
                    "2024-01-25",
                    "2024-01-26",
                    "2024-01-29",
                    "2024-01-30",
                    "2024-01-31",
                    "2024-02-01",
                    "2024-02-02",
                    "2024-02-05",
                    "2024-02-06",
                    "2024-02-07",
                    "2024-02-08",
                    "2024-02-09",
                    "2024-02-14",
                    "2024-02-15",
                    "2024-02-16",
                    "2024-02-19",
                    "2024-02-20",
                    "2024-02-21",
                    "2024-02-22",
                    "2024-02-23",
                    "2024-02-26",
                    "2024-02-27",
                    "2024-02-28",
                    "2024-02-29",
                    "2024-03-01",
                    "2024-03-04",
                    "2024-03-05",
                    "2024-03-06",
                    "2024-03-07",
                    "2024-03-08",
                    "2024-03-11",
                    "2024-03-12",
                    "2024-03-13",
                    "2024-03-14",
                    "2024-03-15"
                  ],
                  "y": [
                    95,
                    95,
                    95,
                    95,
                    95,
                    95,
                    95,
                    95,
                    95,
                    95,
                    95,
                    95,
                    95,
                    95,
                    95,
                    95,
                    95,
                    95,
                    95,
                    95,
                    95,
                    95,
                    95,
                    95,
                    95,
                    95,
                    95,
                    95,
                    95,
                    95,
                    95,
                    95,
                    95,
                    95,
                    95,
                    95,
                    95,
                    95,
                    95,
                    95,
                    95,
                    95,
                    95,
                    95,
                    95,
                    95,
                    95,
                    95,
                    95,
                    95,
                    95,
                    95,
                    95,
                    95,
                    95,
                    95,
                    95,
                    95,
                    95,
                    95,
                    95,
                    95,
                    95,
                    95,
                    95,
                    95,
                    95,
                    95,
                    95,
                    95,
                    95,
                    95,
                    95,
                    95,
                    95,
                    95,
                    95,
                    95,
                    95,
                    95,
                    95,
                    95,
                    95,
                    95,
                    95,
                    95,
                    95,
                    95,
                    95,
                    95
                  ],
                  "yaxis": "y3"
                },
                {
                  "close": [
                    42.25,
                    42.16999816894531,
                    43.09000015258789,
                    43.470001220703125,
                    43.18000030517578,
                    44.130001068115234,
                    43.529998779296875,
                    44.27000045776367,
                    43.95000076293945,
                    42.900001525878906,
                    43.38999938964844,
                    44.08000183105469,
                    46.810001373291016,
                    47.70000076293945,
                    46.790000915527344,
                    47.72999954223633,
                    48.90999984741211,
                    48.93000030517578,
                    50.5,
                    53.630001068115234,
                    52.25,
                    54.060001373291016,
                    53.38999938964844,
                    52.709999084472656,
                    50.58000183105469,
                    51.02000045776367,
                    51.52000045776367,
                    51.130001068115234,
                    49.5,
                    47.58000183105469,
                    48.83000183105469,
                    50.02000045776367,
                    49.54999923706055,
                    48.54999923706055,
                    45.54999923706055,
                    45.22999954223633,
                    45,
                    44.29999923706055,
                    41.91999816894531,
                    42.459999084472656,
                    41.9900016784668,
                    40.91999816894531,
                    42.18000030517578,
                    41.7400016784668,
                    40.77000045776367,
                    40.599998474121094,
                    40.33000183105469,
                    40.650001525878906,
                    39.54999923706055,
                    38.91999816894531,
                    38.619998931884766,
                    38.54999923706055,
                    37.83000183105469,
                    41.84000015258789,
                    40.54999923706055,
                    40.91999816894531,
                    40.650001525878906,
                    40.119998931884766,
                    39.45000076293945,
                    40.7599983215332,
                    40.349998474121094,
                    40.36000061035156,
                    40.58000183105469,
                    42.2400016784668,
                    42.27000045776367,
                    40.83000183105469,
                    39.79999923706055,
                    39.619998931884766,
                    40,
                    40.5099983215332,
                    41.16999816894531,
                    41.84000015258789,
                    40.97999954223633,
                    41.310001373291016,
                    41.290000915527344,
                    39.70000076293945,
                    41.310001373291016,
                    39.060001373291016,
                    38.81999969482422,
                    38.810001373291016,
                    42.72999954223633,
                    42.5,
                    43.380001068115234,
                    43.31999969482422,
                    42.79999923706055,
                    40.63999938964844,
                    40.45000076293945,
                    40.599998474121094,
                    40.11000061035156,
                    39.040000915527344
                  ],
                  "decreasing": {
                    "line": {
                      "color": "#db4052"
                    }
                  },
                  "high": [
                    42.849998474121094,
                    42.84000015258789,
                    43.130001068115234,
                    44.02000045776367,
                    44.650001525878906,
                    44.529998779296875,
                    44.650001525878906,
                    45.66999816894531,
                    44.75,
                    44.45000076293945,
                    43.5,
                    44.2400016784668,
                    46.810001373291016,
                    49.20000076293945,
                    47.900001525878906,
                    47.849998474121094,
                    48.95000076293945,
                    49.779998779296875,
                    51.349998474121094,
                    53.630001068115234,
                    53.900001525878906,
                    54.56999969482422,
                    54.4900016784668,
                    54.25,
                    53.380001068115234,
                    51.290000915527344,
                    52.099998474121094,
                    52.18000030517578,
                    51.79999923706055,
                    49.95000076293945,
                    49.310001373291016,
                    50.130001068115234,
                    51.439998626708984,
                    50.20000076293945,
                    49.130001068115234,
                    46.29999923706055,
                    45.56999969482422,
                    45.20000076293945,
                    44.40999984741211,
                    42.79999923706055,
                    42.97999954223633,
                    42.310001373291016,
                    42.70000076293945,
                    42.189998626708984,
                    42.18000030517578,
                    41.099998474121094,
                    41.349998474121094,
                    40.880001068115234,
                    40.68000030517578,
                    39.70000076293945,
                    39.38999938964844,
                    38.9900016784668,
                    38.810001373291016,
                    42,
                    41.880001068115234,
                    41.439998626708984,
                    41.400001525878906,
                    40.91999816894531,
                    40.41999816894531,
                    41.79999923706055,
                    40.869998931884766,
                    40.599998474121094,
                    40.70000076293945,
                    42.439998626708984,
                    42.970001220703125,
                    42.779998779296875,
                    41.220001220703125,
                    39.970001220703125,
                    40.70000076293945,
                    40.61000061035156,
                    41.68000030517578,
                    41.959999084472656,
                    41.939998626708984,
                    41.58000183105469,
                    41.849998474121094,
                    41.63999938964844,
                    41.45000076293945,
                    41.220001220703125,
                    39.25,
                    39.27000045776367,
                    42.779998779296875,
                    43.97999954223633,
                    43.79999923706055,
                    43.93000030517578,
                    43.72999954223633,
                    43.36000061035156,
                    41.15999984741211,
                    41.040000915527344,
                    40.849998474121094,
                    40.34000015258789
                  ],
                  "increasing": {
                    "line": {
                      "color": "#008000"
                    }
                  },
                  "low": [
                    41.38999938964844,
                    41.880001068115234,
                    41.849998474121094,
                    42.18000030517578,
                    42.959999084472656,
                    41.810001373291016,
                    42.95000076293945,
                    43.70000076293945,
                    43.209999084472656,
                    42.83000183105469,
                    42.599998474121094,
                    42.77000045776367,
                    44.09000015258789,
                    46.400001525878906,
                    45.70000076293945,
                    46.31999969482422,
                    47.060001373291016,
                    48.68000030517578,
                    49.04999923706055,
                    49.88999938964844,
                    52.060001373291016,
                    52.45000076293945,
                    53.20000076293945,
                    52.68000030517578,
                    50.31999969482422,
                    49.849998474121094,
                    50.4900016784668,
                    50.349998474121094,
                    49.209999084472656,
                    46.52000045776367,
                    47.31999969482422,
                    48.689998626708984,
                    49.279998779296875,
                    48.43000030517578,
                    45.52000045776367,
                    44.91999816894531,
                    44.900001525878906,
                    44.08000183105469,
                    41.65999984741211,
                    41.54999923706055,
                    41.0099983215332,
                    40.79999923706055,
                    40.7599983215332,
                    41.290000915527344,
                    40.5,
                    40.04999923706055,
                    40.2400016784668,
                    40.16999816894531,
                    39.09000015258789,
                    38.540000915527344,
                    38.290000915527344,
                    37.91999816894531,
                    37.5099983215332,
                    39.16999816894531,
                    39.65999984741211,
                    39.369998931884766,
                    40.09000015258789,
                    39.95000076293945,
                    39.279998779296875,
                    39.5,
                    40,
                    39.75,
                    40.150001525878906,
                    40.630001068115234,
                    42,
                    40.400001525878906,
                    39.79999923706055,
                    39.20000076293945,
                    39.5,
                    39.52000045776367,
                    40.150001525878906,
                    40.84000015258789,
                    40.36000061035156,
                    40.939998626708984,
                    40.900001525878906,
                    39.65999984741211,
                    39.939998626708984,
                    38.5,
                    38.599998474121094,
                    38.11000061035156,
                    39.7400016784668,
                    42.310001373291016,
                    42.16999816894531,
                    43.02000045776367,
                    42.619998931884766,
                    40.439998626708984,
                    40.09000015258789,
                    40.0099983215332,
                    40.0099983215332,
                    39.040000915527344
                  ],
                  "name": "GS",
                  "open": [
                    42.06999969482422,
                    42.41999816894531,
                    42.08000183105469,
                    43.18000030517578,
                    43.63999938964844,
                    42.959999084472656,
                    44.029998779296875,
                    43.70000076293945,
                    44.45000076293945,
                    44.130001068115234,
                    42.9900016784668,
                    42.77000045776367,
                    44.09000015258789,
                    46.900001525878906,
                    47.900001525878906,
                    46.84000015258789,
                    47.849998474121094,
                    49.29999923706055,
                    49.29999923706055,
                    50.7400016784668,
                    53.47999954223633,
                    52.45000076293945,
                    54.4900016784668,
                    53.66999816894531,
                    53.0099983215332,
                    50.45000076293945,
                    51.29999923706055,
                    51.7400016784668,
                    51.5,
                    49.599998474121094,
                    47.95000076293945,
                    49,
                    50.099998474121094,
                    49.880001068115234,
                    48.900001525878906,
                    45.599998474121094,
                    45.279998779296875,
                    45.11000061035156,
                    44.34000015258789,
                    41.790000915527344,
                    42.599998474121094,
                    41.97999954223633,
                    40.939998626708984,
                    42.16999816894531,
                    41.900001525878906,
                    40.939998626708984,
                    40.77000045776367,
                    40.5,
                    40.650001525878906,
                    39.43000030517578,
                    39.22999954223633,
                    38.91999816894531,
                    38.619998931884766,
                    39.16999816894531,
                    41.84000015258789,
                    40.220001220703125,
                    41.099998474121094,
                    40.52000045776367,
                    40.20000076293945,
                    39.5,
                    40.869998931884766,
                    40.5,
                    40.349998474121094,
                    40.650001525878906,
                    42.2400016784668,
                    42.310001373291016,
                    40.79999923706055,
                    39.709999084472656,
                    39.93000030517578,
                    40.310001373291016,
                    40.34000015258789,
                    40.84000015258789,
                    41.65999984741211,
                    41,
                    41.310001373291016,
                    41.08000183105469,
                    40,
                    41.119998931884766,
                    39.060001373291016,
                    39,
                    40,
                    42.4900016784668,
                    42.650001525878906,
                    43.400001525878906,
                    42.9900016784668,
                    42.83000183105469,
                    40.79999923706055,
                    40.400001525878906,
                    40.40999984741211,
                    40.29999923706055
                  ],
                  "showlegend": true,
                  "type": "candlestick",
                  "x": [
                    "2023-11-03",
                    "2023-11-06",
                    "2023-11-07",
                    "2023-11-08",
                    "2023-11-09",
                    "2023-11-10",
                    "2023-11-13",
                    "2023-11-14",
                    "2023-11-16",
                    "2023-11-17",
                    "2023-11-20",
                    "2023-11-21",
                    "2023-11-22",
                    "2023-11-23",
                    "2023-11-24",
                    "2023-11-27",
                    "2023-11-28",
                    "2023-11-29",
                    "2023-11-30",
                    "2023-12-01",
                    "2023-12-04",
                    "2023-12-05",
                    "2023-12-06",
                    "2023-12-07",
                    "2023-12-08",
                    "2023-12-11",
                    "2023-12-12",
                    "2023-12-13",
                    "2023-12-14",
                    "2023-12-15",
                    "2023-12-18",
                    "2023-12-19",
                    "2023-12-20",
                    "2023-12-21",
                    "2023-12-22",
                    "2023-12-26",
                    "2023-12-27",
                    "2023-12-28",
                    "2024-01-02",
                    "2024-01-03",
                    "2024-01-04",
                    "2024-01-05",
                    "2024-01-08",
                    "2024-01-09",
                    "2024-01-10",
                    "2024-01-11",
                    "2024-01-12",
                    "2024-01-15",
                    "2024-01-16",
                    "2024-01-17",
                    "2024-01-18",
                    "2024-01-19",
                    "2024-01-22",
                    "2024-01-23",
                    "2024-01-24",
                    "2024-01-25",
                    "2024-01-26",
                    "2024-01-29",
                    "2024-01-30",
                    "2024-01-31",
                    "2024-02-01",
                    "2024-02-02",
                    "2024-02-05",
                    "2024-02-06",
                    "2024-02-07",
                    "2024-02-08",
                    "2024-02-09",
                    "2024-02-14",
                    "2024-02-15",
                    "2024-02-16",
                    "2024-02-19",
                    "2024-02-20",
                    "2024-02-21",
                    "2024-02-22",
                    "2024-02-23",
                    "2024-02-26",
                    "2024-02-27",
                    "2024-02-28",
                    "2024-02-29",
                    "2024-03-01",
                    "2024-03-04",
                    "2024-03-05",
                    "2024-03-06",
                    "2024-03-07",
                    "2024-03-08",
                    "2024-03-11",
                    "2024-03-12",
                    "2024-03-13",
                    "2024-03-14",
                    "2024-03-15"
                  ],
                  "yaxis": "y2"
                }
              ],
              "layout": {
                "legend": {
                  "bgcolor": "#F5F6F9",
                  "font": {
                    "color": "#4D5663"
                  },
                  "orientation": "h",
                  "x": 0.3,
                  "y": 0.95,
                  "yanchor": "bottom"
                },
                "margin": {
                  "b": 30,
                  "l": 30,
                  "r": 30,
                  "t": 30
                },
                "paper_bgcolor": "#F5F6F9",
                "plot_bgcolor": "#F5F6F9",
                "showlegend": true,
                "template": {
                  "data": {
                    "bar": [
                      {
                        "error_x": {
                          "color": "#2a3f5f"
                        },
                        "error_y": {
                          "color": "#2a3f5f"
                        },
                        "marker": {
                          "line": {
                            "color": "#E5ECF6",
                            "width": 0.5
                          },
                          "pattern": {
                            "fillmode": "overlay",
                            "size": 10,
                            "solidity": 0.2
                          }
                        },
                        "type": "bar"
                      }
                    ],
                    "barpolar": [
                      {
                        "marker": {
                          "line": {
                            "color": "#E5ECF6",
                            "width": 0.5
                          },
                          "pattern": {
                            "fillmode": "overlay",
                            "size": 10,
                            "solidity": 0.2
                          }
                        },
                        "type": "barpolar"
                      }
                    ],
                    "carpet": [
                      {
                        "aaxis": {
                          "endlinecolor": "#2a3f5f",
                          "gridcolor": "white",
                          "linecolor": "white",
                          "minorgridcolor": "white",
                          "startlinecolor": "#2a3f5f"
                        },
                        "baxis": {
                          "endlinecolor": "#2a3f5f",
                          "gridcolor": "white",
                          "linecolor": "white",
                          "minorgridcolor": "white",
                          "startlinecolor": "#2a3f5f"
                        },
                        "type": "carpet"
                      }
                    ],
                    "choropleth": [
                      {
                        "colorbar": {
                          "outlinewidth": 0,
                          "ticks": ""
                        },
                        "type": "choropleth"
                      }
                    ],
                    "contour": [
                      {
                        "colorbar": {
                          "outlinewidth": 0,
                          "ticks": ""
                        },
                        "colorscale": [
                          [
                            0,
                            "#0d0887"
                          ],
                          [
                            0.1111111111111111,
                            "#46039f"
                          ],
                          [
                            0.2222222222222222,
                            "#7201a8"
                          ],
                          [
                            0.3333333333333333,
                            "#9c179e"
                          ],
                          [
                            0.4444444444444444,
                            "#bd3786"
                          ],
                          [
                            0.5555555555555556,
                            "#d8576b"
                          ],
                          [
                            0.6666666666666666,
                            "#ed7953"
                          ],
                          [
                            0.7777777777777778,
                            "#fb9f3a"
                          ],
                          [
                            0.8888888888888888,
                            "#fdca26"
                          ],
                          [
                            1,
                            "#f0f921"
                          ]
                        ],
                        "type": "contour"
                      }
                    ],
                    "contourcarpet": [
                      {
                        "colorbar": {
                          "outlinewidth": 0,
                          "ticks": ""
                        },
                        "type": "contourcarpet"
                      }
                    ],
                    "heatmap": [
                      {
                        "colorbar": {
                          "outlinewidth": 0,
                          "ticks": ""
                        },
                        "colorscale": [
                          [
                            0,
                            "#0d0887"
                          ],
                          [
                            0.1111111111111111,
                            "#46039f"
                          ],
                          [
                            0.2222222222222222,
                            "#7201a8"
                          ],
                          [
                            0.3333333333333333,
                            "#9c179e"
                          ],
                          [
                            0.4444444444444444,
                            "#bd3786"
                          ],
                          [
                            0.5555555555555556,
                            "#d8576b"
                          ],
                          [
                            0.6666666666666666,
                            "#ed7953"
                          ],
                          [
                            0.7777777777777778,
                            "#fb9f3a"
                          ],
                          [
                            0.8888888888888888,
                            "#fdca26"
                          ],
                          [
                            1,
                            "#f0f921"
                          ]
                        ],
                        "type": "heatmap"
                      }
                    ],
                    "heatmapgl": [
                      {
                        "colorbar": {
                          "outlinewidth": 0,
                          "ticks": ""
                        },
                        "colorscale": [
                          [
                            0,
                            "#0d0887"
                          ],
                          [
                            0.1111111111111111,
                            "#46039f"
                          ],
                          [
                            0.2222222222222222,
                            "#7201a8"
                          ],
                          [
                            0.3333333333333333,
                            "#9c179e"
                          ],
                          [
                            0.4444444444444444,
                            "#bd3786"
                          ],
                          [
                            0.5555555555555556,
                            "#d8576b"
                          ],
                          [
                            0.6666666666666666,
                            "#ed7953"
                          ],
                          [
                            0.7777777777777778,
                            "#fb9f3a"
                          ],
                          [
                            0.8888888888888888,
                            "#fdca26"
                          ],
                          [
                            1,
                            "#f0f921"
                          ]
                        ],
                        "type": "heatmapgl"
                      }
                    ],
                    "histogram": [
                      {
                        "marker": {
                          "pattern": {
                            "fillmode": "overlay",
                            "size": 10,
                            "solidity": 0.2
                          }
                        },
                        "type": "histogram"
                      }
                    ],
                    "histogram2d": [
                      {
                        "colorbar": {
                          "outlinewidth": 0,
                          "ticks": ""
                        },
                        "colorscale": [
                          [
                            0,
                            "#0d0887"
                          ],
                          [
                            0.1111111111111111,
                            "#46039f"
                          ],
                          [
                            0.2222222222222222,
                            "#7201a8"
                          ],
                          [
                            0.3333333333333333,
                            "#9c179e"
                          ],
                          [
                            0.4444444444444444,
                            "#bd3786"
                          ],
                          [
                            0.5555555555555556,
                            "#d8576b"
                          ],
                          [
                            0.6666666666666666,
                            "#ed7953"
                          ],
                          [
                            0.7777777777777778,
                            "#fb9f3a"
                          ],
                          [
                            0.8888888888888888,
                            "#fdca26"
                          ],
                          [
                            1,
                            "#f0f921"
                          ]
                        ],
                        "type": "histogram2d"
                      }
                    ],
                    "histogram2dcontour": [
                      {
                        "colorbar": {
                          "outlinewidth": 0,
                          "ticks": ""
                        },
                        "colorscale": [
                          [
                            0,
                            "#0d0887"
                          ],
                          [
                            0.1111111111111111,
                            "#46039f"
                          ],
                          [
                            0.2222222222222222,
                            "#7201a8"
                          ],
                          [
                            0.3333333333333333,
                            "#9c179e"
                          ],
                          [
                            0.4444444444444444,
                            "#bd3786"
                          ],
                          [
                            0.5555555555555556,
                            "#d8576b"
                          ],
                          [
                            0.6666666666666666,
                            "#ed7953"
                          ],
                          [
                            0.7777777777777778,
                            "#fb9f3a"
                          ],
                          [
                            0.8888888888888888,
                            "#fdca26"
                          ],
                          [
                            1,
                            "#f0f921"
                          ]
                        ],
                        "type": "histogram2dcontour"
                      }
                    ],
                    "mesh3d": [
                      {
                        "colorbar": {
                          "outlinewidth": 0,
                          "ticks": ""
                        },
                        "type": "mesh3d"
                      }
                    ],
                    "parcoords": [
                      {
                        "line": {
                          "colorbar": {
                            "outlinewidth": 0,
                            "ticks": ""
                          }
                        },
                        "type": "parcoords"
                      }
                    ],
                    "pie": [
                      {
                        "automargin": true,
                        "type": "pie"
                      }
                    ],
                    "scatter": [
                      {
                        "fillpattern": {
                          "fillmode": "overlay",
                          "size": 10,
                          "solidity": 0.2
                        },
                        "type": "scatter"
                      }
                    ],
                    "scatter3d": [
                      {
                        "line": {
                          "colorbar": {
                            "outlinewidth": 0,
                            "ticks": ""
                          }
                        },
                        "marker": {
                          "colorbar": {
                            "outlinewidth": 0,
                            "ticks": ""
                          }
                        },
                        "type": "scatter3d"
                      }
                    ],
                    "scattercarpet": [
                      {
                        "marker": {
                          "colorbar": {
                            "outlinewidth": 0,
                            "ticks": ""
                          }
                        },
                        "type": "scattercarpet"
                      }
                    ],
                    "scattergeo": [
                      {
                        "marker": {
                          "colorbar": {
                            "outlinewidth": 0,
                            "ticks": ""
                          }
                        },
                        "type": "scattergeo"
                      }
                    ],
                    "scattergl": [
                      {
                        "marker": {
                          "colorbar": {
                            "outlinewidth": 0,
                            "ticks": ""
                          }
                        },
                        "type": "scattergl"
                      }
                    ],
                    "scattermapbox": [
                      {
                        "marker": {
                          "colorbar": {
                            "outlinewidth": 0,
                            "ticks": ""
                          }
                        },
                        "type": "scattermapbox"
                      }
                    ],
                    "scatterpolar": [
                      {
                        "marker": {
                          "colorbar": {
                            "outlinewidth": 0,
                            "ticks": ""
                          }
                        },
                        "type": "scatterpolar"
                      }
                    ],
                    "scatterpolargl": [
                      {
                        "marker": {
                          "colorbar": {
                            "outlinewidth": 0,
                            "ticks": ""
                          }
                        },
                        "type": "scatterpolargl"
                      }
                    ],
                    "scatterternary": [
                      {
                        "marker": {
                          "colorbar": {
                            "outlinewidth": 0,
                            "ticks": ""
                          }
                        },
                        "type": "scatterternary"
                      }
                    ],
                    "surface": [
                      {
                        "colorbar": {
                          "outlinewidth": 0,
                          "ticks": ""
                        },
                        "colorscale": [
                          [
                            0,
                            "#0d0887"
                          ],
                          [
                            0.1111111111111111,
                            "#46039f"
                          ],
                          [
                            0.2222222222222222,
                            "#7201a8"
                          ],
                          [
                            0.3333333333333333,
                            "#9c179e"
                          ],
                          [
                            0.4444444444444444,
                            "#bd3786"
                          ],
                          [
                            0.5555555555555556,
                            "#d8576b"
                          ],
                          [
                            0.6666666666666666,
                            "#ed7953"
                          ],
                          [
                            0.7777777777777778,
                            "#fb9f3a"
                          ],
                          [
                            0.8888888888888888,
                            "#fdca26"
                          ],
                          [
                            1,
                            "#f0f921"
                          ]
                        ],
                        "type": "surface"
                      }
                    ],
                    "table": [
                      {
                        "cells": {
                          "fill": {
                            "color": "#EBF0F8"
                          },
                          "line": {
                            "color": "white"
                          }
                        },
                        "header": {
                          "fill": {
                            "color": "#C8D4E3"
                          },
                          "line": {
                            "color": "white"
                          }
                        },
                        "type": "table"
                      }
                    ]
                  },
                  "layout": {
                    "annotationdefaults": {
                      "arrowcolor": "#2a3f5f",
                      "arrowhead": 0,
                      "arrowwidth": 1
                    },
                    "autotypenumbers": "strict",
                    "coloraxis": {
                      "colorbar": {
                        "outlinewidth": 0,
                        "ticks": ""
                      }
                    },
                    "colorscale": {
                      "diverging": [
                        [
                          0,
                          "#8e0152"
                        ],
                        [
                          0.1,
                          "#c51b7d"
                        ],
                        [
                          0.2,
                          "#de77ae"
                        ],
                        [
                          0.3,
                          "#f1b6da"
                        ],
                        [
                          0.4,
                          "#fde0ef"
                        ],
                        [
                          0.5,
                          "#f7f7f7"
                        ],
                        [
                          0.6,
                          "#e6f5d0"
                        ],
                        [
                          0.7,
                          "#b8e186"
                        ],
                        [
                          0.8,
                          "#7fbc41"
                        ],
                        [
                          0.9,
                          "#4d9221"
                        ],
                        [
                          1,
                          "#276419"
                        ]
                      ],
                      "sequential": [
                        [
                          0,
                          "#0d0887"
                        ],
                        [
                          0.1111111111111111,
                          "#46039f"
                        ],
                        [
                          0.2222222222222222,
                          "#7201a8"
                        ],
                        [
                          0.3333333333333333,
                          "#9c179e"
                        ],
                        [
                          0.4444444444444444,
                          "#bd3786"
                        ],
                        [
                          0.5555555555555556,
                          "#d8576b"
                        ],
                        [
                          0.6666666666666666,
                          "#ed7953"
                        ],
                        [
                          0.7777777777777778,
                          "#fb9f3a"
                        ],
                        [
                          0.8888888888888888,
                          "#fdca26"
                        ],
                        [
                          1,
                          "#f0f921"
                        ]
                      ],
                      "sequentialminus": [
                        [
                          0,
                          "#0d0887"
                        ],
                        [
                          0.1111111111111111,
                          "#46039f"
                        ],
                        [
                          0.2222222222222222,
                          "#7201a8"
                        ],
                        [
                          0.3333333333333333,
                          "#9c179e"
                        ],
                        [
                          0.4444444444444444,
                          "#bd3786"
                        ],
                        [
                          0.5555555555555556,
                          "#d8576b"
                        ],
                        [
                          0.6666666666666666,
                          "#ed7953"
                        ],
                        [
                          0.7777777777777778,
                          "#fb9f3a"
                        ],
                        [
                          0.8888888888888888,
                          "#fdca26"
                        ],
                        [
                          1,
                          "#f0f921"
                        ]
                      ]
                    },
                    "colorway": [
                      "#636efa",
                      "#EF553B",
                      "#00cc96",
                      "#ab63fa",
                      "#FFA15A",
                      "#19d3f3",
                      "#FF6692",
                      "#B6E880",
                      "#FF97FF",
                      "#FECB52"
                    ],
                    "font": {
                      "color": "#2a3f5f"
                    },
                    "geo": {
                      "bgcolor": "white",
                      "lakecolor": "white",
                      "landcolor": "#E5ECF6",
                      "showlakes": true,
                      "showland": true,
                      "subunitcolor": "white"
                    },
                    "hoverlabel": {
                      "align": "left"
                    },
                    "hovermode": "closest",
                    "mapbox": {
                      "style": "light"
                    },
                    "paper_bgcolor": "white",
                    "plot_bgcolor": "#E5ECF6",
                    "polar": {
                      "angularaxis": {
                        "gridcolor": "white",
                        "linecolor": "white",
                        "ticks": ""
                      },
                      "bgcolor": "#E5ECF6",
                      "radialaxis": {
                        "gridcolor": "white",
                        "linecolor": "white",
                        "ticks": ""
                      }
                    },
                    "scene": {
                      "xaxis": {
                        "backgroundcolor": "#E5ECF6",
                        "gridcolor": "white",
                        "gridwidth": 2,
                        "linecolor": "white",
                        "showbackground": true,
                        "ticks": "",
                        "zerolinecolor": "white"
                      },
                      "yaxis": {
                        "backgroundcolor": "#E5ECF6",
                        "gridcolor": "white",
                        "gridwidth": 2,
                        "linecolor": "white",
                        "showbackground": true,
                        "ticks": "",
                        "zerolinecolor": "white"
                      },
                      "zaxis": {
                        "backgroundcolor": "#E5ECF6",
                        "gridcolor": "white",
                        "gridwidth": 2,
                        "linecolor": "white",
                        "showbackground": true,
                        "ticks": "",
                        "zerolinecolor": "white"
                      }
                    },
                    "shapedefaults": {
                      "line": {
                        "color": "#2a3f5f"
                      }
                    },
                    "ternary": {
                      "aaxis": {
                        "gridcolor": "white",
                        "linecolor": "white",
                        "ticks": ""
                      },
                      "baxis": {
                        "gridcolor": "white",
                        "linecolor": "white",
                        "ticks": ""
                      },
                      "bgcolor": "#E5ECF6",
                      "caxis": {
                        "gridcolor": "white",
                        "linecolor": "white",
                        "ticks": ""
                      }
                    },
                    "title": {
                      "x": 0.05
                    },
                    "xaxis": {
                      "automargin": true,
                      "gridcolor": "white",
                      "linecolor": "white",
                      "ticks": "",
                      "title": {
                        "standoff": 15
                      },
                      "zerolinecolor": "white",
                      "zerolinewidth": 2
                    },
                    "yaxis": {
                      "automargin": true,
                      "gridcolor": "white",
                      "linecolor": "white",
                      "ticks": "",
                      "title": {
                        "standoff": 15
                      },
                      "zerolinecolor": "white",
                      "zerolinewidth": 2
                    }
                  }
                },
                "title": {
                  "font": {
                    "color": "#4D5663"
                  },
                  "text": "YDUQ3"
                },
                "xaxis": {
                  "anchor": "y2",
                  "gridcolor": "#E1E5ED",
                  "rangebreaks": [
                    {
                      "bounds": [
                        "sat",
                        "mon"
                      ]
                    }
                  ],
                  "rangeselector": {
                    "bgcolor": "rgba(150, 200, 250, 1)",
                    "buttons": [
                      {
                        "count": 1,
                        "label": "1m",
                        "step": "month",
                        "stepmode": "backward"
                      },
                      {
                        "count": 1,
                        "label": "1y",
                        "step": "year",
                        "stepmode": "backward"
                      }
                    ],
                    "font": {
                      "size": 13
                    },
                    "visible": false,
                    "x": 0,
                    "y": 0.9
                  },
                  "rangeslider": {
                    "visible": false
                  },
                  "showgrid": true,
                  "tickfont": {
                    "color": "#4D5663"
                  },
                  "title": {
                    "font": {
                      "color": "#4D5663"
                    },
                    "text": ""
                  },
                  "zerolinecolor": "#E1E5ED"
                },
                "yaxis": {
                  "gridcolor": "#E1E5ED",
                  "showgrid": true,
                  "showticklabels": false,
                  "tickfont": {
                    "color": "#4D5663"
                  },
                  "title": {
                    "font": {
                      "color": "#4D5663"
                    },
                    "text": ""
                  },
                  "zerolinecolor": "#E1E5ED"
                },
                "yaxis2": {
                  "domain": [
                    0.23,
                    0.9
                  ],
                  "gridcolor": "#E1E5ED",
                  "showgrid": true,
                  "tickfont": {
                    "color": "#4D5663"
                  },
                  "title": {
                    "font": {
                      "color": "#4D5663"
                    },
                    "text": ""
                  },
                  "zerolinecolor": "#E1E5ED"
                },
                "yaxis3": {
                  "domain": [
                    0,
                    0.15
                  ],
                  "gridcolor": "#E1E5ED",
                  "showgrid": true,
                  "tickfont": {
                    "color": "#4D5663"
                  },
                  "title": {
                    "font": {
                      "color": "#4D5663"
                    },
                    "text": ""
                  },
                  "zerolinecolor": "#E1E5ED"
                }
              }
            },
            "text/html": [
              "<div>                            <div id=\"9b274395-f986-4e3e-827a-ec15dd65ea75\" class=\"plotly-graph-div\" style=\"height:525px; width:100%;\"></div>            <script type=\"text/javascript\">                require([\"plotly\"], function(Plotly) {                    window.PLOTLYENV=window.PLOTLYENV || {};                                    if (document.getElementById(\"9b274395-f986-4e3e-827a-ec15dd65ea75\")) {                    Plotly.newPlot(                        \"9b274395-f986-4e3e-827a-ec15dd65ea75\",                        [{\"line\":{\"color\":\"rgba(55, 128, 191, 1.0)\",\"dash\":\"solid\",\"shape\":\"linear\",\"width\":1.3},\"mode\":\"lines\",\"name\":\" EMA(5)\",\"text\":\"\",\"x\":[\"2023-11-03\",\"2023-11-06\",\"2023-11-07\",\"2023-11-08\",\"2023-11-09\",\"2023-11-10\",\"2023-11-13\",\"2023-11-14\",\"2023-11-16\",\"2023-11-17\",\"2023-11-20\",\"2023-11-21\",\"2023-11-22\",\"2023-11-23\",\"2023-11-24\",\"2023-11-27\",\"2023-11-28\",\"2023-11-29\",\"2023-11-30\",\"2023-12-01\",\"2023-12-04\",\"2023-12-05\",\"2023-12-06\",\"2023-12-07\",\"2023-12-08\",\"2023-12-11\",\"2023-12-12\",\"2023-12-13\",\"2023-12-14\",\"2023-12-15\",\"2023-12-18\",\"2023-12-19\",\"2023-12-20\",\"2023-12-21\",\"2023-12-22\",\"2023-12-26\",\"2023-12-27\",\"2023-12-28\",\"2024-01-02\",\"2024-01-03\",\"2024-01-04\",\"2024-01-05\",\"2024-01-08\",\"2024-01-09\",\"2024-01-10\",\"2024-01-11\",\"2024-01-12\",\"2024-01-15\",\"2024-01-16\",\"2024-01-17\",\"2024-01-18\",\"2024-01-19\",\"2024-01-22\",\"2024-01-23\",\"2024-01-24\",\"2024-01-25\",\"2024-01-26\",\"2024-01-29\",\"2024-01-30\",\"2024-01-31\",\"2024-02-01\",\"2024-02-02\",\"2024-02-05\",\"2024-02-06\",\"2024-02-07\",\"2024-02-08\",\"2024-02-09\",\"2024-02-14\",\"2024-02-15\",\"2024-02-16\",\"2024-02-19\",\"2024-02-20\",\"2024-02-21\",\"2024-02-22\",\"2024-02-23\",\"2024-02-26\",\"2024-02-27\",\"2024-02-28\",\"2024-02-29\",\"2024-03-01\",\"2024-03-04\",\"2024-03-05\",\"2024-03-06\",\"2024-03-07\",\"2024-03-08\",\"2024-03-11\",\"2024-03-12\",\"2024-03-13\",\"2024-03-14\",\"2024-03-15\"],\"y\":[\"\",\"\",\"\",\"\",42.94765453574099,43.3417700465324,43.404512957453896,43.69300879089049,43.778672781573476,43.485782363008624,43.4538547052219,43.66257041383283,44.711714066985564,45.70780963230353,46.0685400600448,46.62235988744198,47.38490654076536,47.89993779556883,48.76662519704589,50.38775048740234,51.0085003249349,52.02566734105361,52.48044469058523,52.556962821881044,51.89797582493893,51.60531736921385,51.57687839873046,51.42791928852539,50.7852795256836,49.71685362747397,49.421236362000876,49.62082439392181,49.597216008301395,49.248143751221114,48.0154289131676,47.08695245619051,46.391301637460344,45.69420083732708,44.43613328119983,43.777421882290774,43.181615147682784,42.427742821436965,42.34516198268324,42.14344188127776,41.68562807343973,41.32375154033352,40.99250163724058,40.87833493345336,40.43555636798909,39.93037030164117,39.493579845055706,39.17905297572399,38.729369260834225,39.766246224752116,40.02749722885493,40.32499754221839,40.43333220343857,40.328887779587305,40.03592544070469,40.27728306764753,40.30152153647205,40.32101456109856,40.407343651083934,41.01822966021156,41.435486592728935,41.23365833883752,40.75577197157853,40.37718095834728,40.25145397223152,40.337635421998755,40.61508967098094,41.02339316484993,41.00892862397873,41.10928620708283,41.169524443231005,40.679683216467154,40.88978926874178,40.279859970258194,39.79323987844687,39.46549371006159,40.5536623207865,41.202441547191,41.92829472083241,42.39219637882968,42.52813066490664,41.89875357315391,41.4158359697491,41.1438901378731,40.799260295365926,40.2128405020864],\"yaxis\":\"y2\",\"type\":\"scatter\"},{\"line\":{\"color\":\"rgba(55, 128, 191, 1.0)\",\"dash\":\"solid\",\"shape\":\"linear\",\"width\":1.3},\"mode\":\"lines\",\"name\":\" EMA(21)\",\"text\":\"\",\"x\":[\"2023-11-03\",\"2023-11-06\",\"2023-11-07\",\"2023-11-08\",\"2023-11-09\",\"2023-11-10\",\"2023-11-13\",\"2023-11-14\",\"2023-11-16\",\"2023-11-17\",\"2023-11-20\",\"2023-11-21\",\"2023-11-22\",\"2023-11-23\",\"2023-11-24\",\"2023-11-27\",\"2023-11-28\",\"2023-11-29\",\"2023-11-30\",\"2023-12-01\",\"2023-12-04\",\"2023-12-05\",\"2023-12-06\",\"2023-12-07\",\"2023-12-08\",\"2023-12-11\",\"2023-12-12\",\"2023-12-13\",\"2023-12-14\",\"2023-12-15\",\"2023-12-18\",\"2023-12-19\",\"2023-12-20\",\"2023-12-21\",\"2023-12-22\",\"2023-12-26\",\"2023-12-27\",\"2023-12-28\",\"2024-01-02\",\"2024-01-03\",\"2024-01-04\",\"2024-01-05\",\"2024-01-08\",\"2024-01-09\",\"2024-01-10\",\"2024-01-11\",\"2024-01-12\",\"2024-01-15\",\"2024-01-16\",\"2024-01-17\",\"2024-01-18\",\"2024-01-19\",\"2024-01-22\",\"2024-01-23\",\"2024-01-24\",\"2024-01-25\",\"2024-01-26\",\"2024-01-29\",\"2024-01-30\",\"2024-01-31\",\"2024-02-01\",\"2024-02-02\",\"2024-02-05\",\"2024-02-06\",\"2024-02-07\",\"2024-02-08\",\"2024-02-09\",\"2024-02-14\",\"2024-02-15\",\"2024-02-16\",\"2024-02-19\",\"2024-02-20\",\"2024-02-21\",\"2024-02-22\",\"2024-02-23\",\"2024-02-26\",\"2024-02-27\",\"2024-02-28\",\"2024-02-29\",\"2024-03-01\",\"2024-03-04\",\"2024-03-05\",\"2024-03-06\",\"2024-03-07\",\"2024-03-08\",\"2024-03-11\",\"2024-03-12\",\"2024-03-13\",\"2024-03-14\",\"2024-03-15\"],\"y\":[\"\",\"\",\"\",\"\",\"\",\"\",\"\",\"\",\"\",\"\",\"\",\"\",\"\",\"\",\"\",\"\",\"\",\"\",\"\",\"\",46.93725085258191,47.58477362719183,48.112521423778794,48.530473938387324,48.71679465590254,48.92617700152628,49.161979133911494,49.34089021883911,49.355354744399186,49.19395902500423,49.16087200737246,49.238974593771665,49.26724956134338,49.20204498640857,48.87004082737693,48.53912798327324,48.21738907570295,47.861262726735454,47.32114776693635,46.87922515943965,46.43475029753302,45.933409194934136,45.592190204956104,45.24199124800253,44.835446630708084,44.45040588920018,44.075823702096045,43.76438532243994,43.381259314678175,42.975690119611556,42.579718193454575,42.21338010650966,41.81489117237739,41.81717380694199,41.70197611877095,41.63088721424135,41.54171578802658,41.412468801104595,41.23406261581685,41.190965861791064,41.11451428109379,41.04592212920813,41.00356573846691,41.11596900573963,41.22088095592363,41.18534649002646,41.05940583066592,40.92855065804945,40.84413696186314,40.81376072183315,40.84614594429789,40.93649632686971,40.9404511646303,40.97404663814491,41.00276975427059,40.884336209604115,40.92303304266656,40.75366652726878,40.57787863341018,40.417162518853885,40.62742043007047,40.797654936427705,41.032413675672025,41.240376041049494,41.38215996795959,41.314690824476756,41.23608263706427,41.178256804069434,41.08114260464053,40.8955842692666],\"yaxis\":\"y2\",\"type\":\"scatter\"},{\"line\":{\"color\":\"rgba(55, 128, 191, 1.0)\",\"dash\":\"solid\",\"shape\":\"linear\",\"width\":1.3},\"mode\":\"lines\",\"name\":\" EMA(72)\",\"text\":\"\",\"x\":[\"2023-11-03\",\"2023-11-06\",\"2023-11-07\",\"2023-11-08\",\"2023-11-09\",\"2023-11-10\",\"2023-11-13\",\"2023-11-14\",\"2023-11-16\",\"2023-11-17\",\"2023-11-20\",\"2023-11-21\",\"2023-11-22\",\"2023-11-23\",\"2023-11-24\",\"2023-11-27\",\"2023-11-28\",\"2023-11-29\",\"2023-11-30\",\"2023-12-01\",\"2023-12-04\",\"2023-12-05\",\"2023-12-06\",\"2023-12-07\",\"2023-12-08\",\"2023-12-11\",\"2023-12-12\",\"2023-12-13\",\"2023-12-14\",\"2023-12-15\",\"2023-12-18\",\"2023-12-19\",\"2023-12-20\",\"2023-12-21\",\"2023-12-22\",\"2023-12-26\",\"2023-12-27\",\"2023-12-28\",\"2024-01-02\",\"2024-01-03\",\"2024-01-04\",\"2024-01-05\",\"2024-01-08\",\"2024-01-09\",\"2024-01-10\",\"2024-01-11\",\"2024-01-12\",\"2024-01-15\",\"2024-01-16\",\"2024-01-17\",\"2024-01-18\",\"2024-01-19\",\"2024-01-22\",\"2024-01-23\",\"2024-01-24\",\"2024-01-25\",\"2024-01-26\",\"2024-01-29\",\"2024-01-30\",\"2024-01-31\",\"2024-02-01\",\"2024-02-02\",\"2024-02-05\",\"2024-02-06\",\"2024-02-07\",\"2024-02-08\",\"2024-02-09\",\"2024-02-14\",\"2024-02-15\",\"2024-02-16\",\"2024-02-19\",\"2024-02-20\",\"2024-02-21\",\"2024-02-22\",\"2024-02-23\",\"2024-02-26\",\"2024-02-27\",\"2024-02-28\",\"2024-02-29\",\"2024-03-01\",\"2024-03-04\",\"2024-03-05\",\"2024-03-06\",\"2024-03-07\",\"2024-03-08\",\"2024-03-11\",\"2024-03-12\",\"2024-03-13\",\"2024-03-14\",\"2024-03-15\"],\"y\":[\"\",\"\",\"\",\"\",\"\",\"\",\"\",\"\",\"\",\"\",\"\",\"\",\"\",\"\",\"\",\"\",\"\",\"\",\"\",\"\",\"\",\"\",\"\",\"\",\"\",\"\",\"\",\"\",\"\",\"\",\"\",\"\",\"\",\"\",\"\",\"\",\"\",\"\",\"\",\"\",\"\",\"\",\"\",\"\",\"\",\"\",\"\",\"\",\"\",\"\",\"\",\"\",\"\",\"\",\"\",\"\",\"\",\"\",\"\",\"\",\"\",\"\",\"\",\"\",\"\",\"\",\"\",\"\",\"\",\"\",\"\",42.66509727836243,42.6189302170987,42.58306915288479,42.5476426258339,42.469625040549126,42.437854529117395,42.34531060703996,42.24872674643131,42.15451509237267,42.17028178962921,42.17931516525581,42.212210669443735,42.24256105370074,42.2578333326969,42.21350911507913,42.16519381776023,42.12231175355094,42.0671799414085,41.98424352974052],\"yaxis\":\"y2\",\"type\":\"scatter\"},{\"legendgroup\":\"RSI(Close,2)\",\"line\":{\"color\":\"rgba(219, 64, 82, 1.0)\",\"dash\":\"solid\",\"shape\":\"linear\",\"width\":1.3},\"mode\":\"lines\",\"name\":\"RSI(Close,2)\",\"showlegend\":true,\"text\":\"\",\"x\":[\"2023-11-03\",\"2023-11-06\",\"2023-11-07\",\"2023-11-08\",\"2023-11-09\",\"2023-11-10\",\"2023-11-13\",\"2023-11-14\",\"2023-11-16\",\"2023-11-17\",\"2023-11-20\",\"2023-11-21\",\"2023-11-22\",\"2023-11-23\",\"2023-11-24\",\"2023-11-27\",\"2023-11-28\",\"2023-11-29\",\"2023-11-30\",\"2023-12-01\",\"2023-12-04\",\"2023-12-05\",\"2023-12-06\",\"2023-12-07\",\"2023-12-08\",\"2023-12-11\",\"2023-12-12\",\"2023-12-13\",\"2023-12-14\",\"2023-12-15\",\"2023-12-18\",\"2023-12-19\",\"2023-12-20\",\"2023-12-21\",\"2023-12-22\",\"2023-12-26\",\"2023-12-27\",\"2023-12-28\",\"2024-01-02\",\"2024-01-03\",\"2024-01-04\",\"2024-01-05\",\"2024-01-08\",\"2024-01-09\",\"2024-01-10\",\"2024-01-11\",\"2024-01-12\",\"2024-01-15\",\"2024-01-16\",\"2024-01-17\",\"2024-01-18\",\"2024-01-19\",\"2024-01-22\",\"2024-01-23\",\"2024-01-24\",\"2024-01-25\",\"2024-01-26\",\"2024-01-29\",\"2024-01-30\",\"2024-01-31\",\"2024-02-01\",\"2024-02-02\",\"2024-02-05\",\"2024-02-06\",\"2024-02-07\",\"2024-02-08\",\"2024-02-09\",\"2024-02-14\",\"2024-02-15\",\"2024-02-16\",\"2024-02-19\",\"2024-02-20\",\"2024-02-21\",\"2024-02-22\",\"2024-02-23\",\"2024-02-26\",\"2024-02-27\",\"2024-02-28\",\"2024-02-29\",\"2024-03-01\",\"2024-03-04\",\"2024-03-05\",\"2024-03-06\",\"2024-03-07\",\"2024-03-08\",\"2024-03-11\",\"2024-03-12\",\"2024-03-13\",\"2024-03-14\",\"2024-03-15\"],\"y\":[\"\",0.0,91.99984741269145,100.0,56.7164094125953,76.61286104984018,61.29025112964038,55.22384235667884,69.81138865596873,0.0,31.818103001974237,100.0,100.0,100.0,49.44443149330626,50.81077848756408,100.0,100.0,100.0,100.0,69.40132118720766,56.739811537357696,72.98382755130606,0.0,0.0,17.120596578047795,100.0,56.179813808356336,0.0,0.0,39.43219943296959,100.0,71.68667084904598,0.0,0.0,0.0,0.0,0.0,0.0,18.49316947564931,53.465526032519406,0.0,54.07721386974723,74.11773945629369,0.0,0.0,0.0,54.237573061604515,22.535158296283356,0.0,0.0,0.0,0.0,84.77805377679564,75.66035658067761,22.289094331037617,57.81273283225349,0.0,0.0,66.16163562241351,76.16276361926603,2.381449759766028,100.0,100.0,100.0,2.04073688663064,0.0,0.0,67.85716718550964,100.0,100.0,100.0,43.790905079023936,27.73118941375597,94.28562086516769,0.0,50.312507078049876,41.70985377654969,0.0,0.0,99.74558955567959,94.45783929912483,79.27933191284625,93.61689176027531,0.0,0.0,0.0,44.117449062023155,23.43730442090707,0.0],\"yaxis\":\"y3\",\"type\":\"scatter\"},{\"legendgroup\":\"RSI(Close,2)\",\"line\":{\"color\":\"red\",\"width\":1},\"mode\":\"lines\",\"name\":\"\",\"showlegend\":true,\"text\":\"\",\"x\":[\"2023-11-03\",\"2023-11-06\",\"2023-11-07\",\"2023-11-08\",\"2023-11-09\",\"2023-11-10\",\"2023-11-13\",\"2023-11-14\",\"2023-11-16\",\"2023-11-17\",\"2023-11-20\",\"2023-11-21\",\"2023-11-22\",\"2023-11-23\",\"2023-11-24\",\"2023-11-27\",\"2023-11-28\",\"2023-11-29\",\"2023-11-30\",\"2023-12-01\",\"2023-12-04\",\"2023-12-05\",\"2023-12-06\",\"2023-12-07\",\"2023-12-08\",\"2023-12-11\",\"2023-12-12\",\"2023-12-13\",\"2023-12-14\",\"2023-12-15\",\"2023-12-18\",\"2023-12-19\",\"2023-12-20\",\"2023-12-21\",\"2023-12-22\",\"2023-12-26\",\"2023-12-27\",\"2023-12-28\",\"2024-01-02\",\"2024-01-03\",\"2024-01-04\",\"2024-01-05\",\"2024-01-08\",\"2024-01-09\",\"2024-01-10\",\"2024-01-11\",\"2024-01-12\",\"2024-01-15\",\"2024-01-16\",\"2024-01-17\",\"2024-01-18\",\"2024-01-19\",\"2024-01-22\",\"2024-01-23\",\"2024-01-24\",\"2024-01-25\",\"2024-01-26\",\"2024-01-29\",\"2024-01-30\",\"2024-01-31\",\"2024-02-01\",\"2024-02-02\",\"2024-02-05\",\"2024-02-06\",\"2024-02-07\",\"2024-02-08\",\"2024-02-09\",\"2024-02-14\",\"2024-02-15\",\"2024-02-16\",\"2024-02-19\",\"2024-02-20\",\"2024-02-21\",\"2024-02-22\",\"2024-02-23\",\"2024-02-26\",\"2024-02-27\",\"2024-02-28\",\"2024-02-29\",\"2024-03-01\",\"2024-03-04\",\"2024-03-05\",\"2024-03-06\",\"2024-03-07\",\"2024-03-08\",\"2024-03-11\",\"2024-03-12\",\"2024-03-13\",\"2024-03-14\",\"2024-03-15\"],\"y\":[5,5,5,5,5,5,5,5,5,5,5,5,5,5,5,5,5,5,5,5,5,5,5,5,5,5,5,5,5,5,5,5,5,5,5,5,5,5,5,5,5,5,5,5,5,5,5,5,5,5,5,5,5,5,5,5,5,5,5,5,5,5,5,5,5,5,5,5,5,5,5,5,5,5,5,5,5,5,5,5,5,5,5,5,5,5,5,5,5,5],\"yaxis\":\"y3\",\"type\":\"scatter\"},{\"legendgroup\":\"RSI(Close,2)\",\"line\":{\"color\":\"green\",\"width\":1},\"mode\":\"lines\",\"name\":\"\",\"showlegend\":true,\"text\":\"\",\"x\":[\"2023-11-03\",\"2023-11-06\",\"2023-11-07\",\"2023-11-08\",\"2023-11-09\",\"2023-11-10\",\"2023-11-13\",\"2023-11-14\",\"2023-11-16\",\"2023-11-17\",\"2023-11-20\",\"2023-11-21\",\"2023-11-22\",\"2023-11-23\",\"2023-11-24\",\"2023-11-27\",\"2023-11-28\",\"2023-11-29\",\"2023-11-30\",\"2023-12-01\",\"2023-12-04\",\"2023-12-05\",\"2023-12-06\",\"2023-12-07\",\"2023-12-08\",\"2023-12-11\",\"2023-12-12\",\"2023-12-13\",\"2023-12-14\",\"2023-12-15\",\"2023-12-18\",\"2023-12-19\",\"2023-12-20\",\"2023-12-21\",\"2023-12-22\",\"2023-12-26\",\"2023-12-27\",\"2023-12-28\",\"2024-01-02\",\"2024-01-03\",\"2024-01-04\",\"2024-01-05\",\"2024-01-08\",\"2024-01-09\",\"2024-01-10\",\"2024-01-11\",\"2024-01-12\",\"2024-01-15\",\"2024-01-16\",\"2024-01-17\",\"2024-01-18\",\"2024-01-19\",\"2024-01-22\",\"2024-01-23\",\"2024-01-24\",\"2024-01-25\",\"2024-01-26\",\"2024-01-29\",\"2024-01-30\",\"2024-01-31\",\"2024-02-01\",\"2024-02-02\",\"2024-02-05\",\"2024-02-06\",\"2024-02-07\",\"2024-02-08\",\"2024-02-09\",\"2024-02-14\",\"2024-02-15\",\"2024-02-16\",\"2024-02-19\",\"2024-02-20\",\"2024-02-21\",\"2024-02-22\",\"2024-02-23\",\"2024-02-26\",\"2024-02-27\",\"2024-02-28\",\"2024-02-29\",\"2024-03-01\",\"2024-03-04\",\"2024-03-05\",\"2024-03-06\",\"2024-03-07\",\"2024-03-08\",\"2024-03-11\",\"2024-03-12\",\"2024-03-13\",\"2024-03-14\",\"2024-03-15\"],\"y\":[95,95,95,95,95,95,95,95,95,95,95,95,95,95,95,95,95,95,95,95,95,95,95,95,95,95,95,95,95,95,95,95,95,95,95,95,95,95,95,95,95,95,95,95,95,95,95,95,95,95,95,95,95,95,95,95,95,95,95,95,95,95,95,95,95,95,95,95,95,95,95,95,95,95,95,95,95,95,95,95,95,95,95,95,95,95,95,95,95,95],\"yaxis\":\"y3\",\"type\":\"scatter\"},{\"close\":[42.25,42.16999816894531,43.09000015258789,43.470001220703125,43.18000030517578,44.130001068115234,43.529998779296875,44.27000045776367,43.95000076293945,42.900001525878906,43.38999938964844,44.08000183105469,46.810001373291016,47.70000076293945,46.790000915527344,47.72999954223633,48.90999984741211,48.93000030517578,50.5,53.630001068115234,52.25,54.060001373291016,53.38999938964844,52.709999084472656,50.58000183105469,51.02000045776367,51.52000045776367,51.130001068115234,49.5,47.58000183105469,48.83000183105469,50.02000045776367,49.54999923706055,48.54999923706055,45.54999923706055,45.22999954223633,45.0,44.29999923706055,41.91999816894531,42.459999084472656,41.9900016784668,40.91999816894531,42.18000030517578,41.7400016784668,40.77000045776367,40.599998474121094,40.33000183105469,40.650001525878906,39.54999923706055,38.91999816894531,38.619998931884766,38.54999923706055,37.83000183105469,41.84000015258789,40.54999923706055,40.91999816894531,40.650001525878906,40.119998931884766,39.45000076293945,40.7599983215332,40.349998474121094,40.36000061035156,40.58000183105469,42.2400016784668,42.27000045776367,40.83000183105469,39.79999923706055,39.619998931884766,40.0,40.5099983215332,41.16999816894531,41.84000015258789,40.97999954223633,41.310001373291016,41.290000915527344,39.70000076293945,41.310001373291016,39.060001373291016,38.81999969482422,38.810001373291016,42.72999954223633,42.5,43.380001068115234,43.31999969482422,42.79999923706055,40.63999938964844,40.45000076293945,40.599998474121094,40.11000061035156,39.040000915527344],\"decreasing\":{\"line\":{\"color\":\"#db4052\"}},\"high\":[42.849998474121094,42.84000015258789,43.130001068115234,44.02000045776367,44.650001525878906,44.529998779296875,44.650001525878906,45.66999816894531,44.75,44.45000076293945,43.5,44.2400016784668,46.810001373291016,49.20000076293945,47.900001525878906,47.849998474121094,48.95000076293945,49.779998779296875,51.349998474121094,53.630001068115234,53.900001525878906,54.56999969482422,54.4900016784668,54.25,53.380001068115234,51.290000915527344,52.099998474121094,52.18000030517578,51.79999923706055,49.95000076293945,49.310001373291016,50.130001068115234,51.439998626708984,50.20000076293945,49.130001068115234,46.29999923706055,45.56999969482422,45.20000076293945,44.40999984741211,42.79999923706055,42.97999954223633,42.310001373291016,42.70000076293945,42.189998626708984,42.18000030517578,41.099998474121094,41.349998474121094,40.880001068115234,40.68000030517578,39.70000076293945,39.38999938964844,38.9900016784668,38.810001373291016,42.0,41.880001068115234,41.439998626708984,41.400001525878906,40.91999816894531,40.41999816894531,41.79999923706055,40.869998931884766,40.599998474121094,40.70000076293945,42.439998626708984,42.970001220703125,42.779998779296875,41.220001220703125,39.970001220703125,40.70000076293945,40.61000061035156,41.68000030517578,41.959999084472656,41.939998626708984,41.58000183105469,41.849998474121094,41.63999938964844,41.45000076293945,41.220001220703125,39.25,39.27000045776367,42.779998779296875,43.97999954223633,43.79999923706055,43.93000030517578,43.72999954223633,43.36000061035156,41.15999984741211,41.040000915527344,40.849998474121094,40.34000015258789],\"increasing\":{\"line\":{\"color\":\"#008000\"}},\"low\":[41.38999938964844,41.880001068115234,41.849998474121094,42.18000030517578,42.959999084472656,41.810001373291016,42.95000076293945,43.70000076293945,43.209999084472656,42.83000183105469,42.599998474121094,42.77000045776367,44.09000015258789,46.400001525878906,45.70000076293945,46.31999969482422,47.060001373291016,48.68000030517578,49.04999923706055,49.88999938964844,52.060001373291016,52.45000076293945,53.20000076293945,52.68000030517578,50.31999969482422,49.849998474121094,50.4900016784668,50.349998474121094,49.209999084472656,46.52000045776367,47.31999969482422,48.689998626708984,49.279998779296875,48.43000030517578,45.52000045776367,44.91999816894531,44.900001525878906,44.08000183105469,41.65999984741211,41.54999923706055,41.0099983215332,40.79999923706055,40.7599983215332,41.290000915527344,40.5,40.04999923706055,40.2400016784668,40.16999816894531,39.09000015258789,38.540000915527344,38.290000915527344,37.91999816894531,37.5099983215332,39.16999816894531,39.65999984741211,39.369998931884766,40.09000015258789,39.95000076293945,39.279998779296875,39.5,40.0,39.75,40.150001525878906,40.630001068115234,42.0,40.400001525878906,39.79999923706055,39.20000076293945,39.5,39.52000045776367,40.150001525878906,40.84000015258789,40.36000061035156,40.939998626708984,40.900001525878906,39.65999984741211,39.939998626708984,38.5,38.599998474121094,38.11000061035156,39.7400016784668,42.310001373291016,42.16999816894531,43.02000045776367,42.619998931884766,40.439998626708984,40.09000015258789,40.0099983215332,40.0099983215332,39.040000915527344],\"name\":\"GS\",\"open\":[42.06999969482422,42.41999816894531,42.08000183105469,43.18000030517578,43.63999938964844,42.959999084472656,44.029998779296875,43.70000076293945,44.45000076293945,44.130001068115234,42.9900016784668,42.77000045776367,44.09000015258789,46.900001525878906,47.900001525878906,46.84000015258789,47.849998474121094,49.29999923706055,49.29999923706055,50.7400016784668,53.47999954223633,52.45000076293945,54.4900016784668,53.66999816894531,53.0099983215332,50.45000076293945,51.29999923706055,51.7400016784668,51.5,49.599998474121094,47.95000076293945,49.0,50.099998474121094,49.880001068115234,48.900001525878906,45.599998474121094,45.279998779296875,45.11000061035156,44.34000015258789,41.790000915527344,42.599998474121094,41.97999954223633,40.939998626708984,42.16999816894531,41.900001525878906,40.939998626708984,40.77000045776367,40.5,40.650001525878906,39.43000030517578,39.22999954223633,38.91999816894531,38.619998931884766,39.16999816894531,41.84000015258789,40.220001220703125,41.099998474121094,40.52000045776367,40.20000076293945,39.5,40.869998931884766,40.5,40.349998474121094,40.650001525878906,42.2400016784668,42.310001373291016,40.79999923706055,39.709999084472656,39.93000030517578,40.310001373291016,40.34000015258789,40.84000015258789,41.65999984741211,41.0,41.310001373291016,41.08000183105469,40.0,41.119998931884766,39.060001373291016,39.0,40.0,42.4900016784668,42.650001525878906,43.400001525878906,42.9900016784668,42.83000183105469,40.79999923706055,40.400001525878906,40.40999984741211,40.29999923706055],\"showlegend\":true,\"x\":[\"2023-11-03\",\"2023-11-06\",\"2023-11-07\",\"2023-11-08\",\"2023-11-09\",\"2023-11-10\",\"2023-11-13\",\"2023-11-14\",\"2023-11-16\",\"2023-11-17\",\"2023-11-20\",\"2023-11-21\",\"2023-11-22\",\"2023-11-23\",\"2023-11-24\",\"2023-11-27\",\"2023-11-28\",\"2023-11-29\",\"2023-11-30\",\"2023-12-01\",\"2023-12-04\",\"2023-12-05\",\"2023-12-06\",\"2023-12-07\",\"2023-12-08\",\"2023-12-11\",\"2023-12-12\",\"2023-12-13\",\"2023-12-14\",\"2023-12-15\",\"2023-12-18\",\"2023-12-19\",\"2023-12-20\",\"2023-12-21\",\"2023-12-22\",\"2023-12-26\",\"2023-12-27\",\"2023-12-28\",\"2024-01-02\",\"2024-01-03\",\"2024-01-04\",\"2024-01-05\",\"2024-01-08\",\"2024-01-09\",\"2024-01-10\",\"2024-01-11\",\"2024-01-12\",\"2024-01-15\",\"2024-01-16\",\"2024-01-17\",\"2024-01-18\",\"2024-01-19\",\"2024-01-22\",\"2024-01-23\",\"2024-01-24\",\"2024-01-25\",\"2024-01-26\",\"2024-01-29\",\"2024-01-30\",\"2024-01-31\",\"2024-02-01\",\"2024-02-02\",\"2024-02-05\",\"2024-02-06\",\"2024-02-07\",\"2024-02-08\",\"2024-02-09\",\"2024-02-14\",\"2024-02-15\",\"2024-02-16\",\"2024-02-19\",\"2024-02-20\",\"2024-02-21\",\"2024-02-22\",\"2024-02-23\",\"2024-02-26\",\"2024-02-27\",\"2024-02-28\",\"2024-02-29\",\"2024-03-01\",\"2024-03-04\",\"2024-03-05\",\"2024-03-06\",\"2024-03-07\",\"2024-03-08\",\"2024-03-11\",\"2024-03-12\",\"2024-03-13\",\"2024-03-14\",\"2024-03-15\"],\"yaxis\":\"y2\",\"type\":\"candlestick\"}],                        {\"legend\":{\"bgcolor\":\"#F5F6F9\",\"font\":{\"color\":\"#4D5663\"},\"orientation\":\"h\",\"x\":0.3,\"y\":0.95,\"yanchor\":\"bottom\"},\"margin\":{\"b\":30,\"l\":30,\"r\":30,\"t\":30},\"paper_bgcolor\":\"#F5F6F9\",\"plot_bgcolor\":\"#F5F6F9\",\"showlegend\":true,\"template\":{\"data\":{\"barpolar\":[{\"marker\":{\"line\":{\"color\":\"#E5ECF6\",\"width\":0.5},\"pattern\":{\"fillmode\":\"overlay\",\"size\":10,\"solidity\":0.2}},\"type\":\"barpolar\"}],\"bar\":[{\"error_x\":{\"color\":\"#2a3f5f\"},\"error_y\":{\"color\":\"#2a3f5f\"},\"marker\":{\"line\":{\"color\":\"#E5ECF6\",\"width\":0.5},\"pattern\":{\"fillmode\":\"overlay\",\"size\":10,\"solidity\":0.2}},\"type\":\"bar\"}],\"carpet\":[{\"aaxis\":{\"endlinecolor\":\"#2a3f5f\",\"gridcolor\":\"white\",\"linecolor\":\"white\",\"minorgridcolor\":\"white\",\"startlinecolor\":\"#2a3f5f\"},\"baxis\":{\"endlinecolor\":\"#2a3f5f\",\"gridcolor\":\"white\",\"linecolor\":\"white\",\"minorgridcolor\":\"white\",\"startlinecolor\":\"#2a3f5f\"},\"type\":\"carpet\"}],\"choropleth\":[{\"colorbar\":{\"outlinewidth\":0,\"ticks\":\"\"},\"type\":\"choropleth\"}],\"contourcarpet\":[{\"colorbar\":{\"outlinewidth\":0,\"ticks\":\"\"},\"type\":\"contourcarpet\"}],\"contour\":[{\"colorbar\":{\"outlinewidth\":0,\"ticks\":\"\"},\"colorscale\":[[0.0,\"#0d0887\"],[0.1111111111111111,\"#46039f\"],[0.2222222222222222,\"#7201a8\"],[0.3333333333333333,\"#9c179e\"],[0.4444444444444444,\"#bd3786\"],[0.5555555555555556,\"#d8576b\"],[0.6666666666666666,\"#ed7953\"],[0.7777777777777778,\"#fb9f3a\"],[0.8888888888888888,\"#fdca26\"],[1.0,\"#f0f921\"]],\"type\":\"contour\"}],\"heatmapgl\":[{\"colorbar\":{\"outlinewidth\":0,\"ticks\":\"\"},\"colorscale\":[[0.0,\"#0d0887\"],[0.1111111111111111,\"#46039f\"],[0.2222222222222222,\"#7201a8\"],[0.3333333333333333,\"#9c179e\"],[0.4444444444444444,\"#bd3786\"],[0.5555555555555556,\"#d8576b\"],[0.6666666666666666,\"#ed7953\"],[0.7777777777777778,\"#fb9f3a\"],[0.8888888888888888,\"#fdca26\"],[1.0,\"#f0f921\"]],\"type\":\"heatmapgl\"}],\"heatmap\":[{\"colorbar\":{\"outlinewidth\":0,\"ticks\":\"\"},\"colorscale\":[[0.0,\"#0d0887\"],[0.1111111111111111,\"#46039f\"],[0.2222222222222222,\"#7201a8\"],[0.3333333333333333,\"#9c179e\"],[0.4444444444444444,\"#bd3786\"],[0.5555555555555556,\"#d8576b\"],[0.6666666666666666,\"#ed7953\"],[0.7777777777777778,\"#fb9f3a\"],[0.8888888888888888,\"#fdca26\"],[1.0,\"#f0f921\"]],\"type\":\"heatmap\"}],\"histogram2dcontour\":[{\"colorbar\":{\"outlinewidth\":0,\"ticks\":\"\"},\"colorscale\":[[0.0,\"#0d0887\"],[0.1111111111111111,\"#46039f\"],[0.2222222222222222,\"#7201a8\"],[0.3333333333333333,\"#9c179e\"],[0.4444444444444444,\"#bd3786\"],[0.5555555555555556,\"#d8576b\"],[0.6666666666666666,\"#ed7953\"],[0.7777777777777778,\"#fb9f3a\"],[0.8888888888888888,\"#fdca26\"],[1.0,\"#f0f921\"]],\"type\":\"histogram2dcontour\"}],\"histogram2d\":[{\"colorbar\":{\"outlinewidth\":0,\"ticks\":\"\"},\"colorscale\":[[0.0,\"#0d0887\"],[0.1111111111111111,\"#46039f\"],[0.2222222222222222,\"#7201a8\"],[0.3333333333333333,\"#9c179e\"],[0.4444444444444444,\"#bd3786\"],[0.5555555555555556,\"#d8576b\"],[0.6666666666666666,\"#ed7953\"],[0.7777777777777778,\"#fb9f3a\"],[0.8888888888888888,\"#fdca26\"],[1.0,\"#f0f921\"]],\"type\":\"histogram2d\"}],\"histogram\":[{\"marker\":{\"pattern\":{\"fillmode\":\"overlay\",\"size\":10,\"solidity\":0.2}},\"type\":\"histogram\"}],\"mesh3d\":[{\"colorbar\":{\"outlinewidth\":0,\"ticks\":\"\"},\"type\":\"mesh3d\"}],\"parcoords\":[{\"line\":{\"colorbar\":{\"outlinewidth\":0,\"ticks\":\"\"}},\"type\":\"parcoords\"}],\"pie\":[{\"automargin\":true,\"type\":\"pie\"}],\"scatter3d\":[{\"line\":{\"colorbar\":{\"outlinewidth\":0,\"ticks\":\"\"}},\"marker\":{\"colorbar\":{\"outlinewidth\":0,\"ticks\":\"\"}},\"type\":\"scatter3d\"}],\"scattercarpet\":[{\"marker\":{\"colorbar\":{\"outlinewidth\":0,\"ticks\":\"\"}},\"type\":\"scattercarpet\"}],\"scattergeo\":[{\"marker\":{\"colorbar\":{\"outlinewidth\":0,\"ticks\":\"\"}},\"type\":\"scattergeo\"}],\"scattergl\":[{\"marker\":{\"colorbar\":{\"outlinewidth\":0,\"ticks\":\"\"}},\"type\":\"scattergl\"}],\"scattermapbox\":[{\"marker\":{\"colorbar\":{\"outlinewidth\":0,\"ticks\":\"\"}},\"type\":\"scattermapbox\"}],\"scatterpolargl\":[{\"marker\":{\"colorbar\":{\"outlinewidth\":0,\"ticks\":\"\"}},\"type\":\"scatterpolargl\"}],\"scatterpolar\":[{\"marker\":{\"colorbar\":{\"outlinewidth\":0,\"ticks\":\"\"}},\"type\":\"scatterpolar\"}],\"scatter\":[{\"fillpattern\":{\"fillmode\":\"overlay\",\"size\":10,\"solidity\":0.2},\"type\":\"scatter\"}],\"scatterternary\":[{\"marker\":{\"colorbar\":{\"outlinewidth\":0,\"ticks\":\"\"}},\"type\":\"scatterternary\"}],\"surface\":[{\"colorbar\":{\"outlinewidth\":0,\"ticks\":\"\"},\"colorscale\":[[0.0,\"#0d0887\"],[0.1111111111111111,\"#46039f\"],[0.2222222222222222,\"#7201a8\"],[0.3333333333333333,\"#9c179e\"],[0.4444444444444444,\"#bd3786\"],[0.5555555555555556,\"#d8576b\"],[0.6666666666666666,\"#ed7953\"],[0.7777777777777778,\"#fb9f3a\"],[0.8888888888888888,\"#fdca26\"],[1.0,\"#f0f921\"]],\"type\":\"surface\"}],\"table\":[{\"cells\":{\"fill\":{\"color\":\"#EBF0F8\"},\"line\":{\"color\":\"white\"}},\"header\":{\"fill\":{\"color\":\"#C8D4E3\"},\"line\":{\"color\":\"white\"}},\"type\":\"table\"}]},\"layout\":{\"annotationdefaults\":{\"arrowcolor\":\"#2a3f5f\",\"arrowhead\":0,\"arrowwidth\":1},\"autotypenumbers\":\"strict\",\"coloraxis\":{\"colorbar\":{\"outlinewidth\":0,\"ticks\":\"\"}},\"colorscale\":{\"diverging\":[[0,\"#8e0152\"],[0.1,\"#c51b7d\"],[0.2,\"#de77ae\"],[0.3,\"#f1b6da\"],[0.4,\"#fde0ef\"],[0.5,\"#f7f7f7\"],[0.6,\"#e6f5d0\"],[0.7,\"#b8e186\"],[0.8,\"#7fbc41\"],[0.9,\"#4d9221\"],[1,\"#276419\"]],\"sequential\":[[0.0,\"#0d0887\"],[0.1111111111111111,\"#46039f\"],[0.2222222222222222,\"#7201a8\"],[0.3333333333333333,\"#9c179e\"],[0.4444444444444444,\"#bd3786\"],[0.5555555555555556,\"#d8576b\"],[0.6666666666666666,\"#ed7953\"],[0.7777777777777778,\"#fb9f3a\"],[0.8888888888888888,\"#fdca26\"],[1.0,\"#f0f921\"]],\"sequentialminus\":[[0.0,\"#0d0887\"],[0.1111111111111111,\"#46039f\"],[0.2222222222222222,\"#7201a8\"],[0.3333333333333333,\"#9c179e\"],[0.4444444444444444,\"#bd3786\"],[0.5555555555555556,\"#d8576b\"],[0.6666666666666666,\"#ed7953\"],[0.7777777777777778,\"#fb9f3a\"],[0.8888888888888888,\"#fdca26\"],[1.0,\"#f0f921\"]]},\"colorway\":[\"#636efa\",\"#EF553B\",\"#00cc96\",\"#ab63fa\",\"#FFA15A\",\"#19d3f3\",\"#FF6692\",\"#B6E880\",\"#FF97FF\",\"#FECB52\"],\"font\":{\"color\":\"#2a3f5f\"},\"geo\":{\"bgcolor\":\"white\",\"lakecolor\":\"white\",\"landcolor\":\"#E5ECF6\",\"showlakes\":true,\"showland\":true,\"subunitcolor\":\"white\"},\"hoverlabel\":{\"align\":\"left\"},\"hovermode\":\"closest\",\"mapbox\":{\"style\":\"light\"},\"paper_bgcolor\":\"white\",\"plot_bgcolor\":\"#E5ECF6\",\"polar\":{\"angularaxis\":{\"gridcolor\":\"white\",\"linecolor\":\"white\",\"ticks\":\"\"},\"bgcolor\":\"#E5ECF6\",\"radialaxis\":{\"gridcolor\":\"white\",\"linecolor\":\"white\",\"ticks\":\"\"}},\"scene\":{\"xaxis\":{\"backgroundcolor\":\"#E5ECF6\",\"gridcolor\":\"white\",\"gridwidth\":2,\"linecolor\":\"white\",\"showbackground\":true,\"ticks\":\"\",\"zerolinecolor\":\"white\"},\"yaxis\":{\"backgroundcolor\":\"#E5ECF6\",\"gridcolor\":\"white\",\"gridwidth\":2,\"linecolor\":\"white\",\"showbackground\":true,\"ticks\":\"\",\"zerolinecolor\":\"white\"},\"zaxis\":{\"backgroundcolor\":\"#E5ECF6\",\"gridcolor\":\"white\",\"gridwidth\":2,\"linecolor\":\"white\",\"showbackground\":true,\"ticks\":\"\",\"zerolinecolor\":\"white\"}},\"shapedefaults\":{\"line\":{\"color\":\"#2a3f5f\"}},\"ternary\":{\"aaxis\":{\"gridcolor\":\"white\",\"linecolor\":\"white\",\"ticks\":\"\"},\"baxis\":{\"gridcolor\":\"white\",\"linecolor\":\"white\",\"ticks\":\"\"},\"bgcolor\":\"#E5ECF6\",\"caxis\":{\"gridcolor\":\"white\",\"linecolor\":\"white\",\"ticks\":\"\"}},\"title\":{\"x\":0.05},\"xaxis\":{\"automargin\":true,\"gridcolor\":\"white\",\"linecolor\":\"white\",\"ticks\":\"\",\"title\":{\"standoff\":15},\"zerolinecolor\":\"white\",\"zerolinewidth\":2},\"yaxis\":{\"automargin\":true,\"gridcolor\":\"white\",\"linecolor\":\"white\",\"ticks\":\"\",\"title\":{\"standoff\":15},\"zerolinecolor\":\"white\",\"zerolinewidth\":2}}},\"title\":{\"font\":{\"color\":\"#4D5663\"},\"text\":\"YDUQ3\"},\"xaxis\":{\"anchor\":\"y2\",\"gridcolor\":\"#E1E5ED\",\"rangeselector\":{\"bgcolor\":\"rgba(150, 200, 250, 1)\",\"buttons\":[{\"count\":1,\"label\":\"1m\",\"step\":\"month\",\"stepmode\":\"backward\"},{\"count\":1,\"label\":\"1y\",\"step\":\"year\",\"stepmode\":\"backward\"}],\"font\":{\"size\":13},\"visible\":false,\"x\":0,\"y\":0.9},\"rangeslider\":{\"visible\":false},\"showgrid\":true,\"tickfont\":{\"color\":\"#4D5663\"},\"title\":{\"font\":{\"color\":\"#4D5663\"},\"text\":\"\"},\"zerolinecolor\":\"#E1E5ED\",\"rangebreaks\":[{\"bounds\":[\"sat\",\"mon\"]}]},\"yaxis\":{\"gridcolor\":\"#E1E5ED\",\"showgrid\":true,\"showticklabels\":false,\"tickfont\":{\"color\":\"#4D5663\"},\"title\":{\"font\":{\"color\":\"#4D5663\"},\"text\":\"\"},\"zerolinecolor\":\"#E1E5ED\"},\"yaxis2\":{\"domain\":[0.23,0.9],\"gridcolor\":\"#E1E5ED\",\"showgrid\":true,\"tickfont\":{\"color\":\"#4D5663\"},\"title\":{\"font\":{\"color\":\"#4D5663\"},\"text\":\"\"},\"zerolinecolor\":\"#E1E5ED\"},\"yaxis3\":{\"domain\":[0.0,0.15],\"gridcolor\":\"#E1E5ED\",\"showgrid\":true,\"tickfont\":{\"color\":\"#4D5663\"},\"title\":{\"font\":{\"color\":\"#4D5663\"},\"text\":\"\"},\"zerolinecolor\":\"#E1E5ED\"}},                        {\"responsive\": true}                    ).then(function(){\n",
              "                            \n",
              "var gd = document.getElementById('9b274395-f986-4e3e-827a-ec15dd65ea75');\n",
              "var x = new MutationObserver(function (mutations, observer) {{\n",
              "        var display = window.getComputedStyle(gd).display;\n",
              "        if (!display || display === 'none') {{\n",
              "            console.log([gd, 'removed!']);\n",
              "            Plotly.purge(gd);\n",
              "            observer.disconnect();\n",
              "        }}\n",
              "}});\n",
              "\n",
              "// Listen for the removal of the full notebook cells\n",
              "var notebookContainer = gd.closest('#notebook-container');\n",
              "if (notebookContainer) {{\n",
              "    x.observe(notebookContainer, {childList: true});\n",
              "}}\n",
              "\n",
              "// Listen for the clearing of the current output cell\n",
              "var outputEl = gd.closest('.output');\n",
              "if (outputEl) {{\n",
              "    x.observe(outputEl, {childList: true});\n",
              "}}\n",
              "\n",
              "                        })                };                });            </script>        </div>"
            ]
          },
          "metadata": {},
          "output_type": "display_data"
        }
      ],
      "source": [
        "ohlc = yf.download(tickers= ativo+'.SA', period = periodo , auto_adjust=True, progress = False )\n",
        "\n",
        "qf=cf.QuantFig(ohlc[-90:] , title= x ,legend='top',name='GS',up_color='green', down_color='red' )\n",
        "#qf.add_bollinger_bands(periods=20, boll_std=2, colors=['cyan','grey'], fill=True)\n",
        "qf.add_ema(periods=5)\n",
        "qf.add_ema(periods=21)\n",
        "qf.add_ema(periods=72)\n",
        "qf.add_rsi(periods=2,color='red',rsi_upper=95,rsi_lower=5,showbands=True)\n",
        "\n",
        "fig = qf.figure()\n",
        "fig.update_xaxes(\n",
        "    rangebreaks=[dict(bounds=[\"sat\", \"mon\"])])\n",
        "fig.show()"
      ]
    },
    {
      "cell_type": "markdown",
      "metadata": {
        "id": "abIGckox54tp"
      },
      "source": [
        "**informações dos trades**"
      ]
    },
    {
      "cell_type": "code",
      "execution_count": 16,
      "metadata": {
        "colab": {
          "base_uri": "https://localhost:8080/"
        },
        "id": "O2ajq4WnIhCg",
        "outputId": "84a71bbd-7952-467f-8a09-26bdad18c871"
      },
      "outputs": [
        {
          "name": "stdout",
          "output_type": "stream",
          "text": [
            "\n",
            "****** BHIA3 (retornos) ********\n",
            "resumo dos retornos das operações:\n",
            "count    10.000000\n",
            "mean     -0.042929\n",
            "std       0.099297\n",
            "min      -0.198506\n",
            "25%      -0.105955\n",
            "50%      -0.005238\n",
            "75%       0.009060\n",
            "max       0.080000\n",
            "dtype: float64\n",
            "\n",
            "****** BRAP4 (retornos) ********\n",
            "resumo dos retornos das operações:\n",
            "count    9.000000\n",
            "mean     0.001224\n",
            "std      0.033426\n",
            "min     -0.054927\n",
            "25%     -0.028504\n",
            "50%      0.006470\n",
            "75%      0.027764\n",
            "max      0.040689\n",
            "dtype: float64\n",
            "\n",
            "****** CIEL3 (retornos) ********\n",
            "resumo dos retornos das operações:\n",
            "count    5.000000\n",
            "mean    -0.053367\n",
            "std      0.079114\n",
            "min     -0.151584\n",
            "25%     -0.107505\n",
            "50%     -0.055072\n",
            "75%      0.006508\n",
            "max      0.040816\n",
            "dtype: float64\n",
            "\n",
            "****** CMIN3 (retornos) ********\n",
            "resumo dos retornos das operações:\n",
            "count    4.000000\n",
            "mean    -0.004794\n",
            "std      0.058801\n",
            "min     -0.090175\n",
            "25%     -0.016819\n",
            "50%      0.013879\n",
            "75%      0.025904\n",
            "max      0.043243\n",
            "dtype: float64\n",
            "\n",
            "****** ENGI11 (retornos) ********\n",
            "resumo dos retornos das operações:\n",
            "count    7.000000\n",
            "mean     0.009773\n",
            "std      0.025415\n",
            "min     -0.043207\n",
            "25%      0.009760\n",
            "50%      0.011871\n",
            "75%      0.022152\n",
            "max      0.035926\n",
            "dtype: float64\n",
            "\n",
            "****** IRBR3 (retornos) ********\n",
            "resumo dos retornos das operações:\n",
            "count    7.000000\n",
            "mean     0.023919\n",
            "std      0.059840\n",
            "min     -0.065174\n",
            "25%     -0.018766\n",
            "50%      0.044838\n",
            "75%      0.069373\n",
            "max      0.086556\n",
            "dtype: float64\n",
            "\n",
            "****** PCAR3 (retornos) ********\n",
            "resumo dos retornos das operações:\n",
            "count    8.000000\n",
            "mean    -0.039803\n",
            "std      0.121328\n",
            "min     -0.270677\n",
            "25%     -0.059473\n",
            "50%      0.004348\n",
            "75%      0.021164\n",
            "max      0.091644\n",
            "dtype: float64\n",
            "\n",
            "****** USIM5 (retornos) ********\n",
            "resumo dos retornos das operações:\n",
            "count    8.000000\n",
            "mean     0.002721\n",
            "std      0.030614\n",
            "min     -0.050562\n",
            "25%     -0.010442\n",
            "50%     -0.000668\n",
            "75%      0.022365\n",
            "max      0.048023\n",
            "dtype: float64\n",
            "\n",
            "****** YDUQ3 (retornos) ********\n",
            "resumo dos retornos das operações:\n",
            "count    4.000000\n",
            "mean     0.051155\n",
            "std      0.021241\n",
            "min      0.022026\n",
            "25%      0.042034\n",
            "50%      0.057596\n",
            "75%      0.066717\n",
            "max      0.067400\n",
            "dtype: float64\n"
          ]
        }
      ],
      "source": [
        "for x in range(len(lista_ifr)):\n",
        "  print(\"\\n******\",retornos[x][0],\"(retornos) ********\")\n",
        "  print('resumo dos retornos das operações:')\n",
        "  print(pd.Series(retornos[x][1]).describe()  );"
      ]
    },
    {
      "cell_type": "code",
      "execution_count": 17,
      "metadata": {
        "colab": {
          "base_uri": "https://localhost:8080/"
        },
        "id": "7MUQT3z-wGED",
        "outputId": "68cf2f45-8515-4a25-ab21-4771a0c02e78"
      },
      "outputs": [
        {
          "data": {
            "text/plain": [
              "[['BHIA3',\n",
              "  ['entrada em 24/03/2023 e saida em 28/03/2023 durou 2 dias e variou 0.0%',\n",
              "   'entrada em 20/04/2023 e saida em 02/05/2023 durou 6 dias e variou 0.553%',\n",
              "   'entrada em 26/06/2023 e saida em 06/07/2023 durou 8 dias e variou -5.953%',\n",
              "   'entrada em 17/07/2023 e saida em 19/07/2023 durou 2 dias e variou 1.024%',\n",
              "   'entrada em 04/08/2023 e saida em 10/08/2023 durou 4 dias e variou -1.048%',\n",
              "   'entrada em 25/08/2023 e saida em 05/09/2023 durou 7 dias e variou -12.143%',\n",
              "   'entrada em 21/09/2023 e saida em 02/10/2023 durou 7 dias e variou -19.737%',\n",
              "   'entrada em 20/10/2023 e saida em 24/10/2023 durou 2 dias e variou 8.0%',\n",
              "   'entrada em 19/12/2023 e saida em 26/12/2023 durou 4 dias e variou 6.226%',\n",
              "   'entrada em 22/01/2024 e saida em 08/02/2024 durou 13 dias e variou -19.851%']],\n",
              " ['BRAP4',\n",
              "  ['entrada em 24/03/2023 e saida em 29/03/2023 durou 3 dias e variou 2.315%',\n",
              "   'entrada em 25/04/2023 e saida em 28/04/2023 durou 3 dias e variou 0.647%',\n",
              "   'entrada em 25/05/2023 e saida em 29/05/2023 durou 2 dias e variou 3.068%',\n",
              "   'entrada em 26/06/2023 e saida em 10/07/2023 durou 10 dias e variou -3.43%',\n",
              "   'entrada em 14/08/2023 e saida em 23/08/2023 durou 7 dias e variou -2.85%',\n",
              "   'entrada em 28/09/2023 e saida em 29/09/2023 durou 1 dias e variou 2.776%',\n",
              "   'entrada em 23/10/2023 e saida em 25/10/2023 durou 2 dias e variou 4.069%',\n",
              "   'entrada em 08/01/2024 e saida em 24/01/2024 durou 12 dias e variou -5.493%',\n",
              "   'entrada em 02/02/2024 e saida em 07/02/2024 durou 3 dias e variou 0.0%']],\n",
              " ['CIEL3',\n",
              "  ['entrada em 04/04/2023 e saida em 12/04/2023 durou 5 dias e variou 4.082%',\n",
              "   'entrada em 23/05/2023 e saida em 06/06/2023 durou 10 dias e variou -10.751%',\n",
              "   'entrada em 31/07/2023 e saida em 18/08/2023 durou 14 dias e variou -15.158%',\n",
              "   'entrada em 18/09/2023 e saida em 27/09/2023 durou 7 dias e variou -5.507%',\n",
              "   'entrada em 17/01/2024 e saida em 23/01/2024 durou 4 dias e variou 0.651%']],\n",
              " ['CMIN3',\n",
              "  ['entrada em 26/04/2023 e saida em 28/04/2023 durou 2 dias e variou 4.324%',\n",
              "   'entrada em 17/08/2023 e saida em 23/08/2023 durou 4 dias e variou 0.763%',\n",
              "   'entrada em 10/01/2024 e saida em 25/01/2024 durou 11 dias e variou -9.017%',\n",
              "   'entrada em 06/02/2024 e saida em 09/02/2024 durou 3 dias e variou 2.012%']],\n",
              " ['ENGI11',\n",
              "  ['entrada em 22/03/2023 e saida em 24/03/2023 durou 2 dias e variou 0.883%',\n",
              "   'entrada em 02/06/2023 e saida em 05/06/2023 durou 1 dias e variou 2.816%',\n",
              "   'entrada em 21/07/2023 e saida em 24/07/2023 durou 1 dias e variou 1.069%',\n",
              "   'entrada em 08/08/2023 e saida em 11/08/2023 durou 3 dias e variou 1.187%',\n",
              "   'entrada em 27/09/2023 e saida em 11/10/2023 durou 10 dias e variou -4.321%',\n",
              "   'entrada em 12/12/2023 e saida em 14/12/2023 durou 2 dias e variou 1.615%',\n",
              "   'entrada em 19/01/2024 e saida em 26/01/2024 durou 5 dias e variou 3.593%']],\n",
              " ['IRBR3',\n",
              "  ['entrada em 24/03/2023 e saida em 27/03/2023 durou 1 dias e variou 6.372%',\n",
              "   'entrada em 18/05/2023 e saida em 22/05/2023 durou 2 dias e variou 8.656%',\n",
              "   'entrada em 20/07/2023 e saida em 24/07/2023 durou 2 dias e variou -4.471%',\n",
              "   'entrada em 09/08/2023 e saida em 14/08/2023 durou 3 dias e variou 0.718%',\n",
              "   'entrada em 18/12/2023 e saida em 20/12/2023 durou 2 dias e variou 4.484%',\n",
              "   'entrada em 28/12/2023 e saida em 09/01/2024 durou 6 dias e variou -6.517%',\n",
              "   'entrada em 19/01/2024 e saida em 24/01/2024 durou 3 dias e variou 7.503%']],\n",
              " ['PCAR3',\n",
              "  ['entrada em 26/05/2023 e saida em 01/06/2023 durou 4 dias e variou -0.428%',\n",
              "   'entrada em 09/08/2023 e saida em 11/08/2023 durou 2 dias e variou 1.297%',\n",
              "   'entrada em 18/08/2023 e saida em 21/08/2023 durou 1 dias e variou 3.356%',\n",
              "   'entrada em 24/08/2023 e saida em 12/09/2023 durou 12 dias e variou -27.068%',\n",
              "   'entrada em 19/09/2023 e saida em 02/10/2023 durou 9 dias e variou -17.907%',\n",
              "   'entrada em 27/11/2023 e saida em 04/12/2023 durou 5 dias e variou -1.961%',\n",
              "   'entrada em 12/01/2024 e saida em 15/01/2024 durou 1 dias e variou 9.164%',\n",
              "   'entrada em 26/01/2024 e saida em 02/02/2024 durou 5 dias e variou 1.703%']],\n",
              " ['USIM5',\n",
              "  ['entrada em 24/03/2023 e saida em 29/03/2023 durou 3 dias e variou 3.16%',\n",
              "   'entrada em 25/04/2023 e saida em 28/04/2023 durou 3 dias e variou 1.929%',\n",
              "   'entrada em 31/05/2023 e saida em 05/06/2023 durou 3 dias e variou 4.802%',\n",
              "   'entrada em 10/08/2023 e saida em 22/08/2023 durou 8 dias e variou -1.697%',\n",
              "   'entrada em 22/09/2023 e saida em 29/09/2023 durou 5 dias e variou -0.451%',\n",
              "   'entrada em 06/10/2023 e saida em 13/10/2023 durou 4 dias e variou 0.317%',\n",
              "   'entrada em 20/10/2023 e saida em 27/10/2023 durou 5 dias e variou -0.826%',\n",
              "   'entrada em 05/01/2024 e saida em 16/01/2024 durou 7 dias e variou -5.056%']],\n",
              " ['YDUQ3',\n",
              "  ['entrada em 20/04/2023 e saida em 25/04/2023 durou 2 dias e variou 6.74%',\n",
              "   'entrada em 14/07/2023 e saida em 19/07/2023 durou 3 dias e variou 6.649%',\n",
              "   'entrada em 26/09/2023 e saida em 29/09/2023 durou 3 dias e variou 4.87%',\n",
              "   'entrada em 05/01/2024 e saida em 09/01/2024 durou 2 dias e variou 2.203%']]]"
            ]
          },
          "execution_count": 17,
          "metadata": {},
          "output_type": "execute_result"
        }
      ],
      "source": [
        "out"
      ]
    },
    {
      "cell_type": "code",
      "execution_count": 18,
      "metadata": {
        "colab": {
          "base_uri": "https://localhost:8080/",
          "height": 296
        },
        "id": "PEibksd_83UE",
        "outputId": "7fb87aec-0fa7-4f87-ffe7-c2aa4bca9c73"
      },
      "outputs": [
        {
          "data": {
            "text/plain": [
              "Date\n",
              "2023-03-15          NaN\n",
              "2023-03-16          NaN\n",
              "2023-03-17    84.892125\n",
              "2023-03-20    36.532485\n",
              "2023-03-21    32.152544\n",
              "                ...    \n",
              "2024-03-11     8.740796\n",
              "2024-03-12     7.661574\n",
              "2024-03-13    22.726132\n",
              "2024-03-14    11.000635\n",
              "2024-03-15     3.381344\n",
              "Length: 250, dtype: float64"
            ]
          },
          "execution_count": 18,
          "metadata": {},
          "output_type": "execute_result"
        }
      ],
      "source": [
        "import talib\n",
        "talib.RSI(ohlc[\"Close\"] , 2)"
      ]
    },
    {
      "cell_type": "code",
      "execution_count": 19,
      "metadata": {},
      "outputs": [
        {
          "data": {
            "text/plain": [
              "Date\n",
              "2023-03-15       NaN\n",
              "2023-03-16    100.00\n",
              "2023-03-17     73.75\n",
              "2023-03-20     22.35\n",
              "2023-03-21     19.16\n",
              "               ...  \n",
              "2024-03-11      8.74\n",
              "2024-03-12      7.66\n",
              "2024-03-13     22.73\n",
              "2024-03-14     11.00\n",
              "2024-03-15      3.38\n",
              "Name: rsi, Length: 250, dtype: float64"
            ]
          },
          "execution_count": 19,
          "metadata": {},
          "output_type": "execute_result"
        }
      ],
      "source": [
        "rsi(ohlc[\"Close\"])"
      ]
    },
    {
      "cell_type": "code",
      "execution_count": 20,
      "metadata": {},
      "outputs": [
        {
          "name": "stdout",
          "output_type": "stream",
          "text": [
            "Help on function full in module quantstats.reports:\n",
            "\n",
            "full(returns, benchmark=None, rf=0.0, grayscale=False, figsize=(8, 5), display=True, compounded=True, periods_per_year=252, match_dates=True, **kwargs)\n",
            "\n"
          ]
        }
      ],
      "source": [
        "import quantstats as qs\n",
        "\n",
        "help(qs.reports.full)"
      ]
    },
    {
      "cell_type": "code",
      "execution_count": 21,
      "metadata": {},
      "outputs": [
        {
          "data": {
            "text/html": [
              "<div>\n",
              "<style scoped>\n",
              "    .dataframe tbody tr th:only-of-type {\n",
              "        vertical-align: middle;\n",
              "    }\n",
              "\n",
              "    .dataframe tbody tr th {\n",
              "        vertical-align: top;\n",
              "    }\n",
              "\n",
              "    .dataframe thead th {\n",
              "        text-align: right;\n",
              "    }\n",
              "</style>\n",
              "<table border=\"1\" class=\"dataframe\">\n",
              "  <thead>\n",
              "    <tr style=\"text-align: right;\">\n",
              "      <th></th>\n",
              "      <th>Open</th>\n",
              "      <th>High</th>\n",
              "      <th>Low</th>\n",
              "      <th>Close</th>\n",
              "      <th>Volume</th>\n",
              "    </tr>\n",
              "    <tr>\n",
              "      <th>Date</th>\n",
              "      <th></th>\n",
              "      <th></th>\n",
              "      <th></th>\n",
              "      <th></th>\n",
              "      <th></th>\n",
              "    </tr>\n",
              "  </thead>\n",
              "  <tbody>\n",
              "    <tr>\n",
              "      <th>2023-03-15</th>\n",
              "      <td>20.700001</td>\n",
              "      <td>20.959999</td>\n",
              "      <td>20.389999</td>\n",
              "      <td>20.790001</td>\n",
              "      <td>1344800</td>\n",
              "    </tr>\n",
              "    <tr>\n",
              "      <th>2023-03-16</th>\n",
              "      <td>20.870001</td>\n",
              "      <td>22.450001</td>\n",
              "      <td>20.799999</td>\n",
              "      <td>21.969999</td>\n",
              "      <td>1824300</td>\n",
              "    </tr>\n",
              "    <tr>\n",
              "      <th>2023-03-17</th>\n",
              "      <td>21.879999</td>\n",
              "      <td>22.190001</td>\n",
              "      <td>21.250000</td>\n",
              "      <td>21.760000</td>\n",
              "      <td>2367700</td>\n",
              "    </tr>\n",
              "    <tr>\n",
              "      <th>2023-03-20</th>\n",
              "      <td>21.620001</td>\n",
              "      <td>21.910000</td>\n",
              "      <td>20.799999</td>\n",
              "      <td>20.840000</td>\n",
              "      <td>1334700</td>\n",
              "    </tr>\n",
              "    <tr>\n",
              "      <th>2023-03-21</th>\n",
              "      <td>20.920000</td>\n",
              "      <td>21.150000</td>\n",
              "      <td>20.549999</td>\n",
              "      <td>20.730000</td>\n",
              "      <td>783200</td>\n",
              "    </tr>\n",
              "    <tr>\n",
              "      <th>...</th>\n",
              "      <td>...</td>\n",
              "      <td>...</td>\n",
              "      <td>...</td>\n",
              "      <td>...</td>\n",
              "      <td>...</td>\n",
              "    </tr>\n",
              "    <tr>\n",
              "      <th>2024-03-11</th>\n",
              "      <td>42.830002</td>\n",
              "      <td>43.360001</td>\n",
              "      <td>40.439999</td>\n",
              "      <td>40.639999</td>\n",
              "      <td>3102100</td>\n",
              "    </tr>\n",
              "    <tr>\n",
              "      <th>2024-03-12</th>\n",
              "      <td>40.799999</td>\n",
              "      <td>41.160000</td>\n",
              "      <td>40.090000</td>\n",
              "      <td>40.450001</td>\n",
              "      <td>1594700</td>\n",
              "    </tr>\n",
              "    <tr>\n",
              "      <th>2024-03-13</th>\n",
              "      <td>40.400002</td>\n",
              "      <td>41.040001</td>\n",
              "      <td>40.009998</td>\n",
              "      <td>40.599998</td>\n",
              "      <td>1380300</td>\n",
              "    </tr>\n",
              "    <tr>\n",
              "      <th>2024-03-14</th>\n",
              "      <td>40.410000</td>\n",
              "      <td>40.849998</td>\n",
              "      <td>40.009998</td>\n",
              "      <td>40.110001</td>\n",
              "      <td>713500</td>\n",
              "    </tr>\n",
              "    <tr>\n",
              "      <th>2024-03-15</th>\n",
              "      <td>40.299999</td>\n",
              "      <td>40.340000</td>\n",
              "      <td>39.040001</td>\n",
              "      <td>39.040001</td>\n",
              "      <td>1886000</td>\n",
              "    </tr>\n",
              "  </tbody>\n",
              "</table>\n",
              "<p>250 rows × 5 columns</p>\n",
              "</div>"
            ],
            "text/plain": [
              "                 Open       High        Low      Close   Volume\n",
              "Date                                                           \n",
              "2023-03-15  20.700001  20.959999  20.389999  20.790001  1344800\n",
              "2023-03-16  20.870001  22.450001  20.799999  21.969999  1824300\n",
              "2023-03-17  21.879999  22.190001  21.250000  21.760000  2367700\n",
              "2023-03-20  21.620001  21.910000  20.799999  20.840000  1334700\n",
              "2023-03-21  20.920000  21.150000  20.549999  20.730000   783200\n",
              "...               ...        ...        ...        ...      ...\n",
              "2024-03-11  42.830002  43.360001  40.439999  40.639999  3102100\n",
              "2024-03-12  40.799999  41.160000  40.090000  40.450001  1594700\n",
              "2024-03-13  40.400002  41.040001  40.009998  40.599998  1380300\n",
              "2024-03-14  40.410000  40.849998  40.009998  40.110001   713500\n",
              "2024-03-15  40.299999  40.340000  39.040001  39.040001  1886000\n",
              "\n",
              "[250 rows x 5 columns]"
            ]
          },
          "execution_count": 21,
          "metadata": {},
          "output_type": "execute_result"
        }
      ],
      "source": [
        "ohlc"
      ]
    },
    {
      "cell_type": "code",
      "execution_count": 22,
      "metadata": {},
      "outputs": [
        {
          "ename": "KeyError",
          "evalue": "'retorno_estrategia'",
          "output_type": "error",
          "traceback": [
            "\u001b[0;31m---------------------------------------------------------------------------\u001b[0m",
            "\u001b[0;31mKeyError\u001b[0m                                  Traceback (most recent call last)",
            "File \u001b[0;32m~/bin/miniconda3/lib/python3.11/site-packages/pandas/core/indexes/base.py:3790\u001b[0m, in \u001b[0;36mIndex.get_loc\u001b[0;34m(self, key)\u001b[0m\n\u001b[1;32m   3789\u001b[0m \u001b[38;5;28;01mtry\u001b[39;00m:\n\u001b[0;32m-> 3790\u001b[0m     \u001b[38;5;28;01mreturn\u001b[39;00m \u001b[38;5;28;43mself\u001b[39;49m\u001b[38;5;241;43m.\u001b[39;49m\u001b[43m_engine\u001b[49m\u001b[38;5;241;43m.\u001b[39;49m\u001b[43mget_loc\u001b[49m\u001b[43m(\u001b[49m\u001b[43mcasted_key\u001b[49m\u001b[43m)\u001b[49m\n\u001b[1;32m   3791\u001b[0m \u001b[38;5;28;01mexcept\u001b[39;00m \u001b[38;5;167;01mKeyError\u001b[39;00m \u001b[38;5;28;01mas\u001b[39;00m err:\n",
            "File \u001b[0;32mindex.pyx:152\u001b[0m, in \u001b[0;36mpandas._libs.index.IndexEngine.get_loc\u001b[0;34m()\u001b[0m\n",
            "File \u001b[0;32mindex.pyx:181\u001b[0m, in \u001b[0;36mpandas._libs.index.IndexEngine.get_loc\u001b[0;34m()\u001b[0m\n",
            "File \u001b[0;32mpandas/_libs/hashtable_class_helper.pxi:7080\u001b[0m, in \u001b[0;36mpandas._libs.hashtable.PyObjectHashTable.get_item\u001b[0;34m()\u001b[0m\n",
            "File \u001b[0;32mpandas/_libs/hashtable_class_helper.pxi:7088\u001b[0m, in \u001b[0;36mpandas._libs.hashtable.PyObjectHashTable.get_item\u001b[0;34m()\u001b[0m\n",
            "\u001b[0;31mKeyError\u001b[0m: 'retorno_estrategia'",
            "\nThe above exception was the direct cause of the following exception:\n",
            "\u001b[0;31mKeyError\u001b[0m                                  Traceback (most recent call last)",
            "Cell \u001b[0;32mIn[22], line 5\u001b[0m\n\u001b[1;32m      2\u001b[0m \u001b[38;5;66;03m# Suppress FutureWarning messages\u001b[39;00m\n\u001b[1;32m      3\u001b[0m warnings\u001b[38;5;241m.\u001b[39msimplefilter(action\u001b[38;5;241m=\u001b[39m\u001b[38;5;124m'\u001b[39m\u001b[38;5;124mignore\u001b[39m\u001b[38;5;124m'\u001b[39m, category\u001b[38;5;241m=\u001b[39m\u001b[38;5;167;01mFutureWarning\u001b[39;00m)\n\u001b[0;32m----> 5\u001b[0m qs\u001b[38;5;241m.\u001b[39mreports\u001b[38;5;241m.\u001b[39mfull(\u001b[43mohlc\u001b[49m\u001b[43m[\u001b[49m\u001b[38;5;124;43m'\u001b[39;49m\u001b[38;5;124;43mretorno_estrategia\u001b[39;49m\u001b[38;5;124;43m'\u001b[39;49m\u001b[43m]\u001b[49m )\n",
            "File \u001b[0;32m~/bin/miniconda3/lib/python3.11/site-packages/pandas/core/frame.py:3893\u001b[0m, in \u001b[0;36mDataFrame.__getitem__\u001b[0;34m(self, key)\u001b[0m\n\u001b[1;32m   3891\u001b[0m \u001b[38;5;28;01mif\u001b[39;00m \u001b[38;5;28mself\u001b[39m\u001b[38;5;241m.\u001b[39mcolumns\u001b[38;5;241m.\u001b[39mnlevels \u001b[38;5;241m>\u001b[39m \u001b[38;5;241m1\u001b[39m:\n\u001b[1;32m   3892\u001b[0m     \u001b[38;5;28;01mreturn\u001b[39;00m \u001b[38;5;28mself\u001b[39m\u001b[38;5;241m.\u001b[39m_getitem_multilevel(key)\n\u001b[0;32m-> 3893\u001b[0m indexer \u001b[38;5;241m=\u001b[39m \u001b[38;5;28;43mself\u001b[39;49m\u001b[38;5;241;43m.\u001b[39;49m\u001b[43mcolumns\u001b[49m\u001b[38;5;241;43m.\u001b[39;49m\u001b[43mget_loc\u001b[49m\u001b[43m(\u001b[49m\u001b[43mkey\u001b[49m\u001b[43m)\u001b[49m\n\u001b[1;32m   3894\u001b[0m \u001b[38;5;28;01mif\u001b[39;00m is_integer(indexer):\n\u001b[1;32m   3895\u001b[0m     indexer \u001b[38;5;241m=\u001b[39m [indexer]\n",
            "File \u001b[0;32m~/bin/miniconda3/lib/python3.11/site-packages/pandas/core/indexes/base.py:3797\u001b[0m, in \u001b[0;36mIndex.get_loc\u001b[0;34m(self, key)\u001b[0m\n\u001b[1;32m   3792\u001b[0m     \u001b[38;5;28;01mif\u001b[39;00m \u001b[38;5;28misinstance\u001b[39m(casted_key, \u001b[38;5;28mslice\u001b[39m) \u001b[38;5;129;01mor\u001b[39;00m (\n\u001b[1;32m   3793\u001b[0m         \u001b[38;5;28misinstance\u001b[39m(casted_key, abc\u001b[38;5;241m.\u001b[39mIterable)\n\u001b[1;32m   3794\u001b[0m         \u001b[38;5;129;01mand\u001b[39;00m \u001b[38;5;28many\u001b[39m(\u001b[38;5;28misinstance\u001b[39m(x, \u001b[38;5;28mslice\u001b[39m) \u001b[38;5;28;01mfor\u001b[39;00m x \u001b[38;5;129;01min\u001b[39;00m casted_key)\n\u001b[1;32m   3795\u001b[0m     ):\n\u001b[1;32m   3796\u001b[0m         \u001b[38;5;28;01mraise\u001b[39;00m InvalidIndexError(key)\n\u001b[0;32m-> 3797\u001b[0m     \u001b[38;5;28;01mraise\u001b[39;00m \u001b[38;5;167;01mKeyError\u001b[39;00m(key) \u001b[38;5;28;01mfrom\u001b[39;00m \u001b[38;5;21;01merr\u001b[39;00m\n\u001b[1;32m   3798\u001b[0m \u001b[38;5;28;01mexcept\u001b[39;00m \u001b[38;5;167;01mTypeError\u001b[39;00m:\n\u001b[1;32m   3799\u001b[0m     \u001b[38;5;66;03m# If we have a listlike key, _check_indexing_error will raise\u001b[39;00m\n\u001b[1;32m   3800\u001b[0m     \u001b[38;5;66;03m#  InvalidIndexError. Otherwise we fall through and re-raise\u001b[39;00m\n\u001b[1;32m   3801\u001b[0m     \u001b[38;5;66;03m#  the TypeError.\u001b[39;00m\n\u001b[1;32m   3802\u001b[0m     \u001b[38;5;28mself\u001b[39m\u001b[38;5;241m.\u001b[39m_check_indexing_error(key)\n",
            "\u001b[0;31mKeyError\u001b[0m: 'retorno_estrategia'"
          ]
        }
      ],
      "source": [
        "import warnings\n",
        "# Suppress FutureWarning messages\n",
        "warnings.simplefilter(action='ignore', category=FutureWarning)\n",
        "\n",
        "qs.reports.full(ohlc['retorno_estrategia'] )"
      ]
    }
  ],
  "metadata": {
    "colab": {
      "authorship_tag": "ABX9TyP7iEbM0V8v5zZD8EoBLUGn",
      "include_colab_link": true,
      "provenance": []
    },
    "kernelspec": {
      "display_name": "Python 3",
      "name": "python3"
    },
    "language_info": {
      "codemirror_mode": {
        "name": "ipython",
        "version": 3
      },
      "file_extension": ".py",
      "mimetype": "text/x-python",
      "name": "python",
      "nbconvert_exporter": "python",
      "pygments_lexer": "ipython3",
      "version": "3.11.5"
    }
  },
  "nbformat": 4,
  "nbformat_minor": 0
}
