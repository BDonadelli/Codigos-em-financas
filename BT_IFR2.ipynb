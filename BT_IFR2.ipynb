{
  "cells": [
    {
      "cell_type": "markdown",
      "metadata": {
        "colab_type": "text",
        "id": "view-in-github"
      },
      "source": [
        "<a href=\"https://colab.research.google.com/github/BDonadelli/Codigos-em-financas/blob/main/IFR2.ipynb\" target=\"_parent\"><img src=\"https://colab.research.google.com/assets/colab-badge.svg\" alt=\"Open In Colab\"/></a>"
      ]
    },
    {
      "cell_type": "markdown",
      "metadata": {
        "id": "wBQjWPl1DDi_"
      },
      "source": [
        "ESTRATÉGIA\n",
        "1.   IFR para 2 períodos < 5 compra na abertura seguinte\n",
        "2.   Preço fechamento > ma5 vende na abertura seguinte\n",
        "\n"
      ]
    },
    {
      "cell_type": "code",
      "execution_count": 25,
      "metadata": {
        "id": "Pb8Y0UL7YD8N"
      },
      "outputs": [],
      "source": [
        "# @ Data é ano/mes/dia.\n",
        "\n",
        "inicio  = '2020-01-02'  #@param {type:\"date\"}\n",
        "termino = '2023-01-30'  #@param {type:\"date\"}\n",
        "from datetime import datetime\n",
        "\n",
        "usar_periodo = True #@param {type:\"boolean\"}\n",
        "periodo = '2y' #@param ['1d','5d','1mo','3mo','6mo','1y','2y','3y','5y','10y','ytd','max']"
      ]
    },
    {
      "cell_type": "code",
      "execution_count": 26,
      "metadata": {
        "colab": {
          "base_uri": "https://localhost:8080/"
        },
        "id": "QpinoXv_p27A",
        "outputId": "465568a7-598a-422a-b49d-c016e35fc165"
      },
      "outputs": [
        {
          "data": {
            "text/html": [
              "        <script type=\"text/javascript\">\n",
              "        window.PlotlyConfig = {MathJaxConfig: 'local'};\n",
              "        if (window.MathJax && window.MathJax.Hub && window.MathJax.Hub.Config) {window.MathJax.Hub.Config({SVG: {font: \"STIX-Web\"}});}\n",
              "        if (typeof require !== 'undefined') {\n",
              "        require.undef(\"plotly\");\n",
              "        requirejs.config({\n",
              "            paths: {\n",
              "                'plotly': ['https://cdn.plot.ly/plotly-2.27.0.min']\n",
              "            }\n",
              "        });\n",
              "        require(['plotly'], function(Plotly) {\n",
              "            window._Plotly = Plotly;\n",
              "        });\n",
              "        }\n",
              "        </script>\n",
              "        "
            ]
          },
          "metadata": {},
          "output_type": "display_data"
        }
      ],
      "source": [
        "# @ markdown Instala bibliotecas\n",
        "\n",
        "import pandas as pd\n",
        "import numpy as np\n",
        "\n",
        "# import pyfolio as pf\n",
        "import quantstats as qstats\n",
        "import pandas_ta as pta\n",
        "\n",
        "# !pip install -q  yfinance\n",
        "import yfinance as yf\n",
        "\n",
        "import cufflinks as cf\n",
        "cf.go_offline()\n",
        "\n",
        "\n",
        "import plotly.io as pio\n",
        "pio.renderers.default = 'png'  ## comentar se quiser grafico interativo"
      ]
    },
    {
      "cell_type": "code",
      "execution_count": 27,
      "metadata": {},
      "outputs": [],
      "source": [
        "arq = 'data/Cart_Ibov.csv'\n",
        "# arq = 'data/Cart_IBr100.csv'\n",
        "try:\n",
        "    IBOV = pd.read_csv(arq, encoding='utf-8', sep=',' , index_col=False ,engine='python')\n",
        "except:\n",
        "    url = f'https://raw.githubusercontent.com/BDonadelli/Codigos-em-financas/main/{arq}'\n",
        "    IBOV = pd.read_csv(url, encoding='utf-8', sep=',' ,index_col=False ,engine='python')\n",
        "\n"
      ]
    },
    {
      "cell_type": "code",
      "execution_count": 28,
      "metadata": {},
      "outputs": [
        {
          "data": {
            "text/html": [
              "<div>\n",
              "<style scoped>\n",
              "    .dataframe tbody tr th:only-of-type {\n",
              "        vertical-align: middle;\n",
              "    }\n",
              "\n",
              "    .dataframe tbody tr th {\n",
              "        vertical-align: top;\n",
              "    }\n",
              "\n",
              "    .dataframe thead th {\n",
              "        text-align: right;\n",
              "    }\n",
              "</style>\n",
              "<table border=\"1\" class=\"dataframe\">\n",
              "  <thead>\n",
              "    <tr style=\"text-align: right;\">\n",
              "      <th></th>\n",
              "      <th>Código</th>\n",
              "      <th>Ação</th>\n",
              "      <th>Tipo</th>\n",
              "      <th>Qtde. Teórica</th>\n",
              "      <th>Part. (%)</th>\n",
              "    </tr>\n",
              "  </thead>\n",
              "  <tbody>\n",
              "    <tr>\n",
              "      <th>0</th>\n",
              "      <td>VALE3</td>\n",
              "      <td>VALE</td>\n",
              "      <td>ON      NM</td>\n",
              "      <td>4270903023</td>\n",
              "      <td>10.897</td>\n",
              "    </tr>\n",
              "    <tr>\n",
              "      <th>1</th>\n",
              "      <td>PETR4</td>\n",
              "      <td>PETROBRAS</td>\n",
              "      <td>PN      N2</td>\n",
              "      <td>4431132660</td>\n",
              "      <td>7.490</td>\n",
              "    </tr>\n",
              "    <tr>\n",
              "      <th>2</th>\n",
              "      <td>ITUB4</td>\n",
              "      <td>ITAUUNIBANCO</td>\n",
              "      <td>PN  EJ  N1</td>\n",
              "      <td>4455161368</td>\n",
              "      <td>7.410</td>\n",
              "    </tr>\n",
              "    <tr>\n",
              "      <th>3</th>\n",
              "      <td>PETR3</td>\n",
              "      <td>PETROBRAS</td>\n",
              "      <td>ON      N2</td>\n",
              "      <td>2448348744</td>\n",
              "      <td>4.534</td>\n",
              "    </tr>\n",
              "    <tr>\n",
              "      <th>4</th>\n",
              "      <td>BBAS3</td>\n",
              "      <td>BRASIL</td>\n",
              "      <td>ON      NM</td>\n",
              "      <td>2842613858</td>\n",
              "      <td>3.681</td>\n",
              "    </tr>\n",
              "    <tr>\n",
              "      <th>...</th>\n",
              "      <td>...</td>\n",
              "      <td>...</td>\n",
              "      <td>...</td>\n",
              "      <td>...</td>\n",
              "      <td>...</td>\n",
              "    </tr>\n",
              "    <tr>\n",
              "      <th>81</th>\n",
              "      <td>AZUL4</td>\n",
              "      <td>AZUL</td>\n",
              "      <td>PN  ATZ N2</td>\n",
              "      <td>328421113</td>\n",
              "      <td>0.065</td>\n",
              "    </tr>\n",
              "    <tr>\n",
              "      <th>82</th>\n",
              "      <td>EZTC3</td>\n",
              "      <td>EZTEC</td>\n",
              "      <td>ON      NM</td>\n",
              "      <td>97334950</td>\n",
              "      <td>0.060</td>\n",
              "    </tr>\n",
              "    <tr>\n",
              "      <th>83</th>\n",
              "      <td>ALPA4</td>\n",
              "      <td>ALPARGATAS</td>\n",
              "      <td>PN      N1</td>\n",
              "      <td>166460180</td>\n",
              "      <td>0.056</td>\n",
              "    </tr>\n",
              "    <tr>\n",
              "      <th>84</th>\n",
              "      <td>PCAR3</td>\n",
              "      <td>P.ACUCAR-CBD</td>\n",
              "      <td>ON      NM</td>\n",
              "      <td>379327171</td>\n",
              "      <td>0.052</td>\n",
              "    </tr>\n",
              "    <tr>\n",
              "      <th>85</th>\n",
              "      <td>CVCB3</td>\n",
              "      <td>CVC BRASIL</td>\n",
              "      <td>ON      NM</td>\n",
              "      <td>525591097</td>\n",
              "      <td>0.045</td>\n",
              "    </tr>\n",
              "  </tbody>\n",
              "</table>\n",
              "<p>86 rows × 5 columns</p>\n",
              "</div>"
            ],
            "text/plain": [
              "   Código          Ação        Tipo  Qtde. Teórica  Part. (%)\n",
              "0   VALE3          VALE  ON      NM     4270903023     10.897\n",
              "1   PETR4     PETROBRAS  PN      N2     4431132660      7.490\n",
              "2   ITUB4  ITAUUNIBANCO  PN  EJ  N1     4455161368      7.410\n",
              "3   PETR3     PETROBRAS  ON      N2     2448348744      4.534\n",
              "4   BBAS3        BRASIL  ON      NM     2842613858      3.681\n",
              "..    ...           ...         ...            ...        ...\n",
              "81  AZUL4          AZUL  PN  ATZ N2      328421113      0.065\n",
              "82  EZTC3         EZTEC  ON      NM       97334950      0.060\n",
              "83  ALPA4    ALPARGATAS  PN      N1      166460180      0.056\n",
              "84  PCAR3  P.ACUCAR-CBD  ON      NM      379327171      0.052\n",
              "85  CVCB3    CVC BRASIL  ON      NM      525591097      0.045\n",
              "\n",
              "[86 rows x 5 columns]"
            ]
          },
          "execution_count": 28,
          "metadata": {},
          "output_type": "execute_result"
        }
      ],
      "source": [
        "IBOV"
      ]
    },
    {
      "cell_type": "code",
      "execution_count": 29,
      "metadata": {},
      "outputs": [
        {
          "data": {
            "text/plain": [
              "'LWSA3.SA'"
            ]
          },
          "execution_count": 29,
          "metadata": {},
          "output_type": "execute_result"
        }
      ],
      "source": [
        "codigos = np.array(sorted(IBOV.Código.to_list()),dtype=str)\n",
        "tickers = [tk+'.SA' for tk in codigos]\n",
        "tickers[50]"
      ]
    },
    {
      "cell_type": "code",
      "execution_count": 30,
      "metadata": {
        "colab": {
          "base_uri": "https://localhost:8080/",
          "height": 275
        },
        "id": "ishLNStc5Cmo",
        "outputId": "8aeef680-0a37-4e27-bf72-36f8b8bb912b"
      },
      "outputs": [
        {
          "name": "stderr",
          "output_type": "stream",
          "text": [
            "\n",
            "2 Failed downloads:\n",
            "['ALOS3.SA']: YFInvalidPeriodError(\"%ticker%: Period '2y' is invalid, must be one of ['1d', '5d', '1mo', '3mo', '6mo', '1y', 'ytd', 'max']\")\n",
            "['BRAV3.SA']: YFChartError('%ticker%: No data found, symbol may be delisted')\n"
          ]
        },
        {
          "data": {
            "text/html": [
              "<div>\n",
              "<style scoped>\n",
              "    .dataframe tbody tr th:only-of-type {\n",
              "        vertical-align: middle;\n",
              "    }\n",
              "\n",
              "    .dataframe tbody tr th {\n",
              "        vertical-align: top;\n",
              "    }\n",
              "\n",
              "    .dataframe thead th {\n",
              "        text-align: right;\n",
              "    }\n",
              "</style>\n",
              "<table border=\"1\" class=\"dataframe\">\n",
              "  <thead>\n",
              "    <tr style=\"text-align: right;\">\n",
              "      <th></th>\n",
              "      <th>Open ABEV3</th>\n",
              "      <th>Open ALOS3</th>\n",
              "      <th>Open ALPA4</th>\n",
              "      <th>Open ASAI3</th>\n",
              "      <th>Open AURE3</th>\n",
              "      <th>Open AZUL4</th>\n",
              "      <th>Open AZZA3</th>\n",
              "      <th>Open B3SA3</th>\n",
              "      <th>Open BBAS3</th>\n",
              "      <th>Open BBDC3</th>\n",
              "      <th>...</th>\n",
              "      <th>Close TRPL4</th>\n",
              "      <th>Close UGPA3</th>\n",
              "      <th>Close USIM5</th>\n",
              "      <th>Close VALE3</th>\n",
              "      <th>Close VAMO3</th>\n",
              "      <th>Close VBBR3</th>\n",
              "      <th>Close VIVA3</th>\n",
              "      <th>Close VIVT3</th>\n",
              "      <th>Close WEGE3</th>\n",
              "      <th>Close YDUQ3</th>\n",
              "    </tr>\n",
              "    <tr>\n",
              "      <th>Date</th>\n",
              "      <th></th>\n",
              "      <th></th>\n",
              "      <th></th>\n",
              "      <th></th>\n",
              "      <th></th>\n",
              "      <th></th>\n",
              "      <th></th>\n",
              "      <th></th>\n",
              "      <th></th>\n",
              "      <th></th>\n",
              "      <th></th>\n",
              "      <th></th>\n",
              "      <th></th>\n",
              "      <th></th>\n",
              "      <th></th>\n",
              "      <th></th>\n",
              "      <th></th>\n",
              "      <th></th>\n",
              "      <th></th>\n",
              "      <th></th>\n",
              "      <th></th>\n",
              "    </tr>\n",
              "  </thead>\n",
              "  <tbody>\n",
              "    <tr>\n",
              "      <th>2022-09-06</th>\n",
              "      <td>13.938619</td>\n",
              "      <td>NaN</td>\n",
              "      <td>20.700001</td>\n",
              "      <td>19.284256</td>\n",
              "      <td>11.97773</td>\n",
              "      <td>16.27</td>\n",
              "      <td>88.494092</td>\n",
              "      <td>11.72283</td>\n",
              "      <td>16.831095</td>\n",
              "      <td>13.797499</td>\n",
              "      <td>...</td>\n",
              "      <td>20.315229</td>\n",
              "      <td>12.815587</td>\n",
              "      <td>7.486836</td>\n",
              "      <td>55.111126</td>\n",
              "      <td>13.352239</td>\n",
              "      <td>16.286184</td>\n",
              "      <td>24.980991</td>\n",
              "      <td>37.492149</td>\n",
              "      <td>29.27582</td>\n",
              "      <td>11.644688</td>\n",
              "    </tr>\n",
              "  </tbody>\n",
              "</table>\n",
              "<p>1 rows × 172 columns</p>\n",
              "</div>"
            ],
            "text/plain": [
              "            Open ABEV3  Open ALOS3  Open ALPA4  Open ASAI3  Open AURE3  \\\n",
              "Date                                                                     \n",
              "2022-09-06   13.938619         NaN   20.700001   19.284256    11.97773   \n",
              "\n",
              "            Open AZUL4  Open AZZA3  Open B3SA3  Open BBAS3  Open BBDC3  ...  \\\n",
              "Date                                                                    ...   \n",
              "2022-09-06       16.27   88.494092    11.72283   16.831095   13.797499  ...   \n",
              "\n",
              "            Close TRPL4  Close UGPA3  Close USIM5  Close VALE3  Close VAMO3  \\\n",
              "Date                                                                          \n",
              "2022-09-06    20.315229    12.815587     7.486836    55.111126    13.352239   \n",
              "\n",
              "            Close VBBR3  Close VIVA3  Close VIVT3  Close WEGE3  Close YDUQ3  \n",
              "Date                                                                         \n",
              "2022-09-06    16.286184    24.980991    37.492149     29.27582    11.644688  \n",
              "\n",
              "[1 rows x 172 columns]"
            ]
          },
          "execution_count": 30,
          "metadata": {},
          "output_type": "execute_result"
        }
      ],
      "source": [
        "# @ markdown ## download dados do yahoo finance\n",
        "## a ultima lina da tabela tem a data mais recente\n",
        "df=pd.DataFrame()\n",
        "if usar_periodo : \n",
        "  df = yf.download(tickers, period = periodo   , auto_adjust=True, progress = False )[['Open','Close']]\n",
        "else: \n",
        "  df = yf.download(tickers, start = inicio , end = termino , auto_adjust=True, progress = False )[['Open','Close']]\n",
        "\n",
        "d = dict(zip(df.columns.levels[1],df.columns.levels[1].str.rstrip('.SA') ))\n",
        "df = df.rename(columns=d, level=1)\n",
        "\n",
        "df.columns = [\" \".join(col).strip() for col in df.columns.values]\n",
        "df.head(1) #mostra a primeiro linha da tabela dos preços"
      ]
    },
    {
      "cell_type": "code",
      "execution_count": 31,
      "metadata": {
        "id": "9ykcKmET51TA"
      },
      "outputs": [],
      "source": [
        "# @ markdown  função qu, output: str = Nonee calcula o ifr a partir de uma serie de preços\n",
        "\n",
        "def rsi(price, window=2, output: str = None):   \n",
        "  '''\n",
        "    calcula o ifr \n",
        "    \"price\" é uma série de preços\n",
        "    \"window\" é o periodo da janela móvel de obeservação, por default vale 2      \n",
        "    \"output\" é string com nome de arquivo para exportar contas em csv\n",
        "    Referencia: https://seekingalpha.com/article/4518407-rsi-indicator-meaning-and-calculation \n",
        "  '''\n",
        "    \n",
        "  data = pd.DataFrame(price).copy()\n",
        "    \n",
        "  data[\"Variation\"] = data.diff()\n",
        "\n",
        "  data[\"Gain\"] = np.where(data[\"Variation\"] > 0, data[\"Variation\"], 0)\n",
        "  data[\"Loss\"] = np.where(data[\"Variation\"] < 0, data[\"Variation\"], 0)\n",
        "\n",
        "  data['avg_gain'] = data[\"Gain\"].rolling(window,min_periods=window).mean()\n",
        "  data['avg_loss'] = data[\"Loss\"].abs().rolling(window,min_periods=window).mean()\n",
        "\n",
        "  # avg_gain = gain.ewm(com=period - 1, min_periods=period).mean()\n",
        "  # avg_loss = loss.ewm(com=period - 1, min_periods=period).mean()\n",
        "  # rs = avg_gain / avg_loss\n",
        "\n",
        "  for i in range(window, len(data['avg_gain'])):\n",
        "     data['avg_gain'].iloc[i] = (data['avg_gain'].iloc[i - 1] * (window - 1) + data[\"Gain\"].iloc[i]) / window\n",
        "     data['avg_loss'].iloc[i] = (data['avg_loss'].iloc[i - 1] * (window - 1) + data[\"Loss\"].abs().iloc[i]) / window\n",
        "  data['rsi'] = 100 - (100 / (1 + ( data['avg_gain'] / data['avg_loss'] ))).round(2)\n",
        "\n",
        "  if output is not None:\n",
        "        data.to_csv(output)\n",
        "\n",
        "  return data['rsi']"
      ]
    },
    {
      "cell_type": "markdown",
      "metadata": {
        "id": "mKIKiHMYFoyB"
      },
      "source": [
        "**lista os ativos do índice com ifr2 < 5**\n"
      ]
    },
    {
      "cell_type": "code",
      "execution_count": 32,
      "metadata": {},
      "outputs": [],
      "source": [
        "limiar_ifr=5.5"
      ]
    },
    {
      "cell_type": "code",
      "execution_count": 33,
      "metadata": {
        "colab": {
          "base_uri": "https://localhost:8080/"
        },
        "id": "UyvBTQMGQ8iM",
        "outputId": "425498bf-48f3-4227-dfdc-493f5d2497f5"
      },
      "outputs": [
        {
          "name": "stdout",
          "output_type": "stream",
          "text": [
            "o ultimo preço é do dia 6 / 9 / 2024\n",
            "Os ativos com IFR<5 são:\n",
            "PETR3\n",
            "PETR4\n",
            "PRIO3\n",
            "RAIZ4\n",
            "RECV3\n",
            "SMTO3\n"
          ]
        }
      ],
      "source": [
        "IFR = pd.DataFrame({f\"{i}\": rsi( df['Close '+i] , 2)  for i in codigos})\n",
        "\n",
        "print('o ultimo preço é do dia',IFR.index[-1].day,'/',IFR.index[-1].month,'/',IFR.index[-1].year)\n",
        "print('Os ativos com IFR<5 são:')\n",
        "## seleciona os ativos dentre 'codigos' com ifr2 < 5 \n",
        "lista_ifr=[]\n",
        "for x in codigos :\n",
        "  if IFR[x].iloc[-1]< limiar_ifr :  \n",
        "    print(x)\n",
        "    lista_ifr.append(x)\n",
        "\n",
        "if len(lista_ifr)==0: print(F'*************** Não tem papel com IFR<{limiar_ifr} ***************')"
      ]
    },
    {
      "cell_type": "markdown",
      "metadata": {
        "id": "PjkZQH0SGI9F"
      },
      "source": [
        "**histórico da estratégia**"
      ]
    },
    {
      "cell_type": "code",
      "execution_count": 34,
      "metadata": {
        "id": "f0KW9re0DWrw"
      },
      "outputs": [],
      "source": [
        "# @ markdown Simula as operações\n",
        "def trades (x):\n",
        "  '''\n",
        "  'trades' cria duas listas 'entrada' e 'saida' \n",
        "  essas listas têm 3 componentes: \n",
        "    a linha na tabela de dados do sinal de entrada/saida;\n",
        "    a data seguinte do sinal (entrada/saida), que é o dia de negociação, e \n",
        "    o preço (open) de entrada/saida naquele dia, preço da negociação\n",
        "  '''\n",
        "  open  = 'Open '+x\n",
        "  close = 'Close '+x\n",
        "\n",
        "  bt = df[[open , close]].copy() \n",
        "  #media movel simples de 5 periodos \n",
        "  bt['mm5'] = df[close].rolling(5).mean()  \n",
        "  bt['ifr'] = IFR[x]\n",
        "  bt=bt.dropna()\n",
        "  \n",
        "  ## marca todos os pontos com ifr2 < 5\n",
        "  bt['sinal_entra'] = np.where(bt['ifr'] < 5 , 1 , 0)\n",
        "  #marca todos pontos com close > mm5\n",
        "  bt['sinal_sai'] = np.where(bt[close] > bt['mm5'] , -1 , 0)\n",
        "\n",
        "  '''\n",
        "  cria listas com os pontos de entrada e saída das operações\n",
        "  1) percorre a tabela bt em ordem cronológica até achar sinal entrada\n",
        "     quando acha, armazenas as informações: \n",
        "       linha da tabela, data do sinal e preço de abertura do dia seguinte\n",
        "  2) em seguida, continua, a partir do proximo dia, até achar sinal saida\n",
        "     quando acha, armazenas as informações: \n",
        "       linha da tabela, data do sinal e preço de fechamento do dia seguinte\n",
        "  3) repete os passos 1 e 2 \n",
        "  '''  \n",
        "  entrada = []\n",
        "  saida = []\n",
        "  i=0\n",
        "  while i < len(bt):\n",
        "    while bt['sinal_entra'].iloc[i] == 0 : i+=1 # pega um sinal de entrada\n",
        "    if i+1 < len(bt) :                          # se teve pregão dia seguinte,entra\n",
        "        i+=1                                    # vai p/ dia seguinte\n",
        "        entrada.append( ( i-1,                                      # sinal no dia anterior\n",
        "                         bt.index[i].date().strftime(\"%d/%m/%Y\") ,  # dia entrada\n",
        "                         np.round(bt[open].iloc[i],2)))             # preço entrada\n",
        "       #avança até o primeiro sinal de saída, que pode ser no proprio dia\n",
        "        while (i < len(bt) and bt['sinal_sai'].iloc[i]==0) : i=i+1    \n",
        "       #se teve pregão dia seguinte,sai  (senão vai dormir comprado, vamos desconsiderar)\n",
        "        if i+1 < len(bt) :  \n",
        "            i+=1                                                        # vai p/ dia seguinte\n",
        "            saida.append( (i-1,                                         # sinal no dia anterior\n",
        "                           bt.index[i].date().strftime(\"%d/%m/%Y\")  ,   # dia saida\n",
        "                           np.round(bt[open].iloc[i],2)) )              # preço saida\n",
        "            # senão, a ultima operação ainda não deu saida , remove ultima entrada\n",
        "        else : entrada.pop()                    \n",
        "    i=i+1\n",
        "  return entrada,saida"
      ]
    },
    {
      "cell_type": "code",
      "execution_count": 35,
      "metadata": {
        "colab": {
          "base_uri": "https://localhost:8080/",
          "height": 426
        },
        "id": "EnX3J5gjfzNb",
        "outputId": "5bd31b03-628d-441b-9dba-0ae636f77a68"
      },
      "outputs": [
        {
          "data": {
            "text/html": [
              "<div>\n",
              "<style scoped>\n",
              "    .dataframe tbody tr th:only-of-type {\n",
              "        vertical-align: middle;\n",
              "    }\n",
              "\n",
              "    .dataframe tbody tr th {\n",
              "        vertical-align: top;\n",
              "    }\n",
              "\n",
              "    .dataframe thead th {\n",
              "        text-align: right;\n",
              "    }\n",
              "</style>\n",
              "<table border=\"1\" class=\"dataframe\">\n",
              "  <thead>\n",
              "    <tr style=\"text-align: right;\">\n",
              "      <th></th>\n",
              "      <th>IFR2</th>\n",
              "      <th>Operações</th>\n",
              "      <th>Positivas</th>\n",
              "      <th>Tx acerto</th>\n",
              "      <th>Acumulado</th>\n",
              "      <th>Ret. médio pos</th>\n",
              "      <th>Ret. médio neg</th>\n",
              "      <th>Exp matematica</th>\n",
              "      <th>Duração média(dias)</th>\n",
              "    </tr>\n",
              "  </thead>\n",
              "  <tbody>\n",
              "    <tr>\n",
              "      <th>RECV3</th>\n",
              "      <td>3.34</td>\n",
              "      <td>18</td>\n",
              "      <td>15</td>\n",
              "      <td>0.833</td>\n",
              "      <td>0.66</td>\n",
              "      <td>0.04</td>\n",
              "      <td>0.04</td>\n",
              "      <td>2.664</td>\n",
              "      <td>3.1</td>\n",
              "    </tr>\n",
              "    <tr>\n",
              "      <th>PRIO3</th>\n",
              "      <td>0.36</td>\n",
              "      <td>14</td>\n",
              "      <td>10</td>\n",
              "      <td>0.714</td>\n",
              "      <td>0.19</td>\n",
              "      <td>0.04</td>\n",
              "      <td>0.05</td>\n",
              "      <td>1.426</td>\n",
              "      <td>4.1</td>\n",
              "    </tr>\n",
              "    <tr>\n",
              "      <th>RAIZ4</th>\n",
              "      <td>4.4</td>\n",
              "      <td>18</td>\n",
              "      <td>13</td>\n",
              "      <td>0.722</td>\n",
              "      <td>0.17</td>\n",
              "      <td>0.03</td>\n",
              "      <td>0.04</td>\n",
              "      <td>1.054</td>\n",
              "      <td>4.3</td>\n",
              "    </tr>\n",
              "    <tr>\n",
              "      <th>PETR4</th>\n",
              "      <td>1.38</td>\n",
              "      <td>13</td>\n",
              "      <td>10</td>\n",
              "      <td>0.769</td>\n",
              "      <td>0.08</td>\n",
              "      <td>0.03</td>\n",
              "      <td>0.07</td>\n",
              "      <td>0.69</td>\n",
              "      <td>3.5</td>\n",
              "    </tr>\n",
              "    <tr>\n",
              "      <th>SMTO3</th>\n",
              "      <td>0.54</td>\n",
              "      <td>15</td>\n",
              "      <td>9</td>\n",
              "      <td>0.6</td>\n",
              "      <td>0.07</td>\n",
              "      <td>0.03</td>\n",
              "      <td>0.03</td>\n",
              "      <td>0.6</td>\n",
              "      <td>4.6</td>\n",
              "    </tr>\n",
              "    <tr>\n",
              "      <th>PETR3</th>\n",
              "      <td>1.88</td>\n",
              "      <td>15</td>\n",
              "      <td>9</td>\n",
              "      <td>0.6</td>\n",
              "      <td>0.02</td>\n",
              "      <td>0.03</td>\n",
              "      <td>0.04</td>\n",
              "      <td>0.2</td>\n",
              "      <td>4.0</td>\n",
              "    </tr>\n",
              "  </tbody>\n",
              "</table>\n",
              "</div>"
            ],
            "text/plain": [
              "       IFR2 Operações Positivas Tx acerto Acumulado Ret. médio pos  \\\n",
              "RECV3  3.34        18        15     0.833      0.66           0.04   \n",
              "PRIO3  0.36        14        10     0.714      0.19           0.04   \n",
              "RAIZ4   4.4        18        13     0.722      0.17           0.03   \n",
              "PETR4  1.38        13        10     0.769      0.08           0.03   \n",
              "SMTO3  0.54        15         9       0.6      0.07           0.03   \n",
              "PETR3  1.88        15         9       0.6      0.02           0.03   \n",
              "\n",
              "      Ret. médio neg Exp matematica Duração média(dias)  \n",
              "RECV3           0.04          2.664                 3.1  \n",
              "PRIO3           0.05          1.426                 4.1  \n",
              "RAIZ4           0.04          1.054                 4.3  \n",
              "PETR4           0.07           0.69                 3.5  \n",
              "SMTO3           0.03            0.6                 4.6  \n",
              "PETR3           0.04            0.2                 4.0  "
            ]
          },
          "metadata": {},
          "output_type": "display_data"
        }
      ],
      "source": [
        "# @ markdown Mostra os resultados\n",
        "\n",
        "resumo = pd.DataFrame(index=lista_ifr,columns=[ \\\n",
        "    'IFR2',                    # ifr do papel\n",
        "    'Operações' ,              # no. de operações no periodo\n",
        "    'Positivas' ,     # no. de operações com retorno >0\n",
        "    'Tx acerto' ,              # Retornos positivos / Retornos \n",
        "    'Acumulado',               # Retorno acumulado pela estratégia \n",
        "    'Ret. médio pos' ,          # média aritmetica dos retornos > 0\n",
        "    'Ret. médio neg' ,          # média aritmetica dos retornos < 0\n",
        "    'Exp matematica',\n",
        "    'Duração média(dias)' ])   # no. medio de dias que fica posicionado\n",
        "\n",
        "# usando as informações da função 'trades', simula as operações\n",
        "# calcula o tempo de cada operação e a variação do preço do ativo\n",
        "\n",
        "out =  [ [[],[]] for j in range(len(lista_ifr))] \n",
        "retornos = [ [[],[]] for j in range(len(lista_ifr))] \n",
        "z=0\n",
        "for x in lista_ifr:\n",
        "  dura = []  ## duração da operação, em dias uteis\n",
        "  e    = []  ## pontos de entrada \n",
        "  s    = []  ## pontos de saida\n",
        "  posret = 0 ## conta retornos positivos\n",
        "\n",
        "  e,s = trades(x)\n",
        "  # mensagens para ajudar na validação\n",
        "  out1 =  ['' for j in range(len(e))] # entrada/saida\n",
        "  out2 =  ['' for j in range(len(e))] # duração\n",
        "  out3 =  ['' for j in range(len(e))] # retorno\n",
        "  \n",
        "  for j in range(len(e)) :\n",
        "      out1[j] =  \"entrada em \" + str(e[j][1]) + \" e saida em \" + str(s[j][1]) \n",
        "      \n",
        "      dias = s[j][0] - e[j][0]\n",
        "      out2[j] = \" durou \"+str(dias)+\" dias e \"\n",
        "      dura.append(dias)\n",
        "\n",
        "      retorno = s[j][2]/e[j][2] - 1\n",
        "      out3[j] = \"variou \"+str(round(retorno*100,3))+\"%\" \n",
        "      retornos[z][1].append(retorno)\n",
        "      if retorno > 0 : posret +=1\n",
        "  \n",
        "  if len(retornos[z][1])!=0 : wins = np.round(posret/(len(retornos[z][1])),3) \n",
        "  else : wins = 0\n",
        "  retpos = np.round(np.mean([x for x in retornos[z][1] if x>0]),2)\n",
        "  retneg = abs(np.round(np.mean([x for x in retornos[z][1] if x<=0]),2))\n",
        "  expectativa = (wins * retpos) - ((1 - wins) * retneg)\n",
        "\n",
        "  resumo.loc[x] = [ IFR[x].iloc[-1].round(2), \n",
        "                   len(e) , \n",
        "                   posret , \n",
        "                   wins,\n",
        "                   np.round((np.array(retornos[z][1])+1).cumprod()[-1] - 1,2) , \n",
        "                   retpos, \n",
        "                   retneg,\n",
        "                   expectativa*100, \n",
        "                   np.round(np.mean(dura),1) \n",
        "                   ]\n",
        "  \n",
        "  retornos[z][0] = x\n",
        "  out[z][0] = x\n",
        "  for j in range(len(e)) : \n",
        "        out[z][1].append(out1[j] + out2[j]+out3[j])        \n",
        "  z=z+1\n",
        "\n",
        "resumo = resumo.sort_values(by=['Exp matematica'], ascending=False)\n",
        "display(resumo.sort_values(by=['Exp matematica'], ascending=False))"
      ]
    },
    {
      "cell_type": "markdown",
      "metadata": {},
      "source": [
        "analise 1º ativo da lista"
      ]
    },
    {
      "cell_type": "code",
      "execution_count": 50,
      "metadata": {},
      "outputs": [
        {
          "name": "stdout",
          "output_type": "stream",
          "text": [
            "bt de  RECV3\n"
          ]
        }
      ],
      "source": [
        "ativo = resumo.index[0]\n",
        "print('bt de ',ativo)"
      ]
    },
    {
      "cell_type": "code",
      "execution_count": 51,
      "metadata": {},
      "outputs": [],
      "source": [
        "entrada,saida = trades(ativo)\n",
        "entra = [datetime.strptime(x[1] , \"%d/%m/%Y\") for x in entrada]\n",
        "sai   = [datetime.strptime(x[1] , \"%d/%m/%Y\") for x in saida]"
      ]
    },
    {
      "cell_type": "code",
      "execution_count": 52,
      "metadata": {},
      "outputs": [],
      "source": [
        "posicao = pd.DataFrame(columns=['pos'], index=df.index)\n",
        "posicao.loc[entra] = 1\n",
        "posicao.loc[sai] = 0\n",
        "posicao.ffill(inplace=True)\n",
        "posicao.fillna(0,inplace=True)\n",
        "# posicao.iplot()"
      ]
    },
    {
      "cell_type": "code",
      "execution_count": 53,
      "metadata": {},
      "outputs": [
        {
          "data": {
            "image/png": "[encoded data removed]"
          },
          "metadata": {},
          "output_type": "display_data"
        }
      ],
      "source": [
        "import plotly.graph_objects as go\n",
        "from plotly.subplots import make_subplots\n",
        "\n",
        "df['Close '+ativo].rolling(5).mean() \n",
        "\n",
        "\n",
        "fig = make_subplots(rows=3, cols=1) #go.Figure()\n",
        "fig.add_trace(go.Scatter(x = df.index , y = df['Close '+ativo].values , name=\"preço\"),1,1)\n",
        "fig.add_trace(go.Scatter(x = df.index , y =  df['Close '+ativo].rolling(5).mean(), mode='lines', \n",
        "                         line=dict(color='firebrick', width=2, dash='dot'), name=\"mma5\"),1,1)\n",
        "\n",
        "fig.add_trace(go.Scatter(x = df.loc[entra].index, y = df.loc[entra]['Close '+ativo] , mode='markers' ,name='Entrada',\n",
        "                             marker=dict(size=12, symbol=\"arrow\", angle=45, line=dict(width=2, color=\"DarkSlateGrey\"))\n",
        "                         ),1,1)\n",
        "fig.update_traces(\n",
        "    marker=dict(size=12, symbol=\"arrow\", angle=45, line=dict(width=2, color=\"DarkSlateGrey\")),\n",
        "    selector=dict(mode=\"markers\"),\n",
        ")\n",
        "fig.add_trace(go.Scatter(x = df.loc[sai].index, y = df.loc[sai]['Close '+ativo] , mode='markers' ,name='Saida',\n",
        "                         marker=dict(size=12, symbol=\"arrow\", angle=-135, line=dict(width=2, color=\"red\"))\n",
        "                         ),1,1)\n",
        "fig.add_trace(go.Scatter(x = df.index , y = IFR[ativo].values , name=\"ifr2\"),2,1)\n",
        "fig.add_trace(go.Scatter(x = df.index , y = [5]*len(df.index) , name=\"ifr2=5\", mode='lines', \n",
        "              line=dict(color='red', width=4, dash='dot')),2,1)\n",
        "\n",
        "fig.add_trace(go.Scatter(x =posicao.index , y = posicao['pos'] , mode='lines', name=\"posição\"),3,1)\n",
        "\n",
        "\n",
        "fig.show()"
      ]
    },
    {
      "cell_type": "code",
      "execution_count": 64,
      "metadata": {},
      "outputs": [
        {
          "data": {
            "image/png": "[encoded data removed]"
          },
          "metadata": {},
          "output_type": "display_data"
        }
      ],
      "source": [
        "ohlc = yf.download(tickers= ativo+'.SA', period = periodo , auto_adjust=True, progress = False )\n",
        "ohlc['retorno'] = ohlc['Close'].pct_change()\n",
        "## calculating stretegy returns\n",
        "ohlc['retorno_estrategia'] = ohlc['retorno'] * (posicao['pos'].shift(1))\n",
        "# ohlc.fillna(0,inplace=True)\n",
        "ohlc['retorno_estrategia'].fillna(0,inplace=True)\n",
        "ohlc[ohlc['retorno_estrategia']!= 0.0]\n",
        "((ohlc[['retorno', 'retorno_estrategia']]+1).cumprod()-1).iplot();"
      ]
    },
    {
      "cell_type": "code",
      "execution_count": 55,
      "metadata": {},
      "outputs": [
        {
          "data": {
            "image/png": "[encoded data removed]"
          },
          "metadata": {},
          "output_type": "display_data"
        }
      ],
      "source": [
        "ohlc = yf.download(tickers= ativo+'.SA', period = periodo , auto_adjust=True, progress = False )\n",
        "\n",
        "qf=cf.QuantFig(ohlc[-90:] , title= x ,legend='top',name='GS',up_color='green', down_color='red' )\n",
        "#qf.add_bollinger_bands(periods=20, boll_std=2, colors=['cyan','grey'], fill=True)\n",
        "qf.add_ema(periods=5)\n",
        "qf.add_ema(periods=21)\n",
        "qf.add_ema(periods=72)\n",
        "qf.add_rsi(periods=2,color='red',rsi_upper=95,rsi_lower=5,showbands=True)\n",
        "\n",
        "fig = qf.figure()\n",
        "fig.update_xaxes(\n",
        "    rangebreaks=[dict(bounds=[\"sat\", \"mon\"])])\n",
        "fig.show()"
      ]
    },
    {
      "cell_type": "markdown",
      "metadata": {
        "id": "abIGckox54tp"
      },
      "source": [
        "**informações dos trades**"
      ]
    },
    {
      "cell_type": "code",
      "execution_count": 56,
      "metadata": {
        "colab": {
          "base_uri": "https://localhost:8080/"
        },
        "id": "O2ajq4WnIhCg",
        "outputId": "84a71bbd-7952-467f-8a09-26bdad18c871"
      },
      "outputs": [
        {
          "name": "stdout",
          "output_type": "stream",
          "text": [
            "\n",
            "****** PETR3 (retornos) ********\n",
            "resumo dos retornos das operações:\n",
            "count    15.000000\n",
            "mean      0.002378\n",
            "std       0.040536\n",
            "min      -0.088041\n",
            "25%      -0.010489\n",
            "50%       0.007683\n",
            "75%       0.029617\n",
            "max       0.056591\n",
            "dtype: float64\n",
            "\n",
            "****** PETR4 (retornos) ********\n",
            "resumo dos retornos das operações:\n",
            "count    13.000000\n",
            "mean      0.007350\n",
            "std       0.048787\n",
            "min      -0.108025\n",
            "25%       0.001562\n",
            "50%       0.021995\n",
            "75%       0.043335\n",
            "max       0.054952\n",
            "dtype: float64\n",
            "\n",
            "****** PRIO3 (retornos) ********\n",
            "resumo dos retornos das operações:\n",
            "count    14.000000\n",
            "mean      0.014006\n",
            "std       0.050884\n",
            "min      -0.081871\n",
            "25%       0.000173\n",
            "50%       0.021521\n",
            "75%       0.034127\n",
            "max       0.098630\n",
            "dtype: float64\n",
            "\n",
            "****** RAIZ4 (retornos) ********\n",
            "resumo dos retornos das operações:\n",
            "count    18.000000\n",
            "mean      0.009513\n",
            "std       0.040356\n",
            "min      -0.089947\n",
            "25%      -0.003827\n",
            "50%       0.019263\n",
            "75%       0.035939\n",
            "max       0.055728\n",
            "dtype: float64\n",
            "\n",
            "****** RECV3 (retornos) ********\n",
            "resumo dos retornos das operações:\n",
            "count    18.000000\n",
            "mean      0.029383\n",
            "std       0.041181\n",
            "min      -0.054141\n",
            "25%       0.015482\n",
            "50%       0.030901\n",
            "75%       0.063346\n",
            "max       0.091207\n",
            "dtype: float64\n",
            "\n",
            "****** SMTO3 (retornos) ********\n",
            "resumo dos retornos das operações:\n",
            "count    15.000000\n",
            "mean      0.005370\n",
            "std       0.040914\n",
            "min      -0.062134\n",
            "25%      -0.015270\n",
            "50%       0.008097\n",
            "75%       0.033584\n",
            "max       0.096525\n",
            "dtype: float64\n"
          ]
        }
      ],
      "source": [
        "for x in range(len(lista_ifr)):\n",
        "  print(\"\\n******\",retornos[x][0],\"(retornos) ********\")\n",
        "  print('resumo dos retornos das operações:')\n",
        "  print(pd.Series(retornos[x][1]).describe()  );"
      ]
    },
    {
      "cell_type": "code",
      "execution_count": 57,
      "metadata": {
        "colab": {
          "base_uri": "https://localhost:8080/"
        },
        "id": "7MUQT3z-wGED",
        "outputId": "68cf2f45-8515-4a25-ab21-4771a0c02e78"
      },
      "outputs": [
        {
          "data": {
            "text/plain": [
              "[['PETR3',\n",
              "  ['entrada em 14/09/2022 e saida em 20/09/2022 durou 4 dias e variou 2.521%',\n",
              "   'entrada em 01/11/2022 e saida em 14/11/2022 durou 8 dias e variou -7.358%',\n",
              "   'entrada em 12/12/2022 e saida em 20/12/2022 durou 6 dias e variou -8.804%',\n",
              "   'entrada em 03/01/2023 e saida em 06/01/2023 durou 3 dias e variou 2.973%',\n",
              "   'entrada em 23/02/2023 e saida em 24/02/2023 durou 1 dias e variou 3.691%',\n",
              "   'entrada em 15/03/2023 e saida em 22/03/2023 durou 5 dias e variou -1.071%',\n",
              "   'entrada em 12/07/2023 e saida em 14/07/2023 durou 2 dias e variou 0.515%',\n",
              "   'entrada em 06/10/2023 e saida em 09/10/2023 durou 1 dias e variou 5.659%',\n",
              "   'entrada em 01/11/2023 e saida em 06/11/2023 durou 2 dias e variou 2.431%',\n",
              "   'entrada em 09/11/2023 e saida em 14/11/2023 durou 3 dias e variou 3.374%',\n",
              "   'entrada em 07/12/2023 e saida em 11/12/2023 durou 2 dias e variou 2.951%',\n",
              "   'entrada em 29/02/2024 e saida em 07/03/2024 durou 5 dias e variou -1.026%',\n",
              "   'entrada em 11/03/2024 e saida em 19/03/2024 durou 6 dias e variou 0.768%',\n",
              "   'entrada em 16/05/2024 e saida em 23/05/2024 durou 5 dias e variou -3.056%',\n",
              "   'entrada em 10/06/2024 e saida em 19/06/2024 durou 7 dias e variou 0.0%']],\n",
              " ['PETR4',\n",
              "  ['entrada em 14/09/2022 e saida em 20/09/2022 durou 4 dias e variou 2.199%',\n",
              "   'entrada em 01/11/2022 e saida em 14/11/2022 durou 8 dias e variou -10.802%',\n",
              "   'entrada em 23/11/2022 e saida em 25/11/2022 durou 2 dias e variou 5.495%',\n",
              "   'entrada em 13/12/2022 e saida em 20/12/2022 durou 5 dias e variou -7.134%',\n",
              "   'entrada em 03/01/2023 e saida em 06/01/2023 durou 3 dias e variou 4.356%',\n",
              "   'entrada em 15/03/2023 e saida em 22/03/2023 durou 5 dias e variou 0.252%',\n",
              "   'entrada em 05/10/2023 e saida em 09/10/2023 durou 2 dias e variou 5.044%',\n",
              "   'entrada em 01/11/2023 e saida em 06/11/2023 durou 2 dias e variou 2.055%',\n",
              "   'entrada em 07/12/2023 e saida em 11/12/2023 durou 2 dias e variou 2.429%',\n",
              "   'entrada em 12/03/2024 e saida em 18/03/2024 durou 4 dias e variou 0.156%',\n",
              "   'entrada em 16/05/2024 e saida em 23/05/2024 durou 5 dias e variou -2.237%',\n",
              "   'entrada em 17/06/2024 e saida em 19/06/2024 durou 2 dias e variou 4.334%',\n",
              "   'entrada em 30/07/2024 e saida em 01/08/2024 durou 2 dias e variou 3.408%']],\n",
              " ['PRIO3',\n",
              "  ['entrada em 08/12/2022 e saida em 13/12/2022 durou 3 dias e variou 6.222%',\n",
              "   'entrada em 22/02/2023 e saida em 06/03/2023 durou 8 dias e variou -8.187%',\n",
              "   'entrada em 20/04/2023 e saida em 25/04/2023 durou 2 dias e variou 3.353%',\n",
              "   'entrada em 30/05/2023 e saida em 05/06/2023 durou 4 dias e variou 2.166%',\n",
              "   'entrada em 21/08/2023 e saida em 24/08/2023 durou 3 dias e variou 0.88%',\n",
              "   'entrada em 05/10/2023 e saida em 10/10/2023 durou 3 dias e variou 9.863%',\n",
              "   'entrada em 26/10/2023 e saida em 01/11/2023 durou 4 dias e variou 2.138%',\n",
              "   'entrada em 09/11/2023 e saida em 13/11/2023 durou 2 dias e variou 1.292%',\n",
              "   'entrada em 30/11/2023 e saida em 11/12/2023 durou 7 dias e variou -3.681%',\n",
              "   'entrada em 05/02/2024 e saida em 07/02/2024 durou 2 dias e variou 3.199%',\n",
              "   'entrada em 29/02/2024 e saida em 06/03/2024 durou 4 dias e variou -0.27%',\n",
              "   'entrada em 23/05/2024 e saida em 11/06/2024 durou 12 dias e variou -7.545%',\n",
              "   'entrada em 24/07/2024 e saida em 25/07/2024 durou 1 dias e variou 3.433%',\n",
              "   'entrada em 07/08/2024 e saida em 09/08/2024 durou 2 dias e variou 6.747%']],\n",
              " ['RAIZ4',\n",
              "  ['entrada em 14/09/2022 e saida em 19/09/2022 durou 3 dias e variou 3.523%',\n",
              "   'entrada em 18/11/2022 e saida em 21/11/2022 durou 1 dias e variou 2.801%',\n",
              "   'entrada em 09/12/2022 e saida em 15/12/2022 durou 4 dias e variou -1.618%',\n",
              "   'entrada em 04/01/2023 e saida em 11/01/2023 durou 5 dias e variou -0.645%',\n",
              "   'entrada em 14/03/2023 e saida em 17/03/2023 durou 3 dias e variou 0.405%',\n",
              "   'entrada em 22/03/2023 e saida em 27/03/2023 durou 3 dias e variou 2.222%',\n",
              "   'entrada em 17/07/2023 e saida em 18/07/2023 durou 1 dias e variou 3.618%',\n",
              "   'entrada em 09/08/2023 e saida em 24/08/2023 durou 11 dias e variou -8.995%',\n",
              "   'entrada em 22/09/2023 e saida em 10/10/2023 durou 12 dias e variou -6.407%',\n",
              "   'entrada em 06/12/2023 e saida em 08/12/2023 durou 2 dias e variou 4.438%',\n",
              "   'entrada em 19/01/2024 e saida em 24/01/2024 durou 3 dias e variou 1.63%',\n",
              "   'entrada em 26/02/2024 e saida em 13/03/2024 durou 12 dias e variou -4.384%',\n",
              "   'entrada em 27/03/2024 e saida em 28/03/2024 durou 1 dias e variou 5.573%',\n",
              "   'entrada em 16/04/2024 e saida em 22/04/2024 durou 4 dias e variou 1.342%',\n",
              "   'entrada em 14/05/2024 e saida em 16/05/2024 durou 2 dias e variou 4.828%',\n",
              "   'entrada em 23/05/2024 e saida em 28/05/2024 durou 3 dias e variou 4.643%',\n",
              "   'entrada em 05/06/2024 e saida em 11/06/2024 durou 4 dias e variou 1.119%',\n",
              "   'entrada em 02/08/2024 e saida em 07/08/2024 durou 3 dias e variou 3.03%']],\n",
              " ['RECV3',\n",
              "  ['entrada em 28/09/2022 e saida em 03/10/2022 durou 3 dias e variou 7.139%',\n",
              "   'entrada em 28/11/2022 e saida em 30/11/2022 durou 2 dias e variou 9.121%',\n",
              "   'entrada em 01/02/2023 e saida em 08/02/2023 durou 5 dias e variou -5.414%',\n",
              "   'entrada em 02/03/2023 e saida em 06/03/2023 durou 2 dias e variou 6.077%',\n",
              "   'entrada em 16/03/2023 e saida em 23/03/2023 durou 5 dias e variou -2.646%',\n",
              "   'entrada em 20/04/2023 e saida em 02/05/2023 durou 6 dias e variou 0.338%',\n",
              "   'entrada em 16/05/2023 e saida em 23/05/2023 durou 5 dias e variou 2.387%',\n",
              "   'entrada em 17/08/2023 e saida em 21/08/2023 durou 2 dias e variou 1.523%',\n",
              "   'entrada em 22/09/2023 e saida em 28/09/2023 durou 4 dias e variou -4.851%',\n",
              "   'entrada em 31/10/2023 e saida em 03/11/2023 durou 2 dias e variou 6.893%',\n",
              "   'entrada em 28/11/2023 e saida em 30/11/2023 durou 2 dias e variou 4.133%',\n",
              "   'entrada em 05/02/2024 e saida em 07/02/2024 durou 2 dias e variou 3.435%',\n",
              "   'entrada em 08/03/2024 e saida em 12/03/2024 durou 2 dias e variou 5.55%',\n",
              "   'entrada em 18/04/2024 e saida em 22/04/2024 durou 2 dias e variou 2.746%',\n",
              "   'entrada em 10/05/2024 e saida em 16/05/2024 durou 4 dias e variou 1.623%',\n",
              "   'entrada em 27/05/2024 e saida em 29/05/2024 durou 2 dias e variou 1.903%',\n",
              "   'entrada em 19/06/2024 e saida em 21/06/2024 durou 2 dias e variou 6.42%',\n",
              "   'entrada em 06/08/2024 e saida em 09/08/2024 durou 3 dias e variou 6.514%']],\n",
              " ['SMTO3',\n",
              "  ['entrada em 28/09/2022 e saida em 04/10/2022 durou 4 dias e variou 3.534%',\n",
              "   'entrada em 27/10/2022 e saida em 01/11/2022 durou 3 dias e variou 9.653%',\n",
              "   'entrada em 12/12/2022 e saida em 20/12/2022 durou 6 dias e variou -4.076%',\n",
              "   'entrada em 14/03/2023 e saida em 22/03/2023 durou 6 dias e variou -1.46%',\n",
              "   'entrada em 19/04/2023 e saida em 25/04/2023 durou 3 dias e variou 4.006%',\n",
              "   'entrada em 29/06/2023 e saida em 10/07/2023 durou 7 dias e variou -1.594%',\n",
              "   'entrada em 06/10/2023 e saida em 10/10/2023 durou 2 dias e variou 3.309%',\n",
              "   'entrada em 31/10/2023 e saida em 06/11/2023 durou 3 dias e variou 1.09%',\n",
              "   'entrada em 10/11/2023 e saida em 16/11/2023 durou 3 dias e variou 0.924%',\n",
              "   'entrada em 06/12/2023 e saida em 14/12/2023 durou 6 dias e variou -5.55%',\n",
              "   'entrada em 11/01/2024 e saida em 16/01/2024 durou 3 dias e variou 0.808%',\n",
              "   'entrada em 05/02/2024 e saida em 07/02/2024 durou 2 dias e variou 3.408%',\n",
              "   'entrada em 16/04/2024 e saida em 23/04/2024 durou 5 dias e variou 0.81%',\n",
              "   'entrada em 16/05/2024 e saida em 21/05/2024 durou 3 dias e variou -0.594%',\n",
              "   'entrada em 23/07/2024 e saida em 09/08/2024 durou 13 dias e variou -6.213%']]]"
            ]
          },
          "execution_count": 57,
          "metadata": {},
          "output_type": "execute_result"
        }
      ],
      "source": [
        "out"
      ]
    },
    {
      "cell_type": "code",
      "execution_count": 58,
      "metadata": {
        "colab": {
          "base_uri": "https://localhost:8080/",
          "height": 296
        },
        "id": "PEibksd_83UE",
        "outputId": "7fb87aec-0fa7-4f87-ffe7-c2aa4bca9c73"
      },
      "outputs": [
        {
          "data": {
            "text/plain": [
              "Date\n",
              "2022-09-06          NaN\n",
              "2022-09-08          NaN\n",
              "2022-09-09    51.694842\n",
              "2022-09-12    61.486380\n",
              "2022-09-13    16.727973\n",
              "                ...    \n",
              "2024-09-02    22.998783\n",
              "2024-09-03     5.428445\n",
              "2024-09-04    28.344077\n",
              "2024-09-05    32.005435\n",
              "2024-09-06     3.339466\n",
              "Length: 501, dtype: float64"
            ]
          },
          "execution_count": 58,
          "metadata": {},
          "output_type": "execute_result"
        }
      ],
      "source": [
        "import talib\n",
        "talib.RSI(ohlc[\"Close\"] , 2)"
      ]
    },
    {
      "cell_type": "code",
      "execution_count": 59,
      "metadata": {},
      "outputs": [
        {
          "data": {
            "text/plain": [
              "Date\n",
              "2022-09-06      NaN\n",
              "2022-09-08     0.00\n",
              "2022-09-09    68.16\n",
              "2022-09-12    76.15\n",
              "2022-09-13    17.65\n",
              "              ...  \n",
              "2024-09-02    23.00\n",
              "2024-09-03     5.43\n",
              "2024-09-04    28.34\n",
              "2024-09-05    32.01\n",
              "2024-09-06     3.34\n",
              "Name: rsi, Length: 501, dtype: float64"
            ]
          },
          "execution_count": 59,
          "metadata": {},
          "output_type": "execute_result"
        }
      ],
      "source": [
        "rsi(ohlc[\"Close\"])"
      ]
    },
    {
      "cell_type": "code",
      "execution_count": 60,
      "metadata": {},
      "outputs": [
        {
          "name": "stdout",
          "output_type": "stream",
          "text": [
            "Help on function full in module quantstats.reports:\n",
            "\n",
            "full(returns, benchmark=None, rf=0.0, grayscale=False, figsize=(8, 5), display=True, compounded=True, periods_per_year=252, match_dates=True, **kwargs)\n",
            "\n"
          ]
        }
      ],
      "source": [
        "import quantstats as qs\n",
        "\n",
        "help(qs.reports.full)"
      ]
    },
    {
      "cell_type": "code",
      "execution_count": 61,
      "metadata": {},
      "outputs": [
        {
          "data": {
            "text/html": [
              "<div>\n",
              "<style scoped>\n",
              "    .dataframe tbody tr th:only-of-type {\n",
              "        vertical-align: middle;\n",
              "    }\n",
              "\n",
              "    .dataframe tbody tr th {\n",
              "        vertical-align: top;\n",
              "    }\n",
              "\n",
              "    .dataframe thead th {\n",
              "        text-align: right;\n",
              "    }\n",
              "</style>\n",
              "<table border=\"1\" class=\"dataframe\">\n",
              "  <thead>\n",
              "    <tr style=\"text-align: right;\">\n",
              "      <th></th>\n",
              "      <th>Open</th>\n",
              "      <th>High</th>\n",
              "      <th>Low</th>\n",
              "      <th>Close</th>\n",
              "      <th>Volume</th>\n",
              "    </tr>\n",
              "    <tr>\n",
              "      <th>Date</th>\n",
              "      <th></th>\n",
              "      <th></th>\n",
              "      <th></th>\n",
              "      <th></th>\n",
              "      <th></th>\n",
              "    </tr>\n",
              "  </thead>\n",
              "  <tbody>\n",
              "    <tr>\n",
              "      <th>2022-09-06</th>\n",
              "      <td>24.980471</td>\n",
              "      <td>25.041082</td>\n",
              "      <td>24.019350</td>\n",
              "      <td>24.322407</td>\n",
              "      <td>1834000</td>\n",
              "    </tr>\n",
              "    <tr>\n",
              "      <th>2022-09-08</th>\n",
              "      <td>24.504236</td>\n",
              "      <td>24.625460</td>\n",
              "      <td>23.274695</td>\n",
              "      <td>23.828856</td>\n",
              "      <td>1939300</td>\n",
              "    </tr>\n",
              "    <tr>\n",
              "      <th>2022-09-09</th>\n",
              "      <td>24.331065</td>\n",
              "      <td>24.798636</td>\n",
              "      <td>24.019350</td>\n",
              "      <td>24.357040</td>\n",
              "      <td>1889700</td>\n",
              "    </tr>\n",
              "    <tr>\n",
              "      <th>2022-09-12</th>\n",
              "      <td>24.703390</td>\n",
              "      <td>25.214256</td>\n",
              "      <td>24.183865</td>\n",
              "      <td>24.486921</td>\n",
              "      <td>1883700</td>\n",
              "    </tr>\n",
              "    <tr>\n",
              "      <th>2022-09-13</th>\n",
              "      <td>24.088620</td>\n",
              "      <td>24.383017</td>\n",
              "      <td>23.317992</td>\n",
              "      <td>23.629707</td>\n",
              "      <td>1769500</td>\n",
              "    </tr>\n",
              "    <tr>\n",
              "      <th>...</th>\n",
              "      <td>...</td>\n",
              "      <td>...</td>\n",
              "      <td>...</td>\n",
              "      <td>...</td>\n",
              "      <td>...</td>\n",
              "    </tr>\n",
              "    <tr>\n",
              "      <th>2024-09-02</th>\n",
              "      <td>20.400000</td>\n",
              "      <td>20.670000</td>\n",
              "      <td>20.200001</td>\n",
              "      <td>20.450001</td>\n",
              "      <td>1325300</td>\n",
              "    </tr>\n",
              "    <tr>\n",
              "      <th>2024-09-03</th>\n",
              "      <td>20.200001</td>\n",
              "      <td>20.490000</td>\n",
              "      <td>19.969999</td>\n",
              "      <td>20.020000</td>\n",
              "      <td>2174500</td>\n",
              "    </tr>\n",
              "    <tr>\n",
              "      <th>2024-09-04</th>\n",
              "      <td>20.059999</td>\n",
              "      <td>20.340000</td>\n",
              "      <td>20.010000</td>\n",
              "      <td>20.110001</td>\n",
              "      <td>2121600</td>\n",
              "    </tr>\n",
              "    <tr>\n",
              "      <th>2024-09-05</th>\n",
              "      <td>20.049999</td>\n",
              "      <td>20.250000</td>\n",
              "      <td>19.980000</td>\n",
              "      <td>20.120001</td>\n",
              "      <td>1482400</td>\n",
              "    </tr>\n",
              "    <tr>\n",
              "      <th>2024-09-06</th>\n",
              "      <td>20.059999</td>\n",
              "      <td>20.180000</td>\n",
              "      <td>19.280001</td>\n",
              "      <td>19.280001</td>\n",
              "      <td>3007500</td>\n",
              "    </tr>\n",
              "  </tbody>\n",
              "</table>\n",
              "<p>501 rows × 5 columns</p>\n",
              "</div>"
            ],
            "text/plain": [
              "                 Open       High        Low      Close   Volume\n",
              "Date                                                           \n",
              "2022-09-06  24.980471  25.041082  24.019350  24.322407  1834000\n",
              "2022-09-08  24.504236  24.625460  23.274695  23.828856  1939300\n",
              "2022-09-09  24.331065  24.798636  24.019350  24.357040  1889700\n",
              "2022-09-12  24.703390  25.214256  24.183865  24.486921  1883700\n",
              "2022-09-13  24.088620  24.383017  23.317992  23.629707  1769500\n",
              "...               ...        ...        ...        ...      ...\n",
              "2024-09-02  20.400000  20.670000  20.200001  20.450001  1325300\n",
              "2024-09-03  20.200001  20.490000  19.969999  20.020000  2174500\n",
              "2024-09-04  20.059999  20.340000  20.010000  20.110001  2121600\n",
              "2024-09-05  20.049999  20.250000  19.980000  20.120001  1482400\n",
              "2024-09-06  20.059999  20.180000  19.280001  19.280001  3007500\n",
              "\n",
              "[501 rows x 5 columns]"
            ]
          },
          "execution_count": 61,
          "metadata": {},
          "output_type": "execute_result"
        }
      ],
      "source": [
        "ohlc"
      ]
    },
    {
      "cell_type": "code",
      "execution_count": 62,
      "metadata": {},
      "outputs": [
        {
          "ename": "KeyError",
          "evalue": "'retorno_estrategia'",
          "output_type": "error",
          "traceback": [
            "\u001b[0;31m---------------------------------------------------------------------------\u001b[0m",
            "\u001b[0;31mKeyError\u001b[0m                                  Traceback (most recent call last)",
            "File \u001b[0;32m~/bin/miniconda3/lib/python3.11/site-packages/pandas/core/indexes/base.py:3790\u001b[0m, in \u001b[0;36mIndex.get_loc\u001b[0;34m(self, key)\u001b[0m\n\u001b[1;32m   3789\u001b[0m \u001b[38;5;28;01mtry\u001b[39;00m:\n\u001b[0;32m-> 3790\u001b[0m     \u001b[38;5;28;01mreturn\u001b[39;00m \u001b[38;5;28;43mself\u001b[39;49m\u001b[38;5;241;43m.\u001b[39;49m\u001b[43m_engine\u001b[49m\u001b[38;5;241;43m.\u001b[39;49m\u001b[43mget_loc\u001b[49m\u001b[43m(\u001b[49m\u001b[43mcasted_key\u001b[49m\u001b[43m)\u001b[49m\n\u001b[1;32m   3791\u001b[0m \u001b[38;5;28;01mexcept\u001b[39;00m \u001b[38;5;167;01mKeyError\u001b[39;00m \u001b[38;5;28;01mas\u001b[39;00m err:\n",
            "File \u001b[0;32mindex.pyx:152\u001b[0m, in \u001b[0;36mpandas._libs.index.IndexEngine.get_loc\u001b[0;34m()\u001b[0m\n",
            "File \u001b[0;32mindex.pyx:181\u001b[0m, in \u001b[0;36mpandas._libs.index.IndexEngine.get_loc\u001b[0;34m()\u001b[0m\n",
            "File \u001b[0;32mpandas/_libs/hashtable_class_helper.pxi:7080\u001b[0m, in \u001b[0;36mpandas._libs.hashtable.PyObjectHashTable.get_item\u001b[0;34m()\u001b[0m\n",
            "File \u001b[0;32mpandas/_libs/hashtable_class_helper.pxi:7088\u001b[0m, in \u001b[0;36mpandas._libs.hashtable.PyObjectHashTable.get_item\u001b[0;34m()\u001b[0m\n",
            "\u001b[0;31mKeyError\u001b[0m: 'retorno_estrategia'",
            "\nThe above exception was the direct cause of the following exception:\n",
            "\u001b[0;31mKeyError\u001b[0m                                  Traceback (most recent call last)",
            "Cell \u001b[0;32mIn[62], line 5\u001b[0m\n\u001b[1;32m      2\u001b[0m \u001b[38;5;66;03m# Suppress FutureWarning messages\u001b[39;00m\n\u001b[1;32m      3\u001b[0m warnings\u001b[38;5;241m.\u001b[39msimplefilter(action\u001b[38;5;241m=\u001b[39m\u001b[38;5;124m'\u001b[39m\u001b[38;5;124mignore\u001b[39m\u001b[38;5;124m'\u001b[39m, category\u001b[38;5;241m=\u001b[39m\u001b[38;5;167;01mFutureWarning\u001b[39;00m)\n\u001b[0;32m----> 5\u001b[0m qs\u001b[38;5;241m.\u001b[39mreports\u001b[38;5;241m.\u001b[39mfull(\u001b[43mohlc\u001b[49m\u001b[43m[\u001b[49m\u001b[38;5;124;43m'\u001b[39;49m\u001b[38;5;124;43mretorno_estrategia\u001b[39;49m\u001b[38;5;124;43m'\u001b[39;49m\u001b[43m]\u001b[49m )\n",
            "File \u001b[0;32m~/bin/miniconda3/lib/python3.11/site-packages/pandas/core/frame.py:3893\u001b[0m, in \u001b[0;36mDataFrame.__getitem__\u001b[0;34m(self, key)\u001b[0m\n\u001b[1;32m   3891\u001b[0m \u001b[38;5;28;01mif\u001b[39;00m \u001b[38;5;28mself\u001b[39m\u001b[38;5;241m.\u001b[39mcolumns\u001b[38;5;241m.\u001b[39mnlevels \u001b[38;5;241m>\u001b[39m \u001b[38;5;241m1\u001b[39m:\n\u001b[1;32m   3892\u001b[0m     \u001b[38;5;28;01mreturn\u001b[39;00m \u001b[38;5;28mself\u001b[39m\u001b[38;5;241m.\u001b[39m_getitem_multilevel(key)\n\u001b[0;32m-> 3893\u001b[0m indexer \u001b[38;5;241m=\u001b[39m \u001b[38;5;28;43mself\u001b[39;49m\u001b[38;5;241;43m.\u001b[39;49m\u001b[43mcolumns\u001b[49m\u001b[38;5;241;43m.\u001b[39;49m\u001b[43mget_loc\u001b[49m\u001b[43m(\u001b[49m\u001b[43mkey\u001b[49m\u001b[43m)\u001b[49m\n\u001b[1;32m   3894\u001b[0m \u001b[38;5;28;01mif\u001b[39;00m is_integer(indexer):\n\u001b[1;32m   3895\u001b[0m     indexer \u001b[38;5;241m=\u001b[39m [indexer]\n",
            "File \u001b[0;32m~/bin/miniconda3/lib/python3.11/site-packages/pandas/core/indexes/base.py:3797\u001b[0m, in \u001b[0;36mIndex.get_loc\u001b[0;34m(self, key)\u001b[0m\n\u001b[1;32m   3792\u001b[0m     \u001b[38;5;28;01mif\u001b[39;00m \u001b[38;5;28misinstance\u001b[39m(casted_key, \u001b[38;5;28mslice\u001b[39m) \u001b[38;5;129;01mor\u001b[39;00m (\n\u001b[1;32m   3793\u001b[0m         \u001b[38;5;28misinstance\u001b[39m(casted_key, abc\u001b[38;5;241m.\u001b[39mIterable)\n\u001b[1;32m   3794\u001b[0m         \u001b[38;5;129;01mand\u001b[39;00m \u001b[38;5;28many\u001b[39m(\u001b[38;5;28misinstance\u001b[39m(x, \u001b[38;5;28mslice\u001b[39m) \u001b[38;5;28;01mfor\u001b[39;00m x \u001b[38;5;129;01min\u001b[39;00m casted_key)\n\u001b[1;32m   3795\u001b[0m     ):\n\u001b[1;32m   3796\u001b[0m         \u001b[38;5;28;01mraise\u001b[39;00m InvalidIndexError(key)\n\u001b[0;32m-> 3797\u001b[0m     \u001b[38;5;28;01mraise\u001b[39;00m \u001b[38;5;167;01mKeyError\u001b[39;00m(key) \u001b[38;5;28;01mfrom\u001b[39;00m \u001b[38;5;21;01merr\u001b[39;00m\n\u001b[1;32m   3798\u001b[0m \u001b[38;5;28;01mexcept\u001b[39;00m \u001b[38;5;167;01mTypeError\u001b[39;00m:\n\u001b[1;32m   3799\u001b[0m     \u001b[38;5;66;03m# If we have a listlike key, _check_indexing_error will raise\u001b[39;00m\n\u001b[1;32m   3800\u001b[0m     \u001b[38;5;66;03m#  InvalidIndexError. Otherwise we fall through and re-raise\u001b[39;00m\n\u001b[1;32m   3801\u001b[0m     \u001b[38;5;66;03m#  the TypeError.\u001b[39;00m\n\u001b[1;32m   3802\u001b[0m     \u001b[38;5;28mself\u001b[39m\u001b[38;5;241m.\u001b[39m_check_indexing_error(key)\n",
            "\u001b[0;31mKeyError\u001b[0m: 'retorno_estrategia'"
          ]
        }
      ],
      "source": [
        "import warnings\n",
        "# Suppress FutureWarning messages\n",
        "warnings.simplefilter(action='ignore', category=FutureWarning)\n",
        "\n",
        "qs.reports.full(ohlc['retorno_estrategia'] )"
      ]
    }
  ],
  "metadata": {
    "colab": {
      "authorship_tag": "ABX9TyP7iEbM0V8v5zZD8EoBLUGn",
      "include_colab_link": true,
      "provenance": []
    },
    "kernelspec": {
      "display_name": "Python 3",
      "name": "python3"
    },
    "language_info": {
      "codemirror_mode": {
        "name": "ipython",
        "version": 3
      },
      "file_extension": ".py",
      "mimetype": "text/x-python",
      "name": "python",
      "nbconvert_exporter": "python",
      "pygments_lexer": "ipython3",
      "version": "3.11.9"
    }
  },
  "nbformat": 4,
  "nbformat_minor": 0
}
