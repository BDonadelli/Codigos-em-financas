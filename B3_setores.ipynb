{
 "cells": [
  {
   "cell_type": "code",
   "execution_count": 1,
   "id": "e51a3b9d",
   "metadata": {},
   "outputs": [],
   "source": [
    "import pandas as pd\n",
    "from datetime import date\n",
    "from time import sleep\n",
    "\n",
    "import zipfile\n",
    "import os"
   ]
  },
  {
   "cell_type": "code",
   "execution_count": 2,
   "id": "fd94a1e2",
   "metadata": {},
   "outputs": [],
   "source": [
    "## diretorio de trabalho e armazenamento de dados\n",
    "wd = r\"/home/yair/GHub/Codigos-em-financas/data/\"\n",
    "\n",
    "## remove planilha caso exista\n",
    "try:\n",
    "    os.remove(wd + \"setores.csv\")\n",
    "except: pass"
   ]
  },
  {
   "cell_type": "code",
   "execution_count": 3,
   "id": "f3be9187",
   "metadata": {},
   "outputs": [],
   "source": [
    "from selenium import webdriver\n",
    "\n",
    "from selenium.webdriver.chrome.service import Service\n",
    "from webdriver_manager.chrome import ChromeDriverManager\n",
    "from selenium.webdriver.chrome.options import Options\n",
    "chrome_opts = Options()\n",
    "chrome_opts.add_experimental_option(\"prefs\", {\n",
    "  \"download.default_directory\": wd,\n",
    "  \"download.prompt_for_download\": False,\n",
    "  \"download.directory_upgrade\": True\n",
    "})\n",
    "\n",
    "from selenium.webdriver.common.by import By\n",
    "from selenium.webdriver.support import expected_conditions as EC\n",
    "from selenium.webdriver.support.ui import WebDriverWait\n"
   ]
  },
  {
   "cell_type": "code",
   "execution_count": 4,
   "id": "56048935",
   "metadata": {},
   "outputs": [],
   "source": [
    "driver = webdriver.Chrome(service=Service(executable_path=ChromeDriverManager().install()), #\n",
    "                          options=chrome_opts)\n",
    "url = 'https://www.b3.com.br/pt_br/produtos-e-servicos/negociacao/renda-variavel/empresas-listadas.htm'\n",
    "driver.get(url)"
   ]
  },
  {
   "cell_type": "markdown",
   "id": "99b91d50",
   "metadata": {},
   "source": [
    "#### navegação"
   ]
  },
  {
   "cell_type": "code",
   "execution_count": 5,
   "id": "6518ae0d",
   "metadata": {},
   "outputs": [],
   "source": [
    "popup = '//*[@id=\"onetrust-close-btn-container\"]/button' ## '/html/body/div[2]/div[3]/div/div[2]/button'\n",
    "driver.find_element('xpath', popup).click()\n",
    "\n",
    "WebDriverWait(driver, 10).until(\n",
    "        EC.frame_to_be_available_and_switch_to_it((By.ID, \"bvmf_iframe\")))\n",
    "\n",
    "botao_expandir = '/html/body/app-root/app-companies-home/div/div/div/div/div[2]/div[1]/div/div/a/i'\n",
    "driver.execute_script(\"arguments[0].click();\", driver.find_element('xpath', botao_expandir))\n",
    "\n",
    "planilha = driver.find_element('xpath', '/html/body/app-root/app-companies-home/div/div/div/div/div[2]/div[2]/div/app-companies-home-filter-classification/form/div[2]/div[3]/div[2]/p/a')\n",
    "driver.execute_script(\"arguments[0].click();\", planilha)\n",
    "sleep(5)\n",
    "\n",
    "driver.quit()"
   ]
  },
  {
   "cell_type": "markdown",
   "id": "835325e8",
   "metadata": {},
   "source": [
    "#### extrair o ZIP"
   ]
  },
  {
   "cell_type": "code",
   "execution_count": 6,
   "id": "c1f2e895",
   "metadata": {},
   "outputs": [],
   "source": [
    "arquivo_zip = zipfile.ZipFile( wd + r\"ClassifSetorial.zip\")\n",
    "\n",
    "for planilha in arquivo_zip.namelist():\n",
    "    setores = pd.read_excel(arquivo_zip.open(planilha), skiprows=6)\n",
    "\n",
    "arquivo_zip.close()\n",
    "os.remove(wd + r\"ClassifSetorial.zip\")\n"
   ]
  },
  {
   "cell_type": "markdown",
   "id": "f6885d02",
   "metadata": {},
   "source": [
    "#### prepara planilha"
   ]
  },
  {
   "cell_type": "code",
   "execution_count": 7,
   "id": "8da04bdb",
   "metadata": {},
   "outputs": [],
   "source": [
    "setores['SUBSETOR'] = setores['SUBSETOR'].ffill()\n",
    "setores = setores.dropna(subset = ['SEGMENTO'])\n",
    "setores = setores[['SUBSETOR', 'SEGMENTO', 'LISTAGEM']]\n",
    "\n",
    "setores = setores.dropna()\n",
    "setores.columns = ['SETOR', 'NOME', 'TICKER']\n",
    "\n",
    "setores.to_csv(wd+\"setores.csv\", index = False)\n",
    "\n"
   ]
  }
 ],
 "metadata": {
  "kernelspec": {
   "display_name": "Python 3 (ipykernel)",
   "language": "python",
   "name": "python3"
  },
  "language_info": {
   "codemirror_mode": {
    "name": "ipython",
    "version": 3
   },
   "file_extension": ".py",
   "mimetype": "text/x-python",
   "name": "python",
   "nbconvert_exporter": "python",
   "pygments_lexer": "ipython3",
   "version": "3.11.5"
  }
 },
 "nbformat": 4,
 "nbformat_minor": 5
}
