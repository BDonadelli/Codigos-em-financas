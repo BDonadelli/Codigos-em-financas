{
 "cells": [
  {
   "cell_type": "code",
   "execution_count": 5,
   "metadata": {},
   "outputs": [],
   "source": [
    "import pandas as pd\n",
    "import numpy as np\n",
    "from datetime import timedelta, time,datetime\n",
    "import os\n",
    "\n",
    "from plotly.subplots import make_subplots\n",
    "import plotly.graph_objects as go\n"
   ]
  },
  {
   "cell_type": "code",
   "execution_count": 6,
   "metadata": {},
   "outputs": [
    {
     "name": "stderr",
     "output_type": "stream",
     "text": [
      "ERROR:tvDatafeed.main:error while signin\n",
      "WARNING:tvDatafeed.main:you are using nologin method, data you access may be limited\n"
     ]
    }
   ],
   "source": [
    "from tvDatafeed import TvDatafeed, Interval\n",
    "\n",
    "username = 'jdonadelli'\n",
    "password = open('/home/yair/GHub/Codigos-em-financas/passwd.txt', 'r').read()\n",
    "\n",
    "tv = TvDatafeed(username, password)"
   ]
  },
  {
   "cell_type": "code",
   "execution_count": 7,
   "metadata": {},
   "outputs": [
    {
     "data": {
      "text/html": [
       "<div>\n",
       "<style scoped>\n",
       "    .dataframe tbody tr th:only-of-type {\n",
       "        vertical-align: middle;\n",
       "    }\n",
       "\n",
       "    .dataframe tbody tr th {\n",
       "        vertical-align: top;\n",
       "    }\n",
       "\n",
       "    .dataframe thead th {\n",
       "        text-align: right;\n",
       "    }\n",
       "</style>\n",
       "<table border=\"1\" class=\"dataframe\">\n",
       "  <thead>\n",
       "    <tr style=\"text-align: right;\">\n",
       "      <th></th>\n",
       "      <th>symbol</th>\n",
       "      <th>open</th>\n",
       "      <th>high</th>\n",
       "      <th>low</th>\n",
       "      <th>close</th>\n",
       "      <th>volume</th>\n",
       "      <th>time</th>\n",
       "    </tr>\n",
       "    <tr>\n",
       "      <th>datetime</th>\n",
       "      <th></th>\n",
       "      <th></th>\n",
       "      <th></th>\n",
       "      <th></th>\n",
       "      <th></th>\n",
       "      <th></th>\n",
       "      <th></th>\n",
       "    </tr>\n",
       "  </thead>\n",
       "  <tbody>\n",
       "    <tr>\n",
       "      <th>2024-05-22 13:10:00</th>\n",
       "      <td>BMFBOVESPA:PETR4</td>\n",
       "      <td>35.866271</td>\n",
       "      <td>35.905171</td>\n",
       "      <td>35.837096</td>\n",
       "      <td>35.885721</td>\n",
       "      <td>2.032878e+05</td>\n",
       "      <td>2024-05-22 13:10:00</td>\n",
       "    </tr>\n",
       "    <tr>\n",
       "      <th>2024-05-22 13:15:00</th>\n",
       "      <td>BMFBOVESPA:PETR4</td>\n",
       "      <td>35.875996</td>\n",
       "      <td>35.895446</td>\n",
       "      <td>35.866271</td>\n",
       "      <td>35.866271</td>\n",
       "      <td>9.377769e+04</td>\n",
       "      <td>2024-05-22 13:15:00</td>\n",
       "    </tr>\n",
       "    <tr>\n",
       "      <th>2024-05-22 13:20:00</th>\n",
       "      <td>BMFBOVESPA:PETR4</td>\n",
       "      <td>35.866271</td>\n",
       "      <td>35.875996</td>\n",
       "      <td>35.846821</td>\n",
       "      <td>35.866271</td>\n",
       "      <td>2.457551e+04</td>\n",
       "      <td>2024-05-22 13:20:00</td>\n",
       "    </tr>\n",
       "    <tr>\n",
       "      <th>2024-05-22 13:55:00</th>\n",
       "      <td>BMFBOVESPA:PETR4</td>\n",
       "      <td>35.866271</td>\n",
       "      <td>35.944072</td>\n",
       "      <td>35.846821</td>\n",
       "      <td>35.856546</td>\n",
       "      <td>3.633885e+05</td>\n",
       "      <td>2024-05-22 13:55:00</td>\n",
       "    </tr>\n",
       "    <tr>\n",
       "      <th>2024-05-22 14:00:00</th>\n",
       "      <td>BMFBOVESPA:PETR4</td>\n",
       "      <td>35.866271</td>\n",
       "      <td>35.914897</td>\n",
       "      <td>35.856546</td>\n",
       "      <td>35.905171</td>\n",
       "      <td>1.188673e+05</td>\n",
       "      <td>2024-05-22 14:00:00</td>\n",
       "    </tr>\n",
       "    <tr>\n",
       "      <th>...</th>\n",
       "      <td>...</td>\n",
       "      <td>...</td>\n",
       "      <td>...</td>\n",
       "      <td>...</td>\n",
       "      <td>...</td>\n",
       "      <td>...</td>\n",
       "      <td>...</td>\n",
       "    </tr>\n",
       "    <tr>\n",
       "      <th>2024-08-09 16:35:00</th>\n",
       "      <td>BMFBOVESPA:PETR4</td>\n",
       "      <td>36.630000</td>\n",
       "      <td>36.640000</td>\n",
       "      <td>36.540000</td>\n",
       "      <td>36.560000</td>\n",
       "      <td>4.359000e+05</td>\n",
       "      <td>2024-08-09 16:35:00</td>\n",
       "    </tr>\n",
       "    <tr>\n",
       "      <th>2024-08-09 16:40:00</th>\n",
       "      <td>BMFBOVESPA:PETR4</td>\n",
       "      <td>36.550000</td>\n",
       "      <td>36.570000</td>\n",
       "      <td>36.500000</td>\n",
       "      <td>36.510000</td>\n",
       "      <td>3.973000e+05</td>\n",
       "      <td>2024-08-09 16:40:00</td>\n",
       "    </tr>\n",
       "    <tr>\n",
       "      <th>2024-08-09 16:45:00</th>\n",
       "      <td>BMFBOVESPA:PETR4</td>\n",
       "      <td>36.500000</td>\n",
       "      <td>36.540000</td>\n",
       "      <td>36.470000</td>\n",
       "      <td>36.510000</td>\n",
       "      <td>2.528300e+06</td>\n",
       "      <td>2024-08-09 16:45:00</td>\n",
       "    </tr>\n",
       "    <tr>\n",
       "      <th>2024-08-09 16:50:00</th>\n",
       "      <td>BMFBOVESPA:PETR4</td>\n",
       "      <td>36.510000</td>\n",
       "      <td>36.530000</td>\n",
       "      <td>36.440000</td>\n",
       "      <td>36.480000</td>\n",
       "      <td>5.984000e+05</td>\n",
       "      <td>2024-08-09 16:50:00</td>\n",
       "    </tr>\n",
       "    <tr>\n",
       "      <th>2024-08-09 17:05:00</th>\n",
       "      <td>BMFBOVESPA:PETR4</td>\n",
       "      <td>36.510000</td>\n",
       "      <td>36.510000</td>\n",
       "      <td>36.510000</td>\n",
       "      <td>36.510000</td>\n",
       "      <td>2.607500e+06</td>\n",
       "      <td>2024-08-09 17:05:00</td>\n",
       "    </tr>\n",
       "  </tbody>\n",
       "</table>\n",
       "<p>5000 rows × 7 columns</p>\n",
       "</div>"
      ],
      "text/plain": [
       "                               symbol       open       high        low  \\\n",
       "datetime                                                                 \n",
       "2024-05-22 13:10:00  BMFBOVESPA:PETR4  35.866271  35.905171  35.837096   \n",
       "2024-05-22 13:15:00  BMFBOVESPA:PETR4  35.875996  35.895446  35.866271   \n",
       "2024-05-22 13:20:00  BMFBOVESPA:PETR4  35.866271  35.875996  35.846821   \n",
       "2024-05-22 13:55:00  BMFBOVESPA:PETR4  35.866271  35.944072  35.846821   \n",
       "2024-05-22 14:00:00  BMFBOVESPA:PETR4  35.866271  35.914897  35.856546   \n",
       "...                               ...        ...        ...        ...   \n",
       "2024-08-09 16:35:00  BMFBOVESPA:PETR4  36.630000  36.640000  36.540000   \n",
       "2024-08-09 16:40:00  BMFBOVESPA:PETR4  36.550000  36.570000  36.500000   \n",
       "2024-08-09 16:45:00  BMFBOVESPA:PETR4  36.500000  36.540000  36.470000   \n",
       "2024-08-09 16:50:00  BMFBOVESPA:PETR4  36.510000  36.530000  36.440000   \n",
       "2024-08-09 17:05:00  BMFBOVESPA:PETR4  36.510000  36.510000  36.510000   \n",
       "\n",
       "                         close        volume                time  \n",
       "datetime                                                          \n",
       "2024-05-22 13:10:00  35.885721  2.032878e+05 2024-05-22 13:10:00  \n",
       "2024-05-22 13:15:00  35.866271  9.377769e+04 2024-05-22 13:15:00  \n",
       "2024-05-22 13:20:00  35.866271  2.457551e+04 2024-05-22 13:20:00  \n",
       "2024-05-22 13:55:00  35.856546  3.633885e+05 2024-05-22 13:55:00  \n",
       "2024-05-22 14:00:00  35.905171  1.188673e+05 2024-05-22 14:00:00  \n",
       "...                        ...           ...                 ...  \n",
       "2024-08-09 16:35:00  36.560000  4.359000e+05 2024-08-09 16:35:00  \n",
       "2024-08-09 16:40:00  36.510000  3.973000e+05 2024-08-09 16:40:00  \n",
       "2024-08-09 16:45:00  36.510000  2.528300e+06 2024-08-09 16:45:00  \n",
       "2024-08-09 16:50:00  36.480000  5.984000e+05 2024-08-09 16:50:00  \n",
       "2024-08-09 17:05:00  36.510000  2.607500e+06 2024-08-09 17:05:00  \n",
       "\n",
       "[5000 rows x 7 columns]"
      ]
     },
     "execution_count": 7,
     "metadata": {},
     "output_type": "execute_result"
    }
   ],
   "source": [
    "df = tv.get_hist(symbol='PETR4',exchange='BMFBOVESPA',interval=Interval.in_5_minute, n_bars= 5000)\n",
    "df['time'] = df.index\n",
    "df"
   ]
  },
  {
   "cell_type": "code",
   "execution_count": 8,
   "metadata": {},
   "outputs": [
    {
     "data": {
      "text/html": [
       "<div>\n",
       "<style scoped>\n",
       "    .dataframe tbody tr th:only-of-type {\n",
       "        vertical-align: middle;\n",
       "    }\n",
       "\n",
       "    .dataframe tbody tr th {\n",
       "        vertical-align: top;\n",
       "    }\n",
       "\n",
       "    .dataframe thead th {\n",
       "        text-align: right;\n",
       "    }\n",
       "</style>\n",
       "<table border=\"1\" class=\"dataframe\">\n",
       "  <thead>\n",
       "    <tr style=\"text-align: right;\">\n",
       "      <th></th>\n",
       "      <th>symbol</th>\n",
       "      <th>open</th>\n",
       "      <th>high</th>\n",
       "      <th>low</th>\n",
       "      <th>close</th>\n",
       "      <th>volume</th>\n",
       "      <th>time</th>\n",
       "    </tr>\n",
       "    <tr>\n",
       "      <th>datetime</th>\n",
       "      <th></th>\n",
       "      <th></th>\n",
       "      <th></th>\n",
       "      <th></th>\n",
       "      <th></th>\n",
       "      <th></th>\n",
       "      <th></th>\n",
       "    </tr>\n",
       "  </thead>\n",
       "  <tbody>\n",
       "  </tbody>\n",
       "</table>\n",
       "</div>"
      ],
      "text/plain": [
       "Empty DataFrame\n",
       "Columns: [symbol, open, high, low, close, volume, time]\n",
       "Index: []"
      ]
     },
     "execution_count": 8,
     "metadata": {},
     "output_type": "execute_result"
    }
   ],
   "source": [
    "inicio = datetime(2023,12,20).date()\n",
    "fim = datetime(2024,2,26).date()\n",
    "df_cut = df[(df.index.date >= inicio) & (df.index.date <= fim)]\n",
    "df_cut"
   ]
  },
  {
   "cell_type": "code",
   "execution_count": 9,
   "metadata": {},
   "outputs": [
    {
     "data": {
      "text/plain": [
       "array(['2023-12-25T00:00:00.000000000', '2024-01-01T00:00:00.000000000',\n",
       "       '2024-02-12T00:00:00.000000000', '2024-02-13T00:00:00.000000000'],\n",
       "      dtype='datetime64[ns]')"
      ]
     },
     "execution_count": 9,
     "metadata": {},
     "output_type": "execute_result"
    }
   ],
   "source": [
    "from DT_feriados import feriados\n",
    "lista = feriados(inicio,fim)\n",
    "lista"
   ]
  },
  {
   "cell_type": "code",
   "execution_count": 10,
   "metadata": {},
   "outputs": [],
   "source": [
    "\n",
    "\n",
    "import plotly.io as pio\n",
    "pio.renderers.default = 'vscode'\n"
   ]
  },
  {
   "cell_type": "code",
   "execution_count": 11,
   "metadata": {},
   "outputs": [
    {
     "data": {
      "application/vnd.plotly.v1+json": {
       "config": {
        "plotlyServerURL": "https://plot.ly"
       },
       "data": [
        {
         "close": [],
         "high": [],
         "low": [],
         "open": [],
         "showlegend": false,
         "type": "candlestick",
         "x": [],
         "xaxis": "x",
         "yaxis": "y"
        },
        {
         "marker": {
          "color": "red"
         },
         "showlegend": false,
         "type": "bar",
         "x": [],
         "xaxis": "x2",
         "y": [],
         "yaxis": "y2"
        },
        {
         "marker": {
          "color": "#FF0000"
         },
         "showlegend": false,
         "type": "bar",
         "x": [],
         "xaxis": "x2",
         "y": [],
         "yaxis": "y2"
        }
       ],
       "layout": {
        "annotations": [
         {
          "font": {
           "size": 16
          },
          "showarrow": false,
          "text": "OHLC",
          "x": 0.5,
          "xanchor": "center",
          "xref": "paper",
          "y": 1,
          "yanchor": "bottom",
          "yref": "paper"
         },
         {
          "font": {
           "size": 16
          },
          "showarrow": false,
          "text": "Volume",
          "x": 0.5,
          "xanchor": "center",
          "xref": "paper",
          "y": 0.17,
          "yanchor": "bottom",
          "yref": "paper"
         }
        ],
        "height": 600,
        "margin": {
         "b": 30,
         "l": 30,
         "r": 30,
         "t": 30
        },
        "template": {
         "data": {
          "bar": [
           {
            "error_x": {
             "color": "#2a3f5f"
            },
            "error_y": {
             "color": "#2a3f5f"
            },
            "marker": {
             "line": {
              "color": "#E5ECF6",
              "width": 0.5
             },
             "pattern": {
              "fillmode": "overlay",
              "size": 10,
              "solidity": 0.2
             }
            },
            "type": "bar"
           }
          ],
          "barpolar": [
           {
            "marker": {
             "line": {
              "color": "#E5ECF6",
              "width": 0.5
             },
             "pattern": {
              "fillmode": "overlay",
              "size": 10,
              "solidity": 0.2
             }
            },
            "type": "barpolar"
           }
          ],
          "carpet": [
           {
            "aaxis": {
             "endlinecolor": "#2a3f5f",
             "gridcolor": "white",
             "linecolor": "white",
             "minorgridcolor": "white",
             "startlinecolor": "#2a3f5f"
            },
            "baxis": {
             "endlinecolor": "#2a3f5f",
             "gridcolor": "white",
             "linecolor": "white",
             "minorgridcolor": "white",
             "startlinecolor": "#2a3f5f"
            },
            "type": "carpet"
           }
          ],
          "choropleth": [
           {
            "colorbar": {
             "outlinewidth": 0,
             "ticks": ""
            },
            "type": "choropleth"
           }
          ],
          "contour": [
           {
            "colorbar": {
             "outlinewidth": 0,
             "ticks": ""
            },
            "colorscale": [
             [
              0,
              "#0d0887"
             ],
             [
              0.1111111111111111,
              "#46039f"
             ],
             [
              0.2222222222222222,
              "#7201a8"
             ],
             [
              0.3333333333333333,
              "#9c179e"
             ],
             [
              0.4444444444444444,
              "#bd3786"
             ],
             [
              0.5555555555555556,
              "#d8576b"
             ],
             [
              0.6666666666666666,
              "#ed7953"
             ],
             [
              0.7777777777777778,
              "#fb9f3a"
             ],
             [
              0.8888888888888888,
              "#fdca26"
             ],
             [
              1,
              "#f0f921"
             ]
            ],
            "type": "contour"
           }
          ],
          "contourcarpet": [
           {
            "colorbar": {
             "outlinewidth": 0,
             "ticks": ""
            },
            "type": "contourcarpet"
           }
          ],
          "heatmap": [
           {
            "colorbar": {
             "outlinewidth": 0,
             "ticks": ""
            },
            "colorscale": [
             [
              0,
              "#0d0887"
             ],
             [
              0.1111111111111111,
              "#46039f"
             ],
             [
              0.2222222222222222,
              "#7201a8"
             ],
             [
              0.3333333333333333,
              "#9c179e"
             ],
             [
              0.4444444444444444,
              "#bd3786"
             ],
             [
              0.5555555555555556,
              "#d8576b"
             ],
             [
              0.6666666666666666,
              "#ed7953"
             ],
             [
              0.7777777777777778,
              "#fb9f3a"
             ],
             [
              0.8888888888888888,
              "#fdca26"
             ],
             [
              1,
              "#f0f921"
             ]
            ],
            "type": "heatmap"
           }
          ],
          "heatmapgl": [
           {
            "colorbar": {
             "outlinewidth": 0,
             "ticks": ""
            },
            "colorscale": [
             [
              0,
              "#0d0887"
             ],
             [
              0.1111111111111111,
              "#46039f"
             ],
             [
              0.2222222222222222,
              "#7201a8"
             ],
             [
              0.3333333333333333,
              "#9c179e"
             ],
             [
              0.4444444444444444,
              "#bd3786"
             ],
             [
              0.5555555555555556,
              "#d8576b"
             ],
             [
              0.6666666666666666,
              "#ed7953"
             ],
             [
              0.7777777777777778,
              "#fb9f3a"
             ],
             [
              0.8888888888888888,
              "#fdca26"
             ],
             [
              1,
              "#f0f921"
             ]
            ],
            "type": "heatmapgl"
           }
          ],
          "histogram": [
           {
            "marker": {
             "pattern": {
              "fillmode": "overlay",
              "size": 10,
              "solidity": 0.2
             }
            },
            "type": "histogram"
           }
          ],
          "histogram2d": [
           {
            "colorbar": {
             "outlinewidth": 0,
             "ticks": ""
            },
            "colorscale": [
             [
              0,
              "#0d0887"
             ],
             [
              0.1111111111111111,
              "#46039f"
             ],
             [
              0.2222222222222222,
              "#7201a8"
             ],
             [
              0.3333333333333333,
              "#9c179e"
             ],
             [
              0.4444444444444444,
              "#bd3786"
             ],
             [
              0.5555555555555556,
              "#d8576b"
             ],
             [
              0.6666666666666666,
              "#ed7953"
             ],
             [
              0.7777777777777778,
              "#fb9f3a"
             ],
             [
              0.8888888888888888,
              "#fdca26"
             ],
             [
              1,
              "#f0f921"
             ]
            ],
            "type": "histogram2d"
           }
          ],
          "histogram2dcontour": [
           {
            "colorbar": {
             "outlinewidth": 0,
             "ticks": ""
            },
            "colorscale": [
             [
              0,
              "#0d0887"
             ],
             [
              0.1111111111111111,
              "#46039f"
             ],
             [
              0.2222222222222222,
              "#7201a8"
             ],
             [
              0.3333333333333333,
              "#9c179e"
             ],
             [
              0.4444444444444444,
              "#bd3786"
             ],
             [
              0.5555555555555556,
              "#d8576b"
             ],
             [
              0.6666666666666666,
              "#ed7953"
             ],
             [
              0.7777777777777778,
              "#fb9f3a"
             ],
             [
              0.8888888888888888,
              "#fdca26"
             ],
             [
              1,
              "#f0f921"
             ]
            ],
            "type": "histogram2dcontour"
           }
          ],
          "mesh3d": [
           {
            "colorbar": {
             "outlinewidth": 0,
             "ticks": ""
            },
            "type": "mesh3d"
           }
          ],
          "parcoords": [
           {
            "line": {
             "colorbar": {
              "outlinewidth": 0,
              "ticks": ""
             }
            },
            "type": "parcoords"
           }
          ],
          "pie": [
           {
            "automargin": true,
            "type": "pie"
           }
          ],
          "scatter": [
           {
            "fillpattern": {
             "fillmode": "overlay",
             "size": 10,
             "solidity": 0.2
            },
            "type": "scatter"
           }
          ],
          "scatter3d": [
           {
            "line": {
             "colorbar": {
              "outlinewidth": 0,
              "ticks": ""
             }
            },
            "marker": {
             "colorbar": {
              "outlinewidth": 0,
              "ticks": ""
             }
            },
            "type": "scatter3d"
           }
          ],
          "scattercarpet": [
           {
            "marker": {
             "colorbar": {
              "outlinewidth": 0,
              "ticks": ""
             }
            },
            "type": "scattercarpet"
           }
          ],
          "scattergeo": [
           {
            "marker": {
             "colorbar": {
              "outlinewidth": 0,
              "ticks": ""
             }
            },
            "type": "scattergeo"
           }
          ],
          "scattergl": [
           {
            "marker": {
             "colorbar": {
              "outlinewidth": 0,
              "ticks": ""
             }
            },
            "type": "scattergl"
           }
          ],
          "scattermapbox": [
           {
            "marker": {
             "colorbar": {
              "outlinewidth": 0,
              "ticks": ""
             }
            },
            "type": "scattermapbox"
           }
          ],
          "scatterpolar": [
           {
            "marker": {
             "colorbar": {
              "outlinewidth": 0,
              "ticks": ""
             }
            },
            "type": "scatterpolar"
           }
          ],
          "scatterpolargl": [
           {
            "marker": {
             "colorbar": {
              "outlinewidth": 0,
              "ticks": ""
             }
            },
            "type": "scatterpolargl"
           }
          ],
          "scatterternary": [
           {
            "marker": {
             "colorbar": {
              "outlinewidth": 0,
              "ticks": ""
             }
            },
            "type": "scatterternary"
           }
          ],
          "surface": [
           {
            "colorbar": {
             "outlinewidth": 0,
             "ticks": ""
            },
            "colorscale": [
             [
              0,
              "#0d0887"
             ],
             [
              0.1111111111111111,
              "#46039f"
             ],
             [
              0.2222222222222222,
              "#7201a8"
             ],
             [
              0.3333333333333333,
              "#9c179e"
             ],
             [
              0.4444444444444444,
              "#bd3786"
             ],
             [
              0.5555555555555556,
              "#d8576b"
             ],
             [
              0.6666666666666666,
              "#ed7953"
             ],
             [
              0.7777777777777778,
              "#fb9f3a"
             ],
             [
              0.8888888888888888,
              "#fdca26"
             ],
             [
              1,
              "#f0f921"
             ]
            ],
            "type": "surface"
           }
          ],
          "table": [
           {
            "cells": {
             "fill": {
              "color": "#EBF0F8"
             },
             "line": {
              "color": "white"
             }
            },
            "header": {
             "fill": {
              "color": "#C8D4E3"
             },
             "line": {
              "color": "white"
             }
            },
            "type": "table"
           }
          ]
         },
         "layout": {
          "annotationdefaults": {
           "arrowcolor": "#2a3f5f",
           "arrowhead": 0,
           "arrowwidth": 1
          },
          "autotypenumbers": "strict",
          "coloraxis": {
           "colorbar": {
            "outlinewidth": 0,
            "ticks": ""
           }
          },
          "colorscale": {
           "diverging": [
            [
             0,
             "#8e0152"
            ],
            [
             0.1,
             "#c51b7d"
            ],
            [
             0.2,
             "#de77ae"
            ],
            [
             0.3,
             "#f1b6da"
            ],
            [
             0.4,
             "#fde0ef"
            ],
            [
             0.5,
             "#f7f7f7"
            ],
            [
             0.6,
             "#e6f5d0"
            ],
            [
             0.7,
             "#b8e186"
            ],
            [
             0.8,
             "#7fbc41"
            ],
            [
             0.9,
             "#4d9221"
            ],
            [
             1,
             "#276419"
            ]
           ],
           "sequential": [
            [
             0,
             "#0d0887"
            ],
            [
             0.1111111111111111,
             "#46039f"
            ],
            [
             0.2222222222222222,
             "#7201a8"
            ],
            [
             0.3333333333333333,
             "#9c179e"
            ],
            [
             0.4444444444444444,
             "#bd3786"
            ],
            [
             0.5555555555555556,
             "#d8576b"
            ],
            [
             0.6666666666666666,
             "#ed7953"
            ],
            [
             0.7777777777777778,
             "#fb9f3a"
            ],
            [
             0.8888888888888888,
             "#fdca26"
            ],
            [
             1,
             "#f0f921"
            ]
           ],
           "sequentialminus": [
            [
             0,
             "#0d0887"
            ],
            [
             0.1111111111111111,
             "#46039f"
            ],
            [
             0.2222222222222222,
             "#7201a8"
            ],
            [
             0.3333333333333333,
             "#9c179e"
            ],
            [
             0.4444444444444444,
             "#bd3786"
            ],
            [
             0.5555555555555556,
             "#d8576b"
            ],
            [
             0.6666666666666666,
             "#ed7953"
            ],
            [
             0.7777777777777778,
             "#fb9f3a"
            ],
            [
             0.8888888888888888,
             "#fdca26"
            ],
            [
             1,
             "#f0f921"
            ]
           ]
          },
          "colorway": [
           "#636efa",
           "#EF553B",
           "#00cc96",
           "#ab63fa",
           "#FFA15A",
           "#19d3f3",
           "#FF6692",
           "#B6E880",
           "#FF97FF",
           "#FECB52"
          ],
          "font": {
           "color": "#2a3f5f"
          },
          "geo": {
           "bgcolor": "white",
           "lakecolor": "white",
           "landcolor": "#E5ECF6",
           "showlakes": true,
           "showland": true,
           "subunitcolor": "white"
          },
          "hoverlabel": {
           "align": "left"
          },
          "hovermode": "closest",
          "mapbox": {
           "style": "light"
          },
          "paper_bgcolor": "white",
          "plot_bgcolor": "#E5ECF6",
          "polar": {
           "angularaxis": {
            "gridcolor": "white",
            "linecolor": "white",
            "ticks": ""
           },
           "bgcolor": "#E5ECF6",
           "radialaxis": {
            "gridcolor": "white",
            "linecolor": "white",
            "ticks": ""
           }
          },
          "scene": {
           "xaxis": {
            "backgroundcolor": "#E5ECF6",
            "gridcolor": "white",
            "gridwidth": 2,
            "linecolor": "white",
            "showbackground": true,
            "ticks": "",
            "zerolinecolor": "white"
           },
           "yaxis": {
            "backgroundcolor": "#E5ECF6",
            "gridcolor": "white",
            "gridwidth": 2,
            "linecolor": "white",
            "showbackground": true,
            "ticks": "",
            "zerolinecolor": "white"
           },
           "zaxis": {
            "backgroundcolor": "#E5ECF6",
            "gridcolor": "white",
            "gridwidth": 2,
            "linecolor": "white",
            "showbackground": true,
            "ticks": "",
            "zerolinecolor": "white"
           }
          },
          "shapedefaults": {
           "line": {
            "color": "#2a3f5f"
           }
          },
          "ternary": {
           "aaxis": {
            "gridcolor": "white",
            "linecolor": "white",
            "ticks": ""
           },
           "baxis": {
            "gridcolor": "white",
            "linecolor": "white",
            "ticks": ""
           },
           "bgcolor": "#E5ECF6",
           "caxis": {
            "gridcolor": "white",
            "linecolor": "white",
            "ticks": ""
           }
          },
          "title": {
           "x": 0.05
          },
          "xaxis": {
           "automargin": true,
           "gridcolor": "white",
           "linecolor": "white",
           "ticks": "",
           "title": {
            "standoff": 15
           },
           "zerolinecolor": "white",
           "zerolinewidth": 2
          },
          "yaxis": {
           "automargin": true,
           "gridcolor": "white",
           "linecolor": "white",
           "ticks": "",
           "title": {
            "standoff": 15
           },
           "zerolinecolor": "white",
           "zerolinewidth": 2
          }
         }
        },
        "xaxis": {
         "anchor": "y",
         "domain": [
          0,
          1
         ],
         "rangeslider": {
          "visible": false
         }
        },
        "xaxis2": {
         "anchor": "y2",
         "domain": [
          0,
          1
         ]
        },
        "yaxis": {
         "anchor": "x",
         "domain": [
          0.32,
          1
         ]
        },
        "yaxis2": {
         "anchor": "x2",
         "domain": [
          0,
          0.17
         ]
        }
       }
      }
     },
     "metadata": {},
     "output_type": "display_data"
    }
   ],
   "source": [
    "fig = make_subplots(rows=2,cols=1,shared_xaxes=False,vertical_spacing=0.15, row_heights=[.8,.2],\n",
    "                    subplot_titles=('OHLC','Volume'))\n",
    "\n",
    "fig.add_trace(go.Candlestick(x=df_cut.index,\n",
    "                             open=df_cut['open'],\n",
    "                             high=df_cut['high'],\n",
    "                             low=df_cut['low'],\n",
    "                             close=df_cut['close'],\n",
    "                             showlegend=False),row=1,col=1)\n",
    "\n",
    "fig.add_trace(go.Bar(x=df_cut.index,  y= df_cut['volume'],\n",
    "                     marker_color='red',\n",
    "                     showlegend=False),row=2,col=1)\n",
    "\n",
    "fig.add_trace(go.Bar(x=df_cut.index, y=df_cut['volume'], \n",
    "                     showlegend=False, marker=dict(color='#FF0000')), row=2, col=1)\n",
    "\n",
    "# fig.update_xaxes(rangebreaks=[\n",
    "#     dict(bounds=[\"sat\", \"sun\"], pattern=\"day of week\"), \n",
    "#     # dict(bounds=[18, 10], pattern=\"hour\"),  \n",
    "#     # dict(values=lista)\n",
    "#     ])\n",
    "\n",
    "\n",
    "fig.update_layout(xaxis_rangeslider_visible=False, height=600, \n",
    "                  margin=dict(l=30,r=30,t=30,b=30))\n",
    "\n",
    "fig.show()"
   ]
  },
  {
   "cell_type": "code",
   "execution_count": 12,
   "metadata": {},
   "outputs": [
    {
     "data": {
      "text/plain": [
       "[datetime.date(2023, 12, 23),\n",
       " datetime.date(2023, 12, 24),\n",
       " datetime.date(2023, 12, 30),\n",
       " datetime.date(2023, 12, 31),\n",
       " datetime.date(2024, 1, 6),\n",
       " datetime.date(2024, 1, 7),\n",
       " datetime.date(2024, 1, 13),\n",
       " datetime.date(2024, 1, 14),\n",
       " datetime.date(2024, 1, 20),\n",
       " datetime.date(2024, 1, 21),\n",
       " datetime.date(2024, 1, 27),\n",
       " datetime.date(2024, 1, 28),\n",
       " datetime.date(2024, 2, 3),\n",
       " datetime.date(2024, 2, 4),\n",
       " datetime.date(2024, 2, 10),\n",
       " datetime.date(2024, 2, 11),\n",
       " datetime.date(2024, 2, 17),\n",
       " datetime.date(2024, 2, 18),\n",
       " datetime.date(2024, 2, 24),\n",
       " datetime.date(2024, 2, 25)]"
      ]
     },
     "execution_count": 12,
     "metadata": {},
     "output_type": "execute_result"
    }
   ],
   "source": [
    "list(pd.bdate_range(start=inicio, end=fim, freq=\"C\", weekmask=\"Sat Sun\").date)"
   ]
  },
  {
   "cell_type": "code",
   "execution_count": null,
   "metadata": {},
   "outputs": [],
   "source": []
  }
 ],
 "metadata": {
  "kernelspec": {
   "display_name": "base",
   "language": "python",
   "name": "python3"
  },
  "language_info": {
   "codemirror_mode": {
    "name": "ipython",
    "version": 3
   },
   "file_extension": ".py",
   "mimetype": "text/x-python",
   "name": "python",
   "nbconvert_exporter": "python",
   "pygments_lexer": "ipython3",
   "version": "3.12.2"
  }
 },
 "nbformat": 4,
 "nbformat_minor": 2
}
