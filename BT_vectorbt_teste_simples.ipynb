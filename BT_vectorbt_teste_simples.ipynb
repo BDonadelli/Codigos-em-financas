{
 "cells": [
  {
   "cell_type": "code",
   "execution_count": 39,
   "metadata": {},
   "outputs": [],
   "source": [
    "import pandas as pd\n",
    "import numpy as np\n",
    "import vectorbt as vbt"
   ]
  },
  {
   "cell_type": "code",
   "execution_count": 40,
   "metadata": {},
   "outputs": [],
   "source": [
    "tlt = vbt.YFData.download(\n",
    "    \"ITUB3.SA\", \n",
    "    start=\"2014-01-01\"\n",
    ").get(\"Close\").to_frame()\n",
    "close = tlt.Close"
   ]
  },
  {
   "cell_type": "code",
   "execution_count": 41,
   "metadata": {},
   "outputs": [],
   "source": [
    "# código cria séries do pandas com o mesmo formato da série com preços de fechamento. \n",
    "short_entries = pd.DataFrame.vbt.signals.empty_like(close)\n",
    "short_exits = pd.DataFrame.vbt.signals.empty_like(close)\n",
    "long_entries = pd.DataFrame.vbt.signals.empty_like(close)\n",
    "long_exits = pd.DataFrame.vbt.signals.empty_like(close)"
   ]
  },
  {
   "cell_type": "code",
   "execution_count": 42,
   "metadata": {},
   "outputs": [
    {
     "data": {
      "text/plain": [
       "Date\n",
       "2014-01-02 02:00:00+00:00    False\n",
       "2014-01-03 02:00:00+00:00    False\n",
       "2014-01-06 02:00:00+00:00    False\n",
       "2014-01-07 02:00:00+00:00    False\n",
       "2014-01-08 02:00:00+00:00    False\n",
       "Name: Close, dtype: bool"
      ]
     },
     "execution_count": 42,
     "metadata": {},
     "output_type": "execute_result"
    }
   ],
   "source": [
    "long_exits.head()"
   ]
  },
  {
   "cell_type": "code",
   "execution_count": 43,
   "metadata": {},
   "outputs": [
    {
     "data": {
      "text/plain": [
       "Date\n",
       "2014-01-02 02:00:00+00:00     True\n",
       "2014-01-03 02:00:00+00:00    False\n",
       "2014-01-06 02:00:00+00:00    False\n",
       "2014-01-07 02:00:00+00:00    False\n",
       "2014-01-08 02:00:00+00:00    False\n",
       "Name: Close, dtype: bool"
      ]
     },
     "execution_count": 43,
     "metadata": {},
     "output_type": "execute_result"
    }
   ],
   "source": [
    "'''\n",
    "geramos os sinais de negociação com base no dia do mês.\n",
    "'''\n",
    "\n",
    "# Get short on the first day of the new month\n",
    "short_entry_mask = ~tlt.index.tz_convert(None).to_period(\"M\").duplicated()\n",
    "short_entries.iloc[short_entry_mask] = True\n",
    "\n",
    "short_entries.head()"
   ]
  },
  {
   "cell_type": "code",
   "execution_count": 44,
   "metadata": {},
   "outputs": [
    {
     "data": {
      "text/plain": [
       "Date\n",
       "2024-02-05 03:00:00+00:00    False\n",
       "2024-02-06 03:00:00+00:00    False\n",
       "2024-02-07 03:00:00+00:00    False\n",
       "2024-02-08 03:00:00+00:00    False\n",
       "2024-02-09 03:00:00+00:00    False\n",
       "Name: Close, dtype: bool"
      ]
     },
     "execution_count": 44,
     "metadata": {},
     "output_type": "execute_result"
    }
   ],
   "source": [
    "# Exit the short five days later\n",
    "short_exit_mask = short_entries.shift(5).fillna(False)\n",
    "short_exits.iloc[short_exit_mask] = True\n",
    "\n",
    "# Get long 7 days prior to the end of the month\n",
    "long_entry_mask = short_entries.shift(-7).fillna(False)\n",
    "long_entries.iloc[long_entry_mask] = True\n",
    "\n",
    "# Buy back on the last day of the month\n",
    "long_exit_mask = short_entries.shift(-1).fillna(False)\n",
    "long_exits.iloc[long_exit_mask] = True\n",
    "\n",
    "long_exits.tail()"
   ]
  },
  {
   "cell_type": "code",
   "execution_count": 45,
   "metadata": {},
   "outputs": [
    {
     "data": {
      "text/plain": [
       "Start                         2014-01-02 02:00:00+00:00\n",
       "End                           2024-02-09 03:00:00+00:00\n",
       "Period                               2513 days 00:00:00\n",
       "Start Value                                       100.0\n",
       "End Value                                     31.291886\n",
       "Total Return [%]                             -68.708114\n",
       "Benchmark Return [%]                         225.331185\n",
       "Max Gross Exposure [%]                            100.0\n",
       "Total Fees Paid                                     0.0\n",
       "Max Drawdown [%]                              76.445327\n",
       "Max Drawdown Duration                2102 days 00:00:00\n",
       "Total Trades                                        243\n",
       "Total Closed Trades                                 243\n",
       "Total Open Trades                                     0\n",
       "Open Trade PnL                                      0.0\n",
       "Win Rate [%]                                  48.971193\n",
       "Best Trade [%]                                19.892296\n",
       "Worst Trade [%]                              -16.831242\n",
       "Avg Winning Trade [%]                          2.898675\n",
       "Avg Losing Trade [%]                          -3.580745\n",
       "Avg Winning Trade Duration    5 days 13:42:51.428571428\n",
       "Avg Losing Trade Duration     5 days 10:01:58.032786885\n",
       "Profit Factor                                  0.786912\n",
       "Expectancy                                    -0.304502\n",
       "Sharpe Ratio                                  -0.505511\n",
       "Calmar Ratio                                  -0.203122\n",
       "Omega Ratio                                    0.902421\n",
       "Sortino Ratio                                  -0.72776\n",
       "Name: Close, dtype: object"
      ]
     },
     "execution_count": 45,
     "metadata": {},
     "output_type": "execute_result"
    }
   ],
   "source": [
    "pf =  vbt.Portfolio.from_signals(\n",
    "    close=close,\n",
    "    entries=long_entries, \n",
    "    exits=long_exits,\n",
    "    short_entries=short_entries,\n",
    "    short_exits=short_exits,  \n",
    "    freq=\"1d\"\n",
    ")\n",
    "\n",
    "pf.stats()"
   ]
  },
  {
   "cell_type": "code",
   "execution_count": 46,
   "metadata": {},
   "outputs": [
    {
     "data": {
      "text/plain": [
       "Start                         2014-01-02 02:00:00+00:00\n",
       "End                           2024-02-09 03:00:00+00:00\n",
       "Period                               2513 days 00:00:00\n",
       "Start Value                                       100.0\n",
       "End Value                                     197.62887\n",
       "Total Return [%]                               97.62887\n",
       "Benchmark Return [%]                         225.331185\n",
       "Max Gross Exposure [%]                            100.0\n",
       "Total Fees Paid                                     0.0\n",
       "Max Drawdown [%]                              39.367265\n",
       "Max Drawdown Duration                 899 days 00:00:00\n",
       "Total Trades                                        243\n",
       "Total Closed Trades                                 243\n",
       "Total Open Trades                                     0\n",
       "Open Trade PnL                                      0.0\n",
       "Win Rate [%]                                  50.205761\n",
       "Best Trade [%]                                16.831242\n",
       "Worst Trade [%]                              -19.892296\n",
       "Avg Winning Trade [%]                          3.580745\n",
       "Avg Losing Trade [%]                          -2.898675\n",
       "Avg Winning Trade Duration    5 days 10:01:58.032786885\n",
       "Avg Losing Trade Duration     5 days 13:42:51.428571428\n",
       "Profit Factor                                  1.230951\n",
       "Expectancy                                     0.372528\n",
       "Sharpe Ratio                                   0.507363\n",
       "Calmar Ratio                                   0.264189\n",
       "Omega Ratio                                    1.108848\n",
       "Sortino Ratio                                   0.70605\n",
       "Name: Close, dtype: object"
      ]
     },
     "execution_count": 46,
     "metadata": {},
     "output_type": "execute_result"
    }
   ],
   "source": [
    "pf =  vbt.Portfolio.from_signals(\n",
    "    close=close,\n",
    "    entries=short_entries,\n",
    "    exits=short_exits,\n",
    "    short_entries=long_entries,\n",
    "    short_exits=long_exits,\n",
    "    freq=\"1d\"\n",
    ")\n",
    "\n",
    "pf.stats()"
   ]
  }
 ],
 "metadata": {
  "kernelspec": {
   "display_name": "base",
   "language": "python",
   "name": "python3"
  },
  "language_info": {
   "codemirror_mode": {
    "name": "ipython",
    "version": 3
   },
   "file_extension": ".py",
   "mimetype": "text/x-python",
   "name": "python",
   "nbconvert_exporter": "python",
   "pygments_lexer": "ipython3",
   "version": "3.11.5"
  }
 },
 "nbformat": 4,
 "nbformat_minor": 2
}
