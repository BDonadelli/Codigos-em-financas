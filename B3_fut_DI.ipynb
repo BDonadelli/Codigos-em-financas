{
 "cells": [
  {
   "cell_type": "code",
   "execution_count": 7,
   "metadata": {},
   "outputs": [],
   "source": [
    "import pandas as pd\n",
    "from io import StringIO\n",
    "\n",
    "import time\n",
    "from datetime import datetime\n",
    "\n",
    "from selenium import webdriver\n",
    "from selenium.webdriver.common.by import By\n",
    "\n",
    "driver = webdriver.Chrome() \n",
    "\n",
    "data_di = '12/07/2023'\n",
    "\n",
    "url = f'''https://www2.bmf.com.br/pages/portal/bmfbovespa/boletim1/SistemaPregao1.asp?\n",
    "pagetype=pop&caminho=Resumo%20Estat%EDstico%20-%20Sistema%20Preg%E3o&Data={data_di}\n",
    "&Mercadoria=DI1'''\n",
    "\n",
    "driver.get(url)\n"
   ]
  },
  {
   "cell_type": "code",
   "execution_count": 2,
   "metadata": {},
   "outputs": [
    {
     "data": {
      "text/html": [
       "<div>\n",
       "<style scoped>\n",
       "    .dataframe tbody tr th:only-of-type {\n",
       "        vertical-align: middle;\n",
       "    }\n",
       "\n",
       "    .dataframe tbody tr th {\n",
       "        vertical-align: top;\n",
       "    }\n",
       "\n",
       "    .dataframe thead th {\n",
       "        text-align: right;\n",
       "    }\n",
       "</style>\n",
       "<table border=\"1\" class=\"dataframe\">\n",
       "  <thead>\n",
       "    <tr style=\"text-align: right;\">\n",
       "      <th></th>\n",
       "      <th>0</th>\n",
       "      <th>1</th>\n",
       "      <th>2</th>\n",
       "      <th>3</th>\n",
       "      <th>4</th>\n",
       "      <th>5</th>\n",
       "      <th>6</th>\n",
       "      <th>7</th>\n",
       "      <th>8</th>\n",
       "      <th>9</th>\n",
       "      <th>10</th>\n",
       "    </tr>\n",
       "  </thead>\n",
       "  <tbody>\n",
       "    <tr>\n",
       "      <th>0</th>\n",
       "      <td>AJUSTE ANTER. (3)</td>\n",
       "      <td>AJUSTE CORRIG. (4)</td>\n",
       "      <td>PREÇO ABERT.</td>\n",
       "      <td>PREÇO MÍN.</td>\n",
       "      <td>PREÇO MÁX.</td>\n",
       "      <td>PREÇO MÉD.</td>\n",
       "      <td>ÚLT. PREÇO</td>\n",
       "      <td>AJUSTE</td>\n",
       "      <td>VAR. PTOS.</td>\n",
       "      <td>ÚLT. OF. COMPRA</td>\n",
       "      <td>ÚLT. OF. VENDA</td>\n",
       "    </tr>\n",
       "    <tr>\n",
       "      <th>1</th>\n",
       "      <td>99.291,76</td>\n",
       "      <td>99.291,76</td>\n",
       "      <td>13650</td>\n",
       "      <td>13648</td>\n",
       "      <td>13652</td>\n",
       "      <td>13651</td>\n",
       "      <td>13650</td>\n",
       "      <td>99.291,62</td>\n",
       "      <td>0,14-</td>\n",
       "      <td>13648</td>\n",
       "      <td>13652</td>\n",
       "    </tr>\n",
       "    <tr>\n",
       "      <th>2</th>\n",
       "      <td>98.161,00</td>\n",
       "      <td>98.161,00</td>\n",
       "      <td>13450</td>\n",
       "      <td>13450</td>\n",
       "      <td>13470</td>\n",
       "      <td>13469</td>\n",
       "      <td>13470</td>\n",
       "      <td>98.161,83</td>\n",
       "      <td>0,83+</td>\n",
       "      <td>13464</td>\n",
       "      <td>13470</td>\n",
       "    </tr>\n",
       "    <tr>\n",
       "      <th>3</th>\n",
       "      <td>97.203,24</td>\n",
       "      <td>97.203,24</td>\n",
       "      <td>13364</td>\n",
       "      <td>13340</td>\n",
       "      <td>13368</td>\n",
       "      <td>13353</td>\n",
       "      <td>13358</td>\n",
       "      <td>97.204,81</td>\n",
       "      <td>1,57+</td>\n",
       "      <td>13358</td>\n",
       "      <td>13360</td>\n",
       "    </tr>\n",
       "    <tr>\n",
       "      <th>4</th>\n",
       "      <td>96.231,22</td>\n",
       "      <td>96.231,22</td>\n",
       "      <td>13200</td>\n",
       "      <td>13200</td>\n",
       "      <td>13220</td>\n",
       "      <td>13208</td>\n",
       "      <td>13215</td>\n",
       "      <td>96.231,10</td>\n",
       "      <td>0,12-</td>\n",
       "      <td>13210</td>\n",
       "      <td>13235</td>\n",
       "    </tr>\n",
       "  </tbody>\n",
       "</table>\n",
       "</div>"
      ],
      "text/plain": [
       "                  0                   1             2           3   \\\n",
       "0  AJUSTE ANTER. (3)  AJUSTE CORRIG. (4)  PREÇO ABERT.  PREÇO MÍN.   \n",
       "1          99.291,76           99.291,76         13650       13648   \n",
       "2          98.161,00           98.161,00         13450       13450   \n",
       "3          97.203,24           97.203,24         13364       13340   \n",
       "4          96.231,22           96.231,22         13200       13200   \n",
       "\n",
       "           4           5           6          7           8                9   \\\n",
       "0  PREÇO MÁX.  PREÇO MÉD.  ÚLT. PREÇO     AJUSTE  VAR. PTOS.  ÚLT. OF. COMPRA   \n",
       "1       13652       13651       13650  99.291,62       0,14-            13648   \n",
       "2       13470       13469       13470  98.161,83       0,83+            13464   \n",
       "3       13368       13353       13358  97.204,81       1,57+            13358   \n",
       "4       13220       13208       13215  96.231,10       0,12-            13210   \n",
       "\n",
       "               10  \n",
       "0  ÚLT. OF. VENDA  \n",
       "1           13652  \n",
       "2           13470  \n",
       "3           13360  \n",
       "4           13235  "
      ]
     },
     "execution_count": 2,
     "metadata": {},
     "output_type": "execute_result"
    }
   ],
   "source": [
    "path_tabela = '/html/body/div/div[2]/form[1]/table[3]/tbody/tr[3]/td[3]/table'\n",
    "elemento = driver.find_element(By.XPATH, path_tabela)\n",
    "html_tabela = elemento.get_attribute('outerHTML')\n",
    "tabela = pd.read_html(StringIO(html_tabela))[0]\n",
    "tabela.head()"
   ]
  },
  {
   "cell_type": "code",
   "execution_count": 3,
   "metadata": {},
   "outputs": [
    {
     "data": {
      "text/html": [
       "<div>\n",
       "<style scoped>\n",
       "    .dataframe tbody tr th:only-of-type {\n",
       "        vertical-align: middle;\n",
       "    }\n",
       "\n",
       "    .dataframe tbody tr th {\n",
       "        vertical-align: top;\n",
       "    }\n",
       "\n",
       "    .dataframe thead th {\n",
       "        text-align: right;\n",
       "    }\n",
       "</style>\n",
       "<table border=\"1\" class=\"dataframe\">\n",
       "  <thead>\n",
       "    <tr style=\"text-align: right;\">\n",
       "      <th></th>\n",
       "      <th>0</th>\n",
       "    </tr>\n",
       "  </thead>\n",
       "  <tbody>\n",
       "    <tr>\n",
       "      <th>0</th>\n",
       "      <td>VENCTO</td>\n",
       "    </tr>\n",
       "    <tr>\n",
       "      <th>1</th>\n",
       "      <td>Q23</td>\n",
       "    </tr>\n",
       "    <tr>\n",
       "      <th>2</th>\n",
       "      <td>U23</td>\n",
       "    </tr>\n",
       "    <tr>\n",
       "      <th>3</th>\n",
       "      <td>V23</td>\n",
       "    </tr>\n",
       "    <tr>\n",
       "      <th>4</th>\n",
       "      <td>X23</td>\n",
       "    </tr>\n",
       "  </tbody>\n",
       "</table>\n",
       "</div>"
      ],
      "text/plain": [
       "        0\n",
       "0  VENCTO\n",
       "1     Q23\n",
       "2     U23\n",
       "3     V23\n",
       "4     X23"
      ]
     },
     "execution_count": 3,
     "metadata": {},
     "output_type": "execute_result"
    }
   ],
   "source": [
    "path_indice = '/html/body/div/div[2]/form[1]/table[3]/tbody/tr[3]/td[1]/table'        \n",
    "elemento_indice = driver.find_element(By.XPATH, path_indice)\n",
    "html_indice = elemento_indice.get_attribute('outerHTML')\n",
    "indice = pd.read_html(StringIO(html_indice))[0]\n",
    "indice.head()"
   ]
  },
  {
   "cell_type": "code",
   "execution_count": 4,
   "metadata": {},
   "outputs": [
    {
     "data": {
      "text/plain": [
       "2023-08-01    0.13650\n",
       "2023-09-01    0.13470\n",
       "2023-10-01    0.13358\n",
       "2023-11-01    0.13215\n",
       "2023-12-01    0.13030\n",
       "2024-01-01    0.12850\n",
       "2024-02-01    0.12635\n",
       "2024-03-01    0.12485\n",
       "2024-04-01    0.12305\n",
       "2024-05-01    0.12070\n",
       "2024-06-01    0.11905\n",
       "2024-07-01    0.11720\n",
       "2024-10-01    0.11205\n",
       "2025-01-01    0.10830\n",
       "2025-04-01    0.10585\n",
       "2025-07-01    0.10385\n",
       "2025-10-01    0.10285\n",
       "2026-01-01    0.10175\n",
       "2026-04-01    0.10160\n",
       "2026-07-01    0.10160\n",
       "2026-10-01    0.10170\n",
       "2027-01-01    0.10175\n",
       "2027-04-01    0.10155\n",
       "2027-07-01    0.10265\n",
       "2027-10-01    0.10225\n",
       "2028-01-01    0.10340\n",
       "2028-04-01    0.10370\n",
       "2029-01-01    0.10470\n",
       "2030-01-01    0.10550\n",
       "2031-01-01    0.10640\n",
       "2032-01-01    0.10640\n",
       "2033-01-01    0.10680\n",
       "Name: ÚLT. PREÇO, dtype: float64"
      ]
     },
     "execution_count": 4,
     "metadata": {},
     "output_type": "execute_result"
    }
   ],
   "source": [
    "legenda = pd.Series(['Jan', 'Feb', 'Mar', 'Apr', 'May', 'Jun', 'Jul', 'Aug', 'Sep', 'Oct', 'Nov', 'Dec'],\n",
    "                        index = ['F', 'G', 'H', 'J', 'K', 'M', 'N', 'Q', 'U', 'V', 'X', 'Z'])\n",
    "\n",
    "tabela.columns = tabela.loc[0]\n",
    "tabela = tabela['ÚLT. PREÇO']\n",
    "tabela = tabela.drop(0, axis = 0)\n",
    "\n",
    "indice.columns = indice.loc[0]\n",
    "indice = indice.drop(0, axis = 0)\n",
    "tabela.index = indice['VENCTO']\n",
    "\n",
    "tabela = tabela.astype(int)\n",
    "tabela = tabela[tabela != 0]\n",
    "tabela = tabela/1000\n",
    "\n",
    "lista_datas = []\n",
    "\n",
    "for indice in tabela.index:\n",
    "        letra = indice[0]\n",
    "        ano = indice[1:3]\n",
    "        mes = legenda[letra]\n",
    "        data = f\"{mes}-{ano}\"\n",
    "        data = datetime.strptime(data, \"%b-%y\")\n",
    "        lista_datas.append(data)\n",
    "     \n",
    "tabela.index = lista_datas  \n",
    "\n",
    "tabela = tabela/100\n",
    "\n",
    "tabela"
   ]
  },
  {
   "cell_type": "code",
   "execution_count": 5,
   "metadata": {},
   "outputs": [
    {
     "data": {
      "application/vnd.plotly.v1+json": {
       "config": {
        "plotlyServerURL": "https://plot.ly"
       },
       "data": [
        {
         "line": {
          "color": "royalblue",
          "width": 2
         },
         "mode": "lines+markers",
         "name": "Curva de Juros",
         "type": "scatter",
         "x": [
          "2023-08-01T00:00:00",
          "2023-09-01T00:00:00",
          "2023-10-01T00:00:00",
          "2023-11-01T00:00:00",
          "2023-12-01T00:00:00",
          "2024-01-01T00:00:00",
          "2024-02-01T00:00:00",
          "2024-03-01T00:00:00",
          "2024-04-01T00:00:00",
          "2024-05-01T00:00:00",
          "2024-06-01T00:00:00",
          "2024-07-01T00:00:00",
          "2024-10-01T00:00:00",
          "2025-01-01T00:00:00",
          "2025-04-01T00:00:00",
          "2025-07-01T00:00:00",
          "2025-10-01T00:00:00",
          "2026-01-01T00:00:00",
          "2026-04-01T00:00:00",
          "2026-07-01T00:00:00",
          "2026-10-01T00:00:00",
          "2027-01-01T00:00:00",
          "2027-04-01T00:00:00",
          "2027-07-01T00:00:00",
          "2027-10-01T00:00:00",
          "2028-01-01T00:00:00",
          "2028-04-01T00:00:00",
          "2029-01-01T00:00:00",
          "2030-01-01T00:00:00",
          "2031-01-01T00:00:00",
          "2032-01-01T00:00:00",
          "2033-01-01T00:00:00"
         ],
         "y": [
          0.1365,
          0.13470000000000001,
          0.13358,
          0.13215,
          0.1303,
          0.1285,
          0.12635,
          0.12484999999999999,
          0.12304999999999999,
          0.1207,
          0.11904999999999999,
          0.11720000000000001,
          0.11205,
          0.10830000000000001,
          0.10585000000000001,
          0.10385,
          0.10285,
          0.10175000000000001,
          0.1016,
          0.1016,
          0.1017,
          0.10175000000000001,
          0.10154999999999999,
          0.10265,
          0.10225,
          0.10339999999999999,
          0.10369999999999999,
          0.1047,
          0.10550000000000001,
          0.10640000000000001,
          0.10640000000000001,
          0.10679999999999999
         ]
        }
       ],
       "layout": {
        "template": {
         "data": {
          "bar": [
           {
            "error_x": {
             "color": "#2a3f5f"
            },
            "error_y": {
             "color": "#2a3f5f"
            },
            "marker": {
             "line": {
              "color": "#E5ECF6",
              "width": 0.5
             },
             "pattern": {
              "fillmode": "overlay",
              "size": 10,
              "solidity": 0.2
             }
            },
            "type": "bar"
           }
          ],
          "barpolar": [
           {
            "marker": {
             "line": {
              "color": "#E5ECF6",
              "width": 0.5
             },
             "pattern": {
              "fillmode": "overlay",
              "size": 10,
              "solidity": 0.2
             }
            },
            "type": "barpolar"
           }
          ],
          "carpet": [
           {
            "aaxis": {
             "endlinecolor": "#2a3f5f",
             "gridcolor": "white",
             "linecolor": "white",
             "minorgridcolor": "white",
             "startlinecolor": "#2a3f5f"
            },
            "baxis": {
             "endlinecolor": "#2a3f5f",
             "gridcolor": "white",
             "linecolor": "white",
             "minorgridcolor": "white",
             "startlinecolor": "#2a3f5f"
            },
            "type": "carpet"
           }
          ],
          "choropleth": [
           {
            "colorbar": {
             "outlinewidth": 0,
             "ticks": ""
            },
            "type": "choropleth"
           }
          ],
          "contour": [
           {
            "colorbar": {
             "outlinewidth": 0,
             "ticks": ""
            },
            "colorscale": [
             [
              0,
              "#0d0887"
             ],
             [
              0.1111111111111111,
              "#46039f"
             ],
             [
              0.2222222222222222,
              "#7201a8"
             ],
             [
              0.3333333333333333,
              "#9c179e"
             ],
             [
              0.4444444444444444,
              "#bd3786"
             ],
             [
              0.5555555555555556,
              "#d8576b"
             ],
             [
              0.6666666666666666,
              "#ed7953"
             ],
             [
              0.7777777777777778,
              "#fb9f3a"
             ],
             [
              0.8888888888888888,
              "#fdca26"
             ],
             [
              1,
              "#f0f921"
             ]
            ],
            "type": "contour"
           }
          ],
          "contourcarpet": [
           {
            "colorbar": {
             "outlinewidth": 0,
             "ticks": ""
            },
            "type": "contourcarpet"
           }
          ],
          "heatmap": [
           {
            "colorbar": {
             "outlinewidth": 0,
             "ticks": ""
            },
            "colorscale": [
             [
              0,
              "#0d0887"
             ],
             [
              0.1111111111111111,
              "#46039f"
             ],
             [
              0.2222222222222222,
              "#7201a8"
             ],
             [
              0.3333333333333333,
              "#9c179e"
             ],
             [
              0.4444444444444444,
              "#bd3786"
             ],
             [
              0.5555555555555556,
              "#d8576b"
             ],
             [
              0.6666666666666666,
              "#ed7953"
             ],
             [
              0.7777777777777778,
              "#fb9f3a"
             ],
             [
              0.8888888888888888,
              "#fdca26"
             ],
             [
              1,
              "#f0f921"
             ]
            ],
            "type": "heatmap"
           }
          ],
          "heatmapgl": [
           {
            "colorbar": {
             "outlinewidth": 0,
             "ticks": ""
            },
            "colorscale": [
             [
              0,
              "#0d0887"
             ],
             [
              0.1111111111111111,
              "#46039f"
             ],
             [
              0.2222222222222222,
              "#7201a8"
             ],
             [
              0.3333333333333333,
              "#9c179e"
             ],
             [
              0.4444444444444444,
              "#bd3786"
             ],
             [
              0.5555555555555556,
              "#d8576b"
             ],
             [
              0.6666666666666666,
              "#ed7953"
             ],
             [
              0.7777777777777778,
              "#fb9f3a"
             ],
             [
              0.8888888888888888,
              "#fdca26"
             ],
             [
              1,
              "#f0f921"
             ]
            ],
            "type": "heatmapgl"
           }
          ],
          "histogram": [
           {
            "marker": {
             "pattern": {
              "fillmode": "overlay",
              "size": 10,
              "solidity": 0.2
             }
            },
            "type": "histogram"
           }
          ],
          "histogram2d": [
           {
            "colorbar": {
             "outlinewidth": 0,
             "ticks": ""
            },
            "colorscale": [
             [
              0,
              "#0d0887"
             ],
             [
              0.1111111111111111,
              "#46039f"
             ],
             [
              0.2222222222222222,
              "#7201a8"
             ],
             [
              0.3333333333333333,
              "#9c179e"
             ],
             [
              0.4444444444444444,
              "#bd3786"
             ],
             [
              0.5555555555555556,
              "#d8576b"
             ],
             [
              0.6666666666666666,
              "#ed7953"
             ],
             [
              0.7777777777777778,
              "#fb9f3a"
             ],
             [
              0.8888888888888888,
              "#fdca26"
             ],
             [
              1,
              "#f0f921"
             ]
            ],
            "type": "histogram2d"
           }
          ],
          "histogram2dcontour": [
           {
            "colorbar": {
             "outlinewidth": 0,
             "ticks": ""
            },
            "colorscale": [
             [
              0,
              "#0d0887"
             ],
             [
              0.1111111111111111,
              "#46039f"
             ],
             [
              0.2222222222222222,
              "#7201a8"
             ],
             [
              0.3333333333333333,
              "#9c179e"
             ],
             [
              0.4444444444444444,
              "#bd3786"
             ],
             [
              0.5555555555555556,
              "#d8576b"
             ],
             [
              0.6666666666666666,
              "#ed7953"
             ],
             [
              0.7777777777777778,
              "#fb9f3a"
             ],
             [
              0.8888888888888888,
              "#fdca26"
             ],
             [
              1,
              "#f0f921"
             ]
            ],
            "type": "histogram2dcontour"
           }
          ],
          "mesh3d": [
           {
            "colorbar": {
             "outlinewidth": 0,
             "ticks": ""
            },
            "type": "mesh3d"
           }
          ],
          "parcoords": [
           {
            "line": {
             "colorbar": {
              "outlinewidth": 0,
              "ticks": ""
             }
            },
            "type": "parcoords"
           }
          ],
          "pie": [
           {
            "automargin": true,
            "type": "pie"
           }
          ],
          "scatter": [
           {
            "fillpattern": {
             "fillmode": "overlay",
             "size": 10,
             "solidity": 0.2
            },
            "type": "scatter"
           }
          ],
          "scatter3d": [
           {
            "line": {
             "colorbar": {
              "outlinewidth": 0,
              "ticks": ""
             }
            },
            "marker": {
             "colorbar": {
              "outlinewidth": 0,
              "ticks": ""
             }
            },
            "type": "scatter3d"
           }
          ],
          "scattercarpet": [
           {
            "marker": {
             "colorbar": {
              "outlinewidth": 0,
              "ticks": ""
             }
            },
            "type": "scattercarpet"
           }
          ],
          "scattergeo": [
           {
            "marker": {
             "colorbar": {
              "outlinewidth": 0,
              "ticks": ""
             }
            },
            "type": "scattergeo"
           }
          ],
          "scattergl": [
           {
            "marker": {
             "colorbar": {
              "outlinewidth": 0,
              "ticks": ""
             }
            },
            "type": "scattergl"
           }
          ],
          "scattermapbox": [
           {
            "marker": {
             "colorbar": {
              "outlinewidth": 0,
              "ticks": ""
             }
            },
            "type": "scattermapbox"
           }
          ],
          "scatterpolar": [
           {
            "marker": {
             "colorbar": {
              "outlinewidth": 0,
              "ticks": ""
             }
            },
            "type": "scatterpolar"
           }
          ],
          "scatterpolargl": [
           {
            "marker": {
             "colorbar": {
              "outlinewidth": 0,
              "ticks": ""
             }
            },
            "type": "scatterpolargl"
           }
          ],
          "scatterternary": [
           {
            "marker": {
             "colorbar": {
              "outlinewidth": 0,
              "ticks": ""
             }
            },
            "type": "scatterternary"
           }
          ],
          "surface": [
           {
            "colorbar": {
             "outlinewidth": 0,
             "ticks": ""
            },
            "colorscale": [
             [
              0,
              "#0d0887"
             ],
             [
              0.1111111111111111,
              "#46039f"
             ],
             [
              0.2222222222222222,
              "#7201a8"
             ],
             [
              0.3333333333333333,
              "#9c179e"
             ],
             [
              0.4444444444444444,
              "#bd3786"
             ],
             [
              0.5555555555555556,
              "#d8576b"
             ],
             [
              0.6666666666666666,
              "#ed7953"
             ],
             [
              0.7777777777777778,
              "#fb9f3a"
             ],
             [
              0.8888888888888888,
              "#fdca26"
             ],
             [
              1,
              "#f0f921"
             ]
            ],
            "type": "surface"
           }
          ],
          "table": [
           {
            "cells": {
             "fill": {
              "color": "#EBF0F8"
             },
             "line": {
              "color": "white"
             }
            },
            "header": {
             "fill": {
              "color": "#C8D4E3"
             },
             "line": {
              "color": "white"
             }
            },
            "type": "table"
           }
          ]
         },
         "layout": {
          "annotationdefaults": {
           "arrowcolor": "#2a3f5f",
           "arrowhead": 0,
           "arrowwidth": 1
          },
          "autotypenumbers": "strict",
          "coloraxis": {
           "colorbar": {
            "outlinewidth": 0,
            "ticks": ""
           }
          },
          "colorscale": {
           "diverging": [
            [
             0,
             "#8e0152"
            ],
            [
             0.1,
             "#c51b7d"
            ],
            [
             0.2,
             "#de77ae"
            ],
            [
             0.3,
             "#f1b6da"
            ],
            [
             0.4,
             "#fde0ef"
            ],
            [
             0.5,
             "#f7f7f7"
            ],
            [
             0.6,
             "#e6f5d0"
            ],
            [
             0.7,
             "#b8e186"
            ],
            [
             0.8,
             "#7fbc41"
            ],
            [
             0.9,
             "#4d9221"
            ],
            [
             1,
             "#276419"
            ]
           ],
           "sequential": [
            [
             0,
             "#0d0887"
            ],
            [
             0.1111111111111111,
             "#46039f"
            ],
            [
             0.2222222222222222,
             "#7201a8"
            ],
            [
             0.3333333333333333,
             "#9c179e"
            ],
            [
             0.4444444444444444,
             "#bd3786"
            ],
            [
             0.5555555555555556,
             "#d8576b"
            ],
            [
             0.6666666666666666,
             "#ed7953"
            ],
            [
             0.7777777777777778,
             "#fb9f3a"
            ],
            [
             0.8888888888888888,
             "#fdca26"
            ],
            [
             1,
             "#f0f921"
            ]
           ],
           "sequentialminus": [
            [
             0,
             "#0d0887"
            ],
            [
             0.1111111111111111,
             "#46039f"
            ],
            [
             0.2222222222222222,
             "#7201a8"
            ],
            [
             0.3333333333333333,
             "#9c179e"
            ],
            [
             0.4444444444444444,
             "#bd3786"
            ],
            [
             0.5555555555555556,
             "#d8576b"
            ],
            [
             0.6666666666666666,
             "#ed7953"
            ],
            [
             0.7777777777777778,
             "#fb9f3a"
            ],
            [
             0.8888888888888888,
             "#fdca26"
            ],
            [
             1,
             "#f0f921"
            ]
           ]
          },
          "colorway": [
           "#636efa",
           "#EF553B",
           "#00cc96",
           "#ab63fa",
           "#FFA15A",
           "#19d3f3",
           "#FF6692",
           "#B6E880",
           "#FF97FF",
           "#FECB52"
          ],
          "font": {
           "color": "#2a3f5f"
          },
          "geo": {
           "bgcolor": "white",
           "lakecolor": "white",
           "landcolor": "#E5ECF6",
           "showlakes": true,
           "showland": true,
           "subunitcolor": "white"
          },
          "hoverlabel": {
           "align": "left"
          },
          "hovermode": "closest",
          "mapbox": {
           "style": "light"
          },
          "paper_bgcolor": "white",
          "plot_bgcolor": "#E5ECF6",
          "polar": {
           "angularaxis": {
            "gridcolor": "white",
            "linecolor": "white",
            "ticks": ""
           },
           "bgcolor": "#E5ECF6",
           "radialaxis": {
            "gridcolor": "white",
            "linecolor": "white",
            "ticks": ""
           }
          },
          "scene": {
           "xaxis": {
            "backgroundcolor": "#E5ECF6",
            "gridcolor": "white",
            "gridwidth": 2,
            "linecolor": "white",
            "showbackground": true,
            "ticks": "",
            "zerolinecolor": "white"
           },
           "yaxis": {
            "backgroundcolor": "#E5ECF6",
            "gridcolor": "white",
            "gridwidth": 2,
            "linecolor": "white",
            "showbackground": true,
            "ticks": "",
            "zerolinecolor": "white"
           },
           "zaxis": {
            "backgroundcolor": "#E5ECF6",
            "gridcolor": "white",
            "gridwidth": 2,
            "linecolor": "white",
            "showbackground": true,
            "ticks": "",
            "zerolinecolor": "white"
           }
          },
          "shapedefaults": {
           "line": {
            "color": "#2a3f5f"
           }
          },
          "ternary": {
           "aaxis": {
            "gridcolor": "white",
            "linecolor": "white",
            "ticks": ""
           },
           "baxis": {
            "gridcolor": "white",
            "linecolor": "white",
            "ticks": ""
           },
           "bgcolor": "#E5ECF6",
           "caxis": {
            "gridcolor": "white",
            "linecolor": "white",
            "ticks": ""
           }
          },
          "title": {
           "x": 0.05
          },
          "xaxis": {
           "automargin": true,
           "gridcolor": "white",
           "linecolor": "white",
           "ticks": "",
           "title": {
            "standoff": 15
           },
           "zerolinecolor": "white",
           "zerolinewidth": 2
          },
          "yaxis": {
           "automargin": true,
           "gridcolor": "white",
           "linecolor": "white",
           "ticks": "",
           "title": {
            "standoff": 15
           },
           "zerolinecolor": "white",
           "zerolinewidth": 2
          }
         }
        },
        "xaxis": {
         "tickfont": {
          "color": "black"
         }
        },
        "yaxis": {
         "tickfont": {
          "color": "black"
         },
         "tickformat": ".1%"
        }
       }
      }
     },
     "metadata": {},
     "output_type": "display_data"
    }
   ],
   "source": [
    "import plotly.graph_objects as go\n",
    "import plotly.io as pio\n",
    "pio.renderers.default = \"vscode\"\n",
    "\n",
    "fig= go.Figure()\n",
    "\n",
    "fig.add_trace(go.Scatter(x=tabela.index, y=tabela.values, name=f\"Curva de Juros\",\n",
    "                        line=dict(color='royalblue', width=2), mode='lines+markers'))\n",
    "\n",
    "fig.update_layout(yaxis=dict(tickformat=\".1%\", tickfont=dict(color=\"black\")),\n",
    "                            xaxis=dict(tickfont=dict(color=\"black\")))\n",
    "\n",
    "fig.show()"
   ]
  }
 ],
 "metadata": {
  "kernelspec": {
   "display_name": "base",
   "language": "python",
   "name": "python3"
  },
  "language_info": {
   "codemirror_mode": {
    "name": "ipython",
    "version": 3
   },
   "file_extension": ".py",
   "mimetype": "text/x-python",
   "name": "python",
   "nbconvert_exporter": "python",
   "pygments_lexer": "ipython3",
   "version": "3.11.9"
  }
 },
 "nbformat": 4,
 "nbformat_minor": 2
}
