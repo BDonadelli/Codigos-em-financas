{
  "cells": [
    {
      "cell_type": "markdown",
      "metadata": {
        "colab_type": "text",
        "id": "view-in-github"
      },
      "source": [
        "<a href=\"https://colab.research.google.com/github/BDonadelli/Codigos-em-financas/blob/main/momentum_monthly_3_best.ipynb\" target=\"_parent\"><img src=\"https://colab.research.google.com/assets/colab-badge.svg\" alt=\"Open In Colab\"/></a>"
      ]
    },
    {
      "cell_type": "code",
      "execution_count": 1,
      "metadata": {
        "id": "pNGN-hBRvfEK"
      },
      "outputs": [],
      "source": [
        "import numpy as np\n",
        "import pandas as pd\n",
        "import matplotlib.pyplot as plt\n",
        "import yfinance as yf"
      ]
    },
    {
      "cell_type": "code",
      "execution_count": 2,
      "metadata": {
        "colab": {
          "base_uri": "https://localhost:8080/"
        },
        "id": "T6sluZ8qw3P6",
        "outputId": "22b1d0f6-4c5c-4962-88fd-f9ca72e94489"
      },
      "outputs": [
        {
          "name": "stdout",
          "output_type": "stream",
          "text": [
            "[*********************100%%**********************]  5 of 5 completed\n",
            "[*********************100%%**********************]  1 of 1 completed\n"
          ]
        }
      ],
      "source": [
        "data = yf.download(['TGMA3.SA','KEPL3.SA','CSUD3.SA','RANI3.SA','FRAS3.SA'],period='3y')['Adj Close'].resample('M').last().pct_change()+1\n",
        "bench = yf.download('BOVA11.SA',period='3y')['Adj Close'].resample('M').last().pct_change()+1"
      ]
    },
    {
      "cell_type": "code",
      "execution_count": 3,
      "metadata": {
        "id": "nir5UCXjxKAv"
      },
      "outputs": [],
      "source": [
        "def rolling_ret(data, m):\n",
        "  return data.rolling(m).apply(np.prod)"
      ]
    },
    {
      "cell_type": "code",
      "execution_count": 4,
      "metadata": {
        "id": "tljtLYm1x_k0"
      },
      "outputs": [],
      "source": [
        "ret9 = rolling_ret(data,9)"
      ]
    },
    {
      "cell_type": "code",
      "execution_count": 5,
      "metadata": {
        "colab": {
          "base_uri": "https://localhost:8080/",
          "height": 1000
        },
        "id": "rR7I9y9g0bRB",
        "outputId": "62224c8d-9ff2-42d1-e32b-74c4bf6e081b"
      },
      "outputs": [
        {
          "data": {
            "text/html": [
              "<div>\n",
              "<style scoped>\n",
              "    .dataframe tbody tr th:only-of-type {\n",
              "        vertical-align: middle;\n",
              "    }\n",
              "\n",
              "    .dataframe tbody tr th {\n",
              "        vertical-align: top;\n",
              "    }\n",
              "\n",
              "    .dataframe thead th {\n",
              "        text-align: right;\n",
              "    }\n",
              "</style>\n",
              "<table border=\"1\" class=\"dataframe\">\n",
              "  <thead>\n",
              "    <tr style=\"text-align: right;\">\n",
              "      <th></th>\n",
              "      <th>CSUD3.SA</th>\n",
              "      <th>FRAS3.SA</th>\n",
              "      <th>KEPL3.SA</th>\n",
              "      <th>RANI3.SA</th>\n",
              "      <th>TGMA3.SA</th>\n",
              "    </tr>\n",
              "    <tr>\n",
              "      <th>Date</th>\n",
              "      <th></th>\n",
              "      <th></th>\n",
              "      <th></th>\n",
              "      <th></th>\n",
              "      <th></th>\n",
              "    </tr>\n",
              "  </thead>\n",
              "  <tbody>\n",
              "    <tr>\n",
              "      <th>2020-12-31</th>\n",
              "      <td>NaN</td>\n",
              "      <td>NaN</td>\n",
              "      <td>NaN</td>\n",
              "      <td>NaN</td>\n",
              "      <td>NaN</td>\n",
              "    </tr>\n",
              "    <tr>\n",
              "      <th>2021-01-31</th>\n",
              "      <td>NaN</td>\n",
              "      <td>NaN</td>\n",
              "      <td>NaN</td>\n",
              "      <td>NaN</td>\n",
              "      <td>NaN</td>\n",
              "    </tr>\n",
              "    <tr>\n",
              "      <th>2021-02-28</th>\n",
              "      <td>NaN</td>\n",
              "      <td>NaN</td>\n",
              "      <td>NaN</td>\n",
              "      <td>NaN</td>\n",
              "      <td>NaN</td>\n",
              "    </tr>\n",
              "    <tr>\n",
              "      <th>2021-03-31</th>\n",
              "      <td>NaN</td>\n",
              "      <td>NaN</td>\n",
              "      <td>NaN</td>\n",
              "      <td>NaN</td>\n",
              "      <td>NaN</td>\n",
              "    </tr>\n",
              "    <tr>\n",
              "      <th>2021-04-30</th>\n",
              "      <td>NaN</td>\n",
              "      <td>NaN</td>\n",
              "      <td>NaN</td>\n",
              "      <td>NaN</td>\n",
              "      <td>NaN</td>\n",
              "    </tr>\n",
              "    <tr>\n",
              "      <th>2021-05-31</th>\n",
              "      <td>NaN</td>\n",
              "      <td>NaN</td>\n",
              "      <td>NaN</td>\n",
              "      <td>NaN</td>\n",
              "      <td>NaN</td>\n",
              "    </tr>\n",
              "    <tr>\n",
              "      <th>2021-06-30</th>\n",
              "      <td>NaN</td>\n",
              "      <td>NaN</td>\n",
              "      <td>NaN</td>\n",
              "      <td>NaN</td>\n",
              "      <td>NaN</td>\n",
              "    </tr>\n",
              "    <tr>\n",
              "      <th>2021-07-31</th>\n",
              "      <td>NaN</td>\n",
              "      <td>NaN</td>\n",
              "      <td>NaN</td>\n",
              "      <td>NaN</td>\n",
              "      <td>NaN</td>\n",
              "    </tr>\n",
              "    <tr>\n",
              "      <th>2021-08-31</th>\n",
              "      <td>NaN</td>\n",
              "      <td>NaN</td>\n",
              "      <td>NaN</td>\n",
              "      <td>NaN</td>\n",
              "      <td>NaN</td>\n",
              "    </tr>\n",
              "    <tr>\n",
              "      <th>2021-09-30</th>\n",
              "      <td>1.330576</td>\n",
              "      <td>1.411610</td>\n",
              "      <td>1.221214</td>\n",
              "      <td>1.199793</td>\n",
              "      <td>0.627594</td>\n",
              "    </tr>\n",
              "    <tr>\n",
              "      <th>2021-10-31</th>\n",
              "      <td>1.137377</td>\n",
              "      <td>1.379996</td>\n",
              "      <td>1.214084</td>\n",
              "      <td>1.190790</td>\n",
              "      <td>0.621999</td>\n",
              "    </tr>\n",
              "    <tr>\n",
              "      <th>2021-11-30</th>\n",
              "      <td>0.854775</td>\n",
              "      <td>1.061268</td>\n",
              "      <td>0.876479</td>\n",
              "      <td>1.243787</td>\n",
              "      <td>0.631213</td>\n",
              "    </tr>\n",
              "    <tr>\n",
              "      <th>2021-12-31</th>\n",
              "      <td>0.747737</td>\n",
              "      <td>1.151747</td>\n",
              "      <td>1.137704</td>\n",
              "      <td>1.295754</td>\n",
              "      <td>0.865733</td>\n",
              "    </tr>\n",
              "    <tr>\n",
              "      <th>2022-01-31</th>\n",
              "      <td>0.574045</td>\n",
              "      <td>1.086049</td>\n",
              "      <td>0.976958</td>\n",
              "      <td>0.964101</td>\n",
              "      <td>0.680358</td>\n",
              "    </tr>\n",
              "    <tr>\n",
              "      <th>2022-02-28</th>\n",
              "      <td>0.574987</td>\n",
              "      <td>1.162551</td>\n",
              "      <td>1.206989</td>\n",
              "      <td>0.742374</td>\n",
              "      <td>0.670702</td>\n",
              "    </tr>\n",
              "    <tr>\n",
              "      <th>2022-03-31</th>\n",
              "      <td>0.651399</td>\n",
              "      <td>1.140616</td>\n",
              "      <td>1.249259</td>\n",
              "      <td>0.758973</td>\n",
              "      <td>0.710563</td>\n",
              "    </tr>\n",
              "    <tr>\n",
              "      <th>2022-04-30</th>\n",
              "      <td>0.667552</td>\n",
              "      <td>0.709888</td>\n",
              "      <td>1.353067</td>\n",
              "      <td>0.858902</td>\n",
              "      <td>0.695559</td>\n",
              "    </tr>\n",
              "    <tr>\n",
              "      <th>2022-05-31</th>\n",
              "      <td>0.681709</td>\n",
              "      <td>0.649755</td>\n",
              "      <td>1.652973</td>\n",
              "      <td>1.162417</td>\n",
              "      <td>0.914242</td>\n",
              "    </tr>\n",
              "    <tr>\n",
              "      <th>2022-06-30</th>\n",
              "      <td>0.667143</td>\n",
              "      <td>0.706693</td>\n",
              "      <td>1.252540</td>\n",
              "      <td>1.160576</td>\n",
              "      <td>0.865037</td>\n",
              "    </tr>\n",
              "    <tr>\n",
              "      <th>2022-07-31</th>\n",
              "      <td>0.879574</td>\n",
              "      <td>0.856321</td>\n",
              "      <td>1.800027</td>\n",
              "      <td>1.170581</td>\n",
              "      <td>0.908474</td>\n",
              "    </tr>\n",
              "    <tr>\n",
              "      <th>2022-08-31</th>\n",
              "      <td>1.130050</td>\n",
              "      <td>1.042299</td>\n",
              "      <td>2.142743</td>\n",
              "      <td>1.170462</td>\n",
              "      <td>1.418069</td>\n",
              "    </tr>\n",
              "    <tr>\n",
              "      <th>2022-09-30</th>\n",
              "      <td>1.123908</td>\n",
              "      <td>0.914828</td>\n",
              "      <td>1.732361</td>\n",
              "      <td>1.242857</td>\n",
              "      <td>1.300798</td>\n",
              "    </tr>\n",
              "    <tr>\n",
              "      <th>2022-10-31</th>\n",
              "      <td>1.060128</td>\n",
              "      <td>1.126732</td>\n",
              "      <td>2.108592</td>\n",
              "      <td>1.440350</td>\n",
              "      <td>1.566290</td>\n",
              "    </tr>\n",
              "    <tr>\n",
              "      <th>2022-11-30</th>\n",
              "      <td>0.933017</td>\n",
              "      <td>0.822465</td>\n",
              "      <td>1.328029</td>\n",
              "      <td>1.563913</td>\n",
              "      <td>1.412731</td>\n",
              "    </tr>\n",
              "    <tr>\n",
              "      <th>2022-12-31</th>\n",
              "      <td>0.880980</td>\n",
              "      <td>0.695902</td>\n",
              "      <td>1.173844</td>\n",
              "      <td>1.282581</td>\n",
              "      <td>1.234670</td>\n",
              "    </tr>\n",
              "    <tr>\n",
              "      <th>2023-01-31</th>\n",
              "      <td>0.828535</td>\n",
              "      <td>0.955084</td>\n",
              "      <td>1.279059</td>\n",
              "      <td>1.280924</td>\n",
              "      <td>1.383715</td>\n",
              "    </tr>\n",
              "    <tr>\n",
              "      <th>2023-02-28</th>\n",
              "      <td>0.799938</td>\n",
              "      <td>1.093012</td>\n",
              "      <td>1.017405</td>\n",
              "      <td>1.183003</td>\n",
              "      <td>1.168596</td>\n",
              "    </tr>\n",
              "    <tr>\n",
              "      <th>2023-03-31</th>\n",
              "      <td>0.806421</td>\n",
              "      <td>0.973130</td>\n",
              "      <td>1.345530</td>\n",
              "      <td>1.337522</td>\n",
              "      <td>1.386356</td>\n",
              "    </tr>\n",
              "    <tr>\n",
              "      <th>2023-04-30</th>\n",
              "      <td>0.845052</td>\n",
              "      <td>0.804025</td>\n",
              "      <td>0.783273</td>\n",
              "      <td>1.362148</td>\n",
              "      <td>1.515471</td>\n",
              "    </tr>\n",
              "    <tr>\n",
              "      <th>2023-05-31</th>\n",
              "      <td>1.046521</td>\n",
              "      <td>0.961599</td>\n",
              "      <td>0.845556</td>\n",
              "      <td>1.180384</td>\n",
              "      <td>1.334016</td>\n",
              "    </tr>\n",
              "    <tr>\n",
              "      <th>2023-06-30</th>\n",
              "      <td>1.016432</td>\n",
              "      <td>1.039384</td>\n",
              "      <td>0.963901</td>\n",
              "      <td>1.263686</td>\n",
              "      <td>1.185305</td>\n",
              "    </tr>\n",
              "    <tr>\n",
              "      <th>2023-07-31</th>\n",
              "      <td>1.143717</td>\n",
              "      <td>0.997157</td>\n",
              "      <td>0.790904</td>\n",
              "      <td>1.289517</td>\n",
              "      <td>1.056667</td>\n",
              "    </tr>\n",
              "    <tr>\n",
              "      <th>2023-08-31</th>\n",
              "      <td>1.419396</td>\n",
              "      <td>1.295835</td>\n",
              "      <td>1.170418</td>\n",
              "      <td>1.375944</td>\n",
              "      <td>1.333541</td>\n",
              "    </tr>\n",
              "    <tr>\n",
              "      <th>2023-09-30</th>\n",
              "      <td>1.390456</td>\n",
              "      <td>1.722556</td>\n",
              "      <td>1.243977</td>\n",
              "      <td>1.715926</td>\n",
              "      <td>1.409044</td>\n",
              "    </tr>\n",
              "    <tr>\n",
              "      <th>2023-10-31</th>\n",
              "      <td>1.533493</td>\n",
              "      <td>1.481015</td>\n",
              "      <td>0.989140</td>\n",
              "      <td>1.482931</td>\n",
              "      <td>1.371325</td>\n",
              "    </tr>\n",
              "    <tr>\n",
              "      <th>2023-11-30</th>\n",
              "      <td>1.933372</td>\n",
              "      <td>1.498022</td>\n",
              "      <td>1.226125</td>\n",
              "      <td>1.314480</td>\n",
              "      <td>1.651692</td>\n",
              "    </tr>\n",
              "    <tr>\n",
              "      <th>2023-12-31</th>\n",
              "      <td>2.009536</td>\n",
              "      <td>1.799435</td>\n",
              "      <td>1.282801</td>\n",
              "      <td>1.399661</td>\n",
              "      <td>1.599468</td>\n",
              "    </tr>\n",
              "  </tbody>\n",
              "</table>\n",
              "</div>"
            ],
            "text/plain": [
              "            CSUD3.SA  FRAS3.SA  KEPL3.SA  RANI3.SA  TGMA3.SA\n",
              "Date                                                        \n",
              "2020-12-31       NaN       NaN       NaN       NaN       NaN\n",
              "2021-01-31       NaN       NaN       NaN       NaN       NaN\n",
              "2021-02-28       NaN       NaN       NaN       NaN       NaN\n",
              "2021-03-31       NaN       NaN       NaN       NaN       NaN\n",
              "2021-04-30       NaN       NaN       NaN       NaN       NaN\n",
              "2021-05-31       NaN       NaN       NaN       NaN       NaN\n",
              "2021-06-30       NaN       NaN       NaN       NaN       NaN\n",
              "2021-07-31       NaN       NaN       NaN       NaN       NaN\n",
              "2021-08-31       NaN       NaN       NaN       NaN       NaN\n",
              "2021-09-30  1.330576  1.411610  1.221214  1.199793  0.627594\n",
              "2021-10-31  1.137377  1.379996  1.214084  1.190790  0.621999\n",
              "2021-11-30  0.854775  1.061268  0.876479  1.243787  0.631213\n",
              "2021-12-31  0.747737  1.151747  1.137704  1.295754  0.865733\n",
              "2022-01-31  0.574045  1.086049  0.976958  0.964101  0.680358\n",
              "2022-02-28  0.574987  1.162551  1.206989  0.742374  0.670702\n",
              "2022-03-31  0.651399  1.140616  1.249259  0.758973  0.710563\n",
              "2022-04-30  0.667552  0.709888  1.353067  0.858902  0.695559\n",
              "2022-05-31  0.681709  0.649755  1.652973  1.162417  0.914242\n",
              "2022-06-30  0.667143  0.706693  1.252540  1.160576  0.865037\n",
              "2022-07-31  0.879574  0.856321  1.800027  1.170581  0.908474\n",
              "2022-08-31  1.130050  1.042299  2.142743  1.170462  1.418069\n",
              "2022-09-30  1.123908  0.914828  1.732361  1.242857  1.300798\n",
              "2022-10-31  1.060128  1.126732  2.108592  1.440350  1.566290\n",
              "2022-11-30  0.933017  0.822465  1.328029  1.563913  1.412731\n",
              "2022-12-31  0.880980  0.695902  1.173844  1.282581  1.234670\n",
              "2023-01-31  0.828535  0.955084  1.279059  1.280924  1.383715\n",
              "2023-02-28  0.799938  1.093012  1.017405  1.183003  1.168596\n",
              "2023-03-31  0.806421  0.973130  1.345530  1.337522  1.386356\n",
              "2023-04-30  0.845052  0.804025  0.783273  1.362148  1.515471\n",
              "2023-05-31  1.046521  0.961599  0.845556  1.180384  1.334016\n",
              "2023-06-30  1.016432  1.039384  0.963901  1.263686  1.185305\n",
              "2023-07-31  1.143717  0.997157  0.790904  1.289517  1.056667\n",
              "2023-08-31  1.419396  1.295835  1.170418  1.375944  1.333541\n",
              "2023-09-30  1.390456  1.722556  1.243977  1.715926  1.409044\n",
              "2023-10-31  1.533493  1.481015  0.989140  1.482931  1.371325\n",
              "2023-11-30  1.933372  1.498022  1.226125  1.314480  1.651692\n",
              "2023-12-31  2.009536  1.799435  1.282801  1.399661  1.599468"
            ]
          },
          "execution_count": 5,
          "metadata": {},
          "output_type": "execute_result"
        }
      ],
      "source": [
        "ret9"
      ]
    },
    {
      "cell_type": "code",
      "execution_count": 7,
      "metadata": {
        "colab": {
          "base_uri": "https://localhost:8080/"
        },
        "id": "iMEpiRXpyEla",
        "outputId": "442ce40d-3589-46ea-8f7a-b50bc00444b5"
      },
      "outputs": [
        {
          "data": {
            "text/plain": [
              "['RANI3.SA', 'TGMA3.SA', 'FRAS3.SA']"
            ]
          },
          "execution_count": 7,
          "metadata": {},
          "output_type": "execute_result"
        }
      ],
      "source": [
        "'''\n",
        "Every month we measure the momentum of each ETF and buy and hold the top 3 with the highest momentum the prior month. The strategy is rebalanced monthly.\n",
        "'''\n",
        "def get_top(date):\n",
        "  top = ret9.loc[date].nlargest(3).index\n",
        "  return top.to_list()\n",
        "\n",
        "get_top('2023-02-28')"
      ]
    },
    {
      "cell_type": "code",
      "execution_count": 8,
      "metadata": {
        "id": "hi2vjdS05Q20"
      },
      "outputs": [],
      "source": [
        "def port_ret(date):\n",
        "  porta=data.loc[date:,get_top(date)[1:2]]\n",
        "  return porta.mean(axis=1).values[0]"
      ]
    },
    {
      "cell_type": "code",
      "execution_count": 9,
      "metadata": {
        "colab": {
          "base_uri": "https://localhost:8080/"
        },
        "id": "jrUI1Lx30ZHl",
        "outputId": "fa714175-a7db-4dfc-fd44-1f4925c8b31f"
      },
      "outputs": [
        {
          "data": {
            "text/plain": [
              "0.9429015109345444"
            ]
          },
          "execution_count": 9,
          "metadata": {},
          "output_type": "execute_result"
        }
      ],
      "source": [
        "port_ret('2023-03-31')"
      ]
    },
    {
      "cell_type": "code",
      "execution_count": 16,
      "metadata": {
        "id": "BrDGuKUuy2ZA"
      },
      "outputs": [],
      "source": [
        "data['returns']=1.0\n",
        "for i in range(1,len(data)-1):\n",
        "  data['returns'].iloc[i]=port_ret(data.index[i])"
      ]
    },
    {
      "cell_type": "code",
      "execution_count": 17,
      "metadata": {
        "id": "dxpdWYIuBtP4"
      },
      "outputs": [],
      "source": [
        "data['ibov'] = bench.cumprod()\n",
        "data['cart'] = data['returns'].cumprod()"
      ]
    },
    {
      "cell_type": "code",
      "execution_count": 18,
      "metadata": {
        "colab": {
          "base_uri": "https://localhost:8080/",
          "height": 483
        },
        "id": "TJ59w-X7zLje",
        "outputId": "3b388a5a-e129-4974-9d54-382899074e99"
      },
      "outputs": [
        {
          "data": {
            "text/plain": [
              "<Axes: xlabel='Date'>"
            ]
          },
          "execution_count": 18,
          "metadata": {},
          "output_type": "execute_result"
        },
        {
          "data": {
            "image/png": "[encoded data removed]",
            "text/plain": [
              "<Figure size 640x480 with 1 Axes>"
            ]
          },
          "metadata": {},
          "output_type": "display_data"
        }
      ],
      "source": [
        "data[['cart','ibov']].plot()"
      ]
    },
    {
      "cell_type": "code",
      "execution_count": 13,
      "metadata": {
        "colab": {
          "base_uri": "https://localhost:8080/"
        },
        "id": "734CAuXX_EOM",
        "outputId": "d98f198a-7463-420c-84c0-d08a4dbf1e74"
      },
      "outputs": [
        {
          "name": "stdout",
          "output_type": "stream",
          "text": [
            "   Team-1  Team-2  Team-3\n",
            "0       5       3       1\n",
            "1       4       4       9\n",
            "2       9       5       7 \n",
            "\n"
          ]
        }
      ],
      "source": [
        "import pandas\n",
        "df = pandas.DataFrame({'Team-1':[5, 4, 9], 'Team-2':[3, 4, 5], 'Team-3':[1, 9, 7]})\n",
        "print(df, '\\n')\n",
        "\n",
        "def func(r):\n",
        "   return r[0]+r[1]+r[2]\n",
        "\n"
      ]
    },
    {
      "cell_type": "code",
      "execution_count": 14,
      "metadata": {
        "colab": {
          "base_uri": "https://localhost:8080/"
        },
        "id": "n7OkGmYXAJ5w",
        "outputId": "95098816-39af-48a9-dbf0-0a0cb8eda0f0"
      },
      "outputs": [
        {
          "name": "stderr",
          "output_type": "stream",
          "text": [
            "/tmp/ipykernel_40458/2704090494.py:6: FutureWarning: Series.__getitem__ treating keys as positions is deprecated. In a future version, integer keys will always be treated as labels (consistent with DataFrame behavior). To access a value by position, use `ser.iloc[pos]`\n",
            "  return r[0]+r[1]+r[2]\n"
          ]
        },
        {
          "data": {
            "text/plain": [
              "0     9\n",
              "1    17\n",
              "2    21\n",
              "dtype: int64"
            ]
          },
          "execution_count": 14,
          "metadata": {},
          "output_type": "execute_result"
        }
      ],
      "source": [
        "df.apply(func, axis=1)\n"
      ]
    },
    {
      "cell_type": "code",
      "execution_count": 15,
      "metadata": {
        "colab": {
          "base_uri": "https://localhost:8080/"
        },
        "id": "w-3XL06zAU_m",
        "outputId": "36158e5b-cf97-441f-94b4-da33bd0122cf"
      },
      "outputs": [
        {
          "name": "stdout",
          "output_type": "stream",
          "text": [
            "   Team-1  Team-2  Team-3  sum\n",
            "0       5       3       1    9\n",
            "1       4       4       9   17\n",
            "2       9       5       7   21\n"
          ]
        },
        {
          "name": "stderr",
          "output_type": "stream",
          "text": [
            "/tmp/ipykernel_40458/2704090494.py:6: FutureWarning: Series.__getitem__ treating keys as positions is deprecated. In a future version, integer keys will always be treated as labels (consistent with DataFrame behavior). To access a value by position, use `ser.iloc[pos]`\n",
            "  return r[0]+r[1]+r[2]\n"
          ]
        }
      ],
      "source": [
        "df['sum'] = df.apply(func, axis=1)\n",
        "print(df)"
      ]
    }
  ],
  "metadata": {
    "colab": {
      "authorship_tag": "ABX9TyMIa04qN86tULE4x/1Iw3IR",
      "include_colab_link": true,
      "provenance": []
    },
    "kernelspec": {
      "display_name": "Python 3",
      "name": "python3"
    },
    "language_info": {
      "codemirror_mode": {
        "name": "ipython",
        "version": 3
      },
      "file_extension": ".py",
      "mimetype": "text/x-python",
      "name": "python",
      "nbconvert_exporter": "python",
      "pygments_lexer": "ipython3",
      "version": "3.11.5"
    }
  },
  "nbformat": 4,
  "nbformat_minor": 0
}
