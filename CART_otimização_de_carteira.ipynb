{
  "cells": [
    {
      "cell_type": "code",
      "execution_count": 13,
      "metadata": {
        "id": "Zl1qDirAkvMt"
      },
      "outputs": [],
      "source": [
        "papeis = ['ITSA4','SAPR11', 'CAML3',  'EGIE3', 'CXSE3', 'BBSE3', 'FLRY3', 'TAEE11', 'TUPY3', 'ABCB4' , 'BBAS3' , 'PSSSA3' , 'AMBP3']\n",
        "papeis.sort()"
      ]
    },
    {
      "cell_type": "code",
      "execution_count": 14,
      "metadata": {
        "colab": {
          "base_uri": "https://localhost:8080/",
          "height": 196
        },
        "id": "INtOthLHngc2",
        "outputId": "283b8e82-a7d7-43e9-d2fe-a64606284d71"
      },
      "outputs": [
        {
          "data": {
            "text/html": [
              "<div>\n",
              "<style scoped>\n",
              "    .dataframe tbody tr th:only-of-type {\n",
              "        vertical-align: middle;\n",
              "    }\n",
              "\n",
              "    .dataframe tbody tr th {\n",
              "        vertical-align: top;\n",
              "    }\n",
              "\n",
              "    .dataframe thead th {\n",
              "        text-align: right;\n",
              "    }\n",
              "</style>\n",
              "<table border=\"1\" class=\"dataframe\">\n",
              "  <thead>\n",
              "    <tr style=\"text-align: right;\">\n",
              "      <th></th>\n",
              "      <th>TICKER</th>\n",
              "      <th>PRECO</th>\n",
              "      <th>DY</th>\n",
              "      <th>P/L</th>\n",
              "      <th>P/VP</th>\n",
              "      <th>P/ATIVOS</th>\n",
              "      <th>MARGEM BRUTA</th>\n",
              "      <th>MARGEM EBIT</th>\n",
              "      <th>MARG. LIQUIDA</th>\n",
              "      <th>P/EBIT</th>\n",
              "      <th>...</th>\n",
              "      <th>PATRIMONIO / ATIVOS</th>\n",
              "      <th>PASSIVOS / ATIVOS</th>\n",
              "      <th>GIRO ATIVOS</th>\n",
              "      <th>CAGR RECEITAS 5 ANOS</th>\n",
              "      <th>CAGR LUCROS 5 ANOS</th>\n",
              "      <th>LIQUIDEZ MEDIA DIARIA</th>\n",
              "      <th>VPA</th>\n",
              "      <th>LPA</th>\n",
              "      <th>PEG Ratio</th>\n",
              "      <th>VALOR DE MERCADO</th>\n",
              "    </tr>\n",
              "  </thead>\n",
              "  <tbody>\n",
              "    <tr>\n",
              "      <th>0</th>\n",
              "      <td>AALR3</td>\n",
              "      <td>15.89</td>\n",
              "      <td>NaN</td>\n",
              "      <td>-8.61</td>\n",
              "      <td>1.68</td>\n",
              "      <td>0.7</td>\n",
              "      <td>29.80</td>\n",
              "      <td>3.29</td>\n",
              "      <td>-18.37</td>\n",
              "      <td>48.11</td>\n",
              "      <td>...</td>\n",
              "      <td>0.42</td>\n",
              "      <td>0.58</td>\n",
              "      <td>0.44</td>\n",
              "      <td>1.84</td>\n",
              "      <td>NaN</td>\n",
              "      <td>708789.0</td>\n",
              "      <td>9.47</td>\n",
              "      <td>-1.85</td>\n",
              "      <td>0.36</td>\n",
              "      <td>1.864295e+09</td>\n",
              "    </tr>\n",
              "    <tr>\n",
              "      <th>1</th>\n",
              "      <td>ABCB4</td>\n",
              "      <td>23.52</td>\n",
              "      <td>6.49</td>\n",
              "      <td>6.52</td>\n",
              "      <td>0.98</td>\n",
              "      <td>0.1</td>\n",
              "      <td>16.03</td>\n",
              "      <td>9.38</td>\n",
              "      <td>10.00</td>\n",
              "      <td>6.95</td>\n",
              "      <td>...</td>\n",
              "      <td>0.10</td>\n",
              "      <td>0.90</td>\n",
              "      <td>0.15</td>\n",
              "      <td>20.08</td>\n",
              "      <td>16.19</td>\n",
              "      <td>12220779.0</td>\n",
              "      <td>24.07</td>\n",
              "      <td>3.61</td>\n",
              "      <td>-0.22</td>\n",
              "      <td>5.710291e+09</td>\n",
              "    </tr>\n",
              "  </tbody>\n",
              "</table>\n",
              "<p>2 rows × 30 columns</p>\n",
              "</div>"
            ],
            "text/plain": [
              "  TICKER  PRECO    DY   P/L  P/VP  P/ATIVOS  MARGEM BRUTA  MARGEM EBIT  \\\n",
              "0  AALR3  15.89   NaN -8.61  1.68       0.7         29.80         3.29   \n",
              "1  ABCB4  23.52  6.49  6.52  0.98       0.1         16.03         9.38   \n",
              "\n",
              "   MARG. LIQUIDA  P/EBIT  ...  PATRIMONIO / ATIVOS  PASSIVOS / ATIVOS  \\\n",
              "0         -18.37   48.11  ...                 0.42               0.58   \n",
              "1          10.00    6.95  ...                 0.10               0.90   \n",
              "\n",
              "   GIRO ATIVOS  CAGR RECEITAS 5 ANOS  CAGR LUCROS 5 ANOS  \\\n",
              "0         0.44                  1.84                 NaN   \n",
              "1         0.15                 20.08               16.19   \n",
              "\n",
              "    LIQUIDEZ MEDIA DIARIA    VPA   LPA   PEG Ratio   VALOR DE MERCADO  \n",
              "0                708789.0   9.47 -1.85        0.36       1.864295e+09  \n",
              "1              12220779.0  24.07  3.61       -0.22       5.710291e+09  \n",
              "\n",
              "[2 rows x 30 columns]"
            ]
          },
          "execution_count": 14,
          "metadata": {},
          "output_type": "execute_result"
        }
      ],
      "source": [
        "import pandas as pd\n",
        "url = 'https://raw.githubusercontent.com/BDonadelli/Finance-playground/main/data/SI_Acoes.csv'\n",
        "tabela = pd.read_csv(url,sep=';' , decimal=',' , thousands='.')\n",
        "tabela.head(2)"
      ]
    },
    {
      "cell_type": "code",
      "execution_count": 15,
      "metadata": {
        "colab": {
          "base_uri": "https://localhost:8080/",
          "height": 143
        },
        "id": "jz_rB2UYoth5",
        "outputId": "3cdf2061-0d3b-4223-cb66-9006aae6eef5"
      },
      "outputs": [
        {
          "data": {
            "text/html": [
              "<div>\n",
              "<style scoped>\n",
              "    .dataframe tbody tr th:only-of-type {\n",
              "        vertical-align: middle;\n",
              "    }\n",
              "\n",
              "    .dataframe tbody tr th {\n",
              "        vertical-align: top;\n",
              "    }\n",
              "\n",
              "    .dataframe thead th {\n",
              "        text-align: right;\n",
              "    }\n",
              "</style>\n",
              "<table border=\"1\" class=\"dataframe\">\n",
              "  <thead>\n",
              "    <tr style=\"text-align: right;\">\n",
              "      <th></th>\n",
              "      <th>ret_projetado</th>\n",
              "    </tr>\n",
              "    <tr>\n",
              "      <th>TICKER</th>\n",
              "      <th></th>\n",
              "    </tr>\n",
              "  </thead>\n",
              "  <tbody>\n",
              "    <tr>\n",
              "      <th>ABCB4</th>\n",
              "      <td>0.145856</td>\n",
              "    </tr>\n",
              "    <tr>\n",
              "      <th>AMBP3</th>\n",
              "      <td>0.000000</td>\n",
              "    </tr>\n",
              "    <tr>\n",
              "      <th>BBAS3</th>\n",
              "      <td>0.183604</td>\n",
              "    </tr>\n",
              "    <tr>\n",
              "      <th>BBSE3</th>\n",
              "      <td>0.169730</td>\n",
              "    </tr>\n",
              "    <tr>\n",
              "      <th>CAML3</th>\n",
              "      <td>0.074505</td>\n",
              "    </tr>\n",
              "    <tr>\n",
              "      <th>CXSE3</th>\n",
              "      <td>0.163874</td>\n",
              "    </tr>\n",
              "    <tr>\n",
              "      <th>EGIE3</th>\n",
              "      <td>0.122162</td>\n",
              "    </tr>\n",
              "    <tr>\n",
              "      <th>FLRY3</th>\n",
              "      <td>0.112432</td>\n",
              "    </tr>\n",
              "    <tr>\n",
              "      <th>ITSA4</th>\n",
              "      <td>0.078288</td>\n",
              "    </tr>\n",
              "    <tr>\n",
              "      <th>SAPR11</th>\n",
              "      <td>0.100811</td>\n",
              "    </tr>\n",
              "    <tr>\n",
              "      <th>TAEE11</th>\n",
              "      <td>0.069820</td>\n",
              "    </tr>\n",
              "    <tr>\n",
              "      <th>TUPY3</th>\n",
              "      <td>0.087838</td>\n",
              "    </tr>\n",
              "  </tbody>\n",
              "</table>\n",
              "</div>"
            ],
            "text/plain": [
              "        ret_projetado\n",
              "TICKER               \n",
              "ABCB4        0.145856\n",
              "AMBP3        0.000000\n",
              "BBAS3        0.183604\n",
              "BBSE3        0.169730\n",
              "CAML3        0.074505\n",
              "CXSE3        0.163874\n",
              "EGIE3        0.122162\n",
              "FLRY3        0.112432\n",
              "ITSA4        0.078288\n",
              "SAPR11       0.100811\n",
              "TAEE11       0.069820\n",
              "TUPY3        0.087838"
            ]
          },
          "execution_count": 15,
          "metadata": {},
          "output_type": "execute_result"
        }
      ],
      "source": [
        "## usar uma porcentagem do cagr 5y dos lucros como proxy de retorno futur0\n",
        "projetado = tabela.loc[tabela['TICKER'].isin(papeis)][['TICKER' , 'CAGR LUCROS 5 ANOS']].set_index('TICKER').fillna(0)/111\n",
        "projetado.rename(columns={'CAGR LUCROS 5 ANOS' : 'ret_projetado'},inplace=True)\n",
        "projetado"
      ]
    },
    {
      "cell_type": "code",
      "execution_count": 16,
      "metadata": {
        "id": "y8y3iIgo6zHY"
      },
      "outputs": [],
      "source": [
        "periodo = '5y'\n",
        "intervalo = '1d'\n",
        "ponto = 'Close'\n",
        "\n",
        "#@ markdown Marque  a caixa se deseja usar retorno histórico,\n",
        "#@ markdown caso contrário, usará o projetado\n",
        "# Retorno_historico = False #@param ￼{type:\"boolean\"}\n",
        "\n",
        "# parametros  para anualização\n",
        "n_dias = 252\n",
        "\n",
        "import numpy as np\n",
        "import yfinance as yf\n",
        "ativos = projetado.index.to_list()\n",
        "n_ativos = len(ativos)\n",
        "\n",
        "retorno_anual = projetado.copy()"
      ]
    },
    {
      "cell_type": "code",
      "execution_count": 17,
      "metadata": {
        "colab": {
          "base_uri": "https://localhost:8080/",
          "height": 424
        },
        "id": "cbTFilLrdTYI",
        "outputId": "79f35d61-e520-4ea2-f3c4-f08ad49d4016"
      },
      "outputs": [
        {
          "data": {
            "text/html": [
              "<div>\n",
              "<style scoped>\n",
              "    .dataframe tbody tr th:only-of-type {\n",
              "        vertical-align: middle;\n",
              "    }\n",
              "\n",
              "    .dataframe tbody tr th {\n",
              "        vertical-align: top;\n",
              "    }\n",
              "\n",
              "    .dataframe thead th {\n",
              "        text-align: right;\n",
              "    }\n",
              "</style>\n",
              "<table border=\"1\" class=\"dataframe\">\n",
              "  <thead>\n",
              "    <tr style=\"text-align: right;\">\n",
              "      <th>Ticker</th>\n",
              "      <th>ABCB4</th>\n",
              "      <th>AMBP3</th>\n",
              "      <th>BBAS3</th>\n",
              "      <th>BBSE3</th>\n",
              "      <th>CAML3</th>\n",
              "      <th>CXSE3</th>\n",
              "      <th>EGIE3</th>\n",
              "      <th>FLRY3</th>\n",
              "      <th>ITSA4</th>\n",
              "      <th>SAPR11</th>\n",
              "      <th>TAEE11</th>\n",
              "      <th>TUPY3</th>\n",
              "    </tr>\n",
              "  </thead>\n",
              "  <tbody>\n",
              "    <tr>\n",
              "      <th>2000-01-03</th>\n",
              "      <td>NaN</td>\n",
              "      <td>NaN</td>\n",
              "      <td>0.485438</td>\n",
              "      <td>NaN</td>\n",
              "      <td>NaN</td>\n",
              "      <td>NaN</td>\n",
              "      <td>NaN</td>\n",
              "      <td>NaN</td>\n",
              "      <td>0.397766</td>\n",
              "      <td>NaN</td>\n",
              "      <td>NaN</td>\n",
              "      <td>1272.323364</td>\n",
              "    </tr>\n",
              "    <tr>\n",
              "      <th>2000-01-04</th>\n",
              "      <td>NaN</td>\n",
              "      <td>NaN</td>\n",
              "      <td>0.462351</td>\n",
              "      <td>NaN</td>\n",
              "      <td>NaN</td>\n",
              "      <td>NaN</td>\n",
              "      <td>NaN</td>\n",
              "      <td>NaN</td>\n",
              "      <td>0.359788</td>\n",
              "      <td>NaN</td>\n",
              "      <td>NaN</td>\n",
              "      <td>1272.323364</td>\n",
              "    </tr>\n",
              "    <tr>\n",
              "      <th>2000-01-05</th>\n",
              "      <td>NaN</td>\n",
              "      <td>NaN</td>\n",
              "      <td>0.467087</td>\n",
              "      <td>NaN</td>\n",
              "      <td>NaN</td>\n",
              "      <td>NaN</td>\n",
              "      <td>NaN</td>\n",
              "      <td>NaN</td>\n",
              "      <td>0.389771</td>\n",
              "      <td>NaN</td>\n",
              "      <td>NaN</td>\n",
              "      <td>1272.323364</td>\n",
              "    </tr>\n",
              "    <tr>\n",
              "      <th>2000-01-06</th>\n",
              "      <td>NaN</td>\n",
              "      <td>NaN</td>\n",
              "      <td>0.473599</td>\n",
              "      <td>NaN</td>\n",
              "      <td>NaN</td>\n",
              "      <td>NaN</td>\n",
              "      <td>NaN</td>\n",
              "      <td>NaN</td>\n",
              "      <td>0.395767</td>\n",
              "      <td>NaN</td>\n",
              "      <td>NaN</td>\n",
              "      <td>1272.323364</td>\n",
              "    </tr>\n",
              "    <tr>\n",
              "      <th>2000-01-07</th>\n",
              "      <td>NaN</td>\n",
              "      <td>NaN</td>\n",
              "      <td>0.462943</td>\n",
              "      <td>NaN</td>\n",
              "      <td>NaN</td>\n",
              "      <td>NaN</td>\n",
              "      <td>NaN</td>\n",
              "      <td>NaN</td>\n",
              "      <td>0.393768</td>\n",
              "      <td>NaN</td>\n",
              "      <td>NaN</td>\n",
              "      <td>1272.323364</td>\n",
              "    </tr>\n",
              "    <tr>\n",
              "      <th>...</th>\n",
              "      <td>...</td>\n",
              "      <td>...</td>\n",
              "      <td>...</td>\n",
              "      <td>...</td>\n",
              "      <td>...</td>\n",
              "      <td>...</td>\n",
              "      <td>...</td>\n",
              "      <td>...</td>\n",
              "      <td>...</td>\n",
              "      <td>...</td>\n",
              "      <td>...</td>\n",
              "      <td>...</td>\n",
              "    </tr>\n",
              "    <tr>\n",
              "      <th>2024-09-02</th>\n",
              "      <td>23.500000</td>\n",
              "      <td>66.300003</td>\n",
              "      <td>28.420000</td>\n",
              "      <td>36.709999</td>\n",
              "      <td>9.387545</td>\n",
              "      <td>16.230000</td>\n",
              "      <td>44.400002</td>\n",
              "      <td>15.770000</td>\n",
              "      <td>10.870000</td>\n",
              "      <td>28.690001</td>\n",
              "      <td>35.430000</td>\n",
              "      <td>27.650000</td>\n",
              "    </tr>\n",
              "    <tr>\n",
              "      <th>2024-09-03</th>\n",
              "      <td>23.400000</td>\n",
              "      <td>63.000000</td>\n",
              "      <td>28.680000</td>\n",
              "      <td>36.880001</td>\n",
              "      <td>9.496702</td>\n",
              "      <td>16.379999</td>\n",
              "      <td>44.660000</td>\n",
              "      <td>16.129999</td>\n",
              "      <td>11.040000</td>\n",
              "      <td>29.350000</td>\n",
              "      <td>35.709999</td>\n",
              "      <td>27.910000</td>\n",
              "    </tr>\n",
              "    <tr>\n",
              "      <th>2024-09-04</th>\n",
              "      <td>23.440001</td>\n",
              "      <td>65.940002</td>\n",
              "      <td>28.990000</td>\n",
              "      <td>37.419998</td>\n",
              "      <td>9.700000</td>\n",
              "      <td>15.940000</td>\n",
              "      <td>45.189999</td>\n",
              "      <td>16.709999</td>\n",
              "      <td>11.130000</td>\n",
              "      <td>29.120001</td>\n",
              "      <td>36.270000</td>\n",
              "      <td>28.020000</td>\n",
              "    </tr>\n",
              "    <tr>\n",
              "      <th>2024-09-05</th>\n",
              "      <td>23.639999</td>\n",
              "      <td>63.990002</td>\n",
              "      <td>29.250000</td>\n",
              "      <td>36.950001</td>\n",
              "      <td>9.790000</td>\n",
              "      <td>15.850000</td>\n",
              "      <td>44.880001</td>\n",
              "      <td>16.799999</td>\n",
              "      <td>11.230000</td>\n",
              "      <td>29.809999</td>\n",
              "      <td>35.840000</td>\n",
              "      <td>27.600000</td>\n",
              "    </tr>\n",
              "    <tr>\n",
              "      <th>2024-09-06</th>\n",
              "      <td>23.010000</td>\n",
              "      <td>65.889999</td>\n",
              "      <td>28.770000</td>\n",
              "      <td>36.709999</td>\n",
              "      <td>9.610000</td>\n",
              "      <td>15.850000</td>\n",
              "      <td>44.980000</td>\n",
              "      <td>16.730000</td>\n",
              "      <td>11.120000</td>\n",
              "      <td>30.030001</td>\n",
              "      <td>35.820000</td>\n",
              "      <td>27.030001</td>\n",
              "    </tr>\n",
              "  </tbody>\n",
              "</table>\n",
              "<p>6200 rows × 12 columns</p>\n",
              "</div>"
            ],
            "text/plain": [
              "Ticker          ABCB4      AMBP3      BBAS3      BBSE3     CAML3      CXSE3  \\\n",
              "2000-01-03        NaN        NaN   0.485438        NaN       NaN        NaN   \n",
              "2000-01-04        NaN        NaN   0.462351        NaN       NaN        NaN   \n",
              "2000-01-05        NaN        NaN   0.467087        NaN       NaN        NaN   \n",
              "2000-01-06        NaN        NaN   0.473599        NaN       NaN        NaN   \n",
              "2000-01-07        NaN        NaN   0.462943        NaN       NaN        NaN   \n",
              "...               ...        ...        ...        ...       ...        ...   \n",
              "2024-09-02  23.500000  66.300003  28.420000  36.709999  9.387545  16.230000   \n",
              "2024-09-03  23.400000  63.000000  28.680000  36.880001  9.496702  16.379999   \n",
              "2024-09-04  23.440001  65.940002  28.990000  37.419998  9.700000  15.940000   \n",
              "2024-09-05  23.639999  63.990002  29.250000  36.950001  9.790000  15.850000   \n",
              "2024-09-06  23.010000  65.889999  28.770000  36.709999  9.610000  15.850000   \n",
              "\n",
              "Ticker          EGIE3      FLRY3      ITSA4     SAPR11     TAEE11        TUPY3  \n",
              "2000-01-03        NaN        NaN   0.397766        NaN        NaN  1272.323364  \n",
              "2000-01-04        NaN        NaN   0.359788        NaN        NaN  1272.323364  \n",
              "2000-01-05        NaN        NaN   0.389771        NaN        NaN  1272.323364  \n",
              "2000-01-06        NaN        NaN   0.395767        NaN        NaN  1272.323364  \n",
              "2000-01-07        NaN        NaN   0.393768        NaN        NaN  1272.323364  \n",
              "...               ...        ...        ...        ...        ...          ...  \n",
              "2024-09-02  44.400002  15.770000  10.870000  28.690001  35.430000    27.650000  \n",
              "2024-09-03  44.660000  16.129999  11.040000  29.350000  35.709999    27.910000  \n",
              "2024-09-04  45.189999  16.709999  11.130000  29.120001  36.270000    28.020000  \n",
              "2024-09-05  44.880001  16.799999  11.230000  29.809999  35.840000    27.600000  \n",
              "2024-09-06  44.980000  16.730000  11.120000  30.030001  35.820000    27.030001  \n",
              "\n",
              "[6200 rows x 12 columns]"
            ]
          },
          "execution_count": 17,
          "metadata": {},
          "output_type": "execute_result"
        }
      ],
      "source": [
        "# Download preços do yahoo finance\n",
        "dados = yf.download( [tck+'.SA' for tck in ativos],\n",
        "                    interval=intervalo,\n",
        "                    auto_adjust=True,\n",
        "                    progress=False )[ponto]\n",
        "\n",
        "dados.columns = dados.columns.str.rstrip('.SA')\n",
        "dados.index = dados.index.date\n",
        "dados"
      ]
    },
    {
      "cell_type": "code",
      "execution_count": 18,
      "metadata": {
        "id": "PO47hcvULJKh"
      },
      "outputs": [],
      "source": [
        "# retorno histórico, tb usado coo proxy de retorno futuro\n",
        "retornos = (dados.pct_change()).dropna()\n",
        "retorno_anual['ret_historico']= retornos.mean()*n_dias"
      ]
    },
    {
      "cell_type": "code",
      "execution_count": 19,
      "metadata": {
        "colab": {
          "base_uri": "https://localhost:8080/",
          "height": 457
        },
        "id": "n8eoAKmR50Ne",
        "outputId": "9e7d81d0-0a2f-41d5-8eca-10280bc79e6d"
      },
      "outputs": [
        {
          "data": {
            "text/html": [
              "<div>\n",
              "<style scoped>\n",
              "    .dataframe tbody tr th:only-of-type {\n",
              "        vertical-align: middle;\n",
              "    }\n",
              "\n",
              "    .dataframe tbody tr th {\n",
              "        vertical-align: top;\n",
              "    }\n",
              "\n",
              "    .dataframe thead th {\n",
              "        text-align: right;\n",
              "    }\n",
              "</style>\n",
              "<table border=\"1\" class=\"dataframe\">\n",
              "  <thead>\n",
              "    <tr style=\"text-align: right;\">\n",
              "      <th></th>\n",
              "      <th>ret_projetado</th>\n",
              "      <th>ret_historico</th>\n",
              "    </tr>\n",
              "    <tr>\n",
              "      <th>TICKER</th>\n",
              "      <th></th>\n",
              "      <th></th>\n",
              "    </tr>\n",
              "  </thead>\n",
              "  <tbody>\n",
              "    <tr>\n",
              "      <th>ABCB4</th>\n",
              "      <td>0.145856</td>\n",
              "      <td>0.254934</td>\n",
              "    </tr>\n",
              "    <tr>\n",
              "      <th>AMBP3</th>\n",
              "      <td>0.000000</td>\n",
              "      <td>0.505112</td>\n",
              "    </tr>\n",
              "    <tr>\n",
              "      <th>BBAS3</th>\n",
              "      <td>0.183604</td>\n",
              "      <td>0.319362</td>\n",
              "    </tr>\n",
              "    <tr>\n",
              "      <th>BBSE3</th>\n",
              "      <td>0.169730</td>\n",
              "      <td>0.256101</td>\n",
              "    </tr>\n",
              "    <tr>\n",
              "      <th>CAML3</th>\n",
              "      <td>0.074505</td>\n",
              "      <td>0.101032</td>\n",
              "    </tr>\n",
              "    <tr>\n",
              "      <th>CXSE3</th>\n",
              "      <td>0.163874</td>\n",
              "      <td>0.258045</td>\n",
              "    </tr>\n",
              "    <tr>\n",
              "      <th>EGIE3</th>\n",
              "      <td>0.122162</td>\n",
              "      <td>0.126958</td>\n",
              "    </tr>\n",
              "    <tr>\n",
              "      <th>FLRY3</th>\n",
              "      <td>0.112432</td>\n",
              "      <td>-0.020590</td>\n",
              "    </tr>\n",
              "    <tr>\n",
              "      <th>ITSA4</th>\n",
              "      <td>0.078288</td>\n",
              "      <td>0.179085</td>\n",
              "    </tr>\n",
              "    <tr>\n",
              "      <th>SAPR11</th>\n",
              "      <td>0.100811</td>\n",
              "      <td>0.203920</td>\n",
              "    </tr>\n",
              "    <tr>\n",
              "      <th>TAEE11</th>\n",
              "      <td>0.069820</td>\n",
              "      <td>0.071521</td>\n",
              "    </tr>\n",
              "    <tr>\n",
              "      <th>TUPY3</th>\n",
              "      <td>0.087838</td>\n",
              "      <td>0.124019</td>\n",
              "    </tr>\n",
              "  </tbody>\n",
              "</table>\n",
              "</div>"
            ],
            "text/plain": [
              "        ret_projetado  ret_historico\n",
              "TICKER                              \n",
              "ABCB4        0.145856       0.254934\n",
              "AMBP3        0.000000       0.505112\n",
              "BBAS3        0.183604       0.319362\n",
              "BBSE3        0.169730       0.256101\n",
              "CAML3        0.074505       0.101032\n",
              "CXSE3        0.163874       0.258045\n",
              "EGIE3        0.122162       0.126958\n",
              "FLRY3        0.112432      -0.020590\n",
              "ITSA4        0.078288       0.179085\n",
              "SAPR11       0.100811       0.203920\n",
              "TAEE11       0.069820       0.071521\n",
              "TUPY3        0.087838       0.124019"
            ]
          },
          "execution_count": 19,
          "metadata": {},
          "output_type": "execute_result"
        }
      ],
      "source": [
        "retorno_anual"
      ]
    },
    {
      "cell_type": "code",
      "execution_count": 20,
      "metadata": {
        "id": "7AUpgjeaKJJU"
      },
      "outputs": [],
      "source": [
        "#Volatilidade = dp retorno diário\n",
        "riscos = retornos.std().dropna()\n",
        "# volatilidade anualizada\n",
        "vol_ano = riscos*np.sqrt(n_dias)\n",
        "#covariancia anualizada\n",
        "matriz_covarianca_ano = retornos.cov()*n_dias"
      ]
    },
    {
      "cell_type": "code",
      "execution_count": 21,
      "metadata": {
        "colab": {
          "base_uri": "https://localhost:8080/",
          "height": 426
        },
        "id": "SBJLizuppPsJ",
        "outputId": "f1cae2f8-ddd0-403a-cebb-ec2e99aabcf3"
      },
      "outputs": [
        {
          "data": {
            "text/html": [
              "<div>\n",
              "<style scoped>\n",
              "    .dataframe tbody tr th:only-of-type {\n",
              "        vertical-align: middle;\n",
              "    }\n",
              "\n",
              "    .dataframe tbody tr th {\n",
              "        vertical-align: top;\n",
              "    }\n",
              "\n",
              "    .dataframe thead th {\n",
              "        text-align: right;\n",
              "    }\n",
              "</style>\n",
              "<table border=\"1\" class=\"dataframe\">\n",
              "  <thead>\n",
              "    <tr style=\"text-align: right;\">\n",
              "      <th>Ticker</th>\n",
              "      <th>ABCB4</th>\n",
              "      <th>AMBP3</th>\n",
              "      <th>BBAS3</th>\n",
              "      <th>BBSE3</th>\n",
              "      <th>CAML3</th>\n",
              "      <th>CXSE3</th>\n",
              "      <th>EGIE3</th>\n",
              "      <th>FLRY3</th>\n",
              "      <th>ITSA4</th>\n",
              "      <th>SAPR11</th>\n",
              "      <th>TAEE11</th>\n",
              "      <th>TUPY3</th>\n",
              "    </tr>\n",
              "    <tr>\n",
              "      <th>Ticker</th>\n",
              "      <th></th>\n",
              "      <th></th>\n",
              "      <th></th>\n",
              "      <th></th>\n",
              "      <th></th>\n",
              "      <th></th>\n",
              "      <th></th>\n",
              "      <th></th>\n",
              "      <th></th>\n",
              "      <th></th>\n",
              "      <th></th>\n",
              "      <th></th>\n",
              "    </tr>\n",
              "  </thead>\n",
              "  <tbody>\n",
              "    <tr>\n",
              "      <th>ABCB4</th>\n",
              "      <td>0.092521</td>\n",
              "      <td>0.041211</td>\n",
              "      <td>0.037939</td>\n",
              "      <td>0.014958</td>\n",
              "      <td>0.035798</td>\n",
              "      <td>0.028427</td>\n",
              "      <td>0.015341</td>\n",
              "      <td>0.026803</td>\n",
              "      <td>0.033409</td>\n",
              "      <td>0.019379</td>\n",
              "      <td>0.014345</td>\n",
              "      <td>0.033274</td>\n",
              "    </tr>\n",
              "    <tr>\n",
              "      <th>AMBP3</th>\n",
              "      <td>0.041211</td>\n",
              "      <td>0.446114</td>\n",
              "      <td>0.029165</td>\n",
              "      <td>0.017645</td>\n",
              "      <td>0.043165</td>\n",
              "      <td>0.034178</td>\n",
              "      <td>0.020315</td>\n",
              "      <td>0.062974</td>\n",
              "      <td>0.033316</td>\n",
              "      <td>0.037476</td>\n",
              "      <td>0.022768</td>\n",
              "      <td>0.047573</td>\n",
              "    </tr>\n",
              "    <tr>\n",
              "      <th>BBAS3</th>\n",
              "      <td>0.037939</td>\n",
              "      <td>0.029165</td>\n",
              "      <td>0.071154</td>\n",
              "      <td>0.020870</td>\n",
              "      <td>0.023523</td>\n",
              "      <td>0.026424</td>\n",
              "      <td>0.015523</td>\n",
              "      <td>0.026130</td>\n",
              "      <td>0.038193</td>\n",
              "      <td>0.021038</td>\n",
              "      <td>0.014975</td>\n",
              "      <td>0.025560</td>\n",
              "    </tr>\n",
              "    <tr>\n",
              "      <th>BBSE3</th>\n",
              "      <td>0.014958</td>\n",
              "      <td>0.017645</td>\n",
              "      <td>0.020870</td>\n",
              "      <td>0.047172</td>\n",
              "      <td>0.016123</td>\n",
              "      <td>0.025972</td>\n",
              "      <td>0.013647</td>\n",
              "      <td>0.020069</td>\n",
              "      <td>0.017355</td>\n",
              "      <td>0.011585</td>\n",
              "      <td>0.012567</td>\n",
              "      <td>0.018713</td>\n",
              "    </tr>\n",
              "    <tr>\n",
              "      <th>CAML3</th>\n",
              "      <td>0.035798</td>\n",
              "      <td>0.043165</td>\n",
              "      <td>0.023523</td>\n",
              "      <td>0.016123</td>\n",
              "      <td>0.156122</td>\n",
              "      <td>0.019777</td>\n",
              "      <td>0.019134</td>\n",
              "      <td>0.028891</td>\n",
              "      <td>0.023963</td>\n",
              "      <td>0.024846</td>\n",
              "      <td>0.015638</td>\n",
              "      <td>0.030211</td>\n",
              "    </tr>\n",
              "    <tr>\n",
              "      <th>CXSE3</th>\n",
              "      <td>0.028427</td>\n",
              "      <td>0.034178</td>\n",
              "      <td>0.026424</td>\n",
              "      <td>0.025972</td>\n",
              "      <td>0.019777</td>\n",
              "      <td>0.087381</td>\n",
              "      <td>0.014404</td>\n",
              "      <td>0.024173</td>\n",
              "      <td>0.022212</td>\n",
              "      <td>0.018214</td>\n",
              "      <td>0.012275</td>\n",
              "      <td>0.028075</td>\n",
              "    </tr>\n",
              "    <tr>\n",
              "      <th>EGIE3</th>\n",
              "      <td>0.015341</td>\n",
              "      <td>0.020315</td>\n",
              "      <td>0.015523</td>\n",
              "      <td>0.013647</td>\n",
              "      <td>0.019134</td>\n",
              "      <td>0.014404</td>\n",
              "      <td>0.032648</td>\n",
              "      <td>0.018197</td>\n",
              "      <td>0.016561</td>\n",
              "      <td>0.017579</td>\n",
              "      <td>0.016489</td>\n",
              "      <td>0.014609</td>\n",
              "    </tr>\n",
              "    <tr>\n",
              "      <th>FLRY3</th>\n",
              "      <td>0.026803</td>\n",
              "      <td>0.062974</td>\n",
              "      <td>0.026130</td>\n",
              "      <td>0.020069</td>\n",
              "      <td>0.028891</td>\n",
              "      <td>0.024173</td>\n",
              "      <td>0.018197</td>\n",
              "      <td>0.097508</td>\n",
              "      <td>0.025819</td>\n",
              "      <td>0.023582</td>\n",
              "      <td>0.016116</td>\n",
              "      <td>0.028355</td>\n",
              "    </tr>\n",
              "    <tr>\n",
              "      <th>ITSA4</th>\n",
              "      <td>0.033409</td>\n",
              "      <td>0.033316</td>\n",
              "      <td>0.038193</td>\n",
              "      <td>0.017355</td>\n",
              "      <td>0.023963</td>\n",
              "      <td>0.022212</td>\n",
              "      <td>0.016561</td>\n",
              "      <td>0.025819</td>\n",
              "      <td>0.048628</td>\n",
              "      <td>0.017938</td>\n",
              "      <td>0.013516</td>\n",
              "      <td>0.024491</td>\n",
              "    </tr>\n",
              "    <tr>\n",
              "      <th>SAPR11</th>\n",
              "      <td>0.019379</td>\n",
              "      <td>0.037476</td>\n",
              "      <td>0.021038</td>\n",
              "      <td>0.011585</td>\n",
              "      <td>0.024846</td>\n",
              "      <td>0.018214</td>\n",
              "      <td>0.017579</td>\n",
              "      <td>0.023582</td>\n",
              "      <td>0.017938</td>\n",
              "      <td>0.064535</td>\n",
              "      <td>0.016389</td>\n",
              "      <td>0.017198</td>\n",
              "    </tr>\n",
              "    <tr>\n",
              "      <th>TAEE11</th>\n",
              "      <td>0.014345</td>\n",
              "      <td>0.022768</td>\n",
              "      <td>0.014975</td>\n",
              "      <td>0.012567</td>\n",
              "      <td>0.015638</td>\n",
              "      <td>0.012275</td>\n",
              "      <td>0.016489</td>\n",
              "      <td>0.016116</td>\n",
              "      <td>0.013516</td>\n",
              "      <td>0.016389</td>\n",
              "      <td>0.029789</td>\n",
              "      <td>0.014651</td>\n",
              "    </tr>\n",
              "    <tr>\n",
              "      <th>TUPY3</th>\n",
              "      <td>0.033274</td>\n",
              "      <td>0.047573</td>\n",
              "      <td>0.025560</td>\n",
              "      <td>0.018713</td>\n",
              "      <td>0.030211</td>\n",
              "      <td>0.028075</td>\n",
              "      <td>0.014609</td>\n",
              "      <td>0.028355</td>\n",
              "      <td>0.024491</td>\n",
              "      <td>0.017198</td>\n",
              "      <td>0.014651</td>\n",
              "      <td>0.098086</td>\n",
              "    </tr>\n",
              "  </tbody>\n",
              "</table>\n",
              "</div>"
            ],
            "text/plain": [
              "Ticker     ABCB4     AMBP3     BBAS3     BBSE3     CAML3     CXSE3     EGIE3  \\\n",
              "Ticker                                                                         \n",
              "ABCB4   0.092521  0.041211  0.037939  0.014958  0.035798  0.028427  0.015341   \n",
              "AMBP3   0.041211  0.446114  0.029165  0.017645  0.043165  0.034178  0.020315   \n",
              "BBAS3   0.037939  0.029165  0.071154  0.020870  0.023523  0.026424  0.015523   \n",
              "BBSE3   0.014958  0.017645  0.020870  0.047172  0.016123  0.025972  0.013647   \n",
              "CAML3   0.035798  0.043165  0.023523  0.016123  0.156122  0.019777  0.019134   \n",
              "CXSE3   0.028427  0.034178  0.026424  0.025972  0.019777  0.087381  0.014404   \n",
              "EGIE3   0.015341  0.020315  0.015523  0.013647  0.019134  0.014404  0.032648   \n",
              "FLRY3   0.026803  0.062974  0.026130  0.020069  0.028891  0.024173  0.018197   \n",
              "ITSA4   0.033409  0.033316  0.038193  0.017355  0.023963  0.022212  0.016561   \n",
              "SAPR11  0.019379  0.037476  0.021038  0.011585  0.024846  0.018214  0.017579   \n",
              "TAEE11  0.014345  0.022768  0.014975  0.012567  0.015638  0.012275  0.016489   \n",
              "TUPY3   0.033274  0.047573  0.025560  0.018713  0.030211  0.028075  0.014609   \n",
              "\n",
              "Ticker     FLRY3     ITSA4    SAPR11    TAEE11     TUPY3  \n",
              "Ticker                                                    \n",
              "ABCB4   0.026803  0.033409  0.019379  0.014345  0.033274  \n",
              "AMBP3   0.062974  0.033316  0.037476  0.022768  0.047573  \n",
              "BBAS3   0.026130  0.038193  0.021038  0.014975  0.025560  \n",
              "BBSE3   0.020069  0.017355  0.011585  0.012567  0.018713  \n",
              "CAML3   0.028891  0.023963  0.024846  0.015638  0.030211  \n",
              "CXSE3   0.024173  0.022212  0.018214  0.012275  0.028075  \n",
              "EGIE3   0.018197  0.016561  0.017579  0.016489  0.014609  \n",
              "FLRY3   0.097508  0.025819  0.023582  0.016116  0.028355  \n",
              "ITSA4   0.025819  0.048628  0.017938  0.013516  0.024491  \n",
              "SAPR11  0.023582  0.017938  0.064535  0.016389  0.017198  \n",
              "TAEE11  0.016116  0.013516  0.016389  0.029789  0.014651  \n",
              "TUPY3   0.028355  0.024491  0.017198  0.014651  0.098086  "
            ]
          },
          "execution_count": 21,
          "metadata": {},
          "output_type": "execute_result"
        }
      ],
      "source": [
        "matriz_covarianca_ano"
      ]
    },
    {
      "cell_type": "markdown",
      "metadata": {
        "id": "ATUEg1P-_46W"
      },
      "source": [
        "### ***otimização***"
      ]
    },
    {
      "cell_type": "code",
      "execution_count": 23,
      "metadata": {
        "id": "2f7-7Zqc7suM"
      },
      "outputs": [],
      "source": [
        "# caclula a volatilidade (aa) da carteira dada pelos pesos p\n",
        "def volatilidade( p ):\n",
        "  '''\n",
        "  volatilidade da carteira definida por pesos p\n",
        "  '''\n",
        "  return  np.sqrt(np.dot(p.T,np.dot(matriz_covarianca_ano,p)))\n",
        "\n",
        "# calcula a retorno esperado da carteira dada pelos pesos p\n",
        "def retorno_esperado( p , tipo='p'):\n",
        "  '''\n",
        "  retorno da carteira definida por pesos p\n",
        "  '''\n",
        "  if tipo == 'p' : retornos = retorno_anual['ret_projetado']\n",
        "  else : retornos = retorno_anual['ret_historico']\n",
        "\n",
        "  return np.dot(retornos , p )\n",
        "\n",
        "# a biblioteca de otimização tem um metodo de *minimização*\n",
        "# para maximizar a função f calculamos o minimo de -f\n",
        "def neg_ratio ( p , tipo='p') :\n",
        "  sharpe = retorno_esperado(p,tipo) / volatilidade(p)\n",
        "  return -sharpe\n"
      ]
    },
    {
      "cell_type": "markdown",
      "metadata": {
        "id": "5Y3YZSMnGko1"
      },
      "source": [
        "#### **carteira com a melhor razão retorno/risco**\n",
        "**considerando que $0.05 \\leq \\text{peso} \\leq 0.2$ e que as açoes de crescimento formam 30% da carteira**\n"
      ]
    },
    {
      "cell_type": "code",
      "execution_count": 48,
      "metadata": {
        "id": "uhT7gAhdA-aa"
      },
      "outputs": [],
      "source": [
        "limites   = tuple((0.05,.2) for x in range(n_ativos))     ## 0.05 ≤ peso ≤ 0.2\n",
        "\n",
        "restricao = (\n",
        "    {'type': 'eq', 'fun': lambda x: np.sum(x) - 1},                ## a soma dos pesos é 1, i.e., np.sum(x) - 1 = 0\n",
        "    {'type': 'ineq', 'fun' : lambda x: 0.3 -  x[1] - x[4] - x[7] - x[11]  } ## caml+flry+...<= 30% \n",
        ")"
      ]
    },
    {
      "cell_type": "code",
      "execution_count": 49,
      "metadata": {
        "colab": {
          "base_uri": "https://localhost:8080/"
        },
        "id": "thtQ5IvyJPmi",
        "outputId": "096f04a0-5985-4b74-d3ae-d464743b92ba"
      },
      "outputs": [
        {
          "name": "stdout",
          "output_type": "stream",
          "text": [
            "Optimization terminated successfully\n"
          ]
        }
      ],
      "source": [
        "import scipy.optimize as scpopt\n",
        "\n",
        "max_ratio = scpopt.minimize(neg_ratio,        # para max do ratio, calculamos min do -ratio = neg_ratio\n",
        "                            x0 =  n_ativos * [1. / n_ativos] ,\n",
        "                            args = 'p' ,\n",
        "                            method='SLSQP',\n",
        "                            bounds =  limites,\n",
        "                            constraints =restricao\n",
        "                            )\n",
        "\n",
        "max_ratio_pesos_p = max_ratio['x']\n",
        "print(max_ratio['message'])"
      ]
    },
    {
      "cell_type": "code",
      "execution_count": 50,
      "metadata": {
        "colab": {
          "base_uri": "https://localhost:8080/"
        },
        "id": "LvH3HIJX_1XY",
        "outputId": "84521a10-b2a0-408d-9c93-72d742bfdcc4"
      },
      "outputs": [
        {
          "name": "stdout",
          "output_type": "stream",
          "text": [
            "Optimization terminated successfully\n"
          ]
        }
      ],
      "source": [
        "import scipy.optimize as scpopt\n",
        "\n",
        "max_ratio = scpopt.minimize(neg_ratio,        # para max do ratio, calculamos min do -ratio = neg_ratio\n",
        "                            x0 =  n_ativos * [1. / n_ativos] ,\n",
        "                            args = 'h' ,\n",
        "                            method='SLSQP',\n",
        "                            bounds =  limites,\n",
        "                            constraints =restricao\n",
        "                            )\n",
        "\n",
        "max_ratio_pesos_h = max_ratio['x']\n",
        "print(max_ratio['message'])"
      ]
    },
    {
      "cell_type": "markdown",
      "metadata": {
        "id": "R_VrRvOOATRf"
      },
      "source": [
        "projetado"
      ]
    },
    {
      "cell_type": "code",
      "execution_count": 51,
      "metadata": {
        "colab": {
          "base_uri": "https://localhost:8080/"
        },
        "id": "zzuSbGm3D9yw",
        "outputId": "fb78d0ba-0c9e-41e7-f2bc-4fd3c4864fcc"
      },
      "outputs": [
        {
          "name": "stdout",
          "output_type": "stream",
          "text": [
            "ABCB4: 5.00%\n",
            "AMBP3: 5.00%\n",
            "BBAS3: 16.47%\n",
            "BBSE3: 20.00%\n",
            "CAML3: 5.00%\n",
            "CXSE3: 6.58%\n",
            "EGIE3: 16.95%\n",
            "FLRY3: 5.00%\n",
            "ITSA4: 5.00%\n",
            "SAPR11: 5.00%\n",
            "TAEE11: 5.00%\n",
            "TUPY3: 5.00%\n",
            "\n",
            "Retorno esperado 12.92%\n",
            "Volatilidade 16.14%\n"
          ]
        }
      ],
      "source": [
        "max_ratio_r = np.round( retorno_esperado(max_ratio_pesos_p,'p') ,4)\n",
        "max_ratio_v = np.round( volatilidade(max_ratio_pesos_p),4)\n",
        "max_ratio_s = np.round( -max_ratio['fun'],4)\n",
        "\n",
        "# resultado\n",
        "for x, y in zip(ativos, max_ratio_pesos_p):\n",
        "  print(f'{x}: {100*y:.2f}%')\n",
        "print('')\n",
        "print('Retorno esperado %.2f' %(max_ratio_r*100)+'%')\n",
        "print('Volatilidade %.2f' %(max_ratio_v*100)+'%')"
      ]
    },
    {
      "cell_type": "markdown",
      "metadata": {
        "id": "KJ2ZRUamAVWe"
      },
      "source": [
        "historico"
      ]
    },
    {
      "cell_type": "code",
      "execution_count": 52,
      "metadata": {
        "colab": {
          "base_uri": "https://localhost:8080/"
        },
        "id": "70TYBR2t__of",
        "outputId": "378e137c-e7f8-4969-e47f-b5af02a92023"
      },
      "outputs": [
        {
          "name": "stdout",
          "output_type": "stream",
          "text": [
            "ABCB4: 5.00%\n",
            "AMBP3: 7.18%\n",
            "BBAS3: 20.00%\n",
            "BBSE3: 20.00%\n",
            "CAML3: 5.00%\n",
            "CXSE3: 9.30%\n",
            "EGIE3: 5.00%\n",
            "FLRY3: 5.00%\n",
            "ITSA4: 5.00%\n",
            "SAPR11: 8.52%\n",
            "TAEE11: 5.00%\n",
            "TUPY3: 5.00%\n",
            "\n",
            "Retorno esperado 23.46%\n",
            "Volatilidade 17.22%\n"
          ]
        }
      ],
      "source": [
        "max_ratio_r = np.round( retorno_esperado(max_ratio_pesos_h,'h') ,4)\n",
        "max_ratio_v = np.round( volatilidade(max_ratio_pesos_h),4)\n",
        "max_ratio_s = np.round( -max_ratio['fun'],4)\n",
        "\n",
        "# resultado\n",
        "for x, y in zip(ativos, max_ratio_pesos_h):\n",
        "  print(f'{x}: {100*y:.2f}%')\n",
        "print('')\n",
        "print('Retorno esperado %.2f' %(max_ratio_r*100)+'%')\n",
        "print('Volatilidade %.2f' %(max_ratio_v*100)+'%')"
      ]
    },
    {
      "cell_type": "markdown",
      "metadata": {
        "id": "cPafnyWrZNfN"
      },
      "source": [
        "**com qualquer proporção de ativos**"
      ]
    },
    {
      "cell_type": "code",
      "execution_count": 53,
      "metadata": {
        "colab": {
          "base_uri": "https://localhost:8080/"
        },
        "id": "sl0UN9DtZSTF",
        "outputId": "72df5c35-7a79-4b0a-89ab-55046efa67de"
      },
      "outputs": [
        {
          "name": "stdout",
          "output_type": "stream",
          "text": [
            "ABCB4: 4.43%\n",
            "AMBP3: 0.00%\n",
            "BBAS3: 19.85%\n",
            "BBSE3: 35.76%\n",
            "CAML3: 0.00%\n",
            "CXSE3: 7.54%\n",
            "EGIE3: 31.57%\n",
            "FLRY3: 0.00%\n",
            "ITSA4: 0.00%\n",
            "SAPR11: 0.85%\n",
            "TAEE11: 0.00%\n",
            "TUPY3: 0.00%\n",
            " \n",
            "Retorno esperado 15.54%\n",
            "Volatilidade 16.02%\n"
          ]
        }
      ],
      "source": [
        "max = scpopt.minimize(neg_ratio, x0 =  n_ativos * [1. / n_ativos] ,args='p',  method='SLSQP',\n",
        "                            bounds =  tuple((0,1) for asset in range(n_ativos)),\n",
        "                            constraints =( {'type': 'eq', 'fun': lambda x: np.sum(x) - 1})    )\n",
        "max_pesos_p = max['x']\n",
        "\n",
        "max_r = round( retorno_esperado(max_pesos_p, 'p'),4)\n",
        "max_v = round( volatilidade(max_pesos_p),4)\n",
        "max_s = round( -max['fun'],4)\n",
        "\n",
        "# resultado\n",
        "for x, y in zip(ativos, max_pesos_p):\n",
        "  print(f'{x}: {100*y:.2f}%')\n",
        "print(' ')\n",
        "print('Retorno esperado %.2f' %(max_r*100)+'%')\n",
        "print('Volatilidade %.2f' %(max_v*100)+'%')"
      ]
    },
    {
      "cell_type": "code",
      "execution_count": 54,
      "metadata": {
        "colab": {
          "base_uri": "https://localhost:8080/"
        },
        "id": "6EsV-XTWAlhn",
        "outputId": "46a4678d-8f7d-4fa4-bab6-726fdcd12a0f"
      },
      "outputs": [
        {
          "name": "stdout",
          "output_type": "stream",
          "text": [
            "ABCB4: 6.10%\n",
            "AMBP3: 7.66%\n",
            "BBAS3: 28.16%\n",
            "BBSE3: 39.15%\n",
            "CAML3: 0.00%\n",
            "CXSE3: 6.59%\n",
            "EGIE3: 0.00%\n",
            "FLRY3: 0.00%\n",
            "ITSA4: 0.00%\n",
            "SAPR11: 12.35%\n",
            "TAEE11: 0.00%\n",
            "TUPY3: 0.00%\n",
            " \n",
            "Retorno esperado 28.66%\n",
            "Volatilidade 18.24%\n"
          ]
        }
      ],
      "source": [
        "max = scpopt.minimize(neg_ratio, x0 =  n_ativos * [1. / n_ativos] ,args='h',  method='SLSQP',\n",
        "                            bounds =  tuple((0,1) for asset in range(n_ativos)),\n",
        "                            constraints =( {'type': 'eq', 'fun': lambda x: np.sum(x) - 1})    )\n",
        "max_pesos_h = max['x']\n",
        "\n",
        "max_r = round( retorno_esperado(max_pesos_h,'h'),4)\n",
        "max_v = round( volatilidade(max_pesos_h),4)\n",
        "max_s = round( -max['fun'],4)\n",
        "\n",
        "# resultado\n",
        "for x, y in zip(ativos, max_pesos_h):\n",
        "  print(f'{x}: {100*y:.2f}%')\n",
        "print(' ')\n",
        "print('Retorno esperado %.2f' %(max_r*100)+'%')\n",
        "print('Volatilidade %.2f' %(max_v*100)+'%')"
      ]
    },
    {
      "cell_type": "markdown",
      "metadata": {
        "id": "Y-NMx632VXgg"
      },
      "source": [
        "#### **Carteira de menor volatilidade**\n"
      ]
    },
    {
      "cell_type": "markdown",
      "metadata": {
        "id": "v8wjayFFGxhv"
      },
      "source": [
        "**considerando que $0.05 \\leq \\text{peso} \\leq 0.2$ e que as açoes de crescimento formam 30% da carteira**"
      ]
    },
    {
      "cell_type": "code",
      "execution_count": 55,
      "metadata": {
        "colab": {
          "base_uri": "https://localhost:8080/"
        },
        "id": "JdXUIOxYRsKN",
        "outputId": "d4ba9578-bb7e-434c-b4ff-67bc52e46c2e"
      },
      "outputs": [
        {
          "name": "stdout",
          "output_type": "stream",
          "text": [
            "ABCB4: 5.00% \n",
            "AMBP3: 5.00% \n",
            "BBAS3: 5.00% \n",
            "BBSE3: 14.98% \n",
            "CAML3: 5.00% \n",
            "CXSE3: 5.00% \n",
            "EGIE3: 20.00% \n",
            "FLRY3: 5.00% \n",
            "ITSA4: 5.00% \n",
            "SAPR11: 5.02% \n",
            "TAEE11: 20.00% \n",
            "TUPY3: 5.00% \n",
            " \n",
            "Retorno esperado 11.12%\n",
            "Volatilidade 15.15%\n"
          ]
        }
      ],
      "source": [
        "min_vol_P = scpopt.minimize(volatilidade,\n",
        "                          x0 =  n_ativos * [1. / n_ativos] ,\n",
        "                          method='SLSQP',\n",
        "                          bounds = limites ,\n",
        "                          constraints = restricao)\n",
        "\n",
        "min_vol_pesos_P = min_vol_P['x']\n",
        "\n",
        "min_volP_r = round( retorno_esperado(min_vol_pesos_P,'p'),4)\n",
        "min_volP_v = round( min_vol_P['fun'],4)\n",
        "min_volP_s = round( -neg_ratio(min_vol_pesos_P),4)\n",
        "\n",
        "for x, y in zip(ativos, min_vol_pesos_P):\n",
        "  print(f'{x}: {100*y:.2f}% ')\n",
        "print(' ')\n",
        "print('Retorno esperado %.2f' %(100*min_volP_r)+'%')\n",
        "print('Volatilidade %.2f' %(100*min_volP_v)+'%')"
      ]
    },
    {
      "cell_type": "code",
      "execution_count": 56,
      "metadata": {
        "colab": {
          "base_uri": "https://localhost:8080/"
        },
        "id": "9_pg7HzJIOth",
        "outputId": "9772c6c6-0286-46cb-d21f-1a5c229e633f"
      },
      "outputs": [
        {
          "name": "stdout",
          "output_type": "stream",
          "text": [
            "ABCB4: 5.00% \n",
            "AMBP3: 5.00% \n",
            "BBAS3: 5.00% \n",
            "BBSE3: 14.98% \n",
            "CAML3: 5.00% \n",
            "CXSE3: 5.00% \n",
            "EGIE3: 20.00% \n",
            "FLRY3: 5.00% \n",
            "ITSA4: 5.00% \n",
            "SAPR11: 5.02% \n",
            "TAEE11: 20.00% \n",
            "TUPY3: 5.00% \n",
            " \n",
            "Retorno esperado 17.43%\n",
            "Volatilidade 15.15%\n"
          ]
        }
      ],
      "source": [
        "min_vol_P = scpopt.minimize(volatilidade,\n",
        "                          x0 =  n_ativos * [1. / n_ativos] ,\n",
        "                          method='SLSQP',\n",
        "                          bounds = limites ,\n",
        "                          constraints = restricao)\n",
        "\n",
        "min_vol_pesos_P = min_vol_P['x']\n",
        "\n",
        "min_volP_r = round( retorno_esperado(min_vol_pesos_P,'h'),4)\n",
        "min_volP_v = round( min_vol_P['fun'],4)\n",
        "min_volP_s = round( -neg_ratio(min_vol_pesos_P),4)\n",
        "\n",
        "for x, y in zip(ativos, min_vol_pesos_P):\n",
        "  print(f'{x}: {100*y:.2f}% ')\n",
        "print(' ')\n",
        "print('Retorno esperado %.2f' %(100*min_volP_r)+'%')\n",
        "print('Volatilidade %.2f' %(100*min_volP_v)+'%')"
      ]
    },
    {
      "cell_type": "markdown",
      "metadata": {
        "id": "B1D20R7jHKFG"
      },
      "source": [
        "**considerando qualquer proporção de ativos**\n"
      ]
    },
    {
      "cell_type": "code",
      "execution_count": 57,
      "metadata": {
        "colab": {
          "base_uri": "https://localhost:8080/"
        },
        "id": "WwzeU3EaGxDf",
        "outputId": "2bc4fc4c-2936-480b-fab9-8b3728398aff"
      },
      "outputs": [
        {
          "name": "stdout",
          "output_type": "stream",
          "text": [
            "ABCB4: 2.14% \n",
            "AMBP3: 0.00% \n",
            "BBAS3: 0.00% \n",
            "BBSE3: 16.78% \n",
            "CAML3: 0.52% \n",
            "CXSE3: 3.25% \n",
            "EGIE3: 23.65% \n",
            "FLRY3: 0.11% \n",
            "ITSA4: 9.81% \n",
            "SAPR11: 7.42% \n",
            "TAEE11: 33.53% \n",
            "TUPY3: 2.80% \n",
            " \n",
            "Retorno esperado 10.73%\n",
            "Volatilidade 14.06%\n"
          ]
        }
      ],
      "source": [
        "min_vol = scpopt.minimize(volatilidade,\n",
        "                          x0 =  n_ativos * [1. / n_ativos] ,\n",
        "                          method='SLSQP',\n",
        "                          bounds = tuple((0,1) for asset in range(n_ativos)),\n",
        "                          constraints = ( {'type': 'eq', 'fun': lambda x: np.sum(x) - 1})    )\n",
        "\n",
        "min_vol_pesos = min_vol['x']\n",
        "\n",
        "min_vol_r = round( retorno_esperado(min_vol_pesos,'p'),4)\n",
        "min_vol_v = round( min_vol['fun'],4)\n",
        "min_vol_s = round( -neg_ratio(min_vol_pesos,'p'),4)\n",
        "\n",
        "for x, y in zip(ativos, min_vol_pesos):\n",
        "  print(f'{x}: {100*y:.2f}% ')\n",
        "print(' ')\n",
        "print('Retorno esperado %.2f' %(min_vol_r*100)+'%')\n",
        "print('Volatilidade %.2f' %(min_vol_v*100)+'%')"
      ]
    },
    {
      "cell_type": "code",
      "execution_count": 58,
      "metadata": {
        "colab": {
          "base_uri": "https://localhost:8080/"
        },
        "id": "uKgMVB3wIZzK",
        "outputId": "114092e5-e6a5-4e40-9cae-bbe4a6af9a8e"
      },
      "outputs": [
        {
          "name": "stdout",
          "output_type": "stream",
          "text": [
            "ABCB4: 2.14% \n",
            "AMBP3: 0.00% \n",
            "BBAS3: 0.00% \n",
            "BBSE3: 16.78% \n",
            "CAML3: 0.52% \n",
            "CXSE3: 3.25% \n",
            "EGIE3: 23.65% \n",
            "FLRY3: 0.11% \n",
            "ITSA4: 9.81% \n",
            "SAPR11: 7.42% \n",
            "TAEE11: 33.53% \n",
            "TUPY3: 2.80% \n",
            " \n",
            "Retorno esperado 14.75%\n",
            "Volatilidade 14.06%\n"
          ]
        }
      ],
      "source": [
        "min_vol = scpopt.minimize(volatilidade,\n",
        "                          x0 =  n_ativos * [1. / n_ativos] ,\n",
        "                          method='SLSQP',\n",
        "                          bounds = tuple((0,1) for asset in range(n_ativos)),\n",
        "                          constraints = ( {'type': 'eq', 'fun': lambda x: np.sum(x) - 1})    )\n",
        "\n",
        "min_vol_pesos = min_vol['x']\n",
        "\n",
        "min_vol_r = round( retorno_esperado(min_vol_pesos,'h'),4)\n",
        "min_vol_v = round( min_vol['fun'],4)\n",
        "min_vol_s = round( -neg_ratio(min_vol_pesos,'h'),4)\n",
        "\n",
        "for x, y in zip(ativos, min_vol_pesos):\n",
        "  print(f'{x}: {100*y:.2f}% ')\n",
        "print(' ')\n",
        "print('Retorno esperado %.2f' %(min_vol_r*100)+'%')\n",
        "print('Volatilidade %.2f' %(min_vol_v*100)+'%')"
      ]
    }
  ],
  "metadata": {
    "colab": {
      "provenance": []
    },
    "kernelspec": {
      "display_name": "Python 3",
      "name": "python3"
    },
    "language_info": {
      "codemirror_mode": {
        "name": "ipython",
        "version": 3
      },
      "file_extension": ".py",
      "mimetype": "text/x-python",
      "name": "python",
      "nbconvert_exporter": "python",
      "pygments_lexer": "ipython3",
      "version": "3.11.9"
    }
  },
  "nbformat": 4,
  "nbformat_minor": 0
}
