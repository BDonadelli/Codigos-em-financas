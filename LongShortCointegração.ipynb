{
  "cells": [
    {
      "cell_type": "markdown",
      "metadata": {
        "colab_type": "text",
        "id": "view-in-github"
      },
      "source": [
        "<a href=\"https://colab.research.google.com/github/BDonadelli/Codigos-em-financas/blob/main/LongShortCointegra%C3%A7%C3%A3o.ipynb\" target=\"_parent\"><img src=\"https://colab.research.google.com/assets/colab-badge.svg\" alt=\"Open In Colab\"/></a>"
      ]
    },
    {
      "cell_type": "code",
      "execution_count": 394,
      "metadata": {
        "id": "7PaA4JxHwdhZ"
      },
      "outputs": [],
      "source": [
        "import yfinance as yf\n",
        "\n",
        "import numpy as np\n",
        "import pandas as pd\n",
        "\n",
        "import seaborn\n",
        "from seaborn.matrix import axis_ticklabels_overlap\n",
        "import matplotlib.pyplot as plt\n",
        "from pylab import rcParams\n",
        "#rcParams['figure.figsize'] = 15, 5\n",
        "\n",
        "import statsmodels.api as sm\n",
        "from statsmodels.tsa.stattools import coint, adfuller"
      ]
    },
    {
      "cell_type": "code",
      "execution_count": 406,
      "metadata": {
        "id": "lplCei2uwfTX"
      },
      "outputs": [],
      "source": [
        "def zscore(series):\n",
        "    return (series - series.mean()) / np.std(series)\n",
        "\n",
        "def residuos (x,y):\n",
        "  xx = np.array(x)\n",
        "  yy = np.array(y)\n",
        "  xx = sm.add_constant(xx)\n",
        "  model = sm.OLS(yy, xx)\n",
        "  results = model.fit()\n",
        "  intercept, slope = results.params\n",
        "  r_sq = results.rsquared \n",
        "  return yy -  slope*np.array(x) , slope , intercept , r_sq \n",
        "\n",
        "def estacionaridade(X, cutoff=0.01 , booleano=False):\n",
        "     # H_0 é nao-estacionário, i.e., admite raiz unitaria (teste adfuller)    \n",
        "    pvalue = adfuller(X)[1]\n",
        "    if pvalue < cutoff:\n",
        "        print('p-value = ' + str(pvalue) + ' A serie \"'+X.name+'\" é, provavelmente, estacionaria.')\n",
        "        return True\n",
        "    else:\n",
        "        print('p-value = ' + str(pvalue) + ' A serie \"'+X.name+'\" é, provavelmente, não-estacionaria.')\n",
        "        return False\n",
        "\n",
        "def find_cointegrated_pairs(data,cutoff=0.05):\n",
        "  n = data.shape[1]\n",
        "  score_matrix = np.zeros((n, n))\n",
        "  pvalue_matrix = np.ones((n, n))\n",
        "  keys = data.keys()\n",
        "  pairs = []\n",
        "  for i in range(n):\n",
        "      for j in range(i+1, n):\n",
        "          X = data[keys[i]]\n",
        "          Y = data[keys[j]]\n",
        "          result = coint(X, Y)\n",
        "          score = result[0]\n",
        "          pvalue = result[1]\n",
        "          score_matrix[i, j] = score\n",
        "          pvalue_matrix[i, j] = pvalue\n",
        "          if pvalue < cutoff:\n",
        "              pairs.append((keys[i], keys[j]))\n",
        "  return score_matrix, pvalue_matrix, pairs \n",
        "\n",
        "\n",
        "\n",
        "def arrange_subplots(xs, ys, n_plots , tt =[]):\n",
        "  \"\"\"\n",
        "  ---- Parameters ----\n",
        "  xs (n_plots, d): list with n_plot different lists of x values that we wish to plot\n",
        "  ys (n_plots, d): list with n_plot different lists of y values that we wish to plot\n",
        "  n_plots (int): the number of desired subplots\n",
        "  \"\"\"\n",
        "  from matplotlib import gridspec\n",
        "  %matplotlib inline\n",
        "\n",
        "  # compute the number of rows and columns\n",
        "  if n_plots<3 : \n",
        "    n_cols = 3\n",
        "    n_rows = 1\n",
        "  else: \n",
        "    n_cols = int(np.sqrt(n_plots))\n",
        "    n_rows = int(np.ceil(n_plots / n_cols))\n",
        "\n",
        "  # setup the plot\n",
        "  gs = gridspec.GridSpec(n_rows, n_cols)\n",
        "  scale = max(n_cols, n_rows)\n",
        "  fig = plt.figure(figsize=(.5 * scale, .5 * scale))\n",
        "\n",
        "  # loop through each subplot and plot values there\n",
        "  for i in range(n_plots):\n",
        "    ax = fig.add_subplot(gs[i])\n",
        "    ax.title.set_text(tt[i])\n",
        "    ax.plot(xs[i], ys[i])\n",
        "    plt.axhline(y = 0, color = 'silver', linestyle = '-')\n",
        "    plt.axhline(y = 1, color = 'orange', linestyle = '-')\n",
        "    plt.axhline(y = -1, color = 'orange', linestyle = '-')\n",
        "    plt.axhline(y = 2, color = 'red', linestyle = '-')\n",
        "    plt.axhline(y = -2, color = 'red', linestyle = '-')\n",
        "\n",
        "    plt.show()\n",
        "\n",
        "#############################################################################################################\n",
        "symbols = [\n",
        "    'RRRP3', 'ENEV3','PETR3', 'PETR4', 'PRIO3',\n",
        "    'ABEV3', 'ASAI3','CRFB3','LREN3', 'MGLU3','PCAR3', 'VIIA3',\n",
        "    'AZUL4', 'GOLL4', 'CVCB3',\n",
        "    'B3SA3', 'BPAN4','BPAC11', 'BBSE3','BBDC3', 'BBDC4', 'BBAS3', 'CIEL3','ITSA4','ITUB4', 'SANB11',\n",
        "    'IGTI11','MULT3',\n",
        "    'BRAP4', 'CMIN3', 'GGBR4', 'GOAU4','CSNA3','USIM5','VALE3',\n",
        "    'BRFS3', 'JBSS3', 'MRFG3', 'BEEF3',\n",
        "    'CCRO3', 'ECOR3',\n",
        "    'CMIG4', 'CPLE6', 'CPFE3', 'ELET3', 'ELET6', 'ENGI11','EGIE3', 'EQTL3','TAEE11',\n",
        "    'CYRE3', 'DXCO3', 'EZTC3','JHSF3','MRVE3',\n",
        "    'HAPV3', 'HYPE3', 'QUAL3', 'RADL3', 'RDOR3',\n",
        "    'LWSA3', 'POSI3', 'TOTS3','SQIA3' , 'VLID3' ,\n",
        "    'UGPA3', 'VBBR3', \n",
        "    'BOVA11', 'SMAL11'\n",
        "    ] "
      ]
    },
    {
      "cell_type": "code",
      "execution_count": 446,
      "metadata": {},
      "outputs": [
        {
          "data": {
            "text/plain": [
              "(-4.426911992499564,\n",
              " 0.001610727002963003,\n",
              " array([-3.94096428, -3.3607786 , -3.0615268 ]))"
            ]
          },
          "execution_count": 446,
          "metadata": {},
          "output_type": "execute_result"
        }
      ],
      "source": [
        "coint(X,Y)"
      ]
    },
    {
      "cell_type": "code",
      "execution_count": 445,
      "metadata": {},
      "outputs": [
        {
          "data": {
            "text/plain": [
              "(-3.894682989929201,\n",
              " 0.010088226130642242,\n",
              " array([-3.94096428, -3.3607786 , -3.0615268 ]))"
            ]
          },
          "execution_count": 445,
          "metadata": {},
          "output_type": "execute_result"
        }
      ],
      "source": [
        "coint(Y, X, trend='c')"
      ]
    },
    {
      "cell_type": "code",
      "execution_count": 444,
      "metadata": {},
      "outputs": [
        {
          "data": {
            "text/plain": [
              "Date\n",
              "2022-08-18    15.199160\n",
              "2022-08-19    14.876178\n",
              "2022-08-22    14.648190\n",
              "2022-08-23    14.667189\n",
              "2022-08-24    15.009171\n",
              "                ...    \n",
              "2023-08-14    14.330000\n",
              "2023-08-15    14.200000\n",
              "2023-08-16    14.180000\n",
              "2023-08-17    14.220000\n",
              "2023-08-18    14.360000\n",
              "Name: ABEV3.SA, Length: 250, dtype: float64"
            ]
          },
          "execution_count": 444,
          "metadata": {},
          "output_type": "execute_result"
        }
      ],
      "source": [
        "X"
      ]
    },
    {
      "cell_type": "code",
      "execution_count": 478,
      "metadata": {},
      "outputs": [
        {
          "data": {
            "text/plain": [
              "(-3.8861543683193496,\n",
              " 0.002139139465980294,\n",
              " 0,\n",
              " 249,\n",
              " {'1%': -3.4568881317725864,\n",
              "  '5%': -2.8732185133016057,\n",
              "  '10%': -2.5729936189738876},\n",
              " 420.9636139526026)"
            ]
          },
          "execution_count": 478,
          "metadata": {},
          "output_type": "execute_result"
        }
      ],
      "source": [
        "y = Y.values.astype(float)\n",
        "x = X.values.astype(float)\n",
        "\n",
        "x = sm.add_constant(x)\n",
        "\n",
        "model = sm.OLS(y, x)\n",
        "results = model.fit()\n",
        "intercept, slope = results.params\n",
        "adfuller(results.resid)"
      ]
    },
    {
      "cell_type": "code",
      "execution_count": 479,
      "metadata": {},
      "outputs": [
        {
          "data": {
            "text/plain": [
              "(-3.8861543683193265,\n",
              " 0.0021391394659804673,\n",
              " 0,\n",
              " 249,\n",
              " {'1%': -3.4568881317725864,\n",
              "  '5%': -2.8732185133016057,\n",
              "  '10%': -2.5729936189738876},\n",
              " 420.9636139526026)"
            ]
          },
          "execution_count": 479,
          "metadata": {},
          "output_type": "execute_result"
        }
      ],
      "source": [
        "y = Y.values.astype(float)\n",
        "x = X.values.astype(float)\n",
        "\n",
        "x = sm.add_constant(x)\n",
        "\n",
        "model = sm.OLS(y, x)\n",
        "results = model.fit()\n",
        "intercept, slope = results.params\n",
        "adfuller( y - slope*X.values.astype(float))"
      ]
    },
    {
      "cell_type": "code",
      "execution_count": 471,
      "metadata": {},
      "outputs": [
        {
          "data": {
            "text/plain": [
              "(-3.8861543683193496,\n",
              " 0.002139139465980294,\n",
              " 0,\n",
              " 249,\n",
              " {'1%': -3.4568881317725864,\n",
              "  '5%': -2.8732185133016057,\n",
              "  '10%': -2.5729936189738876},\n",
              " 420.9636139526026)"
            ]
          },
          "execution_count": 471,
          "metadata": {},
          "output_type": "execute_result"
        }
      ],
      "source": [
        "adfuller(results.resid )"
      ]
    },
    {
      "cell_type": "code",
      "execution_count": 472,
      "metadata": {},
      "outputs": [
        {
          "data": {
            "text/plain": [
              "(-3.8861543683193496,\n",
              " 0.002139139465980294,\n",
              " 0,\n",
              " 249,\n",
              " {'1%': -3.4568881317725864,\n",
              "  '5%': -2.8732185133016057,\n",
              "  '10%': -2.5729936189738876},\n",
              " 420.9636139526026)"
            ]
          },
          "execution_count": 472,
          "metadata": {},
          "output_type": "execute_result"
        }
      ],
      "source": [
        "adfuller( Y.values.astype(float) - ( slope*X.values.astype(float) +intercept))"
      ]
    },
    {
      "cell_type": "code",
      "execution_count": 473,
      "metadata": {},
      "outputs": [
        {
          "data": {
            "text/plain": [
              "(-3.8861543683193265,\n",
              " 0.0021391394659804673,\n",
              " 0,\n",
              " 249,\n",
              " {'1%': -3.4568881317725864,\n",
              "  '5%': -2.8732185133016057,\n",
              "  '10%': -2.5729936189738876},\n",
              " 420.9636139526026)"
            ]
          },
          "execution_count": 473,
          "metadata": {},
          "output_type": "execute_result"
        }
      ],
      "source": [
        "adfuller( Y.values.astype(float) - slope*X.values.astype(float) )"
      ]
    },
    {
      "cell_type": "code",
      "execution_count": 477,
      "metadata": {},
      "outputs": [
        {
          "name": "stderr",
          "output_type": "stream",
          "text": [
            "/home/yair/.local/lib/python3.7/site-packages/statsmodels/regression/linear_model.py:940: RuntimeWarning:\n",
            "\n",
            "divide by zero encountered in log\n",
            "\n"
          ]
        },
        {
          "data": {
            "text/plain": [
              "(nan,\n",
              " nan,\n",
              " 0,\n",
              " 249,\n",
              " {'1%': -3.4568881317725864,\n",
              "  '5%': -2.8732185133016057,\n",
              "  '10%': -2.5729936189738876},\n",
              " -inf)"
            ]
          },
          "execution_count": 477,
          "metadata": {},
          "output_type": "execute_result"
        }
      ],
      "source": [
        "adfuller( results.predict() - slope*X.values.astype(float) )"
      ]
    },
    {
      "cell_type": "code",
      "execution_count": 469,
      "metadata": {},
      "outputs": [
        {
          "data": {
            "text/plain": [
              "array([ 1.46862993e+00,  4.39142057e-01, -4.50857854e-01,  7.58813683e-01,\n",
              "        1.19814552e+00,  1.24471968e+00,  1.52554125e-01, -3.94681019e-01,\n",
              "       -1.20414738e+00, -1.63641388e+00, -1.52699561e+00, -1.55912980e+00,\n",
              "       -1.19660728e+00, -1.60205355e+00, -1.91157393e+00, -5.16315026e-01,\n",
              "       -4.69501582e-01, -1.24778422e+00, -2.09763605e+00, -2.31789398e+00,\n",
              "       -2.23069698e+00, -1.39988696e+00, -1.29760976e+00, -2.18991058e+00,\n",
              "       -1.57087079e+00, -2.26949653e+00, -2.89289982e+00, -2.75595015e+00,\n",
              "       -2.12937121e+00, -2.48316483e+00, -2.03915734e+00, -1.41964649e-01,\n",
              "        2.95615808e-01,  4.15188191e-01,  4.80801280e-01, -9.26285482e-01,\n",
              "       -1.63387559e+00, -2.18658729e+00, -2.23339788e+00, -3.26383717e+00,\n",
              "       -3.16886078e+00, -2.88433734e+00, -3.14958065e+00, -2.43096265e+00,\n",
              "       -1.22914050e+00, -2.45301940e+00, -3.06904902e+00, -2.52895303e+00,\n",
              "       -1.71242037e+00, -1.94925850e+00, -1.53674975e+00, -1.45272649e+00,\n",
              "       -1.07417522e+00,  4.32329057e-01, -1.29583436e-01,  9.67583924e-01,\n",
              "        3.11170757e-01, -7.66242674e-01,  1.30891137e+00,  6.34806851e-01,\n",
              "       -4.80693039e-01, -7.01190258e-01, -7.23718902e-01, -7.64341741e-01,\n",
              "       -3.67386035e-01, -2.27662606e-01,  7.38274757e-01,  3.25999566e-01,\n",
              "        5.76640520e-02,  8.04088162e-01,  1.26542369e+00,  1.39502075e+00,\n",
              "        2.03695259e+00,  1.46506275e+00,  1.67884155e+00,  1.32561407e+00,\n",
              "        4.41030416e-01,  7.51906613e-01, -1.76912916e-01, -5.43055105e-01,\n",
              "       -3.86381281e-01, -9.38024697e-01, -1.33424165e+00, -8.68638430e-01,\n",
              "       -2.75411037e-01, -5.42474309e-01, -4.11367655e-01, -3.05323182e-01,\n",
              "       -2.93840793e-01,  1.03435198e-03,  3.65261220e-01,  5.80206486e-01,\n",
              "        8.11381361e-02, -1.21402611e-01,  1.44078838e-01,  1.15118537e+00,\n",
              "        1.82290068e+00,  2.05015886e+00,  3.07616421e+00,  2.60368094e+00,\n",
              "        2.01258072e+00,  1.53334406e+00, -9.73451305e-02,  1.38813726e+00,\n",
              "        1.73423189e+00,  1.54914985e+00,  1.72998936e+00,  1.62415628e+00,\n",
              "        1.69923858e+00,  1.88058915e+00,  2.68608589e+00,  2.32410959e+00,\n",
              "        2.17911656e+00,  2.63083241e+00,  1.67818533e+00,  5.72715350e-01,\n",
              "        4.36343356e-01,  1.72517694e-01,  7.13546793e-02,  5.51520392e-01,\n",
              "        5.11086989e-04, -3.48893207e-01,  1.25457708e-01, -8.73608186e-02,\n",
              "        9.75717339e-01,  9.52149409e-01,  6.57569153e-01,  6.29838388e-01,\n",
              "        7.86468655e-01,  5.72027650e-02,  4.18243334e-01,  3.40863935e-01,\n",
              "        1.71483061e+00,  8.70817129e-01,  1.27985150e+00,  1.39273335e+00,\n",
              "        1.02306889e+00,  2.06329821e+00,  6.37603395e-01,  1.98962973e-01,\n",
              "        5.55625986e-01, -2.11861259e-01,  2.78796003e-01,  2.66066161e-02,\n",
              "       -4.31863583e-01, -9.44650579e-01, -8.58648230e-01, -1.62944418e+00,\n",
              "       -1.42804912e+00, -1.27141790e+00,  5.96300017e-01,  1.32398887e+00,\n",
              "        2.10850537e+00,  1.04980668e+00,  7.24907005e-01,  7.05580649e-01,\n",
              "        4.82991579e-01,  4.18903289e-01,  1.00461529e+00,  2.64945544e+00,\n",
              "        2.47558215e+00,  1.76212014e+00,  7.83466331e-01,  1.16548904e+00,\n",
              "        1.19250262e+00,  7.48260213e-01,  7.21461365e-01, -2.58416869e-01,\n",
              "       -7.02659274e-01, -9.87253310e-01, -8.19918680e-01, -4.66350603e-01,\n",
              "       -1.12482281e+00, -3.43353556e-01, -1.04312265e+00, -4.73767243e-01,\n",
              "       -1.03674497e-01, -1.03720450e-01, -5.54180738e-01, -5.53720259e-01,\n",
              "       -7.03950594e-01, -1.23169480e-01, -4.73260810e-01, -3.44435244e-03,\n",
              "        5.65091601e-02,  1.96646406e-01,  2.76830139e-01, -7.33071451e-02,\n",
              "       -4.32986090e-01, -5.62618586e-01, -3.52525687e-01, -3.72525191e-01,\n",
              "       -1.40381350e+00, -1.39413494e+00, -1.66491563e+00, -6.23904717e-01,\n",
              "       -6.04134976e-01,  4.87749223e-01,  2.47888266e-01,  9.39221419e-01,\n",
              "        6.29311948e-01,  7.79818953e-01,  1.37009291e+00,  1.23944946e+00,\n",
              "        1.19889807e+00,  1.27908180e+00,  1.03922085e+00,  1.25986349e+00,\n",
              "        1.60110436e+00,  1.45082807e+00,  1.30013917e+00,  1.49032351e+00,\n",
              "        8.59588160e-01,  1.00958873e+00,  5.90460795e-01,  7.70461101e-01,\n",
              "        2.39220656e-01,  3.99542168e-01, -5.42204556e-01,  5.78886858e-02,\n",
              "       -4.13764584e-02, -7.13122725e-01, -4.22848005e-01,  1.27474809e-01,\n",
              "        7.38206247e-03,  1.57749300e-01, -2.02939641e-01, -4.03123259e-01,\n",
              "        1.58209779e-01,  9.59956160e-01,  9.29128329e-01,  1.51871396e+00,\n",
              "        1.54848393e+00,  7.97198215e-01,  1.01839324e+00,  1.19793307e+00,\n",
              "        1.29848393e+00,  1.03880727e+00,  6.87658796e-03, -2.27555264e-02,\n",
              "       -1.32893039e-01, -6.23720908e-01, -1.01427173e+00, -1.11431806e+00,\n",
              "       -1.18436466e+00, -1.41450206e+00, -1.75509959e+00, -1.85519092e+00,\n",
              "       -1.88500685e+00, -1.42436443e+00])"
            ]
          },
          "execution_count": 469,
          "metadata": {},
          "output_type": "execute_result"
        }
      ],
      "source": [
        "Y.values.astype(float) - ( slope*X.values.astype(float) +intercept)"
      ]
    },
    {
      "cell_type": "code",
      "execution_count": 470,
      "metadata": {},
      "outputs": [
        {
          "data": {
            "text/plain": [
              "array([ 1.46862993e+00,  4.39142057e-01, -4.50857854e-01,  7.58813683e-01,\n",
              "        1.19814552e+00,  1.24471968e+00,  1.52554125e-01, -3.94681019e-01,\n",
              "       -1.20414738e+00, -1.63641388e+00, -1.52699561e+00, -1.55912980e+00,\n",
              "       -1.19660728e+00, -1.60205355e+00, -1.91157393e+00, -5.16315026e-01,\n",
              "       -4.69501582e-01, -1.24778422e+00, -2.09763605e+00, -2.31789398e+00,\n",
              "       -2.23069698e+00, -1.39988696e+00, -1.29760976e+00, -2.18991058e+00,\n",
              "       -1.57087079e+00, -2.26949653e+00, -2.89289982e+00, -2.75595015e+00,\n",
              "       -2.12937121e+00, -2.48316483e+00, -2.03915734e+00, -1.41964649e-01,\n",
              "        2.95615808e-01,  4.15188191e-01,  4.80801280e-01, -9.26285482e-01,\n",
              "       -1.63387559e+00, -2.18658729e+00, -2.23339788e+00, -3.26383717e+00,\n",
              "       -3.16886078e+00, -2.88433734e+00, -3.14958065e+00, -2.43096265e+00,\n",
              "       -1.22914050e+00, -2.45301940e+00, -3.06904902e+00, -2.52895303e+00,\n",
              "       -1.71242037e+00, -1.94925850e+00, -1.53674975e+00, -1.45272649e+00,\n",
              "       -1.07417522e+00,  4.32329057e-01, -1.29583436e-01,  9.67583924e-01,\n",
              "        3.11170757e-01, -7.66242674e-01,  1.30891137e+00,  6.34806851e-01,\n",
              "       -4.80693039e-01, -7.01190258e-01, -7.23718902e-01, -7.64341741e-01,\n",
              "       -3.67386035e-01, -2.27662606e-01,  7.38274757e-01,  3.25999566e-01,\n",
              "        5.76640520e-02,  8.04088162e-01,  1.26542369e+00,  1.39502075e+00,\n",
              "        2.03695259e+00,  1.46506275e+00,  1.67884155e+00,  1.32561407e+00,\n",
              "        4.41030416e-01,  7.51906613e-01, -1.76912916e-01, -5.43055105e-01,\n",
              "       -3.86381281e-01, -9.38024697e-01, -1.33424165e+00, -8.68638430e-01,\n",
              "       -2.75411037e-01, -5.42474309e-01, -4.11367655e-01, -3.05323182e-01,\n",
              "       -2.93840793e-01,  1.03435198e-03,  3.65261220e-01,  5.80206486e-01,\n",
              "        8.11381361e-02, -1.21402611e-01,  1.44078838e-01,  1.15118537e+00,\n",
              "        1.82290068e+00,  2.05015886e+00,  3.07616421e+00,  2.60368094e+00,\n",
              "        2.01258072e+00,  1.53334406e+00, -9.73451305e-02,  1.38813726e+00,\n",
              "        1.73423189e+00,  1.54914985e+00,  1.72998936e+00,  1.62415628e+00,\n",
              "        1.69923858e+00,  1.88058915e+00,  2.68608589e+00,  2.32410959e+00,\n",
              "        2.17911656e+00,  2.63083241e+00,  1.67818533e+00,  5.72715350e-01,\n",
              "        4.36343356e-01,  1.72517694e-01,  7.13546793e-02,  5.51520392e-01,\n",
              "        5.11086989e-04, -3.48893207e-01,  1.25457708e-01, -8.73608186e-02,\n",
              "        9.75717339e-01,  9.52149409e-01,  6.57569153e-01,  6.29838388e-01,\n",
              "        7.86468655e-01,  5.72027650e-02,  4.18243334e-01,  3.40863935e-01,\n",
              "        1.71483061e+00,  8.70817129e-01,  1.27985150e+00,  1.39273335e+00,\n",
              "        1.02306889e+00,  2.06329821e+00,  6.37603395e-01,  1.98962973e-01,\n",
              "        5.55625986e-01, -2.11861259e-01,  2.78796003e-01,  2.66066161e-02,\n",
              "       -4.31863583e-01, -9.44650579e-01, -8.58648230e-01, -1.62944418e+00,\n",
              "       -1.42804912e+00, -1.27141790e+00,  5.96300017e-01,  1.32398887e+00,\n",
              "        2.10850537e+00,  1.04980668e+00,  7.24907005e-01,  7.05580649e-01,\n",
              "        4.82991579e-01,  4.18903289e-01,  1.00461529e+00,  2.64945544e+00,\n",
              "        2.47558215e+00,  1.76212014e+00,  7.83466331e-01,  1.16548904e+00,\n",
              "        1.19250262e+00,  7.48260213e-01,  7.21461365e-01, -2.58416869e-01,\n",
              "       -7.02659274e-01, -9.87253310e-01, -8.19918680e-01, -4.66350603e-01,\n",
              "       -1.12482281e+00, -3.43353556e-01, -1.04312265e+00, -4.73767243e-01,\n",
              "       -1.03674497e-01, -1.03720450e-01, -5.54180738e-01, -5.53720259e-01,\n",
              "       -7.03950594e-01, -1.23169480e-01, -4.73260810e-01, -3.44435244e-03,\n",
              "        5.65091601e-02,  1.96646406e-01,  2.76830139e-01, -7.33071451e-02,\n",
              "       -4.32986090e-01, -5.62618586e-01, -3.52525687e-01, -3.72525191e-01,\n",
              "       -1.40381350e+00, -1.39413494e+00, -1.66491563e+00, -6.23904717e-01,\n",
              "       -6.04134976e-01,  4.87749223e-01,  2.47888266e-01,  9.39221419e-01,\n",
              "        6.29311948e-01,  7.79818953e-01,  1.37009291e+00,  1.23944946e+00,\n",
              "        1.19889807e+00,  1.27908180e+00,  1.03922085e+00,  1.25986349e+00,\n",
              "        1.60110436e+00,  1.45082807e+00,  1.30013917e+00,  1.49032351e+00,\n",
              "        8.59588160e-01,  1.00958873e+00,  5.90460795e-01,  7.70461101e-01,\n",
              "        2.39220656e-01,  3.99542168e-01, -5.42204556e-01,  5.78886858e-02,\n",
              "       -4.13764584e-02, -7.13122725e-01, -4.22848005e-01,  1.27474809e-01,\n",
              "        7.38206247e-03,  1.57749300e-01, -2.02939641e-01, -4.03123259e-01,\n",
              "        1.58209779e-01,  9.59956160e-01,  9.29128329e-01,  1.51871396e+00,\n",
              "        1.54848393e+00,  7.97198215e-01,  1.01839324e+00,  1.19793307e+00,\n",
              "        1.29848393e+00,  1.03880727e+00,  6.87658796e-03, -2.27555264e-02,\n",
              "       -1.32893039e-01, -6.23720908e-01, -1.01427173e+00, -1.11431806e+00,\n",
              "       -1.18436466e+00, -1.41450206e+00, -1.75509959e+00, -1.85519092e+00,\n",
              "       -1.88500685e+00, -1.42436443e+00])"
            ]
          },
          "execution_count": 470,
          "metadata": {},
          "output_type": "execute_result"
        }
      ],
      "source": [
        "results.resid "
      ]
    },
    {
      "cell_type": "code",
      "execution_count": 411,
      "metadata": {
        "colab": {
          "base_uri": "https://localhost:8080/"
        },
        "id": "aGDecJmkKLxG",
        "outputId": "8d1ba2c8-96a2-40af-cd13-362ed3746c60"
      },
      "outputs": [
        {
          "data": {
            "text/plain": [
              "2346"
            ]
          },
          "execution_count": 411,
          "metadata": {},
          "output_type": "execute_result"
        }
      ],
      "source": [
        "N=int(len(symbols)*(len(symbols)-1)/2)\n",
        "N"
      ]
    },
    {
      "cell_type": "code",
      "execution_count": null,
      "metadata": {
        "colab": {
          "base_uri": "https://localhost:8080/"
        },
        "id": "BADButRIKi-0",
        "outputId": "39517dfe-0631-47de-9e1d-e28b92f44ee1"
      },
      "outputs": [
        {
          "data": {
            "text/plain": [
              "0.0001"
            ]
          },
          "execution_count": 270,
          "metadata": {},
          "output_type": "execute_result"
        }
      ],
      "source": [
        "relative_cutoff = 1 * 10 ** (-int(np.log(N)/np.log(10))-1)\n",
        "relative_cutoff"
      ]
    },
    {
      "cell_type": "code",
      "execution_count": null,
      "metadata": {
        "colab": {
          "base_uri": "https://localhost:8080/"
        },
        "id": "JUM8VfFLFn38",
        "outputId": "42b679b2-23ab-4569-8ec0-92dda86e1445"
      },
      "outputs": [
        {
          "data": {
            "text/plain": [
              "250"
            ]
          },
          "execution_count": 271,
          "metadata": {},
          "output_type": "execute_result"
        }
      ],
      "source": [
        "dados = yf.download((pd.Series(symbols)+'.SA').to_list(), period = '1y', auto_adjust=True , progress = False)['Close']\n",
        "dados.dropna(inplace=True)\n",
        "dados.shape[0]"
      ]
    },
    {
      "cell_type": "code",
      "execution_count": null,
      "metadata": {},
      "outputs": [
        {
          "data": {
            "text/plain": [
              "Index(['ABEV3.SA', 'ASAI3.SA', 'AZUL4.SA', 'B3SA3.SA', 'BBAS3.SA', 'BBDC3.SA',\n",
              "       'BBDC4.SA', 'BBSE3.SA', 'BEEF3.SA', 'BOVA11.SA', 'BPAC11.SA',\n",
              "       'BPAN4.SA', 'BRAP4.SA', 'BRFS3.SA', 'CCRO3.SA', 'CIEL3.SA', 'CMIG4.SA',\n",
              "       'CMIN3.SA', 'CPFE3.SA', 'CPLE6.SA', 'CRFB3.SA', 'CSNA3.SA', 'CVCB3.SA',\n",
              "       'CYRE3.SA', 'DXCO3.SA', 'ECOR3.SA', 'EGIE3.SA', 'ELET3.SA', 'ELET6.SA',\n",
              "       'ENEV3.SA', 'ENGI11.SA', 'EQTL3.SA', 'EZTC3.SA', 'GGBR4.SA', 'GOAU4.SA',\n",
              "       'GOLL4.SA', 'HAPV3.SA', 'HYPE3.SA', 'IGTI11.SA', 'ITSA4.SA', 'ITUB4.SA',\n",
              "       'JBSS3.SA', 'JHSF3.SA', 'LREN3.SA', 'LWSA3.SA', 'MGLU3.SA', 'MRFG3.SA',\n",
              "       'MRVE3.SA', 'MULT3.SA', 'PCAR3.SA', 'PETR3.SA', 'PETR4.SA', 'POSI3.SA',\n",
              "       'PRIO3.SA', 'QUAL3.SA', 'RADL3.SA', 'RDOR3.SA', 'RRRP3.SA', 'SANB11.SA',\n",
              "       'SMAL11.SA', 'SQIA3.SA', 'TAEE11.SA', 'TOTS3.SA', 'UGPA3.SA',\n",
              "       'USIM5.SA', 'VALE3.SA', 'VBBR3.SA', 'VIIA3.SA', 'VLID3.SA'],\n",
              "      dtype='object')"
            ]
          },
          "execution_count": 272,
          "metadata": {},
          "output_type": "execute_result"
        }
      ],
      "source": [
        "symbols=dados.keys()\n",
        "symbols"
      ]
    },
    {
      "cell_type": "code",
      "execution_count": null,
      "metadata": {},
      "outputs": [],
      "source": [
        "# dados = dados.apply(np.log)"
      ]
    },
    {
      "cell_type": "code",
      "execution_count": 407,
      "metadata": {
        "id": "K2PWl6l-xWYv"
      },
      "outputs": [
        {
          "data": {
            "text/plain": [
              "16"
            ]
          },
          "execution_count": 407,
          "metadata": {},
          "output_type": "execute_result"
        }
      ],
      "source": [
        "scores, pvalues, pairs = find_cointegrated_pairs(dados,.005)#relative_cutoff)\n",
        "len(pairs)"
      ]
    },
    {
      "cell_type": "code",
      "execution_count": null,
      "metadata": {},
      "outputs": [
        {
          "data": {
            "text/plain": [
              "6.986479079191046e-05"
            ]
          },
          "execution_count": 275,
          "metadata": {},
          "output_type": "execute_result"
        }
      ],
      "source": [
        "pvalues.min()"
      ]
    },
    {
      "cell_type": "code",
      "execution_count": null,
      "metadata": {},
      "outputs": [
        {
          "data": {
            "text/plain": [
              "-5.198611599673553"
            ]
          },
          "execution_count": 276,
          "metadata": {},
          "output_type": "execute_result"
        }
      ],
      "source": [
        "scores[np.unravel_index(scores.argmin(), scores.shape)[0]][np.unravel_index(scores.argmin(), scores.shape)[1]]"
      ]
    },
    {
      "cell_type": "code",
      "execution_count": null,
      "metadata": {},
      "outputs": [
        {
          "name": "stdout",
          "output_type": "stream",
          "text": [
            "ENGI11.SA BPAC11.SA\n"
          ]
        }
      ],
      "source": [
        "print(symbols[np.unravel_index(pvalues.argmin(), pvalues.shape)[0]] \n",
        "      , symbols[np.unravel_index(pvalues.argmin(), pvalues.shape)[1]])"
      ]
    },
    {
      "cell_type": "code",
      "execution_count": null,
      "metadata": {},
      "outputs": [],
      "source": [
        "X= dados[symbols[np.unravel_index(scores.argmin(), scores.shape)[0]]]\n",
        "Y= dados[symbols[np.unravel_index(scores.argmin(), scores.shape)[1]]]"
      ]
    },
    {
      "cell_type": "code",
      "execution_count": null,
      "metadata": {},
      "outputs": [
        {
          "name": "stdout",
          "output_type": "stream",
          "text": [
            " par ('ABEV3.SA', 'CSNA3.SA'); confiabilidade 99.84%; score -4.426911992499564; p-valor 0.001610727002963003 \n",
            " par ('BBSE3.SA', 'LWSA3.SA'); confiabilidade 99.66%; score -4.219810030423423; p-valor 0.0034035218602707436 \n",
            " par ('BPAC11.SA', 'ENGI11.SA'); confiabilidade 99.98%; score -4.963493596858814; p-valor 0.00019205176745377416 \n",
            " par ('BRFS3.SA', 'ENEV3.SA'); confiabilidade 99.70%; score -4.259777001648824; p-valor 0.002955744308316448 \n",
            " par ('BRFS3.SA', 'POSI3.SA'); confiabilidade 99.62%; score -4.187895897587465; p-valor 0.0038049113049904424 \n",
            " par ('CVCB3.SA', 'QUAL3.SA'); confiabilidade 99.72%; score -4.27693492253307; p-valor 0.00278069737636045 \n",
            " par ('CYRE3.SA', 'SQIA3.SA'); confiabilidade 99.63%; score -4.196928406718718; p-valor 0.0036871178265218824 \n",
            " par ('DXCO3.SA', 'VBBR3.SA'); confiabilidade 99.81%; score -4.38442507691814; p-valor 0.0018843906113554946 \n",
            " par ('ENEV3.SA', 'BRFS3.SA'); confiabilidade 99.84%; score -4.431660490052094; p-valor 0.0015825524801705325 \n",
            " par ('ENEV3.SA', 'JHSF3.SA'); confiabilidade 99.89%; score -4.52496109836658; p-valor 0.0011139579541994474 \n",
            " par ('ENGI11.SA', 'BPAC11.SA'); confiabilidade 99.99%; score -5.198611599673553; p-valor 6.986479079191046e-05 \n",
            " par ('ENGI11.SA', 'ITSA4.SA'); confiabilidade 99.73%; score -4.281293545253681; p-valor 0.0027377782643720015 \n",
            " par ('EQTL3.SA', 'ITSA4.SA'); confiabilidade 99.58%; score -4.161787600630031; p-valor 0.004165037471442642 \n",
            " par ('ITSA4.SA', 'ENGI11.SA'); confiabilidade 99.70%; score -4.251461598736505; p-valor 0.0030441788178822054 \n",
            " par ('ITSA4.SA', 'EQTL3.SA'); confiabilidade 99.72%; score -4.279550520438828; p-valor 0.002754867927931429 \n",
            " par ('ITUB4.SA', 'AZUL4.SA'); confiabilidade 99.71%; score -4.262009183043183; p-valor 0.0029324109592554545 \n",
            " par ('JBSS3.SA', 'CMIN3.SA'); confiabilidade 99.51%; score -4.112043473333484; p-valor 0.004938685298867254 \n",
            " par ('JBSS3.SA', 'HAPV3.SA'); confiabilidade 99.56%; score -4.143894205349515; p-valor 0.004429568392742869 \n",
            " par ('LWSA3.SA', 'BBSE3.SA'); confiabilidade 99.79%; score -4.35197854326957; p-valor 0.0021217798635345263 \n",
            " par ('MRFG3.SA', 'CVCB3.SA'); confiabilidade 99.85%; score -4.444221778017824; p-valor 0.001510216768512028 \n",
            " par ('MRFG3.SA', 'HYPE3.SA'); confiabilidade 99.73%; score -4.288789382520792; p-valor 0.0026653926856178034 \n",
            " par ('MRFG3.SA', 'JHSF3.SA'); confiabilidade 99.75%; score -4.3016858500338895; p-valor 0.002544971968319845 \n",
            " par ('MRFG3.SA', 'LREN3.SA'); confiabilidade 99.56%; score -4.1438416483501035; p-valor 0.004430367484794247 \n",
            " par ('MRFG3.SA', 'POSI3.SA'); confiabilidade 99.91%; score -4.569096079442583; p-valor 0.0009407701192825929 \n",
            " par ('PETR3.SA', 'CYRE3.SA'); confiabilidade 99.61%; score -4.180184055984593; p-valor 0.003908199255885792 \n",
            " par ('QUAL3.SA', 'CVCB3.SA'); confiabilidade 99.93%; score -4.638504064596178; p-valor 0.0007185783539521232 \n",
            " par ('SQIA3.SA', 'CYRE3.SA'); confiabilidade 99.51%; score -4.116156955390441; p-valor 0.004870062499001329 \n",
            " par ('TOTS3.SA', 'BBSE3.SA'); confiabilidade 99.74%; score -4.295827884104286; p-valor 0.0025990343910082168 \n",
            " par ('TOTS3.SA', 'ELET6.SA'); confiabilidade 99.58%; score -4.161158279659373; p-valor 0.004174090599781241 \n",
            " par ('TOTS3.SA', 'LREN3.SA'); confiabilidade 99.56%; score -4.144670963285533; p-valor 0.004417773672943343 \n",
            " par ('USIM5.SA', 'ABEV3.SA'); confiabilidade 99.57%; score -4.152140071163783; p-valor 0.004305813737670109 \n",
            " par ('USIM5.SA', 'ASAI3.SA'); confiabilidade 99.65%; score -4.2130430804119845; p-valor 0.0034852332929392947 \n",
            " par ('USIM5.SA', 'AZUL4.SA'); confiabilidade 99.65%; score -4.207889443212263; p-valor 0.003548667194827938 \n",
            " par ('USIM5.SA', 'B3SA3.SA'); confiabilidade 99.71%; score -4.261756437774754; p-valor 0.0029350444059194607 \n",
            " par ('USIM5.SA', 'BBAS3.SA'); confiabilidade 99.64%; score -4.2036503072236835; p-valor 0.003601636888216102 \n",
            " par ('USIM5.SA', 'BBDC3.SA'); confiabilidade 99.66%; score -4.217506688870104; p-valor 0.003431135340989909 \n",
            " par ('USIM5.SA', 'BBDC4.SA'); confiabilidade 99.67%; score -4.2277199421273215; p-valor 0.0033102404508210557 \n",
            " par ('USIM5.SA', 'BBSE3.SA'); confiabilidade 99.75%; score -4.30325093528335; p-valor 0.002530704736748506 \n",
            " par ('USIM5.SA', 'BEEF3.SA'); confiabilidade 99.75%; score -4.311626831082697; p-valor 0.0024555975451476452 \n",
            " par ('USIM5.SA', 'BPAC11.SA'); confiabilidade 99.63%; score -4.192481725952888; p-valor 0.0037446830848312375 \n",
            " par ('USIM5.SA', 'BPAN4.SA'); confiabilidade 99.66%; score -4.216452730604832; p-valor 0.003443839112941834 \n",
            " par ('USIM5.SA', 'BRAP4.SA'); confiabilidade 99.72%; score -4.276500136447296; p-valor 0.002785012529862918 \n",
            " par ('USIM5.SA', 'BRFS3.SA'); confiabilidade 99.59%; score -4.162845763701175; p-valor 0.004149855676807785 \n",
            " par ('USIM5.SA', 'CCRO3.SA'); confiabilidade 99.62%; score -4.189939110755052; p-valor 0.003777967880754713 \n",
            " par ('USIM5.SA', 'CIEL3.SA'); confiabilidade 99.74%; score -4.297593092506036; p-valor 0.0025826329816959217 \n",
            " par ('USIM5.SA', 'CMIG4.SA'); confiabilidade 99.57%; score -4.152329014288938; p-valor 0.004303015450938574 \n",
            " par ('USIM5.SA', 'CMIN3.SA'); confiabilidade 99.71%; score -4.267533499803886; p-valor 0.002875391735450667 \n",
            " par ('USIM5.SA', 'CPFE3.SA'); confiabilidade 99.55%; score -4.14092878284917; p-valor 0.004474861899006742 \n",
            " par ('USIM5.SA', 'CPLE6.SA'); confiabilidade 99.66%; score -4.216016641952899; p-valor 0.0034491080763498685 \n",
            " par ('USIM5.SA', 'CRFB3.SA'); confiabilidade 99.55%; score -4.141715523334931; p-valor 0.004462804291971519 \n",
            " par ('USIM5.SA', 'CSNA3.SA'); confiabilidade 99.66%; score -4.221108278401936; p-valor 0.0033880479402478986 \n",
            " par ('USIM5.SA', 'CVCB3.SA'); confiabilidade 99.73%; score -4.287731586908683; p-valor 0.002675499480364321 \n",
            " par ('USIM5.SA', 'CYRE3.SA'); confiabilidade 99.65%; score -4.208442773008589; p-valor 0.0035418060954758835 \n",
            " par ('USIM5.SA', 'DXCO3.SA'); confiabilidade 99.59%; score -4.168878088936315; p-valor 0.004064270344015256 \n",
            " par ('USIM5.SA', 'ECOR3.SA'); confiabilidade 99.50%; score -4.109210157176997; p-valor 0.004986462888795401 \n",
            " par ('USIM5.SA', 'EGIE3.SA'); confiabilidade 99.63%; score -4.19580270246913; p-valor 0.003701613637238279 \n",
            " par ('USIM5.SA', 'ELET3.SA'); confiabilidade 99.72%; score -4.275820376693087; p-valor 0.0027917713592218126 \n",
            " par ('USIM5.SA', 'ELET6.SA'); confiabilidade 99.83%; score -4.411124553646834; p-valor 0.0017077876622384482 \n",
            " par ('USIM5.SA', 'ENEV3.SA'); confiabilidade 99.66%; score -4.221657734460516; p-valor 0.0033815184056382075 \n",
            " par ('USIM5.SA', 'ENGI11.SA'); confiabilidade 99.63%; score -4.1935366385138; p-valor 0.0037309525054795302 \n",
            " par ('USIM5.SA', 'EQTL3.SA'); confiabilidade 99.65%; score -4.21133699508732; p-valor 0.003506116621989188 \n",
            " par ('USIM5.SA', 'GGBR4.SA'); confiabilidade 99.68%; score -4.240541270342619; p-valor 0.0031640150962175357 \n",
            " par ('USIM5.SA', 'GOAU4.SA'); confiabilidade 99.69%; score -4.242645675560188; p-valor 0.003140589929221091 \n",
            " par ('USIM5.SA', 'GOLL4.SA'); confiabilidade 99.71%; score -4.268247623040493; p-valor 0.0028680959128382874 \n",
            " par ('USIM5.SA', 'HAPV3.SA'); confiabilidade 99.66%; score -4.223469569895146; p-valor 0.0033600690014177113 \n",
            " par ('USIM5.SA', 'HYPE3.SA'); confiabilidade 99.75%; score -4.307281251151884; p-valor 0.002494303793841266 \n",
            " par ('USIM5.SA', 'IGTI11.SA'); confiabilidade 99.59%; score -4.167472991603465; p-valor 0.004084060055493024 \n",
            " par ('USIM5.SA', 'ITSA4.SA'); confiabilidade 99.65%; score -4.2148194799278205; p-valor 0.003463610632893254 \n",
            " par ('USIM5.SA', 'ITUB4.SA'); confiabilidade 99.68%; score -4.239532183779274; p-valor 0.0031753046214265143 \n",
            " par ('USIM5.SA', 'JHSF3.SA'); confiabilidade 99.70%; score -4.2548710208590474; p-valor 0.003007629122977317 \n",
            " par ('USIM5.SA', 'LREN3.SA'); confiabilidade 99.67%; score -4.22621243605628; p-valor 0.0033278352505997605 \n",
            " par ('USIM5.SA', 'LWSA3.SA'); confiabilidade 99.71%; score -4.264129881671692; p-valor 0.0029104001702082863 \n",
            " par ('USIM5.SA', 'MGLU3.SA'); confiabilidade 99.87%; score -4.481944938461882; p-valor 0.00131106140041035 \n",
            " par ('USIM5.SA', 'MRFG3.SA'); confiabilidade 99.52%; score -4.118333835554496; p-valor 0.004834099500595143 \n",
            " par ('USIM5.SA', 'MRVE3.SA'); confiabilidade 99.63%; score -4.196451864980136; p-valor 0.003693247941044032 \n",
            " par ('USIM5.SA', 'MULT3.SA'); confiabilidade 99.61%; score -4.177845938769628; p-valor 0.003940018065388252 \n",
            " par ('USIM5.SA', 'PCAR3.SA'); confiabilidade 99.91%; score -4.578093230901917; p-valor 0.0009087113422651243 \n",
            " par ('USIM5.SA', 'PETR3.SA'); confiabilidade 99.59%; score -4.164565963597558; p-valor 0.004125283393609346 \n",
            " par ('USIM5.SA', 'PETR4.SA'); confiabilidade 99.58%; score -4.161856345077237; p-valor 0.004164049633185482 \n",
            " par ('USIM5.SA', 'POSI3.SA'); confiabilidade 99.72%; score -4.273605987183334; p-valor 0.0028138939234515037 \n",
            " par ('USIM5.SA', 'PRIO3.SA'); confiabilidade 99.61%; score -4.184310509289974; p-valor 0.0038526168784990384 \n",
            " par ('USIM5.SA', 'QUAL3.SA'); confiabilidade 99.63%; score -4.194562900441885; p-valor 0.0037176391279457655 \n",
            " par ('USIM5.SA', 'RADL3.SA'); confiabilidade 99.65%; score -4.214957309550027; p-valor 0.00346193810309236 \n",
            " par ('USIM5.SA', 'RRRP3.SA'); confiabilidade 99.83%; score -4.408979113019239; p-valor 0.001721389452757899 \n",
            " par ('USIM5.SA', 'SANB11.SA'); confiabilidade 99.81%; score -4.387256932250217; p-valor 0.001864886296409922 \n",
            " par ('USIM5.SA', 'SMAL11.SA'); confiabilidade 99.54%; score -4.1327499937685435; p-valor 0.004601983490158089 \n",
            " par ('USIM5.SA', 'SQIA3.SA'); confiabilidade 99.55%; score -4.138792628917966; p-valor 0.004507750807370885 \n",
            " par ('USIM5.SA', 'TAEE11.SA'); confiabilidade 99.79%; score -4.351490863433519; p-valor 0.002125550388374121 \n",
            " par ('USIM5.SA', 'UGPA3.SA'); confiabilidade 99.64%; score -4.205447337268894; p-valor 0.0035790943596896246 \n",
            " par ('USIM5.SA', 'VALE3.SA'); confiabilidade 99.75%; score -4.3016238194618435; p-valor 0.0025455389622804116 \n",
            " par ('USIM5.SA', 'VBBR3.SA'); confiabilidade 99.65%; score -4.215119747403299; p-valor 0.00345996790982095 \n",
            " par ('USIM5.SA', 'VIIA3.SA'); confiabilidade 99.71%; score -4.261902545476012; p-valor 0.0029335217901953667 \n",
            " par ('USIM5.SA', 'VLID3.SA'); confiabilidade 99.65%; score -4.210471672241811; p-valor 0.003516752430310529 \n",
            " par ('VBBR3.SA', 'DXCO3.SA'); confiabilidade 99.89%; score -4.532021254175543; p-valor 0.001084384161569239 \n",
            " par ('VBBR3.SA', 'SMAL11.SA'); confiabilidade 99.84%; score -4.4207175112644395; p-valor 0.0016481823542456825 \n"
          ]
        }
      ],
      "source": [
        "for pp in pairs:\n",
        "    i = pd.Index(symbols).get_loc(pp[0])\n",
        "    j = pd.Index(symbols).get_loc(pp[1])\n",
        "    if (1-pvalues[i,j]) > 0.99:\n",
        "        print(f' par {pp}; confiabilidade {(1-pvalues[i,j])*100:.2f}%; score {scores[i,j]}; p-valor {pvalues[i,j]} ')"
      ]
    },
    {
      "cell_type": "code",
      "execution_count": 405,
      "metadata": {},
      "outputs": [
        {
          "ename": "UnboundLocalError",
          "evalue": "local variable 'slope' referenced before assignment",
          "output_type": "error",
          "traceback": [
            "\u001b[0;31m---------------------------------------------------------------------------\u001b[0m",
            "\u001b[0;31mUnboundLocalError\u001b[0m                         Traceback (most recent call last)",
            "\u001b[0;32m<ipython-input-405-a3c15cc95755>\u001b[0m in \u001b[0;36m<module>\u001b[0;34m()\u001b[0m\n\u001b[1;32m      1\u001b[0m \u001b[0;32mimport\u001b[0m \u001b[0mitertools\u001b[0m\u001b[0;34m\u001b[0m\u001b[0;34m\u001b[0m\u001b[0m\n\u001b[0;32m----> 2\u001b[0;31m \u001b[0mcointegra\u001b[0m\u001b[0;34m(\u001b[0m\u001b[0mdados\u001b[0m\u001b[0;34m,\u001b[0m\u001b[0;32mFalse\u001b[0m\u001b[0;34m)\u001b[0m\u001b[0;34m\u001b[0m\u001b[0;34m\u001b[0m\u001b[0m\n\u001b[0m",
            "\u001b[0;32m<ipython-input-403-39e6c8c6e307>\u001b[0m in \u001b[0;36mcointegra\u001b[0;34m(df, intercept, cutoff)\u001b[0m\n\u001b[1;32m     74\u001b[0m             \u001b[0mscore\u001b[0m \u001b[0;34m,\u001b[0m \u001b[0mp_value\u001b[0m \u001b[0;34m,\u001b[0m \u001b[0m_\u001b[0m \u001b[0;34m,\u001b[0m \u001b[0m_\u001b[0m \u001b[0;34m,\u001b[0m\u001b[0mcriticals\u001b[0m \u001b[0;34m,\u001b[0m \u001b[0m_\u001b[0m \u001b[0;34m=\u001b[0m \u001b[0madfuller\u001b[0m\u001b[0;34m(\u001b[0m\u001b[0mresults\u001b[0m\u001b[0;34m.\u001b[0m\u001b[0mresid\u001b[0m\u001b[0;34m)\u001b[0m\u001b[0;34m\u001b[0m\u001b[0;34m\u001b[0m\u001b[0m\n\u001b[1;32m     75\u001b[0m \u001b[0;34m\u001b[0m\u001b[0m\n\u001b[0;32m---> 76\u001b[0;31m         \u001b[0;32mif\u001b[0m \u001b[0mp_value\u001b[0m \u001b[0;34m<\u001b[0m \u001b[0mcutoff\u001b[0m \u001b[0;32mand\u001b[0m \u001b[0mslope\u001b[0m \u001b[0;34m>\u001b[0m \u001b[0;36m0\u001b[0m\u001b[0;34m:\u001b[0m\u001b[0;34m\u001b[0m\u001b[0;34m\u001b[0m\u001b[0m\n\u001b[0m\u001b[1;32m     77\u001b[0m             \u001b[0mcointegrated_pairs\u001b[0m\u001b[0;34m.\u001b[0m\u001b[0mappend\u001b[0m\u001b[0;34m(\u001b[0m\u001b[0mtuple\u001b[0m\u001b[0;34m(\u001b[0m\u001b[0;34m[\u001b[0m\u001b[0mstock_1\u001b[0m\u001b[0;34m,\u001b[0m \u001b[0mstock_2\u001b[0m\u001b[0;34m,\u001b[0m \u001b[0mp_value\u001b[0m \u001b[0;34m,\u001b[0m \u001b[0mscore\u001b[0m \u001b[0;34m,\u001b[0m \u001b[0mcriticals\u001b[0m\u001b[0;34m]\u001b[0m\u001b[0;34m)\u001b[0m\u001b[0;34m)\u001b[0m\u001b[0;34m\u001b[0m\u001b[0;34m\u001b[0m\u001b[0m\n\u001b[1;32m     78\u001b[0m \u001b[0;34m\u001b[0m\u001b[0m\n",
            "\u001b[0;31mUnboundLocalError\u001b[0m: local variable 'slope' referenced before assignment"
          ]
        }
      ],
      "source": [
        "import itertools\n",
        "cointegra(dados,False)"
      ]
    },
    {
      "cell_type": "code",
      "execution_count": null,
      "metadata": {
        "colab": {
          "base_uri": "https://localhost:8080/",
          "height": 1000
        },
        "id": "-5xRuwjmIeKK",
        "outputId": "fe6ae243-9a11-42b1-f2d2-031a6d005b89"
      },
      "outputs": [
        {
          "data": {
            "text/plain": [
              "<AxesSubplot:>"
            ]
          },
          "execution_count": 281,
          "metadata": {},
          "output_type": "execute_result"
        },
        {
          "data": {
            "image/png": "[encoded data removed]",
            "text/plain": [
              "<Figure size 576x576 with 2 Axes>"
            ]
          },
          "metadata": {},
          "output_type": "display_data"
        }
      ],
      "source": [
        "seaborn.set(rc={'figure.figsize':(8,8)})\n",
        "seaborn.heatmap(\n",
        "    pvalues, \n",
        "    xticklabels=symbols, \n",
        "    yticklabels=symbols, \n",
        "    cmap='RdYlGn_r', \n",
        "    mask = (pvalues >= 0.01)\n",
        ")"
      ]
    },
    {
      "cell_type": "code",
      "execution_count": null,
      "metadata": {
        "id": "kwVKlLNjq4EW"
      },
      "outputs": [],
      "source": [
        "# !pip install -qU kaleido\n",
        "# import kaleido\n",
        "# import plotly\n",
        "# plotly.io.renderers.default = 'png'\n"
      ]
    },
    {
      "cell_type": "code",
      "execution_count": null,
      "metadata": {
        "id": "7iXoM5eXE6fx"
      },
      "outputs": [],
      "source": [
        "import plotly.graph_objs as go\n",
        "from plotly.subplots import make_subplots\n"
      ]
    },
    {
      "cell_type": "code",
      "execution_count": null,
      "metadata": {},
      "outputs": [],
      "source": [
        "Y = dados[pairs[0][1]]\n",
        "X = dados[pairs[0][0]]"
      ]
    },
    {
      "cell_type": "code",
      "execution_count": null,
      "metadata": {},
      "outputs": [
        {
          "data": {
            "application/vnd.plotly.v1+json": {
              "config": {
                "plotlyServerURL": "https://plot.ly"
              },
              "data": [
                {
                  "line": {
                    "color": "steelblue"
                  },
                  "name": "B3SA3.SA",
                  "type": "scatter",
                  "x": [
                    "2022-08-18T00:00:00",
                    "2022-08-19T00:00:00",
                    "2022-08-22T00:00:00",
                    "2022-08-23T00:00:00",
                    "2022-08-24T00:00:00",
                    "2022-08-25T00:00:00",
                    "2022-08-26T00:00:00",
                    "2022-08-29T00:00:00",
                    "2022-08-30T00:00:00",
                    "2022-08-31T00:00:00",
                    "2022-09-01T00:00:00",
                    "2022-09-02T00:00:00",
                    "2022-09-05T00:00:00",
                    "2022-09-06T00:00:00",
                    "2022-09-08T00:00:00",
                    "2022-09-09T00:00:00",
                    "2022-09-12T00:00:00",
                    "2022-09-13T00:00:00",
                    "2022-09-14T00:00:00",
                    "2022-09-15T00:00:00",
                    "2022-09-16T00:00:00",
                    "2022-09-19T00:00:00",
                    "2022-09-20T00:00:00",
                    "2022-09-21T00:00:00",
                    "2022-09-22T00:00:00",
                    "2022-09-23T00:00:00",
                    "2022-09-26T00:00:00",
                    "2022-09-27T00:00:00",
                    "2022-09-28T00:00:00",
                    "2022-09-29T00:00:00",
                    "2022-09-30T00:00:00",
                    "2022-10-03T00:00:00",
                    "2022-10-04T00:00:00",
                    "2022-10-05T00:00:00",
                    "2022-10-06T00:00:00",
                    "2022-10-07T00:00:00",
                    "2022-10-10T00:00:00",
                    "2022-10-11T00:00:00",
                    "2022-10-13T00:00:00",
                    "2022-10-14T00:00:00",
                    "2022-10-17T00:00:00",
                    "2022-10-18T00:00:00",
                    "2022-10-19T00:00:00",
                    "2022-10-20T00:00:00",
                    "2022-10-21T00:00:00",
                    "2022-10-24T00:00:00",
                    "2022-10-25T00:00:00",
                    "2022-10-26T00:00:00",
                    "2022-10-27T00:00:00",
                    "2022-10-28T00:00:00",
                    "2022-10-31T00:00:00",
                    "2022-11-01T00:00:00",
                    "2022-11-03T00:00:00",
                    "2022-11-04T00:00:00",
                    "2022-11-07T00:00:00",
                    "2022-11-08T00:00:00",
                    "2022-11-09T00:00:00",
                    "2022-11-10T00:00:00",
                    "2022-11-11T00:00:00",
                    "2022-11-14T00:00:00",
                    "2022-11-16T00:00:00",
                    "2022-11-17T00:00:00",
                    "2022-11-18T00:00:00",
                    "2022-11-21T00:00:00",
                    "2022-11-22T00:00:00",
                    "2022-11-23T00:00:00",
                    "2022-11-24T00:00:00",
                    "2022-11-25T00:00:00",
                    "2022-11-28T00:00:00",
                    "2022-11-29T00:00:00",
                    "2022-11-30T00:00:00",
                    "2022-12-01T00:00:00",
                    "2022-12-02T00:00:00",
                    "2022-12-05T00:00:00",
                    "2022-12-06T00:00:00",
                    "2022-12-07T00:00:00",
                    "2022-12-08T00:00:00",
                    "2022-12-09T00:00:00",
                    "2022-12-12T00:00:00",
                    "2022-12-13T00:00:00",
                    "2022-12-14T00:00:00",
                    "2022-12-15T00:00:00",
                    "2022-12-16T00:00:00",
                    "2022-12-19T00:00:00",
                    "2022-12-20T00:00:00",
                    "2022-12-21T00:00:00",
                    "2022-12-22T00:00:00",
                    "2022-12-23T00:00:00",
                    "2022-12-26T00:00:00",
                    "2022-12-27T00:00:00",
                    "2022-12-28T00:00:00",
                    "2022-12-29T00:00:00",
                    "2023-01-02T00:00:00",
                    "2023-01-03T00:00:00",
                    "2023-01-04T00:00:00",
                    "2023-01-05T00:00:00",
                    "2023-01-06T00:00:00",
                    "2023-01-09T00:00:00",
                    "2023-01-10T00:00:00",
                    "2023-01-11T00:00:00",
                    "2023-01-12T00:00:00",
                    "2023-01-13T00:00:00",
                    "2023-01-16T00:00:00",
                    "2023-01-17T00:00:00",
                    "2023-01-18T00:00:00",
                    "2023-01-19T00:00:00",
                    "2023-01-20T00:00:00",
                    "2023-01-23T00:00:00",
                    "2023-01-24T00:00:00",
                    "2023-01-25T00:00:00",
                    "2023-01-26T00:00:00",
                    "2023-01-27T00:00:00",
                    "2023-01-30T00:00:00",
                    "2023-01-31T00:00:00",
                    "2023-02-01T00:00:00",
                    "2023-02-02T00:00:00",
                    "2023-02-03T00:00:00",
                    "2023-02-06T00:00:00",
                    "2023-02-07T00:00:00",
                    "2023-02-08T00:00:00",
                    "2023-02-09T00:00:00",
                    "2023-02-10T00:00:00",
                    "2023-02-13T00:00:00",
                    "2023-02-14T00:00:00",
                    "2023-02-15T00:00:00",
                    "2023-02-16T00:00:00",
                    "2023-02-17T00:00:00",
                    "2023-02-22T00:00:00",
                    "2023-02-23T00:00:00",
                    "2023-02-24T00:00:00",
                    "2023-02-27T00:00:00",
                    "2023-02-28T00:00:00",
                    "2023-03-01T00:00:00",
                    "2023-03-02T00:00:00",
                    "2023-03-03T00:00:00",
                    "2023-03-06T00:00:00",
                    "2023-03-07T00:00:00",
                    "2023-03-08T00:00:00",
                    "2023-03-09T00:00:00",
                    "2023-03-13T00:00:00",
                    "2023-03-14T00:00:00",
                    "2023-03-15T00:00:00",
                    "2023-03-16T00:00:00",
                    "2023-03-17T00:00:00",
                    "2023-03-20T00:00:00",
                    "2023-03-21T00:00:00",
                    "2023-03-22T00:00:00",
                    "2023-03-23T00:00:00",
                    "2023-03-24T00:00:00",
                    "2023-03-27T00:00:00",
                    "2023-03-28T00:00:00",
                    "2023-03-29T00:00:00",
                    "2023-03-30T00:00:00",
                    "2023-03-31T00:00:00",
                    "2023-04-03T00:00:00",
                    "2023-04-04T00:00:00",
                    "2023-04-05T00:00:00",
                    "2023-04-06T00:00:00",
                    "2023-04-10T00:00:00",
                    "2023-04-11T00:00:00",
                    "2023-04-12T00:00:00",
                    "2023-04-13T00:00:00",
                    "2023-04-14T00:00:00",
                    "2023-04-17T00:00:00",
                    "2023-04-18T00:00:00",
                    "2023-04-19T00:00:00",
                    "2023-04-20T00:00:00",
                    "2023-04-24T00:00:00",
                    "2023-04-25T00:00:00",
                    "2023-04-26T00:00:00",
                    "2023-04-27T00:00:00",
                    "2023-04-28T00:00:00",
                    "2023-05-02T00:00:00",
                    "2023-05-03T00:00:00",
                    "2023-05-04T00:00:00",
                    "2023-05-05T00:00:00",
                    "2023-05-08T00:00:00",
                    "2023-05-09T00:00:00",
                    "2023-05-10T00:00:00",
                    "2023-05-11T00:00:00",
                    "2023-05-12T00:00:00",
                    "2023-05-15T00:00:00",
                    "2023-05-16T00:00:00",
                    "2023-05-17T00:00:00",
                    "2023-05-18T00:00:00",
                    "2023-05-19T00:00:00",
                    "2023-05-22T00:00:00",
                    "2023-05-23T00:00:00",
                    "2023-05-24T00:00:00",
                    "2023-05-25T00:00:00",
                    "2023-05-26T00:00:00",
                    "2023-05-29T00:00:00",
                    "2023-05-30T00:00:00",
                    "2023-05-31T00:00:00",
                    "2023-06-01T00:00:00",
                    "2023-06-02T00:00:00",
                    "2023-06-05T00:00:00",
                    "2023-06-06T00:00:00",
                    "2023-06-07T00:00:00",
                    "2023-06-09T00:00:00",
                    "2023-06-12T00:00:00",
                    "2023-06-13T00:00:00",
                    "2023-06-14T00:00:00",
                    "2023-06-15T00:00:00",
                    "2023-06-16T00:00:00",
                    "2023-06-19T00:00:00",
                    "2023-06-20T00:00:00",
                    "2023-06-21T00:00:00",
                    "2023-06-22T00:00:00",
                    "2023-06-23T00:00:00",
                    "2023-06-26T00:00:00",
                    "2023-06-27T00:00:00",
                    "2023-06-28T00:00:00",
                    "2023-06-29T00:00:00",
                    "2023-06-30T00:00:00",
                    "2023-07-03T00:00:00",
                    "2023-07-04T00:00:00",
                    "2023-07-05T00:00:00",
                    "2023-07-06T00:00:00",
                    "2023-07-07T00:00:00",
                    "2023-07-10T00:00:00",
                    "2023-07-11T00:00:00",
                    "2023-07-12T00:00:00",
                    "2023-07-13T00:00:00",
                    "2023-07-14T00:00:00",
                    "2023-07-17T00:00:00",
                    "2023-07-18T00:00:00",
                    "2023-07-19T00:00:00",
                    "2023-07-20T00:00:00",
                    "2023-07-21T00:00:00",
                    "2023-07-24T00:00:00",
                    "2023-07-25T00:00:00",
                    "2023-07-26T00:00:00",
                    "2023-07-27T00:00:00",
                    "2023-07-28T00:00:00",
                    "2023-07-31T00:00:00",
                    "2023-08-01T00:00:00",
                    "2023-08-02T00:00:00",
                    "2023-08-03T00:00:00",
                    "2023-08-04T00:00:00",
                    "2023-08-07T00:00:00",
                    "2023-08-08T00:00:00",
                    "2023-08-09T00:00:00",
                    "2023-08-10T00:00:00",
                    "2023-08-11T00:00:00",
                    "2023-08-14T00:00:00",
                    "2023-08-15T00:00:00",
                    "2023-08-16T00:00:00",
                    "2023-08-17T00:00:00",
                    "2023-08-18T00:00:00"
                  ],
                  "y": [
                    12.466315269470215,
                    12.136467933654785,
                    11.932737350463867,
                    12.058856964111328,
                    12.08796215057373,
                    12.388705253601074,
                    12.058856964111328,
                    11.97154426574707,
                    11.826022148132324,
                    11.496175765991211,
                    11.7387113571167,
                    12.262585639953613,
                    12.466315269470215,
                    12.020051956176758,
                    12.611837387084961,
                    12.56333065032959,
                    12.85437297821045,
                    12.495421409606934,
                    12.398406028747559,
                    12.184975624084473,
                    12.010350227355957,
                    12.825267791748047,
                    13.232728958129883,
                    12.922282218933105,
                    13.038698196411133,
                    13.07079029083252,
                    12.563186645507812,
                    12.446048736572266,
                    12.543663024902344,
                    12.299625396728516,
                    12.738896369934082,
                    13.549108505249023,
                    14.134804725646973,
                    14.37884521484375,
                    14.476463317871094,
                    14.447176933288574,
                    14.486223220825195,
                    14.007905960083008,
                    13.568631172180176,
                    13.558871269226074,
                    13.812671661376953,
                    13.666248321533203,
                    13.91028881072998,
                    13.666248321533203,
                    14.281229019165039,
                    13.705294609069824,
                    13.519824981689453,
                    12.86579704284668,
                    13.549108505249023,
                    13.841958045959473,
                    14.681456565856934,
                    14.75954818725586,
                    15.013350486755371,
                    15.228105545043945,
                    14.935256958007812,
                    14.9645414352417,
                    14.876687049865723,
                    12.992697715759277,
                    12.28010082244873,
                    12.172721862792969,
                    12.104390144348145,
                    11.372269630432129,
                    11.58702564239502,
                    11.762735366821289,
                    11.704166412353516,
                    11.704166412353516,
                    12.358193397521973,
                    11.762735366821289,
                    11.792020797729492,
                    12.250815391540527,
                    12.42652416229248,
                    12.114152908325195,
                    12.397239685058594,
                    11.8603515625,
                    11.889636039733887,
                    11.957967758178711,
                    11.460125923156738,
                    11.460125923156738,
                    11.17703914642334,
                    11.118470191955566,
                    11.499173164367676,
                    11.255131721496582,
                    11.089183807373047,
                    11.80178165435791,
                    12.319146156311035,
                    12.260578155517578,
                    12.026298522949219,
                    13.05739688873291,
                    13.125862121582031,
                    12.666162490844727,
                    13.10629940032959,
                    12.920463562011719,
                    12.039817810058594,
                    11.636853218078613,
                    11.725309371948242,
                    12.088960647583008,
                    12.373985290527344,
                    12.206901550292969,
                    12.639351844787598,
                    13.219228744506836,
                    13.14060115814209,
                    12.9342041015625,
                    12.727807998657227,
                    12.786778450012207,
                    12.855576515197754,
                    12.747465133666992,
                    12.550896644592285,
                    12.432954788208008,
                    12.619694709777832,
                    12.885063171386719,
                    12.894890785217285,
                    12.491926193237305,
                    12.64918041229248,
                    12.73763656616211,
                    12.688494682312012,
                    12.776949882507324,
                    11.902219772338867,
                    11.902219772338867,
                    11.685995101928711,
                    11.912049293518066,
                    11.450112342834473,
                    11.597539901733398,
                    11.71548080444336,
                    11.243715286254883,
                    11.391142845153809,
                    11.174917221069336,
                    10.840750694274902,
                    10.663839340209961,
                    10.595040321350098,
                    10.24664306640625,
                    10.414297103881836,
                    10.404435157775879,
                    10.355125427246094,
                    10.443883895874023,
                    10.374849319458008,
                    10.808778762817383,
                    10.897537231445312,
                    11.489256858825684,
                    11.420223236083984,
                    11.19339656829834,
                    11.282154083251953,
                    11.380775451660156,
                    11.69636058807373,
                    11.144086837768555,
                    11.02574348449707,
                    11.015880584716797,
                    10.887674331665039,
                    10.276228904724121,
                    10.414297103881836,
                    10.443883895874023,
                    10.532641410827637,
                    10.443607330322266,
                    10.711392402648926,
                    10.265085220336914,
                    10.493197441101074,
                    10.741146087646484,
                    10.7014741897583,
                    10.612213134765625,
                    10.820489883422852,
                    11.53458309173584,
                    11.7626953125,
                    11.643680572509766,
                    11.871793746948242,
                    11.92138385772705,
                    11.792449951171875,
                    11.494911193847656,
                    11.564336776733398,
                    11.6635160446167,
                    11.703187942504883,
                    11.157700538635254,
                    11.385812759399414,
                    11.584173202514648,
                    11.237044334411621,
                    11.415567398071289,
                    11.732941627502441,
                    12.387526512145996,
                    12.337936401367188,
                    12.456953048706055,
                    12.44703483581543,
                    12.67514705657959,
                    12.724737167358398,
                    12.893342971801758,
                    12.704901695251465,
                    13.21071720123291,
                    13.379322052001953,
                    13.448748588562012,
                    13.280143737792969,
                    13.101619720458984,
                    12.754490852355957,
                    13.071866035461426,
                    13.547927856445312,
                    13.418993949890137,
                    13.240471839904785,
                    13.21071720123291,
                    14.182677268981934,
                    14.301692962646484,
                    14.341364860534668,
                    14.29177474975586,
                    14.619067192077637,
                    14.579395294189453,
                    14.777753829956055,
                    14.490133285522461,
                    15.095129013061523,
                    14.589313507080078,
                    14.500051498413086,
                    14.67857551574707,
                    14.609148979187012,
                    14.519887924194336,
                    14.083497047424316,
                    14.31161117553711,
                    13.934728622436523,
                    13.944646835327148,
                    13.949999809265137,
                    14.640000343322754,
                    14.609999656677246,
                    14.930000305175781,
                    14.739999771118164,
                    14.729999542236328,
                    14.180000305175781,
                    14.359999656677246,
                    14.079999923706055,
                    13.930000305175781,
                    14.25,
                    14.5600004196167,
                    14.449999809265137,
                    14.59000015258789,
                    14.710000038146973,
                    14.600000381469727,
                    14.609999656677246,
                    15.170000076293945,
                    15.100000381469727,
                    14.989999771118164,
                    14.949999809265137,
                    14.600000381469727,
                    14.720000267028809,
                    14.899999618530273,
                    14.739999771118164,
                    14.770000457763672,
                    14.869999885559082,
                    14.710000038146973,
                    14.630000114440918,
                    14.489999771118164,
                    14.300000190734863,
                    14.270000457763672,
                    14.199999809265137,
                    14.109999656677246,
                    14.020000457763672,
                    13.8100004196167,
                    13.430000305175781,
                    13.65999984741211
                  ]
                },
                {
                  "line": {
                    "color": "lightgreen"
                  },
                  "name": "BOVA11.SA",
                  "type": "scatter",
                  "x": [
                    "2022-08-18T00:00:00",
                    "2022-08-19T00:00:00",
                    "2022-08-22T00:00:00",
                    "2022-08-23T00:00:00",
                    "2022-08-24T00:00:00",
                    "2022-08-25T00:00:00",
                    "2022-08-26T00:00:00",
                    "2022-08-29T00:00:00",
                    "2022-08-30T00:00:00",
                    "2022-08-31T00:00:00",
                    "2022-09-01T00:00:00",
                    "2022-09-02T00:00:00",
                    "2022-09-05T00:00:00",
                    "2022-09-06T00:00:00",
                    "2022-09-08T00:00:00",
                    "2022-09-09T00:00:00",
                    "2022-09-12T00:00:00",
                    "2022-09-13T00:00:00",
                    "2022-09-14T00:00:00",
                    "2022-09-15T00:00:00",
                    "2022-09-16T00:00:00",
                    "2022-09-19T00:00:00",
                    "2022-09-20T00:00:00",
                    "2022-09-21T00:00:00",
                    "2022-09-22T00:00:00",
                    "2022-09-23T00:00:00",
                    "2022-09-26T00:00:00",
                    "2022-09-27T00:00:00",
                    "2022-09-28T00:00:00",
                    "2022-09-29T00:00:00",
                    "2022-09-30T00:00:00",
                    "2022-10-03T00:00:00",
                    "2022-10-04T00:00:00",
                    "2022-10-05T00:00:00",
                    "2022-10-06T00:00:00",
                    "2022-10-07T00:00:00",
                    "2022-10-10T00:00:00",
                    "2022-10-11T00:00:00",
                    "2022-10-13T00:00:00",
                    "2022-10-14T00:00:00",
                    "2022-10-17T00:00:00",
                    "2022-10-18T00:00:00",
                    "2022-10-19T00:00:00",
                    "2022-10-20T00:00:00",
                    "2022-10-21T00:00:00",
                    "2022-10-24T00:00:00",
                    "2022-10-25T00:00:00",
                    "2022-10-26T00:00:00",
                    "2022-10-27T00:00:00",
                    "2022-10-28T00:00:00",
                    "2022-10-31T00:00:00",
                    "2022-11-01T00:00:00",
                    "2022-11-03T00:00:00",
                    "2022-11-04T00:00:00",
                    "2022-11-07T00:00:00",
                    "2022-11-08T00:00:00",
                    "2022-11-09T00:00:00",
                    "2022-11-10T00:00:00",
                    "2022-11-11T00:00:00",
                    "2022-11-14T00:00:00",
                    "2022-11-16T00:00:00",
                    "2022-11-17T00:00:00",
                    "2022-11-18T00:00:00",
                    "2022-11-21T00:00:00",
                    "2022-11-22T00:00:00",
                    "2022-11-23T00:00:00",
                    "2022-11-24T00:00:00",
                    "2022-11-25T00:00:00",
                    "2022-11-28T00:00:00",
                    "2022-11-29T00:00:00",
                    "2022-11-30T00:00:00",
                    "2022-12-01T00:00:00",
                    "2022-12-02T00:00:00",
                    "2022-12-05T00:00:00",
                    "2022-12-06T00:00:00",
                    "2022-12-07T00:00:00",
                    "2022-12-08T00:00:00",
                    "2022-12-09T00:00:00",
                    "2022-12-12T00:00:00",
                    "2022-12-13T00:00:00",
                    "2022-12-14T00:00:00",
                    "2022-12-15T00:00:00",
                    "2022-12-16T00:00:00",
                    "2022-12-19T00:00:00",
                    "2022-12-20T00:00:00",
                    "2022-12-21T00:00:00",
                    "2022-12-22T00:00:00",
                    "2022-12-23T00:00:00",
                    "2022-12-26T00:00:00",
                    "2022-12-27T00:00:00",
                    "2022-12-28T00:00:00",
                    "2022-12-29T00:00:00",
                    "2023-01-02T00:00:00",
                    "2023-01-03T00:00:00",
                    "2023-01-04T00:00:00",
                    "2023-01-05T00:00:00",
                    "2023-01-06T00:00:00",
                    "2023-01-09T00:00:00",
                    "2023-01-10T00:00:00",
                    "2023-01-11T00:00:00",
                    "2023-01-12T00:00:00",
                    "2023-01-13T00:00:00",
                    "2023-01-16T00:00:00",
                    "2023-01-17T00:00:00",
                    "2023-01-18T00:00:00",
                    "2023-01-19T00:00:00",
                    "2023-01-20T00:00:00",
                    "2023-01-23T00:00:00",
                    "2023-01-24T00:00:00",
                    "2023-01-25T00:00:00",
                    "2023-01-26T00:00:00",
                    "2023-01-27T00:00:00",
                    "2023-01-30T00:00:00",
                    "2023-01-31T00:00:00",
                    "2023-02-01T00:00:00",
                    "2023-02-02T00:00:00",
                    "2023-02-03T00:00:00",
                    "2023-02-06T00:00:00",
                    "2023-02-07T00:00:00",
                    "2023-02-08T00:00:00",
                    "2023-02-09T00:00:00",
                    "2023-02-10T00:00:00",
                    "2023-02-13T00:00:00",
                    "2023-02-14T00:00:00",
                    "2023-02-15T00:00:00",
                    "2023-02-16T00:00:00",
                    "2023-02-17T00:00:00",
                    "2023-02-22T00:00:00",
                    "2023-02-23T00:00:00",
                    "2023-02-24T00:00:00",
                    "2023-02-27T00:00:00",
                    "2023-02-28T00:00:00",
                    "2023-03-01T00:00:00",
                    "2023-03-02T00:00:00",
                    "2023-03-03T00:00:00",
                    "2023-03-06T00:00:00",
                    "2023-03-07T00:00:00",
                    "2023-03-08T00:00:00",
                    "2023-03-09T00:00:00",
                    "2023-03-13T00:00:00",
                    "2023-03-14T00:00:00",
                    "2023-03-15T00:00:00",
                    "2023-03-16T00:00:00",
                    "2023-03-17T00:00:00",
                    "2023-03-20T00:00:00",
                    "2023-03-21T00:00:00",
                    "2023-03-22T00:00:00",
                    "2023-03-23T00:00:00",
                    "2023-03-24T00:00:00",
                    "2023-03-27T00:00:00",
                    "2023-03-28T00:00:00",
                    "2023-03-29T00:00:00",
                    "2023-03-30T00:00:00",
                    "2023-03-31T00:00:00",
                    "2023-04-03T00:00:00",
                    "2023-04-04T00:00:00",
                    "2023-04-05T00:00:00",
                    "2023-04-06T00:00:00",
                    "2023-04-10T00:00:00",
                    "2023-04-11T00:00:00",
                    "2023-04-12T00:00:00",
                    "2023-04-13T00:00:00",
                    "2023-04-14T00:00:00",
                    "2023-04-17T00:00:00",
                    "2023-04-18T00:00:00",
                    "2023-04-19T00:00:00",
                    "2023-04-20T00:00:00",
                    "2023-04-24T00:00:00",
                    "2023-04-25T00:00:00",
                    "2023-04-26T00:00:00",
                    "2023-04-27T00:00:00",
                    "2023-04-28T00:00:00",
                    "2023-05-02T00:00:00",
                    "2023-05-03T00:00:00",
                    "2023-05-04T00:00:00",
                    "2023-05-05T00:00:00",
                    "2023-05-08T00:00:00",
                    "2023-05-09T00:00:00",
                    "2023-05-10T00:00:00",
                    "2023-05-11T00:00:00",
                    "2023-05-12T00:00:00",
                    "2023-05-15T00:00:00",
                    "2023-05-16T00:00:00",
                    "2023-05-17T00:00:00",
                    "2023-05-18T00:00:00",
                    "2023-05-19T00:00:00",
                    "2023-05-22T00:00:00",
                    "2023-05-23T00:00:00",
                    "2023-05-24T00:00:00",
                    "2023-05-25T00:00:00",
                    "2023-05-26T00:00:00",
                    "2023-05-29T00:00:00",
                    "2023-05-30T00:00:00",
                    "2023-05-31T00:00:00",
                    "2023-06-01T00:00:00",
                    "2023-06-02T00:00:00",
                    "2023-06-05T00:00:00",
                    "2023-06-06T00:00:00",
                    "2023-06-07T00:00:00",
                    "2023-06-09T00:00:00",
                    "2023-06-12T00:00:00",
                    "2023-06-13T00:00:00",
                    "2023-06-14T00:00:00",
                    "2023-06-15T00:00:00",
                    "2023-06-16T00:00:00",
                    "2023-06-19T00:00:00",
                    "2023-06-20T00:00:00",
                    "2023-06-21T00:00:00",
                    "2023-06-22T00:00:00",
                    "2023-06-23T00:00:00",
                    "2023-06-26T00:00:00",
                    "2023-06-27T00:00:00",
                    "2023-06-28T00:00:00",
                    "2023-06-29T00:00:00",
                    "2023-06-30T00:00:00",
                    "2023-07-03T00:00:00",
                    "2023-07-04T00:00:00",
                    "2023-07-05T00:00:00",
                    "2023-07-06T00:00:00",
                    "2023-07-07T00:00:00",
                    "2023-07-10T00:00:00",
                    "2023-07-11T00:00:00",
                    "2023-07-12T00:00:00",
                    "2023-07-13T00:00:00",
                    "2023-07-14T00:00:00",
                    "2023-07-17T00:00:00",
                    "2023-07-18T00:00:00",
                    "2023-07-19T00:00:00",
                    "2023-07-20T00:00:00",
                    "2023-07-21T00:00:00",
                    "2023-07-24T00:00:00",
                    "2023-07-25T00:00:00",
                    "2023-07-26T00:00:00",
                    "2023-07-27T00:00:00",
                    "2023-07-28T00:00:00",
                    "2023-07-31T00:00:00",
                    "2023-08-01T00:00:00",
                    "2023-08-02T00:00:00",
                    "2023-08-03T00:00:00",
                    "2023-08-04T00:00:00",
                    "2023-08-07T00:00:00",
                    "2023-08-08T00:00:00",
                    "2023-08-09T00:00:00",
                    "2023-08-10T00:00:00",
                    "2023-08-11T00:00:00",
                    "2023-08-14T00:00:00",
                    "2023-08-15T00:00:00",
                    "2023-08-16T00:00:00",
                    "2023-08-17T00:00:00",
                    "2023-08-18T00:00:00"
                  ],
                  "y": [
                    109.94000244140625,
                    107.52999877929688,
                    106.7300033569336,
                    109.0999984741211,
                    109.18000030517578,
                    109.5999984741211,
                    108.36000061035156,
                    108.4000015258789,
                    106.4000015258789,
                    105.83000183105469,
                    106.58999633789062,
                    107.08999633789062,
                    108.44999694824219,
                    105.94999694824219,
                    106.18000030517578,
                    108.4000015258789,
                    109.55000305175781,
                    106.9800033569336,
                    106.75,
                    106.11000061035156,
                    105.5999984741211,
                    108.22000122070312,
                    108.8499984741211,
                    108.16000366210938,
                    110.12999725341797,
                    107.83999633789062,
                    105.12999725341797,
                    104.68000030517578,
                    104.81999969482422,
                    103.80000305175781,
                    106.45999908447266,
                    112.4000015258789,
                    112.3499984741211,
                    113.31999969482422,
                    113.47000122070312,
                    112.77999877929688,
                    112.08000183105469,
                    110.88999938964844,
                    110.26000213623047,
                    108.22000122070312,
                    109.9000015258789,
                    111.94000244140625,
                    112.3499984741211,
                    112.9000015258789,
                    116.43000030517578,
                    112.13999938964844,
                    110.4800033569336,
                    108.77999877929688,
                    110,
                    113,
                    112.1500015258789,
                    112.80999755859375,
                    113.0999984741211,
                    114,
                    111.22000122070312,
                    112.30000305175781,
                    109.75,
                    106.0999984741211,
                    108.55000305175781,
                    109.23999786376953,
                    106.04000091552734,
                    105.69000244140625,
                    104.8499984741211,
                    106.08000183105469,
                    105.06999969482422,
                    105.23999786376953,
                    108.19999694824219,
                    105.06999969482422,
                    105.1500015258789,
                    107.29000091552734,
                    108.58000183105469,
                    107.05999755859375,
                    107.94999694824219,
                    105.62999725341797,
                    106.73999786376953,
                    105.58999633789062,
                    103.56999969482422,
                    103.9000015258789,
                    101.80000305175781,
                    100.30000305175781,
                    100.69999694824219,
                    100.5,
                    99.4000015258789,
                    101.37000274658203,
                    103.55000305175781,
                    103.87000274658203,
                    103.93000030517578,
                    106,
                    105.1500015258789,
                    104.9000015258789,
                    106.80000305175781,
                    105.94999694824219,
                    102.62999725341797,
                    100.4800033569336,
                    101.91999816894531,
                    104.2699966430664,
                    105.5,
                    105.3499984741211,
                    107.18000030517578,
                    109.0999984741211,
                    108.26000213623047,
                    107.3499984741211,
                    105.47000122070312,
                    107.80000305175781,
                    108.33000183105469,
                    109.11000061035156,
                    108.44999694824219,
                    107.9000015258789,
                    109.43000030517578,
                    110.6500015258789,
                    110.41999816894531,
                    108.4000015258789,
                    108.69999694824219,
                    109.83999633789062,
                    108.4000015258789,
                    106.30000305175781,
                    104.87000274658203,
                    105.25,
                    104.0999984741211,
                    106.33999633789062,
                    104.44000244140625,
                    104.75,
                    105.47000122070312,
                    104.43000030517578,
                    106.05000305175781,
                    106.5,
                    105.55999755859375,
                    103.5999984741211,
                    104.1500015258789,
                    102.37999725341797,
                    102.29000091552734,
                    101.1500015258789,
                    101.19999694824219,
                    99.94000244140625,
                    100.41999816894531,
                    101.47000122070312,
                    100.9000015258789,
                    103.22000122070312,
                    101.55999755859375,
                    99.77999877929688,
                    99.58000183105469,
                    99.38999938964844,
                    100,
                    98.8499984741211,
                    97.69999694824219,
                    97.93000030517578,
                    97.02999877929688,
                    94.58000183105469,
                    95.86000061035156,
                    96.54000091552734,
                    98.02999877929688,
                    98.55000305175781,
                    100.47000122070312,
                    98.48999786376953,
                    98.30000305175781,
                    98.51000213623047,
                    97.62999725341797,
                    97.58999633789062,
                    98.66000366210938,
                    102.91000366210938,
                    103.3499984741211,
                    102.93000030517578,
                    103.04000091552734,
                    102.70999908447266,
                    102.69999694824219,
                    100.4800033569336,
                    101,
                    100.62000274658203,
                    99.91999816894531,
                    99.01000213623047,
                    99.52999877929688,
                    100.9000015258789,
                    98.48999786376953,
                    98.5999984741211,
                    98.94999694824219,
                    101.91000366210938,
                    102.48999786376953,
                    103.80000305175781,
                    103.97000122070312,
                    104.81999969482422,
                    105.05000305175781,
                    105.47000122070312,
                    104.62999725341797,
                    106.01000213623047,
                    106.75,
                    107.16000366210938,
                    106.55000305175781,
                    106.44000244140625,
                    105.2699966430664,
                    106.55000305175781,
                    107.51000213623047,
                    106.7699966430664,
                    105.37999725341797,
                    104.83999633789062,
                    107.19999694824219,
                    109.0199966430664,
                    109.13999938964844,
                    111.06999969482422,
                    111.77999877929688,
                    113.20999908447266,
                    113.63999938964844,
                    112.94000244140625,
                    115.11000061035156,
                    115.4000015258789,
                    114.9000015258789,
                    116.12999725341797,
                    115.81999969482422,
                    116.2699966430664,
                    115.26000213623047,
                    115.30999755859375,
                    114.41999816894531,
                    113.7699966430664,
                    113.02999877929688,
                    114.91000366210938,
                    114.16999816894531,
                    115.94000244140625,
                    115.23999786376953,
                    115.83999633789062,
                    113.63999938964844,
                    115.19000244140625,
                    114.0999984741211,
                    113.80000305175781,
                    113.83000183105469,
                    115.58000183105469,
                    113.95999908447266,
                    114.70999908447266,
                    113.94999694824219,
                    113.75,
                    114.33999633789062,
                    116.4000015258789,
                    117.56999969482422,
                    117.9800033569336,
                    118.73999786376953,
                    116.04000091552734,
                    116.5199966430664,
                    117.94999694824219,
                    117.5199966430664,
                    117.01000213623047,
                    116.70999908447266,
                    115.66000366210938,
                    115.61000061035156,
                    115.2699966430664,
                    114.69999694824219,
                    114.51000213623047,
                    114.25,
                    113.30999755859375,
                    112.37000274658203,
                    111.87000274658203,
                    111.36000061035156,
                    111.69999694824219
                  ]
                }
              ],
              "layout": {
                "template": {
                  "data": {
                    "bar": [
                      {
                        "error_x": {
                          "color": "#2a3f5f"
                        },
                        "error_y": {
                          "color": "#2a3f5f"
                        },
                        "marker": {
                          "line": {
                            "color": "#E5ECF6",
                            "width": 0.5
                          },
                          "pattern": {
                            "fillmode": "overlay",
                            "size": 10,
                            "solidity": 0.2
                          }
                        },
                        "type": "bar"
                      }
                    ],
                    "barpolar": [
                      {
                        "marker": {
                          "line": {
                            "color": "#E5ECF6",
                            "width": 0.5
                          },
                          "pattern": {
                            "fillmode": "overlay",
                            "size": 10,
                            "solidity": 0.2
                          }
                        },
                        "type": "barpolar"
                      }
                    ],
                    "carpet": [
                      {
                        "aaxis": {
                          "endlinecolor": "#2a3f5f",
                          "gridcolor": "white",
                          "linecolor": "white",
                          "minorgridcolor": "white",
                          "startlinecolor": "#2a3f5f"
                        },
                        "baxis": {
                          "endlinecolor": "#2a3f5f",
                          "gridcolor": "white",
                          "linecolor": "white",
                          "minorgridcolor": "white",
                          "startlinecolor": "#2a3f5f"
                        },
                        "type": "carpet"
                      }
                    ],
                    "choropleth": [
                      {
                        "colorbar": {
                          "outlinewidth": 0,
                          "ticks": ""
                        },
                        "type": "choropleth"
                      }
                    ],
                    "contour": [
                      {
                        "colorbar": {
                          "outlinewidth": 0,
                          "ticks": ""
                        },
                        "colorscale": [
                          [
                            0,
                            "#0d0887"
                          ],
                          [
                            0.1111111111111111,
                            "#46039f"
                          ],
                          [
                            0.2222222222222222,
                            "#7201a8"
                          ],
                          [
                            0.3333333333333333,
                            "#9c179e"
                          ],
                          [
                            0.4444444444444444,
                            "#bd3786"
                          ],
                          [
                            0.5555555555555556,
                            "#d8576b"
                          ],
                          [
                            0.6666666666666666,
                            "#ed7953"
                          ],
                          [
                            0.7777777777777778,
                            "#fb9f3a"
                          ],
                          [
                            0.8888888888888888,
                            "#fdca26"
                          ],
                          [
                            1,
                            "#f0f921"
                          ]
                        ],
                        "type": "contour"
                      }
                    ],
                    "contourcarpet": [
                      {
                        "colorbar": {
                          "outlinewidth": 0,
                          "ticks": ""
                        },
                        "type": "contourcarpet"
                      }
                    ],
                    "heatmap": [
                      {
                        "colorbar": {
                          "outlinewidth": 0,
                          "ticks": ""
                        },
                        "colorscale": [
                          [
                            0,
                            "#0d0887"
                          ],
                          [
                            0.1111111111111111,
                            "#46039f"
                          ],
                          [
                            0.2222222222222222,
                            "#7201a8"
                          ],
                          [
                            0.3333333333333333,
                            "#9c179e"
                          ],
                          [
                            0.4444444444444444,
                            "#bd3786"
                          ],
                          [
                            0.5555555555555556,
                            "#d8576b"
                          ],
                          [
                            0.6666666666666666,
                            "#ed7953"
                          ],
                          [
                            0.7777777777777778,
                            "#fb9f3a"
                          ],
                          [
                            0.8888888888888888,
                            "#fdca26"
                          ],
                          [
                            1,
                            "#f0f921"
                          ]
                        ],
                        "type": "heatmap"
                      }
                    ],
                    "heatmapgl": [
                      {
                        "colorbar": {
                          "outlinewidth": 0,
                          "ticks": ""
                        },
                        "colorscale": [
                          [
                            0,
                            "#0d0887"
                          ],
                          [
                            0.1111111111111111,
                            "#46039f"
                          ],
                          [
                            0.2222222222222222,
                            "#7201a8"
                          ],
                          [
                            0.3333333333333333,
                            "#9c179e"
                          ],
                          [
                            0.4444444444444444,
                            "#bd3786"
                          ],
                          [
                            0.5555555555555556,
                            "#d8576b"
                          ],
                          [
                            0.6666666666666666,
                            "#ed7953"
                          ],
                          [
                            0.7777777777777778,
                            "#fb9f3a"
                          ],
                          [
                            0.8888888888888888,
                            "#fdca26"
                          ],
                          [
                            1,
                            "#f0f921"
                          ]
                        ],
                        "type": "heatmapgl"
                      }
                    ],
                    "histogram": [
                      {
                        "marker": {
                          "pattern": {
                            "fillmode": "overlay",
                            "size": 10,
                            "solidity": 0.2
                          }
                        },
                        "type": "histogram"
                      }
                    ],
                    "histogram2d": [
                      {
                        "colorbar": {
                          "outlinewidth": 0,
                          "ticks": ""
                        },
                        "colorscale": [
                          [
                            0,
                            "#0d0887"
                          ],
                          [
                            0.1111111111111111,
                            "#46039f"
                          ],
                          [
                            0.2222222222222222,
                            "#7201a8"
                          ],
                          [
                            0.3333333333333333,
                            "#9c179e"
                          ],
                          [
                            0.4444444444444444,
                            "#bd3786"
                          ],
                          [
                            0.5555555555555556,
                            "#d8576b"
                          ],
                          [
                            0.6666666666666666,
                            "#ed7953"
                          ],
                          [
                            0.7777777777777778,
                            "#fb9f3a"
                          ],
                          [
                            0.8888888888888888,
                            "#fdca26"
                          ],
                          [
                            1,
                            "#f0f921"
                          ]
                        ],
                        "type": "histogram2d"
                      }
                    ],
                    "histogram2dcontour": [
                      {
                        "colorbar": {
                          "outlinewidth": 0,
                          "ticks": ""
                        },
                        "colorscale": [
                          [
                            0,
                            "#0d0887"
                          ],
                          [
                            0.1111111111111111,
                            "#46039f"
                          ],
                          [
                            0.2222222222222222,
                            "#7201a8"
                          ],
                          [
                            0.3333333333333333,
                            "#9c179e"
                          ],
                          [
                            0.4444444444444444,
                            "#bd3786"
                          ],
                          [
                            0.5555555555555556,
                            "#d8576b"
                          ],
                          [
                            0.6666666666666666,
                            "#ed7953"
                          ],
                          [
                            0.7777777777777778,
                            "#fb9f3a"
                          ],
                          [
                            0.8888888888888888,
                            "#fdca26"
                          ],
                          [
                            1,
                            "#f0f921"
                          ]
                        ],
                        "type": "histogram2dcontour"
                      }
                    ],
                    "mesh3d": [
                      {
                        "colorbar": {
                          "outlinewidth": 0,
                          "ticks": ""
                        },
                        "type": "mesh3d"
                      }
                    ],
                    "parcoords": [
                      {
                        "line": {
                          "colorbar": {
                            "outlinewidth": 0,
                            "ticks": ""
                          }
                        },
                        "type": "parcoords"
                      }
                    ],
                    "pie": [
                      {
                        "automargin": true,
                        "type": "pie"
                      }
                    ],
                    "scatter": [
                      {
                        "fillpattern": {
                          "fillmode": "overlay",
                          "size": 10,
                          "solidity": 0.2
                        },
                        "type": "scatter"
                      }
                    ],
                    "scatter3d": [
                      {
                        "line": {
                          "colorbar": {
                            "outlinewidth": 0,
                            "ticks": ""
                          }
                        },
                        "marker": {
                          "colorbar": {
                            "outlinewidth": 0,
                            "ticks": ""
                          }
                        },
                        "type": "scatter3d"
                      }
                    ],
                    "scattercarpet": [
                      {
                        "marker": {
                          "colorbar": {
                            "outlinewidth": 0,
                            "ticks": ""
                          }
                        },
                        "type": "scattercarpet"
                      }
                    ],
                    "scattergeo": [
                      {
                        "marker": {
                          "colorbar": {
                            "outlinewidth": 0,
                            "ticks": ""
                          }
                        },
                        "type": "scattergeo"
                      }
                    ],
                    "scattergl": [
                      {
                        "marker": {
                          "colorbar": {
                            "outlinewidth": 0,
                            "ticks": ""
                          }
                        },
                        "type": "scattergl"
                      }
                    ],
                    "scattermapbox": [
                      {
                        "marker": {
                          "colorbar": {
                            "outlinewidth": 0,
                            "ticks": ""
                          }
                        },
                        "type": "scattermapbox"
                      }
                    ],
                    "scatterpolar": [
                      {
                        "marker": {
                          "colorbar": {
                            "outlinewidth": 0,
                            "ticks": ""
                          }
                        },
                        "type": "scatterpolar"
                      }
                    ],
                    "scatterpolargl": [
                      {
                        "marker": {
                          "colorbar": {
                            "outlinewidth": 0,
                            "ticks": ""
                          }
                        },
                        "type": "scatterpolargl"
                      }
                    ],
                    "scatterternary": [
                      {
                        "marker": {
                          "colorbar": {
                            "outlinewidth": 0,
                            "ticks": ""
                          }
                        },
                        "type": "scatterternary"
                      }
                    ],
                    "surface": [
                      {
                        "colorbar": {
                          "outlinewidth": 0,
                          "ticks": ""
                        },
                        "colorscale": [
                          [
                            0,
                            "#0d0887"
                          ],
                          [
                            0.1111111111111111,
                            "#46039f"
                          ],
                          [
                            0.2222222222222222,
                            "#7201a8"
                          ],
                          [
                            0.3333333333333333,
                            "#9c179e"
                          ],
                          [
                            0.4444444444444444,
                            "#bd3786"
                          ],
                          [
                            0.5555555555555556,
                            "#d8576b"
                          ],
                          [
                            0.6666666666666666,
                            "#ed7953"
                          ],
                          [
                            0.7777777777777778,
                            "#fb9f3a"
                          ],
                          [
                            0.8888888888888888,
                            "#fdca26"
                          ],
                          [
                            1,
                            "#f0f921"
                          ]
                        ],
                        "type": "surface"
                      }
                    ],
                    "table": [
                      {
                        "cells": {
                          "fill": {
                            "color": "#EBF0F8"
                          },
                          "line": {
                            "color": "white"
                          }
                        },
                        "header": {
                          "fill": {
                            "color": "#C8D4E3"
                          },
                          "line": {
                            "color": "white"
                          }
                        },
                        "type": "table"
                      }
                    ]
                  },
                  "layout": {
                    "annotationdefaults": {
                      "arrowcolor": "#2a3f5f",
                      "arrowhead": 0,
                      "arrowwidth": 1
                    },
                    "autotypenumbers": "strict",
                    "coloraxis": {
                      "colorbar": {
                        "outlinewidth": 0,
                        "ticks": ""
                      }
                    },
                    "colorscale": {
                      "diverging": [
                        [
                          0,
                          "#8e0152"
                        ],
                        [
                          0.1,
                          "#c51b7d"
                        ],
                        [
                          0.2,
                          "#de77ae"
                        ],
                        [
                          0.3,
                          "#f1b6da"
                        ],
                        [
                          0.4,
                          "#fde0ef"
                        ],
                        [
                          0.5,
                          "#f7f7f7"
                        ],
                        [
                          0.6,
                          "#e6f5d0"
                        ],
                        [
                          0.7,
                          "#b8e186"
                        ],
                        [
                          0.8,
                          "#7fbc41"
                        ],
                        [
                          0.9,
                          "#4d9221"
                        ],
                        [
                          1,
                          "#276419"
                        ]
                      ],
                      "sequential": [
                        [
                          0,
                          "#0d0887"
                        ],
                        [
                          0.1111111111111111,
                          "#46039f"
                        ],
                        [
                          0.2222222222222222,
                          "#7201a8"
                        ],
                        [
                          0.3333333333333333,
                          "#9c179e"
                        ],
                        [
                          0.4444444444444444,
                          "#bd3786"
                        ],
                        [
                          0.5555555555555556,
                          "#d8576b"
                        ],
                        [
                          0.6666666666666666,
                          "#ed7953"
                        ],
                        [
                          0.7777777777777778,
                          "#fb9f3a"
                        ],
                        [
                          0.8888888888888888,
                          "#fdca26"
                        ],
                        [
                          1,
                          "#f0f921"
                        ]
                      ],
                      "sequentialminus": [
                        [
                          0,
                          "#0d0887"
                        ],
                        [
                          0.1111111111111111,
                          "#46039f"
                        ],
                        [
                          0.2222222222222222,
                          "#7201a8"
                        ],
                        [
                          0.3333333333333333,
                          "#9c179e"
                        ],
                        [
                          0.4444444444444444,
                          "#bd3786"
                        ],
                        [
                          0.5555555555555556,
                          "#d8576b"
                        ],
                        [
                          0.6666666666666666,
                          "#ed7953"
                        ],
                        [
                          0.7777777777777778,
                          "#fb9f3a"
                        ],
                        [
                          0.8888888888888888,
                          "#fdca26"
                        ],
                        [
                          1,
                          "#f0f921"
                        ]
                      ]
                    },
                    "colorway": [
                      "#636efa",
                      "#EF553B",
                      "#00cc96",
                      "#ab63fa",
                      "#FFA15A",
                      "#19d3f3",
                      "#FF6692",
                      "#B6E880",
                      "#FF97FF",
                      "#FECB52"
                    ],
                    "font": {
                      "color": "#2a3f5f"
                    },
                    "geo": {
                      "bgcolor": "white",
                      "lakecolor": "white",
                      "landcolor": "#E5ECF6",
                      "showlakes": true,
                      "showland": true,
                      "subunitcolor": "white"
                    },
                    "hoverlabel": {
                      "align": "left"
                    },
                    "hovermode": "closest",
                    "mapbox": {
                      "style": "light"
                    },
                    "paper_bgcolor": "white",
                    "plot_bgcolor": "#E5ECF6",
                    "polar": {
                      "angularaxis": {
                        "gridcolor": "white",
                        "linecolor": "white",
                        "ticks": ""
                      },
                      "bgcolor": "#E5ECF6",
                      "radialaxis": {
                        "gridcolor": "white",
                        "linecolor": "white",
                        "ticks": ""
                      }
                    },
                    "scene": {
                      "xaxis": {
                        "backgroundcolor": "#E5ECF6",
                        "gridcolor": "white",
                        "gridwidth": 2,
                        "linecolor": "white",
                        "showbackground": true,
                        "ticks": "",
                        "zerolinecolor": "white"
                      },
                      "yaxis": {
                        "backgroundcolor": "#E5ECF6",
                        "gridcolor": "white",
                        "gridwidth": 2,
                        "linecolor": "white",
                        "showbackground": true,
                        "ticks": "",
                        "zerolinecolor": "white"
                      },
                      "zaxis": {
                        "backgroundcolor": "#E5ECF6",
                        "gridcolor": "white",
                        "gridwidth": 2,
                        "linecolor": "white",
                        "showbackground": true,
                        "ticks": "",
                        "zerolinecolor": "white"
                      }
                    },
                    "shapedefaults": {
                      "line": {
                        "color": "#2a3f5f"
                      }
                    },
                    "ternary": {
                      "aaxis": {
                        "gridcolor": "white",
                        "linecolor": "white",
                        "ticks": ""
                      },
                      "baxis": {
                        "gridcolor": "white",
                        "linecolor": "white",
                        "ticks": ""
                      },
                      "bgcolor": "#E5ECF6",
                      "caxis": {
                        "gridcolor": "white",
                        "linecolor": "white",
                        "ticks": ""
                      }
                    },
                    "title": {
                      "x": 0.05
                    },
                    "xaxis": {
                      "automargin": true,
                      "gridcolor": "white",
                      "linecolor": "white",
                      "ticks": "",
                      "title": {
                        "standoff": 15
                      },
                      "zerolinecolor": "white",
                      "zerolinewidth": 2
                    },
                    "yaxis": {
                      "automargin": true,
                      "gridcolor": "white",
                      "linecolor": "white",
                      "ticks": "",
                      "title": {
                        "standoff": 15
                      },
                      "zerolinecolor": "white",
                      "zerolinewidth": 2
                    }
                  }
                }
              }
            }
          },
          "metadata": {},
          "output_type": "display_data"
        }
      ],
      "source": [
        "trace1 = go.Scatter( x = X.index,  y = X ,\n",
        "                    name = X.name,\n",
        "                    line=dict(color='steelblue'))\n",
        "\n",
        "trace2 = go.Scatter( x = Y.index,  y = Y ,\n",
        "                    name = Y.name , \n",
        "                    line=dict(color='lightgreen'))\n",
        "\n",
        "fig = go.Figure(data=[trace1,trace2] )\n",
        "\n",
        "fig.show()"
      ]
    },
    {
      "cell_type": "code",
      "execution_count": null,
      "metadata": {},
      "outputs": [
        {
          "data": {
            "text/plain": [
              "(Date\n",
              " 2022-08-18    64.172872\n",
              " 2022-08-19    62.973825\n",
              " 2022-08-22    62.921778\n",
              " 2022-08-23    64.828755\n",
              " 2022-08-24    64.801904\n",
              "                 ...    \n",
              " 2023-08-14    61.508468\n",
              " 2023-08-15    60.898884\n",
              " 2023-08-16    61.169850\n",
              " 2023-08-17    62.054928\n",
              " 2023-08-18    61.550536\n",
              " Length: 250, dtype: float64, 3.6712636789574873)"
            ]
          },
          "execution_count": 146,
          "metadata": {},
          "output_type": "execute_result"
        }
      ],
      "source": [
        "residuos(X,Y)"
      ]
    },
    {
      "cell_type": "code",
      "execution_count": null,
      "metadata": {
        "colab": {
          "base_uri": "https://localhost:8080/",
          "height": 517
        },
        "id": "p4EeqhARD-Ln",
        "outputId": "46275d9c-75e1-4536-e897-b41b361a45b6"
      },
      "outputs": [
        {
          "data": {
            "application/vnd.plotly.v1+json": {
              "config": {
                "plotlyServerURL": "https://plot.ly"
              },
              "data": [
                {
                  "line": {
                    "color": "steelblue"
                  },
                  "name": "resíduo (spread)",
                  "type": "scatter",
                  "x": [
                    "2022-08-18T00:00:00",
                    "2022-08-19T00:00:00",
                    "2022-08-22T00:00:00",
                    "2022-08-23T00:00:00",
                    "2022-08-24T00:00:00",
                    "2022-08-25T00:00:00",
                    "2022-08-26T00:00:00",
                    "2022-08-29T00:00:00",
                    "2022-08-30T00:00:00",
                    "2022-08-31T00:00:00",
                    "2022-09-01T00:00:00",
                    "2022-09-02T00:00:00",
                    "2022-09-05T00:00:00",
                    "2022-09-06T00:00:00",
                    "2022-09-08T00:00:00",
                    "2022-09-09T00:00:00",
                    "2022-09-12T00:00:00",
                    "2022-09-13T00:00:00",
                    "2022-09-14T00:00:00",
                    "2022-09-15T00:00:00",
                    "2022-09-16T00:00:00",
                    "2022-09-19T00:00:00",
                    "2022-09-20T00:00:00",
                    "2022-09-21T00:00:00",
                    "2022-09-22T00:00:00",
                    "2022-09-23T00:00:00",
                    "2022-09-26T00:00:00",
                    "2022-09-27T00:00:00",
                    "2022-09-28T00:00:00",
                    "2022-09-29T00:00:00",
                    "2022-09-30T00:00:00",
                    "2022-10-03T00:00:00",
                    "2022-10-04T00:00:00",
                    "2022-10-05T00:00:00",
                    "2022-10-06T00:00:00",
                    "2022-10-07T00:00:00",
                    "2022-10-10T00:00:00",
                    "2022-10-11T00:00:00",
                    "2022-10-13T00:00:00",
                    "2022-10-14T00:00:00",
                    "2022-10-17T00:00:00",
                    "2022-10-18T00:00:00",
                    "2022-10-19T00:00:00",
                    "2022-10-20T00:00:00",
                    "2022-10-21T00:00:00",
                    "2022-10-24T00:00:00",
                    "2022-10-25T00:00:00",
                    "2022-10-26T00:00:00",
                    "2022-10-27T00:00:00",
                    "2022-10-28T00:00:00",
                    "2022-10-31T00:00:00",
                    "2022-11-01T00:00:00",
                    "2022-11-03T00:00:00",
                    "2022-11-04T00:00:00",
                    "2022-11-07T00:00:00",
                    "2022-11-08T00:00:00",
                    "2022-11-09T00:00:00",
                    "2022-11-10T00:00:00",
                    "2022-11-11T00:00:00",
                    "2022-11-14T00:00:00",
                    "2022-11-16T00:00:00",
                    "2022-11-17T00:00:00",
                    "2022-11-18T00:00:00",
                    "2022-11-21T00:00:00",
                    "2022-11-22T00:00:00",
                    "2022-11-23T00:00:00",
                    "2022-11-24T00:00:00",
                    "2022-11-25T00:00:00",
                    "2022-11-28T00:00:00",
                    "2022-11-29T00:00:00",
                    "2022-11-30T00:00:00",
                    "2022-12-01T00:00:00",
                    "2022-12-02T00:00:00",
                    "2022-12-05T00:00:00",
                    "2022-12-06T00:00:00",
                    "2022-12-07T00:00:00",
                    "2022-12-08T00:00:00",
                    "2022-12-09T00:00:00",
                    "2022-12-12T00:00:00",
                    "2022-12-13T00:00:00",
                    "2022-12-14T00:00:00",
                    "2022-12-15T00:00:00",
                    "2022-12-16T00:00:00",
                    "2022-12-19T00:00:00",
                    "2022-12-20T00:00:00",
                    "2022-12-21T00:00:00",
                    "2022-12-22T00:00:00",
                    "2022-12-23T00:00:00",
                    "2022-12-26T00:00:00",
                    "2022-12-27T00:00:00",
                    "2022-12-28T00:00:00",
                    "2022-12-29T00:00:00",
                    "2023-01-02T00:00:00",
                    "2023-01-03T00:00:00",
                    "2023-01-04T00:00:00",
                    "2023-01-05T00:00:00",
                    "2023-01-06T00:00:00",
                    "2023-01-09T00:00:00",
                    "2023-01-10T00:00:00",
                    "2023-01-11T00:00:00",
                    "2023-01-12T00:00:00",
                    "2023-01-13T00:00:00",
                    "2023-01-16T00:00:00",
                    "2023-01-17T00:00:00",
                    "2023-01-18T00:00:00",
                    "2023-01-19T00:00:00",
                    "2023-01-20T00:00:00",
                    "2023-01-23T00:00:00",
                    "2023-01-24T00:00:00",
                    "2023-01-25T00:00:00",
                    "2023-01-26T00:00:00",
                    "2023-01-27T00:00:00",
                    "2023-01-30T00:00:00",
                    "2023-01-31T00:00:00",
                    "2023-02-01T00:00:00",
                    "2023-02-02T00:00:00",
                    "2023-02-03T00:00:00",
                    "2023-02-06T00:00:00",
                    "2023-02-07T00:00:00",
                    "2023-02-08T00:00:00",
                    "2023-02-09T00:00:00",
                    "2023-02-10T00:00:00",
                    "2023-02-13T00:00:00",
                    "2023-02-14T00:00:00",
                    "2023-02-15T00:00:00",
                    "2023-02-16T00:00:00",
                    "2023-02-17T00:00:00",
                    "2023-02-22T00:00:00",
                    "2023-02-23T00:00:00",
                    "2023-02-24T00:00:00",
                    "2023-02-27T00:00:00",
                    "2023-02-28T00:00:00",
                    "2023-03-01T00:00:00",
                    "2023-03-02T00:00:00",
                    "2023-03-03T00:00:00",
                    "2023-03-06T00:00:00",
                    "2023-03-07T00:00:00",
                    "2023-03-08T00:00:00",
                    "2023-03-09T00:00:00",
                    "2023-03-13T00:00:00",
                    "2023-03-14T00:00:00",
                    "2023-03-15T00:00:00",
                    "2023-03-16T00:00:00",
                    "2023-03-17T00:00:00",
                    "2023-03-20T00:00:00",
                    "2023-03-21T00:00:00",
                    "2023-03-22T00:00:00",
                    "2023-03-23T00:00:00",
                    "2023-03-24T00:00:00",
                    "2023-03-27T00:00:00",
                    "2023-03-28T00:00:00",
                    "2023-03-29T00:00:00",
                    "2023-03-30T00:00:00",
                    "2023-03-31T00:00:00",
                    "2023-04-03T00:00:00",
                    "2023-04-04T00:00:00",
                    "2023-04-05T00:00:00",
                    "2023-04-06T00:00:00",
                    "2023-04-10T00:00:00",
                    "2023-04-11T00:00:00",
                    "2023-04-12T00:00:00",
                    "2023-04-13T00:00:00",
                    "2023-04-14T00:00:00",
                    "2023-04-17T00:00:00",
                    "2023-04-18T00:00:00",
                    "2023-04-19T00:00:00",
                    "2023-04-20T00:00:00",
                    "2023-04-24T00:00:00",
                    "2023-04-25T00:00:00",
                    "2023-04-26T00:00:00",
                    "2023-04-27T00:00:00",
                    "2023-04-28T00:00:00",
                    "2023-05-02T00:00:00",
                    "2023-05-03T00:00:00",
                    "2023-05-04T00:00:00",
                    "2023-05-05T00:00:00",
                    "2023-05-08T00:00:00",
                    "2023-05-09T00:00:00",
                    "2023-05-10T00:00:00",
                    "2023-05-11T00:00:00",
                    "2023-05-12T00:00:00",
                    "2023-05-15T00:00:00",
                    "2023-05-16T00:00:00",
                    "2023-05-17T00:00:00",
                    "2023-05-18T00:00:00",
                    "2023-05-19T00:00:00",
                    "2023-05-22T00:00:00",
                    "2023-05-23T00:00:00",
                    "2023-05-24T00:00:00",
                    "2023-05-25T00:00:00",
                    "2023-05-26T00:00:00",
                    "2023-05-29T00:00:00",
                    "2023-05-30T00:00:00",
                    "2023-05-31T00:00:00",
                    "2023-06-01T00:00:00",
                    "2023-06-02T00:00:00",
                    "2023-06-05T00:00:00",
                    "2023-06-06T00:00:00",
                    "2023-06-07T00:00:00",
                    "2023-06-09T00:00:00",
                    "2023-06-12T00:00:00",
                    "2023-06-13T00:00:00",
                    "2023-06-14T00:00:00",
                    "2023-06-15T00:00:00",
                    "2023-06-16T00:00:00",
                    "2023-06-19T00:00:00",
                    "2023-06-20T00:00:00",
                    "2023-06-21T00:00:00",
                    "2023-06-22T00:00:00",
                    "2023-06-23T00:00:00",
                    "2023-06-26T00:00:00",
                    "2023-06-27T00:00:00",
                    "2023-06-28T00:00:00",
                    "2023-06-29T00:00:00",
                    "2023-06-30T00:00:00",
                    "2023-07-03T00:00:00",
                    "2023-07-04T00:00:00",
                    "2023-07-05T00:00:00",
                    "2023-07-06T00:00:00",
                    "2023-07-07T00:00:00",
                    "2023-07-10T00:00:00",
                    "2023-07-11T00:00:00",
                    "2023-07-12T00:00:00",
                    "2023-07-13T00:00:00",
                    "2023-07-14T00:00:00",
                    "2023-07-17T00:00:00",
                    "2023-07-18T00:00:00",
                    "2023-07-19T00:00:00",
                    "2023-07-20T00:00:00",
                    "2023-07-21T00:00:00",
                    "2023-07-24T00:00:00",
                    "2023-07-25T00:00:00",
                    "2023-07-26T00:00:00",
                    "2023-07-27T00:00:00",
                    "2023-07-28T00:00:00",
                    "2023-07-31T00:00:00",
                    "2023-08-01T00:00:00",
                    "2023-08-02T00:00:00",
                    "2023-08-03T00:00:00",
                    "2023-08-04T00:00:00",
                    "2023-08-07T00:00:00",
                    "2023-08-08T00:00:00",
                    "2023-08-09T00:00:00",
                    "2023-08-10T00:00:00",
                    "2023-08-11T00:00:00",
                    "2023-08-14T00:00:00",
                    "2023-08-15T00:00:00",
                    "2023-08-16T00:00:00",
                    "2023-08-17T00:00:00",
                    "2023-08-18T00:00:00"
                  ],
                  "xaxis": "x",
                  "y": [
                    1.6001142496785747,
                    1.0624914380968289,
                    1.039154982039384,
                    1.8941957821077815,
                    1.8821564713222598,
                    1.5754190365697578,
                    1.562399203027354,
                    1.7240603133097308,
                    1.0668546130371748,
                    1.3542421022242723,
                    1.29576610444539,
                    0.6576025823541062,
                    0.9320329623563036,
                    0.545690732154058,
                    -0.3253212952031157,
                    0.7499189494681832,
                    0.7864652817072599,
                    0.22501280690518458,
                    0.2815823531590974,
                    0.34595103181721015,
                    0.4047301941197459,
                    0.2380357801399628,
                    -0.15021223263361158,
                    0.051438628766764034,
                    0.7431019096670496,
                    -0.3365042590953763,
                    -0.7160323325374751,
                    -0.7249786692185797,
                    -0.8228896121988948,
                    -0.8785195774776116,
                    -0.40892900588417214,
                    0.9207272299976715,
                    -0.06580921692106256,
                    -0.032600661176925026,
                    -0.1260331752107202,
                    -0.38720464774429014,
                    -0.7653400267564902,
                    -0.511547936093662,
                    -0.07093142437419432,
                    -0.969551130757777,
                    -0.6340625059726962,
                    0.5216509104252272,
                    0.3037671120707961,
                    0.952090547812576,
                    1.5225323336130983,
                    0.5470503396429361,
                    0.10805165223524914,
                    0.4224093901612066,
                    -0.1553735738857773,
                    0.7076910579454346,
                    -1.0553281119237057,
                    -0.8879492128402674,
                    -1.1757047734174866,
                    -1.1256754976272545,
                    -1.8900986409977325,
                    -1.45405803298412,
                    -2.4527984080943632,
                    -0.9881274632047055,
                    1.2834013704457299,
                    1.7695346601041793,
                    0.44721691794434415,
                    1.4954321347288313,
                    0.7652847908800406,
                    1.0275512967111486,
                    0.6711020722145504,
                    0.7473250096952974,
                    0.997918941469461,
                    0.5746915384976256,
                    0.5623555267827933,
                    0.7666546864662921,
                    1.0558241704708735,
                    0.8884874482445766,
                    0.8215509665722155,
                    0.6650941557762473,
                    1.114585467953503,
                    0.4864724272915485,
                    0.400255287365641,
                    0.5482198748260229,
                    0.0726229566404675,
                    -0.5035290844659939,
                    -0.9508581195681586,
                    -0.6388144013918846,
                    -0.8588589069752195,
                    -1.1485689901613472,
                    -1.0227465215460485,
                    -0.7828576785461945,
                    -0.3703078559664596,
                    -1.1394657890326565,
                    -1.6332847248640294,
                    -0.9886655299051876,
                    -0.8612629535621803,
                    -0.9364795451253064,
                    -0.9754509286897151,
                    -1.2761333113427253,
                    -0.7760835090422343,
                    -0.3210102945556917,
                    -0.23868740788800813,
                    -0.03090729760676374,
                    0.07776212234340507,
                    -0.015895727542525592,
                    -0.2631000188809868,
                    -0.33137213498371554,
                    -0.8345667458210924,
                    0.11307650244223105,
                    0.23746602763032587,
                    0.765160492481328,
                    0.7928033040478697,
                    0.7403435268800543,
                    1.1189636541810692,
                    1.2291579322738881,
                    1.1098529006805944,
                    0.8674580430134224,
                    0.743111858197875,
                    1.1086511980317841,
                    0.5438860565261171,
                    -0.5433072375798612,
                    0.2554121935699841,
                    0.42579348102638676,
                    0.2660895757394691,
                    0.8983402387520958,
                    0.8068261972235945,
                    0.7031404158482323,
                    0.8318281211731352,
                    1.1420923101809282,
                    1.6257801703158246,
                    2.183477230520672,
                    2.312076122978748,
                    1.7244757525938588,
                    2.0843336721240293,
                    1.864205696980208,
                    1.5478777645399489,
                    1.0529642607584206,
                    1.1565498578436013,
                    0.4454941733829938,
                    0.7743503074326017,
                    0.5308529043716864,
                    0.1291736781653323,
                    0.1953721824504945,
                    -0.43529558642770366,
                    -0.8600225615827908,
                    -1.0958002179876671,
                    -1.3433335060016391,
                    -1.5893101028162269,
                    -1.1958425977173366,
                    -1.516669236233984,
                    -1.3973061203317767,
                    -1.5898036471138393,
                    -1.6818189778568051,
                    -1.3351739430361702,
                    -1.0789816803827126,
                    -0.5570078286510781,
                    -0.17729161689275552,
                    0.24278583754819946,
                    0.08966934104405225,
                    -0.37101581123140165,
                    -0.6850064809037836,
                    -1.0142746826062392,
                    -0.8852772015540241,
                    -0.7483576023058696,
                    -0.0182346379141983,
                    -0.19644816109283555,
                    -0.18885433631464954,
                    -0.5150305959697055,
                    -0.7446256152981691,
                    -0.5368718287108976,
                    -1.042482114436061,
                    -0.9236102563701574,
                    -1.2572508377165363,
                    -1.636419456657438,
                    -1.1465105020544555,
                    -1.2888532002432787,
                    -1.0010998778780607,
                    -1.510275506708574,
                    -1.754821334495545,
                    -2.1203214335584257,
                    -1.8706424409733942,
                    -1.5289570800045198,
                    -1.1374971029161298,
                    -1.0449477650925303,
                    -1.0393258758209682,
                    -1.0178285410508665,
                    -1.1070543675433215,
                    -1.1734974309928103,
                    -1.3873621124629212,
                    -1.333106489980076,
                    -1.2635543100836635,
                    -1.2595224075806737,
                    -1.0149750099475154,
                    -0.9681665347564723,
                    -0.9166758496116781,
                    -1.2698830206808835,
                    -1.3894445256729244,
                    -1.7188197842486024,
                    -1.9119635206560792,
                    -2.4537445468663526,
                    -1.8336141874895344,
                    -1.8451119815300374,
                    -0.8981175665559894,
                    -1.118528774337701,
                    -0.4120482846476374,
                    -0.5457654641450131,
                    -0.3861735795572684,
                    -0.4090858456870976,
                    0.5535677689173032,
                    0.47631470736948545,
                    0.7339451762731543,
                    0.7092332380290935,
                    1.0579335356911719,
                    1.323421545085311,
                    0.9703388864266314,
                    1.191672880264409,
                    0.8839020133320553,
                    0.5432938876050488,
                    0.2504291973245215,
                    -0.031986581241300126,
                    0.23488513396106075,
                    0.23378100234411311,
                    0.5192667552223568,
                    0.4381984272874182,
                    0.836883644099361,
                    0.8090614711904621,
                    0.9214658360629255,
                    0.408164071318635,
                    0.6825277769733814,
                    0.13723130323701266,
                    0.24305760057838982,
                    -0.29524057100504525,
                    -0.20384344392387882,
                    0.04423635623944681,
                    0.04607289472632812,
                    0.685897592201397,
                    1.05080534322334,
                    1.4574119767496372,
                    0.8229358308061093,
                    0.8406217632442307,
                    1.1855007425714474,
                    1.2560755687428358,
                    0.9780225349558386,
                    0.6788992900484633,
                    0.47148377462415025,
                    0.5807517710249602,
                    0.6587574653036288,
                    0.7159427096564889,
                    0.6801364278419366,
                    0.678786236998355,
                    0.40546211978528796,
                    0.13213985355618713,
                    0.25363402879743874,
                    0.65048113727631,
                    0.42432406767177094
                  ],
                  "yaxis": "y"
                },
                {
                  "line": {
                    "color": "steelblue"
                  },
                  "name": "Ratio B3SA3.SA/BOVA11.SA",
                  "type": "scatter",
                  "x": [
                    "2022-08-18T00:00:00",
                    "2022-08-19T00:00:00",
                    "2022-08-22T00:00:00",
                    "2022-08-23T00:00:00",
                    "2022-08-24T00:00:00",
                    "2022-08-25T00:00:00",
                    "2022-08-26T00:00:00",
                    "2022-08-29T00:00:00",
                    "2022-08-30T00:00:00",
                    "2022-08-31T00:00:00",
                    "2022-09-01T00:00:00",
                    "2022-09-02T00:00:00",
                    "2022-09-05T00:00:00",
                    "2022-09-06T00:00:00",
                    "2022-09-08T00:00:00",
                    "2022-09-09T00:00:00",
                    "2022-09-12T00:00:00",
                    "2022-09-13T00:00:00",
                    "2022-09-14T00:00:00",
                    "2022-09-15T00:00:00",
                    "2022-09-16T00:00:00",
                    "2022-09-19T00:00:00",
                    "2022-09-20T00:00:00",
                    "2022-09-21T00:00:00",
                    "2022-09-22T00:00:00",
                    "2022-09-23T00:00:00",
                    "2022-09-26T00:00:00",
                    "2022-09-27T00:00:00",
                    "2022-09-28T00:00:00",
                    "2022-09-29T00:00:00",
                    "2022-09-30T00:00:00",
                    "2022-10-03T00:00:00",
                    "2022-10-04T00:00:00",
                    "2022-10-05T00:00:00",
                    "2022-10-06T00:00:00",
                    "2022-10-07T00:00:00",
                    "2022-10-10T00:00:00",
                    "2022-10-11T00:00:00",
                    "2022-10-13T00:00:00",
                    "2022-10-14T00:00:00",
                    "2022-10-17T00:00:00",
                    "2022-10-18T00:00:00",
                    "2022-10-19T00:00:00",
                    "2022-10-20T00:00:00",
                    "2022-10-21T00:00:00",
                    "2022-10-24T00:00:00",
                    "2022-10-25T00:00:00",
                    "2022-10-26T00:00:00",
                    "2022-10-27T00:00:00",
                    "2022-10-28T00:00:00",
                    "2022-10-31T00:00:00",
                    "2022-11-01T00:00:00",
                    "2022-11-03T00:00:00",
                    "2022-11-04T00:00:00",
                    "2022-11-07T00:00:00",
                    "2022-11-08T00:00:00",
                    "2022-11-09T00:00:00",
                    "2022-11-10T00:00:00",
                    "2022-11-11T00:00:00",
                    "2022-11-14T00:00:00",
                    "2022-11-16T00:00:00",
                    "2022-11-17T00:00:00",
                    "2022-11-18T00:00:00",
                    "2022-11-21T00:00:00",
                    "2022-11-22T00:00:00",
                    "2022-11-23T00:00:00",
                    "2022-11-24T00:00:00",
                    "2022-11-25T00:00:00",
                    "2022-11-28T00:00:00",
                    "2022-11-29T00:00:00",
                    "2022-11-30T00:00:00",
                    "2022-12-01T00:00:00",
                    "2022-12-02T00:00:00",
                    "2022-12-05T00:00:00",
                    "2022-12-06T00:00:00",
                    "2022-12-07T00:00:00",
                    "2022-12-08T00:00:00",
                    "2022-12-09T00:00:00",
                    "2022-12-12T00:00:00",
                    "2022-12-13T00:00:00",
                    "2022-12-14T00:00:00",
                    "2022-12-15T00:00:00",
                    "2022-12-16T00:00:00",
                    "2022-12-19T00:00:00",
                    "2022-12-20T00:00:00",
                    "2022-12-21T00:00:00",
                    "2022-12-22T00:00:00",
                    "2022-12-23T00:00:00",
                    "2022-12-26T00:00:00",
                    "2022-12-27T00:00:00",
                    "2022-12-28T00:00:00",
                    "2022-12-29T00:00:00",
                    "2023-01-02T00:00:00",
                    "2023-01-03T00:00:00",
                    "2023-01-04T00:00:00",
                    "2023-01-05T00:00:00",
                    "2023-01-06T00:00:00",
                    "2023-01-09T00:00:00",
                    "2023-01-10T00:00:00",
                    "2023-01-11T00:00:00",
                    "2023-01-12T00:00:00",
                    "2023-01-13T00:00:00",
                    "2023-01-16T00:00:00",
                    "2023-01-17T00:00:00",
                    "2023-01-18T00:00:00",
                    "2023-01-19T00:00:00",
                    "2023-01-20T00:00:00",
                    "2023-01-23T00:00:00",
                    "2023-01-24T00:00:00",
                    "2023-01-25T00:00:00",
                    "2023-01-26T00:00:00",
                    "2023-01-27T00:00:00",
                    "2023-01-30T00:00:00",
                    "2023-01-31T00:00:00",
                    "2023-02-01T00:00:00",
                    "2023-02-02T00:00:00",
                    "2023-02-03T00:00:00",
                    "2023-02-06T00:00:00",
                    "2023-02-07T00:00:00",
                    "2023-02-08T00:00:00",
                    "2023-02-09T00:00:00",
                    "2023-02-10T00:00:00",
                    "2023-02-13T00:00:00",
                    "2023-02-14T00:00:00",
                    "2023-02-15T00:00:00",
                    "2023-02-16T00:00:00",
                    "2023-02-17T00:00:00",
                    "2023-02-22T00:00:00",
                    "2023-02-23T00:00:00",
                    "2023-02-24T00:00:00",
                    "2023-02-27T00:00:00",
                    "2023-02-28T00:00:00",
                    "2023-03-01T00:00:00",
                    "2023-03-02T00:00:00",
                    "2023-03-03T00:00:00",
                    "2023-03-06T00:00:00",
                    "2023-03-07T00:00:00",
                    "2023-03-08T00:00:00",
                    "2023-03-09T00:00:00",
                    "2023-03-13T00:00:00",
                    "2023-03-14T00:00:00",
                    "2023-03-15T00:00:00",
                    "2023-03-16T00:00:00",
                    "2023-03-17T00:00:00",
                    "2023-03-20T00:00:00",
                    "2023-03-21T00:00:00",
                    "2023-03-22T00:00:00",
                    "2023-03-23T00:00:00",
                    "2023-03-24T00:00:00",
                    "2023-03-27T00:00:00",
                    "2023-03-28T00:00:00",
                    "2023-03-29T00:00:00",
                    "2023-03-30T00:00:00",
                    "2023-03-31T00:00:00",
                    "2023-04-03T00:00:00",
                    "2023-04-04T00:00:00",
                    "2023-04-05T00:00:00",
                    "2023-04-06T00:00:00",
                    "2023-04-10T00:00:00",
                    "2023-04-11T00:00:00",
                    "2023-04-12T00:00:00",
                    "2023-04-13T00:00:00",
                    "2023-04-14T00:00:00",
                    "2023-04-17T00:00:00",
                    "2023-04-18T00:00:00",
                    "2023-04-19T00:00:00",
                    "2023-04-20T00:00:00",
                    "2023-04-24T00:00:00",
                    "2023-04-25T00:00:00",
                    "2023-04-26T00:00:00",
                    "2023-04-27T00:00:00",
                    "2023-04-28T00:00:00",
                    "2023-05-02T00:00:00",
                    "2023-05-03T00:00:00",
                    "2023-05-04T00:00:00",
                    "2023-05-05T00:00:00",
                    "2023-05-08T00:00:00",
                    "2023-05-09T00:00:00",
                    "2023-05-10T00:00:00",
                    "2023-05-11T00:00:00",
                    "2023-05-12T00:00:00",
                    "2023-05-15T00:00:00",
                    "2023-05-16T00:00:00",
                    "2023-05-17T00:00:00",
                    "2023-05-18T00:00:00",
                    "2023-05-19T00:00:00",
                    "2023-05-22T00:00:00",
                    "2023-05-23T00:00:00",
                    "2023-05-24T00:00:00",
                    "2023-05-25T00:00:00",
                    "2023-05-26T00:00:00",
                    "2023-05-29T00:00:00",
                    "2023-05-30T00:00:00",
                    "2023-05-31T00:00:00",
                    "2023-06-01T00:00:00",
                    "2023-06-02T00:00:00",
                    "2023-06-05T00:00:00",
                    "2023-06-06T00:00:00",
                    "2023-06-07T00:00:00",
                    "2023-06-09T00:00:00",
                    "2023-06-12T00:00:00",
                    "2023-06-13T00:00:00",
                    "2023-06-14T00:00:00",
                    "2023-06-15T00:00:00",
                    "2023-06-16T00:00:00",
                    "2023-06-19T00:00:00",
                    "2023-06-20T00:00:00",
                    "2023-06-21T00:00:00",
                    "2023-06-22T00:00:00",
                    "2023-06-23T00:00:00",
                    "2023-06-26T00:00:00",
                    "2023-06-27T00:00:00",
                    "2023-06-28T00:00:00",
                    "2023-06-29T00:00:00",
                    "2023-06-30T00:00:00",
                    "2023-07-03T00:00:00",
                    "2023-07-04T00:00:00",
                    "2023-07-05T00:00:00",
                    "2023-07-06T00:00:00",
                    "2023-07-07T00:00:00",
                    "2023-07-10T00:00:00",
                    "2023-07-11T00:00:00",
                    "2023-07-12T00:00:00",
                    "2023-07-13T00:00:00",
                    "2023-07-14T00:00:00",
                    "2023-07-17T00:00:00",
                    "2023-07-18T00:00:00",
                    "2023-07-19T00:00:00",
                    "2023-07-20T00:00:00",
                    "2023-07-21T00:00:00",
                    "2023-07-24T00:00:00",
                    "2023-07-25T00:00:00",
                    "2023-07-26T00:00:00",
                    "2023-07-27T00:00:00",
                    "2023-07-28T00:00:00",
                    "2023-07-31T00:00:00",
                    "2023-08-01T00:00:00",
                    "2023-08-02T00:00:00",
                    "2023-08-03T00:00:00",
                    "2023-08-04T00:00:00",
                    "2023-08-07T00:00:00",
                    "2023-08-08T00:00:00",
                    "2023-08-09T00:00:00",
                    "2023-08-10T00:00:00",
                    "2023-08-11T00:00:00",
                    "2023-08-14T00:00:00",
                    "2023-08-15T00:00:00",
                    "2023-08-16T00:00:00",
                    "2023-08-17T00:00:00",
                    "2023-08-18T00:00:00"
                  ],
                  "xaxis": "x2",
                  "y": [
                    -0.6726183739103372,
                    -0.7429576115818349,
                    -0.8850587407285508,
                    -1.0552175887216786,
                    -1.0304048228521032,
                    -0.720261957571282,
                    -0.9543000054067439,
                    -1.0674795640411932,
                    -0.972791578975201,
                    -1.309458566140695,
                    -1.1087948703999795,
                    -0.5235043779203049,
                    -0.4643301751180986,
                    -0.6648307998202804,
                    0.04746585269720368,
                    -0.3375857952355372,
                    -0.14505183700578267,
                    -0.21677853055920723,
                    -0.30463784263304383,
                    -0.47990029818756413,
                    -0.6268413033883886,
                    0.011790951469937845,
                    0.42056022110686014,
                    0.14050070837397075,
                    -0.003900305198912239,
                    0.37201763265021365,
                    0.14420233080328862,
                    0.063275336951623,
                    0.16655101666032432,
                    0.009441971810422419,
                    0.16526616690001816,
                    0.28354512928361064,
                    0.987702810864167,
                    1.131646345422755,
                    1.2242401054547074,
                    1.2938794332146406,
                    1.447422167300068,
                    1.05616653818383,
                    0.6200157300635029,
                    0.9181031432859547,
                    0.9707955529840198,
                    0.48968109493766626,
                    0.7205264463322885,
                    0.35088896450015933,
                    0.5664079157748727,
                    0.5071230372075636,
                    0.5281897878394642,
                    -0.019963984754855068,
                    0.6351761745464273,
                    0.544460975021062,
                    1.6693805819786995,
                    1.6595344404123649,
                    1.9147066293027906,
                    2.0264558935357115,
                    2.120824812234234,
                    1.9830264811550542,
                    2.2899481557198547,
                    0.5393660511959703,
                    -0.7078436925351611,
                    -0.934798193596805,
                    -0.5713694717255644,
                    -1.4469616232796456,
                    -1.057866667794912,
                    -1.0077282120019206,
                    -0.9397460363732768,
                    -0.9638034616444515,
                    -0.562421791238372,
                    -0.865219194902277,
                    -0.8393708278420322,
                    -0.5667106222607551,
                    -0.5317271613497766,
                    -0.7045790542747807,
                    -0.4786977430758498,
                    -0.8210156957274681,
                    -0.940445125656772,
                    -0.6917274078800935,
                    -1.0390795580938146,
                    -1.0860668251577752,
                    -1.1536483102004436,
                    -1.012189753964429,
                    -0.565606465987976,
                    -0.8598788733576287,
                    -0.9173898560093611,
                    -0.26740277153920733,
                    0.07289400538220456,
                    -0.05149461696133683,
                    -0.36198720437749937,
                    0.6364163320979507,
                    0.8566018842293818,
                    0.3104777595282681,
                    0.5742691106838357,
                    0.4713935993112125,
                    -0.14840745205065572,
                    -0.34898418251990426,
                    -0.4517150154323939,
                    -0.3320865604536556,
                    -0.15160191576384482,
                    -0.34131715366220017,
                    -0.06637733918887376,
                    0.36677191043583146,
                    0.39536335088743385,
                    0.27587508920364673,
                    0.30137717619012716,
                    0.025787153499701017,
                    0.03310808280866969,
                    -0.21278767212805766,
                    -0.36005782236859346,
                    -0.42732920088270876,
                    -0.4145699445468979,
                    -0.2639254432853956,
                    -0.2195961686092892,
                    -0.42565417540514217,
                    -0.2747577974566394,
                    -0.3285619708704394,
                    -0.18321176872424777,
                    0.2372069502524149,
                    -0.6588472171204622,
                    -0.7136318826119961,
                    -0.8243100750097607,
                    -0.8562473379390638,
                    -1.1751330683987138,
                    -1.0303419903800655,
                    -0.9818865781014319,
                    -1.4379713859829102,
                    -1.472002917042253,
                    -1.8041270154615876,
                    -2.102443143496013,
                    -2.070985846184339,
                    -2.231978146651549,
                    -2.451809013612456,
                    -2.2209046507033205,
                    -2.0805278881571283,
                    -2.152466153009785,
                    -1.861251083365633,
                    -2.019945381446066,
                    -1.5911313197408274,
                    -1.3930679978888192,
                    -0.9511843579443203,
                    -0.7988211093921461,
                    -0.8345559488645908,
                    -0.6852660015830789,
                    -0.5236447852818955,
                    -0.19510103046254848,
                    -0.760141823336357,
                    -0.7446717922163659,
                    -0.7935738936183758,
                    -0.8307324582744887,
                    -1.3064532091530545,
                    -1.3078551522278405,
                    -1.3691906235142945,
                    -1.4679784551815767,
                    -1.6645634978320762,
                    -1.5789744305577271,
                    -1.8982707413184612,
                    -1.5610827242295091,
                    -1.2549909126732501,
                    -1.1779186926927558,
                    -1.2941989251411117,
                    -1.1696333218299613,
                    -0.847469473980476,
                    -0.6161720868242814,
                    -0.7086719817679853,
                    -0.42883368093907254,
                    -0.3147898309411977,
                    -0.4811282427714507,
                    -0.5378508550130113,
                    -0.524695565278629,
                    -0.335100017851074,
                    -0.17344518918637347,
                    -0.7661166808248154,
                    -0.5384122457344311,
                    -0.48323988125896405,
                    -0.5788605210427399,
                    -0.35380803194812754,
                    0.020265361486110276,
                    0.41856896439497054,
                    0.26191149904595173,
                    0.21208500163860947,
                    0.17309630417550856,
                    0.3342586512723712,
                    0.361974890907371,
                    0.5112154896505943,
                    0.4016381862459734,
                    0.8282269779273393,
                    0.9238982514271483,
                    0.9464050979761769,
                    0.8309033063901042,
                    0.6238831335367554,
                    0.36591939625297687,
                    0.5695588532774476,
                    1.0151179733972102,
                    0.9704371956342575,
                    0.9655841461321426,
                    1.0141634321841941,
                    1.855486533767781,
                    1.7061499573616077,
                    1.7354637903091619,
                    1.3704960287412484,
                    1.6526921164345285,
                    1.3849737359054284,
                    1.5531927213360028,
                    1.3204672117972933,
                    1.69978994106928,
                    1.0697131504613857,
                    1.0394012623330309,
                    1.066228388911966,
                    1.031316537524758,
                    0.8634070960613379,
                    0.5035136780143645,
                    0.7609206103640554,
                    0.449612497100809,
                    0.5542945713448578,
                    0.6679117124288938,
                    1.2007630328421026,
                    1.2760363722428094,
                    1.3838552552330177,
                    1.268002667764493,
                    1.167886092191799,
                    0.8499343697561722,
                    0.83436971699089,
                    0.6655005740399155,
                    0.5327662111633543,
                    0.9043051494550957,
                    1.0094816026299611,
                    1.1198521012955978,
                    1.1721856895967442,
                    1.4263988330698114,
                    1.3274546412087282,
                    1.2505992336251293,
                    1.591481915533657,
                    1.3384815236864267,
                    1.1541524398787593,
                    1.000388370674992,
                    0.9888028558116575,
                    1.0571978134252917,
                    1.056457693619541,
                    0.9362296564111454,
                    1.0435980042989832,
                    1.201533793972886,
                    1.1712245253894407,
                    1.0860627727904317,
                    0.9735857836099487,
                    0.8356360333806749,
                    0.8282657910983189,
                    0.7842658235573212,
                    0.8159252668004833,
                    0.8481143901072941,
                    0.6716950355974268,
                    0.2910576120402259,
                    0.5172737066047153
                  ],
                  "yaxis": "y2"
                }
              ],
              "layout": {
                "annotations": [
                  {
                    "font": {
                      "size": 16
                    },
                    "showarrow": false,
                    "text": "z-score do residuo",
                    "x": 0.5,
                    "xanchor": "center",
                    "xref": "paper",
                    "y": 1,
                    "yanchor": "bottom",
                    "yref": "paper"
                  },
                  {
                    "font": {
                      "size": 16
                    },
                    "showarrow": false,
                    "text": "z-score do ratio dos preços",
                    "x": 0.5,
                    "xanchor": "center",
                    "xref": "paper",
                    "y": 0.375,
                    "yanchor": "bottom",
                    "yref": "paper"
                  }
                ],
                "shapes": [
                  {
                    "line": {
                      "color": "orange",
                      "width": 1
                    },
                    "type": "line",
                    "x0": "2022-08-18T00:00:00",
                    "x1": "2023-08-18T00:00:00",
                    "y0": 1,
                    "y1": 1,
                    "yref": "y"
                  },
                  {
                    "line": {
                      "color": "orange",
                      "width": 1
                    },
                    "type": "line",
                    "x0": "2022-08-18T00:00:00",
                    "x1": "2023-08-18T00:00:00",
                    "y0": -1,
                    "y1": -1,
                    "yref": "y"
                  },
                  {
                    "line": {
                      "color": "red",
                      "width": 1
                    },
                    "type": "line",
                    "x0": "2022-08-18T00:00:00",
                    "x1": "2023-08-18T00:00:00",
                    "y0": 2,
                    "y1": 2,
                    "yref": "y"
                  },
                  {
                    "line": {
                      "color": "red",
                      "width": 1
                    },
                    "type": "line",
                    "x0": "2022-08-18T00:00:00",
                    "x1": "2023-08-18T00:00:00",
                    "y0": -2,
                    "y1": -2,
                    "yref": "y"
                  },
                  {
                    "line": {
                      "color": "black",
                      "dash": "dash",
                      "width": 1
                    },
                    "type": "line",
                    "x0": "2022-08-18T00:00:00",
                    "x1": "2023-08-18T00:00:00",
                    "y0": 0,
                    "y1": 0,
                    "yref": "y"
                  },
                  {
                    "line": {
                      "color": "black",
                      "dash": "dash",
                      "width": 1
                    },
                    "type": "line",
                    "x0": "2022-08-18T00:00:00",
                    "x1": "2023-08-18T00:00:00",
                    "y0": 0,
                    "y1": 0,
                    "yref": "y2"
                  },
                  {
                    "line": {
                      "color": "orange",
                      "width": 1
                    },
                    "type": "line",
                    "x0": "2022-08-18T00:00:00",
                    "x1": "2023-08-18T00:00:00",
                    "y0": 1,
                    "y1": 1,
                    "yref": "y2"
                  },
                  {
                    "line": {
                      "color": "orange",
                      "width": 1
                    },
                    "type": "line",
                    "x0": "2022-08-18T00:00:00",
                    "x1": "2023-08-18T00:00:00",
                    "y0": -1,
                    "y1": -1,
                    "yref": "y2"
                  },
                  {
                    "line": {
                      "color": "red",
                      "width": 1
                    },
                    "type": "line",
                    "x0": "2022-08-18T00:00:00",
                    "x1": "2023-08-18T00:00:00",
                    "y0": 2,
                    "y1": 2,
                    "yref": "y2"
                  },
                  {
                    "line": {
                      "color": "red",
                      "width": 1
                    },
                    "type": "line",
                    "x0": "2022-08-18T00:00:00",
                    "x1": "2023-08-18T00:00:00",
                    "y0": -2,
                    "y1": -2,
                    "yref": "y2"
                  }
                ],
                "template": {
                  "data": {
                    "bar": [
                      {
                        "error_x": {
                          "color": "#2a3f5f"
                        },
                        "error_y": {
                          "color": "#2a3f5f"
                        },
                        "marker": {
                          "line": {
                            "color": "#E5ECF6",
                            "width": 0.5
                          },
                          "pattern": {
                            "fillmode": "overlay",
                            "size": 10,
                            "solidity": 0.2
                          }
                        },
                        "type": "bar"
                      }
                    ],
                    "barpolar": [
                      {
                        "marker": {
                          "line": {
                            "color": "#E5ECF6",
                            "width": 0.5
                          },
                          "pattern": {
                            "fillmode": "overlay",
                            "size": 10,
                            "solidity": 0.2
                          }
                        },
                        "type": "barpolar"
                      }
                    ],
                    "carpet": [
                      {
                        "aaxis": {
                          "endlinecolor": "#2a3f5f",
                          "gridcolor": "white",
                          "linecolor": "white",
                          "minorgridcolor": "white",
                          "startlinecolor": "#2a3f5f"
                        },
                        "baxis": {
                          "endlinecolor": "#2a3f5f",
                          "gridcolor": "white",
                          "linecolor": "white",
                          "minorgridcolor": "white",
                          "startlinecolor": "#2a3f5f"
                        },
                        "type": "carpet"
                      }
                    ],
                    "choropleth": [
                      {
                        "colorbar": {
                          "outlinewidth": 0,
                          "ticks": ""
                        },
                        "type": "choropleth"
                      }
                    ],
                    "contour": [
                      {
                        "colorbar": {
                          "outlinewidth": 0,
                          "ticks": ""
                        },
                        "colorscale": [
                          [
                            0,
                            "#0d0887"
                          ],
                          [
                            0.1111111111111111,
                            "#46039f"
                          ],
                          [
                            0.2222222222222222,
                            "#7201a8"
                          ],
                          [
                            0.3333333333333333,
                            "#9c179e"
                          ],
                          [
                            0.4444444444444444,
                            "#bd3786"
                          ],
                          [
                            0.5555555555555556,
                            "#d8576b"
                          ],
                          [
                            0.6666666666666666,
                            "#ed7953"
                          ],
                          [
                            0.7777777777777778,
                            "#fb9f3a"
                          ],
                          [
                            0.8888888888888888,
                            "#fdca26"
                          ],
                          [
                            1,
                            "#f0f921"
                          ]
                        ],
                        "type": "contour"
                      }
                    ],
                    "contourcarpet": [
                      {
                        "colorbar": {
                          "outlinewidth": 0,
                          "ticks": ""
                        },
                        "type": "contourcarpet"
                      }
                    ],
                    "heatmap": [
                      {
                        "colorbar": {
                          "outlinewidth": 0,
                          "ticks": ""
                        },
                        "colorscale": [
                          [
                            0,
                            "#0d0887"
                          ],
                          [
                            0.1111111111111111,
                            "#46039f"
                          ],
                          [
                            0.2222222222222222,
                            "#7201a8"
                          ],
                          [
                            0.3333333333333333,
                            "#9c179e"
                          ],
                          [
                            0.4444444444444444,
                            "#bd3786"
                          ],
                          [
                            0.5555555555555556,
                            "#d8576b"
                          ],
                          [
                            0.6666666666666666,
                            "#ed7953"
                          ],
                          [
                            0.7777777777777778,
                            "#fb9f3a"
                          ],
                          [
                            0.8888888888888888,
                            "#fdca26"
                          ],
                          [
                            1,
                            "#f0f921"
                          ]
                        ],
                        "type": "heatmap"
                      }
                    ],
                    "heatmapgl": [
                      {
                        "colorbar": {
                          "outlinewidth": 0,
                          "ticks": ""
                        },
                        "colorscale": [
                          [
                            0,
                            "#0d0887"
                          ],
                          [
                            0.1111111111111111,
                            "#46039f"
                          ],
                          [
                            0.2222222222222222,
                            "#7201a8"
                          ],
                          [
                            0.3333333333333333,
                            "#9c179e"
                          ],
                          [
                            0.4444444444444444,
                            "#bd3786"
                          ],
                          [
                            0.5555555555555556,
                            "#d8576b"
                          ],
                          [
                            0.6666666666666666,
                            "#ed7953"
                          ],
                          [
                            0.7777777777777778,
                            "#fb9f3a"
                          ],
                          [
                            0.8888888888888888,
                            "#fdca26"
                          ],
                          [
                            1,
                            "#f0f921"
                          ]
                        ],
                        "type": "heatmapgl"
                      }
                    ],
                    "histogram": [
                      {
                        "marker": {
                          "pattern": {
                            "fillmode": "overlay",
                            "size": 10,
                            "solidity": 0.2
                          }
                        },
                        "type": "histogram"
                      }
                    ],
                    "histogram2d": [
                      {
                        "colorbar": {
                          "outlinewidth": 0,
                          "ticks": ""
                        },
                        "colorscale": [
                          [
                            0,
                            "#0d0887"
                          ],
                          [
                            0.1111111111111111,
                            "#46039f"
                          ],
                          [
                            0.2222222222222222,
                            "#7201a8"
                          ],
                          [
                            0.3333333333333333,
                            "#9c179e"
                          ],
                          [
                            0.4444444444444444,
                            "#bd3786"
                          ],
                          [
                            0.5555555555555556,
                            "#d8576b"
                          ],
                          [
                            0.6666666666666666,
                            "#ed7953"
                          ],
                          [
                            0.7777777777777778,
                            "#fb9f3a"
                          ],
                          [
                            0.8888888888888888,
                            "#fdca26"
                          ],
                          [
                            1,
                            "#f0f921"
                          ]
                        ],
                        "type": "histogram2d"
                      }
                    ],
                    "histogram2dcontour": [
                      {
                        "colorbar": {
                          "outlinewidth": 0,
                          "ticks": ""
                        },
                        "colorscale": [
                          [
                            0,
                            "#0d0887"
                          ],
                          [
                            0.1111111111111111,
                            "#46039f"
                          ],
                          [
                            0.2222222222222222,
                            "#7201a8"
                          ],
                          [
                            0.3333333333333333,
                            "#9c179e"
                          ],
                          [
                            0.4444444444444444,
                            "#bd3786"
                          ],
                          [
                            0.5555555555555556,
                            "#d8576b"
                          ],
                          [
                            0.6666666666666666,
                            "#ed7953"
                          ],
                          [
                            0.7777777777777778,
                            "#fb9f3a"
                          ],
                          [
                            0.8888888888888888,
                            "#fdca26"
                          ],
                          [
                            1,
                            "#f0f921"
                          ]
                        ],
                        "type": "histogram2dcontour"
                      }
                    ],
                    "mesh3d": [
                      {
                        "colorbar": {
                          "outlinewidth": 0,
                          "ticks": ""
                        },
                        "type": "mesh3d"
                      }
                    ],
                    "parcoords": [
                      {
                        "line": {
                          "colorbar": {
                            "outlinewidth": 0,
                            "ticks": ""
                          }
                        },
                        "type": "parcoords"
                      }
                    ],
                    "pie": [
                      {
                        "automargin": true,
                        "type": "pie"
                      }
                    ],
                    "scatter": [
                      {
                        "fillpattern": {
                          "fillmode": "overlay",
                          "size": 10,
                          "solidity": 0.2
                        },
                        "type": "scatter"
                      }
                    ],
                    "scatter3d": [
                      {
                        "line": {
                          "colorbar": {
                            "outlinewidth": 0,
                            "ticks": ""
                          }
                        },
                        "marker": {
                          "colorbar": {
                            "outlinewidth": 0,
                            "ticks": ""
                          }
                        },
                        "type": "scatter3d"
                      }
                    ],
                    "scattercarpet": [
                      {
                        "marker": {
                          "colorbar": {
                            "outlinewidth": 0,
                            "ticks": ""
                          }
                        },
                        "type": "scattercarpet"
                      }
                    ],
                    "scattergeo": [
                      {
                        "marker": {
                          "colorbar": {
                            "outlinewidth": 0,
                            "ticks": ""
                          }
                        },
                        "type": "scattergeo"
                      }
                    ],
                    "scattergl": [
                      {
                        "marker": {
                          "colorbar": {
                            "outlinewidth": 0,
                            "ticks": ""
                          }
                        },
                        "type": "scattergl"
                      }
                    ],
                    "scattermapbox": [
                      {
                        "marker": {
                          "colorbar": {
                            "outlinewidth": 0,
                            "ticks": ""
                          }
                        },
                        "type": "scattermapbox"
                      }
                    ],
                    "scatterpolar": [
                      {
                        "marker": {
                          "colorbar": {
                            "outlinewidth": 0,
                            "ticks": ""
                          }
                        },
                        "type": "scatterpolar"
                      }
                    ],
                    "scatterpolargl": [
                      {
                        "marker": {
                          "colorbar": {
                            "outlinewidth": 0,
                            "ticks": ""
                          }
                        },
                        "type": "scatterpolargl"
                      }
                    ],
                    "scatterternary": [
                      {
                        "marker": {
                          "colorbar": {
                            "outlinewidth": 0,
                            "ticks": ""
                          }
                        },
                        "type": "scatterternary"
                      }
                    ],
                    "surface": [
                      {
                        "colorbar": {
                          "outlinewidth": 0,
                          "ticks": ""
                        },
                        "colorscale": [
                          [
                            0,
                            "#0d0887"
                          ],
                          [
                            0.1111111111111111,
                            "#46039f"
                          ],
                          [
                            0.2222222222222222,
                            "#7201a8"
                          ],
                          [
                            0.3333333333333333,
                            "#9c179e"
                          ],
                          [
                            0.4444444444444444,
                            "#bd3786"
                          ],
                          [
                            0.5555555555555556,
                            "#d8576b"
                          ],
                          [
                            0.6666666666666666,
                            "#ed7953"
                          ],
                          [
                            0.7777777777777778,
                            "#fb9f3a"
                          ],
                          [
                            0.8888888888888888,
                            "#fdca26"
                          ],
                          [
                            1,
                            "#f0f921"
                          ]
                        ],
                        "type": "surface"
                      }
                    ],
                    "table": [
                      {
                        "cells": {
                          "fill": {
                            "color": "#EBF0F8"
                          },
                          "line": {
                            "color": "white"
                          }
                        },
                        "header": {
                          "fill": {
                            "color": "#C8D4E3"
                          },
                          "line": {
                            "color": "white"
                          }
                        },
                        "type": "table"
                      }
                    ]
                  },
                  "layout": {
                    "annotationdefaults": {
                      "arrowcolor": "#2a3f5f",
                      "arrowhead": 0,
                      "arrowwidth": 1
                    },
                    "autotypenumbers": "strict",
                    "coloraxis": {
                      "colorbar": {
                        "outlinewidth": 0,
                        "ticks": ""
                      }
                    },
                    "colorscale": {
                      "diverging": [
                        [
                          0,
                          "#8e0152"
                        ],
                        [
                          0.1,
                          "#c51b7d"
                        ],
                        [
                          0.2,
                          "#de77ae"
                        ],
                        [
                          0.3,
                          "#f1b6da"
                        ],
                        [
                          0.4,
                          "#fde0ef"
                        ],
                        [
                          0.5,
                          "#f7f7f7"
                        ],
                        [
                          0.6,
                          "#e6f5d0"
                        ],
                        [
                          0.7,
                          "#b8e186"
                        ],
                        [
                          0.8,
                          "#7fbc41"
                        ],
                        [
                          0.9,
                          "#4d9221"
                        ],
                        [
                          1,
                          "#276419"
                        ]
                      ],
                      "sequential": [
                        [
                          0,
                          "#0d0887"
                        ],
                        [
                          0.1111111111111111,
                          "#46039f"
                        ],
                        [
                          0.2222222222222222,
                          "#7201a8"
                        ],
                        [
                          0.3333333333333333,
                          "#9c179e"
                        ],
                        [
                          0.4444444444444444,
                          "#bd3786"
                        ],
                        [
                          0.5555555555555556,
                          "#d8576b"
                        ],
                        [
                          0.6666666666666666,
                          "#ed7953"
                        ],
                        [
                          0.7777777777777778,
                          "#fb9f3a"
                        ],
                        [
                          0.8888888888888888,
                          "#fdca26"
                        ],
                        [
                          1,
                          "#f0f921"
                        ]
                      ],
                      "sequentialminus": [
                        [
                          0,
                          "#0d0887"
                        ],
                        [
                          0.1111111111111111,
                          "#46039f"
                        ],
                        [
                          0.2222222222222222,
                          "#7201a8"
                        ],
                        [
                          0.3333333333333333,
                          "#9c179e"
                        ],
                        [
                          0.4444444444444444,
                          "#bd3786"
                        ],
                        [
                          0.5555555555555556,
                          "#d8576b"
                        ],
                        [
                          0.6666666666666666,
                          "#ed7953"
                        ],
                        [
                          0.7777777777777778,
                          "#fb9f3a"
                        ],
                        [
                          0.8888888888888888,
                          "#fdca26"
                        ],
                        [
                          1,
                          "#f0f921"
                        ]
                      ]
                    },
                    "colorway": [
                      "#636efa",
                      "#EF553B",
                      "#00cc96",
                      "#ab63fa",
                      "#FFA15A",
                      "#19d3f3",
                      "#FF6692",
                      "#B6E880",
                      "#FF97FF",
                      "#FECB52"
                    ],
                    "font": {
                      "color": "#2a3f5f"
                    },
                    "geo": {
                      "bgcolor": "white",
                      "lakecolor": "white",
                      "landcolor": "#E5ECF6",
                      "showlakes": true,
                      "showland": true,
                      "subunitcolor": "white"
                    },
                    "hoverlabel": {
                      "align": "left"
                    },
                    "hovermode": "closest",
                    "mapbox": {
                      "style": "light"
                    },
                    "paper_bgcolor": "white",
                    "plot_bgcolor": "#E5ECF6",
                    "polar": {
                      "angularaxis": {
                        "gridcolor": "white",
                        "linecolor": "white",
                        "ticks": ""
                      },
                      "bgcolor": "#E5ECF6",
                      "radialaxis": {
                        "gridcolor": "white",
                        "linecolor": "white",
                        "ticks": ""
                      }
                    },
                    "scene": {
                      "xaxis": {
                        "backgroundcolor": "#E5ECF6",
                        "gridcolor": "white",
                        "gridwidth": 2,
                        "linecolor": "white",
                        "showbackground": true,
                        "ticks": "",
                        "zerolinecolor": "white"
                      },
                      "yaxis": {
                        "backgroundcolor": "#E5ECF6",
                        "gridcolor": "white",
                        "gridwidth": 2,
                        "linecolor": "white",
                        "showbackground": true,
                        "ticks": "",
                        "zerolinecolor": "white"
                      },
                      "zaxis": {
                        "backgroundcolor": "#E5ECF6",
                        "gridcolor": "white",
                        "gridwidth": 2,
                        "linecolor": "white",
                        "showbackground": true,
                        "ticks": "",
                        "zerolinecolor": "white"
                      }
                    },
                    "shapedefaults": {
                      "line": {
                        "color": "#2a3f5f"
                      }
                    },
                    "ternary": {
                      "aaxis": {
                        "gridcolor": "white",
                        "linecolor": "white",
                        "ticks": ""
                      },
                      "baxis": {
                        "gridcolor": "white",
                        "linecolor": "white",
                        "ticks": ""
                      },
                      "bgcolor": "#E5ECF6",
                      "caxis": {
                        "gridcolor": "white",
                        "linecolor": "white",
                        "ticks": ""
                      }
                    },
                    "title": {
                      "x": 0.05
                    },
                    "xaxis": {
                      "automargin": true,
                      "gridcolor": "white",
                      "linecolor": "white",
                      "ticks": "",
                      "title": {
                        "standoff": 15
                      },
                      "zerolinecolor": "white",
                      "zerolinewidth": 2
                    },
                    "yaxis": {
                      "automargin": true,
                      "gridcolor": "white",
                      "linecolor": "white",
                      "ticks": "",
                      "title": {
                        "standoff": 15
                      },
                      "zerolinecolor": "white",
                      "zerolinewidth": 2
                    }
                  }
                },
                "title": {
                  "text": "Para o par (B3SA3.SA,BOVA11.SA)"
                },
                "xaxis": {
                  "anchor": "y",
                  "domain": [
                    0,
                    1
                  ]
                },
                "xaxis2": {
                  "anchor": "y2",
                  "domain": [
                    0,
                    1
                  ]
                },
                "yaxis": {
                  "anchor": "x",
                  "domain": [
                    0.625,
                    1
                  ]
                },
                "yaxis2": {
                  "anchor": "x2",
                  "domain": [
                    0,
                    0.375
                  ]
                }
              }
            }
          },
          "metadata": {},
          "output_type": "display_data"
        }
      ],
      "source": [
        "\n",
        "\n",
        "trace1 = go.Scatter( x = X.index,  y= zscore(residuos(x=X,y=Y)[0]) , \n",
        "                    name = 'resíduo (spread)',\n",
        "                    line=dict(color='steelblue'))\n",
        "\n",
        "trace2 = go.Scatter( x = Y.index,  y = zscore(X/Y) , \n",
        "                    name = 'Ratio '+X.name+'/'+Y.name,\n",
        "                    line=dict(color='steelblue'))\n",
        "\n",
        "fig = make_subplots(rows=2, cols=1,subplot_titles=(['z-score do residuo','z-score do ratio dos preços']))\n",
        "\n",
        "fig.append_trace(trace1, 1, 1)\n",
        "fig.append_trace(trace2, 2, 1)\n",
        "\n",
        "fig['layout'].update(shapes=[{'type': 'line','y0':1,'y1': 1,'x0':min(X.index),'x1':max(X.index),\n",
        "                              'yref':'y1','line': {'color': 'orange','width': 1}},\n",
        "                             {'type': 'line','y0':-1,'y1': -1,'x0':min(X.index),'x1':max(X.index),\n",
        "                              'yref':'y1','line': {'color': 'orange','width': 1}},\n",
        "                             {'type': 'line','y0':2,'y1': 2,'x0':min(X.index),'x1':max(X.index),\n",
        "                              'yref':'y1','line': {'color': 'red','width': 1}},\n",
        "                             {'type': 'line','y0':-2,'y1': -2,'x0':min(X.index),'x1':max(X.index),\n",
        "                              'yref':'y1','line': {'color': 'red','width': 1}},\n",
        "                             {'type': 'line','y0':0,'y1': 0,'x0':min(X.index),'x1':max(X.index),\n",
        "                              'yref':'y1','line': {'color': 'black','width': 1,'dash':'dash'}},\n",
        "                             {'type': 'line','y0':0,'y1': 0,'x0':min(X.index),'x1':max(X.index),\n",
        "                              'yref':'y2','line': {'color': 'black','width': 1,'dash':'dash'}},\n",
        "                             {'type': 'line','y0':1,'y1': 1,'x0':min(X.index),'x1':max(X.index),\n",
        "                              'yref':'y2','line': {'color': 'orange','width': 1}},\n",
        "                             {'type': 'line','y0':-1,'y1': -1,'x0':min(X.index),'x1':max(X.index),\n",
        "                              'yref':'y2','line': {'color': 'orange','width': 1}},\n",
        "                             {'type': 'line','y0':2,'y1': 2,'x0':min(X.index),'x1':max(X.index),\n",
        "                              'yref':'y2','line': {'color': 'red','width': 1}},\n",
        "                             {'type': 'line','y0':-2,'y1': -2,'x0':min(X.index),'x1':max(X.index),\n",
        "                              'yref':'y2','line': {'color': 'red','width': 1}}\n",
        "                             ],title='Para o par ('+X.name+','+Y.name+')')\n",
        "fig.show()"
      ]
    },
    {
      "cell_type": "code",
      "execution_count": null,
      "metadata": {
        "colab": {
          "base_uri": "https://localhost:8080/",
          "height": 455
        },
        "id": "HIrMpXPIlI_u",
        "outputId": "80021ba2-055b-4878-db78-95cf130a2da8"
      },
      "outputs": [
        {
          "data": {
            "text/html": [
              "<div>\n",
              "<style scoped>\n",
              "    .dataframe tbody tr th:only-of-type {\n",
              "        vertical-align: middle;\n",
              "    }\n",
              "\n",
              "    .dataframe tbody tr th {\n",
              "        vertical-align: top;\n",
              "    }\n",
              "\n",
              "    .dataframe thead th {\n",
              "        text-align: right;\n",
              "    }\n",
              "</style>\n",
              "<table border=\"1\" class=\"dataframe\">\n",
              "  <thead>\n",
              "    <tr style=\"text-align: right;\">\n",
              "      <th></th>\n",
              "      <th>sinal</th>\n",
              "      <th>posicao</th>\n",
              "      <th>acao</th>\n",
              "    </tr>\n",
              "    <tr>\n",
              "      <th>Date</th>\n",
              "      <th></th>\n",
              "      <th></th>\n",
              "      <th></th>\n",
              "    </tr>\n",
              "  </thead>\n",
              "  <tbody>\n",
              "    <tr>\n",
              "      <th>2022-08-18</th>\n",
              "      <td>-0.672618</td>\n",
              "      <td>64.172872</td>\n",
              "      <td>0</td>\n",
              "    </tr>\n",
              "    <tr>\n",
              "      <th>2022-08-19</th>\n",
              "      <td>-0.742958</td>\n",
              "      <td>62.973825</td>\n",
              "      <td>0</td>\n",
              "    </tr>\n",
              "    <tr>\n",
              "      <th>2022-08-22</th>\n",
              "      <td>-0.885059</td>\n",
              "      <td>62.921778</td>\n",
              "      <td>0</td>\n",
              "    </tr>\n",
              "    <tr>\n",
              "      <th>2022-08-23</th>\n",
              "      <td>-1.055218</td>\n",
              "      <td>64.828755</td>\n",
              "      <td>1</td>\n",
              "    </tr>\n",
              "    <tr>\n",
              "      <th>2022-08-24</th>\n",
              "      <td>-1.030405</td>\n",
              "      <td>64.801904</td>\n",
              "      <td>1</td>\n",
              "    </tr>\n",
              "    <tr>\n",
              "      <th>...</th>\n",
              "      <td>...</td>\n",
              "      <td>...</td>\n",
              "      <td>...</td>\n",
              "    </tr>\n",
              "    <tr>\n",
              "      <th>2023-08-14</th>\n",
              "      <td>0.815925</td>\n",
              "      <td>61.508468</td>\n",
              "      <td>0</td>\n",
              "    </tr>\n",
              "    <tr>\n",
              "      <th>2023-08-15</th>\n",
              "      <td>0.848114</td>\n",
              "      <td>60.898884</td>\n",
              "      <td>0</td>\n",
              "    </tr>\n",
              "    <tr>\n",
              "      <th>2023-08-16</th>\n",
              "      <td>0.671695</td>\n",
              "      <td>61.169850</td>\n",
              "      <td>0</td>\n",
              "    </tr>\n",
              "    <tr>\n",
              "      <th>2023-08-17</th>\n",
              "      <td>0.291058</td>\n",
              "      <td>62.054928</td>\n",
              "      <td>0</td>\n",
              "    </tr>\n",
              "    <tr>\n",
              "      <th>2023-08-18</th>\n",
              "      <td>0.517274</td>\n",
              "      <td>61.550536</td>\n",
              "      <td>0</td>\n",
              "    </tr>\n",
              "  </tbody>\n",
              "</table>\n",
              "<p>250 rows × 3 columns</p>\n",
              "</div>"
            ],
            "text/plain": [
              "               sinal    posicao  acao\n",
              "Date                                 \n",
              "2022-08-18 -0.672618  64.172872     0\n",
              "2022-08-19 -0.742958  62.973825     0\n",
              "2022-08-22 -0.885059  62.921778     0\n",
              "2022-08-23 -1.055218  64.828755     1\n",
              "2022-08-24 -1.030405  64.801904     1\n",
              "...              ...        ...   ...\n",
              "2023-08-14  0.815925  61.508468     0\n",
              "2023-08-15  0.848114  60.898884     0\n",
              "2023-08-16  0.671695  61.169850     0\n",
              "2023-08-17  0.291058  62.054928     0\n",
              "2023-08-18  0.517274  61.550536     0\n",
              "\n",
              "[250 rows x 3 columns]"
            ]
          },
          "execution_count": 148,
          "metadata": {},
          "output_type": "execute_result"
        }
      ],
      "source": [
        "trades = pd.concat([zscore(X/Y), residuos(x=X,y=Y)[0]], axis=1)\n",
        "trades.columns = [\"sinal\", \"posicao\"]\n",
        "\n",
        "trades[\"acao\"] = 0\n",
        "trades.loc[trades.sinal <-1, \"acao\"] = 1  # compra par\n",
        "trades.loc[trades.sinal > 1, \"acao\"] = -1  # vende par\n",
        "trades"
      ]
    },
    {
      "cell_type": "code",
      "execution_count": null,
      "metadata": {},
      "outputs": [
        {
          "data": {
            "text/html": [
              "<div>\n",
              "<style scoped>\n",
              "    .dataframe tbody tr th:only-of-type {\n",
              "        vertical-align: middle;\n",
              "    }\n",
              "\n",
              "    .dataframe tbody tr th {\n",
              "        vertical-align: top;\n",
              "    }\n",
              "\n",
              "    .dataframe thead th {\n",
              "        text-align: right;\n",
              "    }\n",
              "</style>\n",
              "<table border=\"1\" class=\"dataframe\">\n",
              "  <thead>\n",
              "    <tr style=\"text-align: right;\">\n",
              "      <th></th>\n",
              "      <th>sinal</th>\n",
              "      <th>posicao</th>\n",
              "      <th>acao</th>\n",
              "      <th>pos1</th>\n",
              "      <th>oaca</th>\n",
              "      <th>pos2</th>\n",
              "    </tr>\n",
              "    <tr>\n",
              "      <th>Date</th>\n",
              "      <th></th>\n",
              "      <th></th>\n",
              "      <th></th>\n",
              "      <th></th>\n",
              "      <th></th>\n",
              "      <th></th>\n",
              "    </tr>\n",
              "  </thead>\n",
              "  <tbody>\n",
              "    <tr>\n",
              "      <th>2022-08-18</th>\n",
              "      <td>-0.672618</td>\n",
              "      <td>64.172872</td>\n",
              "      <td>0</td>\n",
              "      <td>NaN</td>\n",
              "      <td>0</td>\n",
              "      <td>NaN</td>\n",
              "    </tr>\n",
              "    <tr>\n",
              "      <th>2022-08-19</th>\n",
              "      <td>-0.742958</td>\n",
              "      <td>62.973825</td>\n",
              "      <td>0</td>\n",
              "      <td>0.0</td>\n",
              "      <td>0</td>\n",
              "      <td>0.0</td>\n",
              "    </tr>\n",
              "    <tr>\n",
              "      <th>2022-08-22</th>\n",
              "      <td>-0.885059</td>\n",
              "      <td>62.921778</td>\n",
              "      <td>0</td>\n",
              "      <td>0.0</td>\n",
              "      <td>0</td>\n",
              "      <td>0.0</td>\n",
              "    </tr>\n",
              "    <tr>\n",
              "      <th>2022-08-23</th>\n",
              "      <td>-1.055218</td>\n",
              "      <td>64.828755</td>\n",
              "      <td>1</td>\n",
              "      <td>1.0</td>\n",
              "      <td>-1</td>\n",
              "      <td>-1.0</td>\n",
              "    </tr>\n",
              "    <tr>\n",
              "      <th>2022-08-24</th>\n",
              "      <td>-1.030405</td>\n",
              "      <td>64.801904</td>\n",
              "      <td>1</td>\n",
              "      <td>0.0</td>\n",
              "      <td>-1</td>\n",
              "      <td>0.0</td>\n",
              "    </tr>\n",
              "    <tr>\n",
              "      <th>...</th>\n",
              "      <td>...</td>\n",
              "      <td>...</td>\n",
              "      <td>...</td>\n",
              "      <td>...</td>\n",
              "      <td>...</td>\n",
              "      <td>...</td>\n",
              "    </tr>\n",
              "    <tr>\n",
              "      <th>2023-08-14</th>\n",
              "      <td>0.815925</td>\n",
              "      <td>61.508468</td>\n",
              "      <td>0</td>\n",
              "      <td>0.0</td>\n",
              "      <td>0</td>\n",
              "      <td>0.0</td>\n",
              "    </tr>\n",
              "    <tr>\n",
              "      <th>2023-08-15</th>\n",
              "      <td>0.848114</td>\n",
              "      <td>60.898884</td>\n",
              "      <td>0</td>\n",
              "      <td>0.0</td>\n",
              "      <td>0</td>\n",
              "      <td>0.0</td>\n",
              "    </tr>\n",
              "    <tr>\n",
              "      <th>2023-08-16</th>\n",
              "      <td>0.671695</td>\n",
              "      <td>61.169850</td>\n",
              "      <td>0</td>\n",
              "      <td>0.0</td>\n",
              "      <td>0</td>\n",
              "      <td>0.0</td>\n",
              "    </tr>\n",
              "    <tr>\n",
              "      <th>2023-08-17</th>\n",
              "      <td>0.291058</td>\n",
              "      <td>62.054928</td>\n",
              "      <td>0</td>\n",
              "      <td>0.0</td>\n",
              "      <td>0</td>\n",
              "      <td>0.0</td>\n",
              "    </tr>\n",
              "    <tr>\n",
              "      <th>2023-08-18</th>\n",
              "      <td>0.517274</td>\n",
              "      <td>61.550536</td>\n",
              "      <td>0</td>\n",
              "      <td>0.0</td>\n",
              "      <td>0</td>\n",
              "      <td>0.0</td>\n",
              "    </tr>\n",
              "  </tbody>\n",
              "</table>\n",
              "<p>250 rows × 6 columns</p>\n",
              "</div>"
            ],
            "text/plain": [
              "               sinal    posicao  acao  pos1  oaca  pos2\n",
              "Date                                                   \n",
              "2022-08-18 -0.672618  64.172872     0   NaN     0   NaN\n",
              "2022-08-19 -0.742958  62.973825     0   0.0     0   0.0\n",
              "2022-08-22 -0.885059  62.921778     0   0.0     0   0.0\n",
              "2022-08-23 -1.055218  64.828755     1   1.0    -1  -1.0\n",
              "2022-08-24 -1.030405  64.801904     1   0.0    -1   0.0\n",
              "...              ...        ...   ...   ...   ...   ...\n",
              "2023-08-14  0.815925  61.508468     0   0.0     0   0.0\n",
              "2023-08-15  0.848114  60.898884     0   0.0     0   0.0\n",
              "2023-08-16  0.671695  61.169850     0   0.0     0   0.0\n",
              "2023-08-17  0.291058  62.054928     0   0.0     0   0.0\n",
              "2023-08-18  0.517274  61.550536     0   0.0     0   0.0\n",
              "\n",
              "[250 rows x 6 columns]"
            ]
          },
          "execution_count": 149,
          "metadata": {},
          "output_type": "execute_result"
        }
      ],
      "source": [
        "trades['pos1'] = trades['acao'].diff()\n",
        "trades['oaca'] = -trades['acao']\n",
        "trades['pos2'] = trades['oaca'].diff()\n",
        "trades"
      ]
    },
    {
      "cell_type": "code",
      "execution_count": null,
      "metadata": {},
      "outputs": [
        {
          "ename": "KeyError",
          "evalue": "'HoldB3SA3.SA'",
          "output_type": "error",
          "traceback": [
            "\u001b[0;31m---------------------------------------------------------------------------\u001b[0m",
            "\u001b[0;31mKeyError\u001b[0m                                  Traceback (most recent call last)",
            "\u001b[0;32m/home/yair/.local/lib/python3.7/site-packages/pandas/core/indexes/base.py\u001b[0m in \u001b[0;36mget_loc\u001b[0;34m(self, key, method, tolerance)\u001b[0m\n\u001b[1;32m   3360\u001b[0m             \u001b[0;32mtry\u001b[0m\u001b[0;34m:\u001b[0m\u001b[0;34m\u001b[0m\u001b[0;34m\u001b[0m\u001b[0m\n\u001b[0;32m-> 3361\u001b[0;31m                 \u001b[0;32mreturn\u001b[0m \u001b[0mself\u001b[0m\u001b[0;34m.\u001b[0m\u001b[0m_engine\u001b[0m\u001b[0;34m.\u001b[0m\u001b[0mget_loc\u001b[0m\u001b[0;34m(\u001b[0m\u001b[0mcasted_key\u001b[0m\u001b[0;34m)\u001b[0m\u001b[0;34m\u001b[0m\u001b[0;34m\u001b[0m\u001b[0m\n\u001b[0m\u001b[1;32m   3362\u001b[0m             \u001b[0;32mexcept\u001b[0m \u001b[0mKeyError\u001b[0m \u001b[0;32mas\u001b[0m \u001b[0merr\u001b[0m\u001b[0;34m:\u001b[0m\u001b[0;34m\u001b[0m\u001b[0;34m\u001b[0m\u001b[0m\n",
            "\u001b[0;32m/home/yair/.local/lib/python3.7/site-packages/pandas/_libs/index.pyx\u001b[0m in \u001b[0;36mpandas._libs.index.IndexEngine.get_loc\u001b[0;34m()\u001b[0m\n",
            "\u001b[0;32m/home/yair/.local/lib/python3.7/site-packages/pandas/_libs/index.pyx\u001b[0m in \u001b[0;36mpandas._libs.index.IndexEngine.get_loc\u001b[0;34m()\u001b[0m\n",
            "\u001b[0;32mpandas/_libs/hashtable_class_helper.pxi\u001b[0m in \u001b[0;36mpandas._libs.hashtable.PyObjectHashTable.get_item\u001b[0;34m()\u001b[0m\n",
            "\u001b[0;32mpandas/_libs/hashtable_class_helper.pxi\u001b[0m in \u001b[0;36mpandas._libs.hashtable.PyObjectHashTable.get_item\u001b[0;34m()\u001b[0m\n",
            "\u001b[0;31mKeyError\u001b[0m: 'HoldB3SA3.SA'",
            "\nThe above exception was the direct cause of the following exception:\n",
            "\u001b[0;31mKeyError\u001b[0m                                  Traceback (most recent call last)",
            "\u001b[0;32m<ipython-input-150-405cc5d7d03d>\u001b[0m in \u001b[0;36m<module>\u001b[0;34m()\u001b[0m\n\u001b[1;32m      7\u001b[0m \u001b[0;34m\u001b[0m\u001b[0m\n\u001b[1;32m      8\u001b[0m \u001b[0mportfolio\u001b[0m\u001b[0;34m[\u001b[0m\u001b[0mX\u001b[0m\u001b[0;34m.\u001b[0m\u001b[0mname\u001b[0m\u001b[0;34m]\u001b[0m \u001b[0;34m=\u001b[0m \u001b[0mX\u001b[0m\u001b[0;34m\u001b[0m\u001b[0;34m\u001b[0m\u001b[0m\n\u001b[0;32m----> 9\u001b[0;31m \u001b[0mportfolio\u001b[0m\u001b[0;34m[\u001b[0m\u001b[0;34m'Hold'\u001b[0m\u001b[0;34m+\u001b[0m\u001b[0mX\u001b[0m\u001b[0;34m.\u001b[0m\u001b[0mname\u001b[0m\u001b[0;34m]\u001b[0m\u001b[0;34m\u001b[0m\u001b[0;34m\u001b[0m\u001b[0m\n\u001b[0m\u001b[1;32m     10\u001b[0m \u001b[0;34m\u001b[0m\u001b[0m\n\u001b[1;32m     11\u001b[0m \u001b[0mportfolio\u001b[0m\u001b[0;34m[\u001b[0m\u001b[0mY\u001b[0m\u001b[0;34m.\u001b[0m\u001b[0mname\u001b[0m\u001b[0;34m]\u001b[0m \u001b[0;34m=\u001b[0m \u001b[0mY\u001b[0m\u001b[0;34m\u001b[0m\u001b[0;34m\u001b[0m\u001b[0m\n",
            "\u001b[0;32m/home/yair/.local/lib/python3.7/site-packages/pandas/core/frame.py\u001b[0m in \u001b[0;36m__getitem__\u001b[0;34m(self, key)\u001b[0m\n\u001b[1;32m   3456\u001b[0m             \u001b[0;32mif\u001b[0m \u001b[0mself\u001b[0m\u001b[0;34m.\u001b[0m\u001b[0mcolumns\u001b[0m\u001b[0;34m.\u001b[0m\u001b[0mnlevels\u001b[0m \u001b[0;34m>\u001b[0m \u001b[0;36m1\u001b[0m\u001b[0;34m:\u001b[0m\u001b[0;34m\u001b[0m\u001b[0;34m\u001b[0m\u001b[0m\n\u001b[1;32m   3457\u001b[0m                 \u001b[0;32mreturn\u001b[0m \u001b[0mself\u001b[0m\u001b[0;34m.\u001b[0m\u001b[0m_getitem_multilevel\u001b[0m\u001b[0;34m(\u001b[0m\u001b[0mkey\u001b[0m\u001b[0;34m)\u001b[0m\u001b[0;34m\u001b[0m\u001b[0;34m\u001b[0m\u001b[0m\n\u001b[0;32m-> 3458\u001b[0;31m             \u001b[0mindexer\u001b[0m \u001b[0;34m=\u001b[0m \u001b[0mself\u001b[0m\u001b[0;34m.\u001b[0m\u001b[0mcolumns\u001b[0m\u001b[0;34m.\u001b[0m\u001b[0mget_loc\u001b[0m\u001b[0;34m(\u001b[0m\u001b[0mkey\u001b[0m\u001b[0;34m)\u001b[0m\u001b[0;34m\u001b[0m\u001b[0;34m\u001b[0m\u001b[0m\n\u001b[0m\u001b[1;32m   3459\u001b[0m             \u001b[0;32mif\u001b[0m \u001b[0mis_integer\u001b[0m\u001b[0;34m(\u001b[0m\u001b[0mindexer\u001b[0m\u001b[0;34m)\u001b[0m\u001b[0;34m:\u001b[0m\u001b[0;34m\u001b[0m\u001b[0;34m\u001b[0m\u001b[0m\n\u001b[1;32m   3460\u001b[0m                 \u001b[0mindexer\u001b[0m \u001b[0;34m=\u001b[0m \u001b[0;34m[\u001b[0m\u001b[0mindexer\u001b[0m\u001b[0;34m]\u001b[0m\u001b[0;34m\u001b[0m\u001b[0;34m\u001b[0m\u001b[0m\n",
            "\u001b[0;32m/home/yair/.local/lib/python3.7/site-packages/pandas/core/indexes/base.py\u001b[0m in \u001b[0;36mget_loc\u001b[0;34m(self, key, method, tolerance)\u001b[0m\n\u001b[1;32m   3361\u001b[0m                 \u001b[0;32mreturn\u001b[0m \u001b[0mself\u001b[0m\u001b[0;34m.\u001b[0m\u001b[0m_engine\u001b[0m\u001b[0;34m.\u001b[0m\u001b[0mget_loc\u001b[0m\u001b[0;34m(\u001b[0m\u001b[0mcasted_key\u001b[0m\u001b[0;34m)\u001b[0m\u001b[0;34m\u001b[0m\u001b[0;34m\u001b[0m\u001b[0m\n\u001b[1;32m   3362\u001b[0m             \u001b[0;32mexcept\u001b[0m \u001b[0mKeyError\u001b[0m \u001b[0;32mas\u001b[0m \u001b[0merr\u001b[0m\u001b[0;34m:\u001b[0m\u001b[0;34m\u001b[0m\u001b[0;34m\u001b[0m\u001b[0m\n\u001b[0;32m-> 3363\u001b[0;31m                 \u001b[0;32mraise\u001b[0m \u001b[0mKeyError\u001b[0m\u001b[0;34m(\u001b[0m\u001b[0mkey\u001b[0m\u001b[0;34m)\u001b[0m \u001b[0;32mfrom\u001b[0m \u001b[0merr\u001b[0m\u001b[0;34m\u001b[0m\u001b[0;34m\u001b[0m\u001b[0m\n\u001b[0m\u001b[1;32m   3364\u001b[0m \u001b[0;34m\u001b[0m\u001b[0m\n\u001b[1;32m   3365\u001b[0m         \u001b[0;32mif\u001b[0m \u001b[0mis_scalar\u001b[0m\u001b[0;34m(\u001b[0m\u001b[0mkey\u001b[0m\u001b[0;34m)\u001b[0m \u001b[0;32mand\u001b[0m \u001b[0misna\u001b[0m\u001b[0;34m(\u001b[0m\u001b[0mkey\u001b[0m\u001b[0;34m)\u001b[0m \u001b[0;32mand\u001b[0m \u001b[0;32mnot\u001b[0m \u001b[0mself\u001b[0m\u001b[0;34m.\u001b[0m\u001b[0mhasnans\u001b[0m\u001b[0;34m:\u001b[0m\u001b[0;34m\u001b[0m\u001b[0;34m\u001b[0m\u001b[0m\n",
            "\u001b[0;31mKeyError\u001b[0m: 'HoldB3SA3.SA'"
          ]
        }
      ],
      "source": [
        "C0 = 1000\n",
        "\n",
        "CX = C0 // max(X)\n",
        "CY =  C0 //max(Y)\n",
        "\n",
        "portfolio = pd.DataFrame()\n",
        "\n",
        "portfolio[X.name] = X\n",
        "portfolio['Hold'+X.name] \n",
        "\n",
        "portfolio[Y.name] = Y\n",
        "\n"
      ]
    },
    {
      "cell_type": "code",
      "execution_count": null,
      "metadata": {},
      "outputs": [
        {
          "data": {
            "text/html": [
              "<div>\n",
              "<style scoped>\n",
              "    .dataframe tbody tr th:only-of-type {\n",
              "        vertical-align: middle;\n",
              "    }\n",
              "\n",
              "    .dataframe tbody tr th {\n",
              "        vertical-align: top;\n",
              "    }\n",
              "\n",
              "    .dataframe thead th {\n",
              "        text-align: right;\n",
              "    }\n",
              "</style>\n",
              "<table border=\"1\" class=\"dataframe\">\n",
              "  <thead>\n",
              "    <tr style=\"text-align: right;\">\n",
              "      <th></th>\n",
              "      <th>BPAC11.SA</th>\n",
              "    </tr>\n",
              "    <tr>\n",
              "      <th>Date</th>\n",
              "      <th></th>\n",
              "    </tr>\n",
              "  </thead>\n",
              "  <tbody>\n",
              "    <tr>\n",
              "      <th>2022-08-18</th>\n",
              "      <td>25.476221</td>\n",
              "    </tr>\n",
              "    <tr>\n",
              "      <th>2022-08-19</th>\n",
              "      <td>25.116579</td>\n",
              "    </tr>\n",
              "    <tr>\n",
              "      <th>2022-08-22</th>\n",
              "      <td>24.688898</td>\n",
              "    </tr>\n",
              "    <tr>\n",
              "      <th>2022-08-23</th>\n",
              "      <td>25.155460</td>\n",
              "    </tr>\n",
              "    <tr>\n",
              "      <th>2022-08-24</th>\n",
              "      <td>25.379021</td>\n",
              "    </tr>\n",
              "    <tr>\n",
              "      <th>...</th>\n",
              "      <td>...</td>\n",
              "    </tr>\n",
              "    <tr>\n",
              "      <th>2023-08-14</th>\n",
              "      <td>32.639999</td>\n",
              "    </tr>\n",
              "    <tr>\n",
              "      <th>2023-08-15</th>\n",
              "      <td>31.790001</td>\n",
              "    </tr>\n",
              "    <tr>\n",
              "      <th>2023-08-16</th>\n",
              "      <td>31.090000</td>\n",
              "    </tr>\n",
              "    <tr>\n",
              "      <th>2023-08-17</th>\n",
              "      <td>30.250000</td>\n",
              "    </tr>\n",
              "    <tr>\n",
              "      <th>2023-08-18</th>\n",
              "      <td>30.820000</td>\n",
              "    </tr>\n",
              "  </tbody>\n",
              "</table>\n",
              "<p>250 rows × 1 columns</p>\n",
              "</div>"
            ],
            "text/plain": [
              "            BPAC11.SA\n",
              "Date                 \n",
              "2022-08-18  25.476221\n",
              "2022-08-19  25.116579\n",
              "2022-08-22  24.688898\n",
              "2022-08-23  25.155460\n",
              "2022-08-24  25.379021\n",
              "...               ...\n",
              "2023-08-14  32.639999\n",
              "2023-08-15  31.790001\n",
              "2023-08-16  31.090000\n",
              "2023-08-17  30.250000\n",
              "2023-08-18  30.820000\n",
              "\n",
              "[250 rows x 1 columns]"
            ]
          },
          "execution_count": 105,
          "metadata": {},
          "output_type": "execute_result"
        }
      ],
      "source": [
        "portfolio"
      ]
    },
    {
      "cell_type": "code",
      "execution_count": null,
      "metadata": {
        "colab": {
          "base_uri": "https://localhost:8080/",
          "height": 498
        },
        "id": "KqzMgxjbofi9",
        "outputId": "80ff83d7-78be-4d99-ffce-343b091ac2cc"
      },
      "outputs": [
        {
          "data": {
            "text/plain": [
              "<AxesSubplot:xlabel='Date'>"
            ]
          },
          "execution_count": 212,
          "metadata": {},
          "output_type": "execute_result"
        },
        {
          "data": {
            "image/png": "[encoded data removed]",
            "text/plain": [
              "<Figure size 1152x576 with 1 Axes>"
            ]
          },
          "metadata": {},
          "output_type": "display_data"
        }
      ],
      "source": [
        "retornos = trades.posicao.pct_change() * trades.acao\n",
        "retornos.cumsum().plot(figsize=(16,8))"
      ]
    },
    {
      "cell_type": "code",
      "execution_count": null,
      "metadata": {
        "id": "KHtbqRIhosYU"
      },
      "outputs": [
        {
          "data": {
            "text/html": [
              "<div>\n",
              "<style scoped>\n",
              "    .dataframe tbody tr th:only-of-type {\n",
              "        vertical-align: middle;\n",
              "    }\n",
              "\n",
              "    .dataframe tbody tr th {\n",
              "        vertical-align: top;\n",
              "    }\n",
              "\n",
              "    .dataframe thead th {\n",
              "        text-align: right;\n",
              "    }\n",
              "</style>\n",
              "<table border=\"1\" class=\"dataframe\">\n",
              "  <thead>\n",
              "    <tr style=\"text-align: right;\">\n",
              "      <th></th>\n",
              "      <th>a</th>\n",
              "      <th>b</th>\n",
              "    </tr>\n",
              "  </thead>\n",
              "  <tbody>\n",
              "    <tr>\n",
              "      <th>0</th>\n",
              "      <td>0</td>\n",
              "      <td>0</td>\n",
              "    </tr>\n",
              "    <tr>\n",
              "      <th>1</th>\n",
              "      <td>0</td>\n",
              "      <td>0</td>\n",
              "    </tr>\n",
              "    <tr>\n",
              "      <th>2</th>\n",
              "      <td>1</td>\n",
              "      <td>-1</td>\n",
              "    </tr>\n",
              "    <tr>\n",
              "      <th>3</th>\n",
              "      <td>1</td>\n",
              "      <td>-1</td>\n",
              "    </tr>\n",
              "    <tr>\n",
              "      <th>4</th>\n",
              "      <td>1</td>\n",
              "      <td>-1</td>\n",
              "    </tr>\n",
              "    <tr>\n",
              "      <th>5</th>\n",
              "      <td>1</td>\n",
              "      <td>-1</td>\n",
              "    </tr>\n",
              "    <tr>\n",
              "      <th>6</th>\n",
              "      <td>0</td>\n",
              "      <td>0</td>\n",
              "    </tr>\n",
              "    <tr>\n",
              "      <th>7</th>\n",
              "      <td>0</td>\n",
              "      <td>0</td>\n",
              "    </tr>\n",
              "    <tr>\n",
              "      <th>8</th>\n",
              "      <td>0</td>\n",
              "      <td>0</td>\n",
              "    </tr>\n",
              "    <tr>\n",
              "      <th>9</th>\n",
              "      <td>0</td>\n",
              "      <td>0</td>\n",
              "    </tr>\n",
              "    <tr>\n",
              "      <th>10</th>\n",
              "      <td>1</td>\n",
              "      <td>-1</td>\n",
              "    </tr>\n",
              "    <tr>\n",
              "      <th>11</th>\n",
              "      <td>1</td>\n",
              "      <td>-1</td>\n",
              "    </tr>\n",
              "    <tr>\n",
              "      <th>12</th>\n",
              "      <td>1</td>\n",
              "      <td>-1</td>\n",
              "    </tr>\n",
              "    <tr>\n",
              "      <th>13</th>\n",
              "      <td>1</td>\n",
              "      <td>-1</td>\n",
              "    </tr>\n",
              "    <tr>\n",
              "      <th>14</th>\n",
              "      <td>0</td>\n",
              "      <td>0</td>\n",
              "    </tr>\n",
              "  </tbody>\n",
              "</table>\n",
              "</div>"
            ],
            "text/plain": [
              "    a  b\n",
              "0   0  0\n",
              "1   0  0\n",
              "2   1 -1\n",
              "3   1 -1\n",
              "4   1 -1\n",
              "5   1 -1\n",
              "6   0  0\n",
              "7   0  0\n",
              "8   0  0\n",
              "9   0  0\n",
              "10  1 -1\n",
              "11  1 -1\n",
              "12  1 -1\n",
              "13  1 -1\n",
              "14  0  0"
            ]
          },
          "execution_count": 98,
          "metadata": {},
          "output_type": "execute_result"
        }
      ],
      "source": [
        "a=pd.DataFrame({'a':[0,0,1,1,1,1,0,0,0,0,1,1,1,1,0]})\n",
        "a['b'] = -a['a']\n",
        "a"
      ]
    },
    {
      "cell_type": "code",
      "execution_count": null,
      "metadata": {},
      "outputs": [
        {
          "data": {
            "text/html": [
              "<div>\n",
              "<style scoped>\n",
              "    .dataframe tbody tr th:only-of-type {\n",
              "        vertical-align: middle;\n",
              "    }\n",
              "\n",
              "    .dataframe tbody tr th {\n",
              "        vertical-align: top;\n",
              "    }\n",
              "\n",
              "    .dataframe thead th {\n",
              "        text-align: right;\n",
              "    }\n",
              "</style>\n",
              "<table border=\"1\" class=\"dataframe\">\n",
              "  <thead>\n",
              "    <tr style=\"text-align: right;\">\n",
              "      <th></th>\n",
              "      <th>a</th>\n",
              "      <th>b</th>\n",
              "    </tr>\n",
              "  </thead>\n",
              "  <tbody>\n",
              "    <tr>\n",
              "      <th>0</th>\n",
              "      <td>NaN</td>\n",
              "      <td>NaN</td>\n",
              "    </tr>\n",
              "    <tr>\n",
              "      <th>1</th>\n",
              "      <td>0.0</td>\n",
              "      <td>0.0</td>\n",
              "    </tr>\n",
              "    <tr>\n",
              "      <th>2</th>\n",
              "      <td>1.0</td>\n",
              "      <td>-1.0</td>\n",
              "    </tr>\n",
              "    <tr>\n",
              "      <th>3</th>\n",
              "      <td>0.0</td>\n",
              "      <td>0.0</td>\n",
              "    </tr>\n",
              "    <tr>\n",
              "      <th>4</th>\n",
              "      <td>0.0</td>\n",
              "      <td>0.0</td>\n",
              "    </tr>\n",
              "    <tr>\n",
              "      <th>5</th>\n",
              "      <td>0.0</td>\n",
              "      <td>0.0</td>\n",
              "    </tr>\n",
              "    <tr>\n",
              "      <th>6</th>\n",
              "      <td>-1.0</td>\n",
              "      <td>1.0</td>\n",
              "    </tr>\n",
              "    <tr>\n",
              "      <th>7</th>\n",
              "      <td>0.0</td>\n",
              "      <td>0.0</td>\n",
              "    </tr>\n",
              "    <tr>\n",
              "      <th>8</th>\n",
              "      <td>0.0</td>\n",
              "      <td>0.0</td>\n",
              "    </tr>\n",
              "    <tr>\n",
              "      <th>9</th>\n",
              "      <td>0.0</td>\n",
              "      <td>0.0</td>\n",
              "    </tr>\n",
              "    <tr>\n",
              "      <th>10</th>\n",
              "      <td>1.0</td>\n",
              "      <td>-1.0</td>\n",
              "    </tr>\n",
              "    <tr>\n",
              "      <th>11</th>\n",
              "      <td>0.0</td>\n",
              "      <td>0.0</td>\n",
              "    </tr>\n",
              "    <tr>\n",
              "      <th>12</th>\n",
              "      <td>0.0</td>\n",
              "      <td>0.0</td>\n",
              "    </tr>\n",
              "    <tr>\n",
              "      <th>13</th>\n",
              "      <td>0.0</td>\n",
              "      <td>0.0</td>\n",
              "    </tr>\n",
              "    <tr>\n",
              "      <th>14</th>\n",
              "      <td>-1.0</td>\n",
              "      <td>1.0</td>\n",
              "    </tr>\n",
              "  </tbody>\n",
              "</table>\n",
              "</div>"
            ],
            "text/plain": [
              "      a    b\n",
              "0   NaN  NaN\n",
              "1   0.0  0.0\n",
              "2   1.0 -1.0\n",
              "3   0.0  0.0\n",
              "4   0.0  0.0\n",
              "5   0.0  0.0\n",
              "6  -1.0  1.0\n",
              "7   0.0  0.0\n",
              "8   0.0  0.0\n",
              "9   0.0  0.0\n",
              "10  1.0 -1.0\n",
              "11  0.0  0.0\n",
              "12  0.0  0.0\n",
              "13  0.0  0.0\n",
              "14 -1.0  1.0"
            ]
          },
          "execution_count": 99,
          "metadata": {},
          "output_type": "execute_result"
        }
      ],
      "source": [
        "a.diff()"
      ]
    },
    {
      "cell_type": "code",
      "execution_count": null,
      "metadata": {},
      "outputs": [],
      "source": []
    },
    {
      "cell_type": "code",
      "execution_count": null,
      "metadata": {},
      "outputs": [],
      "source": []
    }
  ],
  "metadata": {
    "colab": {
      "include_colab_link": true,
      "provenance": []
    },
    "kernelspec": {
      "display_name": "Python 3",
      "name": "python3"
    },
    "language_info": {
      "codemirror_mode": {
        "name": "ipython",
        "version": 3
      },
      "file_extension": ".py",
      "mimetype": "text/x-python",
      "name": "python",
      "nbconvert_exporter": "python",
      "pygments_lexer": "ipython3",
      "version": "3.7.3"
    }
  },
  "nbformat": 4,
  "nbformat_minor": 0
}
