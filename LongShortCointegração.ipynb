{
  "cells": [
    {
      "cell_type": "markdown",
      "metadata": {
        "colab_type": "text",
        "id": "view-in-github"
      },
      "source": [
        "<a href=\"https://colab.research.google.com/github/BDonadelli/Codigos-em-financas/blob/main/LongShortCointegra%C3%A7%C3%A3o.ipynb\" target=\"_parent\"><img src=\"https://colab.research.google.com/assets/colab-badge.svg\" alt=\"Open In Colab\"/></a>"
      ]
    },
    {
      "cell_type": "code",
      "execution_count": 29,
      "metadata": {
        "id": "7PaA4JxHwdhZ"
      },
      "outputs": [],
      "source": [
        "import yfinance as yf\n",
        "\n",
        "import numpy as np\n",
        "import pandas as pd\n",
        "\n",
        "import seaborn\n",
        "from seaborn.matrix import axis_ticklabels_overlap\n",
        "import matplotlib.pyplot as plt\n",
        "from pylab import rcParams\n",
        "#rcParams['figure.figsize'] = 15, 5\n",
        "\n",
        "import statsmodels.api as sm\n",
        "from statsmodels.tsa.stattools import coint, adfuller"
      ]
    },
    {
      "cell_type": "code",
      "execution_count": 101,
      "metadata": {},
      "outputs": [
        {
          "name": "stdout",
          "output_type": "stream",
          "text": [
            "436\n",
            "2346\n",
            "0.0001\n"
          ]
        }
      ],
      "source": [
        "symbols = [\n",
        "    'RRRP3', 'ENEV3','PETR3', 'PETR4', 'PRIO3',\n",
        "    'ABEV3', 'ASAI3','CRFB3','LREN3', 'MGLU3','PCAR3', 'VIIA3',\n",
        "    'AZUL4', 'GOLL4', 'CVCB3',\n",
        "    'B3SA3', 'BPAN4','BPAC11', 'BBSE3','BBDC3', 'BBDC4', 'BBAS3', 'CIEL3','ITSA4','ITUB4', 'SANB11',\n",
        "    'IGTI11','MULT3',\n",
        "    'BRAP4', 'CMIN3', 'GGBR4', 'GOAU4','CSNA3','USIM5','VALE3',\n",
        "    'BRFS3', 'JBSS3', 'MRFG3', 'BEEF3',\n",
        "    'CCRO3', 'ECOR3',\n",
        "    'CMIG4', 'CPLE6', 'CPFE3', 'ELET3', 'ELET6', 'ENGI11','EGIE3', 'EQTL3','TAEE11',\n",
        "    'CYRE3', 'DXCO3', 'EZTC3','JHSF3','MRVE3',\n",
        "    'HAPV3', 'HYPE3', 'QUAL3', 'RADL3', 'RDOR3',\n",
        "    'LWSA3', 'POSI3', 'TOTS3','SQIA3' , 'VLID3' ,\n",
        "    'UGPA3', 'VBBR3', \n",
        "    'BOVA11', 'SMAL11'\n",
        "    ] \n",
        "\n",
        "dados = yf.download((pd.Series(symbols)+'.SA').to_list(), period = 'max', auto_adjust=True , progress = False)['Close']\n",
        "dados.dropna(inplace=True)\n",
        "print(dados.shape[0])\n",
        "\n",
        "symbols=dados.keys()\n",
        "\n",
        "N=int(len(symbols)*(len(symbols)-1)/2)\n",
        "print(N)\n",
        "relative_cutoff = 1 * 10 ** (-int(np.log(N)/np.log(10))-1)\n",
        "print(relative_cutoff)"
      ]
    },
    {
      "cell_type": "code",
      "execution_count": 103,
      "metadata": {},
      "outputs": [
        {
          "data": {
            "text/html": [
              "<div>\n",
              "<style scoped>\n",
              "    .dataframe tbody tr th:only-of-type {\n",
              "        vertical-align: middle;\n",
              "    }\n",
              "\n",
              "    .dataframe tbody tr th {\n",
              "        vertical-align: top;\n",
              "    }\n",
              "\n",
              "    .dataframe thead th {\n",
              "        text-align: right;\n",
              "    }\n",
              "</style>\n",
              "<table border=\"1\" class=\"dataframe\">\n",
              "  <thead>\n",
              "    <tr style=\"text-align: right;\">\n",
              "      <th></th>\n",
              "      <th>ABEV3.SA</th>\n",
              "      <th>ASAI3.SA</th>\n",
              "      <th>AZUL4.SA</th>\n",
              "      <th>B3SA3.SA</th>\n",
              "      <th>BBAS3.SA</th>\n",
              "      <th>BBDC3.SA</th>\n",
              "      <th>BBDC4.SA</th>\n",
              "      <th>BBSE3.SA</th>\n",
              "      <th>BEEF3.SA</th>\n",
              "      <th>BOVA11.SA</th>\n",
              "      <th>...</th>\n",
              "      <th>SMAL11.SA</th>\n",
              "      <th>SQIA3.SA</th>\n",
              "      <th>TAEE11.SA</th>\n",
              "      <th>TOTS3.SA</th>\n",
              "      <th>UGPA3.SA</th>\n",
              "      <th>USIM5.SA</th>\n",
              "      <th>VALE3.SA</th>\n",
              "      <th>VBBR3.SA</th>\n",
              "      <th>VIIA3.SA</th>\n",
              "      <th>VLID3.SA</th>\n",
              "    </tr>\n",
              "    <tr>\n",
              "      <th>Date</th>\n",
              "      <th></th>\n",
              "      <th></th>\n",
              "      <th></th>\n",
              "      <th></th>\n",
              "      <th></th>\n",
              "      <th></th>\n",
              "      <th></th>\n",
              "      <th></th>\n",
              "      <th></th>\n",
              "      <th></th>\n",
              "      <th></th>\n",
              "      <th></th>\n",
              "      <th></th>\n",
              "      <th></th>\n",
              "      <th></th>\n",
              "      <th></th>\n",
              "      <th></th>\n",
              "      <th></th>\n",
              "      <th></th>\n",
              "      <th></th>\n",
              "      <th></th>\n",
              "    </tr>\n",
              "  </thead>\n",
              "  <tbody>\n",
              "    <tr>\n",
              "      <th>2021-11-22</th>\n",
              "      <td>15.835101</td>\n",
              "      <td>13.597360</td>\n",
              "      <td>27.200001</td>\n",
              "      <td>11.266340</td>\n",
              "      <td>25.165943</td>\n",
              "      <td>14.238089</td>\n",
              "      <td>16.624496</td>\n",
              "      <td>18.276424</td>\n",
              "      <td>7.873819</td>\n",
              "      <td>98.239998</td>\n",
              "      <td>...</td>\n",
              "      <td>114.000000</td>\n",
              "      <td>16.876842</td>\n",
              "      <td>29.377354</td>\n",
              "      <td>32.322639</td>\n",
              "      <td>12.415503</td>\n",
              "      <td>11.268918</td>\n",
              "      <td>58.578014</td>\n",
              "      <td>20.638178</td>\n",
              "      <td>5.71</td>\n",
              "      <td>7.321340</td>\n",
              "    </tr>\n",
              "    <tr>\n",
              "      <th>2021-11-23</th>\n",
              "      <td>15.725390</td>\n",
              "      <td>13.666382</td>\n",
              "      <td>26.900000</td>\n",
              "      <td>11.154606</td>\n",
              "      <td>26.218138</td>\n",
              "      <td>14.590761</td>\n",
              "      <td>16.945787</td>\n",
              "      <td>18.025145</td>\n",
              "      <td>8.163432</td>\n",
              "      <td>100.000000</td>\n",
              "      <td>...</td>\n",
              "      <td>113.000000</td>\n",
              "      <td>16.489668</td>\n",
              "      <td>29.319300</td>\n",
              "      <td>30.711390</td>\n",
              "      <td>13.034872</td>\n",
              "      <td>11.805108</td>\n",
              "      <td>60.120689</td>\n",
              "      <td>21.224863</td>\n",
              "      <td>5.92</td>\n",
              "      <td>7.476337</td>\n",
              "    </tr>\n",
              "    <tr>\n",
              "      <th>2021-11-24</th>\n",
              "      <td>15.633963</td>\n",
              "      <td>13.528338</td>\n",
              "      <td>26.559999</td>\n",
              "      <td>11.350139</td>\n",
              "      <td>26.703823</td>\n",
              "      <td>14.853213</td>\n",
              "      <td>17.382402</td>\n",
              "      <td>18.117281</td>\n",
              "      <td>8.063878</td>\n",
              "      <td>100.660004</td>\n",
              "      <td>...</td>\n",
              "      <td>113.300003</td>\n",
              "      <td>16.231552</td>\n",
              "      <td>29.651064</td>\n",
              "      <td>31.365654</td>\n",
              "      <td>12.987949</td>\n",
              "      <td>12.216187</td>\n",
              "      <td>61.516014</td>\n",
              "      <td>20.912596</td>\n",
              "      <td>5.87</td>\n",
              "      <td>7.476337</td>\n",
              "    </tr>\n",
              "    <tr>\n",
              "      <th>2021-11-25</th>\n",
              "      <td>15.752815</td>\n",
              "      <td>13.656522</td>\n",
              "      <td>27.150000</td>\n",
              "      <td>11.517735</td>\n",
              "      <td>28.090229</td>\n",
              "      <td>14.910622</td>\n",
              "      <td>17.522448</td>\n",
              "      <td>18.536081</td>\n",
              "      <td>8.091029</td>\n",
              "      <td>101.989998</td>\n",
              "      <td>...</td>\n",
              "      <td>115.370003</td>\n",
              "      <td>16.817278</td>\n",
              "      <td>29.841818</td>\n",
              "      <td>31.629313</td>\n",
              "      <td>13.269482</td>\n",
              "      <td>12.350235</td>\n",
              "      <td>61.100010</td>\n",
              "      <td>21.073460</td>\n",
              "      <td>5.95</td>\n",
              "      <td>7.631335</td>\n",
              "    </tr>\n",
              "    <tr>\n",
              "      <th>2021-11-26</th>\n",
              "      <td>15.259113</td>\n",
              "      <td>13.173367</td>\n",
              "      <td>23.299999</td>\n",
              "      <td>10.968388</td>\n",
              "      <td>27.163017</td>\n",
              "      <td>14.385716</td>\n",
              "      <td>16.822212</td>\n",
              "      <td>18.033524</td>\n",
              "      <td>7.873819</td>\n",
              "      <td>98.389999</td>\n",
              "      <td>...</td>\n",
              "      <td>110.699997</td>\n",
              "      <td>16.082640</td>\n",
              "      <td>29.725708</td>\n",
              "      <td>30.594208</td>\n",
              "      <td>12.800262</td>\n",
              "      <td>11.537013</td>\n",
              "      <td>59.488014</td>\n",
              "      <td>20.505701</td>\n",
              "      <td>5.68</td>\n",
              "      <td>7.394280</td>\n",
              "    </tr>\n",
              "  </tbody>\n",
              "</table>\n",
              "<p>5 rows × 69 columns</p>\n",
              "</div>"
            ],
            "text/plain": [
              "             ABEV3.SA   ASAI3.SA   AZUL4.SA   B3SA3.SA   BBAS3.SA   BBDC3.SA  \\\n",
              "Date                                                                           \n",
              "2021-11-22  15.835101  13.597360  27.200001  11.266340  25.165943  14.238089   \n",
              "2021-11-23  15.725390  13.666382  26.900000  11.154606  26.218138  14.590761   \n",
              "2021-11-24  15.633963  13.528338  26.559999  11.350139  26.703823  14.853213   \n",
              "2021-11-25  15.752815  13.656522  27.150000  11.517735  28.090229  14.910622   \n",
              "2021-11-26  15.259113  13.173367  23.299999  10.968388  27.163017  14.385716   \n",
              "\n",
              "             BBDC4.SA   BBSE3.SA  BEEF3.SA   BOVA11.SA  ...   SMAL11.SA  \\\n",
              "Date                                                    ...               \n",
              "2021-11-22  16.624496  18.276424  7.873819   98.239998  ...  114.000000   \n",
              "2021-11-23  16.945787  18.025145  8.163432  100.000000  ...  113.000000   \n",
              "2021-11-24  17.382402  18.117281  8.063878  100.660004  ...  113.300003   \n",
              "2021-11-25  17.522448  18.536081  8.091029  101.989998  ...  115.370003   \n",
              "2021-11-26  16.822212  18.033524  7.873819   98.389999  ...  110.699997   \n",
              "\n",
              "             SQIA3.SA  TAEE11.SA   TOTS3.SA   UGPA3.SA   USIM5.SA   VALE3.SA  \\\n",
              "Date                                                                           \n",
              "2021-11-22  16.876842  29.377354  32.322639  12.415503  11.268918  58.578014   \n",
              "2021-11-23  16.489668  29.319300  30.711390  13.034872  11.805108  60.120689   \n",
              "2021-11-24  16.231552  29.651064  31.365654  12.987949  12.216187  61.516014   \n",
              "2021-11-25  16.817278  29.841818  31.629313  13.269482  12.350235  61.100010   \n",
              "2021-11-26  16.082640  29.725708  30.594208  12.800262  11.537013  59.488014   \n",
              "\n",
              "             VBBR3.SA  VIIA3.SA  VLID3.SA  \n",
              "Date                                       \n",
              "2021-11-22  20.638178      5.71  7.321340  \n",
              "2021-11-23  21.224863      5.92  7.476337  \n",
              "2021-11-24  20.912596      5.87  7.476337  \n",
              "2021-11-25  21.073460      5.95  7.631335  \n",
              "2021-11-26  20.505701      5.68  7.394280  \n",
              "\n",
              "[5 rows x 69 columns]"
            ]
          },
          "execution_count": 103,
          "metadata": {},
          "output_type": "execute_result"
        }
      ],
      "source": [
        "dados.to_csv('/home/yair/GHub/Codigos-em-financas/precos.csv')\n",
        "dados.head()"
      ]
    },
    {
      "cell_type": "code",
      "execution_count": 96,
      "metadata": {
        "id": "lplCei2uwfTX"
      },
      "outputs": [],
      "source": [
        "def zscore(series):\n",
        "    return (series - series.mean()) / np.std(series)\n",
        "\n",
        "def residuos (x,y):\n",
        "  x = np.array(x)\n",
        "  y = np.array(y)\n",
        "  xx = sm.add_constant(x)\n",
        "  model = sm.OLS(y, xx)\n",
        "  results = model.fit()\n",
        "  intercept, slope = results.params\n",
        "  r_sq = results.rsquared \n",
        "  return y -  slope*x , slope , intercept , r_sq \n",
        "\n",
        "def estacionaridade(X, cutoff=0.01 ):\n",
        "     # H_0 é nao-estacionário, i.e., admite raiz unitaria (teste adfuller)    \n",
        "    pvalue = adfuller(X)[1]\n",
        "    if pvalue < cutoff:\n",
        "        print('p-value = ' + str(pvalue) + ' A serie \"'+X.name+'\" é, provavelmente, estacionaria.')\n",
        "        return True\n",
        "    else:\n",
        "        print('p-value = ' + str(pvalue) + ' A serie \"'+X.name+'\" é, provavelmente, não-estacionaria.')\n",
        "        return False\n",
        "\n",
        "def find_cointegrated_pairs(data,cutoff=0.05):\n",
        "  \"\"\"\n",
        "      Para cada par (X,Y) de ativos testa cointegração. ie, estacionariedade de Y - Ŷ  \n",
        "  \"\"\"\n",
        "  n = data.shape[1]\n",
        "  score_matrix = np.zeros((n, n))\n",
        "  pvalue_matrix = np.ones((n, n))\n",
        "  keys = data.keys()\n",
        "  pairs = []\n",
        "  for i in range(n):\n",
        "      for j in range(i+1, n):\n",
        "          X = data[keys[i]]\n",
        "          Y = data[keys[j]]\n",
        "          result = coint(Y,X) # Y dependent\n",
        "          score = result[0]\n",
        "          pvalue = result[1]\n",
        "          score_matrix[i, j] = score\n",
        "          pvalue_matrix[i, j] = pvalue\n",
        "          if pvalue < cutoff:\n",
        "              pairs.append((keys[i], keys[j]))\n",
        "  return score_matrix, pvalue_matrix, pairs \n",
        "\n",
        "\n",
        "def arrange_subplots(xs, ys, n_plots , tt =[]):\n",
        "  \"\"\"\n",
        "  ---- Parameters ----\n",
        "  xs (n_plots, d): list with n_plot different lists of x values that we wish to plot\n",
        "  ys (n_plots, d): list with n_plot different lists of y values that we wish to plot\n",
        "  n_plots (int): the number of desired subplots\n",
        "  \"\"\"\n",
        "  from matplotlib import gridspec\n",
        "  %matplotlib inline\n",
        "\n",
        "  # compute the number of rows and columns\n",
        "  if n_plots<3 : \n",
        "    n_cols = 3\n",
        "    n_rows = 1\n",
        "  else: \n",
        "    n_cols = int(np.sqrt(n_plots))\n",
        "    n_rows = int(np.ceil(n_plots / n_cols))\n",
        "\n",
        "  # setup the plot\n",
        "  gs = gridspec.GridSpec(n_rows, n_cols)\n",
        "  scale = max(n_cols, n_rows)\n",
        "  fig = plt.figure(figsize=(.5 * scale, .5 * scale))\n",
        "\n",
        "  # loop through each subplot and plot values there\n",
        "  for i in range(n_plots):\n",
        "    ax = fig.add_subplot(gs[i])\n",
        "    ax.title.set_text(tt[i])\n",
        "    ax.plot(xs[i], ys[i])\n",
        "    plt.axhline(y = 0, color = 'silver', linestyle = '-')\n",
        "    plt.axhline(y = 1, color = 'orange', linestyle = '-')\n",
        "    plt.axhline(y = -1, color = 'orange', linestyle = '-')\n",
        "    plt.axhline(y = 2, color = 'red', linestyle = '-')\n",
        "    plt.axhline(y = -2, color = 'red', linestyle = '-')\n",
        "\n",
        "    plt.show()\n",
        "\n"
      ]
    },
    {
      "cell_type": "code",
      "execution_count": null,
      "metadata": {},
      "outputs": [],
      "source": [
        "# # code to check data\n",
        "# y = dados.iloc[:,0].values.astype(float)\n",
        "# x = dados.iloc[:,1].values.astype(float)\n",
        "# print(coint(x,y))\n",
        "# print(coint(y,x))\n",
        "# xx = sm.add_constant(x)\n",
        "# model = sm.OLS(y, xx)\n",
        "# result = model.fit()\n",
        "# intercept, slope = result.params\n",
        "# print(adfuller(y-slope*x))\n",
        "# print(adfuller(y-(slope*x+intercept)))\n",
        "# print(adfuller(result.resid))"
      ]
    },
    {
      "cell_type": "code",
      "execution_count": 116,
      "metadata": {},
      "outputs": [
        {
          "data": {
            "text/plain": [
              "14"
            ]
          },
          "execution_count": 116,
          "metadata": {},
          "output_type": "execute_result"
        }
      ],
      "source": [
        "scores, pvalues, pairs = find_cointegrated_pairs(dados,.005)#relative_cutoff)\n",
        "len(pairs)"
      ]
    },
    {
      "cell_type": "code",
      "execution_count": 117,
      "metadata": {},
      "outputs": [
        {
          "name": "stdout",
          "output_type": "stream",
          "text": [
            " par ('B3SA3.SA', 'BOVA11.SA'); confiabilidade 99.99%; score -5.21874809687291; p-valor 6.393445092095531e-05 \n",
            " par ('BPAC11.SA', 'ENGI11.SA'); confiabilidade 99.99%; score -5.054578451748146; p-valor 0.00013051168749976226 \n",
            " par ('BRAP4.SA', 'VALE3.SA'); confiabilidade 100.00%; score -9.062749904746234; p-valor 6.016518686850081e-14 \n",
            " par ('DXCO3.SA', 'GOLL4.SA'); confiabilidade 99.97%; score -4.8912060215547655; p-valor 0.00025964547229877417 \n",
            " par ('EGIE3.SA', 'IGTI11.SA'); confiabilidade 99.91%; score -4.580151392398768; p-valor 0.0009015229753899015 \n",
            " par ('MRFG3.SA', 'QUAL3.SA'); confiabilidade 99.94%; score -4.702595555484081; p-valor 0.000558099799035644 \n",
            " par ('RDOR3.SA', 'VBBR3.SA'); confiabilidade 99.97%; score -4.897326046537387; p-valor 0.0002531448359034276 \n"
          ]
        }
      ],
      "source": [
        "for pp in pairs:\n",
        "    i = pd.Index(symbols).get_loc(pp[0])\n",
        "    j = pd.Index(symbols).get_loc(pp[1])\n",
        "    if (1-pvalues[i,j]) > 0.999:\n",
        "        print(f' par {pp}; confiabilidade {(1-pvalues[i,j])*100:.2f}%; score {scores[i,j]}; p-valor {pvalues[i,j]} ')"
      ]
    },
    {
      "cell_type": "code",
      "execution_count": 122,
      "metadata": {},
      "outputs": [],
      "source": [
        "# dados = dados.apply(np.log)"
      ]
    },
    {
      "cell_type": "code",
      "execution_count": 123,
      "metadata": {},
      "outputs": [
        {
          "data": {
            "text/plain": [
              "6.016518686850081e-14"
            ]
          },
          "execution_count": 123,
          "metadata": {},
          "output_type": "execute_result"
        }
      ],
      "source": [
        "pvalues.min()"
      ]
    },
    {
      "cell_type": "code",
      "execution_count": 124,
      "metadata": {},
      "outputs": [
        {
          "data": {
            "text/plain": [
              "-9.062749904746234"
            ]
          },
          "execution_count": 124,
          "metadata": {},
          "output_type": "execute_result"
        }
      ],
      "source": [
        "scores[np.unravel_index(scores.argmin(), scores.shape)[0]][np.unravel_index(scores.argmin(), scores.shape)[1]]"
      ]
    },
    {
      "cell_type": "code",
      "execution_count": 125,
      "metadata": {},
      "outputs": [
        {
          "name": "stdout",
          "output_type": "stream",
          "text": [
            "BRAP4.SA VALE3.SA\n"
          ]
        }
      ],
      "source": [
        "print(symbols[np.unravel_index(pvalues.argmin(), pvalues.shape)[0]] \n",
        "      , symbols[np.unravel_index(pvalues.argmin(), pvalues.shape)[1]])"
      ]
    },
    {
      "cell_type": "code",
      "execution_count": 137,
      "metadata": {},
      "outputs": [],
      "source": [
        "X= dados[symbols[np.unravel_index(scores.argmin(), scores.shape)[0]]]\n",
        "Y= dados[symbols[np.unravel_index(scores.argmin(), scores.shape)[1]]]\n",
        "X=dados['BPAC11.SA']\n",
        "Y=dados['ENGI11.SA']"
      ]
    },
    {
      "cell_type": "code",
      "execution_count": null,
      "metadata": {
        "colab": {
          "base_uri": "https://localhost:8080/",
          "height": 1000
        },
        "id": "-5xRuwjmIeKK",
        "outputId": "fe6ae243-9a11-42b1-f2d2-031a6d005b89"
      },
      "outputs": [],
      "source": [
        "# seaborn.set(rc={'figure.figsize':(8,8)})\n",
        "# seaborn.heatmap(\n",
        "#     pvalues, \n",
        "#     xticklabels=symbols, \n",
        "#     yticklabels=symbols, \n",
        "#     cmap='RdYlGn_r', \n",
        "#     mask = (pvalues >= 0.01)\n",
        "# )"
      ]
    },
    {
      "cell_type": "code",
      "execution_count": 140,
      "metadata": {
        "id": "kwVKlLNjq4EW"
      },
      "outputs": [],
      "source": [
        "# !pip install -qU kaleido\n",
        "import kaleido\n",
        "import plotly\n",
        "plotly.io.renderers.default = 'svg'\n"
      ]
    },
    {
      "cell_type": "code",
      "execution_count": 141,
      "metadata": {
        "id": "7iXoM5eXE6fx"
      },
      "outputs": [],
      "source": [
        "import plotly.graph_objs as go\n",
        "from plotly.subplots import make_subplots\n"
      ]
    },
    {
      "cell_type": "code",
      "execution_count": 142,
      "metadata": {},
      "outputs": [
        {
          "data": {
            "image/svg+xml": [
              "<svg class=\"main-svg\" xmlns=\"http://www.w3.org/2000/svg\" xmlns:xlink=\"http://www.w3.org/1999/xlink\" width=\"700\" height=\"500\" style=\"\" viewBox=\"0 0 700 500\"><rect x=\"0\" y=\"0\" width=\"700\" height=\"500\" style=\"fill: rgb(255, 255, 255); fill-opacity: 1;\"/><defs id=\"defs-115adc\"><g class=\"clips\"><clipPath id=\"clip115adcxyplot\" class=\"plotclip\"><rect width=\"491\" height=\"320\"/></clipPath><clipPath class=\"axesclip\" id=\"clip115adcx\"><rect x=\"80\" y=\"0\" width=\"491\" height=\"500\"/></clipPath><clipPath class=\"axesclip\" id=\"clip115adcy\"><rect x=\"0\" y=\"100\" width=\"700\" height=\"320\"/></clipPath><clipPath class=\"axesclip\" id=\"clip115adcxy\"><rect x=\"80\" y=\"100\" width=\"491\" height=\"320\"/></clipPath></g><g class=\"gradients\"/><g class=\"patterns\"/></defs><g class=\"bglayer\"><rect class=\"bg\" x=\"80\" y=\"100\" width=\"491\" height=\"320\" style=\"fill: rgb(229, 236, 246); fill-opacity: 1; stroke-width: 0;\"/></g><g class=\"layer-below\"><g class=\"imagelayer\"/><g class=\"shapelayer\"/></g><g class=\"cartesianlayer\"><g class=\"subplot xy\"><g class=\"layer-subplot\"><g class=\"shapelayer\"/><g class=\"imagelayer\"/></g><g class=\"minor-gridlayer\"><g class=\"x\"/><g class=\"y\"/></g><g class=\"gridlayer\"><g class=\"x\"><path class=\"xgrid crisp\" transform=\"translate(110.98,0)\" d=\"M0,100v320\" style=\"stroke: rgb(255, 255, 255); stroke-opacity: 1; stroke-width: 1px;\"/><path class=\"xgrid crisp\" transform=\"translate(180.68,0)\" d=\"M0,100v320\" style=\"stroke: rgb(255, 255, 255); stroke-opacity: 1; stroke-width: 1px;\"/><path class=\"xgrid crisp\" transform=\"translate(251.15,0)\" d=\"M0,100v320\" style=\"stroke: rgb(255, 255, 255); stroke-opacity: 1; stroke-width: 1px;\"/><path class=\"xgrid crisp\" transform=\"translate(322.4,0)\" d=\"M0,100v320\" style=\"stroke: rgb(255, 255, 255); stroke-opacity: 1; stroke-width: 1px;\"/><path class=\"xgrid crisp\" transform=\"translate(393.65,0)\" d=\"M0,100v320\" style=\"stroke: rgb(255, 255, 255); stroke-opacity: 1; stroke-width: 1px;\"/><path class=\"xgrid crisp\" transform=\"translate(463.35,0)\" d=\"M0,100v320\" style=\"stroke: rgb(255, 255, 255); stroke-opacity: 1; stroke-width: 1px;\"/><path class=\"xgrid crisp\" transform=\"translate(533.8299999999999,0)\" d=\"M0,100v320\" style=\"stroke: rgb(255, 255, 255); stroke-opacity: 1; stroke-width: 1px;\"/></g><g class=\"y\"><path class=\"ygrid crisp\" transform=\"translate(0,384.07)\" d=\"M80,0h491\" style=\"stroke: rgb(255, 255, 255); stroke-opacity: 1; stroke-width: 1px;\"/><path class=\"ygrid crisp\" transform=\"translate(0,340.47)\" d=\"M80,0h491\" style=\"stroke: rgb(255, 255, 255); stroke-opacity: 1; stroke-width: 1px;\"/><path class=\"ygrid crisp\" transform=\"translate(0,296.88)\" d=\"M80,0h491\" style=\"stroke: rgb(255, 255, 255); stroke-opacity: 1; stroke-width: 1px;\"/><path class=\"ygrid crisp\" transform=\"translate(0,253.28)\" d=\"M80,0h491\" style=\"stroke: rgb(255, 255, 255); stroke-opacity: 1; stroke-width: 1px;\"/><path class=\"ygrid crisp\" transform=\"translate(0,209.68)\" d=\"M80,0h491\" style=\"stroke: rgb(255, 255, 255); stroke-opacity: 1; stroke-width: 1px;\"/><path class=\"ygrid crisp\" transform=\"translate(0,166.07999999999998)\" d=\"M80,0h491\" style=\"stroke: rgb(255, 255, 255); stroke-opacity: 1; stroke-width: 1px;\"/><path class=\"ygrid crisp\" transform=\"translate(0,122.49)\" d=\"M80,0h491\" style=\"stroke: rgb(255, 255, 255); stroke-opacity: 1; stroke-width: 1px;\"/></g></g><g class=\"zerolinelayer\"/><path class=\"xlines-below\"/><path class=\"ylines-below\"/><g class=\"overlines-below\"/><g class=\"xaxislayer-below\"/><g class=\"yaxislayer-below\"/><g class=\"overaxes-below\"/><g class=\"plot\" transform=\"translate(80,100)\" clip-path=\"url(#clip115adcxyplot)\"><g class=\"scatterlayer mlayer\"><g class=\"trace scatter trace81f6f1\" style=\"stroke-miterlimit: 2; opacity: 1;\"><g class=\"fills\"/><g class=\"errorbars\"/><g class=\"lines\"><path class=\"js-line\" d=\"M0,293.61L0.77,292.12L1.55,287.98L2.32,277.72L3.1,286.16L5.42,280.2L6.2,287.48L7.74,285.58L8.52,283.84L10.84,282.35L11.62,282.85L12.39,278.79L13.17,281.61L13.94,270.85L16.26,269.52L17.04,277.8L17.81,272.75L18.59,274.32L19.36,270.93L22.46,280.72L23.23,277.65L24.01,280.3L27.11,280.14L27.88,286.45L28.65,286.36L29.43,284.37L32.53,291.43L34.85,304L35.62,302.83L37.95,303.16L38.72,295.72L39.5,294.8L40.27,296.97L41.05,294.38L43.37,293.12L44.14,299.9L44.92,291.62L45.69,277.64L46.47,280.24L48.79,277.64L49.56,270.03L51.11,256.64L51.89,263.34L54.99,255.55L55.76,262.75L57.31,267.1L59.63,268.86L60.41,269.53L61.18,262.33L61.96,263.34L62.73,265.85L65.05,263.08L65.83,250.53L66.6,247.1L67.38,248.69L68.15,248.11L70.47,256.31L71.25,245.51L72.02,247.52L72.8,240.49L73.57,245.85L77.44,248.02L78.22,252.04L78.99,259.15L81.32,266.01L82.87,249.28L83.64,255.39L84.41,258.9L86.74,261.08L87.51,260.07L88.29,253.8L89.84,243.84L92.16,249.53L94.48,236.31L95.26,232.88L97.58,232.54L98.35,231.29L99.9,240.58L100.68,235.64L103,237.73L103.78,246.43L104.55,248.36L105.32,243.92L106.1,244.34L108.42,247.19L109.2,250.95L109.97,246.18L110.75,248.44L113.84,247.19L115.39,238.82L116.94,245.93L119.26,248.27L120.04,258.9L120.81,258.98L121.59,256.56L122.36,265.26L124.69,265.34L125.46,269.03L126.24,265.85L127.78,275.22L130.11,268.61L130.88,262.92L131.66,269.11L133.21,255.55L135.53,253.29L136.3,250.7L137.08,258.73L138.63,252.04L140.95,253.96L141.72,255.47L142.5,251.96L144.05,247.61L146.37,250.12L147.15,248.27L147.92,250.62L148.69,246.52L149.47,254.72L153.34,266.6L154.12,264.17L154.89,270.78L157.21,276.47L157.99,276.14L158.76,270.61L160.31,277.81L162.63,279.4L163.41,277.48L164.18,267.44L165.73,271.12L168.06,264.34L169.6,272.12L170.38,271.79L171.15,269.28L173.48,272.46L174.25,271.28L175.03,268.19L175.8,268.61L176.57,270.36L178.9,276.56L179.67,274.05L180.45,272.71L181.22,281.74L182,277.73L184.32,277.81L185.09,268.19L185.87,268.69L186.64,269.11L187.42,270.45L189.74,269.28L190.51,275.8L192.06,268.02L192.84,269.19L195.16,272.2L195.94,270.45L196.71,264.84L197.48,253.04L198.26,249.63L200.58,247.76L201.36,252.17L202.13,237.51L202.91,237.59L203.68,236.83L206,234.54L206.78,235.64L207.55,235.05L208.33,236.32L209.1,239.46L211.42,243.18L212.97,237.17L213.75,239.12L214.52,243.61L216.85,239.88L217.62,240.05L218.39,242.76L219.94,238.18L222.27,234.29L223.04,239.79L224.59,237.25L227.69,229.54L228.46,234.96L230.01,234.54L230.79,235.39L233.11,233.01L233.88,227.34L234.66,239.29L235.43,239.54L238.53,255.73L239.3,251.49L240.08,248.02L240.85,251.75L244.73,233.69L245.5,232.59L246.27,229.45L247.05,235.3L250.15,236.24L251.7,234.62L252.47,235.98L254.79,231.15L256.34,226.23L257.12,224.79L257.89,216.15L260.21,221.15L260.99,224.71L261.76,235.39L263.31,226.06L265.64,213.18L266.41,212.5L267.96,213.61L268.73,209.2L271.06,217.42L271.83,215.81L272.61,219.88L274.15,240.9L276.48,235.98L278.8,255.47L279.58,246.41L281.9,244.29L282.67,253.52L283.45,249.46L284.22,239.2L285,249.8L287.32,251.75L288.87,246.24L289.64,247.85L290.42,241.57L292.74,251.49L293.52,252.42L294.29,255.81L295.06,264.03L295.84,264.2L298.16,273.87L298.94,281.75L300.49,273.36L301.26,280.82L305.13,259.97L305.91,261.17L306.68,248.85L309,254.07L309.78,258.86L310.55,248.94L311.33,253.73L314.43,266.99L315.2,276.14L315.97,270.33L317.52,261.56L319.85,263.46L320.62,252.95L321.4,256.74L322.94,267.85L325.27,275.69L326.82,262.77L327.59,268.54L328.37,274.22L330.69,278.18L332.24,271.03L333.01,271.9L333.79,275.26L336.11,276.72L336.88,271.72L337.66,273.96L339.21,285.59L341.53,285.33L342.31,284.82L343.08,277.67L343.85,279.39L344.63,278.96L346.95,275L347.73,281.11L349.28,272.41L350.05,278.36L353.92,280.94L354.7,279.91L355.47,283.61L357.79,286.97L358.57,285.33L359.34,291.02L360.89,292.05L363.22,288.09L363.99,291.28L364.76,280.25L365.54,277.75L368.64,290.24L369.41,290.5L370.19,289.81L370.96,283.27L371.74,287.83L375.61,294.55L376.38,300.92L377.16,298.42L379.48,296.36L380.25,293L381.03,294.38L381.8,287.4L382.58,289.21L384.9,289.29L385.68,284.3L386.45,281.28L387.22,282.32L390.32,278.87L391.1,263.8L391.87,258.98L392.65,260.27L395.74,262.08L396.52,259.15L397.29,265.26L398.07,262.51L401.16,265.26L401.94,262.94L402.71,265.52L403.49,259.06L404.26,256.74L407.36,263.97L408.13,263.28L408.91,258.63L409.68,252.86L412.01,250.54L414.33,238.3L415.1,238.91L417.43,237.27L418.2,238.05L418.98,233.65L419.75,233.83L420.53,231.24L422.85,235.2L424.4,235.98L425.17,227.02L425.95,224.7L428.27,223.32L429.82,231.93L430.59,223.49L431.37,215.57L433.69,214.02L434.47,212.98L435.24,206.87L436.79,207.9L439.11,205.23L439.89,210.83L440.66,209.97L441.44,208.68L442.21,202.9L444.53,200.75L445.31,194.38L446.08,191.19L446.86,198.51L447.63,197.22L449.95,199.29L450.73,200.92L451.5,200.06L453.05,187.57L455.38,179.65L456.15,180.17L456.92,181.8L457.7,192.74L458.47,181.03L461.57,187.75L462.35,186.28L463.12,178.53L463.89,183.52L466.99,171.9L467.77,175.17L469.32,164.92L471.64,168.19L472.41,169.4L473.19,167.07L473.96,169.49L474.74,166.99L477.06,165.52L477.83,167.33L478.61,172.41L479.38,170.86L480.16,174.65L482.48,170.63L484.03,171.41L484.8,172.02L485.58,176.99L487.9,173.86L490.23,194.7L491,190.77\" style=\"vector-effect: none; fill: none; stroke: rgb(70, 130, 180); stroke-opacity: 1; stroke-width: 2px; opacity: 1;\"/></g><g class=\"points\"/><g class=\"text\"/></g><g class=\"trace scatter tracea6e582\" style=\"stroke-miterlimit: 2; opacity: 1;\"><g class=\"fills\"/><g class=\"errorbars\"/><g class=\"lines\"><path class=\"js-line\" d=\"M0,124.73L2.32,107.67L3.1,114.21L5.42,104.48L6.2,105.03L6.97,105.88L7.74,100.43L8.52,99.26L10.84,98.49L11.62,103.55L12.39,102.15L13.17,101.06L13.94,97.08L16.26,97.94L17.04,100.59L17.81,99.58L18.59,105.88L19.36,103.39L21.68,111.72L22.46,114.99L23.23,112.81L24.01,114.76L27.11,112.58L27.88,110.63L28.65,117.95L29.43,114.84L32.53,127.46L34.08,132.21L34.85,135.33L35.62,134.83L37.95,137.54L38.72,132.7L39.5,120.98L40.27,123.44L41.05,120.98L43.37,123.03L44.14,118.85L45.69,125.74L46.47,122.54L48.79,120.66L49.56,115.41L51.89,105.91L54.21,101.56L54.99,98.94L55.76,102.55L56.53,99.51L57.31,102.87L59.63,102.3L60.41,105.17L61.18,108.53L61.96,105.5L62.73,108.28L65.05,102.71L65.83,105.82L66.6,102.05L67.38,106.4L68.15,100.74L70.47,101.89L71.25,97.46L72.02,97.05L72.8,102.46L73.57,110.25L77.44,108.77L78.22,107.22L78.99,117.46L81.32,120.33L82.09,118.94L82.87,102.46L83.64,106.72L84.41,111.56L86.74,108.53L87.51,107.22L88.29,102.71L89.84,87.79L92.16,83.53L94.48,67.8L95.26,69.76L97.58,70.01L98.35,56.73L99.13,61.08L99.9,58.46L100.68,46.08L103,51.08L105.32,64.77L106.1,65.18L109.2,69.19L109.97,67.31L110.75,71.49L113.84,67.14L114.62,69.44L115.39,66.98L116.94,69.93L119.26,64.27L120.81,58.95L121.59,65.26L122.36,68.04L124.69,70.01L125.46,73.29L126.24,70.99L127.78,79.84L130.11,77.55L131.66,93.04L132.43,89.68L133.21,88.7L135.53,90.25L136.3,91.56L137.08,100.33L137.85,98.78L138.63,89.43L140.95,90.58L141.72,80.09L142.5,79.6L143.27,90.5L144.05,100L146.37,100L147.15,95.91L147.92,97.79L148.69,96.23L149.47,96.64L152.57,97.96L153.34,100.58L154.89,110.66L157.21,114.51L157.99,113.2L158.76,105.25L160.31,93.04L162.63,97.05L164.96,114.43L165.73,124.51L168.83,118.44L169.6,125.25L174.25,139.26L175.03,140.32L176.57,134.75L178.9,134.34L179.67,130.65L180.45,136.31L182,126.8L184.32,132.29L185.87,132.21L186.64,128.44L189.74,114.18L190.51,118.61L192.84,97.55L195.16,99.92L195.94,107.3L196.71,106.89L198.26,92.47L200.58,77.14L202.91,92.55L203.68,83.53L207.55,69.36L208.33,71.32L211.42,77.22L212.2,81.73L214.52,101.23L216.85,93.42L217.62,95.18L218.39,102.92L219.94,91.4L222.27,86.86L223.04,91.9L224.59,93.67L225.36,88.88L227.69,83.83L228.46,87.95L229.24,82.65L230.79,88.46L233.11,83.41L235.43,73.57L236.21,74.92L238.53,83.66L239.3,96.44L240.85,108.63L241.63,106.28L243.95,87.78L244.73,88.71L245.5,88.71L246.27,92.49L247.05,95.94L249.37,91.65L251.7,90.73L252.47,85.6L254.79,81.81L255.57,69.37L256.34,72.15L257.12,71.47L257.89,63.49L260.21,64.07L261.76,75.17L262.54,65.34L263.31,67.52L265.64,50.79L266.41,52.05L267.96,48.18L268.73,45.83L271.06,57.18L271.83,65.25L272.61,63.82L273.38,81.98L274.15,74.16L276.48,65L278.03,77.44L278.8,91.65L279.58,87.78L281.9,75.09L282.67,82.99L283.45,85.68L284.22,75.09L285,90.22L287.32,93.92L288.87,99.72L289.64,97.7L290.42,100.31L292.74,111.58L293.52,109.73L294.29,100.48L295.06,107.96L295.84,106.53L298.94,107.79L299.71,105.27L300.49,111.83L301.26,108.97L304.36,93.08L305.13,96.69L305.91,94.17L306.68,86.77L309.78,95.6L310.55,84.59L311.33,87.03L314.43,99.55L315.97,109.22L316.75,109.56L317.52,111.32L319.85,111.07L320.62,111.91L321.4,104.51L322.17,92.24L322.94,105.77L325.27,115.11L326.04,106.03L326.82,105.94L327.59,103.67L328.37,113.76L330.69,111.41L331.46,111.74L332.24,100.23L333.01,92.66L333.79,96.11L336.88,104.01L337.66,102.83L338.43,94.17L339.21,100.65L341.53,106.28L342.31,118.81L343.08,110.57L343.85,129.99L344.63,118.05L346.95,117.96L347.73,126.46L348.5,119.98L349.28,120.82L350.05,118.3L355.47,132.26L357.79,130.58L358.57,132.43L359.34,131.75L360.89,139.07L363.22,134.53L363.99,131.42L364.76,122.5L365.54,119.48L368.64,126.29L369.41,125.03L370.19,119.65L370.96,122.34L371.74,143.94L374.06,145.04L374.83,147.47L376.38,144.21L377.16,137.16L379.48,138.54L380.25,116.2L381.03,122.04L381.8,115.34L382.58,113.19L384.9,115.25L385.68,103.65L386.45,105.54L387.22,99.7L390.32,98.32L391.1,95.31L391.87,86.46L392.65,84.66L393.42,77.96L395.74,85.09L396.52,93.6L397.29,101.84L398.07,97.03L401.16,93.17L401.94,100.73L402.71,102.36L403.49,97.89L404.26,99.27L407.36,96L408.91,85.17L409.68,85.78L412.01,86.03L412.78,80.71L414.33,70.05L415.1,79.59L417.43,69.96L418.2,74.69L418.98,75.55L419.75,78.9L420.53,63.61L422.85,71.6L424.4,81.48L425.17,65.15L425.95,66.87L428.27,74.78L429.82,80.02L430.59,92.39L431.37,81.14L433.69,88.1L435.24,71.51L436.79,68.16L439.11,65.32L439.89,70.22L441.44,57.25L442.21,69.71L444.53,71L445.31,54.41L446.08,55.18L446.86,66.36L447.63,43.07L449.95,43.41L450.73,46.94L451.5,46.08L452.28,41.18L453.05,27.09L455.38,23.73L456.15,25.28L456.92,24.16L457.7,26.83L458.47,23.05L460.8,21.59L462.35,31.55L463.12,27.94L463.89,28.8L466.22,29.41L467.77,33.96L468.54,35.42L469.32,26.23L471.64,21.24L473.19,16L473.96,25.45L474.74,24.42L477.06,27.17L477.83,29.06L478.61,26.74L480.16,37.57L482.48,43.07L483.26,42.55L484.03,41.09L484.8,39.8L485.58,36.54L487.9,35.68L488.68,43.33L490.23,43.94L491,40.36\" style=\"vector-effect: none; fill: none; stroke: rgb(144, 238, 144); stroke-opacity: 1; stroke-width: 2px; opacity: 1;\"/></g><g class=\"points\"/><g class=\"text\"/></g></g></g><g class=\"overplot\"/><path class=\"xlines-above crisp\" d=\"M0,0\" style=\"fill: none;\"/><path class=\"ylines-above crisp\" d=\"M0,0\" style=\"fill: none;\"/><g class=\"overlines-above\"/><g class=\"xaxislayer-above\"><g class=\"xtick\"><text text-anchor=\"middle\" x=\"0\" y=\"433\" transform=\"translate(110.98,0)\" style=\"font-family: 'Open Sans', verdana, arial, sans-serif; font-size: 12px; fill: rgb(42, 63, 95); fill-opacity: 1; white-space: pre; opacity: 1;\">Jan 2022</text></g><g class=\"xtick\"><text text-anchor=\"middle\" x=\"0\" y=\"433\" style=\"font-family: 'Open Sans', verdana, arial, sans-serif; font-size: 12px; fill: rgb(42, 63, 95); fill-opacity: 1; white-space: pre; opacity: 1;\" transform=\"translate(180.68,0)\">Apr 2022</text></g><g class=\"xtick\"><text text-anchor=\"middle\" x=\"0\" y=\"433\" style=\"font-family: 'Open Sans', verdana, arial, sans-serif; font-size: 12px; fill: rgb(42, 63, 95); fill-opacity: 1; white-space: pre; opacity: 1;\" transform=\"translate(251.15,0)\">Jul 2022</text></g><g class=\"xtick\"><text text-anchor=\"middle\" x=\"0\" y=\"433\" style=\"font-family: 'Open Sans', verdana, arial, sans-serif; font-size: 12px; fill: rgb(42, 63, 95); fill-opacity: 1; white-space: pre; opacity: 1;\" transform=\"translate(322.4,0)\">Oct 2022</text></g><g class=\"xtick\"><text text-anchor=\"middle\" x=\"0\" y=\"433\" style=\"font-family: 'Open Sans', verdana, arial, sans-serif; font-size: 12px; fill: rgb(42, 63, 95); fill-opacity: 1; white-space: pre; opacity: 1;\" transform=\"translate(393.65,0)\">Jan 2023</text></g><g class=\"xtick\"><text text-anchor=\"middle\" x=\"0\" y=\"433\" style=\"font-family: 'Open Sans', verdana, arial, sans-serif; font-size: 12px; fill: rgb(42, 63, 95); fill-opacity: 1; white-space: pre; opacity: 1;\" transform=\"translate(463.35,0)\">Apr 2023</text></g><g class=\"xtick\"><text text-anchor=\"middle\" x=\"0\" y=\"433\" style=\"font-family: 'Open Sans', verdana, arial, sans-serif; font-size: 12px; fill: rgb(42, 63, 95); fill-opacity: 1; white-space: pre; opacity: 1;\" transform=\"translate(533.8299999999999,0)\">Jul 2023</text></g></g><g class=\"yaxislayer-above\"><g class=\"ytick\"><text text-anchor=\"end\" x=\"79\" y=\"4.199999999999999\" transform=\"translate(0,384.07)\" style=\"font-family: 'Open Sans', verdana, arial, sans-serif; font-size: 12px; fill: rgb(42, 63, 95); fill-opacity: 1; white-space: pre; opacity: 1;\">20</text></g><g class=\"ytick\"><text text-anchor=\"end\" x=\"79\" y=\"4.199999999999999\" style=\"font-family: 'Open Sans', verdana, arial, sans-serif; font-size: 12px; fill: rgb(42, 63, 95); fill-opacity: 1; white-space: pre; opacity: 1;\" transform=\"translate(0,340.47)\">25</text></g><g class=\"ytick\"><text text-anchor=\"end\" x=\"79\" y=\"4.199999999999999\" style=\"font-family: 'Open Sans', verdana, arial, sans-serif; font-size: 12px; fill: rgb(42, 63, 95); fill-opacity: 1; white-space: pre; opacity: 1;\" transform=\"translate(0,296.88)\">30</text></g><g class=\"ytick\"><text text-anchor=\"end\" x=\"79\" y=\"4.199999999999999\" style=\"font-family: 'Open Sans', verdana, arial, sans-serif; font-size: 12px; fill: rgb(42, 63, 95); fill-opacity: 1; white-space: pre; opacity: 1;\" transform=\"translate(0,253.28)\">35</text></g><g class=\"ytick\"><text text-anchor=\"end\" x=\"79\" y=\"4.199999999999999\" style=\"font-family: 'Open Sans', verdana, arial, sans-serif; font-size: 12px; fill: rgb(42, 63, 95); fill-opacity: 1; white-space: pre; opacity: 1;\" transform=\"translate(0,209.68)\">40</text></g><g class=\"ytick\"><text text-anchor=\"end\" x=\"79\" y=\"4.199999999999999\" style=\"font-family: 'Open Sans', verdana, arial, sans-serif; font-size: 12px; fill: rgb(42, 63, 95); fill-opacity: 1; white-space: pre; opacity: 1;\" transform=\"translate(0,166.07999999999998)\">45</text></g><g class=\"ytick\"><text text-anchor=\"end\" x=\"79\" y=\"4.199999999999999\" style=\"font-family: 'Open Sans', verdana, arial, sans-serif; font-size: 12px; fill: rgb(42, 63, 95); fill-opacity: 1; white-space: pre; opacity: 1;\" transform=\"translate(0,122.49)\">50</text></g></g><g class=\"overaxes-above\"/></g></g><g class=\"polarlayer\"/><g class=\"smithlayer\"/><g class=\"ternarylayer\"/><g class=\"geolayer\"/><g class=\"funnelarealayer\"/><g class=\"pielayer\"/><g class=\"iciclelayer\"/><g class=\"treemaplayer\"/><g class=\"sunburstlayer\"/><g class=\"glimages\"/><defs id=\"topdefs-115adc\"><g class=\"clips\"/><clipPath id=\"legend115adc\"><rect width=\"107\" height=\"48\" x=\"0\" y=\"0\"/></clipPath></defs><g class=\"layer-above\"><g class=\"imagelayer\"/><g class=\"shapelayer\"/></g><g class=\"infolayer\"><g class=\"legend\" pointer-events=\"all\" transform=\"translate(580.8199999999999,100)\"><rect class=\"bg\" shape-rendering=\"crispEdges\" style=\"stroke: rgb(68, 68, 68); stroke-opacity: 1; fill: rgb(255, 255, 255); fill-opacity: 1; stroke-width: 0px;\" width=\"107\" height=\"48\" x=\"0\" y=\"0\"/><g class=\"scrollbox\" transform=\"\" clip-path=\"url(#legend115adc)\"><g class=\"groups\"><g class=\"traces\" transform=\"translate(0,14.5)\" style=\"opacity: 1;\"><text class=\"legendtext\" text-anchor=\"start\" x=\"40\" y=\"4.680000000000001\" style=\"font-family: 'Open Sans', verdana, arial, sans-serif; font-size: 12px; fill: rgb(42, 63, 95); fill-opacity: 1; white-space: pre;\">BPAC11.SA</text><g class=\"layers\" style=\"opacity: 1;\"><g class=\"legendfill\"/><g class=\"legendlines\"><path class=\"js-line\" d=\"M5,0h30\" style=\"fill: none; stroke: rgb(70, 130, 180); stroke-opacity: 1; stroke-width: 2px;\"/></g><g class=\"legendsymbols\"><g class=\"legendpoints\"/></g></g><rect class=\"legendtoggle\" x=\"0\" y=\"-9.5\" width=\"101.671875\" height=\"19\" style=\"fill: rgb(0, 0, 0); fill-opacity: 0;\"/></g><g class=\"traces\" transform=\"translate(0,33.5)\" style=\"opacity: 1;\"><text class=\"legendtext\" text-anchor=\"start\" x=\"40\" y=\"4.680000000000001\" style=\"font-family: 'Open Sans', verdana, arial, sans-serif; font-size: 12px; fill: rgb(42, 63, 95); fill-opacity: 1; white-space: pre;\">ENGI11.SA</text><g class=\"layers\" style=\"opacity: 1;\"><g class=\"legendfill\"/><g class=\"legendlines\"><path class=\"js-line\" d=\"M5,0h30\" style=\"fill: none; stroke: rgb(144, 238, 144); stroke-opacity: 1; stroke-width: 2px;\"/></g><g class=\"legendsymbols\"><g class=\"legendpoints\"/></g></g><rect class=\"legendtoggle\" x=\"0\" y=\"-9.5\" width=\"101.671875\" height=\"19\" style=\"fill: rgb(0, 0, 0); fill-opacity: 0;\"/></g></g></g><rect class=\"scrollbar\" rx=\"20\" ry=\"3\" width=\"0\" height=\"0\" style=\"fill: rgb(128, 139, 164); fill-opacity: 1;\" x=\"0\" y=\"0\"/></g><g class=\"g-gtitle\"/><g class=\"g-xtitle\"/><g class=\"g-ytitle\"/></g></svg>"
            ]
          },
          "metadata": {},
          "output_type": "display_data"
        }
      ],
      "source": [
        "trace1 = go.Scatter( x = X.index,  y = X ,\n",
        "                    name = X.name,\n",
        "                    line=dict(color='steelblue'))\n",
        "\n",
        "trace2 = go.Scatter( x = Y.index,  y = Y ,\n",
        "                    name = Y.name , \n",
        "                    line=dict(color='lightgreen'))\n",
        "\n",
        "fig = go.Figure(data=[trace1,trace2] )\n",
        "\n",
        "fig.show()"
      ]
    },
    {
      "cell_type": "code",
      "execution_count": 143,
      "metadata": {
        "colab": {
          "base_uri": "https://localhost:8080/",
          "height": 517
        },
        "id": "p4EeqhARD-Ln",
        "outputId": "46275d9c-75e1-4536-e897-b41b361a45b6"
      },
      "outputs": [
        {
          "data": {
            "image/svg+xml": [
              "<svg class=\"main-svg\" xmlns=\"http://www.w3.org/2000/svg\" xmlns:xlink=\"http://www.w3.org/1999/xlink\" width=\"700\" height=\"500\" style=\"\" viewBox=\"0 0 700 500\"><rect x=\"0\" y=\"0\" width=\"700\" height=\"500\" style=\"fill: rgb(255, 255, 255); fill-opacity: 1;\"/><defs id=\"defs-93d7ca\"><g class=\"clips\"><clipPath id=\"clip93d7caxyplot\" class=\"plotclip\"><rect width=\"398\" height=\"120\"/></clipPath><clipPath id=\"clip93d7cax2y2plot\" class=\"plotclip\"><rect width=\"398\" height=\"120\"/></clipPath><clipPath class=\"axesclip\" id=\"clip93d7cax\"><rect x=\"80\" y=\"0\" width=\"398\" height=\"500\"/></clipPath><clipPath class=\"axesclip\" id=\"clip93d7cay\"><rect x=\"0\" y=\"100\" width=\"700\" height=\"120\"/></clipPath><clipPath class=\"axesclip\" id=\"clip93d7caxy\"><rect x=\"80\" y=\"100\" width=\"398\" height=\"120\"/></clipPath><clipPath class=\"axesclip\" id=\"clip93d7cay2\"><rect x=\"0\" y=\"300\" width=\"700\" height=\"120\"/></clipPath><clipPath class=\"axesclip\" id=\"clip93d7caxy2\"><rect x=\"80\" y=\"300\" width=\"398\" height=\"120\"/></clipPath><clipPath class=\"axesclip\" id=\"clip93d7cax2\"><rect x=\"80\" y=\"0\" width=\"398\" height=\"500\"/></clipPath><clipPath class=\"axesclip\" id=\"clip93d7cax2y\"><rect x=\"80\" y=\"100\" width=\"398\" height=\"120\"/></clipPath><clipPath class=\"axesclip\" id=\"clip93d7cax2y2\"><rect x=\"80\" y=\"300\" width=\"398\" height=\"120\"/></clipPath></g><g class=\"gradients\"/><g class=\"patterns\"/></defs><g class=\"bglayer\"><rect class=\"bg\" x=\"80\" y=\"100\" width=\"398\" height=\"120\" style=\"fill: rgb(229, 236, 246); fill-opacity: 1; stroke-width: 0;\"/><rect class=\"bg\" x=\"80\" y=\"300\" width=\"398\" height=\"120\" style=\"fill: rgb(229, 236, 246); fill-opacity: 1; stroke-width: 0;\"/></g><g class=\"layer-below\"><g class=\"imagelayer\"/><g class=\"shapelayer\"/></g><g class=\"cartesianlayer\"><g class=\"subplot xy\"><g class=\"layer-subplot\"><g class=\"shapelayer\"/><g class=\"imagelayer\"/></g><g class=\"minor-gridlayer\"><g class=\"x\"/><g class=\"y\"/></g><g class=\"gridlayer\"><g class=\"x\"><path class=\"xgrid crisp\" transform=\"translate(105.55,0)\" d=\"M0,100v120\" style=\"stroke: rgb(255, 255, 255); stroke-opacity: 1; stroke-width: 1px;\"/><path class=\"xgrid crisp\" transform=\"translate(218.89,0)\" d=\"M0,100v120\" style=\"stroke: rgb(255, 255, 255); stroke-opacity: 1; stroke-width: 1px;\"/><path class=\"xgrid crisp\" transform=\"translate(334.1,0)\" d=\"M0,100v120\" style=\"stroke: rgb(255, 255, 255); stroke-opacity: 1; stroke-width: 1px;\"/><path class=\"xgrid crisp\" transform=\"translate(447.44,0)\" d=\"M0,100v120\" style=\"stroke: rgb(255, 255, 255); stroke-opacity: 1; stroke-width: 1px;\"/></g><g class=\"y\"><path class=\"ygrid crisp\" transform=\"translate(0,199.8)\" d=\"M80,0h398\" style=\"stroke: rgb(255, 255, 255); stroke-opacity: 1; stroke-width: 1px;\"/><path class=\"ygrid crisp\" transform=\"translate(0,126.08)\" d=\"M80,0h398\" style=\"stroke: rgb(255, 255, 255); stroke-opacity: 1; stroke-width: 1px;\"/></g></g><g class=\"zerolinelayer\"><path class=\"yzl zl crisp\" transform=\"translate(0,162.94)\" d=\"M80,0h398\" style=\"stroke: rgb(255, 255, 255); stroke-opacity: 1; stroke-width: 2px;\"/></g><path class=\"xlines-below\"/><path class=\"ylines-below\"/><g class=\"overlines-below\"/><g class=\"xaxislayer-below\"/><g class=\"yaxislayer-below\"/><g class=\"overaxes-below\"/><g class=\"plot\" transform=\"translate(80,100)\" clip-path=\"url(#clip93d7caxyplot)\"><g class=\"scatterlayer mlayer\"><g class=\"trace scatter trace67f223\" style=\"stroke-miterlimit: 2; opacity: 1;\"><g class=\"fills\"/><g class=\"errorbars\"/><g class=\"lines\"><path class=\"js-line\" d=\"M0.5,61.77L1.75,51.15L2.38,55.33L3,55.08L4.88,47.79L5.51,40.14L6.14,42.35L6.76,35.65L7.39,35.96L9.27,36.55L10.52,46.02L11.15,41.17L11.77,47.86L13.65,50.64L14.28,44.9L14.9,49.28L16.15,56.96L18.03,59.8L19.29,62.9L19.91,62.66L22.42,59.67L23.04,49.52L23.67,60.29L24.29,58.06L26.8,68.28L27.43,69.7L28.05,62.59L29.3,65.81L31.18,69.36L31.81,70.95L32.44,54.93L33.06,55.99L33.69,55.41L35.57,59.86L36.19,45.9L37.44,81.76L38.07,74.09L39.95,74.35L40.58,75.53L41.2,74.84L41.83,82.58L42.45,69.43L44.33,70.09L45.59,65.21L46.21,57.78L46.84,60.64L48.72,57.77L49.34,61.18L49.97,74.42L50.59,68.84L51.22,69.99L53.1,65.06L53.73,84.17L54.35,82.65L54.98,87.14L55.6,79.57L57.48,71.73L58.11,77.8L58.74,74.87L59.99,96.06L63.12,91.38L63.74,84.45L64.37,91.14L66.25,87.36L66.88,93.68L68.13,79.85L68.75,82.83L71.26,75.13L71.88,75.84L73.14,65.64L75.02,52.82L76.89,45.21L77.52,52.06L79.4,52.81L80.03,34.9L80.65,33.37L81.28,26.64L81.9,14.32L83.78,19.18L84.41,17.57L85.03,18.93L86.29,32.07L88.17,33.43L88.79,30.26L89.42,33.04L90.04,36.52L92.55,31.64L93.18,41.39L93.8,41.11L95.05,37.16L96.93,26.19L97.56,9.92L98.18,6L98.81,18.02L99.44,11.99L101.32,14.76L102.57,15.61L103.19,18.47L103.82,17.65L105.7,21.97L107.58,49.07L108.2,53.36L110.08,58.25L110.71,63.18L111.96,70.88L112.59,58.52L114.47,57.96L115.09,40.91L115.72,44.27L116.34,62.79L116.97,79.08L118.85,76.17L120.1,72.36L120.73,74.84L121.35,65.93L123.23,61.11L123.86,57.45L124.48,57.88L125.11,68.7L125.74,67.73L127.62,66.74L128.24,65.22L128.87,60.03L130.12,33.88L132,37.89L134.5,87.54L136.38,88.95L137.01,80.54L137.63,87.45L138.89,98.04L140.76,102.6L142.02,114L142.64,108.61L143.27,103.35L145.15,95.57L145.77,93.1L146.4,102.9L147.03,80.47L147.65,83.21L149.53,91.12L150.16,102.65L150.78,101.59L151.41,95.6L153.91,74.61L154.54,73.5L155.79,62.09L156.42,50.45L158.3,50.42L158.92,63.22L160.18,69.54L160.8,65.74L162.68,45.55L163.31,46.18L163.93,73.34L164.56,79.82L165.19,67.56L167.69,54.95L168.32,48.95L168.94,50.34L169.57,48.97L171.45,50.98L172.07,62.27L173.33,86.92L173.95,85.51L175.83,78.43L176.46,80.81L177.08,88.94L177.71,76.25L178.34,77.45L180.21,75.36L180.84,76.32L182.09,81.85L182.72,76.82L184.6,76.45L185.22,76.16L185.85,69.13L187.1,76.41L188.98,71.8L189.61,73.98L190.23,59.01L191.49,47.52L193.36,45.82L194.62,89.1L195.24,86.86L195.87,87.55L197.75,75.72L199,80.02L199.63,89.18L202.76,79.23L204.01,80.6L204.64,71.55L206.51,71.64L207.14,58.31L207.77,63.24L208.39,63.93L209.02,62.31L210.9,57.37L211.52,61.09L212.78,52.23L213.4,56.69L215.28,47.24L215.91,49.87L217.16,42.95L217.79,44.63L219.66,51.64L220.29,65.28L220.92,58.48L221.54,65.1L222.17,49.17L224.05,41.51L225.3,43.24L225.93,57.76L226.55,62.65L228.43,46.59L229.06,47.4L229.68,56.04L230.31,52.49L230.94,62.27L232.81,65.4L233.44,74.05L234.07,80.25L234.69,75.44L235.32,86.52L237.2,91.44L237.82,87.67L238.45,70.25L239.08,71.62L239.7,69.34L241.58,59.6L242.21,50.83L242.83,53.54L243.46,66.44L244.09,53.62L245.96,50.96L246.59,49.47L247.22,59.9L247.84,54.83L248.47,58.34L250.35,61.48L250.97,59.6L252.23,53.05L254.73,55.93L255.36,52.79L255.98,66.16L257.24,79.39L259.11,76.83L259.74,90.24L260.37,75.06L260.99,50.46L261.62,64.01L263.5,68.52L264.12,65.77L264.75,70.15L265.38,60.14L266,68.26L267.88,60.23L268.51,63.52L269.13,52.22L269.76,40.19L270.38,41.32L272.26,46.73L272.89,56.94L273.52,52.62L274.14,31.7L274.77,35.95L276.65,44.46L277.27,63.33L277.9,59.61L278.53,85.93L279.15,69.02L281.03,73.49L281.66,78.78L282.28,77.33L282.91,80.66L283.53,70.09L286.67,80.45L287.29,86.8L289.8,78L290.42,82.59L291.05,75.02L291.68,81.89L292.3,84.48L294.18,82.46L295.43,74.02L296.06,72.5L299.19,65.81L299.82,58.76L300.44,70.28L301.07,96.49L302.95,93.79L303.57,96.84L305.45,74.31L307.33,78.71L307.96,50.03L308.58,56.95L309.21,55.27L309.83,50.04L311.71,52.95L312.34,41.82L312.97,48.08L313.59,38.36L316.1,40.35L316.72,53.45L318.6,31.63L320.48,40.54L321.73,61.28L322.36,57.46L324.86,48.62L325.49,62.34L326.12,61.73L326.74,62.71L327.37,67.41L329.87,54.25L331.12,44.66L331.75,52.23L333.63,55.3L334.26,51.13L334.88,44.85L335.51,46.18L336.13,59.39L338.01,47.26L339.89,64.29L340.52,44.98L342.4,52.04L343.02,58.83L343.65,65.55L344.27,52.13L346.78,70.46L347.41,68.81L348.03,68.11L348.66,95.95L349.28,88.73L351.16,100.68L351.79,80.7L352.41,84.78L353.67,78.7L355.55,77.66L356.17,78.31L357.42,61.88L358.05,86.75L359.93,91.13L360.56,74.33L361.81,86.96L362.43,54.5L364.31,52.6L364.94,55.84L365.56,55.58L366.19,57.93L366.82,42.38L368.7,46.68L369.32,48.34L369.95,44.81L370.57,36.01L371.2,44.08L373.08,35.86L373.71,44.81L374.96,54.12L375.58,49.58L377.46,60.45L378.09,69.34L378.71,66.79L379.34,73.22L382.47,51.05L383.1,49.99L384.35,62.37L386.23,68.08L386.85,68.74L387.48,59.46L388.11,73.04L388.73,72.65L390.61,85.34L391.24,84.49L391.86,81.55L392.49,78.96L393.12,68.43L395,70.82L395.62,73.38L397.5,58.03\" style=\"vector-effect: none; fill: none; stroke: rgb(70, 130, 180); stroke-opacity: 1; stroke-width: 2px; opacity: 1;\"/></g><g class=\"points\"/><g class=\"text\"/></g></g></g><g class=\"overplot\"/><path class=\"xlines-above crisp\" d=\"M0,0\" style=\"fill: none;\"/><path class=\"ylines-above crisp\" d=\"M0,0\" style=\"fill: none;\"/><g class=\"overlines-above\"/><g class=\"xaxislayer-above\"><g class=\"xtick\"><text text-anchor=\"middle\" x=\"0\" y=\"233\" transform=\"translate(105.55,0)\" style=\"font-family: 'Open Sans', verdana, arial, sans-serif; font-size: 12px; fill: rgb(42, 63, 95); fill-opacity: 1; white-space: pre; opacity: 1;\">Jan 2022</text></g><g class=\"xtick\"><text text-anchor=\"middle\" x=\"0\" y=\"233\" style=\"font-family: 'Open Sans', verdana, arial, sans-serif; font-size: 12px; fill: rgb(42, 63, 95); fill-opacity: 1; white-space: pre; opacity: 1;\" transform=\"translate(218.89,0)\">Jul 2022</text></g><g class=\"xtick\"><text text-anchor=\"middle\" x=\"0\" y=\"233\" style=\"font-family: 'Open Sans', verdana, arial, sans-serif; font-size: 12px; fill: rgb(42, 63, 95); fill-opacity: 1; white-space: pre; opacity: 1;\" transform=\"translate(334.1,0)\">Jan 2023</text></g><g class=\"xtick\"><text text-anchor=\"middle\" x=\"0\" y=\"233\" style=\"font-family: 'Open Sans', verdana, arial, sans-serif; font-size: 12px; fill: rgb(42, 63, 95); fill-opacity: 1; white-space: pre; opacity: 1;\" transform=\"translate(447.44,0)\">Jul 2023</text></g></g><g class=\"yaxislayer-above\"><g class=\"ytick\"><text text-anchor=\"end\" x=\"79\" y=\"4.199999999999999\" transform=\"translate(0,199.8)\" style=\"font-family: 'Open Sans', verdana, arial, sans-serif; font-size: 12px; fill: rgb(42, 63, 95); fill-opacity: 1; white-space: pre; opacity: 1;\">−2</text></g><g class=\"ytick\"><text text-anchor=\"end\" x=\"79\" y=\"4.199999999999999\" style=\"font-family: 'Open Sans', verdana, arial, sans-serif; font-size: 12px; fill: rgb(42, 63, 95); fill-opacity: 1; white-space: pre; opacity: 1;\" transform=\"translate(0,162.94)\">0</text></g><g class=\"ytick\"><text text-anchor=\"end\" x=\"79\" y=\"4.199999999999999\" style=\"font-family: 'Open Sans', verdana, arial, sans-serif; font-size: 12px; fill: rgb(42, 63, 95); fill-opacity: 1; white-space: pre; opacity: 1;\" transform=\"translate(0,126.08)\">2</text></g></g><g class=\"overaxes-above\"/></g><g class=\"subplot x2y2\"><g class=\"layer-subplot\"><g class=\"shapelayer\"/><g class=\"imagelayer\"/></g><g class=\"minor-gridlayer\"><g class=\"x2\"/><g class=\"y2\"/></g><g class=\"gridlayer\"><g class=\"x2\"><path class=\"x2grid crisp\" transform=\"translate(105.11,0)\" d=\"M0,300v120\" style=\"stroke: rgb(255, 255, 255); stroke-opacity: 1; stroke-width: 1px;\"/><path class=\"x2grid crisp\" transform=\"translate(218.74,0)\" d=\"M0,300v120\" style=\"stroke: rgb(255, 255, 255); stroke-opacity: 1; stroke-width: 1px;\"/><path class=\"x2grid crisp\" transform=\"translate(334.24,0)\" d=\"M0,300v120\" style=\"stroke: rgb(255, 255, 255); stroke-opacity: 1; stroke-width: 1px;\"/><path class=\"x2grid crisp\" transform=\"translate(447.87,0)\" d=\"M0,300v120\" style=\"stroke: rgb(255, 255, 255); stroke-opacity: 1; stroke-width: 1px;\"/></g><g class=\"y2\"><path class=\"y2grid crisp\" transform=\"translate(0,414.4)\" d=\"M80,0h398\" style=\"stroke: rgb(255, 255, 255); stroke-opacity: 1; stroke-width: 1px;\"/><path class=\"y2grid crisp\" transform=\"translate(0,321.2)\" d=\"M80,0h398\" style=\"stroke: rgb(255, 255, 255); stroke-opacity: 1; stroke-width: 1px;\"/></g></g><g class=\"zerolinelayer\"><path class=\"y2zl zl crisp\" transform=\"translate(0,367.8)\" d=\"M80,0h398\" style=\"stroke: rgb(255, 255, 255); stroke-opacity: 1; stroke-width: 2px;\"/></g><path class=\"xlines-below\"/><path class=\"ylines-below\"/><g class=\"overlines-below\"/><g class=\"xaxislayer-below\"/><g class=\"yaxislayer-below\"/><g class=\"overaxes-below\"/><g class=\"plot\" transform=\"translate(80,300)\" clip-path=\"url(#clip93d7cax2y2plot)\"><g class=\"scatterlayer mlayer\"><g class=\"trace scatter trace7de0c0\" style=\"stroke-miterlimit: 2; opacity: 1;\"><g class=\"fills\"/><g class=\"errorbars\"/><g class=\"lines\"><path class=\"js-line\" d=\"M0,101.06L0.63,103.51L1.26,101.31L1.88,90.89L2.51,97.93L4.39,96.46L5.02,105.94L5.65,104.26L6.28,106.36L6.91,104.8L8.79,103.33L10.04,96.15L10.67,100.65L11.3,89.02L13.18,86.68L13.81,95.88L14.44,89.84L15.69,84.73L17.58,89.73L18.21,89.82L18.83,87.14L19.46,89.41L21.97,90.75L22.6,100.79L23.23,95.6L23.85,95.01L26.37,95.97L26.99,98.59L27.62,108.39L28.25,108.69L28.88,107.31L30.76,105.87L31.39,98.38L32.64,106.77L33.27,104.77L35.15,101.57L35.78,114L37.04,77.42L37.67,83.58L39.55,81.33L40.18,74.63L40.8,70.91L41.43,60.67L42.06,72.64L43.94,67.79L44.57,67.42L45.2,74.35L45.83,80.02L46.45,79.95L48.34,82.72L48.97,81.56L49.59,69.28L50.85,74.27L52.73,74.67L53.99,53.73L54.62,52.39L57.13,66.2L57.75,55.23L58.38,58.2L59.01,44.53L62.78,49.54L63.4,56.28L64.03,57.81L65.91,65.14L66.54,56.13L67.17,56.33L67.8,61.22L68.43,62.22L70.31,67.57L70.94,67.21L71.56,62.2L72.19,59.98L72.82,60.43L74.7,70.82L77.21,59.78L79.1,59.2L80.98,76.82L81.61,78.91L83.49,78.2L84.12,84.8L84.75,85.55L85.38,76.71L87.89,78.3L88.51,82.38L89.77,77.77L92.28,79.11L93.54,69.01L94.79,75.72L96.68,82.31L97.3,96.84L97.93,98.52L98.56,91.74L99.19,100.64L101.07,99.54L101.7,102.09L102.32,99.56L103.58,105.83L105.46,98.94L106.09,88.16L106.72,89.5L107.35,80.59L107.97,74.89L109.86,70.85L110.49,66.52L111.11,70.61L111.74,64.32L112.37,69.81L114.25,71.48L114.88,80.75L115.51,76.65L116.14,66L116.76,56.02L118.65,59.37L119.9,61.74L120.53,57.51L121.16,68.02L123.04,74.96L124.3,80.93L124.92,73.65L125.55,79.25L127.44,84.27L128.06,84.77L128.69,82.97L129.95,100.88L131.83,100.35L132.46,94.45L133.09,78.01L133.71,75.38L134.34,69.04L136.22,62.97L136.85,71.59L138.11,67.35L138.74,61.67L140.62,61.56L141.25,56.9L141.87,51.31L142.5,54.92L145.01,68.92L145.64,68.28L146.27,61.58L146.9,81.48L147.52,76.71L149.41,72.45L150.03,58.14L150.66,59.15L151.29,62.94L151.92,67.42L153.8,74.52L154.43,80.28L155.06,79.87L155.68,79.94L156.31,86.52L158.2,88.87L160.71,64.45L162.59,73.07L163.22,75.9L163.85,52.07L164.47,48.67L165.1,54.63L166.98,57.58L167.61,60.2L169.5,65.69L171.38,67.28L173.26,45.82L173.89,49.71L175.77,50.98L176.4,49.81L177.03,47.21L177.66,52.5L178.28,50.35L180.17,48.84L180.79,52.05L182.05,47.34L182.68,48.91L184.56,45.11L185.82,52.17L186.44,50.85L187.07,49.02L188.96,49.87L189.58,44.99L190.21,60.65L193.35,78.63L193.98,63.91L194.61,50.82L195.23,54.74L195.86,51.8L197.74,49.21L199,45.2L199.63,38.09L200.26,42.96L202.14,47.5L202.77,48.07L204.02,46.25L204.65,51.98L206.53,48.72L207.16,52.84L207.79,49.86L208.42,48.58L209.04,43.95L211.56,49.97L212.18,59L213.44,53.05L215.32,49.6L215.95,47.91L217.21,51.92L217.83,48.45L219.72,50.07L220.34,42.22L220.97,48.22L222.23,66.58L224.11,66.91L225.37,75.84L225.99,72.67L226.62,63.74L228.5,70.15L229.13,76.29L229.76,69.19L230.39,63.81L231.02,66.33L232.9,66.14L233.53,58.15L234.15,54.42L234.78,58.13L235.41,47.74L237.29,52L237.92,54.79L238.55,66.6L239.8,73.34L241.69,85.74L242.32,96.3L242.94,90.57L243.57,81.93L244.2,94.22L246.71,83.34L247.34,74.93L247.97,78.32L248.59,67.63L250.48,69.8L251.1,74.25L251.73,69.31L252.36,73.72L254.87,82.18L255.5,90.85L257.38,66.07L259.26,68.87L259.89,53.73L260.52,64.77L261.15,81.43L261.78,78.85L263.66,82.74L264.91,71.84L265.54,81.31L266.17,81.7L268.05,88.89L268.68,85.32L269.31,87.1L270.56,95.51L272.45,94.17L273.08,85.36L273.7,89.2L274.96,106.24L276.84,102.2L278.73,76.6L279.35,85.13L281.24,79.63L281.86,81.85L283.12,73.8L283.75,84.1L286.89,80.82L287.51,76.55L288.14,80.97L290.03,87.18L290.65,83.36L291.28,92.2L292.54,88.14L294.42,85.78L295.05,92.83L295.68,83.63L296.3,82.37L298.81,95.11L300.07,99.25L300.7,88.04L301.32,77.87L303.21,82.61L303.84,81.28L304.46,87.32L305.72,99.09L307.6,94.98L308.23,106.1L308.86,104.04L309.49,98.88L310.11,102.86L312,101.58L312.62,102.55L313.25,97.21L313.88,102.5L316.39,98.82L317.65,80.86L318.27,83.75L318.9,88.86L320.79,85.77L321.41,76.08L322.04,78.23L322.67,78.03L325.18,84.38L325.81,75.93L326.44,78.2L327.69,68.75L330.2,80.7L330.83,82.45L331.46,81.3L332.09,73.49L333.97,70.32L335.22,70.18L335.85,66.26L336.48,60.2L338.36,65.04L338.99,62.66L339.62,56.56L340.25,54.3L340.87,62.13L342.76,61.34L343.38,58.04L344.01,55.1L344.64,55.92L347.15,44.25L347.78,48.9L348.41,51.07L349.03,30.39L349.66,29.5L351.55,21.72L352.17,32.34L352.8,26.41L354.06,30.34L355.94,29.31L357.82,39.61L358.45,22.98L360.33,19.28L360.96,24.79L362.22,20.31L362.85,36.59L364.73,38.72L365.36,38.06L365.98,37.69L366.61,31.83L367.24,37.04L369.12,30.64L369.75,30.11L370.38,32.7L371.01,42.94L371.63,32.64L373.52,39.4L374.15,35.97L375.4,26.4L376.03,31.33L378.54,15.18L379.17,18.22L380.42,12.59L382.31,19.87L382.93,23.1L383.56,22.41L384.19,18.21L386.7,12.55L387.33,13.13L387.96,20.5L388.58,12.71L389.21,14.89L391.09,6L391.72,6.51L392.35,8.47L392.98,10.17L393.61,18.33L395.49,15.43L396.12,18.04L397.37,33.05L398,31.16\" style=\"vector-effect: none; fill: none; stroke: rgb(70, 130, 180); stroke-opacity: 1; stroke-width: 2px; opacity: 1;\"/></g><g class=\"points\"/><g class=\"text\"/></g></g></g><g class=\"overplot\"/><path class=\"xlines-above crisp\" d=\"M0,0\" style=\"fill: none;\"/><path class=\"ylines-above crisp\" d=\"M0,0\" style=\"fill: none;\"/><g class=\"overlines-above\"/><g class=\"xaxislayer-above\"><g class=\"x2tick\"><text text-anchor=\"middle\" x=\"0\" y=\"433\" transform=\"translate(105.11,0)\" style=\"font-family: 'Open Sans', verdana, arial, sans-serif; font-size: 12px; fill: rgb(42, 63, 95); fill-opacity: 1; white-space: pre; opacity: 1;\">Jan 2022</text></g><g class=\"x2tick\"><text text-anchor=\"middle\" x=\"0\" y=\"433\" style=\"font-family: 'Open Sans', verdana, arial, sans-serif; font-size: 12px; fill: rgb(42, 63, 95); fill-opacity: 1; white-space: pre; opacity: 1;\" transform=\"translate(218.74,0)\">Jul 2022</text></g><g class=\"x2tick\"><text text-anchor=\"middle\" x=\"0\" y=\"433\" style=\"font-family: 'Open Sans', verdana, arial, sans-serif; font-size: 12px; fill: rgb(42, 63, 95); fill-opacity: 1; white-space: pre; opacity: 1;\" transform=\"translate(334.24,0)\">Jan 2023</text></g><g class=\"x2tick\"><text text-anchor=\"middle\" x=\"0\" y=\"433\" style=\"font-family: 'Open Sans', verdana, arial, sans-serif; font-size: 12px; fill: rgb(42, 63, 95); fill-opacity: 1; white-space: pre; opacity: 1;\" transform=\"translate(447.87,0)\">Jul 2023</text></g></g><g class=\"yaxislayer-above\"><g class=\"y2tick\"><text text-anchor=\"end\" x=\"79\" y=\"4.199999999999999\" transform=\"translate(0,414.4)\" style=\"font-family: 'Open Sans', verdana, arial, sans-serif; font-size: 12px; fill: rgb(42, 63, 95); fill-opacity: 1; white-space: pre; opacity: 1;\">−2</text></g><g class=\"y2tick\"><text text-anchor=\"end\" x=\"79\" y=\"4.199999999999999\" style=\"font-family: 'Open Sans', verdana, arial, sans-serif; font-size: 12px; fill: rgb(42, 63, 95); fill-opacity: 1; white-space: pre; opacity: 1;\" transform=\"translate(0,367.8)\">0</text></g><g class=\"y2tick\"><text text-anchor=\"end\" x=\"79\" y=\"4.199999999999999\" style=\"font-family: 'Open Sans', verdana, arial, sans-serif; font-size: 12px; fill: rgb(42, 63, 95); fill-opacity: 1; white-space: pre; opacity: 1;\" transform=\"translate(0,321.2)\">2</text></g></g><g class=\"overaxes-above\"/></g></g><g class=\"polarlayer\"/><g class=\"smithlayer\"/><g class=\"ternarylayer\"/><g class=\"geolayer\"/><g class=\"funnelarealayer\"/><g class=\"pielayer\"/><g class=\"iciclelayer\"/><g class=\"treemaplayer\"/><g class=\"sunburstlayer\"/><g class=\"glimages\"/><defs id=\"topdefs-93d7ca\"><g class=\"clips\"/><clipPath id=\"legend93d7ca\"><rect width=\"202\" height=\"48\" x=\"0\" y=\"0\"/></clipPath></defs><g class=\"layer-above\"><g class=\"imagelayer\"/><g class=\"shapelayer\"><g class=\"shape-group\" data-index=\"0\" clip-path=\"url(#clip93d7caxy)\"><path data-index=\"0\" fill-rule=\"evenodd\" d=\"M80.5,144.51L477.5,144.51\" style=\"opacity: 1; stroke: rgb(255, 165, 0); stroke-opacity: 1; fill: rgb(0, 0, 0); fill-opacity: 0; stroke-width: 1px;\"/></g><g class=\"shape-group\" data-index=\"1\" clip-path=\"url(#clip93d7caxy)\"><path data-index=\"1\" fill-rule=\"evenodd\" d=\"M80.5,181.37L477.5,181.37\" style=\"opacity: 1; stroke: rgb(255, 165, 0); stroke-opacity: 1; fill: rgb(0, 0, 0); fill-opacity: 0; stroke-width: 1px;\"/></g><g class=\"shape-group\" data-index=\"2\" clip-path=\"url(#clip93d7caxy)\"><path data-index=\"2\" fill-rule=\"evenodd\" d=\"M80.5,126.08L477.5,126.08\" style=\"opacity: 1; stroke: rgb(255, 0, 0); stroke-opacity: 1; fill: rgb(0, 0, 0); fill-opacity: 0; stroke-width: 1px;\"/></g><g class=\"shape-group\" data-index=\"3\" clip-path=\"url(#clip93d7caxy)\"><path data-index=\"3\" fill-rule=\"evenodd\" d=\"M80.5,199.8L477.5,199.8\" style=\"opacity: 1; stroke: rgb(255, 0, 0); stroke-opacity: 1; fill: rgb(0, 0, 0); fill-opacity: 0; stroke-width: 1px;\"/></g><g class=\"shape-group\" data-index=\"4\" clip-path=\"url(#clip93d7caxy)\"><path data-index=\"4\" fill-rule=\"evenodd\" d=\"M80.5,162.94L477.5,162.94\" style=\"opacity: 1; stroke: rgb(0, 0, 0); stroke-opacity: 1; fill: rgb(0, 0, 0); fill-opacity: 0; stroke-dasharray: 9px, 9px; stroke-width: 1px;\"/></g><g class=\"shape-group\" data-index=\"5\" clip-path=\"url(#clip93d7caxy2)\"><path data-index=\"5\" fill-rule=\"evenodd\" d=\"M80.5,367.8L477.5,367.8\" style=\"opacity: 1; stroke: rgb(0, 0, 0); stroke-opacity: 1; fill: rgb(0, 0, 0); fill-opacity: 0; stroke-dasharray: 9px, 9px; stroke-width: 1px;\"/></g><g class=\"shape-group\" data-index=\"6\" clip-path=\"url(#clip93d7caxy2)\"><path data-index=\"6\" fill-rule=\"evenodd\" d=\"M80.5,344.5L477.5,344.5\" style=\"opacity: 1; stroke: rgb(255, 165, 0); stroke-opacity: 1; fill: rgb(0, 0, 0); fill-opacity: 0; stroke-width: 1px;\"/></g><g class=\"shape-group\" data-index=\"7\" clip-path=\"url(#clip93d7caxy2)\"><path data-index=\"7\" fill-rule=\"evenodd\" d=\"M80.5,391.1L477.5,391.1\" style=\"opacity: 1; stroke: rgb(255, 165, 0); stroke-opacity: 1; fill: rgb(0, 0, 0); fill-opacity: 0; stroke-width: 1px;\"/></g><g class=\"shape-group\" data-index=\"8\" clip-path=\"url(#clip93d7caxy2)\"><path data-index=\"8\" fill-rule=\"evenodd\" d=\"M80.5,321.2L477.5,321.2\" style=\"opacity: 1; stroke: rgb(255, 0, 0); stroke-opacity: 1; fill: rgb(0, 0, 0); fill-opacity: 0; stroke-width: 1px;\"/></g><g class=\"shape-group\" data-index=\"9\" clip-path=\"url(#clip93d7caxy2)\"><path data-index=\"9\" fill-rule=\"evenodd\" d=\"M80.5,414.4L477.5,414.4\" style=\"opacity: 1; stroke: rgb(255, 0, 0); stroke-opacity: 1; fill: rgb(0, 0, 0); fill-opacity: 0; stroke-width: 1px;\"/></g></g></g><g class=\"infolayer\"><g class=\"legend\" pointer-events=\"all\" transform=\"translate(485.96,100)\"><rect class=\"bg\" shape-rendering=\"crispEdges\" style=\"stroke: rgb(68, 68, 68); stroke-opacity: 1; fill: rgb(255, 255, 255); fill-opacity: 1; stroke-width: 0px;\" width=\"202\" height=\"48\" x=\"0\" y=\"0\"/><g class=\"scrollbox\" transform=\"\" clip-path=\"url(#legend93d7ca)\"><g class=\"groups\"><g class=\"traces\" transform=\"translate(0,14.5)\" style=\"opacity: 1;\"><text class=\"legendtext\" text-anchor=\"start\" x=\"40\" y=\"4.680000000000001\" style=\"font-family: 'Open Sans', verdana, arial, sans-serif; font-size: 12px; fill: rgb(42, 63, 95); fill-opacity: 1; white-space: pre;\">resíduo (spread)</text><g class=\"layers\" style=\"opacity: 1;\"><g class=\"legendfill\"/><g class=\"legendlines\"><path class=\"js-line\" d=\"M5,0h30\" style=\"fill: none; stroke: rgb(70, 130, 180); stroke-opacity: 1; stroke-width: 2px;\"/></g><g class=\"legendsymbols\"><g class=\"legendpoints\"/></g></g><rect class=\"legendtoggle\" x=\"0\" y=\"-9.5\" width=\"196.703125\" height=\"19\" style=\"fill: rgb(0, 0, 0); fill-opacity: 0;\"/></g><g class=\"traces\" transform=\"translate(0,33.5)\" style=\"opacity: 1;\"><text class=\"legendtext\" text-anchor=\"start\" x=\"40\" y=\"4.680000000000001\" style=\"font-family: 'Open Sans', verdana, arial, sans-serif; font-size: 12px; fill: rgb(42, 63, 95); fill-opacity: 1; white-space: pre;\">Ratio BPAC11.SA/ENGI11.SA</text><g class=\"layers\" style=\"opacity: 1;\"><g class=\"legendfill\"/><g class=\"legendlines\"><path class=\"js-line\" d=\"M5,0h30\" style=\"fill: none; stroke: rgb(70, 130, 180); stroke-opacity: 1; stroke-width: 2px;\"/></g><g class=\"legendsymbols\"><g class=\"legendpoints\"/></g></g><rect class=\"legendtoggle\" x=\"0\" y=\"-9.5\" width=\"196.703125\" height=\"19\" style=\"fill: rgb(0, 0, 0); fill-opacity: 0;\"/></g></g></g><rect class=\"scrollbar\" rx=\"20\" ry=\"3\" width=\"0\" height=\"0\" style=\"fill: rgb(128, 139, 164); fill-opacity: 1;\" x=\"0\" y=\"0\"/></g><g class=\"g-gtitle\"><text class=\"gtitle\" x=\"35\" y=\"50\" text-anchor=\"start\" dy=\"0em\" style=\"font-family: 'Open Sans', verdana, arial, sans-serif; font-size: 17px; fill: rgb(42, 63, 95); opacity: 1; font-weight: normal; white-space: pre;\">Para o par (BPAC11.SA,ENGI11.SA)</text></g><g class=\"g-xtitle\"/><g class=\"g-x2title\"/><g class=\"g-ytitle\"/><g class=\"g-y2title\"/><g class=\"annotation\" data-index=\"0\" style=\"opacity: 1;\"><g class=\"annotation-text-g\" transform=\"rotate(0,279,87)\"><g class=\"cursor-pointer\" transform=\"translate(209,74)\"><rect class=\"bg\" x=\"0.5\" y=\"0.5\" width=\"140\" height=\"25\" style=\"stroke-width: 1px; stroke: rgb(0, 0, 0); stroke-opacity: 0; fill: rgb(0, 0, 0); fill-opacity: 0;\"/><text class=\"annotation-text\" text-anchor=\"middle\" x=\"70.65625\" y=\"19\" style=\"font-family: 'Open Sans', verdana, arial, sans-serif; font-size: 16px; fill: rgb(42, 63, 95); fill-opacity: 1; white-space: pre;\">z-score do residuo</text></g></g></g><g class=\"annotation\" data-index=\"1\" style=\"opacity: 1;\"><g class=\"annotation-text-g\" transform=\"rotate(0,279,287)\"><g class=\"cursor-pointer\" transform=\"translate(177,274)\"><rect class=\"bg\" x=\"0.5\" y=\"0.5\" width=\"204\" height=\"25\" style=\"stroke-width: 1px; stroke: rgb(0, 0, 0); stroke-opacity: 0; fill: rgb(0, 0, 0); fill-opacity: 0;\"/><text class=\"annotation-text\" text-anchor=\"middle\" x=\"102.640625\" y=\"19\" style=\"font-family: 'Open Sans', verdana, arial, sans-serif; font-size: 16px; fill: rgb(42, 63, 95); fill-opacity: 1; white-space: pre;\">z-score do ratio dos preços</text></g></g></g></g></svg>"
            ]
          },
          "metadata": {},
          "output_type": "display_data"
        }
      ],
      "source": [
        "\n",
        "\n",
        "trace1 = go.Scatter( x = X.index,  y= zscore(residuos(x=X,y=Y)[0]) , \n",
        "                    name = 'resíduo (spread)',\n",
        "                    line=dict(color='steelblue'))\n",
        "\n",
        "trace2 = go.Scatter( x = Y.index,  y = zscore(X/Y) , \n",
        "                    name = 'Ratio '+X.name+'/'+Y.name,\n",
        "                    line=dict(color='steelblue'))\n",
        "\n",
        "fig = make_subplots(rows=2, cols=1,subplot_titles=(['z-score do residuo','z-score do ratio dos preços']))\n",
        "\n",
        "fig.append_trace(trace1, 1, 1)\n",
        "fig.append_trace(trace2, 2, 1)\n",
        "\n",
        "fig['layout'].update(shapes=[{'type': 'line','y0':1,'y1': 1,'x0':min(X.index),'x1':max(X.index),\n",
        "                              'yref':'y1','line': {'color': 'orange','width': 1}},\n",
        "                             {'type': 'line','y0':-1,'y1': -1,'x0':min(X.index),'x1':max(X.index),\n",
        "                              'yref':'y1','line': {'color': 'orange','width': 1}},\n",
        "                             {'type': 'line','y0':2,'y1': 2,'x0':min(X.index),'x1':max(X.index),\n",
        "                              'yref':'y1','line': {'color': 'red','width': 1}},\n",
        "                             {'type': 'line','y0':-2,'y1': -2,'x0':min(X.index),'x1':max(X.index),\n",
        "                              'yref':'y1','line': {'color': 'red','width': 1}},\n",
        "                             {'type': 'line','y0':0,'y1': 0,'x0':min(X.index),'x1':max(X.index),\n",
        "                              'yref':'y1','line': {'color': 'black','width': 1,'dash':'dash'}},\n",
        "                             {'type': 'line','y0':0,'y1': 0,'x0':min(X.index),'x1':max(X.index),\n",
        "                              'yref':'y2','line': {'color': 'black','width': 1,'dash':'dash'}},\n",
        "                             {'type': 'line','y0':1,'y1': 1,'x0':min(X.index),'x1':max(X.index),\n",
        "                              'yref':'y2','line': {'color': 'orange','width': 1}},\n",
        "                             {'type': 'line','y0':-1,'y1': -1,'x0':min(X.index),'x1':max(X.index),\n",
        "                              'yref':'y2','line': {'color': 'orange','width': 1}},\n",
        "                             {'type': 'line','y0':2,'y1': 2,'x0':min(X.index),'x1':max(X.index),\n",
        "                              'yref':'y2','line': {'color': 'red','width': 1}},\n",
        "                             {'type': 'line','y0':-2,'y1': -2,'x0':min(X.index),'x1':max(X.index),\n",
        "                              'yref':'y2','line': {'color': 'red','width': 1}}\n",
        "                             ],title='Para o par ('+X.name+','+Y.name+')')\n",
        "fig.show()"
      ]
    },
    {
      "cell_type": "code",
      "execution_count": null,
      "metadata": {
        "colab": {
          "base_uri": "https://localhost:8080/",
          "height": 455
        },
        "id": "HIrMpXPIlI_u",
        "outputId": "80021ba2-055b-4878-db78-95cf130a2da8"
      },
      "outputs": [],
      "source": [
        "trades = pd.concat([zscore(X/Y), residuos(x=X,y=Y)[0]], axis=1)\n",
        "trades.columns = [\"sinal\", \"posicao\"]\n",
        "\n",
        "trades[\"acao\"] = 0\n",
        "trades.loc[trades.sinal <-1, \"acao\"] = 1  # compra par\n",
        "trades.loc[trades.sinal > 1, \"acao\"] = -1  # vende par\n",
        "trades"
      ]
    },
    {
      "cell_type": "code",
      "execution_count": null,
      "metadata": {},
      "outputs": [],
      "source": [
        "trades['pos1'] = trades['acao'].diff()\n",
        "trades['oaca'] = -trades['acao']\n",
        "trades['pos2'] = trades['oaca'].diff()\n",
        "trades"
      ]
    },
    {
      "cell_type": "code",
      "execution_count": null,
      "metadata": {},
      "outputs": [],
      "source": [
        "C0 = 1000\n",
        "\n",
        "CX = C0 // max(X)\n",
        "CY =  C0 //max(Y)\n",
        "\n",
        "portfolio = pd.DataFrame()\n",
        "\n",
        "portfolio[X.name] = X\n",
        "portfolio['Hold'+X.name] \n",
        "\n",
        "portfolio[Y.name] = Y\n",
        "\n"
      ]
    },
    {
      "cell_type": "code",
      "execution_count": null,
      "metadata": {
        "colab": {
          "base_uri": "https://localhost:8080/",
          "height": 498
        },
        "id": "KqzMgxjbofi9",
        "outputId": "80ff83d7-78be-4d99-ffce-343b091ac2cc"
      },
      "outputs": [
        {
          "data": {
            "text/plain": [
              "<AxesSubplot:xlabel='Date'>"
            ]
          },
          "execution_count": 212,
          "metadata": {},
          "output_type": "execute_result"
        },
        {
          "data": {
            "image/png": "[encoded data removed]",
            "text/plain": [
              "<Figure size 1152x576 with 1 Axes>"
            ]
          },
          "metadata": {},
          "output_type": "display_data"
        }
      ],
      "source": [
        "retornos = trades.posicao.pct_change() * trades.acao\n",
        "retornos.cumsum().plot(figsize=(16,8))"
      ]
    }
  ],
  "metadata": {
    "colab": {
      "include_colab_link": true,
      "provenance": []
    },
    "kernelspec": {
      "display_name": "Python 3",
      "name": "python3"
    },
    "language_info": {
      "codemirror_mode": {
        "name": "ipython",
        "version": 3
      },
      "file_extension": ".py",
      "mimetype": "text/x-python",
      "name": "python",
      "nbconvert_exporter": "python",
      "pygments_lexer": "ipython3",
      "version": "3.7.3"
    }
  },
  "nbformat": 4,
  "nbformat_minor": 0
}
