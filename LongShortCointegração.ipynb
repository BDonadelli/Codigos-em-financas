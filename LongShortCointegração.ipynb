{
  "cells": [
    {
      "cell_type": "markdown",
      "metadata": {
        "colab_type": "text",
        "id": "view-in-github"
      },
      "source": [
        "<a href=\"https://colab.research.google.com/github/BDonadelli/Codigos-em-financas/blob/main/LongShortCointegra%C3%A7%C3%A3o.ipynb\" target=\"_parent\"><img src=\"https://colab.research.google.com/assets/colab-badge.svg\" alt=\"Open In Colab\"/></a>"
      ]
    },
    {
      "cell_type": "code",
      "execution_count": 21,
      "metadata": {
        "id": "7PaA4JxHwdhZ"
      },
      "outputs": [],
      "source": [
        "import yfinance as yf\n",
        "\n",
        "import numpy as np\n",
        "import pandas as pd\n",
        "\n",
        "import seaborn\n",
        "from seaborn.matrix import axis_ticklabels_overlap\n",
        "import matplotlib.pyplot as plt\n",
        "from pylab import rcParams\n",
        "#rcParams['figure.figsize'] = 15, 5\n",
        "\n",
        "import statsmodels.api as sm\n",
        "from statsmodels.tsa.stattools import coint, adfuller"
      ]
    },
    {
      "cell_type": "code",
      "execution_count": 22,
      "metadata": {},
      "outputs": [],
      "source": [
        "symbols = [\n",
        "    'RRRP3', 'ENEV3', 'PETR3', 'PETR4', 'PRIO3',\n",
        "    'UNIP6', 'BRKM5',\n",
        "    'ABEV3', 'ASAI3', 'CRFB3', 'LREN3', 'MGLU3','PCAR3', 'VIIA3',\n",
        "    'ARZZ3', 'LREN3', 'MGLU3', 'VIIA3',\n",
        "    'AZUL4', 'GOLL4', 'CVCB3',\n",
        "    'BBSE3', 'PSSA3', 'IRBR3',\n",
        "    'ITSA4', 'ITUB4', 'ITUB3',   \n",
        "    'B3SA3', 'BPAN4', 'BPAC11', 'BBDC3', 'BBDC4', 'BBAS3', 'CIEL3', 'SANB11',\n",
        "    'IGTI11','MULT3', 'ALSO3',\n",
        "    'BRAP4', 'CMIN3', 'GGBR4', 'GOAU4', 'CSNA3','USIM5','VALE3',\n",
        "    'BRFS3', 'JBSS3', 'MRFG3', 'BEEF3',\n",
        "    'CCRO3', 'ECOR3',\n",
        "    'CMIG4', 'CPLE6', 'CPFE3', 'ELET3', 'ELET6', 'ENGI11','EGIE3', 'EQTL3','TAEE11',\n",
        "    'CYRE3', 'DXCO3', 'EZTC3', 'JHSF3', 'MRVE3',\n",
        "    'HAPV3', 'HYPE3', 'QUAL3', 'RADL3', 'RDOR3', 'FLRY3',\n",
        "    'LWSA3', 'POSI3', 'TOTS3', 'SQIA3' , 'VLID3' ,\n",
        "    'UGPA3', 'VBBR3', 'CSAN3', 'RAIZ4', \n",
        "    'RAIL3', 'JSLG3',\n",
        "    'BOVA11', 'SMAL11', 'MATB11'\n",
        "    ] \n"
      ]
    },
    {
      "cell_type": "code",
      "execution_count": 23,
      "metadata": {},
      "outputs": [
        {
          "name": "stdout",
          "output_type": "stream",
          "text": [
            "3321\n",
            "0.0001\n"
          ]
        }
      ],
      "source": [
        "try:\n",
        "    dados = pd.read_csv('precos.csv',index_col='Date')\n",
        "except:\n",
        "     dados = yf.download((pd.Series(symbols)+'.SA').to_list(), period = 'max', auto_adjust=True , progress = False)['Close']\n",
        "     dados.dropna(inplace=True)\n",
        "     dados.to_csv('/home/yair/GHub/Codigos-em-financas/precos.csv')\n",
        "dados.head(3)\n",
        "\n",
        "dados = dados.apply(np.log)\n",
        "\n",
        "symbols=dados.keys()\n",
        "\n",
        "N=int(len(symbols)*(len(symbols)-1)/2)\n",
        "print(N)\n",
        "relative_cutoff = 1 * 10 ** (-int(np.log(N)/np.log(10))-1)\n",
        "print(relative_cutoff)"
      ]
    },
    {
      "cell_type": "code",
      "execution_count": 24,
      "metadata": {},
      "outputs": [
        {
          "data": {
            "text/html": [
              "<div>\n",
              "<style scoped>\n",
              "    .dataframe tbody tr th:only-of-type {\n",
              "        vertical-align: middle;\n",
              "    }\n",
              "\n",
              "    .dataframe tbody tr th {\n",
              "        vertical-align: top;\n",
              "    }\n",
              "\n",
              "    .dataframe thead th {\n",
              "        text-align: right;\n",
              "    }\n",
              "</style>\n",
              "<table border=\"1\" class=\"dataframe\">\n",
              "  <thead>\n",
              "    <tr style=\"text-align: right;\">\n",
              "      <th></th>\n",
              "      <th>ABEV3.SA</th>\n",
              "      <th>ALSO3.SA</th>\n",
              "      <th>ARZZ3.SA</th>\n",
              "      <th>ASAI3.SA</th>\n",
              "      <th>AZUL4.SA</th>\n",
              "      <th>B3SA3.SA</th>\n",
              "      <th>BBAS3.SA</th>\n",
              "      <th>BBDC3.SA</th>\n",
              "      <th>BBDC4.SA</th>\n",
              "      <th>BBSE3.SA</th>\n",
              "      <th>...</th>\n",
              "      <th>SQIA3.SA</th>\n",
              "      <th>TAEE11.SA</th>\n",
              "      <th>TOTS3.SA</th>\n",
              "      <th>UGPA3.SA</th>\n",
              "      <th>UNIP6.SA</th>\n",
              "      <th>USIM5.SA</th>\n",
              "      <th>VALE3.SA</th>\n",
              "      <th>VBBR3.SA</th>\n",
              "      <th>VIIA3.SA</th>\n",
              "      <th>VLID3.SA</th>\n",
              "    </tr>\n",
              "    <tr>\n",
              "      <th>Date</th>\n",
              "      <th></th>\n",
              "      <th></th>\n",
              "      <th></th>\n",
              "      <th></th>\n",
              "      <th></th>\n",
              "      <th></th>\n",
              "      <th></th>\n",
              "      <th></th>\n",
              "      <th></th>\n",
              "      <th></th>\n",
              "      <th></th>\n",
              "      <th></th>\n",
              "      <th></th>\n",
              "      <th></th>\n",
              "      <th></th>\n",
              "      <th></th>\n",
              "      <th></th>\n",
              "      <th></th>\n",
              "      <th></th>\n",
              "      <th></th>\n",
              "      <th></th>\n",
              "    </tr>\n",
              "  </thead>\n",
              "  <tbody>\n",
              "    <tr>\n",
              "      <th>2021-11-22</th>\n",
              "      <td>2.762229</td>\n",
              "      <td>3.036084</td>\n",
              "      <td>4.250837</td>\n",
              "      <td>2.609876</td>\n",
              "      <td>3.303217</td>\n",
              "      <td>2.421819</td>\n",
              "      <td>3.225491</td>\n",
              "      <td>2.655921</td>\n",
              "      <td>2.810877</td>\n",
              "      <td>2.905612</td>\n",
              "      <td>...</td>\n",
              "      <td>2.825942</td>\n",
              "      <td>3.380224</td>\n",
              "      <td>3.475768</td>\n",
              "      <td>2.518946</td>\n",
              "      <td>4.228089</td>\n",
              "      <td>2.422048</td>\n",
              "      <td>4.070359</td>\n",
              "      <td>3.027143</td>\n",
              "      <td>1.742219</td>\n",
              "      <td>1.990793</td>\n",
              "    </tr>\n",
              "    <tr>\n",
              "      <th>2021-11-23</th>\n",
              "      <td>2.755277</td>\n",
              "      <td>3.030111</td>\n",
              "      <td>4.220351</td>\n",
              "      <td>2.614939</td>\n",
              "      <td>3.292126</td>\n",
              "      <td>2.411852</td>\n",
              "      <td>3.266452</td>\n",
              "      <td>2.680388</td>\n",
              "      <td>2.830019</td>\n",
              "      <td>2.891768</td>\n",
              "      <td>...</td>\n",
              "      <td>2.802734</td>\n",
              "      <td>3.378246</td>\n",
              "      <td>3.424634</td>\n",
              "      <td>2.567628</td>\n",
              "      <td>4.242016</td>\n",
              "      <td>2.468532</td>\n",
              "      <td>4.096354</td>\n",
              "      <td>3.055173</td>\n",
              "      <td>1.778336</td>\n",
              "      <td>2.011743</td>\n",
              "    </tr>\n",
              "    <tr>\n",
              "      <th>2021-11-24</th>\n",
              "      <td>2.749446</td>\n",
              "      <td>3.031493</td>\n",
              "      <td>4.223582</td>\n",
              "      <td>2.604787</td>\n",
              "      <td>3.279406</td>\n",
              "      <td>2.429230</td>\n",
              "      <td>3.284807</td>\n",
              "      <td>2.698216</td>\n",
              "      <td>2.855458</td>\n",
              "      <td>2.896866</td>\n",
              "      <td>...</td>\n",
              "      <td>2.786957</td>\n",
              "      <td>3.389498</td>\n",
              "      <td>3.445713</td>\n",
              "      <td>2.564022</td>\n",
              "      <td>4.206058</td>\n",
              "      <td>2.502762</td>\n",
              "      <td>4.119298</td>\n",
              "      <td>3.040352</td>\n",
              "      <td>1.769855</td>\n",
              "      <td>2.011743</td>\n",
              "    </tr>\n",
              "  </tbody>\n",
              "</table>\n",
              "<p>3 rows × 82 columns</p>\n",
              "</div>"
            ],
            "text/plain": [
              "            ABEV3.SA  ALSO3.SA  ARZZ3.SA  ASAI3.SA  AZUL4.SA  B3SA3.SA  \\\n",
              "Date                                                                     \n",
              "2021-11-22  2.762229  3.036084  4.250837  2.609876  3.303217  2.421819   \n",
              "2021-11-23  2.755277  3.030111  4.220351  2.614939  3.292126  2.411852   \n",
              "2021-11-24  2.749446  3.031493  4.223582  2.604787  3.279406  2.429230   \n",
              "\n",
              "            BBAS3.SA  BBDC3.SA  BBDC4.SA  BBSE3.SA  ...  SQIA3.SA  TAEE11.SA  \\\n",
              "Date                                                ...                        \n",
              "2021-11-22  3.225491  2.655921  2.810877  2.905612  ...  2.825942   3.380224   \n",
              "2021-11-23  3.266452  2.680388  2.830019  2.891768  ...  2.802734   3.378246   \n",
              "2021-11-24  3.284807  2.698216  2.855458  2.896866  ...  2.786957   3.389498   \n",
              "\n",
              "            TOTS3.SA  UGPA3.SA  UNIP6.SA  USIM5.SA  VALE3.SA  VBBR3.SA  \\\n",
              "Date                                                                     \n",
              "2021-11-22  3.475768  2.518946  4.228089  2.422048  4.070359  3.027143   \n",
              "2021-11-23  3.424634  2.567628  4.242016  2.468532  4.096354  3.055173   \n",
              "2021-11-24  3.445713  2.564022  4.206058  2.502762  4.119298  3.040352   \n",
              "\n",
              "            VIIA3.SA  VLID3.SA  \n",
              "Date                            \n",
              "2021-11-22  1.742219  1.990793  \n",
              "2021-11-23  1.778336  2.011743  \n",
              "2021-11-24  1.769855  2.011743  \n",
              "\n",
              "[3 rows x 82 columns]"
            ]
          },
          "execution_count": 24,
          "metadata": {},
          "output_type": "execute_result"
        }
      ],
      "source": [
        "dados.head(3)"
      ]
    },
    {
      "cell_type": "code",
      "execution_count": 25,
      "metadata": {
        "id": "lplCei2uwfTX"
      },
      "outputs": [],
      "source": [
        "def zscore(series):\n",
        "    return (series - series.mean()) / np.std(series)\n",
        "\n",
        "def residuos (x,y):\n",
        "  x = np.array(x)\n",
        "  y = np.array(y)\n",
        "  xx = sm.add_constant(x)\n",
        "  model = sm.OLS(y, xx)\n",
        "  results = model.fit()\n",
        "  intercept, slope = results.params\n",
        "  r_sq = results.rsquared \n",
        "  return y -  slope*x , slope , intercept , r_sq \n",
        "\n",
        "def estacionaridade(X, cutoff=0.01 ):\n",
        "     # H_0 é nao-estacionário, i.e., admite raiz unitaria (teste adfuller)    \n",
        "    pvalue = adfuller(X)[1]\n",
        "    if pvalue < cutoff:\n",
        "        print('p-value = ' + str(pvalue) + ' A serie \"'+X.name+'\" é, provavelmente, estacionaria.')\n",
        "        return True\n",
        "    else:\n",
        "        print('p-value = ' + str(pvalue) + ' A serie \"'+X.name+'\" é, provavelmente, não-estacionaria.')\n",
        "        return False\n",
        "\n",
        "def find_cointegrated_pairs(data,cutoff=0.05):\n",
        "  \"\"\"\n",
        "      Para cada par (X,Y) de ativos testa cointegração. ie, estacionariedade de Y - Ŷ  \n",
        "  \"\"\"\n",
        "  n = data.shape[1]\n",
        "  score_matrix = np.zeros((n, n))\n",
        "  pvalue_matrix = np.ones((n, n))\n",
        "  keys = data.keys()\n",
        "  pairs = []\n",
        "  for i in range(n):\n",
        "      for j in range(i+1, n):\n",
        "          X = data[keys[i]]\n",
        "          Y = data[keys[j]]\n",
        "          result = coint(Y,X) # Y dependent\n",
        "          score = result[0]\n",
        "          pvalue = result[1]\n",
        "          score_matrix[i, j] = score\n",
        "          pvalue_matrix[i, j] = pvalue\n",
        "          if pvalue < cutoff:\n",
        "              pairs.append((keys[i], keys[j]))\n",
        "  return score_matrix, pvalue_matrix, pairs \n",
        "\n",
        "def meia_vida (cointegrated_series = np.array([10.2, 11.5, 9.8, 10.9, 10.1, 9.6, 11.0, 10.7, 11.2, 9.9])) :\n",
        "   # Create lagged series\n",
        "   lagged_series = np.roll(cointegrated_series, shift=1)\n",
        "   lagged_series[0] = 0  # Replace the first value with 0\n",
        "\n",
        "   # Perform OLS regression\n",
        "   X = sm.add_constant(lagged_series)\n",
        "   model = sm.OLS(cointegrated_series, X).fit()\n",
        "\n",
        "   # Get the lambda estimate from the coefficient\n",
        "   lambda_estimate = -model.params[1]\n",
        "\n",
        "   half_life = -np.log(2) / lambda_estimate\n",
        "\n",
        "   return lambda_estimate , half_life\n",
        "\n",
        "\n",
        "   \n",
        "def arrange_subplots(xs, ys, n_plots , tt =[]):\n",
        "  \"\"\"\n",
        "  ---- Parameters ----\n",
        "  xs (n_plots, d): list with n_plot different lists of x values that we wish to plot\n",
        "  ys (n_plots, d): list with n_plot different lists of y values that we wish to plot\n",
        "  n_plots (int): the number of desired subplots\n",
        "  \"\"\"\n",
        "  from matplotlib import gridspec\n",
        "  %matplotlib inline\n",
        "\n",
        "  # compute the number of rows and columns\n",
        "  if n_plots<3 : \n",
        "    n_cols = 3\n",
        "    n_rows = 1\n",
        "  else: \n",
        "    n_cols = int(np.sqrt(n_plots))\n",
        "    n_rows = int(np.ceil(n_plots / n_cols))\n",
        "\n",
        "  # setup the plot\n",
        "  gs = gridspec.GridSpec(n_rows, n_cols)\n",
        "  scale = max(n_cols, n_rows)\n",
        "  fig = plt.figure(figsize=(.5 * scale, .5 * scale))\n",
        "\n",
        "  # loop through each subplot and plot values there\n",
        "  for i in range(n_plots):\n",
        "    ax = fig.add_subplot(gs[i])\n",
        "    ax.title.set_text(tt[i])\n",
        "    ax.plot(xs[i], ys[i])\n",
        "    plt.axhline(y = 0, color = 'silver', linestyle = '-')\n",
        "    plt.axhline(y = 1, color = 'orange', linestyle = '-')\n",
        "    plt.axhline(y = -1, color = 'orange', linestyle = '-')\n",
        "    plt.axhline(y = 2, color = 'red', linestyle = '-')\n",
        "    plt.axhline(y = -2, color = 'red', linestyle = '-')\n",
        "\n",
        "    plt.show()\n",
        "\n"
      ]
    },
    {
      "cell_type": "code",
      "execution_count": 26,
      "metadata": {},
      "outputs": [],
      "source": [
        "# # code to check data\n",
        "# y = dados.iloc[:,0].values.astype(float)\n",
        "# x = dados.iloc[:,1].values.astype(float)\n",
        "# print(coint(x,y))\n",
        "# print(coint(y,x))\n",
        "# xx = sm.add_constant(x)\n",
        "# model = sm.OLS(y, xx)\n",
        "# result = model.fit()\n",
        "# intercept, slope = result.params\n",
        "# print(adfuller(y-slope*x))\n",
        "# print(adfuller(y-(slope*x+intercept)))\n",
        "# print(adfuller(result.resid))"
      ]
    },
    {
      "cell_type": "code",
      "execution_count": 27,
      "metadata": {},
      "outputs": [
        {
          "data": {
            "text/plain": [
              "67"
            ]
          },
          "execution_count": 27,
          "metadata": {},
          "output_type": "execute_result"
        }
      ],
      "source": [
        "scores, pvalues, pairs = find_cointegrated_pairs(dados,.03)#relative_cutoff)\n",
        "len(pairs)"
      ]
    },
    {
      "cell_type": "code",
      "execution_count": 28,
      "metadata": {},
      "outputs": [
        {
          "name": "stdout",
          "output_type": "stream",
          "text": [
            " par ('ABEV3.SA', 'BRAP4.SA'); confiabilidade 98.87%; score -3.8585018865520184; p-valor 0.011306848023654824 \n",
            " par ('ALSO3.SA', 'BOVA11.SA'); confiabilidade 98.10%; score -3.6876319738471346; p-valor 0.019007078334280468 \n",
            " par ('ALSO3.SA', 'BRAP4.SA'); confiabilidade 97.02%; score -3.530304955823659; p-valor 0.029801826419569737 \n",
            " par ('ALSO3.SA', 'ENGI11.SA'); confiabilidade 98.40%; score -3.746392076624822; p-valor 0.01595529267722755 \n",
            " par ('ASAI3.SA', 'BRAP4.SA'); confiabilidade 97.66%; score -3.6159562034927566; p-valor 0.023409427977268343 \n",
            " par ('AZUL4.SA', 'BRAP4.SA'); confiabilidade 97.10%; score -3.540042123230243; p-valor 0.029007020327660775 \n",
            " par ('AZUL4.SA', 'VBBR3.SA'); confiabilidade 97.28%; score -3.5629689455111255; p-valor 0.027206836502898013 \n",
            " par ('B3SA3.SA', 'BOVA11.SA'); confiabilidade 99.99%; score -5.175514936320737; p-valor 7.731631453436709e-05 \n",
            " par ('B3SA3.SA', 'ENGI11.SA'); confiabilidade 98.03%; score -3.6760884287886775; p-valor 0.01966317715963768 \n",
            " par ('B3SA3.SA', 'ITSA4.SA'); confiabilidade 97.90%; score -3.654150350558122; p-valor 0.02096461427079763 \n",
            " par ('B3SA3.SA', 'TOTS3.SA'); confiabilidade 97.80%; score -3.6377329000403784; p-valor 0.02198691635689935 \n",
            " par ('BBAS3.SA', 'IGTI11.SA'); confiabilidade 99.92%; score -4.613164351454852; p-valor 0.0007932640221470029 \n",
            " par ('BBAS3.SA', 'MULT3.SA'); confiabilidade 98.68%; score -3.809443306463214; p-valor 0.013167951598989518 \n",
            " par ('BBDC3.SA', 'BRAP4.SA'); confiabilidade 98.84%; score -3.8512942500876544; p-valor 0.011564712418155997 \n",
            " par ('BBDC4.SA', 'BRAP4.SA'); confiabilidade 98.63%; score -3.7973462694539233; p-valor 0.013666662576575755 \n",
            " par ('BBSE3.SA', 'BRKM5.SA'); confiabilidade 99.89%; score -4.539401378908846; p-valor 0.0010542559431993843 \n",
            " par ('BBSE3.SA', 'VIIA3.SA'); confiabilidade 97.90%; score -3.6536804312609306; p-valor 0.020993291515900073 \n",
            " par ('BOVA11.SA', 'ENGI11.SA'); confiabilidade 97.56%; score -3.6018219374709015; p-valor 0.024374708118022444 \n",
            " par ('BOVA11.SA', 'TOTS3.SA'); confiabilidade 99.12%; score -3.9372684672976104; p-valor 0.008805270636444453 \n",
            " par ('BPAC11.SA', 'ENGI11.SA'); confiabilidade 99.99%; score -5.109620752795778; p-valor 0.00010299300177881702 \n",
            " par ('BPAC11.SA', 'IGTI11.SA'); confiabilidade 99.35%; score -4.0283893089849565; p-valor 0.006539485388059029 \n",
            " par ('BPAC11.SA', 'SQIA3.SA'); confiabilidade 97.72%; score -3.6250219973061095; p-valor 0.02280783626786889 \n",
            " par ('BPAN4.SA', 'CSAN3.SA'); confiabilidade 97.96%; score -3.6632150634433533; p-valor 0.020418056386107386 \n",
            " par ('BRAP4.SA', 'GGBR4.SA'); confiabilidade 97.87%; score -3.6482179787551963; p-valor 0.021329151353399585 \n",
            " par ('BRAP4.SA', 'VALE3.SA'); confiabilidade 100.00%; score -8.803955826632889; p-valor 2.758319451941767e-13 \n",
            " par ('BRKM5.SA', 'MRFG3.SA'); confiabilidade 99.25%; score -3.9868977547456557; p-valor 0.007496265799339174 \n",
            " par ('BRKM5.SA', 'RAIZ4.SA'); confiabilidade 97.39%; score -3.578287468245223; p-valor 0.02605816836884441 \n",
            " par ('CCRO3.SA', 'IGTI11.SA'); confiabilidade 99.75%; score -4.301394627415237; p-valor 0.0025476349166191404 \n",
            " par ('CIEL3.SA', 'USIM5.SA'); confiabilidade 99.08%; score -3.9233947439327825; p-valor 0.009206184488800602 \n",
            " par ('CMIG4.SA', 'IGTI11.SA'); confiabilidade 98.87%; score -3.8580434779611936; p-valor 0.011323094571017402 \n",
            " par ('CMIN3.SA', 'ELET3.SA'); confiabilidade 99.68%; score -4.2346097631383355; p-valor 0.003230908788592882 \n",
            " par ('CPFE3.SA', 'IGTI11.SA'); confiabilidade 98.85%; score -3.853662455666697; p-valor 0.011479414766495862 \n",
            " par ('CPLE6.SA', 'VIIA3.SA'); confiabilidade 98.49%; score -3.764786979710646; p-valor 0.015092861464329707 \n",
            " par ('CRFB3.SA', 'RRRP3.SA'); confiabilidade 97.21%; score -3.5539944084813953; p-valor 0.027899764465670163 \n",
            " par ('CSAN3.SA', 'RDOR3.SA'); confiabilidade 99.00%; score -3.8972442773117106; p-valor 0.010006580346062801 \n",
            " par ('CVCB3.SA', 'MRFG3.SA'); confiabilidade 97.74%; score -3.62829843062044; p-valor 0.022593732849628678 \n",
            " par ('CYRE3.SA', 'IGTI11.SA'); confiabilidade 98.26%; score -3.717796395884635; p-valor 0.017382063339495348 \n",
            " par ('DXCO3.SA', 'GOLL4.SA'); confiabilidade 99.96%; score -4.768399188333343; p-valor 0.00042887410639946437 \n",
            " par ('DXCO3.SA', 'RAIZ4.SA'); confiabilidade 98.10%; score -3.6873024414268407; p-valor 0.01902553966574636 \n",
            " par ('DXCO3.SA', 'RDOR3.SA'); confiabilidade 98.35%; score -3.7346223152717486; p-valor 0.016529577514033344 \n",
            " par ('DXCO3.SA', 'VBBR3.SA'); confiabilidade 98.53%; score -3.773754258672792; p-valor 0.014687530431822656 \n",
            " par ('EGIE3.SA', 'IGTI11.SA'); confiabilidade 99.92%; score -4.627247494221366; p-valor 0.0007509010063849461 \n",
            " par ('ENEV3.SA', 'GGBR4.SA'); confiabilidade 97.57%; score -3.6028399669614894; p-valor 0.024304053357167774 \n",
            " par ('ENGI11.SA', 'IGTI11.SA'); confiabilidade 99.70%; score -4.254982085565562; p-valor 0.003006445307104669 \n",
            " par ('ENGI11.SA', 'SQIA3.SA'); confiabilidade 98.66%; score -3.8043540725379312; p-valor 0.013375761768246737 \n",
            " par ('EQTL3.SA', 'IGTI11.SA'); confiabilidade 98.58%; score -3.7842537878454916; p-valor 0.014225168439767899 \n",
            " par ('EQTL3.SA', 'ITUB3.SA'); confiabilidade 99.30%; score -4.006002281966459; p-valor 0.007041050522593696 \n",
            " par ('EZTC3.SA', 'FLRY3.SA'); confiabilidade 98.54%; score -3.7749695354734767; p-valor 0.014633343974271493 \n",
            " par ('GOLL4.SA', 'RAIZ4.SA'); confiabilidade 97.88%; score -3.649904613502831; p-valor 0.021224953884551256 \n",
            " par ('GOLL4.SA', 'RDOR3.SA'); confiabilidade 97.76%; score -3.630673643681063; p-valor 0.022439611069412828 \n",
            " par ('GOLL4.SA', 'VBBR3.SA'); confiabilidade 99.50%; score -4.106419831246866; p-valor 0.005033926577343863 \n",
            " par ('IGTI11.SA', 'ITUB4.SA'); confiabilidade 98.65%; score -3.8020093527255026; p-valor 0.013472477453699491 \n",
            " par ('IGTI11.SA', 'PETR3.SA'); confiabilidade 98.90%; score -3.8687094113408707; p-valor 0.010950417912197648 \n",
            " par ('IGTI11.SA', 'PETR4.SA'); confiabilidade 98.52%; score -3.770873288009495; p-valor 0.014816694120893955 \n",
            " par ('IGTI11.SA', 'TAEE11.SA'); confiabilidade 97.24%; score -3.5584000173782346; p-valor 0.027557739228996053 \n",
            " par ('JBSS3.SA', 'QUAL3.SA'); confiabilidade 98.67%; score -3.8054642185833503; p-valor 0.013330184893524949 \n",
            " par ('JSLG3.SA', 'UGPA3.SA'); confiabilidade 98.93%; score -3.8750664070067944; p-valor 0.010733535302574116 \n",
            " par ('MRFG3.SA', 'QUAL3.SA'); confiabilidade 98.69%; score -3.810282018516933; p-valor 0.013133980053833604 \n",
            " par ('PCAR3.SA', 'SMAL11.SA'); confiabilidade 98.36%; score -3.737019601202099; p-valor 0.016411155583928673 \n",
            " par ('PETR3.SA', 'PETR4.SA'); confiabilidade 99.15%; score -3.9496141647373024; p-valor 0.008461762547949336 \n",
            " par ('PETR3.SA', 'RAIL3.SA'); confiabilidade 98.01%; score -3.6714357111544222; p-valor 0.019933153145464046 \n",
            " par ('PETR4.SA', 'RAIL3.SA'); confiabilidade 98.17%; score -3.7002179114168228; p-valor 0.018313584348182425 \n",
            " par ('RAIZ4.SA', 'RDOR3.SA'); confiabilidade 98.82%; score -3.8441089007993057; p-valor 0.011826974264706466 \n",
            " par ('RAIZ4.SA', 'VBBR3.SA'); confiabilidade 98.63%; score -3.7968884715019273; p-valor 0.013685859499144097 \n",
            " par ('RDOR3.SA', 'VBBR3.SA'); confiabilidade 99.98%; score -4.924214477768174; p-valor 0.00022637173102404523 \n",
            " par ('RRRP3.SA', 'TOTS3.SA'); confiabilidade 98.54%; score -3.775181998954723; p-valor 0.014623888838994181 \n",
            " par ('SANB11.SA', 'TOTS3.SA'); confiabilidade 97.19%; score -3.5511494206768432; p-valor 0.028122558793348504 \n"
          ]
        }
      ],
      "source": [
        "for pp in pairs:\n",
        "    i = pd.Index(symbols).get_loc(pp[0])\n",
        "    j = pd.Index(symbols).get_loc(pp[1])\n",
        "    if (1-pvalues[i,j]) > 0:\n",
        "        print(f' par {pp}; confiabilidade {(1-pvalues[i,j])*100:.2f}%; score {scores[i,j]}; p-valor {pvalues[i,j]} ')"
      ]
    },
    {
      "cell_type": "code",
      "execution_count": 29,
      "metadata": {},
      "outputs": [
        {
          "data": {
            "text/plain": [
              "2.758319451941767e-13"
            ]
          },
          "execution_count": 29,
          "metadata": {},
          "output_type": "execute_result"
        }
      ],
      "source": [
        "pvalues.min()"
      ]
    },
    {
      "cell_type": "code",
      "execution_count": 30,
      "metadata": {},
      "outputs": [
        {
          "data": {
            "text/plain": [
              "-8.803955826632889"
            ]
          },
          "execution_count": 30,
          "metadata": {},
          "output_type": "execute_result"
        }
      ],
      "source": [
        "scores[np.unravel_index(scores.argmin(), scores.shape)[0]][np.unravel_index(scores.argmin(), scores.shape)[1]]"
      ]
    },
    {
      "cell_type": "code",
      "execution_count": 31,
      "metadata": {},
      "outputs": [
        {
          "name": "stdout",
          "output_type": "stream",
          "text": [
            "BRAP4.SA VALE3.SA\n"
          ]
        }
      ],
      "source": [
        "print(symbols[np.unravel_index(pvalues.argmin(), pvalues.shape)[0]] \n",
        "      , symbols[np.unravel_index(pvalues.argmin(), pvalues.shape)[1]])"
      ]
    },
    {
      "cell_type": "code",
      "execution_count": 32,
      "metadata": {},
      "outputs": [],
      "source": [
        "X= dados[symbols[np.unravel_index(scores.argmin(), scores.shape)[0]]]\n",
        "Y= dados[symbols[np.unravel_index(scores.argmin(), scores.shape)[1]]]\n",
        "X=dados['BPAC11.SA']\n",
        "Y=dados['ENGI11.SA']"
      ]
    },
    {
      "cell_type": "code",
      "execution_count": 33,
      "metadata": {
        "colab": {
          "base_uri": "https://localhost:8080/",
          "height": 1000
        },
        "id": "-5xRuwjmIeKK",
        "outputId": "fe6ae243-9a11-42b1-f2d2-031a6d005b89"
      },
      "outputs": [],
      "source": [
        "# seaborn.set(rc={'figure.figsize':(8,8)})\n",
        "# seaborn.heatmap(\n",
        "#     pvalues, \n",
        "#     xticklabels=symbols, \n",
        "#     yticklabels=symbols, \n",
        "#     cmap='RdYlGn_r', \n",
        "#     mask = (pvalues >= 0.01)\n",
        "# )"
      ]
    },
    {
      "cell_type": "code",
      "execution_count": 34,
      "metadata": {
        "id": "kwVKlLNjq4EW"
      },
      "outputs": [],
      "source": [
        "# !pip install -qU kaleido\n",
        "import kaleido\n",
        "import plotly\n",
        "plotly.io.renderers.default = 'svg'\n"
      ]
    },
    {
      "cell_type": "code",
      "execution_count": 35,
      "metadata": {
        "id": "7iXoM5eXE6fx"
      },
      "outputs": [],
      "source": [
        "import plotly.graph_objs as go\n",
        "from plotly.subplots import make_subplots\n"
      ]
    },
    {
      "cell_type": "code",
      "execution_count": 36,
      "metadata": {},
      "outputs": [
        {
          "data": {
            "image/svg+xml": [
              "<svg class=\"main-svg\" xmlns=\"http://www.w3.org/2000/svg\" xmlns:xlink=\"http://www.w3.org/1999/xlink\" width=\"700\" height=\"500\" style=\"\" viewBox=\"0 0 700 500\"><rect x=\"0\" y=\"0\" width=\"700\" height=\"500\" style=\"fill: rgb(255, 255, 255); fill-opacity: 1;\"/><defs id=\"defs-3a69f6\"><g class=\"clips\"><clipPath id=\"clip3a69f6xyplot\" class=\"plotclip\"><rect width=\"491\" height=\"320\"/></clipPath><clipPath class=\"axesclip\" id=\"clip3a69f6x\"><rect x=\"80\" y=\"0\" width=\"491\" height=\"500\"/></clipPath><clipPath class=\"axesclip\" id=\"clip3a69f6y\"><rect x=\"0\" y=\"100\" width=\"700\" height=\"320\"/></clipPath><clipPath class=\"axesclip\" id=\"clip3a69f6xy\"><rect x=\"80\" y=\"100\" width=\"491\" height=\"320\"/></clipPath></g><g class=\"gradients\"/><g class=\"patterns\"/></defs><g class=\"bglayer\"><rect class=\"bg\" x=\"80\" y=\"100\" width=\"491\" height=\"320\" style=\"fill: rgb(229, 236, 246); fill-opacity: 1; stroke-width: 0;\"/></g><g class=\"layer-below\"><g class=\"imagelayer\"/><g class=\"shapelayer\"/></g><g class=\"cartesianlayer\"><g class=\"subplot xy\"><g class=\"layer-subplot\"><g class=\"shapelayer\"/><g class=\"imagelayer\"/></g><g class=\"minor-gridlayer\"><g class=\"x\"/><g class=\"y\"/></g><g class=\"gridlayer\"><g class=\"x\"><path class=\"xgrid crisp\" transform=\"translate(110.98,0)\" d=\"M0,100v320\" style=\"stroke: rgb(255, 255, 255); stroke-opacity: 1; stroke-width: 1px;\"/><path class=\"xgrid crisp\" transform=\"translate(180.68,0)\" d=\"M0,100v320\" style=\"stroke: rgb(255, 255, 255); stroke-opacity: 1; stroke-width: 1px;\"/><path class=\"xgrid crisp\" transform=\"translate(251.15,0)\" d=\"M0,100v320\" style=\"stroke: rgb(255, 255, 255); stroke-opacity: 1; stroke-width: 1px;\"/><path class=\"xgrid crisp\" transform=\"translate(322.4,0)\" d=\"M0,100v320\" style=\"stroke: rgb(255, 255, 255); stroke-opacity: 1; stroke-width: 1px;\"/><path class=\"xgrid crisp\" transform=\"translate(393.65,0)\" d=\"M0,100v320\" style=\"stroke: rgb(255, 255, 255); stroke-opacity: 1; stroke-width: 1px;\"/><path class=\"xgrid crisp\" transform=\"translate(463.35,0)\" d=\"M0,100v320\" style=\"stroke: rgb(255, 255, 255); stroke-opacity: 1; stroke-width: 1px;\"/><path class=\"xgrid crisp\" transform=\"translate(533.8299999999999,0)\" d=\"M0,100v320\" style=\"stroke: rgb(255, 255, 255); stroke-opacity: 1; stroke-width: 1px;\"/></g><g class=\"y\"><path class=\"ygrid crisp\" transform=\"translate(0,369.62)\" d=\"M80,0h491\" style=\"stroke: rgb(255, 255, 255); stroke-opacity: 1; stroke-width: 1px;\"/><path class=\"ygrid crisp\" transform=\"translate(0,314.89)\" d=\"M80,0h491\" style=\"stroke: rgb(255, 255, 255); stroke-opacity: 1; stroke-width: 1px;\"/><path class=\"ygrid crisp\" transform=\"translate(0,260.15999999999997)\" d=\"M80,0h491\" style=\"stroke: rgb(255, 255, 255); stroke-opacity: 1; stroke-width: 1px;\"/><path class=\"ygrid crisp\" transform=\"translate(0,205.43)\" d=\"M80,0h491\" style=\"stroke: rgb(255, 255, 255); stroke-opacity: 1; stroke-width: 1px;\"/><path class=\"ygrid crisp\" transform=\"translate(0,150.7)\" d=\"M80,0h491\" style=\"stroke: rgb(255, 255, 255); stroke-opacity: 1; stroke-width: 1px;\"/></g></g><g class=\"zerolinelayer\"/><path class=\"xlines-below\"/><path class=\"ylines-below\"/><g class=\"overlines-below\"/><g class=\"xaxislayer-below\"/><g class=\"yaxislayer-below\"/><g class=\"overaxes-below\"/><g class=\"plot\" transform=\"translate(80,100)\" clip-path=\"url(#clip3a69f6xyplot)\"><g class=\"scatterlayer mlayer\"><g class=\"trace scatter trace95a78a\" style=\"stroke-miterlimit: 2; opacity: 1;\"><g class=\"fills\"/><g class=\"errorbars\"/><g class=\"lines\"><path class=\"js-line\" d=\"M0,286.18L0.77,283.72L1.55,276.99L2.32,261L3.1,274.09L5.42,264.78L6.2,276.2L7.74,273.17L8.52,270.43L10.84,268.11L11.62,268.88L12.39,262.63L13.17,266.95L13.94,250.79L16.26,248.87L17.04,261.12L17.81,253.58L18.59,255.91L19.36,250.91L22.46,265.58L23.23,260.89L24.01,264.94L27.11,264.69L27.88,274.55L28.65,274.41L29.43,271.26L32.53,282.59L34.85,304L35.62,301.93L37.95,302.52L38.72,289.7L39.5,288.16L40.27,291.82L41.05,287.46L43.37,285.38L44.14,296.83L44.92,282.9L45.69,260.89L46.47,264.84L48.79,260.89L49.56,249.6L51.11,230.82L51.89,240.05L54.99,229.34L55.76,239.23L57.31,245.38L59.63,247.9L60.41,248.87L61.18,238.64L61.96,240.05L62.73,243.59L65.05,239.69L65.83,222.66L66.6,218.18L67.38,220.24L68.15,219.48L70.47,230.36L71.25,216.13L72.02,218.72L72.8,209.75L73.57,216.56L77.44,219.37L78.22,224.65L78.99,234.24L81.32,243.83L82.87,221.01L83.64,229.12L84.41,233.9L86.74,236.9L87.51,235.51L88.29,226.98L89.84,213.98L92.16,221.34L94.48,204.55L95.26,200.35L97.58,199.95L98.35,198.43L99.9,209.86L100.68,203.72L103,206.31L103.78,217.31L104.55,219.81L105.32,214.09L106.1,214.63L108.42,218.29L109.2,223.21L109.97,216.99L110.75,219.92L113.84,218.29L115.39,207.66L116.94,216.67L119.26,219.7L120.04,233.9L120.81,234.01L121.59,230.7L122.36,242.76L124.69,242.88L125.46,248.14L126.24,243.59L127.78,257.24L130.11,247.54L130.88,239.46L131.66,248.26L133.21,229.34L135.53,226.31L136.3,222.88L137.08,233.67L138.63,224.65L140.95,227.21L141.72,229.23L142.5,224.53L144.05,218.83L146.37,222.11L147.15,219.7L147.92,222.77L148.69,217.42L149.47,228.22L153.34,244.66L154.12,241.22L154.89,250.69L157.21,259.12L157.99,258.62L158.76,250.45L160.31,261.14L162.63,263.56L163.41,260.63L164.18,245.86L165.73,251.18L168.06,241.46L169.6,252.65L170.38,252.16L171.15,248.51L173.48,253.15L174.25,251.43L175.03,246.94L175.8,247.54L176.57,250.08L178.9,259.24L179.67,255.49L180.45,253.51L181.22,267.16L182,261.01L184.32,261.14L185.09,246.94L185.87,247.66L186.64,248.26L187.42,250.21L189.74,248.51L190.51,258.11L192.06,246.7L192.84,248.39L195.16,252.78L195.94,250.21L196.71,242.17L197.48,225.98L198.26,221.46L200.58,219.03L201.36,224.82L202.13,206.03L202.91,206.13L203.68,205.19L206,202.38L206.78,203.73L207.55,203L208.33,204.56L209.1,208.45L211.42,213.15L212.97,205.61L213.75,208.03L214.52,213.69L216.85,208.98L217.62,209.19L218.39,212.61L219.94,206.87L222.27,202.07L223.04,208.88L224.59,205.71L227.69,196.33L228.46,202.89L230.01,202.38L230.79,203.41L233.11,200.52L233.88,193.71L234.66,208.24L235.43,208.56L238.53,229.58L239.3,223.92L240.08,219.36L240.85,224.25L244.73,201.34L245.5,200L246.27,196.23L247.05,203.31L250.15,204.46L251.7,202.48L252.47,204.14L254.79,198.26L256.34,192.41L257.12,190.72L257.89,180.78L260.21,186.48L260.99,190.62L261.76,203.41L263.31,192.21L265.64,177.45L266.41,176.69L267.96,177.92L268.73,173.04L271.06,182.22L271.83,180.39L272.61,185.02L274.15,210.26L276.48,204.14L278.8,229.24L279.58,217.28L281.9,214.56L282.67,226.62L283.45,221.24L284.22,208.13L285,221.69L287.32,224.25L288.87,217.06L289.64,219.14L290.42,211.11L292.74,223.92L293.52,225.15L294.29,229.69L295.06,241.03L295.84,241.27L298.16,255.23L298.94,267.17L300.49,254.47L301.26,265.73L305.13,235.37L305.91,237.03L306.68,220.45L309,227.35L309.78,233.84L310.55,220.56L311.33,226.89L314.43,245.22L315.2,258.63L315.97,250.03L317.52,237.57L319.85,240.21L320.62,225.85L321.4,230.94L322.94,246.45L325.27,257.94L326.82,239.25L327.59,247.44L328.37,255.76L330.69,261.7L332.24,251.06L333.01,252.32L333.79,257.3L336.11,259.49L336.88,252.07L337.66,255.37L339.21,273.19L341.53,272.78L342.31,271.96L343.08,260.92L343.85,263.54L344.63,262.88L346.95,256.91L347.73,266.19L349.28,253.08L350.05,261.97L353.92,265.92L354.7,264.33L355.47,270.07L357.79,275.38L358.57,272.78L359.34,281.91L360.89,283.61L363.22,277.17L363.99,282.34L364.76,264.86L365.54,261.05L368.64,280.65L369.41,281.07L370.19,279.95L370.96,269.53L371.74,276.76L374.83,283.47L375.61,287.75L376.38,298.6L377.16,294.3L379.48,290.78L380.25,285.17L381.03,287.46L381.8,276.07L382.58,278.97L384.9,279.11L386.45,266.45L387.22,268.05L390.32,262.75L391.1,240.7L391.87,234L392.65,235.78L395.74,238.29L396.52,234.24L397.29,242.76L398.07,238.89L401.16,242.76L401.94,239.49L402.71,243.13L403.49,234.12L404.26,230.94L407.36,240.94L408.13,239.97L408.91,233.53L409.68,225.74L412.01,222.66L414.33,207.02L415.1,207.77L417.43,205.73L418.2,206.7L418.98,201.3L419.75,201.51L420.53,198.38L422.85,203.19L424.4,204.14L425.17,193.34L425.95,190.6L428.27,188.99L429.82,199.21L430.59,189.19L431.37,180.12L433.69,178.38L434.47,177.22L435.24,170.49L436.79,171.62L439.11,168.71L439.89,174.83L440.66,173.88L441.44,172.46L442.21,166.21L444.53,163.92L445.31,157.23L446.08,153.95L446.86,161.55L447.63,160.19L449.95,162.37L450.73,164.1L451.5,163.19L453.05,150.27L455.38,142.38L456.15,142.89L456.92,144.5L457.7,155.54L458.47,143.73L461.57,150.44L462.35,148.97L463.12,141.28L463.89,146.21L466.99,134.87L467.77,138.02L469.32,128.29L471.64,131.36L472.41,132.5L473.19,130.31L473.96,132.58L474.74,130.23L477.06,128.85L477.83,130.55L478.61,135.37L479.38,133.89L480.16,137.52L482.48,133.67L484.03,134.41L484.8,135L485.58,139.79L487.9,136.75L490.23,157.56L491,153.52\" style=\"vector-effect: none; fill: none; stroke: rgb(70, 130, 180); stroke-opacity: 1; stroke-width: 2px; opacity: 1;\"/></g><g class=\"points\"/><g class=\"text\"/></g><g class=\"trace scatter trace482b0e\" style=\"stroke-miterlimit: 2; opacity: 1;\"><g class=\"fills\"/><g class=\"errorbars\"/><g class=\"lines\"><path class=\"js-line\" d=\"M0,93.17L2.32,79.54L3.1,84.69L5.42,77.06L6.2,77.48L6.97,78.14L7.74,73.94L8.52,73.05L10.84,72.46L11.62,76.34L12.39,75.26L13.17,74.42L13.94,71.4L16.26,72.05L17.04,74.06L17.81,73.29L18.59,78.14L19.36,76.22L21.68,82.71L22.46,85.31L23.23,83.57L24.01,85.12L27.11,83.39L27.88,81.85L28.65,87.67L29.43,85.18L32.53,95.42L34.08,99.38L34.85,102L35.62,101.59L37.95,103.89L38.72,99.79L39.5,90.12L40.27,92.12L41.05,90.12L43.37,91.79L44.14,88.4L45.69,94L46.47,91.39L48.79,89.86L49.56,85.64L51.89,78.16L54.21,74.81L54.99,72.81L55.76,75.56L56.53,73.24L57.31,75.82L59.63,75.37L60.41,77.59L61.18,80.2L61.96,77.84L62.73,80.01L65.05,75.69L65.83,78.1L66.6,75.19L67.38,78.54L68.15,74.18L70.47,75.06L71.25,71.68L72.02,71.37L72.8,75.5L73.57,81.55L77.44,80.39L78.22,79.18L78.99,87.28L81.32,89.59L82.09,88.46L82.87,75.5L83.64,78.8L84.41,82.58L86.74,80.2L87.51,79.18L88.29,75.69L89.84,64.45L92.16,61.32L94.48,50.07L95.26,51.45L97.58,51.63L98.35,42.43L99.13,45.4L99.9,43.6L100.68,35.27L103,38.6L105.32,47.96L106.1,48.24L109.2,51.05L109.97,49.73L110.75,52.67L113.84,49.61L114.62,51.22L115.39,49.5L116.94,51.57L119.26,47.61L120.81,43.94L121.59,48.3L122.36,50.24L124.69,51.63L125.46,53.95L126.24,52.32L127.78,58.64L130.11,56.99L131.66,68.35L132.43,65.85L133.21,65.12L135.53,66.27L136.3,67.25L137.08,73.87L137.85,72.68L138.63,65.66L140.95,66.52L141.72,58.82L142.5,58.47L143.27,66.45L144.05,73.62L146.37,73.62L147.15,70.51L147.92,71.93L148.69,70.75L149.47,71.06L152.57,72.06L153.34,74.06L154.89,81.87L157.21,84.92L157.99,83.88L158.76,77.65L160.31,68.35L162.63,71.37L164.96,84.86L165.73,92.99L168.83,88.07L169.6,93.6L175.03,106.27L175.8,103.4L176.57,101.52L178.9,101.17L179.67,98.08L180.45,102.84L182,94.88L184.32,99.45L185.87,99.38L186.64,96.24L189.74,84.66L190.51,88.2L192.84,71.75L195.16,73.55L195.94,79.24L196.71,78.92L198.26,67.92L200.58,56.7L202.13,64.63L202.91,67.98L203.68,61.32L206,55.64L206.78,54.41L207.55,51.17L211.42,56.75L212.2,60.01L214.52,74.56L216.85,68.63L217.62,69.96L218.39,75.85L219.94,67.12L222.27,63.76L223.04,67.5L224.59,68.82L225.36,65.25L227.69,61.54L228.46,64.57L229.24,60.68L230.79,64.94L233.11,61.23L235.43,54.15L236.21,55.11L238.53,61.42L239.3,70.91L240.85,80.28L241.63,78.45L243.95,64.44L244.73,65.13L245.5,65.13L246.27,67.94L247.05,70.53L249.37,67.31L251.7,66.62L252.47,62.83L254.79,60.07L255.57,51.18L256.34,53.13L257.12,52.66L257.89,47.07L260.21,47.48L261.76,55.29L262.54,48.35L263.31,49.88L265.64,38.41L266.41,39.26L267.96,36.67L268.73,35.1L271.06,42.73L271.83,48.29L272.61,47.3L273.38,60.19L274.15,54.57L276.48,48.12L278.03,56.91L278.8,67.31L279.58,64.44L281.9,55.23L282.67,60.93L283.45,62.89L284.22,55.23L285,66.25L287.32,69.01L288.87,73.4L289.64,71.87L290.42,73.85L292.74,82.6L293.52,81.14L294.29,73.98L295.06,79.76L295.84,78.65L298.94,79.63L299.71,77.67L300.49,82.8L301.26,80.55L304.36,68.38L305.13,71.1L305.91,69.2L306.68,63.7L309.78,70.28L310.55,62.09L311.33,63.88L314.43,73.27L315.97,80.75L316.75,81.01L317.52,82.4L319.85,82.2L320.62,82.86L321.4,77.08L322.17,67.75L322.94,78.06L325.27,85.4L326.04,78.25L326.82,78.19L327.59,76.43L328.37,84.33L330.69,82.46L331.46,82.73L332.24,73.79L333.01,68.07L333.79,70.66L336.88,76.69L337.66,75.78L338.43,69.2L339.21,74.11L341.53,78.45L342.31,88.36L343.08,81.8L343.85,97.52L344.63,87.75L346.95,87.68L347.73,94.59L348.5,89.31L349.28,89.99L350.05,87.95L355.47,99.42L357.79,98.01L358.57,99.56L359.34,99L360.89,105.19L363.22,101.33L363.99,98.71L364.76,91.36L365.54,88.9L368.64,94.46L369.41,93.42L370.19,89.04L370.96,91.22L371.74,109.4L374.06,110.35L374.83,112.49L376.38,109.63L377.16,103.57L379.48,104.74L380.25,86.27L381.03,90.98L381.8,85.58L382.58,83.87L384.9,85.51L385.68,76.41L386.45,77.88L387.22,73.38L390.32,72.34L391.1,70.06L391.87,63.47L392.65,62.15L393.42,57.28L395.74,62.46L396.52,68.77L397.29,75.03L398.07,71.36L401.16,68.45L401.94,74.17L402.71,75.42L403.49,72.01L404.26,73.05L407.36,70.58L408.91,62.52L409.68,62.96L412.01,63.15L412.78,59.27L414.33,51.65L415.1,58.46L417.43,51.59L418.2,54.94L418.98,55.56L419.75,57.96L420.53,47.15L422.85,52.75L424.4,59.83L425.17,48.23L425.95,49.42L428.27,55L429.82,58.77L430.59,67.87L431.37,59.58L433.69,64.67L435.24,52.69L436.79,50.33L439.11,48.34L439.89,51.78L441.44,42.78L442.21,51.41L444.53,52.32L445.31,40.85L446.08,41.38L446.86,49.06L447.63,33.28L449.95,33.5L450.73,35.83L451.5,35.26L452.28,32.03L453.05,22.94L455.38,20.83L456.15,21.8L456.92,21.1L457.7,22.78L458.47,20.39L460.8,19.48L462.35,25.79L463.12,23.49L463.89,24.04L466.22,24.42L467.77,27.34L468.54,28.28L469.32,22.4L471.64,19.26L473.19,16L473.96,21.91L474.74,21.26L477.06,23L477.83,24.2L478.61,22.73L480.16,29.68L482.48,33.28L484.03,31.98L484.8,31.13L485.58,29.01L487.9,28.45L489.45,33.56L490.23,33.85L491,31.5\" style=\"vector-effect: none; fill: none; stroke: rgb(144, 238, 144); stroke-opacity: 1; stroke-width: 2px; opacity: 1;\"/></g><g class=\"points\"/><g class=\"text\"/></g></g></g><g class=\"overplot\"/><path class=\"xlines-above crisp\" d=\"M0,0\" style=\"fill: none;\"/><path class=\"ylines-above crisp\" d=\"M0,0\" style=\"fill: none;\"/><g class=\"overlines-above\"/><g class=\"xaxislayer-above\"><g class=\"xtick\"><text text-anchor=\"middle\" x=\"0\" y=\"433\" transform=\"translate(110.98,0)\" style=\"font-family: 'Open Sans', verdana, arial, sans-serif; font-size: 12px; fill: rgb(42, 63, 95); fill-opacity: 1; white-space: pre; opacity: 1;\">Jan 2022</text></g><g class=\"xtick\"><text text-anchor=\"middle\" x=\"0\" y=\"433\" style=\"font-family: 'Open Sans', verdana, arial, sans-serif; font-size: 12px; fill: rgb(42, 63, 95); fill-opacity: 1; white-space: pre; opacity: 1;\" transform=\"translate(180.68,0)\">Apr 2022</text></g><g class=\"xtick\"><text text-anchor=\"middle\" x=\"0\" y=\"433\" style=\"font-family: 'Open Sans', verdana, arial, sans-serif; font-size: 12px; fill: rgb(42, 63, 95); fill-opacity: 1; white-space: pre; opacity: 1;\" transform=\"translate(251.15,0)\">Jul 2022</text></g><g class=\"xtick\"><text text-anchor=\"middle\" x=\"0\" y=\"433\" style=\"font-family: 'Open Sans', verdana, arial, sans-serif; font-size: 12px; fill: rgb(42, 63, 95); fill-opacity: 1; white-space: pre; opacity: 1;\" transform=\"translate(322.4,0)\">Oct 2022</text></g><g class=\"xtick\"><text text-anchor=\"middle\" x=\"0\" y=\"433\" style=\"font-family: 'Open Sans', verdana, arial, sans-serif; font-size: 12px; fill: rgb(42, 63, 95); fill-opacity: 1; white-space: pre; opacity: 1;\" transform=\"translate(393.65,0)\">Jan 2023</text></g><g class=\"xtick\"><text text-anchor=\"middle\" x=\"0\" y=\"433\" style=\"font-family: 'Open Sans', verdana, arial, sans-serif; font-size: 12px; fill: rgb(42, 63, 95); fill-opacity: 1; white-space: pre; opacity: 1;\" transform=\"translate(463.35,0)\">Apr 2023</text></g><g class=\"xtick\"><text text-anchor=\"middle\" x=\"0\" y=\"433\" style=\"font-family: 'Open Sans', verdana, arial, sans-serif; font-size: 12px; fill: rgb(42, 63, 95); fill-opacity: 1; white-space: pre; opacity: 1;\" transform=\"translate(533.8299999999999,0)\">Jul 2023</text></g></g><g class=\"yaxislayer-above\"><g class=\"ytick\"><text text-anchor=\"end\" x=\"79\" y=\"4.199999999999999\" transform=\"translate(0,369.62)\" style=\"font-family: 'Open Sans', verdana, arial, sans-serif; font-size: 12px; fill: rgb(42, 63, 95); fill-opacity: 1; white-space: pre; opacity: 1;\">3</text></g><g class=\"ytick\"><text text-anchor=\"end\" x=\"79\" y=\"4.199999999999999\" style=\"font-family: 'Open Sans', verdana, arial, sans-serif; font-size: 12px; fill: rgb(42, 63, 95); fill-opacity: 1; white-space: pre; opacity: 1;\" transform=\"translate(0,314.89)\">3.2</text></g><g class=\"ytick\"><text text-anchor=\"end\" x=\"79\" y=\"4.199999999999999\" style=\"font-family: 'Open Sans', verdana, arial, sans-serif; font-size: 12px; fill: rgb(42, 63, 95); fill-opacity: 1; white-space: pre; opacity: 1;\" transform=\"translate(0,260.15999999999997)\">3.4</text></g><g class=\"ytick\"><text text-anchor=\"end\" x=\"79\" y=\"4.199999999999999\" style=\"font-family: 'Open Sans', verdana, arial, sans-serif; font-size: 12px; fill: rgb(42, 63, 95); fill-opacity: 1; white-space: pre; opacity: 1;\" transform=\"translate(0,205.43)\">3.6</text></g><g class=\"ytick\"><text text-anchor=\"end\" x=\"79\" y=\"4.199999999999999\" style=\"font-family: 'Open Sans', verdana, arial, sans-serif; font-size: 12px; fill: rgb(42, 63, 95); fill-opacity: 1; white-space: pre; opacity: 1;\" transform=\"translate(0,150.7)\">3.8</text></g></g><g class=\"overaxes-above\"/></g></g><g class=\"polarlayer\"/><g class=\"smithlayer\"/><g class=\"ternarylayer\"/><g class=\"geolayer\"/><g class=\"funnelarealayer\"/><g class=\"pielayer\"/><g class=\"iciclelayer\"/><g class=\"treemaplayer\"/><g class=\"sunburstlayer\"/><g class=\"glimages\"/><defs id=\"topdefs-3a69f6\"><g class=\"clips\"/><clipPath id=\"legend3a69f6\"><rect width=\"107\" height=\"48\" x=\"0\" y=\"0\"/></clipPath></defs><g class=\"layer-above\"><g class=\"imagelayer\"/><g class=\"shapelayer\"/></g><g class=\"infolayer\"><g class=\"legend\" pointer-events=\"all\" transform=\"translate(580.8199999999999,100)\"><rect class=\"bg\" shape-rendering=\"crispEdges\" style=\"stroke: rgb(68, 68, 68); stroke-opacity: 1; fill: rgb(255, 255, 255); fill-opacity: 1; stroke-width: 0px;\" width=\"107\" height=\"48\" x=\"0\" y=\"0\"/><g class=\"scrollbox\" transform=\"\" clip-path=\"url(#legend3a69f6)\"><g class=\"groups\"><g class=\"traces\" transform=\"translate(0,14.5)\" style=\"opacity: 1;\"><text class=\"legendtext\" text-anchor=\"start\" x=\"40\" y=\"4.680000000000001\" style=\"font-family: 'Open Sans', verdana, arial, sans-serif; font-size: 12px; fill: rgb(42, 63, 95); fill-opacity: 1; white-space: pre;\">BPAC11.SA</text><g class=\"layers\" style=\"opacity: 1;\"><g class=\"legendfill\"/><g class=\"legendlines\"><path class=\"js-line\" d=\"M5,0h30\" style=\"fill: none; stroke: rgb(70, 130, 180); stroke-opacity: 1; stroke-width: 2px;\"/></g><g class=\"legendsymbols\"><g class=\"legendpoints\"/></g></g><rect class=\"legendtoggle\" x=\"0\" y=\"-9.5\" width=\"101.671875\" height=\"19\" style=\"fill: rgb(0, 0, 0); fill-opacity: 0;\"/></g><g class=\"traces\" transform=\"translate(0,33.5)\" style=\"opacity: 1;\"><text class=\"legendtext\" text-anchor=\"start\" x=\"40\" y=\"4.680000000000001\" style=\"font-family: 'Open Sans', verdana, arial, sans-serif; font-size: 12px; fill: rgb(42, 63, 95); fill-opacity: 1; white-space: pre;\">ENGI11.SA</text><g class=\"layers\" style=\"opacity: 1;\"><g class=\"legendfill\"/><g class=\"legendlines\"><path class=\"js-line\" d=\"M5,0h30\" style=\"fill: none; stroke: rgb(144, 238, 144); stroke-opacity: 1; stroke-width: 2px;\"/></g><g class=\"legendsymbols\"><g class=\"legendpoints\"/></g></g><rect class=\"legendtoggle\" x=\"0\" y=\"-9.5\" width=\"101.671875\" height=\"19\" style=\"fill: rgb(0, 0, 0); fill-opacity: 0;\"/></g></g></g><rect class=\"scrollbar\" rx=\"20\" ry=\"3\" width=\"0\" height=\"0\" style=\"fill: rgb(128, 139, 164); fill-opacity: 1;\" x=\"0\" y=\"0\"/></g><g class=\"g-gtitle\"/><g class=\"g-xtitle\"/><g class=\"g-ytitle\"/></g></svg>"
            ]
          },
          "metadata": {},
          "output_type": "display_data"
        }
      ],
      "source": [
        "trace1 = go.Scatter( x = X.index,  y = X ,\n",
        "                    name = X.name,\n",
        "                    line=dict(color='steelblue'))\n",
        "\n",
        "trace2 = go.Scatter( x = Y.index,  y = Y ,\n",
        "                    name = Y.name , \n",
        "                    line=dict(color='lightgreen'))\n",
        "\n",
        "fig = go.Figure(data=[trace1,trace2] )\n",
        "\n",
        "fig.show()"
      ]
    },
    {
      "cell_type": "code",
      "execution_count": 37,
      "metadata": {
        "colab": {
          "base_uri": "https://localhost:8080/",
          "height": 517
        },
        "id": "p4EeqhARD-Ln",
        "outputId": "46275d9c-75e1-4536-e897-b41b361a45b6"
      },
      "outputs": [
        {
          "data": {
            "image/svg+xml": [
              "<svg class=\"main-svg\" xmlns=\"http://www.w3.org/2000/svg\" xmlns:xlink=\"http://www.w3.org/1999/xlink\" width=\"700\" height=\"500\" style=\"\" viewBox=\"0 0 700 500\"><rect x=\"0\" y=\"0\" width=\"700\" height=\"500\" style=\"fill: rgb(255, 255, 255); fill-opacity: 1;\"/><defs id=\"defs-e2c56f\"><g class=\"clips\"><clipPath id=\"clipe2c56fxyplot\" class=\"plotclip\"><rect width=\"398\" height=\"120\"/></clipPath><clipPath id=\"clipe2c56fx2y2plot\" class=\"plotclip\"><rect width=\"398\" height=\"120\"/></clipPath><clipPath class=\"axesclip\" id=\"clipe2c56fx\"><rect x=\"80\" y=\"0\" width=\"398\" height=\"500\"/></clipPath><clipPath class=\"axesclip\" id=\"clipe2c56fy\"><rect x=\"0\" y=\"100\" width=\"700\" height=\"120\"/></clipPath><clipPath class=\"axesclip\" id=\"clipe2c56fxy\"><rect x=\"80\" y=\"100\" width=\"398\" height=\"120\"/></clipPath><clipPath class=\"axesclip\" id=\"clipe2c56fy2\"><rect x=\"0\" y=\"300\" width=\"700\" height=\"120\"/></clipPath><clipPath class=\"axesclip\" id=\"clipe2c56fxy2\"><rect x=\"80\" y=\"300\" width=\"398\" height=\"120\"/></clipPath><clipPath class=\"axesclip\" id=\"clipe2c56fx2\"><rect x=\"80\" y=\"0\" width=\"398\" height=\"500\"/></clipPath><clipPath class=\"axesclip\" id=\"clipe2c56fx2y\"><rect x=\"80\" y=\"100\" width=\"398\" height=\"120\"/></clipPath><clipPath class=\"axesclip\" id=\"clipe2c56fx2y2\"><rect x=\"80\" y=\"300\" width=\"398\" height=\"120\"/></clipPath></g><g class=\"gradients\"/><g class=\"patterns\"/></defs><g class=\"bglayer\"><rect class=\"bg\" x=\"80\" y=\"100\" width=\"398\" height=\"120\" style=\"fill: rgb(229, 236, 246); fill-opacity: 1; stroke-width: 0;\"/><rect class=\"bg\" x=\"80\" y=\"300\" width=\"398\" height=\"120\" style=\"fill: rgb(229, 236, 246); fill-opacity: 1; stroke-width: 0;\"/></g><g class=\"layer-below\"><g class=\"imagelayer\"/><g class=\"shapelayer\"/></g><g class=\"cartesianlayer\"><g class=\"subplot xy\"><g class=\"layer-subplot\"><g class=\"shapelayer\"/><g class=\"imagelayer\"/></g><g class=\"minor-gridlayer\"><g class=\"x\"/><g class=\"y\"/></g><g class=\"gridlayer\"><g class=\"x\"><path class=\"xgrid crisp\" transform=\"translate(105.55,0)\" d=\"M0,100v120\" style=\"stroke: rgb(255, 255, 255); stroke-opacity: 1; stroke-width: 1px;\"/><path class=\"xgrid crisp\" transform=\"translate(218.89,0)\" d=\"M0,100v120\" style=\"stroke: rgb(255, 255, 255); stroke-opacity: 1; stroke-width: 1px;\"/><path class=\"xgrid crisp\" transform=\"translate(334.1,0)\" d=\"M0,100v120\" style=\"stroke: rgb(255, 255, 255); stroke-opacity: 1; stroke-width: 1px;\"/><path class=\"xgrid crisp\" transform=\"translate(447.44,0)\" d=\"M0,100v120\" style=\"stroke: rgb(255, 255, 255); stroke-opacity: 1; stroke-width: 1px;\"/></g><g class=\"y\"><path class=\"ygrid crisp\" transform=\"translate(0,195.70999999999998)\" d=\"M80,0h398\" style=\"stroke: rgb(255, 255, 255); stroke-opacity: 1; stroke-width: 1px;\"/><path class=\"ygrid crisp\" transform=\"translate(0,122.57)\" d=\"M80,0h398\" style=\"stroke: rgb(255, 255, 255); stroke-opacity: 1; stroke-width: 1px;\"/></g></g><g class=\"zerolinelayer\"><path class=\"yzl zl crisp\" transform=\"translate(0,159.14)\" d=\"M80,0h398\" style=\"stroke: rgb(255, 255, 255); stroke-opacity: 1; stroke-width: 2px;\"/></g><path class=\"xlines-below\"/><path class=\"ylines-below\"/><g class=\"overlines-below\"/><g class=\"xaxislayer-below\"/><g class=\"yaxislayer-below\"/><g class=\"overaxes-below\"/><g class=\"plot\" transform=\"translate(80,100)\" clip-path=\"url(#clipe2c56fxyplot)\"><g class=\"scatterlayer mlayer\"><g class=\"trace scatter trace8ebeb4\" style=\"stroke-miterlimit: 2; opacity: 1;\"><g class=\"fills\"/><g class=\"errorbars\"/><g class=\"lines\"><path class=\"js-line\" d=\"M0.5,54.28L1.75,44.24L2.38,50.38L4.88,42.29L5.51,33.02L6.14,35.46L6.76,28.93L7.39,29.63L9.27,30.55L10.52,40.74L11.15,35.33L11.77,43.79L13.65,46.73L14.28,39.78L14.9,44.96L16.15,52.92L18.03,54.8L19.29,58.21L19.91,57.59L22.42,54.5L23.04,42.86L23.67,54.13L24.29,52.13L26.8,61.76L27.43,62.57L28.05,53.09L29.3,56.51L31.18,60.38L31.81,63.85L32.44,46.69L33.69,47.3L35.57,52.34L36.19,35.74L36.82,51.97L37.44,78.19L38.07,69.69L39.95,70.24L40.58,72.13L41.2,71.7L41.83,79.88L42.45,66.23L44.33,67.15L45.59,61.98L46.21,54.31L46.84,57.03L48.72,53.96L49.34,57.34L49.97,71.38L50.59,65.62L51.22,66.65L53.1,61.81L53.73,81.45L54.35,79.82L54.98,84.43L55.6,76.75L57.48,68.83L58.11,74.93L58.74,72.04L59.99,93.45L63.12,88.75L63.74,81.77L64.37,88.82L66.25,84.79L66.88,91.5L68.13,77.09L68.75,80.13L71.26,72.18L71.88,73.02L73.14,62.96L75.02,50.48L76.89,43.74L77.52,50.09L79.4,50.78L80.03,34.5L80.65,32.88L81.28,26.67L81.9,16.11L83.78,20.22L84.41,18.05L85.03,19.07L86.29,31.34L88.17,32.39L88.79,29.15L89.42,32.1L90.04,35.15L92.55,30.74L93.18,40.05L93.8,39.9L95.05,35.92L96.93,25.66L97.56,9.55L98.18,6L98.81,17.27L99.44,10.36L101.32,12.9L101.94,12.69L102.57,13.6L103.19,14.84L103.82,13.67L105.7,19.06L106.32,33.92L108.2,50.68L110.08,55.57L111.96,68.04L112.59,55.88L114.47,55.25L115.09,38.72L115.72,42.19L116.34,60.12L116.97,76.25L118.85,73.35L120.1,69.55L120.73,72L121.35,63.07L123.23,57.98L123.86,54.12L124.48,54.29L125.11,65.43L125.74,63.95L127.62,62.35L128.24,60.8L128.87,56.07L130.12,28.82L132,32.48L133.88,70.63L134.5,84.82L136.38,86.5L137.01,77.42L138.89,96.26L140.76,101.28L142.02,114L142.64,107.96L143.27,102.12L145.15,93.37L145.77,90.75L146.4,101.62L147.03,76.41L147.65,79.76L149.53,88.4L150.16,101.33L150.78,100.16L151.41,93.6L153.91,71.22L154.54,69.52L155.79,58.41L156.42,46.58L158.3,46.17L158.92,59.34L160.18,66.71L160.8,63.01L162.68,43.65L163.31,43.98L163.93,70.33L164.56,76.65L165.19,64.73L168.32,47.2L168.94,48.48L169.57,47.16L171.45,48.95L173.33,83.77L173.95,82.58L175.83,75.39L176.46,77.74L177.08,86L177.71,73.26L178.34,74.36L180.21,72.15L180.84,73.31L182.09,78.63L182.72,73.63L184.6,72.96L185.22,72.97L185.85,66.16L187.1,73.22L188.98,68.68L189.61,70.47L190.23,56.6L191.49,45.7L193.36,43.39L194.62,86.41L195.24,84.23L195.87,84.84L197.75,72.54L199,76.59L199.63,85.31L200.25,84.02L202.13,76.94L202.76,76.01L204.01,77.27L204.64,68.54L206.51,68.44L207.14,55.77L207.77,60.32L208.39,60.9L209.02,58.96L210.9,54.71L211.52,58.26L212.78,50.19L213.4,54.26L215.28,45.31L215.91,47.61L217.16,41.56L217.79,42.86L219.66,49.39L220.29,61.65L220.92,55.66L221.54,62.38L222.17,47.31L224.05,40.36L225.3,41.33L225.93,54.98L226.55,60.04L228.43,44.79L229.06,45.06L229.68,53.58L230.31,50.45L230.94,59.61L232.81,62.63L233.44,71.22L234.07,77.39L234.69,72.61L235.32,83.5L237.2,88.96L237.82,85.08L238.45,67.35L239.08,68.42L239.7,66.08L241.58,55.27L242.21,45.11L242.83,48.76L243.46,62.38L244.09,48.14L245.96,46.95L246.59,46.14L247.22,56.83L247.84,51.73L248.47,55.81L250.35,58.69L250.97,56.6L252.23,50.48L254.73,52.3L255.36,48.02L255.98,62.37L257.24,76.53L259.11,73.82L259.74,87.76L260.37,72.19L260.99,47.31L261.62,60.38L263.5,64.3L264.12,62.28L264.75,66.99L265.38,56.39L266,64.18L267.88,55.36L268.51,59.08L269.13,48.13L269.76,36.06L270.38,36.63L272.26,41.8L272.89,52.8L273.52,48.15L274.14,26L274.77,29.22L276.65,37.9L278.53,82.59L279.15,64.45L281.03,69.59L281.66,74.65L282.28,73.73L282.91,77.39L283.53,65.65L286.67,76.48L287.29,83.5L287.92,80.46L289.8,73.08L290.42,78.34L291.05,69.2L291.68,76.75L292.3,79.58L294.18,77.86L294.81,68.29L295.43,69.61L296.06,68.27L299.19,59.26L299.82,51.86L301.07,93.69L302.95,90.21L303.57,93.68L304.2,85.58L305.45,67.03L307.33,72.38L307.96,41.94L308.58,48.95L309.21,48.66L309.83,42.82L311.71,45.84L312.34,35.44L312.97,42.38L313.59,32.36L316.1,35.03L316.72,50.13L318.6,29.37L320.48,37.7L321.73,57.82L322.36,54.22L324.86,45.22L325.49,59.07L326.12,58.26L326.74,59.67L327.37,64.48L329.87,50.91L331.12,42.02L331.75,49.74L333.63,52.82L334.26,48.95L334.88,43.2L335.51,44.59L336.13,56.97L338.01,45.61L339.89,61.54L340.52,43.59L342.4,50.06L343.02,56.41L343.65,62.79L344.27,50.09L346.78,66.91L347.41,65.66L348.03,65.11L348.66,91.38L349.28,83.51L351.16,94.8L351.79,75.66L352.41,78.8L353.67,73.28L355.55,72.05L356.17,73.22L357.42,58.08L358.05,80.13L359.93,83.9L360.56,67.83L361.81,79.75L362.43,50.7L364.31,49.22L364.94,52.16L365.56,51.87L366.19,53.21L366.82,39.66L368.7,42.57L369.32,43.99L369.95,41.21L370.57,34.7L371.2,40.54L373.08,34.17L373.71,41.71L374.96,48.64L375.58,45.34L377.46,53.52L378.09,60.61L378.71,58.89L379.34,63.84L379.97,58.01L381.85,49.29L383.1,43.97L383.72,53.29L384.35,54.12L386.23,58.66L386.85,59.47L387.48,52.39L388.73,63.81L390.61,74.1L391.24,73.38L391.86,70.96L392.49,68.83L393.12,60.53L395,62.14L395.62,65.34L397.5,53.18\" style=\"vector-effect: none; fill: none; stroke: rgb(70, 130, 180); stroke-opacity: 1; stroke-width: 2px; opacity: 1;\"/></g><g class=\"points\"/><g class=\"text\"/></g></g></g><g class=\"overplot\"/><path class=\"xlines-above crisp\" d=\"M0,0\" style=\"fill: none;\"/><path class=\"ylines-above crisp\" d=\"M0,0\" style=\"fill: none;\"/><g class=\"overlines-above\"/><g class=\"xaxislayer-above\"><g class=\"xtick\"><text text-anchor=\"middle\" x=\"0\" y=\"233\" transform=\"translate(105.55,0)\" style=\"font-family: 'Open Sans', verdana, arial, sans-serif; font-size: 12px; fill: rgb(42, 63, 95); fill-opacity: 1; white-space: pre; opacity: 1;\">Jan 2022</text></g><g class=\"xtick\"><text text-anchor=\"middle\" x=\"0\" y=\"233\" style=\"font-family: 'Open Sans', verdana, arial, sans-serif; font-size: 12px; fill: rgb(42, 63, 95); fill-opacity: 1; white-space: pre; opacity: 1;\" transform=\"translate(218.89,0)\">Jul 2022</text></g><g class=\"xtick\"><text text-anchor=\"middle\" x=\"0\" y=\"233\" style=\"font-family: 'Open Sans', verdana, arial, sans-serif; font-size: 12px; fill: rgb(42, 63, 95); fill-opacity: 1; white-space: pre; opacity: 1;\" transform=\"translate(334.1,0)\">Jan 2023</text></g><g class=\"xtick\"><text text-anchor=\"middle\" x=\"0\" y=\"233\" style=\"font-family: 'Open Sans', verdana, arial, sans-serif; font-size: 12px; fill: rgb(42, 63, 95); fill-opacity: 1; white-space: pre; opacity: 1;\" transform=\"translate(447.44,0)\">Jul 2023</text></g></g><g class=\"yaxislayer-above\"><g class=\"ytick\"><text text-anchor=\"end\" x=\"79\" y=\"4.199999999999999\" transform=\"translate(0,195.70999999999998)\" style=\"font-family: 'Open Sans', verdana, arial, sans-serif; font-size: 12px; fill: rgb(42, 63, 95); fill-opacity: 1; white-space: pre; opacity: 1;\">−2</text></g><g class=\"ytick\"><text text-anchor=\"end\" x=\"79\" y=\"4.199999999999999\" style=\"font-family: 'Open Sans', verdana, arial, sans-serif; font-size: 12px; fill: rgb(42, 63, 95); fill-opacity: 1; white-space: pre; opacity: 1;\" transform=\"translate(0,159.14)\">0</text></g><g class=\"ytick\"><text text-anchor=\"end\" x=\"79\" y=\"4.199999999999999\" style=\"font-family: 'Open Sans', verdana, arial, sans-serif; font-size: 12px; fill: rgb(42, 63, 95); fill-opacity: 1; white-space: pre; opacity: 1;\" transform=\"translate(0,122.57)\">2</text></g></g><g class=\"overaxes-above\"/></g><g class=\"subplot x2y2\"><g class=\"layer-subplot\"><g class=\"shapelayer\"/><g class=\"imagelayer\"/></g><g class=\"minor-gridlayer\"><g class=\"x2\"/><g class=\"y2\"/></g><g class=\"gridlayer\"><g class=\"x2\"><path class=\"x2grid crisp\" transform=\"translate(105.11,0)\" d=\"M0,300v120\" style=\"stroke: rgb(255, 255, 255); stroke-opacity: 1; stroke-width: 1px;\"/><path class=\"x2grid crisp\" transform=\"translate(218.74,0)\" d=\"M0,300v120\" style=\"stroke: rgb(255, 255, 255); stroke-opacity: 1; stroke-width: 1px;\"/><path class=\"x2grid crisp\" transform=\"translate(334.24,0)\" d=\"M0,300v120\" style=\"stroke: rgb(255, 255, 255); stroke-opacity: 1; stroke-width: 1px;\"/><path class=\"x2grid crisp\" transform=\"translate(447.87,0)\" d=\"M0,300v120\" style=\"stroke: rgb(255, 255, 255); stroke-opacity: 1; stroke-width: 1px;\"/></g><g class=\"y2\"><path class=\"y2grid crisp\" transform=\"translate(0,410.33)\" d=\"M80,0h398\" style=\"stroke: rgb(255, 255, 255); stroke-opacity: 1; stroke-width: 1px;\"/><path class=\"y2grid crisp\" transform=\"translate(0,316)\" d=\"M80,0h398\" style=\"stroke: rgb(255, 255, 255); stroke-opacity: 1; stroke-width: 1px;\"/></g></g><g class=\"zerolinelayer\"><path class=\"y2zl zl crisp\" transform=\"translate(0,363.15999999999997)\" d=\"M80,0h398\" style=\"stroke: rgb(255, 255, 255); stroke-opacity: 1; stroke-width: 2px;\"/></g><path class=\"xlines-below\"/><path class=\"ylines-below\"/><g class=\"overlines-below\"/><g class=\"xaxislayer-below\"/><g class=\"yaxislayer-below\"/><g class=\"overaxes-below\"/><g class=\"plot\" transform=\"translate(80,300)\" clip-path=\"url(#clipe2c56fx2y2plot)\"><g class=\"scatterlayer mlayer\"><g class=\"trace scatter trace25b880\" style=\"stroke-miterlimit: 2; opacity: 1;\"><g class=\"fills\"/><g class=\"errorbars\"/><g class=\"lines\"><path class=\"js-line\" d=\"M0,100.17L0.63,101.91L1.26,98.71L1.88,86.77L2.51,95.19L4.39,92.25L5.02,102.7L5.65,100.95L6.28,102.52L6.91,100.62L8.79,98.89L9.42,96.67L10.04,91.61L10.67,96.31L11.3,83.46L13.18,81.15L13.81,91.11L15.07,83.04L15.69,79.83L18.21,86.63L18.83,83.53L19.46,86.16L21.97,87.27L22.6,97.8L23.23,93.19L23.85,92.12L26.37,94.98L26.99,98.47L27.62,109.65L28.25,110.51L28.88,108.84L30.76,107.63L31.39,98.42L32.64,106.39L33.27,103.75L35.15,100.47L35.78,114L37.04,75.28L37.67,81.14L39.55,78.58L40.18,71.17L40.8,66.95L41.43,57.04L42.06,68.06L43.94,62.88L44.57,62.24L45.2,69.34L46.45,74.94L48.34,77.66L48.97,76.84L49.59,65.11L50.85,69.94L52.73,69.68L53.99,49.83L54.62,49.06L57.13,61.4L57.75,50.73L58.38,53.41L59.01,41.65L59.64,43.12L62.78,46.73L64.03,55.24L65.91,62.5L67.17,52.24L67.8,57.24L70.31,63.46L70.94,62.96L72.19,54.92L72.82,54.52L74.7,63.82L75.33,60.61L76.59,57.13L77.21,52.19L79.1,51.68L79.73,57.49L81.61,67.8L83.49,67.6L84.75,75.62L85.38,67.53L87.89,69.44L88.51,73.52L89.14,68.82L89.77,69.25L92.28,70.1L93.54,60.43L94.79,67.1L96.68,72.93L97.3,87.34L97.93,88.79L98.56,82.49L99.19,92.09L101.07,91.16L101.7,94.28L102.32,91.3L103.58,99.16L105.46,91.43L106.09,80.88L106.72,83.45L107.97,68.3L109.86,64.57L110.49,60.59L111.11,65.45L111.74,59.28L112.37,63.49L114.25,65.21L114.88,73.09L115.51,69.02L116.14,59.99L116.76,51.71L118.65,54.79L119.27,55.02L119.9,56.76L120.53,52.69L121.16,62.56L124.3,75.64L124.92,69.07L125.55,75.19L127.44,80.79L128.06,81.13L128.69,78.28L129.95,95.48L131.83,95.45L132.46,89.78L133.09,73.4L133.71,71.79L134.34,66.79L136.22,60.4L136.85,68.54L137.48,67.71L138.11,65.55L138.74,60.38L140.62,60.96L141.87,51.83L142.5,54.79L145.01,67.93L145.64,66.82L146.27,61.03L146.9,79.74L147.52,74.7L149.41,71.15L150.03,57.29L150.66,58.22L151.29,61.37L151.92,65.31L153.8,70.91L154.43,77.24L155.06,76.04L155.68,75.14L156.31,80.94L158.2,83.66L160.71,58.74L162.59,65.3L163.22,68.45L163.85,46.96L164.47,44.36L165.1,48.83L166.98,50.75L167.61,52.97L169.5,57.92L171.38,59.82L173.26,42.42L173.89,46.12L175.77,46.5L176.4,45.63L177.03,44.06L177.66,47.75L178.28,45.74L180.17,43.98L180.79,47.31L182.05,43.29L182.68,44.22L184.56,40.44L185.82,46.54L186.44,45.55L187.07,44.28L188.96,44.57L189.58,40.02L190.21,53.92L193.35,71.4L193.98,58.65L194.61,47.72L195.23,51.44L195.86,48.51L197.74,44.39L199,40.95L199.63,35.14L200.26,39.65L202.14,43.24L202.77,43.69L204.02,42.05L204.65,46.65L206.53,43.41L207.16,45.94L207.79,43.55L208.42,42.37L209.04,37.71L211.56,43.41L212.18,51.99L213.44,45.95L215.32,41.54L215.95,40.18L217.21,43.34L217.83,40.15L219.72,42.46L220.34,36.38L220.97,41.41L222.23,58.87L224.11,58.29L225.37,68L225.99,66.48L226.62,57.59L228.5,62.32L229.13,69.04L229.76,62.5L230.39,56.39L231.02,60.27L232.9,60.48L233.53,53.25L234.15,50.22L234.78,53.41L235.41,44.27L237.29,49.24L237.92,51.59L238.55,61.63L239.8,68.83L241.69,81.4L242.32,92.53L242.94,86.11L243.57,78.05L244.2,90.46L246.71,77.17L247.34,69.24L247.97,72.28L248.59,61.13L250.48,63.87L251.1,68.45L251.73,62.5L252.36,66.98L254.87,76.78L255.5,86.33L257.38,62.34L259.26,65L259.89,50.86L260.52,60.33L261.15,75.15L261.78,74.18L263.66,79.29L264.91,67.29L265.54,76.39L268.05,85.16L268.68,81.51L269.31,81.87L269.94,87.46L270.56,90.13L272.45,89.34L273.08,80.56L273.7,84.37L274.96,102.41L276.84,98.73L278.73,75.02L279.35,82.14L281.24,76.5L281.86,79.89L283.12,71.02L283.75,81.11L286.89,78.98L287.51,75.1L288.14,79.79L290.03,86.02L290.65,82.29L291.28,91.54L292.54,88.28L294.42,85.12L295.05,92.17L295.68,81.19L296.3,79.49L298.81,93.88L300.07,97.41L300.7,85.76L301.32,78.25L303.21,83.33L303.84,82.3L304.46,88.29L305.72,99.92L307.6,95.6L308.23,104.51L308.86,103.09L309.49,96.38L310.11,100.46L312,99.33L312.62,98.75L313.25,93.2L313.88,98.14L316.39,93.96L317.65,73.92L318.27,76.59L318.9,80.99L320.79,78.68L321.41,70.01L322.04,73.1L322.67,72.33L325.18,78.23L325.81,70.69L326.44,73.13L327.69,63.54L330.2,74.86L330.83,76.17L331.46,74.21L332.09,66.62L333.97,63.61L335.22,62.13L335.85,58.16L336.48,53.5L338.36,57.03L338.99,55.29L339.62,49.82L340.25,48.1L340.87,53.76L342.76,53.78L343.38,51.22L347.15,38.9L347.78,43.26L348.41,45.33L349.03,28.63L351.55,21.18L352.17,28.74L352.8,23.73L354.06,26.68L355.94,25.63L356.57,28.46L357.82,33.54L358.45,20.83L360.33,17.98L360.96,21.21L361.59,17.79L362.22,18.47L362.85,29.97L365.36,31.47L365.98,31.1L366.61,25.96L367.24,29.23L369.75,23.53L370.38,25.53L371.01,34.07L371.63,25.4L373.52,30.79L374.15,28.48L375.4,20.75L376.03,24.73L378.54,12.36L379.17,14.74L380.42,10L382.31,15.25L382.93,17.59L383.56,16.91L384.82,12.64L386.7,10.02L387.33,10.57L387.96,16.07L388.58,10.58L389.21,12.4L391.09,6L391.72,6.35L392.35,7.74L392.98,8.95L393.61,14.99L395.49,12.7L396.12,15.18L397.37,27.14L398,25.36\" style=\"vector-effect: none; fill: none; stroke: rgb(70, 130, 180); stroke-opacity: 1; stroke-width: 2px; opacity: 1;\"/></g><g class=\"points\"/><g class=\"text\"/></g></g></g><g class=\"overplot\"/><path class=\"xlines-above crisp\" d=\"M0,0\" style=\"fill: none;\"/><path class=\"ylines-above crisp\" d=\"M0,0\" style=\"fill: none;\"/><g class=\"overlines-above\"/><g class=\"xaxislayer-above\"><g class=\"x2tick\"><text text-anchor=\"middle\" x=\"0\" y=\"433\" transform=\"translate(105.11,0)\" style=\"font-family: 'Open Sans', verdana, arial, sans-serif; font-size: 12px; fill: rgb(42, 63, 95); fill-opacity: 1; white-space: pre; opacity: 1;\">Jan 2022</text></g><g class=\"x2tick\"><text text-anchor=\"middle\" x=\"0\" y=\"433\" style=\"font-family: 'Open Sans', verdana, arial, sans-serif; font-size: 12px; fill: rgb(42, 63, 95); fill-opacity: 1; white-space: pre; opacity: 1;\" transform=\"translate(218.74,0)\">Jul 2022</text></g><g class=\"x2tick\"><text text-anchor=\"middle\" x=\"0\" y=\"433\" style=\"font-family: 'Open Sans', verdana, arial, sans-serif; font-size: 12px; fill: rgb(42, 63, 95); fill-opacity: 1; white-space: pre; opacity: 1;\" transform=\"translate(334.24,0)\">Jan 2023</text></g><g class=\"x2tick\"><text text-anchor=\"middle\" x=\"0\" y=\"433\" style=\"font-family: 'Open Sans', verdana, arial, sans-serif; font-size: 12px; fill: rgb(42, 63, 95); fill-opacity: 1; white-space: pre; opacity: 1;\" transform=\"translate(447.87,0)\">Jul 2023</text></g></g><g class=\"yaxislayer-above\"><g class=\"y2tick\"><text text-anchor=\"end\" x=\"79\" y=\"4.199999999999999\" transform=\"translate(0,410.33)\" style=\"font-family: 'Open Sans', verdana, arial, sans-serif; font-size: 12px; fill: rgb(42, 63, 95); fill-opacity: 1; white-space: pre; opacity: 1;\">−2</text></g><g class=\"y2tick\"><text text-anchor=\"end\" x=\"79\" y=\"4.199999999999999\" style=\"font-family: 'Open Sans', verdana, arial, sans-serif; font-size: 12px; fill: rgb(42, 63, 95); fill-opacity: 1; white-space: pre; opacity: 1;\" transform=\"translate(0,363.15999999999997)\">0</text></g><g class=\"y2tick\"><text text-anchor=\"end\" x=\"79\" y=\"4.199999999999999\" style=\"font-family: 'Open Sans', verdana, arial, sans-serif; font-size: 12px; fill: rgb(42, 63, 95); fill-opacity: 1; white-space: pre; opacity: 1;\" transform=\"translate(0,316)\">2</text></g></g><g class=\"overaxes-above\"/></g></g><g class=\"polarlayer\"/><g class=\"smithlayer\"/><g class=\"ternarylayer\"/><g class=\"geolayer\"/><g class=\"funnelarealayer\"/><g class=\"pielayer\"/><g class=\"iciclelayer\"/><g class=\"treemaplayer\"/><g class=\"sunburstlayer\"/><g class=\"glimages\"/><defs id=\"topdefs-e2c56f\"><g class=\"clips\"/><clipPath id=\"legende2c56f\"><rect width=\"202\" height=\"48\" x=\"0\" y=\"0\"/></clipPath></defs><g class=\"layer-above\"><g class=\"imagelayer\"/><g class=\"shapelayer\"><g class=\"shape-group\" data-index=\"0\" clip-path=\"url(#clipe2c56fxy)\"><path data-index=\"0\" fill-rule=\"evenodd\" d=\"M80.5,140.85L477.5,140.85\" style=\"opacity: 1; stroke: rgb(255, 165, 0); stroke-opacity: 1; fill: rgb(0, 0, 0); fill-opacity: 0; stroke-width: 1px;\"/></g><g class=\"shape-group\" data-index=\"1\" clip-path=\"url(#clipe2c56fxy)\"><path data-index=\"1\" fill-rule=\"evenodd\" d=\"M80.5,177.42000000000002L477.5,177.42000000000002\" style=\"opacity: 1; stroke: rgb(255, 165, 0); stroke-opacity: 1; fill: rgb(0, 0, 0); fill-opacity: 0; stroke-width: 1px;\"/></g><g class=\"shape-group\" data-index=\"2\" clip-path=\"url(#clipe2c56fxy)\"><path data-index=\"2\" fill-rule=\"evenodd\" d=\"M80.5,122.57L477.5,122.57\" style=\"opacity: 1; stroke: rgb(255, 0, 0); stroke-opacity: 1; fill: rgb(0, 0, 0); fill-opacity: 0; stroke-width: 1px;\"/></g><g class=\"shape-group\" data-index=\"3\" clip-path=\"url(#clipe2c56fxy)\"><path data-index=\"3\" fill-rule=\"evenodd\" d=\"M80.5,195.70999999999998L477.5,195.70999999999998\" style=\"opacity: 1; stroke: rgb(255, 0, 0); stroke-opacity: 1; fill: rgb(0, 0, 0); fill-opacity: 0; stroke-width: 1px;\"/></g><g class=\"shape-group\" data-index=\"4\" clip-path=\"url(#clipe2c56fxy)\"><path data-index=\"4\" fill-rule=\"evenodd\" d=\"M80.5,159.14L477.5,159.14\" style=\"opacity: 1; stroke: rgb(0, 0, 0); stroke-opacity: 1; fill: rgb(0, 0, 0); fill-opacity: 0; stroke-dasharray: 9px, 9px; stroke-width: 1px;\"/></g><g class=\"shape-group\" data-index=\"5\" clip-path=\"url(#clipe2c56fxy2)\"><path data-index=\"5\" fill-rule=\"evenodd\" d=\"M80.5,363.15999999999997L477.5,363.15999999999997\" style=\"opacity: 1; stroke: rgb(0, 0, 0); stroke-opacity: 1; fill: rgb(0, 0, 0); fill-opacity: 0; stroke-dasharray: 9px, 9px; stroke-width: 1px;\"/></g><g class=\"shape-group\" data-index=\"6\" clip-path=\"url(#clipe2c56fxy2)\"><path data-index=\"6\" fill-rule=\"evenodd\" d=\"M80.5,339.58L477.5,339.58\" style=\"opacity: 1; stroke: rgb(255, 165, 0); stroke-opacity: 1; fill: rgb(0, 0, 0); fill-opacity: 0; stroke-width: 1px;\"/></g><g class=\"shape-group\" data-index=\"7\" clip-path=\"url(#clipe2c56fxy2)\"><path data-index=\"7\" fill-rule=\"evenodd\" d=\"M80.5,386.74L477.5,386.74\" style=\"opacity: 1; stroke: rgb(255, 165, 0); stroke-opacity: 1; fill: rgb(0, 0, 0); fill-opacity: 0; stroke-width: 1px;\"/></g><g class=\"shape-group\" data-index=\"8\" clip-path=\"url(#clipe2c56fxy2)\"><path data-index=\"8\" fill-rule=\"evenodd\" d=\"M80.5,316L477.5,316\" style=\"opacity: 1; stroke: rgb(255, 0, 0); stroke-opacity: 1; fill: rgb(0, 0, 0); fill-opacity: 0; stroke-width: 1px;\"/></g><g class=\"shape-group\" data-index=\"9\" clip-path=\"url(#clipe2c56fxy2)\"><path data-index=\"9\" fill-rule=\"evenodd\" d=\"M80.5,410.33L477.5,410.33\" style=\"opacity: 1; stroke: rgb(255, 0, 0); stroke-opacity: 1; fill: rgb(0, 0, 0); fill-opacity: 0; stroke-width: 1px;\"/></g></g></g><g class=\"infolayer\"><g class=\"legend\" pointer-events=\"all\" transform=\"translate(485.96,100)\"><rect class=\"bg\" shape-rendering=\"crispEdges\" style=\"stroke: rgb(68, 68, 68); stroke-opacity: 1; fill: rgb(255, 255, 255); fill-opacity: 1; stroke-width: 0px;\" width=\"202\" height=\"48\" x=\"0\" y=\"0\"/><g class=\"scrollbox\" transform=\"\" clip-path=\"url(#legende2c56f)\"><g class=\"groups\"><g class=\"traces\" transform=\"translate(0,14.5)\" style=\"opacity: 1;\"><text class=\"legendtext\" text-anchor=\"start\" x=\"40\" y=\"4.680000000000001\" style=\"font-family: 'Open Sans', verdana, arial, sans-serif; font-size: 12px; fill: rgb(42, 63, 95); fill-opacity: 1; white-space: pre;\">resíduo (spread)</text><g class=\"layers\" style=\"opacity: 1;\"><g class=\"legendfill\"/><g class=\"legendlines\"><path class=\"js-line\" d=\"M5,0h30\" style=\"fill: none; stroke: rgb(70, 130, 180); stroke-opacity: 1; stroke-width: 2px;\"/></g><g class=\"legendsymbols\"><g class=\"legendpoints\"/></g></g><rect class=\"legendtoggle\" x=\"0\" y=\"-9.5\" width=\"196.703125\" height=\"19\" style=\"fill: rgb(0, 0, 0); fill-opacity: 0;\"/></g><g class=\"traces\" transform=\"translate(0,33.5)\" style=\"opacity: 1;\"><text class=\"legendtext\" text-anchor=\"start\" x=\"40\" y=\"4.680000000000001\" style=\"font-family: 'Open Sans', verdana, arial, sans-serif; font-size: 12px; fill: rgb(42, 63, 95); fill-opacity: 1; white-space: pre;\">Ratio BPAC11.SA/ENGI11.SA</text><g class=\"layers\" style=\"opacity: 1;\"><g class=\"legendfill\"/><g class=\"legendlines\"><path class=\"js-line\" d=\"M5,0h30\" style=\"fill: none; stroke: rgb(70, 130, 180); stroke-opacity: 1; stroke-width: 2px;\"/></g><g class=\"legendsymbols\"><g class=\"legendpoints\"/></g></g><rect class=\"legendtoggle\" x=\"0\" y=\"-9.5\" width=\"196.703125\" height=\"19\" style=\"fill: rgb(0, 0, 0); fill-opacity: 0;\"/></g></g></g><rect class=\"scrollbar\" rx=\"20\" ry=\"3\" width=\"0\" height=\"0\" style=\"fill: rgb(128, 139, 164); fill-opacity: 1;\" x=\"0\" y=\"0\"/></g><g class=\"g-gtitle\"><text class=\"gtitle\" x=\"35\" y=\"50\" text-anchor=\"start\" dy=\"0em\" style=\"font-family: 'Open Sans', verdana, arial, sans-serif; font-size: 17px; fill: rgb(42, 63, 95); opacity: 1; font-weight: normal; white-space: pre;\">Para o par (BPAC11.SA,ENGI11.SA)</text></g><g class=\"g-xtitle\"/><g class=\"g-x2title\"/><g class=\"g-ytitle\"/><g class=\"g-y2title\"/><g class=\"annotation\" data-index=\"0\" style=\"opacity: 1;\"><g class=\"annotation-text-g\" transform=\"rotate(0,279,87)\"><g class=\"cursor-pointer\" transform=\"translate(209,74)\"><rect class=\"bg\" x=\"0.5\" y=\"0.5\" width=\"140\" height=\"25\" style=\"stroke-width: 1px; stroke: rgb(0, 0, 0); stroke-opacity: 0; fill: rgb(0, 0, 0); fill-opacity: 0;\"/><text class=\"annotation-text\" text-anchor=\"middle\" x=\"70.65625\" y=\"19\" style=\"font-family: 'Open Sans', verdana, arial, sans-serif; font-size: 16px; fill: rgb(42, 63, 95); fill-opacity: 1; white-space: pre;\">z-score do residuo</text></g></g></g><g class=\"annotation\" data-index=\"1\" style=\"opacity: 1;\"><g class=\"annotation-text-g\" transform=\"rotate(0,279,287)\"><g class=\"cursor-pointer\" transform=\"translate(177,274)\"><rect class=\"bg\" x=\"0.5\" y=\"0.5\" width=\"204\" height=\"25\" style=\"stroke-width: 1px; stroke: rgb(0, 0, 0); stroke-opacity: 0; fill: rgb(0, 0, 0); fill-opacity: 0;\"/><text class=\"annotation-text\" text-anchor=\"middle\" x=\"102.640625\" y=\"19\" style=\"font-family: 'Open Sans', verdana, arial, sans-serif; font-size: 16px; fill: rgb(42, 63, 95); fill-opacity: 1; white-space: pre;\">z-score do ratio dos preços</text></g></g></g></g></svg>"
            ]
          },
          "metadata": {},
          "output_type": "display_data"
        }
      ],
      "source": [
        "\n",
        "\n",
        "trace1 = go.Scatter( x = X.index,  y= zscore(residuos(x=X,y=Y)[0]) , \n",
        "                    name = 'resíduo (spread)',\n",
        "                    line=dict(color='steelblue'))\n",
        "\n",
        "trace2 = go.Scatter( x = Y.index,  y = zscore(X/Y) , \n",
        "                    name = 'Ratio '+X.name+'/'+Y.name,\n",
        "                    line=dict(color='steelblue'))\n",
        "\n",
        "fig = make_subplots(rows=2, cols=1,subplot_titles=(['z-score do residuo','z-score do ratio dos preços']))\n",
        "\n",
        "fig.append_trace(trace1, 1, 1)\n",
        "fig.append_trace(trace2, 2, 1)\n",
        "\n",
        "fig['layout'].update(shapes=[{'type': 'line','y0':1,'y1': 1,'x0':min(X.index),'x1':max(X.index),\n",
        "                              'yref':'y1','line': {'color': 'orange','width': 1}},\n",
        "                             {'type': 'line','y0':-1,'y1': -1,'x0':min(X.index),'x1':max(X.index),\n",
        "                              'yref':'y1','line': {'color': 'orange','width': 1}},\n",
        "                             {'type': 'line','y0':2,'y1': 2,'x0':min(X.index),'x1':max(X.index),\n",
        "                              'yref':'y1','line': {'color': 'red','width': 1}},\n",
        "                             {'type': 'line','y0':-2,'y1': -2,'x0':min(X.index),'x1':max(X.index),\n",
        "                              'yref':'y1','line': {'color': 'red','width': 1}},\n",
        "                             {'type': 'line','y0':0,'y1': 0,'x0':min(X.index),'x1':max(X.index),\n",
        "                              'yref':'y1','line': {'color': 'black','width': 1,'dash':'dash'}},\n",
        "                             {'type': 'line','y0':0,'y1': 0,'x0':min(X.index),'x1':max(X.index),\n",
        "                              'yref':'y2','line': {'color': 'black','width': 1,'dash':'dash'}},\n",
        "                             {'type': 'line','y0':1,'y1': 1,'x0':min(X.index),'x1':max(X.index),\n",
        "                              'yref':'y2','line': {'color': 'orange','width': 1}},\n",
        "                             {'type': 'line','y0':-1,'y1': -1,'x0':min(X.index),'x1':max(X.index),\n",
        "                              'yref':'y2','line': {'color': 'orange','width': 1}},\n",
        "                             {'type': 'line','y0':2,'y1': 2,'x0':min(X.index),'x1':max(X.index),\n",
        "                              'yref':'y2','line': {'color': 'red','width': 1}},\n",
        "                             {'type': 'line','y0':-2,'y1': -2,'x0':min(X.index),'x1':max(X.index),\n",
        "                              'yref':'y2','line': {'color': 'red','width': 1}}\n",
        "                             ],title='Para o par ('+X.name+','+Y.name+')')\n",
        "fig.show()"
      ]
    },
    {
      "cell_type": "code",
      "execution_count": null,
      "metadata": {
        "colab": {
          "base_uri": "https://localhost:8080/",
          "height": 455
        },
        "id": "HIrMpXPIlI_u",
        "outputId": "80021ba2-055b-4878-db78-95cf130a2da8"
      },
      "outputs": [],
      "source": [
        "trades = pd.concat([zscore(X/Y), residuos(x=X,y=Y)[0]], axis=1)\n",
        "trades.columns = [\"sinal\", \"posicao\"]\n",
        "\n",
        "trades[\"acao\"] = 0\n",
        "trades.loc[trades.sinal <-1, \"acao\"] = 1  # compra par\n",
        "trades.loc[trades.sinal > 1, \"acao\"] = -1  # vende par\n",
        "trades"
      ]
    },
    {
      "cell_type": "code",
      "execution_count": null,
      "metadata": {},
      "outputs": [],
      "source": [
        "trades['pos1'] = trades['acao'].diff()\n",
        "trades['oaca'] = -trades['acao']\n",
        "trades['pos2'] = trades['oaca'].diff()\n",
        "trades"
      ]
    },
    {
      "cell_type": "code",
      "execution_count": null,
      "metadata": {},
      "outputs": [],
      "source": [
        "C0 = 1000\n",
        "\n",
        "CX = C0 // max(X)\n",
        "CY =  C0 //max(Y)\n",
        "\n",
        "portfolio = pd.DataFrame()\n",
        "\n",
        "portfolio[X.name] = X\n",
        "portfolio['Hold'+X.name] \n",
        "\n",
        "portfolio[Y.name] = Y\n",
        "\n"
      ]
    },
    {
      "cell_type": "code",
      "execution_count": null,
      "metadata": {
        "colab": {
          "base_uri": "https://localhost:8080/",
          "height": 498
        },
        "id": "KqzMgxjbofi9",
        "outputId": "80ff83d7-78be-4d99-ffce-343b091ac2cc"
      },
      "outputs": [
        {
          "data": {
            "text/plain": [
              "<AxesSubplot:xlabel='Date'>"
            ]
          },
          "execution_count": 212,
          "metadata": {},
          "output_type": "execute_result"
        },
        {
          "data": {
            "image/png": "[encoded data removed]",
            "text/plain": [
              "<Figure size 1152x576 with 1 Axes>"
            ]
          },
          "metadata": {},
          "output_type": "display_data"
        }
      ],
      "source": [
        "retornos = trades.posicao.pct_change() * trades.acao\n",
        "retornos.cumsum().plot(figsize=(16,8))"
      ]
    }
  ],
  "metadata": {
    "colab": {
      "include_colab_link": true,
      "provenance": []
    },
    "kernelspec": {
      "display_name": "Python 3",
      "name": "python3"
    },
    "language_info": {
      "codemirror_mode": {
        "name": "ipython",
        "version": 3
      },
      "file_extension": ".py",
      "mimetype": "text/x-python",
      "name": "python",
      "nbconvert_exporter": "python",
      "pygments_lexer": "ipython3",
      "version": "3.7.3"
    }
  },
  "nbformat": 4,
  "nbformat_minor": 0
}
