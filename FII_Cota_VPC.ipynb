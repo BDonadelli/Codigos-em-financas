{
  "cells": [
    {
      "cell_type": "code",
      "execution_count": 16,
      "metadata": {},
      "outputs": [],
      "source": [
        "import pandas as pd\n",
        "import requests\n",
        "import zipfile"
      ]
    },
    {
      "cell_type": "code",
      "execution_count": 30,
      "metadata": {
        "id": "55Jof3niClSs"
      },
      "outputs": [],
      "source": [
        "fundo = 'urpr11'\n",
        "anos = ['2018','2019','2020','2021' , '2022' , '2023' , '2024']"
      ]
    },
    {
      "cell_type": "code",
      "execution_count": 31,
      "metadata": {},
      "outputs": [
        {
          "data": {
            "text/plain": [
              "'34.508.872/0001-87'"
            ]
          },
          "execution_count": 31,
          "metadata": {},
          "output_type": "execute_result"
        }
      ],
      "source": [
        "cnpj = pd.read_csv('/home/yair/GHub/Codigos-em-financas/data/fii/CnpjFii.csv',sep=',',index_col='Codigo' )\n",
        "cnpj =cnpj.loc[fundo.upper()].values[1]\n",
        "cnpj"
      ]
    },
    {
      "cell_type": "code",
      "execution_count": 32,
      "metadata": {
        "id": "FukowO6RB-UW"
      },
      "outputs": [],
      "source": [
        "path = '/home/yair/GHub/Codigos-em-financas/data/fii'\n",
        "\n",
        "def baixar_e_extrair_zip(url, caminho_destino = path):\n",
        "  \"\"\"\n",
        "  Baixa um arquivo ZIP de uma URL e extrai os arquivos para um caminho de destino.\n",
        "\n",
        "  Args:\n",
        "      url: A URL do arquivo ZIP.\n",
        "      caminho_destino: O caminho para o qual os arquivos devem ser extraídos.\n",
        "  \"\"\"\n",
        "  resposta = requests.get(url, stream=True)\n",
        "  resposta.raise_for_status()  # Lança uma exceção se houver um erro na resposta\n",
        "\n",
        "  with open(\"arquivo.zip\", \"wb\") as arquivo_zip:\n",
        "    for pedaço in resposta.iter_content(chunk_size=1024):\n",
        "      arquivo_zip.write(pedaço)\n",
        "\n",
        "  with zipfile.ZipFile(\"arquivo.zip\", 'r') as zip_ref:\n",
        "    zip_ref.extractall(caminho_destino)\n"
      ]
    },
    {
      "cell_type": "code",
      "execution_count": 33,
      "metadata": {
        "id": "fQsXIJdgCNcG"
      },
      "outputs": [],
      "source": [
        "import os\n",
        "dir = os.listdir(path)\n",
        "\n",
        "for ano in anos:\n",
        "  if f'inf_mensal_fii_complemento_{ano}.csv' not in dir: \n",
        "    url = f'https://dados.cvm.gov.br/dados/FII/DOC/INF_MENSAL/DADOS/inf_mensal_fii_{ano}.zip'\n",
        "    baixar_e_extrair_zip(url)"
      ]
    },
    {
      "cell_type": "code",
      "execution_count": 34,
      "metadata": {
        "id": "tUEnhGhHEJpG"
      },
      "outputs": [],
      "source": [
        "def ler_arquivos_fii(arquivos, colunas , **kwargs ):\n",
        "  \"\"\"\n",
        "  Lê múltiplos arquivos CSV com informações de FIIs em um único DataFrame.\n",
        "\n",
        "  Args:\n",
        "      arquivos: Uma lista de caminhos de arquivos CSV.\n",
        "      colunas: Uma lista de nomes de colunas a serem lidas.\n",
        "\n",
        "  Returns:\n",
        "      Um DataFrame do Pandas com os dados combinados.\n",
        "  \"\"\"\n",
        "\n",
        "  dfs = []  # Lista para armazenar os DataFrames de cada arquivo\n",
        "  for arquivo in arquivos:\n",
        "    df = pd.read_csv(path+'/'+arquivo,  usecols=colunas, **kwargs )\n",
        "    df['Valor_Patrimonial_Cotas'] = df['Valor_Patrimonial_Cotas'].astype(float)\n",
        "    dfs.append(df)\n",
        "\n",
        "  df_combinado = pd.concat(dfs, ignore_index=True)\n",
        "  return df_combinado"
      ]
    },
    {
      "cell_type": "code",
      "execution_count": 35,
      "metadata": {
        "id": "QlPqeVoNXBto"
      },
      "outputs": [],
      "source": [
        "arquivos = [f'inf_mensal_fii_complemento_{ano}.csv'  for ano in anos]\n",
        "colunas = ['CNPJ_Fundo', 'Data_Referencia', 'Valor_Patrimonial_Cotas']\n",
        "df_fii = ler_arquivos_fii(arquivos, colunas , sep=';', parse_dates=['Data_Referencia'], encoding='latin-1')"
      ]
    },
    {
      "cell_type": "code",
      "execution_count": 36,
      "metadata": {
        "colab": {
          "base_uri": "https://localhost:8080/",
          "height": 143
        },
        "id": "UC18AuJsGtVA",
        "outputId": "a05f2946-df5e-4549-dfab-891312e12a21"
      },
      "outputs": [
        {
          "data": {
            "text/html": [
              "<div>\n",
              "<style scoped>\n",
              "    .dataframe tbody tr th:only-of-type {\n",
              "        vertical-align: middle;\n",
              "    }\n",
              "\n",
              "    .dataframe tbody tr th {\n",
              "        vertical-align: top;\n",
              "    }\n",
              "\n",
              "    .dataframe thead th {\n",
              "        text-align: right;\n",
              "    }\n",
              "</style>\n",
              "<table border=\"1\" class=\"dataframe\">\n",
              "  <thead>\n",
              "    <tr style=\"text-align: right;\">\n",
              "      <th></th>\n",
              "      <th>Data_Referencia</th>\n",
              "      <th>Valor_Patrimonial_Cotas</th>\n",
              "    </tr>\n",
              "  </thead>\n",
              "  <tbody>\n",
              "    <tr>\n",
              "      <th>9201</th>\n",
              "      <td>2019-12-01</td>\n",
              "      <td>93.964866</td>\n",
              "    </tr>\n",
              "    <tr>\n",
              "      <th>14828</th>\n",
              "      <td>2020-01-01</td>\n",
              "      <td>93.377310</td>\n",
              "    </tr>\n",
              "    <tr>\n",
              "      <th>14829</th>\n",
              "      <td>2020-02-01</td>\n",
              "      <td>98.259120</td>\n",
              "    </tr>\n",
              "  </tbody>\n",
              "</table>\n",
              "</div>"
            ],
            "text/plain": [
              "      Data_Referencia  Valor_Patrimonial_Cotas\n",
              "9201       2019-12-01                93.964866\n",
              "14828      2020-01-01                93.377310\n",
              "14829      2020-02-01                98.259120"
            ]
          },
          "execution_count": 36,
          "metadata": {},
          "output_type": "execute_result"
        }
      ],
      "source": [
        "dados = df_fii[df_fii['CNPJ_Fundo'] == cnpj][['Data_Referencia','Valor_Patrimonial_Cotas']].copy()\n",
        "dados['Data_Referencia'] = pd.to_datetime(dados['Data_Referencia']).dt.date\n",
        "\n",
        "dados.head(3)"
      ]
    },
    {
      "cell_type": "code",
      "execution_count": 37,
      "metadata": {
        "colab": {
          "base_uri": "https://localhost:8080/"
        },
        "id": "0YlW5HvYYdvx",
        "outputId": "5a614bc8-8378-4bb2-cbc0-829d4c611cc3"
      },
      "outputs": [
        {
          "name": "stderr",
          "output_type": "stream",
          "text": [
            "[*********************100%%**********************]  1 of 1 completed\n"
          ]
        }
      ],
      "source": [
        "import yfinance as yf\n",
        "dados_yf = yf.download(fundo+'.SA')[['Adj Close']]"
      ]
    },
    {
      "cell_type": "code",
      "execution_count": 38,
      "metadata": {
        "id": "Ukni6-_udZXx"
      },
      "outputs": [],
      "source": [
        "from datetime import datetime\n",
        "\n",
        "def data_mais_proxima(data_alvo, lista_datas):\n",
        "  \"\"\"\n",
        "  Args:\n",
        "      data_alvo: A data alvo para comparação.\n",
        "      lista_datas: A lista de datas para procurar.\n",
        "\n",
        "  Returns:\n",
        "      A data em lista_datas mais próxima de data_alvo.\n",
        "  \"\"\"\n",
        "  menor_diferenca = None\n",
        "  data_mais_proxima = None\n",
        "  for data in lista_datas:\n",
        "    diferenca = abs(data_alvo - data.date())\n",
        "    if menor_diferenca is None or diferenca < menor_diferenca:\n",
        "      menor_diferenca = diferenca\n",
        "      data_mais_proxima = data\n",
        "\n",
        "  return data_mais_proxima"
      ]
    },
    {
      "cell_type": "code",
      "execution_count": 39,
      "metadata": {
        "id": "OMWG2lamdmkp"
      },
      "outputs": [],
      "source": [
        "'''\n",
        "  As datas de referência podem nao ter tido pregão\n",
        "  Nesse caso, pego o valor do papel na data mais proxima\n",
        "'''\n",
        "preco = []\n",
        "for dia in dados['Data_Referencia'].values:\n",
        "  data_cota = data_mais_proxima(dia, dados_yf.index).date()\n",
        "  preco.append(dados_yf.loc[data_cota.strftime('%Y-%m-%d')]['Adj Close'])\n",
        "dados['preco'] = preco"
      ]
    },
    {
      "cell_type": "code",
      "execution_count": 40,
      "metadata": {
        "colab": {
          "base_uri": "https://localhost:8080/",
          "height": 143
        },
        "id": "rPsx5dIOTAg1",
        "outputId": "a6a84fdd-3363-4a8e-897a-1fa2d6b48573"
      },
      "outputs": [
        {
          "data": {
            "text/html": [
              "<div>\n",
              "<style scoped>\n",
              "    .dataframe tbody tr th:only-of-type {\n",
              "        vertical-align: middle;\n",
              "    }\n",
              "\n",
              "    .dataframe tbody tr th {\n",
              "        vertical-align: top;\n",
              "    }\n",
              "\n",
              "    .dataframe thead th {\n",
              "        text-align: right;\n",
              "    }\n",
              "</style>\n",
              "<table border=\"1\" class=\"dataframe\">\n",
              "  <thead>\n",
              "    <tr style=\"text-align: right;\">\n",
              "      <th></th>\n",
              "      <th>Data_Referencia</th>\n",
              "      <th>Valor_Patrimonial_Cotas</th>\n",
              "      <th>preco</th>\n",
              "    </tr>\n",
              "  </thead>\n",
              "  <tbody>\n",
              "    <tr>\n",
              "      <th>9201</th>\n",
              "      <td>2019-12-01</td>\n",
              "      <td>93.964866</td>\n",
              "      <td>57.733055</td>\n",
              "    </tr>\n",
              "    <tr>\n",
              "      <th>14828</th>\n",
              "      <td>2020-01-01</td>\n",
              "      <td>93.377310</td>\n",
              "      <td>57.733055</td>\n",
              "    </tr>\n",
              "    <tr>\n",
              "      <th>14829</th>\n",
              "      <td>2020-02-01</td>\n",
              "      <td>98.259120</td>\n",
              "      <td>57.733055</td>\n",
              "    </tr>\n",
              "  </tbody>\n",
              "</table>\n",
              "</div>"
            ],
            "text/plain": [
              "      Data_Referencia  Valor_Patrimonial_Cotas      preco\n",
              "9201       2019-12-01                93.964866  57.733055\n",
              "14828      2020-01-01                93.377310  57.733055\n",
              "14829      2020-02-01                98.259120  57.733055"
            ]
          },
          "execution_count": 40,
          "metadata": {},
          "output_type": "execute_result"
        }
      ],
      "source": [
        "dados.head(3)"
      ]
    },
    {
      "cell_type": "code",
      "execution_count": 41,
      "metadata": {
        "colab": {
          "base_uri": "https://localhost:8080/",
          "height": 414
        },
        "id": "wjJ3CT4qT-ZY",
        "outputId": "794dedc2-b682-468b-d3e3-63cb593a4cee"
      },
      "outputs": [
        {
          "data": {
            "image/png": "[encoded data removed]",
            "text/plain": [
              "<Figure size 800x300 with 1 Axes>"
            ]
          },
          "metadata": {},
          "output_type": "display_data"
        }
      ],
      "source": [
        "import matplotlib.pyplot as plt\n",
        "plt.style.use('fivethirtyeight')\n",
        "\n",
        "plt.figure(figsize=(8, 3))  # Ajustar o tamanho da figura, se necessário\n",
        "\n",
        "plt.plot(dados['Data_Referencia'], dados['Valor_Patrimonial_Cotas'], label='Valor Patrimonial (fonte:CVM)')\n",
        "plt.plot(dados['Data_Referencia'], dados['preco'], label='Preço (fonte: Yahoo Finance)')\n",
        "\n",
        "plt.xlabel('Data')\n",
        "plt.ylabel('Preço')\n",
        "plt.title(fundo.upper())\n",
        "\n",
        "plt.xticks(rotation=45, ha='right')  # Inclinar os labels do eixo x\n",
        "plt.gca().yaxis.set_major_formatter(plt.FormatStrFormatter('%.2f'))  # Duas casas decimais no eixo y\n",
        "\n",
        "\n",
        "plt.grid(True)\n",
        "plt.legend()\n",
        "plt.show()"
      ]
    },
    {
      "cell_type": "code",
      "execution_count": 42,
      "metadata": {},
      "outputs": [
        {
          "data": {
            "application/vnd.plotly.v1+json": {
              "config": {
                "plotlyServerURL": "https://plot.ly"
              },
              "data": [
                {
                  "mode": "lines",
                  "name": "Valor Patrimonial da cota (fonte: CVM)",
                  "type": "scatter",
                  "x": [
                    "2019-12-01",
                    "2020-01-01",
                    "2020-02-01",
                    "2020-03-01",
                    "2020-04-01",
                    "2020-05-01",
                    "2020-06-01",
                    "2020-07-01",
                    "2020-08-01",
                    "2020-09-01",
                    "2020-10-01",
                    "2020-11-01",
                    "2020-12-01",
                    "2021-01-01",
                    "2021-02-01",
                    "2021-03-01",
                    "2021-04-01",
                    "2021-05-01",
                    "2021-06-01",
                    "2021-07-01",
                    "2021-08-01",
                    "2021-09-01",
                    "2021-10-01",
                    "2021-11-01",
                    "2021-12-01",
                    "2022-01-01",
                    "2022-02-01",
                    "2022-03-01",
                    "2022-04-01",
                    "2022-05-01",
                    "2022-06-01",
                    "2022-07-01",
                    "2022-08-01",
                    "2022-09-01",
                    "2022-10-01",
                    "2022-11-01",
                    "2022-12-01",
                    "2023-01-01",
                    "2023-02-01",
                    "2023-03-01",
                    "2023-04-01",
                    "2023-05-01",
                    "2023-06-01",
                    "2023-07-01",
                    "2023-08-01",
                    "2023-09-01",
                    "2023-10-01",
                    "2023-11-01",
                    "2023-12-01",
                    "2024-01-01",
                    "2024-02-01",
                    "2024-03-01"
                  ],
                  "y": [
                    93.9648665,
                    93.3773105,
                    98.2591196,
                    99.53411747,
                    98.28624863,
                    99.31736952,
                    99.79915915,
                    100.35988147,
                    101.62734905,
                    101.3678568,
                    99.05571051,
                    99.44239485,
                    99.87941449,
                    102.11309106,
                    101.93574838,
                    98.6788422,
                    99.60673144,
                    99.91743795,
                    99.03563805,
                    98.76182573,
                    96.47157612,
                    95.35410734,
                    94.65703797,
                    96.29759592,
                    95.45069716,
                    95.67258681,
                    97.22668263,
                    98.14463144,
                    99.57560825,
                    104.01448229,
                    99.78813177,
                    100.36953754,
                    101.02744261,
                    101.43072706,
                    101.08999104,
                    99.33350878,
                    98.80534174,
                    99.06010367,
                    99.33232688,
                    100.43871594,
                    100.00515214,
                    100.29684014,
                    100.14586972,
                    100.02664186,
                    101.97699234,
                    100.50852948,
                    101.25595973,
                    102.6612617,
                    103.85541014,
                    103.5536883,
                    102.79828548,
                    102.99239216
                  ]
                },
                {
                  "mode": "lines",
                  "name": "Preço (fonte: Yahoo Finance)",
                  "type": "scatter",
                  "x": [
                    "2019-12-01",
                    "2020-01-01",
                    "2020-02-01",
                    "2020-03-01",
                    "2020-04-01",
                    "2020-05-01",
                    "2020-06-01",
                    "2020-07-01",
                    "2020-08-01",
                    "2020-09-01",
                    "2020-10-01",
                    "2020-11-01",
                    "2020-12-01",
                    "2021-01-01",
                    "2021-02-01",
                    "2021-03-01",
                    "2021-04-01",
                    "2021-05-01",
                    "2021-06-01",
                    "2021-07-01",
                    "2021-08-01",
                    "2021-09-01",
                    "2021-10-01",
                    "2021-11-01",
                    "2021-12-01",
                    "2022-01-01",
                    "2022-02-01",
                    "2022-03-01",
                    "2022-04-01",
                    "2022-05-01",
                    "2022-06-01",
                    "2022-07-01",
                    "2022-08-01",
                    "2022-09-01",
                    "2022-10-01",
                    "2022-11-01",
                    "2022-12-01",
                    "2023-01-01",
                    "2023-02-01",
                    "2023-03-01",
                    "2023-04-01",
                    "2023-05-01",
                    "2023-06-01",
                    "2023-07-01",
                    "2023-08-01",
                    "2023-09-01",
                    "2023-10-01",
                    "2023-11-01",
                    "2023-12-01",
                    "2024-01-01",
                    "2024-02-01",
                    "2024-03-01"
                  ],
                  "y": [
                    57.733055114746094,
                    57.733055114746094,
                    57.733055114746094,
                    57.733055114746094,
                    57.733055114746094,
                    57.733055114746094,
                    57.733055114746094,
                    57.733055114746094,
                    57.733055114746094,
                    60.09959030151367,
                    59.29229736328125,
                    68.94937133789062,
                    73.27765655517578,
                    71.26333618164062,
                    73.08442687988281,
                    71.40413665771484,
                    74.1399917602539,
                    75.55437469482422,
                    74.13296508789062,
                    77.22063446044922,
                    73.66830444335938,
                    73.81599426269531,
                    76.56771087646484,
                    73.92041778564453,
                    67.5694580078125,
                    75.47184753417969,
                    79.00352478027344,
                    79.22826385498047,
                    80.16641235351562,
                    73.7522964477539,
                    78.74565124511719,
                    78.7483139038086,
                    76.61273956298828,
                    77.0802230834961,
                    77.23004150390625,
                    77.7901382446289,
                    76.48338317871094,
                    77.81815338134766,
                    79.06262969970703,
                    78.8721694946289,
                    75.56130981445312,
                    74.63497924804688,
                    79.6769790649414,
                    82.50066375732422,
                    85.65120697021484,
                    83.95140838623047,
                    79.94000244140625,
                    76.96546173095703,
                    74.48280334472656,
                    78.10443878173828,
                    81.7691879272461,
                    82.22322082519531
                  ]
                }
              ],
              "layout": {
                "legend": {
                  "orientation": "h"
                },
                "template": {
                  "data": {
                    "bar": [
                      {
                        "error_x": {
                          "color": "#2a3f5f"
                        },
                        "error_y": {
                          "color": "#2a3f5f"
                        },
                        "marker": {
                          "line": {
                            "color": "#E5ECF6",
                            "width": 0.5
                          },
                          "pattern": {
                            "fillmode": "overlay",
                            "size": 10,
                            "solidity": 0.2
                          }
                        },
                        "type": "bar"
                      }
                    ],
                    "barpolar": [
                      {
                        "marker": {
                          "line": {
                            "color": "#E5ECF6",
                            "width": 0.5
                          },
                          "pattern": {
                            "fillmode": "overlay",
                            "size": 10,
                            "solidity": 0.2
                          }
                        },
                        "type": "barpolar"
                      }
                    ],
                    "carpet": [
                      {
                        "aaxis": {
                          "endlinecolor": "#2a3f5f",
                          "gridcolor": "white",
                          "linecolor": "white",
                          "minorgridcolor": "white",
                          "startlinecolor": "#2a3f5f"
                        },
                        "baxis": {
                          "endlinecolor": "#2a3f5f",
                          "gridcolor": "white",
                          "linecolor": "white",
                          "minorgridcolor": "white",
                          "startlinecolor": "#2a3f5f"
                        },
                        "type": "carpet"
                      }
                    ],
                    "choropleth": [
                      {
                        "colorbar": {
                          "outlinewidth": 0,
                          "ticks": ""
                        },
                        "type": "choropleth"
                      }
                    ],
                    "contour": [
                      {
                        "colorbar": {
                          "outlinewidth": 0,
                          "ticks": ""
                        },
                        "colorscale": [
                          [
                            0,
                            "#0d0887"
                          ],
                          [
                            0.1111111111111111,
                            "#46039f"
                          ],
                          [
                            0.2222222222222222,
                            "#7201a8"
                          ],
                          [
                            0.3333333333333333,
                            "#9c179e"
                          ],
                          [
                            0.4444444444444444,
                            "#bd3786"
                          ],
                          [
                            0.5555555555555556,
                            "#d8576b"
                          ],
                          [
                            0.6666666666666666,
                            "#ed7953"
                          ],
                          [
                            0.7777777777777778,
                            "#fb9f3a"
                          ],
                          [
                            0.8888888888888888,
                            "#fdca26"
                          ],
                          [
                            1,
                            "#f0f921"
                          ]
                        ],
                        "type": "contour"
                      }
                    ],
                    "contourcarpet": [
                      {
                        "colorbar": {
                          "outlinewidth": 0,
                          "ticks": ""
                        },
                        "type": "contourcarpet"
                      }
                    ],
                    "heatmap": [
                      {
                        "colorbar": {
                          "outlinewidth": 0,
                          "ticks": ""
                        },
                        "colorscale": [
                          [
                            0,
                            "#0d0887"
                          ],
                          [
                            0.1111111111111111,
                            "#46039f"
                          ],
                          [
                            0.2222222222222222,
                            "#7201a8"
                          ],
                          [
                            0.3333333333333333,
                            "#9c179e"
                          ],
                          [
                            0.4444444444444444,
                            "#bd3786"
                          ],
                          [
                            0.5555555555555556,
                            "#d8576b"
                          ],
                          [
                            0.6666666666666666,
                            "#ed7953"
                          ],
                          [
                            0.7777777777777778,
                            "#fb9f3a"
                          ],
                          [
                            0.8888888888888888,
                            "#fdca26"
                          ],
                          [
                            1,
                            "#f0f921"
                          ]
                        ],
                        "type": "heatmap"
                      }
                    ],
                    "heatmapgl": [
                      {
                        "colorbar": {
                          "outlinewidth": 0,
                          "ticks": ""
                        },
                        "colorscale": [
                          [
                            0,
                            "#0d0887"
                          ],
                          [
                            0.1111111111111111,
                            "#46039f"
                          ],
                          [
                            0.2222222222222222,
                            "#7201a8"
                          ],
                          [
                            0.3333333333333333,
                            "#9c179e"
                          ],
                          [
                            0.4444444444444444,
                            "#bd3786"
                          ],
                          [
                            0.5555555555555556,
                            "#d8576b"
                          ],
                          [
                            0.6666666666666666,
                            "#ed7953"
                          ],
                          [
                            0.7777777777777778,
                            "#fb9f3a"
                          ],
                          [
                            0.8888888888888888,
                            "#fdca26"
                          ],
                          [
                            1,
                            "#f0f921"
                          ]
                        ],
                        "type": "heatmapgl"
                      }
                    ],
                    "histogram": [
                      {
                        "marker": {
                          "pattern": {
                            "fillmode": "overlay",
                            "size": 10,
                            "solidity": 0.2
                          }
                        },
                        "type": "histogram"
                      }
                    ],
                    "histogram2d": [
                      {
                        "colorbar": {
                          "outlinewidth": 0,
                          "ticks": ""
                        },
                        "colorscale": [
                          [
                            0,
                            "#0d0887"
                          ],
                          [
                            0.1111111111111111,
                            "#46039f"
                          ],
                          [
                            0.2222222222222222,
                            "#7201a8"
                          ],
                          [
                            0.3333333333333333,
                            "#9c179e"
                          ],
                          [
                            0.4444444444444444,
                            "#bd3786"
                          ],
                          [
                            0.5555555555555556,
                            "#d8576b"
                          ],
                          [
                            0.6666666666666666,
                            "#ed7953"
                          ],
                          [
                            0.7777777777777778,
                            "#fb9f3a"
                          ],
                          [
                            0.8888888888888888,
                            "#fdca26"
                          ],
                          [
                            1,
                            "#f0f921"
                          ]
                        ],
                        "type": "histogram2d"
                      }
                    ],
                    "histogram2dcontour": [
                      {
                        "colorbar": {
                          "outlinewidth": 0,
                          "ticks": ""
                        },
                        "colorscale": [
                          [
                            0,
                            "#0d0887"
                          ],
                          [
                            0.1111111111111111,
                            "#46039f"
                          ],
                          [
                            0.2222222222222222,
                            "#7201a8"
                          ],
                          [
                            0.3333333333333333,
                            "#9c179e"
                          ],
                          [
                            0.4444444444444444,
                            "#bd3786"
                          ],
                          [
                            0.5555555555555556,
                            "#d8576b"
                          ],
                          [
                            0.6666666666666666,
                            "#ed7953"
                          ],
                          [
                            0.7777777777777778,
                            "#fb9f3a"
                          ],
                          [
                            0.8888888888888888,
                            "#fdca26"
                          ],
                          [
                            1,
                            "#f0f921"
                          ]
                        ],
                        "type": "histogram2dcontour"
                      }
                    ],
                    "mesh3d": [
                      {
                        "colorbar": {
                          "outlinewidth": 0,
                          "ticks": ""
                        },
                        "type": "mesh3d"
                      }
                    ],
                    "parcoords": [
                      {
                        "line": {
                          "colorbar": {
                            "outlinewidth": 0,
                            "ticks": ""
                          }
                        },
                        "type": "parcoords"
                      }
                    ],
                    "pie": [
                      {
                        "automargin": true,
                        "type": "pie"
                      }
                    ],
                    "scatter": [
                      {
                        "fillpattern": {
                          "fillmode": "overlay",
                          "size": 10,
                          "solidity": 0.2
                        },
                        "type": "scatter"
                      }
                    ],
                    "scatter3d": [
                      {
                        "line": {
                          "colorbar": {
                            "outlinewidth": 0,
                            "ticks": ""
                          }
                        },
                        "marker": {
                          "colorbar": {
                            "outlinewidth": 0,
                            "ticks": ""
                          }
                        },
                        "type": "scatter3d"
                      }
                    ],
                    "scattercarpet": [
                      {
                        "marker": {
                          "colorbar": {
                            "outlinewidth": 0,
                            "ticks": ""
                          }
                        },
                        "type": "scattercarpet"
                      }
                    ],
                    "scattergeo": [
                      {
                        "marker": {
                          "colorbar": {
                            "outlinewidth": 0,
                            "ticks": ""
                          }
                        },
                        "type": "scattergeo"
                      }
                    ],
                    "scattergl": [
                      {
                        "marker": {
                          "colorbar": {
                            "outlinewidth": 0,
                            "ticks": ""
                          }
                        },
                        "type": "scattergl"
                      }
                    ],
                    "scattermapbox": [
                      {
                        "marker": {
                          "colorbar": {
                            "outlinewidth": 0,
                            "ticks": ""
                          }
                        },
                        "type": "scattermapbox"
                      }
                    ],
                    "scatterpolar": [
                      {
                        "marker": {
                          "colorbar": {
                            "outlinewidth": 0,
                            "ticks": ""
                          }
                        },
                        "type": "scatterpolar"
                      }
                    ],
                    "scatterpolargl": [
                      {
                        "marker": {
                          "colorbar": {
                            "outlinewidth": 0,
                            "ticks": ""
                          }
                        },
                        "type": "scatterpolargl"
                      }
                    ],
                    "scatterternary": [
                      {
                        "marker": {
                          "colorbar": {
                            "outlinewidth": 0,
                            "ticks": ""
                          }
                        },
                        "type": "scatterternary"
                      }
                    ],
                    "surface": [
                      {
                        "colorbar": {
                          "outlinewidth": 0,
                          "ticks": ""
                        },
                        "colorscale": [
                          [
                            0,
                            "#0d0887"
                          ],
                          [
                            0.1111111111111111,
                            "#46039f"
                          ],
                          [
                            0.2222222222222222,
                            "#7201a8"
                          ],
                          [
                            0.3333333333333333,
                            "#9c179e"
                          ],
                          [
                            0.4444444444444444,
                            "#bd3786"
                          ],
                          [
                            0.5555555555555556,
                            "#d8576b"
                          ],
                          [
                            0.6666666666666666,
                            "#ed7953"
                          ],
                          [
                            0.7777777777777778,
                            "#fb9f3a"
                          ],
                          [
                            0.8888888888888888,
                            "#fdca26"
                          ],
                          [
                            1,
                            "#f0f921"
                          ]
                        ],
                        "type": "surface"
                      }
                    ],
                    "table": [
                      {
                        "cells": {
                          "fill": {
                            "color": "#EBF0F8"
                          },
                          "line": {
                            "color": "white"
                          }
                        },
                        "header": {
                          "fill": {
                            "color": "#C8D4E3"
                          },
                          "line": {
                            "color": "white"
                          }
                        },
                        "type": "table"
                      }
                    ]
                  },
                  "layout": {
                    "annotationdefaults": {
                      "arrowcolor": "#2a3f5f",
                      "arrowhead": 0,
                      "arrowwidth": 1
                    },
                    "autotypenumbers": "strict",
                    "coloraxis": {
                      "colorbar": {
                        "outlinewidth": 0,
                        "ticks": ""
                      }
                    },
                    "colorscale": {
                      "diverging": [
                        [
                          0,
                          "#8e0152"
                        ],
                        [
                          0.1,
                          "#c51b7d"
                        ],
                        [
                          0.2,
                          "#de77ae"
                        ],
                        [
                          0.3,
                          "#f1b6da"
                        ],
                        [
                          0.4,
                          "#fde0ef"
                        ],
                        [
                          0.5,
                          "#f7f7f7"
                        ],
                        [
                          0.6,
                          "#e6f5d0"
                        ],
                        [
                          0.7,
                          "#b8e186"
                        ],
                        [
                          0.8,
                          "#7fbc41"
                        ],
                        [
                          0.9,
                          "#4d9221"
                        ],
                        [
                          1,
                          "#276419"
                        ]
                      ],
                      "sequential": [
                        [
                          0,
                          "#0d0887"
                        ],
                        [
                          0.1111111111111111,
                          "#46039f"
                        ],
                        [
                          0.2222222222222222,
                          "#7201a8"
                        ],
                        [
                          0.3333333333333333,
                          "#9c179e"
                        ],
                        [
                          0.4444444444444444,
                          "#bd3786"
                        ],
                        [
                          0.5555555555555556,
                          "#d8576b"
                        ],
                        [
                          0.6666666666666666,
                          "#ed7953"
                        ],
                        [
                          0.7777777777777778,
                          "#fb9f3a"
                        ],
                        [
                          0.8888888888888888,
                          "#fdca26"
                        ],
                        [
                          1,
                          "#f0f921"
                        ]
                      ],
                      "sequentialminus": [
                        [
                          0,
                          "#0d0887"
                        ],
                        [
                          0.1111111111111111,
                          "#46039f"
                        ],
                        [
                          0.2222222222222222,
                          "#7201a8"
                        ],
                        [
                          0.3333333333333333,
                          "#9c179e"
                        ],
                        [
                          0.4444444444444444,
                          "#bd3786"
                        ],
                        [
                          0.5555555555555556,
                          "#d8576b"
                        ],
                        [
                          0.6666666666666666,
                          "#ed7953"
                        ],
                        [
                          0.7777777777777778,
                          "#fb9f3a"
                        ],
                        [
                          0.8888888888888888,
                          "#fdca26"
                        ],
                        [
                          1,
                          "#f0f921"
                        ]
                      ]
                    },
                    "colorway": [
                      "#636efa",
                      "#EF553B",
                      "#00cc96",
                      "#ab63fa",
                      "#FFA15A",
                      "#19d3f3",
                      "#FF6692",
                      "#B6E880",
                      "#FF97FF",
                      "#FECB52"
                    ],
                    "font": {
                      "color": "#2a3f5f"
                    },
                    "geo": {
                      "bgcolor": "white",
                      "lakecolor": "white",
                      "landcolor": "#E5ECF6",
                      "showlakes": true,
                      "showland": true,
                      "subunitcolor": "white"
                    },
                    "hoverlabel": {
                      "align": "left"
                    },
                    "hovermode": "closest",
                    "mapbox": {
                      "style": "light"
                    },
                    "paper_bgcolor": "white",
                    "plot_bgcolor": "#E5ECF6",
                    "polar": {
                      "angularaxis": {
                        "gridcolor": "white",
                        "linecolor": "white",
                        "ticks": ""
                      },
                      "bgcolor": "#E5ECF6",
                      "radialaxis": {
                        "gridcolor": "white",
                        "linecolor": "white",
                        "ticks": ""
                      }
                    },
                    "scene": {
                      "xaxis": {
                        "backgroundcolor": "#E5ECF6",
                        "gridcolor": "white",
                        "gridwidth": 2,
                        "linecolor": "white",
                        "showbackground": true,
                        "ticks": "",
                        "zerolinecolor": "white"
                      },
                      "yaxis": {
                        "backgroundcolor": "#E5ECF6",
                        "gridcolor": "white",
                        "gridwidth": 2,
                        "linecolor": "white",
                        "showbackground": true,
                        "ticks": "",
                        "zerolinecolor": "white"
                      },
                      "zaxis": {
                        "backgroundcolor": "#E5ECF6",
                        "gridcolor": "white",
                        "gridwidth": 2,
                        "linecolor": "white",
                        "showbackground": true,
                        "ticks": "",
                        "zerolinecolor": "white"
                      }
                    },
                    "shapedefaults": {
                      "line": {
                        "color": "#2a3f5f"
                      }
                    },
                    "ternary": {
                      "aaxis": {
                        "gridcolor": "white",
                        "linecolor": "white",
                        "ticks": ""
                      },
                      "baxis": {
                        "gridcolor": "white",
                        "linecolor": "white",
                        "ticks": ""
                      },
                      "bgcolor": "#E5ECF6",
                      "caxis": {
                        "gridcolor": "white",
                        "linecolor": "white",
                        "ticks": ""
                      }
                    },
                    "title": {
                      "x": 0.05
                    },
                    "xaxis": {
                      "automargin": true,
                      "gridcolor": "white",
                      "linecolor": "white",
                      "ticks": "",
                      "title": {
                        "standoff": 15
                      },
                      "zerolinecolor": "white",
                      "zerolinewidth": 2
                    },
                    "yaxis": {
                      "automargin": true,
                      "gridcolor": "white",
                      "linecolor": "white",
                      "ticks": "",
                      "title": {
                        "standoff": 15
                      },
                      "zerolinecolor": "white",
                      "zerolinewidth": 2
                    }
                  }
                },
                "title": {
                  "text": "URPR11"
                },
                "xaxis": {
                  "tickangle": 45,
                  "title": {
                    "text": "Data"
                  }
                },
                "yaxis": {
                  "tickformat": ".2f",
                  "title": {
                    "text": "Preço"
                  }
                }
              }
            }
          },
          "metadata": {},
          "output_type": "display_data"
        }
      ],
      "source": [
        "#grafico interativo\n",
        "import plotly.graph_objects as go\n",
        "trace1 = go.Scatter( x=dados['Data_Referencia'], y=dados['Valor_Patrimonial_Cotas'],\n",
        "                     name='Valor Patrimonial da cota (fonte: CVM)', mode='lines')\n",
        "trace2 = go.Scatter( x=dados['Data_Referencia'], y=dados['preco'],\n",
        "                     name='Preço (fonte: Yahoo Finance)', mode='lines')\n",
        "layout = go.Layout(title=fundo.upper(), xaxis=dict( title='Data', tickangle=45 ),\n",
        "                   yaxis=dict( title='Preço', tickformat='.2f' ),\n",
        "                   legend=dict(orientation=\"h\" ) )\n",
        "fig = go.Figure(data=[trace1, trace2], layout=layout)\n",
        "fig.show()"
      ]
    }
  ],
  "metadata": {
    "colab": {
      "provenance": []
    },
    "kernelspec": {
      "display_name": "Python 3",
      "name": "python3"
    },
    "language_info": {
      "codemirror_mode": {
        "name": "ipython",
        "version": 3
      },
      "file_extension": ".py",
      "mimetype": "text/x-python",
      "name": "python",
      "nbconvert_exporter": "python",
      "pygments_lexer": "ipython3",
      "version": "3.11.9"
    }
  },
  "nbformat": 4,
  "nbformat_minor": 0
}
