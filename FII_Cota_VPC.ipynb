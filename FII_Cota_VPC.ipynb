{
  "cells": [
    {
      "cell_type": "code",
      "execution_count": 15,
      "metadata": {},
      "outputs": [],
      "source": [
        "import pandas as pd\n",
        "import requests\n",
        "import zipfile\n"
      ]
    },
    {
      "cell_type": "code",
      "execution_count": 16,
      "metadata": {
        "id": "55Jof3niClSs"
      },
      "outputs": [],
      "source": [
        "fundo = 'lvbi11'\n",
        "anos = ['2018','2019','2020','2021' , '2022' , '2023' , '2024']"
      ]
    },
    {
      "cell_type": "code",
      "execution_count": 17,
      "metadata": {},
      "outputs": [
        {
          "data": {
            "text/plain": [
              "'30.629.603/0001-18'"
            ]
          },
          "execution_count": 17,
          "metadata": {},
          "output_type": "execute_result"
        }
      ],
      "source": [
        "cnpj = pd.read_csv('/home/yair/GHub/Codigos-em-financas/data/fii/CnpjFii.csv',sep=',',index_col='Codigo' )\n",
        "cnpj =cnpj.loc[fundo.upper()].values[1]\n",
        "cnpj"
      ]
    },
    {
      "cell_type": "code",
      "execution_count": 18,
      "metadata": {
        "id": "FukowO6RB-UW"
      },
      "outputs": [],
      "source": [
        "\n",
        "path = '/home/yair/GHub/Codigos-em-financas/data/fii'\n",
        "\n",
        "def baixar_e_extrair_zip(url, caminho_destino = path):\n",
        "  \"\"\"\n",
        "  Baixa um arquivo ZIP de uma URL e extrai os arquivos para um caminho de destino.\n",
        "\n",
        "  Args:\n",
        "      url: A URL do arquivo ZIP.\n",
        "      caminho_destino: O caminho para o qual os arquivos devem ser extraídos.\n",
        "  \"\"\"\n",
        "  resposta = requests.get(url, stream=True)\n",
        "  resposta.raise_for_status()  # Lança uma exceção se houver um erro na resposta\n",
        "\n",
        "  with open(\"arquivo.zip\", \"wb\") as arquivo_zip:\n",
        "    for pedaço in resposta.iter_content(chunk_size=1024):\n",
        "      arquivo_zip.write(pedaço)\n",
        "\n",
        "  with zipfile.ZipFile(\"arquivo.zip\", 'r') as zip_ref:\n",
        "    zip_ref.extractall(caminho_destino)\n"
      ]
    },
    {
      "cell_type": "code",
      "execution_count": 19,
      "metadata": {
        "id": "fQsXIJdgCNcG"
      },
      "outputs": [],
      "source": [
        "import os\n",
        "dir = os.listdir(path)\n",
        "\n",
        "for ano in anos:\n",
        "  if f'inf_mensal_fii_complemento_{ano}.csv' not in dir: \n",
        "    url = f'https://dados.cvm.gov.br/dados/FII/DOC/INF_MENSAL/DADOS/inf_mensal_fii_{ano}.zip'\n",
        "    baixar_e_extrair_zip(url)"
      ]
    },
    {
      "cell_type": "code",
      "execution_count": 20,
      "metadata": {
        "id": "tUEnhGhHEJpG"
      },
      "outputs": [],
      "source": [
        "\n",
        "def ler_arquivos_fii(arquivos, colunas , **kwargs ):\n",
        "  \"\"\"\n",
        "  Lê múltiplos arquivos CSV com informações de FIIs em um único DataFrame.\n",
        "\n",
        "  Args:\n",
        "      arquivos: Uma lista de caminhos de arquivos CSV.\n",
        "      colunas: Uma lista de nomes de colunas a serem lidas.\n",
        "\n",
        "  Returns:\n",
        "      Um DataFrame do Pandas com os dados combinados.\n",
        "  \"\"\"\n",
        "\n",
        "  dfs = []  # Lista para armazenar os DataFrames de cada arquivo\n",
        "  for arquivo in arquivos:\n",
        "    df = pd.read_csv(path+'/'+arquivo,  usecols=colunas, **kwargs )\n",
        "    df['Valor_Patrimonial_Cotas'] = df['Valor_Patrimonial_Cotas'].astype(float)\n",
        "    dfs.append(df)\n",
        "\n",
        "  df_combinado = pd.concat(dfs, ignore_index=True)\n",
        "  return df_combinado"
      ]
    },
    {
      "cell_type": "code",
      "execution_count": 21,
      "metadata": {
        "id": "QlPqeVoNXBto"
      },
      "outputs": [],
      "source": [
        "arquivos = [f'inf_mensal_fii_complemento_{ano}.csv'  for ano in anos]\n",
        "colunas = ['CNPJ_Fundo', 'Data_Referencia', 'Valor_Patrimonial_Cotas']\n",
        "df_fii = ler_arquivos_fii(arquivos, colunas , sep=';', parse_dates=['Data_Referencia'], encoding='latin-1')"
      ]
    },
    {
      "cell_type": "code",
      "execution_count": 22,
      "metadata": {
        "colab": {
          "base_uri": "https://localhost:8080/",
          "height": 143
        },
        "id": "UC18AuJsGtVA",
        "outputId": "a05f2946-df5e-4549-dfab-891312e12a21"
      },
      "outputs": [
        {
          "data": {
            "text/html": [
              "<div>\n",
              "<style scoped>\n",
              "    .dataframe tbody tr th:only-of-type {\n",
              "        vertical-align: middle;\n",
              "    }\n",
              "\n",
              "    .dataframe tbody tr th {\n",
              "        vertical-align: top;\n",
              "    }\n",
              "\n",
              "    .dataframe thead th {\n",
              "        text-align: right;\n",
              "    }\n",
              "</style>\n",
              "<table border=\"1\" class=\"dataframe\">\n",
              "  <thead>\n",
              "    <tr style=\"text-align: right;\">\n",
              "      <th></th>\n",
              "      <th>Data_Referencia</th>\n",
              "      <th>Valor_Patrimonial_Cotas</th>\n",
              "    </tr>\n",
              "  </thead>\n",
              "  <tbody>\n",
              "    <tr>\n",
              "      <th>4241</th>\n",
              "      <td>2018-11-01</td>\n",
              "      <td>97.720657</td>\n",
              "    </tr>\n",
              "    <tr>\n",
              "      <th>4242</th>\n",
              "      <td>2018-12-01</td>\n",
              "      <td>97.693516</td>\n",
              "    </tr>\n",
              "    <tr>\n",
              "      <th>8832</th>\n",
              "      <td>2019-01-01</td>\n",
              "      <td>97.716332</td>\n",
              "    </tr>\n",
              "  </tbody>\n",
              "</table>\n",
              "</div>"
            ],
            "text/plain": [
              "     Data_Referencia  Valor_Patrimonial_Cotas\n",
              "4241      2018-11-01                97.720657\n",
              "4242      2018-12-01                97.693516\n",
              "8832      2019-01-01                97.716332"
            ]
          },
          "execution_count": 22,
          "metadata": {},
          "output_type": "execute_result"
        }
      ],
      "source": [
        "dados = df_fii[df_fii['CNPJ_Fundo'] == cnpj][['Data_Referencia','Valor_Patrimonial_Cotas']].copy()\n",
        "dados['Data_Referencia'] = pd.to_datetime(dados['Data_Referencia']).dt.date\n",
        "\n",
        "dados.head(3)"
      ]
    },
    {
      "cell_type": "code",
      "execution_count": 23,
      "metadata": {
        "colab": {
          "base_uri": "https://localhost:8080/"
        },
        "id": "0YlW5HvYYdvx",
        "outputId": "5a614bc8-8378-4bb2-cbc0-829d4c611cc3"
      },
      "outputs": [
        {
          "name": "stderr",
          "output_type": "stream",
          "text": [
            "[*********************100%%**********************]  1 of 1 completed\n"
          ]
        }
      ],
      "source": [
        "import yfinance as yf\n",
        "dados_yf = yf.download(fundo+'.SA')[['Adj Close']]"
      ]
    },
    {
      "cell_type": "code",
      "execution_count": 24,
      "metadata": {
        "id": "Ukni6-_udZXx"
      },
      "outputs": [],
      "source": [
        "from datetime import datetime\n",
        "\n",
        "def data_mais_proxima(data_alvo, lista_datas):\n",
        "  \"\"\"\n",
        "  Args:\n",
        "      data_alvo: A data alvo para comparação.\n",
        "      lista_datas: A lista de datas para procurar.\n",
        "\n",
        "  Returns:\n",
        "      A data em lista_datas mais próxima de data_alvo.\n",
        "  \"\"\"\n",
        "  menor_diferenca = None\n",
        "  data_mais_proxima = None\n",
        "  for data in lista_datas:\n",
        "    diferenca = abs(data_alvo - data.date())\n",
        "    if menor_diferenca is None or diferenca < menor_diferenca:\n",
        "      menor_diferenca = diferenca\n",
        "      data_mais_proxima = data\n",
        "\n",
        "  return data_mais_proxima"
      ]
    },
    {
      "cell_type": "code",
      "execution_count": 25,
      "metadata": {
        "id": "OMWG2lamdmkp"
      },
      "outputs": [],
      "source": [
        "'''\n",
        "  As datas de referência podem nao ter tido pregão\n",
        "  Nesse caso, pego o valor do papel na data mais proxima\n",
        "'''\n",
        "preco = []\n",
        "for dia in dados['Data_Referencia'].values:\n",
        "  data_cota = data_mais_proxima(dia, dados_yf.index).date()\n",
        "  preco.append(dados_yf.loc[data_cota.strftime('%Y-%m-%d')]['Adj Close'])\n",
        "dados['preco'] = preco"
      ]
    },
    {
      "cell_type": "code",
      "execution_count": 26,
      "metadata": {
        "colab": {
          "base_uri": "https://localhost:8080/",
          "height": 143
        },
        "id": "rPsx5dIOTAg1",
        "outputId": "a6a84fdd-3363-4a8e-897a-1fa2d6b48573"
      },
      "outputs": [
        {
          "data": {
            "text/html": [
              "<div>\n",
              "<style scoped>\n",
              "    .dataframe tbody tr th:only-of-type {\n",
              "        vertical-align: middle;\n",
              "    }\n",
              "\n",
              "    .dataframe tbody tr th {\n",
              "        vertical-align: top;\n",
              "    }\n",
              "\n",
              "    .dataframe thead th {\n",
              "        text-align: right;\n",
              "    }\n",
              "</style>\n",
              "<table border=\"1\" class=\"dataframe\">\n",
              "  <thead>\n",
              "    <tr style=\"text-align: right;\">\n",
              "      <th></th>\n",
              "      <th>Data_Referencia</th>\n",
              "      <th>Valor_Patrimonial_Cotas</th>\n",
              "      <th>preco</th>\n",
              "    </tr>\n",
              "  </thead>\n",
              "  <tbody>\n",
              "    <tr>\n",
              "      <th>4241</th>\n",
              "      <td>2018-11-01</td>\n",
              "      <td>97.720657</td>\n",
              "      <td>72.215958</td>\n",
              "    </tr>\n",
              "    <tr>\n",
              "      <th>4242</th>\n",
              "      <td>2018-12-01</td>\n",
              "      <td>97.693516</td>\n",
              "      <td>72.215958</td>\n",
              "    </tr>\n",
              "    <tr>\n",
              "      <th>8832</th>\n",
              "      <td>2019-01-01</td>\n",
              "      <td>97.716332</td>\n",
              "      <td>72.215958</td>\n",
              "    </tr>\n",
              "  </tbody>\n",
              "</table>\n",
              "</div>"
            ],
            "text/plain": [
              "     Data_Referencia  Valor_Patrimonial_Cotas      preco\n",
              "4241      2018-11-01                97.720657  72.215958\n",
              "4242      2018-12-01                97.693516  72.215958\n",
              "8832      2019-01-01                97.716332  72.215958"
            ]
          },
          "execution_count": 26,
          "metadata": {},
          "output_type": "execute_result"
        }
      ],
      "source": [
        "dados.head(3)"
      ]
    },
    {
      "cell_type": "code",
      "execution_count": 27,
      "metadata": {
        "colab": {
          "base_uri": "https://localhost:8080/",
          "height": 414
        },
        "id": "wjJ3CT4qT-ZY",
        "outputId": "794dedc2-b682-468b-d3e3-63cb593a4cee"
      },
      "outputs": [
        {
          "data": {
            "image/png": "[encoded data removed]",
            "text/plain": [
              "<Figure size 800x300 with 1 Axes>"
            ]
          },
          "metadata": {},
          "output_type": "display_data"
        }
      ],
      "source": [
        "import matplotlib.pyplot as plt\n",
        "plt.style.use('fivethirtyeight')\n",
        "\n",
        "plt.figure(figsize=(8, 3))  # Ajustar o tamanho da figura, se necessário\n",
        "\n",
        "plt.plot(dados['Data_Referencia'], dados['Valor_Patrimonial_Cotas'], label='Valor Patrimonial (fonte:CVM)')\n",
        "plt.plot(dados['Data_Referencia'], dados['preco'], label='Preço (fonte: Yahoo Finance)')\n",
        "\n",
        "plt.xlabel('Data')\n",
        "plt.ylabel('Preço')\n",
        "plt.title(fundo.upper())\n",
        "\n",
        "plt.xticks(rotation=45, ha='right')  # Inclinar os labels do eixo x\n",
        "plt.gca().yaxis.set_major_formatter(plt.FormatStrFormatter('%.2f'))  # Duas casas decimais no eixo y\n",
        "\n",
        "\n",
        "plt.grid(True)\n",
        "plt.legend()\n",
        "plt.show()"
      ]
    },
    {
      "cell_type": "code",
      "execution_count": 28,
      "metadata": {},
      "outputs": [
        {
          "data": {
            "application/vnd.plotly.v1+json": {
              "config": {
                "plotlyServerURL": "https://plot.ly"
              },
              "data": [
                {
                  "mode": "lines",
                  "name": "Valor Patrimonial da cota (fonte: CVM)",
                  "type": "scatter",
                  "x": [
                    "2018-11-01",
                    "2018-12-01",
                    "2019-01-01",
                    "2019-02-01",
                    "2019-03-01",
                    "2019-04-01",
                    "2019-05-01",
                    "2019-06-01",
                    "2019-07-01",
                    "2019-08-01",
                    "2019-09-01",
                    "2019-10-01",
                    "2019-11-01",
                    "2019-12-01",
                    "2020-01-01",
                    "2020-02-01",
                    "2020-03-01",
                    "2020-04-01",
                    "2020-05-01",
                    "2020-06-01",
                    "2020-07-01",
                    "2020-08-01",
                    "2020-09-01",
                    "2020-10-01",
                    "2020-11-01",
                    "2020-12-01",
                    "2021-01-01",
                    "2021-02-01",
                    "2021-03-01",
                    "2021-04-01",
                    "2021-05-01",
                    "2021-06-01",
                    "2021-07-01",
                    "2021-08-01",
                    "2021-09-01",
                    "2021-10-01",
                    "2021-11-01",
                    "2021-12-01",
                    "2022-01-01",
                    "2022-02-01",
                    "2022-03-01",
                    "2022-04-01",
                    "2022-05-01",
                    "2022-06-01",
                    "2022-07-01",
                    "2022-08-01",
                    "2022-09-01",
                    "2022-10-01",
                    "2022-11-01",
                    "2022-12-01",
                    "2023-01-01",
                    "2023-02-01",
                    "2023-03-01",
                    "2023-04-01",
                    "2023-05-01",
                    "2023-06-01",
                    "2023-07-01",
                    "2023-08-01",
                    "2023-09-01",
                    "2023-10-01",
                    "2023-11-01",
                    "2023-12-01",
                    "2024-01-01",
                    "2024-02-01",
                    "2024-03-01"
                  ],
                  "y": [
                    97.7206574752475,
                    97.6935160429043,
                    97.7163318316832,
                    97.8180017854786,
                    97.5598317029703,
                    97.5580784026403,
                    97.557562729373,
                    102.930673442244,
                    102.929080422442,
                    102.926225200451,
                    102.923899540044,
                    102.817281550577,
                    102.818066298137,
                    102.853134396115,
                    102.824509100625,
                    102.822049669344,
                    102.843125535545,
                    102.746091210682,
                    102.852424386987,
                    108.378192058811,
                    108.334262377703,
                    108.291459614224,
                    110.352704126656,
                    110.350707524821,
                    110.349832554534,
                    110.321153794971,
                    110.322813029477,
                    110.129131137477,
                    110.299921665721,
                    110.304684,
                    110.311025,
                    114.721574,
                    114.719325,
                    114.717606,
                    114.714455,
                    114.726864,
                    114.825205,
                    114.81163,
                    114.776331,
                    114.792804,
                    114.688086,
                    114.687358,
                    114.693102,
                    115.534501,
                    115.522982,
                    115.53673,
                    115.489854,
                    115.541358,
                    115.506808,
                    115.498451,
                    115.489817,
                    115.570364,
                    115.500697,
                    115.624936,
                    115.534112,
                    115.791969,
                    115.799807,
                    115.780715,
                    115.866078,
                    117.347209,
                    117.25653,
                    115.440635,
                    117.233833,
                    116.880946,
                    116.604184
                  ]
                },
                {
                  "mode": "lines",
                  "name": "Preço (fonte: Yahoo Finance)",
                  "type": "scatter",
                  "x": [
                    "2018-11-01",
                    "2018-12-01",
                    "2019-01-01",
                    "2019-02-01",
                    "2019-03-01",
                    "2019-04-01",
                    "2019-05-01",
                    "2019-06-01",
                    "2019-07-01",
                    "2019-08-01",
                    "2019-09-01",
                    "2019-10-01",
                    "2019-11-01",
                    "2019-12-01",
                    "2020-01-01",
                    "2020-02-01",
                    "2020-03-01",
                    "2020-04-01",
                    "2020-05-01",
                    "2020-06-01",
                    "2020-07-01",
                    "2020-08-01",
                    "2020-09-01",
                    "2020-10-01",
                    "2020-11-01",
                    "2020-12-01",
                    "2021-01-01",
                    "2021-02-01",
                    "2021-03-01",
                    "2021-04-01",
                    "2021-05-01",
                    "2021-06-01",
                    "2021-07-01",
                    "2021-08-01",
                    "2021-09-01",
                    "2021-10-01",
                    "2021-11-01",
                    "2021-12-01",
                    "2022-01-01",
                    "2022-02-01",
                    "2022-03-01",
                    "2022-04-01",
                    "2022-05-01",
                    "2022-06-01",
                    "2022-07-01",
                    "2022-08-01",
                    "2022-09-01",
                    "2022-10-01",
                    "2022-11-01",
                    "2022-12-01",
                    "2023-01-01",
                    "2023-02-01",
                    "2023-03-01",
                    "2023-04-01",
                    "2023-05-01",
                    "2023-06-01",
                    "2023-07-01",
                    "2023-08-01",
                    "2023-09-01",
                    "2023-10-01",
                    "2023-11-01",
                    "2023-12-01",
                    "2024-01-01",
                    "2024-02-01",
                    "2024-03-01"
                  ],
                  "y": [
                    72.21595764160156,
                    72.21595764160156,
                    72.21595764160156,
                    72.21595764160156,
                    72.21595764160156,
                    72.21595764160156,
                    72.21595764160156,
                    72.21595764160156,
                    72.21595764160156,
                    72.21595764160156,
                    72.21595764160156,
                    72.21595764160156,
                    72.21595764160156,
                    72.21595764160156,
                    72.21595764160156,
                    72.21595764160156,
                    72.21595764160156,
                    80.3855972290039,
                    98.1015853881836,
                    99.74211120605469,
                    103.61672973632812,
                    110.46734619140625,
                    101.22601318359375,
                    100.90450286865234,
                    98.39012145996094,
                    96.45282745361328,
                    98.81879425048828,
                    95.29045867919922,
                    95.99943542480469,
                    91.6796646118164,
                    92.19900512695312,
                    85.91720581054688,
                    85.66991424560547,
                    85.7770767211914,
                    84.251953125,
                    82.70211029052734,
                    80.3855972290039,
                    74.1285400390625,
                    84.98566436767578,
                    82.07557678222656,
                    80.78956604003906,
                    82.88348388671875,
                    82.2149887084961,
                    83.65872192382812,
                    85.75794219970703,
                    84.90192413330078,
                    96.39946746826172,
                    99.16059875488281,
                    93.71880340576172,
                    91.45753479003906,
                    87.08180236816406,
                    85.37718200683594,
                    85.68472290039062,
                    84.5867691040039,
                    89.9403076171875,
                    96.68910217285156,
                    107.39887237548828,
                    107.80054473876953,
                    108.44105529785156,
                    111.18466186523438,
                    109.76232147216797,
                    106.7848129272461,
                    112.89134979248047,
                    113.18762969970703,
                    114.58824920654297
                  ]
                }
              ],
              "layout": {
                "legend": {
                  "orientation": "h"
                },
                "template": {
                  "data": {
                    "bar": [
                      {
                        "error_x": {
                          "color": "#2a3f5f"
                        },
                        "error_y": {
                          "color": "#2a3f5f"
                        },
                        "marker": {
                          "line": {
                            "color": "#E5ECF6",
                            "width": 0.5
                          },
                          "pattern": {
                            "fillmode": "overlay",
                            "size": 10,
                            "solidity": 0.2
                          }
                        },
                        "type": "bar"
                      }
                    ],
                    "barpolar": [
                      {
                        "marker": {
                          "line": {
                            "color": "#E5ECF6",
                            "width": 0.5
                          },
                          "pattern": {
                            "fillmode": "overlay",
                            "size": 10,
                            "solidity": 0.2
                          }
                        },
                        "type": "barpolar"
                      }
                    ],
                    "carpet": [
                      {
                        "aaxis": {
                          "endlinecolor": "#2a3f5f",
                          "gridcolor": "white",
                          "linecolor": "white",
                          "minorgridcolor": "white",
                          "startlinecolor": "#2a3f5f"
                        },
                        "baxis": {
                          "endlinecolor": "#2a3f5f",
                          "gridcolor": "white",
                          "linecolor": "white",
                          "minorgridcolor": "white",
                          "startlinecolor": "#2a3f5f"
                        },
                        "type": "carpet"
                      }
                    ],
                    "choropleth": [
                      {
                        "colorbar": {
                          "outlinewidth": 0,
                          "ticks": ""
                        },
                        "type": "choropleth"
                      }
                    ],
                    "contour": [
                      {
                        "colorbar": {
                          "outlinewidth": 0,
                          "ticks": ""
                        },
                        "colorscale": [
                          [
                            0,
                            "#0d0887"
                          ],
                          [
                            0.1111111111111111,
                            "#46039f"
                          ],
                          [
                            0.2222222222222222,
                            "#7201a8"
                          ],
                          [
                            0.3333333333333333,
                            "#9c179e"
                          ],
                          [
                            0.4444444444444444,
                            "#bd3786"
                          ],
                          [
                            0.5555555555555556,
                            "#d8576b"
                          ],
                          [
                            0.6666666666666666,
                            "#ed7953"
                          ],
                          [
                            0.7777777777777778,
                            "#fb9f3a"
                          ],
                          [
                            0.8888888888888888,
                            "#fdca26"
                          ],
                          [
                            1,
                            "#f0f921"
                          ]
                        ],
                        "type": "contour"
                      }
                    ],
                    "contourcarpet": [
                      {
                        "colorbar": {
                          "outlinewidth": 0,
                          "ticks": ""
                        },
                        "type": "contourcarpet"
                      }
                    ],
                    "heatmap": [
                      {
                        "colorbar": {
                          "outlinewidth": 0,
                          "ticks": ""
                        },
                        "colorscale": [
                          [
                            0,
                            "#0d0887"
                          ],
                          [
                            0.1111111111111111,
                            "#46039f"
                          ],
                          [
                            0.2222222222222222,
                            "#7201a8"
                          ],
                          [
                            0.3333333333333333,
                            "#9c179e"
                          ],
                          [
                            0.4444444444444444,
                            "#bd3786"
                          ],
                          [
                            0.5555555555555556,
                            "#d8576b"
                          ],
                          [
                            0.6666666666666666,
                            "#ed7953"
                          ],
                          [
                            0.7777777777777778,
                            "#fb9f3a"
                          ],
                          [
                            0.8888888888888888,
                            "#fdca26"
                          ],
                          [
                            1,
                            "#f0f921"
                          ]
                        ],
                        "type": "heatmap"
                      }
                    ],
                    "heatmapgl": [
                      {
                        "colorbar": {
                          "outlinewidth": 0,
                          "ticks": ""
                        },
                        "colorscale": [
                          [
                            0,
                            "#0d0887"
                          ],
                          [
                            0.1111111111111111,
                            "#46039f"
                          ],
                          [
                            0.2222222222222222,
                            "#7201a8"
                          ],
                          [
                            0.3333333333333333,
                            "#9c179e"
                          ],
                          [
                            0.4444444444444444,
                            "#bd3786"
                          ],
                          [
                            0.5555555555555556,
                            "#d8576b"
                          ],
                          [
                            0.6666666666666666,
                            "#ed7953"
                          ],
                          [
                            0.7777777777777778,
                            "#fb9f3a"
                          ],
                          [
                            0.8888888888888888,
                            "#fdca26"
                          ],
                          [
                            1,
                            "#f0f921"
                          ]
                        ],
                        "type": "heatmapgl"
                      }
                    ],
                    "histogram": [
                      {
                        "marker": {
                          "pattern": {
                            "fillmode": "overlay",
                            "size": 10,
                            "solidity": 0.2
                          }
                        },
                        "type": "histogram"
                      }
                    ],
                    "histogram2d": [
                      {
                        "colorbar": {
                          "outlinewidth": 0,
                          "ticks": ""
                        },
                        "colorscale": [
                          [
                            0,
                            "#0d0887"
                          ],
                          [
                            0.1111111111111111,
                            "#46039f"
                          ],
                          [
                            0.2222222222222222,
                            "#7201a8"
                          ],
                          [
                            0.3333333333333333,
                            "#9c179e"
                          ],
                          [
                            0.4444444444444444,
                            "#bd3786"
                          ],
                          [
                            0.5555555555555556,
                            "#d8576b"
                          ],
                          [
                            0.6666666666666666,
                            "#ed7953"
                          ],
                          [
                            0.7777777777777778,
                            "#fb9f3a"
                          ],
                          [
                            0.8888888888888888,
                            "#fdca26"
                          ],
                          [
                            1,
                            "#f0f921"
                          ]
                        ],
                        "type": "histogram2d"
                      }
                    ],
                    "histogram2dcontour": [
                      {
                        "colorbar": {
                          "outlinewidth": 0,
                          "ticks": ""
                        },
                        "colorscale": [
                          [
                            0,
                            "#0d0887"
                          ],
                          [
                            0.1111111111111111,
                            "#46039f"
                          ],
                          [
                            0.2222222222222222,
                            "#7201a8"
                          ],
                          [
                            0.3333333333333333,
                            "#9c179e"
                          ],
                          [
                            0.4444444444444444,
                            "#bd3786"
                          ],
                          [
                            0.5555555555555556,
                            "#d8576b"
                          ],
                          [
                            0.6666666666666666,
                            "#ed7953"
                          ],
                          [
                            0.7777777777777778,
                            "#fb9f3a"
                          ],
                          [
                            0.8888888888888888,
                            "#fdca26"
                          ],
                          [
                            1,
                            "#f0f921"
                          ]
                        ],
                        "type": "histogram2dcontour"
                      }
                    ],
                    "mesh3d": [
                      {
                        "colorbar": {
                          "outlinewidth": 0,
                          "ticks": ""
                        },
                        "type": "mesh3d"
                      }
                    ],
                    "parcoords": [
                      {
                        "line": {
                          "colorbar": {
                            "outlinewidth": 0,
                            "ticks": ""
                          }
                        },
                        "type": "parcoords"
                      }
                    ],
                    "pie": [
                      {
                        "automargin": true,
                        "type": "pie"
                      }
                    ],
                    "scatter": [
                      {
                        "fillpattern": {
                          "fillmode": "overlay",
                          "size": 10,
                          "solidity": 0.2
                        },
                        "type": "scatter"
                      }
                    ],
                    "scatter3d": [
                      {
                        "line": {
                          "colorbar": {
                            "outlinewidth": 0,
                            "ticks": ""
                          }
                        },
                        "marker": {
                          "colorbar": {
                            "outlinewidth": 0,
                            "ticks": ""
                          }
                        },
                        "type": "scatter3d"
                      }
                    ],
                    "scattercarpet": [
                      {
                        "marker": {
                          "colorbar": {
                            "outlinewidth": 0,
                            "ticks": ""
                          }
                        },
                        "type": "scattercarpet"
                      }
                    ],
                    "scattergeo": [
                      {
                        "marker": {
                          "colorbar": {
                            "outlinewidth": 0,
                            "ticks": ""
                          }
                        },
                        "type": "scattergeo"
                      }
                    ],
                    "scattergl": [
                      {
                        "marker": {
                          "colorbar": {
                            "outlinewidth": 0,
                            "ticks": ""
                          }
                        },
                        "type": "scattergl"
                      }
                    ],
                    "scattermapbox": [
                      {
                        "marker": {
                          "colorbar": {
                            "outlinewidth": 0,
                            "ticks": ""
                          }
                        },
                        "type": "scattermapbox"
                      }
                    ],
                    "scatterpolar": [
                      {
                        "marker": {
                          "colorbar": {
                            "outlinewidth": 0,
                            "ticks": ""
                          }
                        },
                        "type": "scatterpolar"
                      }
                    ],
                    "scatterpolargl": [
                      {
                        "marker": {
                          "colorbar": {
                            "outlinewidth": 0,
                            "ticks": ""
                          }
                        },
                        "type": "scatterpolargl"
                      }
                    ],
                    "scatterternary": [
                      {
                        "marker": {
                          "colorbar": {
                            "outlinewidth": 0,
                            "ticks": ""
                          }
                        },
                        "type": "scatterternary"
                      }
                    ],
                    "surface": [
                      {
                        "colorbar": {
                          "outlinewidth": 0,
                          "ticks": ""
                        },
                        "colorscale": [
                          [
                            0,
                            "#0d0887"
                          ],
                          [
                            0.1111111111111111,
                            "#46039f"
                          ],
                          [
                            0.2222222222222222,
                            "#7201a8"
                          ],
                          [
                            0.3333333333333333,
                            "#9c179e"
                          ],
                          [
                            0.4444444444444444,
                            "#bd3786"
                          ],
                          [
                            0.5555555555555556,
                            "#d8576b"
                          ],
                          [
                            0.6666666666666666,
                            "#ed7953"
                          ],
                          [
                            0.7777777777777778,
                            "#fb9f3a"
                          ],
                          [
                            0.8888888888888888,
                            "#fdca26"
                          ],
                          [
                            1,
                            "#f0f921"
                          ]
                        ],
                        "type": "surface"
                      }
                    ],
                    "table": [
                      {
                        "cells": {
                          "fill": {
                            "color": "#EBF0F8"
                          },
                          "line": {
                            "color": "white"
                          }
                        },
                        "header": {
                          "fill": {
                            "color": "#C8D4E3"
                          },
                          "line": {
                            "color": "white"
                          }
                        },
                        "type": "table"
                      }
                    ]
                  },
                  "layout": {
                    "annotationdefaults": {
                      "arrowcolor": "#2a3f5f",
                      "arrowhead": 0,
                      "arrowwidth": 1
                    },
                    "autotypenumbers": "strict",
                    "coloraxis": {
                      "colorbar": {
                        "outlinewidth": 0,
                        "ticks": ""
                      }
                    },
                    "colorscale": {
                      "diverging": [
                        [
                          0,
                          "#8e0152"
                        ],
                        [
                          0.1,
                          "#c51b7d"
                        ],
                        [
                          0.2,
                          "#de77ae"
                        ],
                        [
                          0.3,
                          "#f1b6da"
                        ],
                        [
                          0.4,
                          "#fde0ef"
                        ],
                        [
                          0.5,
                          "#f7f7f7"
                        ],
                        [
                          0.6,
                          "#e6f5d0"
                        ],
                        [
                          0.7,
                          "#b8e186"
                        ],
                        [
                          0.8,
                          "#7fbc41"
                        ],
                        [
                          0.9,
                          "#4d9221"
                        ],
                        [
                          1,
                          "#276419"
                        ]
                      ],
                      "sequential": [
                        [
                          0,
                          "#0d0887"
                        ],
                        [
                          0.1111111111111111,
                          "#46039f"
                        ],
                        [
                          0.2222222222222222,
                          "#7201a8"
                        ],
                        [
                          0.3333333333333333,
                          "#9c179e"
                        ],
                        [
                          0.4444444444444444,
                          "#bd3786"
                        ],
                        [
                          0.5555555555555556,
                          "#d8576b"
                        ],
                        [
                          0.6666666666666666,
                          "#ed7953"
                        ],
                        [
                          0.7777777777777778,
                          "#fb9f3a"
                        ],
                        [
                          0.8888888888888888,
                          "#fdca26"
                        ],
                        [
                          1,
                          "#f0f921"
                        ]
                      ],
                      "sequentialminus": [
                        [
                          0,
                          "#0d0887"
                        ],
                        [
                          0.1111111111111111,
                          "#46039f"
                        ],
                        [
                          0.2222222222222222,
                          "#7201a8"
                        ],
                        [
                          0.3333333333333333,
                          "#9c179e"
                        ],
                        [
                          0.4444444444444444,
                          "#bd3786"
                        ],
                        [
                          0.5555555555555556,
                          "#d8576b"
                        ],
                        [
                          0.6666666666666666,
                          "#ed7953"
                        ],
                        [
                          0.7777777777777778,
                          "#fb9f3a"
                        ],
                        [
                          0.8888888888888888,
                          "#fdca26"
                        ],
                        [
                          1,
                          "#f0f921"
                        ]
                      ]
                    },
                    "colorway": [
                      "#636efa",
                      "#EF553B",
                      "#00cc96",
                      "#ab63fa",
                      "#FFA15A",
                      "#19d3f3",
                      "#FF6692",
                      "#B6E880",
                      "#FF97FF",
                      "#FECB52"
                    ],
                    "font": {
                      "color": "#2a3f5f"
                    },
                    "geo": {
                      "bgcolor": "white",
                      "lakecolor": "white",
                      "landcolor": "#E5ECF6",
                      "showlakes": true,
                      "showland": true,
                      "subunitcolor": "white"
                    },
                    "hoverlabel": {
                      "align": "left"
                    },
                    "hovermode": "closest",
                    "mapbox": {
                      "style": "light"
                    },
                    "paper_bgcolor": "white",
                    "plot_bgcolor": "#E5ECF6",
                    "polar": {
                      "angularaxis": {
                        "gridcolor": "white",
                        "linecolor": "white",
                        "ticks": ""
                      },
                      "bgcolor": "#E5ECF6",
                      "radialaxis": {
                        "gridcolor": "white",
                        "linecolor": "white",
                        "ticks": ""
                      }
                    },
                    "scene": {
                      "xaxis": {
                        "backgroundcolor": "#E5ECF6",
                        "gridcolor": "white",
                        "gridwidth": 2,
                        "linecolor": "white",
                        "showbackground": true,
                        "ticks": "",
                        "zerolinecolor": "white"
                      },
                      "yaxis": {
                        "backgroundcolor": "#E5ECF6",
                        "gridcolor": "white",
                        "gridwidth": 2,
                        "linecolor": "white",
                        "showbackground": true,
                        "ticks": "",
                        "zerolinecolor": "white"
                      },
                      "zaxis": {
                        "backgroundcolor": "#E5ECF6",
                        "gridcolor": "white",
                        "gridwidth": 2,
                        "linecolor": "white",
                        "showbackground": true,
                        "ticks": "",
                        "zerolinecolor": "white"
                      }
                    },
                    "shapedefaults": {
                      "line": {
                        "color": "#2a3f5f"
                      }
                    },
                    "ternary": {
                      "aaxis": {
                        "gridcolor": "white",
                        "linecolor": "white",
                        "ticks": ""
                      },
                      "baxis": {
                        "gridcolor": "white",
                        "linecolor": "white",
                        "ticks": ""
                      },
                      "bgcolor": "#E5ECF6",
                      "caxis": {
                        "gridcolor": "white",
                        "linecolor": "white",
                        "ticks": ""
                      }
                    },
                    "title": {
                      "x": 0.05
                    },
                    "xaxis": {
                      "automargin": true,
                      "gridcolor": "white",
                      "linecolor": "white",
                      "ticks": "",
                      "title": {
                        "standoff": 15
                      },
                      "zerolinecolor": "white",
                      "zerolinewidth": 2
                    },
                    "yaxis": {
                      "automargin": true,
                      "gridcolor": "white",
                      "linecolor": "white",
                      "ticks": "",
                      "title": {
                        "standoff": 15
                      },
                      "zerolinecolor": "white",
                      "zerolinewidth": 2
                    }
                  }
                },
                "title": {
                  "text": "LVBI11"
                },
                "xaxis": {
                  "tickangle": 45,
                  "title": {
                    "text": "Data"
                  }
                },
                "yaxis": {
                  "tickformat": ".2f",
                  "title": {
                    "text": "Preço"
                  }
                }
              }
            }
          },
          "metadata": {},
          "output_type": "display_data"
        }
      ],
      "source": [
        "#grafico interativo\n",
        "import plotly.graph_objects as go\n",
        "trace1 = go.Scatter( x=dados['Data_Referencia'], y=dados['Valor_Patrimonial_Cotas'],\n",
        "                     name='Valor Patrimonial da cota (fonte: CVM)', mode='lines')\n",
        "trace2 = go.Scatter( x=dados['Data_Referencia'], y=dados['preco'],\n",
        "                     name='Preço (fonte: Yahoo Finance)', mode='lines')\n",
        "layout = go.Layout(title=fundo.upper(), xaxis=dict( title='Data', tickangle=45 ),\n",
        "                   yaxis=dict( title='Preço', tickformat='.2f' ),\n",
        "                   legend=dict(orientation=\"h\" ) )\n",
        "fig = go.Figure(data=[trace1, trace2], layout=layout)\n",
        "fig.show()"
      ]
    }
  ],
  "metadata": {
    "colab": {
      "provenance": []
    },
    "kernelspec": {
      "display_name": "Python 3",
      "name": "python3"
    },
    "language_info": {
      "codemirror_mode": {
        "name": "ipython",
        "version": 3
      },
      "file_extension": ".py",
      "mimetype": "text/x-python",
      "name": "python",
      "nbconvert_exporter": "python",
      "pygments_lexer": "ipython3",
      "version": "3.11.5"
    }
  },
  "nbformat": 4,
  "nbformat_minor": 0
}
