{
  "cells": [
    {
      "cell_type": "markdown",
      "metadata": {
        "colab_type": "text",
        "id": "view-in-github"
      },
      "source": [
        "<a href=\"https://colab.research.google.com/github/BDonadelli/Codigos-em-financas/blob/main/ListagemB3.ipynb\" target=\"_parent\"><img src=\"https://colab.research.google.com/assets/colab-badge.svg\" alt=\"Open In Colab\"/></a>"
      ]
    },
    {
      "cell_type": "code",
      "execution_count": 2,
      "metadata": {
        "colab": {
          "base_uri": "https://localhost:8080/"
        },
        "id": "FAm1szTggvxi",
        "outputId": "ee96ded3-3957-4e35-e514-9c9395433bbb"
      },
      "outputs": [],
      "source": [
        "## https://github.com/yongghongg/stock-symbol\n",
        "# !pip install stocksymbol\n",
        "from stocksymbol import StockSymbol\n",
        "import pandas as pd\n",
        "apikey='ad4a7b35-9b2c-41c8-bf8f-67a68380b8b6'\n",
        "ss = StockSymbol(apikey)\n",
        "list = pd.DataFrame(ss.get_symbol_list(market='BR'))"
      ]
    },
    {
      "cell_type": "code",
      "execution_count": 3,
      "metadata": {
        "colab": {
          "base_uri": "https://localhost:8080/",
          "height": 424
        },
        "id": "aDC7mk9Ahb5G",
        "outputId": "78c8f444-285a-4cd5-e52b-8a9936335ae7"
      },
      "outputs": [
        {
          "name": "stdout",
          "output_type": "stream",
          "text": [
            "         symbol            shortName  \\\n",
            "0     AAPL34.SA      APPLE       DRN   \n",
            "1     MSFT34.SA      MICROSOFT   DRN   \n",
            "2     GOGL34.SA    ALPHABET    DRN A   \n",
            "3     GOGL35.SA    ALPHABET    DRN C   \n",
            "4     AMZO34.SA      AMAZON      DRN   \n",
            "...         ...                  ...   \n",
            "1918  CXAG11.SA                  NaN   \n",
            "1919  XPLG11.SA   FII XP LOG  CI  ER   \n",
            "1920  GETT11.SA      GETNET BR   UNT   \n",
            "1921  VINO11.SA  FII VINCI OFCI  ERS   \n",
            "1922  PIBB11.SA       IT NOW PIBB CI   \n",
            "\n",
            "                                               longName exchange     market  \\\n",
            "0                                            Apple Inc.      SAO  br_market   \n",
            "1                                 Microsoft Corporation      SAO  br_market   \n",
            "2                                         Alphabet Inc.      SAO  br_market   \n",
            "3                                         Alphabet Inc.      SAO  br_market   \n",
            "4                                      Amazon.com, Inc.      SAO  br_market   \n",
            "...                                                 ...      ...        ...   \n",
            "1918   Fundo De Investimento Imobiliario Caixa Agencias      SAO  br_market   \n",
            "1919          Xp Log Fundo Investimento Imobiliario FII      SAO  br_market   \n",
            "1920  Getnet Adquirência e Serviços para Meios de Pa...      SAO  br_market   \n",
            "1921  Vinci Corporate Fundo De Investimento Imobiliario      SAO  br_market   \n",
            "1922                     It Now PIBB IBrX-50 Index Fund      SAO  br_market   \n",
            "\n",
            "     quoteType  \n",
            "0       EQUITY  \n",
            "1       EQUITY  \n",
            "2       EQUITY  \n",
            "3       EQUITY  \n",
            "4       EQUITY  \n",
            "...        ...  \n",
            "1918    EQUITY  \n",
            "1919    EQUITY  \n",
            "1920    EQUITY  \n",
            "1921    EQUITY  \n",
            "1922    EQUITY  \n",
            "\n",
            "[1923 rows x 6 columns]\n"
          ]
        }
      ],
      "source": [
        "print(list)"
      ]
    },
    {
      "cell_type": "code",
      "execution_count": null,
      "metadata": {
        "id": "MCSQzYkRib6d"
      },
      "outputs": [],
      "source": []
    }
  ],
  "metadata": {
    "colab": {
      "authorship_tag": "ABX9TyMr5ql6Xlh6kIWQq3AHQHs8",
      "include_colab_link": true,
      "provenance": []
    },
    "kernelspec": {
      "display_name": "Python 3",
      "name": "python3"
    },
    "language_info": {
      "codemirror_mode": {
        "name": "ipython",
        "version": 3
      },
      "file_extension": ".py",
      "mimetype": "text/x-python",
      "name": "python",
      "nbconvert_exporter": "python",
      "pygments_lexer": "ipython3",
      "version": "3.11.5"
    }
  },
  "nbformat": 4,
  "nbformat_minor": 0
}
