{
 "cells": [
  {
   "cell_type": "code",
   "execution_count": null,
   "metadata": {},
   "outputs": [],
   "source": [
    "from tvDatafeed import TvDatafeed, Interval\n",
    "from datetime import datetime, timedelta\n",
    "import pandas as pd\n",
    "\n",
    "username = 'jdonadelli'\n",
    "password = open('pass', 'r').read()\n",
    "\n",
    "tv = TvDatafeed(username, password)"
   ]
  },
  {
   "cell_type": "code",
   "execution_count": null,
   "metadata": {},
   "outputs": [],
   "source": [
    "# tv.search_symbol('PETR4','BMFBOVESPA')\n",
    "# df = tv.get_hist(symbol='PETR4',exchange='BMFBOVESPA',interval=Interval.in_5_minute, n_bars= 5000)\n",
    "# df.head(3)"
   ]
  },
  {
   "cell_type": "code",
   "execution_count": 9,
   "metadata": {},
   "outputs": [
    {
     "data": {
      "text/html": [
       "<div>\n",
       "<style scoped>\n",
       "    .dataframe tbody tr th:only-of-type {\n",
       "        vertical-align: middle;\n",
       "    }\n",
       "\n",
       "    .dataframe tbody tr th {\n",
       "        vertical-align: top;\n",
       "    }\n",
       "\n",
       "    .dataframe thead th {\n",
       "        text-align: right;\n",
       "    }\n",
       "</style>\n",
       "<table border=\"1\" class=\"dataframe\">\n",
       "  <thead>\n",
       "    <tr style=\"text-align: right;\">\n",
       "      <th></th>\n",
       "      <th>Código</th>\n",
       "      <th>Ação</th>\n",
       "      <th>Tipo</th>\n",
       "      <th>Qtde. Teórica</th>\n",
       "      <th>Part. (%)</th>\n",
       "    </tr>\n",
       "  </thead>\n",
       "  <tbody>\n",
       "    <tr>\n",
       "      <th>0</th>\n",
       "      <td>RRRP3</td>\n",
       "      <td>3R PETROLEUM</td>\n",
       "      <td>ON      NM</td>\n",
       "      <td>235661666</td>\n",
       "      <td>2.122</td>\n",
       "    </tr>\n",
       "    <tr>\n",
       "      <th>1</th>\n",
       "      <td>TTEN3</td>\n",
       "      <td>3TENTOS</td>\n",
       "      <td>ON      NM</td>\n",
       "      <td>113777586</td>\n",
       "      <td>0.402</td>\n",
       "    </tr>\n",
       "    <tr>\n",
       "      <th>2</th>\n",
       "      <td>ABCB4</td>\n",
       "      <td>ABC BRASIL</td>\n",
       "      <td>PN      N2</td>\n",
       "      <td>66485201</td>\n",
       "      <td>0.516</td>\n",
       "    </tr>\n",
       "    <tr>\n",
       "      <th>3</th>\n",
       "      <td>AERI3</td>\n",
       "      <td>AERIS</td>\n",
       "      <td>ON      NM</td>\n",
       "      <td>690257429</td>\n",
       "      <td>0.214</td>\n",
       "    </tr>\n",
       "    <tr>\n",
       "      <th>4</th>\n",
       "      <td>AESB3</td>\n",
       "      <td>AES BRASIL</td>\n",
       "      <td>ON      NM</td>\n",
       "      <td>317103937</td>\n",
       "      <td>1.253</td>\n",
       "    </tr>\n",
       "  </tbody>\n",
       "</table>\n",
       "</div>"
      ],
      "text/plain": [
       "  Código          Ação        Tipo  Qtde. Teórica  Part. (%)\n",
       "0  RRRP3  3R PETROLEUM  ON      NM      235661666      2.122\n",
       "1  TTEN3       3TENTOS  ON      NM      113777586      0.402\n",
       "2  ABCB4    ABC BRASIL  PN      N2       66485201      0.516\n",
       "3  AERI3         AERIS  ON      NM      690257429      0.214\n",
       "4  AESB3    AES BRASIL  ON      NM      317103937      1.253"
      ]
     },
     "execution_count": 9,
     "metadata": {},
     "output_type": "execute_result"
    }
   ],
   "source": [
    "url  = {'ibra50':'https://raw.githubusercontent.com/BDonadelli/Codigos-em-financas/main/data/IBXLDia_15-12-23.csv',\n",
    "        'ibra100':'https://raw.githubusercontent.com/BDonadelli/Codigos-em-financas/main/data/IBXXDia_15-12-23.csv',\n",
    "        'idiv':'https://raw.githubusercontent.com/BDonadelli/Codigos-em-financas/main/data/IDIVDia_15-12-23.csv',\n",
    "        'ibov':'https://raw.githubusercontent.com/BDonadelli/Codigos-em-financas/main/data/IBOVDia_15-12-23.csv',\n",
    "        'small':'https://raw.githubusercontent.com/BDonadelli/Codigos-em-financas/main/data/SMLLDia_15-12-23.csv'\n",
    "}\n",
    "\n",
    "indice = pd.read_csv(url['small'] ,\n",
    "                     sep=';' , decimal=',' , thousands='.' , header=1 , skiprows=0 , skipfooter=2 , encoding='latin-1',\n",
    "                     index_col=False , engine='python')\n",
    "\n",
    "indice.head()"
   ]
  },
  {
   "cell_type": "code",
   "execution_count": 10,
   "metadata": {},
   "outputs": [],
   "source": [
    "for idx,row in indice.iterrows():\n",
    "    i=row['Código']\n",
    "    if idx == 0:       \n",
    "        df =  tv.get_hist(symbol= i,exchange='BMFBOVESPA', n_bars= 800)\n",
    "        df.rename(columns={ 'open':i+'_open' , 'high' : i+'_high' , \n",
    "                       'low' : i+'_low' , 'close' : i+'_close',\n",
    "                       'volume' : i+'_volume'},inplace=True)\n",
    "        del df['symbol']\n",
    "    else:\n",
    "        df1 =  tv.get_hist(symbol= i,exchange='BMFBOVESPA', n_bars= 800)\n",
    "        df1.rename(columns={ 'open':i+'_open' , 'high' : i+'_high' , \n",
    "                       'low' : i+'_low' , 'close' : i+'_close',\n",
    "                       'volume' : i+'_volume'},inplace=True)\n",
    "        del df1['symbol']\n",
    "\n",
    "        df = pd.merge(df,df1,how='inner',left_index=True,right_index=True)\n",
    "\n",
    "df.to_csv(\"data/moment.csv\" , sep=';' , decimal='.')"
   ]
  }
 ],
 "metadata": {
  "kernelspec": {
   "display_name": "base",
   "language": "python",
   "name": "python3"
  },
  "language_info": {
   "codemirror_mode": {
    "name": "ipython",
    "version": 3
   },
   "file_extension": ".py",
   "mimetype": "text/x-python",
   "name": "python",
   "nbconvert_exporter": "python",
   "pygments_lexer": "ipython3",
   "version": "3.11.5"
  }
 },
 "nbformat": 4,
 "nbformat_minor": 2
}
