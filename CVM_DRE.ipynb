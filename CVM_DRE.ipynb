{
  "cells": [
    {
      "cell_type": "markdown",
      "metadata": {
        "id": "RjKO5A9UiuZP"
      },
      "source": [
        "### Demonstrativos financeiros\n",
        "\n",
        "Relatórios contábeis elaborados periodicamente pelas empresas. \n",
        "- Balanço Patrimonial Ativo (BPA)\n",
        "- Balanço Patrimonial Passivo (BPP)\n",
        "- Demonstração de Fluxo de Caixa - Método Direto (DFC-MD)\n",
        "- Demonstração de Fluxo de Caixa - Método Indireto (DFC-MI)\n",
        "- Demonstração das Mutações do Patrimônio Líquido (DMPL)\n",
        "- Demonstração de Resultado Abrangente (DRA)\n",
        "- Demonstração de Resultado (DRE)\n",
        "- Demonstração de Valor Adicionado (DVA)\n",
        "\n",
        "Uma companhia de capital aberto deve apurar as seguintes demonstrações em atendimento às exigências da Comissão de Valores Mobiliários (CVM), B3 e seus acionistas:\n",
        "\n",
        "*Demonstrações Financeiras Padronizadas* (DFP) – Este documento é composto por todos os demonstrativos financeiros referentes ao exercício social encerrado, e deve ser encaminhado ao final de cada trimestre de cada ano à CVM e à B3. https://dados.cvm.gov.br/dataset/cia_aberta-doc-dfp \n",
        "Deve ser entregue pelo emissor nacional em até 3 (três) meses contados do encerramento do exercício social ou na mesma data de envio das demonstrações financeiras, o que ocorrer primeiro.\n",
        "\n",
        "*Informações e Resultados Trimestrais* (ITR) – São elaborados e enviados por todas as companhias listadas em Bolsa de Valores para a CVM e B3 todo trimestre. A ITR tem por finalidade permitir que o investidor acompanhe o desempenho da empresa no trimestre. https://dados.cvm.gov.br/dataset/cia_aberta-doc-itr\n",
        "Deve ser entregue pelo emissor no prazo de 45 (quarenta e cinco) dias contados da data de encerramento\n",
        "de cada trimestre."
      ]
    },
    {
      "cell_type": "code",
      "execution_count": 2,
      "metadata": {},
      "outputs": [],
      "source": [
        "anual = True\n",
        "\n",
        "if anual :\n",
        "    dreP = 'dfp'\n",
        "else :\n",
        "    dreP = 'itr'\n",
        "\n",
        "ano_inicial = 2017\n",
        "ano_final = 2023    "
      ]
    },
    {
      "cell_type": "code",
      "execution_count": 11,
      "metadata": {},
      "outputs": [],
      "source": [
        "import pandas as pd # biblioteca para manipulação de dados e data frames\n",
        "from zipfile import ZipFile # biblioteca para extrair arquivo zipados\n",
        "import seaborn as sns\n",
        "sns.set()\n",
        "import os\n",
        "import urllib.request\n",
        "\n",
        "# Define a url dos dados da DFP\n",
        "url_cvm = f'https://dados.cvm.gov.br/dados/CIA_ABERTA/DOC/{dreP.upper()}/DADOS/'\n",
        "\n",
        "path_code = os.getcwd()\n",
        "path_data = path_code+'/data'\n",
        "\n",
        "if not os.path.exists(path_data):\n",
        "        os.makedirs(path_data)"
      ]
    },
    {
      "cell_type": "code",
      "execution_count": 13,
      "metadata": {},
      "outputs": [],
      "source": [
        "for ano in range(ano_inicial, ano_final + 1):\n",
        "   url = url_cvm+f'{dreP}_cia_aberta_{ano}.zip'\n",
        "   arquivo_local = os.path.join(path_data, os.path.basename(url))\n",
        "   urllib.request.urlretrieve(url, arquivo_local)\n",
        "#  # unzip\n",
        "   ZipFile(path_data+'/'+f'{dreP}_cia_aberta_{ano}.zip', 'r').extractall('data')"
      ]
    },
    {
      "cell_type": "code",
      "execution_count": null,
      "metadata": {},
      "outputs": [],
      "source": [
        "os.listdir(path_data)"
      ]
    },
    {
      "cell_type": "code",
      "execution_count": 25,
      "metadata": {
        "id": "RS6jDSAvlArX"
      },
      "outputs": [
        {
          "name": "stdout",
          "output_type": "stream",
          "text": [
            "dfp_cia_aberta_DRE_con_2020.csv\n",
            "dfp_cia_aberta_DRE_con_2021.csv\n",
            "dfp_cia_aberta_DRE_con_2022.csv\n",
            "dfp_cia_aberta_DRE_con_2023.csv\n"
          ]
        }
      ],
      "source": [
        "planilhas = 'DRE_con'\n",
        "dados_dre = pd.DataFrame()\n",
        "\n",
        "for ano in range(ano_inicial, ano_final+1):\n",
        "  arquivo_local = path_data+'/'+f'{dreP}_cia_aberta_{planilhas}_{ano}.csv'\n",
        "  demonstracao = pd.read_csv(arquivo_local, sep = ';', decimal = ',', \n",
        "                              encoding = 'ISO-8859-1',dtype = {\"ORDEM_EXERC\": \"category\"}) \n",
        "  frames=[dados_dre,demonstracao]\n",
        "  dados_dre = pd.concat(frames) \n",
        "  print(f'{dreP}_cia_aberta_{planilhas}_{ano}.csv')    \n",
        "\n",
        "dados_dre.to_csv(f'DRE_{ano_inicial}-{ano_final}.csv', index = False) "
      ]
    },
    {
      "cell_type": "code",
      "execution_count": 26,
      "metadata": {},
      "outputs": [],
      "source": [
        "dre = pd.read_csv(f'DRE_{ano_inicial}-{ano_final}.csv')"
      ]
    },
    {
      "cell_type": "code",
      "execution_count": 120,
      "metadata": {},
      "outputs": [
        {
          "data": {
            "text/html": [
              "<div>\n",
              "<style scoped>\n",
              "    .dataframe tbody tr th:only-of-type {\n",
              "        vertical-align: middle;\n",
              "    }\n",
              "\n",
              "    .dataframe tbody tr th {\n",
              "        vertical-align: top;\n",
              "    }\n",
              "\n",
              "    .dataframe thead th {\n",
              "        text-align: right;\n",
              "    }\n",
              "</style>\n",
              "<table border=\"1\" class=\"dataframe\">\n",
              "  <thead>\n",
              "    <tr style=\"text-align: right;\">\n",
              "      <th></th>\n",
              "      <th>CNPJ_CIA</th>\n",
              "      <th>DT_REFER</th>\n",
              "      <th>VERSAO</th>\n",
              "      <th>DENOM_CIA</th>\n",
              "      <th>CD_CVM</th>\n",
              "      <th>GRUPO_DFP</th>\n",
              "      <th>MOEDA</th>\n",
              "      <th>ESCALA_MOEDA</th>\n",
              "      <th>ORDEM_EXERC</th>\n",
              "      <th>DT_INI_EXERC</th>\n",
              "      <th>DT_FIM_EXERC</th>\n",
              "      <th>CD_CONTA</th>\n",
              "      <th>DS_CONTA</th>\n",
              "      <th>VL_CONTA</th>\n",
              "      <th>ST_CONTA_FIXA</th>\n",
              "    </tr>\n",
              "  </thead>\n",
              "  <tbody>\n",
              "    <tr>\n",
              "      <th>0</th>\n",
              "      <td>00.000.000/0001-91</td>\n",
              "      <td>2020-12-31</td>\n",
              "      <td>2</td>\n",
              "      <td>BCO BRASIL S.A.</td>\n",
              "      <td>1023</td>\n",
              "      <td>DF Consolidado - Demonstração do Resultado</td>\n",
              "      <td>REAL</td>\n",
              "      <td>MIL</td>\n",
              "      <td>PENÚLTIMO</td>\n",
              "      <td>2019-01-01</td>\n",
              "      <td>2019-12-31</td>\n",
              "      <td>3.01</td>\n",
              "      <td>Receitas de Intermediação Financeira</td>\n",
              "      <td>123105325.0</td>\n",
              "      <td>S</td>\n",
              "    </tr>\n",
              "    <tr>\n",
              "      <th>1</th>\n",
              "      <td>00.000.000/0001-91</td>\n",
              "      <td>2020-12-31</td>\n",
              "      <td>2</td>\n",
              "      <td>BCO BRASIL S.A.</td>\n",
              "      <td>1023</td>\n",
              "      <td>DF Consolidado - Demonstração do Resultado</td>\n",
              "      <td>REAL</td>\n",
              "      <td>MIL</td>\n",
              "      <td>ÚLTIMO</td>\n",
              "      <td>2020-01-01</td>\n",
              "      <td>2020-12-31</td>\n",
              "      <td>3.01</td>\n",
              "      <td>Receitas de Intermediação Financeira</td>\n",
              "      <td>98659704.0</td>\n",
              "      <td>S</td>\n",
              "    </tr>\n",
              "    <tr>\n",
              "      <th>2</th>\n",
              "      <td>00.000.000/0001-91</td>\n",
              "      <td>2020-12-31</td>\n",
              "      <td>2</td>\n",
              "      <td>BCO BRASIL S.A.</td>\n",
              "      <td>1023</td>\n",
              "      <td>DF Consolidado - Demonstração do Resultado</td>\n",
              "      <td>REAL</td>\n",
              "      <td>MIL</td>\n",
              "      <td>PENÚLTIMO</td>\n",
              "      <td>2019-01-01</td>\n",
              "      <td>2019-12-31</td>\n",
              "      <td>3.01.01</td>\n",
              "      <td>Receita de Juros</td>\n",
              "      <td>123105325.0</td>\n",
              "      <td>N</td>\n",
              "    </tr>\n",
              "  </tbody>\n",
              "</table>\n",
              "</div>"
            ],
            "text/plain": [
              "             CNPJ_CIA    DT_REFER  VERSAO        DENOM_CIA  CD_CVM  \\\n",
              "0  00.000.000/0001-91  2020-12-31       2  BCO BRASIL S.A.    1023   \n",
              "1  00.000.000/0001-91  2020-12-31       2  BCO BRASIL S.A.    1023   \n",
              "2  00.000.000/0001-91  2020-12-31       2  BCO BRASIL S.A.    1023   \n",
              "\n",
              "                                    GRUPO_DFP MOEDA ESCALA_MOEDA ORDEM_EXERC  \\\n",
              "0  DF Consolidado - Demonstração do Resultado  REAL          MIL   PENÚLTIMO   \n",
              "1  DF Consolidado - Demonstração do Resultado  REAL          MIL      ÚLTIMO   \n",
              "2  DF Consolidado - Demonstração do Resultado  REAL          MIL   PENÚLTIMO   \n",
              "\n",
              "  DT_INI_EXERC DT_FIM_EXERC CD_CONTA                              DS_CONTA  \\\n",
              "0   2019-01-01   2019-12-31     3.01  Receitas de Intermediação Financeira   \n",
              "1   2020-01-01   2020-12-31     3.01  Receitas de Intermediação Financeira   \n",
              "2   2019-01-01   2019-12-31  3.01.01                      Receita de Juros   \n",
              "\n",
              "      VL_CONTA ST_CONTA_FIXA  \n",
              "0  123105325.0             S  \n",
              "1   98659704.0             S  \n",
              "2  123105325.0             N  "
            ]
          },
          "execution_count": 120,
          "metadata": {},
          "output_type": "execute_result"
        }
      ],
      "source": [
        "dre.head(3)"
      ]
    },
    {
      "cell_type": "markdown",
      "metadata": {},
      "source": [
        "### escolher empresa"
      ]
    },
    {
      "cell_type": "code",
      "execution_count": 28,
      "metadata": {},
      "outputs": [
        {
          "data": {
            "text/html": [
              "<div>\n",
              "<style scoped>\n",
              "    .dataframe tbody tr th:only-of-type {\n",
              "        vertical-align: middle;\n",
              "    }\n",
              "\n",
              "    .dataframe tbody tr th {\n",
              "        vertical-align: top;\n",
              "    }\n",
              "\n",
              "    .dataframe thead th {\n",
              "        text-align: right;\n",
              "    }\n",
              "</style>\n",
              "<table border=\"1\" class=\"dataframe\">\n",
              "  <thead>\n",
              "    <tr style=\"text-align: right;\">\n",
              "      <th></th>\n",
              "      <th>DENOM_CIA</th>\n",
              "      <th>CD_CVM</th>\n",
              "    </tr>\n",
              "  </thead>\n",
              "  <tbody>\n",
              "    <tr>\n",
              "      <th>132</th>\n",
              "      <td>GERDAU S.A.</td>\n",
              "      <td>3980</td>\n",
              "    </tr>\n",
              "    <tr>\n",
              "      <th>188</th>\n",
              "      <td>METALURGICA GERDAU S.A.</td>\n",
              "      <td>8656</td>\n",
              "    </tr>\n",
              "  </tbody>\n",
              "</table>\n",
              "</div>"
            ],
            "text/plain": [
              "                   DENOM_CIA  CD_CVM\n",
              "132              GERDAU S.A.    3980\n",
              "188  METALURGICA GERDAU S.A.    8656"
            ]
          },
          "execution_count": 28,
          "metadata": {},
          "output_type": "execute_result"
        }
      ],
      "source": [
        "busca='gerdau'\n",
        "cvm = pd.read_csv(path_data+'/'+f'{dreP}_cia_aberta_{ano_final}.csv',sep=';',encoding = 'ISO-8859-1')\n",
        "cvm[cvm['DENOM_CIA'].str.contains(busca.upper())][['DENOM_CIA','CD_CVM']]\n"
      ]
    },
    {
      "cell_type": "code",
      "execution_count": 29,
      "metadata": {},
      "outputs": [],
      "source": [
        "cod_cvm=8656"
      ]
    },
    {
      "cell_type": "markdown",
      "metadata": {},
      "source": [
        "### escolher dados"
      ]
    },
    {
      "cell_type": "code",
      "execution_count": 149,
      "metadata": {},
      "outputs": [],
      "source": [
        "try:\n",
        "    tabela = pd.read_csv(path_data+'/'+f'{dreP}_cia_aberta_DRE_con_{ano_final}.csv', sep = \";\", encoding = 'ISO-8859-1',dtype = {\"ORDEM_EXERC\": \"category\"})\n",
        "except:\n",
        "      import requests\n",
        "      download = requests.get('https://dados.cvm.gov.br/dados/CIA_ABERTA/DOC/DFP/DADOS/dfp_cia_aberta_2023.zip')\n",
        "      open('dfp_cia_aberta_2023.zip', \"wb\").write(download.content)\n",
        "      arquivo_zip = ZipFile('dfp_cia_aberta_2023.zip')\n",
        "      tabela = pd.read_csv(arquivo_zip.open('dfp_cia_aberta_DRE_con_2023.csv'), sep = \";\", encoding = 'ISO-8859-1', dtype = {\"ORDEM_EXERC\": \"category\"})  \n",
        "\n",
        "tabela=tabela[(tabela.CD_CVM == cod_cvm)&(tabela.ORDEM_EXERC == 'ÚLTIMO')]"
      ]
    },
    {
      "cell_type": "code",
      "execution_count": 103,
      "metadata": {},
      "outputs": [
        {
          "data": {
            "text/plain": [
              "Index(['CNPJ_CIA', 'DT_REFER', 'VERSAO', 'DENOM_CIA', 'CD_CVM', 'GRUPO_DFP',\n",
              "       'MOEDA', 'ESCALA_MOEDA', 'ORDEM_EXERC', 'DT_INI_EXERC', 'DT_FIM_EXERC',\n",
              "       'CD_CONTA', 'DS_CONTA', 'VL_CONTA', 'ST_CONTA_FIXA'],\n",
              "      dtype='object')"
            ]
          },
          "execution_count": 103,
          "metadata": {},
          "output_type": "execute_result"
        }
      ],
      "source": [
        "tabela.columns"
      ]
    },
    {
      "cell_type": "code",
      "execution_count": 150,
      "metadata": {},
      "outputs": [
        {
          "data": {
            "text/plain": [
              "array(['Receita de Venda de Bens e/ou Serviços',\n",
              "       'Custo dos Bens e/ou Serviços Vendidos', 'Resultado Bruto',\n",
              "       'Despesas/Receitas Operacionais', 'Despesas com Vendas',\n",
              "       'Despesas Gerais e Administrativas',\n",
              "       'Perdas pela Não Recuperabilidade de Ativos',\n",
              "       'Outras Receitas Operacionais',\n",
              "       'Recuperação de empréstimos compulsórios Eletrobras',\n",
              "       'Ganhos pela não recuperabilidade de ativos financeiros',\n",
              "       'Outras Despesas Operacionais',\n",
              "       'Perdas pela não recuperabilidade de ativos financeiros',\n",
              "       'Perdas pela não recuperabilidade de ativos',\n",
              "       'Resultado em operações com controlada e empresas controladas em conjunto',\n",
              "       'Resultado de Equivalência Patrimonial',\n",
              "       'Resultado Antes do Resultado Financeiro e dos Tributos',\n",
              "       'Resultado Financeiro', 'Receitas Financeiras',\n",
              "       'Ganhos com instrumentos financeiros, líquido',\n",
              "       'Atualização de créditos tributários', 'Despesas Financeiras',\n",
              "       'Variação Cambial, líquida',\n",
              "       'Perdas com instrumentos financeiros, líquido',\n",
              "       'Despesas na recompra de Bonds',\n",
              "       'Resultado Antes dos Tributos sobre o Lucro',\n",
              "       'Imposto de Renda e Contribuição Social sobre o Lucro', 'Corrente',\n",
              "       'Diferido', 'Resultado Líquido das Operações Continuadas',\n",
              "       'Resultado Líquido de Operações Descontinuadas',\n",
              "       'Lucro/Prejuízo Líquido das Operações Descontinuadas',\n",
              "       'Ganhos/Perdas Líquidas sobre Ativos de Operações Descontinuadas',\n",
              "       'Lucro/Prejuízo Consolidado do Período',\n",
              "       'Atribuído a Sócios da Empresa Controladora',\n",
              "       'Atribuído a Sócios Não Controladores',\n",
              "       'Lucro por Ação - (Reais / Ação)', 'Lucro Básico por Ação', 'ON',\n",
              "       'PN', 'Lucro Diluído por Ação'], dtype=object)"
            ]
          },
          "execution_count": 150,
          "metadata": {},
          "output_type": "execute_result"
        }
      ],
      "source": [
        "tabela['DS_CONTA'].unique()"
      ]
    },
    {
      "cell_type": "code",
      "execution_count": 140,
      "metadata": {},
      "outputs": [
        {
          "data": {
            "text/html": [
              "<table border=\"1\" class=\"dataframe\">\n",
              "  <thead>\n",
              "    <tr style=\"text-align: right;\">\n",
              "      <th>CD_CONTA</th>\n",
              "      <th>DS_CONTA</th>\n",
              "      <th>VL_CONTA</th>\n",
              "    </tr>\n",
              "  </thead>\n",
              "  <tbody>\n",
              "    <tr>\n",
              "      <td>3.01</td>\n",
              "      <td>Receita de Venda de Bens e/ou Serviços</td>\n",
              "      <td>68916447.00</td>\n",
              "    </tr>\n",
              "    <tr>\n",
              "      <td>3.02</td>\n",
              "      <td>Custo dos Bens e/ou Serviços Vendidos</td>\n",
              "      <td>-57583992.00</td>\n",
              "    </tr>\n",
              "    <tr>\n",
              "      <td>3.03</td>\n",
              "      <td>Resultado Bruto</td>\n",
              "      <td>11332455.00</td>\n",
              "    </tr>\n",
              "    <tr>\n",
              "      <td>3.04</td>\n",
              "      <td>Despesas/Receitas Operacionais</td>\n",
              "      <td>-922633.00</td>\n",
              "    </tr>\n",
              "    <tr>\n",
              "      <td>3.04.01</td>\n",
              "      <td>Despesas com Vendas</td>\n",
              "      <td>-716195.00</td>\n",
              "    </tr>\n",
              "    <tr>\n",
              "      <td>3.04.02</td>\n",
              "      <td>Despesas Gerais e Administrativas</td>\n",
              "      <td>-1507048.00</td>\n",
              "    </tr>\n",
              "    <tr>\n",
              "      <td>3.04.03</td>\n",
              "      <td>Perdas pela Não Recuperabilidade de Ativos</td>\n",
              "      <td>0.00</td>\n",
              "    </tr>\n",
              "    <tr>\n",
              "      <td>3.04.04</td>\n",
              "      <td>Outras Receitas Operacionais</td>\n",
              "      <td>1033872.00</td>\n",
              "    </tr>\n",
              "    <tr>\n",
              "      <td>3.04.04.01</td>\n",
              "      <td>Outras Receitas Operacionais</td>\n",
              "      <td>1033872.00</td>\n",
              "    </tr>\n",
              "    <tr>\n",
              "      <td>3.04.04.02</td>\n",
              "      <td>Recuperação de empréstimos compulsórios Eletrobras</td>\n",
              "      <td>0.00</td>\n",
              "    </tr>\n",
              "    <tr>\n",
              "      <td>3.04.04.03</td>\n",
              "      <td>Ganhos pela não recuperabilidade de ativos financeiros</td>\n",
              "      <td>0.00</td>\n",
              "    </tr>\n",
              "    <tr>\n",
              "      <td>3.04.05</td>\n",
              "      <td>Outras Despesas Operacionais</td>\n",
              "      <td>-560868.00</td>\n",
              "    </tr>\n",
              "    <tr>\n",
              "      <td>3.04.05.01</td>\n",
              "      <td>Outras Despesas Operacionais</td>\n",
              "      <td>-550140.00</td>\n",
              "    </tr>\n",
              "    <tr>\n",
              "      <td>3.04.05.02</td>\n",
              "      <td>Perdas pela não recuperabilidade de ativos financeiros</td>\n",
              "      <td>-10728.00</td>\n",
              "    </tr>\n",
              "    <tr>\n",
              "      <td>3.04.05.03</td>\n",
              "      <td>Perdas pela não recuperabilidade de ativos</td>\n",
              "      <td>0.00</td>\n",
              "    </tr>\n",
              "    <tr>\n",
              "      <td>3.04.05.04</td>\n",
              "      <td>Resultado em operações com controlada e empresas controladas em conjunto</td>\n",
              "      <td>0.00</td>\n",
              "    </tr>\n",
              "    <tr>\n",
              "      <td>3.04.06</td>\n",
              "      <td>Resultado de Equivalência Patrimonial</td>\n",
              "      <td>827606.00</td>\n",
              "    </tr>\n",
              "    <tr>\n",
              "      <td>3.05</td>\n",
              "      <td>Resultado Antes do Resultado Financeiro e dos Tributos</td>\n",
              "      <td>10409822.00</td>\n",
              "    </tr>\n",
              "    <tr>\n",
              "      <td>3.06</td>\n",
              "      <td>Resultado Financeiro</td>\n",
              "      <td>-988172.00</td>\n",
              "    </tr>\n",
              "    <tr>\n",
              "      <td>3.06.01</td>\n",
              "      <td>Receitas Financeiras</td>\n",
              "      <td>1279680.00</td>\n",
              "    </tr>\n",
              "    <tr>\n",
              "      <td>3.06.01.01</td>\n",
              "      <td>Receitas Financeiras</td>\n",
              "      <td>1026678.00</td>\n",
              "    </tr>\n",
              "    <tr>\n",
              "      <td>3.06.01.02</td>\n",
              "      <td>Ganhos com instrumentos financeiros, líquido</td>\n",
              "      <td>0.00</td>\n",
              "    </tr>\n",
              "    <tr>\n",
              "      <td>3.06.01.03</td>\n",
              "      <td>Atualização de créditos tributários</td>\n",
              "      <td>253002.00</td>\n",
              "    </tr>\n",
              "    <tr>\n",
              "      <td>3.06.02</td>\n",
              "      <td>Despesas Financeiras</td>\n",
              "      <td>-2267852.00</td>\n",
              "    </tr>\n",
              "    <tr>\n",
              "      <td>3.06.02.01</td>\n",
              "      <td>Despesas Financeiras</td>\n",
              "      <td>-1402498.00</td>\n",
              "    </tr>\n",
              "    <tr>\n",
              "      <td>3.06.02.02</td>\n",
              "      <td>Variação Cambial, líquida</td>\n",
              "      <td>-850375.00</td>\n",
              "    </tr>\n",
              "    <tr>\n",
              "      <td>3.06.02.03</td>\n",
              "      <td>Perdas com instrumentos financeiros, líquido</td>\n",
              "      <td>-14979.00</td>\n",
              "    </tr>\n",
              "    <tr>\n",
              "      <td>3.06.02.04</td>\n",
              "      <td>Despesas na recompra de Bonds</td>\n",
              "      <td>0.00</td>\n",
              "    </tr>\n",
              "    <tr>\n",
              "      <td>3.07</td>\n",
              "      <td>Resultado Antes dos Tributos sobre o Lucro</td>\n",
              "      <td>9421650.00</td>\n",
              "    </tr>\n",
              "    <tr>\n",
              "      <td>3.08</td>\n",
              "      <td>Imposto de Renda e Contribuição Social sobre o Lucro</td>\n",
              "      <td>-1836556.00</td>\n",
              "    </tr>\n",
              "    <tr>\n",
              "      <td>3.08.01</td>\n",
              "      <td>Corrente</td>\n",
              "      <td>-1837393.00</td>\n",
              "    </tr>\n",
              "    <tr>\n",
              "      <td>3.08.02</td>\n",
              "      <td>Diferido</td>\n",
              "      <td>837.00</td>\n",
              "    </tr>\n",
              "    <tr>\n",
              "      <td>3.09</td>\n",
              "      <td>Resultado Líquido das Operações Continuadas</td>\n",
              "      <td>7585094.00</td>\n",
              "    </tr>\n",
              "    <tr>\n",
              "      <td>3.10</td>\n",
              "      <td>Resultado Líquido de Operações Descontinuadas</td>\n",
              "      <td>0.00</td>\n",
              "    </tr>\n",
              "    <tr>\n",
              "      <td>3.10.01</td>\n",
              "      <td>Lucro/Prejuízo Líquido das Operações Descontinuadas</td>\n",
              "      <td>0.00</td>\n",
              "    </tr>\n",
              "    <tr>\n",
              "      <td>3.10.02</td>\n",
              "      <td>Ganhos/Perdas Líquidas sobre Ativos de Operações Descontinuadas</td>\n",
              "      <td>0.00</td>\n",
              "    </tr>\n",
              "    <tr>\n",
              "      <td>3.11</td>\n",
              "      <td>Lucro/Prejuízo Consolidado do Período</td>\n",
              "      <td>7585094.00</td>\n",
              "    </tr>\n",
              "    <tr>\n",
              "      <td>3.11.01</td>\n",
              "      <td>Atribuído a Sócios da Empresa Controladora</td>\n",
              "      <td>2560346.00</td>\n",
              "    </tr>\n",
              "    <tr>\n",
              "      <td>3.11.02</td>\n",
              "      <td>Atribuído a Sócios Não Controladores</td>\n",
              "      <td>5024748.00</td>\n",
              "    </tr>\n",
              "    <tr>\n",
              "      <td>3.99</td>\n",
              "      <td>Lucro por Ação - (Reais / Ação)</td>\n",
              "      <td>0.00</td>\n",
              "    </tr>\n",
              "    <tr>\n",
              "      <td>3.99.01</td>\n",
              "      <td>Lucro Básico por Ação</td>\n",
              "      <td>0.00</td>\n",
              "    </tr>\n",
              "    <tr>\n",
              "      <td>3.99.01.01</td>\n",
              "      <td>ON</td>\n",
              "      <td>2.48</td>\n",
              "    </tr>\n",
              "    <tr>\n",
              "      <td>3.99.01.02</td>\n",
              "      <td>PN</td>\n",
              "      <td>2.48</td>\n",
              "    </tr>\n",
              "    <tr>\n",
              "      <td>3.99.02</td>\n",
              "      <td>Lucro Diluído por Ação</td>\n",
              "      <td>0.00</td>\n",
              "    </tr>\n",
              "    <tr>\n",
              "      <td>3.99.02.01</td>\n",
              "      <td>ON</td>\n",
              "      <td>2.48</td>\n",
              "    </tr>\n",
              "    <tr>\n",
              "      <td>3.99.02.02</td>\n",
              "      <td>PN</td>\n",
              "      <td>2.48</td>\n",
              "    </tr>\n",
              "  </tbody>\n",
              "</table>"
            ],
            "text/plain": [
              "<IPython.core.display.HTML object>"
            ]
          },
          "metadata": {},
          "output_type": "display_data"
        }
      ],
      "source": [
        "from IPython.display import display, HTML\n",
        "display(HTML(tabela[['CD_CONTA', 'DS_CONTA' , 'VL_CONTA']].to_html(index=False)))\n"
      ]
    },
    {
      "cell_type": "code",
      "execution_count": 144,
      "metadata": {},
      "outputs": [
        {
          "data": {
            "text/html": [
              "<div>\n",
              "<style scoped>\n",
              "    .dataframe tbody tr th:only-of-type {\n",
              "        vertical-align: middle;\n",
              "    }\n",
              "\n",
              "    .dataframe tbody tr th {\n",
              "        vertical-align: top;\n",
              "    }\n",
              "\n",
              "    .dataframe thead th {\n",
              "        text-align: right;\n",
              "    }\n",
              "</style>\n",
              "<table border=\"1\" class=\"dataframe\">\n",
              "  <thead>\n",
              "    <tr style=\"text-align: right;\">\n",
              "      <th></th>\n",
              "      <th>CD_CONTA</th>\n",
              "      <th>DS_CONTA</th>\n",
              "      <th>VL_CONTA</th>\n",
              "      <th>ESCALA_MOEDA</th>\n",
              "      <th>MOEDA</th>\n",
              "    </tr>\n",
              "  </thead>\n",
              "  <tbody>\n",
              "    <tr>\n",
              "      <th>6031</th>\n",
              "      <td>3.01</td>\n",
              "      <td>Receita de Venda de Bens e/ou Serviços</td>\n",
              "      <td>68916447.0</td>\n",
              "      <td>MIL</td>\n",
              "      <td>REAL</td>\n",
              "    </tr>\n",
              "  </tbody>\n",
              "</table>\n",
              "</div>"
            ],
            "text/plain": [
              "     CD_CONTA                                DS_CONTA    VL_CONTA  \\\n",
              "6031     3.01  Receita de Venda de Bens e/ou Serviços  68916447.0   \n",
              "\n",
              "     ESCALA_MOEDA MOEDA  \n",
              "6031          MIL  REAL  "
            ]
          },
          "execution_count": 144,
          "metadata": {},
          "output_type": "execute_result"
        }
      ],
      "source": [
        "tabela[(tabela['CD_CONTA'] == '3.01')][['CD_CONTA', 'DS_CONTA' , 'VL_CONTA' , 'ESCALA_MOEDA' , 'MOEDA']]#.drop_duplicates(subset=['DS_CONTA'])\n"
      ]
    },
    {
      "cell_type": "code",
      "execution_count": 145,
      "metadata": {},
      "outputs": [
        {
          "data": {
            "text/html": [
              "<div>\n",
              "<style scoped>\n",
              "    .dataframe tbody tr th:only-of-type {\n",
              "        vertical-align: middle;\n",
              "    }\n",
              "\n",
              "    .dataframe tbody tr th {\n",
              "        vertical-align: top;\n",
              "    }\n",
              "\n",
              "    .dataframe thead th {\n",
              "        text-align: right;\n",
              "    }\n",
              "</style>\n",
              "<table border=\"1\" class=\"dataframe\">\n",
              "  <thead>\n",
              "    <tr style=\"text-align: right;\">\n",
              "      <th></th>\n",
              "      <th>CD_CONTA</th>\n",
              "      <th>DS_CONTA</th>\n",
              "      <th>VL_CONTA</th>\n",
              "      <th>ESCALA_MOEDA</th>\n",
              "      <th>MOEDA</th>\n",
              "    </tr>\n",
              "  </thead>\n",
              "  <tbody>\n",
              "    <tr>\n",
              "      <th>6033</th>\n",
              "      <td>3.02</td>\n",
              "      <td>Custo dos Bens e/ou Serviços Vendidos</td>\n",
              "      <td>-57583992.0</td>\n",
              "      <td>MIL</td>\n",
              "      <td>REAL</td>\n",
              "    </tr>\n",
              "  </tbody>\n",
              "</table>\n",
              "</div>"
            ],
            "text/plain": [
              "     CD_CONTA                               DS_CONTA    VL_CONTA ESCALA_MOEDA  \\\n",
              "6033     3.02  Custo dos Bens e/ou Serviços Vendidos -57583992.0          MIL   \n",
              "\n",
              "     MOEDA  \n",
              "6033  REAL  "
            ]
          },
          "execution_count": 145,
          "metadata": {},
          "output_type": "execute_result"
        }
      ],
      "source": [
        "tabela[(tabela['CD_CONTA'] == '3.02')][['CD_CONTA', 'DS_CONTA' , 'VL_CONTA' , 'ESCALA_MOEDA' , 'MOEDA']]#.drop_duplicates(subset=['DS_CONTA'])\n"
      ]
    },
    {
      "cell_type": "code",
      "execution_count": 146,
      "metadata": {},
      "outputs": [
        {
          "data": {
            "text/html": [
              "<div>\n",
              "<style scoped>\n",
              "    .dataframe tbody tr th:only-of-type {\n",
              "        vertical-align: middle;\n",
              "    }\n",
              "\n",
              "    .dataframe tbody tr th {\n",
              "        vertical-align: top;\n",
              "    }\n",
              "\n",
              "    .dataframe thead th {\n",
              "        text-align: right;\n",
              "    }\n",
              "</style>\n",
              "<table border=\"1\" class=\"dataframe\">\n",
              "  <thead>\n",
              "    <tr style=\"text-align: right;\">\n",
              "      <th></th>\n",
              "      <th>CD_CONTA</th>\n",
              "      <th>DS_CONTA</th>\n",
              "      <th>VL_CONTA</th>\n",
              "      <th>ESCALA_MOEDA</th>\n",
              "      <th>MOEDA</th>\n",
              "    </tr>\n",
              "  </thead>\n",
              "  <tbody>\n",
              "    <tr>\n",
              "      <th>6103</th>\n",
              "      <td>3.11</td>\n",
              "      <td>Lucro/Prejuízo Consolidado do Período</td>\n",
              "      <td>7585094.0</td>\n",
              "      <td>MIL</td>\n",
              "      <td>REAL</td>\n",
              "    </tr>\n",
              "  </tbody>\n",
              "</table>\n",
              "</div>"
            ],
            "text/plain": [
              "     CD_CONTA                               DS_CONTA   VL_CONTA ESCALA_MOEDA  \\\n",
              "6103     3.11  Lucro/Prejuízo Consolidado do Período  7585094.0          MIL   \n",
              "\n",
              "     MOEDA  \n",
              "6103  REAL  "
            ]
          },
          "execution_count": 146,
          "metadata": {},
          "output_type": "execute_result"
        }
      ],
      "source": [
        "tabela[tabela['CD_CONTA'] == '3.11'][['CD_CONTA', 'DS_CONTA' , 'VL_CONTA' , 'ESCALA_MOEDA' , 'MOEDA']].drop_duplicates(subset=['DS_CONTA'])\n"
      ]
    },
    {
      "cell_type": "code",
      "execution_count": 147,
      "metadata": {},
      "outputs": [
        {
          "data": {
            "text/html": [
              "<div>\n",
              "<style scoped>\n",
              "    .dataframe tbody tr th:only-of-type {\n",
              "        vertical-align: middle;\n",
              "    }\n",
              "\n",
              "    .dataframe tbody tr th {\n",
              "        vertical-align: top;\n",
              "    }\n",
              "\n",
              "    .dataframe thead th {\n",
              "        text-align: right;\n",
              "    }\n",
              "</style>\n",
              "<table border=\"1\" class=\"dataframe\">\n",
              "  <thead>\n",
              "    <tr style=\"text-align: right;\">\n",
              "      <th></th>\n",
              "      <th>CD_CONTA</th>\n",
              "      <th>DS_CONTA</th>\n",
              "      <th>VL_CONTA</th>\n",
              "      <th>ESCALA_MOEDA</th>\n",
              "      <th>MOEDA</th>\n",
              "    </tr>\n",
              "  </thead>\n",
              "  <tbody>\n",
              "    <tr>\n",
              "      <th>6119</th>\n",
              "      <td>3.99.02.01</td>\n",
              "      <td>ON</td>\n",
              "      <td>2.48</td>\n",
              "      <td>MIL</td>\n",
              "      <td>REAL</td>\n",
              "    </tr>\n",
              "  </tbody>\n",
              "</table>\n",
              "</div>"
            ],
            "text/plain": [
              "        CD_CONTA DS_CONTA  VL_CONTA ESCALA_MOEDA MOEDA\n",
              "6119  3.99.02.01       ON      2.48          MIL  REAL"
            ]
          },
          "execution_count": 147,
          "metadata": {},
          "output_type": "execute_result"
        }
      ],
      "source": [
        "tabela[tabela['CD_CONTA'] == '3.99.02.01'][['CD_CONTA', 'DS_CONTA' , 'VL_CONTA' , 'ESCALA_MOEDA' , 'MOEDA']]#.drop_duplicates(subset=['DS_CONTA'])\n"
      ]
    },
    {
      "cell_type": "markdown",
      "metadata": {},
      "source": [
        "### pegando dados da empresa"
      ]
    },
    {
      "cell_type": "code",
      "execution_count": 154,
      "metadata": {},
      "outputs": [],
      "source": [
        "new_dre  = dre[(dre.CD_CVM == cod_cvm) & (dre.ORDEM_EXERC == 'ÚLTIMO')\n",
        "               & (dre.CD_CONTA.isin(['3.11', '3.01', '3.02', '3.99.02.01']))]"
      ]
    },
    {
      "cell_type": "code",
      "execution_count": 155,
      "metadata": {},
      "outputs": [
        {
          "data": {
            "text/html": [
              "<div>\n",
              "<style scoped>\n",
              "    .dataframe tbody tr th:only-of-type {\n",
              "        vertical-align: middle;\n",
              "    }\n",
              "\n",
              "    .dataframe tbody tr th {\n",
              "        vertical-align: top;\n",
              "    }\n",
              "\n",
              "    .dataframe thead th {\n",
              "        text-align: right;\n",
              "    }\n",
              "</style>\n",
              "<table border=\"1\" class=\"dataframe\">\n",
              "  <thead>\n",
              "    <tr style=\"text-align: right;\">\n",
              "      <th></th>\n",
              "      <th>DT_REFER</th>\n",
              "      <th>DS_CONTA</th>\n",
              "      <th>VL_CONTA</th>\n",
              "    </tr>\n",
              "  </thead>\n",
              "  <tbody>\n",
              "    <tr>\n",
              "      <th>30525</th>\n",
              "      <td>2020-12-31</td>\n",
              "      <td>Receita de Venda de Bens e/ou Serviços</td>\n",
              "      <td>43814661.00</td>\n",
              "    </tr>\n",
              "    <tr>\n",
              "      <th>30527</th>\n",
              "      <td>2020-12-31</td>\n",
              "      <td>Custo dos Bens e/ou Serviços Vendidos</td>\n",
              "      <td>-37884102.00</td>\n",
              "    </tr>\n",
              "    <tr>\n",
              "      <th>30585</th>\n",
              "      <td>2020-12-31</td>\n",
              "      <td>Lucro/Prejuízo Consolidado do Período</td>\n",
              "      <td>2383590.00</td>\n",
              "    </tr>\n",
              "    <tr>\n",
              "      <th>30601</th>\n",
              "      <td>2020-12-31</td>\n",
              "      <td>ON</td>\n",
              "      <td>0.81</td>\n",
              "    </tr>\n",
              "    <tr>\n",
              "      <th>63025</th>\n",
              "      <td>2021-12-31</td>\n",
              "      <td>Receita de Venda de Bens e/ou Serviços</td>\n",
              "      <td>78345081.00</td>\n",
              "    </tr>\n",
              "    <tr>\n",
              "      <th>63027</th>\n",
              "      <td>2021-12-31</td>\n",
              "      <td>Custo dos Bens e/ou Serviços Vendidos</td>\n",
              "      <td>-57527721.00</td>\n",
              "    </tr>\n",
              "    <tr>\n",
              "      <th>63097</th>\n",
              "      <td>2021-12-31</td>\n",
              "      <td>Lucro/Prejuízo Consolidado do Período</td>\n",
              "      <td>15554098.00</td>\n",
              "    </tr>\n",
              "    <tr>\n",
              "      <th>63113</th>\n",
              "      <td>2021-12-31</td>\n",
              "      <td>ON</td>\n",
              "      <td>4.68</td>\n",
              "    </tr>\n",
              "    <tr>\n",
              "      <th>96617</th>\n",
              "      <td>2022-12-31</td>\n",
              "      <td>Receita de Venda de Bens e/ou Serviços</td>\n",
              "      <td>82412210.00</td>\n",
              "    </tr>\n",
              "    <tr>\n",
              "      <th>96619</th>\n",
              "      <td>2022-12-31</td>\n",
              "      <td>Custo dos Bens e/ou Serviços Vendidos</td>\n",
              "      <td>-63661156.00</td>\n",
              "    </tr>\n",
              "    <tr>\n",
              "      <th>96689</th>\n",
              "      <td>2022-12-31</td>\n",
              "      <td>Lucro/Prejuízo Consolidado do Período</td>\n",
              "      <td>11462284.00</td>\n",
              "    </tr>\n",
              "    <tr>\n",
              "      <th>96705</th>\n",
              "      <td>2022-12-31</td>\n",
              "      <td>ON</td>\n",
              "      <td>3.52</td>\n",
              "    </tr>\n",
              "    <tr>\n",
              "      <th>103509</th>\n",
              "      <td>2023-12-31</td>\n",
              "      <td>Receita de Venda de Bens e/ou Serviços</td>\n",
              "      <td>68916447.00</td>\n",
              "    </tr>\n",
              "    <tr>\n",
              "      <th>103511</th>\n",
              "      <td>2023-12-31</td>\n",
              "      <td>Custo dos Bens e/ou Serviços Vendidos</td>\n",
              "      <td>-57583992.00</td>\n",
              "    </tr>\n",
              "    <tr>\n",
              "      <th>103581</th>\n",
              "      <td>2023-12-31</td>\n",
              "      <td>Lucro/Prejuízo Consolidado do Período</td>\n",
              "      <td>7585094.00</td>\n",
              "    </tr>\n",
              "    <tr>\n",
              "      <th>103597</th>\n",
              "      <td>2023-12-31</td>\n",
              "      <td>ON</td>\n",
              "      <td>2.48</td>\n",
              "    </tr>\n",
              "  </tbody>\n",
              "</table>\n",
              "</div>"
            ],
            "text/plain": [
              "          DT_REFER                                DS_CONTA     VL_CONTA\n",
              "30525   2020-12-31  Receita de Venda de Bens e/ou Serviços  43814661.00\n",
              "30527   2020-12-31   Custo dos Bens e/ou Serviços Vendidos -37884102.00\n",
              "30585   2020-12-31   Lucro/Prejuízo Consolidado do Período   2383590.00\n",
              "30601   2020-12-31                                      ON         0.81\n",
              "63025   2021-12-31  Receita de Venda de Bens e/ou Serviços  78345081.00\n",
              "63027   2021-12-31   Custo dos Bens e/ou Serviços Vendidos -57527721.00\n",
              "63097   2021-12-31   Lucro/Prejuízo Consolidado do Período  15554098.00\n",
              "63113   2021-12-31                                      ON         4.68\n",
              "96617   2022-12-31  Receita de Venda de Bens e/ou Serviços  82412210.00\n",
              "96619   2022-12-31   Custo dos Bens e/ou Serviços Vendidos -63661156.00\n",
              "96689   2022-12-31   Lucro/Prejuízo Consolidado do Período  11462284.00\n",
              "96705   2022-12-31                                      ON         3.52\n",
              "103509  2023-12-31  Receita de Venda de Bens e/ou Serviços  68916447.00\n",
              "103511  2023-12-31   Custo dos Bens e/ou Serviços Vendidos -57583992.00\n",
              "103581  2023-12-31   Lucro/Prejuízo Consolidado do Período   7585094.00\n",
              "103597  2023-12-31                                      ON         2.48"
            ]
          },
          "execution_count": 155,
          "metadata": {},
          "output_type": "execute_result"
        }
      ],
      "source": [
        "# DRE\n",
        "## Filtra as contas, a empresa e a ordem do exercício\n",
        "new_dre[['DT_REFER', 'DS_CONTA', 'VL_CONTA']]\n"
      ]
    },
    {
      "cell_type": "code",
      "execution_count": 158,
      "metadata": {
        "colab": {
          "base_uri": "https://localhost:8080/",
          "height": 394
        },
        "id": "87XMOHFzySob",
        "outputId": "2799ba40-2f45-429f-f1a4-a39783505c25"
      },
      "outputs": [
        {
          "data": {
            "text/html": [
              "<div>\n",
              "<style scoped>\n",
              "    .dataframe tbody tr th:only-of-type {\n",
              "        vertical-align: middle;\n",
              "    }\n",
              "\n",
              "    .dataframe tbody tr th {\n",
              "        vertical-align: top;\n",
              "    }\n",
              "\n",
              "    .dataframe thead th {\n",
              "        text-align: right;\n",
              "    }\n",
              "</style>\n",
              "<table border=\"1\" class=\"dataframe\">\n",
              "  <thead>\n",
              "    <tr style=\"text-align: right;\">\n",
              "      <th>DS_CONTA</th>\n",
              "      <th>Custo dos Bens e/ou Serviços Vendidos</th>\n",
              "      <th>Lucro/Prejuízo Consolidado do Período</th>\n",
              "      <th>LPA</th>\n",
              "      <th>Receita de Venda de Bens e/ou Serviços</th>\n",
              "    </tr>\n",
              "    <tr>\n",
              "      <th>DT_REFER</th>\n",
              "      <th></th>\n",
              "      <th></th>\n",
              "      <th></th>\n",
              "      <th></th>\n",
              "    </tr>\n",
              "  </thead>\n",
              "  <tbody>\n",
              "    <tr>\n",
              "      <th>2020-12-31</th>\n",
              "      <td>-37884102.0</td>\n",
              "      <td>2383590.0</td>\n",
              "      <td>0.81</td>\n",
              "      <td>43814661.0</td>\n",
              "    </tr>\n",
              "    <tr>\n",
              "      <th>2021-12-31</th>\n",
              "      <td>-57527721.0</td>\n",
              "      <td>15554098.0</td>\n",
              "      <td>4.68</td>\n",
              "      <td>78345081.0</td>\n",
              "    </tr>\n",
              "    <tr>\n",
              "      <th>2022-12-31</th>\n",
              "      <td>-63661156.0</td>\n",
              "      <td>11462284.0</td>\n",
              "      <td>3.52</td>\n",
              "      <td>82412210.0</td>\n",
              "    </tr>\n",
              "    <tr>\n",
              "      <th>2023-12-31</th>\n",
              "      <td>-57583992.0</td>\n",
              "      <td>7585094.0</td>\n",
              "      <td>2.48</td>\n",
              "      <td>68916447.0</td>\n",
              "    </tr>\n",
              "  </tbody>\n",
              "</table>\n",
              "</div>"
            ],
            "text/plain": [
              "DS_CONTA    Custo dos Bens e/ou Serviços Vendidos  \\\n",
              "DT_REFER                                            \n",
              "2020-12-31                            -37884102.0   \n",
              "2021-12-31                            -57527721.0   \n",
              "2022-12-31                            -63661156.0   \n",
              "2023-12-31                            -57583992.0   \n",
              "\n",
              "DS_CONTA    Lucro/Prejuízo Consolidado do Período   LPA  \\\n",
              "DT_REFER                                                  \n",
              "2020-12-31                              2383590.0  0.81   \n",
              "2021-12-31                             15554098.0  4.68   \n",
              "2022-12-31                             11462284.0  3.52   \n",
              "2023-12-31                              7585094.0  2.48   \n",
              "\n",
              "DS_CONTA    Receita de Venda de Bens e/ou Serviços  \n",
              "DT_REFER                                            \n",
              "2020-12-31                              43814661.0  \n",
              "2021-12-31                              78345081.0  \n",
              "2022-12-31                              82412210.0  \n",
              "2023-12-31                              68916447.0  "
            ]
          },
          "execution_count": 158,
          "metadata": {},
          "output_type": "execute_result"
        }
      ],
      "source": [
        "# Tratamento dos dados para a visualização\n",
        "sub_dre_pivot = new_dre[['DT_REFER', 'DS_CONTA', 'VL_CONTA' ]].pivot_table(index = 'DT_REFER', columns = 'DS_CONTA', values = 'VL_CONTA')\n",
        "sub_dre_pivot.rename(columns={'ON':'LPA'},inplace=True)\n",
        "sub_dre_pivot"
      ]
    },
    {
      "cell_type": "code",
      "execution_count": 165,
      "metadata": {
        "colab": {
          "base_uri": "https://localhost:8080/",
          "height": 589
        },
        "id": "12yXH6UnyT47",
        "outputId": "d417267c-0215-4524-d083-6c6927f55c66"
      },
      "outputs": [
        {
          "data": {
            "text/plain": [
              "<matplotlib.legend.Legend at 0x7f33d55f5b50>"
            ]
          },
          "execution_count": 165,
          "metadata": {},
          "output_type": "execute_result"
        },
        {
          "data": {
            "image/png": "[encoded data removed]",
            "text/plain": [
              "<Figure size 1500x600 with 1 Axes>"
            ]
          },
          "metadata": {},
          "output_type": "display_data"
        }
      ],
      "source": [
        "# Cria o gráfico da DRE\n",
        "ax = sub_dre_pivot.drop(['LPA' , 'Lucro/Prejuízo Consolidado do Período'], axis = 1).plot(kind = 'bar', stacked = True) # retira a coluna de lucro/prejuízo e plota o gráfico de barras empilhados\n",
        "g = sub_dre_pivot[['Lucro/Prejuízo Consolidado do Período']].plot(ax = ax, color = ['black'], figsize = (15, 6)) # usa somente a coluna de lucro/prejuiízo e plota\n",
        "\n",
        "g.set(xlabel = 'Data', ylabel = 'R$', title = f'Demonstrações de Resultado {busca.upper()}')\n",
        "g.legend(loc = 'best')"
      ]
    },
    {
      "cell_type": "code",
      "execution_count": 169,
      "metadata": {},
      "outputs": [
        {
          "data": {
            "text/plain": [
              "<matplotlib.legend.Legend at 0x7f33d5a5ae90>"
            ]
          },
          "execution_count": 169,
          "metadata": {},
          "output_type": "execute_result"
        },
        {
          "data": {
            "image/png": "[encoded data removed]",
            "text/plain": [
              "<Figure size 1500x600 with 1 Axes>"
            ]
          },
          "metadata": {},
          "output_type": "display_data"
        }
      ],
      "source": [
        "g = sub_dre_pivot[['LPA']].plot( color = ['black'], figsize = (15, 6)) \n",
        "g.set(xlabel = 'Data', ylabel = 'LPA', title = f'Lucro por ação {busca.upper()}')\n",
        "g.legend(loc = 'best')"
      ]
    },
    {
      "cell_type": "code",
      "execution_count": 167,
      "metadata": {},
      "outputs": [],
      "source": [
        "if input('delete ? : (s/n)') == 's' :\n",
        "    import glob\n",
        "    for f in glob.glob(f\"data/{dreP}*.zip\"):\n",
        "        os.remove(f)   \n",
        "    for f in glob.glob(f\"data/{dreP}*.csv\"):\n",
        "        os.remove(f)   \n"
      ]
    }
  ],
  "metadata": {
    "colab": {
      "provenance": []
    },
    "kernelspec": {
      "display_name": "Python 3",
      "name": "python3"
    },
    "language_info": {
      "codemirror_mode": {
        "name": "ipython",
        "version": 3
      },
      "file_extension": ".py",
      "mimetype": "text/x-python",
      "name": "python",
      "nbconvert_exporter": "python",
      "pygments_lexer": "ipython3",
      "version": "3.11.5"
    }
  },
  "nbformat": 4,
  "nbformat_minor": 0
}
