{
 "cells": [
  {
   "cell_type": "code",
   "execution_count": 2,
   "metadata": {},
   "outputs": [],
   "source": [
    "codigo  = str(input('ticker: '))\n",
    "periodo = 'max' #@param ['1d','5d','1mo','3mo','6mo','1y','2y','3y','5y','10y','ytd','max']\n",
    "codigo = codigo.upper()"
   ]
  },
  {
   "cell_type": "code",
   "execution_count": 1,
   "metadata": {},
   "outputs": [],
   "source": [
    "import warnings\n",
    "warnings.filterwarnings('ignore')\n",
    "from datetime import datetime, date\n",
    "import numpy as np\n",
    "import pandas as pd\n",
    "import yfinance as yf"
   ]
  },
  {
   "cell_type": "code",
   "execution_count": null,
   "metadata": {},
   "outputs": [],
   "source": []
  },
  {
   "cell_type": "code",
   "execution_count": null,
   "metadata": {},
   "outputs": [],
   "source": [
    "tk_info = yf.Ticker(codigo+\".sa\")\n",
    "info = tk_info.get_info()\n",
    "info"
   ]
  },
  {
   "cell_type": "code",
   "execution_count": 39,
   "metadata": {},
   "outputs": [],
   "source": [
    "stats = [\"EBIT\" , #\"Earnings before interest and taxes\",\n",
    "         \"Market cap (intra-day)\",\n",
    "         \"Net Income Common Stockholders\" , #\"Net income applicable to common shares\",\n",
    "         \"Total cash flow from operating activities\",\n",
    "         \"Capital expenditure\",\n",
    "         \"Total current assets\",\n",
    "         \"Total current liabilities\",\n",
    "         \"Property plant and equipment\",\n",
    "         \"Total stockholder equity\",\n",
    "         \"Long-term debt\",\n",
    "         \"Preferred stock\",\n",
    "         \"Minority interest\",\n",
    "         \"Forward annual dividend yield\"] # change as required\n",
    "\n",
    "indx = [\"EBIT\",\"MarketCap\",\"NetIncome\",\"CashFlowOps\",\"Capex\",\"CurrAsset\",\n",
    "        \"CurrLiab\",\"PPE\",\"BookValue\",\"TotDebt\",\"PrefStock\",\"MinInterest\",\"DivYield\"]"
   ]
  },
  {
   "cell_type": "code",
   "execution_count": 32,
   "metadata": {},
   "outputs": [],
   "source": [
    "for i in indx : \n",
    "    try: print(dict_4[i])\n",
    "    except: pass"
   ]
  },
  {
   "cell_type": "code",
   "execution_count": 66,
   "metadata": {},
   "outputs": [],
   "source": [
    "dict_0 = tk_info.info\n",
    "dict_1 = tk_info.balance_sheet\n",
    "dict_2 = tk_info.cash_flow\n",
    "dict_3 = tk_info.financials\n",
    "# dict_4 = {**dict_1,**dict_2,**dict_3}\n",
    "df=pd.DataFrame( {**tk_info.balance_sheet , **tk_info.cash_flow , **tk_info.financials } )"
   ]
  },
  {
   "cell_type": "code",
   "execution_count": 68,
   "metadata": {},
   "outputs": [
    {
     "data": {
      "text/plain": [
       "['address1',\n",
       " 'city',\n",
       " 'state',\n",
       " 'zip',\n",
       " 'country',\n",
       " 'phone',\n",
       " 'website',\n",
       " 'industry',\n",
       " 'industryKey',\n",
       " 'industryDisp',\n",
       " 'sector',\n",
       " 'sectorKey',\n",
       " 'sectorDisp',\n",
       " 'longBusinessSummary',\n",
       " 'fullTimeEmployees',\n",
       " 'companyOfficers',\n",
       " 'auditRisk',\n",
       " 'boardRisk',\n",
       " 'compensationRisk',\n",
       " 'shareHolderRightsRisk',\n",
       " 'overallRisk',\n",
       " 'governanceEpochDate',\n",
       " 'maxAge',\n",
       " 'priceHint',\n",
       " 'previousClose',\n",
       " 'open',\n",
       " 'dayLow',\n",
       " 'dayHigh',\n",
       " 'regularMarketPreviousClose',\n",
       " 'regularMarketOpen',\n",
       " 'regularMarketDayLow',\n",
       " 'regularMarketDayHigh',\n",
       " 'dividendRate',\n",
       " 'dividendYield',\n",
       " 'exDividendDate',\n",
       " 'payoutRatio',\n",
       " 'fiveYearAvgDividendYield',\n",
       " 'beta',\n",
       " 'trailingPE',\n",
       " 'forwardPE',\n",
       " 'volume',\n",
       " 'regularMarketVolume',\n",
       " 'averageVolume',\n",
       " 'averageVolume10days',\n",
       " 'averageDailyVolume10Day',\n",
       " 'bid',\n",
       " 'ask',\n",
       " 'bidSize',\n",
       " 'askSize',\n",
       " 'marketCap',\n",
       " 'fiftyTwoWeekLow',\n",
       " 'fiftyTwoWeekHigh',\n",
       " 'priceToSalesTrailing12Months',\n",
       " 'fiftyDayAverage',\n",
       " 'twoHundredDayAverage',\n",
       " 'trailingAnnualDividendRate',\n",
       " 'trailingAnnualDividendYield',\n",
       " 'currency',\n",
       " 'enterpriseValue',\n",
       " 'profitMargins',\n",
       " 'floatShares',\n",
       " 'sharesOutstanding',\n",
       " 'heldPercentInsiders',\n",
       " 'heldPercentInstitutions',\n",
       " 'impliedSharesOutstanding',\n",
       " 'bookValue',\n",
       " 'priceToBook',\n",
       " 'lastFiscalYearEnd',\n",
       " 'nextFiscalYearEnd',\n",
       " 'mostRecentQuarter',\n",
       " 'earningsQuarterlyGrowth',\n",
       " 'netIncomeToCommon',\n",
       " 'trailingEps',\n",
       " 'forwardEps',\n",
       " 'pegRatio',\n",
       " 'lastSplitFactor',\n",
       " 'lastSplitDate',\n",
       " 'enterpriseToRevenue',\n",
       " 'enterpriseToEbitda',\n",
       " '52WeekChange',\n",
       " 'SandP52WeekChange',\n",
       " 'lastDividendValue',\n",
       " 'lastDividendDate',\n",
       " 'exchange',\n",
       " 'quoteType',\n",
       " 'symbol',\n",
       " 'underlyingSymbol',\n",
       " 'shortName',\n",
       " 'longName',\n",
       " 'firstTradeDateEpochUtc',\n",
       " 'timeZoneFullName',\n",
       " 'timeZoneShortName',\n",
       " 'uuid',\n",
       " 'messageBoardId',\n",
       " 'gmtOffSetMilliseconds',\n",
       " 'currentPrice',\n",
       " 'targetHighPrice',\n",
       " 'targetLowPrice',\n",
       " 'targetMeanPrice',\n",
       " 'targetMedianPrice',\n",
       " 'recommendationMean',\n",
       " 'recommendationKey',\n",
       " 'numberOfAnalystOpinions',\n",
       " 'totalCash',\n",
       " 'totalCashPerShare',\n",
       " 'ebitda',\n",
       " 'totalDebt',\n",
       " 'quickRatio',\n",
       " 'currentRatio',\n",
       " 'totalRevenue',\n",
       " 'debtToEquity',\n",
       " 'revenuePerShare',\n",
       " 'returnOnAssets',\n",
       " 'returnOnEquity',\n",
       " 'freeCashflow',\n",
       " 'operatingCashflow',\n",
       " 'earningsGrowth',\n",
       " 'revenueGrowth',\n",
       " 'grossMargins',\n",
       " 'ebitdaMargins',\n",
       " 'operatingMargins',\n",
       " 'financialCurrency',\n",
       " 'trailingPegRatio']"
      ]
     },
     "execution_count": 68,
     "metadata": {},
     "output_type": "execute_result"
    }
   ],
   "source": [
    "list(dict_0.keys())"
   ]
  },
  {
   "cell_type": "code",
   "execution_count": 47,
   "metadata": {},
   "outputs": [
    {
     "data": {
      "text/plain": [
       "Index(['Tax Effect Of Unusual Items', 'Tax Rate For Calcs',\n",
       "       'Normalized EBITDA', 'Total Unusual Items',\n",
       "       'Total Unusual Items Excluding Goodwill',\n",
       "       'Net Income From Continuing Operation Net Minority Interest',\n",
       "       'Reconciled Depreciation', 'Reconciled Cost Of Revenue', 'EBITDA',\n",
       "       'EBIT', 'Net Interest Income', 'Interest Expense', 'Interest Income',\n",
       "       'Normalized Income',\n",
       "       'Net Income From Continuing And Discontinued Operation',\n",
       "       'Total Expenses', 'Diluted Average Shares', 'Basic Average Shares',\n",
       "       'Diluted EPS', 'Basic EPS', 'Diluted NI Availto Com Stockholders',\n",
       "       'Net Income Common Stockholders', 'Otherunder Preferred Stock Dividend',\n",
       "       'Net Income', 'Minority Interests',\n",
       "       'Net Income Including Noncontrolling Interests',\n",
       "       'Net Income Continuous Operations', 'Tax Provision', 'Pretax Income',\n",
       "       'Special Income Charges', 'Restructuring And Mergern Acquisition',\n",
       "       'Net Non Operating Interest Income Expense', 'Total Other Finance Cost',\n",
       "       'Interest Expense Non Operating', 'Interest Income Non Operating',\n",
       "       'Operating Income', 'Operating Expense', 'Other Operating Expenses',\n",
       "       'Selling General And Administration', 'Selling And Marketing Expense',\n",
       "       'General And Administrative Expense', 'Gross Profit', 'Cost Of Revenue',\n",
       "       'Total Revenue', 'Operating Revenue'],\n",
       "      dtype='object')"
      ]
     },
     "execution_count": 47,
     "metadata": {},
     "output_type": "execute_result"
    }
   ],
   "source": [
    "df.index"
   ]
  },
  {
   "cell_type": "code",
   "execution_count": null,
   "metadata": {},
   "outputs": [],
   "source": []
  }
 ],
 "metadata": {
  "kernelspec": {
   "display_name": "base",
   "language": "python",
   "name": "python3"
  },
  "language_info": {
   "codemirror_mode": {
    "name": "ipython",
    "version": 3
   },
   "file_extension": ".py",
   "mimetype": "text/x-python",
   "name": "python",
   "nbconvert_exporter": "python",
   "pygments_lexer": "ipython3",
   "version": "3.11.5"
  }
 },
 "nbformat": 4,
 "nbformat_minor": 2
}