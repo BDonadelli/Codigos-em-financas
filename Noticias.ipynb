{
  "nbformat": 4,
  "nbformat_minor": 0,
  "metadata": {
    "colab": {
      "provenance": [],
      "authorship_tag": "ABX9TyPqhsb6quxg6Xypnudpi0QA",
      "include_colab_link": true
    },
    "kernelspec": {
      "name": "python3",
      "display_name": "Python 3"
    },
    "language_info": {
      "name": "python"
    }
  },
  "cells": [
    {
      "cell_type": "markdown",
      "metadata": {
        "id": "view-in-github",
        "colab_type": "text"
      },
      "source": [
        "<a href=\"https://colab.research.google.com/github/BDonadelli/Codigos-em-financas/blob/main/Noticias.ipynb\" target=\"_parent\"><img src=\"https://colab.research.google.com/assets/colab-badge.svg\" alt=\"Open In Colab\"/></a>"
      ]
    },
    {
      "cell_type": "code",
      "source": [
        "busca = input()"
      ],
      "metadata": {
        "id": "BdV1Ui_xl_36"
      },
      "execution_count": null,
      "outputs": []
    },
    {
      "cell_type": "code",
      "execution_count": 12,
      "metadata": {
        "id": "AraRtwosvHj2"
      },
      "outputs": [],
      "source": [
        "import requests\n",
        "from bs4 import BeautifulSoup"
      ]
    },
    {
      "cell_type": "code",
      "source": [
        "URLs = [\n",
        "        'https://bmcnews.com.br/categoria/analises/', # BMC Analises\n",
        "        'https://bmcnews.com.br/categoria/economia/', # BMC Economia\n",
        "        'https://bmcnews.com.br/categoria/mercados/', # BMC Mercados\n",
        "        'https://bmcnews.com.br/ultimas-noticias/', # BMC ultimas noticias\n",
        "        'https://comoinvestir.thecap.com.br/t/mercado-financeiro',\n",
        "        'https://comoinvestir.thecap.com.br/c/noticias',\n",
        "        'https://comoinvestir.thecap.com.br/c/renda-fixa',\n",
        "        'https://comoinvestir.thecap.com.br/c/renda-variavel'\n",
        "        ]\n",
        "\n",
        "for url in URLs :\n",
        "  response = requests.get(url)\n",
        "  soup = BeautifulSoup(response.text, 'html.parser')\n",
        "  headlines = soup.find('body').find_all('h3')\n",
        "  for x in headlines:\n",
        "    print(x.text.strip())"
      ],
      "metadata": {
        "colab": {
          "base_uri": "https://localhost:8080/"
        },
        "id": "94VaDDQpwFb6",
        "outputId": "de03d637-68dd-44f1-ef54-9f434f7179e2"
      },
      "execution_count": 13,
      "outputs": [
        {
          "output_type": "stream",
          "name": "stdout",
          "text": [
            "MGLU3: “Podemos estar diante de uma nova tendência de queda do ativo”, avalia analista\n",
            "Apesar da previsão de queda da Selic, CIO da 3R Investimentos avalia que ainda não é hora de investir no varejo\n",
            "IPCA de Junho: economista avalia que números não mudam projeções e vê queda de juros ainda em agosto\n",
            "“O Brasil só dá sinal de expansão da dívida” diz Estrategista-chefe da SaraInvest\n",
            "Estrategista da RB Investimentos avalia IPCA e chance de queda da Selic em agosto; confira\n",
            "Temos razões para acreditar que a reforma tributária vai avançar, diz economista-chefe\n",
            "PETR4: “A tendência é clara de alta para os ativos”, diz analista\n",
            "VALE3: “Vejo sinais de recuperação para Vale”, avalia analista\n",
            "“Achamos que o Brasil será um país que vai empobrecer ao longo do tempo” diz CIO da 3R Investimentos\n",
            "PIB brasileiro: “Ainda vamos ter bons meses pela frente”, avalia economista\n",
            "ITUB4: analista avalia ações e prevê queda para os ativos na faixa dos R$ 25,12\n",
            "Smart Fit (SMFT3): “acho que tem espaço para chegar aos R$ 19,25”, diz analista\n",
            "VIIA3: “Pensaria em compra acima de R$ 2,20”, diz analista\n",
            "Taurus (TASA4) lança 1ª pistola em polímero e calibre .45 nos EUA\n",
            "Temporada de balanços 2T23: Confira o calendário de divulgação das companhias listadas na B3\n",
            "Ibovespa fecha em queda com desempenho negativo de ações ligadas a economia local\n",
            "É verdade que na Califórnia quem furta até US$ 950 não é preso?\n",
            "Payroll: EUA criam 209 mil empregos em junho; desemprego cai para 3,6%\n",
            "Ipea mostra que PIB pode crescer até 2,39% com a reforma tributária\n",
            "Produção industrial cresce 0,3% em maio, mostra IBGE\n",
            "IPC-S fecha junho com queda de preços de 0,10%\n",
            "Mercado vê Selic em 12% no final de 2023, mostra Focus\n",
            "Shein, Shopee e Aliexpress: Compras internacionais ganham novas regras; entenda\n",
            "EUA: Núcleo do PCE atinge 4,6% em maio na base anual\n",
            "CMN define meta de inflação em 3% para 2026 e altera regime para meta contínua\n",
            "Governo Central tem déficit primário de R$ 45 bilhões em maio\n",
            "BC aumenta projeção de crescimento do PIB de 1,2% para 2%\n",
            "IGP-M cai 1,93% em junho e acumula queda em 12 meses, diz FGV\n",
            "Desenrola Brasil: Conheça as regras para participar do programa\n",
            "VIIA3: “Pensaria em compra acima de R$ 2,20”, diz analista\n",
            "Taurus (TASA4) lança 1ª pistola em polímero e calibre .45 nos EUA\n",
            "Temporada de balanços 2T23: Confira o calendário de divulgação das companhias listadas na B3\n",
            "Ibovespa fecha em queda com desempenho negativo de ações ligadas a economia local\n",
            "É verdade que na Califórnia quem furta até US$ 950 não é preso?\n",
            "Comércio varejista tem queda de 1% em maio\n",
            "Ibovespa opera em queda com dados de vendas no varejo no radar\n",
            "Agenda: Vendas no varejo no Brasil e confiança do consumidor nos EUA movem o dia\n",
            "Ibovespa fecha em alta com ganhos de ações de peso, como Vale e Petrobras\n",
            "CNI diz que economia poderá crescer 2,1% este ano\n",
            "Ibovespa opera em alta nesta quinta com cenário externo no radar\n",
            "Preços ao produtor nos EUA, dados da China e o que move o mercado hoje\n",
            "Ibovespa fecha em alta com dados da inflação de junho nos EUA\n",
            "Ibovespa opera em alta nesta quarta com inflação dos EUA no radar\n",
            "Inflação nos EUA tem alta de 0,2% em junho e chega a 3,0% em 12 meses\n",
            "Inflação nos EUA, Livro Bege e o que move o mercado hoje\n",
            "Ibovespa fecha em queda com mercado reagindo a dados do IPCA\n",
            "VIIA3: “Pensaria em compra acima de R$ 2,20”, diz analista\n",
            "Taurus (TASA4) lança 1ª pistola em polímero e calibre .45 nos EUA\n",
            "Temporada de balanços 2T23: Confira o calendário de divulgação das companhias listadas na B3\n",
            "Ibovespa fecha em queda com desempenho negativo de ações ligadas a economia local\n",
            "É verdade que na Califórnia quem furta até US$ 950 não é preso?\n",
            "Últimas Notícias\n",
            "Juros nas máximas nos EUA e seus impactos\n",
            "Ibovespa fecha em queda com desempenho negativo de ações ligadas a economia local\n",
            "Marcus Vinícius De Freitas: 14 de julho\n",
            "CASH3: Méliuz dispara mais de 14% em dia negativo para o Ibovespa; entenda\n",
            "Nota Fiscal Paulista libera R$ 32,5 milhões; veja quem tem direito a resgatar\n",
            "SpaceX ultrapassa Boeing e vira companhia aeroespacial mais valiosa do mundo\n",
            "Temporada de balanços 2T23: Confira o calendário de divulgação das companhias listadas na B3\n",
            "Programa Voa Brasil poderá ter 1,5 milhão de passagens por mês\n",
            "Comércio varejista tem queda de 1% em maio\n",
            "Ibovespa opera em queda com dados de vendas no varejo no radar\n",
            "VIIA3: “Pensaria em compra acima de R$ 2,20”, diz analista\n",
            "Taurus (TASA4) lança 1ª pistola em polímero e calibre .45 nos EUA\n",
            "Temporada de balanços 2T23: Confira o calendário de divulgação das companhias listadas na B3\n",
            "Ibovespa fecha em queda com desempenho negativo de ações ligadas a economia local\n",
            "É verdade que na Califórnia quem furta até US$ 950 não é preso?\n",
            "Unifique (FIQE3) PagarÃ¡ R$ 15 MilhÃµes em JCP em Julho\n",
            "Dimed (PNVL3) PagarÃ¡ R$ 8 MilhÃµes em JCP em Agosto\n",
            "Melnick (MELK3) PagarÃ¡ R$ 33,3 MilhÃµes em Dividendos em Julho\n",
            "Ibovespa Sobe +0,09% com Menor InflaÃ§Ã£o nos EUA; JBSS3 +9,05%\n",
            "Ibovespa Cai -0,61% apÃ³s IPCA de Junho; GOLL4 -5,88%\n",
            "Hidrovias do Brasil (HBSA3) Precifica Oferta SecundÃ¡ria a R$ 3,40 por AÃ§Ã£o\n",
            "CNI Diz que Economia PoderÃ¡ Crescer 2,1% este Ano\n",
            "Ibovespa Sobe +0,09% com Menor InflaÃ§Ã£o nos EUA; JBSS3 +9,05%\n",
            "Melnick (MELK3) PagarÃ¡ R$ 33,3 MilhÃµes em Dividendos em Julho\n",
            "BRICS LanÃ§arÃ¡ Moeda Lastreada em Ouro em Agosto\n",
            "4 Maneiras de se Tornar Financeiramente Mais Consciente\n",
            "Com Aumento de Juros, Construtoras Temem RetraÃ§Ã£o na Venda de ImÃ³veis\n",
            "Mapa dos Dividendos\n",
            "Unifique (FIQE3) PagarÃ¡ R$ 15 MilhÃµes em JCP em Julho\n",
            "Dimed (PNVL3) PagarÃ¡ R$ 8 MilhÃµes em JCP em Agosto\n",
            "Melnick (MELK3) PagarÃ¡ R$ 33,3 MilhÃµes em Dividendos em Julho\n",
            "Ibovespa Sobe +0,09% com Menor InflaÃ§Ã£o nos EUA; JBSS3 +9,05%\n",
            "Ibovespa Cai -0,61% apÃ³s IPCA de Junho; GOLL4 -5,88%\n",
            "Hidrovias do Brasil (HBSA3) Precifica Oferta SecundÃ¡ria a R$ 3,40 por AÃ§Ã£o\n",
            "CNI Diz que Economia PoderÃ¡ Crescer 2,1% este Ano\n",
            "Ibovespa Sobe +0,09% com Menor InflaÃ§Ã£o nos EUA; JBSS3 +9,05%\n",
            "Melnick (MELK3) PagarÃ¡ R$ 33,3 MilhÃµes em Dividendos em Julho\n",
            "BRICS LanÃ§arÃ¡ Moeda Lastreada em Ouro em Agosto\n",
            "4 Maneiras de se Tornar Financeiramente Mais Consciente\n",
            "Com Aumento de Juros, Construtoras Temem RetraÃ§Ã£o na Venda de ImÃ³veis\n",
            "Mapa dos Dividendos\n",
            "Unifique (FIQE3) PagarÃ¡ R$ 15 MilhÃµes em JCP em Julho\n",
            "Dimed (PNVL3) PagarÃ¡ R$ 8 MilhÃµes em JCP em Agosto\n",
            "Melnick (MELK3) PagarÃ¡ R$ 33,3 MilhÃµes em Dividendos em Julho\n",
            "Ibovespa Sobe +0,09% com Menor InflaÃ§Ã£o nos EUA; JBSS3 +9,05%\n",
            "Ibovespa Cai -0,61% apÃ³s IPCA de Junho; GOLL4 -5,88%\n",
            "Hidrovias do Brasil (HBSA3) Precifica Oferta SecundÃ¡ria a R$ 3,40 por AÃ§Ã£o\n",
            "CNI Diz que Economia PoderÃ¡ Crescer 2,1% este Ano\n",
            "Ibovespa Sobe +0,09% com Menor InflaÃ§Ã£o nos EUA; JBSS3 +9,05%\n",
            "Melnick (MELK3) PagarÃ¡ R$ 33,3 MilhÃµes em Dividendos em Julho\n",
            "BRICS LanÃ§arÃ¡ Moeda Lastreada em Ouro em Agosto\n",
            "4 Maneiras de se Tornar Financeiramente Mais Consciente\n",
            "Com Aumento de Juros, Construtoras Temem RetraÃ§Ã£o na Venda de ImÃ³veis\n",
            "Mapa dos Dividendos\n",
            "Unifique (FIQE3) PagarÃ¡ R$ 15 MilhÃµes em JCP em Julho\n",
            "Dimed (PNVL3) PagarÃ¡ R$ 8 MilhÃµes em JCP em Agosto\n",
            "Melnick (MELK3) PagarÃ¡ R$ 33,3 MilhÃµes em Dividendos em Julho\n",
            "Ibovespa Sobe +0,09% com Menor InflaÃ§Ã£o nos EUA; JBSS3 +9,05%\n",
            "Ibovespa Cai -0,61% apÃ³s IPCA de Junho; GOLL4 -5,88%\n",
            "Hidrovias do Brasil (HBSA3) Precifica Oferta SecundÃ¡ria a R$ 3,40 por AÃ§Ã£o\n",
            "CNI Diz que Economia PoderÃ¡ Crescer 2,1% este Ano\n",
            "Ibovespa Sobe +0,09% com Menor InflaÃ§Ã£o nos EUA; JBSS3 +9,05%\n",
            "Melnick (MELK3) PagarÃ¡ R$ 33,3 MilhÃµes em Dividendos em Julho\n",
            "BRICS LanÃ§arÃ¡ Moeda Lastreada em Ouro em Agosto\n",
            "4 Maneiras de se Tornar Financeiramente Mais Consciente\n",
            "Com Aumento de Juros, Construtoras Temem RetraÃ§Ã£o na Venda de ImÃ³veis\n"
          ]
        }
      ]
    },
    {
      "cell_type": "code",
      "source": [
        "url='https://www.infomoney.com.br/'\n",
        "response = requests.get(url)\n",
        "soup = BeautifulSoup(response.text, 'html.parser')\n",
        "headlines = soup.find_all(\"span\", class_=\"hl-title hl-title-4\")\n",
        "for x in headlines:\n",
        "    print(x.text.strip())"
      ],
      "metadata": {
        "colab": {
          "base_uri": "https://localhost:8080/"
        },
        "id": "Psf7MIIs1mPU",
        "outputId": "7b484215-75cd-4bb1-9b07-18a3ed5c4434"
      },
      "execution_count": 14,
      "outputs": [
        {
          "output_type": "stream",
          "name": "stdout",
          "text": [
            "Melhora o cenário para as exportações de carnes\n",
            "Fiat Strada é o carro mais vendido do 1º semestre de 2023; veja ranking\n",
            "Polygon (MATIC): ambiente regulatório alivia nos EUA e “astros se alinham” antes de nova atualização\n",
            "Mercados argentinos têm dia sombrio e peso informal bate recorde a 525 pesos por dólar\n",
            "O que os novos decretos sobre o saneamento indicam para o setor na Bolsa?\n",
            "HGLG11, MXRF11, URPR11 e mais 56 FIIs pagam dividendos nesta sexta; retornos chegam a 1,36% ao mês\n",
            "Bitcoin dobrou de preço em oito meses, mas analistas dizem: está barato. O que motiva tanto otimismo?\n",
            "Confira o calendário de resultados do 2º trimestre de 2023 da Bolsa brasileira\n",
            "JPMorgan amplia lucro em 67% e soma US$ 14,5 bilhões no 2º trimestre, acima do esperado\n",
            "Caixa por aproximação: a aposta da Renner para retorno dos clientes às lojas físicas\n",
            "Votorantim Cimentos mantém cautela para 2023 e reforça atenção ao caixa\n",
            "Queda no varejo reflete crédito apertado e dívidas; programa Desenrola pode ajudar, dizem analistas\n",
            "Vendas no varejo caem 1% em maio ante abril, diz IBGE; projeção era de estabilidade\n",
            "Desenrola começa nesta segunda e “limpará nome” de 1,5 milhão; veja como vai funcionar\n",
            "Real digital tem funções que permitem congelar e alterar valores sob ordem judicial, diz BC\n",
            "Reforma nova, casa velha: o que as mudanças tributárias vão fazer com os mercados?\n",
            "Vale a pena comprar Bitcoin a US$ 30 mil? Entenda a tese que projeta nova disparada do BTC\n",
            "França: Tarcísio pode abrir mão de privatizar Porto de Santos por financiamento federal a túnel\n",
            "Nomeação de Celso Sabino é publicada no Diário Oficial da União\n",
            "Nubank: investidores decidirão o que fazer com BDRs até 11 de agosto; confira as três opções\n",
            "Trust ou offshore: qual estrutura é melhor para investir no exterior?\n",
            "Férias de julho: saiba quais seguros podem te proteger durante recesso escolar\n",
            "Governo assina contrato com agência para retomar seguro de crédito às exportações\n"
          ]
        }
      ]
    },
    {
      "cell_type": "code",
      "source": [
        "url='https://www.infomoney.com.br/ultimas-noticias/'\n",
        "response = requests.get(url)\n",
        "soup = BeautifulSoup(response.text, 'html.parser')\n",
        "headlines = soup.find_all(\"span\", class_=\"hl-title hl-title-2\")\n",
        "for x in headlines:\n",
        "    print(x.text.strip())"
      ],
      "metadata": {
        "colab": {
          "base_uri": "https://localhost:8080/"
        },
        "id": "GIGcoKHl3HHA",
        "outputId": "319f693e-d259-4c20-b110-fb05a20dd8eb"
      },
      "execution_count": 15,
      "outputs": [
        {
          "output_type": "stream",
          "name": "stdout",
          "text": [
            "Serviços de suporte à Paraná Xisto S.A. são retomados pela Petrobras\n",
            "Tesla inicia produção de Cyberstruck com dois anos de atraso\n",
            "CSN investe R$ 700 milhões em equipamentos e filtros contra poeira em Volta Redonda\n",
            "Mega-Sena acumulada pode pagar até R$ 40 milhões hoje\n",
            "Lula embarca para a Bélgica para discutir cooperação com europeus\n",
            "Programa ‘Voa Brasil’, de passagens aéreas a R$ 200, será lançada no fim de agosto\n",
            "Desaceleração do crescimento da China faz com que muitos ‘percam a fé’\n",
            "Fiat Strada é o carro mais vendido do 1º semestre de 2023; veja ranking\n",
            "Fundos Imobiliários estimam R$ 30 bi em novas captações este ano\n",
            "Light propõe 4 opções para recuperação total de créditos e outras 2 com desconto de até 60%\n"
          ]
        }
      ]
    },
    {
      "cell_type": "code",
      "source": [
        "url='https://valorinveste.globo.com/ultimas-noticias/'\n",
        "url='https://valorinveste.globo.com/objetivo/hora-de-investir/'"
      ],
      "metadata": {
        "id": "assNZcbT83kd"
      },
      "execution_count": 16,
      "outputs": []
    },
    {
      "cell_type": "code",
      "source": [
        "response = requests.get(url)\n",
        "soup = BeautifulSoup(response.text, 'html.parser')\n",
        "headlines = soup.find('body').find_all('h2')\n",
        "for x in headlines:\n",
        "  print(x.text.strip())"
      ],
      "metadata": {
        "colab": {
          "base_uri": "https://localhost:8080/"
        },
        "id": "W2WWFgND84Fg",
        "outputId": "13ae8fb5-f955-4eb5-87b9-eccc97382c8f"
      },
      "execution_count": 17,
      "outputs": [
        {
          "output_type": "stream",
          "name": "stdout",
          "text": [
            "CSN (CSNA3) inicia oferta de R$ 700 milhões em debêntures\n",
            "Marfrig (MRFG3) aprova emissão de R$ 1,1 bilhão em títulos de dívida\n",
            "Petz (PETZ3) termina a semana pior do que gato escaldado; Citi tem novo preço-alvo\n",
            "Fraqueza do varejo dá empurrão que faltava à queda semanal do Ibovespa\n",
            "Ibovespa cai sob pressão de ações ligadas à economia local\n",
            "XP eleva preço-alvo de Raia Drogasil (RADL3), mas remédio para investidor é a venda da ação\n",
            "Veja cinco ações para comprar e para fugir no setor de construção hoje\n",
            "Tem CBA (CBAV3) na carteira de investimentos? Bradesco BBI recomenda vender já!\n",
            "Por que a ação da Méliuz (CASH3) disparou 13% em dia negativo para o Ibovespa?\n",
            "Quanto vai cair a Selic?\n",
            "Governo paga último lote do abono salarial do PIS/Pasep a 4,2 milhões de trabalhadores na segunda (17)\n",
            "Vai ser feriado nos jogos da seleção na Copa do Mundo feminina? Governo anuncia ponto facultativo\n",
            "Quem são os brasileiros migrando para os EUA em 2023?\n",
            "Mega-Sena 2611 vai sortear prêmio estimado em R$ 40 milhões hoje; veja como apostar e fazer bolão\n",
            "Petz (PETZ3) termina a semana pior do que gato escaldado; Citi tem novo preço-alvo\n",
            "Pesquise fundos, ações, títulos públicos e outras aplicações\n",
            "As carteiras recomendadas pelas corretoras\n",
            "Acompanhe o pregão na bolsa\n",
            "Encontre os melhores fundos\n",
            "Quanto preciso investir para conquistar meus objetivos?\n",
            "Qual o investimento mais adequado para meu perfil?\n",
            "Compare e descubra a melhor opção para se deslocar\n",
            "Quanto custa a sua viagem?\n",
            "Quanto custa trocar de veículo?\n"
          ]
        }
      ]
    },
    {
      "cell_type": "code",
      "source": [
        "url='https://financenews.com.br/category/nao-deixe-de-ler/'\n",
        "response = requests.get(url)\n",
        "soup = BeautifulSoup(response.text, 'html.parser')\n",
        "headlines = soup.find('body').find_all('h3')\n",
        "for x in headlines:\n",
        "  print(x.text.strip())"
      ],
      "metadata": {
        "id": "c2ZF8G9u9HRC",
        "colab": {
          "base_uri": "https://localhost:8080/"
        },
        "outputId": "57d896d8-ea57-41cb-c70b-591e91513b1a"
      },
      "execution_count": 20,
      "outputs": [
        {
          "output_type": "stream",
          "name": "stdout",
          "text": [
            "CSN (CSNA3) vai emitir R$ 700 milhões em debêntures\n",
            "Light (LIGT3) apresenta à Justiça seu plano de recuperação judicial\n",
            "Companhias que divulgaram informações sobre dividendos e JCP na semana\n",
            "Americanas (AMER3): continuam trabalhos relativos às demonstrações financeiras de 2022\n",
            "Prévia da Cyrela, Tenda, Even e Melnick, notícia da Oi, Braskem e de outras companhias\n",
            "Petrobras pede acesso ao virtual data room da Braskem\n",
            "Mercados nesta terça, minério, petróleo, notícia da Copel, Braskem, Tim e outros destaques\n",
            "Estudo de ações da Bolsa, notícia da B3, Hidrovias, Petroreconcavo, Unipar, Suzano e de outras companhias\n",
            "Mercados nesta quinta, minério, petróleo, notícia da Cyrela, Tenda, Oi, Braskem e outros destaques\n"
          ]
        }
      ]
    },
    {
      "cell_type": "code",
      "source": [
        "url='https://financenews.com.br/'\n",
        "response = requests.get(url)\n",
        "soup = BeautifulSoup(response.text, 'html.parser')\n",
        "headlines = soup.find('body').find_all('h3')\n",
        "for x in headlines:\n",
        "  print(x.text.strip())"
      ],
      "metadata": {
        "colab": {
          "base_uri": "https://localhost:8080/"
        },
        "id": "mMZoslFXEcBm",
        "outputId": "9d744572-3377-4ae2-acf0-bd7bbcde0ecf"
      },
      "execution_count": 21,
      "outputs": [
        {
          "output_type": "stream",
          "name": "stdout",
          "text": [
            "CSN (CSNA3) vai emitir R$ 700 milhões em debêntures\n",
            "Eztec (EZTEC) divulga prévia do segundo trimestre de 2023\n",
            "Americanas (AMER3): continuam trabalhos relativos às demonstrações financeiras de 2022\n",
            "CCR (CCRO3): concluída transferência da totalidade das ações detidas pela OM no VLT Carioca\n",
            "Aegea anuncia oferta vencedora da PPP com a Sanepar (SAPR11)\n",
            "Moody’s: combinação de negócios com Hermes Pardini fortalece perfil de crédito da Fleury\n",
            "Fitch eleva rating da Log-In (LOGN3)\n",
            "Fitch afirma rating da Pague Menos (PGMN3)\n",
            "Dividendo da Metlife (METB34)\n",
            "Dividendo da Equinor (E1QN34)\n",
            "Dividendo da General Electric (GEOO34)\n",
            "Dividendo da AT&T (ATTB34)\n",
            "Dividendo da Dupont (DDNB34)\n",
            "Dividendo da Mastercard (MSCD34)\n",
            "Assista ao estudo do Ibov, Vale3, Petr4, Ggbr4, Goau4, Hapv3, Pcar3, Soja3 e de outras ações\n",
            "Assista ao estudo do Ibovespa, Petr4, Vale3, Cpfe3, Elet3, Flry3, Tots3, Mrfg3, Kepl3 e de outros papéis\n",
            "Assista ao estudo do Ibov, Petr4, Vale3, Asai3, Flry3, Cple6, Itsa4 e de outros papéis\n",
            "Prévia da Cyrela, Tenda, Even e Melnick, notícia da Oi, Braskem e de outras companhias\n",
            "Petrobras pede acesso ao virtual data room da Braskem\n",
            "Mercados nesta terça, minério, petróleo, notícia da Copel, Braskem, Tim e outros destaques\n",
            "Estudo de ações da Bolsa, notícia da B3, Hidrovias, Petroreconcavo, Unipar, Suzano e de outras companhias\n",
            "Mercados nesta quinta, minério, petróleo, notícia da Cyrela, Tenda, Oi, Braskem e outros destaques\n"
          ]
        }
      ]
    }
  ]
}