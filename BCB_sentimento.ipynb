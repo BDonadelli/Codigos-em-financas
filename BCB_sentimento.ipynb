{
  "cells": [
    {
      "cell_type": "code",
      "execution_count": 1,
      "metadata": {
        "id": "4TYtniujFuVE"
      },
      "outputs": [],
      "source": [
        "# Bibliotecas ----\n",
        "import os\n",
        "import json\n",
        "import requests\n",
        "import pandas as pd\n",
        "from langchain_google_genai import ChatGoogleGenerativeAI\n",
        "from langchain.prompts import PromptTemplate\n",
        "from langchain.chains.llm import LLMChain\n",
        "from langchain.chains.combine_documents.stuff import StuffDocumentsChain\n"
      ]
    },
    {
      "cell_type": "code",
      "execution_count": 6,
      "metadata": {},
      "outputs": [],
      "source": [
        "ultima_reuniao = requests.get(\"https://www.bcb.gov.br/api/servico/sitebcb/copom/atas?quantidade=1\").json()\n",
        "nro_ultima_reuniao = ultima_reuniao[\"conteudo\"][0][\"nroReuniao\"]"
      ]
    },
    {
      "cell_type": "code",
      "execution_count": 7,
      "metadata": {},
      "outputs": [
        {
          "data": {
            "text/plain": [
              "262"
            ]
          },
          "execution_count": 7,
          "metadata": {},
          "output_type": "execute_result"
        }
      ],
      "source": [
        "nro_ultima_reuniao"
      ]
    },
    {
      "cell_type": "code",
      "execution_count": 3,
      "metadata": {},
      "outputs": [],
      "source": [
        "quantidade = 12 # de reuniões passadas"
      ]
    },
    {
      "cell_type": "code",
      "execution_count": 12,
      "metadata": {},
      "outputs": [],
      "source": [
        "from langchain_community.document_loaders import WebBaseLoader\n",
        "from langchain.docstore.document import Document\n",
        "\n",
        "documentos = []\n",
        "for num in list(range(nro_ultima_reuniao - quantidade, nro_ultima_reuniao + 1)):\n",
        "    url = f'https://www.bcb.gov.br/api/servico/sitebcb/copom/atas_detalhes?nro_reuniao='\n",
        "    ata = WebBaseLoader(f\"{url}{num}\").load()\n",
        "    conteudo = json.loads(ata[0].page_content)[\"conteudo\"][0]['textoAta']\n",
        "    dia_ref = json.loads(ata[0].page_content)[\"conteudo\"][0][\"dataReferencia\"]\n",
        "    documentos.append(Document(page_content = conteudo,\n",
        "                               metadata = {\"data\": dia_ref}))\n"
      ]
    },
    {
      "cell_type": "code",
      "execution_count": 13,
      "metadata": {},
      "outputs": [],
      "source": [
        "# Autenticação na API do Google\n",
        "os.environ[\"GOOGLE_API_KEY\"] = open('passgooglestudio.txt', 'r').read()"
      ]
    },
    {
      "cell_type": "code",
      "execution_count": 14,
      "metadata": {
        "colab": {
          "base_uri": "https://localhost:8080/",
          "height": 832
        },
        "id": "1k-013hWHJTp",
        "outputId": "fb6e335e-7e76-4c8d-f91d-7c41ac35a8d2"
      },
      "outputs": [
        {
          "name": "stderr",
          "output_type": "stream",
          "text": [
            "Retrying langchain_google_genai.chat_models._chat_with_retry.<locals>._chat_with_retry in 2.0 seconds as it raised ResourceExhausted: 429 Resource has been exhausted (e.g. check quota)..\n",
            "Retrying langchain_google_genai.chat_models._chat_with_retry.<locals>._chat_with_retry in 4.0 seconds as it raised ResourceExhausted: 429 Resource has been exhausted (e.g. check quota)..\n",
            "Retrying langchain_google_genai.chat_models._chat_with_retry.<locals>._chat_with_retry in 8.0 seconds as it raised ResourceExhausted: 429 Resource has been exhausted (e.g. check quota)..\n",
            "Retrying langchain_google_genai.chat_models._chat_with_retry.<locals>._chat_with_retry in 2.0 seconds as it raised ResourceExhausted: 429 Resource has been exhausted (e.g. check quota)..\n",
            "Retrying langchain_google_genai.chat_models._chat_with_retry.<locals>._chat_with_retry in 4.0 seconds as it raised ResourceExhausted: 429 Resource has been exhausted (e.g. check quota)..\n",
            "Retrying langchain_google_genai.chat_models._chat_with_retry.<locals>._chat_with_retry in 8.0 seconds as it raised ResourceExhausted: 429 Resource has been exhausted (e.g. check quota)..\n",
            "Retrying langchain_google_genai.chat_models._chat_with_retry.<locals>._chat_with_retry in 16.0 seconds as it raised ResourceExhausted: 429 Resource has been exhausted (e.g. check quota)..\n",
            "Retrying langchain_google_genai.chat_models._chat_with_retry.<locals>._chat_with_retry in 2.0 seconds as it raised ResourceExhausted: 429 Resource has been exhausted (e.g. check quota)..\n",
            "Retrying langchain_google_genai.chat_models._chat_with_retry.<locals>._chat_with_retry in 4.0 seconds as it raised ResourceExhausted: 429 Resource has been exhausted (e.g. check quota)..\n",
            "Retrying langchain_google_genai.chat_models._chat_with_retry.<locals>._chat_with_retry in 8.0 seconds as it raised ResourceExhausted: 429 Resource has been exhausted (e.g. check quota)..\n",
            "Retrying langchain_google_genai.chat_models._chat_with_retry.<locals>._chat_with_retry in 16.0 seconds as it raised ResourceExhausted: 429 Resource has been exhausted (e.g. check quota)..\n"
          ]
        }
      ],
      "source": [
        "# Definição do modelo LLM\n",
        "llm = ChatGoogleGenerativeAI(model = \"gemini-pro\", temperature = 0)\n",
        "# Engenharia de prompt\n",
        "llm_prompt = PromptTemplate.from_template(\"\"\"\n",
        "Você é um cientista de dados experiente em machine learning e em NLP, dominando\n",
        "as técnicas de análise de sentimentos. Sua tarefa é analisar o sentimento do\n",
        "texto a seguir. Retorne o sentimento do texto em um índice de 0 a 100, sendo 0 o\n",
        "sentimento mais negativo, 100 o sentimento mais positivo e 50 o sentimento neutro:\n",
        "\n",
        "\"{DOCUMENTO}\"\n",
        "\n",
        "Índice:\"\"\")\n",
        "\n",
        "# Combinar prompt, texto da ata e modelo\n",
        "llm_chain = LLMChain(llm = llm, prompt = llm_prompt)\n",
        "\n",
        "quantificador = StuffDocumentsChain(llm_chain = llm_chain,document_variable_name = \"DOCUMENTO\")\n",
        "\n",
        "sentimento = []\n",
        "reuniao = []\n",
        "for doc in documentos:\n",
        "    sentimento.append(quantificador.invoke(input = [doc], return_only_outputs = True)[\"output_text\"])\n",
        "    reuniao.append(doc.metadata[\"data\"])"
      ]
    },
    {
      "cell_type": "code",
      "execution_count": 20,
      "metadata": {},
      "outputs": [],
      "source": [
        "tabela = pd.DataFrame()\n",
        "tabela['data'] = pd.to_datetime(reuniao)\n",
        "tabela['sentimento'] = sentimento\n",
        "tabela['sentimento'] = tabela['sentimento'].astype(int)\n",
        "# tabela"
      ]
    },
    {
      "cell_type": "code",
      "execution_count": 23,
      "metadata": {},
      "outputs": [
        {
          "data": {
            "application/vnd.plotly.v1+json": {
              "config": {
                "plotlyServerURL": "https://plot.ly"
              },
              "data": [
                {
                  "fill": "tonexty",
                  "fillcolor": "rgba(255, 0, 0, 0.45)",
                  "line": {
                    "color": "red",
                    "width": 0
                  },
                  "mode": "lines",
                  "showlegend": false,
                  "type": "scatter",
                  "x": [
                    "2020-09-16T00:00:00",
                    "2020-10-28T00:00:00",
                    "2020-12-09T00:00:00",
                    "2021-01-20T00:00:00",
                    "2021-03-17T00:00:00",
                    "2021-05-05T00:00:00",
                    "2021-06-16T00:00:00",
                    "2021-08-04T00:00:00",
                    "2021-09-22T00:00:00",
                    "2021-10-27T00:00:00",
                    "2021-12-08T00:00:00",
                    "2022-02-02T00:00:00",
                    "2022-03-16T00:00:00",
                    "2022-05-04T00:00:00",
                    "2022-06-15T00:00:00",
                    "2022-08-03T00:00:00",
                    "2022-09-21T00:00:00",
                    "2022-10-26T00:00:00",
                    "2022-12-07T00:00:00",
                    "2023-02-01T00:00:00",
                    "2023-03-22T00:00:00",
                    "2023-05-03T00:00:00",
                    "2023-06-21T00:00:00",
                    "2023-08-02T00:00:00",
                    "2023-09-20T00:00:00",
                    "2023-11-01T00:00:00",
                    "2023-12-13T00:00:00",
                    "2024-01-31T00:00:00",
                    "2024-03-20T00:00:00",
                    "2024-05-08T00:00:00"
                  ],
                  "y": [
                    50,
                    50,
                    50,
                    50,
                    50,
                    50,
                    50,
                    50,
                    50,
                    50,
                    50,
                    50,
                    50,
                    50,
                    50,
                    50,
                    50,
                    50,
                    50,
                    50,
                    50,
                    50,
                    50,
                    50,
                    50,
                    50,
                    50,
                    50,
                    50,
                    50
                  ]
                },
                {
                  "fill": "tonexty",
                  "fillcolor": "rgba(0, 128, 0, 0.45)",
                  "line": {
                    "color": "green",
                    "width": 0
                  },
                  "mode": "lines",
                  "showlegend": false,
                  "type": "scatter",
                  "x": [
                    "2020-09-16T00:00:00",
                    "2020-10-28T00:00:00",
                    "2020-12-09T00:00:00",
                    "2021-01-20T00:00:00",
                    "2021-03-17T00:00:00",
                    "2021-05-05T00:00:00",
                    "2021-06-16T00:00:00",
                    "2021-08-04T00:00:00",
                    "2021-09-22T00:00:00",
                    "2021-10-27T00:00:00",
                    "2021-12-08T00:00:00",
                    "2022-02-02T00:00:00",
                    "2022-03-16T00:00:00",
                    "2022-05-04T00:00:00",
                    "2022-06-15T00:00:00",
                    "2022-08-03T00:00:00",
                    "2022-09-21T00:00:00",
                    "2022-10-26T00:00:00",
                    "2022-12-07T00:00:00",
                    "2023-02-01T00:00:00",
                    "2023-03-22T00:00:00",
                    "2023-05-03T00:00:00",
                    "2023-06-21T00:00:00",
                    "2023-08-02T00:00:00",
                    "2023-09-20T00:00:00",
                    "2023-11-01T00:00:00",
                    "2023-12-13T00:00:00",
                    "2024-01-31T00:00:00",
                    "2024-03-20T00:00:00",
                    "2024-05-08T00:00:00"
                  ],
                  "y": [
                    100,
                    100,
                    100,
                    100,
                    100,
                    100,
                    100,
                    100,
                    100,
                    100,
                    100,
                    100,
                    100,
                    100,
                    100,
                    100,
                    100,
                    100,
                    100,
                    100,
                    100,
                    100,
                    100,
                    100,
                    100,
                    100,
                    100,
                    100,
                    100,
                    100
                  ]
                },
                {
                  "line": {
                    "color": "black"
                  },
                  "mode": "lines",
                  "name": "Sentimento",
                  "showlegend": false,
                  "type": "scatter",
                  "x": [
                    "2020-09-16T00:00:00",
                    "2020-10-28T00:00:00",
                    "2020-12-09T00:00:00",
                    "2021-01-20T00:00:00",
                    "2021-03-17T00:00:00",
                    "2021-05-05T00:00:00",
                    "2021-06-16T00:00:00",
                    "2021-08-04T00:00:00",
                    "2021-09-22T00:00:00",
                    "2021-10-27T00:00:00",
                    "2021-12-08T00:00:00",
                    "2022-02-02T00:00:00",
                    "2022-03-16T00:00:00",
                    "2022-05-04T00:00:00",
                    "2022-06-15T00:00:00",
                    "2022-08-03T00:00:00",
                    "2022-09-21T00:00:00",
                    "2022-10-26T00:00:00",
                    "2022-12-07T00:00:00",
                    "2023-02-01T00:00:00",
                    "2023-03-22T00:00:00",
                    "2023-05-03T00:00:00",
                    "2023-06-21T00:00:00",
                    "2023-08-02T00:00:00",
                    "2023-09-20T00:00:00",
                    "2023-11-01T00:00:00",
                    "2023-12-13T00:00:00",
                    "2024-01-31T00:00:00",
                    "2024-03-20T00:00:00",
                    "2024-05-08T00:00:00"
                  ],
                  "y": [
                    55,
                    55,
                    55,
                    55,
                    75,
                    65,
                    55,
                    50,
                    55,
                    40,
                    40,
                    40,
                    50,
                    50,
                    40,
                    40,
                    50,
                    40,
                    40,
                    50,
                    45,
                    55,
                    55,
                    75,
                    75,
                    75,
                    65,
                    65,
                    60,
                    60
                  ]
                }
              ],
              "layout": {
                "annotations": [
                  {
                    "showarrow": false,
                    "text": "Fonte: BCB",
                    "x": 0,
                    "xref": "paper",
                    "y": 1.15,
                    "yref": "paper"
                  }
                ],
                "template": {
                  "data": {
                    "bar": [
                      {
                        "error_x": {
                          "color": "#2a3f5f"
                        },
                        "error_y": {
                          "color": "#2a3f5f"
                        },
                        "marker": {
                          "line": {
                            "color": "#E5ECF6",
                            "width": 0.5
                          },
                          "pattern": {
                            "fillmode": "overlay",
                            "size": 10,
                            "solidity": 0.2
                          }
                        },
                        "type": "bar"
                      }
                    ],
                    "barpolar": [
                      {
                        "marker": {
                          "line": {
                            "color": "#E5ECF6",
                            "width": 0.5
                          },
                          "pattern": {
                            "fillmode": "overlay",
                            "size": 10,
                            "solidity": 0.2
                          }
                        },
                        "type": "barpolar"
                      }
                    ],
                    "carpet": [
                      {
                        "aaxis": {
                          "endlinecolor": "#2a3f5f",
                          "gridcolor": "white",
                          "linecolor": "white",
                          "minorgridcolor": "white",
                          "startlinecolor": "#2a3f5f"
                        },
                        "baxis": {
                          "endlinecolor": "#2a3f5f",
                          "gridcolor": "white",
                          "linecolor": "white",
                          "minorgridcolor": "white",
                          "startlinecolor": "#2a3f5f"
                        },
                        "type": "carpet"
                      }
                    ],
                    "choropleth": [
                      {
                        "colorbar": {
                          "outlinewidth": 0,
                          "ticks": ""
                        },
                        "type": "choropleth"
                      }
                    ],
                    "contour": [
                      {
                        "colorbar": {
                          "outlinewidth": 0,
                          "ticks": ""
                        },
                        "colorscale": [
                          [
                            0,
                            "#0d0887"
                          ],
                          [
                            0.1111111111111111,
                            "#46039f"
                          ],
                          [
                            0.2222222222222222,
                            "#7201a8"
                          ],
                          [
                            0.3333333333333333,
                            "#9c179e"
                          ],
                          [
                            0.4444444444444444,
                            "#bd3786"
                          ],
                          [
                            0.5555555555555556,
                            "#d8576b"
                          ],
                          [
                            0.6666666666666666,
                            "#ed7953"
                          ],
                          [
                            0.7777777777777778,
                            "#fb9f3a"
                          ],
                          [
                            0.8888888888888888,
                            "#fdca26"
                          ],
                          [
                            1,
                            "#f0f921"
                          ]
                        ],
                        "type": "contour"
                      }
                    ],
                    "contourcarpet": [
                      {
                        "colorbar": {
                          "outlinewidth": 0,
                          "ticks": ""
                        },
                        "type": "contourcarpet"
                      }
                    ],
                    "heatmap": [
                      {
                        "colorbar": {
                          "outlinewidth": 0,
                          "ticks": ""
                        },
                        "colorscale": [
                          [
                            0,
                            "#0d0887"
                          ],
                          [
                            0.1111111111111111,
                            "#46039f"
                          ],
                          [
                            0.2222222222222222,
                            "#7201a8"
                          ],
                          [
                            0.3333333333333333,
                            "#9c179e"
                          ],
                          [
                            0.4444444444444444,
                            "#bd3786"
                          ],
                          [
                            0.5555555555555556,
                            "#d8576b"
                          ],
                          [
                            0.6666666666666666,
                            "#ed7953"
                          ],
                          [
                            0.7777777777777778,
                            "#fb9f3a"
                          ],
                          [
                            0.8888888888888888,
                            "#fdca26"
                          ],
                          [
                            1,
                            "#f0f921"
                          ]
                        ],
                        "type": "heatmap"
                      }
                    ],
                    "heatmapgl": [
                      {
                        "colorbar": {
                          "outlinewidth": 0,
                          "ticks": ""
                        },
                        "colorscale": [
                          [
                            0,
                            "#0d0887"
                          ],
                          [
                            0.1111111111111111,
                            "#46039f"
                          ],
                          [
                            0.2222222222222222,
                            "#7201a8"
                          ],
                          [
                            0.3333333333333333,
                            "#9c179e"
                          ],
                          [
                            0.4444444444444444,
                            "#bd3786"
                          ],
                          [
                            0.5555555555555556,
                            "#d8576b"
                          ],
                          [
                            0.6666666666666666,
                            "#ed7953"
                          ],
                          [
                            0.7777777777777778,
                            "#fb9f3a"
                          ],
                          [
                            0.8888888888888888,
                            "#fdca26"
                          ],
                          [
                            1,
                            "#f0f921"
                          ]
                        ],
                        "type": "heatmapgl"
                      }
                    ],
                    "histogram": [
                      {
                        "marker": {
                          "pattern": {
                            "fillmode": "overlay",
                            "size": 10,
                            "solidity": 0.2
                          }
                        },
                        "type": "histogram"
                      }
                    ],
                    "histogram2d": [
                      {
                        "colorbar": {
                          "outlinewidth": 0,
                          "ticks": ""
                        },
                        "colorscale": [
                          [
                            0,
                            "#0d0887"
                          ],
                          [
                            0.1111111111111111,
                            "#46039f"
                          ],
                          [
                            0.2222222222222222,
                            "#7201a8"
                          ],
                          [
                            0.3333333333333333,
                            "#9c179e"
                          ],
                          [
                            0.4444444444444444,
                            "#bd3786"
                          ],
                          [
                            0.5555555555555556,
                            "#d8576b"
                          ],
                          [
                            0.6666666666666666,
                            "#ed7953"
                          ],
                          [
                            0.7777777777777778,
                            "#fb9f3a"
                          ],
                          [
                            0.8888888888888888,
                            "#fdca26"
                          ],
                          [
                            1,
                            "#f0f921"
                          ]
                        ],
                        "type": "histogram2d"
                      }
                    ],
                    "histogram2dcontour": [
                      {
                        "colorbar": {
                          "outlinewidth": 0,
                          "ticks": ""
                        },
                        "colorscale": [
                          [
                            0,
                            "#0d0887"
                          ],
                          [
                            0.1111111111111111,
                            "#46039f"
                          ],
                          [
                            0.2222222222222222,
                            "#7201a8"
                          ],
                          [
                            0.3333333333333333,
                            "#9c179e"
                          ],
                          [
                            0.4444444444444444,
                            "#bd3786"
                          ],
                          [
                            0.5555555555555556,
                            "#d8576b"
                          ],
                          [
                            0.6666666666666666,
                            "#ed7953"
                          ],
                          [
                            0.7777777777777778,
                            "#fb9f3a"
                          ],
                          [
                            0.8888888888888888,
                            "#fdca26"
                          ],
                          [
                            1,
                            "#f0f921"
                          ]
                        ],
                        "type": "histogram2dcontour"
                      }
                    ],
                    "mesh3d": [
                      {
                        "colorbar": {
                          "outlinewidth": 0,
                          "ticks": ""
                        },
                        "type": "mesh3d"
                      }
                    ],
                    "parcoords": [
                      {
                        "line": {
                          "colorbar": {
                            "outlinewidth": 0,
                            "ticks": ""
                          }
                        },
                        "type": "parcoords"
                      }
                    ],
                    "pie": [
                      {
                        "automargin": true,
                        "type": "pie"
                      }
                    ],
                    "scatter": [
                      {
                        "fillpattern": {
                          "fillmode": "overlay",
                          "size": 10,
                          "solidity": 0.2
                        },
                        "type": "scatter"
                      }
                    ],
                    "scatter3d": [
                      {
                        "line": {
                          "colorbar": {
                            "outlinewidth": 0,
                            "ticks": ""
                          }
                        },
                        "marker": {
                          "colorbar": {
                            "outlinewidth": 0,
                            "ticks": ""
                          }
                        },
                        "type": "scatter3d"
                      }
                    ],
                    "scattercarpet": [
                      {
                        "marker": {
                          "colorbar": {
                            "outlinewidth": 0,
                            "ticks": ""
                          }
                        },
                        "type": "scattercarpet"
                      }
                    ],
                    "scattergeo": [
                      {
                        "marker": {
                          "colorbar": {
                            "outlinewidth": 0,
                            "ticks": ""
                          }
                        },
                        "type": "scattergeo"
                      }
                    ],
                    "scattergl": [
                      {
                        "marker": {
                          "colorbar": {
                            "outlinewidth": 0,
                            "ticks": ""
                          }
                        },
                        "type": "scattergl"
                      }
                    ],
                    "scattermapbox": [
                      {
                        "marker": {
                          "colorbar": {
                            "outlinewidth": 0,
                            "ticks": ""
                          }
                        },
                        "type": "scattermapbox"
                      }
                    ],
                    "scatterpolar": [
                      {
                        "marker": {
                          "colorbar": {
                            "outlinewidth": 0,
                            "ticks": ""
                          }
                        },
                        "type": "scatterpolar"
                      }
                    ],
                    "scatterpolargl": [
                      {
                        "marker": {
                          "colorbar": {
                            "outlinewidth": 0,
                            "ticks": ""
                          }
                        },
                        "type": "scatterpolargl"
                      }
                    ],
                    "scatterternary": [
                      {
                        "marker": {
                          "colorbar": {
                            "outlinewidth": 0,
                            "ticks": ""
                          }
                        },
                        "type": "scatterternary"
                      }
                    ],
                    "surface": [
                      {
                        "colorbar": {
                          "outlinewidth": 0,
                          "ticks": ""
                        },
                        "colorscale": [
                          [
                            0,
                            "#0d0887"
                          ],
                          [
                            0.1111111111111111,
                            "#46039f"
                          ],
                          [
                            0.2222222222222222,
                            "#7201a8"
                          ],
                          [
                            0.3333333333333333,
                            "#9c179e"
                          ],
                          [
                            0.4444444444444444,
                            "#bd3786"
                          ],
                          [
                            0.5555555555555556,
                            "#d8576b"
                          ],
                          [
                            0.6666666666666666,
                            "#ed7953"
                          ],
                          [
                            0.7777777777777778,
                            "#fb9f3a"
                          ],
                          [
                            0.8888888888888888,
                            "#fdca26"
                          ],
                          [
                            1,
                            "#f0f921"
                          ]
                        ],
                        "type": "surface"
                      }
                    ],
                    "table": [
                      {
                        "cells": {
                          "fill": {
                            "color": "#EBF0F8"
                          },
                          "line": {
                            "color": "white"
                          }
                        },
                        "header": {
                          "fill": {
                            "color": "#C8D4E3"
                          },
                          "line": {
                            "color": "white"
                          }
                        },
                        "type": "table"
                      }
                    ]
                  },
                  "layout": {
                    "annotationdefaults": {
                      "arrowcolor": "#2a3f5f",
                      "arrowhead": 0,
                      "arrowwidth": 1
                    },
                    "autotypenumbers": "strict",
                    "coloraxis": {
                      "colorbar": {
                        "outlinewidth": 0,
                        "ticks": ""
                      }
                    },
                    "colorscale": {
                      "diverging": [
                        [
                          0,
                          "#8e0152"
                        ],
                        [
                          0.1,
                          "#c51b7d"
                        ],
                        [
                          0.2,
                          "#de77ae"
                        ],
                        [
                          0.3,
                          "#f1b6da"
                        ],
                        [
                          0.4,
                          "#fde0ef"
                        ],
                        [
                          0.5,
                          "#f7f7f7"
                        ],
                        [
                          0.6,
                          "#e6f5d0"
                        ],
                        [
                          0.7,
                          "#b8e186"
                        ],
                        [
                          0.8,
                          "#7fbc41"
                        ],
                        [
                          0.9,
                          "#4d9221"
                        ],
                        [
                          1,
                          "#276419"
                        ]
                      ],
                      "sequential": [
                        [
                          0,
                          "#0d0887"
                        ],
                        [
                          0.1111111111111111,
                          "#46039f"
                        ],
                        [
                          0.2222222222222222,
                          "#7201a8"
                        ],
                        [
                          0.3333333333333333,
                          "#9c179e"
                        ],
                        [
                          0.4444444444444444,
                          "#bd3786"
                        ],
                        [
                          0.5555555555555556,
                          "#d8576b"
                        ],
                        [
                          0.6666666666666666,
                          "#ed7953"
                        ],
                        [
                          0.7777777777777778,
                          "#fb9f3a"
                        ],
                        [
                          0.8888888888888888,
                          "#fdca26"
                        ],
                        [
                          1,
                          "#f0f921"
                        ]
                      ],
                      "sequentialminus": [
                        [
                          0,
                          "#0d0887"
                        ],
                        [
                          0.1111111111111111,
                          "#46039f"
                        ],
                        [
                          0.2222222222222222,
                          "#7201a8"
                        ],
                        [
                          0.3333333333333333,
                          "#9c179e"
                        ],
                        [
                          0.4444444444444444,
                          "#bd3786"
                        ],
                        [
                          0.5555555555555556,
                          "#d8576b"
                        ],
                        [
                          0.6666666666666666,
                          "#ed7953"
                        ],
                        [
                          0.7777777777777778,
                          "#fb9f3a"
                        ],
                        [
                          0.8888888888888888,
                          "#fdca26"
                        ],
                        [
                          1,
                          "#f0f921"
                        ]
                      ]
                    },
                    "colorway": [
                      "#636efa",
                      "#EF553B",
                      "#00cc96",
                      "#ab63fa",
                      "#FFA15A",
                      "#19d3f3",
                      "#FF6692",
                      "#B6E880",
                      "#FF97FF",
                      "#FECB52"
                    ],
                    "font": {
                      "color": "#2a3f5f"
                    },
                    "geo": {
                      "bgcolor": "white",
                      "lakecolor": "white",
                      "landcolor": "#E5ECF6",
                      "showlakes": true,
                      "showland": true,
                      "subunitcolor": "white"
                    },
                    "hoverlabel": {
                      "align": "left"
                    },
                    "hovermode": "closest",
                    "mapbox": {
                      "style": "light"
                    },
                    "paper_bgcolor": "white",
                    "plot_bgcolor": "#E5ECF6",
                    "polar": {
                      "angularaxis": {
                        "gridcolor": "white",
                        "linecolor": "white",
                        "ticks": ""
                      },
                      "bgcolor": "#E5ECF6",
                      "radialaxis": {
                        "gridcolor": "white",
                        "linecolor": "white",
                        "ticks": ""
                      }
                    },
                    "scene": {
                      "xaxis": {
                        "backgroundcolor": "#E5ECF6",
                        "gridcolor": "white",
                        "gridwidth": 2,
                        "linecolor": "white",
                        "showbackground": true,
                        "ticks": "",
                        "zerolinecolor": "white"
                      },
                      "yaxis": {
                        "backgroundcolor": "#E5ECF6",
                        "gridcolor": "white",
                        "gridwidth": 2,
                        "linecolor": "white",
                        "showbackground": true,
                        "ticks": "",
                        "zerolinecolor": "white"
                      },
                      "zaxis": {
                        "backgroundcolor": "#E5ECF6",
                        "gridcolor": "white",
                        "gridwidth": 2,
                        "linecolor": "white",
                        "showbackground": true,
                        "ticks": "",
                        "zerolinecolor": "white"
                      }
                    },
                    "shapedefaults": {
                      "line": {
                        "color": "#2a3f5f"
                      }
                    },
                    "ternary": {
                      "aaxis": {
                        "gridcolor": "white",
                        "linecolor": "white",
                        "ticks": ""
                      },
                      "baxis": {
                        "gridcolor": "white",
                        "linecolor": "white",
                        "ticks": ""
                      },
                      "bgcolor": "#E5ECF6",
                      "caxis": {
                        "gridcolor": "white",
                        "linecolor": "white",
                        "ticks": ""
                      }
                    },
                    "title": {
                      "x": 0.05
                    },
                    "xaxis": {
                      "automargin": true,
                      "gridcolor": "white",
                      "linecolor": "white",
                      "ticks": "",
                      "title": {
                        "standoff": 15
                      },
                      "zerolinecolor": "white",
                      "zerolinewidth": 2
                    },
                    "yaxis": {
                      "automargin": true,
                      "gridcolor": "white",
                      "linecolor": "white",
                      "ticks": "",
                      "title": {
                        "standoff": 15
                      },
                      "zerolinecolor": "white",
                      "zerolinewidth": 2
                    }
                  }
                },
                "title": {
                  "text": "Análise de Sentimento de Política Monetária - Brasil"
                },
                "xaxis": {
                  "tickangle": 45,
                  "tickformat": "%m/%Y",
                  "title": {
                    "text": "Reunião do COPOM"
                  }
                },
                "yaxis": {
                  "title": {
                    "text": "Índice sentimento"
                  }
                }
              }
            }
          },
          "metadata": {},
          "output_type": "display_data"
        },
        {
          "name": "stderr",
          "output_type": "stream",
          "text": [
            "/home/yair/bin/miniconda3/lib/python3.11/site-packages/plotly/offline/offline.py:557: UserWarning:\n",
            "\n",
            "Your filename `grafico.png` didn't end with .html. Adding .html to the end of your file.\n",
            "\n"
          ]
        },
        {
          "data": {
            "text/plain": [
              "'grafico.png.html'"
            ]
          },
          "execution_count": 23,
          "metadata": {},
          "output_type": "execute_result"
        }
      ],
      "source": [
        "import plotly.graph_objects as go\n",
        "import plotly.offline as offline\n",
        "\n",
        "linha_sentimento = go.Scatter(x=tabela['data'],y=tabela['sentimento'],mode='lines',line_color='black',name='Sentimento',showlegend=False)\n",
        "# Criar as áreas de fundo\n",
        "area_negativa = go.Scatter(\n",
        "    x=tabela['data'],\n",
        "    y=[50] * len(tabela),  # Linha horizontal em y=50\n",
        "    mode='lines',\n",
        "    line=dict(width=0, color='red'), # Linha invisível\n",
        "    fill='tonexty', # Preencher até a próxima linha\n",
        "    fillcolor='rgba(255, 0, 0, 0.45)',  # Vermelho com transparência\n",
        "    showlegend=False\n",
        ")\n",
        "\n",
        "area_positiva = go.Scatter(\n",
        "    x=tabela['data'],\n",
        "    y=[100] * len(tabela), # Linha horizontal em y=100\n",
        "    mode='lines',\n",
        "    line=dict(width=0, color='green'), # Linha invisível\n",
        "    fill='tonexty', # Preencher até a próxima linha\n",
        "    fillcolor='rgba(0, 128, 0, 0.45)',  # Verde com transparência\n",
        "    showlegend=False\n",
        ")\n",
        "\n",
        "# Criar o objeto figura e adicionar os traços\n",
        "fig = go.Figure(data=[area_negativa, area_positiva, linha_sentimento])\n",
        "\n",
        "# Personalizar o layout\n",
        "fig.update_layout(\n",
        "    title=\"Análise de Sentimento de Política Monetária - Brasil\",\n",
        "    xaxis_title=\"Reunião do COPOM\",\n",
        "    yaxis_title=\"Índice sentimento\",\n",
        "    xaxis_tickformat=\"%m/%Y\",\n",
        "    xaxis_tickangle=45,\n",
        "    \n",
        "    # Adicionar nota como anotação\n",
        "    annotations=[dict(\n",
        "        x=0, \n",
        "        y=1.15, \n",
        "        xref=\"paper\", \n",
        "        yref=\"paper\", \n",
        "        text=\"Fonte: BCB\",\n",
        "        showarrow=False\n",
        "    )]\n",
        ")\n",
        "\n",
        "# Exibir o gráfico\n",
        "fig.show()\n",
        "offline.plot(fig, filename=\"grafico.png\", auto_open=False)"
      ]
    },
    {
      "cell_type": "code",
      "execution_count": 17,
      "metadata": {},
      "outputs": [],
      "source": [
        "from langchain_community.document_loaders import PyPDFLoader \n",
        "from langchain.schema import StrOutputParser\n",
        "from langchain.schema.prompt_template import format_document\n",
        "\n",
        "no_reuniao = str(ultima_reuniao[\"conteudo\"][0][\"nroReuniao\"])\n",
        "data_refer = str(ultima_reuniao[\"conteudo\"][0][\"dataReferencia\"]).replace(\"-\", \"\")\n",
        "url_ata = f\"https://www.bcb.gov.br/content/copom/atascopom/Copom{no_reuniao}-not{data_refer+no_reuniao}.pdf\"\n",
        "\n",
        "# Coleta de dados ----\n",
        "pdf = PyPDFLoader(url_ata)\n",
        "ata = pdf.load_and_split()"
      ]
    },
    {
      "cell_type": "code",
      "execution_count": 18,
      "metadata": {},
      "outputs": [
        {
          "name": "stderr",
          "output_type": "stream",
          "text": [
            "Retrying langchain_google_genai.chat_models._chat_with_retry.<locals>._chat_with_retry in 2.0 seconds as it raised ResourceExhausted: 429 Resource has been exhausted (e.g. check quota)..\n",
            "Retrying langchain_google_genai.chat_models._chat_with_retry.<locals>._chat_with_retry in 4.0 seconds as it raised ResourceExhausted: 429 Resource has been exhausted (e.g. check quota)..\n",
            "Retrying langchain_google_genai.chat_models._chat_with_retry.<locals>._chat_with_retry in 8.0 seconds as it raised ResourceExhausted: 429 Resource has been exhausted (e.g. check quota)..\n"
          ]
        },
        {
          "data": {
            "text/plain": [
              "'Hawkish'"
            ]
          },
          "execution_count": 18,
          "metadata": {},
          "output_type": "execute_result"
        }
      ],
      "source": [
        "doc_prompt = PromptTemplate.from_template(\"{page_content}\") # extrai texto do PDF\n",
        "\n",
        "llm_prompt = PromptTemplate.from_template(\"\"\"\n",
        "Você é um economista chefe experiente em análise de política monetária, tendo\n",
        "trabalhado em fundos de investimentos e grandes bancos, além de ser PhD em\n",
        "economia.\n",
        "\n",
        "Sua tarefa é ler a ata a seguir da Reunião do Comitê de Política Monetária (Copom)\n",
        "do Banco Central do Brasil e classificar o documento em hawkish ou dovish:\n",
        "\n",
        "\"{ata}\"\n",
        "\n",
        "Classificação:\"\"\") # prompt para o Gemini\n",
        "\n",
        "# Combinar prompt, texto da ata e modelo\n",
        "classificador = (\n",
        "    {\"ata\": lambda ata: \"\\n\\n\".join(\n",
        "      format_document(pagina, doc_prompt) for pagina in ata\n",
        "      )}\n",
        "    | llm_prompt\n",
        "    | llm\n",
        "    | StrOutputParser()\n",
        ")\n",
        "\n",
        "classificador.invoke(ata[2:8])"
      ]
    },
    {
      "cell_type": "code",
      "execution_count": 19,
      "metadata": {},
      "outputs": [
        {
          "data": {
            "text/plain": [
              "'Hawkish'"
            ]
          },
          "execution_count": 19,
          "metadata": {},
          "output_type": "execute_result"
        }
      ],
      "source": [
        "classificador.invoke(ata)"
      ]
    }
  ],
  "metadata": {
    "colab": {
      "provenance": []
    },
    "kernelspec": {
      "display_name": "Python 3",
      "name": "python3"
    },
    "language_info": {
      "codemirror_mode": {
        "name": "ipython",
        "version": 3
      },
      "file_extension": ".py",
      "mimetype": "text/x-python",
      "name": "python",
      "nbconvert_exporter": "python",
      "pygments_lexer": "ipython3",
      "version": "3.11.5"
    }
  },
  "nbformat": 4,
  "nbformat_minor": 0
}
