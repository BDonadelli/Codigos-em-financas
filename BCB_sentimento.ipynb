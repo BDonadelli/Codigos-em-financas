{
  "cells": [
    {
      "cell_type": "code",
      "execution_count": 1,
      "metadata": {
        "id": "4TYtniujFuVE"
      },
      "outputs": [],
      "source": [
        "# Bibliotecas ----\n",
        "import os\n",
        "import json\n",
        "import requests\n",
        "import pandas as pd\n",
        "from langchain_google_genai import ChatGoogleGenerativeAI\n",
        "from langchain.prompts import PromptTemplate\n",
        "from langchain.chains.llm import LLMChain\n",
        "from langchain.chains.combine_documents.stuff import StuffDocumentsChain\n"
      ]
    },
    {
      "cell_type": "code",
      "execution_count": 2,
      "metadata": {},
      "outputs": [],
      "source": [
        "ultima_reuniao = requests.get(\"https://www.bcb.gov.br/api/servico/sitebcb/copom/atas?quantidade=1\").json()\n",
        "nro_ultima_reuniao = ultima_reuniao[\"conteudo\"][0][\"nroReuniao\"]"
      ]
    },
    {
      "cell_type": "code",
      "execution_count": 3,
      "metadata": {},
      "outputs": [
        {
          "data": {
            "text/plain": [
              "262"
            ]
          },
          "execution_count": 3,
          "metadata": {},
          "output_type": "execute_result"
        }
      ],
      "source": [
        "nro_ultima_reuniao"
      ]
    },
    {
      "cell_type": "code",
      "execution_count": 4,
      "metadata": {},
      "outputs": [],
      "source": [
        "quantidade = 12 # de reuniões passadas"
      ]
    },
    {
      "cell_type": "code",
      "execution_count": 5,
      "metadata": {},
      "outputs": [],
      "source": [
        "from langchain_community.document_loaders import WebBaseLoader\n",
        "from langchain.docstore.document import Document\n",
        "\n",
        "documentos = []\n",
        "for num in list(range(nro_ultima_reuniao - quantidade, nro_ultima_reuniao + 1)):\n",
        "    url = f'https://www.bcb.gov.br/api/servico/sitebcb/copom/atas_detalhes?nro_reuniao='\n",
        "    ata = WebBaseLoader(f\"{url}{num}\").load()\n",
        "    conteudo = json.loads(ata[0].page_content)[\"conteudo\"][0]['textoAta']\n",
        "    dia_ref = json.loads(ata[0].page_content)[\"conteudo\"][0][\"dataReferencia\"]\n",
        "    documentos.append(Document(page_content = conteudo,\n",
        "                               metadata = {\"data\": dia_ref}))\n"
      ]
    },
    {
      "cell_type": "code",
      "execution_count": 6,
      "metadata": {},
      "outputs": [],
      "source": [
        "# Autenticação na API do Google\n",
        "os.environ[\"GOOGLE_API_KEY\"] = open('passgooglestudio.txt', 'r').read()"
      ]
    },
    {
      "cell_type": "code",
      "execution_count": 7,
      "metadata": {
        "colab": {
          "base_uri": "https://localhost:8080/",
          "height": 832
        },
        "id": "1k-013hWHJTp",
        "outputId": "fb6e335e-7e76-4c8d-f91d-7c41ac35a8d2"
      },
      "outputs": [
        {
          "name": "stderr",
          "output_type": "stream",
          "text": [
            "Retrying langchain_google_genai.chat_models._chat_with_retry.<locals>._chat_with_retry in 2.0 seconds as it raised ResourceExhausted: 429 Resource has been exhausted (e.g. check quota)..\n",
            "Retrying langchain_google_genai.chat_models._chat_with_retry.<locals>._chat_with_retry in 4.0 seconds as it raised ResourceExhausted: 429 Resource has been exhausted (e.g. check quota)..\n",
            "Retrying langchain_google_genai.chat_models._chat_with_retry.<locals>._chat_with_retry in 2.0 seconds as it raised ResourceExhausted: 429 Resource has been exhausted (e.g. check quota)..\n",
            "Retrying langchain_google_genai.chat_models._chat_with_retry.<locals>._chat_with_retry in 4.0 seconds as it raised ResourceExhausted: 429 Resource has been exhausted (e.g. check quota)..\n",
            "Retrying langchain_google_genai.chat_models._chat_with_retry.<locals>._chat_with_retry in 8.0 seconds as it raised ResourceExhausted: 429 Resource has been exhausted (e.g. check quota)..\n",
            "Retrying langchain_google_genai.chat_models._chat_with_retry.<locals>._chat_with_retry in 16.0 seconds as it raised ResourceExhausted: 429 Resource has been exhausted (e.g. check quota)..\n",
            "Retrying langchain_google_genai.chat_models._chat_with_retry.<locals>._chat_with_retry in 32.0 seconds as it raised ResourceExhausted: 429 Resource has been exhausted (e.g. check quota)..\n"
          ]
        }
      ],
      "source": [
        "# Definição do modelo LLM\n",
        "llm = ChatGoogleGenerativeAI(model = \"gemini-pro\", temperature = 0)\n",
        "# Engenharia de prompt\n",
        "llm_prompt = PromptTemplate.from_template(\"\"\"\n",
        "Você é um cientista de dados experiente em machine learning e em NLP, dominando\n",
        "as técnicas de análise de sentimentos. Sua tarefa é analisar o sentimento do\n",
        "texto a seguir. Retorne o sentimento do texto em um índice de 0 a 100, sendo 0 o\n",
        "sentimento mais negativo, 100 o sentimento mais positivo e 50 o sentimento neutro:\n",
        "\n",
        "\"{DOCUMENTO}\"\n",
        "\n",
        "Índice:\"\"\")\n",
        "\n",
        "# Combinar prompt, texto da ata e modelo\n",
        "llm_chain = LLMChain(llm = llm, prompt = llm_prompt)\n",
        "\n",
        "quantificador = StuffDocumentsChain(llm_chain = llm_chain,document_variable_name = \"DOCUMENTO\")\n",
        "\n",
        "sentimento = []\n",
        "reuniao = []\n",
        "for doc in documentos:\n",
        "    sentimento.append(quantificador.invoke(input = [doc], return_only_outputs = True)[\"output_text\"])\n",
        "    reuniao.append(doc.metadata[\"data\"])"
      ]
    },
    {
      "cell_type": "code",
      "execution_count": 8,
      "metadata": {},
      "outputs": [],
      "source": [
        "tabela = pd.DataFrame()\n",
        "tabela['data'] = pd.to_datetime(reuniao)\n",
        "tabela['sentimento'] = sentimento\n",
        "tabela['sentimento'] = tabela['sentimento'].astype(int)\n",
        "# tabela"
      ]
    },
    {
      "cell_type": "code",
      "execution_count": 11,
      "metadata": {},
      "outputs": [],
      "source": [
        "import plotly.graph_objects as go\n",
        "# import plotly.io as pio"
      ]
    },
    {
      "cell_type": "code",
      "execution_count": 9,
      "metadata": {},
      "outputs": [],
      "source": [
        "# import kaleido\n",
        "# pio.renderers.default = 'vscode'"
      ]
    },
    {
      "cell_type": "code",
      "execution_count": 13,
      "metadata": {},
      "outputs": [
        {
          "data": {
            "image/svg+xml": [
              "<svg class=\"main-svg\" xmlns=\"http://www.w3.org/2000/svg\" xmlns:xlink=\"http://www.w3.org/1999/xlink\" width=\"700\" height=\"500\" style=\"\" viewBox=\"0 0 700 500\"><rect x=\"0\" y=\"0\" width=\"700\" height=\"500\" style=\"fill: rgb(255, 255, 255); fill-opacity: 1;\"/><defs id=\"defs-c2044c\"><g class=\"clips\"><clipPath id=\"clipc2044cxyplot\" class=\"plotclip\"><rect width=\"540\" height=\"317\"/></clipPath><clipPath class=\"axesclip\" id=\"clipc2044cx\"><rect x=\"80\" y=\"0\" width=\"540\" height=\"500\"/></clipPath><clipPath class=\"axesclip\" id=\"clipc2044cy\"><rect x=\"0\" y=\"100\" width=\"700\" height=\"317\"/></clipPath><clipPath class=\"axesclip\" id=\"clipc2044cxy\"><rect x=\"80\" y=\"100\" width=\"540\" height=\"317\"/></clipPath></g><g class=\"gradients\"/><g class=\"patterns\"/></defs><g class=\"bglayer\"><rect class=\"bg\" x=\"80\" y=\"100\" width=\"540\" height=\"317\" style=\"fill: rgb(229, 236, 246); fill-opacity: 1; stroke-width: 0;\"/></g><g class=\"layer-below\"><g class=\"imagelayer\"/><g class=\"shapelayer\"/></g><g class=\"cartesianlayer\"><g class=\"subplot xy\"><g class=\"layer-subplot\"><g class=\"shapelayer\"/><g class=\"imagelayer\"/></g><g class=\"minor-gridlayer\"><g class=\"x\"/><g class=\"y\"/></g><g class=\"gridlayer\"><g class=\"x\"><path class=\"xgrid crisp\" transform=\"translate(144.61,0)\" d=\"M0,100v317\" style=\"stroke: rgb(255, 255, 255); stroke-opacity: 1; stroke-width: 1px;\"/><path class=\"xgrid crisp\" transform=\"translate(231.39,0)\" d=\"M0,100v317\" style=\"stroke: rgb(255, 255, 255); stroke-opacity: 1; stroke-width: 1px;\"/><path class=\"xgrid crisp\" transform=\"translate(319.14,0)\" d=\"M0,100v317\" style=\"stroke: rgb(255, 255, 255); stroke-opacity: 1; stroke-width: 1px;\"/><path class=\"xgrid crisp\" transform=\"translate(407.86,0)\" d=\"M0,100v317\" style=\"stroke: rgb(255, 255, 255); stroke-opacity: 1; stroke-width: 1px;\"/><path class=\"xgrid crisp\" transform=\"translate(496.57,0)\" d=\"M0,100v317\" style=\"stroke: rgb(255, 255, 255); stroke-opacity: 1; stroke-width: 1px;\"/><path class=\"xgrid crisp\" transform=\"translate(584.3199999999999,0)\" d=\"M0,100v317\" style=\"stroke: rgb(255, 255, 255); stroke-opacity: 1; stroke-width: 1px;\"/></g><g class=\"y\"><path class=\"ygrid crisp\" transform=\"translate(0,356.77)\" d=\"M80,0h540\" style=\"stroke: rgb(255, 255, 255); stroke-opacity: 1; stroke-width: 1px;\"/><path class=\"ygrid crisp\" transform=\"translate(0,296.53999999999996)\" d=\"M80,0h540\" style=\"stroke: rgb(255, 255, 255); stroke-opacity: 1; stroke-width: 1px;\"/><path class=\"ygrid crisp\" transform=\"translate(0,236.31)\" d=\"M80,0h540\" style=\"stroke: rgb(255, 255, 255); stroke-opacity: 1; stroke-width: 1px;\"/><path class=\"ygrid crisp\" transform=\"translate(0,176.07999999999998)\" d=\"M80,0h540\" style=\"stroke: rgb(255, 255, 255); stroke-opacity: 1; stroke-width: 1px;\"/><path class=\"ygrid crisp\" transform=\"translate(0,115.85)\" d=\"M80,0h540\" style=\"stroke: rgb(255, 255, 255); stroke-opacity: 1; stroke-width: 1px;\"/></g></g><g class=\"zerolinelayer\"><path class=\"yzl zl crisp\" transform=\"translate(0,417)\" d=\"M80,0h540\" style=\"stroke: rgb(255, 255, 255); stroke-opacity: 1; stroke-width: 2px;\"/></g><path class=\"xlines-below\"/><path class=\"ylines-below\"/><g class=\"overlines-below\"/><g class=\"xaxislayer-below\"/><g class=\"yaxislayer-below\"/><g class=\"overaxes-below\"/><g class=\"plot\" transform=\"translate(80,100)\" clip-path=\"url(#clipc2044cxyplot)\"><g class=\"scatterlayer mlayer\"><g class=\"trace scatter trace442a6d\" style=\"stroke-miterlimit: 2;\"><g class=\"fills\"><g><path class=\"js-fill\" d=\"M540,317L0,317L0,166.43L540,166.43\" style=\"fill: rgb(255, 0, 0); fill-opacity: 0.45; stroke-width: 0;\"/></g><g><path class=\"js-fill\" d=\"M0,15.85L540,15.85L540,166.43L0,166.43Z\" style=\"fill: rgb(0, 128, 0); fill-opacity: 0.45; stroke-width: 0;\"/></g></g><g class=\"errorbars\"/><g class=\"lines\"><path class=\"js-line\" d=\"M0,166.43L540,166.43\" style=\"vector-effect: none; fill: none; stroke: rgb(255, 0, 0); stroke-opacity: 1; stroke-width: 0px; opacity: 1;\"/></g><g class=\"points\"/><g class=\"text\"/></g><g class=\"trace scatter tracea968f3\" style=\"stroke-miterlimit: 2;\"><g class=\"fills\"/><g class=\"errorbars\"/><g class=\"lines\"><path class=\"js-line\" d=\"M0,15.85L540,15.85\" style=\"vector-effect: none; fill: none; stroke: rgb(0, 128, 0); stroke-opacity: 1; stroke-width: 0px; opacity: 1;\"/></g><g class=\"points\"/><g class=\"text\"/></g><g class=\"trace scatter traceb96922\" style=\"stroke-miterlimit: 2; opacity: 1;\"><g class=\"fills\"/><g class=\"errorbars\"/><g class=\"lines\"><path class=\"js-line\" d=\"M0,196.54L40.5,196.54L94.5,166.43L141.75,181.48L182.25,151.37L229.5,151.37L270,91.14L357.75,91.14L398.25,121.25L445.5,121.25L492.75,136.31L540,136.31\" style=\"vector-effect: none; fill: none; stroke: rgb(0, 0, 0); stroke-opacity: 1; stroke-width: 2px; opacity: 1;\"/></g><g class=\"points\"/><g class=\"text\"/></g></g></g><g class=\"overplot\"/><path class=\"xlines-above crisp\" d=\"M0,0\" style=\"fill: none;\"/><path class=\"ylines-above crisp\" d=\"M0,0\" style=\"fill: none;\"/><g class=\"overlines-above\"/><g class=\"xaxislayer-above\"><g class=\"xtick\"><text text-anchor=\"start\" x=\"0\" y=\"430\" transform=\"translate(144.61,0) rotate(45,0,424)\" style=\"font-family: 'Open Sans', verdana, arial, sans-serif; font-size: 12px; fill: rgb(42, 63, 95); fill-opacity: 1; white-space: pre; opacity: 1;\">01/2023</text></g><g class=\"xtick\"><text text-anchor=\"start\" x=\"0\" y=\"430\" style=\"font-family: 'Open Sans', verdana, arial, sans-serif; font-size: 12px; fill: rgb(42, 63, 95); fill-opacity: 1; white-space: pre; opacity: 1;\" transform=\"translate(231.39,0) rotate(45,0,424)\">04/2023</text></g><g class=\"xtick\"><text text-anchor=\"start\" x=\"0\" y=\"430\" style=\"font-family: 'Open Sans', verdana, arial, sans-serif; font-size: 12px; fill: rgb(42, 63, 95); fill-opacity: 1; white-space: pre; opacity: 1;\" transform=\"translate(319.14,0) rotate(45,0,424)\">07/2023</text></g><g class=\"xtick\"><text text-anchor=\"start\" x=\"0\" y=\"430\" style=\"font-family: 'Open Sans', verdana, arial, sans-serif; font-size: 12px; fill: rgb(42, 63, 95); fill-opacity: 1; white-space: pre; opacity: 1;\" transform=\"translate(407.86,0) rotate(45,0,424)\">10/2023</text></g><g class=\"xtick\"><text text-anchor=\"start\" x=\"0\" y=\"430\" style=\"font-family: 'Open Sans', verdana, arial, sans-serif; font-size: 12px; fill: rgb(42, 63, 95); fill-opacity: 1; white-space: pre; opacity: 1;\" transform=\"translate(496.57,0) rotate(45,0,424)\">01/2024</text></g><g class=\"xtick\"><text text-anchor=\"start\" x=\"0\" y=\"430\" style=\"font-family: 'Open Sans', verdana, arial, sans-serif; font-size: 12px; fill: rgb(42, 63, 95); fill-opacity: 1; white-space: pre; opacity: 1;\" transform=\"translate(584.3199999999999,0) rotate(45,0,424)\">04/2024</text></g></g><g class=\"yaxislayer-above\"><g class=\"ytick\"><text text-anchor=\"end\" x=\"79\" y=\"4.199999999999999\" transform=\"translate(0,417)\" style=\"font-family: 'Open Sans', verdana, arial, sans-serif; font-size: 12px; fill: rgb(42, 63, 95); fill-opacity: 1; white-space: pre; opacity: 1;\">0</text></g><g class=\"ytick\"><text text-anchor=\"end\" x=\"79\" y=\"4.199999999999999\" style=\"font-family: 'Open Sans', verdana, arial, sans-serif; font-size: 12px; fill: rgb(42, 63, 95); fill-opacity: 1; white-space: pre; opacity: 1;\" transform=\"translate(0,356.77)\">20</text></g><g class=\"ytick\"><text text-anchor=\"end\" x=\"79\" y=\"4.199999999999999\" style=\"font-family: 'Open Sans', verdana, arial, sans-serif; font-size: 12px; fill: rgb(42, 63, 95); fill-opacity: 1; white-space: pre; opacity: 1;\" transform=\"translate(0,296.53999999999996)\">40</text></g><g class=\"ytick\"><text text-anchor=\"end\" x=\"79\" y=\"4.199999999999999\" style=\"font-family: 'Open Sans', verdana, arial, sans-serif; font-size: 12px; fill: rgb(42, 63, 95); fill-opacity: 1; white-space: pre; opacity: 1;\" transform=\"translate(0,236.31)\">60</text></g><g class=\"ytick\"><text text-anchor=\"end\" x=\"79\" y=\"4.199999999999999\" style=\"font-family: 'Open Sans', verdana, arial, sans-serif; font-size: 12px; fill: rgb(42, 63, 95); fill-opacity: 1; white-space: pre; opacity: 1;\" transform=\"translate(0,176.07999999999998)\">80</text></g><g class=\"ytick\"><text text-anchor=\"end\" x=\"79\" y=\"4.199999999999999\" style=\"font-family: 'Open Sans', verdana, arial, sans-serif; font-size: 12px; fill: rgb(42, 63, 95); fill-opacity: 1; white-space: pre; opacity: 1;\" transform=\"translate(0,115.85)\">100</text></g></g><g class=\"overaxes-above\"/></g></g><g class=\"polarlayer\"/><g class=\"smithlayer\"/><g class=\"ternarylayer\"/><g class=\"geolayer\"/><g class=\"funnelarealayer\"/><g class=\"pielayer\"/><g class=\"iciclelayer\"/><g class=\"treemaplayer\"/><g class=\"sunburstlayer\"/><g class=\"glimages\"/><defs id=\"topdefs-c2044c\"><g class=\"clips\"/></defs><g class=\"layer-above\"><g class=\"imagelayer\"/><g class=\"shapelayer\"/></g><g class=\"infolayer\"><g class=\"g-gtitle\"><text class=\"gtitle\" x=\"35\" y=\"50\" text-anchor=\"start\" dy=\"0em\" style=\"font-family: 'Open Sans', verdana, arial, sans-serif; font-size: 17px; fill: rgb(42, 63, 95); opacity: 1; font-weight: normal; white-space: pre;\">Análise de Sentimento de Política Monetária - Brasil</text></g><g class=\"g-xtitle\"><text class=\"xtitle\" x=\"350\" y=\"487.6994140625\" text-anchor=\"middle\" style=\"font-family: 'Open Sans', verdana, arial, sans-serif; font-size: 14px; fill: rgb(42, 63, 95); opacity: 1; font-weight: normal; white-space: pre;\">Reunião do COPOM</text></g><g class=\"g-ytitle\"><text class=\"ytitle\" transform=\"rotate(-90,34.10625,258.5)\" x=\"34.10625\" y=\"258.5\" text-anchor=\"middle\" style=\"font-family: 'Open Sans', verdana, arial, sans-serif; font-size: 14px; fill: rgb(42, 63, 95); opacity: 1; font-weight: normal; white-space: pre;\">Índice sentimento</text></g><g class=\"annotation\" data-index=\"0\" style=\"opacity: 1;\"><g class=\"annotation-text-g\" transform=\"rotate(0,112.5,62.95000000000003)\"><g class=\"cursor-pointer\" transform=\"translate(80,52)\"><rect class=\"bg\" x=\"0.5\" y=\"0.5\" width=\"64\" height=\"20\" style=\"stroke-width: 1px; stroke: rgb(0, 0, 0); stroke-opacity: 0; fill: rgb(0, 0, 0); fill-opacity: 0;\"/><text class=\"annotation-text\" text-anchor=\"middle\" x=\"32.609375\" y=\"15\" style=\"font-family: 'Open Sans', verdana, arial, sans-serif; font-size: 12px; fill: rgb(42, 63, 95); fill-opacity: 1; white-space: pre;\">Fonte: BCB</text></g></g></g></g></svg>"
            ]
          },
          "metadata": {},
          "output_type": "display_data"
        }
      ],
      "source": [
        "\n",
        "\n",
        "linha_sentimento = go.Scatter(x=tabela['data'],y=tabela['sentimento'],mode='lines',line_color='black',name='Sentimento',showlegend=False)\n",
        "# Criar as áreas de fundo\n",
        "area_negativa = go.Scatter(\n",
        "    x=tabela['data'],\n",
        "    y=[50] * len(tabela),  # Linha horizontal em y=50\n",
        "    mode='lines',\n",
        "    line=dict(width=0, color='red'), # Linha invisível\n",
        "    fill='tonexty', # Preencher até a próxima linha\n",
        "    fillcolor='rgba(255, 0, 0, 0.45)',  # Vermelho com transparência\n",
        "    showlegend=False\n",
        ")\n",
        "\n",
        "area_positiva = go.Scatter(\n",
        "    x=tabela['data'],\n",
        "    y=[100] * len(tabela), # Linha horizontal em y=100\n",
        "    mode='lines',\n",
        "    line=dict(width=0, color='green'), # Linha invisível\n",
        "    fill='tonexty', # Preencher até a próxima linha\n",
        "    fillcolor='rgba(0, 128, 0, 0.45)',  # Verde com transparência\n",
        "    showlegend=False\n",
        ")\n",
        "\n",
        "# Criar o objeto figura e adicionar os traços\n",
        "fig = go.Figure(data=[area_negativa, area_positiva, linha_sentimento])\n",
        "\n",
        "# Personalizar o layout\n",
        "fig.update_layout(\n",
        "    title=\"Análise de Sentimento de Política Monetária - Brasil\",\n",
        "    xaxis_title=\"Reunião do COPOM\",\n",
        "    yaxis_title=\"Índice sentimento\",\n",
        "    xaxis_tickformat=\"%m/%Y\",\n",
        "    xaxis_tickangle=45,\n",
        "    \n",
        "    # Adicionar nota como anotação\n",
        "    annotations=[dict(\n",
        "        x=0, \n",
        "        y=1.15, \n",
        "        xref=\"paper\", \n",
        "        yref=\"paper\", \n",
        "        text=\"Fonte: BCB\",\n",
        "        showarrow=False\n",
        "    )]\n",
        ")\n",
        "\n",
        "# Exibir o gráfico\n",
        "fig.show(\"svg\")"
      ]
    },
    {
      "cell_type": "code",
      "execution_count": null,
      "metadata": {},
      "outputs": [],
      "source": [
        "from langchain_community.document_loaders import PyPDFLoader \n",
        "from langchain.schema import StrOutputParser\n",
        "from langchain.schema.prompt_template import format_document\n",
        "\n",
        "no_reuniao = str(ultima_reuniao[\"conteudo\"][0][\"nroReuniao\"])\n",
        "data_refer = str(ultima_reuniao[\"conteudo\"][0][\"dataReferencia\"]).replace(\"-\", \"\")\n",
        "url_ata = f\"https://www.bcb.gov.br/content/copom/atascopom/Copom{no_reuniao}-not{data_refer+no_reuniao}.pdf\"\n",
        "\n",
        "# Coleta de dados ----\n",
        "pdf = PyPDFLoader(url_ata)\n",
        "ata = pdf.load_and_split()"
      ]
    },
    {
      "cell_type": "code",
      "execution_count": null,
      "metadata": {},
      "outputs": [
        {
          "name": "stderr",
          "output_type": "stream",
          "text": [
            "Retrying langchain_google_genai.chat_models._chat_with_retry.<locals>._chat_with_retry in 2.0 seconds as it raised ResourceExhausted: 429 Resource has been exhausted (e.g. check quota)..\n",
            "Retrying langchain_google_genai.chat_models._chat_with_retry.<locals>._chat_with_retry in 4.0 seconds as it raised ResourceExhausted: 429 Resource has been exhausted (e.g. check quota)..\n",
            "Retrying langchain_google_genai.chat_models._chat_with_retry.<locals>._chat_with_retry in 8.0 seconds as it raised ResourceExhausted: 429 Resource has been exhausted (e.g. check quota)..\n"
          ]
        },
        {
          "data": {
            "text/plain": [
              "'Hawkish'"
            ]
          },
          "execution_count": 18,
          "metadata": {},
          "output_type": "execute_result"
        }
      ],
      "source": [
        "doc_prompt = PromptTemplate.from_template(\"{page_content}\") # extrai texto do PDF\n",
        "\n",
        "llm_prompt = PromptTemplate.from_template(\"\"\"\n",
        "Você é um economista chefe experiente em análise de política monetária, tendo\n",
        "trabalhado em fundos de investimentos e grandes bancos, além de ser PhD em\n",
        "economia.\n",
        "\n",
        "Sua tarefa é ler a ata a seguir da Reunião do Comitê de Política Monetária (Copom)\n",
        "do Banco Central do Brasil e classificar o documento em hawkish ou dovish:\n",
        "\n",
        "\"{ata}\"\n",
        "\n",
        "Classificação:\"\"\") # prompt para o Gemini\n",
        "\n",
        "# Combinar prompt, texto da ata e modelo\n",
        "classificador = (\n",
        "    {\"ata\": lambda ata: \"\\n\\n\".join(\n",
        "      format_document(pagina, doc_prompt) for pagina in ata\n",
        "      )}\n",
        "    | llm_prompt\n",
        "    | llm\n",
        "    | StrOutputParser()\n",
        ")\n",
        "\n",
        "classificador.invoke(ata[2:8])"
      ]
    },
    {
      "cell_type": "code",
      "execution_count": null,
      "metadata": {},
      "outputs": [
        {
          "data": {
            "text/plain": [
              "'Hawkish'"
            ]
          },
          "execution_count": 19,
          "metadata": {},
          "output_type": "execute_result"
        }
      ],
      "source": [
        "classificador.invoke(ata)"
      ]
    }
  ],
  "metadata": {
    "colab": {
      "provenance": []
    },
    "kernelspec": {
      "display_name": "Python 3",
      "name": "python3"
    },
    "language_info": {
      "codemirror_mode": {
        "name": "ipython",
        "version": 3
      },
      "file_extension": ".py",
      "mimetype": "text/x-python",
      "name": "python",
      "nbconvert_exporter": "python",
      "pygments_lexer": "ipython3",
      "version": "3.11.5"
    }
  },
  "nbformat": 4,
  "nbformat_minor": 0
}
