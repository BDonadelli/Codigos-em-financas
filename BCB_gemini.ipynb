{
 "cells": [
  {
   "cell_type": "code",
   "execution_count": 50,
   "metadata": {},
   "outputs": [],
   "source": [
    "from langchain_community.document_loaders import PyPDFLoader \n",
    "from langchain_google_genai import ChatGoogleGenerativeAI\n",
    "from langchain.prompts import PromptTemplate\n",
    "from langchain.schema.prompt_template import format_document\n",
    "from langchain.schema import StrOutputParser\n",
    "import os"
   ]
  },
  {
   "cell_type": "code",
   "execution_count": 51,
   "metadata": {},
   "outputs": [],
   "source": [
    "os.environ[\"GOOGLE_API_KEY\"] = open('passgooglestudio.txt', 'r').read()"
   ]
  },
  {
   "cell_type": "markdown",
   "metadata": {},
   "source": [
    "https://www.bcb.gov.br/publicacoes/atascopom"
   ]
  },
  {
   "cell_type": "code",
   "execution_count": 52,
   "metadata": {},
   "outputs": [
    {
     "data": {
      "text/plain": [
       "'https://www.bcb.gov.br/content/copom/atascopom/Copom261-not20240320261.pdf'"
      ]
     },
     "execution_count": 52,
     "metadata": {},
     "output_type": "execute_result"
    }
   ],
   "source": [
    "# Coleta de dados ----\n",
    "import requests\n",
    "ultima_ata = requests.get(\n",
    "  \"https://www.bcb.gov.br/api/servico/sitebcb/copom/atas?quantidade=1\"\n",
    "  ).json()\n",
    "no_reuniao = str(ultima_ata[\"conteudo\"][0][\"nroReuniao\"])\n",
    "data_refer = str(ultima_ata[\"conteudo\"][0][\"dataReferencia\"]).replace(\"-\", \"\")\n",
    "\n",
    "url_ata = f\"https://www.bcb.gov.br/content/copom/atascopom/Copom{no_reuniao}-not{data_refer+no_reuniao}.pdf\"\n",
    "\n",
    "url_ata"
   ]
  },
  {
   "cell_type": "code",
   "execution_count": 53,
   "metadata": {},
   "outputs": [
    {
     "data": {
      "text/plain": [
       "'Hawkish'"
      ]
     },
     "execution_count": 53,
     "metadata": {},
     "output_type": "execute_result"
    }
   ],
   "source": [
    "# Coleta de dados ----\n",
    "pdf = PyPDFLoader(url_ata)### \"https://www.bcb.gov.br/content/copom/atascopom/Copom261-not20240320261.pdf\")\n",
    "ata = pdf.load_and_split()\n",
    "\n",
    "\n",
    "# Definição do modelo LLM e Engenharia de prompt ----\n",
    "llm = ChatGoogleGenerativeAI(model=\"gemini-pro\", temperature=0)\n",
    "\n",
    "doc_prompt = PromptTemplate.from_template(\"{page_content}\") # extrai texto do PDF\n",
    "\n",
    "llm_prompt = PromptTemplate.from_template(\"\"\"\n",
    "Você é um economista chefe experiente em análise de política monetária, tendo\n",
    "trabalhado em fundos de investimentos e grandes bancos, além de ser PhD em\n",
    "economia.\n",
    "\n",
    "Sua tarefa é ler a ata a seguir da Reunião do Comitê de Política Monetária (Copom)\n",
    "do Banco Central do Brasil e classificar o documento em hawkish ou dovish:\n",
    "\n",
    "\"{ata}\"\n",
    "\n",
    "Classificação:\"\"\") # prompt para o Gemini\n",
    "\n",
    "# Combinar prompt, texto da ata e modelo\n",
    "classificador = (\n",
    "    {\"ata\": lambda ata: \"\\n\\n\".join(\n",
    "      format_document(pagina, doc_prompt) for pagina in ata\n",
    "      )}\n",
    "    | llm_prompt\n",
    "    | llm\n",
    "    | StrOutputParser()\n",
    ")\n",
    "\n",
    "classificador.invoke(ata[2:8])"
   ]
  },
  {
   "cell_type": "code",
   "execution_count": 54,
   "metadata": {},
   "outputs": [],
   "source": [
    "#  Bibliotecas ----\n",
    "# from shiny import App, reactive, render, ui\n",
    "from langchain.chains.combine_documents.stuff import StuffDocumentsChain\n",
    "from langchain.chains.llm import LLMChain\n",
    "# from langchain.prompts import PromptTemplate\n",
    "# from langchain_community.document_loaders import PyPDFLoader\n",
    "from langchain_openai import ChatOpenAI\n",
    "# import os"
   ]
  },
  {
   "cell_type": "code",
   "execution_count": 56,
   "metadata": {},
   "outputs": [
    {
     "name": "stdout",
     "output_type": "stream",
     "text": [
      "- **Cenário Macroeconômico:**\n",
      "    - Dinâmicas de reprecificação de juros nos EUA e inflação persistente na Europa.\n",
      "    - Crescimento econômico projetado para 1% no Brasil em 2024, com cortes de juros previstos para meados do ano.\n",
      "\n",
      "- **Projeções Econômicas:**\n",
      "    - PIB do Brasil projetado para crescer 1% em 2024, com inflação de 3,6%.\n",
      "    - Taxa Selic estimada em 9,25% em meados de 2024.\n",
      "\n",
      "- **Mercado de Crédito:**\n",
      "    - Otimismo para 2024, com afrouxamento da política monetária global e redução da Selic.\n",
      "    - Potencial de ganhos de capital reduzido devido à compressão anterior dos spreads.\n"
     ]
    }
   ],
   "source": [
    "pdf = PyPDFLoader('data/carta-fev-24.pdf')\n",
    "                  #https://www.dynamo.com.br/uploads/a615cb4e89402e053db8cf63256714814c312510.pdf')\n",
    "texto = pdf.load_and_split()\n",
    "\n",
    "llm = ChatGoogleGenerativeAI(model=\"gemini-pro\", temperature=0)\n",
    "doc_prompt = PromptTemplate.from_template(\"{page_content}\") # extrai texto do PDF\n",
    "prompt = PromptTemplate.from_template(\n",
    "            \"\"\"Escreva um sumário do texto a seguir delimitado com 3 crases.\n",
    "            Retorne sua resposta em 3 ou 5 marcadores com uma breve descrição dos\n",
    "            pontos chave do texto.\n",
    "\n",
    "            ```{TEXTO}```\n",
    "\n",
    "            SUMÁRIO:\"\"\")\n",
    "\n",
    "\n",
    "llm_chain = LLMChain(llm = llm, prompt = prompt)\n",
    "modelo = StuffDocumentsChain(\n",
    "            llm_chain = llm_chain,\n",
    "            document_variable_name = \"TEXTO\"\n",
    "            )\n",
    "\n",
    "resultado = modelo.run(texto)\n",
    "\n",
    "print(resultado)"
   ]
  },
  {
   "cell_type": "code",
   "execution_count": null,
   "metadata": {},
   "outputs": [],
   "source": [
    "os.environ[\"OPENAI_API_KEY\"] = open('passopenai.txt', 'r').read()\n",
    "\n",
    "pdf = PyPDFLoader('https://aluno.analisemacro.com.br/download/59224/?tmstv=1710776237')\n",
    "                  #https://www.dynamo.com.br/uploads/a615cb4e89402e053db8cf63256714814c312510.pdf')\n",
    "texto = pdf.load_and_split()\n",
    "\n",
    "llm = ChatOpenAI(temperature = 0, model_name = \"gpt-3.5-turbo\")\n",
    "\n",
    "prompt = PromptTemplate.from_template(\n",
    "            \"\"\"Escreva um sumário do texto a seguir delimitado com 3 crases.\n",
    "            Retorne sua resposta em 3 ou 5 marcadores com uma breve descrição dos\n",
    "            pontos chave do texto.\n",
    "\n",
    "            ```{TEXTO}```\n",
    "\n",
    "            SUMÁRIO:\"\"\")\n",
    "\n",
    "llm_chain = LLMChain(llm = llm, prompt = prompt)\n",
    "modelo = StuffDocumentsChain(\n",
    "            llm_chain = llm_chain,\n",
    "            document_variable_name = \"TEXTO\"\n",
    "            )\n",
    "\n",
    "resultado = modelo.run(texto)\n"
   ]
  }
 ],
 "metadata": {
  "kernelspec": {
   "display_name": "base",
   "language": "python",
   "name": "python3"
  },
  "language_info": {
   "codemirror_mode": {
    "name": "ipython",
    "version": 3
   },
   "file_extension": ".py",
   "mimetype": "text/x-python",
   "name": "python",
   "nbconvert_exporter": "python",
   "pygments_lexer": "ipython3",
   "version": "3.1.undefined"
  }
 },
 "nbformat": 4,
 "nbformat_minor": 2
}
