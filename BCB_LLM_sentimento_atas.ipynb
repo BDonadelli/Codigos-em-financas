{
  "cells": [
    {
      "cell_type": "code",
      "execution_count": 1,
      "metadata": {
        "id": "4TYtniujFuVE"
      },
      "outputs": [],
      "source": [
        "# Bibliotecas ----\n",
        "import os\n",
        "import json\n",
        "import requests\n",
        "import pandas as pd\n",
        "from langchain_google_genai import ChatGoogleGenerativeAI\n",
        "from langchain.prompts import PromptTemplate\n",
        "from langchain.chains.llm import LLMChain\n",
        "from langchain.chains.combine_documents.stuff import StuffDocumentsChain\n"
      ]
    },
    {
      "cell_type": "code",
      "execution_count": 2,
      "metadata": {},
      "outputs": [],
      "source": [
        "ultima_reuniao = requests.get(\"https://www.bcb.gov.br/api/servico/sitebcb/copom/atas?quantidade=1\").json()\n",
        "nro_ultima_reuniao = ultima_reuniao[\"conteudo\"][0][\"nroReuniao\"]\n",
        "nro_ultima_reuniao"
      ]
    },
    {
      "cell_type": "code",
      "execution_count": 4,
      "metadata": {},
      "outputs": [],
      "source": [
        "quantidade = 12 # de reuniões passadas"
      ]
    },
    {
      "cell_type": "code",
      "execution_count": 5,
      "metadata": {},
      "outputs": [],
      "source": [
        "from langchain_community.document_loaders import WebBaseLoader\n",
        "from langchain.docstore.document import Document\n",
        "\n",
        "documentos = []\n",
        "for num in list(range(nro_ultima_reuniao - quantidade, nro_ultima_reuniao + 1)):\n",
        "    url = f'https://www.bcb.gov.br/api/servico/sitebcb/copom/atas_detalhes?nro_reuniao='\n",
        "    ata = WebBaseLoader(f\"{url}{num}\").load()\n",
        "    conteudo = json.loads(ata[0].page_content)[\"conteudo\"][0]['textoAta']\n",
        "    dia_ref = json.loads(ata[0].page_content)[\"conteudo\"][0][\"dataReferencia\"]\n",
        "    documentos.append(Document(page_content = conteudo,\n",
        "                               metadata = {\"data\": dia_ref}))\n"
      ]
    },
    {
      "cell_type": "code",
      "execution_count": 6,
      "metadata": {},
      "outputs": [],
      "source": [
        "# Autenticação na API do Google\n",
        "os.environ[\"GOOGLE_API_KEY\"] = open('passgooglestudio.txt', 'r').read()"
      ]
    },
    {
      "cell_type": "code",
      "execution_count": 7,
      "metadata": {
        "colab": {
          "base_uri": "https://localhost:8080/",
          "height": 832
        },
        "id": "1k-013hWHJTp",
        "outputId": "fb6e335e-7e76-4c8d-f91d-7c41ac35a8d2"
      },
      "outputs": [
        {
          "name": "stderr",
          "output_type": "stream",
          "text": [
            "Retrying langchain_google_genai.chat_models._chat_with_retry.<locals>._chat_with_retry in 2.0 seconds as it raised ResourceExhausted: 429 Resource has been exhausted (e.g. check quota)..\n",
            "Retrying langchain_google_genai.chat_models._chat_with_retry.<locals>._chat_with_retry in 4.0 seconds as it raised ResourceExhausted: 429 Resource has been exhausted (e.g. check quota)..\n",
            "Retrying langchain_google_genai.chat_models._chat_with_retry.<locals>._chat_with_retry in 8.0 seconds as it raised ResourceExhausted: 429 Resource has been exhausted (e.g. check quota)..\n",
            "Retrying langchain_google_genai.chat_models._chat_with_retry.<locals>._chat_with_retry in 16.0 seconds as it raised ResourceExhausted: 429 Resource has been exhausted (e.g. check quota)..\n",
            "Retrying langchain_google_genai.chat_models._chat_with_retry.<locals>._chat_with_retry in 32.0 seconds as it raised ResourceExhausted: 429 Resource has been exhausted (e.g. check quota)..\n",
            "Retrying langchain_google_genai.chat_models._chat_with_retry.<locals>._chat_with_retry in 2.0 seconds as it raised ResourceExhausted: 429 Resource has been exhausted (e.g. check quota)..\n",
            "Retrying langchain_google_genai.chat_models._chat_with_retry.<locals>._chat_with_retry in 4.0 seconds as it raised ResourceExhausted: 429 Resource has been exhausted (e.g. check quota)..\n",
            "Retrying langchain_google_genai.chat_models._chat_with_retry.<locals>._chat_with_retry in 8.0 seconds as it raised ResourceExhausted: 429 Resource has been exhausted (e.g. check quota)..\n"
          ]
        }
      ],
      "source": [
        "# Definição do modelo LLM\n",
        "llm = ChatGoogleGenerativeAI(model = \"gemini-pro\", temperature = 0)\n",
        "# Engenharia de prompt\n",
        "llm_prompt = PromptTemplate.from_template(\"\"\"\n",
        "Você é um cientista de dados experiente em machine learning e em NLP, dominando\n",
        "as técnicas de análise de sentimentos. Sua tarefa é analisar o sentimento do\n",
        "texto a seguir. Retorne o sentimento do texto em um índice de 0 a 100, sendo 0 o\n",
        "sentimento mais negativo, 100 o sentimento mais positivo e 50 o sentimento neutro:\n",
        "\n",
        "\"{DOCUMENTO}\"\n",
        "\n",
        "Índice:\"\"\")\n",
        "\n",
        "# Combinar prompt, texto da ata e modelo\n",
        "llm_chain = LLMChain(llm = llm, prompt = llm_prompt)\n",
        "\n",
        "quantificador = StuffDocumentsChain(llm_chain = llm_chain,document_variable_name = \"DOCUMENTO\")\n",
        "\n",
        "sentimento = []\n",
        "reuniao = []\n",
        "for doc in documentos:\n",
        "    sentimento.append(quantificador.invoke(input = [doc], return_only_outputs = True)[\"output_text\"])\n",
        "    reuniao.append(doc.metadata[\"data\"])"
      ]
    },
    {
      "cell_type": "code",
      "execution_count": 8,
      "metadata": {},
      "outputs": [
        {
          "data": {
            "text/html": [
              "<div>\n",
              "<style scoped>\n",
              "    .dataframe tbody tr th:only-of-type {\n",
              "        vertical-align: middle;\n",
              "    }\n",
              "\n",
              "    .dataframe tbody tr th {\n",
              "        vertical-align: top;\n",
              "    }\n",
              "\n",
              "    .dataframe thead th {\n",
              "        text-align: right;\n",
              "    }\n",
              "</style>\n",
              "<table border=\"1\" class=\"dataframe\">\n",
              "  <thead>\n",
              "    <tr style=\"text-align: right;\">\n",
              "      <th></th>\n",
              "      <th>data</th>\n",
              "      <th>sentimento</th>\n",
              "    </tr>\n",
              "  </thead>\n",
              "  <tbody>\n",
              "    <tr>\n",
              "      <th>0</th>\n",
              "      <td>2023-02-01</td>\n",
              "      <td>50</td>\n",
              "    </tr>\n",
              "    <tr>\n",
              "      <th>1</th>\n",
              "      <td>2023-03-22</td>\n",
              "      <td>45</td>\n",
              "    </tr>\n",
              "    <tr>\n",
              "      <th>2</th>\n",
              "      <td>2023-05-03</td>\n",
              "      <td>55</td>\n",
              "    </tr>\n",
              "    <tr>\n",
              "      <th>3</th>\n",
              "      <td>2023-06-21</td>\n",
              "      <td>55</td>\n",
              "    </tr>\n",
              "    <tr>\n",
              "      <th>4</th>\n",
              "      <td>2023-08-02</td>\n",
              "      <td>75</td>\n",
              "    </tr>\n",
              "    <tr>\n",
              "      <th>5</th>\n",
              "      <td>2023-09-20</td>\n",
              "      <td>75</td>\n",
              "    </tr>\n",
              "    <tr>\n",
              "      <th>6</th>\n",
              "      <td>2023-11-01</td>\n",
              "      <td>75</td>\n",
              "    </tr>\n",
              "    <tr>\n",
              "      <th>7</th>\n",
              "      <td>2023-12-13</td>\n",
              "      <td>65</td>\n",
              "    </tr>\n",
              "    <tr>\n",
              "      <th>8</th>\n",
              "      <td>2024-01-31</td>\n",
              "      <td>65</td>\n",
              "    </tr>\n",
              "    <tr>\n",
              "      <th>9</th>\n",
              "      <td>2024-03-20</td>\n",
              "      <td>60</td>\n",
              "    </tr>\n",
              "    <tr>\n",
              "      <th>10</th>\n",
              "      <td>2024-05-08</td>\n",
              "      <td>60</td>\n",
              "    </tr>\n",
              "    <tr>\n",
              "      <th>11</th>\n",
              "      <td>2024-06-19</td>\n",
              "      <td>50</td>\n",
              "    </tr>\n",
              "    <tr>\n",
              "      <th>12</th>\n",
              "      <td>2024-07-31</td>\n",
              "      <td>55</td>\n",
              "    </tr>\n",
              "  </tbody>\n",
              "</table>\n",
              "</div>"
            ],
            "text/plain": [
              "         data  sentimento\n",
              "0  2023-02-01          50\n",
              "1  2023-03-22          45\n",
              "2  2023-05-03          55\n",
              "3  2023-06-21          55\n",
              "4  2023-08-02          75\n",
              "5  2023-09-20          75\n",
              "6  2023-11-01          75\n",
              "7  2023-12-13          65\n",
              "8  2024-01-31          65\n",
              "9  2024-03-20          60\n",
              "10 2024-05-08          60\n",
              "11 2024-06-19          50\n",
              "12 2024-07-31          55"
            ]
          },
          "execution_count": 8,
          "metadata": {},
          "output_type": "execute_result"
        }
      ],
      "source": [
        "tabela = pd.DataFrame()\n",
        "tabela['data'] = pd.to_datetime(reuniao)\n",
        "tabela['sentimento'] = sentimento\n",
        "tabela['sentimento'] = tabela['sentimento'].astype(int)\n",
        "tabela"
      ]
    },
    {
      "cell_type": "code",
      "execution_count": 9,
      "metadata": {},
      "outputs": [],
      "source": [
        "import plotly.graph_objects as go"
      ]
    },
    {
      "cell_type": "code",
      "execution_count": 10,
      "metadata": {},
      "outputs": [
        {
          "data": {
            "image/png": "[encoded data removed]"
          },
          "metadata": {},
          "output_type": "display_data"
        }
      ],
      "source": [
        "\n",
        "\n",
        "linha_sentimento = go.Scatter(x=tabela['data'],y=tabela['sentimento'],mode='lines',line_color='black',name='Sentimento',showlegend=False)\n",
        "# Criar as áreas de fundo\n",
        "area_negativa = go.Scatter(\n",
        "    x=tabela['data'],\n",
        "    y=[50] * len(tabela),  # Linha horizontal em y=50\n",
        "    mode='lines',\n",
        "    line=dict(width=0, color='red'), # Linha invisível\n",
        "    fill='tonexty', # Preencher até a próxima linha\n",
        "    fillcolor='rgba(255, 0, 0, 0.45)',  # Vermelho com transparência\n",
        "    showlegend=False\n",
        ")\n",
        "\n",
        "area_positiva = go.Scatter(\n",
        "    x=tabela['data'],\n",
        "    y=[100] * len(tabela), # Linha horizontal em y=100\n",
        "    mode='lines',\n",
        "    line=dict(width=0, color='green'), # Linha invisível\n",
        "    fill='tonexty', # Preencher até a próxima linha\n",
        "    fillcolor='rgba(0, 128, 0, 0.45)',  # Verde com transparência\n",
        "    showlegend=False\n",
        ")\n",
        "\n",
        "# Criar o objeto figura e adicionar os traços\n",
        "fig = go.Figure(data=[area_negativa, area_positiva, linha_sentimento])\n",
        "\n",
        "# Personalizar o layout\n",
        "fig.update_layout(\n",
        "    title=\"Análise de Sentimento de Política Monetária - Brasil\",\n",
        "    xaxis_title=\"Reunião do COPOM\",\n",
        "    yaxis_title=\"Índice sentimento\",\n",
        "    xaxis_tickformat=\"%m/%Y\",\n",
        "    xaxis_tickangle=45,\n",
        "    \n",
        "    # Adicionar nota como anotação\n",
        "    annotations=[dict(\n",
        "        x=0, \n",
        "        y=1.15, \n",
        "        xref=\"paper\", \n",
        "        yref=\"paper\", \n",
        "        text=\"Fonte: BCB\",\n",
        "        showarrow=False\n",
        "    )]\n",
        ")\n",
        "\n",
        "\n",
        "fig.show(\"png\")  # para github\n",
        "# fig.show()       # Grafico interativo\n"
      ]
    },
    {
      "cell_type": "code",
      "execution_count": 11,
      "metadata": {},
      "outputs": [],
      "source": [
        "from langchain_community.document_loaders import PyPDFLoader \n",
        "from langchain.schema import StrOutputParser\n",
        "from langchain.schema.prompt_template import format_document\n",
        "\n",
        "no_reuniao = str(ultima_reuniao[\"conteudo\"][0][\"nroReuniao\"])\n",
        "data_refer = str(ultima_reuniao[\"conteudo\"][0][\"dataReferencia\"]).replace(\"-\", \"\")\n",
        "url_ata = f\"https://www.bcb.gov.br/content/copom/atascopom/Copom{no_reuniao}-not{data_refer+no_reuniao}.pdf\"\n",
        "\n",
        "# Coleta de dados ----\n",
        "pdf = PyPDFLoader(url_ata)\n",
        "ata = pdf.load_and_split()"
      ]
    },
    {
      "cell_type": "code",
      "execution_count": 12,
      "metadata": {},
      "outputs": [
        {
          "data": {
            "text/plain": [
              "'Hawkish'"
            ]
          },
          "execution_count": 12,
          "metadata": {},
          "output_type": "execute_result"
        }
      ],
      "source": [
        "doc_prompt = PromptTemplate.from_template(\"{page_content}\") # extrai texto do PDF\n",
        "\n",
        "llm_prompt = PromptTemplate.from_template(\"\"\"\n",
        "Você é um economista chefe experiente em análise de política monetária, tendo\n",
        "trabalhado em fundos de investimentos e grandes bancos, além de ser PhD em\n",
        "economia.\n",
        "\n",
        "Sua tarefa é ler a ata a seguir da Reunião do Comitê de Política Monetária (Copom)\n",
        "do Banco Central do Brasil e classificar o documento em hawkish ou dovish:\n",
        "\n",
        "\"{ata}\"\n",
        "\n",
        "Classificação:\"\"\") # prompt para o Gemini\n",
        "\n",
        "# Combinar prompt, texto da ata e modelo\n",
        "classificador = (\n",
        "    {\"ata\": lambda ata: \"\\n\\n\".join(\n",
        "      format_document(pagina, doc_prompt) for pagina in ata\n",
        "      )}\n",
        "    | llm_prompt\n",
        "    | llm\n",
        "    | StrOutputParser()\n",
        ")\n",
        "\n",
        "classificador.invoke(ata[2:8])"
      ]
    },
    {
      "cell_type": "code",
      "execution_count": 13,
      "metadata": {},
      "outputs": [
        {
          "data": {
            "text/plain": [
              "'Hawkish'"
            ]
          },
          "execution_count": 13,
          "metadata": {},
          "output_type": "execute_result"
        }
      ],
      "source": [
        "classificador.invoke(ata)"
      ]
    }
  ],
  "metadata": {
    "colab": {
      "provenance": []
    },
    "kernelspec": {
      "display_name": "Python 3",
      "name": "python3"
    },
    "language_info": {
      "codemirror_mode": {
        "name": "ipython",
        "version": 3
      },
      "file_extension": ".py",
      "mimetype": "text/x-python",
      "name": "python",
      "nbconvert_exporter": "python",
      "pygments_lexer": "ipython3",
      "version": "3.11.9"
    }
  },
  "nbformat": 4,
  "nbformat_minor": 0
}
