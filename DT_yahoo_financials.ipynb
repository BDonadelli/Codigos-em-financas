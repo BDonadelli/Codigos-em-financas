{
 "cells": [
  {
   "cell_type": "code",
   "execution_count": 1,
   "metadata": {},
   "outputs": [],
   "source": [
    "import yfinance as yf\n",
    "import pandas as pd\n"
   ]
  },
  {
   "cell_type": "markdown",
   "metadata": {},
   "source": [
    "seleciona os codigos do indice amplo   "
   ]
  },
  {
   "cell_type": "code",
   "execution_count": 2,
   "metadata": {},
   "outputs": [],
   "source": [
    "url='https://raw.githubusercontent.com/BDonadelli/Codigos-em-financas/main/data/Cart_IBrA.csv'\n",
    "ibra = pd.read_csv(url, sep =';' , encoding='latin-1' , decimal=',' , thousands='.' , \n",
    "                   skiprows=[0],skipfooter=2,engine='python', index_col=False)\n",
    "tickers = list(ibra['Código'].values)\n",
    "tickers.sort()\n",
    "tickers_string = ' '.join([ticker + '.SA' for ticker in tickers])\n",
    "codigos = yf.Tickers(tickers_string)\n"
   ]
  },
  {
   "cell_type": "markdown",
   "metadata": {},
   "source": [
    "coleta dados anuais"
   ]
  },
  {
   "cell_type": "code",
   "execution_count": 3,
   "metadata": {},
   "outputs": [],
   "source": [
    "df_data = pd.concat([codigos.tickers[tickers[0]+'.SA'].financials,\n",
    "                     codigos.tickers[tickers[0]+'.SA'].cashflow,\n",
    "                     codigos.tickers[tickers[0]+'.SA'].balance_sheet])"
   ]
  },
  {
   "cell_type": "code",
   "execution_count": 4,
   "metadata": {},
   "outputs": [],
   "source": [
    "df_data = pd.concat([codigos.tickers[tickers[0]+'.SA'].financials,\n",
    "                     codigos.tickers[tickers[0]+'.SA'].cashflow,\n",
    "                     codigos.tickers[tickers[0]+'.SA'].balance_sheet])\n",
    "colunas = [(tickers[0][:5],str(df_data.columns[i].year)) for i in range(len(df_data.columns))]\n",
    "df_data.columns=pd.MultiIndex.from_tuples(colunas)\n",
    "\n",
    "for papel in tickers[1:] :\n",
    "    df_aux = pd.concat([codigos.tickers[papel+'.SA'].financials,\n",
    "                        codigos.tickers[papel+'.SA'].cashflow,\n",
    "                        codigos.tickers[papel+'.SA'].balance_sheet])\n",
    "    # print(papel)\n",
    "    colunas = [(papel[:5],str(df_aux.columns[i].year)) for i in range(len(df_aux.columns))]\n",
    "    df_aux.columns=pd.MultiIndex.from_tuples(colunas)  \n",
    "\n",
    "    df_data = pd.merge(df_data, df_aux, left_index=True, right_index=True)\n",
    "\n",
    "    # df_aux = None"
   ]
  },
  {
   "cell_type": "code",
   "execution_count": 5,
   "metadata": {},
   "outputs": [],
   "source": [
    "df_data.to_parquet(\"data/yf_financial_data_Y.parquet\")"
   ]
  },
  {
   "cell_type": "code",
   "execution_count": 6,
   "metadata": {},
   "outputs": [],
   "source": [
    "# import pyarrow.parquet as pq\n",
    "# # Abrir o arquivo Parquet\n",
    "# arquivo_parquet = pq.ParquetFile(\"data/teste.parquet\")\n",
    "# tabela_parquet = arquivo_parquet.read()\n",
    "# df = tabela_parquet.to_pandas()"
   ]
  },
  {
   "cell_type": "markdown",
   "metadata": {},
   "source": [
    "coleta dados trimestrais"
   ]
  },
  {
   "cell_type": "code",
   "execution_count": 7,
   "metadata": {},
   "outputs": [],
   "source": [
    "df_data = pd.concat([codigos.tickers[tickers[0]+'.SA'].quarterly_financials,\n",
    "                     codigos.tickers[tickers[0]+'.SA'].quarterly_cashflow,\n",
    "                     codigos.tickers[tickers[0]+'.SA'].quarterly_balance_sheet])\n",
    "\n",
    "colunas = [(tickers[0][:5],str(df_data.columns[i].month)+'/'+str(df_data.columns[i].year)) for i in range(len(df_data.columns))]\n",
    "df_data.columns=pd.MultiIndex.from_tuples(colunas)\n",
    "\n",
    "for papel in tickers[1:] :\n",
    "    df_aux = pd.concat([codigos.tickers[papel+'.SA'].financials,\n",
    "                        codigos.tickers[papel+'.SA'].cashflow,\n",
    "                        codigos.tickers[papel+'.SA'].balance_sheet])\n",
    "    # print(papel)\n",
    "    colunas = [(papel[:5],str(df_aux.columns[i].month)+'/'+str(df_aux.columns[i].year)) for i in range(len(df_aux.columns))]\n",
    "    df_aux.columns=pd.MultiIndex.from_tuples(colunas)  \n",
    "\n",
    "    df_data = pd.merge(df_data, df_aux, left_index=True, right_index=True)\n"
   ]
  },
  {
   "cell_type": "code",
   "execution_count": 8,
   "metadata": {},
   "outputs": [],
   "source": [
    "df_data.to_parquet(\"data/yf_financial_data_Q.parquet\")"
   ]
  }
 ],
 "metadata": {
  "kernelspec": {
   "display_name": "base",
   "language": "python",
   "name": "python3"
  },
  "language_info": {
   "codemirror_mode": {
    "name": "ipython",
    "version": 3
   },
   "file_extension": ".py",
   "mimetype": "text/x-python",
   "name": "python",
   "nbconvert_exporter": "python",
   "pygments_lexer": "ipython3",
   "version": "3.11.9"
  }
 },
 "nbformat": 4,
 "nbformat_minor": 2
}
