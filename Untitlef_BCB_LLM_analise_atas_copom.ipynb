{
 "cells": [
  {
   "cell_type": "markdown",
   "metadata": {},
   "source": [
    "https://www.bcb.gov.br/publicacoes/atascopom"
   ]
  },
  {
   "cell_type": "code",
   "execution_count": 1,
   "metadata": {},
   "outputs": [
    {
     "data": {
      "text/plain": [
       "'https://www.bcb.gov.br/content/copom/atascopom/Copom264-not20240731264.pdf'"
      ]
     },
     "execution_count": 1,
     "metadata": {},
     "output_type": "execute_result"
    }
   ],
   "source": [
    "## pdf da ultima ata do copom\n",
    "\n",
    "from langchain_community.document_loaders import PyPDFLoader \n",
    "import requests\n",
    "\n",
    "ultima_ata = requests.get(\n",
    "  \"https://www.bcb.gov.br/api/servico/sitebcb/copom/atas?quantidade=1\"\n",
    "  ).json()\n",
    "no_reuniao = str(ultima_ata[\"conteudo\"][0][\"nroReuniao\"])\n",
    "data_refer = str(ultima_ata[\"conteudo\"][0][\"dataReferencia\"]).replace(\"-\", \"\")\n",
    "\n",
    "url_ata = f\"https://www.bcb.gov.br/content/copom/atascopom/Copom{no_reuniao}-not{data_refer+no_reuniao}.pdf\"\n",
    "\n",
    "pdf = PyPDFLoader(url_ata)\n",
    "ata = pdf.load_and_split()\n",
    "\n",
    "url_ata"
   ]
  },
  {
   "cell_type": "code",
   "execution_count": 2,
   "metadata": {},
   "outputs": [],
   "source": [
    "#  modelo LLM e prompts para o Gemini\n",
    "\n",
    "from langchain_google_genai import ChatGoogleGenerativeAI\n",
    "from langchain.prompts import PromptTemplate\n",
    "\n",
    "import os\n",
    "os.environ[\"GOOGLE_API_KEY\"] = str(open(\"passgooglestudio.txt\",'r').read())\n",
    "\n",
    "llm = ChatGoogleGenerativeAI(model=\"gemini-pro\", temperature=0)\n",
    "\n",
    "doc_prompt = PromptTemplate.from_template(\"{page_content}\") # extrai texto do PDF\n",
    "llm_prompt = PromptTemplate.from_template(\"\"\"\n",
    "Você é PhD em economia, economista chefe com muita experiência em análise de política monetária, tendo\n",
    "trabalhado em fundos de investimentos e grandes bancos.\n",
    "\n",
    "Sua tarefa é ler a ata a seguir da Reunião do Comitê de Política Monetária (Copom)\n",
    "do Banco Central do Brasil e \n",
    "                                          \n",
    "1. classificar o documento em hawkish ou dovish\n",
    "2. resumir a a conjuntura econômica\n",
    "3. destacar os maiores riscos detectados \n",
    "4. destacar a decisão do comitê                                          \n",
    "\n",
    "\"{ata}\"\n",
    "\n",
    "Classificação:\"\"\")\n"
   ]
  },
  {
   "cell_type": "code",
   "execution_count": 3,
   "metadata": {},
   "outputs": [
    {
     "name": "stdout",
     "output_type": "stream",
     "text": [
      "Hawkish\n",
      "\n",
      "Resumo da conjuntura econômica:\n",
      "\n",
      "* Ambiente externo adverso com incertezas sobre a flexibilização da política monetária nos EUA e dinâmicas de atividade e inflação em diversos países.\n",
      "* Bancos centrais das principais economias permanecem determinados a promover a convergência das taxas de inflação para suas metas.\n",
      "* No cenário doméstico, a atividade econômica e o mercado de trabalho apresentam dinamismo maior do que o esperado.\n",
      "* A desinflação medida pelo IPCA cheio tem arrefecido, enquanto as medidas de inflação subjacente estão acima da meta.\n",
      "* As expectativas de inflação para 2024 e 2025 estão em torno de 4,1% e 4,0%, respectivamente.\n",
      "\n",
      "Maiores riscos detectados:\n",
      "\n",
      "* Desancoragem das expectativas de inflação por período mais prolongado.\n",
      "* Maior resiliência na inflação de serviços do que a projetada.\n",
      "* Conjunção de políticas econômicas externa e interna com impacto inflacionário.\n",
      "* Desaceleração da atividade econômica global mais acentuada do que a projetada.\n",
      "* Impactos do aperto monetário sobre a desinflação global mais fortes do que o esperado.\n",
      "\n",
      "Decisão do comitê:\n",
      "\n",
      "* Manter a taxa Selic em 10,50% a.a.\n",
      "* Política monetária deve se manter contracionista por tempo suficiente para consolidar o processo de desinflação e ancorar as expectativas em torno da meta.\n",
      "* O comitê avaliará a melhor estratégia para atingir a meta de inflação, incluindo a possibilidade de elevar a taxa de juros se necessário.\n"
     ]
    }
   ],
   "source": [
    "from langchain.schema.prompt_template import format_document\n",
    "from langchain.schema import StrOutputParser\n",
    "\n",
    "# Pipeline de processamento\n",
    "classificador = (\n",
    "    {\"ata\": lambda ata: \"\\n\\n\".join(format_document(pagina, doc_prompt) for pagina in ata)}\n",
    "    | llm_prompt\n",
    "    | llm\n",
    "    | StrOutputParser()\n",
    ")\n",
    "print(classificador.invoke(ata))"
   ]
  },
  {
   "cell_type": "markdown",
   "metadata": {},
   "source": [
    "Historico"
   ]
  },
  {
   "cell_type": "code",
   "execution_count": 4,
   "metadata": {},
   "outputs": [],
   "source": [
    "# quantidade de ultimas reuniões para analisar\n",
    "quantidade = 20\n",
    "reunioes = list(range(int(no_reuniao) - quantidade, int(no_reuniao) + 1))"
   ]
  },
  {
   "cell_type": "code",
   "execution_count": 5,
   "metadata": {},
   "outputs": [
    {
     "data": {
      "text/plain": [
       "[Document(page_content='A) Atualização da conjuntura econômica e do cenário do Copom11. No cenário externo, o ambiente se deteriorou substancialmente. O conflito entre Rússia e Ucrânia levou a um aperto significativo das condições financeiras e aumento da incerteza em torno do cenário econômico mundial. Em particular, o choque de oferta decorrente do conflito tem o potencial de exacerbar as pressões inflacionárias que já vinham se acumulando tanto em economias emergentes quanto avançadas. Desde a última reunião, a maioria das commodities teve avanços relevantes em seus preços, em particular as energéticas.2. A reorganização das cadeias de produção globais, com a criação de redundâncias na produção e no suprimento de insumos e mudança no tratamento dos estoques de bens (no sentido de se deter maiores estoques), ganhou novo impulso com o conflito na Europa e as sanções aplicadas à Rússia. Na visão do Comitê, esses desenvolvimentos podem ter consequências de longo prazo e se traduzir em pressões inflacionárias mais prolongadas na produção global de bens.3. Em relação à atividade econômica brasileira, a divulgação do PIB do quarto trimestre de 2021 apontou ritmo de atividade acima do esperado, deixando o carrego estatístico um pouco maior para 2022. Indicadores relativos ao comércio e serviços mostraram evolução ligeiramente melhor que a esperada em janeiro, enquanto a indústria contraiu no mesmo mês. Indicadores do mercado de trabalho seguiram mostrando recuperação consistente de empregos no último trimestre de 2021 e em janeiro de 2022.4. Para 2022, se por um lado a elevação dos prêmios de risco e o aperto mais intenso das condições financeiras atuam desestimulando a atividade econômica, por outro, o Copom segue avaliando que o crescimento tende a ser beneficiado pelo desempenho da agropecuária, ainda que em volume menor que o projetado na última reunião, e pelo processo remanescente de normalização da economia – particularmente no setor de serviços e no mercado de trabalho.5. A inflação ao consumidor segue elevada, com alta disseminada entre vários componentes, e mais persistente que o antecipado. A alta nos preços dos bens industriais não arrefeceu e deve persistir no curto prazo, enquanto a inflação de serviços acelerou ainda mais. As leituras recentes vieram acima do esperado e a surpresa ocorreu tanto nos componentes mais voláteis como nos mais associados à inflação subjacente.6. As diversas medidas de inflação subjacente apresentam-se acima do intervalo compatível com o cumprimento da meta para a inflação. As expectativas de inflação para 2022 e 2023 apuradas pela pesquisa Focus encontram-se em torno de 6,4% e 3,7%, respectivamente.7. No cenário de referência, com trajetória para a taxa de juros extraída da pesquisa Focus e taxa de câmbio partindo de USD/BRL 5,052, e evoluindo segundo a paridade do poder de compra (PPC), as projeções de inflação do Copom situam-se em torno de 7,1% para 2022 e 3,4% para 2023. Esse cenário supõe trajetória de juros que se eleva para 12,75% a.a. em 2022 e reduz-se para 8,75% a.a. em 2023. Nesse cenário, as projeções para a inflação de preços administrados são de 9,5% para 2022 e 5,9% para 2023. Adota-se a hipótese de bandeira tarifária “amarela” em dezembro de 2022 e dezembro de 2023.8. Diante da volatilidade recente e do impacto sobre as projeções de inflação de sua hipótese usual para o preço do petróleo em USD3, o Comitê decidiu adotar também, neste momento, um cenário alternativo. Nesse cenário, considerado de maior probabilidade, adota-se a premissa na qual o preço do petróleo segue aproximadamente a curva futura de mercado até o fim de 2022, terminando o ano em USD100/barril e passando a aumentar 2% ao ano a partir de janeiro de 2023. Nesse cenário, as projeções de inflação do Copom situam-se em 6,3% para 2022 e 3,1% para 2023.B) Riscos em torno dos cenários para a inflação9. Os cenários do Copom para a inflação envolvem fatores de risco em ambas as direções.10. Por um lado, uma possível reversão, ainda que parcial, do aumento nos preços das commodities internacionais em moeda local produziria trajetória de inflação abaixo dos seus cenários.11. Por outro lado, políticas fiscais que impliquem impulso adicional da demanda agregada ou piorem a trajetória fiscal futura podem impactar negativamente preços de ativos importantes e elevar os prêmios de risco do país.12. Apesar do desempenho mais positivo das contas públicas, o Comitê avalia que a incerteza em relação ao arcabouço fiscal mantém elevado o risco de desancoragem das expectativas de inflação, mas considera que esse risco está sendo parcialmente incorporado nas expectativas de inflação e preços de ativos utilizados em seus modelos. O Comitê segue considerando uma assimetria altista no balanço de riscos.C) Discussão sobre a condução da política monetária13. A incerteza em relação ao futuro do arcabouço fiscal atual resulta em elevação dos prêmios de risco e eleva o risco de desancoragem das expectativas de inflação. Isso implica atribuir maior probabilidade para cenários alternativos que considerem taxas neutras de juros mais elevadas. Esse movimento já é observado, em alguma medida, nas expectativas de inflação para prazos mais longos extraídas da pesquisa Focus, assim como nos prêmios de risco de diversos ativos locais. O Copom reitera que o processo de reformas e ajustes necessários na economia brasileira é essencial para o crescimento sustentável da economia. Esmorecimento no esforço de reformas estruturais e alterações de caráter permanente no processo de ajuste das contas públicas podem elevar a taxa de juros estrutural da economia.14. O conflito na Europa adiciona ainda mais incerteza e volatilidade ao cenário prospectivo, e impõe um choque de oferta importante em diversas commodities. O Comitê considerou que a boa prática recomenda que a política monetária reaja aos impactos secundários desse tipo de choque, prática que leva em consideração as usuais defasagens dos efeitos da política monetária.15. O Copom avaliou, especificamente, o impacto sobre suas projeções da hipótese para a trajetória de preços do petróleo. Na sua hipótese usual, o preço do barril parte de valores em torno de USD118 em março e se eleva para cerca de USD121 no fim de 2023, ou seja, extrapolando para o todo o horizonte relevante da política monetária o preço do petróleo resultante de uma conjuntura internacional particularmente anômala. O Comitê observou que o atual ambiente de incerteza e volatilidade elevadas demanda serenidade para a avaliação dos impactos de longo prazo do atual choque e, portanto, optou por comparar essa hipótese com os preços de contratos futuros de petróleo, negociados em bolsas internacionais, e com projeções de agências do setor. Notou-se que ambos convergiam para um preço do barril abaixo de USD100 ao fim de 2022. O Copom concluiu então que seria adequado manter a hipótese usual no cenário de referência, mas adotar como mais provável um cenário com hipótese alternativa para a trajetória de preços do petróleo até o fim de 2022. Para as projeções a partir de 2023, o Comitê decidiu manter sua premissa mais conservadora. O Comitê considera que a divulgação de cenário alternativo é particularmente útil e informativa em ambiente altamente incerto.16. O Copom passou então à discussão da implementação da política monetária, considerando as probabilidades relativas dos cenários avaliados, assim como o balanço de riscos para a inflação. Levando-se em consideração o maior peso atribuído ao cenário com hipótese alternativa para o petróleo, as projeções de inflação estão acima do limite superior do intervalo de tolerância da meta para 2022 e ao redor da meta para 2023.17. Quanto ao balanço de riscos, o Comitê mantém o viés altista para as projeções dos seus cenários. Como consequência, o Copom avaliou que, considerado esse viés devido à assimetria de riscos, suas projeções se encontram acima do limite superior do intervalo de tolerância da meta para 2022, e ainda ao redor da meta para 2023. Diante desses resultados, e da avaliação do Comitê a respeito da probabilidade de cada cenário, o Copom considerou que, neste momento, um ciclo de aperto monetário semelhante ao utilizado nos seus cenários é o mais adequado.18. Pesou para essa avaliação do Comitê o incremento de pelo menos 0,75 p.p. no ciclo de juros projetado em todo o horizonte relevante, desde a última reunião do Copom. A trajetória de juros projetada implica patamar significativamente contracionista da política monetária, que tem impacto principalmente na inflação de 2023, e é compatível com o combate aos efeitos de segunda ordem do atual choque de oferta. Entretanto, caso o cenário prospectivo se mostre mais próximo ao observado no cenário de referência, o Comitê avalia que este ciclo deverá ser ainda mais contracionista.19. A seguir, o Copom avaliou o ritmo apropriado de elevação dos juros. Para tal, analisou suas projeções de inflação utilizando simulações com trajetórias de política monetária com diferentes taxas terminais, ritmos de ajuste e duração do aperto monetário. Diante da volatilidade e incerteza da conjuntura atual, particularmente no cenário internacional, o Comitê optou por uma trajetória de juros mais tempestiva do que a embutida em seus cenários. Essa preferência expressa cautela em relação às probabilidades atribuídas a seus cenários e à mensuração dos efeitos de segunda ordem, bem como seu comprometimento com a convergência da inflação e das expectativas para as metas no horizonte relevante.20. Com base nesses resultados, os membros do Copom debateram a estratégia mais apropriada. Concluiu-se que um novo ajuste de 1,00 ponto percentual, seguido de ajuste adicional de mesma magnitude, é a estratégia mais adequada para atingir aperto monetário suficiente e garantir a convergência da inflação ao longo do horizonte relevante, assim como a ancoragem das expectativas de prazos mais longos. Entretanto, o Comitê reconhece o cenário desafiador para a convergência da inflação para suas metas e reforça que estará pronto para ajustar o tamanho do ciclo de aperto monetário, caso o cenário evolua desfavoravelmente.D) Decisão de política monetária21. Considerando os cenários avaliados, o balanço de riscos e o amplo conjunto de informações disponíveis, o Copom decidiu, por unanimidade, elevar a taxa básica de juros em 1,00 ponto percentual, para 11,75% a.a. O Comitê entende que essa decisão reflete a incerteza ao redor de seus cenários e um balanço de riscos com variância ainda maior do que a usual para a inflação prospectiva, e é compatível com a convergência da inflação para as metas ao longo do horizonte relevante, que inclui os anos-calendário de 2022 e, principalmente, o de 2023. Sem prejuízo de seu objetivo fundamental de assegurar a estabilidade de preços, essa decisão também implica suavização das flutuações do nível de atividade econômica e fomento do pleno emprego.22. O Copom considera que, diante de suas projeções e do risco de desancoragem das expectativas para prazos mais longos, é apropriado que o ciclo de aperto monetário continue avançando significativamente em território ainda mais contracionista.23. A atuação do Comitê visa combater os impactos secundários do atual choque de oferta em diversas commodities, que se manifestam de maneira defasada na inflação. As atuais projeções indicam que o ciclo de juros nos cenários avaliados é suficiente para a convergência da inflação para patamar em torno da meta ao longo do horizonte relevante. O Copom avalia que o momento exige serenidade para avaliação da extensão e duração dos atuais choques. Caso esses se provem mais persistentes ou maiores que o antecipado, o Comitê estará pronto para ajustar o tamanho do ciclo de aperto monetário. O Comitê enfatiza que irá perseverar em sua estratégia até que se consolide não apenas o processo de desinflação como também a ancoragem das expectativas em torno de suas metas.24. Para a próxima reunião, o Comitê antevê outro ajuste da mesma magnitude. O Copom enfatiza que os passos futuros da política monetária poderão ser ajustados para assegurar a convergência da inflação para suas metas, e dependerão da evolução da atividade econômica, do balanço de riscos e das projeções e expectativas de inflação para o horizonte relevante da política monetária.25. Votaram por essa decisão os seguintes membros do Comitê: Roberto Oliveira Campos Neto (presidente), Bruno Serra Fernandes, Carolina de Assis Barros, Fernanda Magalhães Rumenos Guardado, Maurício Costa de Moura, Otávio Ribeiro Damaso e Paulo Sérgio Neves de Souza.Notas de rodapé 1 A menos de menção explícita em contrário, esta atualização leva em conta as mudanças ocorridas desde a reunião do Copom em fevereiro (244ª reunião).2 Valor obtido pelo procedimento usual de arredondar a cotação média da taxa de câmbio USD/BRL observada nos cinco dias úteis encerrados no último dia da semana anterior à da reunião do Copom.3 Valores em torno da média dos preços do petróleo vigentes na semana anterior à reunião do Copom e 2% de variação ao ano a partir de então.Informações da reunião Data: 15 e 16/3/2022Local: Sala de reuniões do 8º andar do Edifício-Sede do Banco Central do Brasil – Brasília – DFHorário de início e de término das sessões:15/3: 9h34 – 12h45; 14h30 – 18h0816/3: 14h36 – 19h03Presentes:Membros do CopomRoberto Oliveira Campos Neto – PresidenteBruno Serra FernandesCarolina de Assis BarrosFernanda Magalhães Rumenos GuardadoMaurício Costa de MouraOtávio Ribeiro DamasoPaulo Sérgio Neves de SouzaChefes de Departamento responsáveis por apresentações técnicas (presentes em 15/3)Alan da Silva Andrade Mendes  Departamento de Reservas InternacionaisAndré Minella  Departamento de Estudos e Pesquisas (também presente em 16/3)André de Oliveira Amante  Departamento de Operações de Mercado AbertoFabia Aparecida de Carvalho  Departamento de Assuntos InternacionaisRicardo Sabbadini  Departamento EconômicoRogério Antônio Lucca  Departamento de Operações Bancárias e de Sistemas de PagamentosDemais participantes (presentes em 15/3)Arnildo da Silva Correa  Chefe da Assessoria Econômica ao PresidenteCristiano de Oliveira Lopes Cozer  Procurador-GeralEduardo José Araújo Lima  Chefe de Gabinete do Diretor de Política EconômicaEuler Pereira Gonçalves de Mello  Chefe Adjunto do Departamento de Estudos e PesquisasJulio Cesar Costa Pinto  Chefe do Gabinete do Diretor de Política MonetáriaLeonardo Martins Nogueira  Secretário ExecutivoOlavo Lins Romano Pereira  Chefe Adjunto do Departamento de Assuntos InternacionaisPedro Henrique da Silva Castro  Chefe Adjunto do Departamento EconômicoRafael Mendonça Travassos Andrezo  Chefe de Gabinete do PresidenteRicardo Franco Moura  Chefe do Departamento de Regulação Prudencial e CambialOs membros do Copom analisaram a evolução recente e as perspectivas para a economia brasileira e para a economia internacional, no contexto do regime de política monetária, cujo objetivo é atingir as metas fixadas pelo Conselho Monetário Nacional para a inflação.', metadata={'data': '2022-03-16'}),\n",
       " Document(page_content='A) Atualização da conjuntura econômica e do cenário do Copom11. No cenário externo, o ambiente global seguiu se deteriorando. As pressões inflacionárias decorrentes da recuperação global após a pandemia foram exacerbadas pelo avanço nos preços de commodities este ano e, mais recentemente, pela nova onda da Covid-19 na China, com potencial de prolongar ainda mais o processo de normalização do suprimento de insumos industriais. A reorganização das cadeias de produção globais, já impulsionada pela guerra na Ucrânia, deve se intensificar, com a busca por uma maior regionalização na cadeia de suprimentos. Na visão do Comitê, esses desenvolvimentos podem ter consequências de longo prazo e se traduzir em pressões inflacionárias mais prolongadas na produção global de bens.2. Bancos centrais de países desenvolvidos e emergentes têm adotado uma postura mais contracionista em reação ao avanço da inflação, ainda que, em boa parte dessas economias, as taxas de juros correntes ainda estejam em campo avaliado como expansionista. Diante da potencial persistência do processo inflacionário, a reprecificação da política monetária nos países avançados tem impactado as condições financeiras dos países emergentes. O Comitê discutiu também os crescentes riscos em torno de uma desaceleração global em ambiente de inflação significativamente pressionada.3. No âmbito doméstico, o conjunto dos indicadores de atividade econômica divulgado desde a última reunião do Copom indica um crescimento em linha com o que era esperado pelo Comitê. O mercado de trabalho segue em recuperação e indicadores relativos ao comércio e à indústria apresentaram melhora na margem.4. A inflação ao consumidor segue elevada, com alta disseminada entre vários componentes, se mostrando mais persistente que o antecipado. A inflação de serviços e de bens industriais se mantém alta, e os recentes choques levaram a um forte aumento nos componentes ligados a alimentos e combustíveis. As leituras recentes vieram acima do esperado e a surpresa ocorreu tanto nos componentes mais voláteis como nos mais associados à inflação subjacente. Nos itens mais voláteis, continua se destacando o aumento do preço da gasolina, com impacto maior e mais rápido do que era previsto. Os componentes mais sensíveis ao ciclo econômico e à política monetária seguem com inflação elevada e as diversas medidas de inflação subjacente apresentam-se acima do intervalo compatível com o cumprimento da meta para a inflação. As expectativas de inflação para 2022 e 2023 apuradas pela pesquisa Focus encontram-se em torno de 7,9% e 4,1%, respectivamente.B) Cenários e análise de riscos5. No cenário de referência, a trajetória para a taxa de juros é extraída da pesquisa Focus (Selic se eleva para 13,25% a.a. em 2022 e reduz-se para 9,25% a.a. em 2023) e a taxa de câmbio parte de USD/BRL 4,952, evoluindo segundo a paridade do poder de compra (PPC). Optou-se por manter a premissa de que o preço do petróleo segue aproximadamente a curva futura de mercado até o fim de 2022, terminando o ano em US$100/barril e passando a aumentar 2% ao ano a partir de janeiro de 2023. Adota-se a hipótese de bandeira tarifária \"amarela\" em dezembro de 2022 e dezembro de 2023. Nesse cenário, as projeções de inflação do Copom situam-se em 7,3% para 2022 e 3,4% para 2023. As projeções para a inflação de preços administrados são de 6,4% para 2022 e 5,7% para 2023. O Comitê julga que a incerteza em torno das suas premissas e projeções atualmente é maior do que o usual.6. O Comitê iniciou seu debate sobre os riscos em torno de suas projeções discutindo algumas das possíveis razões para a diferença entre as projeções no cenário de referência e as projeções de analistas. Alguns membros enfatizaram que a inflação corrente alta tem contaminado as expectativas de maior prazo além do esperado. Além disso, algumas outras potenciais explicações foram debatidas por meio da análise de cenários alternativos. Em primeiro lugar, analisou-se o impacto de uma reversão mais lenta da inflação de bens industriais, decorrente de sucessivos choques sobre as cadeias globais de produção. Além disso, também se observou que diferentes hipóteses sobre a taxa de juros neutra têm impactos sobre as projeções, embora modestos no horizonte relevante. Por fim, os impactos inflacionários de diferentes hipóteses referentes à convergência entre o preço dos derivados e o preço do petróleo também se mostraram relevantes.7. Com relação ao cenário inflacionário global, o Comitê avalia que as pressões inflacionárias globais se intensificaram e são caracterizadas tanto por uma demanda por bens persistentemente elevada (por exemplo, na economia norte-americana), quanto por choques de oferta ligados à guerra na Ucrânia e à política chinesa de combate à Covid-19. Esses fatores têm potencial para gerar pressões inflacionárias persistentes em diversas economias, particularmente nas que estão mais defasadas no processo de normalização de suas políticas fiscais e monetárias.8. Ademais, o Comitê avaliou que há grande incerteza sobre o comportamento futuro dos preços de commodities em Reais, como reflexo da guerra na Ucrânia e da retomada das economias no pós-pandemia. O Comitê avalia que há possibilidade de reversão, ainda que parcial, do aumento nos preços das commodities internacionais em moeda local.9. O Comitê debateu o risco fiscal e como isso afeta a condução da política monetária. O Comitê julga que a incerteza em relação ao futuro do arcabouço fiscal atual resulta em elevação dos prêmios de risco e aumenta o risco de desancoragem das expectativas de inflação. Esse movimento já é observado, em alguma medida, e já está parcialmente incorporado nas expectativas de inflação para prazos mais longos extraídas da pesquisa Focus, assim como nos preços de diversos ativos locais. O Comitê enfatizou que o nível de aperto monetário apropriado é também condicional ao arcabouço fiscal vigente. O esmorecimento no empenho por reformas estruturais, bem como alterações de caráter permanente no processo de ajuste das contas públicas, podem elevar a taxa de juros neutra da economia.10. O Comitê avaliou os riscos em torno do cenário de referência para o crescimento em 2022 e 2023. O Comitê ressaltou que o crescimento econômico veio em linha com o que era esperado, mas o aperto das condições financeiras cria um risco de desaceleração mais forte que o antecipado nos trimestres à frente, quando seus impactos tendem a ficar mais evidentes.11. O Comitê ressalta que, em seus cenários para a inflação, permanecem fatores de risco em ambas as direções. Entre os riscos de alta para o cenário inflacionário e as expectativas de inflação, destacam-se (i) uma maior persistência das pressões inflacionárias globais; e (ii) a incerteza sobre o futuro do arcabouço fiscal do país, parcialmente incorporada nas expectativas de inflação e nos preços de ativos. Entre os riscos de baixa, ressaltam-se (i) uma possível reversão, ainda que parcial, do aumento nos preços das commodities internacionais em moeda local; e (ii) uma desaceleração da atividade econômica mais acentuada do que a projetada. O Comitê avalia que a conjuntura particularmente incerta e volátil requer serenidade na avaliação dos riscos.C) Discussão sobre a condução da política monetária12. O Copom passou então à discussão da condução da política monetária, considerando o conjunto de projeções analisado, assim como o balanço de riscos para a inflação prospectiva.13. O Copom iniciou sua discussão com a avaliação do ciclo de ajuste empreendido até a presente reunião. Ressaltou-se que o ciclo de aperto monetário corrente foi bastante intenso e tempestivo e que, devido às defasagens de política monetária, ainda não se observa grande parte do efeito contracionista esperado bem como seu impacto sobre a inflação corrente.14. Ainda assim, o Comitê notou que ocorreu deterioração marginal tanto na dinâmica inflacionária de curto prazo quanto em suas projeções mais longas, ainda que o cenário esteja cercado de incerteza e volatilidade acima do usual.15. O Copom então debateu as opções de política monetária para esta reunião. Concluiu-se que um novo ajuste de 1,00 ponto percentual era apropriado.16. Os membros do Copom discutiram a sinalização futura de política monetária. O Comitê optou, então, por sinalizar, como provável, uma extensão do ciclo, com um ajuste de menor magnitude na próxima reunião. Tal estratégia foi considerada a mais adequada para garantir a convergência da inflação ao longo do horizonte relevante, assim como a ancoragem das expectativas de prazos mais longos, ao mesmo tempo que reflete o aperto monetário já empreendido, reforça a postura de cautela da política monetária e ressalta a incerteza do cenário.D) Decisão de política monetária17. Considerando os cenários avaliados, o balanço de riscos e o amplo conjunto de informações disponíveis, o Copom decidiu, por unanimidade, elevar a taxa básica de juros em 1,00 ponto percentual, para 12,75% a.a. O Comitê entende que essa decisão reflete a incerteza ao redor de seus cenários e um balanço de riscos com variância ainda maior do que a usual para a inflação prospectiva, e é compatível com a convergência da inflação para as metas ao longo do horizonte relevante, que inclui o ano-calendário de 2023. Sem prejuízo de seu objetivo fundamental de assegurar a estabilidade de preços, essa decisão também implica suavização das flutuações do nível de atividade econômica e fomento do pleno emprego.18. O Copom considera que, diante de suas projeções e do risco de desancoragem das expectativas para prazos mais longos, é apropriado que o ciclo de aperto monetário continue avançando significativamente em território ainda mais contracionista. O Comitê enfatiza que irá perseverar em sua estratégia até que se consolide não apenas o processo de desinflação como também a ancoragem das expectativas em torno de suas metas.19. Para a próxima reunião, o Comitê antevê como provável uma extensão do ciclo com um ajuste de menor magnitude. O Comitê nota que a elevada incerteza da atual conjuntura, além do estágio avançado do ciclo de ajuste e seus impactos ainda por serem observados, demandam cautela adicional em sua atuação. O Copom enfatiza que os passos futuros da política monetária poderão ser ajustados para assegurar a convergência da inflação para suas metas e dependerão da evolução da atividade econômica, do balanço de riscos e das projeções e expectativas de inflação para o horizonte relevante da política monetária.20. Votaram por essa decisão os seguintes membros do Comitê: Roberto de Oliveira Campos Neto (presidente), Bruno Serra Fernandes, Carolina de Assis Barros, Diogo Abry Guillen, Fernanda Magalhães Rumenos Guardado, Maurício Costa de Moura, Otávio Ribeiro Damaso, Paulo Sérgio Neves de Souza e Renato Dias de Brito Gomes.Notas de rodapé 1 A menos de menção explícita em contrário, esta atualização leva em conta as mudanças ocorridas desde a reunião do Copom em março (245ª reunião).2 Valor obtido pelo procedimento usual de arredondar a cotação média da taxa de câmbio USD/BRL observada nos cinco dias úteis encerrados no último dia da semana anterior à da reunião do Copom.Informações da reunião Data: 3 e 4/5/2022Local: Salas de reuniões do 8º andar (3/5 e 4/5 – manhã) e do 20º andar (4/5 – tarde) do Edifício-sede do Banco Central do Brasil – Brasília – DFHorário de início e de término das sessões:3/5: 9h45 – 12h24; 14h19 – 18h044/5: 9h37 – 10h48; 14h34 – 19h12Presentes:Membros do CopomRoberto de Oliveira Campos Neto – PresidenteBruno Serra FernandesCarolina de Assis BarrosDiogo Abry GuillenFernanda Magalhães Rumenos GuardadoMaurício Costa de MouraOtávio Ribeiro DamasoPaulo Sérgio Neves de SouzaRenato Dias de Brito GomesChefes de Departamento responsáveis por apresentações técnicas (presentes em 3/5 e na manhã de 4/5)Alan da Silva Andrade Mendes  Departamento de Reservas InternacionaisAndré Minella  Departamento de Estudos e Pesquisas (também presente na tarde de 4/5)André de Oliveira Amante  Departamento de Operações de Mercado AbertoFabia Aparecida de Carvalho  Departamento de Assuntos InternacionaisRicardo Sabbadini  Departamento EconômicoRogério Antônio Lucca  Departamento de Operações Bancárias e de Sistemas de PagamentosDemais participantes (presentes em 3/5 e na manhã de 4/5)Arnildo da Silva Correa  Chefe da Assessoria Econômica ao PresidenteCristiano de Oliveira Lopes Cozer  Procurador-GeralEduardo José Araújo Lima  Chefe de Gabinete do Diretor de Política EconômicaEuler Pereira Gonçalves de Mello  Chefe Adjunto do Departamento de Estudos e PesquisasJulio Cesar Costa Pinto  Chefe do Gabinete do Diretor de Política MonetáriaLeonardo Martins Nogueira  Secretário ExecutivoOlavo Lins Romano Pereira  Chefe Adjunto do Departamento de Assuntos InternacionaisPedro Henrique da Silva Castro  Chefe Adjunto do Departamento EconômicoRafael Mendonça Travassos Andrezo  Chefe de Gabinete do PresidenteRicardo Franco Moura  Chefe do Departamento de Regulação Prudencial e CambialOs membros do Copom analisaram a evolução recente e as perspectivas para a economia brasileira e para a economia internacional, no contexto do regime de política monetária, cujo objetivo é atingir as metas fixadas pelo Conselho Monetário Nacional para a inflação.', metadata={'data': '2022-05-04'})]"
      ]
     },
     "execution_count": 5,
     "metadata": {},
     "output_type": "execute_result"
    }
   ],
   "source": [
    "## reune o resumo das atas de cadareuniao\n",
    "\n",
    "from langchain_community.document_loaders import WebBaseLoader\n",
    "from langchain.docstore.document import Document\n",
    "import json\n",
    "\n",
    "documentos = []\n",
    "for num in reunioes:\n",
    "    url = f'https://www.bcb.gov.br/api/servico/sitebcb/copom/atas_detalhes?nro_reuniao='\n",
    "    ata = WebBaseLoader(f\"{url}{num}\").load()\n",
    "    conteudo = json.loads(ata[0].page_content)[\"conteudo\"][0]['textoAta']\n",
    "    dia_ref = json.loads(ata[0].page_content)[\"conteudo\"][0][\"dataReferencia\"]\n",
    "    documentos.append(Document(page_content = conteudo, metadata = {\"data\": dia_ref}))\n",
    "\n",
    "documentos[1:3]"
   ]
  },
  {
   "cell_type": "code",
   "execution_count": 11,
   "metadata": {},
   "outputs": [],
   "source": [
    "## novo promp para o Gemini\n",
    "\n",
    "llm_prompt = PromptTemplate.from_template(\"\"\"\n",
    "Você é um cientista de dados experiente que domina as técnicas de Machine Learning e de Natural Processing Language.\n",
    "                                          \n",
    "Sua tarefa é analisar o sentimento dos textos a seguir. Retornar o sentimento do texto em um índice \n",
    "que varia de 0 a 100, sendo 0 o sentimento mais negativo, 100 o sentimento mais positivo, \n",
    "e 50 o sentimento neutro:\n",
    "\n",
    "\"{documentos}\"\n",
    "\n",
    "Índice:\"\"\")\n"
   ]
  },
  {
   "cell_type": "code",
   "execution_count": 12,
   "metadata": {},
   "outputs": [],
   "source": [
    "from langchain.chains.combine_documents.stuff import StuffDocumentsChain\n",
    "from langchain.chains.llm import LLMChain\n",
    "\n",
    "quantificador = StuffDocumentsChain(llm_chain = LLMChain(llm = llm, prompt = llm_prompt),\n",
    "                                    document_variable_name = \"documentos\")\n"
   ]
  },
  {
   "cell_type": "code",
   "execution_count": 13,
   "metadata": {},
   "outputs": [],
   "source": [
    "from time import sleep\n",
    "\n",
    "sentimento = []\n",
    "for doc in documentos:\n",
    "    sentimento.append([quantificador.invoke(input = [doc], return_only_outputs = True)[\"output_text\"],\n",
    "                       doc.metadata[\"data\"]])\n",
    "    sleep(10)\n",
    "    "
   ]
  },
  {
   "cell_type": "code",
   "execution_count": 14,
   "metadata": {},
   "outputs": [
    {
     "data": {
      "text/plain": [
       "[['50', '2022-02-02'],\n",
       " ['50', '2022-03-16'],\n",
       " ['50', '2022-05-04'],\n",
       " ['50', '2022-06-15'],\n",
       " ['50', '2022-08-03'],\n",
       " ['50', '2022-09-21'],\n",
       " ['50', '2022-10-26'],\n",
       " ['50', '2022-12-07'],\n",
       " ['50', '2023-02-01'],\n",
       " ['50', '2023-03-22'],\n",
       " ['55', '2023-05-03'],\n",
       " ['50', '2023-06-21'],\n",
       " ['75', '2023-08-02'],\n",
       " ['75', '2023-09-20'],\n",
       " ['75', '2023-11-01'],\n",
       " ['75', '2023-12-13'],\n",
       " ['75', '2024-01-31'],\n",
       " ['70', '2024-03-20'],\n",
       " ['70', '2024-05-08'],\n",
       " ['50', '2024-06-19'],\n",
       " ['50', '2024-07-31']]"
      ]
     },
     "execution_count": 14,
     "metadata": {},
     "output_type": "execute_result"
    }
   ],
   "source": [
    "sentimento"
   ]
  },
  {
   "cell_type": "code",
   "execution_count": 15,
   "metadata": {},
   "outputs": [
    {
     "data": {
      "text/html": [
       "<div>\n",
       "<style scoped>\n",
       "    .dataframe tbody tr th:only-of-type {\n",
       "        vertical-align: middle;\n",
       "    }\n",
       "\n",
       "    .dataframe tbody tr th {\n",
       "        vertical-align: top;\n",
       "    }\n",
       "\n",
       "    .dataframe thead th {\n",
       "        text-align: right;\n",
       "    }\n",
       "</style>\n",
       "<table border=\"1\" class=\"dataframe\">\n",
       "  <thead>\n",
       "    <tr style=\"text-align: right;\">\n",
       "      <th></th>\n",
       "      <th>data</th>\n",
       "      <th>sentimento</th>\n",
       "    </tr>\n",
       "  </thead>\n",
       "  <tbody>\n",
       "    <tr>\n",
       "      <th>0</th>\n",
       "      <td>2022-02-02</td>\n",
       "      <td>50</td>\n",
       "    </tr>\n",
       "    <tr>\n",
       "      <th>1</th>\n",
       "      <td>2022-03-16</td>\n",
       "      <td>50</td>\n",
       "    </tr>\n",
       "    <tr>\n",
       "      <th>2</th>\n",
       "      <td>2022-05-04</td>\n",
       "      <td>50</td>\n",
       "    </tr>\n",
       "    <tr>\n",
       "      <th>3</th>\n",
       "      <td>2022-06-15</td>\n",
       "      <td>50</td>\n",
       "    </tr>\n",
       "    <tr>\n",
       "      <th>4</th>\n",
       "      <td>2022-08-03</td>\n",
       "      <td>50</td>\n",
       "    </tr>\n",
       "    <tr>\n",
       "      <th>5</th>\n",
       "      <td>2022-09-21</td>\n",
       "      <td>50</td>\n",
       "    </tr>\n",
       "    <tr>\n",
       "      <th>6</th>\n",
       "      <td>2022-10-26</td>\n",
       "      <td>50</td>\n",
       "    </tr>\n",
       "    <tr>\n",
       "      <th>7</th>\n",
       "      <td>2022-12-07</td>\n",
       "      <td>50</td>\n",
       "    </tr>\n",
       "    <tr>\n",
       "      <th>8</th>\n",
       "      <td>2023-02-01</td>\n",
       "      <td>50</td>\n",
       "    </tr>\n",
       "    <tr>\n",
       "      <th>9</th>\n",
       "      <td>2023-03-22</td>\n",
       "      <td>50</td>\n",
       "    </tr>\n",
       "    <tr>\n",
       "      <th>10</th>\n",
       "      <td>2023-05-03</td>\n",
       "      <td>55</td>\n",
       "    </tr>\n",
       "    <tr>\n",
       "      <th>11</th>\n",
       "      <td>2023-06-21</td>\n",
       "      <td>50</td>\n",
       "    </tr>\n",
       "    <tr>\n",
       "      <th>12</th>\n",
       "      <td>2023-08-02</td>\n",
       "      <td>75</td>\n",
       "    </tr>\n",
       "    <tr>\n",
       "      <th>13</th>\n",
       "      <td>2023-09-20</td>\n",
       "      <td>75</td>\n",
       "    </tr>\n",
       "    <tr>\n",
       "      <th>14</th>\n",
       "      <td>2023-11-01</td>\n",
       "      <td>75</td>\n",
       "    </tr>\n",
       "    <tr>\n",
       "      <th>15</th>\n",
       "      <td>2023-12-13</td>\n",
       "      <td>75</td>\n",
       "    </tr>\n",
       "    <tr>\n",
       "      <th>16</th>\n",
       "      <td>2024-01-31</td>\n",
       "      <td>75</td>\n",
       "    </tr>\n",
       "    <tr>\n",
       "      <th>17</th>\n",
       "      <td>2024-03-20</td>\n",
       "      <td>70</td>\n",
       "    </tr>\n",
       "    <tr>\n",
       "      <th>18</th>\n",
       "      <td>2024-05-08</td>\n",
       "      <td>70</td>\n",
       "    </tr>\n",
       "    <tr>\n",
       "      <th>19</th>\n",
       "      <td>2024-06-19</td>\n",
       "      <td>50</td>\n",
       "    </tr>\n",
       "    <tr>\n",
       "      <th>20</th>\n",
       "      <td>2024-07-31</td>\n",
       "      <td>50</td>\n",
       "    </tr>\n",
       "  </tbody>\n",
       "</table>\n",
       "</div>"
      ],
      "text/plain": [
       "         data  sentimento\n",
       "0  2022-02-02          50\n",
       "1  2022-03-16          50\n",
       "2  2022-05-04          50\n",
       "3  2022-06-15          50\n",
       "4  2022-08-03          50\n",
       "5  2022-09-21          50\n",
       "6  2022-10-26          50\n",
       "7  2022-12-07          50\n",
       "8  2023-02-01          50\n",
       "9  2023-03-22          50\n",
       "10 2023-05-03          55\n",
       "11 2023-06-21          50\n",
       "12 2023-08-02          75\n",
       "13 2023-09-20          75\n",
       "14 2023-11-01          75\n",
       "15 2023-12-13          75\n",
       "16 2024-01-31          75\n",
       "17 2024-03-20          70\n",
       "18 2024-05-08          70\n",
       "19 2024-06-19          50\n",
       "20 2024-07-31          50"
      ]
     },
     "execution_count": 15,
     "metadata": {},
     "output_type": "execute_result"
    }
   ],
   "source": [
    "import pandas as pd\n",
    "\n",
    "tabela = pd.DataFrame()\n",
    "tabela['data'] = pd.to_datetime([sublista[1] for sublista in sentimento])\n",
    "tabela['sentimento'] = [sublista[0] for sublista in sentimento]\n",
    "tabela['sentimento'] = tabela['sentimento'].astype(int)\n",
    "tabela"
   ]
  },
  {
   "cell_type": "code",
   "execution_count": 16,
   "metadata": {},
   "outputs": [
    {
     "data": {
      "image/png": "[encoded data removed]"
     },
     "metadata": {},
     "output_type": "display_data"
    }
   ],
   "source": [
    "import plotly.graph_objects as go\n",
    "\n",
    "\n",
    "linha_sentimento = go.Scatter(x=tabela['data'],y=tabela['sentimento'],mode='lines',line_color='black',name='Sentimento',showlegend=False)\n",
    "# Criar as áreas de fundo\n",
    "area_negativa = go.Scatter(\n",
    "    x=tabela['data'],\n",
    "    y=[50] * len(tabela),  # Linha horizontal em y=50\n",
    "    mode='lines',\n",
    "    line=dict(width=0, color='red'), # Linha invisível\n",
    "    fill='tonexty', # Preencher até a próxima linha\n",
    "    fillcolor='rgba(255, 0, 0, 0.45)',  # Vermelho com transparência\n",
    "    showlegend=False\n",
    ")\n",
    "\n",
    "area_positiva = go.Scatter(\n",
    "    x=tabela['data'],\n",
    "    y=[100] * len(tabela), # Linha horizontal em y=100\n",
    "    mode='lines',\n",
    "    line=dict(width=0, color='green'), # Linha invisível\n",
    "    fill='tonexty', # Preencher até a próxima linha\n",
    "    fillcolor='rgba(0, 128, 0, 0.45)',  # Verde com transparência\n",
    "    showlegend=False\n",
    ")\n",
    "\n",
    "# Criar o objeto figura e adicionar os traços\n",
    "fig = go.Figure(data=[area_negativa, area_positiva, linha_sentimento])\n",
    "\n",
    "# Personalizar o layout\n",
    "fig.update_layout(\n",
    "    title=\"Análise de Sentimento de Política Monetária - Brasil\",\n",
    "    xaxis_title=\"Reunião do COPOM\",\n",
    "    yaxis_title=\"Índice sentimento\",\n",
    "    xaxis_tickformat=\"%m/%Y\",\n",
    "    xaxis_tickangle=45,\n",
    "    \n",
    "    # Adicionar nota como anotação\n",
    "    annotations=[dict(\n",
    "        x=0, \n",
    "        y=1.15, \n",
    "        xref=\"paper\", \n",
    "        yref=\"paper\", \n",
    "        text=\"Fonte: BCB\",\n",
    "        showarrow=False\n",
    "    )]\n",
    ")\n",
    "\n",
    "\n",
    "fig.show(\"png\")  # para github\n",
    "# fig.show()       # Grafico interativo"
   ]
  }
 ],
 "metadata": {
  "kernelspec": {
   "display_name": "base",
   "language": "python",
   "name": "python3"
  },
  "language_info": {
   "codemirror_mode": {
    "name": "ipython",
    "version": 3
   },
   "file_extension": ".py",
   "mimetype": "text/x-python",
   "name": "python",
   "nbconvert_exporter": "python",
   "pygments_lexer": "ipython3",
   "version": "3.11.9"
  }
 },
 "nbformat": 4,
 "nbformat_minor": 2
}
