{
  "cells": [
    {
      "cell_type": "code",
      "execution_count": 2,
      "id": "8961ca54",
      "metadata": {
        "id": "8961ca54"
      },
      "outputs": [],
      "source": [
        "import pandas as pd\n",
        "import requests\n",
        "import zipfile\n",
        "\n",
        "pd.options.display.float_format = '{:.4f}'.format"
      ]
    },
    {
      "cell_type": "code",
      "execution_count": 97,
      "id": "c5879dd2",
      "metadata": {},
      "outputs": [],
      "source": [
        "def busca_informes_cvm(ano, mes):\n",
        "  url = 'https://dados.cvm.gov.br/dados/FI/DOC/INF_DIARIO/DADOS/'\n",
        "  if ano < 2021 :\n",
        "    url = url + 'HIST/'\n",
        "    file_name = 'inf_diario_fi_{:02d}.zip'.format(ano)\n",
        "  else :\n",
        "    file_name = 'inf_diario_fi_{:02d}{:02d}.zip'.format(ano,mes)\n",
        "  \n",
        "  download = requests.get(url+file_name)\n",
        "  with open(file_name, \"wb\") as arquivo_cvm:\n",
        "    arquivo_cvm.write(download.content)\n",
        "  arquivo_zip = zipfile.ZipFile(file_name)\n",
        "  dados = pd.read_csv(arquivo_zip.open(arquivo_zip.namelist()[0]), sep = \";\", encoding = 'ISO-8859-1')\n",
        "\n",
        "  import os\n",
        "  os.remove(file_name)\n",
        "\n",
        "  return dados\n",
        "\n",
        "def busca_cadastro_cvm(): \n",
        "  url = 'https://dados.cvm.gov.br/dados/FI/CAD/DADOS/cad_fi.csv'\n",
        "  dados = pd.read_csv(url, sep=';', encoding='ISO-8859-1',\n",
        "                      usecols=['TP_FUNDO', 'CNPJ_FUNDO', 'DENOM_SOCIAL', \n",
        "                               'SIT','CLASSE', 'RENTAB_FUNDO', 'CONDOM', \n",
        "                               'TRIB_LPRAZO', 'PUBLICO_ALVO', 'TAXA_PERFM',\n",
        "                               'INF_TAXA_PERFM', 'TAXA_ADM', 'INF_TAXA_ADM', \n",
        "                               'CLASSE_ANBIMA'],low_memory=False)\n",
        "  dados = dados[dados['SIT']=='EM FUNCIONAMENTO NORMAL']\n",
        "  return dados"
      ]
    },
    {
      "cell_type": "code",
      "execution_count": null,
      "id": "2c92afb1",
      "metadata": {},
      "outputs": [],
      "source": [
        "dados_fundo = busca_informes_cvm(ano=2020, mes=12)\n",
        "dados_cadastro = busca_cadastro_cvm()"
      ]
    },
    {
      "cell_type": "code",
      "execution_count": 98,
      "id": "066cac64",
      "metadata": {
        "id": "066cac64",
        "outputId": "aacfd8af-5b26-414e-927d-8f0336e0df38",
        "scrolled": true
      },
      "outputs": [
        {
          "data": {
            "text/html": [
              "<div>\n",
              "<style scoped>\n",
              "    .dataframe tbody tr th:only-of-type {\n",
              "        vertical-align: middle;\n",
              "    }\n",
              "\n",
              "    .dataframe tbody tr th {\n",
              "        vertical-align: top;\n",
              "    }\n",
              "\n",
              "    .dataframe thead th {\n",
              "        text-align: right;\n",
              "    }\n",
              "</style>\n",
              "<table border=\"1\" class=\"dataframe\">\n",
              "  <thead>\n",
              "    <tr style=\"text-align: right;\">\n",
              "      <th></th>\n",
              "      <th>CNPJ_FUNDO</th>\n",
              "      <th>DENOM_SOCIAL</th>\n",
              "    </tr>\n",
              "  </thead>\n",
              "  <tbody>\n",
              "    <tr>\n",
              "      <th>5003</th>\n",
              "      <td>06.537.068/0001-90</td>\n",
              "      <td>AMAZÔNIA CREDIT 90 - FUNDO DE APLICAÇÃO EM QUO...</td>\n",
              "    </tr>\n",
              "    <tr>\n",
              "      <th>5044</th>\n",
              "      <td>07.408.147/0001-64</td>\n",
              "      <td>FUNDO AMAZONIA DE APLICAÇÃO EM COTAS DE FUNDO ...</td>\n",
              "    </tr>\n",
              "    <tr>\n",
              "      <th>5214</th>\n",
              "      <td>02.010.153/0001-45</td>\n",
              "      <td>BB FAPI FUNDO DE APOSENTADORIA PROGRAMADA INDI...</td>\n",
              "    </tr>\n",
              "  </tbody>\n",
              "</table>\n",
              "</div>"
            ],
            "text/plain": [
              "              CNPJ_FUNDO                                       DENOM_SOCIAL\n",
              "5003  06.537.068/0001-90  AMAZÔNIA CREDIT 90 - FUNDO DE APLICAÇÃO EM QUO...\n",
              "5044  07.408.147/0001-64  FUNDO AMAZONIA DE APLICAÇÃO EM COTAS DE FUNDO ...\n",
              "5214  02.010.153/0001-45  BB FAPI FUNDO DE APOSENTADORIA PROGRAMADA INDI..."
            ]
          },
          "execution_count": 98,
          "metadata": {},
          "output_type": "execute_result"
        }
      ],
      "source": [
        "dados_cadastro = busca_cadastro_cvm()[['CNPJ_FUNDO', 'DENOM_SOCIAL']]\n",
        "# dados_cadastro = dados_cadastro[['CNPJ_FUNDO', 'DENOM_SOCIAL']]\n",
        "dados_cadastro = dados_cadastro.drop_duplicates()\n",
        "dados_cadastro.head(3)"
      ]
    },
    {
      "cell_type": "code",
      "execution_count": 19,
      "id": "89ad13e0",
      "metadata": {
        "id": "89ad13e0",
        "outputId": "31aad92e-99ab-4749-8183-58e3422d7812"
      },
      "outputs": [
        {
          "data": {
            "text/html": [
              "<div>\n",
              "<style scoped>\n",
              "    .dataframe tbody tr th:only-of-type {\n",
              "        vertical-align: middle;\n",
              "    }\n",
              "\n",
              "    .dataframe tbody tr th {\n",
              "        vertical-align: top;\n",
              "    }\n",
              "\n",
              "    .dataframe thead th {\n",
              "        text-align: right;\n",
              "    }\n",
              "</style>\n",
              "<table border=\"1\" class=\"dataframe\">\n",
              "  <thead>\n",
              "    <tr style=\"text-align: right;\">\n",
              "      <th></th>\n",
              "      <th>TP_FUNDO</th>\n",
              "      <th>CNPJ_FUNDO</th>\n",
              "      <th>DT_COMPTC</th>\n",
              "      <th>VL_TOTAL</th>\n",
              "      <th>VL_QUOTA</th>\n",
              "      <th>VL_PATRIM_LIQ</th>\n",
              "      <th>CAPTC_DIA</th>\n",
              "      <th>RESG_DIA</th>\n",
              "      <th>NR_COTST</th>\n",
              "    </tr>\n",
              "  </thead>\n",
              "  <tbody>\n",
              "    <tr>\n",
              "      <th>0</th>\n",
              "      <td>FI</td>\n",
              "      <td>00.017.024/0001-53</td>\n",
              "      <td>2023-12-01</td>\n",
              "      <td>1130534.4800</td>\n",
              "      <td>34.0426</td>\n",
              "      <td>1133992.1700</td>\n",
              "      <td>0.0000</td>\n",
              "      <td>0.0000</td>\n",
              "      <td>1</td>\n",
              "    </tr>\n",
              "    <tr>\n",
              "      <th>19</th>\n",
              "      <td>FI</td>\n",
              "      <td>00.017.024/0001-53</td>\n",
              "      <td>2023-12-29</td>\n",
              "      <td>1136186.5500</td>\n",
              "      <td>34.2859</td>\n",
              "      <td>1139276.8300</td>\n",
              "      <td>0.0000</td>\n",
              "      <td>0.0000</td>\n",
              "      <td>1</td>\n",
              "    </tr>\n",
              "    <tr>\n",
              "      <th>20</th>\n",
              "      <td>FI</td>\n",
              "      <td>00.068.305/0001-35</td>\n",
              "      <td>2023-12-01</td>\n",
              "      <td>38117490.3200</td>\n",
              "      <td>35.0666</td>\n",
              "      <td>37801379.4700</td>\n",
              "      <td>0.0000</td>\n",
              "      <td>3937.4200</td>\n",
              "      <td>6025</td>\n",
              "    </tr>\n",
              "  </tbody>\n",
              "</table>\n",
              "</div>"
            ],
            "text/plain": [
              "   TP_FUNDO          CNPJ_FUNDO   DT_COMPTC      VL_TOTAL  VL_QUOTA  \\\n",
              "0        FI  00.017.024/0001-53  2023-12-01  1130534.4800   34.0426   \n",
              "19       FI  00.017.024/0001-53  2023-12-29  1136186.5500   34.2859   \n",
              "20       FI  00.068.305/0001-35  2023-12-01 38117490.3200   35.0666   \n",
              "\n",
              "    VL_PATRIM_LIQ  CAPTC_DIA  RESG_DIA  NR_COTST  \n",
              "0    1133992.1700     0.0000    0.0000         1  \n",
              "19   1139276.8300     0.0000    0.0000         1  \n",
              "20  37801379.4700     0.0000 3937.4200      6025  "
            ]
          },
          "execution_count": 19,
          "metadata": {},
          "output_type": "execute_result"
        }
      ],
      "source": [
        "data_inicio_mes = (dados_fundos['DT_COMPTC'].sort_values(ascending = True).unique())[0]\n",
        "data_fim_mes = (dados_fundos['DT_COMPTC'].sort_values(ascending = True).unique())[-1]\n",
        "\n",
        "dados_fundos_filtrado = dados_fundos[(dados_fundos['DT_COMPTC'].isin([data_inicio_mes, data_fim_mes]))]\n",
        "dados_fundos_filtrado.head(3)"
      ]
    },
    {
      "cell_type": "code",
      "execution_count": 22,
      "id": "c4a307cb",
      "metadata": {
        "id": "c4a307cb",
        "outputId": "3f8982ce-db1d-4e23-cd8b-42bf904faa0c",
        "scrolled": false
      },
      "outputs": [
        {
          "data": {
            "text/html": [
              "<div>\n",
              "<style scoped>\n",
              "    .dataframe tbody tr th:only-of-type {\n",
              "        vertical-align: middle;\n",
              "    }\n",
              "\n",
              "    .dataframe tbody tr th {\n",
              "        vertical-align: top;\n",
              "    }\n",
              "\n",
              "    .dataframe thead th {\n",
              "        text-align: right;\n",
              "    }\n",
              "</style>\n",
              "<table border=\"1\" class=\"dataframe\">\n",
              "  <thead>\n",
              "    <tr style=\"text-align: right;\">\n",
              "      <th></th>\n",
              "      <th>TP_FUNDO</th>\n",
              "      <th>CNPJ_FUNDO</th>\n",
              "      <th>DT_COMPTC</th>\n",
              "      <th>VL_TOTAL</th>\n",
              "      <th>VL_QUOTA</th>\n",
              "      <th>VL_PATRIM_LIQ</th>\n",
              "      <th>CAPTC_DIA</th>\n",
              "      <th>RESG_DIA</th>\n",
              "      <th>NR_COTST</th>\n",
              "      <th>DENOM_SOCIAL</th>\n",
              "    </tr>\n",
              "  </thead>\n",
              "  <tbody>\n",
              "    <tr>\n",
              "      <th>0</th>\n",
              "      <td>FI</td>\n",
              "      <td>00.017.024/0001-53</td>\n",
              "      <td>2023-12-01</td>\n",
              "      <td>1130534.4800</td>\n",
              "      <td>34.0426</td>\n",
              "      <td>1133992.1700</td>\n",
              "      <td>0.0000</td>\n",
              "      <td>0.0000</td>\n",
              "      <td>1</td>\n",
              "      <td>FUNDO DE INVESTIMENTO RENDA FIXA EXPONENCIAL</td>\n",
              "    </tr>\n",
              "    <tr>\n",
              "      <th>1</th>\n",
              "      <td>FI</td>\n",
              "      <td>00.017.024/0001-53</td>\n",
              "      <td>2023-12-29</td>\n",
              "      <td>1136186.5500</td>\n",
              "      <td>34.2859</td>\n",
              "      <td>1139276.8300</td>\n",
              "      <td>0.0000</td>\n",
              "      <td>0.0000</td>\n",
              "      <td>1</td>\n",
              "      <td>FUNDO DE INVESTIMENTO RENDA FIXA EXPONENCIAL</td>\n",
              "    </tr>\n",
              "    <tr>\n",
              "      <th>2</th>\n",
              "      <td>FI</td>\n",
              "      <td>00.068.305/0001-35</td>\n",
              "      <td>2023-12-01</td>\n",
              "      <td>38117490.3200</td>\n",
              "      <td>35.0666</td>\n",
              "      <td>37801379.4700</td>\n",
              "      <td>0.0000</td>\n",
              "      <td>3937.4200</td>\n",
              "      <td>6025</td>\n",
              "      <td>FUNDO DE INVESTIMENTO EM COTAS DE FUNDOS DE IN...</td>\n",
              "    </tr>\n",
              "  </tbody>\n",
              "</table>\n",
              "</div>"
            ],
            "text/plain": [
              "  TP_FUNDO          CNPJ_FUNDO   DT_COMPTC      VL_TOTAL  VL_QUOTA  \\\n",
              "0       FI  00.017.024/0001-53  2023-12-01  1130534.4800   34.0426   \n",
              "1       FI  00.017.024/0001-53  2023-12-29  1136186.5500   34.2859   \n",
              "2       FI  00.068.305/0001-35  2023-12-01 38117490.3200   35.0666   \n",
              "\n",
              "   VL_PATRIM_LIQ  CAPTC_DIA  RESG_DIA  NR_COTST  \\\n",
              "0   1133992.1700     0.0000    0.0000         1   \n",
              "1   1139276.8300     0.0000    0.0000         1   \n",
              "2  37801379.4700     0.0000 3937.4200      6025   \n",
              "\n",
              "                                        DENOM_SOCIAL  \n",
              "0       FUNDO DE INVESTIMENTO RENDA FIXA EXPONENCIAL  \n",
              "1       FUNDO DE INVESTIMENTO RENDA FIXA EXPONENCIAL  \n",
              "2  FUNDO DE INVESTIMENTO EM COTAS DE FUNDOS DE IN...  "
            ]
          },
          "execution_count": 22,
          "metadata": {},
          "output_type": "execute_result"
        }
      ],
      "source": [
        "base_final = pd.merge(dados_fundos_filtrado, dados_cadastro, how = \"left\",\n",
        "                      left_on = [\"CNPJ_FUNDO\"], right_on = [\"CNPJ_FUNDO\"])\n",
        "\n",
        "base_final.head(3)"
      ]
    },
    {
      "cell_type": "code",
      "execution_count": 50,
      "id": "d951e74f",
      "metadata": {
        "id": "d951e74f",
        "outputId": "7cb1ed5c-d574-40a9-ada1-d060b306cc5f",
        "scrolled": false
      },
      "outputs": [
        {
          "data": {
            "text/html": [
              "<div>\n",
              "<style scoped>\n",
              "    .dataframe tbody tr th:only-of-type {\n",
              "        vertical-align: middle;\n",
              "    }\n",
              "\n",
              "    .dataframe tbody tr th {\n",
              "        vertical-align: top;\n",
              "    }\n",
              "\n",
              "    .dataframe thead th {\n",
              "        text-align: right;\n",
              "    }\n",
              "</style>\n",
              "<table border=\"1\" class=\"dataframe\">\n",
              "  <thead>\n",
              "    <tr style=\"text-align: right;\">\n",
              "      <th></th>\n",
              "      <th>CNPJ_FUNDO</th>\n",
              "      <th>DT_COMPTC</th>\n",
              "      <th>DENOM_SOCIAL</th>\n",
              "    </tr>\n",
              "  </thead>\n",
              "  <tbody>\n",
              "    <tr>\n",
              "      <th>22157</th>\n",
              "      <td>30.509.221/0001-50</td>\n",
              "      <td>2023-12-01</td>\n",
              "      <td>V8 CASH FUNDO DE INVESTIMENTO EM COTAS DE FUND...</td>\n",
              "    </tr>\n",
              "    <tr>\n",
              "      <th>22158</th>\n",
              "      <td>30.509.221/0001-50</td>\n",
              "      <td>2023-12-29</td>\n",
              "      <td>V8 CASH FUNDO DE INVESTIMENTO EM COTAS DE FUND...</td>\n",
              "    </tr>\n",
              "    <tr>\n",
              "      <th>40153</th>\n",
              "      <td>42.774.627/0001-40</td>\n",
              "      <td>2023-12-01</td>\n",
              "      <td>V8 CASH PLATINUM FUNDO DE INVESTIMENTO EM COTA...</td>\n",
              "    </tr>\n",
              "    <tr>\n",
              "      <th>40154</th>\n",
              "      <td>42.774.627/0001-40</td>\n",
              "      <td>2023-12-29</td>\n",
              "      <td>V8 CASH PLATINUM FUNDO DE INVESTIMENTO EM COTA...</td>\n",
              "    </tr>\n",
              "  </tbody>\n",
              "</table>\n",
              "</div>"
            ],
            "text/plain": [
              "               CNPJ_FUNDO   DT_COMPTC  \\\n",
              "22157  30.509.221/0001-50  2023-12-01   \n",
              "22158  30.509.221/0001-50  2023-12-29   \n",
              "40153  42.774.627/0001-40  2023-12-01   \n",
              "40154  42.774.627/0001-40  2023-12-29   \n",
              "\n",
              "                                            DENOM_SOCIAL  \n",
              "22157  V8 CASH FUNDO DE INVESTIMENTO EM COTAS DE FUND...  \n",
              "22158  V8 CASH FUNDO DE INVESTIMENTO EM COTAS DE FUND...  \n",
              "40153  V8 CASH PLATINUM FUNDO DE INVESTIMENTO EM COTA...  \n",
              "40154  V8 CASH PLATINUM FUNDO DE INVESTIMENTO EM COTA...  "
            ]
          },
          "execution_count": 50,
          "metadata": {},
          "output_type": "execute_result"
        }
      ],
      "source": [
        "busca_fundo = base_final[base_final['DENOM_SOCIAL'].str.contains(\"V8 CASH\", na = False)]\n",
        "busca_fundo[['CNPJ_FUNDO' , 'DT_COMPTC' , 'DENOM_SOCIAL']]"
      ]
    },
    {
      "cell_type": "markdown",
      "id": "a3b4a182",
      "metadata": {
        "id": "a3b4a182"
      },
      "source": [
        "Patrimônio e performance do fundo em dezembro"
      ]
    },
    {
      "cell_type": "code",
      "execution_count": 53,
      "id": "e8363277",
      "metadata": {},
      "outputs": [],
      "source": [
        "cnpj = \"30.509.221/0001-50\"\n",
        "busca_fundo[(busca_fundo['CNPJ_FUNDO'] == cnpj)]['DENOM_SOCIAL'].values"
      ]
    },
    {
      "cell_type": "code",
      "execution_count": 51,
      "id": "260c3de1",
      "metadata": {
        "id": "260c3de1",
        "outputId": "ec515844-9bf7-4860-ad86-a1d5b44f35bb"
      },
      "outputs": [
        {
          "data": {
            "text/plain": [
              "'R$ 1172.54MM'"
            ]
          },
          "execution_count": 51,
          "metadata": {},
          "output_type": "execute_result"
        }
      ],
      "source": [
        "fundo = busca_fundo[(busca_fundo['CNPJ_FUNDO'] == cnpj) &\n",
        "                    (busca_fundo['DT_COMPTC'] == \"2023-12-29\")]\n",
        "\n",
        "patrimonio_do_fundo =  \"R$ \" + str((fundo['VL_PATRIM_LIQ'].iloc[0]/1000000).round(2)) + \"MM\"\n",
        "\n",
        "patrimonio_do_fundo"
      ]
    },
    {
      "cell_type": "code",
      "execution_count": 58,
      "id": "3e7980b1",
      "metadata": {
        "id": "3e7980b1",
        "outputId": "6af9c0c2-6148-4985-965d-986100ce0a0d"
      },
      "outputs": [
        {
          "data": {
            "text/plain": [
              "'Retorno fundo: 0.93%'"
            ]
          },
          "execution_count": 58,
          "metadata": {},
          "output_type": "execute_result"
        }
      ],
      "source": [
        "fundo_fic = busca_fundo[(busca_fundo['CNPJ_FUNDO'] == cnpj)]\n",
        "\n",
        "retorno_dez = (\"Retorno fundo: \" +\n",
        "            str(((fundo_fic['VL_QUOTA'].iloc[-1]/fundo_fic['VL_QUOTA'].iloc[0] - 1)\n",
        "                 * 100).round(2))\n",
        "               + \"%\")\n",
        "\n",
        "retorno_dez"
      ]
    },
    {
      "cell_type": "code",
      "execution_count": null,
      "id": "8f6a1308",
      "metadata": {},
      "outputs": [],
      "source": [
        "# mostra os melhores que satifazem as restrições\n",
        "minimo_cotistas = 5000\n",
        "top = 5\n",
        "classe = 'multimercado'\n",
        "\n",
        "cadastro      = cadastro[cadastro['SIT'] == 'EM FUNCIONAMENTO NORMAL']\n",
        "fundos        = informes[informes['NR_COTST'] >= minimo_cotistas]\n",
        "print(fundos)\n",
        "cnpj_informes = fundos['CNPJ_FUNDO'].drop_duplicates()\n",
        "fundos = fundos.pivot(index='DT_COMPTC', columns='CNPJ_FUNDO')  \n",
        "cotas_normalizadas = fundos['VL_QUOTA'] / fundos['VL_QUOTA'].iloc[0]\n",
        "  \n",
        "if classe == 'multimercado':\n",
        "  cnpj_cadastro      = cadastro[cadastro['CLASSE'] == 'Fundo Multimercado']['CNPJ_FUNDO']   \n",
        "  cotas_normalizadas = cotas_normalizadas[cnpj_cadastro[cnpj_cadastro.isin(cnpj_informes)]]\n",
        "\n",
        "if classe == 'acoes':\n",
        "  cnpj_cadastro      = cadastro[cadastro['CLASSE'] == 'Fundo de Ações']['CNPJ_FUNDO']   \n",
        "  cotas_normalizadas = cotas_normalizadas[cnpj_cadastro[cnpj_cadastro.isin(cnpj_informes)]]\n",
        "\n",
        "if classe == 'rendafixa':\n",
        "  cnpj_cadastro      = cadastro[cadastro['CLASSE'] == 'Fundo de Renda Fixa']['CNPJ_FUNDO']   \n",
        "  cotas_normalizadas = cotas_normalizadas[cnpj_cadastro[cnpj_cadastro.isin(cnpj_informes)]]\n",
        "\n",
        "if classe == 'cambial':\n",
        "  cnpj_cadastro      = cadastro[cadastro['CLASSE'] == 'Fundo Cambial']['CNPJ_FUNDO']   \n",
        "  cotas_normalizadas = cotas_normalizadas[cnpj_cadastro[cnpj_cadastro.isin(cnpj_informes)]]\n",
        "\n",
        "melhores = pd.DataFrame()\n",
        "melhores['retorno(%)'] = (cotas_normalizadas.iloc[-1].sort_values(ascending=False) - 1) * 100\n",
        "\n",
        "for cnpj in melhores.index:\n",
        "  fundo = cadastro[cadastro['CNPJ_FUNDO'] == cnpj]\n",
        "  melhores.at[cnpj, 'Fundo de Investimento'] = fundo['DENOM_SOCIAL'].values[0]\n",
        "  melhores.at[cnpj, 'Classe'] = fundo['CLASSE'].values[0]\n",
        "  melhores.at[cnpj, 'PL'] = fundo['VL_PATRIM_LIQ'].values[0]\n",
        "\n",
        "\n",
        "pd.set_option(\"display.max_colwidth\", 150)\n",
        "pd.set_option(\"display.max_rows\", 477)\n",
        "\n",
        "print(melhores['Fundo de Investimento'][:top])"
      ]
    },
    {
      "cell_type": "code",
      "execution_count": null,
      "id": "0e67e54f",
      "metadata": {},
      "outputs": [],
      "source": [
        "# os n piores\n",
        "n=10\n",
        "pd.set_option(\"display.max_rows\", 399)\n",
        "piores = pd.DataFrame()\n",
        "piores['retorno(%)'] = (cotas_normalizadas.iloc[-1].sort_values(ascending=True)[:n] - 1) * 100\n",
        "\n",
        "for cnpj in piores.index:\n",
        "  fundo = cadastro[cadastro['CNPJ_FUNDO'] == cnpj]\n",
        "  piores.at[cnpj, 'Fundo de Investimento'] = fundo['DENOM_SOCIAL'].values[0]\n",
        "  piores.at[cnpj, 'Classe'] = fundo['CLASSE'].values[0]\n",
        "  piores.at[cnpj, 'PL'] = fundo['VL_PATRIM_LIQ'].values[0]\n",
        "\n",
        "piores['Fundo de Investimento']"
      ]
    }
  ],
  "metadata": {
    "colab": {
      "provenance": []
    },
    "kernelspec": {
      "display_name": "Python 3 (ipykernel)",
      "language": "python",
      "name": "python3"
    },
    "language_info": {
      "codemirror_mode": {
        "name": "ipython",
        "version": 3
      },
      "file_extension": ".py",
      "mimetype": "text/x-python",
      "name": "python",
      "nbconvert_exporter": "python",
      "pygments_lexer": "ipython3",
      "version": "3.11.5"
    }
  },
  "nbformat": 4,
  "nbformat_minor": 5
}
