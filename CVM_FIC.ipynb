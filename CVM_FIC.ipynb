{
  "cells": [
    {
      "cell_type": "code",
      "execution_count": null,
      "id": "7ba3c264",
      "metadata": {},
      "outputs": [],
      "source": [
        "import requests"
      ]
    },
    {
      "cell_type": "code",
      "execution_count": null,
      "id": "c5879dd2",
      "metadata": {},
      "outputs": [],
      "source": [
        "def busca_informes_cvm(ano, mes):\n",
        "  url = 'https://dados.cvm.gov.br/dados/FI/DOC/INF_DIARIO/DADOS/'\n",
        "  if ano < 2021 :\n",
        "    url = url + 'HIST/'\n",
        "    file_name = 'inf_diario_fi_{:02d}.zip'.format(ano)\n",
        "  else :\n",
        "    file_name = 'inf_diario_fi_{:02d}{:02d}.zip'.format(ano,mes)\n",
        "  \n",
        "  download = requests.get(url+file_name)\n",
        "  with open(file_name, \"wb\") as arquivo_cvm:\n",
        "    arquivo_cvm.write(download.content)\n",
        "  arquivo_zip = zipfile.ZipFile(file_name)\n",
        "  dados = pd.read_csv(arquivo_zip.open(arquivo_zip.namelist()[0]), sep = \";\", encoding = 'ISO-8859-1')\n",
        "\n",
        "  import os\n",
        "  os.remove(file_name)\n",
        "\n",
        "  return dados\n",
        "\n",
        "def busca_cadastro_cvm(): \n",
        "  url = 'https://dados.cvm.gov.br/dados/FI/CAD/DADOS/cad_fi.csv'\n",
        "  dados = pd.read_csv(url, sep=';', encoding='ISO-8859-1',\n",
        "                      usecols=['TP_FUNDO', 'CNPJ_FUNDO', 'DENOM_SOCIAL', \n",
        "                               'SIT','CLASSE', 'RENTAB_FUNDO', 'CONDOM', \n",
        "                               'TRIB_LPRAZO', 'PUBLICO_ALVO', 'TAXA_PERFM',\n",
        "                               'INF_TAXA_PERFM', 'TAXA_ADM', 'INF_TAXA_ADM', \n",
        "                               'CLASSE_ANBIMA'],low_memory=False)\n",
        "  dados = dados[dados['SIT']=='EM FUNCIONAMENTO NORMAL']\n",
        "  return dados"
      ]
    },
    {
      "cell_type": "code",
      "execution_count": null,
      "id": "2c92afb1",
      "metadata": {},
      "outputs": [],
      "source": [
        "dados_fundo = busca_informes_cvm(ano=2020, mes=12)\n",
        "dados_cadastro = busca_cadastro_cvm()"
      ]
    },
    {
      "cell_type": "code",
      "execution_count": null,
      "id": "066cac64",
      "metadata": {
        "id": "066cac64",
        "outputId": "aacfd8af-5b26-414e-927d-8f0336e0df38",
        "scrolled": true
      },
      "outputs": [],
      "source": [
        "dados_cadastro = busca_cadastro_cvm()[['CNPJ_FUNDO', 'DENOM_SOCIAL']]\n",
        "# dados_cadastro = dados_cadastro[['CNPJ_FUNDO', 'DENOM_SOCIAL']]\n",
        "dados_cadastro = dados_cadastro.drop_duplicates()\n",
        "dados_cadastro.head(3)"
      ]
    },
    {
      "cell_type": "code",
      "execution_count": null,
      "id": "89ad13e0",
      "metadata": {
        "id": "89ad13e0",
        "outputId": "31aad92e-99ab-4749-8183-58e3422d7812"
      },
      "outputs": [],
      "source": [
        "data_inicio_mes = (dados_fundos['DT_COMPTC'].sort_values(ascending = True).unique())[0]\n",
        "data_fim_mes = (dados_fundos['DT_COMPTC'].sort_values(ascending = True).unique())[-1]\n",
        "\n",
        "dados_fundos_filtrado = dados_fundos[(dados_fundos['DT_COMPTC'].isin([data_inicio_mes, data_fim_mes]))]\n",
        "dados_fundos_filtrado.head(3)"
      ]
    },
    {
      "cell_type": "code",
      "execution_count": null,
      "id": "c4a307cb",
      "metadata": {
        "id": "c4a307cb",
        "outputId": "3f8982ce-db1d-4e23-cd8b-42bf904faa0c",
        "scrolled": false
      },
      "outputs": [],
      "source": [
        "base_final = pd.merge(dados_fundos_filtrado, dados_cadastro, how = \"left\",\n",
        "                      left_on = [\"CNPJ_FUNDO\"], right_on = [\"CNPJ_FUNDO\"])\n",
        "\n",
        "base_final.head(3)"
      ]
    },
    {
      "cell_type": "code",
      "execution_count": null,
      "id": "d951e74f",
      "metadata": {
        "id": "d951e74f",
        "outputId": "7cb1ed5c-d574-40a9-ada1-d060b306cc5f",
        "scrolled": false
      },
      "outputs": [],
      "source": [
        "busca_fundo = base_final[base_final['DENOM_SOCIAL'].str.contains(\"V8 CASH\", na = False)]\n",
        "busca_fundo[['CNPJ_FUNDO' , 'DT_COMPTC' , 'DENOM_SOCIAL']]"
      ]
    },
    {
      "cell_type": "markdown",
      "id": "a3b4a182",
      "metadata": {
        "id": "a3b4a182"
      },
      "source": [
        "Patrimônio e performance do fundo em dezembro"
      ]
    },
    {
      "cell_type": "code",
      "execution_count": null,
      "id": "e8363277",
      "metadata": {},
      "outputs": [],
      "source": [
        "cnpj = \"30.509.221/0001-50\"\n",
        "busca_fundo[(busca_fundo['CNPJ_FUNDO'] == cnpj)]['DENOM_SOCIAL'].values"
      ]
    },
    {
      "cell_type": "code",
      "execution_count": null,
      "id": "260c3de1",
      "metadata": {
        "id": "260c3de1",
        "outputId": "ec515844-9bf7-4860-ad86-a1d5b44f35bb"
      },
      "outputs": [],
      "source": [
        "fundo = busca_fundo[(busca_fundo['CNPJ_FUNDO'] == cnpj) &\n",
        "                    (busca_fundo['DT_COMPTC'] == \"2023-12-29\")]\n",
        "\n",
        "patrimonio_do_fundo =  \"R$ \" + str((fundo['VL_PATRIM_LIQ'].iloc[0]/1000000).round(2)) + \"MM\"\n",
        "\n",
        "patrimonio_do_fundo"
      ]
    },
    {
      "cell_type": "code",
      "execution_count": null,
      "id": "3e7980b1",
      "metadata": {
        "id": "3e7980b1",
        "outputId": "6af9c0c2-6148-4985-965d-986100ce0a0d"
      },
      "outputs": [],
      "source": [
        "fundo_fic = busca_fundo[(busca_fundo['CNPJ_FUNDO'] == cnpj)]\n",
        "\n",
        "retorno_dez = (\"Retorno fundo: \" +\n",
        "            str(((fundo_fic['VL_QUOTA'].iloc[-1]/fundo_fic['VL_QUOTA'].iloc[0] - 1)\n",
        "                 * 100).round(2))\n",
        "               + \"%\")\n",
        "\n",
        "retorno_dez"
      ]
    },
    {
      "cell_type": "code",
      "execution_count": null,
      "id": "8f6a1308",
      "metadata": {},
      "outputs": [],
      "source": [
        "# mostra os melhores que satifazem as restrições\n",
        "minimo_cotistas = 5000\n",
        "top = 5\n",
        "classe = 'multimercado'\n",
        "\n",
        "cadastro      = cadastro[cadastro['SIT'] == 'EM FUNCIONAMENTO NORMAL']\n",
        "fundos        = informes[informes['NR_COTST'] >= minimo_cotistas]\n",
        "print(fundos)\n",
        "cnpj_informes = fundos['CNPJ_FUNDO'].drop_duplicates()\n",
        "fundos = fundos.pivot(index='DT_COMPTC', columns='CNPJ_FUNDO')  \n",
        "cotas_normalizadas = fundos['VL_QUOTA'] / fundos['VL_QUOTA'].iloc[0]\n",
        "  \n",
        "if classe == 'multimercado':\n",
        "  cnpj_cadastro      = cadastro[cadastro['CLASSE'] == 'Fundo Multimercado']['CNPJ_FUNDO']   \n",
        "  cotas_normalizadas = cotas_normalizadas[cnpj_cadastro[cnpj_cadastro.isin(cnpj_informes)]]\n",
        "\n",
        "if classe == 'acoes':\n",
        "  cnpj_cadastro      = cadastro[cadastro['CLASSE'] == 'Fundo de Ações']['CNPJ_FUNDO']   \n",
        "  cotas_normalizadas = cotas_normalizadas[cnpj_cadastro[cnpj_cadastro.isin(cnpj_informes)]]\n",
        "\n",
        "if classe == 'rendafixa':\n",
        "  cnpj_cadastro      = cadastro[cadastro['CLASSE'] == 'Fundo de Renda Fixa']['CNPJ_FUNDO']   \n",
        "  cotas_normalizadas = cotas_normalizadas[cnpj_cadastro[cnpj_cadastro.isin(cnpj_informes)]]\n",
        "\n",
        "if classe == 'cambial':\n",
        "  cnpj_cadastro      = cadastro[cadastro['CLASSE'] == 'Fundo Cambial']['CNPJ_FUNDO']   \n",
        "  cotas_normalizadas = cotas_normalizadas[cnpj_cadastro[cnpj_cadastro.isin(cnpj_informes)]]\n",
        "\n",
        "melhores = pd.DataFrame()\n",
        "melhores['retorno(%)'] = (cotas_normalizadas.iloc[-1].sort_values(ascending=False) - 1) * 100\n",
        "\n",
        "for cnpj in melhores.index:\n",
        "  fundo = cadastro[cadastro['CNPJ_FUNDO'] == cnpj]\n",
        "  melhores.at[cnpj, 'Fundo de Investimento'] = fundo['DENOM_SOCIAL'].values[0]\n",
        "  melhores.at[cnpj, 'Classe'] = fundo['CLASSE'].values[0]\n",
        "  melhores.at[cnpj, 'PL'] = fundo['VL_PATRIM_LIQ'].values[0]\n",
        "\n",
        "\n",
        "pd.set_option(\"display.max_colwidth\", 150)\n",
        "pd.set_option(\"display.max_rows\", 477)\n",
        "\n",
        "print(melhores['Fundo de Investimento'][:top])"
      ]
    },
    {
      "cell_type": "code",
      "execution_count": null,
      "id": "0e67e54f",
      "metadata": {},
      "outputs": [],
      "source": [
        "# os n piores\n",
        "n=10\n",
        "pd.set_option(\"display.max_rows\", 399)\n",
        "piores = pd.DataFrame()\n",
        "piores['retorno(%)'] = (cotas_normalizadas.iloc[-1].sort_values(ascending=True)[:n] - 1) * 100\n",
        "\n",
        "for cnpj in piores.index:\n",
        "  fundo = cadastro[cadastro['CNPJ_FUNDO'] == cnpj]\n",
        "  piores.at[cnpj, 'Fundo de Investimento'] = fundo['DENOM_SOCIAL'].values[0]\n",
        "  piores.at[cnpj, 'Classe'] = fundo['CLASSE'].values[0]\n",
        "  piores.at[cnpj, 'PL'] = fundo['VL_PATRIM_LIQ'].values[0]\n",
        "\n",
        "piores['Fundo de Investimento']"
      ]
    }
  ],
  "metadata": {
    "colab": {
      "provenance": []
    },
    "kernelspec": {
      "display_name": "Python 3 (ipykernel)",
      "language": "python",
      "name": "python3"
    },
    "language_info": {
      "codemirror_mode": {
        "name": "ipython",
        "version": 3
      },
      "file_extension": ".py",
      "mimetype": "text/x-python",
      "name": "python",
      "nbconvert_exporter": "python",
      "pygments_lexer": "ipython3",
      "version": "3.11.5"
    }
  },
  "nbformat": 4,
  "nbformat_minor": 5
}
