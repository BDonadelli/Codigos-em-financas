{
  "cells": [
    {
      "cell_type": "code",
      "execution_count": 1,
      "id": "156bb2b5",
      "metadata": {
        "id": "156bb2b5"
      },
      "outputs": [],
      "source": [
        "import pandas as pd\n",
        "from selenium import webdriver\n",
        "from selenium.webdriver.chrome.service import Service\n",
        "from webdriver_manager.chrome import ChromeDriverManager\n",
        "from selenium.webdriver.chrome.options import Options\n",
        "import time\n",
        "from datetime import datetime"
      ]
    },
    {
      "cell_type": "code",
      "execution_count": 2,
      "id": "d1dcc430",
      "metadata": {
        "id": "d1dcc430"
      },
      "outputs": [],
      "source": [
        "driver = webdriver.Chrome(service=Service(ChromeDriverManager().install()))"
      ]
    },
    {
      "cell_type": "code",
      "execution_count": 3,
      "id": "9d341eca",
      "metadata": {
        "id": "9d341eca"
      },
      "outputs": [],
      "source": [
        "data_contratos = '12/04/2023'"
      ]
    },
    {
      "cell_type": "code",
      "execution_count": 4,
      "id": "d1a8b3f1",
      "metadata": {
        "id": "d1a8b3f1"
      },
      "outputs": [],
      "source": [
        "url = f'''\n",
        "https://www2.bmf.com.br/pages/portal/bmfbovespa/boletim1/SistemaPregao1.asp?\n",
        "pagetype=pop&caminho=Resumo%20Estat%EDstico%20-%20Sistema%20Preg%E3o&Data={data_contratos}&Mercadoria=WDO\n",
        "'''"
      ]
    },
    {
      "cell_type": "code",
      "execution_count": 5,
      "id": "a0b4531f",
      "metadata": {
        "id": "a0b4531f"
      },
      "outputs": [],
      "source": [
        "driver.get(url)"
      ]
    },
    {
      "cell_type": "code",
      "execution_count": 8,
      "id": "e7b02e2e",
      "metadata": {
        "id": "e7b02e2e"
      },
      "outputs": [],
      "source": [
        "local_tabela = '''\n",
        "/html/body/div/div[2]/form[1]/table[3]/tbody/tr[3]/td[3]/table\n",
        "'''\n",
        "local_indice = '''\n",
        "/html/body/div/div[2]/form[1]/table[3]/tbody/tr[3]/td[1]/table\n",
        "'''"
      ]
    },
    {
      "cell_type": "code",
      "execution_count": 9,
      "id": "2aeeddaa",
      "metadata": {
        "id": "2aeeddaa"
      },
      "outputs": [
        {
          "name": "stderr",
          "output_type": "stream",
          "text": [
            "/tmp/ipykernel_5381/2357078203.py:7: FutureWarning: Passing literal html to 'read_html' is deprecated and will be removed in a future version. To read from a literal string, wrap it in a 'StringIO' object.\n",
            "  tabela = pd.read_html(html_tabela)[0]\n",
            "/tmp/ipykernel_5381/2357078203.py:8: FutureWarning: Passing literal html to 'read_html' is deprecated and will be removed in a future version. To read from a literal string, wrap it in a 'StringIO' object.\n",
            "  indice = pd.read_html(html_indice)[0]\n"
          ]
        }
      ],
      "source": [
        "elemento = driver.find_element(\"xpath\", local_tabela)\n",
        "elemento_indice = driver.find_element(\"xpath\", local_indice)\n",
        "\n",
        "html_tabela = elemento.get_attribute('outerHTML')\n",
        "html_indice = elemento_indice.get_attribute('outerHTML')\n",
        "\n",
        "tabela = pd.read_html(html_tabela)[0]\n",
        "indice = pd.read_html(html_indice)[0]\n",
        "\n",
        "driver.quit()"
      ]
    },
    {
      "cell_type": "code",
      "execution_count": 10,
      "id": "9167f011",
      "metadata": {
        "id": "9167f011"
      },
      "outputs": [
        {
          "data": {
            "text/html": [
              "<div>\n",
              "<style scoped>\n",
              "    .dataframe tbody tr th:only-of-type {\n",
              "        vertical-align: middle;\n",
              "    }\n",
              "\n",
              "    .dataframe tbody tr th {\n",
              "        vertical-align: top;\n",
              "    }\n",
              "\n",
              "    .dataframe thead th {\n",
              "        text-align: right;\n",
              "    }\n",
              "</style>\n",
              "<table border=\"1\" class=\"dataframe\">\n",
              "  <thead>\n",
              "    <tr style=\"text-align: right;\">\n",
              "      <th></th>\n",
              "      <th>0</th>\n",
              "    </tr>\n",
              "  </thead>\n",
              "  <tbody>\n",
              "    <tr>\n",
              "      <th>0</th>\n",
              "      <td>VENCTO</td>\n",
              "    </tr>\n",
              "    <tr>\n",
              "      <th>1</th>\n",
              "      <td>K23</td>\n",
              "    </tr>\n",
              "    <tr>\n",
              "      <th>2</th>\n",
              "      <td>M23</td>\n",
              "    </tr>\n",
              "    <tr>\n",
              "      <th>3</th>\n",
              "      <td>N23</td>\n",
              "    </tr>\n",
              "    <tr>\n",
              "      <th>4</th>\n",
              "      <td>Q23</td>\n",
              "    </tr>\n",
              "    <tr>\n",
              "      <th>5</th>\n",
              "      <td>U23</td>\n",
              "    </tr>\n",
              "    <tr>\n",
              "      <th>6</th>\n",
              "      <td>V23</td>\n",
              "    </tr>\n",
              "    <tr>\n",
              "      <th>7</th>\n",
              "      <td>Z23</td>\n",
              "    </tr>\n",
              "    <tr>\n",
              "      <th>8</th>\n",
              "      <td>F24</td>\n",
              "    </tr>\n",
              "    <tr>\n",
              "      <th>9</th>\n",
              "      <td>G24</td>\n",
              "    </tr>\n",
              "    <tr>\n",
              "      <th>10</th>\n",
              "      <td>H24</td>\n",
              "    </tr>\n",
              "    <tr>\n",
              "      <th>11</th>\n",
              "      <td>V24</td>\n",
              "    </tr>\n",
              "    <tr>\n",
              "      <th>12</th>\n",
              "      <td>F25</td>\n",
              "    </tr>\n",
              "  </tbody>\n",
              "</table>\n",
              "</div>"
            ],
            "text/plain": [
              "         0\n",
              "0   VENCTO\n",
              "1      K23\n",
              "2      M23\n",
              "3      N23\n",
              "4      Q23\n",
              "5      U23\n",
              "6      V23\n",
              "7      Z23\n",
              "8      F24\n",
              "9      G24\n",
              "10     H24\n",
              "11     V24\n",
              "12     F25"
            ]
          },
          "execution_count": 10,
          "metadata": {},
          "output_type": "execute_result"
        }
      ],
      "source": [
        "indice"
      ]
    },
    {
      "cell_type": "code",
      "execution_count": 11,
      "id": "efd58a91",
      "metadata": {
        "id": "efd58a91"
      },
      "outputs": [
        {
          "name": "stdout",
          "output_type": "stream",
          "text": [
            "VENCTO\n",
            "K23    4.949,5210\n",
            "M23    4.980,1650\n",
            "N23    5.007,7270\n",
            "Q23    5.034,2340\n",
            "U23    5.065,3330\n",
            "V23    5.088,7210\n",
            "Z23    5.137,0140\n",
            "F24    5.157,6170\n",
            "G24    5.184,1230\n",
            "H24    5.204,2320\n",
            "V24    5.376,6890\n",
            "F25    5.456,2780\n",
            "Name: AJUSTE, dtype: object\n"
          ]
        }
      ],
      "source": [
        "tabela.columns = tabela.loc[0]\n",
        "tabela = tabela['AJUSTE']\n",
        "tabela = tabela.drop(0, axis = 0)\n",
        "indice.columns = indice.loc[0]\n",
        "indice_dolar = indice['VENCTO']\n",
        "indice = indice.drop(0, axis = 0)\n",
        "tabela.index = indice['VENCTO']\n",
        "tabela = tabela[tabela != \"0\"]\n",
        "\n",
        "print(tabela)"
      ]
    },
    {
      "cell_type": "code",
      "execution_count": 12,
      "id": "dd3da469",
      "metadata": {
        "id": "dd3da469"
      },
      "outputs": [
        {
          "data": {
            "text/plain": [
              "2023-05-01    4.949,5210\n",
              "2023-06-01    4.980,1650\n",
              "2023-07-01    5.007,7270\n",
              "2023-08-01    5.034,2340\n",
              "2023-09-01    5.065,3330\n",
              "2023-10-01    5.088,7210\n",
              "2023-12-01    5.137,0140\n",
              "2024-01-01    5.157,6170\n",
              "2024-02-01    5.184,1230\n",
              "2024-03-01    5.204,2320\n",
              "2024-10-01    5.376,6890\n",
              "2025-01-01    5.456,2780\n",
              "Name: AJUSTE, dtype: object"
            ]
          },
          "execution_count": 12,
          "metadata": {},
          "output_type": "execute_result"
        }
      ],
      "source": [
        "legenda = pd.Series(['Jan', 'Feb', 'Mar', 'Apr', 'May', 'Jun', 'Jul', 'Aug', 'Sep', 'Oct', 'Nov', 'Dec'],\n",
        "                    index = ['F', 'G', 'H', 'J', 'K', 'M', 'N', 'Q', 'U', 'V', 'X', 'Z'])\n",
        "\n",
        "lista_datas = []\n",
        "\n",
        "for indice in tabela.index:\n",
        "\n",
        "    letra = indice[0]\n",
        "    ano = indice[1:3]\n",
        "\n",
        "    mes = legenda[letra]\n",
        "\n",
        "    data = f\"{mes}-{ano}\"\n",
        "\n",
        "    data = datetime.strptime(data, \"%b-%y\")\n",
        "\n",
        "    lista_datas.append(data)\n",
        "\n",
        "\n",
        "tabela.index = lista_datas\n",
        "tabela"
      ]
    }
  ],
  "metadata": {
    "colab": {
      "provenance": []
    },
    "kernelspec": {
      "display_name": "Python 3 (ipykernel)",
      "language": "python",
      "name": "python3"
    },
    "language_info": {
      "codemirror_mode": {
        "name": "ipython",
        "version": 3
      },
      "file_extension": ".py",
      "mimetype": "text/x-python",
      "name": "python",
      "nbconvert_exporter": "python",
      "pygments_lexer": "ipython3",
      "version": "3.11.5"
    }
  },
  "nbformat": 4,
  "nbformat_minor": 5
}
