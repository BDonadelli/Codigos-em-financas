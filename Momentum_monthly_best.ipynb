{
  "cells": [
    {
      "cell_type": "markdown",
      "metadata": {
        "colab_type": "text",
        "id": "view-in-github"
      },
      "source": [
        "<a href=\"https://colab.research.google.com/github/BDonadelli/Codigos-em-financas/blob/main/momentum_monthly_3_best.ipynb\" target=\"_parent\"><img src=\"https://colab.research.google.com/assets/colab-badge.svg\" alt=\"Open In Colab\"/></a>"
      ]
    },
    {
      "cell_type": "code",
      "execution_count": 1,
      "metadata": {
        "id": "pNGN-hBRvfEK"
      },
      "outputs": [],
      "source": [
        "import numpy as np\n",
        "import pandas as pd\n",
        "import yfinance as yf\n",
        "import matplotlib.pyplot as plt\n"
      ]
    },
    {
      "cell_type": "markdown",
      "metadata": {},
      "source": [
        "Dados com retornos mensais"
      ]
    },
    {
      "cell_type": "code",
      "execution_count": 2,
      "metadata": {},
      "outputs": [],
      "source": [
        "periodo = '3y'\n",
        "# carteira de small caps\n",
        "small = pd.read_csv('https://raw.githubusercontent.com/BDonadelli/Codigos-em-financas/main/data/Cart_Small.csv',\n",
        "                    sep=';' , decimal=',' , thousands='.' , header=1 , skiprows=0 , skipfooter=2 , \n",
        "                    encoding='latin-1',index_col=False , engine='python')\n",
        "lista = (small['Código']+'.SA').to_list()+['BOVA11.SA']"
      ]
    },
    {
      "cell_type": "code",
      "execution_count": 3,
      "metadata": {
        "colab": {
          "base_uri": "https://localhost:8080/"
        },
        "id": "T6sluZ8qw3P6",
        "outputId": "22b1d0f6-4c5c-4962-88fd-f9ca72e94489"
      },
      "outputs": [
        {
          "name": "stderr",
          "output_type": "stream",
          "text": [
            "[*********************100%%**********************]  116 of 116 completed\n"
          ]
        }
      ],
      "source": [
        "data = yf.download(lista,period=periodo)['Adj Close'].resample('M').last().pct_change()"
      ]
    },
    {
      "cell_type": "code",
      "execution_count": 4,
      "metadata": {},
      "outputs": [
        {
          "data": {
            "text/html": [
              "<div>\n",
              "<style scoped>\n",
              "    .dataframe tbody tr th:only-of-type {\n",
              "        vertical-align: middle;\n",
              "    }\n",
              "\n",
              "    .dataframe tbody tr th {\n",
              "        vertical-align: top;\n",
              "    }\n",
              "\n",
              "    .dataframe thead th {\n",
              "        text-align: right;\n",
              "    }\n",
              "</style>\n",
              "<table border=\"1\" class=\"dataframe\">\n",
              "  <thead>\n",
              "    <tr style=\"text-align: right;\">\n",
              "      <th>Ticker</th>\n",
              "      <th>AALR3.SA</th>\n",
              "      <th>ABCB4.SA</th>\n",
              "      <th>AESB3.SA</th>\n",
              "      <th>AGRO3.SA</th>\n",
              "      <th>ALOS3.SA</th>\n",
              "      <th>ALPA4.SA</th>\n",
              "      <th>ALUP11.SA</th>\n",
              "      <th>AMAR3.SA</th>\n",
              "      <th>AMBP3.SA</th>\n",
              "      <th>ANIM3.SA</th>\n",
              "      <th>...</th>\n",
              "      <th>UNIP6.SA</th>\n",
              "      <th>USIM5.SA</th>\n",
              "      <th>VAMO3.SA</th>\n",
              "      <th>VIVA3.SA</th>\n",
              "      <th>VLID3.SA</th>\n",
              "      <th>VULC3.SA</th>\n",
              "      <th>VVEO3.SA</th>\n",
              "      <th>WIZC3.SA</th>\n",
              "      <th>YDUQ3.SA</th>\n",
              "      <th>ZAMP3.SA</th>\n",
              "    </tr>\n",
              "    <tr>\n",
              "      <th>Date</th>\n",
              "      <th></th>\n",
              "      <th></th>\n",
              "      <th></th>\n",
              "      <th></th>\n",
              "      <th></th>\n",
              "      <th></th>\n",
              "      <th></th>\n",
              "      <th></th>\n",
              "      <th></th>\n",
              "      <th></th>\n",
              "      <th></th>\n",
              "      <th></th>\n",
              "      <th></th>\n",
              "      <th></th>\n",
              "      <th></th>\n",
              "      <th></th>\n",
              "      <th></th>\n",
              "      <th></th>\n",
              "      <th></th>\n",
              "      <th></th>\n",
              "      <th></th>\n",
              "    </tr>\n",
              "  </thead>\n",
              "  <tbody>\n",
              "    <tr>\n",
              "      <th>2023-11-30</th>\n",
              "      <td>0.169231</td>\n",
              "      <td>0.175307</td>\n",
              "      <td>0.079444</td>\n",
              "      <td>-0.025869</td>\n",
              "      <td>0.117031</td>\n",
              "      <td>0.160000</td>\n",
              "      <td>0.033836</td>\n",
              "      <td>0.541833</td>\n",
              "      <td>0.093040</td>\n",
              "      <td>0.526923</td>\n",
              "      <td>...</td>\n",
              "      <td>0.043448</td>\n",
              "      <td>0.189107</td>\n",
              "      <td>0.178799</td>\n",
              "      <td>0.165882</td>\n",
              "      <td>0.285714</td>\n",
              "      <td>0.202951</td>\n",
              "      <td>-0.059772</td>\n",
              "      <td>0.164032</td>\n",
              "      <td>0.133108</td>\n",
              "      <td>-0.083465</td>\n",
              "    </tr>\n",
              "    <tr>\n",
              "      <th>2023-12-31</th>\n",
              "      <td>-0.087719</td>\n",
              "      <td>0.138699</td>\n",
              "      <td>0.133395</td>\n",
              "      <td>0.108299</td>\n",
              "      <td>0.037920</td>\n",
              "      <td>0.057471</td>\n",
              "      <td>0.092959</td>\n",
              "      <td>-0.038760</td>\n",
              "      <td>0.089142</td>\n",
              "      <td>0.123426</td>\n",
              "      <td>...</td>\n",
              "      <td>0.053085</td>\n",
              "      <td>0.181934</td>\n",
              "      <td>0.126835</td>\n",
              "      <td>0.152035</td>\n",
              "      <td>0.022783</td>\n",
              "      <td>-0.058438</td>\n",
              "      <td>-0.003571</td>\n",
              "      <td>0.230900</td>\n",
              "      <td>0.115978</td>\n",
              "      <td>-0.020619</td>\n",
              "    </tr>\n",
              "    <tr>\n",
              "      <th>2024-01-31</th>\n",
              "      <td>-0.187500</td>\n",
              "      <td>-0.010537</td>\n",
              "      <td>-0.075487</td>\n",
              "      <td>-0.076750</td>\n",
              "      <td>-0.075330</td>\n",
              "      <td>-0.152174</td>\n",
              "      <td>-0.076484</td>\n",
              "      <td>-0.295699</td>\n",
              "      <td>-0.154462</td>\n",
              "      <td>-0.015695</td>\n",
              "      <td>...</td>\n",
              "      <td>-0.082256</td>\n",
              "      <td>-0.010764</td>\n",
              "      <td>-0.188679</td>\n",
              "      <td>-0.013139</td>\n",
              "      <td>0.001463</td>\n",
              "      <td>0.019653</td>\n",
              "      <td>-0.275986</td>\n",
              "      <td>-0.081379</td>\n",
              "      <td>-0.140053</td>\n",
              "      <td>-0.126316</td>\n",
              "    </tr>\n",
              "    <tr>\n",
              "      <th>2024-02-29</th>\n",
              "      <td>0.005917</td>\n",
              "      <td>-0.010063</td>\n",
              "      <td>-0.083407</td>\n",
              "      <td>-0.038118</td>\n",
              "      <td>0.005703</td>\n",
              "      <td>0.185315</td>\n",
              "      <td>0.023368</td>\n",
              "      <td>-0.129771</td>\n",
              "      <td>0.075691</td>\n",
              "      <td>0.166287</td>\n",
              "      <td>...</td>\n",
              "      <td>-0.058614</td>\n",
              "      <td>0.204570</td>\n",
              "      <td>0.068543</td>\n",
              "      <td>-0.032544</td>\n",
              "      <td>-0.089625</td>\n",
              "      <td>-0.014346</td>\n",
              "      <td>-0.163366</td>\n",
              "      <td>-0.067568</td>\n",
              "      <td>0.056017</td>\n",
              "      <td>-0.162651</td>\n",
              "    </tr>\n",
              "    <tr>\n",
              "      <th>2024-03-31</th>\n",
              "      <td>0.078824</td>\n",
              "      <td>0.026260</td>\n",
              "      <td>-0.022988</td>\n",
              "      <td>0.035413</td>\n",
              "      <td>-0.031187</td>\n",
              "      <td>-0.062930</td>\n",
              "      <td>0.026192</td>\n",
              "      <td>-0.188596</td>\n",
              "      <td>0.055480</td>\n",
              "      <td>-0.042969</td>\n",
              "      <td>...</td>\n",
              "      <td>0.023541</td>\n",
              "      <td>-0.095754</td>\n",
              "      <td>-0.043528</td>\n",
              "      <td>-0.223242</td>\n",
              "      <td>-0.010701</td>\n",
              "      <td>-0.028352</td>\n",
              "      <td>-0.272189</td>\n",
              "      <td>0.165861</td>\n",
              "      <td>-0.110511</td>\n",
              "      <td>-0.187050</td>\n",
              "    </tr>\n",
              "  </tbody>\n",
              "</table>\n",
              "<p>5 rows × 116 columns</p>\n",
              "</div>"
            ],
            "text/plain": [
              "Ticker      AALR3.SA  ABCB4.SA  AESB3.SA  AGRO3.SA  ALOS3.SA  ALPA4.SA  \\\n",
              "Date                                                                     \n",
              "2023-11-30  0.169231  0.175307  0.079444 -0.025869  0.117031  0.160000   \n",
              "2023-12-31 -0.087719  0.138699  0.133395  0.108299  0.037920  0.057471   \n",
              "2024-01-31 -0.187500 -0.010537 -0.075487 -0.076750 -0.075330 -0.152174   \n",
              "2024-02-29  0.005917 -0.010063 -0.083407 -0.038118  0.005703  0.185315   \n",
              "2024-03-31  0.078824  0.026260 -0.022988  0.035413 -0.031187 -0.062930   \n",
              "\n",
              "Ticker      ALUP11.SA  AMAR3.SA  AMBP3.SA  ANIM3.SA  ...  UNIP6.SA  USIM5.SA  \\\n",
              "Date                                                 ...                       \n",
              "2023-11-30   0.033836  0.541833  0.093040  0.526923  ...  0.043448  0.189107   \n",
              "2023-12-31   0.092959 -0.038760  0.089142  0.123426  ...  0.053085  0.181934   \n",
              "2024-01-31  -0.076484 -0.295699 -0.154462 -0.015695  ... -0.082256 -0.010764   \n",
              "2024-02-29   0.023368 -0.129771  0.075691  0.166287  ... -0.058614  0.204570   \n",
              "2024-03-31   0.026192 -0.188596  0.055480 -0.042969  ...  0.023541 -0.095754   \n",
              "\n",
              "Ticker      VAMO3.SA  VIVA3.SA  VLID3.SA  VULC3.SA  VVEO3.SA  WIZC3.SA  \\\n",
              "Date                                                                     \n",
              "2023-11-30  0.178799  0.165882  0.285714  0.202951 -0.059772  0.164032   \n",
              "2023-12-31  0.126835  0.152035  0.022783 -0.058438 -0.003571  0.230900   \n",
              "2024-01-31 -0.188679 -0.013139  0.001463  0.019653 -0.275986 -0.081379   \n",
              "2024-02-29  0.068543 -0.032544 -0.089625 -0.014346 -0.163366 -0.067568   \n",
              "2024-03-31 -0.043528 -0.223242 -0.010701 -0.028352 -0.272189  0.165861   \n",
              "\n",
              "Ticker      YDUQ3.SA  ZAMP3.SA  \n",
              "Date                            \n",
              "2023-11-30  0.133108 -0.083465  \n",
              "2023-12-31  0.115978 -0.020619  \n",
              "2024-01-31 -0.140053 -0.126316  \n",
              "2024-02-29  0.056017 -0.162651  \n",
              "2024-03-31 -0.110511 -0.187050  \n",
              "\n",
              "[5 rows x 116 columns]"
            ]
          },
          "execution_count": 4,
          "metadata": {},
          "output_type": "execute_result"
        }
      ],
      "source": [
        "data.tail()"
      ]
    },
    {
      "cell_type": "code",
      "execution_count": 5,
      "metadata": {
        "id": "nir5UCXjxKAv"
      },
      "outputs": [],
      "source": [
        "def rolling_ret( df , m):\n",
        "  '''\n",
        "    df : dataframe com retornos \n",
        "    calcula retorno acumulado na janela de m periodos\n",
        "  '''\n",
        "  return (df+1).rolling(m).apply(np.prod) - 1 \n",
        "\n",
        "def get_top( df , date , n=3):\n",
        "  '''\n",
        "    determina as colunas de df com os 3 maiores valores na data 'date'\n",
        "  '''\n",
        "  top = df.loc[date].nlargest(n).index\n",
        "  return top.to_list()\n",
        "\n",
        "def port_ret(df , date ,  port = None):\n",
        "  '''\n",
        "    calcula a média em 'df' dos retornos de 'port' na data 'date' \n",
        "  '''\n",
        "  \n",
        "  if port is None : port = get_top(data , date )\n",
        "\n",
        "  porta = df.loc[date:,port]\n",
        "  return porta.mean(axis=1).values[0]"
      ]
    },
    {
      "cell_type": "code",
      "execution_count": 6,
      "metadata": {},
      "outputs": [
        {
          "name": "stdout",
          "output_type": "stream",
          "text": [
            "2024-03-31 ['GUAR3.SA', 'STBP3.SA', 'POSI3.SA'] 0.305240356792986\n"
          ]
        }
      ],
      "source": [
        "date = '2024-03-31'\n",
        "# quando rendeu em mar-24 as carteira com as 3 small mais rentáveis\n",
        "print( date , get_top(data , date ) , port_ret( rolling_ret(data,1) , date ))"
      ]
    },
    {
      "cell_type": "code",
      "execution_count": 7,
      "metadata": {},
      "outputs": [
        {
          "data": {
            "text/plain": [
              "Ticker\n",
              "GUAR3.SA    0.383333\n",
              "STBP3.SA    0.278320\n",
              "POSI3.SA    0.254068\n",
              "Name: 2024-03-31 00:00:00, dtype: float64"
            ]
          },
          "execution_count": 7,
          "metadata": {},
          "output_type": "execute_result"
        }
      ],
      "source": [
        "data.loc[date].nlargest(3)"
      ]
    },
    {
      "cell_type": "markdown",
      "metadata": {},
      "source": [
        "### momentum\n",
        "\n",
        "usando  retornos em janelas moveis"
      ]
    },
    {
      "cell_type": "code",
      "execution_count": 130,
      "metadata": {},
      "outputs": [],
      "source": [
        "janela = 12\n",
        "tam_carteira = 3"
      ]
    },
    {
      "cell_type": "code",
      "execution_count": 131,
      "metadata": {
        "id": "tljtLYm1x_k0"
      },
      "outputs": [
        {
          "data": {
            "text/html": [
              "<div>\n",
              "<style scoped>\n",
              "    .dataframe tbody tr th:only-of-type {\n",
              "        vertical-align: middle;\n",
              "    }\n",
              "\n",
              "    .dataframe tbody tr th {\n",
              "        vertical-align: top;\n",
              "    }\n",
              "\n",
              "    .dataframe thead th {\n",
              "        text-align: right;\n",
              "    }\n",
              "</style>\n",
              "<table border=\"1\" class=\"dataframe\">\n",
              "  <thead>\n",
              "    <tr style=\"text-align: right;\">\n",
              "      <th>Ticker</th>\n",
              "      <th>AALR3.SA</th>\n",
              "      <th>ABCB4.SA</th>\n",
              "      <th>AESB3.SA</th>\n",
              "      <th>AGRO3.SA</th>\n",
              "      <th>ALOS3.SA</th>\n",
              "      <th>ALPA4.SA</th>\n",
              "      <th>ALUP11.SA</th>\n",
              "      <th>AMAR3.SA</th>\n",
              "      <th>AMBP3.SA</th>\n",
              "      <th>ANIM3.SA</th>\n",
              "      <th>...</th>\n",
              "      <th>UNIP6.SA</th>\n",
              "      <th>USIM5.SA</th>\n",
              "      <th>VAMO3.SA</th>\n",
              "      <th>VIVA3.SA</th>\n",
              "      <th>VLID3.SA</th>\n",
              "      <th>VULC3.SA</th>\n",
              "      <th>VVEO3.SA</th>\n",
              "      <th>WIZC3.SA</th>\n",
              "      <th>YDUQ3.SA</th>\n",
              "      <th>ZAMP3.SA</th>\n",
              "    </tr>\n",
              "    <tr>\n",
              "      <th>Date</th>\n",
              "      <th></th>\n",
              "      <th></th>\n",
              "      <th></th>\n",
              "      <th></th>\n",
              "      <th></th>\n",
              "      <th></th>\n",
              "      <th></th>\n",
              "      <th></th>\n",
              "      <th></th>\n",
              "      <th></th>\n",
              "      <th></th>\n",
              "      <th></th>\n",
              "      <th></th>\n",
              "      <th></th>\n",
              "      <th></th>\n",
              "      <th></th>\n",
              "      <th></th>\n",
              "      <th></th>\n",
              "      <th></th>\n",
              "      <th></th>\n",
              "      <th></th>\n",
              "    </tr>\n",
              "  </thead>\n",
              "  <tbody>\n",
              "    <tr>\n",
              "      <th>2023-11-30</th>\n",
              "      <td>-0.435644</td>\n",
              "      <td>0.208285</td>\n",
              "      <td>0.040327</td>\n",
              "      <td>-0.004034</td>\n",
              "      <td>NaN</td>\n",
              "      <td>-0.428657</td>\n",
              "      <td>0.185862</td>\n",
              "      <td>-0.477027</td>\n",
              "      <td>-0.286778</td>\n",
              "      <td>-0.101810</td>\n",
              "      <td>...</td>\n",
              "      <td>-0.227061</td>\n",
              "      <td>0.053773</td>\n",
              "      <td>-0.281089</td>\n",
              "      <td>0.371943</td>\n",
              "      <td>1.430186</td>\n",
              "      <td>0.775940</td>\n",
              "      <td>-0.144352</td>\n",
              "      <td>-0.202775</td>\n",
              "      <td>0.768616</td>\n",
              "      <td>-0.021849</td>\n",
              "    </tr>\n",
              "    <tr>\n",
              "      <th>2023-12-31</th>\n",
              "      <td>-0.518519</td>\n",
              "      <td>0.375172</td>\n",
              "      <td>0.275362</td>\n",
              "      <td>-0.002281</td>\n",
              "      <td>NaN</td>\n",
              "      <td>-0.328912</td>\n",
              "      <td>0.233487</td>\n",
              "      <td>-0.404800</td>\n",
              "      <td>-0.130281</td>\n",
              "      <td>0.155440</td>\n",
              "      <td>...</td>\n",
              "      <td>-0.101219</td>\n",
              "      <td>0.360298</td>\n",
              "      <td>-0.168017</td>\n",
              "      <td>0.554454</td>\n",
              "      <td>1.436870</td>\n",
              "      <td>0.700294</td>\n",
              "      <td>-0.132460</td>\n",
              "      <td>0.118491</td>\n",
              "      <td>1.231855</td>\n",
              "      <td>0.045872</td>\n",
              "    </tr>\n",
              "    <tr>\n",
              "      <th>2024-01-31</th>\n",
              "      <td>-0.604956</td>\n",
              "      <td>0.366354</td>\n",
              "      <td>0.127723</td>\n",
              "      <td>-0.073910</td>\n",
              "      <td>NaN</td>\n",
              "      <td>-0.369581</td>\n",
              "      <td>0.130377</td>\n",
              "      <td>-0.620290</td>\n",
              "      <td>-0.358269</td>\n",
              "      <td>-0.006787</td>\n",
              "      <td>...</td>\n",
              "      <td>-0.149343</td>\n",
              "      <td>0.129530</td>\n",
              "      <td>-0.416411</td>\n",
              "      <td>0.404421</td>\n",
              "      <td>1.335609</td>\n",
              "      <td>0.832066</td>\n",
              "      <td>-0.466766</td>\n",
              "      <td>0.020192</td>\n",
              "      <td>0.889549</td>\n",
              "      <td>-0.086238</td>\n",
              "    </tr>\n",
              "    <tr>\n",
              "      <th>2024-02-29</th>\n",
              "      <td>-0.590361</td>\n",
              "      <td>0.430110</td>\n",
              "      <td>0.052419</td>\n",
              "      <td>0.023342</td>\n",
              "      <td>NaN</td>\n",
              "      <td>0.078473</td>\n",
              "      <td>0.200040</td>\n",
              "      <td>-0.276191</td>\n",
              "      <td>-0.186778</td>\n",
              "      <td>0.605016</td>\n",
              "      <td>...</td>\n",
              "      <td>-0.138101</td>\n",
              "      <td>0.699254</td>\n",
              "      <td>-0.313487</td>\n",
              "      <td>0.536157</td>\n",
              "      <td>1.211616</td>\n",
              "      <td>0.841649</td>\n",
              "      <td>-0.518665</td>\n",
              "      <td>0.003871</td>\n",
              "      <td>1.923748</td>\n",
              "      <td>-0.133056</td>\n",
              "    </tr>\n",
              "    <tr>\n",
              "      <th>2024-03-31</th>\n",
              "      <td>-0.592987</td>\n",
              "      <td>0.582775</td>\n",
              "      <td>0.026157</td>\n",
              "      <td>0.140479</td>\n",
              "      <td>NaN</td>\n",
              "      <td>0.169325</td>\n",
              "      <td>0.262166</td>\n",
              "      <td>-0.421875</td>\n",
              "      <td>-0.177661</td>\n",
              "      <td>0.952191</td>\n",
              "      <td>...</td>\n",
              "      <td>-0.001445</td>\n",
              "      <td>0.439587</td>\n",
              "      <td>-0.346813</td>\n",
              "      <td>0.170006</td>\n",
              "      <td>1.040115</td>\n",
              "      <td>0.715368</td>\n",
              "      <td>-0.605301</td>\n",
              "      <td>0.331600</td>\n",
              "      <td>1.600643</td>\n",
              "      <td>-0.270968</td>\n",
              "    </tr>\n",
              "  </tbody>\n",
              "</table>\n",
              "<p>5 rows × 116 columns</p>\n",
              "</div>"
            ],
            "text/plain": [
              "Ticker      AALR3.SA  ABCB4.SA  AESB3.SA  AGRO3.SA  ALOS3.SA  ALPA4.SA  \\\n",
              "Date                                                                     \n",
              "2023-11-30 -0.435644  0.208285  0.040327 -0.004034       NaN -0.428657   \n",
              "2023-12-31 -0.518519  0.375172  0.275362 -0.002281       NaN -0.328912   \n",
              "2024-01-31 -0.604956  0.366354  0.127723 -0.073910       NaN -0.369581   \n",
              "2024-02-29 -0.590361  0.430110  0.052419  0.023342       NaN  0.078473   \n",
              "2024-03-31 -0.592987  0.582775  0.026157  0.140479       NaN  0.169325   \n",
              "\n",
              "Ticker      ALUP11.SA  AMAR3.SA  AMBP3.SA  ANIM3.SA  ...  UNIP6.SA  USIM5.SA  \\\n",
              "Date                                                 ...                       \n",
              "2023-11-30   0.185862 -0.477027 -0.286778 -0.101810  ... -0.227061  0.053773   \n",
              "2023-12-31   0.233487 -0.404800 -0.130281  0.155440  ... -0.101219  0.360298   \n",
              "2024-01-31   0.130377 -0.620290 -0.358269 -0.006787  ... -0.149343  0.129530   \n",
              "2024-02-29   0.200040 -0.276191 -0.186778  0.605016  ... -0.138101  0.699254   \n",
              "2024-03-31   0.262166 -0.421875 -0.177661  0.952191  ... -0.001445  0.439587   \n",
              "\n",
              "Ticker      VAMO3.SA  VIVA3.SA  VLID3.SA  VULC3.SA  VVEO3.SA  WIZC3.SA  \\\n",
              "Date                                                                     \n",
              "2023-11-30 -0.281089  0.371943  1.430186  0.775940 -0.144352 -0.202775   \n",
              "2023-12-31 -0.168017  0.554454  1.436870  0.700294 -0.132460  0.118491   \n",
              "2024-01-31 -0.416411  0.404421  1.335609  0.832066 -0.466766  0.020192   \n",
              "2024-02-29 -0.313487  0.536157  1.211616  0.841649 -0.518665  0.003871   \n",
              "2024-03-31 -0.346813  0.170006  1.040115  0.715368 -0.605301  0.331600   \n",
              "\n",
              "Ticker      YDUQ3.SA  ZAMP3.SA  \n",
              "Date                            \n",
              "2023-11-30  0.768616 -0.021849  \n",
              "2023-12-31  1.231855  0.045872  \n",
              "2024-01-31  0.889549 -0.086238  \n",
              "2024-02-29  1.923748 -0.133056  \n",
              "2024-03-31  1.600643 -0.270968  \n",
              "\n",
              "[5 rows x 116 columns]"
            ]
          },
          "execution_count": 131,
          "metadata": {},
          "output_type": "execute_result"
        }
      ],
      "source": [
        "ret = rolling_ret(data,janela)\n",
        "ret.tail()"
      ]
    },
    {
      "cell_type": "markdown",
      "metadata": {},
      "source": [
        "#### próximo mês"
      ]
    },
    {
      "cell_type": "code",
      "execution_count": 132,
      "metadata": {},
      "outputs": [
        {
          "name": "stdout",
          "output_type": "stream",
          "text": [
            "proxima carteira:  CEAB3.SA TEND3.SA ENAT3.SA\n"
          ]
        }
      ],
      "source": [
        "date = ret.index[-1].date().strftime(\"%Y-%m-%d\")\n",
        "prox = ret.loc[date].nlargest(tam_carteira).index.values\n",
        "print('proxima carteira: ' , *prox)"
      ]
    },
    {
      "cell_type": "code",
      "execution_count": 133,
      "metadata": {},
      "outputs": [],
      "source": [
        "carteiras = []\n",
        "for date in ret.index:\n",
        "    # print(date.date() , get_top( ret , date , tam_carteira), port_ret( data , date ,  get_top( ret , date) ))\n",
        "    carteiras.append(get_top( ret , date , tam_carteira))"
      ]
    },
    {
      "cell_type": "code",
      "execution_count": 134,
      "metadata": {},
      "outputs": [
        {
          "name": "stdout",
          "output_type": "stream",
          "text": [
            "['AALR3.SA', 'ABCB4.SA', 'AESB3.SA'] ['AALR3.SA', 'ABCB4.SA', 'AESB3.SA'] ['AALR3.SA', 'ABCB4.SA', 'AESB3.SA'] ['AALR3.SA', 'ABCB4.SA', 'AESB3.SA'] ['AALR3.SA', 'ABCB4.SA', 'AESB3.SA'] ['AALR3.SA', 'ABCB4.SA', 'AESB3.SA'] ['AALR3.SA', 'ABCB4.SA', 'AESB3.SA'] ['AALR3.SA', 'ABCB4.SA', 'AESB3.SA'] ['AALR3.SA', 'ABCB4.SA', 'AESB3.SA'] ['AALR3.SA', 'ABCB4.SA', 'AESB3.SA'] ['AALR3.SA', 'ABCB4.SA', 'AESB3.SA'] ['AALR3.SA', 'ABCB4.SA', 'AESB3.SA'] ['AALR3.SA', 'UNIP6.SA', 'INTB3.SA'] ['AALR3.SA', 'ORVR3.SA', 'SMTO3.SA'] ['RECV3.SA', 'ENAT3.SA', 'AALR3.SA'] ['AALR3.SA', 'BEEF3.SA', 'RECV3.SA'] ['AALR3.SA', 'BEEF3.SA', 'KEPL3.SA'] ['CIEL3.SA', 'BEEF3.SA', 'KEPL3.SA'] ['CIEL3.SA', 'KEPL3.SA', 'MILS3.SA'] ['CIEL3.SA', 'MILS3.SA', 'RECV3.SA'] ['CIEL3.SA', 'RECV3.SA', 'KEPL3.SA'] ['CIEL3.SA', 'CURY3.SA', 'RECV3.SA'] ['CIEL3.SA', 'KEPL3.SA', 'CURY3.SA'] ['CIEL3.SA', 'MILS3.SA', 'CURY3.SA'] ['PLPL3.SA', 'CURY3.SA', 'CIEL3.SA'] ['PLPL3.SA', 'CURY3.SA', 'CIEL3.SA'] ['PLPL3.SA', 'CURY3.SA', 'ONCO3.SA'] ['PLPL3.SA', 'TEND3.SA', 'CURY3.SA'] ['PLPL3.SA', 'TEND3.SA', 'POMO4.SA'] ['PLPL3.SA', 'POMO4.SA', 'TEND3.SA'] ['PLPL3.SA', 'LEVE3.SA', 'POMO4.SA'] ['PLPL3.SA', 'POMO4.SA', 'TEND3.SA'] ['CEAB3.SA', 'TEND3.SA', 'PLPL3.SA'] ['TEND3.SA', 'CEAB3.SA', 'PLPL3.SA'] ['POMO4.SA', 'PLPL3.SA', 'CEAB3.SA'] ['CEAB3.SA', 'PLPL3.SA', 'YDUQ3.SA'] ['CEAB3.SA', 'TEND3.SA', 'ENAT3.SA']\n"
          ]
        }
      ],
      "source": [
        "print(*carteiras)"
      ]
    },
    {
      "cell_type": "code",
      "execution_count": 135,
      "metadata": {},
      "outputs": [],
      "source": [
        "## a carteira roda no mes seguinte\n",
        "retornos = [0.0]\n",
        "for i in range(1,len(data)): \n",
        "  # print(data.index[i].date() , carteiras[i-1] , port_ret( data , data.index[i] , carteiras[i-1] ))\n",
        "  retornos.append(port_ret( data , data.index[i] , carteiras[i-1] ))"
      ]
    },
    {
      "cell_type": "code",
      "execution_count": 136,
      "metadata": {},
      "outputs": [],
      "source": [
        "compara = pd.DataFrame({'returns' : retornos , 'ibov' : data['BOVA11.SA']} , index=data.index)\n",
        "compara.ibov.iloc[0] = 0.0\n",
        "# compara"
      ]
    },
    {
      "cell_type": "code",
      "execution_count": 137,
      "metadata": {},
      "outputs": [
        {
          "data": {
            "text/plain": [
              "<Axes: xlabel='Date'>"
            ]
          },
          "execution_count": 137,
          "metadata": {},
          "output_type": "execute_result"
        },
        {
          "data": {
            "image/png": "[encoded data removed]",
            "text/plain": [
              "<Figure size 640x480 with 1 Axes>"
            ]
          },
          "metadata": {},
          "output_type": "display_data"
        }
      ],
      "source": [
        "compara.plot()"
      ]
    },
    {
      "cell_type": "code",
      "execution_count": 138,
      "metadata": {
        "id": "dxpdWYIuBtP4"
      },
      "outputs": [
        {
          "data": {
            "text/html": [
              "<div>\n",
              "<style scoped>\n",
              "    .dataframe tbody tr th:only-of-type {\n",
              "        vertical-align: middle;\n",
              "    }\n",
              "\n",
              "    .dataframe tbody tr th {\n",
              "        vertical-align: top;\n",
              "    }\n",
              "\n",
              "    .dataframe thead th {\n",
              "        text-align: right;\n",
              "    }\n",
              "</style>\n",
              "<table border=\"1\" class=\"dataframe\">\n",
              "  <thead>\n",
              "    <tr style=\"text-align: right;\">\n",
              "      <th></th>\n",
              "      <th>returns</th>\n",
              "      <th>ibov</th>\n",
              "      <th>indice_acum</th>\n",
              "      <th>cartei_acum</th>\n",
              "    </tr>\n",
              "    <tr>\n",
              "      <th>Date</th>\n",
              "      <th></th>\n",
              "      <th></th>\n",
              "      <th></th>\n",
              "      <th></th>\n",
              "    </tr>\n",
              "  </thead>\n",
              "  <tbody>\n",
              "    <tr>\n",
              "      <th>2023-11-30</th>\n",
              "      <td>0.183252</td>\n",
              "      <td>0.127258</td>\n",
              "      <td>1.103107</td>\n",
              "      <td>1.578740</td>\n",
              "    </tr>\n",
              "    <tr>\n",
              "      <th>2023-12-31</th>\n",
              "      <td>0.032104</td>\n",
              "      <td>0.055191</td>\n",
              "      <td>1.163989</td>\n",
              "      <td>1.629424</td>\n",
              "    </tr>\n",
              "    <tr>\n",
              "      <th>2024-01-31</th>\n",
              "      <td>-0.127822</td>\n",
              "      <td>-0.049390</td>\n",
              "      <td>1.106499</td>\n",
              "      <td>1.421147</td>\n",
              "    </tr>\n",
              "    <tr>\n",
              "      <th>2024-02-29</th>\n",
              "      <td>0.149087</td>\n",
              "      <td>0.010488</td>\n",
              "      <td>1.118104</td>\n",
              "      <td>1.633022</td>\n",
              "    </tr>\n",
              "    <tr>\n",
              "      <th>2024-03-31</th>\n",
              "      <td>0.005042</td>\n",
              "      <td>-0.007345</td>\n",
              "      <td>1.109891</td>\n",
              "      <td>1.641256</td>\n",
              "    </tr>\n",
              "  </tbody>\n",
              "</table>\n",
              "</div>"
            ],
            "text/plain": [
              "             returns      ibov  indice_acum  cartei_acum\n",
              "Date                                                    \n",
              "2023-11-30  0.183252  0.127258     1.103107     1.578740\n",
              "2023-12-31  0.032104  0.055191     1.163989     1.629424\n",
              "2024-01-31 -0.127822 -0.049390     1.106499     1.421147\n",
              "2024-02-29  0.149087  0.010488     1.118104     1.633022\n",
              "2024-03-31  0.005042 -0.007345     1.109891     1.641256"
            ]
          },
          "execution_count": 138,
          "metadata": {},
          "output_type": "execute_result"
        }
      ],
      "source": [
        "compara['indice_acum'] = (compara.ibov+1.0).cumprod()\n",
        "compara['cartei_acum'] = (compara.returns+1.0).cumprod()\n",
        "compara.tail()"
      ]
    },
    {
      "cell_type": "code",
      "execution_count": 139,
      "metadata": {
        "colab": {
          "base_uri": "https://localhost:8080/",
          "height": 483
        },
        "id": "TJ59w-X7zLje",
        "outputId": "3b388a5a-e129-4974-9d54-382899074e99"
      },
      "outputs": [
        {
          "data": {
            "text/plain": [
              "<Axes: xlabel='Date'>"
            ]
          },
          "execution_count": 139,
          "metadata": {},
          "output_type": "execute_result"
        },
        {
          "data": {
            "image/png": "[encoded data removed]",
            "text/plain": [
              "<Figure size 640x480 with 1 Axes>"
            ]
          },
          "metadata": {},
          "output_type": "display_data"
        }
      ],
      "source": [
        "compara[['cartei_acum','indice_acum']].plot()"
      ]
    }
  ],
  "metadata": {
    "colab": {
      "authorship_tag": "ABX9TyMIa04qN86tULE4x/1Iw3IR",
      "include_colab_link": true,
      "provenance": []
    },
    "kernelspec": {
      "display_name": "Python 3",
      "name": "python3"
    },
    "language_info": {
      "codemirror_mode": {
        "name": "ipython",
        "version": 3
      },
      "file_extension": ".py",
      "mimetype": "text/x-python",
      "name": "python",
      "nbconvert_exporter": "python",
      "pygments_lexer": "ipython3",
      "version": "3.11.5"
    }
  },
  "nbformat": 4,
  "nbformat_minor": 0
}
