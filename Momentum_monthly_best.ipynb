{
  "cells": [
    {
      "cell_type": "markdown",
      "metadata": {
        "colab_type": "text",
        "id": "view-in-github"
      },
      "source": [
        "<a href=\"https://colab.research.google.com/github/BDonadelli/Codigos-em-financas/blob/main/momentum_monthly_3_best.ipynb\" target=\"_parent\"><img src=\"https://colab.research.google.com/assets/colab-badge.svg\" alt=\"Open In Colab\"/></a>"
      ]
    },
    {
      "cell_type": "code",
      "execution_count": 1,
      "metadata": {
        "id": "pNGN-hBRvfEK"
      },
      "outputs": [],
      "source": [
        "import numpy as np\n",
        "import pandas as pd\n",
        "import yfinance as yf\n",
        "import matplotlib.pyplot as plt\n"
      ]
    },
    {
      "cell_type": "markdown",
      "metadata": {},
      "source": [
        "Dados com retornos mensais"
      ]
    },
    {
      "cell_type": "code",
      "execution_count": 2,
      "metadata": {},
      "outputs": [],
      "source": [
        "periodo = '3y'\n",
        "# carteira de small caps\n",
        "small = pd.read_csv('https://raw.githubusercontent.com/BDonadelli/Codigos-em-financas/main/data/Cart_Small.csv',\n",
        "                    sep=';' , decimal=',' , thousands='.' , header=1 , skiprows=0 , skipfooter=2 , \n",
        "                    encoding='latin-1',index_col=False , engine='python')\n",
        "lista = (small['Código']+'.SA').to_list()+['BOVA11.SA']"
      ]
    },
    {
      "cell_type": "code",
      "execution_count": 3,
      "metadata": {
        "colab": {
          "base_uri": "https://localhost:8080/"
        },
        "id": "T6sluZ8qw3P6",
        "outputId": "22b1d0f6-4c5c-4962-88fd-f9ca72e94489"
      },
      "outputs": [
        {
          "name": "stderr",
          "output_type": "stream",
          "text": [
            "[*********************100%%**********************]  116 of 116 completed\n"
          ]
        }
      ],
      "source": [
        "data = yf.download(lista,period=periodo)['Adj Close'].resample('M').last().pct_change()"
      ]
    },
    {
      "cell_type": "code",
      "execution_count": 4,
      "metadata": {},
      "outputs": [
        {
          "data": {
            "text/html": [
              "<div>\n",
              "<style scoped>\n",
              "    .dataframe tbody tr th:only-of-type {\n",
              "        vertical-align: middle;\n",
              "    }\n",
              "\n",
              "    .dataframe tbody tr th {\n",
              "        vertical-align: top;\n",
              "    }\n",
              "\n",
              "    .dataframe thead th {\n",
              "        text-align: right;\n",
              "    }\n",
              "</style>\n",
              "<table border=\"1\" class=\"dataframe\">\n",
              "  <thead>\n",
              "    <tr style=\"text-align: right;\">\n",
              "      <th>Ticker</th>\n",
              "      <th>AALR3.SA</th>\n",
              "      <th>ABCB4.SA</th>\n",
              "      <th>AESB3.SA</th>\n",
              "      <th>AGRO3.SA</th>\n",
              "      <th>ALOS3.SA</th>\n",
              "      <th>ALPA4.SA</th>\n",
              "      <th>ALUP11.SA</th>\n",
              "      <th>AMAR3.SA</th>\n",
              "      <th>AMBP3.SA</th>\n",
              "      <th>ANIM3.SA</th>\n",
              "      <th>...</th>\n",
              "      <th>UNIP6.SA</th>\n",
              "      <th>USIM5.SA</th>\n",
              "      <th>VAMO3.SA</th>\n",
              "      <th>VIVA3.SA</th>\n",
              "      <th>VLID3.SA</th>\n",
              "      <th>VULC3.SA</th>\n",
              "      <th>VVEO3.SA</th>\n",
              "      <th>WIZC3.SA</th>\n",
              "      <th>YDUQ3.SA</th>\n",
              "      <th>ZAMP3.SA</th>\n",
              "    </tr>\n",
              "    <tr>\n",
              "      <th>Date</th>\n",
              "      <th></th>\n",
              "      <th></th>\n",
              "      <th></th>\n",
              "      <th></th>\n",
              "      <th></th>\n",
              "      <th></th>\n",
              "      <th></th>\n",
              "      <th></th>\n",
              "      <th></th>\n",
              "      <th></th>\n",
              "      <th></th>\n",
              "      <th></th>\n",
              "      <th></th>\n",
              "      <th></th>\n",
              "      <th></th>\n",
              "      <th></th>\n",
              "      <th></th>\n",
              "      <th></th>\n",
              "      <th></th>\n",
              "      <th></th>\n",
              "      <th></th>\n",
              "    </tr>\n",
              "  </thead>\n",
              "  <tbody>\n",
              "    <tr>\n",
              "      <th>2024-01-31</th>\n",
              "      <td>-0.187500</td>\n",
              "      <td>-0.010537</td>\n",
              "      <td>-0.075487</td>\n",
              "      <td>-0.076750</td>\n",
              "      <td>-0.075330</td>\n",
              "      <td>-0.152174</td>\n",
              "      <td>-0.076484</td>\n",
              "      <td>-0.295699</td>\n",
              "      <td>-0.154462</td>\n",
              "      <td>-0.015695</td>\n",
              "      <td>...</td>\n",
              "      <td>-0.082256</td>\n",
              "      <td>-0.010764</td>\n",
              "      <td>-0.188679</td>\n",
              "      <td>-0.013139</td>\n",
              "      <td>0.001463</td>\n",
              "      <td>0.019653</td>\n",
              "      <td>-0.275986</td>\n",
              "      <td>-0.081379</td>\n",
              "      <td>-0.140053</td>\n",
              "      <td>-0.126316</td>\n",
              "    </tr>\n",
              "    <tr>\n",
              "      <th>2024-02-29</th>\n",
              "      <td>0.005917</td>\n",
              "      <td>-0.010063</td>\n",
              "      <td>-0.083407</td>\n",
              "      <td>-0.038118</td>\n",
              "      <td>0.005703</td>\n",
              "      <td>0.185315</td>\n",
              "      <td>0.023368</td>\n",
              "      <td>-0.129771</td>\n",
              "      <td>0.075691</td>\n",
              "      <td>0.166287</td>\n",
              "      <td>...</td>\n",
              "      <td>-0.058614</td>\n",
              "      <td>0.204570</td>\n",
              "      <td>0.068543</td>\n",
              "      <td>-0.032544</td>\n",
              "      <td>-0.089625</td>\n",
              "      <td>-0.014346</td>\n",
              "      <td>-0.163366</td>\n",
              "      <td>-0.067568</td>\n",
              "      <td>0.056017</td>\n",
              "      <td>-0.162651</td>\n",
              "    </tr>\n",
              "    <tr>\n",
              "      <th>2024-03-31</th>\n",
              "      <td>0.078824</td>\n",
              "      <td>0.026260</td>\n",
              "      <td>-0.022988</td>\n",
              "      <td>0.035413</td>\n",
              "      <td>-0.031187</td>\n",
              "      <td>-0.062930</td>\n",
              "      <td>0.026192</td>\n",
              "      <td>-0.188596</td>\n",
              "      <td>0.055480</td>\n",
              "      <td>-0.042969</td>\n",
              "      <td>...</td>\n",
              "      <td>0.025152</td>\n",
              "      <td>-0.095754</td>\n",
              "      <td>-0.043528</td>\n",
              "      <td>-0.223242</td>\n",
              "      <td>-0.010701</td>\n",
              "      <td>-0.028352</td>\n",
              "      <td>-0.272189</td>\n",
              "      <td>0.165861</td>\n",
              "      <td>-0.110511</td>\n",
              "      <td>-0.187050</td>\n",
              "    </tr>\n",
              "    <tr>\n",
              "      <th>2024-04-30</th>\n",
              "      <td>0.112323</td>\n",
              "      <td>-0.044573</td>\n",
              "      <td>-0.064002</td>\n",
              "      <td>0.044788</td>\n",
              "      <td>-0.127090</td>\n",
              "      <td>-0.007345</td>\n",
              "      <td>-0.026190</td>\n",
              "      <td>-0.167568</td>\n",
              "      <td>-0.358974</td>\n",
              "      <td>-0.310204</td>\n",
              "      <td>...</td>\n",
              "      <td>-0.129139</td>\n",
              "      <td>-0.182536</td>\n",
              "      <td>-0.148503</td>\n",
              "      <td>-0.113170</td>\n",
              "      <td>-0.028616</td>\n",
              "      <td>-0.086028</td>\n",
              "      <td>-0.180488</td>\n",
              "      <td>-0.007734</td>\n",
              "      <td>-0.179907</td>\n",
              "      <td>0.138643</td>\n",
              "    </tr>\n",
              "    <tr>\n",
              "      <th>2024-05-31</th>\n",
              "      <td>0.027451</td>\n",
              "      <td>-0.037581</td>\n",
              "      <td>0.010560</td>\n",
              "      <td>0.002728</td>\n",
              "      <td>0.093084</td>\n",
              "      <td>0.078224</td>\n",
              "      <td>0.052802</td>\n",
              "      <td>-0.038961</td>\n",
              "      <td>0.003000</td>\n",
              "      <td>0.050296</td>\n",
              "      <td>...</td>\n",
              "      <td>-0.000947</td>\n",
              "      <td>0.012642</td>\n",
              "      <td>0.140647</td>\n",
              "      <td>0.045126</td>\n",
              "      <td>-0.020963</td>\n",
              "      <td>0.005054</td>\n",
              "      <td>-0.341284</td>\n",
              "      <td>-0.023055</td>\n",
              "      <td>-0.048663</td>\n",
              "      <td>-0.124352</td>\n",
              "    </tr>\n",
              "  </tbody>\n",
              "</table>\n",
              "<p>5 rows × 116 columns</p>\n",
              "</div>"
            ],
            "text/plain": [
              "Ticker      AALR3.SA  ABCB4.SA  AESB3.SA  AGRO3.SA  ALOS3.SA  ALPA4.SA  \\\n",
              "Date                                                                     \n",
              "2024-01-31 -0.187500 -0.010537 -0.075487 -0.076750 -0.075330 -0.152174   \n",
              "2024-02-29  0.005917 -0.010063 -0.083407 -0.038118  0.005703  0.185315   \n",
              "2024-03-31  0.078824  0.026260 -0.022988  0.035413 -0.031187 -0.062930   \n",
              "2024-04-30  0.112323 -0.044573 -0.064002  0.044788 -0.127090 -0.007345   \n",
              "2024-05-31  0.027451 -0.037581  0.010560  0.002728  0.093084  0.078224   \n",
              "\n",
              "Ticker      ALUP11.SA  AMAR3.SA  AMBP3.SA  ANIM3.SA  ...  UNIP6.SA  USIM5.SA  \\\n",
              "Date                                                 ...                       \n",
              "2024-01-31  -0.076484 -0.295699 -0.154462 -0.015695  ... -0.082256 -0.010764   \n",
              "2024-02-29   0.023368 -0.129771  0.075691  0.166287  ... -0.058614  0.204570   \n",
              "2024-03-31   0.026192 -0.188596  0.055480 -0.042969  ...  0.025152 -0.095754   \n",
              "2024-04-30  -0.026190 -0.167568 -0.358974 -0.310204  ... -0.129139 -0.182536   \n",
              "2024-05-31   0.052802 -0.038961  0.003000  0.050296  ... -0.000947  0.012642   \n",
              "\n",
              "Ticker      VAMO3.SA  VIVA3.SA  VLID3.SA  VULC3.SA  VVEO3.SA  WIZC3.SA  \\\n",
              "Date                                                                     \n",
              "2024-01-31 -0.188679 -0.013139  0.001463  0.019653 -0.275986 -0.081379   \n",
              "2024-02-29  0.068543 -0.032544 -0.089625 -0.014346 -0.163366 -0.067568   \n",
              "2024-03-31 -0.043528 -0.223242 -0.010701 -0.028352 -0.272189  0.165861   \n",
              "2024-04-30 -0.148503 -0.113170 -0.028616 -0.086028 -0.180488 -0.007734   \n",
              "2024-05-31  0.140647  0.045126 -0.020963  0.005054 -0.341284 -0.023055   \n",
              "\n",
              "Ticker      YDUQ3.SA  ZAMP3.SA  \n",
              "Date                            \n",
              "2024-01-31 -0.140053 -0.126316  \n",
              "2024-02-29  0.056017 -0.162651  \n",
              "2024-03-31 -0.110511 -0.187050  \n",
              "2024-04-30 -0.179907  0.138643  \n",
              "2024-05-31 -0.048663 -0.124352  \n",
              "\n",
              "[5 rows x 116 columns]"
            ]
          },
          "execution_count": 4,
          "metadata": {},
          "output_type": "execute_result"
        }
      ],
      "source": [
        "data.tail()"
      ]
    },
    {
      "cell_type": "code",
      "execution_count": 5,
      "metadata": {
        "id": "nir5UCXjxKAv"
      },
      "outputs": [],
      "source": [
        "def rolling_ret( df , m):\n",
        "  '''\n",
        "    df : dataframe com retornos \n",
        "    calcula retorno acumulado na janela de m periodos\n",
        "  '''\n",
        "  return (df+1).rolling(m).apply(np.prod) - 1 \n",
        "\n",
        "def get_top( df , date , n=3):\n",
        "  '''\n",
        "    determina as colunas de df com os 3 maiores valores na data 'date'\n",
        "  '''\n",
        "  top = df.loc[date].nlargest(n).index\n",
        "  return top.to_list()\n",
        "\n",
        "def port_ret(df , date ,  port = None):\n",
        "  '''\n",
        "    calcula a média em 'df' dos retornos de 'port' na data 'date' \n",
        "  '''\n",
        "  \n",
        "  if port is None : port = get_top(data , date )\n",
        "\n",
        "  porta = df.loc[date:,port]\n",
        "  return porta.mean(axis=1).values[0]"
      ]
    },
    {
      "cell_type": "code",
      "execution_count": 19,
      "metadata": {},
      "outputs": [
        {
          "name": "stdout",
          "output_type": "stream",
          "text": [
            "2024-03-31 ['GUAR3.SA', 'STBP3.SA', 'POSI3.SA'] 0.3052403459615061\n"
          ]
        }
      ],
      "source": [
        "date = '2024-03-31'\n",
        "# quando rendeu em mar-24 as carteira com as 3 small mais rentáveis\n",
        "print( date , get_top(data , date) , port_ret( rolling_ret(data,1) , date ))"
      ]
    },
    {
      "cell_type": "code",
      "execution_count": 20,
      "metadata": {},
      "outputs": [
        {
          "data": {
            "text/plain": [
              "Ticker\n",
              "GUAR3.SA    0.383333\n",
              "STBP3.SA    0.278320\n",
              "POSI3.SA    0.254068\n",
              "LAVV3.SA    0.210150\n",
              "TRIS3.SA    0.189979\n",
              "TEND3.SA    0.186864\n",
              "RRRP3.SA    0.180322\n",
              "RAPT4.SA    0.168937\n",
              "WIZC3.SA    0.165861\n",
              "PTBL3.SA    0.160267\n",
              "Name: 2024-03-31 00:00:00, dtype: float64"
            ]
          },
          "execution_count": 20,
          "metadata": {},
          "output_type": "execute_result"
        }
      ],
      "source": [
        "data.loc[date].nlargest(10)"
      ]
    },
    {
      "cell_type": "markdown",
      "metadata": {},
      "source": [
        "### momentum\n",
        "\n",
        "usando  retornos em janelas moveis"
      ]
    },
    {
      "cell_type": "code",
      "execution_count": 8,
      "metadata": {},
      "outputs": [],
      "source": [
        "janela = 12\n",
        "tam_carteira = 3"
      ]
    },
    {
      "cell_type": "code",
      "execution_count": 9,
      "metadata": {
        "id": "tljtLYm1x_k0"
      },
      "outputs": [
        {
          "data": {
            "text/html": [
              "<div>\n",
              "<style scoped>\n",
              "    .dataframe tbody tr th:only-of-type {\n",
              "        vertical-align: middle;\n",
              "    }\n",
              "\n",
              "    .dataframe tbody tr th {\n",
              "        vertical-align: top;\n",
              "    }\n",
              "\n",
              "    .dataframe thead th {\n",
              "        text-align: right;\n",
              "    }\n",
              "</style>\n",
              "<table border=\"1\" class=\"dataframe\">\n",
              "  <thead>\n",
              "    <tr style=\"text-align: right;\">\n",
              "      <th>Ticker</th>\n",
              "      <th>AALR3.SA</th>\n",
              "      <th>ABCB4.SA</th>\n",
              "      <th>AESB3.SA</th>\n",
              "      <th>AGRO3.SA</th>\n",
              "      <th>ALOS3.SA</th>\n",
              "      <th>ALPA4.SA</th>\n",
              "      <th>ALUP11.SA</th>\n",
              "      <th>AMAR3.SA</th>\n",
              "      <th>AMBP3.SA</th>\n",
              "      <th>ANIM3.SA</th>\n",
              "      <th>...</th>\n",
              "      <th>UNIP6.SA</th>\n",
              "      <th>USIM5.SA</th>\n",
              "      <th>VAMO3.SA</th>\n",
              "      <th>VIVA3.SA</th>\n",
              "      <th>VLID3.SA</th>\n",
              "      <th>VULC3.SA</th>\n",
              "      <th>VVEO3.SA</th>\n",
              "      <th>WIZC3.SA</th>\n",
              "      <th>YDUQ3.SA</th>\n",
              "      <th>ZAMP3.SA</th>\n",
              "    </tr>\n",
              "    <tr>\n",
              "      <th>Date</th>\n",
              "      <th></th>\n",
              "      <th></th>\n",
              "      <th></th>\n",
              "      <th></th>\n",
              "      <th></th>\n",
              "      <th></th>\n",
              "      <th></th>\n",
              "      <th></th>\n",
              "      <th></th>\n",
              "      <th></th>\n",
              "      <th></th>\n",
              "      <th></th>\n",
              "      <th></th>\n",
              "      <th></th>\n",
              "      <th></th>\n",
              "      <th></th>\n",
              "      <th></th>\n",
              "      <th></th>\n",
              "      <th></th>\n",
              "      <th></th>\n",
              "      <th></th>\n",
              "    </tr>\n",
              "  </thead>\n",
              "  <tbody>\n",
              "    <tr>\n",
              "      <th>2024-01-31</th>\n",
              "      <td>-0.604956</td>\n",
              "      <td>0.366354</td>\n",
              "      <td>0.127723</td>\n",
              "      <td>-0.073910</td>\n",
              "      <td>NaN</td>\n",
              "      <td>-0.369581</td>\n",
              "      <td>0.133402</td>\n",
              "      <td>-0.620290</td>\n",
              "      <td>-0.358269</td>\n",
              "      <td>-0.006787</td>\n",
              "      <td>...</td>\n",
              "      <td>-0.146567</td>\n",
              "      <td>0.129530</td>\n",
              "      <td>-0.416411</td>\n",
              "      <td>0.404421</td>\n",
              "      <td>1.335609</td>\n",
              "      <td>0.832066</td>\n",
              "      <td>-0.466766</td>\n",
              "      <td>0.020192</td>\n",
              "      <td>0.889549</td>\n",
              "      <td>-0.086238</td>\n",
              "    </tr>\n",
              "    <tr>\n",
              "      <th>2024-02-29</th>\n",
              "      <td>-0.590361</td>\n",
              "      <td>0.430110</td>\n",
              "      <td>0.052419</td>\n",
              "      <td>0.023342</td>\n",
              "      <td>NaN</td>\n",
              "      <td>0.078473</td>\n",
              "      <td>0.203251</td>\n",
              "      <td>-0.276191</td>\n",
              "      <td>-0.186778</td>\n",
              "      <td>0.605016</td>\n",
              "      <td>...</td>\n",
              "      <td>-0.135289</td>\n",
              "      <td>0.699254</td>\n",
              "      <td>-0.313488</td>\n",
              "      <td>0.536157</td>\n",
              "      <td>1.211616</td>\n",
              "      <td>0.841649</td>\n",
              "      <td>-0.518665</td>\n",
              "      <td>0.003871</td>\n",
              "      <td>1.923748</td>\n",
              "      <td>-0.133056</td>\n",
              "    </tr>\n",
              "    <tr>\n",
              "      <th>2024-03-31</th>\n",
              "      <td>-0.592987</td>\n",
              "      <td>0.582775</td>\n",
              "      <td>0.026157</td>\n",
              "      <td>0.140479</td>\n",
              "      <td>NaN</td>\n",
              "      <td>0.169325</td>\n",
              "      <td>0.265544</td>\n",
              "      <td>-0.421875</td>\n",
              "      <td>-0.177661</td>\n",
              "      <td>0.952191</td>\n",
              "      <td>...</td>\n",
              "      <td>0.003390</td>\n",
              "      <td>0.439587</td>\n",
              "      <td>-0.346813</td>\n",
              "      <td>0.170006</td>\n",
              "      <td>1.040115</td>\n",
              "      <td>0.715368</td>\n",
              "      <td>-0.605301</td>\n",
              "      <td>0.331600</td>\n",
              "      <td>1.600643</td>\n",
              "      <td>-0.270968</td>\n",
              "    </tr>\n",
              "    <tr>\n",
              "      <th>2024-04-30</th>\n",
              "      <td>-0.553611</td>\n",
              "      <td>0.522175</td>\n",
              "      <td>-0.106070</td>\n",
              "      <td>0.188600</td>\n",
              "      <td>NaN</td>\n",
              "      <td>0.276653</td>\n",
              "      <td>0.111672</td>\n",
              "      <td>-0.511111</td>\n",
              "      <td>-0.454345</td>\n",
              "      <td>0.463204</td>\n",
              "      <td>...</td>\n",
              "      <td>-0.074329</td>\n",
              "      <td>0.136502</td>\n",
              "      <td>-0.392382</td>\n",
              "      <td>0.057038</td>\n",
              "      <td>0.812196</td>\n",
              "      <td>0.412744</td>\n",
              "      <td>-0.681632</td>\n",
              "      <td>0.314594</td>\n",
              "      <td>0.851727</td>\n",
              "      <td>-0.080952</td>\n",
              "    </tr>\n",
              "    <tr>\n",
              "      <th>2024-05-31</th>\n",
              "      <td>-0.544150</td>\n",
              "      <td>0.472014</td>\n",
              "      <td>-0.207883</td>\n",
              "      <td>0.265155</td>\n",
              "      <td>NaN</td>\n",
              "      <td>-0.022988</td>\n",
              "      <td>0.090888</td>\n",
              "      <td>-0.537500</td>\n",
              "      <td>-0.465047</td>\n",
              "      <td>0.187291</td>\n",
              "      <td>...</td>\n",
              "      <td>-0.117666</td>\n",
              "      <td>0.180380</td>\n",
              "      <td>-0.342925</td>\n",
              "      <td>-0.076061</td>\n",
              "      <td>0.306486</td>\n",
              "      <td>0.177151</td>\n",
              "      <td>-0.805816</td>\n",
              "      <td>0.203838</td>\n",
              "      <td>0.016654</td>\n",
              "      <td>-0.112861</td>\n",
              "    </tr>\n",
              "  </tbody>\n",
              "</table>\n",
              "<p>5 rows × 116 columns</p>\n",
              "</div>"
            ],
            "text/plain": [
              "Ticker      AALR3.SA  ABCB4.SA  AESB3.SA  AGRO3.SA  ALOS3.SA  ALPA4.SA  \\\n",
              "Date                                                                     \n",
              "2024-01-31 -0.604956  0.366354  0.127723 -0.073910       NaN -0.369581   \n",
              "2024-02-29 -0.590361  0.430110  0.052419  0.023342       NaN  0.078473   \n",
              "2024-03-31 -0.592987  0.582775  0.026157  0.140479       NaN  0.169325   \n",
              "2024-04-30 -0.553611  0.522175 -0.106070  0.188600       NaN  0.276653   \n",
              "2024-05-31 -0.544150  0.472014 -0.207883  0.265155       NaN -0.022988   \n",
              "\n",
              "Ticker      ALUP11.SA  AMAR3.SA  AMBP3.SA  ANIM3.SA  ...  UNIP6.SA  USIM5.SA  \\\n",
              "Date                                                 ...                       \n",
              "2024-01-31   0.133402 -0.620290 -0.358269 -0.006787  ... -0.146567  0.129530   \n",
              "2024-02-29   0.203251 -0.276191 -0.186778  0.605016  ... -0.135289  0.699254   \n",
              "2024-03-31   0.265544 -0.421875 -0.177661  0.952191  ...  0.003390  0.439587   \n",
              "2024-04-30   0.111672 -0.511111 -0.454345  0.463204  ... -0.074329  0.136502   \n",
              "2024-05-31   0.090888 -0.537500 -0.465047  0.187291  ... -0.117666  0.180380   \n",
              "\n",
              "Ticker      VAMO3.SA  VIVA3.SA  VLID3.SA  VULC3.SA  VVEO3.SA  WIZC3.SA  \\\n",
              "Date                                                                     \n",
              "2024-01-31 -0.416411  0.404421  1.335609  0.832066 -0.466766  0.020192   \n",
              "2024-02-29 -0.313488  0.536157  1.211616  0.841649 -0.518665  0.003871   \n",
              "2024-03-31 -0.346813  0.170006  1.040115  0.715368 -0.605301  0.331600   \n",
              "2024-04-30 -0.392382  0.057038  0.812196  0.412744 -0.681632  0.314594   \n",
              "2024-05-31 -0.342925 -0.076061  0.306486  0.177151 -0.805816  0.203838   \n",
              "\n",
              "Ticker      YDUQ3.SA  ZAMP3.SA  \n",
              "Date                            \n",
              "2024-01-31  0.889549 -0.086238  \n",
              "2024-02-29  1.923748 -0.133056  \n",
              "2024-03-31  1.600643 -0.270968  \n",
              "2024-04-30  0.851727 -0.080952  \n",
              "2024-05-31  0.016654 -0.112861  \n",
              "\n",
              "[5 rows x 116 columns]"
            ]
          },
          "execution_count": 9,
          "metadata": {},
          "output_type": "execute_result"
        }
      ],
      "source": [
        "ret = rolling_ret(data,janela)\n",
        "ret.tail()"
      ]
    },
    {
      "cell_type": "markdown",
      "metadata": {},
      "source": [
        "#### próximo mês"
      ]
    },
    {
      "cell_type": "code",
      "execution_count": 10,
      "metadata": {},
      "outputs": [
        {
          "name": "stdout",
          "output_type": "stream",
          "text": [
            "proxima carteira:  CEAB3.SA ENAT3.SA GUAR3.SA\n"
          ]
        }
      ],
      "source": [
        "date = ret.index[-1].date().strftime(\"%Y-%m-%d\")\n",
        "prox = ret.loc[date].nlargest(tam_carteira).index.values\n",
        "print('proxima carteira: ' , *prox)"
      ]
    },
    {
      "cell_type": "code",
      "execution_count": 11,
      "metadata": {},
      "outputs": [],
      "source": [
        "carteiras = []\n",
        "for date in ret.index:\n",
        "    # print(date.date() , get_top( ret , date , tam_carteira), port_ret( data , date ,  get_top( ret , date) ))\n",
        "    carteiras.append(get_top( ret , date , tam_carteira))"
      ]
    },
    {
      "cell_type": "code",
      "execution_count": 12,
      "metadata": {},
      "outputs": [
        {
          "name": "stdout",
          "output_type": "stream",
          "text": [
            "['AALR3.SA', 'ABCB4.SA', 'AESB3.SA'] ['AALR3.SA', 'ABCB4.SA', 'AESB3.SA'] ['AALR3.SA', 'ABCB4.SA', 'AESB3.SA'] ['AALR3.SA', 'ABCB4.SA', 'AESB3.SA'] ['AALR3.SA', 'ABCB4.SA', 'AESB3.SA'] ['AALR3.SA', 'ABCB4.SA', 'AESB3.SA'] ['AALR3.SA', 'ABCB4.SA', 'AESB3.SA'] ['AALR3.SA', 'ABCB4.SA', 'AESB3.SA'] ['AALR3.SA', 'ABCB4.SA', 'AESB3.SA'] ['AALR3.SA', 'ABCB4.SA', 'AESB3.SA'] ['AALR3.SA', 'ABCB4.SA', 'AESB3.SA'] ['AALR3.SA', 'ABCB4.SA', 'AESB3.SA'] ['RECV3.SA', 'ENAT3.SA', 'AALR3.SA'] ['AALR3.SA', 'BEEF3.SA', 'RECV3.SA'] ['AALR3.SA', 'BEEF3.SA', 'KEPL3.SA'] ['CIEL3.SA', 'BEEF3.SA', 'KEPL3.SA'] ['CIEL3.SA', 'KEPL3.SA', 'MILS3.SA'] ['CIEL3.SA', 'MILS3.SA', 'RECV3.SA'] ['CIEL3.SA', 'RECV3.SA', 'KEPL3.SA'] ['CIEL3.SA', 'CURY3.SA', 'RECV3.SA'] ['CIEL3.SA', 'KEPL3.SA', 'CURY3.SA'] ['CIEL3.SA', 'MILS3.SA', 'CURY3.SA'] ['PLPL3.SA', 'CURY3.SA', 'CIEL3.SA'] ['PLPL3.SA', 'CURY3.SA', 'CIEL3.SA'] ['PLPL3.SA', 'CURY3.SA', 'ONCO3.SA'] ['PLPL3.SA', 'TEND3.SA', 'CURY3.SA'] ['PLPL3.SA', 'TEND3.SA', 'POMO4.SA'] ['PLPL3.SA', 'POMO4.SA', 'TEND3.SA'] ['PLPL3.SA', 'LEVE3.SA', 'POMO4.SA'] ['PLPL3.SA', 'POMO4.SA', 'TEND3.SA'] ['CEAB3.SA', 'TEND3.SA', 'PLPL3.SA'] ['TEND3.SA', 'CEAB3.SA', 'PLPL3.SA'] ['POMO4.SA', 'PLPL3.SA', 'CEAB3.SA'] ['CEAB3.SA', 'PLPL3.SA', 'YDUQ3.SA'] ['CEAB3.SA', 'TEND3.SA', 'ENAT3.SA'] ['CEAB3.SA', 'ENAT3.SA', 'TEND3.SA'] ['CEAB3.SA', 'ENAT3.SA', 'GUAR3.SA']\n"
          ]
        }
      ],
      "source": [
        "print(*carteiras)"
      ]
    },
    {
      "cell_type": "code",
      "execution_count": 13,
      "metadata": {},
      "outputs": [],
      "source": [
        "## a carteira roda no mes seguinte\n",
        "retornos = [0.0]\n",
        "for i in range(1,len(data)): \n",
        "  # print(data.index[i].date() , carteiras[i-1] , port_ret( data , data.index[i] , carteiras[i-1] ))\n",
        "  retornos.append(port_ret( data , data.index[i] , carteiras[i-1] ))"
      ]
    },
    {
      "cell_type": "code",
      "execution_count": 14,
      "metadata": {},
      "outputs": [],
      "source": [
        "compara = pd.DataFrame({'returns' : retornos , 'ibov' : data['BOVA11.SA']} , index=data.index)\n",
        "compara.ibov.iloc[0] = 0.0\n",
        "# compara"
      ]
    },
    {
      "cell_type": "code",
      "execution_count": 15,
      "metadata": {},
      "outputs": [
        {
          "data": {
            "text/plain": [
              "<Axes: xlabel='Date'>"
            ]
          },
          "execution_count": 15,
          "metadata": {},
          "output_type": "execute_result"
        },
        {
          "data": {
            "image/png": "[encoded data removed]",
            "text/plain": [
              "<Figure size 640x480 with 1 Axes>"
            ]
          },
          "metadata": {},
          "output_type": "display_data"
        }
      ],
      "source": [
        "compara.plot()"
      ]
    },
    {
      "cell_type": "code",
      "execution_count": 16,
      "metadata": {
        "id": "dxpdWYIuBtP4"
      },
      "outputs": [
        {
          "data": {
            "text/html": [
              "<div>\n",
              "<style scoped>\n",
              "    .dataframe tbody tr th:only-of-type {\n",
              "        vertical-align: middle;\n",
              "    }\n",
              "\n",
              "    .dataframe tbody tr th {\n",
              "        vertical-align: top;\n",
              "    }\n",
              "\n",
              "    .dataframe thead th {\n",
              "        text-align: right;\n",
              "    }\n",
              "</style>\n",
              "<table border=\"1\" class=\"dataframe\">\n",
              "  <thead>\n",
              "    <tr style=\"text-align: right;\">\n",
              "      <th></th>\n",
              "      <th>returns</th>\n",
              "      <th>ibov</th>\n",
              "      <th>indice_acum</th>\n",
              "      <th>cartei_acum</th>\n",
              "    </tr>\n",
              "    <tr>\n",
              "      <th>Date</th>\n",
              "      <th></th>\n",
              "      <th></th>\n",
              "      <th></th>\n",
              "      <th></th>\n",
              "    </tr>\n",
              "  </thead>\n",
              "  <tbody>\n",
              "    <tr>\n",
              "      <th>2024-01-31</th>\n",
              "      <td>-0.127822</td>\n",
              "      <td>-0.049390</td>\n",
              "      <td>1.022268</td>\n",
              "      <td>1.256984</td>\n",
              "    </tr>\n",
              "    <tr>\n",
              "      <th>2024-02-29</th>\n",
              "      <td>0.149087</td>\n",
              "      <td>0.010488</td>\n",
              "      <td>1.032990</td>\n",
              "      <td>1.444384</td>\n",
              "    </tr>\n",
              "    <tr>\n",
              "      <th>2024-03-31</th>\n",
              "      <td>0.005042</td>\n",
              "      <td>-0.007345</td>\n",
              "      <td>1.025402</td>\n",
              "      <td>1.451667</td>\n",
              "    </tr>\n",
              "    <tr>\n",
              "      <th>2024-04-30</th>\n",
              "      <td>-0.025668</td>\n",
              "      <td>-0.015684</td>\n",
              "      <td>1.009320</td>\n",
              "      <td>1.414406</td>\n",
              "    </tr>\n",
              "    <tr>\n",
              "      <th>2024-05-31</th>\n",
              "      <td>-0.043872</td>\n",
              "      <td>0.019693</td>\n",
              "      <td>1.029196</td>\n",
              "      <td>1.352354</td>\n",
              "    </tr>\n",
              "  </tbody>\n",
              "</table>\n",
              "</div>"
            ],
            "text/plain": [
              "             returns      ibov  indice_acum  cartei_acum\n",
              "Date                                                    \n",
              "2024-01-31 -0.127822 -0.049390     1.022268     1.256984\n",
              "2024-02-29  0.149087  0.010488     1.032990     1.444384\n",
              "2024-03-31  0.005042 -0.007345     1.025402     1.451667\n",
              "2024-04-30 -0.025668 -0.015684     1.009320     1.414406\n",
              "2024-05-31 -0.043872  0.019693     1.029196     1.352354"
            ]
          },
          "execution_count": 16,
          "metadata": {},
          "output_type": "execute_result"
        }
      ],
      "source": [
        "compara['indice_acum'] = (compara.ibov+1.0).cumprod()\n",
        "compara['cartei_acum'] = (compara.returns+1.0).cumprod()\n",
        "compara.tail()"
      ]
    },
    {
      "cell_type": "code",
      "execution_count": 17,
      "metadata": {
        "colab": {
          "base_uri": "https://localhost:8080/",
          "height": 483
        },
        "id": "TJ59w-X7zLje",
        "outputId": "3b388a5a-e129-4974-9d54-382899074e99"
      },
      "outputs": [
        {
          "data": {
            "text/plain": [
              "<Axes: xlabel='Date'>"
            ]
          },
          "execution_count": 17,
          "metadata": {},
          "output_type": "execute_result"
        },
        {
          "data": {
            "image/png": "[encoded data removed]",
            "text/plain": [
              "<Figure size 640x480 with 1 Axes>"
            ]
          },
          "metadata": {},
          "output_type": "display_data"
        }
      ],
      "source": [
        "compara[['cartei_acum','indice_acum']].plot()"
      ]
    }
  ],
  "metadata": {
    "colab": {
      "authorship_tag": "ABX9TyMIa04qN86tULE4x/1Iw3IR",
      "include_colab_link": true,
      "provenance": []
    },
    "kernelspec": {
      "display_name": "Python 3",
      "name": "python3"
    },
    "language_info": {
      "codemirror_mode": {
        "name": "ipython",
        "version": 3
      },
      "file_extension": ".py",
      "mimetype": "text/x-python",
      "name": "python",
      "nbconvert_exporter": "python",
      "pygments_lexer": "ipython3",
      "version": "3.11.5"
    }
  },
  "nbformat": 4,
  "nbformat_minor": 0
}
