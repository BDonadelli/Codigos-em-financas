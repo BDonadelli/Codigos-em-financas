{
 "cells": [
  {
   "cell_type": "code",
   "execution_count": 20,
   "metadata": {},
   "outputs": [
    {
     "data": {
      "text/html": [
       "<div>\n",
       "<style scoped>\n",
       "    .dataframe tbody tr th:only-of-type {\n",
       "        vertical-align: middle;\n",
       "    }\n",
       "\n",
       "    .dataframe tbody tr th {\n",
       "        vertical-align: top;\n",
       "    }\n",
       "\n",
       "    .dataframe thead th {\n",
       "        text-align: right;\n",
       "    }\n",
       "</style>\n",
       "<table border=\"1\" class=\"dataframe\">\n",
       "  <thead>\n",
       "    <tr style=\"text-align: right;\">\n",
       "      <th></th>\n",
       "      <th>NC</th>\n",
       "      <th>NN</th>\n",
       "      <th>MC</th>\n",
       "      <th>MN</th>\n",
       "      <th>V</th>\n",
       "      <th>D1C</th>\n",
       "      <th>D1N</th>\n",
       "      <th>D2C</th>\n",
       "      <th>D2N</th>\n",
       "      <th>D3C</th>\n",
       "      <th>D3N</th>\n",
       "      <th>D4C</th>\n",
       "      <th>D4N</th>\n",
       "    </tr>\n",
       "  </thead>\n",
       "  <tbody>\n",
       "    <tr>\n",
       "      <th>0</th>\n",
       "      <td>Nível Territorial (Código)</td>\n",
       "      <td>Nível Territorial</td>\n",
       "      <td>Unidade de Medida (Código)</td>\n",
       "      <td>Unidade de Medida</td>\n",
       "      <td>Valor</td>\n",
       "      <td>Região Metropolitana (Código)</td>\n",
       "      <td>Região Metropolitana</td>\n",
       "      <td>Variável (Código)</td>\n",
       "      <td>Variável</td>\n",
       "      <td>Mês (Código)</td>\n",
       "      <td>Mês</td>\n",
       "      <td>Geral, grupo, subgrupo, item e subitem (Código)</td>\n",
       "      <td>Geral, grupo, subgrupo, item e subitem</td>\n",
       "    </tr>\n",
       "    <tr>\n",
       "      <th>1</th>\n",
       "      <td>7</td>\n",
       "      <td>Região Metropolitana</td>\n",
       "      <td></td>\n",
       "      <td></td>\n",
       "      <td>...</td>\n",
       "      <td>1501</td>\n",
       "      <td>Belém - PA</td>\n",
       "      <td>2265</td>\n",
       "      <td>IPCA - Variação acumulada em 12 meses</td>\n",
       "      <td>202001</td>\n",
       "      <td>janeiro 2020</td>\n",
       "      <td>7169</td>\n",
       "      <td>Índice geral</td>\n",
       "    </tr>\n",
       "    <tr>\n",
       "      <th>2</th>\n",
       "      <td>7</td>\n",
       "      <td>Região Metropolitana</td>\n",
       "      <td></td>\n",
       "      <td></td>\n",
       "      <td>...</td>\n",
       "      <td>1501</td>\n",
       "      <td>Belém - PA</td>\n",
       "      <td>2265</td>\n",
       "      <td>IPCA - Variação acumulada em 12 meses</td>\n",
       "      <td>202002</td>\n",
       "      <td>fevereiro 2020</td>\n",
       "      <td>7169</td>\n",
       "      <td>Índice geral</td>\n",
       "    </tr>\n",
       "  </tbody>\n",
       "</table>\n",
       "</div>"
      ],
      "text/plain": [
       "                           NC                    NN  \\\n",
       "0  Nível Territorial (Código)     Nível Territorial   \n",
       "1                           7  Região Metropolitana   \n",
       "2                           7  Região Metropolitana   \n",
       "\n",
       "                           MC                 MN      V  \\\n",
       "0  Unidade de Medida (Código)  Unidade de Medida  Valor   \n",
       "1                                                   ...   \n",
       "2                                                   ...   \n",
       "\n",
       "                             D1C                   D1N                D2C  \\\n",
       "0  Região Metropolitana (Código)  Região Metropolitana  Variável (Código)   \n",
       "1                           1501            Belém - PA               2265   \n",
       "2                           1501            Belém - PA               2265   \n",
       "\n",
       "                                     D2N           D3C             D3N  \\\n",
       "0                               Variável  Mês (Código)             Mês   \n",
       "1  IPCA - Variação acumulada em 12 meses        202001    janeiro 2020   \n",
       "2  IPCA - Variação acumulada em 12 meses        202002  fevereiro 2020   \n",
       "\n",
       "                                               D4C  \\\n",
       "0  Geral, grupo, subgrupo, item e subitem (Código)   \n",
       "1                                             7169   \n",
       "2                                             7169   \n",
       "\n",
       "                                      D4N  \n",
       "0  Geral, grupo, subgrupo, item e subitem  \n",
       "1                            Índice geral  \n",
       "2                            Índice geral  "
      ]
     },
     "execution_count": 20,
     "metadata": {},
     "output_type": "execute_result"
    }
   ],
   "source": [
    "import pandas as pd\n",
    "url = \"https://apisidra.ibge.gov.br/values/t/7060/n7/all/v/2265/p/all/c315/7169/d/v2265%202\"\n",
    "dados_brutos = pd.read_json(url + \"?formato=json\")\n",
    "dados_brutos.head(3)\n"
   ]
  },
  {
   "cell_type": "code",
   "execution_count": 21,
   "metadata": {},
   "outputs": [
    {
     "data": {
      "text/plain": [
       "Index(['Nível Territorial (Código)', 'Nível Territorial',\n",
       "       'Unidade de Medida (Código)', 'Unidade de Medida', 'Valor',\n",
       "       'Região Metropolitana (Código)', 'Região Metropolitana',\n",
       "       'Variável (Código)', 'Variável', 'Mês (Código)', 'Mês',\n",
       "       'Geral, grupo, subgrupo, item e subitem (Código)',\n",
       "       'Geral, grupo, subgrupo, item e subitem'],\n",
       "      dtype='object')"
      ]
     },
     "execution_count": 21,
     "metadata": {},
     "output_type": "execute_result"
    }
   ],
   "source": [
    "dados = dados_brutos.rename(columns=dados_brutos.iloc[0]).iloc[1:]\n",
    "dados.columns"
   ]
  },
  {
   "cell_type": "code",
   "execution_count": 22,
   "metadata": {},
   "outputs": [],
   "source": [
    "dados[\"data\"] = pd.to_datetime(dados[\"Mês (Código)\"], format=\"%Y%m\")\n",
    "dados = dados[dados[\"Valor\"] != '...']\n",
    "dados[\"Valor\"] = dados[\"Valor\"].astype(float)"
   ]
  },
  {
   "cell_type": "code",
   "execution_count": 23,
   "metadata": {},
   "outputs": [
    {
     "data": {
      "text/plain": [
       "array(['Belém - PA', 'Fortaleza - CE', 'Recife - PE', 'Salvador - BA',\n",
       "       'Belo Horizonte - MG', 'Grande Vitória - ES',\n",
       "       'Rio de Janeiro - RJ', 'São Paulo - SP', 'Curitiba - PR',\n",
       "       'Porto Alegre - RS'], dtype=object)"
      ]
     },
     "execution_count": 23,
     "metadata": {},
     "output_type": "execute_result"
    }
   ],
   "source": [
    "dados['Região Metropolitana'].unique()"
   ]
  },
  {
   "cell_type": "code",
   "execution_count": 30,
   "metadata": {},
   "outputs": [],
   "source": [
    "regioes = {\n",
    "    \"Norte\": [\"Belém - PA\"],\n",
    "    \"Nordeste\": [\"Fortaleza - CE\", \"Recife - PE\", \"Salvador - BA\"],\n",
    "    \"Sudeste\": [\"Belo Horizonte - MG\", \"Grande Vitória - ES\", \"Rio de Janeiro - RJ\", \"São Paulo - SP\"],\n",
    "    \"Sul\": [\"Curitiba - PR\", \"Porto Alegre - RS\"]\n",
    "}\n",
    "dados[\"Região\"] = dados[\"Região Metropolitana\"].apply(lambda metro: next((regiao for regiao, metros in regioes.items() if metro in metros), None))\n",
    "dados[\"Metro\"] = dados[\"Região Metropolitana\"]\n"
   ]
  },
  {
   "cell_type": "code",
   "execution_count": 31,
   "metadata": {},
   "outputs": [
    {
     "data": {
      "text/html": [
       "<div>\n",
       "<style scoped>\n",
       "    .dataframe tbody tr th:only-of-type {\n",
       "        vertical-align: middle;\n",
       "    }\n",
       "\n",
       "    .dataframe tbody tr th {\n",
       "        vertical-align: top;\n",
       "    }\n",
       "\n",
       "    .dataframe thead th {\n",
       "        text-align: right;\n",
       "    }\n",
       "</style>\n",
       "<table border=\"1\" class=\"dataframe\">\n",
       "  <thead>\n",
       "    <tr style=\"text-align: right;\">\n",
       "      <th></th>\n",
       "      <th>data</th>\n",
       "      <th>Região</th>\n",
       "      <th>Metro</th>\n",
       "      <th>Valor</th>\n",
       "    </tr>\n",
       "  </thead>\n",
       "  <tbody>\n",
       "    <tr>\n",
       "      <th>12</th>\n",
       "      <td>2020-12-01</td>\n",
       "      <td>Norte</td>\n",
       "      <td>Belém - PA</td>\n",
       "      <td>4.63</td>\n",
       "    </tr>\n",
       "    <tr>\n",
       "      <th>13</th>\n",
       "      <td>2021-01-01</td>\n",
       "      <td>Norte</td>\n",
       "      <td>Belém - PA</td>\n",
       "      <td>4.18</td>\n",
       "    </tr>\n",
       "    <tr>\n",
       "      <th>14</th>\n",
       "      <td>2021-02-01</td>\n",
       "      <td>Norte</td>\n",
       "      <td>Belém - PA</td>\n",
       "      <td>5.42</td>\n",
       "    </tr>\n",
       "    <tr>\n",
       "      <th>15</th>\n",
       "      <td>2021-03-01</td>\n",
       "      <td>Norte</td>\n",
       "      <td>Belém - PA</td>\n",
       "      <td>6.44</td>\n",
       "    </tr>\n",
       "    <tr>\n",
       "      <th>16</th>\n",
       "      <td>2021-04-01</td>\n",
       "      <td>Norte</td>\n",
       "      <td>Belém - PA</td>\n",
       "      <td>7.32</td>\n",
       "    </tr>\n",
       "    <tr>\n",
       "      <th>...</th>\n",
       "      <td>...</td>\n",
       "      <td>...</td>\n",
       "      <td>...</td>\n",
       "      <td>...</td>\n",
       "    </tr>\n",
       "    <tr>\n",
       "      <th>516</th>\n",
       "      <td>2023-12-01</td>\n",
       "      <td>Sul</td>\n",
       "      <td>Porto Alegre - RS</td>\n",
       "      <td>4.63</td>\n",
       "    </tr>\n",
       "    <tr>\n",
       "      <th>517</th>\n",
       "      <td>2024-01-01</td>\n",
       "      <td>Sul</td>\n",
       "      <td>Porto Alegre - RS</td>\n",
       "      <td>4.53</td>\n",
       "    </tr>\n",
       "    <tr>\n",
       "      <th>518</th>\n",
       "      <td>2024-02-01</td>\n",
       "      <td>Sul</td>\n",
       "      <td>Porto Alegre - RS</td>\n",
       "      <td>4.29</td>\n",
       "    </tr>\n",
       "    <tr>\n",
       "      <th>519</th>\n",
       "      <td>2024-03-01</td>\n",
       "      <td>Sul</td>\n",
       "      <td>Porto Alegre - RS</td>\n",
       "      <td>2.86</td>\n",
       "    </tr>\n",
       "    <tr>\n",
       "      <th>520</th>\n",
       "      <td>2024-04-01</td>\n",
       "      <td>Sul</td>\n",
       "      <td>Porto Alegre - RS</td>\n",
       "      <td>3.02</td>\n",
       "    </tr>\n",
       "  </tbody>\n",
       "</table>\n",
       "<p>410 rows × 4 columns</p>\n",
       "</div>"
      ],
      "text/plain": [
       "          data Região              Metro  Valor\n",
       "12  2020-12-01  Norte         Belém - PA   4.63\n",
       "13  2021-01-01  Norte         Belém - PA   4.18\n",
       "14  2021-02-01  Norte         Belém - PA   5.42\n",
       "15  2021-03-01  Norte         Belém - PA   6.44\n",
       "16  2021-04-01  Norte         Belém - PA   7.32\n",
       "..         ...    ...                ...    ...\n",
       "516 2023-12-01    Sul  Porto Alegre - RS   4.63\n",
       "517 2024-01-01    Sul  Porto Alegre - RS   4.53\n",
       "518 2024-02-01    Sul  Porto Alegre - RS   4.29\n",
       "519 2024-03-01    Sul  Porto Alegre - RS   2.86\n",
       "520 2024-04-01    Sul  Porto Alegre - RS   3.02\n",
       "\n",
       "[410 rows x 4 columns]"
      ]
     },
     "execution_count": 31,
     "metadata": {},
     "output_type": "execute_result"
    }
   ],
   "source": [
    "dados_tratados = dados[[\"data\", \"Região\", \"Metro\", \"Valor\"]]\n",
    "dados_tratados"
   ]
  },
  {
   "cell_type": "code",
   "execution_count": 70,
   "metadata": {},
   "outputs": [
    {
     "data": {
      "application/vnd.plotly.v1+json": {
       "config": {
        "plotlyServerURL": "https://plot.ly"
       },
       "data": [
        {
         "hovertemplate": "Região Metropolitana=Belém - PA<br>Região=Norte<br>Ano=%{x}<br>Var. % anual=%{y}<extra></extra>",
         "legendgroup": "Belém - PA",
         "line": {
          "color": "#636efa",
          "dash": "solid"
         },
         "marker": {
          "symbol": "circle"
         },
         "mode": "lines",
         "name": "Belém - PA",
         "orientation": "v",
         "showlegend": true,
         "type": "scatter",
         "x": [
          "2020-12-01T00:00:00",
          "2021-01-01T00:00:00",
          "2021-02-01T00:00:00",
          "2021-03-01T00:00:00",
          "2021-04-01T00:00:00",
          "2021-05-01T00:00:00",
          "2021-06-01T00:00:00",
          "2021-07-01T00:00:00",
          "2021-08-01T00:00:00",
          "2021-09-01T00:00:00",
          "2021-10-01T00:00:00",
          "2021-11-01T00:00:00",
          "2021-12-01T00:00:00",
          "2022-01-01T00:00:00",
          "2022-02-01T00:00:00",
          "2022-03-01T00:00:00",
          "2022-04-01T00:00:00",
          "2022-05-01T00:00:00",
          "2022-06-01T00:00:00",
          "2022-07-01T00:00:00",
          "2022-08-01T00:00:00",
          "2022-09-01T00:00:00",
          "2022-10-01T00:00:00",
          "2022-11-01T00:00:00",
          "2022-12-01T00:00:00",
          "2023-01-01T00:00:00",
          "2023-02-01T00:00:00",
          "2023-03-01T00:00:00",
          "2023-04-01T00:00:00",
          "2023-05-01T00:00:00",
          "2023-06-01T00:00:00",
          "2023-07-01T00:00:00",
          "2023-08-01T00:00:00",
          "2023-09-01T00:00:00",
          "2023-10-01T00:00:00",
          "2023-11-01T00:00:00",
          "2023-12-01T00:00:00",
          "2024-01-01T00:00:00",
          "2024-02-01T00:00:00",
          "2024-03-01T00:00:00",
          "2024-04-01T00:00:00"
         ],
         "xaxis": "x3",
         "y": [
          4.63,
          4.18,
          5.42,
          6.44,
          7.32,
          8.26,
          8.71,
          8.9,
          9.76,
          9.86,
          9.27,
          8.7,
          8.1,
          8.84,
          8.37,
          9.1,
          9.65,
          9.52,
          9.55,
          7.17,
          6.56,
          5.45,
          5.31,
          5.46,
          5.56,
          5.3,
          5.19,
          4.53,
          3.86,
          3.5,
          3.13,
          4.76,
          5.23,
          5.71,
          5.11,
          5.15,
          4.82,
          5.18,
          4.99,
          4.69,
          4.44
         ],
         "yaxis": "y3"
        },
        {
         "hovertemplate": "Região Metropolitana=Fortaleza - CE<br>Região=Nordeste<br>Ano=%{x}<br>Var. % anual=%{y}<extra></extra>",
         "legendgroup": "Fortaleza - CE",
         "line": {
          "color": "#EF553B",
          "dash": "solid"
         },
         "marker": {
          "symbol": "circle"
         },
         "mode": "lines",
         "name": "Fortaleza - CE",
         "orientation": "v",
         "showlegend": true,
         "type": "scatter",
         "x": [
          "2020-12-01T00:00:00",
          "2021-01-01T00:00:00",
          "2021-02-01T00:00:00",
          "2021-03-01T00:00:00",
          "2021-04-01T00:00:00",
          "2021-05-01T00:00:00",
          "2021-06-01T00:00:00",
          "2021-07-01T00:00:00",
          "2021-08-01T00:00:00",
          "2021-09-01T00:00:00",
          "2021-10-01T00:00:00",
          "2021-11-01T00:00:00",
          "2021-12-01T00:00:00",
          "2022-01-01T00:00:00",
          "2022-02-01T00:00:00",
          "2022-03-01T00:00:00",
          "2022-04-01T00:00:00",
          "2022-05-01T00:00:00",
          "2022-06-01T00:00:00",
          "2022-07-01T00:00:00",
          "2022-08-01T00:00:00",
          "2022-09-01T00:00:00",
          "2022-10-01T00:00:00",
          "2022-11-01T00:00:00",
          "2022-12-01T00:00:00",
          "2023-01-01T00:00:00",
          "2023-02-01T00:00:00",
          "2023-03-01T00:00:00",
          "2023-04-01T00:00:00",
          "2023-05-01T00:00:00",
          "2023-06-01T00:00:00",
          "2023-07-01T00:00:00",
          "2023-08-01T00:00:00",
          "2023-09-01T00:00:00",
          "2023-10-01T00:00:00",
          "2023-11-01T00:00:00",
          "2023-12-01T00:00:00",
          "2024-01-01T00:00:00",
          "2024-02-01T00:00:00",
          "2024-03-01T00:00:00",
          "2024-04-01T00:00:00"
         ],
         "xaxis": "x4",
         "y": [
          5.74,
          5.83,
          6.55,
          7.1,
          8.03,
          9.8,
          10.07,
          10.46,
          11.2,
          11.19,
          11.34,
          11.63,
          10.63,
          11.03,
          10.25,
          11.31,
          11.56,
          11.89,
          11.92,
          10.17,
          8.89,
          6.88,
          6.52,
          5.7,
          5.76,
          5.9,
          5.86,
          4.47,
          4.03,
          3.16,
          2.13,
          2.97,
          4.5,
          5.32,
          4.61,
          4.64,
          4.88,
          4.69,
          4.8,
          4.72,
          3.99
         ],
         "yaxis": "y4"
        },
        {
         "hovertemplate": "Região Metropolitana=Recife - PE<br>Região=Nordeste<br>Ano=%{x}<br>Var. % anual=%{y}<extra></extra>",
         "legendgroup": "Recife - PE",
         "line": {
          "color": "#00cc96",
          "dash": "solid"
         },
         "marker": {
          "symbol": "circle"
         },
         "mode": "lines",
         "name": "Recife - PE",
         "orientation": "v",
         "showlegend": true,
         "type": "scatter",
         "x": [
          "2020-12-01T00:00:00",
          "2021-01-01T00:00:00",
          "2021-02-01T00:00:00",
          "2021-03-01T00:00:00",
          "2021-04-01T00:00:00",
          "2021-05-01T00:00:00",
          "2021-06-01T00:00:00",
          "2021-07-01T00:00:00",
          "2021-08-01T00:00:00",
          "2021-09-01T00:00:00",
          "2021-10-01T00:00:00",
          "2021-11-01T00:00:00",
          "2021-12-01T00:00:00",
          "2022-01-01T00:00:00",
          "2022-02-01T00:00:00",
          "2022-03-01T00:00:00",
          "2022-04-01T00:00:00",
          "2022-05-01T00:00:00",
          "2022-06-01T00:00:00",
          "2022-07-01T00:00:00",
          "2022-08-01T00:00:00",
          "2022-09-01T00:00:00",
          "2022-10-01T00:00:00",
          "2022-11-01T00:00:00",
          "2022-12-01T00:00:00",
          "2023-01-01T00:00:00",
          "2023-02-01T00:00:00",
          "2023-03-01T00:00:00",
          "2023-04-01T00:00:00",
          "2023-05-01T00:00:00",
          "2023-06-01T00:00:00",
          "2023-07-01T00:00:00",
          "2023-08-01T00:00:00",
          "2023-09-01T00:00:00",
          "2023-10-01T00:00:00",
          "2023-11-01T00:00:00",
          "2023-12-01T00:00:00",
          "2024-01-01T00:00:00",
          "2024-02-01T00:00:00",
          "2024-03-01T00:00:00",
          "2024-04-01T00:00:00"
         ],
         "xaxis": "x4",
         "y": [
          5.66,
          5.87,
          6.29,
          6.62,
          7.34,
          8.36,
          8.81,
          9.43,
          9.65,
          10,
          10.29,
          11.02,
          10.42,
          10.31,
          10.53,
          11.53,
          12.24,
          12.01,
          12.24,
          10.69,
          8.43,
          6.79,
          6.64,
          5.98,
          5.8,
          5.4,
          5.42,
          4.48,
          3.48,
          3.34,
          2.47,
          3.31,
          5.16,
          5.67,
          4.57,
          3.86,
          3.18,
          3.79,
          3.53,
          3.23,
          3.63
         ],
         "yaxis": "y4"
        },
        {
         "hovertemplate": "Região Metropolitana=Salvador - BA<br>Região=Nordeste<br>Ano=%{x}<br>Var. % anual=%{y}<extra></extra>",
         "legendgroup": "Salvador - BA",
         "line": {
          "color": "#ab63fa",
          "dash": "solid"
         },
         "marker": {
          "symbol": "circle"
         },
         "mode": "lines",
         "name": "Salvador - BA",
         "orientation": "v",
         "showlegend": true,
         "type": "scatter",
         "x": [
          "2020-12-01T00:00:00",
          "2021-01-01T00:00:00",
          "2021-02-01T00:00:00",
          "2021-03-01T00:00:00",
          "2021-04-01T00:00:00",
          "2021-05-01T00:00:00",
          "2021-06-01T00:00:00",
          "2021-07-01T00:00:00",
          "2021-08-01T00:00:00",
          "2021-09-01T00:00:00",
          "2021-10-01T00:00:00",
          "2021-11-01T00:00:00",
          "2021-12-01T00:00:00",
          "2022-01-01T00:00:00",
          "2022-02-01T00:00:00",
          "2022-03-01T00:00:00",
          "2022-04-01T00:00:00",
          "2022-05-01T00:00:00",
          "2022-06-01T00:00:00",
          "2022-07-01T00:00:00",
          "2022-08-01T00:00:00",
          "2022-09-01T00:00:00",
          "2022-10-01T00:00:00",
          "2022-11-01T00:00:00",
          "2022-12-01T00:00:00",
          "2023-01-01T00:00:00",
          "2023-02-01T00:00:00",
          "2023-03-01T00:00:00",
          "2023-04-01T00:00:00",
          "2023-05-01T00:00:00",
          "2023-06-01T00:00:00",
          "2023-07-01T00:00:00",
          "2023-08-01T00:00:00",
          "2023-09-01T00:00:00",
          "2023-10-01T00:00:00",
          "2023-11-01T00:00:00",
          "2023-12-01T00:00:00",
          "2024-01-01T00:00:00",
          "2024-02-01T00:00:00",
          "2024-03-01T00:00:00",
          "2024-04-01T00:00:00"
         ],
         "xaxis": "x4",
         "y": [
          4.31,
          4.23,
          5.03,
          5.7,
          5.96,
          7.65,
          7.84,
          7.98,
          8.59,
          9.54,
          10.38,
          10.65,
          10.78,
          11.44,
          11.33,
          12.13,
          12.78,
          12.98,
          13.41,
          11.38,
          10.42,
          8.87,
          8.21,
          6.97,
          6.29,
          6.53,
          6.51,
          5.36,
          5.18,
          4.21,
          2.7,
          4.05,
          4.41,
          4.79,
          4.46,
          4.01,
          4.48,
          3.49,
          3.65,
          3.36,
          3.49
         ],
         "yaxis": "y4"
        },
        {
         "hovertemplate": "Região Metropolitana=Belo Horizonte - MG<br>Região=Sudeste<br>Ano=%{x}<br>Var. % anual=%{y}<extra></extra>",
         "legendgroup": "Belo Horizonte - MG",
         "line": {
          "color": "#FFA15A",
          "dash": "solid"
         },
         "marker": {
          "symbol": "circle"
         },
         "mode": "lines",
         "name": "Belo Horizonte - MG",
         "orientation": "v",
         "showlegend": true,
         "type": "scatter",
         "x": [
          "2020-12-01T00:00:00",
          "2021-01-01T00:00:00",
          "2021-02-01T00:00:00",
          "2021-03-01T00:00:00",
          "2021-04-01T00:00:00",
          "2021-05-01T00:00:00",
          "2021-06-01T00:00:00",
          "2021-07-01T00:00:00",
          "2021-08-01T00:00:00",
          "2021-09-01T00:00:00",
          "2021-10-01T00:00:00",
          "2021-11-01T00:00:00",
          "2021-12-01T00:00:00",
          "2022-01-01T00:00:00",
          "2022-02-01T00:00:00",
          "2022-03-01T00:00:00",
          "2022-04-01T00:00:00",
          "2022-05-01T00:00:00",
          "2022-06-01T00:00:00",
          "2022-07-01T00:00:00",
          "2022-08-01T00:00:00",
          "2022-09-01T00:00:00",
          "2022-10-01T00:00:00",
          "2022-11-01T00:00:00",
          "2022-12-01T00:00:00",
          "2023-01-01T00:00:00",
          "2023-02-01T00:00:00",
          "2023-03-01T00:00:00",
          "2023-04-01T00:00:00",
          "2023-05-01T00:00:00",
          "2023-06-01T00:00:00",
          "2023-07-01T00:00:00",
          "2023-08-01T00:00:00",
          "2023-09-01T00:00:00",
          "2023-10-01T00:00:00",
          "2023-11-01T00:00:00",
          "2023-12-01T00:00:00",
          "2024-01-01T00:00:00",
          "2024-02-01T00:00:00",
          "2024-03-01T00:00:00",
          "2024-04-01T00:00:00"
         ],
         "xaxis": "x",
         "y": [
          4.99,
          5.13,
          5.37,
          6.56,
          7.18,
          8.68,
          9.08,
          9.43,
          9.67,
          10.3,
          10.46,
          10.43,
          9.58,
          10.09,
          10.47,
          10.75,
          11.51,
          10.93,
          11.38,
          9.41,
          7.58,
          5.78,
          5.07,
          4.67,
          4.64,
          4.66,
          4.39,
          3.31,
          2.85,
          3.07,
          2.54,
          3.49,
          4.71,
          5.34,
          5.24,
          4.96,
          5.05,
          5.34,
          5.35,
          5.07,
          4.91
         ],
         "yaxis": "y"
        },
        {
         "hovertemplate": "Região Metropolitana=Grande Vitória - ES<br>Região=Sudeste<br>Ano=%{x}<br>Var. % anual=%{y}<extra></extra>",
         "legendgroup": "Grande Vitória - ES",
         "line": {
          "color": "#19d3f3",
          "dash": "solid"
         },
         "marker": {
          "symbol": "circle"
         },
         "mode": "lines",
         "name": "Grande Vitória - ES",
         "orientation": "v",
         "showlegend": true,
         "type": "scatter",
         "x": [
          "2020-12-01T00:00:00",
          "2021-01-01T00:00:00",
          "2021-02-01T00:00:00",
          "2021-03-01T00:00:00",
          "2021-04-01T00:00:00",
          "2021-05-01T00:00:00",
          "2021-06-01T00:00:00",
          "2021-07-01T00:00:00",
          "2021-08-01T00:00:00",
          "2021-09-01T00:00:00",
          "2021-10-01T00:00:00",
          "2021-11-01T00:00:00",
          "2021-12-01T00:00:00",
          "2022-01-01T00:00:00",
          "2022-02-01T00:00:00",
          "2022-03-01T00:00:00",
          "2022-04-01T00:00:00",
          "2022-05-01T00:00:00",
          "2022-06-01T00:00:00",
          "2022-07-01T00:00:00",
          "2022-08-01T00:00:00",
          "2022-09-01T00:00:00",
          "2022-10-01T00:00:00",
          "2022-11-01T00:00:00",
          "2022-12-01T00:00:00",
          "2023-01-01T00:00:00",
          "2023-02-01T00:00:00",
          "2023-03-01T00:00:00",
          "2023-04-01T00:00:00",
          "2023-05-01T00:00:00",
          "2023-06-01T00:00:00",
          "2023-07-01T00:00:00",
          "2023-08-01T00:00:00",
          "2023-09-01T00:00:00",
          "2023-10-01T00:00:00",
          "2023-11-01T00:00:00",
          "2023-12-01T00:00:00",
          "2024-01-01T00:00:00",
          "2024-02-01T00:00:00",
          "2024-03-01T00:00:00",
          "2024-04-01T00:00:00"
         ],
         "xaxis": "x",
         "y": [
          5.15,
          5.3,
          6,
          7.03,
          7.53,
          8.84,
          8.88,
          9.61,
          11.07,
          11.52,
          12.22,
          12.26,
          11.5,
          11.65,
          11.5,
          11.94,
          12.45,
          11.53,
          11.55,
          9.12,
          8.21,
          7.07,
          6.09,
          5.12,
          5.03,
          5.39,
          5.45,
          4.77,
          4.23,
          4.32,
          3.76,
          5.19,
          5.03,
          5.3,
          4.85,
          5.17,
          5.1,
          4.53,
          4.3,
          3.49,
          3.61
         ],
         "yaxis": "y"
        },
        {
         "hovertemplate": "Região Metropolitana=Rio de Janeiro - RJ<br>Região=Sudeste<br>Ano=%{x}<br>Var. % anual=%{y}<extra></extra>",
         "legendgroup": "Rio de Janeiro - RJ",
         "line": {
          "color": "#FF6692",
          "dash": "solid"
         },
         "marker": {
          "symbol": "circle"
         },
         "mode": "lines",
         "name": "Rio de Janeiro - RJ",
         "orientation": "v",
         "showlegend": true,
         "type": "scatter",
         "x": [
          "2020-12-01T00:00:00",
          "2021-01-01T00:00:00",
          "2021-02-01T00:00:00",
          "2021-03-01T00:00:00",
          "2021-04-01T00:00:00",
          "2021-05-01T00:00:00",
          "2021-06-01T00:00:00",
          "2021-07-01T00:00:00",
          "2021-08-01T00:00:00",
          "2021-09-01T00:00:00",
          "2021-10-01T00:00:00",
          "2021-11-01T00:00:00",
          "2021-12-01T00:00:00",
          "2022-01-01T00:00:00",
          "2022-02-01T00:00:00",
          "2022-03-01T00:00:00",
          "2022-04-01T00:00:00",
          "2022-05-01T00:00:00",
          "2022-06-01T00:00:00",
          "2022-07-01T00:00:00",
          "2022-08-01T00:00:00",
          "2022-09-01T00:00:00",
          "2022-10-01T00:00:00",
          "2022-11-01T00:00:00",
          "2022-12-01T00:00:00",
          "2023-01-01T00:00:00",
          "2023-02-01T00:00:00",
          "2023-03-01T00:00:00",
          "2023-04-01T00:00:00",
          "2023-05-01T00:00:00",
          "2023-06-01T00:00:00",
          "2023-07-01T00:00:00",
          "2023-08-01T00:00:00",
          "2023-09-01T00:00:00",
          "2023-10-01T00:00:00",
          "2023-11-01T00:00:00",
          "2023-12-01T00:00:00",
          "2024-01-01T00:00:00",
          "2024-02-01T00:00:00",
          "2024-03-01T00:00:00",
          "2024-04-01T00:00:00"
         ],
         "xaxis": "x",
         "y": [
          4.09,
          4.22,
          4.64,
          4.97,
          5.36,
          6.57,
          6.84,
          7.25,
          8.09,
          8.74,
          9.36,
          9.57,
          8.58,
          9.04,
          10.06,
          11.03,
          11.95,
          11.6,
          11.77,
          10.58,
          9.87,
          8.42,
          7.62,
          7.04,
          6.65,
          6.47,
          5.76,
          4.69,
          4.14,
          3.64,
          3.03,
          3.52,
          3.47,
          3.77,
          3.74,
          3.97,
          4.29,
          4.3,
          4.54,
          4.05,
          3.33
         ],
         "yaxis": "y"
        },
        {
         "hovertemplate": "Região Metropolitana=São Paulo - SP<br>Região=Sudeste<br>Ano=%{x}<br>Var. % anual=%{y}<extra></extra>",
         "legendgroup": "São Paulo - SP",
         "line": {
          "color": "#B6E880",
          "dash": "solid"
         },
         "marker": {
          "symbol": "circle"
         },
         "mode": "lines",
         "name": "São Paulo - SP",
         "orientation": "v",
         "showlegend": true,
         "type": "scatter",
         "x": [
          "2020-12-01T00:00:00",
          "2021-01-01T00:00:00",
          "2021-02-01T00:00:00",
          "2021-03-01T00:00:00",
          "2021-04-01T00:00:00",
          "2021-05-01T00:00:00",
          "2021-06-01T00:00:00",
          "2021-07-01T00:00:00",
          "2021-08-01T00:00:00",
          "2021-09-01T00:00:00",
          "2021-10-01T00:00:00",
          "2021-11-01T00:00:00",
          "2021-12-01T00:00:00",
          "2022-01-01T00:00:00",
          "2022-02-01T00:00:00",
          "2022-03-01T00:00:00",
          "2022-04-01T00:00:00",
          "2022-05-01T00:00:00",
          "2022-06-01T00:00:00",
          "2022-07-01T00:00:00",
          "2022-08-01T00:00:00",
          "2022-09-01T00:00:00",
          "2022-10-01T00:00:00",
          "2022-11-01T00:00:00",
          "2022-12-01T00:00:00",
          "2023-01-01T00:00:00",
          "2023-02-01T00:00:00",
          "2023-03-01T00:00:00",
          "2023-04-01T00:00:00",
          "2023-05-01T00:00:00",
          "2023-06-01T00:00:00",
          "2023-07-01T00:00:00",
          "2023-08-01T00:00:00",
          "2023-09-01T00:00:00",
          "2023-10-01T00:00:00",
          "2023-11-01T00:00:00",
          "2023-12-01T00:00:00",
          "2024-01-01T00:00:00",
          "2024-02-01T00:00:00",
          "2024-03-01T00:00:00",
          "2024-04-01T00:00:00"
         ],
         "xaxis": "x",
         "y": [
          4.4,
          4.3,
          4.93,
          5.61,
          6.15,
          7.28,
          7.53,
          8.33,
          9.12,
          9.73,
          10.22,
          10.02,
          9.59,
          10.02,
          10.26,
          11.04,
          12.05,
          11.58,
          11.67,
          10.5,
          9.34,
          7.91,
          7.18,
          6.69,
          6.61,
          6.67,
          6.53,
          5.61,
          5.2,
          5.08,
          4.44,
          4.49,
          4.74,
          5.48,
          5.03,
          5.05,
          4.97,
          4.51,
          4.52,
          4.07,
          3.74
         ],
         "yaxis": "y"
        },
        {
         "hovertemplate": "Região Metropolitana=Curitiba - PR<br>Região=Sul<br>Ano=%{x}<br>Var. % anual=%{y}<extra></extra>",
         "legendgroup": "Curitiba - PR",
         "line": {
          "color": "#FF97FF",
          "dash": "solid"
         },
         "marker": {
          "symbol": "circle"
         },
         "mode": "lines",
         "name": "Curitiba - PR",
         "orientation": "v",
         "showlegend": true,
         "type": "scatter",
         "x": [
          "2020-12-01T00:00:00",
          "2021-01-01T00:00:00",
          "2021-02-01T00:00:00",
          "2021-03-01T00:00:00",
          "2021-04-01T00:00:00",
          "2021-05-01T00:00:00",
          "2021-06-01T00:00:00",
          "2021-07-01T00:00:00",
          "2021-08-01T00:00:00",
          "2021-09-01T00:00:00",
          "2021-10-01T00:00:00",
          "2021-11-01T00:00:00",
          "2021-12-01T00:00:00",
          "2022-01-01T00:00:00",
          "2022-02-01T00:00:00",
          "2022-03-01T00:00:00",
          "2022-04-01T00:00:00",
          "2022-05-01T00:00:00",
          "2022-06-01T00:00:00",
          "2022-07-01T00:00:00",
          "2022-08-01T00:00:00",
          "2022-09-01T00:00:00",
          "2022-10-01T00:00:00",
          "2022-11-01T00:00:00",
          "2022-12-01T00:00:00",
          "2023-01-01T00:00:00",
          "2023-02-01T00:00:00",
          "2023-03-01T00:00:00",
          "2023-04-01T00:00:00",
          "2023-05-01T00:00:00",
          "2023-06-01T00:00:00",
          "2023-07-01T00:00:00",
          "2023-08-01T00:00:00",
          "2023-09-01T00:00:00",
          "2023-10-01T00:00:00",
          "2023-11-01T00:00:00",
          "2023-12-01T00:00:00",
          "2024-01-01T00:00:00",
          "2024-02-01T00:00:00",
          "2024-03-01T00:00:00",
          "2024-04-01T00:00:00"
         ],
         "xaxis": "x2",
         "y": [
          3.95,
          4.35,
          5.23,
          6.48,
          8.23,
          9.86,
          9.64,
          10.96,
          12.08,
          13.01,
          13.48,
          13.71,
          12.73,
          12.77,
          13.17,
          14.37,
          14.82,
          14.19,
          14.24,
          10.86,
          9.04,
          7.2,
          5.88,
          5.01,
          5.26,
          4.72,
          4.52,
          3.12,
          2.83,
          2.7,
          2.07,
          3.82,
          4.59,
          5,
          4.97,
          4.69,
          4.18,
          4.63,
          4.38,
          3.35,
          3.13
         ],
         "yaxis": "y2"
        },
        {
         "hovertemplate": "Região Metropolitana=Porto Alegre - RS<br>Região=Sul<br>Ano=%{x}<br>Var. % anual=%{y}<extra></extra>",
         "legendgroup": "Porto Alegre - RS",
         "line": {
          "color": "#FECB52",
          "dash": "solid"
         },
         "marker": {
          "symbol": "circle"
         },
         "mode": "lines",
         "name": "Porto Alegre - RS",
         "orientation": "v",
         "showlegend": true,
         "type": "scatter",
         "x": [
          "2020-12-01T00:00:00",
          "2021-01-01T00:00:00",
          "2021-02-01T00:00:00",
          "2021-03-01T00:00:00",
          "2021-04-01T00:00:00",
          "2021-05-01T00:00:00",
          "2021-06-01T00:00:00",
          "2021-07-01T00:00:00",
          "2021-08-01T00:00:00",
          "2021-09-01T00:00:00",
          "2021-10-01T00:00:00",
          "2021-11-01T00:00:00",
          "2021-12-01T00:00:00",
          "2022-01-01T00:00:00",
          "2022-02-01T00:00:00",
          "2022-03-01T00:00:00",
          "2022-04-01T00:00:00",
          "2022-05-01T00:00:00",
          "2022-06-01T00:00:00",
          "2022-07-01T00:00:00",
          "2022-08-01T00:00:00",
          "2022-09-01T00:00:00",
          "2022-10-01T00:00:00",
          "2022-11-01T00:00:00",
          "2022-12-01T00:00:00",
          "2023-01-01T00:00:00",
          "2023-02-01T00:00:00",
          "2023-03-01T00:00:00",
          "2023-04-01T00:00:00",
          "2023-05-01T00:00:00",
          "2023-06-01T00:00:00",
          "2023-07-01T00:00:00",
          "2023-08-01T00:00:00",
          "2023-09-01T00:00:00",
          "2023-10-01T00:00:00",
          "2023-11-01T00:00:00",
          "2023-12-01T00:00:00",
          "2024-01-01T00:00:00",
          "2024-02-01T00:00:00",
          "2024-03-01T00:00:00",
          "2024-04-01T00:00:00"
         ],
         "xaxis": "x2",
         "y": [
          4.22,
          4.3,
          5.03,
          6.36,
          6.62,
          8.2,
          9.07,
          10,
          10.42,
          11.35,
          11.92,
          12.1,
          10.99,
          10.13,
          9.66,
          10.38,
          11.42,
          10.79,
          10.68,
          8.69,
          6.95,
          4.85,
          4.46,
          3.9,
          3.61,
          4.4,
          4.74,
          4.37,
          3.71,
          3.31,
          2.58,
          3.73,
          4.93,
          5.6,
          4.85,
          4.77,
          4.63,
          4.53,
          4.29,
          2.86,
          3.02
         ],
         "yaxis": "y2"
        }
       ],
       "layout": {
        "annotations": [
         {
          "showarrow": false,
          "text": "Região=Sudeste",
          "x": 0.245,
          "xanchor": "center",
          "xref": "paper",
          "y": 0.46499999999999997,
          "yanchor": "bottom",
          "yref": "paper"
         },
         {
          "showarrow": false,
          "text": "Região=Sul",
          "x": 0.755,
          "xanchor": "center",
          "xref": "paper",
          "y": 0.46499999999999997,
          "yanchor": "bottom",
          "yref": "paper"
         },
         {
          "showarrow": false,
          "text": "Região=Norte",
          "x": 0.245,
          "xanchor": "center",
          "xref": "paper",
          "y": 0.9999999999999999,
          "yanchor": "bottom",
          "yref": "paper"
         },
         {
          "showarrow": false,
          "text": "Região=Nordeste",
          "x": 0.755,
          "xanchor": "center",
          "xref": "paper",
          "y": 0.9999999999999999,
          "yanchor": "bottom",
          "yref": "paper"
         },
         {
          "font": {
           "size": 8
          },
          "showarrow": false,
          "text": "Dados: IBGE ",
          "x": 0.5,
          "xanchor": "center",
          "xref": "paper",
          "y": -0.15,
          "yanchor": "bottom",
          "yref": "paper"
         }
        ],
        "font": {
         "size": 15
        },
        "height": 500,
        "legend": {
         "title": {
          "text": "Região Metropolitana"
         },
         "tracegroupgap": 0
        },
        "margin": {
         "b": 20,
         "l": 20,
         "r": 20,
         "t": 80
        },
        "showlegend": true,
        "template": {
         "data": {
          "bar": [
           {
            "error_x": {
             "color": "#2a3f5f"
            },
            "error_y": {
             "color": "#2a3f5f"
            },
            "marker": {
             "line": {
              "color": "#E5ECF6",
              "width": 0.5
             },
             "pattern": {
              "fillmode": "overlay",
              "size": 10,
              "solidity": 0.2
             }
            },
            "type": "bar"
           }
          ],
          "barpolar": [
           {
            "marker": {
             "line": {
              "color": "#E5ECF6",
              "width": 0.5
             },
             "pattern": {
              "fillmode": "overlay",
              "size": 10,
              "solidity": 0.2
             }
            },
            "type": "barpolar"
           }
          ],
          "carpet": [
           {
            "aaxis": {
             "endlinecolor": "#2a3f5f",
             "gridcolor": "white",
             "linecolor": "white",
             "minorgridcolor": "white",
             "startlinecolor": "#2a3f5f"
            },
            "baxis": {
             "endlinecolor": "#2a3f5f",
             "gridcolor": "white",
             "linecolor": "white",
             "minorgridcolor": "white",
             "startlinecolor": "#2a3f5f"
            },
            "type": "carpet"
           }
          ],
          "choropleth": [
           {
            "colorbar": {
             "outlinewidth": 0,
             "ticks": ""
            },
            "type": "choropleth"
           }
          ],
          "contour": [
           {
            "colorbar": {
             "outlinewidth": 0,
             "ticks": ""
            },
            "colorscale": [
             [
              0,
              "#0d0887"
             ],
             [
              0.1111111111111111,
              "#46039f"
             ],
             [
              0.2222222222222222,
              "#7201a8"
             ],
             [
              0.3333333333333333,
              "#9c179e"
             ],
             [
              0.4444444444444444,
              "#bd3786"
             ],
             [
              0.5555555555555556,
              "#d8576b"
             ],
             [
              0.6666666666666666,
              "#ed7953"
             ],
             [
              0.7777777777777778,
              "#fb9f3a"
             ],
             [
              0.8888888888888888,
              "#fdca26"
             ],
             [
              1,
              "#f0f921"
             ]
            ],
            "type": "contour"
           }
          ],
          "contourcarpet": [
           {
            "colorbar": {
             "outlinewidth": 0,
             "ticks": ""
            },
            "type": "contourcarpet"
           }
          ],
          "heatmap": [
           {
            "colorbar": {
             "outlinewidth": 0,
             "ticks": ""
            },
            "colorscale": [
             [
              0,
              "#0d0887"
             ],
             [
              0.1111111111111111,
              "#46039f"
             ],
             [
              0.2222222222222222,
              "#7201a8"
             ],
             [
              0.3333333333333333,
              "#9c179e"
             ],
             [
              0.4444444444444444,
              "#bd3786"
             ],
             [
              0.5555555555555556,
              "#d8576b"
             ],
             [
              0.6666666666666666,
              "#ed7953"
             ],
             [
              0.7777777777777778,
              "#fb9f3a"
             ],
             [
              0.8888888888888888,
              "#fdca26"
             ],
             [
              1,
              "#f0f921"
             ]
            ],
            "type": "heatmap"
           }
          ],
          "heatmapgl": [
           {
            "colorbar": {
             "outlinewidth": 0,
             "ticks": ""
            },
            "colorscale": [
             [
              0,
              "#0d0887"
             ],
             [
              0.1111111111111111,
              "#46039f"
             ],
             [
              0.2222222222222222,
              "#7201a8"
             ],
             [
              0.3333333333333333,
              "#9c179e"
             ],
             [
              0.4444444444444444,
              "#bd3786"
             ],
             [
              0.5555555555555556,
              "#d8576b"
             ],
             [
              0.6666666666666666,
              "#ed7953"
             ],
             [
              0.7777777777777778,
              "#fb9f3a"
             ],
             [
              0.8888888888888888,
              "#fdca26"
             ],
             [
              1,
              "#f0f921"
             ]
            ],
            "type": "heatmapgl"
           }
          ],
          "histogram": [
           {
            "marker": {
             "pattern": {
              "fillmode": "overlay",
              "size": 10,
              "solidity": 0.2
             }
            },
            "type": "histogram"
           }
          ],
          "histogram2d": [
           {
            "colorbar": {
             "outlinewidth": 0,
             "ticks": ""
            },
            "colorscale": [
             [
              0,
              "#0d0887"
             ],
             [
              0.1111111111111111,
              "#46039f"
             ],
             [
              0.2222222222222222,
              "#7201a8"
             ],
             [
              0.3333333333333333,
              "#9c179e"
             ],
             [
              0.4444444444444444,
              "#bd3786"
             ],
             [
              0.5555555555555556,
              "#d8576b"
             ],
             [
              0.6666666666666666,
              "#ed7953"
             ],
             [
              0.7777777777777778,
              "#fb9f3a"
             ],
             [
              0.8888888888888888,
              "#fdca26"
             ],
             [
              1,
              "#f0f921"
             ]
            ],
            "type": "histogram2d"
           }
          ],
          "histogram2dcontour": [
           {
            "colorbar": {
             "outlinewidth": 0,
             "ticks": ""
            },
            "colorscale": [
             [
              0,
              "#0d0887"
             ],
             [
              0.1111111111111111,
              "#46039f"
             ],
             [
              0.2222222222222222,
              "#7201a8"
             ],
             [
              0.3333333333333333,
              "#9c179e"
             ],
             [
              0.4444444444444444,
              "#bd3786"
             ],
             [
              0.5555555555555556,
              "#d8576b"
             ],
             [
              0.6666666666666666,
              "#ed7953"
             ],
             [
              0.7777777777777778,
              "#fb9f3a"
             ],
             [
              0.8888888888888888,
              "#fdca26"
             ],
             [
              1,
              "#f0f921"
             ]
            ],
            "type": "histogram2dcontour"
           }
          ],
          "mesh3d": [
           {
            "colorbar": {
             "outlinewidth": 0,
             "ticks": ""
            },
            "type": "mesh3d"
           }
          ],
          "parcoords": [
           {
            "line": {
             "colorbar": {
              "outlinewidth": 0,
              "ticks": ""
             }
            },
            "type": "parcoords"
           }
          ],
          "pie": [
           {
            "automargin": true,
            "type": "pie"
           }
          ],
          "scatter": [
           {
            "fillpattern": {
             "fillmode": "overlay",
             "size": 10,
             "solidity": 0.2
            },
            "type": "scatter"
           }
          ],
          "scatter3d": [
           {
            "line": {
             "colorbar": {
              "outlinewidth": 0,
              "ticks": ""
             }
            },
            "marker": {
             "colorbar": {
              "outlinewidth": 0,
              "ticks": ""
             }
            },
            "type": "scatter3d"
           }
          ],
          "scattercarpet": [
           {
            "marker": {
             "colorbar": {
              "outlinewidth": 0,
              "ticks": ""
             }
            },
            "type": "scattercarpet"
           }
          ],
          "scattergeo": [
           {
            "marker": {
             "colorbar": {
              "outlinewidth": 0,
              "ticks": ""
             }
            },
            "type": "scattergeo"
           }
          ],
          "scattergl": [
           {
            "marker": {
             "colorbar": {
              "outlinewidth": 0,
              "ticks": ""
             }
            },
            "type": "scattergl"
           }
          ],
          "scattermapbox": [
           {
            "marker": {
             "colorbar": {
              "outlinewidth": 0,
              "ticks": ""
             }
            },
            "type": "scattermapbox"
           }
          ],
          "scatterpolar": [
           {
            "marker": {
             "colorbar": {
              "outlinewidth": 0,
              "ticks": ""
             }
            },
            "type": "scatterpolar"
           }
          ],
          "scatterpolargl": [
           {
            "marker": {
             "colorbar": {
              "outlinewidth": 0,
              "ticks": ""
             }
            },
            "type": "scatterpolargl"
           }
          ],
          "scatterternary": [
           {
            "marker": {
             "colorbar": {
              "outlinewidth": 0,
              "ticks": ""
             }
            },
            "type": "scatterternary"
           }
          ],
          "surface": [
           {
            "colorbar": {
             "outlinewidth": 0,
             "ticks": ""
            },
            "colorscale": [
             [
              0,
              "#0d0887"
             ],
             [
              0.1111111111111111,
              "#46039f"
             ],
             [
              0.2222222222222222,
              "#7201a8"
             ],
             [
              0.3333333333333333,
              "#9c179e"
             ],
             [
              0.4444444444444444,
              "#bd3786"
             ],
             [
              0.5555555555555556,
              "#d8576b"
             ],
             [
              0.6666666666666666,
              "#ed7953"
             ],
             [
              0.7777777777777778,
              "#fb9f3a"
             ],
             [
              0.8888888888888888,
              "#fdca26"
             ],
             [
              1,
              "#f0f921"
             ]
            ],
            "type": "surface"
           }
          ],
          "table": [
           {
            "cells": {
             "fill": {
              "color": "#EBF0F8"
             },
             "line": {
              "color": "white"
             }
            },
            "header": {
             "fill": {
              "color": "#C8D4E3"
             },
             "line": {
              "color": "white"
             }
            },
            "type": "table"
           }
          ]
         },
         "layout": {
          "annotationdefaults": {
           "arrowcolor": "#2a3f5f",
           "arrowhead": 0,
           "arrowwidth": 1
          },
          "autotypenumbers": "strict",
          "coloraxis": {
           "colorbar": {
            "outlinewidth": 0,
            "ticks": ""
           }
          },
          "colorscale": {
           "diverging": [
            [
             0,
             "#8e0152"
            ],
            [
             0.1,
             "#c51b7d"
            ],
            [
             0.2,
             "#de77ae"
            ],
            [
             0.3,
             "#f1b6da"
            ],
            [
             0.4,
             "#fde0ef"
            ],
            [
             0.5,
             "#f7f7f7"
            ],
            [
             0.6,
             "#e6f5d0"
            ],
            [
             0.7,
             "#b8e186"
            ],
            [
             0.8,
             "#7fbc41"
            ],
            [
             0.9,
             "#4d9221"
            ],
            [
             1,
             "#276419"
            ]
           ],
           "sequential": [
            [
             0,
             "#0d0887"
            ],
            [
             0.1111111111111111,
             "#46039f"
            ],
            [
             0.2222222222222222,
             "#7201a8"
            ],
            [
             0.3333333333333333,
             "#9c179e"
            ],
            [
             0.4444444444444444,
             "#bd3786"
            ],
            [
             0.5555555555555556,
             "#d8576b"
            ],
            [
             0.6666666666666666,
             "#ed7953"
            ],
            [
             0.7777777777777778,
             "#fb9f3a"
            ],
            [
             0.8888888888888888,
             "#fdca26"
            ],
            [
             1,
             "#f0f921"
            ]
           ],
           "sequentialminus": [
            [
             0,
             "#0d0887"
            ],
            [
             0.1111111111111111,
             "#46039f"
            ],
            [
             0.2222222222222222,
             "#7201a8"
            ],
            [
             0.3333333333333333,
             "#9c179e"
            ],
            [
             0.4444444444444444,
             "#bd3786"
            ],
            [
             0.5555555555555556,
             "#d8576b"
            ],
            [
             0.6666666666666666,
             "#ed7953"
            ],
            [
             0.7777777777777778,
             "#fb9f3a"
            ],
            [
             0.8888888888888888,
             "#fdca26"
            ],
            [
             1,
             "#f0f921"
            ]
           ]
          },
          "colorway": [
           "#636efa",
           "#EF553B",
           "#00cc96",
           "#ab63fa",
           "#FFA15A",
           "#19d3f3",
           "#FF6692",
           "#B6E880",
           "#FF97FF",
           "#FECB52"
          ],
          "font": {
           "color": "#2a3f5f"
          },
          "geo": {
           "bgcolor": "white",
           "lakecolor": "white",
           "landcolor": "#E5ECF6",
           "showlakes": true,
           "showland": true,
           "subunitcolor": "white"
          },
          "hoverlabel": {
           "align": "left"
          },
          "hovermode": "closest",
          "mapbox": {
           "style": "light"
          },
          "paper_bgcolor": "white",
          "plot_bgcolor": "#E5ECF6",
          "polar": {
           "angularaxis": {
            "gridcolor": "white",
            "linecolor": "white",
            "ticks": ""
           },
           "bgcolor": "#E5ECF6",
           "radialaxis": {
            "gridcolor": "white",
            "linecolor": "white",
            "ticks": ""
           }
          },
          "scene": {
           "xaxis": {
            "backgroundcolor": "#E5ECF6",
            "gridcolor": "white",
            "gridwidth": 2,
            "linecolor": "white",
            "showbackground": true,
            "ticks": "",
            "zerolinecolor": "white"
           },
           "yaxis": {
            "backgroundcolor": "#E5ECF6",
            "gridcolor": "white",
            "gridwidth": 2,
            "linecolor": "white",
            "showbackground": true,
            "ticks": "",
            "zerolinecolor": "white"
           },
           "zaxis": {
            "backgroundcolor": "#E5ECF6",
            "gridcolor": "white",
            "gridwidth": 2,
            "linecolor": "white",
            "showbackground": true,
            "ticks": "",
            "zerolinecolor": "white"
           }
          },
          "shapedefaults": {
           "line": {
            "color": "#2a3f5f"
           }
          },
          "ternary": {
           "aaxis": {
            "gridcolor": "white",
            "linecolor": "white",
            "ticks": ""
           },
           "baxis": {
            "gridcolor": "white",
            "linecolor": "white",
            "ticks": ""
           },
           "bgcolor": "#E5ECF6",
           "caxis": {
            "gridcolor": "white",
            "linecolor": "white",
            "ticks": ""
           }
          },
          "title": {
           "x": 0.05
          },
          "xaxis": {
           "automargin": true,
           "gridcolor": "white",
           "linecolor": "white",
           "ticks": "",
           "title": {
            "standoff": 15
           },
           "zerolinecolor": "white",
           "zerolinewidth": 2
          },
          "yaxis": {
           "automargin": true,
           "gridcolor": "white",
           "linecolor": "white",
           "ticks": "",
           "title": {
            "standoff": 15
           },
           "zerolinecolor": "white",
           "zerolinewidth": 2
          }
         }
        },
        "title": {
         "text": "Taxa de Inflação Regional no Brasil",
         "x": 0.5
        },
        "width": 1000,
        "xaxis": {
         "anchor": "y",
         "domain": [
          0,
          0.49
         ],
         "dtick": "M12",
         "tickformat": "%Y",
         "title": {
          "text": "Ano"
         }
        },
        "xaxis2": {
         "anchor": "y2",
         "domain": [
          0.51,
          1
         ],
         "dtick": "M12",
         "matches": "x",
         "tickformat": "%Y",
         "title": {
          "text": "Ano"
         }
        },
        "xaxis3": {
         "anchor": "y3",
         "domain": [
          0,
          0.49
         ],
         "dtick": "M12",
         "matches": "x",
         "showticklabels": false,
         "tickformat": "%Y"
        },
        "xaxis4": {
         "anchor": "y4",
         "domain": [
          0.51,
          1
         ],
         "dtick": "M12",
         "matches": "x",
         "showticklabels": false,
         "tickformat": "%Y"
        },
        "yaxis": {
         "anchor": "x",
         "domain": [
          0,
          0.46499999999999997
         ],
         "title": {
          "text": "Var. % anual"
         }
        },
        "yaxis2": {
         "anchor": "x2",
         "domain": [
          0,
          0.46499999999999997
         ],
         "matches": "y",
         "showticklabels": false
        },
        "yaxis3": {
         "anchor": "x3",
         "domain": [
          0.5349999999999999,
          0.9999999999999999
         ],
         "matches": "y",
         "title": {
          "text": "Var. % anual"
         }
        },
        "yaxis4": {
         "anchor": "x4",
         "domain": [
          0.5349999999999999,
          0.9999999999999999
         ],
         "matches": "y",
         "showticklabels": false
        }
       }
      }
     },
     "metadata": {},
     "output_type": "display_data"
    }
   ],
   "source": [
    "import plotly.graph_objects as go\n",
    "import plotly.express as px\n",
    "\n",
    "fig = px.line(\n",
    "    dados_tratados,\n",
    "    x=\"data\",\n",
    "    y=\"Valor\",  \n",
    "    color=\"Metro\",\n",
    "    facet_col=\"Região\",  \n",
    "    facet_col_wrap=2,  \n",
    "    labels={\n",
    "        \"Valor\": \"Var. % anual\",  \n",
    "        \"data\": \"Ano\",\n",
    "        \"Metro\": \"Região Metropolitana\",\n",
    "    },\n",
    "    title=\"Taxa de Inflação Regional no Brasil\",\n",
    ")\n",
    "\n",
    "fig.update_xaxes(\n",
    "    tickformat=\"%Y\",\n",
    "    dtick=\"M12\",  # Define o intervalo dos ticks para 1 ano\n",
    ")\n",
    "\n",
    "# Obtem as regiões únicas e o número de colunas\n",
    "regioes = dados_tratados['Região'].unique()\n",
    "n_cols = 2  # definiu facet_col_wrap=2\n",
    "\n",
    "# Cria as anotações para os títulos dos subplots\n",
    "annotations = []\n",
    "for i, regiao in enumerate(regioes):\n",
    "    row = i // n_cols\n",
    "    col = i % n_cols\n",
    "    annotations.append(\n",
    "        dict(\n",
    "            text=regiao,\n",
    "            x=col / n_cols + 0.5 / n_cols,  # Centraliza o título na coluna\n",
    "            y=1 - row / (len(regioes) / n_cols),  # Posiciona o título acima do subplot\n",
    "            xref=\"paper\",\n",
    "            yref=\"paper\",\n",
    "            showarrow=False,\n",
    "            font=dict(size=6, color=\"black\"),\n",
    "        )\n",
    "    )\n",
    "\n",
    "# Adiciona a anotação \"Dados: IBGE\" à lista annotations\n",
    "annotations.append(\n",
    "    dict(\n",
    "        text=\"Dados: IBGE \",\n",
    "        showarrow=False,\n",
    "        xref=\"paper\",\n",
    "        yref=\"paper\",\n",
    "        x=0.5,\n",
    "        y=-0.15,  # Posição da legenda\n",
    "        xanchor=\"center\",\n",
    "        yanchor=\"bottom\",\n",
    "        font=dict(size=8),\n",
    "    )\n",
    ")\n",
    "\n",
    "fig.update_layout(\n",
    "    font=dict(size=15),\n",
    "    width=1000,  # Largura em pixels\n",
    "    height=500,  # Altura em pixels\n",
    "    title_x=0.5,  # Centraliza o título\n",
    "    showlegend=True,\n",
    "    margin=dict(l=20, r=20, t=80, b=20),  # Ajusta as margens (aumenta o topo para os títulos)\n",
    "    annotations=annotations,  # Adiciona as anotações \n",
    ")\n",
    "\n",
    "fig.show()"
   ]
  }
 ],
 "metadata": {
  "kernelspec": {
   "display_name": "base",
   "language": "python",
   "name": "python3"
  },
  "language_info": {
   "codemirror_mode": {
    "name": "ipython",
    "version": 3
   },
   "file_extension": ".py",
   "mimetype": "text/x-python",
   "name": "python",
   "nbconvert_exporter": "python",
   "pygments_lexer": "ipython3",
   "version": "3.11.5"
  }
 },
 "nbformat": 4,
 "nbformat_minor": 2
}
